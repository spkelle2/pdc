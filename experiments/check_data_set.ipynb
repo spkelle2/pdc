{
 "cells": [
  {
   "cell_type": "code",
   "execution_count": 1,
   "outputs": [],
   "source": [
    "import os\n",
    "import pandas as pd"
   ],
   "metadata": {
    "collapsed": false,
    "ExecuteTime": {
     "end_time": "2024-01-24T16:14:15.054352Z",
     "start_time": "2024-01-24T16:14:14.705818Z"
    }
   },
   "id": "745706289c1636bd"
  },
  {
   "cell_type": "code",
   "execution_count": 2,
   "outputs": [],
   "source": [
    "instance_set = \"miplib_5000\""
   ],
   "metadata": {
    "collapsed": false,
    "ExecuteTime": {
     "end_time": "2024-01-24T16:14:18.789128Z",
     "start_time": "2024-01-24T16:14:18.777281Z"
    }
   },
   "id": "13c069ba21ea3e28"
  },
  {
   "cell_type": "code",
   "execution_count": 3,
   "outputs": [],
   "source": [
    "# running list of strings contained by different error codes\n",
    "# last two are catchalls\n",
    "err = {\n",
    "    \"gurobipy.gurobierror: out of memory\": [],\n",
    "    \"could not be solved in 14400 seconds. skipping.\": [],\n",
    "    \"gurobipy.gurobierror: unable to create presolved model\": [],\n",
    "    \"objective could not be perturbed\": [],\n",
    "    \"invalid value encountered in double_scalars\": [],\n",
    "}\n",
    "\n",
    "# runs that weren't run\n",
    "no_go = []\n",
    "\n",
    "# runs that errored out with new error code\n",
    "other = []\n",
    "\n",
    "# runs that had no errors\n",
    "empty = []\n",
    "\n",
    "for i, file_name in enumerate(os.listdir(os.path.join(\"instances\", instance_set))):\n",
    "    \n",
    "    # skip anything not a mip\n",
    "    if not file_name.endswith(\".mps\"):\n",
    "        continue\n",
    "        \n",
    "    # get the model name\n",
    "    stem = file_name[:-4]\n",
    "    \n",
    "    # get the error file path\n",
    "    err_pth = os.path.join(\"outfiles\", stem + \".err\")\n",
    "    \n",
    "    # check if the series wasn't run\n",
    "    if not os.path.exists(err_pth):\n",
    "        no_go.append(stem)\n",
    "    \n",
    "    # check if the series ran with no errors or warnings\n",
    "    elif os.path.getsize(err_pth) == 0:\n",
    "        empty.append(stem)\n",
    "        \n",
    "    else:\n",
    "        # read in file\n",
    "        with open(err_pth, \"r\") as f:\n",
    "            text = f.read().lower()\n",
    "            \n",
    "        # check for error codes\n",
    "        found_code = False\n",
    "        for code in err:\n",
    "            if code in text:\n",
    "                err[code].append(file_name)\n",
    "                found_code = True\n",
    "                break\n",
    "        if not found_code:\n",
    "            other.append(file_name)"
   ],
   "metadata": {
    "collapsed": false,
    "ExecuteTime": {
     "end_time": "2024-01-24T16:14:19.924202Z",
     "start_time": "2024-01-24T16:14:19.890935Z"
    }
   },
   "id": "initial_id"
  },
  {
   "cell_type": "code",
   "execution_count": 4,
   "outputs": [
    {
     "data": {
      "text/plain": "[]"
     },
     "execution_count": 4,
     "metadata": {},
     "output_type": "execute_result"
    }
   ],
   "source": [
    "no_go"
   ],
   "metadata": {
    "collapsed": false,
    "ExecuteTime": {
     "end_time": "2024-01-24T16:14:20.749818Z",
     "start_time": "2024-01-24T16:14:20.738507Z"
    }
   },
   "id": "11936e5263b230d"
  },
  {
   "cell_type": "code",
   "execution_count": 5,
   "outputs": [
    {
     "data": {
      "text/plain": "0.6792452830188679"
     },
     "execution_count": 5,
     "metadata": {},
     "output_type": "execute_result"
    }
   ],
   "source": [
    "len(empty) / (i + 1)"
   ],
   "metadata": {
    "collapsed": false,
    "ExecuteTime": {
     "end_time": "2024-01-24T16:14:21.848293Z",
     "start_time": "2024-01-24T16:14:21.835652Z"
    }
   },
   "id": "be69eb12bc8b9299"
  },
  {
   "cell_type": "code",
   "execution_count": 6,
   "outputs": [
    {
     "name": "stdout",
     "output_type": "stream",
     "text": [
      "['neos-5075914-elvire.mps', 'pigeon-16.mps', 'milo-v13-4-3d-4-0.mps', 'ns1606230.mps', 'neos-3046601-motu.mps', 'neos-1121679.mps', 'radiationm18-12-05.mps', 'neos-5078479-escaut.mps', 'nag.mps', 'm100n500k4r1.mps', 'neos-3592146-hawea.mps', 'neos-3024952-loue.mps', 'mc11.mps', 'bppc6-06.mps', 'neos-3009394-lami.mps', 'cvrpp-n16k8vrpi.mps', 'neos-5045105-creuse.mps', 'neos-3083819-nubu.mps', 'sct2.mps', 'bppc6-02.mps', 'neos-1464762.mps', 'stoch-vrpvrp-s5v2c8vrp-v2c8i.mps', 'neos-3762025-ognon.mps', 'neos-584146.mps', 'mkc.mps', 'ger50-17-ptp-pop-6t.mps', 'maxgasflow.mps', 'neos-3046615-murg.mps', 'n6-3.mps', 'neos-1460641.mps', 'dfn-bwin-DBE.mps', 'neos-3426085-ticino.mps', 'gsvm2rl9.mps', 'neos-1346382.mps', 'supportcase20.mps', 'fhnw-binpack4-77.mps', 'breastcancer-regularized.mps', 'ta1-UUM.mps', 'bley_xs1noM.mps', 'neos-1460543.mps', 'neos-702280.mps', 'neos-1467371.mps', 'neos-1622252.mps', 'neos-582605.mps', 'd20200.mps', 'pigeon-20.mps', 'neos-3373491-avoca.mps', 'ger50-17-ptp-pop-3t.mps', 'liu.mps', 'probportfolio.mps', 'neos-1429185.mps', 'neos-3068746-nene.mps', 'janos-us-DDM.mps', 'neos-3211096-shag.mps']\n",
      "0.09262435677530018\n"
     ]
    }
   ],
   "source": [
    "print(err[\"gurobipy.gurobierror: out of memory\"])\n",
    "print(len(err[\"gurobipy.gurobierror: out of memory\"]) / (i + 1))\n",
    "df = pd.read_csv(\"more_memory.csv\", index_col=0)\n",
    "for file_name in err[\"gurobipy.gurobierror: out of memory\"]:\n",
    "    df.loc[file_name, \"memory\"] = 16\n",
    "df[\"memory\"].astype(int)\n",
    "df.to_csv(\"more_memory.csv\")"
   ],
   "metadata": {
    "collapsed": false,
    "ExecuteTime": {
     "end_time": "2024-01-24T16:14:26.868546Z",
     "start_time": "2024-01-24T16:14:26.840172Z"
    }
   },
   "id": "a966e656e65fcc39"
  },
  {
   "cell_type": "code",
   "execution_count": 7,
   "outputs": [
    {
     "data": {
      "text/plain": "0.15437392795883362"
     },
     "execution_count": 7,
     "metadata": {},
     "output_type": "execute_result"
    }
   ],
   "source": [
    "len(err[\"could not be solved in 14400 seconds. skipping.\"]) / (i + 1)"
   ],
   "metadata": {
    "collapsed": false,
    "ExecuteTime": {
     "end_time": "2024-01-24T16:14:29.983851Z",
     "start_time": "2024-01-24T16:14:29.968186Z"
    }
   },
   "id": "5b1e928cb8a5d052"
  },
  {
   "cell_type": "code",
   "execution_count": 8,
   "outputs": [
    {
     "name": "stdout",
     "output_type": "stream",
     "text": [
      "[]\n"
     ]
    },
    {
     "data": {
      "text/plain": "0.0"
     },
     "execution_count": 8,
     "metadata": {},
     "output_type": "execute_result"
    }
   ],
   "source": [
    "print(err[\"gurobipy.gurobierror: unable to create presolved model\"])\n",
    "len(err[\"gurobipy.gurobierror: unable to create presolved model\"]) / (i + 1)"
   ],
   "metadata": {
    "collapsed": false,
    "ExecuteTime": {
     "end_time": "2024-01-24T16:15:01.335594Z",
     "start_time": "2024-01-24T16:15:01.323420Z"
    }
   },
   "id": "c57cafa6fa58dbb7"
  },
  {
   "cell_type": "code",
   "execution_count": 9,
   "outputs": [
    {
     "data": {
      "text/plain": "0.0548885077186964"
     },
     "execution_count": 9,
     "metadata": {},
     "output_type": "execute_result"
    }
   ],
   "source": [
    "len(\"objective could not be perturbed\") / (i + 1)"
   ],
   "metadata": {
    "collapsed": false,
    "ExecuteTime": {
     "end_time": "2024-01-24T16:15:03.193273Z",
     "start_time": "2024-01-24T16:15:03.180019Z"
    }
   },
   "id": "dd4f2ab5f24366c7"
  },
  {
   "cell_type": "code",
   "execution_count": 10,
   "outputs": [
    {
     "data": {
      "text/plain": "0.07375643224699828"
     },
     "execution_count": 10,
     "metadata": {},
     "output_type": "execute_result"
    }
   ],
   "source": [
    "len(\"invalid value encountered in double_scalars\") / (i + 1)"
   ],
   "metadata": {
    "collapsed": false,
    "ExecuteTime": {
     "end_time": "2024-01-24T16:15:11.923296Z",
     "start_time": "2024-01-24T16:15:11.910683Z"
    }
   },
   "id": "826ae86393739e0e"
  },
  {
   "cell_type": "code",
   "execution_count": 11,
   "outputs": [
    {
     "name": "stdout",
     "output_type": "stream",
     "text": [
      "[]\n"
     ]
    },
    {
     "data": {
      "text/plain": "0.0"
     },
     "execution_count": 11,
     "metadata": {},
     "output_type": "execute_result"
    }
   ],
   "source": [
    "print(other)\n",
    "len(other) /( i + 1)"
   ],
   "metadata": {
    "collapsed": false,
    "ExecuteTime": {
     "end_time": "2024-01-24T16:15:13.714401Z",
     "start_time": "2024-01-24T16:15:13.702313Z"
    }
   },
   "id": "7dba729733e86dc7"
  },
  {
   "cell_type": "code",
   "execution_count": null,
   "outputs": [],
   "source": [],
   "metadata": {
    "collapsed": false
   },
   "id": "f85a530acd8808b8"
  }
 ],
 "metadata": {
  "kernelspec": {
   "display_name": "Python 3",
   "language": "python",
   "name": "python3"
  },
  "language_info": {
   "codemirror_mode": {
    "name": "ipython",
    "version": 2
   },
   "file_extension": ".py",
   "mimetype": "text/x-python",
   "name": "python",
   "nbconvert_exporter": "python",
   "pygments_lexer": "ipython2",
   "version": "2.7.6"
  }
 },
 "nbformat": 4,
 "nbformat_minor": 5
}
