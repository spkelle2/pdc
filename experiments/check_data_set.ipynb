{
 "cells": [
  {
   "cell_type": "code",
   "source": [
    "from itertools import product\n",
    "import os\n",
    "import pandas as pd"
   ],
   "metadata": {
    "collapsed": false,
    "ExecuteTime": {
     "end_time": "2024-12-13T21:52:29.272004Z",
     "start_time": "2024-12-13T21:52:28.917884Z"
    }
   },
   "id": "745706289c1636bd",
   "outputs": [],
   "execution_count": 1
  },
  {
   "cell_type": "code",
   "source": [
    "instance_set = \"bm23\"\n",
    "max_runtime = 3600\n",
    "expected_instances = 4\n",
    "degrees = [-1, 1]\n",
    "perturbations = [\"matrix\", \"objective\", \"rhs\"]"
   ],
   "metadata": {
    "collapsed": false,
    "ExecuteTime": {
     "end_time": "2024-12-13T21:52:29.934800Z",
     "start_time": "2024-12-13T21:52:29.931374Z"
    }
   },
   "id": "13c069ba21ea3e28",
   "outputs": [],
   "execution_count": 2
  },
  {
   "cell_type": "code",
   "source": [
    "# running list of strings contained by different error codes\n",
    "# last two are catchalls\n",
    "err = {\n",
    "    \"gurobipy.gurobierror: out of memory\": [],\n",
    "    f\"could not be solved in {max_runtime} seconds. skipping.\": []\n",
    "}\n",
    "\n",
    "warn = {\n",
    "    \"invalid value encountered in double_scalars\": [],\n",
    "    \"could not be perturbed\": [],\n",
    "}\n",
    "\n",
    "# runs that weren't run\n",
    "no_go = []\n",
    "\n",
    "# runs that errored out with new error code\n",
    "other = []\n",
    "\n",
    "# runs that had no errors\n",
    "empty = []\n",
    "\n",
    "# count of instances made\n",
    "count = {}\n",
    "\n",
    "for i, file_name in enumerate(os.listdir(os.path.join(\"instances\", instance_set))):\n",
    "    \n",
    "    # skip anything not a mip\n",
    "    if not file_name.endswith(\".mps\"):\n",
    "        continue\n",
    "        \n",
    "    # get the model name\n",
    "    stem = file_name[:-4]\n",
    "    \n",
    "    # instantiate the count\n",
    "    count[stem] = {\n",
    "        (p, d): len([f for f in os.listdir(os.path.join(\"test_sets\", instance_set, stem, f\"{p}_{d}\"))\n",
    "                     if f.endswith(\".mps\")]) for p, d in product(perturbations, degrees)\n",
    "    }\n",
    "    \n",
    "    # get the error file path\n",
    "    err_pth = os.path.join(\"outfiles\", stem + \".err\")\n",
    "    \n",
    "    # check if the series wasn't run\n",
    "    if not os.path.exists(err_pth):\n",
    "        no_go.append(stem)\n",
    "    \n",
    "    # check if the series ran with no errors or warnings\n",
    "    elif os.path.getsize(err_pth) == 0:\n",
    "        empty.append(stem)\n",
    "        \n",
    "    else:\n",
    "        # read in file\n",
    "        with open(err_pth, \"r\") as f:\n",
    "            text = f.read().lower()\n",
    "            \n",
    "        # check for error codes\n",
    "        found_code = False\n",
    "        for code in err:\n",
    "            if code in text:\n",
    "                err[code].append(file_name)\n",
    "                found_code = True\n",
    "                break\n",
    "        \n",
    "        if not found_code:\n",
    "            for code in warn:\n",
    "                if code in text:\n",
    "                    warn[code].append(file_name)\n",
    "                    found_code = True\n",
    "                    break\n",
    "                    \n",
    "        if not found_code:\n",
    "            other.append(file_name)"
   ],
   "metadata": {
    "collapsed": false,
    "ExecuteTime": {
     "end_time": "2024-12-13T22:08:35.824657Z",
     "start_time": "2024-12-13T22:08:35.811449Z"
    }
   },
   "id": "initial_id",
   "outputs": [],
   "execution_count": 35
  },
  {
   "cell_type": "code",
   "source": [
    "no_go"
   ],
   "metadata": {
    "collapsed": false,
    "ExecuteTime": {
     "end_time": "2024-12-13T22:08:36.255855Z",
     "start_time": "2024-12-13T22:08:36.250206Z"
    }
   },
   "id": "11936e5263b230d",
   "outputs": [
    {
     "data": {
      "text/plain": [
       "[]"
      ]
     },
     "execution_count": 36,
     "metadata": {},
     "output_type": "execute_result"
    }
   ],
   "execution_count": 36
  },
  {
   "cell_type": "code",
   "source": [
    "len(empty) / (i + 1)"
   ],
   "metadata": {
    "collapsed": false,
    "ExecuteTime": {
     "end_time": "2024-12-13T22:08:36.621151Z",
     "start_time": "2024-12-13T22:08:36.617650Z"
    }
   },
   "id": "be69eb12bc8b9299",
   "outputs": [
    {
     "data": {
      "text/plain": [
       "1.0"
      ]
     },
     "execution_count": 37,
     "metadata": {},
     "output_type": "execute_result"
    }
   ],
   "execution_count": 37
  },
  {
   "cell_type": "code",
   "source": [
    "print(err[\"gurobipy.gurobierror: out of memory\"])\n",
    "print(len(err[\"gurobipy.gurobierror: out of memory\"]) / (i + 1))\n",
    "df = pd.read_csv(\"more_memory.csv\", index_col=0)\n",
    "for file_name in err[\"gurobipy.gurobierror: out of memory\"]:\n",
    "    current_memory = df.loc[file_name, \"memory\"]\n",
    "    df.loc[file_name, \"memory\"] = min(15, current_memory * 2)\n",
    "# df[\"memory\"].astype(int)\n",
    "# df.to_csv(\"more_memory.csv\")"
   ],
   "metadata": {
    "collapsed": false,
    "ExecuteTime": {
     "end_time": "2024-12-13T22:08:36.983249Z",
     "start_time": "2024-12-13T22:08:36.971126Z"
    }
   },
   "id": "a966e656e65fcc39",
   "outputs": [
    {
     "name": "stdout",
     "output_type": "stream",
     "text": [
      "[]\n",
      "0.0\n"
     ]
    }
   ],
   "execution_count": 38
  },
  {
   "cell_type": "code",
   "source": "len(err[f\"could not be solved in {max_runtime} seconds. skipping.\"]) / (i + 1)",
   "metadata": {
    "collapsed": false,
    "ExecuteTime": {
     "end_time": "2024-12-13T22:08:37.415965Z",
     "start_time": "2024-12-13T22:08:37.412246Z"
    }
   },
   "id": "5b1e928cb8a5d052",
   "outputs": [
    {
     "data": {
      "text/plain": [
       "0.0"
      ]
     },
     "execution_count": 39,
     "metadata": {},
     "output_type": "execute_result"
    }
   ],
   "execution_count": 39
  },
  {
   "cell_type": "code",
   "source": "len(warn[\"invalid value encountered in double_scalars\"]) / (i + 1)",
   "metadata": {
    "collapsed": false,
    "ExecuteTime": {
     "end_time": "2024-12-13T22:08:37.760763Z",
     "start_time": "2024-12-13T22:08:37.758022Z"
    }
   },
   "id": "826ae86393739e0e",
   "outputs": [
    {
     "data": {
      "text/plain": [
       "0.0"
      ]
     },
     "execution_count": 40,
     "metadata": {},
     "output_type": "execute_result"
    }
   ],
   "execution_count": 40
  },
  {
   "metadata": {
    "ExecuteTime": {
     "end_time": "2024-12-13T22:08:38.141553Z",
     "start_time": "2024-12-13T22:08:38.138556Z"
    }
   },
   "cell_type": "code",
   "source": "len(warn[\"could not be perturbed\"]) / (i + 1)",
   "id": "a24c49ae9aaf618d",
   "outputs": [
    {
     "data": {
      "text/plain": [
       "0.0"
      ]
     },
     "execution_count": 41,
     "metadata": {},
     "output_type": "execute_result"
    }
   ],
   "execution_count": 41
  },
  {
   "cell_type": "code",
   "source": [
    "print(other)\n",
    "len(other) /( i + 1)"
   ],
   "metadata": {
    "collapsed": false,
    "ExecuteTime": {
     "end_time": "2024-12-13T22:08:38.720405Z",
     "start_time": "2024-12-13T22:08:38.717404Z"
    }
   },
   "id": "7dba729733e86dc7",
   "outputs": [
    {
     "name": "stdout",
     "output_type": "stream",
     "text": [
      "[]\n"
     ]
    },
    {
     "data": {
      "text/plain": [
       "0.0"
      ]
     },
     "execution_count": 42,
     "metadata": {},
     "output_type": "execute_result"
    }
   ],
   "execution_count": 42
  },
  {
   "cell_type": "code",
   "source": "{stem: {(p, d): count for (p, d), count in count[stem].items() if count < expected_instances} for stem in count}",
   "metadata": {
    "collapsed": false,
    "ExecuteTime": {
     "end_time": "2024-12-13T22:09:00.416757Z",
     "start_time": "2024-12-13T22:09:00.403928Z"
    }
   },
   "id": "f85a530acd8808b8",
   "outputs": [
    {
     "data": {
      "text/plain": [
       "{'bm23': {}}"
      ]
     },
     "execution_count": 44,
     "metadata": {},
     "output_type": "execute_result"
    }
   ],
   "execution_count": 44
  },
  {
   "metadata": {},
   "cell_type": "code",
   "outputs": [],
   "execution_count": null,
   "source": "",
   "id": "1186112d01145372"
  }
 ],
 "metadata": {
  "kernelspec": {
   "display_name": "Python 3",
   "language": "python",
   "name": "python3"
  },
  "language_info": {
   "codemirror_mode": {
    "name": "ipython",
    "version": 2
   },
   "file_extension": ".py",
   "mimetype": "text/x-python",
   "name": "python",
   "nbconvert_exporter": "python",
   "pygments_lexer": "ipython2",
   "version": "2.7.6"
  }
 },
 "nbformat": 4,
 "nbformat_minor": 5
}
