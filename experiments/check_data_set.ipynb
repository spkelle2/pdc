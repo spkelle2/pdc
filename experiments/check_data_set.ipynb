{
 "cells": [
  {
   "cell_type": "code",
   "execution_count": 1,
   "outputs": [],
   "source": [
    "import os"
   ],
   "metadata": {
    "collapsed": false,
    "ExecuteTime": {
     "end_time": "2024-01-08T18:10:15.540470Z",
     "start_time": "2024-01-08T18:10:15.524337Z"
    }
   },
   "id": "745706289c1636bd"
  },
  {
   "cell_type": "code",
   "execution_count": 2,
   "outputs": [],
   "source": [
    "instance_set = \"miplib_5000\""
   ],
   "metadata": {
    "collapsed": false,
    "ExecuteTime": {
     "end_time": "2024-01-08T18:10:16.108142Z",
     "start_time": "2024-01-08T18:10:16.104592Z"
    }
   },
   "id": "13c069ba21ea3e28"
  },
  {
   "cell_type": "code",
   "execution_count": 24,
   "outputs": [],
   "source": [
    "# running list of strings contained by different error codes\n",
    "# last two are catchalls\n",
    "err = {\n",
    "    \"gurobipy.gurobierror: out of memory\": [],\n",
    "    \"could not be solved in 14400 seconds. skipping.\": [],\n",
    "    \"gurobipy.gurobierror: unable to create presolved model\": [],\n",
    "    \"objective could not be perturbed\": [],\n",
    "    \"invalid value encountered in double_scalars\": [],\n",
    "}\n",
    "\n",
    "# runs that weren't run\n",
    "no_go = []\n",
    "\n",
    "# runs that errored out with new error code\n",
    "other = []\n",
    "\n",
    "# runs that had no errors\n",
    "empty = []\n",
    "\n",
    "for i, file_name in enumerate(os.listdir(os.path.join(\"instances\", instance_set))):\n",
    "    \n",
    "    # skip anything not a mip\n",
    "    if not file_name.endswith(\".mps\"):\n",
    "        continue\n",
    "        \n",
    "    # get the model name\n",
    "    stem = file_name[:-4]\n",
    "    \n",
    "    # get the error file path\n",
    "    err_pth = os.path.join(\"outfiles\", stem + \".err\")\n",
    "    \n",
    "    # check if the series wasn't run\n",
    "    if not os.path.exists(err_pth):\n",
    "        no_go.append(stem)\n",
    "    \n",
    "    # check if the series ran with no errors or warnings\n",
    "    elif os.path.getsize(err_pth) == 0:\n",
    "        empty.append(stem)\n",
    "        \n",
    "    else:\n",
    "        # read in file\n",
    "        with open(err_pth, \"r\") as f:\n",
    "            text = f.read().lower()\n",
    "            \n",
    "        # check for error codes\n",
    "        found_code = False\n",
    "        for code in err:\n",
    "            if code in text:\n",
    "                err[code].append(file_name)\n",
    "                found_code = True\n",
    "                break\n",
    "        if not found_code:\n",
    "            other.append(file_name)"
   ],
   "metadata": {
    "collapsed": false,
    "ExecuteTime": {
     "end_time": "2024-01-08T18:15:54.580080Z",
     "start_time": "2024-01-08T18:15:54.538570Z"
    }
   },
   "id": "initial_id"
  },
  {
   "cell_type": "code",
   "execution_count": 25,
   "outputs": [
    {
     "data": {
      "text/plain": "['ns1606230',\n 'neos-5078479-escaut',\n 'mc11',\n 'neos-4333464-siret',\n 'neos-1605075',\n 'neos-1616732']"
     },
     "execution_count": 25,
     "metadata": {},
     "output_type": "execute_result"
    }
   ],
   "source": [
    "no_go"
   ],
   "metadata": {
    "collapsed": false,
    "ExecuteTime": {
     "end_time": "2024-01-08T18:15:54.864728Z",
     "start_time": "2024-01-08T18:15:54.857622Z"
    }
   },
   "id": "11936e5263b230d"
  },
  {
   "cell_type": "code",
   "execution_count": 26,
   "outputs": [
    {
     "data": {
      "text/plain": "0.674"
     },
     "execution_count": 26,
     "metadata": {},
     "output_type": "execute_result"
    }
   ],
   "source": [
    "len(empty) / (i + 1)"
   ],
   "metadata": {
    "collapsed": false,
    "ExecuteTime": {
     "end_time": "2024-01-08T18:15:55.188184Z",
     "start_time": "2024-01-08T18:15:55.178814Z"
    }
   },
   "id": "be69eb12bc8b9299"
  },
  {
   "cell_type": "code",
   "execution_count": 44,
   "outputs": [
    {
     "name": "stdout",
     "output_type": "stream",
     "text": [
      "['pigeon-16.mps', 'sp98ic.mps', 'mc8.mps', 'neos-916792.mps', 'neos-555343.mps', 'neos-810286.mps', 'neos-3046601-motu.mps', 'pigeon-11.mps', 'neos-1420790.mps', 'neos-1121679.mps', 'neos-5261882-treska.mps', 'neos-1440460.mps', 'p100x588b.mps', 'neos-1436709.mps', 'rococoB10-011000.mps', 'pigeon-12.mps', 'pigeon-13.mps', 'go19.mps', 'r80x800.mps', 'markshare1.mps', 'm100n500k4r1.mps', 'neos-3592146-hawea.mps', 'neos-3530903-gauja.mps', 'neos-3024952-loue.mps', 'gsvm2rl5.mps', 'neos-1426635.mps', 'queens-30.mps', 'neos-574665.mps', 'neos-5051588-culgoa.mps', 'milo-v13-4-3d-3-0.mps', 'bppc6-02.mps', 'gmu-35-50.mps', 'icir97_potential.mps', 'neos-1464762.mps', 'neos-3762025-ognon.mps', 'neos-584146.mps', 'neos-933562.mps', 'neos-1429461.mps', 'ger50-17-ptp-pop-6t.mps', '50v-10.mps', 'neos-1460246.mps', 'd10200.mps', 'nobel-eu-DBE.mps', 'neos-3046615-murg.mps', 'neos-1595230.mps', 'f2gap201600.mps', 'bc.mps', 'neos-1460641.mps', 'timtab2.mps', 'n4-3.mps', 'neos-1346382.mps', 'neos-1467467.mps', 'supportcase20.mps', 'neos-935496.mps', 'breastcancer-regularized.mps', 'neos-717614.mps', 'neos-555298.mps', 'ta1-UUM.mps', 'fhnw-binpack4-48.mps', 'neos-1460543.mps', 'neos-3118745-obra.mps', 'neos-548251.mps', 'neos-1467371.mps', 'aflow40b.mps', 'n5-3.mps', 'neos-1171692.mps', 'neos-582605.mps', 'usAbbrv-8-25_70.mps', 'd20200.mps', 'neos-1442119.mps', 'neos-1442657.mps', 'pigeon-20.mps', 'neos-1426662.mps', 'neos-3373491-avoca.mps', 'neos-916173.mps', 'neos-1601936.mps', 'pigeon-19.mps', 'probportfolio.mps', 'mc7.mps', 'assign1-5-8.mps', 'neos-1429185.mps', 'gen-ip016.mps', 'janos-us-DDM.mps', 'neos-911970.mps']\n",
      "0.168\n"
     ]
    }
   ],
   "source": [
    "print(err[\"gurobipy.gurobierror: out of memory\"])\n",
    "print(len(err[\"gurobipy.gurobierror: out of memory\"]) / (i + 1))\n",
    "if not os.path.exists(\"more_memory.csv\"):\n",
    "    with open(\"more_memory.csv\", \"x\") as f:\n",
    "        f.write(\"file_name,memory\\n\")\n",
    "        for file_name in err[\"gurobipy.gurobierror: out of memory\"]:\n",
    "            f.write(file_name + \",8\\n\")"
   ],
   "metadata": {
    "collapsed": false,
    "ExecuteTime": {
     "end_time": "2024-01-08T19:04:14.431367Z",
     "start_time": "2024-01-08T19:04:14.418098Z"
    }
   },
   "id": "a966e656e65fcc39"
  },
  {
   "cell_type": "code",
   "execution_count": 38,
   "outputs": [
    {
     "data": {
      "text/plain": "0.072"
     },
     "execution_count": 38,
     "metadata": {},
     "output_type": "execute_result"
    }
   ],
   "source": [
    "len(err[\"could not be solved in 14400 seconds. skipping.\"]) / (i + 1)"
   ],
   "metadata": {
    "collapsed": false,
    "ExecuteTime": {
     "end_time": "2024-01-08T18:53:16.035852Z",
     "start_time": "2024-01-08T18:53:16.024291Z"
    }
   },
   "id": "5b1e928cb8a5d052"
  },
  {
   "cell_type": "code",
   "execution_count": 37,
   "outputs": [
    {
     "name": "stdout",
     "output_type": "stream",
     "text": [
      "['bley_xs2.mps', 'neos-807454.mps', 'diamond.mps']\n"
     ]
    },
    {
     "data": {
      "text/plain": "0.006"
     },
     "execution_count": 37,
     "metadata": {},
     "output_type": "execute_result"
    }
   ],
   "source": [
    "print(err[\"gurobipy.gurobierror: unable to create presolved model\"])\n",
    "len(err[\"gurobipy.gurobierror: unable to create presolved model\"]) / (i + 1)"
   ],
   "metadata": {
    "collapsed": false,
    "ExecuteTime": {
     "end_time": "2024-01-08T18:53:12.743050Z",
     "start_time": "2024-01-08T18:53:12.732931Z"
    }
   },
   "id": "c57cafa6fa58dbb7"
  },
  {
   "cell_type": "code",
   "execution_count": 30,
   "outputs": [
    {
     "data": {
      "text/plain": "0.064"
     },
     "execution_count": 30,
     "metadata": {},
     "output_type": "execute_result"
    }
   ],
   "source": [
    "len(\"objective could not be perturbed\") / (i + 1)"
   ],
   "metadata": {
    "collapsed": false,
    "ExecuteTime": {
     "end_time": "2024-01-08T18:15:56.251895Z",
     "start_time": "2024-01-08T18:15:56.248041Z"
    }
   },
   "id": "dd4f2ab5f24366c7"
  },
  {
   "cell_type": "code",
   "execution_count": 31,
   "outputs": [
    {
     "data": {
      "text/plain": "0.086"
     },
     "execution_count": 31,
     "metadata": {},
     "output_type": "execute_result"
    }
   ],
   "source": [
    "len(\"invalid value encountered in double_scalars\") / (i + 1)"
   ],
   "metadata": {
    "collapsed": false,
    "ExecuteTime": {
     "end_time": "2024-01-08T18:15:56.574859Z",
     "start_time": "2024-01-08T18:15:56.562843Z"
    }
   },
   "id": "826ae86393739e0e"
  },
  {
   "cell_type": "code",
   "execution_count": 32,
   "outputs": [
    {
     "name": "stdout",
     "output_type": "stream",
     "text": [
      "[]\n"
     ]
    },
    {
     "data": {
      "text/plain": "0.0"
     },
     "execution_count": 32,
     "metadata": {},
     "output_type": "execute_result"
    }
   ],
   "source": [
    "print(other)\n",
    "len(other) /( i + 1)"
   ],
   "metadata": {
    "collapsed": false,
    "ExecuteTime": {
     "end_time": "2024-01-08T18:16:00.858291Z",
     "start_time": "2024-01-08T18:16:00.845879Z"
    }
   },
   "id": "7dba729733e86dc7"
  },
  {
   "cell_type": "code",
   "execution_count": null,
   "outputs": [],
   "source": [],
   "metadata": {
    "collapsed": false
   },
   "id": "f85a530acd8808b8"
  }
 ],
 "metadata": {
  "kernelspec": {
   "display_name": "Python 3",
   "language": "python",
   "name": "python3"
  },
  "language_info": {
   "codemirror_mode": {
    "name": "ipython",
    "version": 2
   },
   "file_extension": ".py",
   "mimetype": "text/x-python",
   "name": "python",
   "nbconvert_exporter": "python",
   "pygments_lexer": "ipython2",
   "version": "2.7.6"
  }
 },
 "nbformat": 4,
 "nbformat_minor": 5
}
