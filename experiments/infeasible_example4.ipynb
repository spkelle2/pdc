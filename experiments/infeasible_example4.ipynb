{
 "cells": [
  {
   "cell_type": "markdown",
   "source": [
    "# Welcome!\n",
    "\n",
    "The parent LP has been chosen such that creating a child node from the branching constraint will result in both an infeasible\n",
    "LP but also a resulting infeasible basis cone that is not a subset of the parent basis cone AND IT POINTS THE WRONG WAY!!\n",
    "\n",
    "**This assumes we construct the infeasible basis cone from the parent optimal basis\n",
    "by swapping out the constraint with the greatest reduced cost for the branching constraint.**"
   ],
   "metadata": {
    "collapsed": false
   },
   "id": "fe8537cc871eb6d2"
  },
  {
   "cell_type": "code",
   "execution_count": 1,
   "outputs": [],
   "source": [
    "from coinor.grumpy.polyhedron2D import Polyhedron2D, Figure\n",
    "import gurobipy as gu\n",
    "import numpy as np"
   ],
   "metadata": {
    "collapsed": false,
    "ExecuteTime": {
     "end_time": "2024-05-31T20:31:15.761109Z",
     "start_time": "2024-05-31T20:31:15.375128Z"
    }
   },
   "id": "initial_id"
  },
  {
   "cell_type": "code",
   "execution_count": 2,
   "outputs": [],
   "source": [
    "# utility function to get the model as np arrays\n",
    "def get_model_arrays(mdl):\n",
    "    \n",
    "    # we assume that the model is Ax >= b\n",
    "    for c in mdl.getConstrs():\n",
    "        if c.sense == gu.GRB.LESS_EQUAL:\n",
    "            c.setAttr(gu.GRB.Attr.Sense, gu.GRB.GREATER_EQUAL)\n",
    "            c.setAttr(gu.GRB.Attr.RHS, -c.rhs)\n",
    "    \n",
    "    # get the constraints\n",
    "    A = mdl.getA().toarray()\n",
    "    b = np.array([c.rhs for c in mdl.getConstrs()])\n",
    "    \n",
    "    # get the finite lower bounds on variables\n",
    "    Dlb, Dlb_0 = np.eye(mdl.numVars), np.array([v.lb for v in mdl.getVars()])\n",
    "    Dlb, Dlb_0 = Dlb[Dlb_0 > -np.inf], Dlb_0[Dlb_0 > -np.inf]\n",
    "    \n",
    "    # get the finite upper bounds on variables\n",
    "    Dub, Dub_0 = -np.eye(mdl.numVars), -np.array([v.ub for v in mdl.getVars()])\n",
    "    Dub, Dub_0 = Dub[Dub_0 > -np.inf], Dub_0[Dub_0 > -np.inf]\n",
    "    \n",
    "    # merge the variable bounds into a single matrix with the constraints\n",
    "    A = np.vstack([A, Dlb, Dub])\n",
    "    b = np.hstack([b, Dlb_0, Dub_0])\n",
    "    \n",
    "    # get the objective function\n",
    "    c = np.array([v.obj for v in mdl.getVars()])\n",
    "    \n",
    "    return A, b, c\n",
    "\n",
    "\n",
    "# utility function to get the disjunctive constraints as np arrays\n",
    "def get_disjunctive_constraint_arrays(mdl):\n",
    "    \n",
    "    # we assume that the model is Ax >= b\n",
    "    for c in mdl.getConstrs():\n",
    "        if c.sense == gu.GRB.LESS_EQUAL:\n",
    "            c.setAttr(gu.GRB.Attr.Sense, gu.GRB.GREATER_EQUAL)\n",
    "            c.setAttr(gu.GRB.Attr.RHS, -c.rhs)\n",
    "    \n",
    "    # get the disjunctive constraints from branching up\n",
    "    Dlb, Dlb_0 = np.eye(mdl.numVars), np.array([v.lb for v in mdl.getVars()])\n",
    "    Dlb, Dlb_0 = Dlb[Dlb_0 > 0], Dlb_0[Dlb_0 > 0]\n",
    "    \n",
    "    # get the disjunctive constraints from branching down\n",
    "    Dub, Dub_0 = -np.eye(mdl.numVars), -np.array([v.ub for v in mdl.getVars()])\n",
    "    Dub, Dub_0 = Dub[Dub_0 > -np.inf], Dub_0[Dub_0 > -np.inf]\n",
    "    \n",
    "    # merge the variable bounds into a single matrix with the constraints\n",
    "    D = np.vstack([Dlb, Dub])\n",
    "    D_0 = np.hstack([Dlb_0, Dub_0])\n",
    "    \n",
    "    return D, D_0\n",
    "\n",
    "def get_tableau_primitives(mdl, original_objective=None):\n",
    "    \n",
    "    if original_objective is not None:\n",
    "        assert len(original_objective) == mdl.numVars, \\\n",
    "            \"original objective must be the same length as the number of variables\"\n",
    "    \n",
    "    # create empty containers to hold basis and nonbasis information\n",
    "    # basis is always m x m since matrix is always m x (n + m)\n",
    "    A_b = np.zeros((mdl.numConstrs, mdl.numConstrs))\n",
    "    A_n = np.zeros((mdl.numConstrs, mdl.numVars))\n",
    "    c_b = np.zeros(mdl.numConstrs)  # always m\n",
    "    c_n = np.zeros(mdl.numVars)  # always n since we have n + m variables and m are basic\n",
    "    k_b, k_n = 0, 0  # counter for the number of basic and nonbasic variables\n",
    "    \n",
    "    # get the necessary model pieces as arrays\n",
    "    A = mdl.getA().toarray()\n",
    "    c = original_objective if original_objective is not None \\\n",
    "        else np.array([v.obj for v in mdl.getVars()])\n",
    "    \n",
    "    # populate it with columns from basic decision variables\n",
    "    for i, v in enumerate(mdl.getVars()):\n",
    "        if v.vBasis == 0:\n",
    "            A_b[:, k_b] = A[:, i]\n",
    "            c_b[k_b] = c[i]\n",
    "            k_b += 1\n",
    "        else:\n",
    "            A_n[:, k_n] = A[:, i]\n",
    "            c_n[k_n] = c[i]\n",
    "            k_n += 1\n",
    "            \n",
    "    # populate it with columns from basic slack variables\n",
    "    for i, c in enumerate(mdl.getConstrs()):\n",
    "        if c.cBasis == 0:\n",
    "            A_b[i, k_b] = -1\n",
    "            c_b[k_b] = 0\n",
    "            k_b += 1\n",
    "        else:\n",
    "            A_n[i, k_n] = -1\n",
    "            c_n[k_n] = 0\n",
    "            k_n += 1\n",
    "    \n",
    "    return A_b, c_b, A_n, c_n\n",
    "\n",
    "\n",
    "def get_tableau_primitives_after_branching(mdl, A_new, decision_idx=None, slack_idx=None):\n",
    "    \"\"\" pivot a decision or slack variable into the basis to make way for a new\n",
    "    disjunctive constraint's slack variable in nonbasis.\n",
    "    \n",
    "    :param mdl: the parent model \n",
    "    :param A_new: the child matrix after branching\n",
    "    :param decision_idx: decision variable to pivot into basis\n",
    "    :param slack_idx: decision variable to pivot into basis\n",
    "    :return: new primatives for the tableau\n",
    "    \"\"\"\n",
    "    \n",
    "    assert (decision_idx is not None) != (slack_idx is not None), \\\n",
    "        \"must provide the index of exactly one decision or slack variable to pivot in\" \n",
    "    \n",
    "    replace_slack = slack_idx is not None\n",
    "    \n",
    "    # create empty containers for tableau\n",
    "    # basis is always m x m since matrix is always m x (n + m)\n",
    "    A_b = np.zeros((mdl.numConstrs + 1, mdl.numConstrs + 1))\n",
    "    A_n = np.zeros((mdl.numConstrs + 1, mdl.numVars))\n",
    "    c_b = np.zeros(mdl.numConstrs + 1)\n",
    "    c_n = np.zeros(mdl.numVars)\n",
    "    k_b, k_n = 0, 0  # counter for the number of basic and nonbasic variables\n",
    "    v_basis, c_basis = np.zeros(mdl.numVars), np.zeros(mdl.numConstrs + 1)  # basis vector\n",
    "    c = np.array([v.obj for v in mdl.getVars()])\n",
    "    \n",
    "    # populate it with columns from basic decision variables\n",
    "    for i, v in enumerate(mdl.getVars()):\n",
    "        # either what was already basic or the new decision variable being pivoted in\n",
    "        if v.vBasis == 0 or (not replace_slack and i == decision_idx):\n",
    "            A_b[:, k_b] = A_new[:, i]\n",
    "            c_b[k_b] = c[i]\n",
    "            k_b += 1\n",
    "        else:\n",
    "            A_n[:, k_n] = A_new[:, i]\n",
    "            c_n[k_n] = c[i]\n",
    "            k_n += 1\n",
    "            v_basis[i] = -1\n",
    "        \n",
    "    # populate it with columns from basic slack variables\n",
    "    for i, c in enumerate(mdl.getConstrs()):\n",
    "        # either what was already basic or the new slack variable being pivoted in\n",
    "        if c.cBasis == 0 or (replace_slack and i == slack_idx):\n",
    "            A_b[i, k_b] = -1\n",
    "            c_b[k_b] = 0\n",
    "            k_b += 1\n",
    "        else:\n",
    "            A_n[i, k_n] = -1\n",
    "            c_n[k_n] = 0\n",
    "            k_n += 1\n",
    "            c_basis[i] = -1\n",
    "        \n",
    "    # now forcibly add the disjunctive constraint's slack variable to the nonbasis\n",
    "    assert k_b == mdl.numConstrs + 1 and k_n == mdl.numVars - 1, \\\n",
    "        \"the final basis status to fill should be a nonbasic one for the last slack variable\"\n",
    "    A_n[mdl.numConstrs, k_n] = -1\n",
    "    k_n += 1\n",
    "    c_basis[mdl.numConstrs] = -1\n",
    "    \n",
    "    return A_b, c_b, A_n, c_n, v_basis, c_basis"
   ],
   "metadata": {
    "collapsed": false,
    "ExecuteTime": {
     "end_time": "2024-05-31T20:31:16.414479Z",
     "start_time": "2024-05-31T20:31:16.395625Z"
    }
   },
   "id": "f18299c5522e153"
  },
  {
   "cell_type": "markdown",
   "source": [
    "# Define and Solve a Feasible Parent Node's LP"
   ],
   "metadata": {
    "collapsed": false
   },
   "id": "53ef8a9a4a5daf0b"
  },
  {
   "cell_type": "code",
   "execution_count": 9,
   "outputs": [
    {
     "name": "stdout",
     "output_type": "stream",
     "text": [
      "Gurobi Optimizer version 10.0.3 build v10.0.3rc0 (mac64[arm])\n",
      "\n",
      "CPU model: Apple M1\n",
      "Thread count: 8 physical cores, 8 logical processors, using up to 8 threads\n",
      "\n",
      "Optimize a model with 2 rows, 2 columns and 4 nonzeros\n",
      "Model fingerprint: 0xbad73779\n",
      "Coefficient statistics:\n",
      "  Matrix range     [2e+00, 4e+00]\n",
      "  Objective range  [1e+00, 3e+00]\n",
      "  Bounds range     [0e+00, 0e+00]\n",
      "  RHS range        [3e+00, 3e+00]\n",
      "Presolve removed 2 rows and 2 columns\n",
      "Presolve time: 0.00s\n",
      "Presolve: All rows and columns removed\n",
      "Iteration    Objective       Primal Inf.    Dual Inf.      Time\n",
      "       0   -2.0000000e+00   0.000000e+00   0.000000e+00      0s\n",
      "\n",
      "Solved in 0 iterations and 0.00 seconds (0.00 work units)\n",
      "Optimal objective -2.000000000e+00\n"
     ]
    },
    {
     "data": {
      "text/plain": "(0.5, 0.5)"
     },
     "execution_count": 9,
     "metadata": {},
     "output_type": "execute_result"
    }
   ],
   "source": [
    "mdl = gu.Model(\"lp_minimize\")\n",
    "\n",
    "# Create variables\n",
    "x = mdl.addVar(name=\"x\")\n",
    "y = mdl.addVar(name=\"y\")\n",
    "\n",
    "# Set objective function: maximize x + y + 10z\n",
    "mdl.setObjective(-3*x - y, gu.GRB.MINIMIZE)\n",
    "\n",
    "# Add constraints\n",
    "constr_0 = mdl.addConstr(3*x + 3*y >= 3, \"constr_0\")\n",
    "constr_1 = mdl.addConstr(-4*x + -2*y >= -3, \"constr_1\")\n",
    "\n",
    "mdl.update()\n",
    "\n",
    "# get the model as np arrays\n",
    "A0 = mdl.getA().toarray()\n",
    "b0 = np.array([c.rhs for c in mdl.getConstrs()])\n",
    "c0 = np.array([v.obj for v in mdl.getVars()])\n",
    "\n",
    "# make sure this works\n",
    "mdl.optimize()\n",
    "x.x, y.x"
   ],
   "metadata": {
    "collapsed": false,
    "ExecuteTime": {
     "end_time": "2024-05-31T20:33:19.706600Z",
     "start_time": "2024-05-31T20:33:19.675937Z"
    }
   },
   "id": "d5d414efc7c6b457"
  },
  {
   "cell_type": "markdown",
   "source": [
    "# Find the Parent Optimal Basis Cone"
   ],
   "metadata": {
    "collapsed": false
   },
   "id": "a7a757132a911706"
  },
  {
   "cell_type": "code",
   "execution_count": 10,
   "outputs": [],
   "source": [
    "# get the tableau primitives for the root optimal basis\n",
    "A_b, c_b, A_n, c_n = get_tableau_primitives(mdl)"
   ],
   "metadata": {
    "collapsed": false,
    "ExecuteTime": {
     "end_time": "2024-05-31T20:33:22.175789Z",
     "start_time": "2024-05-31T20:33:22.147348Z"
    }
   },
   "id": "166ce5a156b9b0fe"
  },
  {
   "cell_type": "code",
   "execution_count": 11,
   "outputs": [
    {
     "data": {
      "text/plain": "([0, 0], [-1, -1])"
     },
     "execution_count": 11,
     "metadata": {},
     "output_type": "execute_result"
    }
   ],
   "source": [
    "# see which decision and slack variables are in the basis (i.e. are not at their bounds - marked by 0 value)\n",
    "mdl.vBasis, mdl.cBasis"
   ],
   "metadata": {
    "collapsed": false,
    "ExecuteTime": {
     "end_time": "2024-05-31T20:33:22.805242Z",
     "start_time": "2024-05-31T20:33:22.781555Z"
    }
   },
   "id": "31ce7c10a73a9c1e"
  },
  {
   "cell_type": "code",
   "execution_count": 12,
   "outputs": [
    {
     "data": {
      "text/plain": "array([[-0.33333333, -0.5       ],\n       [ 0.66666667,  0.5       ]])"
     },
     "execution_count": 12,
     "metadata": {},
     "output_type": "execute_result"
    }
   ],
   "source": [
    "# original basis cone\n",
    "cone_0 = -(np.linalg.inv(A_b) @ A_n)[:mdl.numVars, :mdl.numVars]\n",
    "cone_0"
   ],
   "metadata": {
    "collapsed": false,
    "ExecuteTime": {
     "end_time": "2024-05-31T20:33:24.188041Z",
     "start_time": "2024-05-31T20:33:24.154268Z"
    }
   },
   "id": "2905fc6e14fe897a"
  },
  {
   "cell_type": "markdown",
   "source": [
    "# Calculate Reduced Costs Relative to Original Objective"
   ],
   "metadata": {
    "collapsed": false
   },
   "id": "a305b75c1b73a67"
  },
  {
   "cell_type": "code",
   "execution_count": 13,
   "outputs": [
    {
     "data": {
      "text/plain": "array([0.33333333, 1.        ])"
     },
     "execution_count": 13,
     "metadata": {},
     "output_type": "execute_result"
    }
   ],
   "source": [
    "# we pivot into the basis the most reduced (least positive) cost \n",
    "# therefore, we want to get rid of c0\n",
    "# y = A_B^-T c_B\n",
    "row_duals = np.linalg.inv(A_b.T) @ c_b\n",
    "row_duals"
   ],
   "metadata": {
    "collapsed": false,
    "ExecuteTime": {
     "end_time": "2024-05-31T20:33:28.222933Z",
     "start_time": "2024-05-31T20:33:28.201231Z"
    }
   },
   "id": "45c35b3ec64a73f0"
  },
  {
   "cell_type": "code",
   "execution_count": 14,
   "outputs": [
    {
     "data": {
      "text/plain": "array([0.33333333, 1.        ])"
     },
     "execution_count": 14,
     "metadata": {},
     "output_type": "execute_result"
    }
   ],
   "source": [
    "# these are the same as nonzero row duals if all nonbasic variables are slacks\n",
    "# s_N = c_N - c_B A_B^-1 A_N\n",
    "col_duals = -(A_n.T @ row_duals - c_n)  # use the column duals when decision variable is nonbasic?\n",
    "col_duals"
   ],
   "metadata": {
    "collapsed": false,
    "ExecuteTime": {
     "end_time": "2024-05-31T20:33:48.581264Z",
     "start_time": "2024-05-31T20:33:48.547035Z"
    }
   },
   "id": "f5e3602bf2c6a9fb"
  },
  {
   "cell_type": "markdown",
   "source": [
    "# Calculate Resulting Infeasible Basis Cones from Pivoting Either Slack Variable into Basis"
   ],
   "metadata": {
    "collapsed": false
   },
   "id": "31f7ea93df6c7dd9"
  },
  {
   "cell_type": "code",
   "execution_count": 15,
   "outputs": [],
   "source": [
    "# copy the original model so we can append to it\n",
    "A1, b1, c1 = A0, b0, c0\n",
    "\n",
    "# add the disjunctive constraint x >= 1\n",
    "A1 = np.vstack([A1, np.array([1, 0])])  \n",
    "b1 = np.hstack([b1, 1])"
   ],
   "metadata": {
    "collapsed": false,
    "ExecuteTime": {
     "end_time": "2024-05-31T20:33:52.404115Z",
     "start_time": "2024-05-31T20:33:52.384357Z"
    }
   },
   "id": "793d31119422c3ba"
  },
  {
   "cell_type": "code",
   "execution_count": 16,
   "outputs": [
    {
     "data": {
      "text/plain": "array([[-0. ,  1. ],\n       [-0.5, -2. ]])"
     },
     "execution_count": 16,
     "metadata": {},
     "output_type": "execute_result"
    }
   ],
   "source": [
    "# swap out constraint 0 - this is what we would choose, which is wrong!!\n",
    "A_b, c_b, A_n, c_n, v_basis, c_basis = get_tableau_primitives_after_branching(mdl, A1, slack_idx=0)\n",
    "cone_1 = -(np.linalg.inv(A_b) @ A_n)[:mdl.numVars, :mdl.numVars]\n",
    "cone_1"
   ],
   "metadata": {
    "collapsed": false,
    "ExecuteTime": {
     "end_time": "2024-05-31T20:33:57.007438Z",
     "start_time": "2024-05-31T20:33:56.989435Z"
    }
   },
   "id": "9ee65dafce774bec"
  },
  {
   "cell_type": "code",
   "execution_count": 17,
   "outputs": [
    {
     "data": {
      "text/plain": "array([ 1. , -0.5, -1.5])"
     },
     "execution_count": 17,
     "metadata": {},
     "output_type": "execute_result"
    }
   ],
   "source": [
    "np.linalg.inv(A_b) @ b1"
   ],
   "metadata": {
    "collapsed": false,
    "ExecuteTime": {
     "end_time": "2024-05-31T20:34:21.907580Z",
     "start_time": "2024-05-31T20:34:21.882299Z"
    }
   },
   "id": "dff1b7098bef78e7"
  },
  {
   "cell_type": "code",
   "execution_count": 18,
   "outputs": [
    {
     "data": {
      "text/plain": "array([[-0.        ,  1.        ],\n       [ 0.33333333, -1.        ]])"
     },
     "execution_count": 18,
     "metadata": {},
     "output_type": "execute_result"
    }
   ],
   "source": [
    "# swap out constraint 1 slack in nonbasis - i.e. make it slack\n",
    "A_b, c_b, A_n, c_n, v_basis, c_basis = get_tableau_primitives_after_branching(mdl, A1, slack_idx=1)\n",
    "cone_2 = -(np.linalg.inv(A_b) @ A_n)[:mdl.numVars, :mdl.numVars]\n",
    "cone_2"
   ],
   "metadata": {
    "collapsed": false,
    "ExecuteTime": {
     "end_time": "2024-05-31T20:34:34.142773Z",
     "start_time": "2024-05-31T20:34:34.113762Z"
    }
   },
   "id": "a6c85d6eec5f6c4d"
  },
  {
   "cell_type": "code",
   "execution_count": 19,
   "outputs": [
    {
     "data": {
      "text/plain": "array([ 1.,  0., -1.])"
     },
     "execution_count": 19,
     "metadata": {},
     "output_type": "execute_result"
    }
   ],
   "source": [
    "np.linalg.inv(A_b) @ b1"
   ],
   "metadata": {
    "collapsed": false,
    "ExecuteTime": {
     "end_time": "2024-05-31T20:34:35.144955Z",
     "start_time": "2024-05-31T20:34:35.111566Z"
    }
   },
   "id": "26bce99211db3b71"
  },
  {
   "cell_type": "markdown",
   "source": [
    "# Calculate Multipliers of Parent Optimal Basis Cone Generating Each Ray in Infeasible Basis Cone"
   ],
   "metadata": {
    "collapsed": false
   },
   "id": "93f01167f615ab6"
  },
  {
   "cell_type": "markdown",
   "source": [
    "Let $B \\in \\mathbb{Z}^{m}$ and $N \\in \\mathbb{Z}^{n}$ represent the indices of basic and nonbasic variables at a basic solution.\n",
    "Let $R \\in \\mathbb{R}^{n \\times n}$ be such that for $i \\in n$ we have that $R_{i,j} = -(A_B^{-1}A_N)_{i,j}$. I.e. $R_{*,j}$ represents the $j^{\\text{th}}$\n",
    "ray in the basis cone formed by the intersection of constraints active for basis $B$ (which are those whose slack variables' indices are in $N$).\n",
    "\n",
    "Consider $B^1$ and $N^1$ as well as $B^2$ and $N^2$, which are, respectively, the basis and nonbasis for two separate basic solutions, and\n",
    "$R^1$ and $R^2$ as matrices representing their corresponding basis cones. For $j \\in n$, the $j^{\\text{th}}$ ray of basis cone 2, $R^2_{*,j}$,\n",
    "belongs to basis cone 1 if and only if there exists a vector $\\gamma^j \\in \\mathbb{R}^{n}_{\\geq 0}$ such that $R^1\\gamma^j = R^2_{*,j}$, i.e. is a convex\n",
    "combination of the rays defining $R^1$ (this follows from properties of convexity and linear independence of constraints constituting a basis).   \n",
    "\n",
    "Again by linear independence of our bases, $\\gamma^j = (R^1)^{-1} R^2_{*,j}$ is the unique set of multipliers of the rays of basis cone 1 that generate\n",
    "the $j^{\\text{th}}$ ray of basis cone 2. If any of the components of $\\gamma^j$ are negative, then the $j^{\\text{th}}$ ray of basis cone 2 is not\n",
    "contained in basis cone 1, and by extension, basis cone 2 is not a subset of basis cone 1.\n",
    "\n",
    "For ease of implementation, we can compute the multipliers of the rays of basis cone 1 that generate the rays of basis cone 2 by solving the system\n",
    "$\\Gamma = (R^1)^{-1} R^2$, where $\\Gamma_{*,j} = \\gamma^j$, and checking if any of the components of $\\Gamma$ are negative, which we do below."
   ],
   "metadata": {
    "collapsed": false
   },
   "id": "440556f25cba6498"
  },
  {
   "cell_type": "code",
   "execution_count": 20,
   "outputs": [
    {
     "data": {
      "text/plain": "array([[-1.5, -3. ],\n       [ 1. ,  0. ]])"
     },
     "execution_count": 20,
     "metadata": {},
     "output_type": "execute_result"
    }
   ],
   "source": [
    "# get the multipliers of the rays of the parent basis cone that generate the rays of the infeasible child's basis cone\n",
    "a = np.linalg.inv(cone_0) @ cone_1\n",
    "a"
   ],
   "metadata": {
    "collapsed": false,
    "ExecuteTime": {
     "end_time": "2024-05-31T20:35:22.917421Z",
     "start_time": "2024-05-31T20:35:22.894626Z"
    }
   },
   "id": "479ff35bcb499d3"
  },
  {
   "cell_type": "code",
   "execution_count": 20,
   "outputs": [
    {
     "name": "stdout",
     "output_type": "stream",
     "text": [
      "negative multiple/s of parent basis cone ray/s required to generate infeasible basis cone\n",
      "infeasible basis cone is not a subset of parent basis cone\n"
     ]
    }
   ],
   "source": [
    "if (a < -1e-6).any():\n",
    "    print(\"negative multiple/s of parent basis cone ray/s required to generate infeasible basis cone\")\n",
    "    print(\"infeasible basis cone is not a subset of parent basis cone\")"
   ],
   "metadata": {
    "collapsed": false,
    "ExecuteTime": {
     "end_time": "2024-05-28T17:25:18.970124Z",
     "start_time": "2024-05-28T17:25:18.939417Z"
    }
   },
   "id": "e09a6ea64204ca30"
  },
  {
   "cell_type": "markdown",
   "source": [
    "# Check Primal and Dual Feasibility Statuses"
   ],
   "metadata": {
    "collapsed": false
   },
   "id": "7dfc63b8ba24d62d"
  },
  {
   "cell_type": "code",
   "execution_count": 21,
   "outputs": [
    {
     "data": {
      "text/plain": "array([-3.7000000e+00,  1.0000000e+00, -1.8000000e+00,  1.6800000e+01,\n        4.7000000e+00,  3.0000000e+00, -1.3800000e+01, -3.7000000e+00,\n       -8.8817842e-16,  1.3800000e+01,  3.7000000e+00, -1.6800000e+01,\n       -4.7000000e+00, -3.0000000e+00,  1.0000000e+00])"
     },
     "execution_count": 21,
     "metadata": {},
     "output_type": "execute_result"
    }
   ],
   "source": [
    "# check primal feasibility\n",
    "np.linalg.inv(A_b) @ b1"
   ],
   "metadata": {
    "collapsed": false,
    "ExecuteTime": {
     "end_time": "2024-05-28T17:25:21.380231Z",
     "start_time": "2024-05-28T17:25:21.334942Z"
    }
   },
   "id": "b13ca941e35c3947"
  },
  {
   "cell_type": "code",
   "execution_count": 22,
   "outputs": [
    {
     "data": {
      "text/plain": "array([ -0.5       ,  -0.17692308, -71.        ])"
     },
     "execution_count": 22,
     "metadata": {},
     "output_type": "execute_result"
    }
   ],
   "source": [
    "# check dual feasibility\n",
    "np.dot(c_b, np.linalg.inv(A_b) @ A_n) - c_n"
   ],
   "metadata": {
    "collapsed": false,
    "ExecuteTime": {
     "end_time": "2024-05-28T17:25:21.979292Z",
     "start_time": "2024-05-28T17:25:21.949083Z"
    }
   },
   "id": "8377156245dcd047"
  }
 ],
 "metadata": {
  "kernelspec": {
   "display_name": "Python 3",
   "language": "python",
   "name": "python3"
  },
  "language_info": {
   "codemirror_mode": {
    "name": "ipython",
    "version": 2
   },
   "file_extension": ".py",
   "mimetype": "text/x-python",
   "name": "python",
   "nbconvert_exporter": "python",
   "pygments_lexer": "ipython2",
   "version": "2.7.6"
  }
 },
 "nbformat": 4,
 "nbformat_minor": 5
}
