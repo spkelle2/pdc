{
 "cells": [
  {
   "cell_type": "markdown",
   "source": [
    "# Welcome!\n",
    "This notebook demonstrates how to find the basis cone of a LP that becomes infeasible due to the latest branching decision.\n",
    "The demo is broken down as follows:\n",
    "* Define and Solve a Feasible Parent Node's LP\n",
    "* Find the Parent Optimal Basis Cone\n",
    "* Find Basis Closest to Disjunctive Constraint Causing Child to Be Infeasible\n",
    "* Generate Tableau for Basis Closest to Disjunctive Constraint Causing Child to Be Infeasible\n",
    "* Calculate Reduced Costs Relative to Original Objective\n",
    "* Pivot Out Variable with Most Reduced Cost for Slack Variable of Disjunctive Constraint\n",
    "* Calculate Resulting Infeasible Basis Cone\n",
    "* Calculate Multipliers of Parent Optimal Basis Cone Generating Each Ray in Infeasible Basis Cone\n",
    "\n",
    "The parent LP has been chosen such that creating a child node from the branching constraint will result in both an infeasible\n",
    "LP but also a resulting infeasible basis cone that is not a subset of the parent basis cone. This assumes we construct \n",
    "the infeasible basis cone by swapping out the constraint with the greatest reduced cost for the branching constraint.\n"
   ],
   "metadata": {
    "collapsed": false
   },
   "id": "fe8537cc871eb6d2"
  },
  {
   "cell_type": "code",
   "execution_count": 1,
   "outputs": [],
   "source": [
    "from coinor.grumpy.polyhedron2D import Polyhedron2D, Figure\n",
    "import gurobipy as gu\n",
    "import numpy as np"
   ],
   "metadata": {
    "collapsed": false,
    "ExecuteTime": {
     "end_time": "2024-05-28T17:20:45.513072Z",
     "start_time": "2024-05-28T17:20:45.141117Z"
    }
   },
   "id": "initial_id"
  },
  {
   "cell_type": "code",
   "execution_count": 2,
   "outputs": [],
   "source": [
    "# utility function to get the model as np arrays\n",
    "def get_model_arrays(mdl):\n",
    "    \n",
    "    # we assume that the model is Ax >= b\n",
    "    for c in mdl.getConstrs():\n",
    "        if c.sense == gu.GRB.LESS_EQUAL:\n",
    "            c.setAttr(gu.GRB.Attr.Sense, gu.GRB.GREATER_EQUAL)\n",
    "            c.setAttr(gu.GRB.Attr.RHS, -c.rhs)\n",
    "    \n",
    "    # get the constraints\n",
    "    A = mdl.getA().toarray()\n",
    "    b = np.array([c.rhs for c in mdl.getConstrs()])\n",
    "    \n",
    "    # get the finite lower bounds on variables\n",
    "    Dlb, Dlb_0 = np.eye(mdl.numVars), np.array([v.lb for v in mdl.getVars()])\n",
    "    Dlb, Dlb_0 = Dlb[Dlb_0 > -np.inf], Dlb_0[Dlb_0 > -np.inf]\n",
    "    \n",
    "    # get the finite upper bounds on variables\n",
    "    Dub, Dub_0 = -np.eye(mdl.numVars), -np.array([v.ub for v in mdl.getVars()])\n",
    "    Dub, Dub_0 = Dub[Dub_0 > -np.inf], Dub_0[Dub_0 > -np.inf]\n",
    "    \n",
    "    # merge the variable bounds into a single matrix with the constraints\n",
    "    A = np.vstack([A, Dlb, Dub])\n",
    "    b = np.hstack([b, Dlb_0, Dub_0])\n",
    "    \n",
    "    # get the objective function\n",
    "    c = np.array([v.obj for v in mdl.getVars()])\n",
    "    \n",
    "    return A, b, c\n",
    "\n",
    "\n",
    "# utility function to get the disjunctive constraints as np arrays\n",
    "def get_disjunctive_constraint_arrays(mdl):\n",
    "    \n",
    "    # we assume that the model is Ax >= b\n",
    "    for c in mdl.getConstrs():\n",
    "        if c.sense == gu.GRB.LESS_EQUAL:\n",
    "            c.setAttr(gu.GRB.Attr.Sense, gu.GRB.GREATER_EQUAL)\n",
    "            c.setAttr(gu.GRB.Attr.RHS, -c.rhs)\n",
    "    \n",
    "    # get the disjunctive constraints from branching up\n",
    "    Dlb, Dlb_0 = np.eye(mdl.numVars), np.array([v.lb for v in mdl.getVars()])\n",
    "    Dlb, Dlb_0 = Dlb[Dlb_0 > 0], Dlb_0[Dlb_0 > 0]\n",
    "    \n",
    "    # get the disjunctive constraints from branching down\n",
    "    Dub, Dub_0 = -np.eye(mdl.numVars), -np.array([v.ub for v in mdl.getVars()])\n",
    "    Dub, Dub_0 = Dub[Dub_0 > -np.inf], Dub_0[Dub_0 > -np.inf]\n",
    "    \n",
    "    # merge the variable bounds into a single matrix with the constraints\n",
    "    D = np.vstack([Dlb, Dub])\n",
    "    D_0 = np.hstack([Dlb_0, Dub_0])\n",
    "    \n",
    "    return D, D_0\n",
    "\n",
    "def get_tableau_primitives(mdl, original_objective=None):\n",
    "    \n",
    "    if original_objective is not None:\n",
    "        assert len(original_objective) == mdl.numVars, \\\n",
    "            \"original objective must be the same length as the number of variables\"\n",
    "    \n",
    "    # create empty containers to hold basis and nonbasis information\n",
    "    # basis is always m x m since matrix is always m x (n + m)\n",
    "    A_b = np.zeros((mdl.numConstrs, mdl.numConstrs))\n",
    "    A_n = np.zeros((mdl.numConstrs, mdl.numVars))\n",
    "    c_b = np.zeros(mdl.numConstrs)  # always m\n",
    "    c_n = np.zeros(mdl.numVars)  # always n since we have n + m variables and m are basic\n",
    "    k_b, k_n = 0, 0  # counter for the number of basic and nonbasic variables\n",
    "    \n",
    "    # get the necessary model pieces as arrays\n",
    "    A = mdl.getA().toarray()\n",
    "    c = original_objective if original_objective is not None \\\n",
    "        else np.array([v.obj for v in mdl.getVars()])\n",
    "    \n",
    "    # populate it with columns from basic decision variables\n",
    "    for i, v in enumerate(mdl.getVars()):\n",
    "        if v.vBasis == 0:\n",
    "            A_b[:, k_b] = A[:, i]\n",
    "            c_b[k_b] = c[i]\n",
    "            k_b += 1\n",
    "        else:\n",
    "            A_n[:, k_n] = A[:, i]\n",
    "            c_n[k_n] = c[i]\n",
    "            k_n += 1\n",
    "            \n",
    "    # populate it with columns from basic slack variables\n",
    "    for i, c in enumerate(mdl.getConstrs()):\n",
    "        if c.cBasis == 0:\n",
    "            A_b[i, k_b] = -1\n",
    "            c_b[k_b] = 0\n",
    "            k_b += 1\n",
    "        else:\n",
    "            A_n[i, k_n] = -1\n",
    "            c_n[k_n] = 0\n",
    "            k_n += 1\n",
    "    \n",
    "    return A_b, c_b, A_n, c_n"
   ],
   "metadata": {
    "collapsed": false,
    "ExecuteTime": {
     "end_time": "2024-05-28T17:20:46.005792Z",
     "start_time": "2024-05-28T17:20:45.984091Z"
    }
   },
   "id": "f18299c5522e153"
  },
  {
   "cell_type": "markdown",
   "source": [
    "# Define and Solve a Feasible Parent Node's LP"
   ],
   "metadata": {
    "collapsed": false
   },
   "id": "53ef8a9a4a5daf0b"
  },
  {
   "cell_type": "code",
   "execution_count": 3,
   "outputs": [
    {
     "name": "stdout",
     "output_type": "stream",
     "text": [
      "Set parameter Username\n",
      "Academic license - for non-commercial use only - expires 2024-08-31\n",
      "Gurobi Optimizer version 10.0.3 build v10.0.3rc0 (mac64[arm])\n",
      "\n",
      "CPU model: Apple M1\n",
      "Thread count: 8 physical cores, 8 logical processors, using up to 8 threads\n",
      "\n",
      "Optimize a model with 14 rows, 3 columns and 29 nonzeros\n",
      "Model fingerprint: 0xad8611d5\n",
      "Coefficient statistics:\n",
      "  Matrix range     [1e+00, 4e+02]\n",
      "  Objective range  [1e+00, 1e+01]\n",
      "  Bounds range     [0e+00, 0e+00]\n",
      "  RHS range        [1e+00, 3e+02]\n",
      "Presolve removed 5 rows and 0 columns\n",
      "Presolve time: 0.00s\n",
      "Presolved: 9 rows, 5 columns, 24 nonzeros\n",
      "\n",
      "Iteration    Objective       Primal Inf.    Dual Inf.      Time\n",
      "       0   -1.4333333e+01   2.977477e+01   0.000000e+00      0s\n",
      "       2   -1.1000000e+01   0.000000e+00   0.000000e+00      0s\n",
      "\n",
      "Solved in 2 iterations and 0.00 seconds (0.00 work units)\n",
      "Optimal objective -1.100000000e+01\n"
     ]
    },
    {
     "data": {
      "text/plain": "(0.5, 0.5, 1.0)"
     },
     "execution_count": 3,
     "metadata": {},
     "output_type": "execute_result"
    }
   ],
   "source": [
    "mdl = gu.Model(\"lp_minimize\")\n",
    "\n",
    "# Create variables\n",
    "x = mdl.addVar(name=\"x\")\n",
    "y = mdl.addVar(name=\"y\")\n",
    "z = mdl.addVar(name=\"z\")\n",
    "\n",
    "# Set objective function: maximize x + y + 10z\n",
    "mdl.setObjective(-x - y - 10*z, gu.GRB.MINIMIZE)\n",
    "\n",
    "# Add constraints\n",
    "constr_0 = mdl.addConstr(-2*x - 3*z >= -4, \"constr_0\")\n",
    "constr_1 = mdl.addConstr(-x >= -1, \"constr_1\")\n",
    "constr_2 = mdl.addConstr(-2*x + 3*z >= -1, \"constr_2\")\n",
    "constr_3 = mdl.addConstr(2*x + 3*z >= 1, \"constr_3\")\n",
    "constr_4 = mdl.addConstr(x >= 0, \"constr_4\")\n",
    "constr_5 = mdl.addConstr(2*x - 3*z >= -2, \"constr_5\")\n",
    "constr_6 = mdl.addConstr(-2*x - 6*y - 3*z >= -7, \"constr_6\")\n",
    "constr_7 = mdl.addConstr(-x - 2*y >= -2, \"constr_7\")\n",
    "constr_8 = mdl.addConstr(-2*x - 6*y + 3*z >= -4, \"constr_8\")\n",
    "constr_9 = mdl.addConstr(2*x - 6*y + 3*z >= -2, \"constr_9\")\n",
    "constr_10 = mdl.addConstr(x - 2*y >= -1, \"constr_10\")\n",
    "constr_11 = mdl.addConstr(2*x - 6*y - 3*z >= -5, \"constr_11\")\n",
    "constr_12 = mdl.addConstr(y >= 0, \"constr_12\")\n",
    "constr_13 = mdl.addConstr(-390*y - 65*z >= -273, \"constr_13\")  # -10*x to make new basis cone point up\n",
    "\n",
    "mdl.update()\n",
    "\n",
    "# get the model as np arrays\n",
    "A0 = mdl.getA().toarray()\n",
    "b0 = np.array([c.rhs for c in mdl.getConstrs()])\n",
    "c0 = np.array([v.obj for v in mdl.getVars()])\n",
    "\n",
    "# make sure this works\n",
    "mdl.optimize()\n",
    "x.x, y.x, z.x"
   ],
   "metadata": {
    "collapsed": false,
    "ExecuteTime": {
     "end_time": "2024-05-28T17:21:09.562723Z",
     "start_time": "2024-05-28T17:21:09.436160Z"
    }
   },
   "id": "d5d414efc7c6b457"
  },
  {
   "cell_type": "markdown",
   "source": [
    "# Find the Parent Optimal Basis Cone"
   ],
   "metadata": {
    "collapsed": false
   },
   "id": "a7a757132a911706"
  },
  {
   "cell_type": "code",
   "execution_count": 4,
   "outputs": [],
   "source": [
    "# get the tableau primitives for the root optimal basis\n",
    "A_b, c_b, A_n, c_n = get_tableau_primitives(mdl)"
   ],
   "metadata": {
    "collapsed": false,
    "ExecuteTime": {
     "end_time": "2024-05-28T17:21:19.188500Z",
     "start_time": "2024-05-28T17:21:19.173858Z"
    }
   },
   "id": "166ce5a156b9b0fe"
  },
  {
   "cell_type": "code",
   "execution_count": 5,
   "outputs": [
    {
     "data": {
      "text/plain": "([0, 0, 0], [-1, 0, 0, 0, 0, -1, -1, 0, 0, 0, 0, 0, 0, 0])"
     },
     "execution_count": 5,
     "metadata": {},
     "output_type": "execute_result"
    }
   ],
   "source": [
    "# see which decision and slack variables are in the basis (i.e. are not at their bounds - marked by 0 value)\n",
    "mdl.vBasis, mdl.cBasis"
   ],
   "metadata": {
    "collapsed": false,
    "ExecuteTime": {
     "end_time": "2024-05-28T17:21:19.675476Z",
     "start_time": "2024-05-28T17:21:19.657440Z"
    }
   },
   "id": "31ce7c10a73a9c1e"
  },
  {
   "cell_type": "code",
   "execution_count": 6,
   "outputs": [
    {
     "data": {
      "text/plain": "array([[-2.50000000e-01,  2.50000000e-01,  1.18952467e-17],\n       [ 1.66666667e-01,  9.10952225e-18, -1.66666667e-01],\n       [-1.66666667e-01, -1.66666667e-01, -7.93016446e-18]])"
     },
     "execution_count": 6,
     "metadata": {},
     "output_type": "execute_result"
    }
   ],
   "source": [
    "# original basis cone\n",
    "cone_0 = -(np.linalg.inv(A_b) @ A_n)[:mdl.numVars, :mdl.numVars]\n",
    "cone_0"
   ],
   "metadata": {
    "collapsed": false,
    "ExecuteTime": {
     "end_time": "2024-05-28T17:21:21.757441Z",
     "start_time": "2024-05-28T17:21:21.703628Z"
    }
   },
   "id": "2905fc6e14fe897a"
  },
  {
   "cell_type": "markdown",
   "source": [
    "# Find Basis Closest to Disjunctive Constraint Causing Child to Be Infeasible"
   ],
   "metadata": {
    "collapsed": false
   },
   "id": "77fba33c7e25ff15"
  },
  {
   "cell_type": "code",
   "execution_count": 7,
   "outputs": [
    {
     "name": "stdout",
     "output_type": "stream",
     "text": [
      "Gurobi Optimizer version 10.0.3 build v10.0.3rc0 (mac64[arm])\n",
      "\n",
      "CPU model: Apple M1\n",
      "Thread count: 8 physical cores, 8 logical processors, using up to 8 threads\n",
      "\n",
      "Optimize a model with 14 rows, 3 columns and 29 nonzeros\n",
      "Coefficient statistics:\n",
      "  Matrix range     [1e+00, 4e+02]\n",
      "  Objective range  [1e+00, 1e+00]\n",
      "  Bounds range     [0e+00, 0e+00]\n",
      "  RHS range        [1e+00, 3e+02]\n",
      "Iteration    Objective       Primal Inf.    Dual Inf.      Time\n",
      "       0    3.3333333e+29   1.677083e+31   6.666667e-01      0s\n",
      "       4    6.5000000e-01   0.000000e+00   0.000000e+00      0s\n",
      "\n",
      "Solved in 4 iterations and 0.00 seconds (0.00 work units)\n",
      "Optimal objective  6.500000000e-01\n"
     ]
    },
    {
     "data": {
      "text/plain": "(0.5, 0.65, 0.30000000000000004)"
     },
     "execution_count": 7,
     "metadata": {},
     "output_type": "execute_result"
    }
   ],
   "source": [
    "# Set objective function: minimize y\n",
    "mdl.setObjective(y, gu.GRB.MAXIMIZE)\n",
    "\n",
    "# find the new solution\n",
    "mdl.optimize()\n",
    "x.x, y.x, z.x"
   ],
   "metadata": {
    "collapsed": false,
    "ExecuteTime": {
     "end_time": "2024-05-28T17:24:29.293664Z",
     "start_time": "2024-05-28T17:24:29.265452Z"
    }
   },
   "id": "cb27f1ecf7fae334"
  },
  {
   "cell_type": "code",
   "execution_count": 8,
   "outputs": [
    {
     "data": {
      "text/plain": "([0, 0, 0], [0, 0, 0, 0, 0, 0, 0, 0, -1, -1, 0, 0, 0, -1])"
     },
     "execution_count": 8,
     "metadata": {},
     "output_type": "execute_result"
    }
   ],
   "source": [
    "# see which decision and slack variables are in the basis (i.e. are not at their bounds - marked by 0 value)\n",
    "mdl.vBasis, mdl.cBasis"
   ],
   "metadata": {
    "collapsed": false,
    "ExecuteTime": {
     "end_time": "2024-05-28T17:24:32.160643Z",
     "start_time": "2024-05-28T17:24:32.124273Z"
    }
   },
   "id": "d319efef65c65b25"
  },
  {
   "cell_type": "markdown",
   "source": [
    "# Generate Tableau for Basis Closest to Disjunctive Constraint Causing Child to Be Infeasible"
   ],
   "metadata": {
    "collapsed": false
   },
   "id": "c655cef89d8b7093"
  },
  {
   "cell_type": "code",
   "execution_count": 9,
   "outputs": [],
   "source": [
    "# get the tableau primitives for basis closest to being feasible for the disjunctive constraint\n",
    "A_b, c_b, A_n, c_n = get_tableau_primitives(mdl, c0)"
   ],
   "metadata": {
    "collapsed": false,
    "ExecuteTime": {
     "end_time": "2024-05-28T17:24:35.471791Z",
     "start_time": "2024-05-28T17:24:35.451459Z"
    }
   },
   "id": "fd1eabeeed313653"
  },
  {
   "cell_type": "code",
   "execution_count": 10,
   "outputs": [
    {
     "data": {
      "text/plain": "array([[ 2.50000000e-01, -2.50000000e-01,  0.00000000e+00],\n       [ 2.08333333e-02,  2.08333333e-02,  1.92307692e-03],\n       [-1.25000000e-01, -1.25000000e-01,  3.84615385e-03],\n       [-1.25000000e-01,  8.75000000e-01, -1.15384615e-02],\n       [-2.50000000e-01,  2.50000000e-01, -4.33680869e-19],\n       [-8.75000000e-01,  1.25000000e-01,  1.15384615e-02],\n       [ 1.25000000e-01, -8.75000000e-01,  1.15384615e-02],\n       [ 2.50000000e-01, -2.50000000e-01,  4.33680869e-19],\n       [ 8.75000000e-01, -1.25000000e-01, -1.15384615e-02],\n       [-2.50000000e-01,  7.50000000e-01, -2.30769231e-02],\n       [-2.91666667e-01,  2.08333333e-01, -3.84615385e-03],\n       [ 2.08333333e-01, -2.91666667e-01, -3.84615385e-03],\n       [ 7.50000000e-01, -2.50000000e-01, -2.30769231e-02],\n       [ 2.08333333e-02,  2.08333333e-02,  1.92307692e-03]])"
     },
     "execution_count": 10,
     "metadata": {},
     "output_type": "execute_result"
    }
   ],
   "source": [
    "# A_B^-1 A_N\n",
    "np.linalg.inv(A_b) @ A_n"
   ],
   "metadata": {
    "collapsed": false,
    "ExecuteTime": {
     "end_time": "2024-05-28T17:24:36.545370Z",
     "start_time": "2024-05-28T17:24:36.514098Z"
    }
   },
   "id": "e77dbff85c63a744"
  },
  {
   "cell_type": "code",
   "execution_count": 11,
   "outputs": [
    {
     "data": {
      "text/plain": "array([0.5 , 0.65, 0.3 , 2.1 , 0.5 , 0.9 , 0.9 , 0.5 , 2.1 , 1.2 , 0.2 ,\n       0.2 , 1.2 , 0.65])"
     },
     "execution_count": 11,
     "metadata": {},
     "output_type": "execute_result"
    }
   ],
   "source": [
    "# x = A_B^-1 b\n",
    "np.linalg.inv(A_b) @ b0"
   ],
   "metadata": {
    "collapsed": false,
    "ExecuteTime": {
     "end_time": "2024-05-28T17:24:41.015832Z",
     "start_time": "2024-05-28T17:24:40.981293Z"
    }
   },
   "id": "12c40b5adbbc1ed"
  },
  {
   "cell_type": "code",
   "execution_count": 12,
   "outputs": [
    {
     "data": {
      "text/plain": "array([ 0.97916667,  1.47916667, -0.04038462])"
     },
     "execution_count": 12,
     "metadata": {},
     "output_type": "execute_result"
    }
   ],
   "source": [
    "# -s_N = c_B A_B^-1 A_N - c_N\n",
    "np.dot(c_b, np.linalg.inv(A_b) @ A_n) - c_n"
   ],
   "metadata": {
    "collapsed": false,
    "ExecuteTime": {
     "end_time": "2024-05-28T17:24:43.922029Z",
     "start_time": "2024-05-28T17:24:43.864911Z"
    }
   },
   "id": "2d0c2ef418619954"
  },
  {
   "cell_type": "markdown",
   "source": [
    "# Calculate Reduced Costs Relative to Original Objective"
   ],
   "metadata": {
    "collapsed": false
   },
   "id": "a305b75c1b73a67"
  },
  {
   "cell_type": "code",
   "execution_count": 13,
   "outputs": [
    {
     "data": {
      "text/plain": "array([-3.39827881e-18,  0.00000000e+00,  0.00000000e+00, -1.35272847e-16,\n        0.00000000e+00, -3.55840713e-20, -1.38777878e-16,  0.00000000e+00,\n       -9.79166667e-01, -1.47916667e+00,  0.00000000e+00,  0.00000000e+00,\n        0.00000000e+00,  4.03846154e-02])"
     },
     "execution_count": 13,
     "metadata": {},
     "output_type": "execute_result"
    }
   ],
   "source": [
    "# here are our reduced costs - makes sense as c2 and c3 are tight\n",
    "# negative reduced cost =>'s tightening the constraint would improve the objective\n",
    "# we want to get rid of the constraint where tightening would improve the objective\n",
    "# therefore, we want to get rid of c2\n",
    "# y = A_B^-T c_B\n",
    "row_duals = np.linalg.inv(A_b.T) @ c_b\n",
    "row_duals"
   ],
   "metadata": {
    "collapsed": false,
    "ExecuteTime": {
     "end_time": "2024-05-28T17:24:54.202900Z",
     "start_time": "2024-05-28T17:24:54.160863Z"
    }
   },
   "id": "45c35b3ec64a73f0"
  },
  {
   "cell_type": "code",
   "execution_count": 14,
   "outputs": [
    {
     "data": {
      "text/plain": "array([-0.97916667, -1.47916667,  0.04038462])"
     },
     "execution_count": 14,
     "metadata": {},
     "output_type": "execute_result"
    }
   ],
   "source": [
    "# these are the same as nonzero row duals if all nonbasic variables are slacks\n",
    "# s_N = c_N - c_B A_B^-1 A_N\n",
    "col_duals = -(A_n.T @ row_duals - c_n)  # use the column duals when decision variable is nonbasic?\n",
    "col_duals"
   ],
   "metadata": {
    "collapsed": false,
    "ExecuteTime": {
     "end_time": "2024-05-28T17:24:55.941518Z",
     "start_time": "2024-05-28T17:24:55.916324Z"
    }
   },
   "id": "f5e3602bf2c6a9fb"
  },
  {
   "cell_type": "code",
   "execution_count": 15,
   "outputs": [
    {
     "name": "stdout",
     "output_type": "stream",
     "text": [
      "replace nonbasic slack var 9\n"
     ]
    }
   ],
   "source": [
    "# want to make sure that the reduced costs are zero for all basic slack variables\n",
    "assert np.all(np.abs(row_duals[np.array(mdl.cbasis) == 0]) < 1e-7), \\\n",
    "    \"all constraints that are slack should have 0 reduced cost\"\n",
    "\n",
    "# get most negative reduced cost for nonbasic decision and slack variables\n",
    "decision_idx = np.argmin(col_duals[np.array(mdl.vbasis) == -1]) if np.any(np.array(mdl.vbasis) == -1) else None\n",
    "decision_rc = col_duals[np.array(mdl.vbasis) == -1][decision_idx] if decision_idx is not None else np.inf\n",
    "slack_idx = np.argmin(row_duals[np.array(mdl.cbasis) == -1]) if np.any(np.array(mdl.cbasis) == -1) else None\n",
    "slack_rc = row_duals[np.array(mdl.cbasis) == -1][slack_idx] if slack_idx is not None else np.inf\n",
    "\n",
    "# print the most negative reduced cost and the variable that corresponds to it over all nonbasic variables\n",
    "nbd_idxs = [i for i, status in enumerate(mdl.vbasis) if status == -1]  # nonbasic decision variable indices\n",
    "nbs_idxs = [i for i, status in enumerate(mdl.cbasis) if status == -1]  # nonbasic slack variable indices\n",
    "replace_slack = decision_rc >= slack_rc\n",
    "if replace_slack:\n",
    "    print(f\"replace nonbasic slack var {nbs_idxs[slack_idx]}\")\n",
    "else:\n",
    "    print(f\"replace nonbasic decision var {nbd_idxs[decision_idx]}\")"
   ],
   "metadata": {
    "collapsed": false,
    "ExecuteTime": {
     "end_time": "2024-05-28T17:24:57.661488Z",
     "start_time": "2024-05-28T17:24:57.623887Z"
    }
   },
   "id": "a94b8077643c6abe"
  },
  {
   "cell_type": "markdown",
   "source": [
    "# Pivot Out Variable with Most Reduced Cost for Slack Variable of Disjunctive Constraint"
   ],
   "metadata": {
    "collapsed": false
   },
   "id": "18bff7c7f5760172"
  },
  {
   "cell_type": "code",
   "execution_count": 16,
   "outputs": [],
   "source": [
    "# copy the original model so we can append to it\n",
    "A1, b1, c1 = A0, b0, c0\n",
    "\n",
    "# add the disjunctive constraint y >= 1\n",
    "A1 = np.vstack([A1, np.array([0, 1, 0])])  \n",
    "b1 = np.hstack([b1, 1])\n",
    "c1 = np.hstack([c1, 0])"
   ],
   "metadata": {
    "collapsed": false,
    "ExecuteTime": {
     "end_time": "2024-05-28T17:25:03.001058Z",
     "start_time": "2024-05-28T17:25:02.979392Z"
    }
   },
   "id": "793d31119422c3ba"
  },
  {
   "cell_type": "code",
   "execution_count": 17,
   "outputs": [],
   "source": [
    "# create empty containers for tableau\n",
    "# basis is always m x m since matrix is always m x (n + m)\n",
    "A_b = np.zeros((mdl.numConstrs + 1, mdl.numConstrs + 1))\n",
    "A_n = np.zeros((mdl.numConstrs + 1, mdl.numVars))\n",
    "c_b = np.zeros(mdl.numConstrs + 1)\n",
    "c_n = np.zeros(mdl.numVars)\n",
    "k_b, k_n = 0, 0  # counter for the number of basic and nonbasic variables\n",
    "v_basis, c_basis = np.zeros(mdl.numVars), np.zeros(mdl.numConstrs + 1)  # basis vector\n",
    "\n",
    "# populate it with columns from basic decision variables\n",
    "for i, v in enumerate(mdl.getVars()):\n",
    "    # either what was already basic or the new decision variable being pivoted in\n",
    "    if v.vBasis == 0 or (not replace_slack and i == nbd_idxs[decision_idx]):\n",
    "        A_b[:, k_b] = A1[:, i]\n",
    "        c_b[k_b] = c1[i]\n",
    "        k_b += 1\n",
    "    else:\n",
    "        A_n[:, k_n] = A1[:, i]\n",
    "        c_n[k_n] = c1[i]\n",
    "        k_n += 1\n",
    "        v_basis[i] = -1\n",
    "        \n",
    "# populate it with columns from basic slack variables\n",
    "for i, c in enumerate(mdl.getConstrs()):\n",
    "    # either what was already basic or the new slack variable being pivoted in\n",
    "    if c.cBasis == 0 or (replace_slack and i == nbs_idxs[slack_idx]):\n",
    "        A_b[i, k_b] = -1\n",
    "        c_b[k_b] = 0\n",
    "        k_b += 1\n",
    "    else:\n",
    "        A_n[i, k_n] = -1\n",
    "        c_n[k_n] = 0\n",
    "        k_n += 1\n",
    "        c_basis[i] = -1\n",
    "    \n",
    "# now forcibly add the disjunctive constraint's slack variable to the nonbasis\n",
    "assert k_b == mdl.numConstrs + 1 and k_n == mdl.numVars - 1, \\\n",
    "    \"the final basis status to fill should be a nonbasic one for the last slack variable\"\n",
    "A_n[mdl.numConstrs, k_n] = -1\n",
    "k_n += 1\n",
    "c_basis[mdl.numConstrs] = -1"
   ],
   "metadata": {
    "collapsed": false,
    "ExecuteTime": {
     "end_time": "2024-05-28T17:25:03.534074Z",
     "start_time": "2024-05-28T17:25:03.511838Z"
    }
   },
   "id": "9ee65dafce774bec"
  },
  {
   "cell_type": "markdown",
   "source": [
    "# Calculate Resulting Infeasible Basis Cone"
   ],
   "metadata": {
    "collapsed": false
   },
   "id": "31f7ea93df6c7dd9"
  },
  {
   "cell_type": "code",
   "execution_count": 18,
   "outputs": [
    {
     "data": {
      "text/plain": "array([[ -0.5       ,  -0.02307692, -12.        ],\n       [ -0.        ,  -0.        ,   1.        ],\n       [ -0.        ,  -0.01538462,  -6.        ]])"
     },
     "execution_count": 18,
     "metadata": {},
     "output_type": "execute_result"
    }
   ],
   "source": [
    "cone_1 = -(np.linalg.inv(A_b) @ A_n)[:mdl.numVars, :mdl.numVars]\n",
    "cone_1"
   ],
   "metadata": {
    "collapsed": false,
    "ExecuteTime": {
     "end_time": "2024-05-28T17:25:09.992414Z",
     "start_time": "2024-05-28T17:25:09.943552Z"
    }
   },
   "id": "8bc0a3acbdd2941f"
  },
  {
   "cell_type": "markdown",
   "source": [
    "# Calculate Multipliers of Parent Optimal Basis Cone Generating Each Ray in Infeasible Basis Cone"
   ],
   "metadata": {
    "collapsed": false
   },
   "id": "93f01167f615ab6"
  },
  {
   "cell_type": "markdown",
   "source": [
    "Let $B \\in \\mathbb{Z}^{m}$ and $N \\in \\mathbb{Z}^{n}$ represent the indices of basic and nonbasic variables at a basic solution.\n",
    "Let $R \\in \\mathbb{R}^{n \\times n}$ be such that for $i \\in n$ we have that $R_{i,j} = -(A_B^{-1}A_N)_{i,j}$. I.e. $R_{*,j}$ represents the $j^{\\text{th}}$\n",
    "ray in the basis cone formed by the intersection of constraints active for basis $B$ (which are those whose slack variables' indices are in $N$).\n",
    "\n",
    "Consider $B^1$ and $N^1$ as well as $B^2$ and $N^2$, which are, respectively, the basis and nonbasis for two separate basic solutions, and\n",
    "$R^1$ and $R^2$ as matrices representing their corresponding basis cones. For $j \\in n$, the $j^{\\text{th}}$ ray of basis cone 2, $R^2_{*,j}$,\n",
    "belongs to basis cone 1 if and only if there exists a vector $\\gamma^j \\in \\mathbb{R}^{n}_{\\geq 0}$ such that $R^1\\gamma^j = R^2_{*,j}$, i.e. is a convex\n",
    "combination of the rays defining $R^1$ (this follows from properties of convexity and linear independence of constraints constituting a basis).   \n",
    "\n",
    "Again by linear independence of our bases, $\\gamma^j = (R^1)^{-1} R^2_{*,j}$ is the unique set of multipliers of the rays of basis cone 1 that generate\n",
    "the $j^{\\text{th}}$ ray of basis cone 2. If any of the components of $\\gamma^j$ are negative, then the $j^{\\text{th}}$ ray of basis cone 2 is not\n",
    "contained in basis cone 1, and by extension, basis cone 2 is not a subset of basis cone 1.\n",
    "\n",
    "For ease of implementation, we can compute the multipliers of the rays of basis cone 1 that generate the rays of basis cone 2 by solving the system\n",
    "$\\Gamma = (R^1)^{-1} R^2$, where $\\Gamma_{*,j} = \\gamma^j$, and checking if any of the components of $\\Gamma$ are negative, which we do below."
   ],
   "metadata": {
    "collapsed": false
   },
   "id": "440556f25cba6498"
  },
  {
   "cell_type": "code",
   "execution_count": 19,
   "outputs": [
    {
     "data": {
      "text/plain": "array([[ 1.00000000e+00,  9.23076923e-02,  4.20000000e+01],\n       [-1.00000000e+00,  2.13504428e-19, -6.00000000e+00],\n       [ 1.00000000e+00,  9.23076923e-02,  3.60000000e+01]])"
     },
     "execution_count": 19,
     "metadata": {},
     "output_type": "execute_result"
    }
   ],
   "source": [
    "# get the multipliers of the rays of the parent basis cone that generate the rays of the infeasible child's basis cone\n",
    "a = np.linalg.inv(cone_0) @ cone_1\n",
    "a"
   ],
   "metadata": {
    "collapsed": false,
    "ExecuteTime": {
     "end_time": "2024-05-28T17:25:16.203609Z",
     "start_time": "2024-05-28T17:25:16.185644Z"
    }
   },
   "id": "479ff35bcb499d3"
  },
  {
   "cell_type": "code",
   "execution_count": 20,
   "outputs": [
    {
     "name": "stdout",
     "output_type": "stream",
     "text": [
      "negative multiple/s of parent basis cone ray/s required to generate infeasible basis cone\n",
      "infeasible basis cone is not a subset of parent basis cone\n"
     ]
    }
   ],
   "source": [
    "if (a < -1e-6).any():\n",
    "    print(\"negative multiple/s of parent basis cone ray/s required to generate infeasible basis cone\")\n",
    "    print(\"infeasible basis cone is not a subset of parent basis cone\")"
   ],
   "metadata": {
    "collapsed": false,
    "ExecuteTime": {
     "end_time": "2024-05-28T17:25:18.970124Z",
     "start_time": "2024-05-28T17:25:18.939417Z"
    }
   },
   "id": "e09a6ea64204ca30"
  },
  {
   "cell_type": "markdown",
   "source": [
    "# Check Primal and Dual Feasibility Statuses"
   ],
   "metadata": {
    "collapsed": false
   },
   "id": "7dfc63b8ba24d62d"
  },
  {
   "cell_type": "code",
   "execution_count": 21,
   "outputs": [
    {
     "data": {
      "text/plain": "array([-3.7000000e+00,  1.0000000e+00, -1.8000000e+00,  1.6800000e+01,\n        4.7000000e+00,  3.0000000e+00, -1.3800000e+01, -3.7000000e+00,\n       -8.8817842e-16,  1.3800000e+01,  3.7000000e+00, -1.6800000e+01,\n       -4.7000000e+00, -3.0000000e+00,  1.0000000e+00])"
     },
     "execution_count": 21,
     "metadata": {},
     "output_type": "execute_result"
    }
   ],
   "source": [
    "# check primal feasibility\n",
    "np.linalg.inv(A_b) @ b1"
   ],
   "metadata": {
    "collapsed": false,
    "ExecuteTime": {
     "end_time": "2024-05-28T17:25:21.380231Z",
     "start_time": "2024-05-28T17:25:21.334942Z"
    }
   },
   "id": "b13ca941e35c3947"
  },
  {
   "cell_type": "code",
   "execution_count": 22,
   "outputs": [
    {
     "data": {
      "text/plain": "array([ -0.5       ,  -0.17692308, -71.        ])"
     },
     "execution_count": 22,
     "metadata": {},
     "output_type": "execute_result"
    }
   ],
   "source": [
    "# check dual feasibility\n",
    "np.dot(c_b, np.linalg.inv(A_b) @ A_n) - c_n"
   ],
   "metadata": {
    "collapsed": false,
    "ExecuteTime": {
     "end_time": "2024-05-28T17:25:21.979292Z",
     "start_time": "2024-05-28T17:25:21.949083Z"
    }
   },
   "id": "8377156245dcd047"
  }
 ],
 "metadata": {
  "kernelspec": {
   "display_name": "Python 3",
   "language": "python",
   "name": "python3"
  },
  "language_info": {
   "codemirror_mode": {
    "name": "ipython",
    "version": 2
   },
   "file_extension": ".py",
   "mimetype": "text/x-python",
   "name": "python",
   "nbconvert_exporter": "python",
   "pygments_lexer": "ipython2",
   "version": "2.7.6"
  }
 },
 "nbformat": 4,
 "nbformat_minor": 5
}
