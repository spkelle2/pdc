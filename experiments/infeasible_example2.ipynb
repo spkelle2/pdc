{
 "cells": [
  {
   "cell_type": "markdown",
   "source": [
    "# Welcome!\n",
    "This notebook demonstrates like the previous one how to find the basis cone of a LP that becomes infeasible due to the latest branching decision.\n",
    "\n",
    "The parent LP has been chosen such that creating a child node from the branching constraint will result in both an infeasible\n",
    "LP but also a resulting infeasible basis cone that is not a subset of the parent basis cone.\n",
    "\n",
    "**This assumes we construct the infeasible basis cone from the parent optimal\n",
    "basis by swapping out the constraint with the greatest reduced cost for the branching constraint.**\n",
    "\n",
    "We do at least get a cone pointing the right direction though by swapping out the constraint with the most reduced cost, though."
   ],
   "metadata": {
    "collapsed": false
   },
   "id": "fe8537cc871eb6d2"
  },
  {
   "cell_type": "code",
   "execution_count": 1,
   "outputs": [],
   "source": [
    "from coinor.grumpy.polyhedron2D import Polyhedron2D, Figure\n",
    "import gurobipy as gu\n",
    "import numpy as np"
   ],
   "metadata": {
    "collapsed": false,
    "ExecuteTime": {
     "end_time": "2024-05-31T19:12:49.671148Z",
     "start_time": "2024-05-31T19:12:49.333268Z"
    }
   },
   "id": "initial_id"
  },
  {
   "cell_type": "code",
   "execution_count": 2,
   "outputs": [],
   "source": [
    "# utility function to get the model as np arrays\n",
    "def get_model_arrays(mdl):\n",
    "    \n",
    "    # we assume that the model is Ax >= b\n",
    "    for c in mdl.getConstrs():\n",
    "        if c.sense == gu.GRB.LESS_EQUAL:\n",
    "            c.setAttr(gu.GRB.Attr.Sense, gu.GRB.GREATER_EQUAL)\n",
    "            c.setAttr(gu.GRB.Attr.RHS, -c.rhs)\n",
    "    \n",
    "    # get the constraints\n",
    "    A = mdl.getA().toarray()\n",
    "    b = np.array([c.rhs for c in mdl.getConstrs()])\n",
    "    \n",
    "    # get the finite lower bounds on variables\n",
    "    Dlb, Dlb_0 = np.eye(mdl.numVars), np.array([v.lb for v in mdl.getVars()])\n",
    "    Dlb, Dlb_0 = Dlb[Dlb_0 > -np.inf], Dlb_0[Dlb_0 > -np.inf]\n",
    "    \n",
    "    # get the finite upper bounds on variables\n",
    "    Dub, Dub_0 = -np.eye(mdl.numVars), -np.array([v.ub for v in mdl.getVars()])\n",
    "    Dub, Dub_0 = Dub[Dub_0 > -np.inf], Dub_0[Dub_0 > -np.inf]\n",
    "    \n",
    "    # merge the variable bounds into a single matrix with the constraints\n",
    "    A = np.vstack([A, Dlb, Dub])\n",
    "    b = np.hstack([b, Dlb_0, Dub_0])\n",
    "    \n",
    "    # get the objective function\n",
    "    c = np.array([v.obj for v in mdl.getVars()])\n",
    "    \n",
    "    return A, b, c\n",
    "\n",
    "\n",
    "# utility function to get the disjunctive constraints as np arrays\n",
    "def get_disjunctive_constraint_arrays(mdl):\n",
    "    \n",
    "    # we assume that the model is Ax >= b\n",
    "    for c in mdl.getConstrs():\n",
    "        if c.sense == gu.GRB.LESS_EQUAL:\n",
    "            c.setAttr(gu.GRB.Attr.Sense, gu.GRB.GREATER_EQUAL)\n",
    "            c.setAttr(gu.GRB.Attr.RHS, -c.rhs)\n",
    "    \n",
    "    # get the disjunctive constraints from branching up\n",
    "    Dlb, Dlb_0 = np.eye(mdl.numVars), np.array([v.lb for v in mdl.getVars()])\n",
    "    Dlb, Dlb_0 = Dlb[Dlb_0 > 0], Dlb_0[Dlb_0 > 0]\n",
    "    \n",
    "    # get the disjunctive constraints from branching down\n",
    "    Dub, Dub_0 = -np.eye(mdl.numVars), -np.array([v.ub for v in mdl.getVars()])\n",
    "    Dub, Dub_0 = Dub[Dub_0 > -np.inf], Dub_0[Dub_0 > -np.inf]\n",
    "    \n",
    "    # merge the variable bounds into a single matrix with the constraints\n",
    "    D = np.vstack([Dlb, Dub])\n",
    "    D_0 = np.hstack([Dlb_0, Dub_0])\n",
    "    \n",
    "    return D, D_0\n",
    "\n",
    "def get_tableau_primitives(mdl, original_objective=None):\n",
    "    \n",
    "    if original_objective is not None:\n",
    "        assert len(original_objective) == mdl.numVars, \\\n",
    "            \"original objective must be the same length as the number of variables\"\n",
    "    \n",
    "    # create empty containers to hold basis and nonbasis information\n",
    "    # basis is always m x m since matrix is always m x (n + m)\n",
    "    A_b = np.zeros((mdl.numConstrs, mdl.numConstrs))\n",
    "    A_n = np.zeros((mdl.numConstrs, mdl.numVars))\n",
    "    c_b = np.zeros(mdl.numConstrs)  # always m\n",
    "    c_n = np.zeros(mdl.numVars)  # always n since we have n + m variables and m are basic\n",
    "    k_b, k_n = 0, 0  # counter for the number of basic and nonbasic variables\n",
    "    \n",
    "    # get the necessary model pieces as arrays\n",
    "    A = mdl.getA().toarray()\n",
    "    c = original_objective if original_objective is not None \\\n",
    "        else np.array([v.obj for v in mdl.getVars()])\n",
    "    \n",
    "    # populate it with columns from basic decision variables\n",
    "    for i, v in enumerate(mdl.getVars()):\n",
    "        if v.vBasis == 0:\n",
    "            A_b[:, k_b] = A[:, i]\n",
    "            c_b[k_b] = c[i]\n",
    "            k_b += 1\n",
    "        else:\n",
    "            A_n[:, k_n] = A[:, i]\n",
    "            c_n[k_n] = c[i]\n",
    "            k_n += 1\n",
    "            \n",
    "    # populate it with columns from basic slack variables\n",
    "    for i, c in enumerate(mdl.getConstrs()):\n",
    "        if c.cBasis == 0:\n",
    "            A_b[i, k_b] = -1\n",
    "            c_b[k_b] = 0\n",
    "            k_b += 1\n",
    "        else:\n",
    "            A_n[i, k_n] = -1\n",
    "            c_n[k_n] = 0\n",
    "            k_n += 1\n",
    "    \n",
    "    return A_b, c_b, A_n, c_n\n",
    "\n",
    "\n",
    "def get_tableau_primitives_after_branching(mdl, A_new, decision_idx=None, slack_idx=None):\n",
    "    \"\"\" pivot a decision or slack variable into the basis to make way for a new\n",
    "    disjunctive constraint's slack variable in nonbasis.\n",
    "    \n",
    "    :param mdl: the parent model \n",
    "    :param A_new: the child matrix after branching\n",
    "    :param decision_idx: decision variable to pivot into basis\n",
    "    :param slack_idx: decision variable to pivot into basis\n",
    "    :return: new primatives for the tableau\n",
    "    \"\"\"\n",
    "    \n",
    "    assert (decision_idx is not None) != (slack_idx is not None), \\\n",
    "        \"must provide the index of exactly one decision or slack variable to pivot in\" \n",
    "    \n",
    "    replace_slack = slack_idx is not None\n",
    "    \n",
    "    # create empty containers for tableau\n",
    "    # basis is always m x m since matrix is always m x (n + m)\n",
    "    A_b = np.zeros((mdl.numConstrs + 1, mdl.numConstrs + 1))\n",
    "    A_n = np.zeros((mdl.numConstrs + 1, mdl.numVars))\n",
    "    c_b = np.zeros(mdl.numConstrs + 1)\n",
    "    c_n = np.zeros(mdl.numVars)\n",
    "    k_b, k_n = 0, 0  # counter for the number of basic and nonbasic variables\n",
    "    v_basis, c_basis = np.zeros(mdl.numVars), np.zeros(mdl.numConstrs + 1)  # basis vector\n",
    "    c = np.array([v.obj for v in mdl.getVars()])\n",
    "    \n",
    "    # populate it with columns from basic decision variables\n",
    "    for i, v in enumerate(mdl.getVars()):\n",
    "        # either what was already basic or the new decision variable being pivoted in\n",
    "        if v.vBasis == 0 or (not replace_slack and i == decision_idx):\n",
    "            A_b[:, k_b] = A_new[:, i]\n",
    "            c_b[k_b] = c[i]\n",
    "            k_b += 1\n",
    "        else:\n",
    "            A_n[:, k_n] = A_new[:, i]\n",
    "            c_n[k_n] = c[i]\n",
    "            k_n += 1\n",
    "            v_basis[i] = -1\n",
    "        \n",
    "    # populate it with columns from basic slack variables\n",
    "    for i, c in enumerate(mdl.getConstrs()):\n",
    "        # either what was already basic or the new slack variable being pivoted in\n",
    "        if c.cBasis == 0 or (replace_slack and i == slack_idx):\n",
    "            A_b[i, k_b] = -1\n",
    "            c_b[k_b] = 0\n",
    "            k_b += 1\n",
    "        else:\n",
    "            A_n[i, k_n] = -1\n",
    "            c_n[k_n] = 0\n",
    "            k_n += 1\n",
    "            c_basis[i] = -1\n",
    "        \n",
    "    # now forcibly add the disjunctive constraint's slack variable to the nonbasis\n",
    "    assert k_b == mdl.numConstrs + 1 and k_n == mdl.numVars - 1, \\\n",
    "        \"the final basis status to fill should be a nonbasic one for the last slack variable\"\n",
    "    A_n[mdl.numConstrs, k_n] = -1\n",
    "    k_n += 1\n",
    "    c_basis[mdl.numConstrs] = -1\n",
    "    \n",
    "    return A_b, c_b, A_n, c_n, v_basis, c_basis"
   ],
   "metadata": {
    "collapsed": false,
    "ExecuteTime": {
     "end_time": "2024-05-31T19:12:49.683694Z",
     "start_time": "2024-05-31T19:12:49.679815Z"
    }
   },
   "id": "f18299c5522e153"
  },
  {
   "cell_type": "markdown",
   "source": [
    "# Define and Solve a Feasible Parent Node's LP"
   ],
   "metadata": {
    "collapsed": false
   },
   "id": "53ef8a9a4a5daf0b"
  },
  {
   "cell_type": "code",
   "execution_count": 3,
   "outputs": [
    {
     "name": "stdout",
     "output_type": "stream",
     "text": [
      "Set parameter Username\n",
      "Academic license - for non-commercial use only - expires 2024-08-31\n",
      "Gurobi Optimizer version 10.0.3 build v10.0.3rc0 (mac64[arm])\n",
      "\n",
      "CPU model: Apple M1\n",
      "Thread count: 8 physical cores, 8 logical processors, using up to 8 threads\n",
      "\n",
      "Optimize a model with 2 rows, 2 columns and 4 nonzeros\n",
      "Model fingerprint: 0x4598a7f9\n",
      "Coefficient statistics:\n",
      "  Matrix range     [1e+00, 1e+00]\n",
      "  Objective range  [1e+00, 2e+00]\n",
      "  Bounds range     [0e+00, 0e+00]\n",
      "  RHS range        [1e+00, 1e+00]\n",
      "Presolve removed 2 rows and 2 columns\n",
      "Presolve time: 0.00s\n",
      "Presolve: All rows and columns removed\n",
      "Iteration    Objective       Primal Inf.    Dual Inf.      Time\n",
      "       0   -5.0000000e-01   0.000000e+00   0.000000e+00      0s\n",
      "\n",
      "Solved in 0 iterations and 0.00 seconds (0.00 work units)\n",
      "Optimal objective -5.000000000e-01\n"
     ]
    },
    {
     "data": {
      "text/plain": "(0.5, 0.5)"
     },
     "execution_count": 3,
     "metadata": {},
     "output_type": "execute_result"
    }
   ],
   "source": [
    "mdl = gu.Model(\"lp_minimize\")\n",
    "\n",
    "# Create variables\n",
    "x = mdl.addVar(name=\"x\")\n",
    "y = mdl.addVar(name=\"y\")\n",
    "\n",
    "# Set objective function: maximize x + y + 10z\n",
    "mdl.setObjective(-2*x + y, gu.GRB.MINIMIZE)\n",
    "\n",
    "# Add constraints\n",
    "constr_0 = mdl.addConstr(-x - y >= -1, \"constr_0\")\n",
    "constr_1 = mdl.addConstr(-x + y >= 0, \"constr_1\")\n",
    "\n",
    "mdl.update()\n",
    "\n",
    "# get the model as np arrays\n",
    "A0 = mdl.getA().toarray()\n",
    "b0 = np.array([c.rhs for c in mdl.getConstrs()])\n",
    "c0 = np.array([v.obj for v in mdl.getVars()])\n",
    "\n",
    "# make sure this works\n",
    "mdl.optimize()\n",
    "x.x, y.x"
   ],
   "metadata": {
    "collapsed": false,
    "ExecuteTime": {
     "end_time": "2024-05-31T19:12:50.388732Z",
     "start_time": "2024-05-31T19:12:50.311579Z"
    }
   },
   "id": "d5d414efc7c6b457"
  },
  {
   "cell_type": "markdown",
   "source": [
    "# Find the Parent Optimal Basis Cone"
   ],
   "metadata": {
    "collapsed": false
   },
   "id": "a7a757132a911706"
  },
  {
   "cell_type": "code",
   "execution_count": 4,
   "outputs": [],
   "source": [
    "# get the tableau primitives for the root optimal basis\n",
    "A_b, c_b, A_n, c_n = get_tableau_primitives(mdl)"
   ],
   "metadata": {
    "collapsed": false,
    "ExecuteTime": {
     "end_time": "2024-05-31T19:12:51.318571Z",
     "start_time": "2024-05-31T19:12:51.308942Z"
    }
   },
   "id": "166ce5a156b9b0fe"
  },
  {
   "cell_type": "code",
   "execution_count": 5,
   "outputs": [
    {
     "data": {
      "text/plain": "([0, 0], [-1, -1])"
     },
     "execution_count": 5,
     "metadata": {},
     "output_type": "execute_result"
    }
   ],
   "source": [
    "# see which decision and slack variables are in the basis (i.e. are not at their bounds - marked by 0 value)\n",
    "mdl.vBasis, mdl.cBasis"
   ],
   "metadata": {
    "collapsed": false,
    "ExecuteTime": {
     "end_time": "2024-05-31T19:12:51.872400Z",
     "start_time": "2024-05-31T19:12:51.859149Z"
    }
   },
   "id": "31ce7c10a73a9c1e"
  },
  {
   "cell_type": "code",
   "execution_count": 6,
   "outputs": [
    {
     "data": {
      "text/plain": "array([[-0.5, -0.5],\n       [-0.5,  0.5]])"
     },
     "execution_count": 6,
     "metadata": {},
     "output_type": "execute_result"
    }
   ],
   "source": [
    "# original basis cone\n",
    "cone_0 = -(np.linalg.inv(A_b) @ A_n)[:mdl.numVars, :mdl.numVars]\n",
    "cone_0"
   ],
   "metadata": {
    "collapsed": false,
    "ExecuteTime": {
     "end_time": "2024-05-31T19:12:52.398339Z",
     "start_time": "2024-05-31T19:12:52.385805Z"
    }
   },
   "id": "2905fc6e14fe897a"
  },
  {
   "cell_type": "markdown",
   "source": [
    "# Calculate Reduced Costs Relative to Original Objective"
   ],
   "metadata": {
    "collapsed": false
   },
   "id": "a305b75c1b73a67"
  },
  {
   "cell_type": "code",
   "execution_count": 7,
   "outputs": [
    {
     "data": {
      "text/plain": "array([0.5, 1.5])"
     },
     "execution_count": 7,
     "metadata": {},
     "output_type": "execute_result"
    }
   ],
   "source": [
    "# here are our reduced costs - makes sense as c2 and c3 are tight\n",
    "# negative (positive) reduced cost =>'s tightening (loosening) the constraint would improve the objective\n",
    "# we want to get rid of the constraint where tightening (loosening, if all positive) would improve the objective\n",
    "# therefore, we want to get rid of c0\n",
    "# y = A_B^-T c_B\n",
    "row_duals = np.linalg.inv(A_b.T) @ c_b\n",
    "row_duals"
   ],
   "metadata": {
    "collapsed": false,
    "ExecuteTime": {
     "end_time": "2024-05-31T19:12:53.401540Z",
     "start_time": "2024-05-31T19:12:53.388078Z"
    }
   },
   "id": "45c35b3ec64a73f0"
  },
  {
   "cell_type": "code",
   "execution_count": 8,
   "outputs": [
    {
     "data": {
      "text/plain": "array([0.5, 1.5])"
     },
     "execution_count": 8,
     "metadata": {},
     "output_type": "execute_result"
    }
   ],
   "source": [
    "# these are the same as nonzero row duals if all nonbasic variables are slacks\n",
    "# s_N = c_N - c_B A_B^-1 A_N\n",
    "col_duals = -(A_n.T @ row_duals - c_n)  # use the column duals when decision variable is nonbasic?\n",
    "col_duals"
   ],
   "metadata": {
    "collapsed": false,
    "ExecuteTime": {
     "end_time": "2024-05-31T19:12:53.989479Z",
     "start_time": "2024-05-31T19:12:53.977686Z"
    }
   },
   "id": "f5e3602bf2c6a9fb"
  },
  {
   "cell_type": "markdown",
   "source": [
    "# Calculate Resulting Infeasible Basis Cones from Pivoting Either Slack Variable into Basis"
   ],
   "metadata": {
    "collapsed": false
   },
   "id": "31f7ea93df6c7dd9"
  },
  {
   "cell_type": "code",
   "execution_count": 9,
   "outputs": [],
   "source": [
    "# copy the original model so we can append to it\n",
    "A1, b1, c1 = A0, b0, c0\n",
    "\n",
    "# add the disjunctive constraint x >= 1\n",
    "A1 = np.vstack([A1, np.array([1, 0])])  \n",
    "b1 = np.hstack([b1, 1])"
   ],
   "metadata": {
    "collapsed": false,
    "ExecuteTime": {
     "end_time": "2024-05-31T19:12:54.907753Z",
     "start_time": "2024-05-31T19:12:54.897351Z"
    }
   },
   "id": "793d31119422c3ba"
  },
  {
   "cell_type": "code",
   "execution_count": 10,
   "outputs": [
    {
     "data": {
      "text/plain": "array([[-0.,  1.],\n       [ 1.,  1.]])"
     },
     "execution_count": 10,
     "metadata": {},
     "output_type": "execute_result"
    }
   ],
   "source": [
    "# swap out constraint 0 - this one has the most reduced cost (want largest negative or smallest positive)\n",
    "A_b, c_b, A_n, c_n, v_basis, c_basis = get_tableau_primitives_after_branching(mdl, A1, slack_idx=0)\n",
    "cone_1 = -(np.linalg.inv(A_b) @ A_n)[:mdl.numVars, :mdl.numVars]\n",
    "cone_1"
   ],
   "metadata": {
    "collapsed": false,
    "ExecuteTime": {
     "end_time": "2024-05-31T19:12:55.477613Z",
     "start_time": "2024-05-31T19:12:55.448862Z"
    }
   },
   "id": "9ee65dafce774bec"
  },
  {
   "cell_type": "code",
   "execution_count": 11,
   "outputs": [
    {
     "data": {
      "text/plain": "array([ 1.,  1., -1.])"
     },
     "execution_count": 11,
     "metadata": {},
     "output_type": "execute_result"
    }
   ],
   "source": [
    "np.linalg.inv(A_b) @ b1"
   ],
   "metadata": {
    "collapsed": false,
    "ExecuteTime": {
     "end_time": "2024-05-31T19:12:55.991354Z",
     "start_time": "2024-05-31T19:12:55.978330Z"
    }
   },
   "id": "dff1b7098bef78e7"
  },
  {
   "cell_type": "code",
   "execution_count": 12,
   "outputs": [
    {
     "data": {
      "text/plain": "array([[-0.,  1.],\n       [-1., -1.]])"
     },
     "execution_count": 12,
     "metadata": {},
     "output_type": "execute_result"
    }
   ],
   "source": [
    "# swap out constraint 1 slack in nonbasis - i.e. make it slack\n",
    "A_b, c_b, A_n, c_n, v_basis, c_basis = get_tableau_primitives_after_branching(mdl, A1, slack_idx=1)\n",
    "cone_2 = -(np.linalg.inv(A_b) @ A_n)[:mdl.numVars, :mdl.numVars]\n",
    "cone_2"
   ],
   "metadata": {
    "collapsed": false,
    "ExecuteTime": {
     "end_time": "2024-05-31T19:12:57.388826Z",
     "start_time": "2024-05-31T19:12:57.365736Z"
    }
   },
   "id": "a6c85d6eec5f6c4d"
  },
  {
   "cell_type": "code",
   "execution_count": 13,
   "outputs": [
    {
     "data": {
      "text/plain": "array([ 1.,  0., -1.])"
     },
     "execution_count": 13,
     "metadata": {},
     "output_type": "execute_result"
    }
   ],
   "source": [
    "np.linalg.inv(A_b) @ b1"
   ],
   "metadata": {
    "collapsed": false,
    "ExecuteTime": {
     "end_time": "2024-05-31T19:12:58.334202Z",
     "start_time": "2024-05-31T19:12:58.305115Z"
    }
   },
   "id": "26bce99211db3b71"
  },
  {
   "cell_type": "markdown",
   "source": [
    "# Calculate Multipliers of Parent Optimal Basis Cone Generating Each Ray in Infeasible Basis Cone"
   ],
   "metadata": {
    "collapsed": false
   },
   "id": "93f01167f615ab6"
  },
  {
   "cell_type": "markdown",
   "source": [
    "Let $B \\in \\mathbb{Z}^{m}$ and $N \\in \\mathbb{Z}^{n}$ represent the indices of basic and nonbasic variables at a basic solution.\n",
    "Let $R \\in \\mathbb{R}^{n \\times n}$ be such that for $i \\in n$ we have that $R_{i,j} = -(A_B^{-1}A_N)_{i,j}$. I.e. $R_{*,j}$ represents the $j^{\\text{th}}$\n",
    "ray in the basis cone formed by the intersection of constraints active for basis $B$ (which are those whose slack variables' indices are in $N$).\n",
    "\n",
    "Consider $B^1$ and $N^1$ as well as $B^2$ and $N^2$, which are, respectively, the basis and nonbasis for two separate basic solutions, and\n",
    "$R^1$ and $R^2$ as matrices representing their corresponding basis cones. For $j \\in n$, the $j^{\\text{th}}$ ray of basis cone 2, $R^2_{*,j}$,\n",
    "belongs to basis cone 1 if and only if there exists a vector $\\gamma^j \\in \\mathbb{R}^{n}_{\\geq 0}$ such that $R^1\\gamma^j = R^2_{*,j}$, i.e. is a convex\n",
    "combination of the rays defining $R^1$ (this follows from properties of convexity and linear independence of constraints constituting a basis).   \n",
    "\n",
    "Again by linear independence of our bases, $\\gamma^j = (R^1)^{-1} R^2_{*,j}$ is the unique set of multipliers of the rays of basis cone 1 that generate\n",
    "the $j^{\\text{th}}$ ray of basis cone 2. If any of the components of $\\gamma^j$ are negative, then the $j^{\\text{th}}$ ray of basis cone 2 is not\n",
    "contained in basis cone 1, and by extension, basis cone 2 is not a subset of basis cone 1.\n",
    "\n",
    "For ease of implementation, we can compute the multipliers of the rays of basis cone 1 that generate the rays of basis cone 2 by solving the system\n",
    "$\\Gamma = (R^1)^{-1} R^2$, where $\\Gamma_{*,j} = \\gamma^j$, and checking if any of the components of $\\Gamma$ are negative, which we do below."
   ],
   "metadata": {
    "collapsed": false
   },
   "id": "440556f25cba6498"
  },
  {
   "cell_type": "code",
   "execution_count": 14,
   "outputs": [
    {
     "data": {
      "text/plain": "array([[-1., -2.],\n       [ 1.,  0.]])"
     },
     "execution_count": 14,
     "metadata": {},
     "output_type": "execute_result"
    }
   ],
   "source": [
    "# get the multipliers of the rays of the parent basis cone that generate the rays of the infeasible child's basis cone\n",
    "np.linalg.inv(cone_0) @ cone_1"
   ],
   "metadata": {
    "collapsed": false,
    "ExecuteTime": {
     "end_time": "2024-05-31T19:13:00.923971Z",
     "start_time": "2024-05-31T19:13:00.899436Z"
    }
   },
   "id": "479ff35bcb499d3"
  },
  {
   "cell_type": "code",
   "execution_count": 15,
   "outputs": [
    {
     "data": {
      "text/plain": "array([[ 1.,  0.],\n       [-1., -2.]])"
     },
     "execution_count": 15,
     "metadata": {},
     "output_type": "execute_result"
    }
   ],
   "source": [
    "np.linalg.inv(cone_0) @ cone_2"
   ],
   "metadata": {
    "collapsed": false,
    "ExecuteTime": {
     "end_time": "2024-05-31T19:13:02.717715Z",
     "start_time": "2024-05-31T19:13:02.695965Z"
    }
   },
   "id": "145e7c4b7f85e"
  },
  {
   "cell_type": "markdown",
   "source": [
    "# Check Primal and Dual Feasibility Statuses"
   ],
   "metadata": {
    "collapsed": false
   },
   "id": "7dfc63b8ba24d62d"
  },
  {
   "cell_type": "code",
   "execution_count": 16,
   "outputs": [
    {
     "data": {
      "text/plain": "array([ 1.,  0., -1.])"
     },
     "execution_count": 16,
     "metadata": {},
     "output_type": "execute_result"
    }
   ],
   "source": [
    "# check primal feasibility\n",
    "np.linalg.inv(A_b) @ b1"
   ],
   "metadata": {
    "collapsed": false,
    "ExecuteTime": {
     "end_time": "2024-05-31T19:14:33.975650Z",
     "start_time": "2024-05-31T19:14:33.951927Z"
    }
   },
   "id": "b13ca941e35c3947"
  },
  {
   "cell_type": "code",
   "execution_count": 17,
   "outputs": [
    {
     "data": {
      "text/plain": "array([1., 3.])"
     },
     "execution_count": 17,
     "metadata": {},
     "output_type": "execute_result"
    }
   ],
   "source": [
    "# check dual feasibility\n",
    "np.dot(c_b, np.linalg.inv(A_b) @ A_n) - c_n"
   ],
   "metadata": {
    "collapsed": false,
    "ExecuteTime": {
     "end_time": "2024-05-31T19:14:38.056270Z",
     "start_time": "2024-05-31T19:14:38.002190Z"
    }
   },
   "id": "8377156245dcd047"
  }
 ],
 "metadata": {
  "kernelspec": {
   "display_name": "Python 3",
   "language": "python",
   "name": "python3"
  },
  "language_info": {
   "codemirror_mode": {
    "name": "ipython",
    "version": 2
   },
   "file_extension": ".py",
   "mimetype": "text/x-python",
   "name": "python",
   "nbconvert_exporter": "python",
   "pygments_lexer": "ipython2",
   "version": "2.7.6"
  }
 },
 "nbformat": 4,
 "nbformat_minor": 5
}
