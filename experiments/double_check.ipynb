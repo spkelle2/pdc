{
 "cells": [
  {
   "cell_type": "code",
   "execution_count": 10,
   "id": "initial_id",
   "metadata": {
    "collapsed": true,
    "ExecuteTime": {
     "end_time": "2023-12-22T23:21:01.040124Z",
     "start_time": "2023-12-22T23:21:00.973390Z"
    }
   },
   "outputs": [],
   "source": [
    "import numpy as np\n",
    "import pandas as pd"
   ]
  },
  {
   "cell_type": "code",
   "execution_count": 12,
   "outputs": [
    {
     "data": {
      "text/plain": "        instance  terms    lpBound New  disjunctiveDualBound New  \\\n0              1      4    6637.188027               6641.585617   \n1              1     16    6637.188027               6644.289771   \n2              1     64    6637.188027               6647.648085   \n3          23588      4    7649.866134               7799.912563   \n4          23588     16    7649.866134               7867.860624   \n..           ...    ...            ...                       ...   \n198  timtab1CUTS     16  618783.684884             624954.797154   \n199  timtab1CUTS     64  618783.684884             632296.230889   \n200      tr12-30      4   25302.209524              25611.359565   \n201      tr12-30     16   25302.209524              26546.641734   \n202      tr12-30     64   25302.209524              27137.949884   \n\n     lpBoundPostVpc New  rootDualBound None  rootDualBound New  \\\n0           6640.550919         6714.074468        6716.532958   \n1           6642.855642         6714.074468        6716.497950   \n2           6641.628977         6714.074468        6708.438499   \n3           7774.120220         7770.367871        7797.326487   \n4           7862.267452         7770.367871        7867.450026   \n..                  ...                 ...                ...   \n198       620366.145397       632895.730479      633658.012677   \n199       630413.602939       632895.730479      633482.153061   \n200        25498.481331       129146.721533      129090.840776   \n201        25805.491566       129146.721533      129090.840776   \n202        25721.798427       129146.721533      129090.840776   \n\n     primalBound None  Root Cuts (New)  Root Cuts (None)  \n0         6742.200022         0.755580          0.732168  \n1         6742.200022         0.755246          0.732168  \n2         6742.200022         0.678498          0.732168  \n3         8090.000000         0.335035          0.273784  \n4         8090.000000         0.494358          0.273784  \n..                ...              ...               ...  \n198     764772.000000         0.101887          0.096666  \n199     764772.000000         0.100682          0.096666  \n200     130596.000000         0.985705          0.986236  \n201     130596.000000         0.985705          0.986236  \n202     130596.000000         0.985705          0.986236  \n\n[203 rows x 10 columns]",
      "text/html": "<div>\n<style scoped>\n    .dataframe tbody tr th:only-of-type {\n        vertical-align: middle;\n    }\n\n    .dataframe tbody tr th {\n        vertical-align: top;\n    }\n\n    .dataframe thead th {\n        text-align: right;\n    }\n</style>\n<table border=\"1\" class=\"dataframe\">\n  <thead>\n    <tr style=\"text-align: right;\">\n      <th></th>\n      <th>instance</th>\n      <th>terms</th>\n      <th>lpBound New</th>\n      <th>disjunctiveDualBound New</th>\n      <th>lpBoundPostVpc New</th>\n      <th>rootDualBound None</th>\n      <th>rootDualBound New</th>\n      <th>primalBound None</th>\n      <th>Root Cuts (New)</th>\n      <th>Root Cuts (None)</th>\n    </tr>\n  </thead>\n  <tbody>\n    <tr>\n      <th>0</th>\n      <td>1</td>\n      <td>4</td>\n      <td>6637.188027</td>\n      <td>6641.585617</td>\n      <td>6640.550919</td>\n      <td>6714.074468</td>\n      <td>6716.532958</td>\n      <td>6742.200022</td>\n      <td>0.755580</td>\n      <td>0.732168</td>\n    </tr>\n    <tr>\n      <th>1</th>\n      <td>1</td>\n      <td>16</td>\n      <td>6637.188027</td>\n      <td>6644.289771</td>\n      <td>6642.855642</td>\n      <td>6714.074468</td>\n      <td>6716.497950</td>\n      <td>6742.200022</td>\n      <td>0.755246</td>\n      <td>0.732168</td>\n    </tr>\n    <tr>\n      <th>2</th>\n      <td>1</td>\n      <td>64</td>\n      <td>6637.188027</td>\n      <td>6647.648085</td>\n      <td>6641.628977</td>\n      <td>6714.074468</td>\n      <td>6708.438499</td>\n      <td>6742.200022</td>\n      <td>0.678498</td>\n      <td>0.732168</td>\n    </tr>\n    <tr>\n      <th>3</th>\n      <td>23588</td>\n      <td>4</td>\n      <td>7649.866134</td>\n      <td>7799.912563</td>\n      <td>7774.120220</td>\n      <td>7770.367871</td>\n      <td>7797.326487</td>\n      <td>8090.000000</td>\n      <td>0.335035</td>\n      <td>0.273784</td>\n    </tr>\n    <tr>\n      <th>4</th>\n      <td>23588</td>\n      <td>16</td>\n      <td>7649.866134</td>\n      <td>7867.860624</td>\n      <td>7862.267452</td>\n      <td>7770.367871</td>\n      <td>7867.450026</td>\n      <td>8090.000000</td>\n      <td>0.494358</td>\n      <td>0.273784</td>\n    </tr>\n    <tr>\n      <th>...</th>\n      <td>...</td>\n      <td>...</td>\n      <td>...</td>\n      <td>...</td>\n      <td>...</td>\n      <td>...</td>\n      <td>...</td>\n      <td>...</td>\n      <td>...</td>\n      <td>...</td>\n    </tr>\n    <tr>\n      <th>198</th>\n      <td>timtab1CUTS</td>\n      <td>16</td>\n      <td>618783.684884</td>\n      <td>624954.797154</td>\n      <td>620366.145397</td>\n      <td>632895.730479</td>\n      <td>633658.012677</td>\n      <td>764772.000000</td>\n      <td>0.101887</td>\n      <td>0.096666</td>\n    </tr>\n    <tr>\n      <th>199</th>\n      <td>timtab1CUTS</td>\n      <td>64</td>\n      <td>618783.684884</td>\n      <td>632296.230889</td>\n      <td>630413.602939</td>\n      <td>632895.730479</td>\n      <td>633482.153061</td>\n      <td>764772.000000</td>\n      <td>0.100682</td>\n      <td>0.096666</td>\n    </tr>\n    <tr>\n      <th>200</th>\n      <td>tr12-30</td>\n      <td>4</td>\n      <td>25302.209524</td>\n      <td>25611.359565</td>\n      <td>25498.481331</td>\n      <td>129146.721533</td>\n      <td>129090.840776</td>\n      <td>130596.000000</td>\n      <td>0.985705</td>\n      <td>0.986236</td>\n    </tr>\n    <tr>\n      <th>201</th>\n      <td>tr12-30</td>\n      <td>16</td>\n      <td>25302.209524</td>\n      <td>26546.641734</td>\n      <td>25805.491566</td>\n      <td>129146.721533</td>\n      <td>129090.840776</td>\n      <td>130596.000000</td>\n      <td>0.985705</td>\n      <td>0.986236</td>\n    </tr>\n    <tr>\n      <th>202</th>\n      <td>tr12-30</td>\n      <td>64</td>\n      <td>25302.209524</td>\n      <td>27137.949884</td>\n      <td>25721.798427</td>\n      <td>129146.721533</td>\n      <td>129090.840776</td>\n      <td>130596.000000</td>\n      <td>0.985705</td>\n      <td>0.986236</td>\n    </tr>\n  </tbody>\n</table>\n<p>203 rows × 10 columns</p>\n</div>"
     },
     "execution_count": 12,
     "metadata": {},
     "output_type": "execute_result"
    }
   ],
   "source": [
    "groups = [\"instance\", \"terms\"]\n",
    "fields = [\"lpBound New\", \"disjunctiveDualBound New\", \"lpBoundPostVpc New\", \"rootDualBound None\", \"rootDualBound New\", \"primalBound None\", \"Root Cuts (New)\", \"Root Cuts (None)\"]\n",
    "\n",
    "comp = pd.read_csv(\"/Users/sean/Documents/school/phd/research/warm_starting/vws/experiments/outputs/miplib_5000_gurobi/unperturbed_bound_table.csv\")\n",
    "comp"
   ],
   "metadata": {
    "collapsed": false,
    "ExecuteTime": {
     "end_time": "2023-12-22T23:21:52.414155Z",
     "start_time": "2023-12-22T23:21:52.402958Z"
    }
   },
   "id": "63af19255da9fecc"
  },
  {
   "cell_type": "code",
   "execution_count": 13,
   "outputs": [],
   "source": [
    "adf = pd.read_csv(\"aleks_results.csv\")\n",
    "adf = adf[[\"INSTANCE\", \"disj_terms\", \"LP OBJ\", \"BEST DISJ OBJ\", \"VPC OBJ\", \"AVG REF LAST_CUT_PASS\", \"AVG REF+V LAST_CUT_PASS\", \"ip_obj\"]]\n",
    "adf[\"rcnew\"] = abs(adf[\"AVG REF+V LAST_CUT_PASS\"] - adf[\"LP OBJ\"]) / abs(adf[\"ip_obj\"] - adf[\"LP OBJ\"]) \n",
    "adf[\"rcnone\"] = abs(adf[\"AVG REF LAST_CUT_PASS\"] - adf[\"LP OBJ\"]) / abs(adf[\"ip_obj\"] - adf[\"LP OBJ\"])\n",
    "adf.columns = groups + fields\n",
    "adf['instance'] = adf['instance'].str.replace('_presolved', '')\n",
    "adf = adf.loc[(0 <= adf[\"Root Cuts (New)\"]) & (adf[\"Root Cuts (New)\"] <= 1)]"
   ],
   "metadata": {
    "collapsed": false,
    "ExecuteTime": {
     "end_time": "2023-12-22T23:22:13.111328Z",
     "start_time": "2023-12-22T23:22:12.990498Z"
    }
   },
   "id": "b03fecf36faaa1d4"
  },
  {
   "cell_type": "code",
   "execution_count": 14,
   "outputs": [
    {
     "data": {
      "text/plain": "        instance  terms  Root Cuts (New) sean  Root Cuts (None) sean  \\\n0          23588      4              0.335035               0.273784   \n1          23588     16              0.494358               0.273784   \n2         50v-10      4              0.745007               0.730938   \n3         50v-10     16              0.721864               0.730938   \n4         a1c1s1      4              0.890037               0.883432   \n..           ...    ...                   ...                    ...   \n176  timtab1CUTS     16              0.101887               0.096666   \n177  timtab1CUTS     64              0.100682               0.096666   \n178      tr12-30      4              0.985705               0.986236   \n179      tr12-30     16              0.985705               0.986236   \n180      tr12-30     64              0.985705               0.986236   \n\n     Root Cuts (New) aleks  Root Cuts (None) aleks  \n0                 0.318880                0.243813  \n1                 0.487854                0.243813  \n2                 0.744229                0.733697  \n3                 0.741268                0.733697  \n4                 0.887749                0.888510  \n..                     ...                     ...  \n176               0.118558                0.113298  \n177               0.113020                0.113298  \n178               0.983126                0.981713  \n179               0.983126                0.981713  \n180               0.983126                0.981713  \n\n[181 rows x 6 columns]",
      "text/html": "<div>\n<style scoped>\n    .dataframe tbody tr th:only-of-type {\n        vertical-align: middle;\n    }\n\n    .dataframe tbody tr th {\n        vertical-align: top;\n    }\n\n    .dataframe thead th {\n        text-align: right;\n    }\n</style>\n<table border=\"1\" class=\"dataframe\">\n  <thead>\n    <tr style=\"text-align: right;\">\n      <th></th>\n      <th>instance</th>\n      <th>terms</th>\n      <th>Root Cuts (New) sean</th>\n      <th>Root Cuts (None) sean</th>\n      <th>Root Cuts (New) aleks</th>\n      <th>Root Cuts (None) aleks</th>\n    </tr>\n  </thead>\n  <tbody>\n    <tr>\n      <th>0</th>\n      <td>23588</td>\n      <td>4</td>\n      <td>0.335035</td>\n      <td>0.273784</td>\n      <td>0.318880</td>\n      <td>0.243813</td>\n    </tr>\n    <tr>\n      <th>1</th>\n      <td>23588</td>\n      <td>16</td>\n      <td>0.494358</td>\n      <td>0.273784</td>\n      <td>0.487854</td>\n      <td>0.243813</td>\n    </tr>\n    <tr>\n      <th>2</th>\n      <td>50v-10</td>\n      <td>4</td>\n      <td>0.745007</td>\n      <td>0.730938</td>\n      <td>0.744229</td>\n      <td>0.733697</td>\n    </tr>\n    <tr>\n      <th>3</th>\n      <td>50v-10</td>\n      <td>16</td>\n      <td>0.721864</td>\n      <td>0.730938</td>\n      <td>0.741268</td>\n      <td>0.733697</td>\n    </tr>\n    <tr>\n      <th>4</th>\n      <td>a1c1s1</td>\n      <td>4</td>\n      <td>0.890037</td>\n      <td>0.883432</td>\n      <td>0.887749</td>\n      <td>0.888510</td>\n    </tr>\n    <tr>\n      <th>...</th>\n      <td>...</td>\n      <td>...</td>\n      <td>...</td>\n      <td>...</td>\n      <td>...</td>\n      <td>...</td>\n    </tr>\n    <tr>\n      <th>176</th>\n      <td>timtab1CUTS</td>\n      <td>16</td>\n      <td>0.101887</td>\n      <td>0.096666</td>\n      <td>0.118558</td>\n      <td>0.113298</td>\n    </tr>\n    <tr>\n      <th>177</th>\n      <td>timtab1CUTS</td>\n      <td>64</td>\n      <td>0.100682</td>\n      <td>0.096666</td>\n      <td>0.113020</td>\n      <td>0.113298</td>\n    </tr>\n    <tr>\n      <th>178</th>\n      <td>tr12-30</td>\n      <td>4</td>\n      <td>0.985705</td>\n      <td>0.986236</td>\n      <td>0.983126</td>\n      <td>0.981713</td>\n    </tr>\n    <tr>\n      <th>179</th>\n      <td>tr12-30</td>\n      <td>16</td>\n      <td>0.985705</td>\n      <td>0.986236</td>\n      <td>0.983126</td>\n      <td>0.981713</td>\n    </tr>\n    <tr>\n      <th>180</th>\n      <td>tr12-30</td>\n      <td>64</td>\n      <td>0.985705</td>\n      <td>0.986236</td>\n      <td>0.983126</td>\n      <td>0.981713</td>\n    </tr>\n  </tbody>\n</table>\n<p>181 rows × 6 columns</p>\n</div>"
     },
     "execution_count": 14,
     "metadata": {},
     "output_type": "execute_result"
    }
   ],
   "source": [
    "# join comp and adf on instance and terms\n",
    "keep_cols = groups + [\"Root Cuts (New)\", \"Root Cuts (None)\"]\n",
    "diff = comp[keep_cols].merge(adf[keep_cols], on=groups, suffixes=(\" sean\", \" aleks\"))\n",
    "diff"
   ],
   "metadata": {
    "collapsed": false,
    "ExecuteTime": {
     "end_time": "2023-12-22T23:22:14.886745Z",
     "start_time": "2023-12-22T23:22:14.852305Z"
    }
   },
   "id": "5ef10ea9f788f809"
  },
  {
   "cell_type": "code",
   "execution_count": 15,
   "outputs": [
    {
     "data": {
      "text/plain": "       Root Cuts (New) sean  Root Cuts (None) sean  Root Cuts (New) aleks  \\\nterms                                                                       \n4                  0.565090               0.560543               0.565951   \n16                 0.568488               0.562422               0.574225   \n64                 0.567831               0.559230               0.576617   \n\n       Root Cuts (None) aleks  \nterms                          \n4                    0.563010  \n16                   0.562029  \n64                   0.563988  ",
      "text/html": "<div>\n<style scoped>\n    .dataframe tbody tr th:only-of-type {\n        vertical-align: middle;\n    }\n\n    .dataframe tbody tr th {\n        vertical-align: top;\n    }\n\n    .dataframe thead th {\n        text-align: right;\n    }\n</style>\n<table border=\"1\" class=\"dataframe\">\n  <thead>\n    <tr style=\"text-align: right;\">\n      <th></th>\n      <th>Root Cuts (New) sean</th>\n      <th>Root Cuts (None) sean</th>\n      <th>Root Cuts (New) aleks</th>\n      <th>Root Cuts (None) aleks</th>\n    </tr>\n    <tr>\n      <th>terms</th>\n      <th></th>\n      <th></th>\n      <th></th>\n      <th></th>\n    </tr>\n  </thead>\n  <tbody>\n    <tr>\n      <th>4</th>\n      <td>0.565090</td>\n      <td>0.560543</td>\n      <td>0.565951</td>\n      <td>0.563010</td>\n    </tr>\n    <tr>\n      <th>16</th>\n      <td>0.568488</td>\n      <td>0.562422</td>\n      <td>0.574225</td>\n      <td>0.562029</td>\n    </tr>\n    <tr>\n      <th>64</th>\n      <td>0.567831</td>\n      <td>0.559230</td>\n      <td>0.576617</td>\n      <td>0.563988</td>\n    </tr>\n  </tbody>\n</table>\n</div>"
     },
     "execution_count": 15,
     "metadata": {},
     "output_type": "execute_result"
    }
   ],
   "source": [
    "diff[diff.columns[1:]].groupby(\"terms\").mean()"
   ],
   "metadata": {
    "collapsed": false,
    "ExecuteTime": {
     "end_time": "2023-12-22T23:22:22.876334Z",
     "start_time": "2023-12-22T23:22:22.865903Z"
    }
   },
   "id": "613e27b6f98c54c5"
  },
  {
   "cell_type": "code",
   "execution_count": 16,
   "outputs": [
    {
     "data": {
      "text/plain": "Root Cuts (New) sean      0.566773\nRoot Cuts (None) sean     0.560880\nRoot Cuts (New) aleks     0.570887\nRoot Cuts (None) aleks    0.562896\ndtype: float64"
     },
     "execution_count": 16,
     "metadata": {},
     "output_type": "execute_result"
    }
   ],
   "source": [
    "diff[diff.columns[2:]].mean()"
   ],
   "metadata": {
    "collapsed": false,
    "ExecuteTime": {
     "end_time": "2023-12-22T23:22:29.499357Z",
     "start_time": "2023-12-22T23:22:29.472096Z"
    }
   },
   "id": "f5648eb0eb25940c"
  },
  {
   "cell_type": "code",
   "execution_count": 17,
   "outputs": [
    {
     "data": {
      "text/plain": "       Root Cuts (New)  Root Cuts (None)\nterms                                   \n2.0           0.474030          0.465426\n4.0           0.470454          0.460885\n8.0           0.490194          0.467447\n16.0          0.489893          0.455423\n32.0          0.516469          0.462984\n64.0          0.532016          0.468875",
      "text/html": "<div>\n<style scoped>\n    .dataframe tbody tr th:only-of-type {\n        vertical-align: middle;\n    }\n\n    .dataframe tbody tr th {\n        vertical-align: top;\n    }\n\n    .dataframe thead th {\n        text-align: right;\n    }\n</style>\n<table border=\"1\" class=\"dataframe\">\n  <thead>\n    <tr style=\"text-align: right;\">\n      <th></th>\n      <th>Root Cuts (New)</th>\n      <th>Root Cuts (None)</th>\n    </tr>\n    <tr>\n      <th>terms</th>\n      <th></th>\n      <th></th>\n    </tr>\n  </thead>\n  <tbody>\n    <tr>\n      <th>2.0</th>\n      <td>0.474030</td>\n      <td>0.465426</td>\n    </tr>\n    <tr>\n      <th>4.0</th>\n      <td>0.470454</td>\n      <td>0.460885</td>\n    </tr>\n    <tr>\n      <th>8.0</th>\n      <td>0.490194</td>\n      <td>0.467447</td>\n    </tr>\n    <tr>\n      <th>16.0</th>\n      <td>0.489893</td>\n      <td>0.455423</td>\n    </tr>\n    <tr>\n      <th>32.0</th>\n      <td>0.516469</td>\n      <td>0.462984</td>\n    </tr>\n    <tr>\n      <th>64.0</th>\n      <td>0.532016</td>\n      <td>0.468875</td>\n    </tr>\n  </tbody>\n</table>\n</div>"
     },
     "execution_count": 17,
     "metadata": {},
     "output_type": "execute_result"
    }
   ],
   "source": [
    "adf[[\"terms\", \"Root Cuts (New)\", \"Root Cuts (None)\"]].groupby(\"terms\").mean()"
   ],
   "metadata": {
    "collapsed": false,
    "ExecuteTime": {
     "end_time": "2023-12-22T23:22:36.088754Z",
     "start_time": "2023-12-22T23:22:36.069627Z"
    }
   },
   "id": "285fdab9459b4168"
  },
  {
   "cell_type": "code",
   "execution_count": null,
   "outputs": [],
   "source": [],
   "metadata": {
    "collapsed": false
   },
   "id": "aba1b0d59ba436b0"
  }
 ],
 "metadata": {
  "kernelspec": {
   "display_name": "Python 3",
   "language": "python",
   "name": "python3"
  },
  "language_info": {
   "codemirror_mode": {
    "name": "ipython",
    "version": 2
   },
   "file_extension": ".py",
   "mimetype": "text/x-python",
   "name": "python",
   "nbconvert_exporter": "python",
   "pygments_lexer": "ipython2",
   "version": "2.7.6"
  }
 },
 "nbformat": 4,
 "nbformat_minor": 5
}
