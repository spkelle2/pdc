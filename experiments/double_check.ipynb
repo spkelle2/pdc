{
 "cells": [
  {
   "cell_type": "code",
   "execution_count": 6,
   "id": "initial_id",
   "metadata": {
    "collapsed": true,
    "ExecuteTime": {
     "end_time": "2023-12-22T21:49:33.500707Z",
     "start_time": "2023-12-22T21:49:33.481380Z"
    }
   },
   "outputs": [],
   "source": [
    "import pandas as pd\n",
    "import numpy as np"
   ]
  },
  {
   "cell_type": "code",
   "execution_count": 3,
   "outputs": [
    {
     "data": {
      "text/plain": "        instance  terms    lpBound New  disjunctiveDualBound New  \\\n0              1      4    6637.188027               6641.585617   \n1              1     16    6637.188027               6644.289771   \n2              1     64    6637.188027               6647.648085   \n3          23588      4    7649.866134               7799.912563   \n4          23588     16    7649.866134               7867.860624   \n..           ...    ...            ...                       ...   \n198  timtab1CUTS     16  618783.684884             624954.797154   \n199  timtab1CUTS     64  618783.684884             632296.230889   \n200      tr12-30      4   25302.209524              25611.359565   \n201      tr12-30     16   25302.209524              26546.641734   \n202      tr12-30     64   25302.209524              27137.949884   \n\n     lpBoundPostVpc New  rootDualBound None  rootDualBound New  my ratio  \n0           6640.550919         6714.074468        6716.532958  1.000366  \n1           6642.855642         6714.074468        6716.497950  1.000361  \n2           6641.628977         6714.074468        6708.438499  0.999161  \n3           7774.120220         7770.367871        7797.326487  1.003469  \n4           7862.267452         7770.367871        7867.450026  1.012494  \n..                  ...                 ...                ...       ...  \n198       620366.145397       632895.730479      633658.012677  1.001204  \n199       630413.602939       632895.730479      633482.153061  1.000927  \n200        25498.481331       129146.721533      129090.840776  0.999567  \n201        25805.491566       129146.721533      129090.840776  0.999567  \n202        25721.798427       129146.721533      129090.840776  0.999567  \n\n[203 rows x 8 columns]",
      "text/html": "<div>\n<style scoped>\n    .dataframe tbody tr th:only-of-type {\n        vertical-align: middle;\n    }\n\n    .dataframe tbody tr th {\n        vertical-align: top;\n    }\n\n    .dataframe thead th {\n        text-align: right;\n    }\n</style>\n<table border=\"1\" class=\"dataframe\">\n  <thead>\n    <tr style=\"text-align: right;\">\n      <th></th>\n      <th>instance</th>\n      <th>terms</th>\n      <th>lpBound New</th>\n      <th>disjunctiveDualBound New</th>\n      <th>lpBoundPostVpc New</th>\n      <th>rootDualBound None</th>\n      <th>rootDualBound New</th>\n      <th>my ratio</th>\n    </tr>\n  </thead>\n  <tbody>\n    <tr>\n      <th>0</th>\n      <td>1</td>\n      <td>4</td>\n      <td>6637.188027</td>\n      <td>6641.585617</td>\n      <td>6640.550919</td>\n      <td>6714.074468</td>\n      <td>6716.532958</td>\n      <td>1.000366</td>\n    </tr>\n    <tr>\n      <th>1</th>\n      <td>1</td>\n      <td>16</td>\n      <td>6637.188027</td>\n      <td>6644.289771</td>\n      <td>6642.855642</td>\n      <td>6714.074468</td>\n      <td>6716.497950</td>\n      <td>1.000361</td>\n    </tr>\n    <tr>\n      <th>2</th>\n      <td>1</td>\n      <td>64</td>\n      <td>6637.188027</td>\n      <td>6647.648085</td>\n      <td>6641.628977</td>\n      <td>6714.074468</td>\n      <td>6708.438499</td>\n      <td>0.999161</td>\n    </tr>\n    <tr>\n      <th>3</th>\n      <td>23588</td>\n      <td>4</td>\n      <td>7649.866134</td>\n      <td>7799.912563</td>\n      <td>7774.120220</td>\n      <td>7770.367871</td>\n      <td>7797.326487</td>\n      <td>1.003469</td>\n    </tr>\n    <tr>\n      <th>4</th>\n      <td>23588</td>\n      <td>16</td>\n      <td>7649.866134</td>\n      <td>7867.860624</td>\n      <td>7862.267452</td>\n      <td>7770.367871</td>\n      <td>7867.450026</td>\n      <td>1.012494</td>\n    </tr>\n    <tr>\n      <th>...</th>\n      <td>...</td>\n      <td>...</td>\n      <td>...</td>\n      <td>...</td>\n      <td>...</td>\n      <td>...</td>\n      <td>...</td>\n      <td>...</td>\n    </tr>\n    <tr>\n      <th>198</th>\n      <td>timtab1CUTS</td>\n      <td>16</td>\n      <td>618783.684884</td>\n      <td>624954.797154</td>\n      <td>620366.145397</td>\n      <td>632895.730479</td>\n      <td>633658.012677</td>\n      <td>1.001204</td>\n    </tr>\n    <tr>\n      <th>199</th>\n      <td>timtab1CUTS</td>\n      <td>64</td>\n      <td>618783.684884</td>\n      <td>632296.230889</td>\n      <td>630413.602939</td>\n      <td>632895.730479</td>\n      <td>633482.153061</td>\n      <td>1.000927</td>\n    </tr>\n    <tr>\n      <th>200</th>\n      <td>tr12-30</td>\n      <td>4</td>\n      <td>25302.209524</td>\n      <td>25611.359565</td>\n      <td>25498.481331</td>\n      <td>129146.721533</td>\n      <td>129090.840776</td>\n      <td>0.999567</td>\n    </tr>\n    <tr>\n      <th>201</th>\n      <td>tr12-30</td>\n      <td>16</td>\n      <td>25302.209524</td>\n      <td>26546.641734</td>\n      <td>25805.491566</td>\n      <td>129146.721533</td>\n      <td>129090.840776</td>\n      <td>0.999567</td>\n    </tr>\n    <tr>\n      <th>202</th>\n      <td>tr12-30</td>\n      <td>64</td>\n      <td>25302.209524</td>\n      <td>27137.949884</td>\n      <td>25721.798427</td>\n      <td>129146.721533</td>\n      <td>129090.840776</td>\n      <td>0.999567</td>\n    </tr>\n  </tbody>\n</table>\n<p>203 rows × 8 columns</p>\n</div>"
     },
     "execution_count": 3,
     "metadata": {},
     "output_type": "execute_result"
    }
   ],
   "source": [
    "comp = pd.read_csv(\"/Users/sean/Documents/school/phd/research/warm_starting/vws/experiments/outputs/miplib_5000_gurobi/unperturbed_bound_table.csv\")\n",
    "comp"
   ],
   "metadata": {
    "collapsed": false,
    "ExecuteTime": {
     "end_time": "2023-12-22T21:47:57.300981Z",
     "start_time": "2023-12-22T21:47:57.175112Z"
    }
   },
   "id": "2758a7b984e68906"
  },
  {
   "cell_type": "code",
   "execution_count": 4,
   "outputs": [
    {
     "data": {
      "text/plain": "       instance  terms   lpBound New disjunctiveDualBound New  \\\n0         22433    2.0  2.124053e+04              21314.98074   \n1         23588    2.0  7.649866e+03              7746.197749   \n2       10teams    2.0  9.170000e+02                      917   \n3       30n20b8    2.0  1.241230e+02              124.2095421   \n4        50v-10    2.0  2.879066e+03              2884.065687   \n...         ...    ...           ...                      ...   \n2637       vpm1   64.0  1.643333e+01              16.71111111   \n2638       vpm2   64.0  1.113563e+01               11.5093094   \n2639   wachplan   64.0 -9.000000e+00                       -9   \n2640  zib54-UUE   64.0  4.330388e+06              5389605.005   \n2641        NaN    NaN           NaN                      NaN   \n\n      lpBoundPostVpc New  rootDualBound None  rootDualBound New  aleks ratio  \n0           2.131206e+04        2.141369e+04       2.140756e+04     0.999713  \n1           7.726713e+03        7.757177e+03       7.789200e+03     1.004128  \n2           9.170000e+02        9.240000e+02       9.240000e+02     1.000000  \n3           1.241823e+02        1.542021e+02       1.528972e+02     0.991538  \n4           2.884066e+03        3.195241e+03       3.199688e+03     1.001392  \n...                  ...                 ...                ...          ...  \n2637        1.660000e+01        1.886429e+01       1.900595e+01     1.007510  \n2638        1.134045e+01        1.305095e+01       1.305186e+01     1.000070  \n2639                 NaN        0.000000e+00       0.000000e+00          NaN  \n2640        4.850439e+06        8.432754e+06       8.397464e+06     0.995815  \n2641                 NaN                 NaN                NaN          NaN  \n\n[2642 rows x 8 columns]",
      "text/html": "<div>\n<style scoped>\n    .dataframe tbody tr th:only-of-type {\n        vertical-align: middle;\n    }\n\n    .dataframe tbody tr th {\n        vertical-align: top;\n    }\n\n    .dataframe thead th {\n        text-align: right;\n    }\n</style>\n<table border=\"1\" class=\"dataframe\">\n  <thead>\n    <tr style=\"text-align: right;\">\n      <th></th>\n      <th>instance</th>\n      <th>terms</th>\n      <th>lpBound New</th>\n      <th>disjunctiveDualBound New</th>\n      <th>lpBoundPostVpc New</th>\n      <th>rootDualBound None</th>\n      <th>rootDualBound New</th>\n      <th>aleks ratio</th>\n    </tr>\n  </thead>\n  <tbody>\n    <tr>\n      <th>0</th>\n      <td>22433</td>\n      <td>2.0</td>\n      <td>2.124053e+04</td>\n      <td>21314.98074</td>\n      <td>2.131206e+04</td>\n      <td>2.141369e+04</td>\n      <td>2.140756e+04</td>\n      <td>0.999713</td>\n    </tr>\n    <tr>\n      <th>1</th>\n      <td>23588</td>\n      <td>2.0</td>\n      <td>7.649866e+03</td>\n      <td>7746.197749</td>\n      <td>7.726713e+03</td>\n      <td>7.757177e+03</td>\n      <td>7.789200e+03</td>\n      <td>1.004128</td>\n    </tr>\n    <tr>\n      <th>2</th>\n      <td>10teams</td>\n      <td>2.0</td>\n      <td>9.170000e+02</td>\n      <td>917</td>\n      <td>9.170000e+02</td>\n      <td>9.240000e+02</td>\n      <td>9.240000e+02</td>\n      <td>1.000000</td>\n    </tr>\n    <tr>\n      <th>3</th>\n      <td>30n20b8</td>\n      <td>2.0</td>\n      <td>1.241230e+02</td>\n      <td>124.2095421</td>\n      <td>1.241823e+02</td>\n      <td>1.542021e+02</td>\n      <td>1.528972e+02</td>\n      <td>0.991538</td>\n    </tr>\n    <tr>\n      <th>4</th>\n      <td>50v-10</td>\n      <td>2.0</td>\n      <td>2.879066e+03</td>\n      <td>2884.065687</td>\n      <td>2.884066e+03</td>\n      <td>3.195241e+03</td>\n      <td>3.199688e+03</td>\n      <td>1.001392</td>\n    </tr>\n    <tr>\n      <th>...</th>\n      <td>...</td>\n      <td>...</td>\n      <td>...</td>\n      <td>...</td>\n      <td>...</td>\n      <td>...</td>\n      <td>...</td>\n      <td>...</td>\n    </tr>\n    <tr>\n      <th>2637</th>\n      <td>vpm1</td>\n      <td>64.0</td>\n      <td>1.643333e+01</td>\n      <td>16.71111111</td>\n      <td>1.660000e+01</td>\n      <td>1.886429e+01</td>\n      <td>1.900595e+01</td>\n      <td>1.007510</td>\n    </tr>\n    <tr>\n      <th>2638</th>\n      <td>vpm2</td>\n      <td>64.0</td>\n      <td>1.113563e+01</td>\n      <td>11.5093094</td>\n      <td>1.134045e+01</td>\n      <td>1.305095e+01</td>\n      <td>1.305186e+01</td>\n      <td>1.000070</td>\n    </tr>\n    <tr>\n      <th>2639</th>\n      <td>wachplan</td>\n      <td>64.0</td>\n      <td>-9.000000e+00</td>\n      <td>-9</td>\n      <td>NaN</td>\n      <td>0.000000e+00</td>\n      <td>0.000000e+00</td>\n      <td>NaN</td>\n    </tr>\n    <tr>\n      <th>2640</th>\n      <td>zib54-UUE</td>\n      <td>64.0</td>\n      <td>4.330388e+06</td>\n      <td>5389605.005</td>\n      <td>4.850439e+06</td>\n      <td>8.432754e+06</td>\n      <td>8.397464e+06</td>\n      <td>0.995815</td>\n    </tr>\n    <tr>\n      <th>2641</th>\n      <td>NaN</td>\n      <td>NaN</td>\n      <td>NaN</td>\n      <td>NaN</td>\n      <td>NaN</td>\n      <td>NaN</td>\n      <td>NaN</td>\n      <td>NaN</td>\n    </tr>\n  </tbody>\n</table>\n<p>2642 rows × 8 columns</p>\n</div>"
     },
     "execution_count": 4,
     "metadata": {},
     "output_type": "execute_result"
    }
   ],
   "source": [
    "groups = [\"instance\", \"terms\"]\n",
    "fields = [\"lpBound New\", \"disjunctiveDualBound New\", \"lpBoundPostVpc New\", \"rootDualBound None\", \"rootDualBound New\"]\n",
    "\n",
    "adf = pd.read_csv(\"aleks_results.csv\")\n",
    "adf = adf[[\"INSTANCE\", \"disj_terms\", \"LP OBJ\", \"BEST DISJ OBJ\", \"VPC OBJ\", \"AVG REF LAST_CUT_PASS\", \"AVG REF+V LAST_CUT_PASS\"]]\n",
    "adf.columns = groups + fields\n",
    "adf[\"aleks ratio\"] = adf[\"rootDualBound New\"] / adf[\"rootDualBound None\"]\n",
    "adf['instance'] = adf['instance'].str.replace('_presolved', '')\n",
    "adf"
   ],
   "metadata": {
    "collapsed": false,
    "ExecuteTime": {
     "end_time": "2023-12-22T21:48:22.673632Z",
     "start_time": "2023-12-22T21:48:22.565653Z"
    }
   },
   "id": "24b8581288b46005"
  },
  {
   "cell_type": "code",
   "execution_count": 7,
   "outputs": [
    {
     "data": {
      "text/plain": "                     instance  terms  my ratio  aleks ratio\n21                    bienst2      4  1.169338     1.006596\n22                    bienst2     16  1.086287     1.195931\n28   breastcancer-regularized      4  1.280701     1.042262\n29   breastcancer-regularized     16  1.279734     0.925203\n31                    cov1075     16  1.000000     1.034961\n60                   gsvm2rl3      4  1.509963     1.065242\n62                   gsvm2rl3     64  1.267143     1.099603\n91                     misc07     64  1.036042     1.003950\n113        neos-4333464-siret     16  1.040162     0.982945\n114        neos-4333464-siret     64  1.020563     0.988091\n118        neos-4393408-tinui     64  1.006190     1.030661\n144                 ns1830653      4  0.956965     1.011150\n145                 ns1830653     16  0.945642     1.004067\n173             supportcase20      4  0.975189     1.003421\n177                   timtab1      4  1.019303     0.991444\n178                   timtab1     16  1.034678     0.980708\n179                   timtab1     64  1.015229     0.978402",
      "text/html": "<div>\n<style scoped>\n    .dataframe tbody tr th:only-of-type {\n        vertical-align: middle;\n    }\n\n    .dataframe tbody tr th {\n        vertical-align: top;\n    }\n\n    .dataframe thead th {\n        text-align: right;\n    }\n</style>\n<table border=\"1\" class=\"dataframe\">\n  <thead>\n    <tr style=\"text-align: right;\">\n      <th></th>\n      <th>instance</th>\n      <th>terms</th>\n      <th>my ratio</th>\n      <th>aleks ratio</th>\n    </tr>\n  </thead>\n  <tbody>\n    <tr>\n      <th>21</th>\n      <td>bienst2</td>\n      <td>4</td>\n      <td>1.169338</td>\n      <td>1.006596</td>\n    </tr>\n    <tr>\n      <th>22</th>\n      <td>bienst2</td>\n      <td>16</td>\n      <td>1.086287</td>\n      <td>1.195931</td>\n    </tr>\n    <tr>\n      <th>28</th>\n      <td>breastcancer-regularized</td>\n      <td>4</td>\n      <td>1.280701</td>\n      <td>1.042262</td>\n    </tr>\n    <tr>\n      <th>29</th>\n      <td>breastcancer-regularized</td>\n      <td>16</td>\n      <td>1.279734</td>\n      <td>0.925203</td>\n    </tr>\n    <tr>\n      <th>31</th>\n      <td>cov1075</td>\n      <td>16</td>\n      <td>1.000000</td>\n      <td>1.034961</td>\n    </tr>\n    <tr>\n      <th>60</th>\n      <td>gsvm2rl3</td>\n      <td>4</td>\n      <td>1.509963</td>\n      <td>1.065242</td>\n    </tr>\n    <tr>\n      <th>62</th>\n      <td>gsvm2rl3</td>\n      <td>64</td>\n      <td>1.267143</td>\n      <td>1.099603</td>\n    </tr>\n    <tr>\n      <th>91</th>\n      <td>misc07</td>\n      <td>64</td>\n      <td>1.036042</td>\n      <td>1.003950</td>\n    </tr>\n    <tr>\n      <th>113</th>\n      <td>neos-4333464-siret</td>\n      <td>16</td>\n      <td>1.040162</td>\n      <td>0.982945</td>\n    </tr>\n    <tr>\n      <th>114</th>\n      <td>neos-4333464-siret</td>\n      <td>64</td>\n      <td>1.020563</td>\n      <td>0.988091</td>\n    </tr>\n    <tr>\n      <th>118</th>\n      <td>neos-4393408-tinui</td>\n      <td>64</td>\n      <td>1.006190</td>\n      <td>1.030661</td>\n    </tr>\n    <tr>\n      <th>144</th>\n      <td>ns1830653</td>\n      <td>4</td>\n      <td>0.956965</td>\n      <td>1.011150</td>\n    </tr>\n    <tr>\n      <th>145</th>\n      <td>ns1830653</td>\n      <td>16</td>\n      <td>0.945642</td>\n      <td>1.004067</td>\n    </tr>\n    <tr>\n      <th>173</th>\n      <td>supportcase20</td>\n      <td>4</td>\n      <td>0.975189</td>\n      <td>1.003421</td>\n    </tr>\n    <tr>\n      <th>177</th>\n      <td>timtab1</td>\n      <td>4</td>\n      <td>1.019303</td>\n      <td>0.991444</td>\n    </tr>\n    <tr>\n      <th>178</th>\n      <td>timtab1</td>\n      <td>16</td>\n      <td>1.034678</td>\n      <td>0.980708</td>\n    </tr>\n    <tr>\n      <th>179</th>\n      <td>timtab1</td>\n      <td>64</td>\n      <td>1.015229</td>\n      <td>0.978402</td>\n    </tr>\n  </tbody>\n</table>\n</div>"
     },
     "execution_count": 7,
     "metadata": {},
     "output_type": "execute_result"
    }
   ],
   "source": [
    "# join comp and adf on instance and terms\n",
    "diff = comp[groups + [\"my ratio\"]].merge(adf[groups + [\"aleks ratio\"]], on=groups)\n",
    "diff[np.abs(diff[\"my ratio\"] - diff[\"aleks ratio\"]) > .02]"
   ],
   "metadata": {
    "collapsed": false,
    "ExecuteTime": {
     "end_time": "2023-12-22T21:49:36.300836Z",
     "start_time": "2023-12-22T21:49:36.280261Z"
    }
   },
   "id": "788bcb53d50d66b1"
  },
  {
   "cell_type": "code",
   "execution_count": 8,
   "outputs": [
    {
     "data": {
      "text/plain": "       my ratio  aleks ratio\nterms                       \n4      1.011423     1.002317\n16     1.007624     1.004213\n64     1.008820     1.003497",
      "text/html": "<div>\n<style scoped>\n    .dataframe tbody tr th:only-of-type {\n        vertical-align: middle;\n    }\n\n    .dataframe tbody tr th {\n        vertical-align: top;\n    }\n\n    .dataframe thead th {\n        text-align: right;\n    }\n</style>\n<table border=\"1\" class=\"dataframe\">\n  <thead>\n    <tr style=\"text-align: right;\">\n      <th></th>\n      <th>my ratio</th>\n      <th>aleks ratio</th>\n    </tr>\n    <tr>\n      <th>terms</th>\n      <th></th>\n      <th></th>\n    </tr>\n  </thead>\n  <tbody>\n    <tr>\n      <th>4</th>\n      <td>1.011423</td>\n      <td>1.002317</td>\n    </tr>\n    <tr>\n      <th>16</th>\n      <td>1.007624</td>\n      <td>1.004213</td>\n    </tr>\n    <tr>\n      <th>64</th>\n      <td>1.008820</td>\n      <td>1.003497</td>\n    </tr>\n  </tbody>\n</table>\n</div>"
     },
     "execution_count": 8,
     "metadata": {},
     "output_type": "execute_result"
    }
   ],
   "source": [
    "diff[diff.columns[1:]].groupby(\"terms\").mean()"
   ],
   "metadata": {
    "collapsed": false,
    "ExecuteTime": {
     "end_time": "2023-12-22T21:49:50.250286Z",
     "start_time": "2023-12-22T21:49:50.229916Z"
    }
   },
   "id": "8cc9952b76918b53"
  },
  {
   "cell_type": "code",
   "execution_count": 9,
   "outputs": [
    {
     "data": {
      "text/plain": "       aleks ratio\nterms             \n2.0       1.227926\n4.0       1.218641\n8.0       1.231829\n16.0      1.240385\n32.0      1.263117\n64.0      1.034405",
      "text/html": "<div>\n<style scoped>\n    .dataframe tbody tr th:only-of-type {\n        vertical-align: middle;\n    }\n\n    .dataframe tbody tr th {\n        vertical-align: top;\n    }\n\n    .dataframe thead th {\n        text-align: right;\n    }\n</style>\n<table border=\"1\" class=\"dataframe\">\n  <thead>\n    <tr style=\"text-align: right;\">\n      <th></th>\n      <th>aleks ratio</th>\n    </tr>\n    <tr>\n      <th>terms</th>\n      <th></th>\n    </tr>\n  </thead>\n  <tbody>\n    <tr>\n      <th>2.0</th>\n      <td>1.227926</td>\n    </tr>\n    <tr>\n      <th>4.0</th>\n      <td>1.218641</td>\n    </tr>\n    <tr>\n      <th>8.0</th>\n      <td>1.231829</td>\n    </tr>\n    <tr>\n      <th>16.0</th>\n      <td>1.240385</td>\n    </tr>\n    <tr>\n      <th>32.0</th>\n      <td>1.263117</td>\n    </tr>\n    <tr>\n      <th>64.0</th>\n      <td>1.034405</td>\n    </tr>\n  </tbody>\n</table>\n</div>"
     },
     "execution_count": 9,
     "metadata": {},
     "output_type": "execute_result"
    }
   ],
   "source": [
    "adf[[\"terms\", \"aleks ratio\"]].groupby(\"terms\").mean()"
   ],
   "metadata": {
    "collapsed": false,
    "ExecuteTime": {
     "end_time": "2023-12-22T21:50:00.145877Z",
     "start_time": "2023-12-22T21:49:59.996499Z"
    }
   },
   "id": "abc253fa8211bb67"
  },
  {
   "cell_type": "code",
   "execution_count": null,
   "outputs": [],
   "source": [],
   "metadata": {
    "collapsed": false
   },
   "id": "d99e6a500f9a744e"
  }
 ],
 "metadata": {
  "kernelspec": {
   "display_name": "Python 3",
   "language": "python",
   "name": "python3"
  },
  "language_info": {
   "codemirror_mode": {
    "name": "ipython",
    "version": 2
   },
   "file_extension": ".py",
   "mimetype": "text/x-python",
   "name": "python",
   "nbconvert_exporter": "python",
   "pygments_lexer": "ipython2",
   "version": "2.7.6"
  }
 },
 "nbformat": 4,
 "nbformat_minor": 5
}
