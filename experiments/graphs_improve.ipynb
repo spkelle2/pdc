{
 "cells": [
  {
   "cell_type": "code",
   "source": [
    "import gurobipy as gp\n",
    "import math\n",
    "from matplotlib import pyplot as plt\n",
    "from matplotlib.ticker import FuncFormatter, PercentFormatter\n",
    "import numpy as np\n",
    "import pandas as pd\n",
    "import re\n",
    "import os\n",
    "import shutil"
   ],
   "metadata": {
    "collapsed": false,
    "ExecuteTime": {
     "end_time": "2025-04-28T15:58:16.254704Z",
     "start_time": "2025-04-28T15:58:15.620679Z"
    }
   },
   "id": "1cc59124d1d40dc",
   "outputs": [],
   "execution_count": 1
  },
  {
   "metadata": {},
   "cell_type": "code",
   "outputs": [],
   "execution_count": null,
   "source": "# output generation for paper 2",
   "id": "c1e512b5bbea8333"
  },
  {
   "cell_type": "code",
   "source": [
    "# get input paths\n",
    "test_set = \"quick\"\n",
    "instance_fldr = os.path.join(\"instances\", test_set)\n",
    "test_set_fldr = os.path.join(\"test_sets\", test_set)\n",
    "results_fldr = os.path.join(\"results\", test_set)\n",
    "out_fldr = os.path.join(\"outputs\", test_set)\n",
    "\n",
    "# set filters\n",
    "seed_idxs = [0]  \n",
    "max_indices = 11\n",
    "degrees = [0, 2, 4]\n",
    "term_list = [4, 64]\n",
    "filter_cbc = False\n",
    "max_base_std = 1e10\n",
    "min_termination_time = 1\n",
    "short, medium, long = 60, 600, 3600\n",
    "remove_status_changes = False\n",
    "win_threshold = .1\n",
    "\n",
    "generators = [\"None\", \"New\", \"Farkas\", \"All\", \"NoDisjunction\", \"NoMatrix\", \"NoTerm\", \"NoBasis\"]\n",
    "\n",
    "# set up some mappings\n",
    "cat_map_new_lines = {\n",
    "    \"None\": \"Default\",\n",
    "    \"Farkas\": \"Param Disj,\\nParam Cuts\",\n",
    "    \"Old\": \"Param Disj,\\nCalc Cuts\",\n",
    "    \"New\": \"Calc Disj,\\nCalc Cuts\"\n",
    "}\n",
    "cat_map = {\n",
    "    \"None\": \"Default\",\n",
    "    \"Farkas\": \"Param Disj, Param Cuts\",\n",
    "    \"Old\": \"Param Disj, Calc Cuts\",\n",
    "    \"New\": \"Calc Disj, Calc Cuts\"\n",
    "}\n",
    "perturbation_map = {\n",
    "    \"matrix\": \"Coefficient Matrix\",\n",
    "    \"rhs\": \"Right Hand Side\",\n",
    "    \"bounds\": \"Variable Bounds\",\n",
    "    \"objective\": \"Objective\"\n",
    "}\n",
    "label = {\n",
    "    \"postRootTime\": \"Time after Processing Root nodes\",\n",
    "    \"rootDualBoundTimeSansVpc\": \"Root Processing Time (Minus VPC Generation)\",\n",
    "    \"terminationTimeSansVpc\": \"Time (Minus VPC Generation)\",\n",
    "    \"terminationTime\": \"Time\",\n",
    "    \"nodes\": \"Nodes Processed\",\n",
    "    \"iterations\": \"LP iterations\",\n",
    "}\n",
    "unit = {\n",
    "    \"postRootTime\": \"(seconds)\",\n",
    "    \"rootDualBoundTimeSansVpc\": \"(seconds)\",\n",
    "    \"terminationTimeSansVpc\": \"(seconds)\",\n",
    "    \"terminationTime\": \"(seconds)\",\n",
    "    \"nodes\": \"(1000 nodes)\",\n",
    "    \"iterations\": \"(1000 iterations)\",\n",
    "}\n",
    "limits = {\n",
    "    \"postRootTime\": 7200,\n",
    "    \"terminationTimeSansVpc\": 7200,\n",
    "    \"terminationTime\": 7200,\n",
    "    \"rootDualBoundTimeSansVpc\": 5,\n",
    "    \"nodes\": 10000,\n",
    "    \"iterations\": 37500\n",
    "}\n",
    "bracket_bounds = {\n",
    "    \"short\": (min_termination_time, short),\n",
    "    \"medium\": (short, medium),\n",
    "    \"long\": (medium, long)\n",
    "}\n",
    "param_map = {\n",
    "    \"degree\": \"Degree of Perturbation\",\n",
    "    \"terms\": \"Number of Disjunctive Terms\",\n",
    "}"
   ],
   "metadata": {
    "collapsed": false,
    "ExecuteTime": {
     "end_time": "2025-04-28T15:58:16.271376Z",
     "start_time": "2025-04-28T15:58:16.267623Z"
    }
   },
   "id": "7efbc88147f301fa",
   "outputs": [],
   "execution_count": 2
  },
  {
   "metadata": {
    "ExecuteTime": {
     "end_time": "2025-04-28T15:58:16.299790Z",
     "start_time": "2025-04-28T15:58:16.297087Z"
    }
   },
   "cell_type": "code",
   "source": [
    "# matplotlib settings\n",
    "plt.rc('text', usetex=True)  # use latex fonts\n",
    "plt.rcParams['font.size'] = 18\n",
    "plt.rcParams['figure.titlesize'] = 24\n",
    "plt.rcParams['axes.titlesize'] = 20\n",
    "plt.rcParams['axes.labelsize'] = 18\n",
    "plt.rcParams['xtick.labelsize'] = 16\n",
    "plt.rcParams['ytick.labelsize'] = 16\n",
    "plt.rcParams['legend.fontsize'] = 14"
   ],
   "id": "559c07334083a9c",
   "outputs": [],
   "execution_count": 3
  },
  {
   "cell_type": "markdown",
   "source": [
    "## Check run failures"
   ],
   "metadata": {
    "collapsed": false
   },
   "id": "309a347a4f60cab6"
  },
  {
   "cell_type": "code",
   "source": [
    "# check if each folder in test_set_fldr has a corresponding .mps file in instance_fldr\n",
    "# for instance in os.listdir(test_set_fldr):\n",
    "#     if not os.path.isdir(os.path.join(test_set_fldr, instance)):\n",
    "#         continue\n",
    "#     if not os.path.exists(os.path.join(instance_fldr, f\"{instance}.mps\")):\n",
    "#         # remove the folder if the instance is missing\n",
    "#         # shutil.rmtree(os.path.join(test_set_fldr, instance))\n",
    "#         print(f\"Removed {instance} from test set\")"
   ],
   "metadata": {
    "collapsed": false,
    "ExecuteTime": {
     "end_time": "2025-04-28T15:58:16.356204Z",
     "start_time": "2025-04-28T15:58:16.354552Z"
    }
   },
   "id": "81fbacab12d1c5f6",
   "outputs": [],
   "execution_count": 4
  },
  {
   "cell_type": "code",
   "source": [
    "# running list of strings contained by different error codes\n",
    "# last two are catchalls\n",
    "err = {\n",
    "    \"walltime\": [],\n",
    "    \"bad_alloc\": [],\n",
    "    \"out of memory\": [],\n",
    "    \"takeoffcuts\": [],\n",
    "    \"solver is dual infeasible\": [],\n",
    "    \"solver must be optimal\": [],\n",
    "    \"segmentation fault\": [],\n",
    "    \"no vpcs were made from a new disjunction\": [],\n",
    "    \"must have primalbound >= root lp objective\": [],\n",
    "    \"objective at parent nodes\": [],\n",
    "    \"failed to optimize mip\": [],\n",
    "    \"disjunction does not represent a full binary tree\": [],\n",
    "    \"solver not proven optimal for nodes\": [],\n",
    "    \"unable to open\": [],\n",
    "    \"license\": [],\n",
    "    \"dot product with obj differs from solver\": [],\n",
    "    \"gurobi: error during callback: addCut\": [],\n",
    "    \"cglvpc::setupconstraints: objective at disjunctive term\": [],\n",
    "    \"unable to read file\": [],\n",
    "    \"stats.id == stats_vec\": [],\n",
    "    \"size of our disjunction is not what we expected it to be\": [],\n",
    "    \"dimension must stay fixed\": [],\n",
    "    \"vpcgenerator must be\": [],\n",
    "}\n",
    "\n",
    "# read in cbc acceptable instances from cbc.txt\n",
    "with open(\"cbc.txt\", \"r\") as f:\n",
    "    cbc_instances = f.read().split(\"\\n\")\n",
    "\n",
    "# runs that errored out with new error code\n",
    "other = []\n",
    "\n",
    "# runs that had no errors\n",
    "empty = []\n",
    "\n",
    "# runs that only had warnings\n",
    "warn_strs = [\"warning\", \"prlp is primal infeasible\", \"farkas\", \"x:\", \"x[\", \"b:\",\n",
    "             \"b[\", \"v:\", \"v[\", \"cut:\", \"A_i . x\", \"dot product with obj differs from solver\"]\n",
    "warning = []\n",
    "\n",
    "# series that didn't run\n",
    "no_go = []\n",
    "\n",
    "# track sizes of instances\n",
    "rows, cols, density = {}, {}, {}\n",
    "\n",
    "# map the names\n",
    "names = {}\n",
    "\n",
    "# counts\n",
    "count_series = 0\n",
    "count_instances = 0\n",
    "number_instances = {}\n",
    "\n",
    "# iterate over all expected runs\n",
    "for instance in os.listdir(test_set_fldr):\n",
    "    if not os.path.isdir(os.path.join(test_set_fldr, instance)):\n",
    "        continue\n",
    "    # only look at cbc instances if we ran with cbc\n",
    "    if instance not in cbc_instances and \"gurobi\" not in test_set and filter_cbc:\n",
    "        continue\n",
    "        \n",
    "    # get the number of rows and columns in the instance\n",
    "    mdl = gp.read(os.path.join(instance_fldr, f\"{instance}.mps\"))\n",
    "    rows[instance] = mdl.NumConstrs\n",
    "    cols[instance] = mdl.NumVars\n",
    "    density[instance] = mdl.NumNZs / (mdl.NumConstrs * mdl.NumVars)\n",
    "        \n",
    "    for perturbation in os.listdir(os.path.join(test_set_fldr, instance)):\n",
    "        if not os.path.isdir(os.path.join(test_set_fldr, instance, perturbation)):\n",
    "            continue\n",
    "        # only look at perturbations that were run\n",
    "        p, d = perturbation.split(\"_\")\n",
    "        if int(d) not in degrees:\n",
    "            continue\n",
    "        for terms in term_list:\n",
    "            for generator in generators:\n",
    "                for seed_idx in seed_idxs:\n",
    "\n",
    "                    # set variables for this iterations\n",
    "                    count_series += 1\n",
    "                    stem = f\"{instance}_{perturbation}_{terms}_{generator}_{seed_idx}\"\n",
    "                    file_pth = os.path.join(results_fldr, f\"{stem}.err\")\n",
    "                    series_fldr = os.path.join(test_set_fldr, instance, perturbation)\n",
    "                    current_count = len([f for f in os.listdir(series_fldr) if f.endswith(\".mps\")])\n",
    "                    count_instances += current_count\n",
    "                    names[stem] = instance\n",
    "                    number_instances[stem] = {\n",
    "                        \"expected\": current_count,\n",
    "                        \"recorded\": 0,\n",
    "                        \"generator\": generator,\n",
    "                        \"error\": \"N/A\"\n",
    "                    }\n",
    "    \n",
    "                    # check if the series wasn't run\n",
    "                    if not os.path.exists(file_pth):\n",
    "                        number_instances[stem][\"error\"] = \"no go\"\n",
    "                        no_go.append(stem)\n",
    "                    \n",
    "                    # check if the series ran with no errors or warnings\n",
    "                    elif os.path.getsize(file_pth) == 0:\n",
    "                        number_instances[stem][\"error\"] = \"empty\"\n",
    "                        empty.append(stem)\n",
    "                    \n",
    "                    # track which error codes were thrown\n",
    "                    else:\n",
    "                        # read the file\n",
    "                        with open(file_pth, \"r\") as f:\n",
    "                            text = f.read().lower()\n",
    "                        \n",
    "                        # assign the error file to the appropriate list\n",
    "                        found_code = False\n",
    "                        for code in err:\n",
    "                            if code in text:\n",
    "                                if code == \"dot product with obj differs from solver\":\n",
    "                                    pattern = r\"obj viol from solver: (-?\\d+\\.\\d+)\\. calculated: (-?\\d+\\.\\d+)\"\n",
    "                                    s, c = re.findall(pattern, text)[-1]\n",
    "                                    # if we didn't terminate, this isn't an error, so keep going\n",
    "                                    if abs(float(s) - float(c)) < 1e-3:\n",
    "                                        continue\n",
    "                                err[code].append(stem)\n",
    "                                found_code = True\n",
    "                                number_instances[stem][\"error\"] = code\n",
    "                                break\n",
    "                        if not found_code:\n",
    "                            if all(not line or any(w in line for w in warn_strs) for line in text.splitlines()):\n",
    "                                warning.append(stem)\n",
    "                                number_instances[stem][\"error\"] = \"warning\"\n",
    "                            else:\n",
    "                                other.append(stem)\n",
    "                                number_instances[stem][\"error\"] = \"other\""
   ],
   "metadata": {
    "collapsed": false,
    "ExecuteTime": {
     "end_time": "2025-04-28T15:58:17.981603Z",
     "start_time": "2025-04-28T15:58:16.460054Z"
    }
   },
   "id": "bf0cf935eb4aad03",
   "outputs": [
    {
     "name": "stdout",
     "output_type": "stream",
     "text": [
      "Set parameter Username\n",
      "Academic license - for non-commercial use only - expires 2025-08-21\n",
      "Read MPS format model from file instances/quick/neos-574665.mps\n",
      "Reading time = 0.01 seconds\n",
      "neos-574665: 3790 rows, 740 columns, 16792 nonzeros\n",
      "Read MPS format model from file instances/quick/ran13x13.mps\n",
      "Reading time = 0.00 seconds\n",
      "ran13x13: 195 rows, 338 columns, 676 nonzeros\n",
      "Read MPS format model from file instances/quick/neos-1582420.mps\n",
      "Reading time = 0.01 seconds\n",
      "neos-1582420: 10180 rows, 10100 columns, 24814 nonzeros\n",
      "Read MPS format model from file instances/quick/mtest4ma.mps\n",
      "Reading time = 0.00 seconds\n",
      "mtest4ma: 1174 rows, 1950 columns, 4875 nonzeros\n",
      "Read MPS format model from file instances/quick/seymour1.mps\n",
      "Reading time = 0.01 seconds\n",
      "seymour1: 4944 rows, 1372 columns, 33549 nonzeros\n",
      "Read MPS format model from file instances/quick/ic97_tension.mps\n",
      "Reading time = 0.00 seconds\n",
      "ic97_tension: 319 rows, 703 columns, 2070 nonzeros\n",
      "Read MPS format model from file instances/quick/bppc8-09.mps\n",
      "Reading time = 0.01 seconds\n",
      "bppc8-09: 67 rows, 431 columns, 9051 nonzeros\n",
      "Read MPS format model from file instances/quick/h50x2450.mps\n",
      "Reading time = 0.00 seconds\n",
      "h50x2450: 2549 rows, 4900 columns, 12152 nonzeros\n",
      "Read MPS format model from file instances/quick/neos-1445743.mps\n",
      "Reading time = 0.01 seconds\n",
      "neos-1445743: 2148 rows, 20344 columns, 39685 nonzeros\n",
      "Read MPS format model from file instances/quick/neos-5051588-culgoa.mps\n",
      "Reading time = 0.01 seconds\n",
      "neos-5051588-culgoa: 4144 rows, 3918 columns, 31728 nonzeros\n",
      "Read MPS format model from file instances/quick/aligninq.mps\n",
      "Reading time = 0.01 seconds\n",
      "aligninq: 340 rows, 1831 columns, 15734 nonzeros\n",
      "Read MPS format model from file instances/quick/gsvm2rl3.mps\n",
      "Reading time = 0.00 seconds\n",
      "gsvm2rl3: 180 rows, 241 columns, 4020 nonzeros\n",
      "Read MPS format model from file instances/quick/neos-631517.mps\n",
      "Reading time = 0.00 seconds\n",
      "neos-631517: 351 rows, 1090 columns, 2743 nonzeros\n",
      "Read MPS format model from file instances/quick/rout.mps\n",
      "Reading time = 0.00 seconds\n",
      "rout: 291 rows, 556 columns, 2431 nonzeros\n",
      "Read MPS format model from file instances/quick/n7-3.mps\n",
      "Reading time = 0.01 seconds\n",
      "n7-3: 2336 rows, 5626 columns, 22156 nonzeros\n",
      "Read MPS format model from file instances/quick/exp-1-500-5-5.mps\n",
      "Reading time = 0.00 seconds\n",
      "exp-1-500-5-5: 550 rows, 990 columns, 1980 nonzeros\n",
      "Read MPS format model from file instances/quick/sp98ir.mps\n",
      "Reading time = 0.02 seconds\n",
      "sp98ir: 1531 rows, 1680 columns, 71704 nonzeros\n",
      "Read MPS format model from file instances/quick/mc11.mps\n",
      "Reading time = 0.00 seconds\n",
      "mc11: 1920 rows, 3040 columns, 6080 nonzeros\n",
      "Read MPS format model from file instances/quick/pg.mps\n",
      "Reading time = 0.00 seconds\n",
      "pg: 125 rows, 2700 columns, 5200 nonzeros\n",
      "Read MPS format model from file instances/quick/bienst1.mps\n",
      "Reading time = 0.00 seconds\n",
      "bienst1: 576 rows, 505 columns, 2184 nonzeros\n",
      "Read MPS format model from file instances/quick/blp-ir98.mps\n",
      "Reading time = 0.03 seconds\n",
      "blp-ir98: 486 rows, 6097 columns, 79152 nonzeros\n",
      "Read MPS format model from file instances/quick/cap6000.mps\n",
      "Reading time = 0.01 seconds\n",
      "cap6000: 2176 rows, 6000 columns, 48243 nonzeros\n",
      "Read MPS format model from file instances/quick/ran12x21.mps\n",
      "Reading time = 0.00 seconds\n",
      "ran12x21: 285 rows, 504 columns, 1008 nonzeros\n",
      "Read MPS format model from file instances/quick/neos-480878.mps\n",
      "Reading time = 0.01 seconds\n",
      "neos-480878: 1321 rows, 534 columns, 44370 nonzeros\n",
      "Read MPS format model from file instances/quick/neos18.mps\n",
      "Reading time = 0.01 seconds\n",
      "neos18: 11402 rows, 3312 columns, 24614 nonzeros\n",
      "Read MPS format model from file instances/quick/eil33-2.mps\n",
      "Reading time = 0.01 seconds\n",
      "eil33-2: 32 rows, 4516 columns, 44243 nonzeros\n",
      "Read MPS format model from file instances/quick/neos16.mps\n",
      "Reading time = 0.00 seconds\n",
      "neos16: 1018 rows, 377 columns, 2801 nonzeros\n",
      "Read MPS format model from file instances/quick/neos-911970.mps\n",
      "Reading time = 0.00 seconds\n",
      "neos-911970: 107 rows, 888 columns, 3408 nonzeros\n",
      "Read MPS format model from file instances/quick/neos-4650160-yukon.mps\n",
      "Reading time = 0.00 seconds\n",
      "neos-4650160-yukon: 1969 rows, 1412 columns, 6416 nonzeros\n",
      "Read MPS format model from file instances/quick/arki001.mps\n",
      "Reading time = 0.01 seconds\n",
      "arki001: 1048 rows, 1388 columns, 20439 nonzeros\n",
      "Read MPS format model from file instances/quick/neos17.mps\n",
      "Reading time = 0.01 seconds\n",
      "neos17: 486 rows, 535 columns, 4931 nonzeros\n",
      "Read MPS format model from file instances/quick/mas76.mps\n",
      "Reading time = 0.00 seconds\n",
      "mas76: 12 rows, 151 columns, 1640 nonzeros\n",
      "Read MPS format model from file instances/quick/roll3000.mps\n",
      "Reading time = 0.01 seconds\n",
      "roll3000: 2295 rows, 1166 columns, 29386 nonzeros\n",
      "Read MPS format model from file instances/quick/g200x740.mps\n",
      "Reading time = 0.00 seconds\n",
      "g200x740: 940 rows, 1480 columns, 2960 nonzeros\n",
      "Read MPS format model from file instances/quick/binkar10_1.mps\n",
      "Reading time = 0.00 seconds\n",
      "binkar10_1: 1026 rows, 2298 columns, 4496 nonzeros\n",
      "Read MPS format model from file instances/quick/tr12-30.mps\n",
      "Reading time = 0.00 seconds\n",
      "tr12-30: 750 rows, 1080 columns, 2508 nonzeros\n",
      "Read MPS format model from file instances/quick/neos-3754480-nidda.mps\n",
      "Reading time = 0.00 seconds\n",
      "neos-3754480-nidda: 402 rows, 253 columns, 1488 nonzeros\n",
      "Read MPS format model from file instances/quick/qiu.mps\n",
      "Reading time = 0.00 seconds\n",
      "qiu: 1192 rows, 840 columns, 3432 nonzeros\n",
      "Read MPS format model from file instances/quick/aflow30a.mps\n",
      "Reading time = 0.00 seconds\n",
      "aflow30a: 479 rows, 842 columns, 2091 nonzeros\n",
      "Read MPS format model from file instances/quick/pg5_34.mps\n",
      "Reading time = 0.01 seconds\n",
      "pg5_34: 225 rows, 2600 columns, 7700 nonzeros\n",
      "Read MPS format model from file instances/quick/neos-4333596-skien.mps\n",
      "Reading time = 0.00 seconds\n",
      "neos-4333596-skien: 812 rows, 1005 columns, 5811 nonzeros\n",
      "Read MPS format model from file instances/quick/neos-860300.mps\n",
      "Reading time = 0.05 seconds\n",
      "neos-860300: 850 rows, 1385 columns, 384329 nonzeros\n",
      "Read MPS format model from file instances/quick/mc7.mps\n",
      "Reading time = 0.00 seconds\n",
      "mc7: 1920 rows, 3040 columns, 6080 nonzeros\n",
      "Read MPS format model from file instances/quick/neos-4393408-tinui.mps\n",
      "Reading time = 0.01 seconds\n",
      "neos-4393408-tinui: 4554 rows, 4004 columns, 23496 nonzeros\n",
      "Read MPS format model from file instances/quick/mc8.mps\n",
      "Reading time = 0.01 seconds\n",
      "mc8: 1920 rows, 3040 columns, 6080 nonzeros\n",
      "Read MPS format model from file instances/quick/misc07.mps\n",
      "Reading time = 0.00 seconds\n",
      "misc07: 212 rows, 260 columns, 8619 nonzeros\n",
      "Read MPS format model from file instances/quick/neos-3046615-murg.mps\n",
      "Reading time = 0.00 seconds\n",
      "neos-3046615-murg: 498 rows, 274 columns, 1266 nonzeros\n",
      "Read MPS format model from file instances/quick/graphdraw-gemcutter.mps\n",
      "Reading time = 0.00 seconds\n",
      "graphdraw-gemcutter: 474 rows, 166 columns, 1420 nonzeros\n"
     ]
    }
   ],
   "execution_count": 5
  },
  {
   "cell_type": "code",
   "source": [
    "# check which series didn't run\n",
    "print(no_go)"
   ],
   "metadata": {
    "collapsed": false,
    "ExecuteTime": {
     "end_time": "2025-04-28T15:58:18.023131Z",
     "start_time": "2025-04-28T15:58:18.021104Z"
    }
   },
   "id": "e4302c5a43b44547",
   "outputs": [
    {
     "name": "stdout",
     "output_type": "stream",
     "text": [
      "[]\n"
     ]
    }
   ],
   "execution_count": 6
  },
  {
   "cell_type": "code",
   "source": [
    "# get the proportion of series that at least got started\n",
    "1 - (len(no_go) / count_series)"
   ],
   "metadata": {
    "collapsed": false,
    "ExecuteTime": {
     "end_time": "2025-04-28T15:58:18.071234Z",
     "start_time": "2025-04-28T15:58:18.067736Z"
    }
   },
   "id": "5c199c411fd4414c",
   "outputs": [
    {
     "data": {
      "text/plain": [
       "1.0"
      ]
     },
     "execution_count": 7,
     "metadata": {},
     "output_type": "execute_result"
    }
   ],
   "execution_count": 7
  },
  {
   "cell_type": "code",
   "source": [
    "# out of time - got hung up in code somewhere - ok\n",
    "print(err[\"walltime\"])\n",
    "len(err[\"walltime\"]) / count_series"
   ],
   "metadata": {
    "collapsed": false,
    "ExecuteTime": {
     "end_time": "2025-04-28T15:58:18.124587Z",
     "start_time": "2025-04-28T15:58:18.120867Z"
    }
   },
   "id": "2c0c8ca9c8f7caae",
   "outputs": [
    {
     "name": "stdout",
     "output_type": "stream",
     "text": [
      "[]\n"
     ]
    },
    {
     "data": {
      "text/plain": [
       "0.0"
      ]
     },
     "execution_count": 8,
     "metadata": {},
     "output_type": "execute_result"
    }
   ],
   "execution_count": 8
  },
  {
   "cell_type": "code",
   "source": [
    "# out of memory - memory is maxed already - this is what it is\n",
    "# todo: figure out where we ran short on memory so we can explain why we dropped them\n",
    "print(err[\"bad_alloc\"] + err[\"out of memory\"])\n",
    "len(err[\"bad_alloc\"] + err[\"out of memory\"]) / count_series"
   ],
   "metadata": {
    "collapsed": false,
    "ExecuteTime": {
     "end_time": "2025-04-28T15:58:18.248267Z",
     "start_time": "2025-04-28T15:58:18.245523Z"
    }
   },
   "id": "799f9596fe1bb847",
   "outputs": [
    {
     "name": "stdout",
     "output_type": "stream",
     "text": [
      "['mtest4ma_objective_0_64_New_0', 'h50x2450_objective_0_64_New_0', 'h50x2450_objective_0_64_Farkas_0', 'h50x2450_objective_2_64_New_0', 'neos-5051588-culgoa_objective_0_64_New_0', 'neos-5051588-culgoa_objective_2_64_New_0', 'neos-5051588-culgoa_objective_4_64_New_0', 'blp-ir98_rhs_0_64_New_0', 'blp-ir98_rhs_0_64_Farkas_0', 'blp-ir98_objective_0_64_New_0', 'blp-ir98_objective_0_64_Farkas_0', 'blp-ir98_objective_2_64_New_0', 'blp-ir98_objective_2_64_Farkas_0', 'blp-ir98_objective_4_64_New_0', 'blp-ir98_objective_4_64_Farkas_0', 'neos-480878_objective_0_64_New_0', 'neos-480878_objective_2_64_New_0', 'neos18_matrix_0_64_New_0', 'neos18_objective_0_64_New_0', 'neos18_objective_2_64_New_0', 'neos18_objective_4_64_New_0', 'neos-4650160-yukon_objective_0_64_New_0', 'roll3000_objective_0_64_New_0', 'roll3000_objective_2_64_New_0', 'roll3000_objective_4_64_New_0', 'g200x740_objective_0_64_New_0', 'g200x740_objective_2_64_New_0', 'aflow30a_objective_0_64_New_0', 'neos-860300_rhs_0_64_New_0', 'neos-860300_rhs_0_64_Farkas_0', 'neos-860300_objective_0_64_New_0', 'neos-860300_objective_0_64_Farkas_0', 'neos-860300_objective_2_64_New_0', 'neos-860300_objective_2_64_Farkas_0', 'neos-860300_objective_4_64_New_0', 'neos-860300_objective_4_64_Farkas_0', 'neos-4393408-tinui_objective_0_64_New_0', 'neos-4393408-tinui_objective_0_64_Farkas_0', 'neos-4393408-tinui_objective_2_64_New_0', 'neos-4393408-tinui_objective_2_64_Farkas_0', 'misc07_objective_4_64_New_0']\n"
     ]
    },
    {
     "data": {
      "text/plain": [
       "0.0077887537993920975"
      ]
     },
     "execution_count": 9,
     "metadata": {},
     "output_type": "execute_result"
    }
   ],
   "execution_count": 9
  },
  {
   "cell_type": "code",
   "source": [
    "# rerun this if want to give more memory to some instances\n",
    "# bad_alloc_names = set(n.split(\"_\")[0] for n in err[\"bad_alloc\"])\n",
    "# mem = pd.read_csv(\"more_memory.csv\", index_col=0)\n",
    "# mem[\"reason\"] = \"hard solve\" \n",
    "# \n",
    "# for n in bad_alloc_names:\n",
    "#     if f\"{n}.mps\" not in mem.index:\n",
    "#         new_row = pd.DataFrame([{'file_name': f\"{n}.mps\", 'memory': 16.0, 'reason': 'big disjunction'}]).set_index('file_name')\n",
    "#         mem = pd.concat([mem, new_row])\n",
    "#     else:\n",
    "#         mem.loc[f'{n}.mps', 'memory'] = 16.0\n",
    "# \n",
    "# mem.to_csv(\"more_memory.csv\")"
   ],
   "metadata": {
    "collapsed": false,
    "ExecuteTime": {
     "end_time": "2025-04-28T15:58:18.358057Z",
     "start_time": "2025-04-28T15:58:18.356342Z"
    }
   },
   "id": "25b00b07fb8791bf",
   "outputs": [],
   "execution_count": 10
  },
  {
   "cell_type": "code",
   "source": [
    "# this is an issue with John's bookkeeping - not much we can do here\n",
    "print(err[\"takeoffcuts\"])\n",
    "len(err[\"takeoffcuts\"]) / count_series"
   ],
   "metadata": {
    "collapsed": false,
    "ExecuteTime": {
     "end_time": "2025-04-28T15:58:18.399374Z",
     "start_time": "2025-04-28T15:58:18.396576Z"
    }
   },
   "id": "121be7316b7ba6b2",
   "outputs": [
    {
     "name": "stdout",
     "output_type": "stream",
     "text": [
      "[]\n"
     ]
    },
    {
     "data": {
      "text/plain": [
       "0.0"
      ]
     },
     "execution_count": 11,
     "metadata": {},
     "output_type": "execute_result"
    }
   ],
   "execution_count": 11
  },
  {
   "cell_type": "code",
   "source": [
    "print(err[\"solver is dual infeasible\"])\n",
    "len(err[\"solver is dual infeasible\"]) / count_series"
   ],
   "metadata": {
    "collapsed": false,
    "ExecuteTime": {
     "end_time": "2025-04-28T15:58:18.475185Z",
     "start_time": "2025-04-28T15:58:18.472699Z"
    }
   },
   "id": "5c8956abcbdf8b6d",
   "outputs": [
    {
     "name": "stdout",
     "output_type": "stream",
     "text": [
      "[]\n"
     ]
    },
    {
     "data": {
      "text/plain": [
       "0.0"
      ]
     },
     "execution_count": 12,
     "metadata": {},
     "output_type": "execute_result"
    }
   ],
   "execution_count": 12
  },
  {
   "cell_type": "code",
   "source": [
    "# these are usually issues with CLP finding optimality - not much we can do here\n",
    "print(err[\"solver must be optimal\"])\n",
    "len(err[\"solver must be optimal\"]) / count_series"
   ],
   "metadata": {
    "collapsed": false,
    "ExecuteTime": {
     "end_time": "2025-04-28T15:58:18.591619Z",
     "start_time": "2025-04-28T15:58:18.589165Z"
    }
   },
   "id": "72de71ca5f9b047",
   "outputs": [
    {
     "name": "stdout",
     "output_type": "stream",
     "text": [
      "[]\n"
     ]
    },
    {
     "data": {
      "text/plain": [
       "0.0"
      ]
     },
     "execution_count": 13,
     "metadata": {},
     "output_type": "execute_result"
    }
   ],
   "execution_count": 13
  },
  {
   "cell_type": "code",
   "source": [
    "print(err[\"segmentation fault\"])\n",
    "len(err[\"segmentation fault\"]) / count_series"
   ],
   "metadata": {
    "collapsed": false,
    "ExecuteTime": {
     "end_time": "2025-04-28T15:58:18.740536Z",
     "start_time": "2025-04-28T15:58:18.738259Z"
    }
   },
   "id": "fef47bf6e8f3c2d7",
   "outputs": [
    {
     "name": "stdout",
     "output_type": "stream",
     "text": [
      "[]\n"
     ]
    },
    {
     "data": {
      "text/plain": [
       "0.0"
      ]
     },
     "execution_count": 14,
     "metadata": {},
     "output_type": "execute_result"
    }
   ],
   "execution_count": 14
  },
  {
   "cell_type": "code",
   "source": [
    "# seg_err = {\n",
    "#     \"Bad image at line\": [],\n",
    "# }\n",
    "# \n",
    "# seg_other = []\n",
    "# \n",
    "# for stem in err[\"segmentation fault\"]:\n",
    "#     file_pth = os.path.join(results_fldr, f\"{stem}.out\")\n",
    "# \n",
    "#     with open(file_pth, \"r\") as f:\n",
    "#         text = f.read()\n",
    "#     \n",
    "#     # assign the error file to the appropriate list\n",
    "#     found_code = False\n",
    "#     for code in seg_err:\n",
    "#         if code in text:\n",
    "#             seg_err[code].append(stem)\n",
    "#             found_code = True\n",
    "#             break\n",
    "#     if not found_code:\n",
    "#         seg_other.append(stem)"
   ],
   "metadata": {
    "collapsed": false,
    "ExecuteTime": {
     "end_time": "2025-04-28T15:58:18.826487Z",
     "start_time": "2025-04-28T15:58:18.824920Z"
    }
   },
   "id": "e9b3b21e95de2989",
   "outputs": [],
   "execution_count": 15
  },
  {
   "cell_type": "code",
   "source": [
    "# print(seg_err[\"Bad image at line\"])\n",
    "# len(seg_err[\"Bad image at line\"]) / len(err[\"segmentation fault\"]) if err[\"segmentation fault\"] else 0"
   ],
   "metadata": {
    "collapsed": false,
    "ExecuteTime": {
     "end_time": "2025-04-28T15:58:18.851438Z",
     "start_time": "2025-04-28T15:58:18.849840Z"
    }
   },
   "id": "cba75270a86cba0d",
   "outputs": [],
   "execution_count": 16
  },
  {
   "cell_type": "code",
   "source": [
    "# print(seg_other)\n",
    "# len(seg_other)/len(err[\"segmentation fault\"]) if err[\"segmentation fault\"] else 0"
   ],
   "metadata": {
    "collapsed": false,
    "ExecuteTime": {
     "end_time": "2025-04-28T15:58:18.900036Z",
     "start_time": "2025-04-28T15:58:18.897750Z"
    }
   },
   "id": "5aecf827954c44de",
   "outputs": [],
   "execution_count": 17
  },
  {
   "cell_type": "code",
   "source": [
    "# # get breakdown of why vpc generation failed - mostly from lack of provisioning\n",
    "# for code, exps in seg_err.items():\n",
    "#     print(f\"{code}: {len(exps) / len(err['segmentation fault']) if err['segmentation fault'] else 0}\")\n",
    "# \n",
    "# print(f\"other: {len(seg_other) / len(err['segmentation fault']) if err['segmentation fault'] else 0}\")"
   ],
   "metadata": {
    "collapsed": false,
    "ExecuteTime": {
     "end_time": "2025-04-28T15:58:18.934061Z",
     "start_time": "2025-04-28T15:58:18.932282Z"
    }
   },
   "id": "d4a3204609033812",
   "outputs": [],
   "execution_count": 18
  },
  {
   "cell_type": "code",
   "source": [
    "# todo: check aleks' removals and drop those below for similar reasons\n",
    "# todo: check size of disjunctions and decide what to do with those that are too big\n",
    "# these should all be from the problem being too big and hitting the time limit or integer solutions\n",
    "print(err[\"no vpcs were made from a new disjunction\"])\n",
    "missing_4_term = [n for n in err[\"no vpcs were made from a new disjunction\"] if \"_4_\" in n]\n",
    "missing_64_term = [n for n in err[\"no vpcs were made from a new disjunction\"] if \"_64_\" in n]\n",
    "print(f'4 term: {len(missing_4_term) / count_series}')\n",
    "print(f'64 term: {len(missing_64_term) / count_series}')"
   ],
   "metadata": {
    "collapsed": false,
    "ExecuteTime": {
     "end_time": "2025-04-28T15:58:18.963516Z",
     "start_time": "2025-04-28T15:58:18.960904Z"
    }
   },
   "id": "323bfdd3f23d8330",
   "outputs": [
    {
     "name": "stdout",
     "output_type": "stream",
     "text": [
      "['neos-1582420_rhs_0_64_New_0', 'neos-1582420_rhs_0_64_Farkas_0', 'neos-1582420_rhs_0_64_All_0', 'neos-1582420_rhs_0_64_NoDisjunction_0', 'neos-1582420_rhs_0_64_NoMatrix_0', 'neos-1582420_rhs_0_64_NoTerm_0', 'neos-1582420_rhs_0_64_NoBasis_0', 'neos-1582420_matrix_0_64_New_0', 'neos-1582420_matrix_0_64_Farkas_0', 'neos-1582420_matrix_0_64_All_0', 'neos-1582420_matrix_0_64_NoDisjunction_0', 'neos-1582420_matrix_0_64_NoMatrix_0', 'neos-1582420_matrix_0_64_NoTerm_0', 'neos-1582420_matrix_0_64_NoBasis_0', 'neos-1582420_objective_0_64_New_0', 'neos-1582420_objective_0_64_Farkas_0', 'neos-1582420_objective_0_64_All_0', 'neos-1582420_objective_0_64_NoDisjunction_0', 'neos-1582420_objective_0_64_NoMatrix_0', 'neos-1582420_objective_0_64_NoTerm_0', 'neos-1582420_objective_0_64_NoBasis_0', 'neos-1582420_rhs_4_64_New_0', 'neos-1582420_rhs_4_64_Farkas_0', 'neos-1582420_rhs_4_64_All_0', 'neos-1582420_rhs_4_64_NoDisjunction_0', 'neos-1582420_rhs_4_64_NoMatrix_0', 'neos-1582420_rhs_4_64_NoTerm_0', 'neos-1582420_rhs_4_64_NoBasis_0', 'neos-1582420_rhs_2_64_New_0', 'neos-1582420_rhs_2_64_Farkas_0', 'neos-1582420_rhs_2_64_All_0', 'neos-1582420_rhs_2_64_NoDisjunction_0', 'neos-1582420_rhs_2_64_NoMatrix_0', 'neos-1582420_rhs_2_64_NoTerm_0', 'neos-1582420_rhs_2_64_NoBasis_0', 'neos-1582420_objective_2_64_New_0', 'neos-1582420_objective_2_64_Farkas_0', 'neos-1582420_objective_2_64_All_0', 'neos-1582420_objective_2_64_NoDisjunction_0', 'neos-1582420_objective_2_64_NoMatrix_0', 'neos-1582420_objective_2_64_NoTerm_0', 'neos-1582420_objective_2_64_NoBasis_0', 'neos-1582420_matrix_2_64_New_0', 'neos-1582420_matrix_2_64_Farkas_0', 'neos-1582420_matrix_2_64_All_0', 'neos-1582420_matrix_2_64_NoDisjunction_0', 'neos-1582420_matrix_2_64_NoMatrix_0', 'neos-1582420_matrix_2_64_NoTerm_0', 'neos-1582420_matrix_2_64_NoBasis_0', 'neos-1582420_matrix_4_64_New_0', 'neos-1582420_matrix_4_64_Farkas_0', 'neos-1582420_matrix_4_64_All_0', 'neos-1582420_matrix_4_64_NoDisjunction_0', 'neos-1582420_matrix_4_64_NoMatrix_0', 'neos-1582420_matrix_4_64_NoTerm_0', 'neos-1582420_matrix_4_64_NoBasis_0', 'neos-1582420_objective_4_64_New_0', 'neos-1582420_objective_4_64_Farkas_0', 'neos-1582420_objective_4_64_All_0', 'neos-1582420_objective_4_64_NoDisjunction_0', 'neos-1582420_objective_4_64_NoMatrix_0', 'neos-1582420_objective_4_64_NoTerm_0', 'neos-1582420_objective_4_64_NoBasis_0', 'seymour1_rhs_0_64_New_0', 'seymour1_rhs_0_64_Farkas_0', 'seymour1_rhs_0_64_All_0', 'seymour1_rhs_0_64_NoDisjunction_0', 'seymour1_rhs_0_64_NoMatrix_0', 'seymour1_rhs_0_64_NoTerm_0', 'seymour1_rhs_0_64_NoBasis_0', 'seymour1_matrix_0_64_New_0', 'seymour1_matrix_0_64_Farkas_0', 'seymour1_matrix_0_64_All_0', 'seymour1_matrix_0_64_NoDisjunction_0', 'seymour1_matrix_0_64_NoMatrix_0', 'seymour1_matrix_0_64_NoTerm_0', 'seymour1_matrix_0_64_NoBasis_0', 'seymour1_objective_0_64_New_0', 'seymour1_objective_0_64_Farkas_0', 'seymour1_objective_0_64_All_0', 'seymour1_objective_0_64_NoDisjunction_0', 'seymour1_objective_0_64_NoMatrix_0', 'seymour1_objective_0_64_NoTerm_0', 'seymour1_objective_0_64_NoBasis_0', 'seymour1_rhs_4_64_New_0', 'seymour1_rhs_4_64_Farkas_0', 'seymour1_rhs_4_64_All_0', 'seymour1_rhs_4_64_NoDisjunction_0', 'seymour1_rhs_4_64_NoMatrix_0', 'seymour1_rhs_4_64_NoTerm_0', 'seymour1_rhs_4_64_NoBasis_0', 'seymour1_rhs_2_64_New_0', 'seymour1_rhs_2_64_Farkas_0', 'seymour1_rhs_2_64_All_0', 'seymour1_rhs_2_64_NoDisjunction_0', 'seymour1_rhs_2_64_NoMatrix_0', 'seymour1_rhs_2_64_NoTerm_0', 'seymour1_rhs_2_64_NoBasis_0', 'seymour1_objective_2_64_New_0', 'seymour1_objective_2_64_Farkas_0', 'seymour1_objective_2_64_All_0', 'seymour1_objective_2_64_NoDisjunction_0', 'seymour1_objective_2_64_NoMatrix_0', 'seymour1_objective_2_64_NoTerm_0', 'seymour1_objective_2_64_NoBasis_0', 'seymour1_matrix_2_64_New_0', 'seymour1_matrix_2_64_Farkas_0', 'seymour1_matrix_2_64_All_0', 'seymour1_matrix_2_64_NoDisjunction_0', 'seymour1_matrix_2_64_NoMatrix_0', 'seymour1_matrix_2_64_NoTerm_0', 'seymour1_matrix_2_64_NoBasis_0', 'seymour1_matrix_4_64_New_0', 'seymour1_matrix_4_64_Farkas_0', 'seymour1_matrix_4_64_All_0', 'seymour1_matrix_4_64_NoDisjunction_0', 'seymour1_matrix_4_64_NoMatrix_0', 'seymour1_matrix_4_64_NoTerm_0', 'seymour1_matrix_4_64_NoBasis_0', 'seymour1_objective_4_64_New_0', 'seymour1_objective_4_64_Farkas_0', 'seymour1_objective_4_64_All_0', 'seymour1_objective_4_64_NoDisjunction_0', 'seymour1_objective_4_64_NoMatrix_0', 'seymour1_objective_4_64_NoTerm_0', 'seymour1_objective_4_64_NoBasis_0', 'neos-1445743_rhs_0_64_New_0', 'neos-1445743_rhs_0_64_Farkas_0', 'neos-1445743_rhs_0_64_All_0', 'neos-1445743_rhs_0_64_NoDisjunction_0', 'neos-1445743_rhs_0_64_NoMatrix_0', 'neos-1445743_rhs_0_64_NoTerm_0', 'neos-1445743_rhs_0_64_NoBasis_0', 'neos-1445743_matrix_0_64_New_0', 'neos-1445743_matrix_0_64_Farkas_0', 'neos-1445743_matrix_0_64_All_0', 'neos-1445743_matrix_0_64_NoDisjunction_0', 'neos-1445743_matrix_0_64_NoMatrix_0', 'neos-1445743_matrix_0_64_NoTerm_0', 'neos-1445743_matrix_0_64_NoBasis_0', 'neos-1445743_objective_0_64_New_0', 'neos-1445743_objective_0_64_Farkas_0', 'neos-1445743_objective_0_64_All_0', 'neos-1445743_objective_0_64_NoDisjunction_0', 'neos-1445743_objective_0_64_NoMatrix_0', 'neos-1445743_objective_0_64_NoTerm_0', 'neos-1445743_objective_0_64_NoBasis_0', 'neos-1445743_rhs_4_64_New_0', 'neos-1445743_rhs_4_64_Farkas_0', 'neos-1445743_rhs_4_64_All_0', 'neos-1445743_rhs_4_64_NoDisjunction_0', 'neos-1445743_rhs_4_64_NoMatrix_0', 'neos-1445743_rhs_4_64_NoTerm_0', 'neos-1445743_rhs_4_64_NoBasis_0', 'neos-1445743_rhs_2_64_New_0', 'neos-1445743_rhs_2_64_Farkas_0', 'neos-1445743_rhs_2_64_All_0', 'neos-1445743_rhs_2_64_NoDisjunction_0', 'neos-1445743_rhs_2_64_NoMatrix_0', 'neos-1445743_rhs_2_64_NoTerm_0', 'neos-1445743_rhs_2_64_NoBasis_0', 'neos-1445743_objective_2_64_New_0', 'neos-1445743_objective_2_64_Farkas_0', 'neos-1445743_objective_2_64_All_0', 'neos-1445743_objective_2_64_NoDisjunction_0', 'neos-1445743_objective_2_64_NoMatrix_0', 'neos-1445743_objective_2_64_NoTerm_0', 'neos-1445743_objective_2_64_NoBasis_0', 'neos-1445743_objective_4_64_New_0', 'neos-1445743_objective_4_64_Farkas_0', 'neos-1445743_objective_4_64_All_0', 'neos-1445743_objective_4_64_NoDisjunction_0', 'neos-1445743_objective_4_64_NoMatrix_0', 'neos-1445743_objective_4_64_NoTerm_0', 'neos-1445743_objective_4_64_NoBasis_0', 'aligninq_rhs_0_64_New_0', 'aligninq_rhs_0_64_Farkas_0', 'aligninq_rhs_0_64_All_0', 'aligninq_rhs_0_64_NoDisjunction_0', 'aligninq_rhs_0_64_NoMatrix_0', 'aligninq_rhs_0_64_NoTerm_0', 'aligninq_rhs_0_64_NoBasis_0', 'aligninq_matrix_0_64_New_0', 'aligninq_matrix_0_64_Farkas_0', 'aligninq_matrix_0_64_All_0', 'aligninq_matrix_0_64_NoDisjunction_0', 'aligninq_matrix_0_64_NoMatrix_0', 'aligninq_matrix_0_64_NoTerm_0', 'aligninq_matrix_0_64_NoBasis_0', 'aligninq_objective_0_64_New_0', 'aligninq_objective_0_64_Farkas_0', 'aligninq_objective_0_64_All_0', 'aligninq_objective_0_64_NoDisjunction_0', 'aligninq_objective_0_64_NoMatrix_0', 'aligninq_objective_0_64_NoTerm_0', 'aligninq_objective_0_64_NoBasis_0', 'aligninq_objective_2_64_New_0', 'aligninq_objective_2_64_Farkas_0', 'aligninq_objective_2_64_All_0', 'aligninq_objective_2_64_NoDisjunction_0', 'aligninq_objective_2_64_NoMatrix_0', 'aligninq_objective_2_64_NoTerm_0', 'aligninq_objective_2_64_NoBasis_0', 'aligninq_matrix_2_64_New_0', 'aligninq_matrix_2_64_Farkas_0', 'aligninq_matrix_2_64_All_0', 'aligninq_matrix_2_64_NoDisjunction_0', 'aligninq_matrix_2_64_NoMatrix_0', 'aligninq_matrix_2_64_NoTerm_0', 'aligninq_matrix_2_64_NoBasis_0', 'aligninq_matrix_4_64_New_0', 'aligninq_matrix_4_64_Farkas_0', 'aligninq_matrix_4_64_All_0', 'aligninq_matrix_4_64_NoDisjunction_0', 'aligninq_matrix_4_64_NoMatrix_0', 'aligninq_matrix_4_64_NoTerm_0', 'aligninq_matrix_4_64_NoBasis_0', 'aligninq_objective_4_64_New_0', 'aligninq_objective_4_64_Farkas_0', 'aligninq_objective_4_64_All_0', 'aligninq_objective_4_64_NoDisjunction_0', 'aligninq_objective_4_64_NoMatrix_0', 'aligninq_objective_4_64_NoTerm_0', 'aligninq_objective_4_64_NoBasis_0', 'n7-3_matrix_0_64_New_0', 'n7-3_matrix_0_64_Farkas_0', 'n7-3_matrix_0_64_All_0', 'n7-3_matrix_0_64_NoDisjunction_0', 'n7-3_matrix_0_64_NoMatrix_0', 'n7-3_matrix_0_64_NoTerm_0', 'n7-3_matrix_0_64_NoBasis_0', 'n7-3_objective_0_64_New_0', 'n7-3_objective_0_64_Farkas_0', 'n7-3_objective_0_64_All_0', 'n7-3_objective_0_64_NoDisjunction_0', 'n7-3_objective_0_64_NoMatrix_0', 'n7-3_objective_0_64_NoTerm_0', 'n7-3_objective_0_64_NoBasis_0', 'n7-3_objective_2_64_New_0', 'n7-3_objective_2_64_Farkas_0', 'n7-3_objective_2_64_All_0', 'n7-3_objective_2_64_NoDisjunction_0', 'n7-3_objective_2_64_NoMatrix_0', 'n7-3_objective_2_64_NoTerm_0', 'n7-3_objective_2_64_NoBasis_0', 'n7-3_matrix_2_64_New_0', 'n7-3_matrix_2_64_Farkas_0', 'n7-3_matrix_2_64_All_0', 'n7-3_matrix_2_64_NoDisjunction_0', 'n7-3_matrix_2_64_NoMatrix_0', 'n7-3_matrix_2_64_NoTerm_0', 'n7-3_matrix_2_64_NoBasis_0', 'n7-3_objective_4_64_New_0', 'n7-3_objective_4_64_Farkas_0', 'n7-3_objective_4_64_All_0', 'n7-3_objective_4_64_NoDisjunction_0', 'n7-3_objective_4_64_NoMatrix_0', 'n7-3_objective_4_64_NoTerm_0', 'n7-3_objective_4_64_NoBasis_0', 'sp98ir_rhs_0_4_New_0', 'sp98ir_rhs_0_4_Farkas_0', 'sp98ir_rhs_0_4_All_0', 'sp98ir_rhs_0_4_NoDisjunction_0', 'sp98ir_rhs_0_4_NoMatrix_0', 'sp98ir_rhs_0_4_NoTerm_0', 'sp98ir_rhs_0_4_NoBasis_0', 'sp98ir_rhs_0_64_New_0', 'sp98ir_rhs_0_64_Farkas_0', 'sp98ir_rhs_0_64_All_0', 'sp98ir_rhs_0_64_NoDisjunction_0', 'sp98ir_rhs_0_64_NoMatrix_0', 'sp98ir_rhs_0_64_NoTerm_0', 'sp98ir_rhs_0_64_NoBasis_0', 'sp98ir_matrix_0_4_New_0', 'sp98ir_matrix_0_4_Farkas_0', 'sp98ir_matrix_0_4_All_0', 'sp98ir_matrix_0_4_NoDisjunction_0', 'sp98ir_matrix_0_4_NoMatrix_0', 'sp98ir_matrix_0_4_NoTerm_0', 'sp98ir_matrix_0_4_NoBasis_0', 'sp98ir_matrix_0_64_New_0', 'sp98ir_matrix_0_64_Farkas_0', 'sp98ir_matrix_0_64_All_0', 'sp98ir_matrix_0_64_NoDisjunction_0', 'sp98ir_matrix_0_64_NoMatrix_0', 'sp98ir_matrix_0_64_NoTerm_0', 'sp98ir_matrix_0_64_NoBasis_0', 'sp98ir_objective_0_4_New_0', 'sp98ir_objective_0_4_Farkas_0', 'sp98ir_objective_0_4_All_0', 'sp98ir_objective_0_4_NoDisjunction_0', 'sp98ir_objective_0_4_NoMatrix_0', 'sp98ir_objective_0_4_NoTerm_0', 'sp98ir_objective_0_4_NoBasis_0', 'sp98ir_objective_0_64_New_0', 'sp98ir_objective_0_64_Farkas_0', 'sp98ir_objective_0_64_All_0', 'sp98ir_objective_0_64_NoDisjunction_0', 'sp98ir_objective_0_64_NoMatrix_0', 'sp98ir_objective_0_64_NoTerm_0', 'sp98ir_objective_0_64_NoBasis_0', 'sp98ir_objective_2_4_New_0', 'sp98ir_objective_2_4_Farkas_0', 'sp98ir_objective_2_4_All_0', 'sp98ir_objective_2_4_NoDisjunction_0', 'sp98ir_objective_2_4_NoMatrix_0', 'sp98ir_objective_2_4_NoTerm_0', 'sp98ir_objective_2_4_NoBasis_0', 'sp98ir_objective_2_64_New_0', 'sp98ir_objective_2_64_Farkas_0', 'sp98ir_objective_2_64_All_0', 'sp98ir_objective_2_64_NoDisjunction_0', 'sp98ir_objective_2_64_NoMatrix_0', 'sp98ir_objective_2_64_NoTerm_0', 'sp98ir_objective_2_64_NoBasis_0', 'sp98ir_matrix_2_4_New_0', 'sp98ir_matrix_2_4_Farkas_0', 'sp98ir_matrix_2_4_All_0', 'sp98ir_matrix_2_4_NoDisjunction_0', 'sp98ir_matrix_2_4_NoMatrix_0', 'sp98ir_matrix_2_4_NoTerm_0', 'sp98ir_matrix_2_4_NoBasis_0', 'sp98ir_matrix_2_64_New_0', 'sp98ir_matrix_2_64_Farkas_0', 'sp98ir_matrix_2_64_All_0', 'sp98ir_matrix_2_64_NoDisjunction_0', 'sp98ir_matrix_2_64_NoMatrix_0', 'sp98ir_matrix_2_64_NoTerm_0', 'sp98ir_matrix_2_64_NoBasis_0', 'sp98ir_objective_4_4_New_0', 'sp98ir_objective_4_4_Farkas_0', 'sp98ir_objective_4_4_All_0', 'sp98ir_objective_4_4_NoDisjunction_0', 'sp98ir_objective_4_4_NoMatrix_0', 'sp98ir_objective_4_4_NoTerm_0', 'sp98ir_objective_4_4_NoBasis_0', 'sp98ir_objective_4_64_New_0', 'sp98ir_objective_4_64_Farkas_0', 'sp98ir_objective_4_64_All_0', 'sp98ir_objective_4_64_NoDisjunction_0', 'sp98ir_objective_4_64_NoMatrix_0', 'sp98ir_objective_4_64_NoTerm_0', 'sp98ir_objective_4_64_NoBasis_0', 'neos16_rhs_0_64_New_0', 'neos16_rhs_0_64_Farkas_0', 'neos16_rhs_0_64_All_0', 'neos16_rhs_0_64_NoDisjunction_0', 'neos16_rhs_0_64_NoMatrix_0', 'neos16_rhs_0_64_NoTerm_0', 'neos16_rhs_0_64_NoBasis_0', 'neos16_matrix_0_64_New_0', 'neos16_matrix_0_64_Farkas_0', 'neos16_matrix_0_64_All_0', 'neos16_matrix_0_64_NoDisjunction_0', 'neos16_matrix_0_64_NoMatrix_0', 'neos16_matrix_0_64_NoTerm_0', 'neos16_matrix_0_64_NoBasis_0', 'neos16_objective_0_64_New_0', 'neos16_objective_0_64_Farkas_0', 'neos16_objective_0_64_All_0', 'neos16_objective_0_64_NoDisjunction_0', 'neos16_objective_0_64_NoMatrix_0', 'neos16_objective_0_64_NoTerm_0', 'neos16_objective_0_64_NoBasis_0', 'neos16_objective_2_64_New_0', 'neos16_objective_2_64_Farkas_0', 'neos16_objective_2_64_All_0', 'neos16_objective_2_64_NoDisjunction_0', 'neos16_objective_2_64_NoMatrix_0', 'neos16_objective_2_64_NoTerm_0', 'neos16_objective_2_64_NoBasis_0', 'neos16_matrix_2_64_New_0', 'neos16_matrix_2_64_Farkas_0', 'neos16_matrix_2_64_All_0', 'neos16_matrix_2_64_NoDisjunction_0', 'neos16_matrix_2_64_NoMatrix_0', 'neos16_matrix_2_64_NoTerm_0', 'neos16_matrix_2_64_NoBasis_0', 'neos16_objective_4_64_New_0', 'neos16_objective_4_64_Farkas_0', 'neos16_objective_4_64_All_0', 'neos16_objective_4_64_NoDisjunction_0', 'neos16_objective_4_64_NoMatrix_0', 'neos16_objective_4_64_NoTerm_0', 'neos16_objective_4_64_NoBasis_0', 'arki001_rhs_0_64_New_0', 'arki001_rhs_0_64_Farkas_0', 'arki001_rhs_0_64_All_0', 'arki001_rhs_0_64_NoDisjunction_0', 'arki001_rhs_0_64_NoMatrix_0', 'arki001_rhs_0_64_NoTerm_0', 'arki001_rhs_0_64_NoBasis_0', 'arki001_matrix_0_64_New_0', 'arki001_matrix_0_64_Farkas_0', 'arki001_matrix_0_64_All_0', 'arki001_matrix_0_64_NoDisjunction_0', 'arki001_matrix_0_64_NoMatrix_0', 'arki001_matrix_0_64_NoTerm_0', 'arki001_matrix_0_64_NoBasis_0', 'arki001_objective_0_64_New_0', 'arki001_objective_0_64_Farkas_0', 'arki001_objective_0_64_All_0', 'arki001_objective_0_64_NoDisjunction_0', 'arki001_objective_0_64_NoMatrix_0', 'arki001_objective_0_64_NoTerm_0', 'arki001_objective_0_64_NoBasis_0', 'arki001_objective_2_64_New_0', 'arki001_objective_2_64_Farkas_0', 'arki001_objective_2_64_All_0', 'arki001_objective_2_64_NoDisjunction_0', 'arki001_objective_2_64_NoMatrix_0', 'arki001_objective_2_64_NoTerm_0', 'arki001_objective_2_64_NoBasis_0', 'arki001_objective_4_64_New_0', 'arki001_objective_4_64_Farkas_0', 'arki001_objective_4_64_All_0', 'arki001_objective_4_64_NoDisjunction_0', 'arki001_objective_4_64_NoMatrix_0', 'arki001_objective_4_64_NoTerm_0', 'arki001_objective_4_64_NoBasis_0', 'qiu_rhs_0_4_New_0', 'qiu_rhs_0_4_Farkas_0', 'qiu_rhs_0_4_All_0', 'qiu_rhs_0_4_NoDisjunction_0', 'qiu_rhs_0_4_NoMatrix_0', 'qiu_rhs_0_4_NoTerm_0', 'qiu_rhs_0_4_NoBasis_0', 'qiu_rhs_0_64_New_0', 'qiu_rhs_0_64_Farkas_0', 'qiu_rhs_0_64_All_0', 'qiu_rhs_0_64_NoDisjunction_0', 'qiu_rhs_0_64_NoMatrix_0', 'qiu_rhs_0_64_NoTerm_0', 'qiu_rhs_0_64_NoBasis_0', 'qiu_matrix_0_4_New_0', 'qiu_matrix_0_4_Farkas_0', 'qiu_matrix_0_4_All_0', 'qiu_matrix_0_4_NoDisjunction_0', 'qiu_matrix_0_4_NoMatrix_0', 'qiu_matrix_0_4_NoTerm_0', 'qiu_matrix_0_4_NoBasis_0', 'qiu_matrix_0_64_New_0', 'qiu_matrix_0_64_Farkas_0', 'qiu_matrix_0_64_All_0', 'qiu_matrix_0_64_NoDisjunction_0', 'qiu_matrix_0_64_NoMatrix_0', 'qiu_matrix_0_64_NoTerm_0', 'qiu_matrix_0_64_NoBasis_0', 'qiu_objective_0_4_New_0', 'qiu_objective_0_4_Farkas_0', 'qiu_objective_0_4_All_0', 'qiu_objective_0_4_NoDisjunction_0', 'qiu_objective_0_4_NoMatrix_0', 'qiu_objective_0_4_NoTerm_0', 'qiu_objective_0_4_NoBasis_0', 'qiu_objective_0_64_New_0', 'qiu_objective_0_64_Farkas_0', 'qiu_objective_0_64_All_0', 'qiu_objective_0_64_NoDisjunction_0', 'qiu_objective_0_64_NoMatrix_0', 'qiu_objective_0_64_NoTerm_0', 'qiu_objective_0_64_NoBasis_0', 'qiu_objective_2_4_New_0', 'qiu_objective_2_4_Farkas_0', 'qiu_objective_2_4_All_0', 'qiu_objective_2_4_NoDisjunction_0', 'qiu_objective_2_4_NoMatrix_0', 'qiu_objective_2_4_NoTerm_0', 'qiu_objective_2_4_NoBasis_0', 'qiu_objective_2_64_New_0', 'qiu_objective_2_64_Farkas_0', 'qiu_objective_2_64_All_0', 'qiu_objective_2_64_NoDisjunction_0', 'qiu_objective_2_64_NoMatrix_0', 'qiu_objective_2_64_NoTerm_0', 'qiu_objective_2_64_NoBasis_0', 'qiu_matrix_2_4_New_0', 'qiu_matrix_2_4_Farkas_0', 'qiu_matrix_2_4_All_0', 'qiu_matrix_2_4_NoDisjunction_0', 'qiu_matrix_2_4_NoMatrix_0', 'qiu_matrix_2_4_NoTerm_0', 'qiu_matrix_2_4_NoBasis_0', 'qiu_matrix_2_64_New_0', 'qiu_matrix_2_64_Farkas_0', 'qiu_matrix_2_64_All_0', 'qiu_matrix_2_64_NoDisjunction_0', 'qiu_matrix_2_64_NoMatrix_0', 'qiu_matrix_2_64_NoTerm_0', 'qiu_matrix_2_64_NoBasis_0', 'qiu_matrix_4_4_New_0', 'qiu_matrix_4_4_Farkas_0', 'qiu_matrix_4_4_All_0', 'qiu_matrix_4_4_NoDisjunction_0', 'qiu_matrix_4_4_NoMatrix_0', 'qiu_matrix_4_4_NoTerm_0', 'qiu_matrix_4_4_NoBasis_0', 'qiu_matrix_4_64_New_0', 'qiu_matrix_4_64_Farkas_0', 'qiu_matrix_4_64_All_0', 'qiu_matrix_4_64_NoDisjunction_0', 'qiu_matrix_4_64_NoMatrix_0', 'qiu_matrix_4_64_NoTerm_0', 'qiu_matrix_4_64_NoBasis_0', 'qiu_objective_4_4_New_0', 'qiu_objective_4_4_Farkas_0', 'qiu_objective_4_4_All_0', 'qiu_objective_4_4_NoDisjunction_0', 'qiu_objective_4_4_NoMatrix_0', 'qiu_objective_4_4_NoTerm_0', 'qiu_objective_4_4_NoBasis_0', 'qiu_objective_4_64_New_0', 'qiu_objective_4_64_Farkas_0', 'qiu_objective_4_64_All_0', 'qiu_objective_4_64_NoDisjunction_0', 'qiu_objective_4_64_NoMatrix_0', 'qiu_objective_4_64_NoTerm_0', 'qiu_objective_4_64_NoBasis_0']\n",
      "4 term: 0.03856382978723404\n",
      "64 term: 0.08111702127659574\n"
     ]
    }
   ],
   "execution_count": 19
  },
  {
   "cell_type": "code",
   "source": [
    "# vpc_err = {\n",
    "#     \"CglVPC: Finishing with exit reason: PRLP_TIME_LIMIT\": [],\n",
    "#     \"CglVPC: Finishing with exit reason: TIME_LIMIT\": [],\n",
    "#     \"CglVPC: Finishing with exit reason: NO_CUTS_LIKELY\": [],\n",
    "#     \"CglVPC: Finishing with exit reason: PRLP_INFEASIBLE\": [],\n",
    "#     \"CglVPC: Finishing with exit reason: SUCCESS\": [],\n",
    "#     \"CglVPC: Finishing with exit reason: OPTIMAL_SOLUTION_FOUND\": [],\n",
    "#     \"CglVPC: Finishing with exit reason: FAIL_LIMIT\": [],\n",
    "#     \"CglVPC: Finishing with exit reason: NO_DISJUNCTION\": [],\n",
    "# }\n",
    "# \n",
    "# vpc_other = []\n",
    "# \n",
    "# for stem in err[\"no vpcs were made from a new disjunction\"]:\n",
    "#     file_pth = os.path.join(results_fldr, f\"{stem}.out\")\n",
    "# \n",
    "#     with open(file_pth, \"r\") as f:\n",
    "#         text = f.read()\n",
    "#     \n",
    "#     # assign the error file to the appropriate list\n",
    "#     found_code = False\n",
    "#     for code in vpc_err:\n",
    "#         if code in text:\n",
    "#             vpc_err[code].append(stem)\n",
    "#             found_code = True\n",
    "#             break\n",
    "#     if not found_code:\n",
    "#         vpc_other.append(stem)"
   ],
   "metadata": {
    "collapsed": false,
    "ExecuteTime": {
     "end_time": "2025-04-28T15:58:19.037828Z",
     "start_time": "2025-04-28T15:58:19.035872Z"
    }
   },
   "id": "d10dcdb803b1faa3",
   "outputs": [],
   "execution_count": 20
  },
  {
   "cell_type": "code",
   "source": [
    "# print(vpc_err[\"CglVPC: Finishing with exit reason: PRLP_TIME_LIMIT\"])\n",
    "# if err[\"no vpcs were made from a new disjunction\"]:\n",
    "#     len(vpc_err[\"CglVPC: Finishing with exit reason: PRLP_TIME_LIMIT\"]) / len(err[\"no vpcs were made from a new disjunction\"])"
   ],
   "metadata": {
    "collapsed": false,
    "ExecuteTime": {
     "end_time": "2025-04-28T15:58:19.077825Z",
     "start_time": "2025-04-28T15:58:19.076468Z"
    }
   },
   "id": "158f7e03587ca952",
   "outputs": [],
   "execution_count": 21
  },
  {
   "cell_type": "code",
   "source": [
    "# print(vpc_err[\"CglVPC: Finishing with exit reason: TIME_LIMIT\"])\n",
    "# if err[\"no vpcs were made from a new disjunction\"]:\n",
    "#     len(vpc_err[\"CglVPC: Finishing with exit reason: TIME_LIMIT\"]) / len(err[\"no vpcs were made from a new disjunction\"])"
   ],
   "metadata": {
    "collapsed": false,
    "ExecuteTime": {
     "end_time": "2025-04-28T15:58:19.106010Z",
     "start_time": "2025-04-28T15:58:19.104487Z"
    }
   },
   "id": "dfb77c5bc34bbe22",
   "outputs": [],
   "execution_count": 22
  },
  {
   "cell_type": "code",
   "source": [
    "# print(vpc_err[\"CglVPC: Finishing with exit reason: NO_CUTS_LIKELY\"])\n",
    "# if err[\"no vpcs were made from a new disjunction\"]:\n",
    "#     len(vpc_err[\"CglVPC: Finishing with exit reason: NO_CUTS_LIKELY\"]) / len(err[\"no vpcs were made from a new disjunction\"])"
   ],
   "metadata": {
    "collapsed": false,
    "ExecuteTime": {
     "end_time": "2025-04-28T15:58:19.141438Z",
     "start_time": "2025-04-28T15:58:19.139194Z"
    }
   },
   "id": "eefe53ee89a87625",
   "outputs": [],
   "execution_count": 23
  },
  {
   "cell_type": "code",
   "source": [
    "# print(vpc_err[\"CglVPC: Finishing with exit reason: PRLP_INFEASIBLE\"])\n",
    "# if err[\"no vpcs were made from a new disjunction\"]:\n",
    "#     len(vpc_err[\"CglVPC: Finishing with exit reason: PRLP_INFEASIBLE\"]) / len(err[\"no vpcs were made from a new disjunction\"])"
   ],
   "metadata": {
    "collapsed": false,
    "ExecuteTime": {
     "end_time": "2025-04-28T15:58:19.150756Z",
     "start_time": "2025-04-28T15:58:19.149360Z"
    }
   },
   "id": "933d889bce35d1c6",
   "outputs": [],
   "execution_count": 24
  },
  {
   "cell_type": "code",
   "source": [
    "# print(vpc_err[\"CglVPC: Finishing with exit reason: SUCCESS\"])\n",
    "# if err[\"no vpcs were made from a new disjunction\"]:\n",
    "#     len(vpc_err[\"CglVPC: Finishing with exit reason: SUCCESS\"]) / len(err[\"no vpcs were made from a new disjunction\"])"
   ],
   "metadata": {
    "collapsed": false,
    "ExecuteTime": {
     "end_time": "2025-04-28T15:58:19.187274Z",
     "start_time": "2025-04-28T15:58:19.185628Z"
    }
   },
   "id": "ac8d0ff2a27ba558",
   "outputs": [],
   "execution_count": 25
  },
  {
   "cell_type": "code",
   "source": [
    "# print(vpc_err[\"CglVPC: Finishing with exit reason: OPTIMAL_SOLUTION_FOUND\"])\n",
    "# if err[\"no vpcs were made from a new disjunction\"]:\n",
    "#     len(vpc_err[\"CglVPC: Finishing with exit reason: OPTIMAL_SOLUTION_FOUND\"]) / len(err[\"no vpcs were made from a new disjunction\"])"
   ],
   "metadata": {
    "collapsed": false,
    "ExecuteTime": {
     "end_time": "2025-04-28T15:58:19.319384Z",
     "start_time": "2025-04-28T15:58:19.317848Z"
    }
   },
   "id": "4b63d3cd518e3107",
   "outputs": [],
   "execution_count": 26
  },
  {
   "cell_type": "code",
   "source": [
    "# print(vpc_err[\"CglVPC: Finishing with exit reason: FAIL_LIMIT\"])\n",
    "# if err[\"no vpcs were made from a new disjunction\"]:\n",
    "#     len(vpc_err[\"CglVPC: Finishing with exit reason: FAIL_LIMIT\"]) / len(err[\"no vpcs were made from a new disjunction\"])"
   ],
   "metadata": {
    "collapsed": false,
    "ExecuteTime": {
     "end_time": "2025-04-28T15:58:19.476432Z",
     "start_time": "2025-04-28T15:58:19.474611Z"
    }
   },
   "id": "f83387c79d2520a4",
   "outputs": [],
   "execution_count": 27
  },
  {
   "cell_type": "code",
   "source": [
    "# print(vpc_err[\"CglVPC: Finishing with exit reason: NO_DISJUNCTION\"])\n",
    "# if err[\"no vpcs were made from a new disjunction\"]:\n",
    "#     len(vpc_err[\"CglVPC: Finishing with exit reason: NO_DISJUNCTION\"]) / len(err[\"no vpcs were made from a new disjunction\"])"
   ],
   "metadata": {
    "collapsed": false,
    "ExecuteTime": {
     "end_time": "2025-04-28T15:58:19.620938Z",
     "start_time": "2025-04-28T15:58:19.619133Z"
    }
   },
   "id": "26779878562d1784",
   "outputs": [],
   "execution_count": 28
  },
  {
   "cell_type": "code",
   "source": "# vpc_other",
   "metadata": {
    "collapsed": false,
    "ExecuteTime": {
     "end_time": "2025-04-28T15:58:19.741200Z",
     "start_time": "2025-04-28T15:58:19.739272Z"
    }
   },
   "id": "68d93918615c4f37",
   "outputs": [],
   "execution_count": 29
  },
  {
   "cell_type": "code",
   "source": [
    "# # get breakdown of why vpc generation failed - mostly from lack of provisioning/problem being too large\n",
    "# if err[\"no vpcs were made from a new disjunction\"]:\n",
    "#     for code, exps in vpc_err.items():\n",
    "#         print(f\"{code}: {len(exps) / len(err['no vpcs were made from a new disjunction'])}\")\n",
    "#     \n",
    "#     print(f\"other: {len(vpc_other) / len(err['no vpcs were made from a new disjunction'])}\")"
   ],
   "metadata": {
    "collapsed": false,
    "ExecuteTime": {
     "end_time": "2025-04-28T15:58:19.881871Z",
     "start_time": "2025-04-28T15:58:19.880236Z"
    }
   },
   "id": "d2dfbc64d74a0662",
   "outputs": [],
   "execution_count": 30
  },
  {
   "cell_type": "code",
   "source": [
    "print(err[\"must have primalbound >= root lp objective\"])\n",
    "len(err[\"must have primalbound >= root lp objective\"]) / count_series"
   ],
   "metadata": {
    "collapsed": false,
    "ExecuteTime": {
     "end_time": "2025-04-28T15:58:20.020946Z",
     "start_time": "2025-04-28T15:58:20.018023Z"
    }
   },
   "id": "cbe5c977488d207f",
   "outputs": [
    {
     "name": "stdout",
     "output_type": "stream",
     "text": [
      "[]\n"
     ]
    },
    {
     "data": {
      "text/plain": [
       "0.0"
      ]
     },
     "execution_count": 31,
     "metadata": {},
     "output_type": "execute_result"
    }
   ],
   "execution_count": 31
  },
  {
   "cell_type": "code",
   "source": [
    "# LP relaxation objective is not going to match root nodes objective when warm starting \n",
    "print(err[\"objective at parent nodes\"])\n",
    "len(err[\"objective at parent nodes\"]) / count_series"
   ],
   "metadata": {
    "collapsed": false,
    "ExecuteTime": {
     "end_time": "2025-04-28T15:58:20.301654Z",
     "start_time": "2025-04-28T15:58:20.299012Z"
    }
   },
   "id": "e48a519132565dc3",
   "outputs": [
    {
     "name": "stdout",
     "output_type": "stream",
     "text": [
      "[]\n"
     ]
    },
    {
     "data": {
      "text/plain": [
       "0.0"
      ]
     },
     "execution_count": 32,
     "metadata": {},
     "output_type": "execute_result"
    }
   ],
   "execution_count": 32
  },
  {
   "cell_type": "code",
   "source": [
    "# not enough tolerance added to bound (or we hit time limit) - element 2 from 5 and 4 from 4\n",
    "print(err[\"failed to optimize mip\"])\n",
    "len(err[\"failed to optimize mip\"]) / count_series"
   ],
   "metadata": {
    "collapsed": false,
    "ExecuteTime": {
     "end_time": "2025-04-28T15:58:20.544787Z",
     "start_time": "2025-04-28T15:58:20.541762Z"
    }
   },
   "id": "f0cec5808fee4f9f",
   "outputs": [
    {
     "name": "stdout",
     "output_type": "stream",
     "text": [
      "[]\n"
     ]
    },
    {
     "data": {
      "text/plain": [
       "0.0"
      ]
     },
     "execution_count": 33,
     "metadata": {},
     "output_type": "execute_result"
    }
   ],
   "execution_count": 33
  },
  {
   "cell_type": "code",
   "source": [
    "# todo: figure out why\n",
    "print(err[\"disjunction does not represent a full binary tree\"])\n",
    "len(err[\"disjunction does not represent a full binary tree\"]) / count_series"
   ],
   "metadata": {
    "collapsed": false,
    "ExecuteTime": {
     "end_time": "2025-04-28T15:58:20.716254Z",
     "start_time": "2025-04-28T15:58:20.713689Z"
    }
   },
   "id": "60ac343575ffea1b",
   "outputs": [
    {
     "name": "stdout",
     "output_type": "stream",
     "text": [
      "[]\n"
     ]
    },
    {
     "data": {
      "text/plain": [
       "0.0"
      ]
     },
     "execution_count": 34,
     "metadata": {},
     "output_type": "execute_result"
    }
   ],
   "execution_count": 34
  },
  {
   "cell_type": "code",
   "source": [
    "# again issue with not getting through vpc generation in time\n",
    "# todo: handle this gracefully\n",
    "print(err[\"solver not proven optimal for nodes\"])\n",
    "len(err[\"solver not proven optimal for nodes\"]) / count_series"
   ],
   "metadata": {
    "collapsed": false,
    "ExecuteTime": {
     "end_time": "2025-04-28T15:58:20.874509Z",
     "start_time": "2025-04-28T15:58:20.871581Z"
    }
   },
   "id": "9e8cf1d6b6dca990",
   "outputs": [
    {
     "name": "stdout",
     "output_type": "stream",
     "text": [
      "[]\n"
     ]
    },
    {
     "data": {
      "text/plain": [
       "0.0"
      ]
     },
     "execution_count": 35,
     "metadata": {},
     "output_type": "execute_result"
    }
   ],
   "execution_count": 35
  },
  {
   "cell_type": "code",
   "source": [
    "print(err[\"unable to open\"])\n",
    "len(err[\"unable to open\"]) / count_series"
   ],
   "metadata": {
    "collapsed": false,
    "ExecuteTime": {
     "end_time": "2025-04-28T15:58:21.113495Z",
     "start_time": "2025-04-28T15:58:21.110879Z"
    }
   },
   "id": "b6c518ef5d669738",
   "outputs": [
    {
     "name": "stdout",
     "output_type": "stream",
     "text": [
      "[]\n"
     ]
    },
    {
     "data": {
      "text/plain": [
       "0.0"
      ]
     },
     "execution_count": 36,
     "metadata": {},
     "output_type": "execute_result"
    }
   ],
   "execution_count": 36
  },
  {
   "cell_type": "code",
   "source": [
    "print(err[\"license\"])\n",
    "len(err[\"license\"]) / count_series"
   ],
   "metadata": {
    "collapsed": false,
    "ExecuteTime": {
     "end_time": "2025-04-28T15:58:21.440138Z",
     "start_time": "2025-04-28T15:58:21.437729Z"
    }
   },
   "id": "7046e5a3187d32a6",
   "outputs": [
    {
     "name": "stdout",
     "output_type": "stream",
     "text": [
      "[]\n"
     ]
    },
    {
     "data": {
      "text/plain": [
       "0.0"
      ]
     },
     "execution_count": 37,
     "metadata": {},
     "output_type": "execute_result"
    }
   ],
   "execution_count": 37
  },
  {
   "cell_type": "code",
   "source": [
    "print(warning)\n",
    "len(warning) / count_series"
   ],
   "metadata": {
    "collapsed": false,
    "ExecuteTime": {
     "end_time": "2025-04-28T15:58:22.024632Z",
     "start_time": "2025-04-28T15:58:22.020770Z"
    }
   },
   "id": "cbcf42c2debaed4d",
   "outputs": [
    {
     "name": "stdout",
     "output_type": "stream",
     "text": [
      "['neos-1582420_matrix_0_4_New_0', 'neos-1582420_matrix_0_4_Farkas_0', 'bppc8-09_rhs_2_64_New_0', 'neos-5051588-culgoa_objective_4_64_Farkas_0', 'aligninq_objective_0_4_New_0', 'aligninq_objective_2_4_New_0', 'aligninq_objective_4_4_New_0', 'gsvm2rl3_rhs_0_4_New_0', 'gsvm2rl3_rhs_2_64_New_0', 'neos-631517_objective_0_4_New_0', 'neos-631517_objective_2_64_New_0', 'rout_objective_0_4_New_0', 'rout_objective_0_4_Farkas_0', 'rout_objective_0_64_New_0', 'rout_objective_2_4_New_0', 'rout_objective_2_4_Farkas_0', 'rout_objective_4_4_New_0', 'rout_objective_4_4_Farkas_0', 'rout_objective_4_64_New_0', 'bienst1_objective_0_4_New_0', 'bienst1_objective_0_4_Farkas_0', 'bienst1_objective_0_64_New_0', 'bienst1_objective_2_4_New_0', 'bienst1_objective_2_4_Farkas_0', 'bienst1_objective_2_64_New_0', 'bienst1_objective_4_4_New_0', 'bienst1_objective_4_4_Farkas_0', 'bienst1_objective_4_64_New_0', 'neos-480878_objective_0_4_New_0', 'neos-911970_objective_4_64_New_0', 'neos-4650160-yukon_objective_0_4_New_0', 'arki001_objective_2_4_Farkas_0', 'arki001_objective_4_4_Farkas_0', 'neos17_rhs_0_64_New_0', 'neos17_rhs_4_64_New_0', 'mas76_rhs_4_64_New_0', 'mas76_rhs_2_64_New_0', 'aflow30a_objective_2_4_New_0', 'misc07_objective_0_64_New_0', 'neos-3046615-murg_objective_0_64_New_0', 'neos-3046615-murg_objective_2_64_New_0']\n"
     ]
    },
    {
     "data": {
      "text/plain": [
       "0.0077887537993920975"
      ]
     },
     "execution_count": 38,
     "metadata": {},
     "output_type": "execute_result"
    }
   ],
   "execution_count": 38
  },
  {
   "cell_type": "code",
   "source": [
    "# errors unaccounted for\n",
    "print(other)\n",
    "len(other) / count_series"
   ],
   "metadata": {
    "collapsed": false,
    "ExecuteTime": {
     "end_time": "2025-04-28T15:58:22.414027Z",
     "start_time": "2025-04-28T15:58:22.411774Z"
    }
   },
   "id": "f2365025f4ca39d4",
   "outputs": [
    {
     "name": "stdout",
     "output_type": "stream",
     "text": [
      "['gsvm2rl3_rhs_0_64_New_0', 'gsvm2rl3_rhs_4_64_New_0', 'eil33-2_matrix_0_64_New_0', 'eil33-2_matrix_0_64_Farkas_0', 'eil33-2_matrix_0_64_All_0', 'eil33-2_matrix_0_64_NoDisjunction_0', 'eil33-2_matrix_0_64_NoMatrix_0', 'eil33-2_matrix_0_64_NoTerm_0', 'eil33-2_matrix_0_64_NoBasis_0', 'eil33-2_objective_0_64_New_0', 'eil33-2_objective_0_64_Farkas_0', 'eil33-2_objective_0_64_All_0', 'eil33-2_objective_0_64_NoDisjunction_0', 'eil33-2_objective_0_64_NoMatrix_0', 'eil33-2_objective_0_64_NoTerm_0', 'eil33-2_objective_0_64_NoBasis_0', 'eil33-2_rhs_4_64_New_0', 'eil33-2_rhs_4_64_Farkas_0', 'eil33-2_rhs_4_64_All_0', 'eil33-2_rhs_4_64_NoDisjunction_0', 'eil33-2_rhs_4_64_NoMatrix_0', 'eil33-2_rhs_4_64_NoTerm_0', 'eil33-2_rhs_4_64_NoBasis_0', 'eil33-2_objective_2_64_New_0', 'eil33-2_objective_2_64_Farkas_0', 'eil33-2_objective_2_64_All_0', 'eil33-2_objective_2_64_NoDisjunction_0', 'eil33-2_objective_2_64_NoMatrix_0', 'eil33-2_objective_2_64_NoTerm_0', 'eil33-2_objective_2_64_NoBasis_0', 'eil33-2_matrix_2_64_New_0', 'eil33-2_matrix_2_64_Farkas_0', 'eil33-2_matrix_2_64_All_0', 'eil33-2_matrix_2_64_NoDisjunction_0', 'eil33-2_matrix_2_64_NoMatrix_0', 'eil33-2_matrix_2_64_NoTerm_0', 'eil33-2_matrix_2_64_NoBasis_0', 'eil33-2_matrix_4_64_New_0', 'eil33-2_matrix_4_64_Farkas_0', 'eil33-2_matrix_4_64_All_0', 'eil33-2_matrix_4_64_NoDisjunction_0', 'eil33-2_matrix_4_64_NoMatrix_0', 'eil33-2_matrix_4_64_NoTerm_0', 'eil33-2_matrix_4_64_NoBasis_0', 'eil33-2_objective_4_64_New_0', 'eil33-2_objective_4_64_Farkas_0', 'eil33-2_objective_4_64_All_0', 'eil33-2_objective_4_64_NoDisjunction_0', 'eil33-2_objective_4_64_NoMatrix_0', 'eil33-2_objective_4_64_NoTerm_0', 'eil33-2_objective_4_64_NoBasis_0', 'arki001_objective_2_4_New_0', 'arki001_objective_4_4_New_0']\n"
     ]
    },
    {
     "data": {
      "text/plain": [
       "0.01006838905775076"
      ]
     },
     "execution_count": 39,
     "metadata": {},
     "output_type": "execute_result"
    }
   ],
   "execution_count": 39
  },
  {
   "cell_type": "code",
   "source": [
    "# proportion of series that were improperly provisioned\n",
    "(len(err[\"bad_alloc\"] + err[\"out of memory\"] + err[\"walltime\"])) / count_series"
   ],
   "metadata": {
    "collapsed": false,
    "ExecuteTime": {
     "end_time": "2025-04-28T15:58:23.145902Z",
     "start_time": "2025-04-28T15:58:23.141212Z"
    }
   },
   "id": "5cc2517a3d1c1f27",
   "outputs": [
    {
     "data": {
      "text/plain": [
       "0.0077887537993920975"
      ]
     },
     "execution_count": 40,
     "metadata": {},
     "output_type": "execute_result"
    }
   ],
   "execution_count": 40
  },
  {
   "cell_type": "code",
   "source": [
    "# todo handle this\n",
    "print(err[\"dot product with obj differs from solver\"])\n",
    "len(err[\"dot product with obj differs from solver\"]) / count_series"
   ],
   "metadata": {
    "collapsed": false,
    "ExecuteTime": {
     "end_time": "2025-04-28T15:58:23.505604Z",
     "start_time": "2025-04-28T15:58:23.501942Z"
    }
   },
   "id": "e3032aff7dc0df69",
   "outputs": [
    {
     "name": "stdout",
     "output_type": "stream",
     "text": [
      "['neos-480878_objective_2_4_New_0', 'neos-480878_objective_4_4_New_0', 'neos-480878_objective_4_64_New_0']\n"
     ]
    },
    {
     "data": {
      "text/plain": [
       "0.0005699088145896656"
      ]
     },
     "execution_count": 41,
     "metadata": {},
     "output_type": "execute_result"
    }
   ],
   "execution_count": 41
  },
  {
   "cell_type": "code",
   "source": [
    "# changed code to ignore this error\n",
    "print(err[\"gurobi: error during callback: addCut\"])\n",
    "len(err[\"gurobi: error during callback: addCut\"]) / count_series"
   ],
   "metadata": {
    "collapsed": false,
    "ExecuteTime": {
     "end_time": "2025-04-28T15:58:24.006966Z",
     "start_time": "2025-04-28T15:58:24.003190Z"
    }
   },
   "id": "46ead0b00886a34b",
   "outputs": [
    {
     "name": "stdout",
     "output_type": "stream",
     "text": [
      "[]\n"
     ]
    },
    {
     "data": {
      "text/plain": [
       "0.0"
      ]
     },
     "execution_count": 42,
     "metadata": {},
     "output_type": "execute_result"
    }
   ],
   "execution_count": 42
  },
  {
   "cell_type": "code",
   "source": [
    "# largely not replicating - only issue I could find was aleks missing updated objective from CLP when resolving to check this\n",
    "print(err[\"cglvpc::setupconstraints: objective at disjunctive term\"])\n",
    "len(err[\"cglvpc::setupconstraints: objective at disjunctive term\"]) / count_series"
   ],
   "metadata": {
    "collapsed": false,
    "ExecuteTime": {
     "end_time": "2025-04-28T15:58:24.315683Z",
     "start_time": "2025-04-28T15:58:24.305251Z"
    }
   },
   "id": "9656878fa4923ac3",
   "outputs": [
    {
     "name": "stdout",
     "output_type": "stream",
     "text": [
      "[]\n"
     ]
    },
    {
     "data": {
      "text/plain": [
       "0.0"
      ]
     },
     "execution_count": 43,
     "metadata": {},
     "output_type": "execute_result"
    }
   ],
   "execution_count": 43
  },
  {
   "cell_type": "code",
   "source": [
    "# not replicating - rerun\n",
    "print(err[\"unable to read file\"])\n",
    "len(err[\"unable to read file\"]) / count_series"
   ],
   "metadata": {
    "collapsed": false,
    "ExecuteTime": {
     "end_time": "2025-04-28T15:58:24.804185Z",
     "start_time": "2025-04-28T15:58:24.800440Z"
    }
   },
   "id": "846d115fdb5ceb92",
   "outputs": [
    {
     "name": "stdout",
     "output_type": "stream",
     "text": [
      "[]\n"
     ]
    },
    {
     "data": {
      "text/plain": [
       "0.0"
      ]
     },
     "execution_count": 44,
     "metadata": {},
     "output_type": "execute_result"
    }
   ],
   "execution_count": 44
  },
  {
   "cell_type": "code",
   "source": [
    "# not replicating - rerun\n",
    "print(err[\"stats.id == stats_vec\"])\n",
    "len(err[\"stats.id == stats_vec\"]) / count_series"
   ],
   "metadata": {
    "collapsed": false,
    "ExecuteTime": {
     "end_time": "2025-04-28T15:58:25.188353Z",
     "start_time": "2025-04-28T15:58:25.183978Z"
    }
   },
   "id": "577cacfb7625a3fb",
   "outputs": [
    {
     "name": "stdout",
     "output_type": "stream",
     "text": [
      "[]\n"
     ]
    },
    {
     "data": {
      "text/plain": [
       "0.0"
      ]
     },
     "execution_count": 45,
     "metadata": {},
     "output_type": "execute_result"
    }
   ],
   "execution_count": 45
  },
  {
   "cell_type": "code",
   "source": [
    "print(err[\"size of our disjunction is not what we expected it to be\"])\n",
    "len(err[\"size of our disjunction is not what we expected it to be\"]) / count_series"
   ],
   "metadata": {
    "collapsed": false,
    "ExecuteTime": {
     "end_time": "2025-04-28T15:58:25.713678Z",
     "start_time": "2025-04-28T15:58:25.709733Z"
    }
   },
   "id": "9dbd086695fd1686",
   "outputs": [
    {
     "name": "stdout",
     "output_type": "stream",
     "text": [
      "[]\n"
     ]
    },
    {
     "data": {
      "text/plain": [
       "0.0"
      ]
     },
     "execution_count": 46,
     "metadata": {},
     "output_type": "execute_result"
    }
   ],
   "execution_count": 46
  },
  {
   "metadata": {
    "ExecuteTime": {
     "end_time": "2025-04-28T15:58:26.167800Z",
     "start_time": "2025-04-28T15:58:26.164839Z"
    }
   },
   "cell_type": "code",
   "source": [
    "print(err[\"vpcgenerator must be\"])\n",
    "len(err[\"vpcgenerator must be\"]) / count_series"
   ],
   "id": "9fee6bee7c0294d6",
   "outputs": [
    {
     "name": "stdout",
     "output_type": "stream",
     "text": [
      "['neos-574665_objective_2_4_All_0', 'neos-574665_objective_2_4_NoDisjunction_0', 'neos-574665_objective_2_4_NoMatrix_0', 'neos-574665_objective_2_4_NoTerm_0', 'neos-574665_objective_2_4_NoBasis_0', 'neos-574665_objective_2_64_All_0', 'neos-574665_objective_2_64_NoDisjunction_0', 'neos-574665_objective_2_64_NoMatrix_0', 'neos-574665_objective_2_64_NoTerm_0', 'neos-574665_objective_2_64_NoBasis_0', 'ran13x13_matrix_0_4_All_0', 'ran13x13_matrix_0_4_NoDisjunction_0', 'ran13x13_matrix_0_4_NoMatrix_0', 'ran13x13_matrix_0_4_NoTerm_0', 'ran13x13_matrix_0_4_NoBasis_0', 'ran13x13_matrix_0_64_All_0', 'ran13x13_matrix_0_64_NoDisjunction_0', 'ran13x13_matrix_0_64_NoMatrix_0', 'ran13x13_matrix_0_64_NoTerm_0', 'ran13x13_matrix_0_64_NoBasis_0', 'ran13x13_objective_0_4_All_0', 'ran13x13_objective_0_4_NoDisjunction_0', 'ran13x13_objective_0_4_NoMatrix_0', 'ran13x13_objective_0_4_NoTerm_0', 'ran13x13_objective_0_4_NoBasis_0', 'ran13x13_objective_0_64_All_0', 'ran13x13_objective_0_64_NoDisjunction_0', 'ran13x13_objective_0_64_NoMatrix_0', 'ran13x13_objective_0_64_NoTerm_0', 'ran13x13_objective_0_64_NoBasis_0', 'ran13x13_objective_2_4_All_0', 'ran13x13_objective_2_4_NoDisjunction_0', 'ran13x13_objective_2_4_NoMatrix_0', 'ran13x13_objective_2_4_NoTerm_0', 'ran13x13_objective_2_4_NoBasis_0', 'ran13x13_objective_2_64_All_0', 'ran13x13_objective_2_64_NoDisjunction_0', 'ran13x13_objective_2_64_NoMatrix_0', 'ran13x13_objective_2_64_NoTerm_0', 'ran13x13_objective_2_64_NoBasis_0', 'ran13x13_objective_4_4_All_0', 'ran13x13_objective_4_4_NoDisjunction_0', 'ran13x13_objective_4_4_NoMatrix_0', 'ran13x13_objective_4_4_NoTerm_0', 'ran13x13_objective_4_4_NoBasis_0', 'ran13x13_objective_4_64_All_0', 'ran13x13_objective_4_64_NoDisjunction_0', 'ran13x13_objective_4_64_NoMatrix_0', 'ran13x13_objective_4_64_NoTerm_0', 'ran13x13_objective_4_64_NoBasis_0', 'neos-1582420_matrix_0_4_All_0', 'neos-1582420_matrix_0_4_NoDisjunction_0', 'neos-1582420_matrix_0_4_NoMatrix_0', 'neos-1582420_matrix_0_4_NoTerm_0', 'neos-1582420_matrix_0_4_NoBasis_0', 'mtest4ma_objective_0_4_All_0', 'mtest4ma_objective_0_4_NoDisjunction_0', 'mtest4ma_objective_0_4_NoMatrix_0', 'mtest4ma_objective_0_4_NoTerm_0', 'mtest4ma_objective_0_4_NoBasis_0', 'mtest4ma_objective_0_64_All_0', 'mtest4ma_objective_0_64_NoDisjunction_0', 'mtest4ma_objective_0_64_NoMatrix_0', 'mtest4ma_objective_0_64_NoTerm_0', 'mtest4ma_objective_0_64_NoBasis_0', 'mtest4ma_objective_2_4_All_0', 'mtest4ma_objective_2_4_NoDisjunction_0', 'mtest4ma_objective_2_4_NoMatrix_0', 'mtest4ma_objective_2_4_NoTerm_0', 'mtest4ma_objective_2_4_NoBasis_0', 'mtest4ma_objective_2_64_All_0', 'mtest4ma_objective_2_64_NoDisjunction_0', 'mtest4ma_objective_2_64_NoMatrix_0', 'mtest4ma_objective_2_64_NoTerm_0', 'mtest4ma_objective_2_64_NoBasis_0', 'seymour1_objective_0_4_All_0', 'seymour1_objective_0_4_NoDisjunction_0', 'seymour1_objective_0_4_NoMatrix_0', 'seymour1_objective_0_4_NoTerm_0', 'seymour1_objective_0_4_NoBasis_0', 'bppc8-09_rhs_0_4_All_0', 'bppc8-09_rhs_0_4_NoDisjunction_0', 'bppc8-09_rhs_0_4_NoMatrix_0', 'bppc8-09_rhs_0_4_NoTerm_0', 'bppc8-09_rhs_0_4_NoBasis_0', 'bppc8-09_rhs_0_64_All_0', 'bppc8-09_rhs_0_64_NoDisjunction_0', 'bppc8-09_rhs_0_64_NoMatrix_0', 'bppc8-09_rhs_0_64_NoTerm_0', 'bppc8-09_rhs_0_64_NoBasis_0', 'bppc8-09_rhs_2_4_All_0', 'bppc8-09_rhs_2_4_NoDisjunction_0', 'bppc8-09_rhs_2_4_NoMatrix_0', 'bppc8-09_rhs_2_4_NoTerm_0', 'bppc8-09_rhs_2_4_NoBasis_0', 'bppc8-09_rhs_2_64_All_0', 'bppc8-09_rhs_2_64_NoDisjunction_0', 'bppc8-09_rhs_2_64_NoMatrix_0', 'bppc8-09_rhs_2_64_NoTerm_0', 'bppc8-09_rhs_2_64_NoBasis_0', 'bppc8-09_objective_2_4_All_0', 'bppc8-09_objective_2_4_NoDisjunction_0', 'bppc8-09_objective_2_4_NoMatrix_0', 'bppc8-09_objective_2_4_NoTerm_0', 'bppc8-09_objective_2_4_NoBasis_0', 'bppc8-09_objective_2_64_All_0', 'bppc8-09_objective_2_64_NoDisjunction_0', 'bppc8-09_objective_2_64_NoMatrix_0', 'bppc8-09_objective_2_64_NoTerm_0', 'bppc8-09_objective_2_64_NoBasis_0', 'neos-1445743_rhs_0_4_All_0', 'neos-1445743_rhs_0_4_NoDisjunction_0', 'neos-1445743_rhs_0_4_NoMatrix_0', 'neos-1445743_rhs_0_4_NoTerm_0', 'neos-1445743_rhs_0_4_NoBasis_0', 'neos-1445743_objective_0_4_All_0', 'neos-1445743_objective_0_4_NoDisjunction_0', 'neos-1445743_objective_0_4_NoMatrix_0', 'neos-1445743_objective_0_4_NoTerm_0', 'neos-1445743_objective_0_4_NoBasis_0', 'neos-5051588-culgoa_objective_0_4_All_0', 'neos-5051588-culgoa_objective_0_4_NoDisjunction_0', 'neos-5051588-culgoa_objective_0_4_NoMatrix_0', 'neos-5051588-culgoa_objective_0_4_NoTerm_0', 'neos-5051588-culgoa_objective_0_4_NoBasis_0', 'neos-5051588-culgoa_objective_0_64_All_0', 'neos-5051588-culgoa_objective_0_64_NoDisjunction_0', 'neos-5051588-culgoa_objective_0_64_NoMatrix_0', 'neos-5051588-culgoa_objective_0_64_NoTerm_0', 'neos-5051588-culgoa_objective_0_64_NoBasis_0', 'neos-5051588-culgoa_objective_2_4_All_0', 'neos-5051588-culgoa_objective_2_4_NoDisjunction_0', 'neos-5051588-culgoa_objective_2_4_NoMatrix_0', 'neos-5051588-culgoa_objective_2_4_NoTerm_0', 'neos-5051588-culgoa_objective_2_4_NoBasis_0', 'neos-5051588-culgoa_objective_2_64_All_0', 'neos-5051588-culgoa_objective_2_64_NoDisjunction_0', 'neos-5051588-culgoa_objective_2_64_NoMatrix_0', 'neos-5051588-culgoa_objective_2_64_NoTerm_0', 'neos-5051588-culgoa_objective_2_64_NoBasis_0', 'neos-5051588-culgoa_objective_4_4_All_0', 'neos-5051588-culgoa_objective_4_4_NoDisjunction_0', 'neos-5051588-culgoa_objective_4_4_NoMatrix_0', 'neos-5051588-culgoa_objective_4_4_NoTerm_0', 'neos-5051588-culgoa_objective_4_4_NoBasis_0', 'neos-5051588-culgoa_objective_4_64_All_0', 'neos-5051588-culgoa_objective_4_64_NoDisjunction_0', 'neos-5051588-culgoa_objective_4_64_NoMatrix_0', 'neos-5051588-culgoa_objective_4_64_NoTerm_0', 'neos-5051588-culgoa_objective_4_64_NoBasis_0', 'aligninq_objective_0_4_All_0', 'aligninq_objective_0_4_NoDisjunction_0', 'aligninq_objective_0_4_NoMatrix_0', 'aligninq_objective_0_4_NoTerm_0', 'aligninq_objective_0_4_NoBasis_0', 'aligninq_objective_2_4_All_0', 'aligninq_objective_2_4_NoDisjunction_0', 'aligninq_objective_2_4_NoMatrix_0', 'aligninq_objective_2_4_NoTerm_0', 'aligninq_objective_2_4_NoBasis_0', 'aligninq_objective_4_4_All_0', 'aligninq_objective_4_4_NoDisjunction_0', 'aligninq_objective_4_4_NoMatrix_0', 'aligninq_objective_4_4_NoTerm_0', 'aligninq_objective_4_4_NoBasis_0', 'gsvm2rl3_rhs_0_4_All_0', 'gsvm2rl3_rhs_0_4_NoDisjunction_0', 'gsvm2rl3_rhs_0_4_NoMatrix_0', 'gsvm2rl3_rhs_0_4_NoTerm_0', 'gsvm2rl3_rhs_0_4_NoBasis_0', 'gsvm2rl3_rhs_0_64_All_0', 'gsvm2rl3_rhs_0_64_NoDisjunction_0', 'gsvm2rl3_rhs_0_64_NoMatrix_0', 'gsvm2rl3_rhs_0_64_NoTerm_0', 'gsvm2rl3_rhs_0_64_NoBasis_0', 'gsvm2rl3_rhs_4_4_All_0', 'gsvm2rl3_rhs_4_4_NoDisjunction_0', 'gsvm2rl3_rhs_4_4_NoMatrix_0', 'gsvm2rl3_rhs_4_4_NoTerm_0', 'gsvm2rl3_rhs_4_4_NoBasis_0', 'gsvm2rl3_rhs_4_64_All_0', 'gsvm2rl3_rhs_4_64_NoDisjunction_0', 'gsvm2rl3_rhs_4_64_NoMatrix_0', 'gsvm2rl3_rhs_4_64_NoTerm_0', 'gsvm2rl3_rhs_4_64_NoBasis_0', 'gsvm2rl3_rhs_2_4_All_0', 'gsvm2rl3_rhs_2_4_NoDisjunction_0', 'gsvm2rl3_rhs_2_4_NoMatrix_0', 'gsvm2rl3_rhs_2_4_NoTerm_0', 'gsvm2rl3_rhs_2_4_NoBasis_0', 'gsvm2rl3_rhs_2_64_All_0', 'gsvm2rl3_rhs_2_64_NoDisjunction_0', 'gsvm2rl3_rhs_2_64_NoMatrix_0', 'gsvm2rl3_rhs_2_64_NoTerm_0', 'gsvm2rl3_rhs_2_64_NoBasis_0', 'neos-631517_objective_0_4_All_0', 'neos-631517_objective_0_4_NoDisjunction_0', 'neos-631517_objective_0_4_NoMatrix_0', 'neos-631517_objective_0_4_NoTerm_0', 'neos-631517_objective_0_4_NoBasis_0', 'neos-631517_objective_0_64_All_0', 'neos-631517_objective_0_64_NoDisjunction_0', 'neos-631517_objective_0_64_NoMatrix_0', 'neos-631517_objective_0_64_NoTerm_0', 'neos-631517_objective_0_64_NoBasis_0', 'neos-631517_objective_2_4_All_0', 'neos-631517_objective_2_4_NoDisjunction_0', 'neos-631517_objective_2_4_NoMatrix_0', 'neos-631517_objective_2_4_NoTerm_0', 'neos-631517_objective_2_4_NoBasis_0', 'neos-631517_objective_2_64_All_0', 'neos-631517_objective_2_64_NoDisjunction_0', 'neos-631517_objective_2_64_NoMatrix_0', 'neos-631517_objective_2_64_NoTerm_0', 'neos-631517_objective_2_64_NoBasis_0', 'rout_objective_0_4_All_0', 'rout_objective_0_4_NoDisjunction_0', 'rout_objective_0_4_NoMatrix_0', 'rout_objective_0_4_NoTerm_0', 'rout_objective_0_4_NoBasis_0', 'rout_objective_0_64_All_0', 'rout_objective_0_64_NoDisjunction_0', 'rout_objective_0_64_NoMatrix_0', 'rout_objective_0_64_NoTerm_0', 'rout_objective_0_64_NoBasis_0', 'rout_objective_2_4_All_0', 'rout_objective_2_4_NoDisjunction_0', 'rout_objective_2_4_NoMatrix_0', 'rout_objective_2_4_NoTerm_0', 'rout_objective_2_4_NoBasis_0', 'rout_objective_2_64_All_0', 'rout_objective_2_64_NoDisjunction_0', 'rout_objective_2_64_NoMatrix_0', 'rout_objective_2_64_NoTerm_0', 'rout_objective_2_64_NoBasis_0', 'rout_objective_4_4_All_0', 'rout_objective_4_4_NoDisjunction_0', 'rout_objective_4_4_NoMatrix_0', 'rout_objective_4_4_NoTerm_0', 'rout_objective_4_4_NoBasis_0', 'rout_objective_4_64_All_0', 'rout_objective_4_64_NoDisjunction_0', 'rout_objective_4_64_NoMatrix_0', 'rout_objective_4_64_NoTerm_0', 'rout_objective_4_64_NoBasis_0', 'pg_objective_0_4_All_0', 'pg_objective_0_4_NoDisjunction_0', 'pg_objective_0_4_NoMatrix_0', 'pg_objective_0_4_NoTerm_0', 'pg_objective_0_4_NoBasis_0', 'pg_objective_0_64_All_0', 'pg_objective_0_64_NoDisjunction_0', 'pg_objective_0_64_NoMatrix_0', 'pg_objective_0_64_NoTerm_0', 'pg_objective_0_64_NoBasis_0', 'pg_objective_2_4_All_0', 'pg_objective_2_4_NoDisjunction_0', 'pg_objective_2_4_NoMatrix_0', 'pg_objective_2_4_NoTerm_0', 'pg_objective_2_4_NoBasis_0', 'pg_objective_2_64_All_0', 'pg_objective_2_64_NoDisjunction_0', 'pg_objective_2_64_NoMatrix_0', 'pg_objective_2_64_NoTerm_0', 'pg_objective_2_64_NoBasis_0', 'pg_objective_4_4_All_0', 'pg_objective_4_4_NoDisjunction_0', 'pg_objective_4_4_NoMatrix_0', 'pg_objective_4_4_NoTerm_0', 'pg_objective_4_4_NoBasis_0', 'pg_objective_4_64_All_0', 'pg_objective_4_64_NoDisjunction_0', 'pg_objective_4_64_NoMatrix_0', 'pg_objective_4_64_NoTerm_0', 'pg_objective_4_64_NoBasis_0', 'bienst1_objective_0_4_All_0', 'bienst1_objective_0_4_NoDisjunction_0', 'bienst1_objective_0_4_NoMatrix_0', 'bienst1_objective_0_4_NoTerm_0', 'bienst1_objective_0_4_NoBasis_0', 'bienst1_objective_0_64_All_0', 'bienst1_objective_0_64_NoDisjunction_0', 'bienst1_objective_0_64_NoMatrix_0', 'bienst1_objective_0_64_NoTerm_0', 'bienst1_objective_0_64_NoBasis_0', 'bienst1_objective_2_4_All_0', 'bienst1_objective_2_4_NoDisjunction_0', 'bienst1_objective_2_4_NoMatrix_0', 'bienst1_objective_2_4_NoTerm_0', 'bienst1_objective_2_4_NoBasis_0', 'bienst1_objective_2_64_All_0', 'bienst1_objective_2_64_NoDisjunction_0', 'bienst1_objective_2_64_NoMatrix_0', 'bienst1_objective_2_64_NoTerm_0', 'bienst1_objective_2_64_NoBasis_0', 'bienst1_objective_4_4_All_0', 'bienst1_objective_4_4_NoDisjunction_0', 'bienst1_objective_4_4_NoMatrix_0', 'bienst1_objective_4_4_NoTerm_0', 'bienst1_objective_4_4_NoBasis_0', 'bienst1_objective_4_64_All_0', 'bienst1_objective_4_64_NoDisjunction_0', 'bienst1_objective_4_64_NoMatrix_0', 'bienst1_objective_4_64_NoTerm_0', 'bienst1_objective_4_64_NoBasis_0', 'blp-ir98_objective_0_4_All_0', 'blp-ir98_objective_0_4_NoDisjunction_0', 'blp-ir98_objective_0_4_NoMatrix_0', 'blp-ir98_objective_0_4_NoTerm_0', 'blp-ir98_objective_0_4_NoBasis_0', 'blp-ir98_objective_0_64_All_0', 'blp-ir98_objective_0_64_NoDisjunction_0', 'blp-ir98_objective_0_64_NoMatrix_0', 'blp-ir98_objective_0_64_NoTerm_0', 'blp-ir98_objective_0_64_NoBasis_0', 'blp-ir98_objective_2_4_All_0', 'blp-ir98_objective_2_4_NoDisjunction_0', 'blp-ir98_objective_2_4_NoMatrix_0', 'blp-ir98_objective_2_4_NoTerm_0', 'blp-ir98_objective_2_4_NoBasis_0', 'blp-ir98_objective_2_64_All_0', 'blp-ir98_objective_2_64_NoDisjunction_0', 'blp-ir98_objective_2_64_NoMatrix_0', 'blp-ir98_objective_2_64_NoTerm_0', 'blp-ir98_objective_2_64_NoBasis_0', 'blp-ir98_objective_4_4_All_0', 'blp-ir98_objective_4_4_NoDisjunction_0', 'blp-ir98_objective_4_4_NoMatrix_0', 'blp-ir98_objective_4_4_NoTerm_0', 'blp-ir98_objective_4_4_NoBasis_0', 'blp-ir98_objective_4_64_All_0', 'blp-ir98_objective_4_64_NoDisjunction_0', 'blp-ir98_objective_4_64_NoMatrix_0', 'blp-ir98_objective_4_64_NoTerm_0', 'blp-ir98_objective_4_64_NoBasis_0', 'ran12x21_matrix_0_4_All_0', 'ran12x21_matrix_0_4_NoDisjunction_0', 'ran12x21_matrix_0_4_NoMatrix_0', 'ran12x21_matrix_0_4_NoTerm_0', 'ran12x21_matrix_0_4_NoBasis_0', 'ran12x21_matrix_0_64_All_0', 'ran12x21_matrix_0_64_NoDisjunction_0', 'ran12x21_matrix_0_64_NoMatrix_0', 'ran12x21_matrix_0_64_NoTerm_0', 'ran12x21_matrix_0_64_NoBasis_0', 'ran12x21_objective_0_4_All_0', 'ran12x21_objective_0_4_NoDisjunction_0', 'ran12x21_objective_0_4_NoMatrix_0', 'ran12x21_objective_0_4_NoTerm_0', 'ran12x21_objective_0_4_NoBasis_0', 'ran12x21_objective_0_64_All_0', 'ran12x21_objective_0_64_NoDisjunction_0', 'ran12x21_objective_0_64_NoMatrix_0', 'ran12x21_objective_0_64_NoTerm_0', 'ran12x21_objective_0_64_NoBasis_0', 'ran12x21_objective_2_4_All_0', 'ran12x21_objective_2_4_NoDisjunction_0', 'ran12x21_objective_2_4_NoMatrix_0', 'ran12x21_objective_2_4_NoTerm_0', 'ran12x21_objective_2_4_NoBasis_0', 'ran12x21_objective_2_64_All_0', 'ran12x21_objective_2_64_NoDisjunction_0', 'ran12x21_objective_2_64_NoMatrix_0', 'ran12x21_objective_2_64_NoTerm_0', 'ran12x21_objective_2_64_NoBasis_0', 'ran12x21_objective_4_4_All_0', 'ran12x21_objective_4_4_NoDisjunction_0', 'ran12x21_objective_4_4_NoMatrix_0', 'ran12x21_objective_4_4_NoTerm_0', 'ran12x21_objective_4_4_NoBasis_0', 'ran12x21_objective_4_64_All_0', 'ran12x21_objective_4_64_NoDisjunction_0', 'ran12x21_objective_4_64_NoMatrix_0', 'ran12x21_objective_4_64_NoTerm_0', 'ran12x21_objective_4_64_NoBasis_0', 'neos-480878_objective_0_4_All_0', 'neos-480878_objective_0_4_NoDisjunction_0', 'neos-480878_objective_0_4_NoMatrix_0', 'neos-480878_objective_0_4_NoTerm_0', 'neos-480878_objective_0_4_NoBasis_0', 'neos-480878_objective_0_64_All_0', 'neos-480878_objective_0_64_NoDisjunction_0', 'neos-480878_objective_0_64_NoMatrix_0', 'neos-480878_objective_0_64_NoTerm_0', 'neos-480878_objective_0_64_NoBasis_0', 'neos-480878_objective_2_4_All_0', 'neos-480878_objective_2_4_NoDisjunction_0', 'neos-480878_objective_2_4_NoMatrix_0', 'neos-480878_objective_2_4_NoTerm_0', 'neos-480878_objective_2_4_NoBasis_0', 'neos-480878_objective_2_64_All_0', 'neos-480878_objective_2_64_NoDisjunction_0', 'neos-480878_objective_2_64_NoMatrix_0', 'neos-480878_objective_2_64_NoTerm_0', 'neos-480878_objective_2_64_NoBasis_0', 'neos18_objective_2_4_All_0', 'neos18_objective_2_4_NoDisjunction_0', 'neos18_objective_2_4_NoMatrix_0', 'neos18_objective_2_4_NoTerm_0', 'neos18_objective_2_4_NoBasis_0', 'neos18_objective_2_64_All_0', 'neos18_objective_2_64_NoDisjunction_0', 'neos18_objective_2_64_NoMatrix_0', 'neos18_objective_2_64_NoTerm_0', 'neos18_objective_2_64_NoBasis_0', 'eil33-2_objective_0_4_All_0', 'eil33-2_objective_0_4_NoDisjunction_0', 'eil33-2_objective_0_4_NoMatrix_0', 'eil33-2_objective_0_4_NoTerm_0', 'eil33-2_objective_0_4_NoBasis_0', 'eil33-2_objective_2_4_All_0', 'eil33-2_objective_2_4_NoDisjunction_0', 'eil33-2_objective_2_4_NoMatrix_0', 'eil33-2_objective_2_4_NoTerm_0', 'eil33-2_objective_2_4_NoBasis_0', 'eil33-2_objective_4_4_All_0', 'eil33-2_objective_4_4_NoDisjunction_0', 'eil33-2_objective_4_4_NoMatrix_0', 'eil33-2_objective_4_4_NoTerm_0', 'eil33-2_objective_4_4_NoBasis_0', 'neos16_objective_0_4_All_0', 'neos16_objective_0_4_NoDisjunction_0', 'neos16_objective_0_4_NoMatrix_0', 'neos16_objective_0_4_NoTerm_0', 'neos16_objective_0_4_NoBasis_0', 'neos16_objective_2_4_All_0', 'neos16_objective_2_4_NoDisjunction_0', 'neos16_objective_2_4_NoMatrix_0', 'neos16_objective_2_4_NoTerm_0', 'neos16_objective_2_4_NoBasis_0', 'neos16_objective_4_4_All_0', 'neos16_objective_4_4_NoDisjunction_0', 'neos16_objective_4_4_NoMatrix_0', 'neos16_objective_4_4_NoTerm_0', 'neos16_objective_4_4_NoBasis_0', 'neos-911970_objective_0_4_All_0', 'neos-911970_objective_0_4_NoDisjunction_0', 'neos-911970_objective_0_4_NoMatrix_0', 'neos-911970_objective_0_4_NoTerm_0', 'neos-911970_objective_0_4_NoBasis_0', 'neos-911970_objective_0_64_All_0', 'neos-911970_objective_0_64_NoDisjunction_0', 'neos-911970_objective_0_64_NoMatrix_0', 'neos-911970_objective_0_64_NoTerm_0', 'neos-911970_objective_0_64_NoBasis_0', 'neos-911970_objective_2_4_All_0', 'neos-911970_objective_2_4_NoDisjunction_0', 'neos-911970_objective_2_4_NoMatrix_0', 'neos-911970_objective_2_4_NoTerm_0', 'neos-911970_objective_2_4_NoBasis_0', 'neos-911970_objective_2_64_All_0', 'neos-911970_objective_2_64_NoDisjunction_0', 'neos-911970_objective_2_64_NoMatrix_0', 'neos-911970_objective_2_64_NoTerm_0', 'neos-911970_objective_2_64_NoBasis_0', 'neos-911970_objective_4_4_All_0', 'neos-911970_objective_4_4_NoDisjunction_0', 'neos-911970_objective_4_4_NoMatrix_0', 'neos-911970_objective_4_4_NoTerm_0', 'neos-911970_objective_4_4_NoBasis_0', 'neos-911970_objective_4_64_All_0', 'neos-911970_objective_4_64_NoDisjunction_0', 'neos-911970_objective_4_64_NoMatrix_0', 'neos-911970_objective_4_64_NoTerm_0', 'neos-911970_objective_4_64_NoBasis_0', 'neos-4650160-yukon_objective_0_4_All_0', 'neos-4650160-yukon_objective_0_4_NoDisjunction_0', 'neos-4650160-yukon_objective_0_4_NoMatrix_0', 'neos-4650160-yukon_objective_0_4_NoTerm_0', 'neos-4650160-yukon_objective_0_4_NoBasis_0', 'neos-4650160-yukon_objective_0_64_All_0', 'neos-4650160-yukon_objective_0_64_NoDisjunction_0', 'neos-4650160-yukon_objective_0_64_NoMatrix_0', 'neos-4650160-yukon_objective_0_64_NoTerm_0', 'neos-4650160-yukon_objective_0_64_NoBasis_0', 'arki001_objective_2_4_All_0', 'arki001_objective_2_4_NoDisjunction_0', 'arki001_objective_2_4_NoMatrix_0', 'arki001_objective_2_4_NoTerm_0', 'arki001_objective_2_4_NoBasis_0', 'arki001_objective_4_4_All_0', 'arki001_objective_4_4_NoDisjunction_0', 'arki001_objective_4_4_NoMatrix_0', 'arki001_objective_4_4_NoTerm_0', 'arki001_objective_4_4_NoBasis_0', 'neos17_rhs_0_4_All_0', 'neos17_rhs_0_4_NoDisjunction_0', 'neos17_rhs_0_4_NoMatrix_0', 'neos17_rhs_0_4_NoTerm_0', 'neos17_rhs_0_4_NoBasis_0', 'neos17_rhs_0_64_All_0', 'neos17_rhs_0_64_NoDisjunction_0', 'neos17_rhs_0_64_NoMatrix_0', 'neos17_rhs_0_64_NoTerm_0', 'neos17_rhs_0_64_NoBasis_0', 'neos17_matrix_0_4_All_0', 'neos17_matrix_0_4_NoDisjunction_0', 'neos17_matrix_0_4_NoMatrix_0', 'neos17_matrix_0_4_NoTerm_0', 'neos17_matrix_0_4_NoBasis_0', 'neos17_matrix_0_64_All_0', 'neos17_matrix_0_64_NoDisjunction_0', 'neos17_matrix_0_64_NoMatrix_0', 'neos17_matrix_0_64_NoTerm_0', 'neos17_matrix_0_64_NoBasis_0', 'neos17_rhs_4_4_All_0', 'neos17_rhs_4_4_NoDisjunction_0', 'neos17_rhs_4_4_NoMatrix_0', 'neos17_rhs_4_4_NoTerm_0', 'neos17_rhs_4_4_NoBasis_0', 'neos17_rhs_4_64_All_0', 'neos17_rhs_4_64_NoDisjunction_0', 'neos17_rhs_4_64_NoMatrix_0', 'neos17_rhs_4_64_NoTerm_0', 'neos17_rhs_4_64_NoBasis_0', 'neos17_rhs_2_4_All_0', 'neos17_rhs_2_4_NoDisjunction_0', 'neos17_rhs_2_4_NoMatrix_0', 'neos17_rhs_2_4_NoTerm_0', 'neos17_rhs_2_4_NoBasis_0', 'neos17_rhs_2_64_All_0', 'neos17_rhs_2_64_NoDisjunction_0', 'neos17_rhs_2_64_NoMatrix_0', 'neos17_rhs_2_64_NoTerm_0', 'neos17_rhs_2_64_NoBasis_0', 'mas76_rhs_0_4_All_0', 'mas76_rhs_0_4_NoDisjunction_0', 'mas76_rhs_0_4_NoMatrix_0', 'mas76_rhs_0_4_NoTerm_0', 'mas76_rhs_0_4_NoBasis_0', 'mas76_rhs_0_64_All_0', 'mas76_rhs_0_64_NoDisjunction_0', 'mas76_rhs_0_64_NoMatrix_0', 'mas76_rhs_0_64_NoTerm_0', 'mas76_rhs_0_64_NoBasis_0', 'mas76_objective_0_4_All_0', 'mas76_objective_0_4_NoDisjunction_0', 'mas76_objective_0_4_NoMatrix_0', 'mas76_objective_0_4_NoTerm_0', 'mas76_objective_0_4_NoBasis_0', 'mas76_objective_0_64_All_0', 'mas76_objective_0_64_NoDisjunction_0', 'mas76_objective_0_64_NoMatrix_0', 'mas76_objective_0_64_NoTerm_0', 'mas76_objective_0_64_NoBasis_0', 'mas76_rhs_4_4_All_0', 'mas76_rhs_4_4_NoDisjunction_0', 'mas76_rhs_4_4_NoMatrix_0', 'mas76_rhs_4_4_NoTerm_0', 'mas76_rhs_4_4_NoBasis_0', 'mas76_rhs_4_64_All_0', 'mas76_rhs_4_64_NoDisjunction_0', 'mas76_rhs_4_64_NoMatrix_0', 'mas76_rhs_4_64_NoTerm_0', 'mas76_rhs_4_64_NoBasis_0', 'mas76_rhs_2_4_All_0', 'mas76_rhs_2_4_NoDisjunction_0', 'mas76_rhs_2_4_NoMatrix_0', 'mas76_rhs_2_4_NoTerm_0', 'mas76_rhs_2_4_NoBasis_0', 'mas76_rhs_2_64_All_0', 'mas76_rhs_2_64_NoDisjunction_0', 'mas76_rhs_2_64_NoMatrix_0', 'mas76_rhs_2_64_NoTerm_0', 'mas76_rhs_2_64_NoBasis_0', 'mas76_objective_2_4_All_0', 'mas76_objective_2_4_NoDisjunction_0', 'mas76_objective_2_4_NoMatrix_0', 'mas76_objective_2_4_NoTerm_0', 'mas76_objective_2_4_NoBasis_0', 'mas76_objective_2_64_All_0', 'mas76_objective_2_64_NoDisjunction_0', 'mas76_objective_2_64_NoMatrix_0', 'mas76_objective_2_64_NoTerm_0', 'mas76_objective_2_64_NoBasis_0', 'mas76_objective_4_4_All_0', 'mas76_objective_4_4_NoDisjunction_0', 'mas76_objective_4_4_NoMatrix_0', 'mas76_objective_4_4_NoTerm_0', 'mas76_objective_4_4_NoBasis_0', 'mas76_objective_4_64_All_0', 'mas76_objective_4_64_NoDisjunction_0', 'mas76_objective_4_64_NoMatrix_0', 'mas76_objective_4_64_NoTerm_0', 'mas76_objective_4_64_NoBasis_0', 'roll3000_objective_0_4_All_0', 'roll3000_objective_0_4_NoDisjunction_0', 'roll3000_objective_0_4_NoMatrix_0', 'roll3000_objective_0_4_NoTerm_0', 'roll3000_objective_0_4_NoBasis_0', 'roll3000_objective_0_64_All_0', 'roll3000_objective_0_64_NoDisjunction_0', 'roll3000_objective_0_64_NoMatrix_0', 'roll3000_objective_0_64_NoTerm_0', 'roll3000_objective_0_64_NoBasis_0', 'roll3000_objective_4_4_All_0', 'roll3000_objective_4_4_NoDisjunction_0', 'roll3000_objective_4_4_NoMatrix_0', 'roll3000_objective_4_4_NoTerm_0', 'roll3000_objective_4_4_NoBasis_0', 'roll3000_objective_4_64_All_0', 'roll3000_objective_4_64_NoDisjunction_0', 'roll3000_objective_4_64_NoMatrix_0', 'roll3000_objective_4_64_NoTerm_0', 'roll3000_objective_4_64_NoBasis_0', 'g200x740_objective_0_4_All_0', 'g200x740_objective_0_4_NoDisjunction_0', 'g200x740_objective_0_4_NoMatrix_0', 'g200x740_objective_0_4_NoTerm_0', 'g200x740_objective_0_4_NoBasis_0', 'g200x740_objective_0_64_All_0', 'g200x740_objective_0_64_NoDisjunction_0', 'g200x740_objective_0_64_NoMatrix_0', 'g200x740_objective_0_64_NoTerm_0', 'g200x740_objective_0_64_NoBasis_0', 'aflow30a_objective_0_4_All_0', 'aflow30a_objective_0_4_NoDisjunction_0', 'aflow30a_objective_0_4_NoMatrix_0', 'aflow30a_objective_0_4_NoTerm_0', 'aflow30a_objective_0_4_NoBasis_0', 'aflow30a_objective_0_64_All_0', 'aflow30a_objective_0_64_NoDisjunction_0', 'aflow30a_objective_0_64_NoMatrix_0', 'aflow30a_objective_0_64_NoTerm_0', 'aflow30a_objective_0_64_NoBasis_0', 'aflow30a_objective_2_4_All_0', 'aflow30a_objective_2_4_NoDisjunction_0', 'aflow30a_objective_2_4_NoMatrix_0', 'aflow30a_objective_2_4_NoTerm_0', 'aflow30a_objective_2_4_NoBasis_0', 'aflow30a_objective_2_64_All_0', 'aflow30a_objective_2_64_NoDisjunction_0', 'aflow30a_objective_2_64_NoMatrix_0', 'aflow30a_objective_2_64_NoTerm_0', 'aflow30a_objective_2_64_NoBasis_0', 'pg5_34_objective_0_4_All_0', 'pg5_34_objective_0_4_NoDisjunction_0', 'pg5_34_objective_0_4_NoMatrix_0', 'pg5_34_objective_0_4_NoTerm_0', 'pg5_34_objective_0_4_NoBasis_0', 'pg5_34_objective_0_64_All_0', 'pg5_34_objective_0_64_NoDisjunction_0', 'pg5_34_objective_0_64_NoMatrix_0', 'pg5_34_objective_0_64_NoTerm_0', 'pg5_34_objective_0_64_NoBasis_0', 'pg5_34_objective_2_4_All_0', 'pg5_34_objective_2_4_NoDisjunction_0', 'pg5_34_objective_2_4_NoMatrix_0', 'pg5_34_objective_2_4_NoTerm_0', 'pg5_34_objective_2_4_NoBasis_0', 'pg5_34_objective_2_64_All_0', 'pg5_34_objective_2_64_NoDisjunction_0', 'pg5_34_objective_2_64_NoMatrix_0', 'pg5_34_objective_2_64_NoTerm_0', 'pg5_34_objective_2_64_NoBasis_0', 'pg5_34_objective_4_4_All_0', 'pg5_34_objective_4_4_NoDisjunction_0', 'pg5_34_objective_4_4_NoMatrix_0', 'pg5_34_objective_4_4_NoTerm_0', 'pg5_34_objective_4_4_NoBasis_0', 'pg5_34_objective_4_64_All_0', 'pg5_34_objective_4_64_NoDisjunction_0', 'pg5_34_objective_4_64_NoMatrix_0', 'pg5_34_objective_4_64_NoTerm_0', 'pg5_34_objective_4_64_NoBasis_0', 'neos-860300_objective_0_4_All_0', 'neos-860300_objective_0_4_NoDisjunction_0', 'neos-860300_objective_0_4_NoMatrix_0', 'neos-860300_objective_0_4_NoTerm_0', 'neos-860300_objective_0_4_NoBasis_0', 'neos-860300_objective_0_64_All_0', 'neos-860300_objective_0_64_NoDisjunction_0', 'neos-860300_objective_0_64_NoMatrix_0', 'neos-860300_objective_0_64_NoTerm_0', 'neos-860300_objective_0_64_NoBasis_0', 'neos-860300_objective_2_4_All_0', 'neos-860300_objective_2_4_NoDisjunction_0', 'neos-860300_objective_2_4_NoMatrix_0', 'neos-860300_objective_2_4_NoTerm_0', 'neos-860300_objective_2_4_NoBasis_0', 'neos-860300_objective_2_64_All_0', 'neos-860300_objective_2_64_NoDisjunction_0', 'neos-860300_objective_2_64_NoMatrix_0', 'neos-860300_objective_2_64_NoTerm_0', 'neos-860300_objective_2_64_NoBasis_0', 'neos-860300_objective_4_4_All_0', 'neos-860300_objective_4_4_NoDisjunction_0', 'neos-860300_objective_4_4_NoMatrix_0', 'neos-860300_objective_4_4_NoTerm_0', 'neos-860300_objective_4_4_NoBasis_0', 'neos-860300_objective_4_64_All_0', 'neos-860300_objective_4_64_NoDisjunction_0', 'neos-860300_objective_4_64_NoMatrix_0', 'neos-860300_objective_4_64_NoTerm_0', 'neos-860300_objective_4_64_NoBasis_0', 'neos-4393408-tinui_objective_0_4_All_0', 'neos-4393408-tinui_objective_0_4_NoDisjunction_0', 'neos-4393408-tinui_objective_0_4_NoMatrix_0', 'neos-4393408-tinui_objective_0_4_NoTerm_0', 'neos-4393408-tinui_objective_0_4_NoBasis_0', 'neos-4393408-tinui_objective_0_64_All_0', 'neos-4393408-tinui_objective_0_64_NoDisjunction_0', 'neos-4393408-tinui_objective_0_64_NoMatrix_0', 'neos-4393408-tinui_objective_0_64_NoTerm_0', 'neos-4393408-tinui_objective_0_64_NoBasis_0', 'misc07_objective_0_4_All_0', 'misc07_objective_0_4_NoDisjunction_0', 'misc07_objective_0_4_NoMatrix_0', 'misc07_objective_0_4_NoTerm_0', 'misc07_objective_0_4_NoBasis_0', 'misc07_objective_0_64_All_0', 'misc07_objective_0_64_NoDisjunction_0', 'misc07_objective_0_64_NoMatrix_0', 'misc07_objective_0_64_NoTerm_0', 'misc07_objective_0_64_NoBasis_0', 'misc07_objective_2_4_All_0', 'misc07_objective_2_4_NoDisjunction_0', 'misc07_objective_2_4_NoMatrix_0', 'misc07_objective_2_4_NoTerm_0', 'misc07_objective_2_4_NoBasis_0', 'misc07_objective_2_64_All_0', 'misc07_objective_2_64_NoDisjunction_0', 'misc07_objective_2_64_NoMatrix_0', 'misc07_objective_2_64_NoTerm_0', 'misc07_objective_2_64_NoBasis_0', 'misc07_objective_4_4_All_0', 'misc07_objective_4_4_NoDisjunction_0', 'misc07_objective_4_4_NoMatrix_0', 'misc07_objective_4_4_NoTerm_0', 'misc07_objective_4_4_NoBasis_0', 'misc07_objective_4_64_All_0', 'misc07_objective_4_64_NoDisjunction_0', 'misc07_objective_4_64_NoMatrix_0', 'misc07_objective_4_64_NoTerm_0', 'misc07_objective_4_64_NoBasis_0', 'neos-3046615-murg_objective_0_4_All_0', 'neos-3046615-murg_objective_0_4_NoDisjunction_0', 'neos-3046615-murg_objective_0_4_NoMatrix_0', 'neos-3046615-murg_objective_0_4_NoTerm_0', 'neos-3046615-murg_objective_0_4_NoBasis_0', 'neos-3046615-murg_objective_0_64_All_0', 'neos-3046615-murg_objective_0_64_NoDisjunction_0', 'neos-3046615-murg_objective_0_64_NoMatrix_0', 'neos-3046615-murg_objective_0_64_NoTerm_0', 'neos-3046615-murg_objective_0_64_NoBasis_0', 'neos-3046615-murg_objective_2_4_All_0', 'neos-3046615-murg_objective_2_4_NoDisjunction_0', 'neos-3046615-murg_objective_2_4_NoMatrix_0', 'neos-3046615-murg_objective_2_4_NoTerm_0', 'neos-3046615-murg_objective_2_4_NoBasis_0', 'neos-3046615-murg_objective_2_64_All_0', 'neos-3046615-murg_objective_2_64_NoDisjunction_0', 'neos-3046615-murg_objective_2_64_NoMatrix_0', 'neos-3046615-murg_objective_2_64_NoTerm_0', 'neos-3046615-murg_objective_2_64_NoBasis_0', 'neos-3046615-murg_objective_4_4_All_0', 'neos-3046615-murg_objective_4_4_NoDisjunction_0', 'neos-3046615-murg_objective_4_4_NoMatrix_0', 'neos-3046615-murg_objective_4_4_NoTerm_0', 'neos-3046615-murg_objective_4_4_NoBasis_0', 'neos-3046615-murg_objective_4_64_All_0', 'neos-3046615-murg_objective_4_64_NoDisjunction_0', 'neos-3046615-murg_objective_4_64_NoMatrix_0', 'neos-3046615-murg_objective_4_64_NoTerm_0', 'neos-3046615-murg_objective_4_64_NoBasis_0']\n"
     ]
    },
    {
     "data": {
      "text/plain": [
       "0.14532674772036475"
      ]
     },
     "execution_count": 47,
     "metadata": {},
     "output_type": "execute_result"
    }
   ],
   "execution_count": 47
  },
  {
   "metadata": {
    "ExecuteTime": {
     "end_time": "2025-04-28T15:58:26.830919Z",
     "start_time": "2025-04-28T15:58:26.824459Z"
    }
   },
   "cell_type": "code",
   "source": [
    "print(err[\"dimension must stay fixed\"])\n",
    "len(err[\"dimension must stay fixed\"]) / count_series"
   ],
   "id": "f1cac35742f4bf41",
   "outputs": [
    {
     "name": "stdout",
     "output_type": "stream",
     "text": [
      "['neos-574665_rhs_0_4_New_0', 'neos-574665_rhs_0_4_Farkas_0', 'neos-574665_rhs_0_4_All_0', 'neos-574665_rhs_0_4_NoDisjunction_0', 'neos-574665_rhs_0_4_NoMatrix_0', 'neos-574665_rhs_0_4_NoTerm_0', 'neos-574665_rhs_0_4_NoBasis_0', 'neos-574665_rhs_0_64_New_0', 'neos-574665_rhs_0_64_Farkas_0', 'neos-574665_rhs_0_64_All_0', 'neos-574665_rhs_0_64_NoDisjunction_0', 'neos-574665_rhs_0_64_NoMatrix_0', 'neos-574665_rhs_0_64_NoTerm_0', 'neos-574665_rhs_0_64_NoBasis_0', 'neos-574665_matrix_0_4_New_0', 'neos-574665_matrix_0_4_Farkas_0', 'neos-574665_matrix_0_4_All_0', 'neos-574665_matrix_0_4_NoDisjunction_0', 'neos-574665_matrix_0_4_NoMatrix_0', 'neos-574665_matrix_0_4_NoTerm_0', 'neos-574665_matrix_0_4_NoBasis_0', 'neos-574665_matrix_0_64_New_0', 'neos-574665_matrix_0_64_Farkas_0', 'neos-574665_matrix_0_64_All_0', 'neos-574665_matrix_0_64_NoDisjunction_0', 'neos-574665_matrix_0_64_NoMatrix_0', 'neos-574665_matrix_0_64_NoTerm_0', 'neos-574665_matrix_0_64_NoBasis_0', 'neos-574665_objective_0_4_New_0', 'neos-574665_objective_0_4_Farkas_0', 'neos-574665_objective_0_4_All_0', 'neos-574665_objective_0_4_NoDisjunction_0', 'neos-574665_objective_0_4_NoMatrix_0', 'neos-574665_objective_0_4_NoTerm_0', 'neos-574665_objective_0_4_NoBasis_0', 'neos-574665_objective_0_64_New_0', 'neos-574665_objective_0_64_Farkas_0', 'neos-574665_objective_0_64_All_0', 'neos-574665_objective_0_64_NoDisjunction_0', 'neos-574665_objective_0_64_NoMatrix_0', 'neos-574665_objective_0_64_NoTerm_0', 'neos-574665_objective_0_64_NoBasis_0', 'neos-574665_objective_4_4_New_0', 'neos-574665_objective_4_4_Farkas_0', 'neos-574665_objective_4_4_All_0', 'neos-574665_objective_4_4_NoDisjunction_0', 'neos-574665_objective_4_4_NoMatrix_0', 'neos-574665_objective_4_4_NoTerm_0', 'neos-574665_objective_4_4_NoBasis_0', 'neos-574665_objective_4_64_New_0', 'neos-574665_objective_4_64_Farkas_0', 'neos-574665_objective_4_64_All_0', 'neos-574665_objective_4_64_NoDisjunction_0', 'neos-574665_objective_4_64_NoMatrix_0', 'neos-574665_objective_4_64_NoTerm_0', 'neos-574665_objective_4_64_NoBasis_0', 'ran13x13_rhs_0_4_New_0', 'ran13x13_rhs_0_4_Farkas_0', 'ran13x13_rhs_0_4_All_0', 'ran13x13_rhs_0_4_NoDisjunction_0', 'ran13x13_rhs_0_4_NoMatrix_0', 'ran13x13_rhs_0_4_NoTerm_0', 'ran13x13_rhs_0_4_NoBasis_0', 'ran13x13_rhs_0_64_New_0', 'ran13x13_rhs_0_64_Farkas_0', 'ran13x13_rhs_0_64_All_0', 'ran13x13_rhs_0_64_NoDisjunction_0', 'ran13x13_rhs_0_64_NoMatrix_0', 'ran13x13_rhs_0_64_NoTerm_0', 'ran13x13_rhs_0_64_NoBasis_0', 'ran13x13_rhs_4_4_New_0', 'ran13x13_rhs_4_4_Farkas_0', 'ran13x13_rhs_4_4_All_0', 'ran13x13_rhs_4_4_NoDisjunction_0', 'ran13x13_rhs_4_4_NoMatrix_0', 'ran13x13_rhs_4_4_NoTerm_0', 'ran13x13_rhs_4_4_NoBasis_0', 'ran13x13_rhs_4_64_New_0', 'ran13x13_rhs_4_64_Farkas_0', 'ran13x13_rhs_4_64_All_0', 'ran13x13_rhs_4_64_NoDisjunction_0', 'ran13x13_rhs_4_64_NoMatrix_0', 'ran13x13_rhs_4_64_NoTerm_0', 'ran13x13_rhs_4_64_NoBasis_0', 'ran13x13_rhs_2_4_New_0', 'ran13x13_rhs_2_4_Farkas_0', 'ran13x13_rhs_2_4_All_0', 'ran13x13_rhs_2_4_NoDisjunction_0', 'ran13x13_rhs_2_4_NoMatrix_0', 'ran13x13_rhs_2_4_NoTerm_0', 'ran13x13_rhs_2_4_NoBasis_0', 'ran13x13_rhs_2_64_New_0', 'ran13x13_rhs_2_64_Farkas_0', 'ran13x13_rhs_2_64_All_0', 'ran13x13_rhs_2_64_NoDisjunction_0', 'ran13x13_rhs_2_64_NoMatrix_0', 'ran13x13_rhs_2_64_NoTerm_0', 'ran13x13_rhs_2_64_NoBasis_0', 'ran13x13_matrix_2_4_New_0', 'ran13x13_matrix_2_4_Farkas_0', 'ran13x13_matrix_2_4_All_0', 'ran13x13_matrix_2_4_NoDisjunction_0', 'ran13x13_matrix_2_4_NoMatrix_0', 'ran13x13_matrix_2_4_NoTerm_0', 'ran13x13_matrix_2_4_NoBasis_0', 'ran13x13_matrix_2_64_New_0', 'ran13x13_matrix_2_64_Farkas_0', 'ran13x13_matrix_2_64_All_0', 'ran13x13_matrix_2_64_NoDisjunction_0', 'ran13x13_matrix_2_64_NoMatrix_0', 'ran13x13_matrix_2_64_NoTerm_0', 'ran13x13_matrix_2_64_NoBasis_0', 'ran13x13_matrix_4_4_New_0', 'ran13x13_matrix_4_4_Farkas_0', 'ran13x13_matrix_4_4_All_0', 'ran13x13_matrix_4_4_NoDisjunction_0', 'ran13x13_matrix_4_4_NoMatrix_0', 'ran13x13_matrix_4_4_NoTerm_0', 'ran13x13_matrix_4_4_NoBasis_0', 'ran13x13_matrix_4_64_New_0', 'ran13x13_matrix_4_64_Farkas_0', 'ran13x13_matrix_4_64_All_0', 'ran13x13_matrix_4_64_NoDisjunction_0', 'ran13x13_matrix_4_64_NoMatrix_0', 'ran13x13_matrix_4_64_NoTerm_0', 'ran13x13_matrix_4_64_NoBasis_0', 'neos-1582420_rhs_0_4_New_0', 'neos-1582420_rhs_0_4_Farkas_0', 'neos-1582420_rhs_0_4_All_0', 'neos-1582420_rhs_0_4_NoDisjunction_0', 'neos-1582420_rhs_0_4_NoMatrix_0', 'neos-1582420_rhs_0_4_NoTerm_0', 'neos-1582420_rhs_0_4_NoBasis_0', 'neos-1582420_objective_0_4_New_0', 'neos-1582420_objective_0_4_Farkas_0', 'neos-1582420_objective_0_4_All_0', 'neos-1582420_objective_0_4_NoDisjunction_0', 'neos-1582420_objective_0_4_NoMatrix_0', 'neos-1582420_objective_0_4_NoTerm_0', 'neos-1582420_objective_0_4_NoBasis_0', 'neos-1582420_rhs_4_4_New_0', 'neos-1582420_rhs_4_4_Farkas_0', 'neos-1582420_rhs_4_4_All_0', 'neos-1582420_rhs_4_4_NoDisjunction_0', 'neos-1582420_rhs_4_4_NoMatrix_0', 'neos-1582420_rhs_4_4_NoTerm_0', 'neos-1582420_rhs_4_4_NoBasis_0', 'neos-1582420_rhs_2_4_New_0', 'neos-1582420_rhs_2_4_Farkas_0', 'neos-1582420_rhs_2_4_All_0', 'neos-1582420_rhs_2_4_NoDisjunction_0', 'neos-1582420_rhs_2_4_NoMatrix_0', 'neos-1582420_rhs_2_4_NoTerm_0', 'neos-1582420_rhs_2_4_NoBasis_0', 'neos-1582420_objective_2_4_New_0', 'neos-1582420_objective_2_4_Farkas_0', 'neos-1582420_objective_2_4_All_0', 'neos-1582420_objective_2_4_NoDisjunction_0', 'neos-1582420_objective_2_4_NoMatrix_0', 'neos-1582420_objective_2_4_NoTerm_0', 'neos-1582420_objective_2_4_NoBasis_0', 'neos-1582420_matrix_2_4_New_0', 'neos-1582420_matrix_2_4_Farkas_0', 'neos-1582420_matrix_2_4_All_0', 'neos-1582420_matrix_2_4_NoDisjunction_0', 'neos-1582420_matrix_2_4_NoMatrix_0', 'neos-1582420_matrix_2_4_NoTerm_0', 'neos-1582420_matrix_2_4_NoBasis_0', 'neos-1582420_matrix_4_4_New_0', 'neos-1582420_matrix_4_4_Farkas_0', 'neos-1582420_matrix_4_4_All_0', 'neos-1582420_matrix_4_4_NoDisjunction_0', 'neos-1582420_matrix_4_4_NoMatrix_0', 'neos-1582420_matrix_4_4_NoTerm_0', 'neos-1582420_matrix_4_4_NoBasis_0', 'neos-1582420_objective_4_4_New_0', 'neos-1582420_objective_4_4_Farkas_0', 'neos-1582420_objective_4_4_All_0', 'neos-1582420_objective_4_4_NoDisjunction_0', 'neos-1582420_objective_4_4_NoMatrix_0', 'neos-1582420_objective_4_4_NoTerm_0', 'neos-1582420_objective_4_4_NoBasis_0', 'mtest4ma_rhs_0_4_New_0', 'mtest4ma_rhs_0_4_Farkas_0', 'mtest4ma_rhs_0_4_All_0', 'mtest4ma_rhs_0_4_NoDisjunction_0', 'mtest4ma_rhs_0_4_NoMatrix_0', 'mtest4ma_rhs_0_4_NoTerm_0', 'mtest4ma_rhs_0_4_NoBasis_0', 'mtest4ma_rhs_0_64_New_0', 'mtest4ma_rhs_0_64_Farkas_0', 'mtest4ma_rhs_0_64_All_0', 'mtest4ma_rhs_0_64_NoDisjunction_0', 'mtest4ma_rhs_0_64_NoMatrix_0', 'mtest4ma_rhs_0_64_NoTerm_0', 'mtest4ma_rhs_0_64_NoBasis_0', 'mtest4ma_matrix_0_4_New_0', 'mtest4ma_matrix_0_4_Farkas_0', 'mtest4ma_matrix_0_4_All_0', 'mtest4ma_matrix_0_4_NoDisjunction_0', 'mtest4ma_matrix_0_4_NoMatrix_0', 'mtest4ma_matrix_0_4_NoTerm_0', 'mtest4ma_matrix_0_4_NoBasis_0', 'mtest4ma_matrix_0_64_New_0', 'mtest4ma_matrix_0_64_Farkas_0', 'mtest4ma_matrix_0_64_All_0', 'mtest4ma_matrix_0_64_NoDisjunction_0', 'mtest4ma_matrix_0_64_NoMatrix_0', 'mtest4ma_matrix_0_64_NoTerm_0', 'mtest4ma_matrix_0_64_NoBasis_0', 'mtest4ma_matrix_2_4_New_0', 'mtest4ma_matrix_2_4_Farkas_0', 'mtest4ma_matrix_2_4_All_0', 'mtest4ma_matrix_2_4_NoDisjunction_0', 'mtest4ma_matrix_2_4_NoMatrix_0', 'mtest4ma_matrix_2_4_NoTerm_0', 'mtest4ma_matrix_2_4_NoBasis_0', 'mtest4ma_matrix_2_64_New_0', 'mtest4ma_matrix_2_64_Farkas_0', 'mtest4ma_matrix_2_64_All_0', 'mtest4ma_matrix_2_64_NoDisjunction_0', 'mtest4ma_matrix_2_64_NoMatrix_0', 'mtest4ma_matrix_2_64_NoTerm_0', 'mtest4ma_matrix_2_64_NoBasis_0', 'seymour1_rhs_0_4_New_0', 'seymour1_rhs_0_4_Farkas_0', 'seymour1_rhs_0_4_All_0', 'seymour1_rhs_0_4_NoDisjunction_0', 'seymour1_rhs_0_4_NoMatrix_0', 'seymour1_rhs_0_4_NoTerm_0', 'seymour1_rhs_0_4_NoBasis_0', 'seymour1_matrix_0_4_New_0', 'seymour1_matrix_0_4_Farkas_0', 'seymour1_matrix_0_4_All_0', 'seymour1_matrix_0_4_NoDisjunction_0', 'seymour1_matrix_0_4_NoMatrix_0', 'seymour1_matrix_0_4_NoTerm_0', 'seymour1_matrix_0_4_NoBasis_0', 'seymour1_rhs_4_4_New_0', 'seymour1_rhs_4_4_Farkas_0', 'seymour1_rhs_4_4_All_0', 'seymour1_rhs_4_4_NoDisjunction_0', 'seymour1_rhs_4_4_NoMatrix_0', 'seymour1_rhs_4_4_NoTerm_0', 'seymour1_rhs_4_4_NoBasis_0', 'seymour1_rhs_2_4_New_0', 'seymour1_rhs_2_4_Farkas_0', 'seymour1_rhs_2_4_All_0', 'seymour1_rhs_2_4_NoDisjunction_0', 'seymour1_rhs_2_4_NoMatrix_0', 'seymour1_rhs_2_4_NoTerm_0', 'seymour1_rhs_2_4_NoBasis_0', 'seymour1_objective_2_4_New_0', 'seymour1_objective_2_4_Farkas_0', 'seymour1_objective_2_4_All_0', 'seymour1_objective_2_4_NoDisjunction_0', 'seymour1_objective_2_4_NoMatrix_0', 'seymour1_objective_2_4_NoTerm_0', 'seymour1_objective_2_4_NoBasis_0', 'seymour1_matrix_2_4_New_0', 'seymour1_matrix_2_4_Farkas_0', 'seymour1_matrix_2_4_All_0', 'seymour1_matrix_2_4_NoDisjunction_0', 'seymour1_matrix_2_4_NoMatrix_0', 'seymour1_matrix_2_4_NoTerm_0', 'seymour1_matrix_2_4_NoBasis_0', 'seymour1_matrix_4_4_New_0', 'seymour1_matrix_4_4_Farkas_0', 'seymour1_matrix_4_4_All_0', 'seymour1_matrix_4_4_NoDisjunction_0', 'seymour1_matrix_4_4_NoMatrix_0', 'seymour1_matrix_4_4_NoTerm_0', 'seymour1_matrix_4_4_NoBasis_0', 'seymour1_objective_4_4_New_0', 'seymour1_objective_4_4_Farkas_0', 'seymour1_objective_4_4_All_0', 'seymour1_objective_4_4_NoDisjunction_0', 'seymour1_objective_4_4_NoMatrix_0', 'seymour1_objective_4_4_NoTerm_0', 'seymour1_objective_4_4_NoBasis_0', 'ic97_tension_rhs_0_4_New_0', 'ic97_tension_rhs_0_4_Farkas_0', 'ic97_tension_rhs_0_4_All_0', 'ic97_tension_rhs_0_4_NoDisjunction_0', 'ic97_tension_rhs_0_4_NoMatrix_0', 'ic97_tension_rhs_0_4_NoTerm_0', 'ic97_tension_rhs_0_4_NoBasis_0', 'ic97_tension_rhs_0_64_New_0', 'ic97_tension_rhs_0_64_Farkas_0', 'ic97_tension_rhs_0_64_All_0', 'ic97_tension_rhs_0_64_NoDisjunction_0', 'ic97_tension_rhs_0_64_NoMatrix_0', 'ic97_tension_rhs_0_64_NoTerm_0', 'ic97_tension_rhs_0_64_NoBasis_0', 'ic97_tension_objective_0_4_New_0', 'ic97_tension_objective_0_4_Farkas_0', 'ic97_tension_objective_0_4_All_0', 'ic97_tension_objective_0_4_NoDisjunction_0', 'ic97_tension_objective_0_4_NoMatrix_0', 'ic97_tension_objective_0_4_NoTerm_0', 'ic97_tension_objective_0_4_NoBasis_0', 'ic97_tension_objective_0_64_New_0', 'ic97_tension_objective_0_64_Farkas_0', 'ic97_tension_objective_0_64_All_0', 'ic97_tension_objective_0_64_NoDisjunction_0', 'ic97_tension_objective_0_64_NoMatrix_0', 'ic97_tension_objective_0_64_NoTerm_0', 'ic97_tension_objective_0_64_NoBasis_0', 'ic97_tension_objective_2_4_New_0', 'ic97_tension_objective_2_4_Farkas_0', 'ic97_tension_objective_2_4_All_0', 'ic97_tension_objective_2_4_NoDisjunction_0', 'ic97_tension_objective_2_4_NoMatrix_0', 'ic97_tension_objective_2_4_NoTerm_0', 'ic97_tension_objective_2_4_NoBasis_0', 'ic97_tension_objective_2_64_New_0', 'ic97_tension_objective_2_64_Farkas_0', 'ic97_tension_objective_2_64_All_0', 'ic97_tension_objective_2_64_NoDisjunction_0', 'ic97_tension_objective_2_64_NoMatrix_0', 'ic97_tension_objective_2_64_NoTerm_0', 'ic97_tension_objective_2_64_NoBasis_0', 'ic97_tension_objective_4_4_New_0', 'ic97_tension_objective_4_4_Farkas_0', 'ic97_tension_objective_4_4_All_0', 'ic97_tension_objective_4_4_NoDisjunction_0', 'ic97_tension_objective_4_4_NoMatrix_0', 'ic97_tension_objective_4_4_NoTerm_0', 'ic97_tension_objective_4_4_NoBasis_0', 'ic97_tension_objective_4_64_New_0', 'ic97_tension_objective_4_64_Farkas_0', 'ic97_tension_objective_4_64_All_0', 'ic97_tension_objective_4_64_NoDisjunction_0', 'ic97_tension_objective_4_64_NoMatrix_0', 'ic97_tension_objective_4_64_NoTerm_0', 'ic97_tension_objective_4_64_NoBasis_0', 'bppc8-09_matrix_0_4_New_0', 'bppc8-09_matrix_0_4_Farkas_0', 'bppc8-09_matrix_0_4_All_0', 'bppc8-09_matrix_0_4_NoDisjunction_0', 'bppc8-09_matrix_0_4_NoMatrix_0', 'bppc8-09_matrix_0_4_NoTerm_0', 'bppc8-09_matrix_0_4_NoBasis_0', 'bppc8-09_matrix_0_64_New_0', 'bppc8-09_matrix_0_64_Farkas_0', 'bppc8-09_matrix_0_64_All_0', 'bppc8-09_matrix_0_64_NoDisjunction_0', 'bppc8-09_matrix_0_64_NoMatrix_0', 'bppc8-09_matrix_0_64_NoTerm_0', 'bppc8-09_matrix_0_64_NoBasis_0', 'bppc8-09_objective_0_4_New_0', 'bppc8-09_objective_0_4_Farkas_0', 'bppc8-09_objective_0_4_All_0', 'bppc8-09_objective_0_4_NoDisjunction_0', 'bppc8-09_objective_0_4_NoMatrix_0', 'bppc8-09_objective_0_4_NoTerm_0', 'bppc8-09_objective_0_4_NoBasis_0', 'bppc8-09_objective_0_64_New_0', 'bppc8-09_objective_0_64_Farkas_0', 'bppc8-09_objective_0_64_All_0', 'bppc8-09_objective_0_64_NoDisjunction_0', 'bppc8-09_objective_0_64_NoMatrix_0', 'bppc8-09_objective_0_64_NoTerm_0', 'bppc8-09_objective_0_64_NoBasis_0', 'bppc8-09_rhs_4_4_New_0', 'bppc8-09_rhs_4_4_Farkas_0', 'bppc8-09_rhs_4_4_All_0', 'bppc8-09_rhs_4_4_NoDisjunction_0', 'bppc8-09_rhs_4_4_NoMatrix_0', 'bppc8-09_rhs_4_4_NoTerm_0', 'bppc8-09_rhs_4_4_NoBasis_0', 'bppc8-09_rhs_4_64_New_0', 'bppc8-09_rhs_4_64_Farkas_0', 'bppc8-09_rhs_4_64_All_0', 'bppc8-09_rhs_4_64_NoDisjunction_0', 'bppc8-09_rhs_4_64_NoMatrix_0', 'bppc8-09_rhs_4_64_NoTerm_0', 'bppc8-09_rhs_4_64_NoBasis_0', 'bppc8-09_matrix_2_4_New_0', 'bppc8-09_matrix_2_4_Farkas_0', 'bppc8-09_matrix_2_4_All_0', 'bppc8-09_matrix_2_4_NoDisjunction_0', 'bppc8-09_matrix_2_4_NoMatrix_0', 'bppc8-09_matrix_2_4_NoTerm_0', 'bppc8-09_matrix_2_4_NoBasis_0', 'bppc8-09_matrix_2_64_New_0', 'bppc8-09_matrix_2_64_Farkas_0', 'bppc8-09_matrix_2_64_All_0', 'bppc8-09_matrix_2_64_NoDisjunction_0', 'bppc8-09_matrix_2_64_NoMatrix_0', 'bppc8-09_matrix_2_64_NoTerm_0', 'bppc8-09_matrix_2_64_NoBasis_0', 'bppc8-09_objective_4_4_New_0', 'bppc8-09_objective_4_4_Farkas_0', 'bppc8-09_objective_4_4_All_0', 'bppc8-09_objective_4_4_NoDisjunction_0', 'bppc8-09_objective_4_4_NoMatrix_0', 'bppc8-09_objective_4_4_NoTerm_0', 'bppc8-09_objective_4_4_NoBasis_0', 'bppc8-09_objective_4_64_New_0', 'bppc8-09_objective_4_64_Farkas_0', 'bppc8-09_objective_4_64_All_0', 'bppc8-09_objective_4_64_NoDisjunction_0', 'bppc8-09_objective_4_64_NoMatrix_0', 'bppc8-09_objective_4_64_NoTerm_0', 'bppc8-09_objective_4_64_NoBasis_0', 'h50x2450_rhs_0_4_New_0', 'h50x2450_rhs_0_4_Farkas_0', 'h50x2450_rhs_0_4_All_0', 'h50x2450_rhs_0_4_NoDisjunction_0', 'h50x2450_rhs_0_4_NoMatrix_0', 'h50x2450_rhs_0_4_NoTerm_0', 'h50x2450_rhs_0_4_NoBasis_0', 'h50x2450_rhs_0_64_New_0', 'h50x2450_rhs_0_64_Farkas_0', 'h50x2450_rhs_0_64_All_0', 'h50x2450_rhs_0_64_NoDisjunction_0', 'h50x2450_rhs_0_64_NoMatrix_0', 'h50x2450_rhs_0_64_NoTerm_0', 'h50x2450_rhs_0_64_NoBasis_0', 'h50x2450_matrix_0_4_New_0', 'h50x2450_matrix_0_4_Farkas_0', 'h50x2450_matrix_0_4_All_0', 'h50x2450_matrix_0_4_NoDisjunction_0', 'h50x2450_matrix_0_4_NoMatrix_0', 'h50x2450_matrix_0_4_NoTerm_0', 'h50x2450_matrix_0_4_NoBasis_0', 'h50x2450_matrix_0_64_New_0', 'h50x2450_matrix_0_64_Farkas_0', 'h50x2450_matrix_0_64_All_0', 'h50x2450_matrix_0_64_NoDisjunction_0', 'h50x2450_matrix_0_64_NoMatrix_0', 'h50x2450_matrix_0_64_NoTerm_0', 'h50x2450_matrix_0_64_NoBasis_0', 'h50x2450_objective_0_4_New_0', 'h50x2450_objective_0_4_Farkas_0', 'h50x2450_objective_0_4_All_0', 'h50x2450_objective_0_4_NoDisjunction_0', 'h50x2450_objective_0_4_NoMatrix_0', 'h50x2450_objective_0_4_NoTerm_0', 'h50x2450_objective_0_4_NoBasis_0', 'h50x2450_objective_0_64_All_0', 'h50x2450_objective_0_64_NoDisjunction_0', 'h50x2450_objective_0_64_NoMatrix_0', 'h50x2450_objective_0_64_NoTerm_0', 'h50x2450_objective_0_64_NoBasis_0', 'h50x2450_objective_2_4_New_0', 'h50x2450_objective_2_4_Farkas_0', 'h50x2450_objective_2_4_All_0', 'h50x2450_objective_2_4_NoDisjunction_0', 'h50x2450_objective_2_4_NoMatrix_0', 'h50x2450_objective_2_4_NoTerm_0', 'h50x2450_objective_2_4_NoBasis_0', 'h50x2450_objective_2_64_Farkas_0', 'h50x2450_objective_2_64_All_0', 'h50x2450_objective_2_64_NoDisjunction_0', 'h50x2450_objective_2_64_NoMatrix_0', 'h50x2450_objective_2_64_NoTerm_0', 'h50x2450_objective_2_64_NoBasis_0', 'h50x2450_matrix_2_4_New_0', 'h50x2450_matrix_2_4_Farkas_0', 'h50x2450_matrix_2_4_All_0', 'h50x2450_matrix_2_4_NoDisjunction_0', 'h50x2450_matrix_2_4_NoMatrix_0', 'h50x2450_matrix_2_4_NoTerm_0', 'h50x2450_matrix_2_4_NoBasis_0', 'h50x2450_matrix_2_64_New_0', 'h50x2450_matrix_2_64_Farkas_0', 'h50x2450_matrix_2_64_All_0', 'h50x2450_matrix_2_64_NoDisjunction_0', 'h50x2450_matrix_2_64_NoMatrix_0', 'h50x2450_matrix_2_64_NoTerm_0', 'h50x2450_matrix_2_64_NoBasis_0', 'neos-1445743_matrix_0_4_New_0', 'neos-1445743_matrix_0_4_Farkas_0', 'neos-1445743_matrix_0_4_All_0', 'neos-1445743_matrix_0_4_NoDisjunction_0', 'neos-1445743_matrix_0_4_NoMatrix_0', 'neos-1445743_matrix_0_4_NoTerm_0', 'neos-1445743_matrix_0_4_NoBasis_0', 'neos-1445743_rhs_4_4_New_0', 'neos-1445743_rhs_4_4_Farkas_0', 'neos-1445743_rhs_4_4_All_0', 'neos-1445743_rhs_4_4_NoDisjunction_0', 'neos-1445743_rhs_4_4_NoMatrix_0', 'neos-1445743_rhs_4_4_NoTerm_0', 'neos-1445743_rhs_4_4_NoBasis_0', 'neos-1445743_rhs_2_4_New_0', 'neos-1445743_rhs_2_4_Farkas_0', 'neos-1445743_rhs_2_4_All_0', 'neos-1445743_rhs_2_4_NoDisjunction_0', 'neos-1445743_rhs_2_4_NoMatrix_0', 'neos-1445743_rhs_2_4_NoTerm_0', 'neos-1445743_rhs_2_4_NoBasis_0', 'neos-1445743_objective_2_4_New_0', 'neos-1445743_objective_2_4_Farkas_0', 'neos-1445743_objective_2_4_All_0', 'neos-1445743_objective_2_4_NoDisjunction_0', 'neos-1445743_objective_2_4_NoMatrix_0', 'neos-1445743_objective_2_4_NoTerm_0', 'neos-1445743_objective_2_4_NoBasis_0', 'neos-1445743_objective_4_4_New_0', 'neos-1445743_objective_4_4_Farkas_0', 'neos-1445743_objective_4_4_All_0', 'neos-1445743_objective_4_4_NoDisjunction_0', 'neos-1445743_objective_4_4_NoMatrix_0', 'neos-1445743_objective_4_4_NoTerm_0', 'neos-1445743_objective_4_4_NoBasis_0', 'neos-5051588-culgoa_matrix_2_4_New_0', 'neos-5051588-culgoa_matrix_2_4_Farkas_0', 'neos-5051588-culgoa_matrix_2_4_All_0', 'neos-5051588-culgoa_matrix_2_4_NoDisjunction_0', 'neos-5051588-culgoa_matrix_2_4_NoMatrix_0', 'neos-5051588-culgoa_matrix_2_4_NoTerm_0', 'neos-5051588-culgoa_matrix_2_4_NoBasis_0', 'neos-5051588-culgoa_matrix_2_64_New_0', 'neos-5051588-culgoa_matrix_2_64_Farkas_0', 'neos-5051588-culgoa_matrix_2_64_All_0', 'neos-5051588-culgoa_matrix_2_64_NoDisjunction_0', 'neos-5051588-culgoa_matrix_2_64_NoMatrix_0', 'neos-5051588-culgoa_matrix_2_64_NoTerm_0', 'neos-5051588-culgoa_matrix_2_64_NoBasis_0', 'neos-5051588-culgoa_matrix_4_4_New_0', 'neos-5051588-culgoa_matrix_4_4_Farkas_0', 'neos-5051588-culgoa_matrix_4_4_All_0', 'neos-5051588-culgoa_matrix_4_4_NoDisjunction_0', 'neos-5051588-culgoa_matrix_4_4_NoMatrix_0', 'neos-5051588-culgoa_matrix_4_4_NoTerm_0', 'neos-5051588-culgoa_matrix_4_4_NoBasis_0', 'neos-5051588-culgoa_matrix_4_64_New_0', 'neos-5051588-culgoa_matrix_4_64_Farkas_0', 'neos-5051588-culgoa_matrix_4_64_All_0', 'neos-5051588-culgoa_matrix_4_64_NoDisjunction_0', 'neos-5051588-culgoa_matrix_4_64_NoMatrix_0', 'neos-5051588-culgoa_matrix_4_64_NoTerm_0', 'neos-5051588-culgoa_matrix_4_64_NoBasis_0', 'aligninq_rhs_0_4_New_0', 'aligninq_rhs_0_4_Farkas_0', 'aligninq_rhs_0_4_All_0', 'aligninq_rhs_0_4_NoDisjunction_0', 'aligninq_rhs_0_4_NoMatrix_0', 'aligninq_rhs_0_4_NoTerm_0', 'aligninq_rhs_0_4_NoBasis_0', 'aligninq_matrix_0_4_New_0', 'aligninq_matrix_0_4_Farkas_0', 'aligninq_matrix_0_4_All_0', 'aligninq_matrix_0_4_NoDisjunction_0', 'aligninq_matrix_0_4_NoMatrix_0', 'aligninq_matrix_0_4_NoTerm_0', 'aligninq_matrix_0_4_NoBasis_0', 'aligninq_matrix_2_4_New_0', 'aligninq_matrix_2_4_Farkas_0', 'aligninq_matrix_2_4_All_0', 'aligninq_matrix_2_4_NoDisjunction_0', 'aligninq_matrix_2_4_NoMatrix_0', 'aligninq_matrix_2_4_NoTerm_0', 'aligninq_matrix_2_4_NoBasis_0', 'aligninq_matrix_4_4_New_0', 'aligninq_matrix_4_4_Farkas_0', 'aligninq_matrix_4_4_All_0', 'aligninq_matrix_4_4_NoDisjunction_0', 'aligninq_matrix_4_4_NoMatrix_0', 'aligninq_matrix_4_4_NoTerm_0', 'aligninq_matrix_4_4_NoBasis_0', 'gsvm2rl3_matrix_0_4_New_0', 'gsvm2rl3_matrix_0_4_Farkas_0', 'gsvm2rl3_matrix_0_4_All_0', 'gsvm2rl3_matrix_0_4_NoDisjunction_0', 'gsvm2rl3_matrix_0_4_NoMatrix_0', 'gsvm2rl3_matrix_0_4_NoTerm_0', 'gsvm2rl3_matrix_0_4_NoBasis_0', 'gsvm2rl3_matrix_0_64_New_0', 'gsvm2rl3_matrix_0_64_Farkas_0', 'gsvm2rl3_matrix_0_64_All_0', 'gsvm2rl3_matrix_0_64_NoDisjunction_0', 'gsvm2rl3_matrix_0_64_NoMatrix_0', 'gsvm2rl3_matrix_0_64_NoTerm_0', 'gsvm2rl3_matrix_0_64_NoBasis_0', 'gsvm2rl3_objective_0_4_New_0', 'gsvm2rl3_objective_0_4_Farkas_0', 'gsvm2rl3_objective_0_4_All_0', 'gsvm2rl3_objective_0_4_NoDisjunction_0', 'gsvm2rl3_objective_0_4_NoMatrix_0', 'gsvm2rl3_objective_0_4_NoTerm_0', 'gsvm2rl3_objective_0_4_NoBasis_0', 'gsvm2rl3_objective_0_64_New_0', 'gsvm2rl3_objective_0_64_Farkas_0', 'gsvm2rl3_objective_0_64_All_0', 'gsvm2rl3_objective_0_64_NoDisjunction_0', 'gsvm2rl3_objective_0_64_NoMatrix_0', 'gsvm2rl3_objective_0_64_NoTerm_0', 'gsvm2rl3_objective_0_64_NoBasis_0', 'gsvm2rl3_objective_2_4_New_0', 'gsvm2rl3_objective_2_4_Farkas_0', 'gsvm2rl3_objective_2_4_All_0', 'gsvm2rl3_objective_2_4_NoDisjunction_0', 'gsvm2rl3_objective_2_4_NoMatrix_0', 'gsvm2rl3_objective_2_4_NoTerm_0', 'gsvm2rl3_objective_2_4_NoBasis_0', 'gsvm2rl3_objective_2_64_New_0', 'gsvm2rl3_objective_2_64_Farkas_0', 'gsvm2rl3_objective_2_64_All_0', 'gsvm2rl3_objective_2_64_NoDisjunction_0', 'gsvm2rl3_objective_2_64_NoMatrix_0', 'gsvm2rl3_objective_2_64_NoTerm_0', 'gsvm2rl3_objective_2_64_NoBasis_0', 'gsvm2rl3_matrix_2_4_New_0', 'gsvm2rl3_matrix_2_4_Farkas_0', 'gsvm2rl3_matrix_2_4_All_0', 'gsvm2rl3_matrix_2_4_NoDisjunction_0', 'gsvm2rl3_matrix_2_4_NoMatrix_0', 'gsvm2rl3_matrix_2_4_NoTerm_0', 'gsvm2rl3_matrix_2_4_NoBasis_0', 'gsvm2rl3_matrix_2_64_New_0', 'gsvm2rl3_matrix_2_64_Farkas_0', 'gsvm2rl3_matrix_2_64_All_0', 'gsvm2rl3_matrix_2_64_NoDisjunction_0', 'gsvm2rl3_matrix_2_64_NoMatrix_0', 'gsvm2rl3_matrix_2_64_NoTerm_0', 'gsvm2rl3_matrix_2_64_NoBasis_0', 'gsvm2rl3_matrix_4_4_New_0', 'gsvm2rl3_matrix_4_4_Farkas_0', 'gsvm2rl3_matrix_4_4_All_0', 'gsvm2rl3_matrix_4_4_NoDisjunction_0', 'gsvm2rl3_matrix_4_4_NoMatrix_0', 'gsvm2rl3_matrix_4_4_NoTerm_0', 'gsvm2rl3_matrix_4_4_NoBasis_0', 'gsvm2rl3_matrix_4_64_New_0', 'gsvm2rl3_matrix_4_64_Farkas_0', 'gsvm2rl3_matrix_4_64_All_0', 'gsvm2rl3_matrix_4_64_NoDisjunction_0', 'gsvm2rl3_matrix_4_64_NoMatrix_0', 'gsvm2rl3_matrix_4_64_NoTerm_0', 'gsvm2rl3_matrix_4_64_NoBasis_0', 'gsvm2rl3_objective_4_4_New_0', 'gsvm2rl3_objective_4_4_Farkas_0', 'gsvm2rl3_objective_4_4_All_0', 'gsvm2rl3_objective_4_4_NoDisjunction_0', 'gsvm2rl3_objective_4_4_NoMatrix_0', 'gsvm2rl3_objective_4_4_NoTerm_0', 'gsvm2rl3_objective_4_4_NoBasis_0', 'gsvm2rl3_objective_4_64_New_0', 'gsvm2rl3_objective_4_64_Farkas_0', 'gsvm2rl3_objective_4_64_All_0', 'gsvm2rl3_objective_4_64_NoDisjunction_0', 'gsvm2rl3_objective_4_64_NoMatrix_0', 'gsvm2rl3_objective_4_64_NoTerm_0', 'gsvm2rl3_objective_4_64_NoBasis_0', 'neos-631517_rhs_0_4_New_0', 'neos-631517_rhs_0_4_Farkas_0', 'neos-631517_rhs_0_4_All_0', 'neos-631517_rhs_0_4_NoDisjunction_0', 'neos-631517_rhs_0_4_NoMatrix_0', 'neos-631517_rhs_0_4_NoTerm_0', 'neos-631517_rhs_0_4_NoBasis_0', 'neos-631517_rhs_0_64_New_0', 'neos-631517_rhs_0_64_Farkas_0', 'neos-631517_rhs_0_64_All_0', 'neos-631517_rhs_0_64_NoDisjunction_0', 'neos-631517_rhs_0_64_NoMatrix_0', 'neos-631517_rhs_0_64_NoTerm_0', 'neos-631517_rhs_0_64_NoBasis_0', 'neos-631517_matrix_0_4_New_0', 'neos-631517_matrix_0_4_Farkas_0', 'neos-631517_matrix_0_4_All_0', 'neos-631517_matrix_0_4_NoDisjunction_0', 'neos-631517_matrix_0_4_NoMatrix_0', 'neos-631517_matrix_0_4_NoTerm_0', 'neos-631517_matrix_0_4_NoBasis_0', 'neos-631517_matrix_0_64_New_0', 'neos-631517_matrix_0_64_Farkas_0', 'neos-631517_matrix_0_64_All_0', 'neos-631517_matrix_0_64_NoDisjunction_0', 'neos-631517_matrix_0_64_NoMatrix_0', 'neos-631517_matrix_0_64_NoTerm_0', 'neos-631517_matrix_0_64_NoBasis_0', 'neos-631517_matrix_2_4_New_0', 'neos-631517_matrix_2_4_Farkas_0', 'neos-631517_matrix_2_4_All_0', 'neos-631517_matrix_2_4_NoDisjunction_0', 'neos-631517_matrix_2_4_NoMatrix_0', 'neos-631517_matrix_2_4_NoTerm_0', 'neos-631517_matrix_2_4_NoBasis_0', 'neos-631517_matrix_2_64_New_0', 'neos-631517_matrix_2_64_Farkas_0', 'neos-631517_matrix_2_64_All_0', 'neos-631517_matrix_2_64_NoDisjunction_0', 'neos-631517_matrix_2_64_NoMatrix_0', 'neos-631517_matrix_2_64_NoTerm_0', 'neos-631517_matrix_2_64_NoBasis_0', 'rout_rhs_0_4_New_0', 'rout_rhs_0_4_Farkas_0', 'rout_rhs_0_4_All_0', 'rout_rhs_0_4_NoDisjunction_0', 'rout_rhs_0_4_NoMatrix_0', 'rout_rhs_0_4_NoTerm_0', 'rout_rhs_0_4_NoBasis_0', 'rout_rhs_0_64_New_0', 'rout_rhs_0_64_Farkas_0', 'rout_rhs_0_64_All_0', 'rout_rhs_0_64_NoDisjunction_0', 'rout_rhs_0_64_NoMatrix_0', 'rout_rhs_0_64_NoTerm_0', 'rout_rhs_0_64_NoBasis_0', 'rout_matrix_0_4_New_0', 'rout_matrix_0_4_Farkas_0', 'rout_matrix_0_4_All_0', 'rout_matrix_0_4_NoDisjunction_0', 'rout_matrix_0_4_NoMatrix_0', 'rout_matrix_0_4_NoTerm_0', 'rout_matrix_0_4_NoBasis_0', 'rout_matrix_0_64_New_0', 'rout_matrix_0_64_Farkas_0', 'rout_matrix_0_64_All_0', 'rout_matrix_0_64_NoDisjunction_0', 'rout_matrix_0_64_NoMatrix_0', 'rout_matrix_0_64_NoTerm_0', 'rout_matrix_0_64_NoBasis_0', 'rout_matrix_2_4_New_0', 'rout_matrix_2_4_Farkas_0', 'rout_matrix_2_4_All_0', 'rout_matrix_2_4_NoDisjunction_0', 'rout_matrix_2_4_NoMatrix_0', 'rout_matrix_2_4_NoTerm_0', 'rout_matrix_2_4_NoBasis_0', 'rout_matrix_2_64_New_0', 'rout_matrix_2_64_Farkas_0', 'rout_matrix_2_64_All_0', 'rout_matrix_2_64_NoDisjunction_0', 'rout_matrix_2_64_NoMatrix_0', 'rout_matrix_2_64_NoTerm_0', 'rout_matrix_2_64_NoBasis_0', 'rout_matrix_4_4_New_0', 'rout_matrix_4_4_Farkas_0', 'rout_matrix_4_4_All_0', 'rout_matrix_4_4_NoDisjunction_0', 'rout_matrix_4_4_NoMatrix_0', 'rout_matrix_4_4_NoTerm_0', 'rout_matrix_4_4_NoBasis_0', 'rout_matrix_4_64_New_0', 'rout_matrix_4_64_Farkas_0', 'rout_matrix_4_64_All_0', 'rout_matrix_4_64_NoDisjunction_0', 'rout_matrix_4_64_NoMatrix_0', 'rout_matrix_4_64_NoTerm_0', 'rout_matrix_4_64_NoBasis_0', 'n7-3_matrix_0_4_New_0', 'n7-3_matrix_0_4_Farkas_0', 'n7-3_matrix_0_4_All_0', 'n7-3_matrix_0_4_NoDisjunction_0', 'n7-3_matrix_0_4_NoMatrix_0', 'n7-3_matrix_0_4_NoTerm_0', 'n7-3_matrix_0_4_NoBasis_0', 'n7-3_objective_0_4_New_0', 'n7-3_objective_0_4_Farkas_0', 'n7-3_objective_0_4_All_0', 'n7-3_objective_0_4_NoDisjunction_0', 'n7-3_objective_0_4_NoMatrix_0', 'n7-3_objective_0_4_NoTerm_0', 'n7-3_objective_0_4_NoBasis_0', 'n7-3_objective_2_4_New_0', 'n7-3_objective_2_4_Farkas_0', 'n7-3_objective_2_4_All_0', 'n7-3_objective_2_4_NoDisjunction_0', 'n7-3_objective_2_4_NoMatrix_0', 'n7-3_objective_2_4_NoTerm_0', 'n7-3_objective_2_4_NoBasis_0', 'n7-3_matrix_2_4_New_0', 'n7-3_matrix_2_4_Farkas_0', 'n7-3_matrix_2_4_All_0', 'n7-3_matrix_2_4_NoDisjunction_0', 'n7-3_matrix_2_4_NoMatrix_0', 'n7-3_matrix_2_4_NoTerm_0', 'n7-3_matrix_2_4_NoBasis_0', 'n7-3_objective_4_4_New_0', 'n7-3_objective_4_4_Farkas_0', 'n7-3_objective_4_4_All_0', 'n7-3_objective_4_4_NoDisjunction_0', 'n7-3_objective_4_4_NoMatrix_0', 'n7-3_objective_4_4_NoTerm_0', 'n7-3_objective_4_4_NoBasis_0', 'exp-1-500-5-5_rhs_0_4_New_0', 'exp-1-500-5-5_rhs_0_4_Farkas_0', 'exp-1-500-5-5_rhs_0_4_All_0', 'exp-1-500-5-5_rhs_0_4_NoDisjunction_0', 'exp-1-500-5-5_rhs_0_4_NoMatrix_0', 'exp-1-500-5-5_rhs_0_4_NoTerm_0', 'exp-1-500-5-5_rhs_0_4_NoBasis_0', 'exp-1-500-5-5_rhs_0_64_New_0', 'exp-1-500-5-5_rhs_0_64_Farkas_0', 'exp-1-500-5-5_rhs_0_64_All_0', 'exp-1-500-5-5_rhs_0_64_NoDisjunction_0', 'exp-1-500-5-5_rhs_0_64_NoMatrix_0', 'exp-1-500-5-5_rhs_0_64_NoTerm_0', 'exp-1-500-5-5_rhs_0_64_NoBasis_0', 'exp-1-500-5-5_matrix_0_4_New_0', 'exp-1-500-5-5_matrix_0_4_Farkas_0', 'exp-1-500-5-5_matrix_0_4_All_0', 'exp-1-500-5-5_matrix_0_4_NoDisjunction_0', 'exp-1-500-5-5_matrix_0_4_NoMatrix_0', 'exp-1-500-5-5_matrix_0_4_NoTerm_0', 'exp-1-500-5-5_matrix_0_4_NoBasis_0', 'exp-1-500-5-5_matrix_0_64_New_0', 'exp-1-500-5-5_matrix_0_64_Farkas_0', 'exp-1-500-5-5_matrix_0_64_All_0', 'exp-1-500-5-5_matrix_0_64_NoDisjunction_0', 'exp-1-500-5-5_matrix_0_64_NoMatrix_0', 'exp-1-500-5-5_matrix_0_64_NoTerm_0', 'exp-1-500-5-5_matrix_0_64_NoBasis_0', 'exp-1-500-5-5_objective_0_4_New_0', 'exp-1-500-5-5_objective_0_4_Farkas_0', 'exp-1-500-5-5_objective_0_4_All_0', 'exp-1-500-5-5_objective_0_4_NoDisjunction_0', 'exp-1-500-5-5_objective_0_4_NoMatrix_0', 'exp-1-500-5-5_objective_0_4_NoTerm_0', 'exp-1-500-5-5_objective_0_4_NoBasis_0', 'exp-1-500-5-5_objective_0_64_New_0', 'exp-1-500-5-5_objective_0_64_Farkas_0', 'exp-1-500-5-5_objective_0_64_All_0', 'exp-1-500-5-5_objective_0_64_NoDisjunction_0', 'exp-1-500-5-5_objective_0_64_NoMatrix_0', 'exp-1-500-5-5_objective_0_64_NoTerm_0', 'exp-1-500-5-5_objective_0_64_NoBasis_0', 'exp-1-500-5-5_objective_2_4_New_0', 'exp-1-500-5-5_objective_2_4_Farkas_0', 'exp-1-500-5-5_objective_2_4_All_0', 'exp-1-500-5-5_objective_2_4_NoDisjunction_0', 'exp-1-500-5-5_objective_2_4_NoMatrix_0', 'exp-1-500-5-5_objective_2_4_NoTerm_0', 'exp-1-500-5-5_objective_2_4_NoBasis_0', 'exp-1-500-5-5_objective_2_64_New_0', 'exp-1-500-5-5_objective_2_64_Farkas_0', 'exp-1-500-5-5_objective_2_64_All_0', 'exp-1-500-5-5_objective_2_64_NoDisjunction_0', 'exp-1-500-5-5_objective_2_64_NoMatrix_0', 'exp-1-500-5-5_objective_2_64_NoTerm_0', 'exp-1-500-5-5_objective_2_64_NoBasis_0', 'exp-1-500-5-5_matrix_2_4_New_0', 'exp-1-500-5-5_matrix_2_4_Farkas_0', 'exp-1-500-5-5_matrix_2_4_All_0', 'exp-1-500-5-5_matrix_2_4_NoDisjunction_0', 'exp-1-500-5-5_matrix_2_4_NoMatrix_0', 'exp-1-500-5-5_matrix_2_4_NoTerm_0', 'exp-1-500-5-5_matrix_2_4_NoBasis_0', 'exp-1-500-5-5_matrix_2_64_New_0', 'exp-1-500-5-5_matrix_2_64_Farkas_0', 'exp-1-500-5-5_matrix_2_64_All_0', 'exp-1-500-5-5_matrix_2_64_NoDisjunction_0', 'exp-1-500-5-5_matrix_2_64_NoMatrix_0', 'exp-1-500-5-5_matrix_2_64_NoTerm_0', 'exp-1-500-5-5_matrix_2_64_NoBasis_0', 'exp-1-500-5-5_objective_4_4_New_0', 'exp-1-500-5-5_objective_4_4_Farkas_0', 'exp-1-500-5-5_objective_4_4_All_0', 'exp-1-500-5-5_objective_4_4_NoDisjunction_0', 'exp-1-500-5-5_objective_4_4_NoMatrix_0', 'exp-1-500-5-5_objective_4_4_NoTerm_0', 'exp-1-500-5-5_objective_4_4_NoBasis_0', 'exp-1-500-5-5_objective_4_64_New_0', 'exp-1-500-5-5_objective_4_64_Farkas_0', 'exp-1-500-5-5_objective_4_64_All_0', 'exp-1-500-5-5_objective_4_64_NoDisjunction_0', 'exp-1-500-5-5_objective_4_64_NoMatrix_0', 'exp-1-500-5-5_objective_4_64_NoTerm_0', 'exp-1-500-5-5_objective_4_64_NoBasis_0', 'mc11_rhs_0_4_New_0', 'mc11_rhs_0_4_Farkas_0', 'mc11_rhs_0_4_All_0', 'mc11_rhs_0_4_NoDisjunction_0', 'mc11_rhs_0_4_NoMatrix_0', 'mc11_rhs_0_4_NoTerm_0', 'mc11_rhs_0_4_NoBasis_0', 'mc11_rhs_0_64_New_0', 'mc11_rhs_0_64_Farkas_0', 'mc11_rhs_0_64_All_0', 'mc11_rhs_0_64_NoDisjunction_0', 'mc11_rhs_0_64_NoMatrix_0', 'mc11_rhs_0_64_NoTerm_0', 'mc11_rhs_0_64_NoBasis_0', 'mc11_matrix_0_4_New_0', 'mc11_matrix_0_4_Farkas_0', 'mc11_matrix_0_4_All_0', 'mc11_matrix_0_4_NoDisjunction_0', 'mc11_matrix_0_4_NoMatrix_0', 'mc11_matrix_0_4_NoTerm_0', 'mc11_matrix_0_4_NoBasis_0', 'mc11_matrix_0_64_New_0', 'mc11_matrix_0_64_Farkas_0', 'mc11_matrix_0_64_All_0', 'mc11_matrix_0_64_NoDisjunction_0', 'mc11_matrix_0_64_NoMatrix_0', 'mc11_matrix_0_64_NoTerm_0', 'mc11_matrix_0_64_NoBasis_0', 'mc11_matrix_2_4_New_0', 'mc11_matrix_2_4_Farkas_0', 'mc11_matrix_2_4_All_0', 'mc11_matrix_2_4_NoDisjunction_0', 'mc11_matrix_2_4_NoMatrix_0', 'mc11_matrix_2_4_NoTerm_0', 'mc11_matrix_2_4_NoBasis_0', 'mc11_matrix_2_64_New_0', 'mc11_matrix_2_64_Farkas_0', 'mc11_matrix_2_64_All_0', 'mc11_matrix_2_64_NoDisjunction_0', 'mc11_matrix_2_64_NoMatrix_0', 'mc11_matrix_2_64_NoTerm_0', 'mc11_matrix_2_64_NoBasis_0', 'mc11_matrix_4_4_New_0', 'mc11_matrix_4_4_Farkas_0', 'mc11_matrix_4_4_All_0', 'mc11_matrix_4_4_NoDisjunction_0', 'mc11_matrix_4_4_NoMatrix_0', 'mc11_matrix_4_4_NoTerm_0', 'mc11_matrix_4_4_NoBasis_0', 'mc11_matrix_4_64_New_0', 'mc11_matrix_4_64_Farkas_0', 'mc11_matrix_4_64_All_0', 'mc11_matrix_4_64_NoDisjunction_0', 'mc11_matrix_4_64_NoMatrix_0', 'mc11_matrix_4_64_NoTerm_0', 'mc11_matrix_4_64_NoBasis_0', 'mc11_objective_4_4_New_0', 'mc11_objective_4_4_Farkas_0', 'mc11_objective_4_4_All_0', 'mc11_objective_4_4_NoDisjunction_0', 'mc11_objective_4_4_NoMatrix_0', 'mc11_objective_4_4_NoTerm_0', 'mc11_objective_4_4_NoBasis_0', 'mc11_objective_4_64_New_0', 'mc11_objective_4_64_Farkas_0', 'mc11_objective_4_64_All_0', 'mc11_objective_4_64_NoDisjunction_0', 'mc11_objective_4_64_NoMatrix_0', 'mc11_objective_4_64_NoTerm_0', 'mc11_objective_4_64_NoBasis_0', 'pg_rhs_0_4_New_0', 'pg_rhs_0_4_Farkas_0', 'pg_rhs_0_4_All_0', 'pg_rhs_0_4_NoDisjunction_0', 'pg_rhs_0_4_NoMatrix_0', 'pg_rhs_0_4_NoTerm_0', 'pg_rhs_0_4_NoBasis_0', 'pg_rhs_0_64_New_0', 'pg_rhs_0_64_Farkas_0', 'pg_rhs_0_64_All_0', 'pg_rhs_0_64_NoDisjunction_0', 'pg_rhs_0_64_NoMatrix_0', 'pg_rhs_0_64_NoTerm_0', 'pg_rhs_0_64_NoBasis_0', 'pg_matrix_0_4_New_0', 'pg_matrix_0_4_Farkas_0', 'pg_matrix_0_4_All_0', 'pg_matrix_0_4_NoDisjunction_0', 'pg_matrix_0_4_NoMatrix_0', 'pg_matrix_0_4_NoTerm_0', 'pg_matrix_0_4_NoBasis_0', 'pg_matrix_0_64_New_0', 'pg_matrix_0_64_Farkas_0', 'pg_matrix_0_64_All_0', 'pg_matrix_0_64_NoDisjunction_0', 'pg_matrix_0_64_NoMatrix_0', 'pg_matrix_0_64_NoTerm_0', 'pg_matrix_0_64_NoBasis_0', 'pg_rhs_4_4_New_0', 'pg_rhs_4_4_Farkas_0', 'pg_rhs_4_4_All_0', 'pg_rhs_4_4_NoDisjunction_0', 'pg_rhs_4_4_NoMatrix_0', 'pg_rhs_4_4_NoTerm_0', 'pg_rhs_4_4_NoBasis_0', 'pg_rhs_4_64_New_0', 'pg_rhs_4_64_Farkas_0', 'pg_rhs_4_64_All_0', 'pg_rhs_4_64_NoDisjunction_0', 'pg_rhs_4_64_NoMatrix_0', 'pg_rhs_4_64_NoTerm_0', 'pg_rhs_4_64_NoBasis_0', 'pg_rhs_2_4_New_0', 'pg_rhs_2_4_Farkas_0', 'pg_rhs_2_4_All_0', 'pg_rhs_2_4_NoDisjunction_0', 'pg_rhs_2_4_NoMatrix_0', 'pg_rhs_2_4_NoTerm_0', 'pg_rhs_2_4_NoBasis_0', 'pg_rhs_2_64_New_0', 'pg_rhs_2_64_Farkas_0', 'pg_rhs_2_64_All_0', 'pg_rhs_2_64_NoDisjunction_0', 'pg_rhs_2_64_NoMatrix_0', 'pg_rhs_2_64_NoTerm_0', 'pg_rhs_2_64_NoBasis_0', 'pg_matrix_2_4_New_0', 'pg_matrix_2_4_Farkas_0', 'pg_matrix_2_4_All_0', 'pg_matrix_2_4_NoDisjunction_0', 'pg_matrix_2_4_NoMatrix_0', 'pg_matrix_2_4_NoTerm_0', 'pg_matrix_2_4_NoBasis_0', 'pg_matrix_2_64_New_0', 'pg_matrix_2_64_Farkas_0', 'pg_matrix_2_64_All_0', 'pg_matrix_2_64_NoDisjunction_0', 'pg_matrix_2_64_NoMatrix_0', 'pg_matrix_2_64_NoTerm_0', 'pg_matrix_2_64_NoBasis_0', 'pg_matrix_4_4_New_0', 'pg_matrix_4_4_Farkas_0', 'pg_matrix_4_4_All_0', 'pg_matrix_4_4_NoDisjunction_0', 'pg_matrix_4_4_NoMatrix_0', 'pg_matrix_4_4_NoTerm_0', 'pg_matrix_4_4_NoBasis_0', 'pg_matrix_4_64_New_0', 'pg_matrix_4_64_Farkas_0', 'pg_matrix_4_64_All_0', 'pg_matrix_4_64_NoDisjunction_0', 'pg_matrix_4_64_NoMatrix_0', 'pg_matrix_4_64_NoTerm_0', 'pg_matrix_4_64_NoBasis_0', 'bienst1_rhs_0_4_New_0', 'bienst1_rhs_0_4_Farkas_0', 'bienst1_rhs_0_4_All_0', 'bienst1_rhs_0_4_NoDisjunction_0', 'bienst1_rhs_0_4_NoMatrix_0', 'bienst1_rhs_0_4_NoTerm_0', 'bienst1_rhs_0_4_NoBasis_0', 'bienst1_rhs_0_64_New_0', 'bienst1_rhs_0_64_Farkas_0', 'bienst1_rhs_0_64_All_0', 'bienst1_rhs_0_64_NoDisjunction_0', 'bienst1_rhs_0_64_NoMatrix_0', 'bienst1_rhs_0_64_NoTerm_0', 'bienst1_rhs_0_64_NoBasis_0', 'bienst1_matrix_0_4_New_0', 'bienst1_matrix_0_4_Farkas_0', 'bienst1_matrix_0_4_All_0', 'bienst1_matrix_0_4_NoDisjunction_0', 'bienst1_matrix_0_4_NoMatrix_0', 'bienst1_matrix_0_4_NoTerm_0', 'bienst1_matrix_0_4_NoBasis_0', 'bienst1_matrix_0_64_New_0', 'bienst1_matrix_0_64_Farkas_0', 'bienst1_matrix_0_64_All_0', 'bienst1_matrix_0_64_NoDisjunction_0', 'bienst1_matrix_0_64_NoMatrix_0', 'bienst1_matrix_0_64_NoTerm_0', 'bienst1_matrix_0_64_NoBasis_0', 'bienst1_rhs_2_4_New_0', 'bienst1_rhs_2_4_Farkas_0', 'bienst1_rhs_2_4_All_0', 'bienst1_rhs_2_4_NoDisjunction_0', 'bienst1_rhs_2_4_NoMatrix_0', 'bienst1_rhs_2_4_NoTerm_0', 'bienst1_rhs_2_4_NoBasis_0', 'bienst1_rhs_2_64_New_0', 'bienst1_rhs_2_64_Farkas_0', 'bienst1_rhs_2_64_All_0', 'bienst1_rhs_2_64_NoDisjunction_0', 'bienst1_rhs_2_64_NoMatrix_0', 'bienst1_rhs_2_64_NoTerm_0', 'bienst1_rhs_2_64_NoBasis_0', 'bienst1_matrix_2_4_New_0', 'bienst1_matrix_2_4_Farkas_0', 'bienst1_matrix_2_4_All_0', 'bienst1_matrix_2_4_NoDisjunction_0', 'bienst1_matrix_2_4_NoMatrix_0', 'bienst1_matrix_2_4_NoTerm_0', 'bienst1_matrix_2_4_NoBasis_0', 'bienst1_matrix_2_64_New_0', 'bienst1_matrix_2_64_Farkas_0', 'bienst1_matrix_2_64_All_0', 'bienst1_matrix_2_64_NoDisjunction_0', 'bienst1_matrix_2_64_NoMatrix_0', 'bienst1_matrix_2_64_NoTerm_0', 'bienst1_matrix_2_64_NoBasis_0', 'bienst1_matrix_4_4_New_0', 'bienst1_matrix_4_4_Farkas_0', 'bienst1_matrix_4_4_All_0', 'bienst1_matrix_4_4_NoDisjunction_0', 'bienst1_matrix_4_4_NoMatrix_0', 'bienst1_matrix_4_4_NoTerm_0', 'bienst1_matrix_4_4_NoBasis_0', 'bienst1_matrix_4_64_New_0', 'bienst1_matrix_4_64_Farkas_0', 'bienst1_matrix_4_64_All_0', 'bienst1_matrix_4_64_NoDisjunction_0', 'bienst1_matrix_4_64_NoMatrix_0', 'bienst1_matrix_4_64_NoTerm_0', 'bienst1_matrix_4_64_NoBasis_0', 'blp-ir98_rhs_0_4_New_0', 'blp-ir98_rhs_0_4_Farkas_0', 'blp-ir98_rhs_0_4_All_0', 'blp-ir98_rhs_0_4_NoDisjunction_0', 'blp-ir98_rhs_0_4_NoMatrix_0', 'blp-ir98_rhs_0_4_NoTerm_0', 'blp-ir98_rhs_0_4_NoBasis_0', 'blp-ir98_rhs_0_64_All_0', 'blp-ir98_rhs_0_64_NoDisjunction_0', 'blp-ir98_rhs_0_64_NoMatrix_0', 'blp-ir98_rhs_0_64_NoTerm_0', 'blp-ir98_rhs_0_64_NoBasis_0', 'blp-ir98_matrix_0_4_New_0', 'blp-ir98_matrix_0_4_Farkas_0', 'blp-ir98_matrix_0_4_All_0', 'blp-ir98_matrix_0_4_NoDisjunction_0', 'blp-ir98_matrix_0_4_NoMatrix_0', 'blp-ir98_matrix_0_4_NoTerm_0', 'blp-ir98_matrix_0_4_NoBasis_0', 'blp-ir98_matrix_0_64_New_0', 'blp-ir98_matrix_0_64_Farkas_0', 'blp-ir98_matrix_0_64_All_0', 'blp-ir98_matrix_0_64_NoDisjunction_0', 'blp-ir98_matrix_0_64_NoMatrix_0', 'blp-ir98_matrix_0_64_NoTerm_0', 'blp-ir98_matrix_0_64_NoBasis_0', 'blp-ir98_rhs_4_4_New_0', 'blp-ir98_rhs_4_4_Farkas_0', 'blp-ir98_rhs_4_4_All_0', 'blp-ir98_rhs_4_4_NoDisjunction_0', 'blp-ir98_rhs_4_4_NoMatrix_0', 'blp-ir98_rhs_4_4_NoTerm_0', 'blp-ir98_rhs_4_4_NoBasis_0', 'blp-ir98_rhs_4_64_New_0', 'blp-ir98_rhs_4_64_Farkas_0', 'blp-ir98_rhs_4_64_All_0', 'blp-ir98_rhs_4_64_NoDisjunction_0', 'blp-ir98_rhs_4_64_NoMatrix_0', 'blp-ir98_rhs_4_64_NoTerm_0', 'blp-ir98_rhs_4_64_NoBasis_0', 'blp-ir98_rhs_2_4_New_0', 'blp-ir98_rhs_2_4_Farkas_0', 'blp-ir98_rhs_2_4_All_0', 'blp-ir98_rhs_2_4_NoDisjunction_0', 'blp-ir98_rhs_2_4_NoMatrix_0', 'blp-ir98_rhs_2_4_NoTerm_0', 'blp-ir98_rhs_2_4_NoBasis_0', 'blp-ir98_rhs_2_64_New_0', 'blp-ir98_rhs_2_64_Farkas_0', 'blp-ir98_rhs_2_64_All_0', 'blp-ir98_rhs_2_64_NoDisjunction_0', 'blp-ir98_rhs_2_64_NoMatrix_0', 'blp-ir98_rhs_2_64_NoTerm_0', 'blp-ir98_rhs_2_64_NoBasis_0', 'cap6000_rhs_0_4_New_0', 'cap6000_rhs_0_4_Farkas_0', 'cap6000_rhs_0_4_All_0', 'cap6000_rhs_0_4_NoDisjunction_0', 'cap6000_rhs_0_4_NoMatrix_0', 'cap6000_rhs_0_4_NoTerm_0', 'cap6000_rhs_0_4_NoBasis_0', 'cap6000_rhs_0_64_New_0', 'cap6000_rhs_0_64_Farkas_0', 'cap6000_rhs_0_64_All_0', 'cap6000_rhs_0_64_NoDisjunction_0', 'cap6000_rhs_0_64_NoMatrix_0', 'cap6000_rhs_0_64_NoTerm_0', 'cap6000_rhs_0_64_NoBasis_0', 'cap6000_matrix_0_4_New_0', 'cap6000_matrix_0_4_Farkas_0', 'cap6000_matrix_0_4_All_0', 'cap6000_matrix_0_4_NoDisjunction_0', 'cap6000_matrix_0_4_NoMatrix_0', 'cap6000_matrix_0_4_NoTerm_0', 'cap6000_matrix_0_4_NoBasis_0', 'cap6000_matrix_0_64_New_0', 'cap6000_matrix_0_64_Farkas_0', 'cap6000_matrix_0_64_All_0', 'cap6000_matrix_0_64_NoDisjunction_0', 'cap6000_matrix_0_64_NoMatrix_0', 'cap6000_matrix_0_64_NoTerm_0', 'cap6000_matrix_0_64_NoBasis_0', 'cap6000_objective_0_4_New_0', 'cap6000_objective_0_4_Farkas_0', 'cap6000_objective_0_4_All_0', 'cap6000_objective_0_4_NoDisjunction_0', 'cap6000_objective_0_4_NoMatrix_0', 'cap6000_objective_0_4_NoTerm_0', 'cap6000_objective_0_4_NoBasis_0', 'cap6000_objective_0_64_New_0', 'cap6000_objective_0_64_Farkas_0', 'cap6000_objective_0_64_All_0', 'cap6000_objective_0_64_NoDisjunction_0', 'cap6000_objective_0_64_NoMatrix_0', 'cap6000_objective_0_64_NoTerm_0', 'cap6000_objective_0_64_NoBasis_0', 'cap6000_objective_2_4_New_0', 'cap6000_objective_2_4_Farkas_0', 'cap6000_objective_2_4_All_0', 'cap6000_objective_2_4_NoDisjunction_0', 'cap6000_objective_2_4_NoMatrix_0', 'cap6000_objective_2_4_NoTerm_0', 'cap6000_objective_2_4_NoBasis_0', 'cap6000_objective_2_64_New_0', 'cap6000_objective_2_64_Farkas_0', 'cap6000_objective_2_64_All_0', 'cap6000_objective_2_64_NoDisjunction_0', 'cap6000_objective_2_64_NoMatrix_0', 'cap6000_objective_2_64_NoTerm_0', 'cap6000_objective_2_64_NoBasis_0', 'cap6000_objective_4_4_New_0', 'cap6000_objective_4_4_Farkas_0', 'cap6000_objective_4_4_All_0', 'cap6000_objective_4_4_NoDisjunction_0', 'cap6000_objective_4_4_NoMatrix_0', 'cap6000_objective_4_4_NoTerm_0', 'cap6000_objective_4_4_NoBasis_0', 'cap6000_objective_4_64_New_0', 'cap6000_objective_4_64_Farkas_0', 'cap6000_objective_4_64_All_0', 'cap6000_objective_4_64_NoDisjunction_0', 'cap6000_objective_4_64_NoMatrix_0', 'cap6000_objective_4_64_NoTerm_0', 'cap6000_objective_4_64_NoBasis_0', 'ran12x21_rhs_0_4_New_0', 'ran12x21_rhs_0_4_Farkas_0', 'ran12x21_rhs_0_4_All_0', 'ran12x21_rhs_0_4_NoDisjunction_0', 'ran12x21_rhs_0_4_NoMatrix_0', 'ran12x21_rhs_0_4_NoTerm_0', 'ran12x21_rhs_0_4_NoBasis_0', 'ran12x21_rhs_0_64_New_0', 'ran12x21_rhs_0_64_Farkas_0', 'ran12x21_rhs_0_64_All_0', 'ran12x21_rhs_0_64_NoDisjunction_0', 'ran12x21_rhs_0_64_NoMatrix_0', 'ran12x21_rhs_0_64_NoTerm_0', 'ran12x21_rhs_0_64_NoBasis_0', 'ran12x21_rhs_2_4_New_0', 'ran12x21_rhs_2_4_Farkas_0', 'ran12x21_rhs_2_4_All_0', 'ran12x21_rhs_2_4_NoDisjunction_0', 'ran12x21_rhs_2_4_NoMatrix_0', 'ran12x21_rhs_2_4_NoTerm_0', 'ran12x21_rhs_2_4_NoBasis_0', 'ran12x21_rhs_2_64_New_0', 'ran12x21_rhs_2_64_Farkas_0', 'ran12x21_rhs_2_64_All_0', 'ran12x21_rhs_2_64_NoDisjunction_0', 'ran12x21_rhs_2_64_NoMatrix_0', 'ran12x21_rhs_2_64_NoTerm_0', 'ran12x21_rhs_2_64_NoBasis_0', 'ran12x21_matrix_2_4_New_0', 'ran12x21_matrix_2_4_Farkas_0', 'ran12x21_matrix_2_4_All_0', 'ran12x21_matrix_2_4_NoDisjunction_0', 'ran12x21_matrix_2_4_NoMatrix_0', 'ran12x21_matrix_2_4_NoTerm_0', 'ran12x21_matrix_2_4_NoBasis_0', 'ran12x21_matrix_2_64_New_0', 'ran12x21_matrix_2_64_Farkas_0', 'ran12x21_matrix_2_64_All_0', 'ran12x21_matrix_2_64_NoDisjunction_0', 'ran12x21_matrix_2_64_NoMatrix_0', 'ran12x21_matrix_2_64_NoTerm_0', 'ran12x21_matrix_2_64_NoBasis_0', 'ran12x21_matrix_4_4_New_0', 'ran12x21_matrix_4_4_Farkas_0', 'ran12x21_matrix_4_4_All_0', 'ran12x21_matrix_4_4_NoDisjunction_0', 'ran12x21_matrix_4_4_NoMatrix_0', 'ran12x21_matrix_4_4_NoTerm_0', 'ran12x21_matrix_4_4_NoBasis_0', 'ran12x21_matrix_4_64_New_0', 'ran12x21_matrix_4_64_Farkas_0', 'ran12x21_matrix_4_64_All_0', 'ran12x21_matrix_4_64_NoDisjunction_0', 'ran12x21_matrix_4_64_NoMatrix_0', 'ran12x21_matrix_4_64_NoTerm_0', 'ran12x21_matrix_4_64_NoBasis_0', 'neos-480878_rhs_0_4_New_0', 'neos-480878_rhs_0_4_Farkas_0', 'neos-480878_rhs_0_4_All_0', 'neos-480878_rhs_0_4_NoDisjunction_0', 'neos-480878_rhs_0_4_NoMatrix_0', 'neos-480878_rhs_0_4_NoTerm_0', 'neos-480878_rhs_0_4_NoBasis_0', 'neos-480878_rhs_0_64_New_0', 'neos-480878_rhs_0_64_Farkas_0', 'neos-480878_rhs_0_64_All_0', 'neos-480878_rhs_0_64_NoDisjunction_0', 'neos-480878_rhs_0_64_NoMatrix_0', 'neos-480878_rhs_0_64_NoTerm_0', 'neos-480878_rhs_0_64_NoBasis_0', 'neos-480878_matrix_0_4_New_0', 'neos-480878_matrix_0_4_Farkas_0', 'neos-480878_matrix_0_4_All_0', 'neos-480878_matrix_0_4_NoDisjunction_0', 'neos-480878_matrix_0_4_NoMatrix_0', 'neos-480878_matrix_0_4_NoTerm_0', 'neos-480878_matrix_0_4_NoBasis_0', 'neos-480878_matrix_0_64_New_0', 'neos-480878_matrix_0_64_Farkas_0', 'neos-480878_matrix_0_64_All_0', 'neos-480878_matrix_0_64_NoDisjunction_0', 'neos-480878_matrix_0_64_NoMatrix_0', 'neos-480878_matrix_0_64_NoTerm_0', 'neos-480878_matrix_0_64_NoBasis_0', 'neos-480878_matrix_2_4_New_0', 'neos-480878_matrix_2_4_Farkas_0', 'neos-480878_matrix_2_4_All_0', 'neos-480878_matrix_2_4_NoDisjunction_0', 'neos-480878_matrix_2_4_NoMatrix_0', 'neos-480878_matrix_2_4_NoTerm_0', 'neos-480878_matrix_2_4_NoBasis_0', 'neos-480878_matrix_2_64_New_0', 'neos-480878_matrix_2_64_Farkas_0', 'neos-480878_matrix_2_64_All_0', 'neos-480878_matrix_2_64_NoDisjunction_0', 'neos-480878_matrix_2_64_NoMatrix_0', 'neos-480878_matrix_2_64_NoTerm_0', 'neos-480878_matrix_2_64_NoBasis_0', 'neos-480878_objective_4_4_Farkas_0', 'neos-480878_objective_4_4_All_0', 'neos-480878_objective_4_4_NoDisjunction_0', 'neos-480878_objective_4_4_NoMatrix_0', 'neos-480878_objective_4_4_NoTerm_0', 'neos-480878_objective_4_4_NoBasis_0', 'neos-480878_objective_4_64_Farkas_0', 'neos-480878_objective_4_64_All_0', 'neos-480878_objective_4_64_NoDisjunction_0', 'neos-480878_objective_4_64_NoMatrix_0', 'neos-480878_objective_4_64_NoTerm_0', 'neos-480878_objective_4_64_NoBasis_0', 'neos18_rhs_0_4_New_0', 'neos18_rhs_0_4_Farkas_0', 'neos18_rhs_0_4_All_0', 'neos18_rhs_0_4_NoDisjunction_0', 'neos18_rhs_0_4_NoMatrix_0', 'neos18_rhs_0_4_NoTerm_0', 'neos18_rhs_0_4_NoBasis_0', 'neos18_rhs_0_64_New_0', 'neos18_rhs_0_64_Farkas_0', 'neos18_rhs_0_64_All_0', 'neos18_rhs_0_64_NoDisjunction_0', 'neos18_rhs_0_64_NoMatrix_0', 'neos18_rhs_0_64_NoTerm_0', 'neos18_rhs_0_64_NoBasis_0', 'neos18_matrix_0_4_New_0', 'neos18_matrix_0_4_Farkas_0', 'neos18_matrix_0_4_All_0', 'neos18_matrix_0_4_NoDisjunction_0', 'neos18_matrix_0_4_NoMatrix_0', 'neos18_matrix_0_4_NoTerm_0', 'neos18_matrix_0_4_NoBasis_0', 'neos18_matrix_0_64_Farkas_0', 'neos18_matrix_0_64_All_0', 'neos18_matrix_0_64_NoDisjunction_0', 'neos18_matrix_0_64_NoMatrix_0', 'neos18_matrix_0_64_NoTerm_0', 'neos18_matrix_0_64_NoBasis_0', 'neos18_objective_0_4_New_0', 'neos18_objective_0_4_Farkas_0', 'neos18_objective_0_4_All_0', 'neos18_objective_0_4_NoDisjunction_0', 'neos18_objective_0_4_NoMatrix_0', 'neos18_objective_0_4_NoTerm_0', 'neos18_objective_0_4_NoBasis_0', 'neos18_objective_0_64_Farkas_0', 'neos18_objective_0_64_All_0', 'neos18_objective_0_64_NoDisjunction_0', 'neos18_objective_0_64_NoMatrix_0', 'neos18_objective_0_64_NoTerm_0', 'neos18_objective_0_64_NoBasis_0', 'neos18_matrix_2_4_New_0', 'neos18_matrix_2_4_Farkas_0', 'neos18_matrix_2_4_All_0', 'neos18_matrix_2_4_NoDisjunction_0', 'neos18_matrix_2_4_NoMatrix_0', 'neos18_matrix_2_4_NoTerm_0', 'neos18_matrix_2_4_NoBasis_0', 'neos18_matrix_2_64_New_0', 'neos18_matrix_2_64_Farkas_0', 'neos18_matrix_2_64_All_0', 'neos18_matrix_2_64_NoDisjunction_0', 'neos18_matrix_2_64_NoMatrix_0', 'neos18_matrix_2_64_NoTerm_0', 'neos18_matrix_2_64_NoBasis_0', 'neos18_objective_4_4_New_0', 'neos18_objective_4_4_Farkas_0', 'neos18_objective_4_4_All_0', 'neos18_objective_4_4_NoDisjunction_0', 'neos18_objective_4_4_NoMatrix_0', 'neos18_objective_4_4_NoTerm_0', 'neos18_objective_4_4_NoBasis_0', 'neos18_objective_4_64_Farkas_0', 'neos18_objective_4_64_All_0', 'neos18_objective_4_64_NoDisjunction_0', 'neos18_objective_4_64_NoMatrix_0', 'neos18_objective_4_64_NoTerm_0', 'neos18_objective_4_64_NoBasis_0', 'eil33-2_matrix_0_4_New_0', 'eil33-2_matrix_0_4_Farkas_0', 'eil33-2_matrix_0_4_All_0', 'eil33-2_matrix_0_4_NoDisjunction_0', 'eil33-2_matrix_0_4_NoMatrix_0', 'eil33-2_matrix_0_4_NoTerm_0', 'eil33-2_matrix_0_4_NoBasis_0', 'eil33-2_rhs_4_4_New_0', 'eil33-2_rhs_4_4_Farkas_0', 'eil33-2_rhs_4_4_All_0', 'eil33-2_rhs_4_4_NoDisjunction_0', 'eil33-2_rhs_4_4_NoMatrix_0', 'eil33-2_rhs_4_4_NoTerm_0', 'eil33-2_rhs_4_4_NoBasis_0', 'eil33-2_matrix_2_4_New_0', 'eil33-2_matrix_2_4_Farkas_0', 'eil33-2_matrix_2_4_All_0', 'eil33-2_matrix_2_4_NoDisjunction_0', 'eil33-2_matrix_2_4_NoMatrix_0', 'eil33-2_matrix_2_4_NoTerm_0', 'eil33-2_matrix_2_4_NoBasis_0', 'eil33-2_matrix_4_4_New_0', 'eil33-2_matrix_4_4_Farkas_0', 'eil33-2_matrix_4_4_All_0', 'eil33-2_matrix_4_4_NoDisjunction_0', 'eil33-2_matrix_4_4_NoMatrix_0', 'eil33-2_matrix_4_4_NoTerm_0', 'eil33-2_matrix_4_4_NoBasis_0', 'neos16_rhs_0_4_New_0', 'neos16_rhs_0_4_Farkas_0', 'neos16_rhs_0_4_All_0', 'neos16_rhs_0_4_NoDisjunction_0', 'neos16_rhs_0_4_NoMatrix_0', 'neos16_rhs_0_4_NoTerm_0', 'neos16_rhs_0_4_NoBasis_0', 'neos16_matrix_0_4_New_0', 'neos16_matrix_0_4_Farkas_0', 'neos16_matrix_0_4_All_0', 'neos16_matrix_0_4_NoDisjunction_0', 'neos16_matrix_0_4_NoMatrix_0', 'neos16_matrix_0_4_NoTerm_0', 'neos16_matrix_0_4_NoBasis_0', 'neos16_matrix_2_4_New_0', 'neos16_matrix_2_4_Farkas_0', 'neos16_matrix_2_4_All_0', 'neos16_matrix_2_4_NoDisjunction_0', 'neos16_matrix_2_4_NoMatrix_0', 'neos16_matrix_2_4_NoTerm_0', 'neos16_matrix_2_4_NoBasis_0', 'neos-911970_rhs_0_4_New_0', 'neos-911970_rhs_0_4_Farkas_0', 'neos-911970_rhs_0_4_All_0', 'neos-911970_rhs_0_4_NoDisjunction_0', 'neos-911970_rhs_0_4_NoMatrix_0', 'neos-911970_rhs_0_4_NoTerm_0', 'neos-911970_rhs_0_4_NoBasis_0', 'neos-911970_rhs_0_64_New_0', 'neos-911970_rhs_0_64_Farkas_0', 'neos-911970_rhs_0_64_All_0', 'neos-911970_rhs_0_64_NoDisjunction_0', 'neos-911970_rhs_0_64_NoMatrix_0', 'neos-911970_rhs_0_64_NoTerm_0', 'neos-911970_rhs_0_64_NoBasis_0', 'neos-911970_matrix_0_4_New_0', 'neos-911970_matrix_0_4_Farkas_0', 'neos-911970_matrix_0_4_All_0', 'neos-911970_matrix_0_4_NoDisjunction_0', 'neos-911970_matrix_0_4_NoMatrix_0', 'neos-911970_matrix_0_4_NoTerm_0', 'neos-911970_matrix_0_4_NoBasis_0', 'neos-911970_matrix_0_64_New_0', 'neos-911970_matrix_0_64_Farkas_0', 'neos-911970_matrix_0_64_All_0', 'neos-911970_matrix_0_64_NoDisjunction_0', 'neos-911970_matrix_0_64_NoMatrix_0', 'neos-911970_matrix_0_64_NoTerm_0', 'neos-911970_matrix_0_64_NoBasis_0', 'neos-911970_rhs_2_4_New_0', 'neos-911970_rhs_2_4_Farkas_0', 'neos-911970_rhs_2_4_All_0', 'neos-911970_rhs_2_4_NoDisjunction_0', 'neos-911970_rhs_2_4_NoMatrix_0', 'neos-911970_rhs_2_4_NoTerm_0', 'neos-911970_rhs_2_4_NoBasis_0', 'neos-911970_rhs_2_64_New_0', 'neos-911970_rhs_2_64_Farkas_0', 'neos-911970_rhs_2_64_All_0', 'neos-911970_rhs_2_64_NoDisjunction_0', 'neos-911970_rhs_2_64_NoMatrix_0', 'neos-911970_rhs_2_64_NoTerm_0', 'neos-911970_rhs_2_64_NoBasis_0', 'neos-911970_matrix_2_4_New_0', 'neos-911970_matrix_2_4_Farkas_0', 'neos-911970_matrix_2_4_All_0', 'neos-911970_matrix_2_4_NoDisjunction_0', 'neos-911970_matrix_2_4_NoMatrix_0', 'neos-911970_matrix_2_4_NoTerm_0', 'neos-911970_matrix_2_4_NoBasis_0', 'neos-911970_matrix_2_64_New_0', 'neos-911970_matrix_2_64_Farkas_0', 'neos-911970_matrix_2_64_All_0', 'neos-911970_matrix_2_64_NoDisjunction_0', 'neos-911970_matrix_2_64_NoMatrix_0', 'neos-911970_matrix_2_64_NoTerm_0', 'neos-911970_matrix_2_64_NoBasis_0', 'neos-911970_matrix_4_4_New_0', 'neos-911970_matrix_4_4_Farkas_0', 'neos-911970_matrix_4_4_All_0', 'neos-911970_matrix_4_4_NoDisjunction_0', 'neos-911970_matrix_4_4_NoMatrix_0', 'neos-911970_matrix_4_4_NoTerm_0', 'neos-911970_matrix_4_4_NoBasis_0', 'neos-911970_matrix_4_64_New_0', 'neos-911970_matrix_4_64_Farkas_0', 'neos-911970_matrix_4_64_All_0', 'neos-911970_matrix_4_64_NoDisjunction_0', 'neos-911970_matrix_4_64_NoMatrix_0', 'neos-911970_matrix_4_64_NoTerm_0', 'neos-911970_matrix_4_64_NoBasis_0', 'neos-4650160-yukon_matrix_0_4_New_0', 'neos-4650160-yukon_matrix_0_4_Farkas_0', 'neos-4650160-yukon_matrix_0_4_All_0', 'neos-4650160-yukon_matrix_0_4_NoDisjunction_0', 'neos-4650160-yukon_matrix_0_4_NoMatrix_0', 'neos-4650160-yukon_matrix_0_4_NoTerm_0', 'neos-4650160-yukon_matrix_0_4_NoBasis_0', 'neos-4650160-yukon_matrix_0_64_New_0', 'neos-4650160-yukon_matrix_0_64_Farkas_0', 'neos-4650160-yukon_matrix_0_64_All_0', 'neos-4650160-yukon_matrix_0_64_NoDisjunction_0', 'neos-4650160-yukon_matrix_0_64_NoMatrix_0', 'neos-4650160-yukon_matrix_0_64_NoTerm_0', 'neos-4650160-yukon_matrix_0_64_NoBasis_0', 'neos-4650160-yukon_objective_2_4_New_0', 'neos-4650160-yukon_objective_2_4_Farkas_0', 'neos-4650160-yukon_objective_2_4_All_0', 'neos-4650160-yukon_objective_2_4_NoDisjunction_0', 'neos-4650160-yukon_objective_2_4_NoMatrix_0', 'neos-4650160-yukon_objective_2_4_NoTerm_0', 'neos-4650160-yukon_objective_2_4_NoBasis_0', 'neos-4650160-yukon_objective_2_64_New_0', 'neos-4650160-yukon_objective_2_64_Farkas_0', 'neos-4650160-yukon_objective_2_64_All_0', 'neos-4650160-yukon_objective_2_64_NoDisjunction_0', 'neos-4650160-yukon_objective_2_64_NoMatrix_0', 'neos-4650160-yukon_objective_2_64_NoTerm_0', 'neos-4650160-yukon_objective_2_64_NoBasis_0', 'neos-4650160-yukon_objective_4_4_New_0', 'neos-4650160-yukon_objective_4_4_Farkas_0', 'neos-4650160-yukon_objective_4_4_All_0', 'neos-4650160-yukon_objective_4_4_NoDisjunction_0', 'neos-4650160-yukon_objective_4_4_NoMatrix_0', 'neos-4650160-yukon_objective_4_4_NoTerm_0', 'neos-4650160-yukon_objective_4_4_NoBasis_0', 'neos-4650160-yukon_objective_4_64_New_0', 'neos-4650160-yukon_objective_4_64_Farkas_0', 'neos-4650160-yukon_objective_4_64_All_0', 'neos-4650160-yukon_objective_4_64_NoDisjunction_0', 'neos-4650160-yukon_objective_4_64_NoMatrix_0', 'neos-4650160-yukon_objective_4_64_NoTerm_0', 'neos-4650160-yukon_objective_4_64_NoBasis_0', 'arki001_rhs_0_4_New_0', 'arki001_rhs_0_4_Farkas_0', 'arki001_rhs_0_4_All_0', 'arki001_rhs_0_4_NoDisjunction_0', 'arki001_rhs_0_4_NoMatrix_0', 'arki001_rhs_0_4_NoTerm_0', 'arki001_rhs_0_4_NoBasis_0', 'arki001_matrix_0_4_New_0', 'arki001_matrix_0_4_Farkas_0', 'arki001_matrix_0_4_All_0', 'arki001_matrix_0_4_NoDisjunction_0', 'arki001_matrix_0_4_NoMatrix_0', 'arki001_matrix_0_4_NoTerm_0', 'arki001_matrix_0_4_NoBasis_0', 'arki001_objective_0_4_New_0', 'arki001_objective_0_4_Farkas_0', 'arki001_objective_0_4_All_0', 'arki001_objective_0_4_NoDisjunction_0', 'arki001_objective_0_4_NoMatrix_0', 'arki001_objective_0_4_NoTerm_0', 'arki001_objective_0_4_NoBasis_0', 'neos17_objective_0_4_New_0', 'neos17_objective_0_4_Farkas_0', 'neos17_objective_0_4_All_0', 'neos17_objective_0_4_NoDisjunction_0', 'neos17_objective_0_4_NoMatrix_0', 'neos17_objective_0_4_NoTerm_0', 'neos17_objective_0_4_NoBasis_0', 'neos17_objective_0_64_New_0', 'neos17_objective_0_64_Farkas_0', 'neos17_objective_0_64_All_0', 'neos17_objective_0_64_NoDisjunction_0', 'neos17_objective_0_64_NoMatrix_0', 'neos17_objective_0_64_NoTerm_0', 'neos17_objective_0_64_NoBasis_0', 'neos17_objective_2_4_New_0', 'neos17_objective_2_4_Farkas_0', 'neos17_objective_2_4_All_0', 'neos17_objective_2_4_NoDisjunction_0', 'neos17_objective_2_4_NoMatrix_0', 'neos17_objective_2_4_NoTerm_0', 'neos17_objective_2_4_NoBasis_0', 'neos17_objective_2_64_New_0', 'neos17_objective_2_64_Farkas_0', 'neos17_objective_2_64_All_0', 'neos17_objective_2_64_NoDisjunction_0', 'neos17_objective_2_64_NoMatrix_0', 'neos17_objective_2_64_NoTerm_0', 'neos17_objective_2_64_NoBasis_0', 'neos17_matrix_2_4_New_0', 'neos17_matrix_2_4_Farkas_0', 'neos17_matrix_2_4_All_0', 'neos17_matrix_2_4_NoDisjunction_0', 'neos17_matrix_2_4_NoMatrix_0', 'neos17_matrix_2_4_NoTerm_0', 'neos17_matrix_2_4_NoBasis_0', 'neos17_matrix_2_64_New_0', 'neos17_matrix_2_64_Farkas_0', 'neos17_matrix_2_64_All_0', 'neos17_matrix_2_64_NoDisjunction_0', 'neos17_matrix_2_64_NoMatrix_0', 'neos17_matrix_2_64_NoTerm_0', 'neos17_matrix_2_64_NoBasis_0', 'neos17_matrix_4_4_New_0', 'neos17_matrix_4_4_Farkas_0', 'neos17_matrix_4_4_All_0', 'neos17_matrix_4_4_NoDisjunction_0', 'neos17_matrix_4_4_NoMatrix_0', 'neos17_matrix_4_4_NoTerm_0', 'neos17_matrix_4_4_NoBasis_0', 'neos17_matrix_4_64_New_0', 'neos17_matrix_4_64_Farkas_0', 'neos17_matrix_4_64_All_0', 'neos17_matrix_4_64_NoDisjunction_0', 'neos17_matrix_4_64_NoMatrix_0', 'neos17_matrix_4_64_NoTerm_0', 'neos17_matrix_4_64_NoBasis_0', 'neos17_objective_4_4_New_0', 'neos17_objective_4_4_Farkas_0', 'neos17_objective_4_4_All_0', 'neos17_objective_4_4_NoDisjunction_0', 'neos17_objective_4_4_NoMatrix_0', 'neos17_objective_4_4_NoTerm_0', 'neos17_objective_4_4_NoBasis_0', 'neos17_objective_4_64_New_0', 'neos17_objective_4_64_Farkas_0', 'neos17_objective_4_64_All_0', 'neos17_objective_4_64_NoDisjunction_0', 'neos17_objective_4_64_NoMatrix_0', 'neos17_objective_4_64_NoTerm_0', 'neos17_objective_4_64_NoBasis_0', 'mas76_matrix_0_4_New_0', 'mas76_matrix_0_4_Farkas_0', 'mas76_matrix_0_4_All_0', 'mas76_matrix_0_4_NoDisjunction_0', 'mas76_matrix_0_4_NoMatrix_0', 'mas76_matrix_0_4_NoTerm_0', 'mas76_matrix_0_4_NoBasis_0', 'mas76_matrix_0_64_New_0', 'mas76_matrix_0_64_Farkas_0', 'mas76_matrix_0_64_All_0', 'mas76_matrix_0_64_NoDisjunction_0', 'mas76_matrix_0_64_NoMatrix_0', 'mas76_matrix_0_64_NoTerm_0', 'mas76_matrix_0_64_NoBasis_0', 'mas76_matrix_2_4_New_0', 'mas76_matrix_2_4_Farkas_0', 'mas76_matrix_2_4_All_0', 'mas76_matrix_2_4_NoDisjunction_0', 'mas76_matrix_2_4_NoMatrix_0', 'mas76_matrix_2_4_NoTerm_0', 'mas76_matrix_2_4_NoBasis_0', 'mas76_matrix_2_64_New_0', 'mas76_matrix_2_64_Farkas_0', 'mas76_matrix_2_64_All_0', 'mas76_matrix_2_64_NoDisjunction_0', 'mas76_matrix_2_64_NoMatrix_0', 'mas76_matrix_2_64_NoTerm_0', 'mas76_matrix_2_64_NoBasis_0', 'mas76_matrix_4_4_New_0', 'mas76_matrix_4_4_Farkas_0', 'mas76_matrix_4_4_All_0', 'mas76_matrix_4_4_NoDisjunction_0', 'mas76_matrix_4_4_NoMatrix_0', 'mas76_matrix_4_4_NoTerm_0', 'mas76_matrix_4_4_NoBasis_0', 'mas76_matrix_4_64_New_0', 'mas76_matrix_4_64_Farkas_0', 'mas76_matrix_4_64_All_0', 'mas76_matrix_4_64_NoDisjunction_0', 'mas76_matrix_4_64_NoMatrix_0', 'mas76_matrix_4_64_NoTerm_0', 'mas76_matrix_4_64_NoBasis_0', 'roll3000_matrix_0_4_New_0', 'roll3000_matrix_0_4_Farkas_0', 'roll3000_matrix_0_4_All_0', 'roll3000_matrix_0_4_NoDisjunction_0', 'roll3000_matrix_0_4_NoMatrix_0', 'roll3000_matrix_0_4_NoTerm_0', 'roll3000_matrix_0_4_NoBasis_0', 'roll3000_matrix_0_64_New_0', 'roll3000_matrix_0_64_Farkas_0', 'roll3000_matrix_0_64_All_0', 'roll3000_matrix_0_64_NoDisjunction_0', 'roll3000_matrix_0_64_NoMatrix_0', 'roll3000_matrix_0_64_NoTerm_0', 'roll3000_matrix_0_64_NoBasis_0', 'roll3000_objective_2_4_New_0', 'roll3000_objective_2_4_Farkas_0', 'roll3000_objective_2_4_All_0', 'roll3000_objective_2_4_NoDisjunction_0', 'roll3000_objective_2_4_NoMatrix_0', 'roll3000_objective_2_4_NoTerm_0', 'roll3000_objective_2_4_NoBasis_0', 'roll3000_objective_2_64_Farkas_0', 'roll3000_objective_2_64_All_0', 'roll3000_objective_2_64_NoDisjunction_0', 'roll3000_objective_2_64_NoMatrix_0', 'roll3000_objective_2_64_NoTerm_0', 'roll3000_objective_2_64_NoBasis_0', 'g200x740_rhs_0_4_New_0', 'g200x740_rhs_0_4_Farkas_0', 'g200x740_rhs_0_4_All_0', 'g200x740_rhs_0_4_NoDisjunction_0', 'g200x740_rhs_0_4_NoMatrix_0', 'g200x740_rhs_0_4_NoTerm_0', 'g200x740_rhs_0_4_NoBasis_0', 'g200x740_rhs_0_64_New_0', 'g200x740_rhs_0_64_Farkas_0', 'g200x740_rhs_0_64_All_0', 'g200x740_rhs_0_64_NoDisjunction_0', 'g200x740_rhs_0_64_NoMatrix_0', 'g200x740_rhs_0_64_NoTerm_0', 'g200x740_rhs_0_64_NoBasis_0', 'g200x740_matrix_0_4_New_0', 'g200x740_matrix_0_4_Farkas_0', 'g200x740_matrix_0_4_All_0', 'g200x740_matrix_0_4_NoDisjunction_0', 'g200x740_matrix_0_4_NoMatrix_0', 'g200x740_matrix_0_4_NoTerm_0', 'g200x740_matrix_0_4_NoBasis_0', 'g200x740_matrix_0_64_New_0', 'g200x740_matrix_0_64_Farkas_0', 'g200x740_matrix_0_64_All_0', 'g200x740_matrix_0_64_NoDisjunction_0', 'g200x740_matrix_0_64_NoMatrix_0', 'g200x740_matrix_0_64_NoTerm_0', 'g200x740_matrix_0_64_NoBasis_0', 'g200x740_rhs_4_4_New_0', 'g200x740_rhs_4_4_Farkas_0', 'g200x740_rhs_4_4_All_0', 'g200x740_rhs_4_4_NoDisjunction_0', 'g200x740_rhs_4_4_NoMatrix_0', 'g200x740_rhs_4_4_NoTerm_0', 'g200x740_rhs_4_4_NoBasis_0', 'g200x740_rhs_4_64_New_0', 'g200x740_rhs_4_64_Farkas_0', 'g200x740_rhs_4_64_All_0', 'g200x740_rhs_4_64_NoDisjunction_0', 'g200x740_rhs_4_64_NoMatrix_0', 'g200x740_rhs_4_64_NoTerm_0', 'g200x740_rhs_4_64_NoBasis_0', 'g200x740_rhs_2_4_New_0', 'g200x740_rhs_2_4_Farkas_0', 'g200x740_rhs_2_4_All_0', 'g200x740_rhs_2_4_NoDisjunction_0', 'g200x740_rhs_2_4_NoMatrix_0', 'g200x740_rhs_2_4_NoTerm_0', 'g200x740_rhs_2_4_NoBasis_0', 'g200x740_rhs_2_64_New_0', 'g200x740_rhs_2_64_Farkas_0', 'g200x740_rhs_2_64_All_0', 'g200x740_rhs_2_64_NoDisjunction_0', 'g200x740_rhs_2_64_NoMatrix_0', 'g200x740_rhs_2_64_NoTerm_0', 'g200x740_rhs_2_64_NoBasis_0', 'g200x740_objective_2_4_New_0', 'g200x740_objective_2_4_Farkas_0', 'g200x740_objective_2_4_All_0', 'g200x740_objective_2_4_NoDisjunction_0', 'g200x740_objective_2_4_NoMatrix_0', 'g200x740_objective_2_4_NoTerm_0', 'g200x740_objective_2_4_NoBasis_0', 'g200x740_objective_2_64_Farkas_0', 'g200x740_objective_2_64_All_0', 'g200x740_objective_2_64_NoDisjunction_0', 'g200x740_objective_2_64_NoMatrix_0', 'g200x740_objective_2_64_NoTerm_0', 'g200x740_objective_2_64_NoBasis_0', 'g200x740_matrix_2_4_New_0', 'g200x740_matrix_2_4_Farkas_0', 'g200x740_matrix_2_4_All_0', 'g200x740_matrix_2_4_NoDisjunction_0', 'g200x740_matrix_2_4_NoMatrix_0', 'g200x740_matrix_2_4_NoTerm_0', 'g200x740_matrix_2_4_NoBasis_0', 'g200x740_matrix_2_64_New_0', 'g200x740_matrix_2_64_Farkas_0', 'g200x740_matrix_2_64_All_0', 'g200x740_matrix_2_64_NoDisjunction_0', 'g200x740_matrix_2_64_NoMatrix_0', 'g200x740_matrix_2_64_NoTerm_0', 'g200x740_matrix_2_64_NoBasis_0', 'g200x740_matrix_4_4_New_0', 'g200x740_matrix_4_4_Farkas_0', 'g200x740_matrix_4_4_All_0', 'g200x740_matrix_4_4_NoDisjunction_0', 'g200x740_matrix_4_4_NoMatrix_0', 'g200x740_matrix_4_4_NoTerm_0', 'g200x740_matrix_4_4_NoBasis_0', 'g200x740_matrix_4_64_New_0', 'g200x740_matrix_4_64_Farkas_0', 'g200x740_matrix_4_64_All_0', 'g200x740_matrix_4_64_NoDisjunction_0', 'g200x740_matrix_4_64_NoMatrix_0', 'g200x740_matrix_4_64_NoTerm_0', 'g200x740_matrix_4_64_NoBasis_0', 'g200x740_objective_4_4_New_0', 'g200x740_objective_4_4_Farkas_0', 'g200x740_objective_4_4_All_0', 'g200x740_objective_4_4_NoDisjunction_0', 'g200x740_objective_4_4_NoMatrix_0', 'g200x740_objective_4_4_NoTerm_0', 'g200x740_objective_4_4_NoBasis_0', 'g200x740_objective_4_64_New_0', 'g200x740_objective_4_64_Farkas_0', 'g200x740_objective_4_64_All_0', 'g200x740_objective_4_64_NoDisjunction_0', 'g200x740_objective_4_64_NoMatrix_0', 'g200x740_objective_4_64_NoTerm_0', 'g200x740_objective_4_64_NoBasis_0', 'binkar10_1_rhs_0_4_New_0', 'binkar10_1_rhs_0_4_Farkas_0', 'binkar10_1_rhs_0_4_All_0', 'binkar10_1_rhs_0_4_NoDisjunction_0', 'binkar10_1_rhs_0_4_NoMatrix_0', 'binkar10_1_rhs_0_4_NoTerm_0', 'binkar10_1_rhs_0_4_NoBasis_0', 'binkar10_1_rhs_0_64_New_0', 'binkar10_1_rhs_0_64_Farkas_0', 'binkar10_1_rhs_0_64_All_0', 'binkar10_1_rhs_0_64_NoDisjunction_0', 'binkar10_1_rhs_0_64_NoMatrix_0', 'binkar10_1_rhs_0_64_NoTerm_0', 'binkar10_1_rhs_0_64_NoBasis_0', 'binkar10_1_matrix_0_4_New_0', 'binkar10_1_matrix_0_4_Farkas_0', 'binkar10_1_matrix_0_4_All_0', 'binkar10_1_matrix_0_4_NoDisjunction_0', 'binkar10_1_matrix_0_4_NoMatrix_0', 'binkar10_1_matrix_0_4_NoTerm_0', 'binkar10_1_matrix_0_4_NoBasis_0', 'binkar10_1_matrix_0_64_New_0', 'binkar10_1_matrix_0_64_Farkas_0', 'binkar10_1_matrix_0_64_All_0', 'binkar10_1_matrix_0_64_NoDisjunction_0', 'binkar10_1_matrix_0_64_NoMatrix_0', 'binkar10_1_matrix_0_64_NoTerm_0', 'binkar10_1_matrix_0_64_NoBasis_0', 'binkar10_1_objective_0_4_New_0', 'binkar10_1_objective_0_4_Farkas_0', 'binkar10_1_objective_0_4_All_0', 'binkar10_1_objective_0_4_NoDisjunction_0', 'binkar10_1_objective_0_4_NoMatrix_0', 'binkar10_1_objective_0_4_NoTerm_0', 'binkar10_1_objective_0_4_NoBasis_0', 'binkar10_1_objective_0_64_New_0', 'binkar10_1_objective_0_64_Farkas_0', 'binkar10_1_objective_0_64_All_0', 'binkar10_1_objective_0_64_NoDisjunction_0', 'binkar10_1_objective_0_64_NoMatrix_0', 'binkar10_1_objective_0_64_NoTerm_0', 'binkar10_1_objective_0_64_NoBasis_0', 'binkar10_1_objective_2_4_New_0', 'binkar10_1_objective_2_4_Farkas_0', 'binkar10_1_objective_2_4_All_0', 'binkar10_1_objective_2_4_NoDisjunction_0', 'binkar10_1_objective_2_4_NoMatrix_0', 'binkar10_1_objective_2_4_NoTerm_0', 'binkar10_1_objective_2_4_NoBasis_0', 'binkar10_1_objective_2_64_New_0', 'binkar10_1_objective_2_64_Farkas_0', 'binkar10_1_objective_2_64_All_0', 'binkar10_1_objective_2_64_NoDisjunction_0', 'binkar10_1_objective_2_64_NoMatrix_0', 'binkar10_1_objective_2_64_NoTerm_0', 'binkar10_1_objective_2_64_NoBasis_0', 'binkar10_1_matrix_2_4_New_0', 'binkar10_1_matrix_2_4_Farkas_0', 'binkar10_1_matrix_2_4_All_0', 'binkar10_1_matrix_2_4_NoDisjunction_0', 'binkar10_1_matrix_2_4_NoMatrix_0', 'binkar10_1_matrix_2_4_NoTerm_0', 'binkar10_1_matrix_2_4_NoBasis_0', 'binkar10_1_matrix_2_64_New_0', 'binkar10_1_matrix_2_64_Farkas_0', 'binkar10_1_matrix_2_64_All_0', 'binkar10_1_matrix_2_64_NoDisjunction_0', 'binkar10_1_matrix_2_64_NoMatrix_0', 'binkar10_1_matrix_2_64_NoTerm_0', 'binkar10_1_matrix_2_64_NoBasis_0', 'binkar10_1_objective_4_4_New_0', 'binkar10_1_objective_4_4_Farkas_0', 'binkar10_1_objective_4_4_All_0', 'binkar10_1_objective_4_4_NoDisjunction_0', 'binkar10_1_objective_4_4_NoMatrix_0', 'binkar10_1_objective_4_4_NoTerm_0', 'binkar10_1_objective_4_4_NoBasis_0', 'binkar10_1_objective_4_64_New_0', 'binkar10_1_objective_4_64_Farkas_0', 'binkar10_1_objective_4_64_All_0', 'binkar10_1_objective_4_64_NoDisjunction_0', 'binkar10_1_objective_4_64_NoMatrix_0', 'binkar10_1_objective_4_64_NoTerm_0', 'binkar10_1_objective_4_64_NoBasis_0', 'tr12-30_rhs_0_4_New_0', 'tr12-30_rhs_0_4_Farkas_0', 'tr12-30_rhs_0_4_All_0', 'tr12-30_rhs_0_4_NoDisjunction_0', 'tr12-30_rhs_0_4_NoMatrix_0', 'tr12-30_rhs_0_4_NoTerm_0', 'tr12-30_rhs_0_4_NoBasis_0', 'tr12-30_rhs_0_64_New_0', 'tr12-30_rhs_0_64_Farkas_0', 'tr12-30_rhs_0_64_All_0', 'tr12-30_rhs_0_64_NoDisjunction_0', 'tr12-30_rhs_0_64_NoMatrix_0', 'tr12-30_rhs_0_64_NoTerm_0', 'tr12-30_rhs_0_64_NoBasis_0', 'tr12-30_matrix_0_4_New_0', 'tr12-30_matrix_0_4_Farkas_0', 'tr12-30_matrix_0_4_All_0', 'tr12-30_matrix_0_4_NoDisjunction_0', 'tr12-30_matrix_0_4_NoMatrix_0', 'tr12-30_matrix_0_4_NoTerm_0', 'tr12-30_matrix_0_4_NoBasis_0', 'tr12-30_matrix_0_64_New_0', 'tr12-30_matrix_0_64_Farkas_0', 'tr12-30_matrix_0_64_All_0', 'tr12-30_matrix_0_64_NoDisjunction_0', 'tr12-30_matrix_0_64_NoMatrix_0', 'tr12-30_matrix_0_64_NoTerm_0', 'tr12-30_matrix_0_64_NoBasis_0', 'tr12-30_objective_0_4_New_0', 'tr12-30_objective_0_4_Farkas_0', 'tr12-30_objective_0_4_All_0', 'tr12-30_objective_0_4_NoDisjunction_0', 'tr12-30_objective_0_4_NoMatrix_0', 'tr12-30_objective_0_4_NoTerm_0', 'tr12-30_objective_0_4_NoBasis_0', 'tr12-30_objective_0_64_New_0', 'tr12-30_objective_0_64_Farkas_0', 'tr12-30_objective_0_64_All_0', 'tr12-30_objective_0_64_NoDisjunction_0', 'tr12-30_objective_0_64_NoMatrix_0', 'tr12-30_objective_0_64_NoTerm_0', 'tr12-30_objective_0_64_NoBasis_0', 'tr12-30_rhs_4_4_New_0', 'tr12-30_rhs_4_4_Farkas_0', 'tr12-30_rhs_4_4_All_0', 'tr12-30_rhs_4_4_NoDisjunction_0', 'tr12-30_rhs_4_4_NoMatrix_0', 'tr12-30_rhs_4_4_NoTerm_0', 'tr12-30_rhs_4_4_NoBasis_0', 'tr12-30_rhs_4_64_New_0', 'tr12-30_rhs_4_64_Farkas_0', 'tr12-30_rhs_4_64_All_0', 'tr12-30_rhs_4_64_NoDisjunction_0', 'tr12-30_rhs_4_64_NoMatrix_0', 'tr12-30_rhs_4_64_NoTerm_0', 'tr12-30_rhs_4_64_NoBasis_0', 'tr12-30_rhs_2_4_New_0', 'tr12-30_rhs_2_4_Farkas_0', 'tr12-30_rhs_2_4_All_0', 'tr12-30_rhs_2_4_NoDisjunction_0', 'tr12-30_rhs_2_4_NoMatrix_0', 'tr12-30_rhs_2_4_NoTerm_0', 'tr12-30_rhs_2_4_NoBasis_0', 'tr12-30_rhs_2_64_New_0', 'tr12-30_rhs_2_64_Farkas_0', 'tr12-30_rhs_2_64_All_0', 'tr12-30_rhs_2_64_NoDisjunction_0', 'tr12-30_rhs_2_64_NoMatrix_0', 'tr12-30_rhs_2_64_NoTerm_0', 'tr12-30_rhs_2_64_NoBasis_0', 'tr12-30_objective_2_4_New_0', 'tr12-30_objective_2_4_Farkas_0', 'tr12-30_objective_2_4_All_0', 'tr12-30_objective_2_4_NoDisjunction_0', 'tr12-30_objective_2_4_NoMatrix_0', 'tr12-30_objective_2_4_NoTerm_0', 'tr12-30_objective_2_4_NoBasis_0', 'tr12-30_objective_2_64_New_0', 'tr12-30_objective_2_64_Farkas_0', 'tr12-30_objective_2_64_All_0', 'tr12-30_objective_2_64_NoDisjunction_0', 'tr12-30_objective_2_64_NoMatrix_0', 'tr12-30_objective_2_64_NoTerm_0', 'tr12-30_objective_2_64_NoBasis_0', 'tr12-30_objective_4_4_New_0', 'tr12-30_objective_4_4_Farkas_0', 'tr12-30_objective_4_4_All_0', 'tr12-30_objective_4_4_NoDisjunction_0', 'tr12-30_objective_4_4_NoMatrix_0', 'tr12-30_objective_4_4_NoTerm_0', 'tr12-30_objective_4_4_NoBasis_0', 'tr12-30_objective_4_64_New_0', 'tr12-30_objective_4_64_Farkas_0', 'tr12-30_objective_4_64_All_0', 'tr12-30_objective_4_64_NoDisjunction_0', 'tr12-30_objective_4_64_NoMatrix_0', 'tr12-30_objective_4_64_NoTerm_0', 'tr12-30_objective_4_64_NoBasis_0', 'neos-3754480-nidda_rhs_0_4_New_0', 'neos-3754480-nidda_rhs_0_4_Farkas_0', 'neos-3754480-nidda_rhs_0_4_All_0', 'neos-3754480-nidda_rhs_0_4_NoDisjunction_0', 'neos-3754480-nidda_rhs_0_4_NoMatrix_0', 'neos-3754480-nidda_rhs_0_4_NoTerm_0', 'neos-3754480-nidda_rhs_0_4_NoBasis_0', 'neos-3754480-nidda_rhs_0_64_New_0', 'neos-3754480-nidda_rhs_0_64_Farkas_0', 'neos-3754480-nidda_rhs_0_64_All_0', 'neos-3754480-nidda_rhs_0_64_NoDisjunction_0', 'neos-3754480-nidda_rhs_0_64_NoMatrix_0', 'neos-3754480-nidda_rhs_0_64_NoTerm_0', 'neos-3754480-nidda_rhs_0_64_NoBasis_0', 'neos-3754480-nidda_matrix_0_4_New_0', 'neos-3754480-nidda_matrix_0_4_Farkas_0', 'neos-3754480-nidda_matrix_0_4_All_0', 'neos-3754480-nidda_matrix_0_4_NoDisjunction_0', 'neos-3754480-nidda_matrix_0_4_NoMatrix_0', 'neos-3754480-nidda_matrix_0_4_NoTerm_0', 'neos-3754480-nidda_matrix_0_4_NoBasis_0', 'neos-3754480-nidda_matrix_0_64_New_0', 'neos-3754480-nidda_matrix_0_64_Farkas_0', 'neos-3754480-nidda_matrix_0_64_All_0', 'neos-3754480-nidda_matrix_0_64_NoDisjunction_0', 'neos-3754480-nidda_matrix_0_64_NoMatrix_0', 'neos-3754480-nidda_matrix_0_64_NoTerm_0', 'neos-3754480-nidda_matrix_0_64_NoBasis_0', 'neos-3754480-nidda_objective_0_4_New_0', 'neos-3754480-nidda_objective_0_4_Farkas_0', 'neos-3754480-nidda_objective_0_4_All_0', 'neos-3754480-nidda_objective_0_4_NoDisjunction_0', 'neos-3754480-nidda_objective_0_4_NoMatrix_0', 'neos-3754480-nidda_objective_0_4_NoTerm_0', 'neos-3754480-nidda_objective_0_4_NoBasis_0', 'neos-3754480-nidda_objective_0_64_New_0', 'neos-3754480-nidda_objective_0_64_Farkas_0', 'neos-3754480-nidda_objective_0_64_All_0', 'neos-3754480-nidda_objective_0_64_NoDisjunction_0', 'neos-3754480-nidda_objective_0_64_NoMatrix_0', 'neos-3754480-nidda_objective_0_64_NoTerm_0', 'neos-3754480-nidda_objective_0_64_NoBasis_0', 'neos-3754480-nidda_matrix_2_4_New_0', 'neos-3754480-nidda_matrix_2_4_Farkas_0', 'neos-3754480-nidda_matrix_2_4_All_0', 'neos-3754480-nidda_matrix_2_4_NoDisjunction_0', 'neos-3754480-nidda_matrix_2_4_NoMatrix_0', 'neos-3754480-nidda_matrix_2_4_NoTerm_0', 'neos-3754480-nidda_matrix_2_4_NoBasis_0', 'neos-3754480-nidda_matrix_2_64_New_0', 'neos-3754480-nidda_matrix_2_64_Farkas_0', 'neos-3754480-nidda_matrix_2_64_All_0', 'neos-3754480-nidda_matrix_2_64_NoDisjunction_0', 'neos-3754480-nidda_matrix_2_64_NoMatrix_0', 'neos-3754480-nidda_matrix_2_64_NoTerm_0', 'neos-3754480-nidda_matrix_2_64_NoBasis_0', 'aflow30a_rhs_0_4_New_0', 'aflow30a_rhs_0_4_Farkas_0', 'aflow30a_rhs_0_4_All_0', 'aflow30a_rhs_0_4_NoDisjunction_0', 'aflow30a_rhs_0_4_NoMatrix_0', 'aflow30a_rhs_0_4_NoTerm_0', 'aflow30a_rhs_0_4_NoBasis_0', 'aflow30a_rhs_0_64_New_0', 'aflow30a_rhs_0_64_Farkas_0', 'aflow30a_rhs_0_64_All_0', 'aflow30a_rhs_0_64_NoDisjunction_0', 'aflow30a_rhs_0_64_NoMatrix_0', 'aflow30a_rhs_0_64_NoTerm_0', 'aflow30a_rhs_0_64_NoBasis_0', 'aflow30a_matrix_0_4_New_0', 'aflow30a_matrix_0_4_Farkas_0', 'aflow30a_matrix_0_4_All_0', 'aflow30a_matrix_0_4_NoDisjunction_0', 'aflow30a_matrix_0_4_NoMatrix_0', 'aflow30a_matrix_0_4_NoTerm_0', 'aflow30a_matrix_0_4_NoBasis_0', 'aflow30a_matrix_0_64_New_0', 'aflow30a_matrix_0_64_Farkas_0', 'aflow30a_matrix_0_64_All_0', 'aflow30a_matrix_0_64_NoDisjunction_0', 'aflow30a_matrix_0_64_NoMatrix_0', 'aflow30a_matrix_0_64_NoTerm_0', 'aflow30a_matrix_0_64_NoBasis_0', 'aflow30a_rhs_2_4_New_0', 'aflow30a_rhs_2_4_Farkas_0', 'aflow30a_rhs_2_4_All_0', 'aflow30a_rhs_2_4_NoDisjunction_0', 'aflow30a_rhs_2_4_NoMatrix_0', 'aflow30a_rhs_2_4_NoTerm_0', 'aflow30a_rhs_2_4_NoBasis_0', 'aflow30a_rhs_2_64_New_0', 'aflow30a_rhs_2_64_Farkas_0', 'aflow30a_rhs_2_64_All_0', 'aflow30a_rhs_2_64_NoDisjunction_0', 'aflow30a_rhs_2_64_NoMatrix_0', 'aflow30a_rhs_2_64_NoTerm_0', 'aflow30a_rhs_2_64_NoBasis_0', 'aflow30a_matrix_2_4_New_0', 'aflow30a_matrix_2_4_Farkas_0', 'aflow30a_matrix_2_4_All_0', 'aflow30a_matrix_2_4_NoDisjunction_0', 'aflow30a_matrix_2_4_NoMatrix_0', 'aflow30a_matrix_2_4_NoTerm_0', 'aflow30a_matrix_2_4_NoBasis_0', 'aflow30a_matrix_2_64_New_0', 'aflow30a_matrix_2_64_Farkas_0', 'aflow30a_matrix_2_64_All_0', 'aflow30a_matrix_2_64_NoDisjunction_0', 'aflow30a_matrix_2_64_NoMatrix_0', 'aflow30a_matrix_2_64_NoTerm_0', 'aflow30a_matrix_2_64_NoBasis_0', 'pg5_34_rhs_0_4_New_0', 'pg5_34_rhs_0_4_Farkas_0', 'pg5_34_rhs_0_4_All_0', 'pg5_34_rhs_0_4_NoDisjunction_0', 'pg5_34_rhs_0_4_NoMatrix_0', 'pg5_34_rhs_0_4_NoTerm_0', 'pg5_34_rhs_0_4_NoBasis_0', 'pg5_34_rhs_0_64_New_0', 'pg5_34_rhs_0_64_Farkas_0', 'pg5_34_rhs_0_64_All_0', 'pg5_34_rhs_0_64_NoDisjunction_0', 'pg5_34_rhs_0_64_NoMatrix_0', 'pg5_34_rhs_0_64_NoTerm_0', 'pg5_34_rhs_0_64_NoBasis_0', 'pg5_34_matrix_0_4_New_0', 'pg5_34_matrix_0_4_Farkas_0', 'pg5_34_matrix_0_4_All_0', 'pg5_34_matrix_0_4_NoDisjunction_0', 'pg5_34_matrix_0_4_NoMatrix_0', 'pg5_34_matrix_0_4_NoTerm_0', 'pg5_34_matrix_0_4_NoBasis_0', 'pg5_34_matrix_0_64_New_0', 'pg5_34_matrix_0_64_Farkas_0', 'pg5_34_matrix_0_64_All_0', 'pg5_34_matrix_0_64_NoDisjunction_0', 'pg5_34_matrix_0_64_NoMatrix_0', 'pg5_34_matrix_0_64_NoTerm_0', 'pg5_34_matrix_0_64_NoBasis_0', 'pg5_34_rhs_4_4_New_0', 'pg5_34_rhs_4_4_Farkas_0', 'pg5_34_rhs_4_4_All_0', 'pg5_34_rhs_4_4_NoDisjunction_0', 'pg5_34_rhs_4_4_NoMatrix_0', 'pg5_34_rhs_4_4_NoTerm_0', 'pg5_34_rhs_4_4_NoBasis_0', 'pg5_34_rhs_4_64_New_0', 'pg5_34_rhs_4_64_Farkas_0', 'pg5_34_rhs_4_64_All_0', 'pg5_34_rhs_4_64_NoDisjunction_0', 'pg5_34_rhs_4_64_NoMatrix_0', 'pg5_34_rhs_4_64_NoTerm_0', 'pg5_34_rhs_4_64_NoBasis_0', 'pg5_34_rhs_2_4_New_0', 'pg5_34_rhs_2_4_Farkas_0', 'pg5_34_rhs_2_4_All_0', 'pg5_34_rhs_2_4_NoDisjunction_0', 'pg5_34_rhs_2_4_NoMatrix_0', 'pg5_34_rhs_2_4_NoTerm_0', 'pg5_34_rhs_2_4_NoBasis_0', 'pg5_34_rhs_2_64_New_0', 'pg5_34_rhs_2_64_Farkas_0', 'pg5_34_rhs_2_64_All_0', 'pg5_34_rhs_2_64_NoDisjunction_0', 'pg5_34_rhs_2_64_NoMatrix_0', 'pg5_34_rhs_2_64_NoTerm_0', 'pg5_34_rhs_2_64_NoBasis_0', 'pg5_34_matrix_2_4_New_0', 'pg5_34_matrix_2_4_Farkas_0', 'pg5_34_matrix_2_4_All_0', 'pg5_34_matrix_2_4_NoDisjunction_0', 'pg5_34_matrix_2_4_NoMatrix_0', 'pg5_34_matrix_2_4_NoTerm_0', 'pg5_34_matrix_2_4_NoBasis_0', 'pg5_34_matrix_2_64_New_0', 'pg5_34_matrix_2_64_Farkas_0', 'pg5_34_matrix_2_64_All_0', 'pg5_34_matrix_2_64_NoDisjunction_0', 'pg5_34_matrix_2_64_NoMatrix_0', 'pg5_34_matrix_2_64_NoTerm_0', 'pg5_34_matrix_2_64_NoBasis_0', 'pg5_34_matrix_4_4_New_0', 'pg5_34_matrix_4_4_Farkas_0', 'pg5_34_matrix_4_4_All_0', 'pg5_34_matrix_4_4_NoDisjunction_0', 'pg5_34_matrix_4_4_NoMatrix_0', 'pg5_34_matrix_4_4_NoTerm_0', 'pg5_34_matrix_4_4_NoBasis_0', 'pg5_34_matrix_4_64_New_0', 'pg5_34_matrix_4_64_Farkas_0', 'pg5_34_matrix_4_64_All_0', 'pg5_34_matrix_4_64_NoDisjunction_0', 'pg5_34_matrix_4_64_NoMatrix_0', 'pg5_34_matrix_4_64_NoTerm_0', 'pg5_34_matrix_4_64_NoBasis_0', 'neos-4333596-skien_rhs_0_4_New_0', 'neos-4333596-skien_rhs_0_4_Farkas_0', 'neos-4333596-skien_rhs_0_4_All_0', 'neos-4333596-skien_rhs_0_4_NoDisjunction_0', 'neos-4333596-skien_rhs_0_4_NoMatrix_0', 'neos-4333596-skien_rhs_0_4_NoTerm_0', 'neos-4333596-skien_rhs_0_4_NoBasis_0', 'neos-4333596-skien_rhs_0_64_New_0', 'neos-4333596-skien_rhs_0_64_Farkas_0', 'neos-4333596-skien_rhs_0_64_All_0', 'neos-4333596-skien_rhs_0_64_NoDisjunction_0', 'neos-4333596-skien_rhs_0_64_NoMatrix_0', 'neos-4333596-skien_rhs_0_64_NoTerm_0', 'neos-4333596-skien_rhs_0_64_NoBasis_0', 'neos-4333596-skien_matrix_0_4_New_0', 'neos-4333596-skien_matrix_0_4_Farkas_0', 'neos-4333596-skien_matrix_0_4_All_0', 'neos-4333596-skien_matrix_0_4_NoDisjunction_0', 'neos-4333596-skien_matrix_0_4_NoMatrix_0', 'neos-4333596-skien_matrix_0_4_NoTerm_0', 'neos-4333596-skien_matrix_0_4_NoBasis_0', 'neos-4333596-skien_matrix_0_64_New_0', 'neos-4333596-skien_matrix_0_64_Farkas_0', 'neos-4333596-skien_matrix_0_64_All_0', 'neos-4333596-skien_matrix_0_64_NoDisjunction_0', 'neos-4333596-skien_matrix_0_64_NoMatrix_0', 'neos-4333596-skien_matrix_0_64_NoTerm_0', 'neos-4333596-skien_matrix_0_64_NoBasis_0', 'neos-4333596-skien_objective_0_4_New_0', 'neos-4333596-skien_objective_0_4_Farkas_0', 'neos-4333596-skien_objective_0_4_All_0', 'neos-4333596-skien_objective_0_4_NoDisjunction_0', 'neos-4333596-skien_objective_0_4_NoMatrix_0', 'neos-4333596-skien_objective_0_4_NoTerm_0', 'neos-4333596-skien_objective_0_4_NoBasis_0', 'neos-4333596-skien_objective_0_64_New_0', 'neos-4333596-skien_objective_0_64_Farkas_0', 'neos-4333596-skien_objective_0_64_All_0', 'neos-4333596-skien_objective_0_64_NoDisjunction_0', 'neos-4333596-skien_objective_0_64_NoMatrix_0', 'neos-4333596-skien_objective_0_64_NoTerm_0', 'neos-4333596-skien_objective_0_64_NoBasis_0', 'neos-4333596-skien_objective_2_4_New_0', 'neos-4333596-skien_objective_2_4_Farkas_0', 'neos-4333596-skien_objective_2_4_All_0', 'neos-4333596-skien_objective_2_4_NoDisjunction_0', 'neos-4333596-skien_objective_2_4_NoMatrix_0', 'neos-4333596-skien_objective_2_4_NoTerm_0', 'neos-4333596-skien_objective_2_4_NoBasis_0', 'neos-4333596-skien_objective_2_64_New_0', 'neos-4333596-skien_objective_2_64_Farkas_0', 'neos-4333596-skien_objective_2_64_All_0', 'neos-4333596-skien_objective_2_64_NoDisjunction_0', 'neos-4333596-skien_objective_2_64_NoMatrix_0', 'neos-4333596-skien_objective_2_64_NoTerm_0', 'neos-4333596-skien_objective_2_64_NoBasis_0', 'neos-4333596-skien_matrix_2_4_New_0', 'neos-4333596-skien_matrix_2_4_Farkas_0', 'neos-4333596-skien_matrix_2_4_All_0', 'neos-4333596-skien_matrix_2_4_NoDisjunction_0', 'neos-4333596-skien_matrix_2_4_NoMatrix_0', 'neos-4333596-skien_matrix_2_4_NoTerm_0', 'neos-4333596-skien_matrix_2_4_NoBasis_0', 'neos-4333596-skien_matrix_2_64_New_0', 'neos-4333596-skien_matrix_2_64_Farkas_0', 'neos-4333596-skien_matrix_2_64_All_0', 'neos-4333596-skien_matrix_2_64_NoDisjunction_0', 'neos-4333596-skien_matrix_2_64_NoMatrix_0', 'neos-4333596-skien_matrix_2_64_NoTerm_0', 'neos-4333596-skien_matrix_2_64_NoBasis_0', 'neos-4333596-skien_objective_4_4_New_0', 'neos-4333596-skien_objective_4_4_Farkas_0', 'neos-4333596-skien_objective_4_4_All_0', 'neos-4333596-skien_objective_4_4_NoDisjunction_0', 'neos-4333596-skien_objective_4_4_NoMatrix_0', 'neos-4333596-skien_objective_4_4_NoTerm_0', 'neos-4333596-skien_objective_4_4_NoBasis_0', 'neos-4333596-skien_objective_4_64_New_0', 'neos-4333596-skien_objective_4_64_Farkas_0', 'neos-4333596-skien_objective_4_64_All_0', 'neos-4333596-skien_objective_4_64_NoDisjunction_0', 'neos-4333596-skien_objective_4_64_NoMatrix_0', 'neos-4333596-skien_objective_4_64_NoTerm_0', 'neos-4333596-skien_objective_4_64_NoBasis_0', 'neos-860300_rhs_0_4_New_0', 'neos-860300_rhs_0_4_Farkas_0', 'neos-860300_rhs_0_4_All_0', 'neos-860300_rhs_0_4_NoDisjunction_0', 'neos-860300_rhs_0_4_NoMatrix_0', 'neos-860300_rhs_0_4_NoTerm_0', 'neos-860300_rhs_0_4_NoBasis_0', 'neos-860300_rhs_0_64_All_0', 'neos-860300_rhs_0_64_NoDisjunction_0', 'neos-860300_rhs_0_64_NoMatrix_0', 'neos-860300_rhs_0_64_NoTerm_0', 'neos-860300_rhs_0_64_NoBasis_0', 'neos-860300_matrix_0_4_New_0', 'neos-860300_matrix_0_4_Farkas_0', 'neos-860300_matrix_0_4_All_0', 'neos-860300_matrix_0_4_NoDisjunction_0', 'neos-860300_matrix_0_4_NoMatrix_0', 'neos-860300_matrix_0_4_NoTerm_0', 'neos-860300_matrix_0_4_NoBasis_0', 'neos-860300_matrix_0_64_New_0', 'neos-860300_matrix_0_64_Farkas_0', 'neos-860300_matrix_0_64_All_0', 'neos-860300_matrix_0_64_NoDisjunction_0', 'neos-860300_matrix_0_64_NoMatrix_0', 'neos-860300_matrix_0_64_NoTerm_0', 'neos-860300_matrix_0_64_NoBasis_0', 'neos-860300_rhs_4_4_New_0', 'neos-860300_rhs_4_4_Farkas_0', 'neos-860300_rhs_4_4_All_0', 'neos-860300_rhs_4_4_NoDisjunction_0', 'neos-860300_rhs_4_4_NoMatrix_0', 'neos-860300_rhs_4_4_NoTerm_0', 'neos-860300_rhs_4_4_NoBasis_0', 'neos-860300_rhs_4_64_New_0', 'neos-860300_rhs_4_64_Farkas_0', 'neos-860300_rhs_4_64_All_0', 'neos-860300_rhs_4_64_NoDisjunction_0', 'neos-860300_rhs_4_64_NoMatrix_0', 'neos-860300_rhs_4_64_NoTerm_0', 'neos-860300_rhs_4_64_NoBasis_0', 'neos-860300_rhs_2_4_New_0', 'neos-860300_rhs_2_4_Farkas_0', 'neos-860300_rhs_2_4_All_0', 'neos-860300_rhs_2_4_NoDisjunction_0', 'neos-860300_rhs_2_4_NoMatrix_0', 'neos-860300_rhs_2_4_NoTerm_0', 'neos-860300_rhs_2_4_NoBasis_0', 'neos-860300_rhs_2_64_New_0', 'neos-860300_rhs_2_64_Farkas_0', 'neos-860300_rhs_2_64_All_0', 'neos-860300_rhs_2_64_NoDisjunction_0', 'neos-860300_rhs_2_64_NoMatrix_0', 'neos-860300_rhs_2_64_NoTerm_0', 'neos-860300_rhs_2_64_NoBasis_0', 'neos-860300_matrix_2_4_New_0', 'neos-860300_matrix_2_4_Farkas_0', 'neos-860300_matrix_2_4_All_0', 'neos-860300_matrix_2_4_NoDisjunction_0', 'neos-860300_matrix_2_4_NoMatrix_0', 'neos-860300_matrix_2_4_NoTerm_0', 'neos-860300_matrix_2_4_NoBasis_0', 'neos-860300_matrix_2_64_New_0', 'neos-860300_matrix_2_64_Farkas_0', 'neos-860300_matrix_2_64_All_0', 'neos-860300_matrix_2_64_NoDisjunction_0', 'neos-860300_matrix_2_64_NoMatrix_0', 'neos-860300_matrix_2_64_NoTerm_0', 'neos-860300_matrix_2_64_NoBasis_0', 'neos-860300_matrix_4_4_New_0', 'neos-860300_matrix_4_4_Farkas_0', 'neos-860300_matrix_4_4_All_0', 'neos-860300_matrix_4_4_NoDisjunction_0', 'neos-860300_matrix_4_4_NoMatrix_0', 'neos-860300_matrix_4_4_NoTerm_0', 'neos-860300_matrix_4_4_NoBasis_0', 'neos-860300_matrix_4_64_New_0', 'neos-860300_matrix_4_64_Farkas_0', 'neos-860300_matrix_4_64_All_0', 'neos-860300_matrix_4_64_NoDisjunction_0', 'neos-860300_matrix_4_64_NoMatrix_0', 'neos-860300_matrix_4_64_NoTerm_0', 'neos-860300_matrix_4_64_NoBasis_0', 'mc7_rhs_0_4_New_0', 'mc7_rhs_0_4_Farkas_0', 'mc7_rhs_0_4_All_0', 'mc7_rhs_0_4_NoDisjunction_0', 'mc7_rhs_0_4_NoMatrix_0', 'mc7_rhs_0_4_NoTerm_0', 'mc7_rhs_0_4_NoBasis_0', 'mc7_rhs_0_64_New_0', 'mc7_rhs_0_64_Farkas_0', 'mc7_rhs_0_64_All_0', 'mc7_rhs_0_64_NoDisjunction_0', 'mc7_rhs_0_64_NoMatrix_0', 'mc7_rhs_0_64_NoTerm_0', 'mc7_rhs_0_64_NoBasis_0', 'mc7_matrix_0_4_New_0', 'mc7_matrix_0_4_Farkas_0', 'mc7_matrix_0_4_All_0', 'mc7_matrix_0_4_NoDisjunction_0', 'mc7_matrix_0_4_NoMatrix_0', 'mc7_matrix_0_4_NoTerm_0', 'mc7_matrix_0_4_NoBasis_0', 'mc7_matrix_0_64_New_0', 'mc7_matrix_0_64_Farkas_0', 'mc7_matrix_0_64_All_0', 'mc7_matrix_0_64_NoDisjunction_0', 'mc7_matrix_0_64_NoMatrix_0', 'mc7_matrix_0_64_NoTerm_0', 'mc7_matrix_0_64_NoBasis_0', 'mc7_rhs_4_4_New_0', 'mc7_rhs_4_4_Farkas_0', 'mc7_rhs_4_4_All_0', 'mc7_rhs_4_4_NoDisjunction_0', 'mc7_rhs_4_4_NoMatrix_0', 'mc7_rhs_4_4_NoTerm_0', 'mc7_rhs_4_4_NoBasis_0', 'mc7_rhs_4_64_New_0', 'mc7_rhs_4_64_Farkas_0', 'mc7_rhs_4_64_All_0', 'mc7_rhs_4_64_NoDisjunction_0', 'mc7_rhs_4_64_NoMatrix_0', 'mc7_rhs_4_64_NoTerm_0', 'mc7_rhs_4_64_NoBasis_0', 'mc7_rhs_2_4_New_0', 'mc7_rhs_2_4_Farkas_0', 'mc7_rhs_2_4_All_0', 'mc7_rhs_2_4_NoDisjunction_0', 'mc7_rhs_2_4_NoMatrix_0', 'mc7_rhs_2_4_NoTerm_0', 'mc7_rhs_2_4_NoBasis_0', 'mc7_rhs_2_64_New_0', 'mc7_rhs_2_64_Farkas_0', 'mc7_rhs_2_64_All_0', 'mc7_rhs_2_64_NoDisjunction_0', 'mc7_rhs_2_64_NoMatrix_0', 'mc7_rhs_2_64_NoTerm_0', 'mc7_rhs_2_64_NoBasis_0', 'mc7_matrix_2_4_New_0', 'mc7_matrix_2_4_Farkas_0', 'mc7_matrix_2_4_All_0', 'mc7_matrix_2_4_NoDisjunction_0', 'mc7_matrix_2_4_NoMatrix_0', 'mc7_matrix_2_4_NoTerm_0', 'mc7_matrix_2_4_NoBasis_0', 'mc7_matrix_2_64_New_0', 'mc7_matrix_2_64_Farkas_0', 'mc7_matrix_2_64_All_0', 'mc7_matrix_2_64_NoDisjunction_0', 'mc7_matrix_2_64_NoMatrix_0', 'mc7_matrix_2_64_NoTerm_0', 'mc7_matrix_2_64_NoBasis_0', 'mc7_matrix_4_4_New_0', 'mc7_matrix_4_4_Farkas_0', 'mc7_matrix_4_4_All_0', 'mc7_matrix_4_4_NoDisjunction_0', 'mc7_matrix_4_4_NoMatrix_0', 'mc7_matrix_4_4_NoTerm_0', 'mc7_matrix_4_4_NoBasis_0', 'mc7_matrix_4_64_New_0', 'mc7_matrix_4_64_Farkas_0', 'mc7_matrix_4_64_All_0', 'mc7_matrix_4_64_NoDisjunction_0', 'mc7_matrix_4_64_NoMatrix_0', 'mc7_matrix_4_64_NoTerm_0', 'mc7_matrix_4_64_NoBasis_0', 'mc7_objective_4_4_New_0', 'mc7_objective_4_4_Farkas_0', 'mc7_objective_4_4_All_0', 'mc7_objective_4_4_NoDisjunction_0', 'mc7_objective_4_4_NoMatrix_0', 'mc7_objective_4_4_NoTerm_0', 'mc7_objective_4_4_NoBasis_0', 'mc7_objective_4_64_New_0', 'mc7_objective_4_64_Farkas_0', 'mc7_objective_4_64_All_0', 'mc7_objective_4_64_NoDisjunction_0', 'mc7_objective_4_64_NoMatrix_0', 'mc7_objective_4_64_NoTerm_0', 'mc7_objective_4_64_NoBasis_0', 'neos-4393408-tinui_rhs_0_4_New_0', 'neos-4393408-tinui_rhs_0_4_Farkas_0', 'neos-4393408-tinui_rhs_0_4_All_0', 'neos-4393408-tinui_rhs_0_4_NoDisjunction_0', 'neos-4393408-tinui_rhs_0_4_NoMatrix_0', 'neos-4393408-tinui_rhs_0_4_NoTerm_0', 'neos-4393408-tinui_rhs_0_4_NoBasis_0', 'neos-4393408-tinui_rhs_0_64_New_0', 'neos-4393408-tinui_rhs_0_64_Farkas_0', 'neos-4393408-tinui_rhs_0_64_All_0', 'neos-4393408-tinui_rhs_0_64_NoDisjunction_0', 'neos-4393408-tinui_rhs_0_64_NoMatrix_0', 'neos-4393408-tinui_rhs_0_64_NoTerm_0', 'neos-4393408-tinui_rhs_0_64_NoBasis_0', 'neos-4393408-tinui_matrix_0_4_New_0', 'neos-4393408-tinui_matrix_0_4_Farkas_0', 'neos-4393408-tinui_matrix_0_4_All_0', 'neos-4393408-tinui_matrix_0_4_NoDisjunction_0', 'neos-4393408-tinui_matrix_0_4_NoMatrix_0', 'neos-4393408-tinui_matrix_0_4_NoTerm_0', 'neos-4393408-tinui_matrix_0_4_NoBasis_0', 'neos-4393408-tinui_matrix_0_64_New_0', 'neos-4393408-tinui_matrix_0_64_Farkas_0', 'neos-4393408-tinui_matrix_0_64_All_0', 'neos-4393408-tinui_matrix_0_64_NoDisjunction_0', 'neos-4393408-tinui_matrix_0_64_NoMatrix_0', 'neos-4393408-tinui_matrix_0_64_NoTerm_0', 'neos-4393408-tinui_matrix_0_64_NoBasis_0', 'neos-4393408-tinui_objective_2_4_New_0', 'neos-4393408-tinui_objective_2_4_Farkas_0', 'neos-4393408-tinui_objective_2_4_All_0', 'neos-4393408-tinui_objective_2_4_NoDisjunction_0', 'neos-4393408-tinui_objective_2_4_NoMatrix_0', 'neos-4393408-tinui_objective_2_4_NoTerm_0', 'neos-4393408-tinui_objective_2_4_NoBasis_0', 'neos-4393408-tinui_objective_2_64_All_0', 'neos-4393408-tinui_objective_2_64_NoDisjunction_0', 'neos-4393408-tinui_objective_2_64_NoMatrix_0', 'neos-4393408-tinui_objective_2_64_NoTerm_0', 'neos-4393408-tinui_objective_2_64_NoBasis_0', 'neos-4393408-tinui_matrix_2_4_New_0', 'neos-4393408-tinui_matrix_2_4_Farkas_0', 'neos-4393408-tinui_matrix_2_4_All_0', 'neos-4393408-tinui_matrix_2_4_NoDisjunction_0', 'neos-4393408-tinui_matrix_2_4_NoMatrix_0', 'neos-4393408-tinui_matrix_2_4_NoTerm_0', 'neos-4393408-tinui_matrix_2_4_NoBasis_0', 'neos-4393408-tinui_matrix_2_64_New_0', 'neos-4393408-tinui_matrix_2_64_Farkas_0', 'neos-4393408-tinui_matrix_2_64_All_0', 'neos-4393408-tinui_matrix_2_64_NoDisjunction_0', 'neos-4393408-tinui_matrix_2_64_NoMatrix_0', 'neos-4393408-tinui_matrix_2_64_NoTerm_0', 'neos-4393408-tinui_matrix_2_64_NoBasis_0', 'neos-4393408-tinui_matrix_4_4_New_0', 'neos-4393408-tinui_matrix_4_4_Farkas_0', 'neos-4393408-tinui_matrix_4_4_All_0', 'neos-4393408-tinui_matrix_4_4_NoDisjunction_0', 'neos-4393408-tinui_matrix_4_4_NoMatrix_0', 'neos-4393408-tinui_matrix_4_4_NoTerm_0', 'neos-4393408-tinui_matrix_4_4_NoBasis_0', 'neos-4393408-tinui_matrix_4_64_New_0', 'neos-4393408-tinui_matrix_4_64_Farkas_0', 'neos-4393408-tinui_matrix_4_64_All_0', 'neos-4393408-tinui_matrix_4_64_NoDisjunction_0', 'neos-4393408-tinui_matrix_4_64_NoMatrix_0', 'neos-4393408-tinui_matrix_4_64_NoTerm_0', 'neos-4393408-tinui_matrix_4_64_NoBasis_0', 'neos-4393408-tinui_objective_4_4_New_0', 'neos-4393408-tinui_objective_4_4_Farkas_0', 'neos-4393408-tinui_objective_4_4_All_0', 'neos-4393408-tinui_objective_4_4_NoDisjunction_0', 'neos-4393408-tinui_objective_4_4_NoMatrix_0', 'neos-4393408-tinui_objective_4_4_NoTerm_0', 'neos-4393408-tinui_objective_4_4_NoBasis_0', 'neos-4393408-tinui_objective_4_64_New_0', 'neos-4393408-tinui_objective_4_64_Farkas_0', 'neos-4393408-tinui_objective_4_64_All_0', 'neos-4393408-tinui_objective_4_64_NoDisjunction_0', 'neos-4393408-tinui_objective_4_64_NoMatrix_0', 'neos-4393408-tinui_objective_4_64_NoTerm_0', 'neos-4393408-tinui_objective_4_64_NoBasis_0', 'mc8_rhs_0_4_New_0', 'mc8_rhs_0_4_Farkas_0', 'mc8_rhs_0_4_All_0', 'mc8_rhs_0_4_NoDisjunction_0', 'mc8_rhs_0_4_NoMatrix_0', 'mc8_rhs_0_4_NoTerm_0', 'mc8_rhs_0_4_NoBasis_0', 'mc8_rhs_0_64_New_0', 'mc8_rhs_0_64_Farkas_0', 'mc8_rhs_0_64_All_0', 'mc8_rhs_0_64_NoDisjunction_0', 'mc8_rhs_0_64_NoMatrix_0', 'mc8_rhs_0_64_NoTerm_0', 'mc8_rhs_0_64_NoBasis_0', 'mc8_matrix_0_4_New_0', 'mc8_matrix_0_4_Farkas_0', 'mc8_matrix_0_4_All_0', 'mc8_matrix_0_4_NoDisjunction_0', 'mc8_matrix_0_4_NoMatrix_0', 'mc8_matrix_0_4_NoTerm_0', 'mc8_matrix_0_4_NoBasis_0', 'mc8_matrix_0_64_New_0', 'mc8_matrix_0_64_Farkas_0', 'mc8_matrix_0_64_All_0', 'mc8_matrix_0_64_NoDisjunction_0', 'mc8_matrix_0_64_NoMatrix_0', 'mc8_matrix_0_64_NoTerm_0', 'mc8_matrix_0_64_NoBasis_0', 'mc8_objective_0_4_New_0', 'mc8_objective_0_4_Farkas_0', 'mc8_objective_0_4_All_0', 'mc8_objective_0_4_NoDisjunction_0', 'mc8_objective_0_4_NoMatrix_0', 'mc8_objective_0_4_NoTerm_0', 'mc8_objective_0_4_NoBasis_0', 'mc8_objective_0_64_New_0', 'mc8_objective_0_64_Farkas_0', 'mc8_objective_0_64_All_0', 'mc8_objective_0_64_NoDisjunction_0', 'mc8_objective_0_64_NoMatrix_0', 'mc8_objective_0_64_NoTerm_0', 'mc8_objective_0_64_NoBasis_0', 'mc8_rhs_4_4_New_0', 'mc8_rhs_4_4_Farkas_0', 'mc8_rhs_4_4_All_0', 'mc8_rhs_4_4_NoDisjunction_0', 'mc8_rhs_4_4_NoMatrix_0', 'mc8_rhs_4_4_NoTerm_0', 'mc8_rhs_4_4_NoBasis_0', 'mc8_rhs_4_64_New_0', 'mc8_rhs_4_64_Farkas_0', 'mc8_rhs_4_64_All_0', 'mc8_rhs_4_64_NoDisjunction_0', 'mc8_rhs_4_64_NoMatrix_0', 'mc8_rhs_4_64_NoTerm_0', 'mc8_rhs_4_64_NoBasis_0', 'mc8_rhs_2_4_New_0', 'mc8_rhs_2_4_Farkas_0', 'mc8_rhs_2_4_All_0', 'mc8_rhs_2_4_NoDisjunction_0', 'mc8_rhs_2_4_NoMatrix_0', 'mc8_rhs_2_4_NoTerm_0', 'mc8_rhs_2_4_NoBasis_0', 'mc8_rhs_2_64_New_0', 'mc8_rhs_2_64_Farkas_0', 'mc8_rhs_2_64_All_0', 'mc8_rhs_2_64_NoDisjunction_0', 'mc8_rhs_2_64_NoMatrix_0', 'mc8_rhs_2_64_NoTerm_0', 'mc8_rhs_2_64_NoBasis_0', 'mc8_objective_2_4_New_0', 'mc8_objective_2_4_Farkas_0', 'mc8_objective_2_4_All_0', 'mc8_objective_2_4_NoDisjunction_0', 'mc8_objective_2_4_NoMatrix_0', 'mc8_objective_2_4_NoTerm_0', 'mc8_objective_2_4_NoBasis_0', 'mc8_objective_2_64_New_0', 'mc8_objective_2_64_Farkas_0', 'mc8_objective_2_64_All_0', 'mc8_objective_2_64_NoDisjunction_0', 'mc8_objective_2_64_NoMatrix_0', 'mc8_objective_2_64_NoTerm_0', 'mc8_objective_2_64_NoBasis_0', 'mc8_matrix_2_4_New_0', 'mc8_matrix_2_4_Farkas_0', 'mc8_matrix_2_4_All_0', 'mc8_matrix_2_4_NoDisjunction_0', 'mc8_matrix_2_4_NoMatrix_0', 'mc8_matrix_2_4_NoTerm_0', 'mc8_matrix_2_4_NoBasis_0', 'mc8_matrix_2_64_New_0', 'mc8_matrix_2_64_Farkas_0', 'mc8_matrix_2_64_All_0', 'mc8_matrix_2_64_NoDisjunction_0', 'mc8_matrix_2_64_NoMatrix_0', 'mc8_matrix_2_64_NoTerm_0', 'mc8_matrix_2_64_NoBasis_0', 'mc8_matrix_4_4_New_0', 'mc8_matrix_4_4_Farkas_0', 'mc8_matrix_4_4_All_0', 'mc8_matrix_4_4_NoDisjunction_0', 'mc8_matrix_4_4_NoMatrix_0', 'mc8_matrix_4_4_NoTerm_0', 'mc8_matrix_4_4_NoBasis_0', 'mc8_matrix_4_64_New_0', 'mc8_matrix_4_64_Farkas_0', 'mc8_matrix_4_64_All_0', 'mc8_matrix_4_64_NoDisjunction_0', 'mc8_matrix_4_64_NoMatrix_0', 'mc8_matrix_4_64_NoTerm_0', 'mc8_matrix_4_64_NoBasis_0', 'mc8_objective_4_4_New_0', 'mc8_objective_4_4_Farkas_0', 'mc8_objective_4_4_All_0', 'mc8_objective_4_4_NoDisjunction_0', 'mc8_objective_4_4_NoMatrix_0', 'mc8_objective_4_4_NoTerm_0', 'mc8_objective_4_4_NoBasis_0', 'mc8_objective_4_64_New_0', 'mc8_objective_4_64_Farkas_0', 'mc8_objective_4_64_All_0', 'mc8_objective_4_64_NoDisjunction_0', 'mc8_objective_4_64_NoMatrix_0', 'mc8_objective_4_64_NoTerm_0', 'mc8_objective_4_64_NoBasis_0', 'misc07_rhs_0_4_New_0', 'misc07_rhs_0_4_Farkas_0', 'misc07_rhs_0_4_All_0', 'misc07_rhs_0_4_NoDisjunction_0', 'misc07_rhs_0_4_NoMatrix_0', 'misc07_rhs_0_4_NoTerm_0', 'misc07_rhs_0_4_NoBasis_0', 'misc07_rhs_0_64_New_0', 'misc07_rhs_0_64_Farkas_0', 'misc07_rhs_0_64_All_0', 'misc07_rhs_0_64_NoDisjunction_0', 'misc07_rhs_0_64_NoMatrix_0', 'misc07_rhs_0_64_NoTerm_0', 'misc07_rhs_0_64_NoBasis_0', 'misc07_matrix_0_4_New_0', 'misc07_matrix_0_4_Farkas_0', 'misc07_matrix_0_4_All_0', 'misc07_matrix_0_4_NoDisjunction_0', 'misc07_matrix_0_4_NoMatrix_0', 'misc07_matrix_0_4_NoTerm_0', 'misc07_matrix_0_4_NoBasis_0', 'misc07_matrix_0_64_New_0', 'misc07_matrix_0_64_Farkas_0', 'misc07_matrix_0_64_All_0', 'misc07_matrix_0_64_NoDisjunction_0', 'misc07_matrix_0_64_NoMatrix_0', 'misc07_matrix_0_64_NoTerm_0', 'misc07_matrix_0_64_NoBasis_0', 'neos-3046615-murg_matrix_0_4_New_0', 'neos-3046615-murg_matrix_0_4_Farkas_0', 'neos-3046615-murg_matrix_0_4_All_0', 'neos-3046615-murg_matrix_0_4_NoDisjunction_0', 'neos-3046615-murg_matrix_0_4_NoMatrix_0', 'neos-3046615-murg_matrix_0_4_NoTerm_0', 'neos-3046615-murg_matrix_0_4_NoBasis_0', 'neos-3046615-murg_matrix_0_64_New_0', 'neos-3046615-murg_matrix_0_64_Farkas_0', 'neos-3046615-murg_matrix_0_64_All_0', 'neos-3046615-murg_matrix_0_64_NoDisjunction_0', 'neos-3046615-murg_matrix_0_64_NoMatrix_0', 'neos-3046615-murg_matrix_0_64_NoTerm_0', 'neos-3046615-murg_matrix_0_64_NoBasis_0', 'graphdraw-gemcutter_rhs_0_4_New_0', 'graphdraw-gemcutter_rhs_0_4_Farkas_0', 'graphdraw-gemcutter_rhs_0_4_All_0', 'graphdraw-gemcutter_rhs_0_4_NoDisjunction_0', 'graphdraw-gemcutter_rhs_0_4_NoMatrix_0', 'graphdraw-gemcutter_rhs_0_4_NoTerm_0', 'graphdraw-gemcutter_rhs_0_4_NoBasis_0', 'graphdraw-gemcutter_rhs_0_64_New_0', 'graphdraw-gemcutter_rhs_0_64_Farkas_0', 'graphdraw-gemcutter_rhs_0_64_All_0', 'graphdraw-gemcutter_rhs_0_64_NoDisjunction_0', 'graphdraw-gemcutter_rhs_0_64_NoMatrix_0', 'graphdraw-gemcutter_rhs_0_64_NoTerm_0', 'graphdraw-gemcutter_rhs_0_64_NoBasis_0', 'graphdraw-gemcutter_matrix_0_4_New_0', 'graphdraw-gemcutter_matrix_0_4_Farkas_0', 'graphdraw-gemcutter_matrix_0_4_All_0', 'graphdraw-gemcutter_matrix_0_4_NoDisjunction_0', 'graphdraw-gemcutter_matrix_0_4_NoMatrix_0', 'graphdraw-gemcutter_matrix_0_4_NoTerm_0', 'graphdraw-gemcutter_matrix_0_4_NoBasis_0', 'graphdraw-gemcutter_matrix_0_64_New_0', 'graphdraw-gemcutter_matrix_0_64_Farkas_0', 'graphdraw-gemcutter_matrix_0_64_All_0', 'graphdraw-gemcutter_matrix_0_64_NoDisjunction_0', 'graphdraw-gemcutter_matrix_0_64_NoMatrix_0', 'graphdraw-gemcutter_matrix_0_64_NoTerm_0', 'graphdraw-gemcutter_matrix_0_64_NoBasis_0', 'graphdraw-gemcutter_objective_0_4_New_0', 'graphdraw-gemcutter_objective_0_4_Farkas_0', 'graphdraw-gemcutter_objective_0_4_All_0', 'graphdraw-gemcutter_objective_0_4_NoDisjunction_0', 'graphdraw-gemcutter_objective_0_4_NoMatrix_0', 'graphdraw-gemcutter_objective_0_4_NoTerm_0', 'graphdraw-gemcutter_objective_0_4_NoBasis_0', 'graphdraw-gemcutter_objective_0_64_New_0', 'graphdraw-gemcutter_objective_0_64_Farkas_0', 'graphdraw-gemcutter_objective_0_64_All_0', 'graphdraw-gemcutter_objective_0_64_NoDisjunction_0', 'graphdraw-gemcutter_objective_0_64_NoMatrix_0', 'graphdraw-gemcutter_objective_0_64_NoTerm_0', 'graphdraw-gemcutter_objective_0_64_NoBasis_0', 'graphdraw-gemcutter_objective_2_4_New_0', 'graphdraw-gemcutter_objective_2_4_Farkas_0', 'graphdraw-gemcutter_objective_2_4_All_0', 'graphdraw-gemcutter_objective_2_4_NoDisjunction_0', 'graphdraw-gemcutter_objective_2_4_NoMatrix_0', 'graphdraw-gemcutter_objective_2_4_NoTerm_0', 'graphdraw-gemcutter_objective_2_4_NoBasis_0', 'graphdraw-gemcutter_objective_2_64_New_0', 'graphdraw-gemcutter_objective_2_64_Farkas_0', 'graphdraw-gemcutter_objective_2_64_All_0', 'graphdraw-gemcutter_objective_2_64_NoDisjunction_0', 'graphdraw-gemcutter_objective_2_64_NoMatrix_0', 'graphdraw-gemcutter_objective_2_64_NoTerm_0', 'graphdraw-gemcutter_objective_2_64_NoBasis_0', 'graphdraw-gemcutter_matrix_2_4_New_0', 'graphdraw-gemcutter_matrix_2_4_Farkas_0', 'graphdraw-gemcutter_matrix_2_4_All_0', 'graphdraw-gemcutter_matrix_2_4_NoDisjunction_0', 'graphdraw-gemcutter_matrix_2_4_NoMatrix_0', 'graphdraw-gemcutter_matrix_2_4_NoTerm_0', 'graphdraw-gemcutter_matrix_2_4_NoBasis_0', 'graphdraw-gemcutter_matrix_2_64_New_0', 'graphdraw-gemcutter_matrix_2_64_Farkas_0', 'graphdraw-gemcutter_matrix_2_64_All_0', 'graphdraw-gemcutter_matrix_2_64_NoDisjunction_0', 'graphdraw-gemcutter_matrix_2_64_NoMatrix_0', 'graphdraw-gemcutter_matrix_2_64_NoTerm_0', 'graphdraw-gemcutter_matrix_2_64_NoBasis_0']\n"
     ]
    },
    {
     "data": {
      "text/plain": [
       "0.5288753799392097"
      ]
     },
     "execution_count": 48,
     "metadata": {},
     "output_type": "execute_result"
    }
   ],
   "execution_count": 48
  },
  {
   "cell_type": "code",
   "source": [
    "# get breakdown of errors\n",
    "for code, exps in err.items():\n",
    "    print(f\"{code}: {len(exps) / count_series}\")\n",
    "\n",
    "print(f\"other: {len(other) / count_series}\")\n",
    "\n",
    "print(f\"warning: {len(warning) / count_series}\")\n",
    "\n",
    "print(f\"no errors/warnings: {len(empty) / count_series}\")\n",
    "\n",
    "print(f\"no go: {len(no_go) / count_series}\")"
   ],
   "metadata": {
    "collapsed": false,
    "ExecuteTime": {
     "end_time": "2025-04-28T15:58:27.272441Z",
     "start_time": "2025-04-28T15:58:27.270059Z"
    }
   },
   "id": "b10b8b1c2fe3ea2c",
   "outputs": [
    {
     "name": "stdout",
     "output_type": "stream",
     "text": [
      "walltime: 0.0\n",
      "bad_alloc: 0.0077887537993920975\n",
      "out of memory: 0.0\n",
      "takeoffcuts: 0.0\n",
      "solver is dual infeasible: 0.0\n",
      "solver must be optimal: 0.0\n",
      "segmentation fault: 0.0\n",
      "no vpcs were made from a new disjunction: 0.09840425531914894\n",
      "must have primalbound >= root lp objective: 0.0\n",
      "objective at parent nodes: 0.0\n",
      "failed to optimize mip: 0.0\n",
      "disjunction does not represent a full binary tree: 0.0\n",
      "solver not proven optimal for nodes: 0.0\n",
      "unable to open: 0.0\n",
      "license: 0.0\n",
      "dot product with obj differs from solver: 0.0005699088145896656\n",
      "gurobi: error during callback: addCut: 0.0\n",
      "cglvpc::setupconstraints: objective at disjunctive term: 0.0\n",
      "unable to read file: 0.0\n",
      "stats.id == stats_vec: 0.0\n",
      "size of our disjunction is not what we expected it to be: 0.0\n",
      "dimension must stay fixed: 0.5288753799392097\n",
      "vpcgenerator must be: 0.14532674772036475\n",
      "other: 0.01006838905775076\n",
      "warning: 0.0077887537993920975\n",
      "no errors/warnings: 0.20117781155015196\n",
      "no go: 0.0\n"
     ]
    }
   ],
   "execution_count": 49
  },
  {
   "cell_type": "markdown",
   "source": [
    "## Read in data"
   ],
   "metadata": {
    "collapsed": false,
    "ExecuteTime": {
     "end_time": "2024-04-02T21:45:22.220691Z",
     "start_time": "2024-04-02T21:45:22.181888Z"
    }
   },
   "id": "1b96d76b8971a661"
  },
  {
   "cell_type": "code",
   "source": [
    "# map generator names to the corresponding data frames\n",
    "df_map = {\n",
    "    \"None\": pd.DataFrame(),\n",
    "    \"Farkas\": pd.DataFrame(),\n",
    "    \"New\": pd.DataFrame(),\n",
    "    \"Old\": pd.DataFrame()\n",
    "}\n",
    "gap_map = {\n",
    "    \"None\": pd.DataFrame(),\n",
    "    \"Farkas\": pd.DataFrame(),\n",
    "    \"New\": pd.DataFrame(),\n",
    "    \"Old\": pd.DataFrame()\n",
    "}\n",
    "regex = re.compile(r'([a-zA-Z0-9-]+(?:_o)?)_([a-z]+)_([0-9-]+)_([0-9]+)_([a-zA-Z ]+)')\n",
    "solution_pattern = r\"_(\\d+)\\.pb\"\n",
    "\n",
    "# declaring types as needed\n",
    "column_types = {\n",
    "    \"lpBound\": float,\n",
    "    \"lpBoundPostVpc\": float,\n",
    "    \"disjunctiveDualBound\": float,\n",
    "    \"primalBound\": float,\n",
    "    \"rootDualBound\": float,\n",
    "    \"dualBound\": float\n",
    "}\n",
    "\n",
    "skipped_instances = set()\n",
    "primal_bounds = {}\n",
    "same_solution = {}\n",
    "\n",
    "# iterate over all files in the folder\n",
    "for file_name in os.listdir(results_fldr):\n",
    "    \n",
    "    file_pth = os.path.join(results_fldr, file_name)\n",
    "    \n",
    "    # if the file is not a nonempty csv, skip it\n",
    "    if not file_name.endswith(\".csv\") or os.path.getsize(file_pth) == 0:\n",
    "        continue\n",
    "    \n",
    "    # get the experimental set up\n",
    "    match = regex.search(file_name)\n",
    "    instance_name = names.get(file_name[:-4])\n",
    "    if not instance_name:\n",
    "        skipped_instances.add(file_name[:-4].split(\"_\")[0])\n",
    "        os.remove(file_pth)\n",
    "        continue\n",
    "    instance_name = match.group(1)\n",
    "    perturbation = match.group(2)\n",
    "    expo = int(match.group(3))\n",
    "    degree = 2**int(expo)\n",
    "    terms = int(match.group(4))\n",
    "    generator = match.group(5)\n",
    "    base_name = f\"{instance_name}_0\"\n",
    "    \n",
    "    # get the primal bounds for this experiment\n",
    "    cur_instance_test_set_fldr = os.path.join(test_set_fldr, instance_name, f\"{perturbation}_{expo}\")\n",
    "    for test_set_file in os.listdir(cur_instance_test_set_fldr):\n",
    "        if test_set_file.endswith(\".pb\"):\n",
    "            with open(os.path.join(cur_instance_test_set_fldr, test_set_file), \"r\") as f:\n",
    "                primal_bounds[perturbation, expo, \".\".join(test_set_file.split(\".\")[:-1])] = float(f.read())\n",
    "                \n",
    "    # see if solution changed\n",
    "    for test_set_file in os.listdir(cur_instance_test_set_fldr):\n",
    "        if test_set_file.endswith(\".pb\"):\n",
    "            perturbation_name = \".\".join(test_set_file.split(\".\")[:-1])\n",
    "            same_solution[perturbation, expo, perturbation_name] = \\\n",
    "                primal_bounds[perturbation, expo, base_name] == primal_bounds[perturbation, expo, perturbation_name]\n",
    "            \n",
    "    # read the file\n",
    "    df = pd.read_csv(file_pth, keep_default_na=False, dtype=column_types, index_col=0)\n",
    "    \n",
    "    for instance_idx in df.index:\n",
    "        \n",
    "        # fill in primal bounds if missing\n",
    "        # df.loc[instance_idx, \"primalBound\"] = min(primal_bounds.get(stem_map.get(instance_idx), 1e100), df.loc[instance_idx, \"primalBound\"])\n",
    "        df.loc[instance_idx, \"primalBound\"] = min(\n",
    "            primal_bounds[perturbation, expo, f\"{instance_name}_{instance_idx}\"], df.loc[instance_idx, \"primalBound\"]\n",
    "        )\n",
    "        \n",
    "        # same with root dual bound\n",
    "        df.loc[instance_idx, \"rootDualBound\"] = df.loc[instance_idx, \"rootDualBound\"] if df.loc[instance_idx, \"rootDualBound\"] < 1e100 else df.loc[instance_idx, \"lpBoundPostVpc\"] \n",
    "    \n",
    "    # get rid of the index so the rest of the notebook works\n",
    "    df.reset_index(inplace=True)\n",
    "    \n",
    "    # add some identifying columns\n",
    "    df[\"instance\"] = instance_name\n",
    "    df[\"perturbation\"] = perturbation\n",
    "    df[\"degree\"] = degree\n",
    "    df[\"terms\"] = terms\n",
    "    df[\"rows\"] = rows[instance_name]\n",
    "    df[\"cols\"] = cols[instance_name]\n",
    "    df[\"density\"] = density[instance_name]\n",
    "    \n",
    "    # append to the appropriate data frame\n",
    "    df_map[generator] = pd.concat([df_map[generator], df])\n",
    "    \n",
    "    # track recorded vs expected experiments\n",
    "    number_instances[file_name[:-4]][\"recorded\"] = len(df)"
   ],
   "metadata": {
    "collapsed": false,
    "ExecuteTime": {
     "end_time": "2025-01-23T17:43:32.767043Z",
     "start_time": "2025-01-23T17:43:32.008751Z"
    }
   },
   "id": "cd620191b5a5849a",
   "outputs": [],
   "execution_count": 49
  },
  {
   "cell_type": "code",
   "source": [
    "# convert number_instances to dataframe\n",
    "frame = pd.DataFrame(number_instances).T\n",
    "frame.head()"
   ],
   "metadata": {
    "collapsed": false,
    "ExecuteTime": {
     "end_time": "2025-01-23T17:43:33.194652Z",
     "start_time": "2025-01-23T17:43:33.186077Z"
    }
   },
   "id": "e87e9581360c0bd9",
   "outputs": [
    {
     "data": {
      "text/plain": [
       "                              expected recorded generator  error\n",
       "f2gap201600_rhs_-1_4_None_0        201      201      None  empty\n",
       "f2gap201600_rhs_-1_4_New_0         201      185       New  empty\n",
       "f2gap201600_rhs_-1_4_Old_0         201      201       Old  empty\n",
       "f2gap201600_rhs_-1_4_Farkas_0      201      201    Farkas  empty\n",
       "f2gap201600_rhs_-1_16_None_0       201      201      None  empty"
      ],
      "text/html": [
       "<div>\n",
       "<style scoped>\n",
       "    .dataframe tbody tr th:only-of-type {\n",
       "        vertical-align: middle;\n",
       "    }\n",
       "\n",
       "    .dataframe tbody tr th {\n",
       "        vertical-align: top;\n",
       "    }\n",
       "\n",
       "    .dataframe thead th {\n",
       "        text-align: right;\n",
       "    }\n",
       "</style>\n",
       "<table border=\"1\" class=\"dataframe\">\n",
       "  <thead>\n",
       "    <tr style=\"text-align: right;\">\n",
       "      <th></th>\n",
       "      <th>expected</th>\n",
       "      <th>recorded</th>\n",
       "      <th>generator</th>\n",
       "      <th>error</th>\n",
       "    </tr>\n",
       "  </thead>\n",
       "  <tbody>\n",
       "    <tr>\n",
       "      <th>f2gap201600_rhs_-1_4_None_0</th>\n",
       "      <td>201</td>\n",
       "      <td>201</td>\n",
       "      <td>None</td>\n",
       "      <td>empty</td>\n",
       "    </tr>\n",
       "    <tr>\n",
       "      <th>f2gap201600_rhs_-1_4_New_0</th>\n",
       "      <td>201</td>\n",
       "      <td>185</td>\n",
       "      <td>New</td>\n",
       "      <td>empty</td>\n",
       "    </tr>\n",
       "    <tr>\n",
       "      <th>f2gap201600_rhs_-1_4_Old_0</th>\n",
       "      <td>201</td>\n",
       "      <td>201</td>\n",
       "      <td>Old</td>\n",
       "      <td>empty</td>\n",
       "    </tr>\n",
       "    <tr>\n",
       "      <th>f2gap201600_rhs_-1_4_Farkas_0</th>\n",
       "      <td>201</td>\n",
       "      <td>201</td>\n",
       "      <td>Farkas</td>\n",
       "      <td>empty</td>\n",
       "    </tr>\n",
       "    <tr>\n",
       "      <th>f2gap201600_rhs_-1_16_None_0</th>\n",
       "      <td>201</td>\n",
       "      <td>201</td>\n",
       "      <td>None</td>\n",
       "      <td>empty</td>\n",
       "    </tr>\n",
       "  </tbody>\n",
       "</table>\n",
       "</div>"
      ]
     },
     "execution_count": 50,
     "metadata": {},
     "output_type": "execute_result"
    }
   ],
   "execution_count": 50
  },
  {
   "cell_type": "code",
   "source": [
    "# redo the runs that have incomplete data that we're not sure should be that way\n",
    "redos = frame.loc[(frame[\"expected\"] > frame[\"recorded\"]) & (frame[\"error\"] != \"no vpcs were made from a new disjunction\")].index.tolist()\n",
    "redos = pd.DataFrame({\"experiment\": redos})\n",
    "redos.to_csv(\"redos.csv\", index=False)"
   ],
   "metadata": {
    "collapsed": false,
    "ExecuteTime": {
     "end_time": "2025-01-23T17:43:34.090829Z",
     "start_time": "2025-01-23T17:43:34.084110Z"
    }
   },
   "id": "98cfdc27dd6a1772",
   "outputs": [],
   "execution_count": 51
  },
  {
   "cell_type": "code",
   "source": [
    "if \"miplib\" in test_set:\n",
    "    # group frame by generator and sum remaining columns\n",
    "    gb = frame.groupby([\"generator\", \"error\"]).sum().reset_index()\n",
    "    gb[\"missing\"] = gb[\"expected\"] - gb[\"recorded\"]\n",
    "    total = gb.groupby(\"generator\")[[\"expected\", \"missing\"]].sum().reset_index()\n",
    "    gb = pd.merge(gb, total, on=\"generator\", suffixes=(\"\", \" total\"))\n",
    "    gb[\"ratio missing (by generator)\"] = gb[\"missing\"] / gb[\"missing total\"]\n",
    "    gb[\"ratio missing (by generator)\"] = gb[\"ratio missing (by generator)\"].apply(lambda x: round(x, 4))\n",
    "    gb = gb.loc[:, ~gb.columns.str.contains(\"total\")]  # get rid of the total columns\n",
    "    gb.set_index([\"generator\", \"error\"], inplace=True)\n",
    "    gb.to_csv(os.path.join(out_fldr, \"missing_table.csv\"), index=False, mode=\"w\")\n",
    "else:\n",
    "    gb = None\n",
    "gb"
   ],
   "metadata": {
    "collapsed": false,
    "ExecuteTime": {
     "end_time": "2025-01-23T17:43:34.698878Z",
     "start_time": "2025-01-23T17:43:34.695903Z"
    }
   },
   "id": "3abe705ab17fdd17",
   "outputs": [],
   "execution_count": 52
  },
  {
   "cell_type": "code",
   "source": [
    "for gen in [\"None\", \"New\", \"Old\", \"Farkas\"]:\n",
    "    masks = {\n",
    "        0: -1e20 > df_map[gen][\"lpBound\"],\n",
    "        1: df_map[gen][\"lpBound\"] - 1e-3 > df_map[gen][\"lpBoundPostVpc\"],\n",
    "        2: (df_map[gen][\"lpBoundPostVpc\"] - 1e-3 > df_map[gen][\"disjunctiveDualBound\"]) & (gen != \"Farkas\"),\n",
    "        3: df_map[gen][\"rootDualBound\"] - 1e-3 > df_map[gen][\"dualBound\"],\n",
    "        4: (df_map[gen][\"dualBound\"] - 1e-3 > df_map[gen][\"primalBound\"]) & (df_map[gen][\"dualBound\"] / df_map[gen][\"primalBound\"] > 1 + 1e-3),\n",
    "        5: df_map[gen][\"primalBound\"] > 1e20,\n",
    "        6: 0 > df_map[gen][\"vpcGenerationTime\"],\n",
    "        7: df_map[gen][\"vpcGenerationTime\"] - 1e-3 > df_map[gen][\"rootDualBoundTime\"],\n",
    "        8: df_map[gen][\"rootDualBoundTime\"] - 1e-3 > df_map[gen][\"terminationTime\"],\n",
    "        9: df_map[gen][\"vpcGenerationTime\"] - 1e-3 > df_map[gen][\"bestSolutionTime\"],\n",
    "        10: df_map[gen][\"bestSolutionTime\"] - 1e-3 > df_map[gen][\"terminationTime\"]\n",
    "    }\n",
    "    for i, mask in masks.items():\n",
    "        print(f\"{gen} {i}: {mask.sum() / len(df_map[gen])}\")"
   ],
   "metadata": {
    "collapsed": false,
    "ExecuteTime": {
     "end_time": "2025-01-23T17:43:36.798873Z",
     "start_time": "2025-01-23T17:43:36.787996Z"
    }
   },
   "id": "1707d3125161409b",
   "outputs": [
    {
     "name": "stdout",
     "output_type": "stream",
     "text": [
      "None 0: 0.0\n",
      "None 1: 0.0\n",
      "None 2: 0.0\n",
      "None 3: 0.0\n",
      "None 4: 0.0\n",
      "None 5: 0.0\n",
      "None 6: 0.0\n",
      "None 7: 0.0\n",
      "None 8: 0.0\n",
      "None 9: 0.0\n",
      "None 10: 0.0\n",
      "New 0: 0.0\n",
      "New 1: 0.0\n",
      "New 2: 0.0\n",
      "New 3: 0.0\n",
      "New 4: 0.0\n",
      "New 5: 0.0\n",
      "New 6: 0.0\n",
      "New 7: 0.0\n",
      "New 8: 0.0\n",
      "New 9: 0.0\n",
      "New 10: 0.0\n",
      "Old 0: 0.0\n",
      "Old 1: 0.0\n",
      "Old 2: 0.0\n",
      "Old 3: 0.0\n",
      "Old 4: 0.0\n",
      "Old 5: 0.0\n",
      "Old 6: 0.0\n",
      "Old 7: 0.0\n",
      "Old 8: 0.0\n",
      "Old 9: 0.0\n",
      "Old 10: 0.0\n",
      "Farkas 0: 0.0\n",
      "Farkas 1: 0.0\n",
      "Farkas 2: 0.0\n",
      "Farkas 3: 0.0\n",
      "Farkas 4: 0.0\n",
      "Farkas 5: 0.0\n",
      "Farkas 6: 0.0\n",
      "Farkas 7: 0.0\n",
      "Farkas 8: 0.0\n",
      "Farkas 9: 0.0\n",
      "Farkas 10: 0.0\n"
     ]
    }
   ],
   "execution_count": 53
  },
  {
   "cell_type": "code",
   "source": [
    "# it shouldn't be possible that dual bound > primal bound. this only happens when we use the saved primal bound, which was used to set the dual bound\n",
    "df_map[\"Farkas\"][masks[0]]"
   ],
   "metadata": {
    "collapsed": false,
    "ExecuteTime": {
     "end_time": "2025-01-23T17:43:38.401124Z",
     "start_time": "2025-01-23T17:43:38.394652Z"
    }
   },
   "id": "4103872f43233ad8",
   "outputs": [
    {
     "data": {
      "text/plain": [
       "Empty DataFrame\n",
       "Columns: [instanceIndex, seedIndex, vpcGenerator, terms, lpBound, disjunctiveDualBound, lpBoundPostVpc, rootDualBound, dualBound, primalBound, vpcGenerationTime, rootDualBoundTime, bestSolutionTime, terminationTime, nodes, iterations, maxTime, actualTerms, numCuts, cutLimit, mipSolver, providePrimalBound, infeasibleTerms, feasibleToInfeasibleTerms, infeasibleToFeasibleTerms, instance, perturbation, degree, rows, cols, density]\n",
       "Index: []\n",
       "\n",
       "[0 rows x 31 columns]"
      ],
      "text/html": [
       "<div>\n",
       "<style scoped>\n",
       "    .dataframe tbody tr th:only-of-type {\n",
       "        vertical-align: middle;\n",
       "    }\n",
       "\n",
       "    .dataframe tbody tr th {\n",
       "        vertical-align: top;\n",
       "    }\n",
       "\n",
       "    .dataframe thead th {\n",
       "        text-align: right;\n",
       "    }\n",
       "</style>\n",
       "<table border=\"1\" class=\"dataframe\">\n",
       "  <thead>\n",
       "    <tr style=\"text-align: right;\">\n",
       "      <th></th>\n",
       "      <th>instanceIndex</th>\n",
       "      <th>seedIndex</th>\n",
       "      <th>vpcGenerator</th>\n",
       "      <th>terms</th>\n",
       "      <th>lpBound</th>\n",
       "      <th>disjunctiveDualBound</th>\n",
       "      <th>lpBoundPostVpc</th>\n",
       "      <th>rootDualBound</th>\n",
       "      <th>dualBound</th>\n",
       "      <th>primalBound</th>\n",
       "      <th>...</th>\n",
       "      <th>providePrimalBound</th>\n",
       "      <th>infeasibleTerms</th>\n",
       "      <th>feasibleToInfeasibleTerms</th>\n",
       "      <th>infeasibleToFeasibleTerms</th>\n",
       "      <th>instance</th>\n",
       "      <th>perturbation</th>\n",
       "      <th>degree</th>\n",
       "      <th>rows</th>\n",
       "      <th>cols</th>\n",
       "      <th>density</th>\n",
       "    </tr>\n",
       "  </thead>\n",
       "  <tbody>\n",
       "  </tbody>\n",
       "</table>\n",
       "<p>0 rows × 31 columns</p>\n",
       "</div>"
      ]
     },
     "execution_count": 54,
     "metadata": {},
     "output_type": "execute_result"
    }
   ],
   "execution_count": 54
  },
  {
   "cell_type": "code",
   "source": [
    "for gen in df_map:\n",
    "    mask = (-1e20 > df_map[gen][\"lpBound\"]) | \\\n",
    "        (df_map[gen][\"lpBound\"] - 1e-3 > df_map[gen][\"lpBoundPostVpc\"]) | \\\n",
    "        ((df_map[gen][\"lpBoundPostVpc\"] - 1e-3 > df_map[gen][\"disjunctiveDualBound\"]) & (gen != \"Farkas\")) | \\\n",
    "        (df_map[gen][\"rootDualBound\"] - 1e-3 > df_map[gen][\"dualBound\"]) | \\\n",
    "        ((df_map[gen][\"dualBound\"] - 1e-3 > df_map[gen][\"primalBound\"]) & (df_map[gen][\"dualBound\"] / df_map[gen][\"primalBound\"] > 1 + 1e-3)) | \\\n",
    "        (df_map[gen][\"primalBound\"] > 1e20) | \\\n",
    "        (0 > df_map[gen][\"vpcGenerationTime\"]) | \\\n",
    "        (df_map[gen][\"vpcGenerationTime\"] - 1e-3 > df_map[gen][\"rootDualBoundTime\"]) | \\\n",
    "        (df_map[gen][\"rootDualBoundTime\"] - 1e-3 > df_map[gen][\"terminationTime\"]) | \\\n",
    "        (df_map[gen][\"vpcGenerationTime\"] - 1e-3 > df_map[gen][\"bestSolutionTime\"]) | \\\n",
    "        (df_map[gen][\"bestSolutionTime\"] - 1e-3 > df_map[gen][\"terminationTime\"])\n",
    "    print(f\"{gen}: {mask.sum() / len(df_map[gen])}\")\n",
    "    df_map[gen] = df_map[gen][~mask]"
   ],
   "metadata": {
    "collapsed": false,
    "ExecuteTime": {
     "end_time": "2025-01-23T17:43:39.121923Z",
     "start_time": "2025-01-23T17:43:39.110701Z"
    }
   },
   "id": "a9109f5e39680bda",
   "outputs": [
    {
     "name": "stdout",
     "output_type": "stream",
     "text": [
      "None: 0.0\n",
      "Farkas: 0.0\n",
      "New: 0.0\n",
      "Old: 0.0\n"
     ]
    }
   ],
   "execution_count": 55
  },
  {
   "cell_type": "code",
   "source": [
    "# merge the 4 different data frames into one\n",
    "join_cols = [\"instance\", \"perturbation\", \"degree\", \"terms\", \"instanceIndex\", \"seedIndex\"]\n",
    "df = df_map[\"None\"].merge(df_map[\"New\"], on=join_cols,\n",
    "                                suffixes=(\" None\", None))\n",
    "df = df.merge(df_map[\"Old\"], on=join_cols,\n",
    "                          suffixes=(\" New\", None))\n",
    "df = df.merge(df_map[\"Farkas\"], on=join_cols,\n",
    "                          suffixes=(\" Old\", \" Farkas\"))\n",
    "df.head()"
   ],
   "metadata": {
    "collapsed": false,
    "ExecuteTime": {
     "end_time": "2025-01-23T17:43:40.388024Z",
     "start_time": "2025-01-23T17:43:40.367787Z"
    }
   },
   "id": "66dfd7e3d44a3585",
   "outputs": [
    {
     "data": {
      "text/plain": [
       "   instanceIndex  seedIndex vpcGenerator None  terms  lpBound None  \\\n",
       "0              0          0              None     64  76429.862296   \n",
       "1              1          0              None     64  76449.080834   \n",
       "2             10          0              None     64  76411.913790   \n",
       "3            100          0              None     64  76434.778273   \n",
       "4            101          0              None     64  76416.862296   \n",
       "\n",
       "   disjunctiveDualBound None  lpBoundPostVpc None  rootDualBound None  \\\n",
       "0               76429.862296         76429.862296        76450.507295   \n",
       "1               76449.080834         76449.080834        76469.275901   \n",
       "2               76411.913790         76411.913790        76433.983069   \n",
       "3               76434.778273         76434.778273        76456.656755   \n",
       "4               76416.862296         76416.862296        76437.547100   \n",
       "\n",
       "   dualBound None  primalBound None  ...  numCuts Farkas  cutLimit Farkas  \\\n",
       "0         76452.0           76453.0  ...              16               16   \n",
       "1         76471.0           76473.0  ...              16                0   \n",
       "2         76435.0           76435.0  ...              16                0   \n",
       "3         76458.0           76458.0  ...              16                0   \n",
       "4         76439.0           76440.0  ...              16                0   \n",
       "\n",
       "   mipSolver Farkas  providePrimalBound Farkas  infeasibleTerms Farkas  \\\n",
       "0            GUROBI                          1                       0   \n",
       "1            GUROBI                          1                       0   \n",
       "2            GUROBI                          1                       0   \n",
       "3            GUROBI                          1                       0   \n",
       "4            GUROBI                          1                       0   \n",
       "\n",
       "   feasibleToInfeasibleTerms Farkas  infeasibleToFeasibleTerms Farkas  \\\n",
       "0                                 0                                 0   \n",
       "1                                 0                                 0   \n",
       "2                                 0                                 0   \n",
       "3                                 0                                 0   \n",
       "4                                 0                                 0   \n",
       "\n",
       "   rows Farkas  cols Farkas  density Farkas  \n",
       "0           20         1600             0.1  \n",
       "1           20         1600             0.1  \n",
       "2           20         1600             0.1  \n",
       "3           20         1600             0.1  \n",
       "4           20         1600             0.1  \n",
       "\n",
       "[5 rows x 106 columns]"
      ],
      "text/html": [
       "<div>\n",
       "<style scoped>\n",
       "    .dataframe tbody tr th:only-of-type {\n",
       "        vertical-align: middle;\n",
       "    }\n",
       "\n",
       "    .dataframe tbody tr th {\n",
       "        vertical-align: top;\n",
       "    }\n",
       "\n",
       "    .dataframe thead th {\n",
       "        text-align: right;\n",
       "    }\n",
       "</style>\n",
       "<table border=\"1\" class=\"dataframe\">\n",
       "  <thead>\n",
       "    <tr style=\"text-align: right;\">\n",
       "      <th></th>\n",
       "      <th>instanceIndex</th>\n",
       "      <th>seedIndex</th>\n",
       "      <th>vpcGenerator None</th>\n",
       "      <th>terms</th>\n",
       "      <th>lpBound None</th>\n",
       "      <th>disjunctiveDualBound None</th>\n",
       "      <th>lpBoundPostVpc None</th>\n",
       "      <th>rootDualBound None</th>\n",
       "      <th>dualBound None</th>\n",
       "      <th>primalBound None</th>\n",
       "      <th>...</th>\n",
       "      <th>numCuts Farkas</th>\n",
       "      <th>cutLimit Farkas</th>\n",
       "      <th>mipSolver Farkas</th>\n",
       "      <th>providePrimalBound Farkas</th>\n",
       "      <th>infeasibleTerms Farkas</th>\n",
       "      <th>feasibleToInfeasibleTerms Farkas</th>\n",
       "      <th>infeasibleToFeasibleTerms Farkas</th>\n",
       "      <th>rows Farkas</th>\n",
       "      <th>cols Farkas</th>\n",
       "      <th>density Farkas</th>\n",
       "    </tr>\n",
       "  </thead>\n",
       "  <tbody>\n",
       "    <tr>\n",
       "      <th>0</th>\n",
       "      <td>0</td>\n",
       "      <td>0</td>\n",
       "      <td>None</td>\n",
       "      <td>64</td>\n",
       "      <td>76429.862296</td>\n",
       "      <td>76429.862296</td>\n",
       "      <td>76429.862296</td>\n",
       "      <td>76450.507295</td>\n",
       "      <td>76452.0</td>\n",
       "      <td>76453.0</td>\n",
       "      <td>...</td>\n",
       "      <td>16</td>\n",
       "      <td>16</td>\n",
       "      <td>GUROBI</td>\n",
       "      <td>1</td>\n",
       "      <td>0</td>\n",
       "      <td>0</td>\n",
       "      <td>0</td>\n",
       "      <td>20</td>\n",
       "      <td>1600</td>\n",
       "      <td>0.1</td>\n",
       "    </tr>\n",
       "    <tr>\n",
       "      <th>1</th>\n",
       "      <td>1</td>\n",
       "      <td>0</td>\n",
       "      <td>None</td>\n",
       "      <td>64</td>\n",
       "      <td>76449.080834</td>\n",
       "      <td>76449.080834</td>\n",
       "      <td>76449.080834</td>\n",
       "      <td>76469.275901</td>\n",
       "      <td>76471.0</td>\n",
       "      <td>76473.0</td>\n",
       "      <td>...</td>\n",
       "      <td>16</td>\n",
       "      <td>0</td>\n",
       "      <td>GUROBI</td>\n",
       "      <td>1</td>\n",
       "      <td>0</td>\n",
       "      <td>0</td>\n",
       "      <td>0</td>\n",
       "      <td>20</td>\n",
       "      <td>1600</td>\n",
       "      <td>0.1</td>\n",
       "    </tr>\n",
       "    <tr>\n",
       "      <th>2</th>\n",
       "      <td>10</td>\n",
       "      <td>0</td>\n",
       "      <td>None</td>\n",
       "      <td>64</td>\n",
       "      <td>76411.913790</td>\n",
       "      <td>76411.913790</td>\n",
       "      <td>76411.913790</td>\n",
       "      <td>76433.983069</td>\n",
       "      <td>76435.0</td>\n",
       "      <td>76435.0</td>\n",
       "      <td>...</td>\n",
       "      <td>16</td>\n",
       "      <td>0</td>\n",
       "      <td>GUROBI</td>\n",
       "      <td>1</td>\n",
       "      <td>0</td>\n",
       "      <td>0</td>\n",
       "      <td>0</td>\n",
       "      <td>20</td>\n",
       "      <td>1600</td>\n",
       "      <td>0.1</td>\n",
       "    </tr>\n",
       "    <tr>\n",
       "      <th>3</th>\n",
       "      <td>100</td>\n",
       "      <td>0</td>\n",
       "      <td>None</td>\n",
       "      <td>64</td>\n",
       "      <td>76434.778273</td>\n",
       "      <td>76434.778273</td>\n",
       "      <td>76434.778273</td>\n",
       "      <td>76456.656755</td>\n",
       "      <td>76458.0</td>\n",
       "      <td>76458.0</td>\n",
       "      <td>...</td>\n",
       "      <td>16</td>\n",
       "      <td>0</td>\n",
       "      <td>GUROBI</td>\n",
       "      <td>1</td>\n",
       "      <td>0</td>\n",
       "      <td>0</td>\n",
       "      <td>0</td>\n",
       "      <td>20</td>\n",
       "      <td>1600</td>\n",
       "      <td>0.1</td>\n",
       "    </tr>\n",
       "    <tr>\n",
       "      <th>4</th>\n",
       "      <td>101</td>\n",
       "      <td>0</td>\n",
       "      <td>None</td>\n",
       "      <td>64</td>\n",
       "      <td>76416.862296</td>\n",
       "      <td>76416.862296</td>\n",
       "      <td>76416.862296</td>\n",
       "      <td>76437.547100</td>\n",
       "      <td>76439.0</td>\n",
       "      <td>76440.0</td>\n",
       "      <td>...</td>\n",
       "      <td>16</td>\n",
       "      <td>0</td>\n",
       "      <td>GUROBI</td>\n",
       "      <td>1</td>\n",
       "      <td>0</td>\n",
       "      <td>0</td>\n",
       "      <td>0</td>\n",
       "      <td>20</td>\n",
       "      <td>1600</td>\n",
       "      <td>0.1</td>\n",
       "    </tr>\n",
       "  </tbody>\n",
       "</table>\n",
       "<p>5 rows × 106 columns</p>\n",
       "</div>"
      ]
     },
     "execution_count": 56,
     "metadata": {},
     "output_type": "execute_result"
    }
   ],
   "execution_count": 56
  },
  {
   "cell_type": "code",
   "source": [
    "# get proportion of tests run to completion\n",
    "4 * len(df) / count_instances"
   ],
   "metadata": {
    "collapsed": false,
    "ExecuteTime": {
     "end_time": "2025-01-23T17:43:41.250387Z",
     "start_time": "2025-01-23T17:43:41.246883Z"
    }
   },
   "id": "3eb13128df183faf",
   "outputs": [
    {
     "data": {
      "text/plain": [
       "0.5212824765063571"
      ]
     },
     "execution_count": 57,
     "metadata": {},
     "output_type": "execute_result"
    }
   ],
   "execution_count": 57
  },
  {
   "cell_type": "code",
   "source": [
    "def gap_closed(df, col):\n",
    "    gap = abs(df[col] - df[\"lpBound None\"]) / abs(df['primalBound None'] - df[\"lpBound None\"])\n",
    "    gap[(gap > 1) | (gap == np.nan)] = 1  # get corner cases\n",
    "    return gap\n",
    "\n",
    "# Function to map values based on a dictionary\n",
    "def check_same_solution(row):\n",
    "    # Create a tuple of the key based on the key_columns\n",
    "    return same_solution[row[\"perturbation\"], int(math.log2(row[\"degree\"])), f'{row[\"instance\"]}_{row[\"instanceIndex\"]}']"
   ],
   "metadata": {
    "collapsed": false,
    "ExecuteTime": {
     "end_time": "2025-01-23T17:43:53.904172Z",
     "start_time": "2025-01-23T17:43:53.886449Z"
    }
   },
   "id": "184a7a72592a8126",
   "outputs": [],
   "execution_count": 58
  },
  {
   "cell_type": "code",
   "source": [
    "# find the optimality gap closed by each generator\n",
    "df[\"Disjunction (New)\"] = gap_closed(df, \"disjunctiveDualBound New\")\n",
    "df[\"Disjunction (Old)\"] = gap_closed(df, \"disjunctiveDualBound Old\")\n",
    "df[\"VPCs (New)\"] = gap_closed(df, \"lpBoundPostVpc New\")\n",
    "df[\"VPCs (Old)\"] = gap_closed(df, \"lpBoundPostVpc Old\")\n",
    "df[\"VPCs (Farkas)\"] = gap_closed(df, \"lpBoundPostVpc Farkas\")\n",
    "df[\"Root Cuts (None)\"] = gap_closed(df, \"rootDualBound None\")\n",
    "df[\"Root Cuts (New)\"] = gap_closed(df, \"rootDualBound New\")\n",
    "df[\"Root Cuts (Old)\"] = gap_closed(df, \"rootDualBound Old\")\n",
    "df[\"Root Cuts (Farkas)\"] = gap_closed(df, \"rootDualBound Farkas\")\n",
    "df[\"Root Optimality Gap Improvement\"] = df[\"Root Cuts (Farkas)\"] - df[\"Root Cuts (None)\"] \n",
    "# df = df.dropna()"
   ],
   "metadata": {
    "collapsed": false,
    "ExecuteTime": {
     "end_time": "2025-01-23T17:43:54.826364Z",
     "start_time": "2025-01-23T17:43:54.815414Z"
    }
   },
   "id": "2e64c92d6bbd14b9",
   "outputs": [],
   "execution_count": 59
  },
  {
   "cell_type": "code",
   "source": [
    "# find times without vpc generation\n",
    "df[\"terminationTimeSansVpc None\"] = df[\"terminationTime None\"]\n",
    "df[\"terminationTimeSansVpc New\"] = df[\"terminationTime New\"] - df[\"vpcGenerationTime New\"]\n",
    "df[\"terminationTimeSansVpc Old\"] = df[\"terminationTime Old\"] - df[\"vpcGenerationTime Old\"]\n",
    "df[\"terminationTimeSansVpc Farkas\"] = df[\"terminationTime Farkas\"] - df[\"vpcGenerationTime Farkas\"]\n",
    "df[\"rootDualBoundTimeSansVpc None\"] = df[\"rootDualBoundTime None\"]\n",
    "df[\"rootDualBoundTimeSansVpc New\"] = df[\"rootDualBoundTime New\"] - df[\"vpcGenerationTime New\"]\n",
    "df[\"rootDualBoundTimeSansVpc Old\"] = df[\"rootDualBoundTime Old\"] - df[\"vpcGenerationTime Old\"]\n",
    "df[\"rootDualBoundTimeSansVpc Farkas\"] = df[\"rootDualBoundTime Farkas\"] - df[\"vpcGenerationTime Farkas\"]\n",
    "df[\"postRootTime None\"] = df[\"terminationTime None\"] - df[\"rootDualBoundTime None\"]\n",
    "df[\"postRootTime New\"] = df[\"terminationTime New\"] - df[\"rootDualBoundTime New\"]\n",
    "df[\"postRootTime Old\"] = df[\"terminationTime Old\"] - df[\"rootDualBoundTime Old\"]\n",
    "df[\"postRootTime Farkas\"] = df[\"terminationTime Farkas\"] - df[\"rootDualBoundTime Farkas\"]\n",
    "df[\"terminationTimeImprovement\"] = (df[\"terminationTime None\"] - df[\"terminationTime Farkas\"]) / df[\"terminationTime None\"]\n",
    "df[\"terminationTimeSansVpcImprovement\"] = (df[\"terminationTimeSansVpc None\"] - df[\"terminationTimeSansVpc Farkas\"]) / df[\"terminationTimeSansVpc None\"]\n",
    "df[\"nodesImprovement\"] = (df[\"nodes None\"] - df[\"nodes Farkas\"]) / df[\"nodes None\"] \n",
    "df[\"iterationsImprovement\"] = (df[\"iterations None\"] - df[\"iterations Farkas\"]) / df[\"iterations None\"] \n",
    "df[\"terminationTimeRatio\"] = df[\"terminationTime Farkas\"] / df[\"terminationTime None\"]\n",
    "df[\"terminationTimeSansVpcRatio\"] = df[\"terminationTimeSansVpc Farkas\"] / df[\"terminationTimeSansVpc None\"]\n",
    "df[\"nodesRatio\"] = df[\"nodes Farkas\"] / df[\"nodes None\"] \n",
    "df[\"iterationsRatio\"] = df[\"iterations Farkas\"] / df[\"iterations None\"]\n",
    "df[\"nodesImproves\"] = df[\"nodes None\"] > df[\"nodes Farkas\"]\n",
    "df[\"terminationTimeImproves\"] = df[\"terminationTime None\"] > df[\"terminationTime Farkas\"]\n",
    "df[\"terminationTimeSansVpcImproves\"] = df[\"terminationTimeSansVpc None\"] > df[\"terminationTimeSansVpc Farkas\"]\n",
    "df[\"iterationsImproves\"] = df[\"iterations None\"] > df[\"iterations Farkas\"]\n",
    "df['nodesWinFarkas'] = df['nodes None']*(1 - win_threshold) > df['nodes Farkas']\n",
    "df['terminationTimeWinFarkas'] = df['terminationTime None']*(1 - win_threshold) > df['terminationTime Farkas']\n",
    "df['terminationTimeSansVpcWinFarkas'] = df['terminationTimeSansVpc None']*(1 - win_threshold) > df['terminationTimeSansVpc Farkas']\n",
    "df['iterationsWinFarkas'] = df['iterations None']*(1 - win_threshold) > df['iterations Farkas']\n",
    "df['nodesWinNone'] = df['nodes Farkas']*(1 - win_threshold) > df['nodes None']\n",
    "df['terminationTimeWinNone'] = df['terminationTime Farkas']*(1 - win_threshold) > df['terminationTime None']\n",
    "df['terminationTimeSansVpcWinNone'] = df['terminationTimeSansVpc Farkas']*(1 - win_threshold) > df['terminationTimeSansVpc None']\n",
    "df['iterationsWinNone'] = df['iterations Farkas']*(1 - win_threshold) > df['iterations None']\n",
    "df[\"bracket\"] = [\"short\" if t <= short else \"medium\" if t <= medium else \"long\" for t in df[\"terminationTime None\"]]\n",
    "df[\"sameSolution\"] = df.apply(check_same_solution, axis=1)"
   ],
   "metadata": {
    "collapsed": false,
    "ExecuteTime": {
     "end_time": "2025-01-23T17:43:55.396784Z",
     "start_time": "2025-01-23T17:43:55.376989Z"
    }
   },
   "id": "b4ee3b9fd2d34abf",
   "outputs": [],
   "execution_count": 60
  },
  {
   "cell_type": "code",
   "source": [
    "# get sensitivity stats as ratios\n",
    "for gen_name in [\"New\", \"Old\", \"Farkas\"]:\n",
    "    df[f\"infeasibleTermsRatio {gen_name}\"] = df[f\"infeasibleTerms {gen_name}\"] / df[f\"actualTerms {gen_name}\"]\n",
    "    df[f\"infeasibleToFeasibleTermsRatio {gen_name}\"] = df[f\"infeasibleToFeasibleTerms {gen_name}\"] / df[f\"actualTerms {gen_name}\"]\n",
    "    df[f\"zeroInfeasibleToFeasibleTerms {gen_name}\"] = df[f\"infeasibleToFeasibleTerms {gen_name}\"] == 0\n",
    "    df[f\"feasibleToInfeasibleTermsRatio {gen_name}\"] = df[f\"feasibleToInfeasibleTerms {gen_name}\"] / df[f\"actualTerms {gen_name}\"]"
   ],
   "metadata": {
    "collapsed": false,
    "ExecuteTime": {
     "end_time": "2025-01-23T17:43:56.096122Z",
     "start_time": "2025-01-23T17:43:56.090866Z"
    }
   },
   "id": "d7bf06fb128ade6",
   "outputs": [],
   "execution_count": 61
  },
  {
   "cell_type": "code",
   "source": [
    "def optimality_gap(df, generator=None):\n",
    "    if generator:\n",
    "        return abs(df[f\"primalBound {generator}\"] - df[f\"dualBound {generator}\"]) / \\\n",
    "            abs(df[f\"primalBound {generator}\"])\n",
    "    else:\n",
    "        return abs(df[f\"primalBound\"] - df[f\"dualBound\"]) / abs(df[f\"primalBound\"])"
   ],
   "metadata": {
    "collapsed": false,
    "ExecuteTime": {
     "end_time": "2025-01-23T17:43:56.940535Z",
     "start_time": "2025-01-23T17:43:56.937789Z"
    }
   },
   "id": "5e06417f22452766",
   "outputs": [],
   "execution_count": 62
  },
  {
   "cell_type": "code",
   "source": [
    "# aleks filters\n",
    "# df = df.loc[df[\"terms\"] == df[\"actualTerms Farkas\"]]\n",
    "# df = df.loc[df[\"zeroInfeasibleToFeasibleTerms Farkas\"]]"
   ],
   "metadata": {
    "collapsed": false,
    "ExecuteTime": {
     "end_time": "2025-01-23T17:43:57.634757Z",
     "start_time": "2025-01-23T17:43:57.632670Z"
    }
   },
   "id": "ec90a15cca2ab140",
   "outputs": [],
   "execution_count": 63
  },
  {
   "cell_type": "code",
   "source": "df.head()",
   "metadata": {
    "collapsed": false,
    "ExecuteTime": {
     "end_time": "2025-01-23T17:43:59.228387Z",
     "start_time": "2025-01-23T17:43:59.218359Z"
    }
   },
   "id": "55a07f7fdbf31995",
   "outputs": [
    {
     "data": {
      "text/plain": [
       "   instanceIndex  seedIndex vpcGenerator None  terms  lpBound None  \\\n",
       "0              0          0              None     64  76429.862296   \n",
       "1              1          0              None     64  76449.080834   \n",
       "2             10          0              None     64  76411.913790   \n",
       "3            100          0              None     64  76434.778273   \n",
       "4            101          0              None     64  76416.862296   \n",
       "\n",
       "   disjunctiveDualBound None  lpBoundPostVpc None  rootDualBound None  \\\n",
       "0               76429.862296         76429.862296        76450.507295   \n",
       "1               76449.080834         76449.080834        76469.275901   \n",
       "2               76411.913790         76411.913790        76433.983069   \n",
       "3               76434.778273         76434.778273        76456.656755   \n",
       "4               76416.862296         76416.862296        76437.547100   \n",
       "\n",
       "   dualBound None  primalBound None  ...  zeroInfeasibleToFeasibleTerms New  \\\n",
       "0         76452.0           76453.0  ...                               True   \n",
       "1         76471.0           76473.0  ...                               True   \n",
       "2         76435.0           76435.0  ...                               True   \n",
       "3         76458.0           76458.0  ...                               True   \n",
       "4         76439.0           76440.0  ...                               True   \n",
       "\n",
       "   feasibleToInfeasibleTermsRatio New  infeasibleTermsRatio Old  \\\n",
       "0                                 0.0                       0.0   \n",
       "1                                 0.0                       0.0   \n",
       "2                                 0.0                       0.0   \n",
       "3                                 0.0                       0.0   \n",
       "4                                 0.0                       0.0   \n",
       "\n",
       "   infeasibleToFeasibleTermsRatio Old  zeroInfeasibleToFeasibleTerms Old  \\\n",
       "0                                 0.0                               True   \n",
       "1                                 0.0                               True   \n",
       "2                                 0.0                               True   \n",
       "3                                 0.0                               True   \n",
       "4                                 0.0                               True   \n",
       "\n",
       "   feasibleToInfeasibleTermsRatio Old  infeasibleTermsRatio Farkas  \\\n",
       "0                                 0.0                          0.0   \n",
       "1                                 0.0                          0.0   \n",
       "2                                 0.0                          0.0   \n",
       "3                                 0.0                          0.0   \n",
       "4                                 0.0                          0.0   \n",
       "\n",
       "   infeasibleToFeasibleTermsRatio Farkas  \\\n",
       "0                                    0.0   \n",
       "1                                    0.0   \n",
       "2                                    0.0   \n",
       "3                                    0.0   \n",
       "4                                    0.0   \n",
       "\n",
       "   zeroInfeasibleToFeasibleTerms Farkas  feasibleToInfeasibleTermsRatio Farkas  \n",
       "0                                  True                                    0.0  \n",
       "1                                  True                                    0.0  \n",
       "2                                  True                                    0.0  \n",
       "3                                  True                                    0.0  \n",
       "4                                  True                                    0.0  \n",
       "\n",
       "[5 rows x 162 columns]"
      ],
      "text/html": [
       "<div>\n",
       "<style scoped>\n",
       "    .dataframe tbody tr th:only-of-type {\n",
       "        vertical-align: middle;\n",
       "    }\n",
       "\n",
       "    .dataframe tbody tr th {\n",
       "        vertical-align: top;\n",
       "    }\n",
       "\n",
       "    .dataframe thead th {\n",
       "        text-align: right;\n",
       "    }\n",
       "</style>\n",
       "<table border=\"1\" class=\"dataframe\">\n",
       "  <thead>\n",
       "    <tr style=\"text-align: right;\">\n",
       "      <th></th>\n",
       "      <th>instanceIndex</th>\n",
       "      <th>seedIndex</th>\n",
       "      <th>vpcGenerator None</th>\n",
       "      <th>terms</th>\n",
       "      <th>lpBound None</th>\n",
       "      <th>disjunctiveDualBound None</th>\n",
       "      <th>lpBoundPostVpc None</th>\n",
       "      <th>rootDualBound None</th>\n",
       "      <th>dualBound None</th>\n",
       "      <th>primalBound None</th>\n",
       "      <th>...</th>\n",
       "      <th>zeroInfeasibleToFeasibleTerms New</th>\n",
       "      <th>feasibleToInfeasibleTermsRatio New</th>\n",
       "      <th>infeasibleTermsRatio Old</th>\n",
       "      <th>infeasibleToFeasibleTermsRatio Old</th>\n",
       "      <th>zeroInfeasibleToFeasibleTerms Old</th>\n",
       "      <th>feasibleToInfeasibleTermsRatio Old</th>\n",
       "      <th>infeasibleTermsRatio Farkas</th>\n",
       "      <th>infeasibleToFeasibleTermsRatio Farkas</th>\n",
       "      <th>zeroInfeasibleToFeasibleTerms Farkas</th>\n",
       "      <th>feasibleToInfeasibleTermsRatio Farkas</th>\n",
       "    </tr>\n",
       "  </thead>\n",
       "  <tbody>\n",
       "    <tr>\n",
       "      <th>0</th>\n",
       "      <td>0</td>\n",
       "      <td>0</td>\n",
       "      <td>None</td>\n",
       "      <td>64</td>\n",
       "      <td>76429.862296</td>\n",
       "      <td>76429.862296</td>\n",
       "      <td>76429.862296</td>\n",
       "      <td>76450.507295</td>\n",
       "      <td>76452.0</td>\n",
       "      <td>76453.0</td>\n",
       "      <td>...</td>\n",
       "      <td>True</td>\n",
       "      <td>0.0</td>\n",
       "      <td>0.0</td>\n",
       "      <td>0.0</td>\n",
       "      <td>True</td>\n",
       "      <td>0.0</td>\n",
       "      <td>0.0</td>\n",
       "      <td>0.0</td>\n",
       "      <td>True</td>\n",
       "      <td>0.0</td>\n",
       "    </tr>\n",
       "    <tr>\n",
       "      <th>1</th>\n",
       "      <td>1</td>\n",
       "      <td>0</td>\n",
       "      <td>None</td>\n",
       "      <td>64</td>\n",
       "      <td>76449.080834</td>\n",
       "      <td>76449.080834</td>\n",
       "      <td>76449.080834</td>\n",
       "      <td>76469.275901</td>\n",
       "      <td>76471.0</td>\n",
       "      <td>76473.0</td>\n",
       "      <td>...</td>\n",
       "      <td>True</td>\n",
       "      <td>0.0</td>\n",
       "      <td>0.0</td>\n",
       "      <td>0.0</td>\n",
       "      <td>True</td>\n",
       "      <td>0.0</td>\n",
       "      <td>0.0</td>\n",
       "      <td>0.0</td>\n",
       "      <td>True</td>\n",
       "      <td>0.0</td>\n",
       "    </tr>\n",
       "    <tr>\n",
       "      <th>2</th>\n",
       "      <td>10</td>\n",
       "      <td>0</td>\n",
       "      <td>None</td>\n",
       "      <td>64</td>\n",
       "      <td>76411.913790</td>\n",
       "      <td>76411.913790</td>\n",
       "      <td>76411.913790</td>\n",
       "      <td>76433.983069</td>\n",
       "      <td>76435.0</td>\n",
       "      <td>76435.0</td>\n",
       "      <td>...</td>\n",
       "      <td>True</td>\n",
       "      <td>0.0</td>\n",
       "      <td>0.0</td>\n",
       "      <td>0.0</td>\n",
       "      <td>True</td>\n",
       "      <td>0.0</td>\n",
       "      <td>0.0</td>\n",
       "      <td>0.0</td>\n",
       "      <td>True</td>\n",
       "      <td>0.0</td>\n",
       "    </tr>\n",
       "    <tr>\n",
       "      <th>3</th>\n",
       "      <td>100</td>\n",
       "      <td>0</td>\n",
       "      <td>None</td>\n",
       "      <td>64</td>\n",
       "      <td>76434.778273</td>\n",
       "      <td>76434.778273</td>\n",
       "      <td>76434.778273</td>\n",
       "      <td>76456.656755</td>\n",
       "      <td>76458.0</td>\n",
       "      <td>76458.0</td>\n",
       "      <td>...</td>\n",
       "      <td>True</td>\n",
       "      <td>0.0</td>\n",
       "      <td>0.0</td>\n",
       "      <td>0.0</td>\n",
       "      <td>True</td>\n",
       "      <td>0.0</td>\n",
       "      <td>0.0</td>\n",
       "      <td>0.0</td>\n",
       "      <td>True</td>\n",
       "      <td>0.0</td>\n",
       "    </tr>\n",
       "    <tr>\n",
       "      <th>4</th>\n",
       "      <td>101</td>\n",
       "      <td>0</td>\n",
       "      <td>None</td>\n",
       "      <td>64</td>\n",
       "      <td>76416.862296</td>\n",
       "      <td>76416.862296</td>\n",
       "      <td>76416.862296</td>\n",
       "      <td>76437.547100</td>\n",
       "      <td>76439.0</td>\n",
       "      <td>76440.0</td>\n",
       "      <td>...</td>\n",
       "      <td>True</td>\n",
       "      <td>0.0</td>\n",
       "      <td>0.0</td>\n",
       "      <td>0.0</td>\n",
       "      <td>True</td>\n",
       "      <td>0.0</td>\n",
       "      <td>0.0</td>\n",
       "      <td>0.0</td>\n",
       "      <td>True</td>\n",
       "      <td>0.0</td>\n",
       "    </tr>\n",
       "  </tbody>\n",
       "</table>\n",
       "<p>5 rows × 162 columns</p>\n",
       "</div>"
      ]
     },
     "execution_count": 64,
     "metadata": {},
     "output_type": "execute_result"
    }
   ],
   "execution_count": 64
  },
  {
   "metadata": {
    "ExecuteTime": {
     "end_time": "2025-01-23T17:44:11.723956Z",
     "start_time": "2025-01-23T17:44:11.705987Z"
    }
   },
   "cell_type": "code",
   "source": [
    "# set aside core columns and filter for all subsequent dataframes\n",
    "group_cols = [\"instance\", \"perturbation\", \"bracket\", \"degree\", \"terms\"]\n",
    "id_cols = [\"instanceIndex\"]\n",
    "\n",
    "# keep the instance, perturbation, instanceIndex triples that exist for all combinations of degree and terms\n",
    "# where VPC did not find the optimal solution\n",
    "full_df = df.loc[df[\"Disjunction (New)\"] < .9999]\n",
    "triples = (full_df.groupby(\n",
    "        [\"instance\", \"perturbation\", \"instanceIndex\"]\n",
    "    ).size().reset_index().rename(columns={0: \"count\"}))\n",
    "triples.head()"
   ],
   "id": "20e18b9d8d3b5b55",
   "outputs": [
    {
     "data": {
      "text/plain": [
       "      instance perturbation  instanceIndex  count\n",
       "0  f2gap201600       matrix              0      1\n",
       "1  f2gap201600       matrix              1      1\n",
       "2  f2gap201600       matrix             10      1\n",
       "3  f2gap201600       matrix            100      1\n",
       "4  f2gap201600       matrix            101      1"
      ],
      "text/html": [
       "<div>\n",
       "<style scoped>\n",
       "    .dataframe tbody tr th:only-of-type {\n",
       "        vertical-align: middle;\n",
       "    }\n",
       "\n",
       "    .dataframe tbody tr th {\n",
       "        vertical-align: top;\n",
       "    }\n",
       "\n",
       "    .dataframe thead th {\n",
       "        text-align: right;\n",
       "    }\n",
       "</style>\n",
       "<table border=\"1\" class=\"dataframe\">\n",
       "  <thead>\n",
       "    <tr style=\"text-align: right;\">\n",
       "      <th></th>\n",
       "      <th>instance</th>\n",
       "      <th>perturbation</th>\n",
       "      <th>instanceIndex</th>\n",
       "      <th>count</th>\n",
       "    </tr>\n",
       "  </thead>\n",
       "  <tbody>\n",
       "    <tr>\n",
       "      <th>0</th>\n",
       "      <td>f2gap201600</td>\n",
       "      <td>matrix</td>\n",
       "      <td>0</td>\n",
       "      <td>1</td>\n",
       "    </tr>\n",
       "    <tr>\n",
       "      <th>1</th>\n",
       "      <td>f2gap201600</td>\n",
       "      <td>matrix</td>\n",
       "      <td>1</td>\n",
       "      <td>1</td>\n",
       "    </tr>\n",
       "    <tr>\n",
       "      <th>2</th>\n",
       "      <td>f2gap201600</td>\n",
       "      <td>matrix</td>\n",
       "      <td>10</td>\n",
       "      <td>1</td>\n",
       "    </tr>\n",
       "    <tr>\n",
       "      <th>3</th>\n",
       "      <td>f2gap201600</td>\n",
       "      <td>matrix</td>\n",
       "      <td>100</td>\n",
       "      <td>1</td>\n",
       "    </tr>\n",
       "    <tr>\n",
       "      <th>4</th>\n",
       "      <td>f2gap201600</td>\n",
       "      <td>matrix</td>\n",
       "      <td>101</td>\n",
       "      <td>1</td>\n",
       "    </tr>\n",
       "  </tbody>\n",
       "</table>\n",
       "</div>"
      ]
     },
     "execution_count": 65,
     "metadata": {},
     "output_type": "execute_result"
    }
   ],
   "execution_count": 65
  },
  {
   "metadata": {
    "ExecuteTime": {
     "end_time": "2025-01-23T17:45:33.302871Z",
     "start_time": "2025-01-23T17:45:33.232974Z"
    }
   },
   "cell_type": "code",
   "source": [
    "# uncomment to filter for only the triples that exist for all combinations of degree and terms (and seed index)\n",
    "# triples = triples[triples[\"count\"] == len(degrees) * len(term_list) * len(seed_idxs)]\n",
    "# full_df = full_df.merge(triples, on=[\"instance\", \"perturbation\", \"instanceIndex\"])\n",
    "full_df.to_csv(os.path.join(out_fldr, \"cleaned_combined_complete.csv\"), index=False, mode=\"w\")"
   ],
   "id": "fcff718d6277a172",
   "outputs": [],
   "execution_count": 67
  },
  {
   "cell_type": "markdown",
   "source": "## Check Root Node Stats",
   "metadata": {
    "collapsed": false
   },
   "id": "2f3bb4783d418904"
  },
  {
   "cell_type": "code",
   "source": [
    "def interleave(list_of_lists):\n",
    "    return [item for sublist in zip(*list_of_lists) for item in sublist]"
   ],
   "metadata": {
    "collapsed": false,
    "ExecuteTime": {
     "end_time": "2025-01-23T17:45:35.980557Z",
     "start_time": "2025-01-23T17:45:35.975964Z"
    }
   },
   "id": "dd68a9bcb789fb6e",
   "outputs": [],
   "execution_count": 68
  },
  {
   "cell_type": "code",
   "source": [
    "# additional filtering for dataframe on bounds\n",
    "fields = [\"Disjunction (New)\", \"Disjunction (Old)\", \"VPCs (New)\", \"VPCs (Old)\", \"VPCs (Farkas)\"] + \\\n",
    "    interleave([[f\"Root Cuts ({gen_name})\", f\"terminationTime {gen_name}\", f\"nodes {gen_name}\",\n",
    "                 f\"iterations {gen_name}\", f\"terminationTimeSansVpc {gen_name}\", f\"vpcGenerationTime {gen_name}\", \n",
    "                 f\"rootDualBoundTime {gen_name}\"]\n",
    "                for gen_name in [\"None\", \"New\", \"Old\", \"Farkas\"]]) + \\\n",
    "    interleave([[f\"infeasibleTermsRatio {gen_name}\", f\"infeasibleToFeasibleTermsRatio {gen_name}\",\n",
    "                 f\"zeroInfeasibleToFeasibleTerms {gen_name}\", f\"feasibleToInfeasibleTermsRatio {gen_name}\"]\n",
    "                for gen_name in [\"New\", \"Old\", \"Farkas\"]]) + \\\n",
    "    [\"terminationTimeRatio\", \"nodesRatio\", \"iterationsRatio\", \"sameSolution\"]\n",
    "\n",
    "# now reduce bound_df to just the perturbed instances - make > -1 to include base instance\n",
    "bound_df = full_df.loc[full_df[\"instanceIndex\"] > 0, group_cols + id_cols + fields]"
   ],
   "metadata": {
    "collapsed": false,
    "ExecuteTime": {
     "end_time": "2025-01-23T17:45:36.626966Z",
     "start_time": "2025-01-23T17:45:36.621930Z"
    }
   },
   "id": "1446af429a86e44f",
   "outputs": [],
   "execution_count": 69
  },
  {
   "metadata": {
    "ExecuteTime": {
     "end_time": "2025-01-23T17:45:37.271981Z",
     "start_time": "2025-01-23T17:45:37.262283Z"
    }
   },
   "cell_type": "code",
   "source": [
    "# reduce rows to max number of unique indices\n",
    "def filter_max_indices(group):\n",
    "    # Keep only rows belonging to the first 50 unique `instanceIndex` values\n",
    "    return group[group['instanceIndex'].isin(group['instanceIndex'].sort_values().unique()[:max_indices])]\n",
    "\n",
    "# Group by the desired columns and apply the filtering\n",
    "bound_df = bound_df.groupby(['instance', 'perturbation', 'degree', 'terms'], group_keys=False).apply(filter_max_indices)"
   ],
   "id": "64c03c9a0098571",
   "outputs": [],
   "execution_count": 70
  },
  {
   "cell_type": "code",
   "source": [
    "def geometric_mean(series, offset=1e-6):\n",
    "    adjusted_series = series + offset  # Add a small offset to avoid zeros\n",
    "    return np.exp(np.log(adjusted_series).mean())\n",
    "\n",
    "# paper currently uses mean, but we can switch to geometric mean if we want\n",
    "aggregations = {f: geometric_mean if f not in [\"sameSolution\"] else \"mean\" for f in fields}\n",
    "aggregations[\"instance\"] = \"nunique\"\n",
    "aggregations[\"instanceIndex\"] = \"count\""
   ],
   "metadata": {
    "collapsed": false,
    "ExecuteTime": {
     "end_time": "2025-01-23T17:46:21.236115Z",
     "start_time": "2025-01-23T17:46:21.231944Z"
    }
   },
   "id": "2e2bbc44b009d720",
   "outputs": [],
   "execution_count": 74
  },
  {
   "cell_type": "code",
   "source": [
    "# get gap closed by degree and term\n",
    "out = bound_df.groupby([\"degree\", \"terms\"]).agg(aggregations).reset_index()\n",
    "out.to_csv(os.path.join(out_fldr, \"bound_table.csv\"), index=False, mode=\"w\")\n",
    "out"
   ],
   "metadata": {
    "collapsed": false,
    "ExecuteTime": {
     "end_time": "2025-01-23T17:46:21.820738Z",
     "start_time": "2025-01-23T17:46:21.788292Z"
    }
   },
   "id": "588a0ef9d23dad30",
   "outputs": [
    {
     "data": {
      "text/plain": [
       "   degree  terms  Disjunction (New)  Disjunction (Old)  VPCs (New)  \\\n",
       "0     0.5      4           0.056523           0.055422    0.037280   \n",
       "1     0.5     16           0.061792           0.059638    0.055047   \n",
       "2     0.5     64           0.073931           0.068893    0.064481   \n",
       "\n",
       "   VPCs (Old)  VPCs (Farkas)  Root Cuts (None)  Root Cuts (New)  \\\n",
       "0    0.037517       0.010182          0.848348         0.827198   \n",
       "1    0.052302       0.048106          0.844304         0.826263   \n",
       "2    0.057119       0.050057          0.868001         0.846013   \n",
       "\n",
       "   Root Cuts (Old)  ...  zeroInfeasibleToFeasibleTerms Farkas  \\\n",
       "0         0.826548  ...                              1.000001   \n",
       "1         0.825907  ...                              1.000001   \n",
       "2         0.845471  ...                              1.000001   \n",
       "\n",
       "   feasibleToInfeasibleTermsRatio New  feasibleToInfeasibleTermsRatio Old  \\\n",
       "0                            0.000001                            0.000001   \n",
       "1                            0.000001                            0.000001   \n",
       "2                            0.000001                            0.000001   \n",
       "\n",
       "   feasibleToInfeasibleTermsRatio Farkas  terminationTimeRatio  nodesRatio  \\\n",
       "0                               0.000001              0.954379    0.592395   \n",
       "1                               0.000001              1.121646    0.582210   \n",
       "2                               0.000001              1.914128    0.462252   \n",
       "\n",
       "   iterationsRatio  sameSolution  instance  instanceIndex  \n",
       "0         0.914571      0.242820         1            383  \n",
       "1         0.939021      0.247475         1            396  \n",
       "2         0.864463      0.197452         1            157  \n",
       "\n",
       "[3 rows x 53 columns]"
      ],
      "text/html": [
       "<div>\n",
       "<style scoped>\n",
       "    .dataframe tbody tr th:only-of-type {\n",
       "        vertical-align: middle;\n",
       "    }\n",
       "\n",
       "    .dataframe tbody tr th {\n",
       "        vertical-align: top;\n",
       "    }\n",
       "\n",
       "    .dataframe thead th {\n",
       "        text-align: right;\n",
       "    }\n",
       "</style>\n",
       "<table border=\"1\" class=\"dataframe\">\n",
       "  <thead>\n",
       "    <tr style=\"text-align: right;\">\n",
       "      <th></th>\n",
       "      <th>degree</th>\n",
       "      <th>terms</th>\n",
       "      <th>Disjunction (New)</th>\n",
       "      <th>Disjunction (Old)</th>\n",
       "      <th>VPCs (New)</th>\n",
       "      <th>VPCs (Old)</th>\n",
       "      <th>VPCs (Farkas)</th>\n",
       "      <th>Root Cuts (None)</th>\n",
       "      <th>Root Cuts (New)</th>\n",
       "      <th>Root Cuts (Old)</th>\n",
       "      <th>...</th>\n",
       "      <th>zeroInfeasibleToFeasibleTerms Farkas</th>\n",
       "      <th>feasibleToInfeasibleTermsRatio New</th>\n",
       "      <th>feasibleToInfeasibleTermsRatio Old</th>\n",
       "      <th>feasibleToInfeasibleTermsRatio Farkas</th>\n",
       "      <th>terminationTimeRatio</th>\n",
       "      <th>nodesRatio</th>\n",
       "      <th>iterationsRatio</th>\n",
       "      <th>sameSolution</th>\n",
       "      <th>instance</th>\n",
       "      <th>instanceIndex</th>\n",
       "    </tr>\n",
       "  </thead>\n",
       "  <tbody>\n",
       "    <tr>\n",
       "      <th>0</th>\n",
       "      <td>0.5</td>\n",
       "      <td>4</td>\n",
       "      <td>0.056523</td>\n",
       "      <td>0.055422</td>\n",
       "      <td>0.037280</td>\n",
       "      <td>0.037517</td>\n",
       "      <td>0.010182</td>\n",
       "      <td>0.848348</td>\n",
       "      <td>0.827198</td>\n",
       "      <td>0.826548</td>\n",
       "      <td>...</td>\n",
       "      <td>1.000001</td>\n",
       "      <td>0.000001</td>\n",
       "      <td>0.000001</td>\n",
       "      <td>0.000001</td>\n",
       "      <td>0.954379</td>\n",
       "      <td>0.592395</td>\n",
       "      <td>0.914571</td>\n",
       "      <td>0.242820</td>\n",
       "      <td>1</td>\n",
       "      <td>383</td>\n",
       "    </tr>\n",
       "    <tr>\n",
       "      <th>1</th>\n",
       "      <td>0.5</td>\n",
       "      <td>16</td>\n",
       "      <td>0.061792</td>\n",
       "      <td>0.059638</td>\n",
       "      <td>0.055047</td>\n",
       "      <td>0.052302</td>\n",
       "      <td>0.048106</td>\n",
       "      <td>0.844304</td>\n",
       "      <td>0.826263</td>\n",
       "      <td>0.825907</td>\n",
       "      <td>...</td>\n",
       "      <td>1.000001</td>\n",
       "      <td>0.000001</td>\n",
       "      <td>0.000001</td>\n",
       "      <td>0.000001</td>\n",
       "      <td>1.121646</td>\n",
       "      <td>0.582210</td>\n",
       "      <td>0.939021</td>\n",
       "      <td>0.247475</td>\n",
       "      <td>1</td>\n",
       "      <td>396</td>\n",
       "    </tr>\n",
       "    <tr>\n",
       "      <th>2</th>\n",
       "      <td>0.5</td>\n",
       "      <td>64</td>\n",
       "      <td>0.073931</td>\n",
       "      <td>0.068893</td>\n",
       "      <td>0.064481</td>\n",
       "      <td>0.057119</td>\n",
       "      <td>0.050057</td>\n",
       "      <td>0.868001</td>\n",
       "      <td>0.846013</td>\n",
       "      <td>0.845471</td>\n",
       "      <td>...</td>\n",
       "      <td>1.000001</td>\n",
       "      <td>0.000001</td>\n",
       "      <td>0.000001</td>\n",
       "      <td>0.000001</td>\n",
       "      <td>1.914128</td>\n",
       "      <td>0.462252</td>\n",
       "      <td>0.864463</td>\n",
       "      <td>0.197452</td>\n",
       "      <td>1</td>\n",
       "      <td>157</td>\n",
       "    </tr>\n",
       "  </tbody>\n",
       "</table>\n",
       "<p>3 rows × 53 columns</p>\n",
       "</div>"
      ]
     },
     "execution_count": 75,
     "metadata": {},
     "output_type": "execute_result"
    }
   ],
   "execution_count": 75
  },
  {
   "cell_type": "code",
   "source": [
    "# now break it down by type of perturbation\n",
    "out = bound_df.groupby([\"degree\", \"terms\", \"perturbation\"]).agg(aggregations).reset_index()\n",
    "out.to_csv(os.path.join(out_fldr, \"bound_table_by_perturbation.csv\"), index=False, mode=\"w\")\n",
    "out"
   ],
   "metadata": {
    "collapsed": false,
    "ExecuteTime": {
     "end_time": "2025-01-23T17:48:00.892582Z",
     "start_time": "2025-01-23T17:48:00.831206Z"
    }
   },
   "id": "7c7dd20910d976da",
   "outputs": [
    {
     "data": {
      "text/plain": [
       "   degree  terms perturbation  Disjunction (New)  Disjunction (Old)  \\\n",
       "0     0.5      4       matrix           0.015358           0.015386   \n",
       "1     0.5      4    objective           0.068636           0.066219   \n",
       "2     0.5      4          rhs           0.047333           0.047190   \n",
       "3     0.5     16    objective           0.075105           0.070231   \n",
       "4     0.5     16          rhs           0.051038           0.050808   \n",
       "5     0.5     64    objective           0.083280           0.074499   \n",
       "6     0.5     64          rhs           0.058911           0.059343   \n",
       "\n",
       "   VPCs (New)  VPCs (Old)  VPCs (Farkas)  Root Cuts (None)  Root Cuts (New)  \\\n",
       "0    0.010157    0.010710       0.000001          0.656308         0.628582   \n",
       "1    0.049221    0.053946       0.012721          0.919723         0.890300   \n",
       "2    0.028568    0.026237       0.009829          0.783100         0.769780   \n",
       "3    0.065452    0.060014       0.057991          0.918276         0.891970   \n",
       "4    0.046456    0.045706       0.040056          0.777595         0.766569   \n",
       "5    0.073298    0.061881       0.055523          0.916734         0.893043   \n",
       "6    0.050496    0.049028       0.041078          0.782115         0.763066   \n",
       "\n",
       "   ...  zeroInfeasibleToFeasibleTerms Farkas  \\\n",
       "0  ...                              1.000001   \n",
       "1  ...                              1.000001   \n",
       "2  ...                              1.000001   \n",
       "3  ...                              1.000001   \n",
       "4  ...                              1.000001   \n",
       "5  ...                              1.000001   \n",
       "6  ...                              1.000001   \n",
       "\n",
       "   feasibleToInfeasibleTermsRatio New  feasibleToInfeasibleTermsRatio Old  \\\n",
       "0                            0.000001                            0.000001   \n",
       "1                            0.000001                            0.000001   \n",
       "2                            0.000001                            0.000001   \n",
       "3                            0.000001                            0.000001   \n",
       "4                            0.000001                            0.000001   \n",
       "5                            0.000001                            0.000001   \n",
       "6                            0.000001                            0.000001   \n",
       "\n",
       "   feasibleToInfeasibleTermsRatio Farkas  terminationTimeRatio  nodesRatio  \\\n",
       "0                               0.000001              1.134290    1.123381   \n",
       "1                               0.000001              0.973272    0.558226   \n",
       "2                               0.000001              0.931255    0.622176   \n",
       "3                               0.000001              1.183081    0.502266   \n",
       "4                               0.000001              1.064536    0.672886   \n",
       "5                               0.000001              2.113879    0.374609   \n",
       "6                               0.000001              1.583959    0.690282   \n",
       "\n",
       "   iterationsRatio  sameSolution  instance  instanceIndex  \n",
       "0         1.142436      0.000000         1              4  \n",
       "1         0.920959      0.030769         1            195  \n",
       "2         0.903470      0.472826         1            184  \n",
       "3         0.919992      0.030612         1            196  \n",
       "4         0.958050      0.460000         1            200  \n",
       "5         0.795339      0.048544         1            103  \n",
       "6         1.013406      0.481481         1             54  \n",
       "\n",
       "[7 rows x 54 columns]"
      ],
      "text/html": [
       "<div>\n",
       "<style scoped>\n",
       "    .dataframe tbody tr th:only-of-type {\n",
       "        vertical-align: middle;\n",
       "    }\n",
       "\n",
       "    .dataframe tbody tr th {\n",
       "        vertical-align: top;\n",
       "    }\n",
       "\n",
       "    .dataframe thead th {\n",
       "        text-align: right;\n",
       "    }\n",
       "</style>\n",
       "<table border=\"1\" class=\"dataframe\">\n",
       "  <thead>\n",
       "    <tr style=\"text-align: right;\">\n",
       "      <th></th>\n",
       "      <th>degree</th>\n",
       "      <th>terms</th>\n",
       "      <th>perturbation</th>\n",
       "      <th>Disjunction (New)</th>\n",
       "      <th>Disjunction (Old)</th>\n",
       "      <th>VPCs (New)</th>\n",
       "      <th>VPCs (Old)</th>\n",
       "      <th>VPCs (Farkas)</th>\n",
       "      <th>Root Cuts (None)</th>\n",
       "      <th>Root Cuts (New)</th>\n",
       "      <th>...</th>\n",
       "      <th>zeroInfeasibleToFeasibleTerms Farkas</th>\n",
       "      <th>feasibleToInfeasibleTermsRatio New</th>\n",
       "      <th>feasibleToInfeasibleTermsRatio Old</th>\n",
       "      <th>feasibleToInfeasibleTermsRatio Farkas</th>\n",
       "      <th>terminationTimeRatio</th>\n",
       "      <th>nodesRatio</th>\n",
       "      <th>iterationsRatio</th>\n",
       "      <th>sameSolution</th>\n",
       "      <th>instance</th>\n",
       "      <th>instanceIndex</th>\n",
       "    </tr>\n",
       "  </thead>\n",
       "  <tbody>\n",
       "    <tr>\n",
       "      <th>0</th>\n",
       "      <td>0.5</td>\n",
       "      <td>4</td>\n",
       "      <td>matrix</td>\n",
       "      <td>0.015358</td>\n",
       "      <td>0.015386</td>\n",
       "      <td>0.010157</td>\n",
       "      <td>0.010710</td>\n",
       "      <td>0.000001</td>\n",
       "      <td>0.656308</td>\n",
       "      <td>0.628582</td>\n",
       "      <td>...</td>\n",
       "      <td>1.000001</td>\n",
       "      <td>0.000001</td>\n",
       "      <td>0.000001</td>\n",
       "      <td>0.000001</td>\n",
       "      <td>1.134290</td>\n",
       "      <td>1.123381</td>\n",
       "      <td>1.142436</td>\n",
       "      <td>0.000000</td>\n",
       "      <td>1</td>\n",
       "      <td>4</td>\n",
       "    </tr>\n",
       "    <tr>\n",
       "      <th>1</th>\n",
       "      <td>0.5</td>\n",
       "      <td>4</td>\n",
       "      <td>objective</td>\n",
       "      <td>0.068636</td>\n",
       "      <td>0.066219</td>\n",
       "      <td>0.049221</td>\n",
       "      <td>0.053946</td>\n",
       "      <td>0.012721</td>\n",
       "      <td>0.919723</td>\n",
       "      <td>0.890300</td>\n",
       "      <td>...</td>\n",
       "      <td>1.000001</td>\n",
       "      <td>0.000001</td>\n",
       "      <td>0.000001</td>\n",
       "      <td>0.000001</td>\n",
       "      <td>0.973272</td>\n",
       "      <td>0.558226</td>\n",
       "      <td>0.920959</td>\n",
       "      <td>0.030769</td>\n",
       "      <td>1</td>\n",
       "      <td>195</td>\n",
       "    </tr>\n",
       "    <tr>\n",
       "      <th>2</th>\n",
       "      <td>0.5</td>\n",
       "      <td>4</td>\n",
       "      <td>rhs</td>\n",
       "      <td>0.047333</td>\n",
       "      <td>0.047190</td>\n",
       "      <td>0.028568</td>\n",
       "      <td>0.026237</td>\n",
       "      <td>0.009829</td>\n",
       "      <td>0.783100</td>\n",
       "      <td>0.769780</td>\n",
       "      <td>...</td>\n",
       "      <td>1.000001</td>\n",
       "      <td>0.000001</td>\n",
       "      <td>0.000001</td>\n",
       "      <td>0.000001</td>\n",
       "      <td>0.931255</td>\n",
       "      <td>0.622176</td>\n",
       "      <td>0.903470</td>\n",
       "      <td>0.472826</td>\n",
       "      <td>1</td>\n",
       "      <td>184</td>\n",
       "    </tr>\n",
       "    <tr>\n",
       "      <th>3</th>\n",
       "      <td>0.5</td>\n",
       "      <td>16</td>\n",
       "      <td>objective</td>\n",
       "      <td>0.075105</td>\n",
       "      <td>0.070231</td>\n",
       "      <td>0.065452</td>\n",
       "      <td>0.060014</td>\n",
       "      <td>0.057991</td>\n",
       "      <td>0.918276</td>\n",
       "      <td>0.891970</td>\n",
       "      <td>...</td>\n",
       "      <td>1.000001</td>\n",
       "      <td>0.000001</td>\n",
       "      <td>0.000001</td>\n",
       "      <td>0.000001</td>\n",
       "      <td>1.183081</td>\n",
       "      <td>0.502266</td>\n",
       "      <td>0.919992</td>\n",
       "      <td>0.030612</td>\n",
       "      <td>1</td>\n",
       "      <td>196</td>\n",
       "    </tr>\n",
       "    <tr>\n",
       "      <th>4</th>\n",
       "      <td>0.5</td>\n",
       "      <td>16</td>\n",
       "      <td>rhs</td>\n",
       "      <td>0.051038</td>\n",
       "      <td>0.050808</td>\n",
       "      <td>0.046456</td>\n",
       "      <td>0.045706</td>\n",
       "      <td>0.040056</td>\n",
       "      <td>0.777595</td>\n",
       "      <td>0.766569</td>\n",
       "      <td>...</td>\n",
       "      <td>1.000001</td>\n",
       "      <td>0.000001</td>\n",
       "      <td>0.000001</td>\n",
       "      <td>0.000001</td>\n",
       "      <td>1.064536</td>\n",
       "      <td>0.672886</td>\n",
       "      <td>0.958050</td>\n",
       "      <td>0.460000</td>\n",
       "      <td>1</td>\n",
       "      <td>200</td>\n",
       "    </tr>\n",
       "    <tr>\n",
       "      <th>5</th>\n",
       "      <td>0.5</td>\n",
       "      <td>64</td>\n",
       "      <td>objective</td>\n",
       "      <td>0.083280</td>\n",
       "      <td>0.074499</td>\n",
       "      <td>0.073298</td>\n",
       "      <td>0.061881</td>\n",
       "      <td>0.055523</td>\n",
       "      <td>0.916734</td>\n",
       "      <td>0.893043</td>\n",
       "      <td>...</td>\n",
       "      <td>1.000001</td>\n",
       "      <td>0.000001</td>\n",
       "      <td>0.000001</td>\n",
       "      <td>0.000001</td>\n",
       "      <td>2.113879</td>\n",
       "      <td>0.374609</td>\n",
       "      <td>0.795339</td>\n",
       "      <td>0.048544</td>\n",
       "      <td>1</td>\n",
       "      <td>103</td>\n",
       "    </tr>\n",
       "    <tr>\n",
       "      <th>6</th>\n",
       "      <td>0.5</td>\n",
       "      <td>64</td>\n",
       "      <td>rhs</td>\n",
       "      <td>0.058911</td>\n",
       "      <td>0.059343</td>\n",
       "      <td>0.050496</td>\n",
       "      <td>0.049028</td>\n",
       "      <td>0.041078</td>\n",
       "      <td>0.782115</td>\n",
       "      <td>0.763066</td>\n",
       "      <td>...</td>\n",
       "      <td>1.000001</td>\n",
       "      <td>0.000001</td>\n",
       "      <td>0.000001</td>\n",
       "      <td>0.000001</td>\n",
       "      <td>1.583959</td>\n",
       "      <td>0.690282</td>\n",
       "      <td>1.013406</td>\n",
       "      <td>0.481481</td>\n",
       "      <td>1</td>\n",
       "      <td>54</td>\n",
       "    </tr>\n",
       "  </tbody>\n",
       "</table>\n",
       "<p>7 rows × 54 columns</p>\n",
       "</div>"
      ]
     },
     "execution_count": 76,
     "metadata": {},
     "output_type": "execute_result"
    }
   ],
   "execution_count": 76
  },
  {
   "metadata": {
    "ExecuteTime": {
     "end_time": "2025-01-22T18:04:29.308983Z",
     "start_time": "2025-01-22T18:04:29.249668Z"
    }
   },
   "cell_type": "code",
   "source": [
    "# now just rows of out where degree is .5 and terms are 4\n",
    "# now reduce bound_df to just the perturbed instances - make > -1 to include base instance\n",
    "complete_time_df = full_df[group_cols + id_cols + fields]\n",
    "\n",
    "# keep only max number of repeats if desired\n",
    "complete_time_df = complete_time_df.groupby(['instance', 'perturbation', 'degree', 'terms'], group_keys=False).apply(filter_max_indices)\n",
    "\n",
    "# pare down above table to just summary statistics\n",
    "complete_time_df = complete_time_df.groupby([\"degree\", \"terms\", \"perturbation\"]).agg(aggregations).reset_index()\n",
    "complete_time_df = complete_time_df.loc[\n",
    "    (complete_time_df[\"degree\"] == .5) & (complete_time_df[\"terms\"] == 4),\n",
    "    [\"perturbation\", \"terminationTime None\", \"terminationTime New\", \"terminationTime Old\", \"terminationTime Farkas\", \n",
    "     \"sameSolution\", \"instanceIndex\"]\n",
    "]\n",
    "\n",
    "# get total termination time\n",
    "for gen in [\"None\", \"New\", \"Old\", \"Farkas\"]:\n",
    "    complete_time_df[f\"terminationTime {gen}\"] = complete_time_df[f\"terminationTime {gen}\"] * complete_time_df[\"instanceIndex\"]\n",
    "\n",
    "# set perturbation as the index\n",
    "complete_time_df.set_index(\"perturbation\", inplace=True)\n",
    "\n",
    "# add a row that is the average of the other rows and name its perturbation \"average\"\n",
    "complete_time_df.loc['Average'] = complete_time_df.mean()\n",
    "complete_time_df[complete_time_df.columns[:-1]]"
   ],
   "id": "3a5e954beb7430dc",
   "outputs": [
    {
     "data": {
      "text/plain": [
       "              terminationTime None  terminationTime New  terminationTime Old  \\\n",
       "perturbation                                                                   \n",
       "matrix                   74.108339            81.032207            70.802948   \n",
       "objective                72.202151            80.814652            73.897849   \n",
       "rhs                      76.732552            81.174689            70.664320   \n",
       "Average                  74.347681            81.007183            71.788372   \n",
       "\n",
       "              terminationTime Farkas  sameSolution  \n",
       "perturbation                                        \n",
       "matrix                     63.657291      1.000000  \n",
       "objective                  72.886252      0.440000  \n",
       "rhs                        62.156320      1.000000  \n",
       "Average                    66.233288      0.813333  "
      ],
      "text/html": [
       "<div>\n",
       "<style scoped>\n",
       "    .dataframe tbody tr th:only-of-type {\n",
       "        vertical-align: middle;\n",
       "    }\n",
       "\n",
       "    .dataframe tbody tr th {\n",
       "        vertical-align: top;\n",
       "    }\n",
       "\n",
       "    .dataframe thead th {\n",
       "        text-align: right;\n",
       "    }\n",
       "</style>\n",
       "<table border=\"1\" class=\"dataframe\">\n",
       "  <thead>\n",
       "    <tr style=\"text-align: right;\">\n",
       "      <th></th>\n",
       "      <th>terminationTime None</th>\n",
       "      <th>terminationTime New</th>\n",
       "      <th>terminationTime Old</th>\n",
       "      <th>terminationTime Farkas</th>\n",
       "      <th>sameSolution</th>\n",
       "    </tr>\n",
       "    <tr>\n",
       "      <th>perturbation</th>\n",
       "      <th></th>\n",
       "      <th></th>\n",
       "      <th></th>\n",
       "      <th></th>\n",
       "      <th></th>\n",
       "    </tr>\n",
       "  </thead>\n",
       "  <tbody>\n",
       "    <tr>\n",
       "      <th>matrix</th>\n",
       "      <td>74.108339</td>\n",
       "      <td>81.032207</td>\n",
       "      <td>70.802948</td>\n",
       "      <td>63.657291</td>\n",
       "      <td>1.000000</td>\n",
       "    </tr>\n",
       "    <tr>\n",
       "      <th>objective</th>\n",
       "      <td>72.202151</td>\n",
       "      <td>80.814652</td>\n",
       "      <td>73.897849</td>\n",
       "      <td>72.886252</td>\n",
       "      <td>0.440000</td>\n",
       "    </tr>\n",
       "    <tr>\n",
       "      <th>rhs</th>\n",
       "      <td>76.732552</td>\n",
       "      <td>81.174689</td>\n",
       "      <td>70.664320</td>\n",
       "      <td>62.156320</td>\n",
       "      <td>1.000000</td>\n",
       "    </tr>\n",
       "    <tr>\n",
       "      <th>Average</th>\n",
       "      <td>74.347681</td>\n",
       "      <td>81.007183</td>\n",
       "      <td>71.788372</td>\n",
       "      <td>66.233288</td>\n",
       "      <td>0.813333</td>\n",
       "    </tr>\n",
       "  </tbody>\n",
       "</table>\n",
       "</div>"
      ]
     },
     "execution_count": 74,
     "metadata": {},
     "output_type": "execute_result"
    }
   ],
   "execution_count": 74
  },
  {
   "metadata": {
    "ExecuteTime": {
     "end_time": "2025-01-21T23:14:13.668997Z",
     "start_time": "2025-01-21T23:14:13.650683Z"
    }
   },
   "cell_type": "code",
   "source": [
    "def make_pareto_frontier(bound_df, save_fig = True):\n",
    "\n",
    "    pareto_df = bound_df[[f for f in fields if \"Root Cuts\" in f or \"rootDualBoundTime\" in f]].apply(geometric_mean).reset_index()\n",
    "    pareto_df.columns = [\"key\", \"value\"]\n",
    "    \n",
    "    # Extract strength and time rows\n",
    "    strength_df = pareto_df[pareto_df['key'].str.contains(\"Root Cuts\")].copy()\n",
    "    strength_df['category'] = strength_df['key'].str.extract(r'\\((.*?)\\)')\n",
    "    # strength_df[\"value\"] = 100 * strength_df[\"value\"]\n",
    "    \n",
    "    time_df = pareto_df[pareto_df['key'].str.contains(\"rootDualBoundTime\")].copy()\n",
    "    time_df['category'] = time_df['key'].str.extract(r'(None|Farkas|Old|New)')\n",
    "    \n",
    "    # Merge data on category\n",
    "    merged_df = pd.merge(strength_df, time_df, on='category', suffixes=('_strength', '_time'))\n",
    "    \n",
    "    # update column names\n",
    "    merged_df['category'] = merged_df['category'].replace(cat_map_new_lines)\n",
    "    \n",
    "    # Create plot\n",
    "    plt.figure(figsize=(8, 6))\n",
    "    plt.scatter(merged_df['value_strength'], merged_df['value_time'], color='blue', label='Data Points')\n",
    "    plt.xlabel(\"Average Root nodes Optimality Gap Closed\")\n",
    "    plt.gca().xaxis.set_major_formatter(PercentFormatter(1.0, 1))\n",
    "    plt.ylabel(\"Average Time (s) to Process Root nodes\")\n",
    "    plt.title(\"Root nodes Optimality Gap Closed vs. Processing Time\")\n",
    "    plt.grid(True)\n",
    "    \n",
    "    # Annotate points with categories\n",
    "    for _, row in merged_df.iterrows():\n",
    "        offset = (10, -5) if row['category'] == \"Default\" else (-60, -10) if \"Param\" not in row[\"category\"] else (-70, -10)\n",
    "        plt.annotate(row['category'], (row['value_strength'], row['value_time']),\n",
    "                     textcoords=\"offset points\", xytext=offset, fontsize=14)\n",
    "    \n",
    "    plt.tight_layout()\n",
    "    \n",
    "    if save_fig:\n",
    "        plt.savefig(os.path.join(\n",
    "            out_fldr, f\"strength_vs_time.png\"\n",
    "        ), dpi=1200)\n",
    "    \n",
    "    # order merged_df by strength\n",
    "    print(merged_df.sort_values(\"value_strength\", ascending=True)[[\"key_strength\", \"value_strength\", \"value_time\"]])\n",
    "    \n",
    "    plt.show()"
   ],
   "id": "c8529bfc40254dee",
   "outputs": [],
   "execution_count": 95
  },
  {
   "metadata": {
    "ExecuteTime": {
     "end_time": "2025-01-21T23:14:20.262322Z",
     "start_time": "2025-01-21T23:14:16.602683Z"
    }
   },
   "cell_type": "code",
   "source": "make_pareto_frontier(bound_df)",
   "id": "8897766ff02cb489",
   "outputs": [
    {
     "name": "stdout",
     "output_type": "stream",
     "text": [
      "         key_strength  value_strength  value_time\n",
      "0    Root Cuts (None)        0.401632    0.118526\n",
      "3  Root Cuts (Farkas)        0.493261    0.129379\n",
      "2     Root Cuts (Old)        0.508308    0.178960\n",
      "1     Root Cuts (New)        0.508432    0.260163\n"
     ]
    },
    {
     "data": {
      "text/plain": [
       "<Figure size 800x600 with 1 Axes>"
      ],
      "image/png": "[encoded data removed]"
     },
     "metadata": {},
     "output_type": "display_data"
    }
   ],
   "execution_count": 96
  },
  {
   "cell_type": "markdown",
   "source": "## Check Termination Stats",
   "metadata": {
    "collapsed": false
   },
   "id": "33cb2bd47f9b2e99"
  },
  {
   "cell_type": "code",
   "source": [
    "# only check perturbed instances that solve to optimality and VPC didn't find optimal solution\n",
    "mask = (df[\"Disjunction (New)\"] < .9999) & (df[\"instanceIndex\"] > 0) & (optimality_gap(df, \"New\") <= 1e-4) & \\\n",
    "    (optimality_gap(df, \"None\") <= 1e-4) & (optimality_gap(df, \"Farkas\") <= 1e-4) & \\\n",
    "       (df[\"terminationTime None\"] > min_termination_time)\n",
    "if remove_status_changes:\n",
    "    mask = mask & (df[\"infeasibleToFeasibleTermsRatio Farkas\"] == 0) & (df[\"feasibleToInfeasibleTermsRatio Farkas\"] == 0)\n",
    "\n",
    "gap_df = df.loc[mask]"
   ],
   "metadata": {
    "collapsed": false,
    "ExecuteTime": {
     "end_time": "2025-01-21T23:14:36.302024Z",
     "start_time": "2025-01-21T23:14:36.260579Z"
    }
   },
   "id": "5a0a95a0fc78bc1e",
   "outputs": [],
   "execution_count": 97
  },
  {
   "metadata": {
    "ExecuteTime": {
     "end_time": "2025-01-21T23:14:36.827054Z",
     "start_time": "2025-01-21T23:14:36.818221Z"
    }
   },
   "cell_type": "code",
   "source": "gap_df.head()",
   "id": "86e9a6cb6d246e6f",
   "outputs": [
    {
     "data": {
      "text/plain": [
       "   instanceIndex  seedIndex vpcGenerator None  terms  lpBound None  \\\n",
       "1              1          4              None      4     21.201484   \n",
       "2              2          4              None      4     20.570922   \n",
       "3              3          4              None      4     20.570922   \n",
       "4              4          4              None      4     20.570922   \n",
       "5              5          4              None      4     20.570922   \n",
       "\n",
       "   disjunctiveDualBound None  lpBoundPostVpc None  rootDualBound None  \\\n",
       "1                  21.201484            21.201484           26.409019   \n",
       "2                  20.570922            20.570922           25.259724   \n",
       "3                  20.570922            20.570922           26.427088   \n",
       "4                  20.570922            20.570922           26.427088   \n",
       "5                  20.570922            20.570922           26.427088   \n",
       "\n",
       "   dualBound None  primalBound None  ...  zeroInfeasibleToFeasibleTerms New  \\\n",
       "1            34.0              34.0  ...                               True   \n",
       "2            34.0              34.0  ...                               True   \n",
       "3            34.0              34.0  ...                               True   \n",
       "4            34.0              34.0  ...                               True   \n",
       "5            34.0              34.0  ...                               True   \n",
       "\n",
       "   feasibleToInfeasibleTermsRatio New  infeasibleTermsRatio Old  \\\n",
       "1                                 0.0                       0.0   \n",
       "2                                 0.0                       0.0   \n",
       "3                                 0.0                       0.0   \n",
       "4                                 0.0                       0.0   \n",
       "5                                 0.0                       0.0   \n",
       "\n",
       "   infeasibleToFeasibleTermsRatio Old  zeroInfeasibleToFeasibleTerms Old  \\\n",
       "1                                 0.0                               True   \n",
       "2                                 0.0                               True   \n",
       "3                                 0.0                               True   \n",
       "4                                 0.0                               True   \n",
       "5                                 0.0                               True   \n",
       "\n",
       "   feasibleToInfeasibleTermsRatio Old  infeasibleTermsRatio Farkas  \\\n",
       "1                                 0.0                          0.0   \n",
       "2                                 0.0                          0.0   \n",
       "3                                 0.0                          0.0   \n",
       "4                                 0.0                          0.0   \n",
       "5                                 0.0                          0.0   \n",
       "\n",
       "   infeasibleToFeasibleTermsRatio Farkas  \\\n",
       "1                                    0.0   \n",
       "2                                    0.0   \n",
       "3                                    0.0   \n",
       "4                                    0.0   \n",
       "5                                    0.0   \n",
       "\n",
       "   zeroInfeasibleToFeasibleTerms Farkas  feasibleToInfeasibleTermsRatio Farkas  \n",
       "1                                  True                                    0.0  \n",
       "2                                  True                                    0.0  \n",
       "3                                  True                                    0.0  \n",
       "4                                  True                                    0.0  \n",
       "5                                  True                                    0.0  \n",
       "\n",
       "[5 rows x 161 columns]"
      ],
      "text/html": [
       "<div>\n",
       "<style scoped>\n",
       "    .dataframe tbody tr th:only-of-type {\n",
       "        vertical-align: middle;\n",
       "    }\n",
       "\n",
       "    .dataframe tbody tr th {\n",
       "        vertical-align: top;\n",
       "    }\n",
       "\n",
       "    .dataframe thead th {\n",
       "        text-align: right;\n",
       "    }\n",
       "</style>\n",
       "<table border=\"1\" class=\"dataframe\">\n",
       "  <thead>\n",
       "    <tr style=\"text-align: right;\">\n",
       "      <th></th>\n",
       "      <th>instanceIndex</th>\n",
       "      <th>seedIndex</th>\n",
       "      <th>vpcGenerator None</th>\n",
       "      <th>terms</th>\n",
       "      <th>lpBound None</th>\n",
       "      <th>disjunctiveDualBound None</th>\n",
       "      <th>lpBoundPostVpc None</th>\n",
       "      <th>rootDualBound None</th>\n",
       "      <th>dualBound None</th>\n",
       "      <th>primalBound None</th>\n",
       "      <th>...</th>\n",
       "      <th>zeroInfeasibleToFeasibleTerms New</th>\n",
       "      <th>feasibleToInfeasibleTermsRatio New</th>\n",
       "      <th>infeasibleTermsRatio Old</th>\n",
       "      <th>infeasibleToFeasibleTermsRatio Old</th>\n",
       "      <th>zeroInfeasibleToFeasibleTerms Old</th>\n",
       "      <th>feasibleToInfeasibleTermsRatio Old</th>\n",
       "      <th>infeasibleTermsRatio Farkas</th>\n",
       "      <th>infeasibleToFeasibleTermsRatio Farkas</th>\n",
       "      <th>zeroInfeasibleToFeasibleTerms Farkas</th>\n",
       "      <th>feasibleToInfeasibleTermsRatio Farkas</th>\n",
       "    </tr>\n",
       "  </thead>\n",
       "  <tbody>\n",
       "    <tr>\n",
       "      <th>1</th>\n",
       "      <td>1</td>\n",
       "      <td>4</td>\n",
       "      <td>None</td>\n",
       "      <td>4</td>\n",
       "      <td>21.201484</td>\n",
       "      <td>21.201484</td>\n",
       "      <td>21.201484</td>\n",
       "      <td>26.409019</td>\n",
       "      <td>34.0</td>\n",
       "      <td>34.0</td>\n",
       "      <td>...</td>\n",
       "      <td>True</td>\n",
       "      <td>0.0</td>\n",
       "      <td>0.0</td>\n",
       "      <td>0.0</td>\n",
       "      <td>True</td>\n",
       "      <td>0.0</td>\n",
       "      <td>0.0</td>\n",
       "      <td>0.0</td>\n",
       "      <td>True</td>\n",
       "      <td>0.0</td>\n",
       "    </tr>\n",
       "    <tr>\n",
       "      <th>2</th>\n",
       "      <td>2</td>\n",
       "      <td>4</td>\n",
       "      <td>None</td>\n",
       "      <td>4</td>\n",
       "      <td>20.570922</td>\n",
       "      <td>20.570922</td>\n",
       "      <td>20.570922</td>\n",
       "      <td>25.259724</td>\n",
       "      <td>34.0</td>\n",
       "      <td>34.0</td>\n",
       "      <td>...</td>\n",
       "      <td>True</td>\n",
       "      <td>0.0</td>\n",
       "      <td>0.0</td>\n",
       "      <td>0.0</td>\n",
       "      <td>True</td>\n",
       "      <td>0.0</td>\n",
       "      <td>0.0</td>\n",
       "      <td>0.0</td>\n",
       "      <td>True</td>\n",
       "      <td>0.0</td>\n",
       "    </tr>\n",
       "    <tr>\n",
       "      <th>3</th>\n",
       "      <td>3</td>\n",
       "      <td>4</td>\n",
       "      <td>None</td>\n",
       "      <td>4</td>\n",
       "      <td>20.570922</td>\n",
       "      <td>20.570922</td>\n",
       "      <td>20.570922</td>\n",
       "      <td>26.427088</td>\n",
       "      <td>34.0</td>\n",
       "      <td>34.0</td>\n",
       "      <td>...</td>\n",
       "      <td>True</td>\n",
       "      <td>0.0</td>\n",
       "      <td>0.0</td>\n",
       "      <td>0.0</td>\n",
       "      <td>True</td>\n",
       "      <td>0.0</td>\n",
       "      <td>0.0</td>\n",
       "      <td>0.0</td>\n",
       "      <td>True</td>\n",
       "      <td>0.0</td>\n",
       "    </tr>\n",
       "    <tr>\n",
       "      <th>4</th>\n",
       "      <td>4</td>\n",
       "      <td>4</td>\n",
       "      <td>None</td>\n",
       "      <td>4</td>\n",
       "      <td>20.570922</td>\n",
       "      <td>20.570922</td>\n",
       "      <td>20.570922</td>\n",
       "      <td>26.427088</td>\n",
       "      <td>34.0</td>\n",
       "      <td>34.0</td>\n",
       "      <td>...</td>\n",
       "      <td>True</td>\n",
       "      <td>0.0</td>\n",
       "      <td>0.0</td>\n",
       "      <td>0.0</td>\n",
       "      <td>True</td>\n",
       "      <td>0.0</td>\n",
       "      <td>0.0</td>\n",
       "      <td>0.0</td>\n",
       "      <td>True</td>\n",
       "      <td>0.0</td>\n",
       "    </tr>\n",
       "    <tr>\n",
       "      <th>5</th>\n",
       "      <td>5</td>\n",
       "      <td>4</td>\n",
       "      <td>None</td>\n",
       "      <td>4</td>\n",
       "      <td>20.570922</td>\n",
       "      <td>20.570922</td>\n",
       "      <td>20.570922</td>\n",
       "      <td>26.427088</td>\n",
       "      <td>34.0</td>\n",
       "      <td>34.0</td>\n",
       "      <td>...</td>\n",
       "      <td>True</td>\n",
       "      <td>0.0</td>\n",
       "      <td>0.0</td>\n",
       "      <td>0.0</td>\n",
       "      <td>True</td>\n",
       "      <td>0.0</td>\n",
       "      <td>0.0</td>\n",
       "      <td>0.0</td>\n",
       "      <td>True</td>\n",
       "      <td>0.0</td>\n",
       "    </tr>\n",
       "  </tbody>\n",
       "</table>\n",
       "<p>5 rows × 161 columns</p>\n",
       "</div>"
      ]
     },
     "execution_count": 98,
     "metadata": {},
     "output_type": "execute_result"
    }
   ],
   "execution_count": 98
  },
  {
   "metadata": {
    "ExecuteTime": {
     "end_time": "2025-01-21T23:14:42.358268Z",
     "start_time": "2025-01-21T23:14:42.344494Z"
    }
   },
   "cell_type": "code",
   "source": [
    "def plot_distributions(histogram_df, feature, bins=100, xlim=(-2, 1), perturbation=None, exclude_perturbation=False, title_x=.5):\n",
    "    \"\"\"\n",
    "    Generate a grid of cumulative distribution functions (CDFs) for a given feature,\n",
    "    one for each combination of terms and degrees.\n",
    "\n",
    "    :param histogram_df: DataFrame containing the data\n",
    "    :param feature: The feature to plot (as relative improvement)\n",
    "    :param bins: Number of bins in each histogram (only for 'pmf')\n",
    "    :param xlim: Tuple for the x-axis limits\n",
    "    :param perturbation: Specific perturbation to filter for\n",
    "    :param exclude_perturbation: If True, excludes the perturbation instead of including it\n",
    "    \"\"\"\n",
    "\n",
    "    # Unique values in 'degree' and 'terms'\n",
    "    unique_degrees = histogram_df['degree'].sort_values(ascending=False).unique()\n",
    "    unique_terms = histogram_df['terms'].sort_values().unique()\n",
    "\n",
    "    # Create subplots for the grid\n",
    "    fig, axes = plt.subplots(len(unique_degrees), len(unique_terms),\n",
    "                             figsize=(4 * len(unique_terms), 4 * len(unique_degrees)))\n",
    "\n",
    "    for i, degree in enumerate(unique_degrees):\n",
    "        for j, terms in enumerate(unique_terms):\n",
    "            ax = axes[i, j] if len(unique_degrees) > 1 and len(unique_terms) > 1 else axes[i] if len(unique_degrees) > 1\\\n",
    "                else axes[j] if len(unique_terms) > 1 else axes\n",
    "\n",
    "            # Filter the DataFrame based on 'degree' and 'terms'\n",
    "            subset_df = histogram_df[(histogram_df['degree'] == degree) & (histogram_df['terms'] == terms)]\n",
    "\n",
    "            # Filter or exclude specific perturbation type\n",
    "            if perturbation is not None:\n",
    "                subset_df = subset_df[subset_df[\"perturbation\"] == perturbation] if not exclude_perturbation \\\n",
    "                    else subset_df[subset_df[\"perturbation\"] != perturbation]\n",
    "\n",
    "            # Compute relative improvements\n",
    "            relative_improvements = {\n",
    "                \"Farkas\": -(subset_df[f\"{feature} None\"] - subset_df[f\"{feature} Farkas\"]) / subset_df[f\"{feature} None\"],\n",
    "                \"New\": -(subset_df[f\"{feature} None\"] - subset_df[f\"{feature} New\"]) / subset_df[f\"{feature} None\"],\n",
    "                \"Old\": -(subset_df[f\"{feature} None\"] - subset_df[f\"{feature} Old\"]) / subset_df[f\"{feature} None\"]\n",
    "            }\n",
    "\n",
    "            # Compute CDFs\n",
    "            x = np.linspace(xlim[0], xlim[1], bins)\n",
    "            y_farkas = [(relative_improvements[\"Farkas\"] <= val).sum() / len(relative_improvements[\"Farkas\"]) for val in x]\n",
    "            y_new = [(relative_improvements[\"New\"] <= val).sum() / len(relative_improvements[\"New\"]) for val in x]\n",
    "            y_old = [(relative_improvements[\"Old\"] <= val).sum() / len(relative_improvements[\"Old\"]) for val in x]\n",
    "\n",
    "            ax.plot(x, y_farkas, label=cat_map[\"Farkas\"], color=\"blue\")\n",
    "            ax.plot(x, y_new, label=cat_map[\"New\"], color=\"green\")\n",
    "            ax.plot(x, y_old, label=cat_map[\"Old\"], color=\"orange\")\n",
    "\n",
    "            # Highlight the region where Farkas is better than both New and Old\n",
    "            fill_region = [y_farkas[k] > max(y_new[k], y_old[k]) for k in range(len(x))]\n",
    "            ax.fill_between(x, np.maximum(y_new, y_old), y_farkas, where=fill_region,\n",
    "                            facecolor='yellow', alpha=0.3,\n",
    "                            label=f'Improvement from\\n{cat_map[\"Farkas\"]}')\n",
    "        \n",
    "            # Set plot limits and labels\n",
    "            ax.set_xlim(xlim)\n",
    "            ax.set_ylim(0, 1)\n",
    "            ax.set_title(f\"{degree} Degree{'s' if degree > 1 else ''}, {terms} Terms\")\n",
    "            if j == 0:\n",
    "                ax.set_ylabel(\"Probability\")\n",
    "            if i == len(unique_degrees) - 1:\n",
    "                ax.set_xlabel(\"Relative Change\")\n",
    "\n",
    "    # Add a common legend at the bottom\n",
    "    handles, labels = ax.get_legend_handles_labels()\n",
    "    fig.legend(handles, labels, loc='lower center', bbox_to_anchor=(title_x, -0.05), ncol=5)\n",
    "\n",
    "    # Adjust layout and add a title\n",
    "    fig.suptitle(f\"CDF of Relative Change in Solve {label[feature]}\", x=title_x)\n",
    "    plt.tight_layout()\n",
    "    \n",
    "    # Save the figure with tight layout\n",
    "    plt.savefig(os.path.join(out_fldr, f\"cdf_{feature}.png\"), dpi=1200, bbox_inches='tight')\n",
    "\n",
    "    # Show the plot\n",
    "    plt.show()"
   ],
   "id": "b84d581e6a2eb9b",
   "outputs": [],
   "execution_count": 99
  },
  {
   "metadata": {
    "ExecuteTime": {
     "end_time": "2025-01-21T23:14:52.909460Z",
     "start_time": "2025-01-21T23:14:44.976698Z"
    }
   },
   "cell_type": "code",
   "source": "plot_distributions(gap_df, \"terminationTime\", xlim=(-1, 2), title_x=.525)",
   "id": "d17114b810d0d2b",
   "outputs": [
    {
     "data": {
      "text/plain": [
       "<Figure size 1200x800 with 6 Axes>"
      ],
      "image/png": "[encoded data removed]"
     },
     "metadata": {},
     "output_type": "display_data"
    }
   ],
   "execution_count": 100
  },
  {
   "metadata": {
    "ExecuteTime": {
     "end_time": "2025-01-21T23:15:03.706227Z",
     "start_time": "2025-01-21T23:15:03.672723Z"
    }
   },
   "cell_type": "code",
   "source": [
    "def plot_distributions_by_parameter(histogram_df, feature, plot_by='terms', bins=100, xlim=(-1, 2), perturbation=None, exclude_perturbation=False, title_x=.5):\n",
    "    \"\"\"\n",
    "    Generate a grid of histograms or cumulative distribution functions (CDFs) for a given feature,\n",
    "    one for each combination of terms and degrees, or group by a specific feature.\n",
    "\n",
    "    :param histogram_df: DataFrame containing the data\n",
    "    :param feature: The feature to plot (as relative improvement)\n",
    "    :param kind: 'pmf' for probability mass function, 'cdf' for cumulative distribution functions\n",
    "    :param bins: Number of bins in each histogram (only for 'pmf')\n",
    "    :param xlim: Tuple for the x-axis limits\n",
    "    :param perturbation: Specific perturbation to filter for\n",
    "    :param exclude_perturbation: If True, excludes the perturbation instead of including it\n",
    "    :param plot_by: 'degree' or 'terms' to determine the grouping variable for the plots\n",
    "    \"\"\"\n",
    "\n",
    "    plt.rc('text', usetex=True)  # Use LaTeX fonts\n",
    "\n",
    "    # Unique values for plotting\n",
    "    unique_by = histogram_df[plot_by].sort_values().unique()\n",
    "    unique_subplots = histogram_df['terms'].sort_values().unique() if plot_by == 'degree' else histogram_df['degree'].sort_values().unique()\n",
    "\n",
    "    # Create subplots for the grid\n",
    "    fig, axes = plt.subplots(1, len(unique_subplots), figsize=(5 * len(unique_subplots), 5), squeeze=False)\n",
    "\n",
    "    for idx, subplot_val in enumerate(unique_subplots):\n",
    "        ax = axes[0, idx]\n",
    "\n",
    "        # Filter DataFrame for the subplot variable\n",
    "        subplot_filter = (histogram_df['terms'] == subplot_val) if plot_by == 'degree' else (histogram_df['degree'] == subplot_val)\n",
    "        subset_df = histogram_df[subplot_filter]\n",
    "\n",
    "        # Filter or exclude specific perturbation type\n",
    "        if perturbation is not None:\n",
    "            subset_df = subset_df[subset_df[\"perturbation\"] == perturbation] if not exclude_perturbation \\\n",
    "                else subset_df[subset_df[\"perturbation\"] != perturbation]\n",
    "\n",
    "        x = np.linspace(xlim[0], xlim[1], bins)\n",
    "        for by_val in unique_by:\n",
    "            by_filter = (subset_df[plot_by] == by_val)\n",
    "            relative_improvement = (\n",
    "                (subset_df.loc[by_filter, f\"{feature} Farkas\"] - subset_df.loc[by_filter, f\"{feature} None\"])\n",
    "                / subset_df.loc[by_filter, f\"{feature} None\"]\n",
    "            )\n",
    "            y_cdf = [(relative_improvement <= val).sum() / len(relative_improvement) for val in x]\n",
    "            ax.plot(x, y_cdf, label=f\" {by_val} {plot_by.title() + ('s' if by_val > 1 and plot_by == 'degree' else '')}\")\n",
    "\n",
    "        # Set plot limits, labels, and title\n",
    "        ax.set_xlim(xlim)\n",
    "        ax.set_ylim(0, 1)\n",
    "        ax.set_title(f\"{subplot_val} {'Terms' if plot_by == 'degree' else 'Degree' + ('s' if subplot_val > 1 else '')}\")\n",
    "        if idx == 0:\n",
    "            ax.set_ylabel(\"Probability\")\n",
    "        ax.set_xlabel(\"Relative Change\")\n",
    "\n",
    "    # Add a common legend at the bottom\n",
    "    handles, labels = ax.get_legend_handles_labels()\n",
    "    fig.legend(handles, labels, loc='lower center', bbox_to_anchor=(title_x, -0.05), ncol=5)\n",
    "\n",
    "    # Adjust layout and add a title4a\n",
    "    fig.suptitle(f\"CDF of Relative Change in Solve {label[feature]} for {cat_map['Farkas']}\\nby {param_map['degree' if plot_by == 'terms' else 'terms']}\", x=title_x)\n",
    "    plt.tight_layout()\n",
    "    \n",
    "    # Save the figure with tight layout\n",
    "    plt.savefig(os.path.join(out_fldr, f\"cdf_{feature}_{'degree' if plot_by == 'terms' else 'terms'}.png\"), dpi=1200, bbox_inches='tight')\n",
    "    \n",
    "    # Show the plot\n",
    "    plt.show()"
   ],
   "id": "9f09486cdfd773ac",
   "outputs": [],
   "execution_count": 101
  },
  {
   "metadata": {
    "ExecuteTime": {
     "end_time": "2025-01-21T23:15:11.141979Z",
     "start_time": "2025-01-21T23:15:05.415841Z"
    }
   },
   "cell_type": "code",
   "source": "plot_distributions_by_parameter(gap_df, \"terminationTime\", plot_by='terms', title_x=.5315)",
   "id": "d682dddc5f252c2c",
   "outputs": [
    {
     "data": {
      "text/plain": [
       "<Figure size 1000x500 with 2 Axes>"
      ],
      "image/png": "[encoded data removed]"
     },
     "metadata": {},
     "output_type": "display_data"
    }
   ],
   "execution_count": 102
  },
  {
   "metadata": {
    "ExecuteTime": {
     "end_time": "2025-01-21T23:15:16.655830Z",
     "start_time": "2025-01-21T23:15:11.167436Z"
    }
   },
   "cell_type": "code",
   "source": "plot_distributions_by_parameter(gap_df, \"terminationTime\", plot_by='degree', title_x=.52)",
   "id": "ae006bc57fe031c6",
   "outputs": [
    {
     "data": {
      "text/plain": [
       "<Figure size 1500x500 with 3 Axes>"
      ],
      "image/png": "[encoded data removed]"
     },
     "metadata": {},
     "output_type": "display_data"
    }
   ],
   "execution_count": 103
  },
  {
   "metadata": {
    "ExecuteTime": {
     "end_time": "2025-01-21T23:15:24.355683Z",
     "start_time": "2025-01-21T23:15:24.352632Z"
    }
   },
   "cell_type": "code",
   "source": [
    "def rename_cols(cols, feature):\n",
    "    new_cols = []\n",
    "    for col in cols:\n",
    "        if f\"{feature}Win\" in col:\n",
    "            col = col.replace(f\"{feature}Win\", f\"{label[feature]} Win % \")\n",
    "        elif \"instanceIndex\" in col:\n",
    "            col = col.replace(\"instanceIndex\", \"Test Instances\")\n",
    "        elif \"instance\" in col:\n",
    "            col = col.replace(\"instance\", \"Base Instances\")\n",
    "        new_cols.append(col)\n",
    "    return new_cols"
   ],
   "id": "79db9b7772771f81",
   "outputs": [],
   "execution_count": 104
  },
  {
   "metadata": {
    "ExecuteTime": {
     "end_time": "2025-01-21T23:15:24.891139Z",
     "start_time": "2025-01-21T23:15:24.815192Z"
    }
   },
   "cell_type": "code",
   "source": [
    "# get the win percentages for each feature on average and broken down by grouping type\n",
    "features = [\"nodes\", \"terminationTime\", \"terminationTimeSansVpc\"]\n",
    "\n",
    "wins = {}\n",
    "\n",
    "for feature in features:\n",
    "    \n",
    "    # define aggregating operations\n",
    "    aggregations = {f\"{feature}WinFarkas\": \"mean\", f\"{feature}WinNone\": \"mean\"}\n",
    "    if feature == features[-1]:\n",
    "        aggregations = aggregations | {\"instance\": \"nunique\", \"instanceIndex\": \"count\"}\n",
    "    \n",
    "    # find the average wins for the feature grouped by degree and terms\n",
    "    feature_wins = gap_df[gap_df[\"perturbation\"] != \"bound\"].groupby([\"degree\", \"terms\"]).agg(aggregations)\n",
    "    \n",
    "    # clean up formatting\n",
    "    feature_wins.columns = rename_cols(feature_wins.columns, feature)\n",
    "    win_cols = [c for c in feature_wins.columns if \"Win\" in c]\n",
    "    feature_wins[win_cols] = feature_wins[win_cols].applymap(lambda x: round(x * 100, 2))\n",
    "    instance_cols = [c for c in feature_wins.columns if \"instance\" in c]\n",
    "    feature_wins[instance_cols] = feature_wins[instance_cols].applymap(lambda x: int(x))\n",
    "    \n",
    "    # save the df\n",
    "    wins[feature] = feature_wins\n",
    "    \n",
    "# bring them all together now\n",
    "all_wins = pd.concat(wins.values(), axis=1)\n",
    "all_wins.reset_index().to_csv(os.path.join(out_fldr, f\"branch_and_bound_wins.csv\"), index=False, mode=\"w\")\n",
    "all_wins"
   ],
   "id": "220e8b1b0b7b777c",
   "outputs": [
    {
     "data": {
      "text/plain": [
       "              Nodes Processed Win % Farkas  Nodes Processed Win % None  \\\n",
       "degree terms                                                             \n",
       "0.5    4                             44.33                       35.67   \n",
       "       16                            50.43                       30.17   \n",
       "       64                            24.50                       53.49   \n",
       "2.0    4                             42.10                       42.07   \n",
       "       16                            43.53                       41.03   \n",
       "       64                            42.16                       38.31   \n",
       "\n",
       "              Time Win % Farkas  Time Win % None  \\\n",
       "degree terms                                       \n",
       "0.5    4                  54.43            22.97   \n",
       "       16                 41.07            34.50   \n",
       "       64                  6.97            67.81   \n",
       "2.0    4                  32.50            39.13   \n",
       "       16                 22.57            45.27   \n",
       "       64                 10.08            70.03   \n",
       "\n",
       "              Time (Minus VPC Generation) Win % Farkas  \\\n",
       "degree terms                                             \n",
       "0.5    4                                         58.63   \n",
       "       16                                        56.17   \n",
       "       64                                        62.74   \n",
       "2.0    4                                         38.23   \n",
       "       16                                        42.63   \n",
       "       64                                        66.07   \n",
       "\n",
       "              Time (Minus VPC Generation) Win % None  Base Instances  \\\n",
       "degree terms                                                           \n",
       "0.5    4                                       20.20               1   \n",
       "       16                                      21.10               1   \n",
       "       64                                      12.76               1   \n",
       "2.0    4                                       34.03               1   \n",
       "       16                                      27.10               1   \n",
       "       64                                      10.98               1   \n",
       "\n",
       "              Test Instances  \n",
       "degree terms                  \n",
       "0.5    4                3000  \n",
       "       16               3000  \n",
       "       64               2625  \n",
       "2.0    4                3000  \n",
       "       16               3000  \n",
       "       64               1895  "
      ],
      "text/html": [
       "<div>\n",
       "<style scoped>\n",
       "    .dataframe tbody tr th:only-of-type {\n",
       "        vertical-align: middle;\n",
       "    }\n",
       "\n",
       "    .dataframe tbody tr th {\n",
       "        vertical-align: top;\n",
       "    }\n",
       "\n",
       "    .dataframe thead th {\n",
       "        text-align: right;\n",
       "    }\n",
       "</style>\n",
       "<table border=\"1\" class=\"dataframe\">\n",
       "  <thead>\n",
       "    <tr style=\"text-align: right;\">\n",
       "      <th></th>\n",
       "      <th></th>\n",
       "      <th>Nodes Processed Win % Farkas</th>\n",
       "      <th>Nodes Processed Win % None</th>\n",
       "      <th>Time Win % Farkas</th>\n",
       "      <th>Time Win % None</th>\n",
       "      <th>Time (Minus VPC Generation) Win % Farkas</th>\n",
       "      <th>Time (Minus VPC Generation) Win % None</th>\n",
       "      <th>Base Instances</th>\n",
       "      <th>Test Instances</th>\n",
       "    </tr>\n",
       "    <tr>\n",
       "      <th>degree</th>\n",
       "      <th>terms</th>\n",
       "      <th></th>\n",
       "      <th></th>\n",
       "      <th></th>\n",
       "      <th></th>\n",
       "      <th></th>\n",
       "      <th></th>\n",
       "      <th></th>\n",
       "      <th></th>\n",
       "    </tr>\n",
       "  </thead>\n",
       "  <tbody>\n",
       "    <tr>\n",
       "      <th rowspan=\"3\" valign=\"top\">0.5</th>\n",
       "      <th>4</th>\n",
       "      <td>44.33</td>\n",
       "      <td>35.67</td>\n",
       "      <td>54.43</td>\n",
       "      <td>22.97</td>\n",
       "      <td>58.63</td>\n",
       "      <td>20.20</td>\n",
       "      <td>1</td>\n",
       "      <td>3000</td>\n",
       "    </tr>\n",
       "    <tr>\n",
       "      <th>16</th>\n",
       "      <td>50.43</td>\n",
       "      <td>30.17</td>\n",
       "      <td>41.07</td>\n",
       "      <td>34.50</td>\n",
       "      <td>56.17</td>\n",
       "      <td>21.10</td>\n",
       "      <td>1</td>\n",
       "      <td>3000</td>\n",
       "    </tr>\n",
       "    <tr>\n",
       "      <th>64</th>\n",
       "      <td>24.50</td>\n",
       "      <td>53.49</td>\n",
       "      <td>6.97</td>\n",
       "      <td>67.81</td>\n",
       "      <td>62.74</td>\n",
       "      <td>12.76</td>\n",
       "      <td>1</td>\n",
       "      <td>2625</td>\n",
       "    </tr>\n",
       "    <tr>\n",
       "      <th rowspan=\"3\" valign=\"top\">2.0</th>\n",
       "      <th>4</th>\n",
       "      <td>42.10</td>\n",
       "      <td>42.07</td>\n",
       "      <td>32.50</td>\n",
       "      <td>39.13</td>\n",
       "      <td>38.23</td>\n",
       "      <td>34.03</td>\n",
       "      <td>1</td>\n",
       "      <td>3000</td>\n",
       "    </tr>\n",
       "    <tr>\n",
       "      <th>16</th>\n",
       "      <td>43.53</td>\n",
       "      <td>41.03</td>\n",
       "      <td>22.57</td>\n",
       "      <td>45.27</td>\n",
       "      <td>42.63</td>\n",
       "      <td>27.10</td>\n",
       "      <td>1</td>\n",
       "      <td>3000</td>\n",
       "    </tr>\n",
       "    <tr>\n",
       "      <th>64</th>\n",
       "      <td>42.16</td>\n",
       "      <td>38.31</td>\n",
       "      <td>10.08</td>\n",
       "      <td>70.03</td>\n",
       "      <td>66.07</td>\n",
       "      <td>10.98</td>\n",
       "      <td>1</td>\n",
       "      <td>1895</td>\n",
       "    </tr>\n",
       "  </tbody>\n",
       "</table>\n",
       "</div>"
      ]
     },
     "execution_count": 105,
     "metadata": {},
     "output_type": "execute_result"
    }
   ],
   "execution_count": 105
  },
  {
   "cell_type": "code",
   "source": [
    "def aggregate_wins(gap_df, feature, grouping):\n",
    "\n",
    "    def custom_key(col):\n",
    "        # bump improvement columns second to win percentage columns\n",
    "        offset = int(\"Improvement %\" in col)\n",
    "        # check groupings\n",
    "        if 'matrix' in col or 'short' in col:\n",
    "            return (2 + offset, col)\n",
    "        elif 'objective' in col or 'medium' in col:\n",
    "            return (4 + offset, col)\n",
    "        elif 'rhs' in col or 'long' in col:\n",
    "            return (6 + offset, col)    \n",
    "        return (offset, col)\n",
    "    \n",
    "    # find the average wins for the feature grouped by degree, terms and grouping type\n",
    "    win_aggregations = {f\"{feature}WinFarkas\": \"mean\", f\"{feature}WinNone\": \"mean\"}\n",
    "    feature_wins = gap_df[gap_df[\"perturbation\"] != \"bound\"].groupby([\"degree\", \"terms\", grouping]).agg(win_aggregations).reset_index().pivot(\n",
    "        index=['degree', 'terms'], columns=grouping, values=[f\"{feature}WinFarkas\", f\"{feature}WinNone\"]\n",
    "    )\n",
    "    feature_wins.columns = rename_cols([' '.join(col).strip() for col in feature_wins.columns.values], feature)\n",
    "    feature_wins = feature_wins[sorted(feature_wins.columns, key=custom_key)]\n",
    "    feature_wins = feature_wins.applymap(lambda x: round(x * 100, 2))\n",
    "    \n",
    "    # get the counts for the feature grouped by degree, terms and grouping type\n",
    "    count_aggregations = {\"instance\": \"nunique\", \"instanceIndex\": \"count\"}\n",
    "    feature_counts = gap_df[gap_df[\"perturbation\"] != \"bound\"].groupby([\"degree\", \"terms\", grouping]).agg(count_aggregations).reset_index().pivot(\n",
    "        index=['degree', 'terms'], columns=grouping, values=[\"instance\", \"instanceIndex\"]\n",
    "    )\n",
    "    feature_counts.columns = rename_cols([' '.join(col).strip() for col in feature_counts.columns.values], feature)\n",
    "    feature_counts = feature_counts[sorted(feature_counts.columns, key=custom_key)]\n",
    "    feature_counts = feature_counts.applymap(lambda x: int(x))\n",
    "    \n",
    "    # save wins, base instance counts, and test instance counts to csv\n",
    "    feature_wins.reset_index().to_csv(os.path.join(out_fldr, f\"branch_and_bound_wins_{feature}_{grouping}.csv\"), index=False, mode=\"w\")\n",
    "    feature_counts.reset_index().to_csv(os.path.join(out_fldr, f\"branch_and_bound_counts_{grouping}.csv\"), index=False, mode=\"w\")\n",
    "    \n",
    "    return feature_wins, feature_counts"
   ],
   "metadata": {
    "collapsed": false,
    "ExecuteTime": {
     "end_time": "2025-01-21T23:16:22.645357Z",
     "start_time": "2025-01-21T23:16:22.625679Z"
    }
   },
   "id": "42b6e0b668cb6b83",
   "outputs": [],
   "execution_count": 106
  },
  {
   "metadata": {
    "ExecuteTime": {
     "end_time": "2025-01-21T23:16:23.304896Z",
     "start_time": "2025-01-21T23:16:23.238684Z"
    }
   },
   "cell_type": "code",
   "source": [
    "wins, counts = aggregate_wins(gap_df, \"terminationTimeSansVpc\", \"bracket\")\n",
    "wins"
   ],
   "id": "49231c3c08e17ba9",
   "outputs": [
    {
     "data": {
      "text/plain": [
       "              Time (Minus VPC Generation) Win % Farkas short  \\\n",
       "degree terms                                                   \n",
       "0.5    4                                               58.63   \n",
       "       16                                              56.17   \n",
       "       64                                              62.74   \n",
       "2.0    4                                               38.23   \n",
       "       16                                              42.63   \n",
       "       64                                              66.07   \n",
       "\n",
       "              Time (Minus VPC Generation) Win % None short  \n",
       "degree terms                                                \n",
       "0.5    4                                             20.20  \n",
       "       16                                            21.10  \n",
       "       64                                            12.76  \n",
       "2.0    4                                             34.03  \n",
       "       16                                            27.10  \n",
       "       64                                            10.98  "
      ],
      "text/html": [
       "<div>\n",
       "<style scoped>\n",
       "    .dataframe tbody tr th:only-of-type {\n",
       "        vertical-align: middle;\n",
       "    }\n",
       "\n",
       "    .dataframe tbody tr th {\n",
       "        vertical-align: top;\n",
       "    }\n",
       "\n",
       "    .dataframe thead th {\n",
       "        text-align: right;\n",
       "    }\n",
       "</style>\n",
       "<table border=\"1\" class=\"dataframe\">\n",
       "  <thead>\n",
       "    <tr style=\"text-align: right;\">\n",
       "      <th></th>\n",
       "      <th></th>\n",
       "      <th>Time (Minus VPC Generation) Win % Farkas short</th>\n",
       "      <th>Time (Minus VPC Generation) Win % None short</th>\n",
       "    </tr>\n",
       "    <tr>\n",
       "      <th>degree</th>\n",
       "      <th>terms</th>\n",
       "      <th></th>\n",
       "      <th></th>\n",
       "    </tr>\n",
       "  </thead>\n",
       "  <tbody>\n",
       "    <tr>\n",
       "      <th rowspan=\"3\" valign=\"top\">0.5</th>\n",
       "      <th>4</th>\n",
       "      <td>58.63</td>\n",
       "      <td>20.20</td>\n",
       "    </tr>\n",
       "    <tr>\n",
       "      <th>16</th>\n",
       "      <td>56.17</td>\n",
       "      <td>21.10</td>\n",
       "    </tr>\n",
       "    <tr>\n",
       "      <th>64</th>\n",
       "      <td>62.74</td>\n",
       "      <td>12.76</td>\n",
       "    </tr>\n",
       "    <tr>\n",
       "      <th rowspan=\"3\" valign=\"top\">2.0</th>\n",
       "      <th>4</th>\n",
       "      <td>38.23</td>\n",
       "      <td>34.03</td>\n",
       "    </tr>\n",
       "    <tr>\n",
       "      <th>16</th>\n",
       "      <td>42.63</td>\n",
       "      <td>27.10</td>\n",
       "    </tr>\n",
       "    <tr>\n",
       "      <th>64</th>\n",
       "      <td>66.07</td>\n",
       "      <td>10.98</td>\n",
       "    </tr>\n",
       "  </tbody>\n",
       "</table>\n",
       "</div>"
      ]
     },
     "execution_count": 107,
     "metadata": {},
     "output_type": "execute_result"
    }
   ],
   "execution_count": 107
  },
  {
   "metadata": {
    "ExecuteTime": {
     "end_time": "2025-01-21T23:16:24.172788Z",
     "start_time": "2025-01-21T23:16:24.168516Z"
    }
   },
   "cell_type": "code",
   "source": "counts",
   "id": "d1313fdf7c2cd6cc",
   "outputs": [
    {
     "data": {
      "text/plain": [
       "              Base Instances short  Test Instances short\n",
       "degree terms                                            \n",
       "0.5    4                         1                  3000\n",
       "       16                        1                  3000\n",
       "       64                        1                  2625\n",
       "2.0    4                         1                  3000\n",
       "       16                        1                  3000\n",
       "       64                        1                  1895"
      ],
      "text/html": [
       "<div>\n",
       "<style scoped>\n",
       "    .dataframe tbody tr th:only-of-type {\n",
       "        vertical-align: middle;\n",
       "    }\n",
       "\n",
       "    .dataframe tbody tr th {\n",
       "        vertical-align: top;\n",
       "    }\n",
       "\n",
       "    .dataframe thead th {\n",
       "        text-align: right;\n",
       "    }\n",
       "</style>\n",
       "<table border=\"1\" class=\"dataframe\">\n",
       "  <thead>\n",
       "    <tr style=\"text-align: right;\">\n",
       "      <th></th>\n",
       "      <th></th>\n",
       "      <th>Base Instances short</th>\n",
       "      <th>Test Instances short</th>\n",
       "    </tr>\n",
       "    <tr>\n",
       "      <th>degree</th>\n",
       "      <th>terms</th>\n",
       "      <th></th>\n",
       "      <th></th>\n",
       "    </tr>\n",
       "  </thead>\n",
       "  <tbody>\n",
       "    <tr>\n",
       "      <th rowspan=\"3\" valign=\"top\">0.5</th>\n",
       "      <th>4</th>\n",
       "      <td>1</td>\n",
       "      <td>3000</td>\n",
       "    </tr>\n",
       "    <tr>\n",
       "      <th>16</th>\n",
       "      <td>1</td>\n",
       "      <td>3000</td>\n",
       "    </tr>\n",
       "    <tr>\n",
       "      <th>64</th>\n",
       "      <td>1</td>\n",
       "      <td>2625</td>\n",
       "    </tr>\n",
       "    <tr>\n",
       "      <th rowspan=\"3\" valign=\"top\">2.0</th>\n",
       "      <th>4</th>\n",
       "      <td>1</td>\n",
       "      <td>3000</td>\n",
       "    </tr>\n",
       "    <tr>\n",
       "      <th>16</th>\n",
       "      <td>1</td>\n",
       "      <td>3000</td>\n",
       "    </tr>\n",
       "    <tr>\n",
       "      <th>64</th>\n",
       "      <td>1</td>\n",
       "      <td>1895</td>\n",
       "    </tr>\n",
       "  </tbody>\n",
       "</table>\n",
       "</div>"
      ]
     },
     "execution_count": 108,
     "metadata": {},
     "output_type": "execute_result"
    }
   ],
   "execution_count": 108
  },
  {
   "metadata": {
    "ExecuteTime": {
     "end_time": "2025-01-21T23:16:24.983286Z",
     "start_time": "2025-01-21T23:16:24.932526Z"
    }
   },
   "cell_type": "code",
   "source": [
    "wins, counts = aggregate_wins(gap_df, \"terminationTimeSansVpc\", \"perturbation\")\n",
    "wins"
   ],
   "id": "86507fb48dbf8666",
   "outputs": [
    {
     "data": {
      "text/plain": [
       "              Time (Minus VPC Generation) Win % Farkas matrix  \\\n",
       "degree terms                                                    \n",
       "0.5    4                                                73.10   \n",
       "       16                                               60.20   \n",
       "       64                                               68.80   \n",
       "2.0    4                                                43.60   \n",
       "       16                                               40.30   \n",
       "       64                                               54.17   \n",
       "\n",
       "              Time (Minus VPC Generation) Win % None matrix  \\\n",
       "degree terms                                                  \n",
       "0.5    4                                              11.40   \n",
       "       16                                             17.90   \n",
       "       64                                              7.20   \n",
       "2.0    4                                              31.50   \n",
       "       16                                             28.30   \n",
       "       64                                             16.83   \n",
       "\n",
       "              Time (Minus VPC Generation) Win % Farkas objective  \\\n",
       "degree terms                                                       \n",
       "0.5    4                                                  43.10    \n",
       "       16                                                 38.80    \n",
       "       64                                                 54.19    \n",
       "2.0    4                                                  32.50    \n",
       "       16                                                 47.60    \n",
       "       64                                                 76.38    \n",
       "\n",
       "              Time (Minus VPC Generation) Win % None objective  \\\n",
       "degree terms                                                     \n",
       "0.5    4                                                 34.30   \n",
       "       16                                                31.10   \n",
       "       64                                                23.13   \n",
       "2.0    4                                                 35.20   \n",
       "       16                                                22.80   \n",
       "       64                                                 6.33   \n",
       "\n",
       "              Time (Minus VPC Generation) Win % Farkas rhs  \\\n",
       "degree terms                                                 \n",
       "0.5    4                                             59.70   \n",
       "       16                                            69.50   \n",
       "       64                                            65.50   \n",
       "2.0    4                                             38.60   \n",
       "       16                                            40.00   \n",
       "       64                                            61.22   \n",
       "\n",
       "              Time (Minus VPC Generation) Win % None rhs  \n",
       "degree terms                                              \n",
       "0.5    4                                           14.90  \n",
       "       16                                          14.30  \n",
       "       64                                           7.60  \n",
       "2.0    4                                           35.40  \n",
       "       16                                          30.20  \n",
       "       64                                          12.44  "
      ],
      "text/html": [
       "<div>\n",
       "<style scoped>\n",
       "    .dataframe tbody tr th:only-of-type {\n",
       "        vertical-align: middle;\n",
       "    }\n",
       "\n",
       "    .dataframe tbody tr th {\n",
       "        vertical-align: top;\n",
       "    }\n",
       "\n",
       "    .dataframe thead th {\n",
       "        text-align: right;\n",
       "    }\n",
       "</style>\n",
       "<table border=\"1\" class=\"dataframe\">\n",
       "  <thead>\n",
       "    <tr style=\"text-align: right;\">\n",
       "      <th></th>\n",
       "      <th></th>\n",
       "      <th>Time (Minus VPC Generation) Win % Farkas matrix</th>\n",
       "      <th>Time (Minus VPC Generation) Win % None matrix</th>\n",
       "      <th>Time (Minus VPC Generation) Win % Farkas objective</th>\n",
       "      <th>Time (Minus VPC Generation) Win % None objective</th>\n",
       "      <th>Time (Minus VPC Generation) Win % Farkas rhs</th>\n",
       "      <th>Time (Minus VPC Generation) Win % None rhs</th>\n",
       "    </tr>\n",
       "    <tr>\n",
       "      <th>degree</th>\n",
       "      <th>terms</th>\n",
       "      <th></th>\n",
       "      <th></th>\n",
       "      <th></th>\n",
       "      <th></th>\n",
       "      <th></th>\n",
       "      <th></th>\n",
       "    </tr>\n",
       "  </thead>\n",
       "  <tbody>\n",
       "    <tr>\n",
       "      <th rowspan=\"3\" valign=\"top\">0.5</th>\n",
       "      <th>4</th>\n",
       "      <td>73.10</td>\n",
       "      <td>11.40</td>\n",
       "      <td>43.10</td>\n",
       "      <td>34.30</td>\n",
       "      <td>59.70</td>\n",
       "      <td>14.90</td>\n",
       "    </tr>\n",
       "    <tr>\n",
       "      <th>16</th>\n",
       "      <td>60.20</td>\n",
       "      <td>17.90</td>\n",
       "      <td>38.80</td>\n",
       "      <td>31.10</td>\n",
       "      <td>69.50</td>\n",
       "      <td>14.30</td>\n",
       "    </tr>\n",
       "    <tr>\n",
       "      <th>64</th>\n",
       "      <td>68.80</td>\n",
       "      <td>7.20</td>\n",
       "      <td>54.19</td>\n",
       "      <td>23.13</td>\n",
       "      <td>65.50</td>\n",
       "      <td>7.60</td>\n",
       "    </tr>\n",
       "    <tr>\n",
       "      <th rowspan=\"3\" valign=\"top\">2.0</th>\n",
       "      <th>4</th>\n",
       "      <td>43.60</td>\n",
       "      <td>31.50</td>\n",
       "      <td>32.50</td>\n",
       "      <td>35.20</td>\n",
       "      <td>38.60</td>\n",
       "      <td>35.40</td>\n",
       "    </tr>\n",
       "    <tr>\n",
       "      <th>16</th>\n",
       "      <td>40.30</td>\n",
       "      <td>28.30</td>\n",
       "      <td>47.60</td>\n",
       "      <td>22.80</td>\n",
       "      <td>40.00</td>\n",
       "      <td>30.20</td>\n",
       "    </tr>\n",
       "    <tr>\n",
       "      <th>64</th>\n",
       "      <td>54.17</td>\n",
       "      <td>16.83</td>\n",
       "      <td>76.38</td>\n",
       "      <td>6.33</td>\n",
       "      <td>61.22</td>\n",
       "      <td>12.44</td>\n",
       "    </tr>\n",
       "  </tbody>\n",
       "</table>\n",
       "</div>"
      ]
     },
     "execution_count": 109,
     "metadata": {},
     "output_type": "execute_result"
    }
   ],
   "execution_count": 109
  },
  {
   "metadata": {
    "ExecuteTime": {
     "end_time": "2025-01-21T23:16:25.628267Z",
     "start_time": "2025-01-21T23:16:25.616921Z"
    }
   },
   "cell_type": "code",
   "source": "counts",
   "id": "ab4a8a36792bcd90",
   "outputs": [
    {
     "data": {
      "text/plain": [
       "              Base Instances matrix  Test Instances matrix  \\\n",
       "degree terms                                                 \n",
       "0.5    4                          1                   1000   \n",
       "       16                         1                   1000   \n",
       "       64                         1                    875   \n",
       "2.0    4                          1                   1000   \n",
       "       16                         1                   1000   \n",
       "       64                         1                    600   \n",
       "\n",
       "              Base Instances objective  Test Instances objective  \\\n",
       "degree terms                                                       \n",
       "0.5    4                             1                      1000   \n",
       "       16                            1                      1000   \n",
       "       64                            1                       895   \n",
       "2.0    4                             1                      1000   \n",
       "       16                            1                      1000   \n",
       "       64                            1                       885   \n",
       "\n",
       "              Base Instances rhs  Test Instances rhs  \n",
       "degree terms                                          \n",
       "0.5    4                       1                1000  \n",
       "       16                      1                1000  \n",
       "       64                      1                 855  \n",
       "2.0    4                       1                1000  \n",
       "       16                      1                1000  \n",
       "       64                      1                 410  "
      ],
      "text/html": [
       "<div>\n",
       "<style scoped>\n",
       "    .dataframe tbody tr th:only-of-type {\n",
       "        vertical-align: middle;\n",
       "    }\n",
       "\n",
       "    .dataframe tbody tr th {\n",
       "        vertical-align: top;\n",
       "    }\n",
       "\n",
       "    .dataframe thead th {\n",
       "        text-align: right;\n",
       "    }\n",
       "</style>\n",
       "<table border=\"1\" class=\"dataframe\">\n",
       "  <thead>\n",
       "    <tr style=\"text-align: right;\">\n",
       "      <th></th>\n",
       "      <th></th>\n",
       "      <th>Base Instances matrix</th>\n",
       "      <th>Test Instances matrix</th>\n",
       "      <th>Base Instances objective</th>\n",
       "      <th>Test Instances objective</th>\n",
       "      <th>Base Instances rhs</th>\n",
       "      <th>Test Instances rhs</th>\n",
       "    </tr>\n",
       "    <tr>\n",
       "      <th>degree</th>\n",
       "      <th>terms</th>\n",
       "      <th></th>\n",
       "      <th></th>\n",
       "      <th></th>\n",
       "      <th></th>\n",
       "      <th></th>\n",
       "      <th></th>\n",
       "    </tr>\n",
       "  </thead>\n",
       "  <tbody>\n",
       "    <tr>\n",
       "      <th rowspan=\"3\" valign=\"top\">0.5</th>\n",
       "      <th>4</th>\n",
       "      <td>1</td>\n",
       "      <td>1000</td>\n",
       "      <td>1</td>\n",
       "      <td>1000</td>\n",
       "      <td>1</td>\n",
       "      <td>1000</td>\n",
       "    </tr>\n",
       "    <tr>\n",
       "      <th>16</th>\n",
       "      <td>1</td>\n",
       "      <td>1000</td>\n",
       "      <td>1</td>\n",
       "      <td>1000</td>\n",
       "      <td>1</td>\n",
       "      <td>1000</td>\n",
       "    </tr>\n",
       "    <tr>\n",
       "      <th>64</th>\n",
       "      <td>1</td>\n",
       "      <td>875</td>\n",
       "      <td>1</td>\n",
       "      <td>895</td>\n",
       "      <td>1</td>\n",
       "      <td>855</td>\n",
       "    </tr>\n",
       "    <tr>\n",
       "      <th rowspan=\"3\" valign=\"top\">2.0</th>\n",
       "      <th>4</th>\n",
       "      <td>1</td>\n",
       "      <td>1000</td>\n",
       "      <td>1</td>\n",
       "      <td>1000</td>\n",
       "      <td>1</td>\n",
       "      <td>1000</td>\n",
       "    </tr>\n",
       "    <tr>\n",
       "      <th>16</th>\n",
       "      <td>1</td>\n",
       "      <td>1000</td>\n",
       "      <td>1</td>\n",
       "      <td>1000</td>\n",
       "      <td>1</td>\n",
       "      <td>1000</td>\n",
       "    </tr>\n",
       "    <tr>\n",
       "      <th>64</th>\n",
       "      <td>1</td>\n",
       "      <td>600</td>\n",
       "      <td>1</td>\n",
       "      <td>885</td>\n",
       "      <td>1</td>\n",
       "      <td>410</td>\n",
       "    </tr>\n",
       "  </tbody>\n",
       "</table>\n",
       "</div>"
      ]
     },
     "execution_count": 110,
     "metadata": {},
     "output_type": "execute_result"
    }
   ],
   "execution_count": 110
  },
  {
   "metadata": {},
   "cell_type": "code",
   "outputs": [],
   "execution_count": null,
   "source": "",
   "id": "d8ffddad579b6222"
  }
 ],
 "metadata": {
  "kernelspec": {
   "display_name": "Python 3",
   "language": "python",
   "name": "python3"
  },
  "language_info": {
   "codemirror_mode": {
    "name": "ipython",
    "version": 2
   },
   "file_extension": ".py",
   "mimetype": "text/x-python",
   "name": "python",
   "nbconvert_exporter": "python",
   "pygments_lexer": "ipython2",
   "version": "2.7.6"
  }
 },
 "nbformat": 4,
 "nbformat_minor": 5
}
