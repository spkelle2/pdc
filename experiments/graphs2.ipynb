{
 "cells": [
  {
   "cell_type": "code",
   "source": [
    "import gurobipy as gp\n",
    "import math\n",
    "from matplotlib import pyplot as plt\n",
    "from matplotlib.ticker import FuncFormatter, PercentFormatter\n",
    "import numpy as np\n",
    "import pandas as pd\n",
    "import re\n",
    "import os\n",
    "import shutil"
   ],
   "metadata": {
    "collapsed": false,
    "ExecuteTime": {
     "end_time": "2025-07-30T14:55:08.580325Z",
     "start_time": "2025-07-30T14:55:07.445348Z"
    }
   },
   "id": "1cc59124d1d40dc",
   "outputs": [],
   "execution_count": 1
  },
  {
   "metadata": {
    "ExecuteTime": {
     "end_time": "2025-07-30T14:55:08.591355Z",
     "start_time": "2025-07-30T14:55:08.589256Z"
    }
   },
   "cell_type": "code",
   "source": "# output generation for paper 2",
   "id": "c1e512b5bbea8333",
   "outputs": [],
   "execution_count": 2
  },
  {
   "cell_type": "code",
   "source": [
    "# get input paths\n",
    "test_set = \"bm23\" # todo update this as needed\n",
    "instance_fldr = os.path.join(\"instances\", test_set)\n",
    "test_set_fldr = os.path.join(\"test_sets\", test_set)\n",
    "results_fldr = os.path.join(\"results\", test_set)\n",
    "out_fldr = os.path.join(\"outputs\", test_set)\n",
    "\n",
    "# set filters\n",
    "seed_idxs = [0]  \n",
    "max_indices = 100\n",
    "degrees = [-1, 1]  # todo update this as needed\n",
    "term_list = [4, 64]\n",
    "filter_cbc = False\n",
    "max_base_std = 1e10\n",
    "min_termination_time = 10  # todo update this as needed - fitler wins on default runs that took at least 10 seconds\n",
    "short, medium, long = 60, 600, 3600\n",
    "remove_status_changes = False\n",
    "win_threshold = .2\n",
    "filter_redundant = True\n",
    "\n",
    "default_generators = [\"None\", \"New\", \"Farkas\"]\n",
    "# todo update this as needed\n",
    "test_generators = [\"All\", \"Disjunction\", \"NoDisjunction\"]  # \"All\", \"Disjunction\", \"NoDisjunction\" ,\"Matrix\", \"Term\", \"Basis\", \"NoMatrix\", \"NoTerm\", \"NoBasis\"]\n",
    "generators = default_generators + test_generators\n",
    "disjunctive_generators = [g for g in generators if g != \"None\"]\n",
    "parametric_generators = [g for g in generators if g not in [\"None\", \"New\"]]\n",
    "\n",
    "\n",
    "# set up some mappings\n",
    "cat_map_new_lines = {\n",
    "    \"None\": \"Default\",\n",
    "    \"Farkas\": \"Param Disj,\\nParam Cuts\",\n",
    "    \"Old\": \"Param Disj,\\nCalc Cuts\",\n",
    "    \"New\": \"Calc Disj,\\nCalc Cuts\",\n",
    "    \"All\": \"Prune and\\nSupport\",\n",
    "    \"Disjunction\": \"Prune\\nDisjunction\",\n",
    "    \"Matrix\": \"Support\\nMatrix\",\n",
    "    \"Term\": \"Support\\nTerm\",\n",
    "    \"Basis\": \"Support\\nBasis\",\n",
    "    \"NoDisjunction\": \"Support\"\n",
    "}\n",
    "cat_map = {\n",
    "    \"None\": \"Default\",\n",
    "    \"Farkas\": \"Param Disj, Param Cuts\",\n",
    "    \"Old\": \"Param Disj, Calc Cuts\",\n",
    "    \"New\": \"Calc Disj, Calc Cuts\",\n",
    "    \"All\": \"Prune and Support\",\n",
    "    \"Disjunction\": \"Prune Disjunction\",\n",
    "    \"Matrix\": \"Strengthen Matrix\",\n",
    "    \"Term\": \"Strengthen Term\",\n",
    "    \"Basis\": \"Strengthen Basis\",\n",
    "    \"NoDisjunction\": \"Support\"\n",
    "}\n",
    "perturbation_map = {\n",
    "    \"matrix\": \"Coefficient Matrix\",\n",
    "    \"rhs\": \"Right Hand Side\",\n",
    "    \"objective\": \"Objective\"\n",
    "}\n",
    "label = {\n",
    "    \"postRootTime\": \"Time after Processing Root nodes\",\n",
    "    \"rootDualBoundTimeSansVpc\": \"Root Processing Time (Minus VPC Generation)\",\n",
    "    \"terminationTimeSansVpc\": \"Time (Minus VPC Generation)\",\n",
    "    \"terminationTime\": \"Time\",\n",
    "    \"nodes\": \"Nodes Processed\",\n",
    "    \"iterations\": \"LP iterations\",\n",
    "}\n",
    "unit = {\n",
    "    \"postRootTime\": \"(seconds)\",\n",
    "    \"rootDualBoundTimeSansVpc\": \"(seconds)\",\n",
    "    \"terminationTimeSansVpc\": \"(seconds)\",\n",
    "    \"terminationTime\": \"(seconds)\",\n",
    "    \"nodes\": \"(1000 nodes)\",\n",
    "    \"iterations\": \"(1000 iterations)\",\n",
    "}\n",
    "limits = {\n",
    "    \"postRootTime\": 7200,\n",
    "    \"terminationTimeSansVpc\": 7200,\n",
    "    \"terminationTime\": 7200,\n",
    "    \"rootDualBoundTimeSansVpc\": 5,\n",
    "    \"nodes\": 10000,\n",
    "    \"iterations\": 37500\n",
    "}\n",
    "bracket_bounds = {\n",
    "    \"short\": (min_termination_time, short),\n",
    "    \"medium\": (short, medium),\n",
    "    \"long\": (medium, long)\n",
    "}\n",
    "param_map = {\n",
    "    \"degree\": \"Degree of Perturbation\",\n",
    "    \"terms\": \"Number of Disjunctive Terms\",\n",
    "}"
   ],
   "metadata": {
    "collapsed": false,
    "ExecuteTime": {
     "end_time": "2025-07-30T14:55:16.082759Z",
     "start_time": "2025-07-30T14:55:16.075019Z"
    }
   },
   "id": "7efbc88147f301fa",
   "outputs": [],
   "execution_count": 3
  },
  {
   "metadata": {
    "ExecuteTime": {
     "end_time": "2025-07-30T14:55:17.555869Z",
     "start_time": "2025-07-30T14:55:17.553677Z"
    }
   },
   "cell_type": "code",
   "source": [
    "# matplotlib settings\n",
    "plt.rc('text', usetex=True)  # use latex fonts\n",
    "plt.rcParams['font.size'] = 18\n",
    "plt.rcParams['figure.titlesize'] = 24\n",
    "plt.rcParams['axes.titlesize'] = 20\n",
    "plt.rcParams['axes.labelsize'] = 18\n",
    "plt.rcParams['xtick.labelsize'] = 16\n",
    "plt.rcParams['ytick.labelsize'] = 16\n",
    "plt.rcParams['legend.fontsize'] = 14"
   ],
   "id": "559c07334083a9c",
   "outputs": [],
   "execution_count": 4
  },
  {
   "cell_type": "markdown",
   "source": [
    "## Check run failures"
   ],
   "metadata": {
    "collapsed": false
   },
   "id": "309a347a4f60cab6"
  },
  {
   "cell_type": "code",
   "source": [
    "# check if each folder in test_set_fldr has a corresponding .mps file in instance_fldr\n",
    "# for instance in os.listdir(test_set_fldr):\n",
    "#     if not os.path.isdir(os.path.join(test_set_fldr, instance)):\n",
    "#         continue\n",
    "#     if not os.path.exists(os.path.join(instance_fldr, f\"{instance}.mps\")):\n",
    "#         # remove the folder if the instance is missing\n",
    "#         # shutil.rmtree(os.path.join(test_set_fldr, instance))\n",
    "#         print(f\"Removed {instance} from test set\")"
   ],
   "metadata": {
    "collapsed": false,
    "ExecuteTime": {
     "end_time": "2025-07-30T14:55:18.288341Z",
     "start_time": "2025-07-30T14:55:18.286294Z"
    }
   },
   "id": "81fbacab12d1c5f6",
   "outputs": [],
   "execution_count": 5
  },
  {
   "cell_type": "code",
   "source": [
    "# running list of strings contained by different error codes\n",
    "# last two are catchalls\n",
    "err = {\n",
    "    \"walltime\": [],\n",
    "    \"bad_alloc\": [],\n",
    "    \"out of memory\": [],\n",
    "    \"vmem\": [],\n",
    "    \"takeoffcuts\": [],\n",
    "    \"solver is dual infeasible\": [],\n",
    "    \"solver must be optimal\": [],\n",
    "    \"segmentation fault\": [],\n",
    "    \"no vpcs were made from a new disjunction\": [],\n",
    "    \"must have primalbound >= root lp objective\": [],\n",
    "    \"objective at parent nodes\": [],\n",
    "    \"failed to optimize mip\": [],\n",
    "    \"disjunction does not represent a full binary tree\": [],\n",
    "    \"solver not proven optimal for nodes\": [],\n",
    "    \"unable to open\": [],\n",
    "    \"license\": [],\n",
    "    \"dot product with obj differs from solver\": [],\n",
    "    \"gurobi: error during callback: addCut\": [],\n",
    "    \"cglvpc::setupconstraints: objective at disjunctive term\": [],\n",
    "    \"unable to read file\": [],\n",
    "    \"stats.id == stats_vec\": [],\n",
    "    \"size of our disjunction is not what we expected it to be\": [],\n",
    "    \"dimension must stay fixed\": [],\n",
    "    \"vpcgenerator must be\": [],\n",
    "    \"objective values must match\": [],\n",
    "    \"objective at disjunctive term\": [],\n",
    "    \"libmkl_intel_lp64.so\": [],\n",
    "}\n",
    "\n",
    "# read in cbc acceptable instances from cbc.txt\n",
    "with open(\"cbc.txt\", \"r\") as f:\n",
    "    cbc_instances = f.read().split(\"\\n\")\n",
    "\n",
    "# runs that errored out with new error code\n",
    "other = []\n",
    "\n",
    "# runs that had no errors\n",
    "empty = []\n",
    "\n",
    "# runs that only had warnings\n",
    "warn_strs = [\"warning\", \"prlp is primal infeasible\", \"farkas\", \"x:\", \"x[\", \"b:\",\n",
    "             \"b[\", \"v:\", \"v[\", \"cut:\", \"A_i . x\", \"dot product with obj differs from solver\"]\n",
    "warning = []\n",
    "\n",
    "# series that didn't run\n",
    "no_go = []\n",
    "\n",
    "# track sizes of instances\n",
    "rows, cols, density = {}, {}, {}\n",
    "\n",
    "# map the names\n",
    "names = {}\n",
    "\n",
    "# counts\n",
    "count_series = 0\n",
    "count_instances = 0\n",
    "number_instances = {}\n",
    "\n",
    "# iterate over all expected runs\n",
    "for instance in os.listdir(test_set_fldr):\n",
    "    if not os.path.isdir(os.path.join(test_set_fldr, instance)):\n",
    "        continue\n",
    "    # only look at cbc instances if we ran with cbc\n",
    "    if instance not in cbc_instances and \"gurobi\" not in test_set and filter_cbc:\n",
    "        continue\n",
    "        \n",
    "    # get the number of rows and columns in the instance\n",
    "    mdl = gp.read(os.path.join(instance_fldr, f\"{instance}.mps\"))\n",
    "    rows[instance] = mdl.NumConstrs\n",
    "    cols[instance] = mdl.NumVars\n",
    "    density[instance] = mdl.NumNZs / (mdl.NumConstrs * mdl.NumVars)\n",
    "        \n",
    "    for perturbation in os.listdir(os.path.join(test_set_fldr, instance)):\n",
    "        if not os.path.isdir(os.path.join(test_set_fldr, instance, perturbation)):\n",
    "            continue\n",
    "        # only look at perturbations that were run\n",
    "        p, d = perturbation.split(\"_\")\n",
    "        if int(d) not in degrees or p not in perturbation_map:\n",
    "            continue\n",
    "        for terms in term_list:\n",
    "            for generator in generators:\n",
    "                for seed_idx in seed_idxs:\n",
    "\n",
    "                    # set variables for this iterations\n",
    "                    count_series += 1\n",
    "                    stem = f\"{instance}_{perturbation}_{terms}_{generator}_{seed_idx}\"\n",
    "                    file_pth = os.path.join(results_fldr, f\"{stem}.err\")\n",
    "                    series_fldr = os.path.join(test_set_fldr, instance, perturbation)\n",
    "                    current_count = len([f for f in os.listdir(series_fldr) if f.endswith(\".mps\")])\n",
    "                    count_instances += current_count\n",
    "                    names[stem] = instance\n",
    "                    number_instances[stem] = {\n",
    "                        \"expected\": current_count,\n",
    "                        \"recorded\": 0,\n",
    "                        \"generator\": generator,\n",
    "                        \"error\": \"N/A\"\n",
    "                    }\n",
    "    \n",
    "                    # check if the series wasn't run\n",
    "                    if not os.path.exists(file_pth):\n",
    "                        number_instances[stem][\"error\"] = \"no go\"\n",
    "                        no_go.append(stem)\n",
    "                    \n",
    "                    # check if the series ran with no errors or warnings\n",
    "                    elif os.path.getsize(file_pth) == 0:\n",
    "                        number_instances[stem][\"error\"] = \"empty\"\n",
    "                        empty.append(stem)\n",
    "                    \n",
    "                    # track which error codes were thrown\n",
    "                    else:\n",
    "                        # read the file\n",
    "                        with open(file_pth, \"r\") as f:\n",
    "                            text = f.read().lower()\n",
    "                        \n",
    "                        # assign the error file to the appropriate list\n",
    "                        found_code = False\n",
    "                        for code in err:\n",
    "                            if code in text:\n",
    "                                if code == \"dot product with obj differs from solver\":\n",
    "                                    pattern = r\"obj viol from solver: (-?\\d+\\.\\d+)\\. calculated: (-?\\d+\\.\\d+)\"\n",
    "                                    s, c = re.findall(pattern, text)[-1]\n",
    "                                    # if we didn't terminate, this isn't an error, so keep going\n",
    "                                    if abs(float(s) - float(c)) < 1e-3:\n",
    "                                        continue\n",
    "                                err[code].append(stem)\n",
    "                                found_code = True\n",
    "                                number_instances[stem][\"error\"] = code\n",
    "                                break\n",
    "                        if not found_code:\n",
    "                            if all(not line or any(w in line for w in warn_strs) for line in text.splitlines()):\n",
    "                                warning.append(stem)\n",
    "                                number_instances[stem][\"error\"] = \"warning\"\n",
    "                            else:\n",
    "                                other.append(stem)\n",
    "                                number_instances[stem][\"error\"] = \"other\""
   ],
   "metadata": {
    "collapsed": false,
    "ExecuteTime": {
     "end_time": "2025-07-30T14:55:19.327233Z",
     "start_time": "2025-07-30T14:55:19.291538Z"
    }
   },
   "id": "bf0cf935eb4aad03",
   "outputs": [
    {
     "name": "stdout",
     "output_type": "stream",
     "text": [
      "Set parameter Username\n",
      "Academic license - for non-commercial use only - expires 2025-08-21\n",
      "Read MPS format model from file instances/bm23/bm23.mps\n",
      "Reading time = 0.00 seconds\n",
      "BM23: 20 rows, 27 columns, 478 nonzeros\n"
     ]
    }
   ],
   "execution_count": 6
  },
  {
   "cell_type": "code",
   "source": [
    "# check which series didn't run\n",
    "print(no_go)"
   ],
   "metadata": {
    "collapsed": false,
    "ExecuteTime": {
     "end_time": "2025-07-30T14:55:21.868890Z",
     "start_time": "2025-07-30T14:55:21.866905Z"
    }
   },
   "id": "e4302c5a43b44547",
   "outputs": [
    {
     "name": "stdout",
     "output_type": "stream",
     "text": [
      "[]\n"
     ]
    }
   ],
   "execution_count": 7
  },
  {
   "cell_type": "code",
   "source": [
    "# get the proportion of series that at least got started\n",
    "1 - (len(no_go) / count_series)"
   ],
   "metadata": {
    "collapsed": false,
    "ExecuteTime": {
     "end_time": "2025-07-30T14:55:22.468943Z",
     "start_time": "2025-07-30T14:55:22.465818Z"
    }
   },
   "id": "5c199c411fd4414c",
   "outputs": [
    {
     "data": {
      "text/plain": [
       "1.0"
      ]
     },
     "execution_count": 8,
     "metadata": {},
     "output_type": "execute_result"
    }
   ],
   "execution_count": 8
  },
  {
   "cell_type": "code",
   "source": [
    "# out of time - got hung up in code somewhere - ok\n",
    "print(err[\"walltime\"])\n",
    "len(err[\"walltime\"]) / count_series"
   ],
   "metadata": {
    "collapsed": false,
    "ExecuteTime": {
     "end_time": "2025-07-30T14:55:23.062114Z",
     "start_time": "2025-07-30T14:55:23.059386Z"
    }
   },
   "id": "2c0c8ca9c8f7caae",
   "outputs": [
    {
     "name": "stdout",
     "output_type": "stream",
     "text": [
      "[]\n"
     ]
    },
    {
     "data": {
      "text/plain": [
       "0.0"
      ]
     },
     "execution_count": 9,
     "metadata": {},
     "output_type": "execute_result"
    }
   ],
   "execution_count": 9
  },
  {
   "cell_type": "code",
   "source": [
    "# out of memory - memory is maxed already - this is what it is\n",
    "# todo: figure out where we ran short on memory so we can explain why we dropped them\n",
    "print(err[\"bad_alloc\"] + err[\"out of memory\"] + err[\"vmem\"])\n",
    "len(err[\"bad_alloc\"] + err[\"out of memory\"] + err[\"vmem\"]) / count_series"
   ],
   "metadata": {
    "collapsed": false,
    "ExecuteTime": {
     "end_time": "2025-07-30T14:55:23.852095Z",
     "start_time": "2025-07-30T14:55:23.849370Z"
    }
   },
   "id": "799f9596fe1bb847",
   "outputs": [
    {
     "name": "stdout",
     "output_type": "stream",
     "text": [
      "[]\n"
     ]
    },
    {
     "data": {
      "text/plain": [
       "0.0"
      ]
     },
     "execution_count": 10,
     "metadata": {},
     "output_type": "execute_result"
    }
   ],
   "execution_count": 10
  },
  {
   "cell_type": "code",
   "source": [
    "# rerun this if want to give more memory to some instances\n",
    "# bad_alloc_names = set(n.split(\"_\")[0] for n in err[\"bad_alloc\"])\n",
    "# mem = pd.read_csv(\"more_memory.csv\", index_col=0)\n",
    "# mem[\"reason\"] = \"hard solve\" \n",
    "# \n",
    "# for n in bad_alloc_names:\n",
    "#     if f\"{n}.mps\" not in mem.index:\n",
    "#         new_row = pd.DataFrame([{'file_name': f\"{n}.mps\", 'memory': 16.0, 'reason': 'big disjunction'}]).set_index('file_name')\n",
    "#         mem = pd.concat([mem, new_row])\n",
    "#     else:\n",
    "#         mem.loc[f'{n}.mps', 'memory'] = 16.0\n",
    "# \n",
    "# mem.to_csv(\"more_memory.csv\")"
   ],
   "metadata": {
    "collapsed": false,
    "ExecuteTime": {
     "end_time": "2025-07-30T14:55:24.645564Z",
     "start_time": "2025-07-30T14:55:24.643603Z"
    }
   },
   "id": "25b00b07fb8791bf",
   "outputs": [],
   "execution_count": 11
  },
  {
   "cell_type": "code",
   "source": [
    "# this is an issue with John's bookkeeping - not much we can do here\n",
    "print(err[\"takeoffcuts\"])\n",
    "len(err[\"takeoffcuts\"]) / count_series"
   ],
   "metadata": {
    "collapsed": false,
    "ExecuteTime": {
     "end_time": "2025-07-30T14:55:25.202473Z",
     "start_time": "2025-07-30T14:55:25.199791Z"
    }
   },
   "id": "121be7316b7ba6b2",
   "outputs": [
    {
     "name": "stdout",
     "output_type": "stream",
     "text": [
      "[]\n"
     ]
    },
    {
     "data": {
      "text/plain": [
       "0.0"
      ]
     },
     "execution_count": 12,
     "metadata": {},
     "output_type": "execute_result"
    }
   ],
   "execution_count": 12
  },
  {
   "cell_type": "code",
   "source": [
    "print(err[\"solver is dual infeasible\"])\n",
    "len(err[\"solver is dual infeasible\"]) / count_series"
   ],
   "metadata": {
    "collapsed": false,
    "ExecuteTime": {
     "end_time": "2025-07-30T14:55:26.051453Z",
     "start_time": "2025-07-30T14:55:26.048733Z"
    }
   },
   "id": "5c8956abcbdf8b6d",
   "outputs": [
    {
     "name": "stdout",
     "output_type": "stream",
     "text": [
      "[]\n"
     ]
    },
    {
     "data": {
      "text/plain": [
       "0.0"
      ]
     },
     "execution_count": 13,
     "metadata": {},
     "output_type": "execute_result"
    }
   ],
   "execution_count": 13
  },
  {
   "cell_type": "code",
   "source": [
    "# these are usually issues with CLP finding optimality - not much we can do here\n",
    "print(err[\"solver must be optimal\"])\n",
    "len(err[\"solver must be optimal\"]) / count_series"
   ],
   "metadata": {
    "collapsed": false,
    "ExecuteTime": {
     "end_time": "2025-07-30T14:55:26.837783Z",
     "start_time": "2025-07-30T14:55:26.835255Z"
    }
   },
   "id": "72de71ca5f9b047",
   "outputs": [
    {
     "name": "stdout",
     "output_type": "stream",
     "text": [
      "[]\n"
     ]
    },
    {
     "data": {
      "text/plain": [
       "0.0"
      ]
     },
     "execution_count": 14,
     "metadata": {},
     "output_type": "execute_result"
    }
   ],
   "execution_count": 14
  },
  {
   "cell_type": "code",
   "source": [
    "print(err[\"segmentation fault\"])\n",
    "len(err[\"segmentation fault\"]) / count_series"
   ],
   "metadata": {
    "collapsed": false,
    "ExecuteTime": {
     "end_time": "2025-07-30T14:55:27.468300Z",
     "start_time": "2025-07-30T14:55:27.465420Z"
    }
   },
   "id": "fef47bf6e8f3c2d7",
   "outputs": [
    {
     "name": "stdout",
     "output_type": "stream",
     "text": [
      "[]\n"
     ]
    },
    {
     "data": {
      "text/plain": [
       "0.0"
      ]
     },
     "execution_count": 15,
     "metadata": {},
     "output_type": "execute_result"
    }
   ],
   "execution_count": 15
  },
  {
   "cell_type": "code",
   "source": [
    "# seg_err = {\n",
    "#     \"Bad image at line\": [],\n",
    "# }\n",
    "# \n",
    "# seg_other = []\n",
    "# \n",
    "# for stem in err[\"segmentation fault\"]:\n",
    "#     file_pth = os.path.join(results_fldr, f\"{stem}.out\")\n",
    "# \n",
    "#     with open(file_pth, \"r\") as f:\n",
    "#         text = f.read()\n",
    "#     \n",
    "#     # assign the error file to the appropriate list\n",
    "#     found_code = False\n",
    "#     for code in seg_err:\n",
    "#         if code in text:\n",
    "#             seg_err[code].append(stem)\n",
    "#             found_code = True\n",
    "#             break\n",
    "#     if not found_code:\n",
    "#         seg_other.append(stem)"
   ],
   "metadata": {
    "collapsed": false,
    "ExecuteTime": {
     "end_time": "2025-07-30T14:55:28.139135Z",
     "start_time": "2025-07-30T14:55:28.137231Z"
    }
   },
   "id": "e9b3b21e95de2989",
   "outputs": [],
   "execution_count": 16
  },
  {
   "cell_type": "code",
   "source": [
    "# print(seg_err[\"Bad image at line\"])\n",
    "# len(seg_err[\"Bad image at line\"]) / len(err[\"segmentation fault\"]) if err[\"segmentation fault\"] else 0"
   ],
   "metadata": {
    "collapsed": false,
    "ExecuteTime": {
     "end_time": "2025-07-30T14:55:28.733128Z",
     "start_time": "2025-07-30T14:55:28.731245Z"
    }
   },
   "id": "cba75270a86cba0d",
   "outputs": [],
   "execution_count": 17
  },
  {
   "cell_type": "code",
   "source": [
    "# print(seg_other)\n",
    "# len(seg_other)/len(err[\"segmentation fault\"]) if err[\"segmentation fault\"] else 0"
   ],
   "metadata": {
    "collapsed": false,
    "ExecuteTime": {
     "end_time": "2025-07-30T14:55:29.194092Z",
     "start_time": "2025-07-30T14:55:29.191976Z"
    }
   },
   "id": "5aecf827954c44de",
   "outputs": [],
   "execution_count": 18
  },
  {
   "cell_type": "code",
   "source": [
    "# # get breakdown of why vpc generation failed - mostly from lack of provisioning\n",
    "# for code, exps in seg_err.items():\n",
    "#     print(f\"{code}: {len(exps) / len(err['segmentation fault']) if err['segmentation fault'] else 0}\")\n",
    "# \n",
    "# print(f\"other: {len(seg_other) / len(err['segmentation fault']) if err['segmentation fault'] else 0}\")"
   ],
   "metadata": {
    "collapsed": false,
    "ExecuteTime": {
     "end_time": "2025-07-30T14:55:29.622453Z",
     "start_time": "2025-07-30T14:55:29.620195Z"
    }
   },
   "id": "d4a3204609033812",
   "outputs": [],
   "execution_count": 19
  },
  {
   "cell_type": "code",
   "source": [
    "# todo: check aleks' removals and drop those below for similar reasons\n",
    "# todo: check size of disjunctions and decide what to do with those that are too big\n",
    "# these should all be from the problem being too big and hitting the time limit or integer solutions\n",
    "print(err[\"no vpcs were made from a new disjunction\"])\n",
    "missing_4_term = [n for n in err[\"no vpcs were made from a new disjunction\"] if \"_4_\" in n]\n",
    "missing_64_term = [n for n in err[\"no vpcs were made from a new disjunction\"] if \"_64_\" in n]\n",
    "print(f'4 term: {len(missing_4_term) / count_series}')\n",
    "print(f'64 term: {len(missing_64_term) / count_series}')"
   ],
   "metadata": {
    "collapsed": false,
    "ExecuteTime": {
     "end_time": "2025-07-30T14:55:30.085516Z",
     "start_time": "2025-07-30T14:55:30.083389Z"
    }
   },
   "id": "323bfdd3f23d8330",
   "outputs": [
    {
     "name": "stdout",
     "output_type": "stream",
     "text": [
      "[]\n",
      "4 term: 0.0\n",
      "64 term: 0.0\n"
     ]
    }
   ],
   "execution_count": 20
  },
  {
   "cell_type": "code",
   "source": [
    "# vpc_err = {\n",
    "#     \"CglVPC: Finishing with exit reason: PRLP_TIME_LIMIT\": [],\n",
    "#     \"CglVPC: Finishing with exit reason: TIME_LIMIT\": [],\n",
    "#     \"CglVPC: Finishing with exit reason: NO_CUTS_LIKELY\": [],\n",
    "#     \"CglVPC: Finishing with exit reason: PRLP_INFEASIBLE\": [],\n",
    "#     \"CglVPC: Finishing with exit reason: SUCCESS\": [],\n",
    "#     \"CglVPC: Finishing with exit reason: OPTIMAL_SOLUTION_FOUND\": [],\n",
    "#     \"CglVPC: Finishing with exit reason: FAIL_LIMIT\": [],\n",
    "#     \"CglVPC: Finishing with exit reason: NO_DISJUNCTION\": [],\n",
    "# }\n",
    "# \n",
    "# vpc_other = []\n",
    "# \n",
    "# for stem in err[\"no vpcs were made from a new disjunction\"]:\n",
    "#     file_pth = os.path.join(results_fldr, f\"{stem}.out\")\n",
    "# \n",
    "#     with open(file_pth, \"r\") as f:\n",
    "#         text = f.read()\n",
    "#     \n",
    "#     # assign the error file to the appropriate list\n",
    "#     found_code = False\n",
    "#     for code in vpc_err:\n",
    "#         if code in text:\n",
    "#             vpc_err[code].append(stem)\n",
    "#             found_code = True\n",
    "#             break\n",
    "#     if not found_code:\n",
    "#         vpc_other.append(stem)"
   ],
   "metadata": {
    "collapsed": false,
    "ExecuteTime": {
     "end_time": "2025-07-30T14:55:31.455577Z",
     "start_time": "2025-07-30T14:55:31.440098Z"
    }
   },
   "id": "d10dcdb803b1faa3",
   "outputs": [],
   "execution_count": 21
  },
  {
   "cell_type": "code",
   "source": [
    "# print(vpc_err[\"CglVPC: Finishing with exit reason: PRLP_TIME_LIMIT\"])\n",
    "# if err[\"no vpcs were made from a new disjunction\"]:\n",
    "#     len(vpc_err[\"CglVPC: Finishing with exit reason: PRLP_TIME_LIMIT\"]) / len(err[\"no vpcs were made from a new disjunction\"])"
   ],
   "metadata": {
    "collapsed": false,
    "ExecuteTime": {
     "end_time": "2025-07-30T14:55:31.905673Z",
     "start_time": "2025-07-30T14:55:31.904096Z"
    }
   },
   "id": "158f7e03587ca952",
   "outputs": [],
   "execution_count": 22
  },
  {
   "cell_type": "code",
   "source": [
    "# print(vpc_err[\"CglVPC: Finishing with exit reason: TIME_LIMIT\"])\n",
    "# if err[\"no vpcs were made from a new disjunction\"]:\n",
    "#     len(vpc_err[\"CglVPC: Finishing with exit reason: TIME_LIMIT\"]) / len(err[\"no vpcs were made from a new disjunction\"])"
   ],
   "metadata": {
    "collapsed": false,
    "ExecuteTime": {
     "end_time": "2025-07-30T14:55:32.131852Z",
     "start_time": "2025-07-30T14:55:32.129182Z"
    }
   },
   "id": "dfb77c5bc34bbe22",
   "outputs": [],
   "execution_count": 23
  },
  {
   "cell_type": "code",
   "source": [
    "# print(vpc_err[\"CglVPC: Finishing with exit reason: NO_CUTS_LIKELY\"])\n",
    "# if err[\"no vpcs were made from a new disjunction\"]:\n",
    "#     len(vpc_err[\"CglVPC: Finishing with exit reason: NO_CUTS_LIKELY\"]) / len(err[\"no vpcs were made from a new disjunction\"])"
   ],
   "metadata": {
    "collapsed": false,
    "ExecuteTime": {
     "end_time": "2025-07-30T14:55:32.299495Z",
     "start_time": "2025-07-30T14:55:32.297866Z"
    }
   },
   "id": "eefe53ee89a87625",
   "outputs": [],
   "execution_count": 24
  },
  {
   "cell_type": "code",
   "source": [
    "# print(vpc_err[\"CglVPC: Finishing with exit reason: PRLP_INFEASIBLE\"])\n",
    "# if err[\"no vpcs were made from a new disjunction\"]:\n",
    "#     len(vpc_err[\"CglVPC: Finishing with exit reason: PRLP_INFEASIBLE\"]) / len(err[\"no vpcs were made from a new disjunction\"])"
   ],
   "metadata": {
    "collapsed": false,
    "ExecuteTime": {
     "end_time": "2025-07-30T14:55:32.469615Z",
     "start_time": "2025-07-30T14:55:32.468023Z"
    }
   },
   "id": "933d889bce35d1c6",
   "outputs": [],
   "execution_count": 25
  },
  {
   "cell_type": "code",
   "source": [
    "# print(vpc_err[\"CglVPC: Finishing with exit reason: SUCCESS\"])\n",
    "# if err[\"no vpcs were made from a new disjunction\"]:\n",
    "#     len(vpc_err[\"CglVPC: Finishing with exit reason: SUCCESS\"]) / len(err[\"no vpcs were made from a new disjunction\"])"
   ],
   "metadata": {
    "collapsed": false,
    "ExecuteTime": {
     "end_time": "2025-07-30T14:55:32.652447Z",
     "start_time": "2025-07-30T14:55:32.650853Z"
    }
   },
   "id": "ac8d0ff2a27ba558",
   "outputs": [],
   "execution_count": 26
  },
  {
   "cell_type": "code",
   "source": [
    "# print(vpc_err[\"CglVPC: Finishing with exit reason: OPTIMAL_SOLUTION_FOUND\"])\n",
    "# if err[\"no vpcs were made from a new disjunction\"]:\n",
    "#     len(vpc_err[\"CglVPC: Finishing with exit reason: OPTIMAL_SOLUTION_FOUND\"]) / len(err[\"no vpcs were made from a new disjunction\"])"
   ],
   "metadata": {
    "collapsed": false,
    "ExecuteTime": {
     "end_time": "2025-07-30T14:55:32.840346Z",
     "start_time": "2025-07-30T14:55:32.838403Z"
    }
   },
   "id": "4b63d3cd518e3107",
   "outputs": [],
   "execution_count": 27
  },
  {
   "cell_type": "code",
   "source": [
    "# print(vpc_err[\"CglVPC: Finishing with exit reason: FAIL_LIMIT\"])\n",
    "# if err[\"no vpcs were made from a new disjunction\"]:\n",
    "#     len(vpc_err[\"CglVPC: Finishing with exit reason: FAIL_LIMIT\"]) / len(err[\"no vpcs were made from a new disjunction\"])"
   ],
   "metadata": {
    "collapsed": false,
    "ExecuteTime": {
     "end_time": "2025-07-30T14:55:33.121922Z",
     "start_time": "2025-07-30T14:55:33.120217Z"
    }
   },
   "id": "f83387c79d2520a4",
   "outputs": [],
   "execution_count": 28
  },
  {
   "cell_type": "code",
   "source": [
    "# print(vpc_err[\"CglVPC: Finishing with exit reason: NO_DISJUNCTION\"])\n",
    "# if err[\"no vpcs were made from a new disjunction\"]:\n",
    "#     len(vpc_err[\"CglVPC: Finishing with exit reason: NO_DISJUNCTION\"]) / len(err[\"no vpcs were made from a new disjunction\"])"
   ],
   "metadata": {
    "collapsed": false,
    "ExecuteTime": {
     "end_time": "2025-07-30T14:55:33.303694Z",
     "start_time": "2025-07-30T14:55:33.301106Z"
    }
   },
   "id": "26779878562d1784",
   "outputs": [],
   "execution_count": 29
  },
  {
   "cell_type": "code",
   "source": "# vpc_other",
   "metadata": {
    "collapsed": false,
    "ExecuteTime": {
     "end_time": "2025-07-30T14:55:33.475378Z",
     "start_time": "2025-07-30T14:55:33.473702Z"
    }
   },
   "id": "68d93918615c4f37",
   "outputs": [],
   "execution_count": 30
  },
  {
   "cell_type": "code",
   "source": [
    "# # get breakdown of why vpc generation failed - mostly from lack of provisioning/problem being too large\n",
    "# if err[\"no vpcs were made from a new disjunction\"]:\n",
    "#     for code, exps in vpc_err.items():\n",
    "#         print(f\"{code}: {len(exps) / len(err['no vpcs were made from a new disjunction'])}\")\n",
    "#     \n",
    "#     print(f\"other: {len(vpc_other) / len(err['no vpcs were made from a new disjunction'])}\")"
   ],
   "metadata": {
    "collapsed": false,
    "ExecuteTime": {
     "end_time": "2025-07-30T14:55:33.903256Z",
     "start_time": "2025-07-30T14:55:33.901278Z"
    }
   },
   "id": "d2dfbc64d74a0662",
   "outputs": [],
   "execution_count": 31
  },
  {
   "cell_type": "code",
   "source": [
    "print(err[\"must have primalbound >= root lp objective\"])\n",
    "len(err[\"must have primalbound >= root lp objective\"]) / count_series"
   ],
   "metadata": {
    "collapsed": false,
    "ExecuteTime": {
     "end_time": "2025-07-30T14:55:34.707106Z",
     "start_time": "2025-07-30T14:55:34.704031Z"
    }
   },
   "id": "cbe5c977488d207f",
   "outputs": [
    {
     "name": "stdout",
     "output_type": "stream",
     "text": [
      "[]\n"
     ]
    },
    {
     "data": {
      "text/plain": [
       "0.0"
      ]
     },
     "execution_count": 32,
     "metadata": {},
     "output_type": "execute_result"
    }
   ],
   "execution_count": 32
  },
  {
   "cell_type": "code",
   "source": [
    "# LP relaxation objective is not going to match root nodes objective when warm starting \n",
    "print(err[\"objective at parent nodes\"])\n",
    "len(err[\"objective at parent nodes\"]) / count_series"
   ],
   "metadata": {
    "collapsed": false,
    "ExecuteTime": {
     "end_time": "2025-07-30T14:55:36.059719Z",
     "start_time": "2025-07-30T14:55:36.056792Z"
    }
   },
   "id": "e48a519132565dc3",
   "outputs": [
    {
     "name": "stdout",
     "output_type": "stream",
     "text": [
      "[]\n"
     ]
    },
    {
     "data": {
      "text/plain": [
       "0.0"
      ]
     },
     "execution_count": 33,
     "metadata": {},
     "output_type": "execute_result"
    }
   ],
   "execution_count": 33
  },
  {
   "cell_type": "code",
   "source": [
    "# not enough tolerance added to bound (or we hit time limit) - element 2 from 5 and 4 from 4\n",
    "print(err[\"failed to optimize mip\"])\n",
    "len(err[\"failed to optimize mip\"]) / count_series"
   ],
   "metadata": {
    "collapsed": false,
    "ExecuteTime": {
     "end_time": "2025-07-30T14:55:37.394441Z",
     "start_time": "2025-07-30T14:55:37.391845Z"
    }
   },
   "id": "f0cec5808fee4f9f",
   "outputs": [
    {
     "name": "stdout",
     "output_type": "stream",
     "text": [
      "[]\n"
     ]
    },
    {
     "data": {
      "text/plain": [
       "0.0"
      ]
     },
     "execution_count": 34,
     "metadata": {},
     "output_type": "execute_result"
    }
   ],
   "execution_count": 34
  },
  {
   "cell_type": "code",
   "source": [
    "# todo: figure out why\n",
    "print(err[\"disjunction does not represent a full binary tree\"])\n",
    "len(err[\"disjunction does not represent a full binary tree\"]) / count_series"
   ],
   "metadata": {
    "collapsed": false,
    "ExecuteTime": {
     "end_time": "2025-07-30T14:55:38.528953Z",
     "start_time": "2025-07-30T14:55:38.526168Z"
    }
   },
   "id": "60ac343575ffea1b",
   "outputs": [
    {
     "name": "stdout",
     "output_type": "stream",
     "text": [
      "[]\n"
     ]
    },
    {
     "data": {
      "text/plain": [
       "0.0"
      ]
     },
     "execution_count": 35,
     "metadata": {},
     "output_type": "execute_result"
    }
   ],
   "execution_count": 35
  },
  {
   "cell_type": "code",
   "source": [
    "# again issue with not getting through vpc generation in time\n",
    "# todo: handle this gracefully\n",
    "print(err[\"solver not proven optimal for nodes\"])\n",
    "len(err[\"solver not proven optimal for nodes\"]) / count_series"
   ],
   "metadata": {
    "collapsed": false,
    "ExecuteTime": {
     "end_time": "2025-07-30T14:55:39.433753Z",
     "start_time": "2025-07-30T14:55:39.431310Z"
    }
   },
   "id": "9e8cf1d6b6dca990",
   "outputs": [
    {
     "name": "stdout",
     "output_type": "stream",
     "text": [
      "[]\n"
     ]
    },
    {
     "data": {
      "text/plain": [
       "0.0"
      ]
     },
     "execution_count": 36,
     "metadata": {},
     "output_type": "execute_result"
    }
   ],
   "execution_count": 36
  },
  {
   "cell_type": "code",
   "source": [
    "print(err[\"unable to open\"])\n",
    "len(err[\"unable to open\"]) / count_series"
   ],
   "metadata": {
    "collapsed": false,
    "ExecuteTime": {
     "end_time": "2025-07-30T14:55:40.548695Z",
     "start_time": "2025-07-30T14:55:40.546050Z"
    }
   },
   "id": "b6c518ef5d669738",
   "outputs": [
    {
     "name": "stdout",
     "output_type": "stream",
     "text": [
      "[]\n"
     ]
    },
    {
     "data": {
      "text/plain": [
       "0.0"
      ]
     },
     "execution_count": 37,
     "metadata": {},
     "output_type": "execute_result"
    }
   ],
   "execution_count": 37
  },
  {
   "cell_type": "code",
   "source": [
    "print(err[\"license\"])\n",
    "len(err[\"license\"]) / count_series"
   ],
   "metadata": {
    "collapsed": false,
    "ExecuteTime": {
     "end_time": "2025-07-30T14:55:41.480999Z",
     "start_time": "2025-07-30T14:55:41.476699Z"
    }
   },
   "id": "7046e5a3187d32a6",
   "outputs": [
    {
     "name": "stdout",
     "output_type": "stream",
     "text": [
      "[]\n"
     ]
    },
    {
     "data": {
      "text/plain": [
       "0.0"
      ]
     },
     "execution_count": 38,
     "metadata": {},
     "output_type": "execute_result"
    }
   ],
   "execution_count": 38
  },
  {
   "cell_type": "code",
   "source": [
    "print(warning)\n",
    "len(warning) / count_series"
   ],
   "metadata": {
    "collapsed": false,
    "ExecuteTime": {
     "end_time": "2025-07-30T14:55:42.380928Z",
     "start_time": "2025-07-30T14:55:42.378349Z"
    }
   },
   "id": "cbcf42c2debaed4d",
   "outputs": [
    {
     "name": "stdout",
     "output_type": "stream",
     "text": [
      "['bm23_rhs_1_64_New_0', 'bm23_matrix_1_64_New_0', 'bm23_matrix_-1_64_New_0']\n"
     ]
    },
    {
     "data": {
      "text/plain": [
       "0.041666666666666664"
      ]
     },
     "execution_count": 39,
     "metadata": {},
     "output_type": "execute_result"
    }
   ],
   "execution_count": 39
  },
  {
   "cell_type": "code",
   "source": [
    "# errors unaccounted for\n",
    "print(other)\n",
    "len(other) / count_series"
   ],
   "metadata": {
    "collapsed": false,
    "ExecuteTime": {
     "end_time": "2025-07-30T14:55:44.645496Z",
     "start_time": "2025-07-30T14:55:44.642810Z"
    }
   },
   "id": "f2365025f4ca39d4",
   "outputs": [
    {
     "name": "stdout",
     "output_type": "stream",
     "text": [
      "[]\n"
     ]
    },
    {
     "data": {
      "text/plain": [
       "0.0"
      ]
     },
     "execution_count": 40,
     "metadata": {},
     "output_type": "execute_result"
    }
   ],
   "execution_count": 40
  },
  {
   "metadata": {
    "ExecuteTime": {
     "end_time": "2025-07-30T14:55:46.077252Z",
     "start_time": "2025-07-30T14:55:46.074893Z"
    }
   },
   "cell_type": "code",
   "source": [
    "print(err[\"libmkl_intel_lp64.so\"])\n",
    "len(err[\"libmkl_intel_lp64.so\"]) / count_series"
   ],
   "id": "24397a75a38efdd",
   "outputs": [
    {
     "name": "stdout",
     "output_type": "stream",
     "text": [
      "[]\n"
     ]
    },
    {
     "data": {
      "text/plain": [
       "0.0"
      ]
     },
     "execution_count": 41,
     "metadata": {},
     "output_type": "execute_result"
    }
   ],
   "execution_count": 41
  },
  {
   "cell_type": "code",
   "source": [
    "# proportion of series that were improperly provisioned\n",
    "(len(err[\"bad_alloc\"] + err[\"out of memory\"] + err[\"walltime\"] + err[\"vmem\"])) / count_series"
   ],
   "metadata": {
    "collapsed": false,
    "ExecuteTime": {
     "end_time": "2025-07-30T14:55:47.423262Z",
     "start_time": "2025-07-30T14:55:47.420383Z"
    }
   },
   "id": "5cc2517a3d1c1f27",
   "outputs": [
    {
     "data": {
      "text/plain": [
       "0.0"
      ]
     },
     "execution_count": 42,
     "metadata": {},
     "output_type": "execute_result"
    }
   ],
   "execution_count": 42
  },
  {
   "cell_type": "code",
   "source": [
    "print(err[\"dot product with obj differs from solver\"])\n",
    "len(err[\"dot product with obj differs from solver\"]) / count_series"
   ],
   "metadata": {
    "collapsed": false,
    "ExecuteTime": {
     "end_time": "2025-07-30T14:55:47.913466Z",
     "start_time": "2025-07-30T14:55:47.910845Z"
    }
   },
   "id": "e3032aff7dc0df69",
   "outputs": [
    {
     "name": "stdout",
     "output_type": "stream",
     "text": [
      "[]\n"
     ]
    },
    {
     "data": {
      "text/plain": [
       "0.0"
      ]
     },
     "execution_count": 43,
     "metadata": {},
     "output_type": "execute_result"
    }
   ],
   "execution_count": 43
  },
  {
   "cell_type": "code",
   "source": [
    "# changed code to ignore this error\n",
    "print(err[\"gurobi: error during callback: addCut\"])\n",
    "len(err[\"gurobi: error during callback: addCut\"]) / count_series"
   ],
   "metadata": {
    "collapsed": false,
    "ExecuteTime": {
     "end_time": "2025-07-30T14:55:48.610787Z",
     "start_time": "2025-07-30T14:55:48.608165Z"
    }
   },
   "id": "46ead0b00886a34b",
   "outputs": [
    {
     "name": "stdout",
     "output_type": "stream",
     "text": [
      "[]\n"
     ]
    },
    {
     "data": {
      "text/plain": [
       "0.0"
      ]
     },
     "execution_count": 44,
     "metadata": {},
     "output_type": "execute_result"
    }
   ],
   "execution_count": 44
  },
  {
   "cell_type": "code",
   "source": [
    "# largely not replicating - only issue I could find was aleks missing updated objective from CLP when resolving to check this\n",
    "print(err[\"cglvpc::setupconstraints: objective at disjunctive term\"])\n",
    "len(err[\"cglvpc::setupconstraints: objective at disjunctive term\"]) / count_series"
   ],
   "metadata": {
    "collapsed": false,
    "ExecuteTime": {
     "end_time": "2025-07-30T14:55:48.911140Z",
     "start_time": "2025-07-30T14:55:48.908908Z"
    }
   },
   "id": "9656878fa4923ac3",
   "outputs": [
    {
     "name": "stdout",
     "output_type": "stream",
     "text": [
      "[]\n"
     ]
    },
    {
     "data": {
      "text/plain": [
       "0.0"
      ]
     },
     "execution_count": 45,
     "metadata": {},
     "output_type": "execute_result"
    }
   ],
   "execution_count": 45
  },
  {
   "cell_type": "code",
   "source": [
    "# not replicating - rerun\n",
    "print(err[\"unable to read file\"])\n",
    "len(err[\"unable to read file\"]) / count_series"
   ],
   "metadata": {
    "collapsed": false,
    "ExecuteTime": {
     "end_time": "2025-07-30T14:55:49.307662Z",
     "start_time": "2025-07-30T14:55:49.304994Z"
    }
   },
   "id": "846d115fdb5ceb92",
   "outputs": [
    {
     "name": "stdout",
     "output_type": "stream",
     "text": [
      "[]\n"
     ]
    },
    {
     "data": {
      "text/plain": [
       "0.0"
      ]
     },
     "execution_count": 46,
     "metadata": {},
     "output_type": "execute_result"
    }
   ],
   "execution_count": 46
  },
  {
   "cell_type": "code",
   "source": [
    "# not replicating - rerun\n",
    "print(err[\"stats.id == stats_vec\"])\n",
    "len(err[\"stats.id == stats_vec\"]) / count_series"
   ],
   "metadata": {
    "collapsed": false,
    "ExecuteTime": {
     "end_time": "2025-07-30T14:55:49.871557Z",
     "start_time": "2025-07-30T14:55:49.868369Z"
    }
   },
   "id": "577cacfb7625a3fb",
   "outputs": [
    {
     "name": "stdout",
     "output_type": "stream",
     "text": [
      "[]\n"
     ]
    },
    {
     "data": {
      "text/plain": [
       "0.0"
      ]
     },
     "execution_count": 47,
     "metadata": {},
     "output_type": "execute_result"
    }
   ],
   "execution_count": 47
  },
  {
   "cell_type": "code",
   "source": [
    "print(err[\"size of our disjunction is not what we expected it to be\"])\n",
    "len(err[\"size of our disjunction is not what we expected it to be\"]) / count_series"
   ],
   "metadata": {
    "collapsed": false,
    "ExecuteTime": {
     "end_time": "2025-07-30T14:55:50.045633Z",
     "start_time": "2025-07-30T14:55:50.043330Z"
    }
   },
   "id": "9dbd086695fd1686",
   "outputs": [
    {
     "name": "stdout",
     "output_type": "stream",
     "text": [
      "[]\n"
     ]
    },
    {
     "data": {
      "text/plain": [
       "0.0"
      ]
     },
     "execution_count": 48,
     "metadata": {},
     "output_type": "execute_result"
    }
   ],
   "execution_count": 48
  },
  {
   "metadata": {
    "ExecuteTime": {
     "end_time": "2025-07-30T14:55:50.390440Z",
     "start_time": "2025-07-30T14:55:50.387986Z"
    }
   },
   "cell_type": "code",
   "source": [
    "print(err[\"vpcgenerator must be\"])\n",
    "len(err[\"vpcgenerator must be\"]) / count_series"
   ],
   "id": "9fee6bee7c0294d6",
   "outputs": [
    {
     "name": "stdout",
     "output_type": "stream",
     "text": [
      "[]\n"
     ]
    },
    {
     "data": {
      "text/plain": [
       "0.0"
      ]
     },
     "execution_count": 49,
     "metadata": {},
     "output_type": "execute_result"
    }
   ],
   "execution_count": 49
  },
  {
   "metadata": {
    "ExecuteTime": {
     "end_time": "2025-07-30T14:55:50.712893Z",
     "start_time": "2025-07-30T14:55:50.709252Z"
    }
   },
   "cell_type": "code",
   "source": [
    "print(err[\"dimension must stay fixed\"])\n",
    "len(err[\"dimension must stay fixed\"]) / count_series"
   ],
   "id": "f1cac35742f4bf41",
   "outputs": [
    {
     "name": "stdout",
     "output_type": "stream",
     "text": [
      "[]\n"
     ]
    },
    {
     "data": {
      "text/plain": [
       "0.0"
      ]
     },
     "execution_count": 50,
     "metadata": {},
     "output_type": "execute_result"
    }
   ],
   "execution_count": 50
  },
  {
   "metadata": {
    "ExecuteTime": {
     "end_time": "2025-07-30T14:55:51.258020Z",
     "start_time": "2025-07-30T14:55:51.254345Z"
    }
   },
   "cell_type": "code",
   "source": [
    "print(err[\"objective values must match\"])\n",
    "len(err[\"objective values must match\"]) / count_series"
   ],
   "id": "113250662f6b2ae6",
   "outputs": [
    {
     "name": "stdout",
     "output_type": "stream",
     "text": [
      "[]\n"
     ]
    },
    {
     "data": {
      "text/plain": [
       "0.0"
      ]
     },
     "execution_count": 51,
     "metadata": {},
     "output_type": "execute_result"
    }
   ],
   "execution_count": 51
  },
  {
   "metadata": {
    "ExecuteTime": {
     "end_time": "2025-07-30T14:55:51.944499Z",
     "start_time": "2025-07-30T14:55:51.941792Z"
    }
   },
   "cell_type": "code",
   "source": [
    "print(err[\"objective at disjunctive term\"])\n",
    "len(err[\"objective at disjunctive term\"]) / count_series"
   ],
   "id": "fea6ea8755c72dd9",
   "outputs": [
    {
     "name": "stdout",
     "output_type": "stream",
     "text": [
      "[]\n"
     ]
    },
    {
     "data": {
      "text/plain": [
       "0.0"
      ]
     },
     "execution_count": 52,
     "metadata": {},
     "output_type": "execute_result"
    }
   ],
   "execution_count": 52
  },
  {
   "cell_type": "code",
   "source": [
    "# get breakdown of errors\n",
    "for code, exps in err.items():\n",
    "    print(f\"{code}: {len(exps) / count_series}\")\n",
    "\n",
    "print(f\"other: {len(other) / count_series}\")\n",
    "\n",
    "print(f\"warning: {len(warning) / count_series}\")\n",
    "\n",
    "print(f\"no errors/warnings: {len(empty) / count_series}\")\n",
    "\n",
    "print(f\"no go: {len(no_go) / count_series}\")"
   ],
   "metadata": {
    "collapsed": false,
    "ExecuteTime": {
     "end_time": "2025-07-30T14:55:52.676385Z",
     "start_time": "2025-07-30T14:55:52.674096Z"
    }
   },
   "id": "b10b8b1c2fe3ea2c",
   "outputs": [
    {
     "name": "stdout",
     "output_type": "stream",
     "text": [
      "walltime: 0.0\n",
      "bad_alloc: 0.0\n",
      "out of memory: 0.0\n",
      "vmem: 0.0\n",
      "takeoffcuts: 0.0\n",
      "solver is dual infeasible: 0.0\n",
      "solver must be optimal: 0.0\n",
      "segmentation fault: 0.0\n",
      "no vpcs were made from a new disjunction: 0.0\n",
      "must have primalbound >= root lp objective: 0.0\n",
      "objective at parent nodes: 0.0\n",
      "failed to optimize mip: 0.0\n",
      "disjunction does not represent a full binary tree: 0.0\n",
      "solver not proven optimal for nodes: 0.0\n",
      "unable to open: 0.0\n",
      "license: 0.0\n",
      "dot product with obj differs from solver: 0.0\n",
      "gurobi: error during callback: addCut: 0.0\n",
      "cglvpc::setupconstraints: objective at disjunctive term: 0.0\n",
      "unable to read file: 0.0\n",
      "stats.id == stats_vec: 0.0\n",
      "size of our disjunction is not what we expected it to be: 0.0\n",
      "dimension must stay fixed: 0.0\n",
      "vpcgenerator must be: 0.0\n",
      "objective values must match: 0.0\n",
      "objective at disjunctive term: 0.0\n",
      "libmkl_intel_lp64.so: 0.0\n",
      "other: 0.0\n",
      "warning: 0.041666666666666664\n",
      "no errors/warnings: 0.9583333333333334\n",
      "no go: 0.0\n"
     ]
    }
   ],
   "execution_count": 53
  },
  {
   "cell_type": "markdown",
   "source": [
    "## Read in data"
   ],
   "metadata": {
    "collapsed": false,
    "ExecuteTime": {
     "end_time": "2024-04-02T21:45:22.220691Z",
     "start_time": "2024-04-02T21:45:22.181888Z"
    }
   },
   "id": "1b96d76b8971a661"
  },
  {
   "cell_type": "code",
   "source": [
    "# map generator names to the corresponding data frames\n",
    "df_map = {g: pd.DataFrame() for g in generators} \n",
    "gap_map = {g: pd.DataFrame() for g in generators}\n",
    "regex = re.compile(r'([a-zA-Z0-9-]+(?:_o)?)_([a-z]+)_([0-9-]+)_([0-9]+)_([a-zA-Z ]+)')\n",
    "solution_pattern = r\"_(\\d+)\\.pb\"\n",
    "\n",
    "# declaring types as needed\n",
    "column_types = {\n",
    "    \"lpBound\": float,\n",
    "    \"lpBoundPostVpc\": float,\n",
    "    \"disjunctiveDualBound\": float,\n",
    "    \"primalBound\": float,\n",
    "    \"rootDualBound\": float,\n",
    "    \"dualBound\": float\n",
    "}\n",
    "\n",
    "skipped_instances = set()\n",
    "primal_bounds = {}\n",
    "same_solution = {}\n",
    "\n",
    "# iterate over all files in the folder\n",
    "for file_name in os.listdir(results_fldr):\n",
    "    \n",
    "    file_pth = os.path.join(results_fldr, file_name)\n",
    "    \n",
    "    # if the file is not a nonempty csv, skip it\n",
    "    if not file_name.endswith(\".csv\") or os.path.getsize(file_pth) == 0:\n",
    "        continue\n",
    "    \n",
    "    # get the experimental set up\n",
    "    match = regex.search(file_name)\n",
    "    instance_name = names.get(file_name[:-4])\n",
    "    if not instance_name:\n",
    "        skipped_instances.add(file_name[:-4].split(\"_\")[0])\n",
    "        os.remove(file_pth)\n",
    "        continue\n",
    "    # instance_name = match.group(1)\n",
    "    perturbation = match.group(2)\n",
    "    assert perturbation in [\"matrix\", \"rhs\", \"bound\", \"objective\"], f\"Unknown perturbation: {perturbation}\"\n",
    "    expo = int(match.group(3))\n",
    "    assert expo in degrees, f\"Unknown degree: {expo}\"\n",
    "    degree = 2**int(expo)\n",
    "    terms = int(match.group(4))\n",
    "    assert terms in term_list, f\"Unknown number of terms: {terms}\"\n",
    "    generator = match.group(5)\n",
    "    assert generator in generators, f\"Unknown generator: {generator}\"\n",
    "    base_name = f\"{instance_name}_0\"\n",
    "    \n",
    "    # get the primal bounds for this experiment\n",
    "    cur_instance_test_set_fldr = os.path.join(test_set_fldr, instance_name, f\"{perturbation}_{expo}\")\n",
    "    for test_set_file in os.listdir(cur_instance_test_set_fldr):\n",
    "        if test_set_file.endswith(\".pb\"):\n",
    "            with open(os.path.join(cur_instance_test_set_fldr, test_set_file), \"r\") as f:\n",
    "                primal_bounds[perturbation, expo, \".\".join(test_set_file.split(\".\")[:-1])] = float(f.read())\n",
    "                \n",
    "    # see if solution changed\n",
    "    for test_set_file in os.listdir(cur_instance_test_set_fldr):\n",
    "        if test_set_file.endswith(\".pb\"):\n",
    "            perturbation_name = \".\".join(test_set_file.split(\".\")[:-1])\n",
    "            same_solution[perturbation, expo, perturbation_name] = \\\n",
    "                primal_bounds[perturbation, expo, base_name] == primal_bounds[perturbation, expo, perturbation_name]\n",
    "            \n",
    "    # read the file\n",
    "    df = pd.read_csv(file_pth, keep_default_na=False, dtype=column_types, index_col=0)\n",
    "    \n",
    "    for instance_idx in df.index:\n",
    "        \n",
    "        # fill in primal bounds if missing\n",
    "        # df.loc[instance_idx, \"primalBound\"] = min(primal_bounds.get(stem_map.get(instance_idx), 1e100), df.loc[instance_idx, \"primalBound\"])\n",
    "        df.loc[instance_idx, \"primalBound\"] = min(\n",
    "            primal_bounds[perturbation, expo, f\"{instance_name}_{instance_idx}\"], df.loc[instance_idx, \"primalBound\"]\n",
    "        )\n",
    "        \n",
    "        # same with root dual bound\n",
    "        df.loc[instance_idx, \"rootDualBound\"] = df.loc[instance_idx, \"rootDualBound\"] if df.loc[instance_idx, \"rootDualBound\"] < 1e100 else df.loc[instance_idx, \"lpBoundPostVpc\"] \n",
    "    \n",
    "    # get rid of the index so the rest of the notebook works\n",
    "    df.reset_index(inplace=True)\n",
    "    \n",
    "    # add some identifying columns\n",
    "    df[\"instance\"] = instance_name\n",
    "    df[\"perturbation\"] = perturbation\n",
    "    df[\"degree\"] = degree\n",
    "    df[\"terms\"] = terms\n",
    "    df[\"rows\"] = rows[instance_name]\n",
    "    df[\"cols\"] = cols[instance_name]\n",
    "    df[\"density\"] = density[instance_name]\n",
    "    \n",
    "    # append to the appropriate data frame\n",
    "    df_map[generator] = pd.concat([df_map[generator], df])\n",
    "    \n",
    "    # track recorded vs expected experiments\n",
    "    number_instances[file_name[:-4]][\"recorded\"] = len(df)"
   ],
   "metadata": {
    "collapsed": false,
    "ExecuteTime": {
     "end_time": "2025-07-30T14:55:57.355126Z",
     "start_time": "2025-07-30T14:55:56.800124Z"
    }
   },
   "id": "cd620191b5a5849a",
   "outputs": [],
   "execution_count": 54
  },
  {
   "cell_type": "code",
   "source": [
    "# convert number_instances to dataframe\n",
    "frame = pd.DataFrame(number_instances).T\n",
    "frame.head()"
   ],
   "metadata": {
    "collapsed": false,
    "ExecuteTime": {
     "end_time": "2025-07-30T14:55:59.622173Z",
     "start_time": "2025-07-30T14:55:59.614987Z"
    }
   },
   "id": "e87e9581360c0bd9",
   "outputs": [
    {
     "data": {
      "text/plain": [
       "                           expected recorded    generator  error\n",
       "bm23_rhs_1_4_None_0              51       51         None  empty\n",
       "bm23_rhs_1_4_New_0               51       51          New  empty\n",
       "bm23_rhs_1_4_Farkas_0            51       51       Farkas  empty\n",
       "bm23_rhs_1_4_All_0               51       51          All  empty\n",
       "bm23_rhs_1_4_Disjunction_0       51       51  Disjunction  empty"
      ],
      "text/html": [
       "<div>\n",
       "<style scoped>\n",
       "    .dataframe tbody tr th:only-of-type {\n",
       "        vertical-align: middle;\n",
       "    }\n",
       "\n",
       "    .dataframe tbody tr th {\n",
       "        vertical-align: top;\n",
       "    }\n",
       "\n",
       "    .dataframe thead th {\n",
       "        text-align: right;\n",
       "    }\n",
       "</style>\n",
       "<table border=\"1\" class=\"dataframe\">\n",
       "  <thead>\n",
       "    <tr style=\"text-align: right;\">\n",
       "      <th></th>\n",
       "      <th>expected</th>\n",
       "      <th>recorded</th>\n",
       "      <th>generator</th>\n",
       "      <th>error</th>\n",
       "    </tr>\n",
       "  </thead>\n",
       "  <tbody>\n",
       "    <tr>\n",
       "      <th>bm23_rhs_1_4_None_0</th>\n",
       "      <td>51</td>\n",
       "      <td>51</td>\n",
       "      <td>None</td>\n",
       "      <td>empty</td>\n",
       "    </tr>\n",
       "    <tr>\n",
       "      <th>bm23_rhs_1_4_New_0</th>\n",
       "      <td>51</td>\n",
       "      <td>51</td>\n",
       "      <td>New</td>\n",
       "      <td>empty</td>\n",
       "    </tr>\n",
       "    <tr>\n",
       "      <th>bm23_rhs_1_4_Farkas_0</th>\n",
       "      <td>51</td>\n",
       "      <td>51</td>\n",
       "      <td>Farkas</td>\n",
       "      <td>empty</td>\n",
       "    </tr>\n",
       "    <tr>\n",
       "      <th>bm23_rhs_1_4_All_0</th>\n",
       "      <td>51</td>\n",
       "      <td>51</td>\n",
       "      <td>All</td>\n",
       "      <td>empty</td>\n",
       "    </tr>\n",
       "    <tr>\n",
       "      <th>bm23_rhs_1_4_Disjunction_0</th>\n",
       "      <td>51</td>\n",
       "      <td>51</td>\n",
       "      <td>Disjunction</td>\n",
       "      <td>empty</td>\n",
       "    </tr>\n",
       "  </tbody>\n",
       "</table>\n",
       "</div>"
      ]
     },
     "execution_count": 55,
     "metadata": {},
     "output_type": "execute_result"
    }
   ],
   "execution_count": 55
  },
  {
   "cell_type": "code",
   "source": [
    "# redo the runs that have incomplete data that we're not sure should be that way\n",
    "redos = frame.loc[(frame[\"expected\"] > frame[\"recorded\"]) & (frame[\"error\"] != \"no vpcs were made from a new disjunction\")].index.tolist()\n",
    "redos = pd.DataFrame({\"experiment\": redos})\n",
    "redos.to_csv(\"redos.csv\", index=False)"
   ],
   "metadata": {
    "collapsed": false,
    "ExecuteTime": {
     "end_time": "2025-07-30T14:56:02.079241Z",
     "start_time": "2025-07-30T14:56:02.069701Z"
    }
   },
   "id": "98cfdc27dd6a1772",
   "outputs": [],
   "execution_count": 56
  },
  {
   "cell_type": "code",
   "source": [
    "if \"miplib\" in test_set or \"quick\" in test_set:\n",
    "    # group frame by generator and sum remaining columns\n",
    "    gb = frame.groupby([\"generator\", \"error\"]).sum().reset_index()\n",
    "    gb[\"missing\"] = gb[\"expected\"] - gb[\"recorded\"]\n",
    "    total = gb.groupby(\"generator\")[[\"expected\", \"missing\"]].sum().reset_index()\n",
    "    gb = pd.merge(gb, total, on=\"generator\", suffixes=(\"\", \" total\"))\n",
    "    gb[\"ratio missing (by generator)\"] = gb[\"missing\"] / gb[\"missing total\"]\n",
    "    gb[\"ratio missing (by generator)\"] = gb[\"ratio missing (by generator)\"].apply(lambda x: round(x, 4))\n",
    "    gb = gb.loc[:, ~gb.columns.str.contains(\"total\")]  # get rid of the total columns\n",
    "    gb.set_index([\"generator\", \"error\"], inplace=True)\n",
    "    gb.to_csv(os.path.join(out_fldr, \"missing_table.csv\"), index=False, mode=\"w\")\n",
    "else:\n",
    "    gb = None\n",
    "gb"
   ],
   "metadata": {
    "collapsed": false,
    "ExecuteTime": {
     "end_time": "2025-07-30T14:56:04.414926Z",
     "start_time": "2025-07-30T14:56:04.412181Z"
    }
   },
   "id": "3abe705ab17fdd17",
   "outputs": [],
   "execution_count": 57
  },
  {
   "cell_type": "code",
   "source": [
    "for gen in generators:\n",
    "    print(gen)\n",
    "    masks = {\n",
    "        0: -1e20 > df_map[gen][\"lpBound\"],\n",
    "        1: df_map[gen][\"lpBound\"] - 1e-3 > df_map[gen][\"lpBoundPostVpc\"],\n",
    "        2: (df_map[gen][\"lpBoundPostVpc\"] - 1e-3 > df_map[gen][\"disjunctiveDualBound\"]) & ((gen == \"None\") | (gen == \"New\")),\n",
    "        3: df_map[gen][\"rootDualBound\"] - 1e-3 > df_map[gen][\"dualBound\"],\n",
    "        4: (df_map[gen][\"dualBound\"] - 1e-3 > df_map[gen][\"primalBound\"]) & (df_map[gen][\"dualBound\"] / df_map[gen][\"primalBound\"] > 1 + 1e-3),\n",
    "        5: df_map[gen][\"primalBound\"] > 1e20,\n",
    "        6: 0 > df_map[gen][\"vpcGenerationTime\"],\n",
    "        7: df_map[gen][\"vpcGenerationTime\"] - 1e-3 > df_map[gen][\"rootDualBoundTime\"],\n",
    "        8: df_map[gen][\"rootDualBoundTime\"] - 1e-3 > df_map[gen][\"terminationTime\"],\n",
    "        9: df_map[gen][\"vpcGenerationTime\"] - 1e-3 > df_map[gen][\"bestSolutionTime\"],\n",
    "        10: df_map[gen][\"bestSolutionTime\"] - 1e-3 > df_map[gen][\"terminationTime\"]\n",
    "    }\n",
    "    for i, mask in masks.items():\n",
    "        print(f\"{gen} {i}: {mask.sum() / len(df_map[gen])}\")"
   ],
   "metadata": {
    "collapsed": false,
    "ExecuteTime": {
     "end_time": "2025-07-30T14:56:05.646872Z",
     "start_time": "2025-07-30T14:56:05.637257Z"
    }
   },
   "id": "1707d3125161409b",
   "outputs": [
    {
     "name": "stdout",
     "output_type": "stream",
     "text": [
      "None\n",
      "None 0: 0.0\n",
      "None 1: 0.0\n",
      "None 2: 0.0\n",
      "None 3: 0.0\n",
      "None 4: 0.0\n",
      "None 5: 0.0\n",
      "None 6: 0.0\n",
      "None 7: 0.0\n",
      "None 8: 0.0\n",
      "None 9: 0.0\n",
      "None 10: 0.0\n",
      "New\n",
      "New 0: 0.0\n",
      "New 1: 0.0\n",
      "New 2: 0.0\n",
      "New 3: 0.0\n",
      "New 4: 0.0\n",
      "New 5: 0.0\n",
      "New 6: 0.0\n",
      "New 7: 0.0\n",
      "New 8: 0.0\n",
      "New 9: 0.0\n",
      "New 10: 0.0\n",
      "Farkas\n",
      "Farkas 0: 0.0\n",
      "Farkas 1: 0.0\n",
      "Farkas 2: 0.0\n",
      "Farkas 3: 0.0\n",
      "Farkas 4: 0.0\n",
      "Farkas 5: 0.0\n",
      "Farkas 6: 0.0\n",
      "Farkas 7: 0.0\n",
      "Farkas 8: 0.0\n",
      "Farkas 9: 0.0\n",
      "Farkas 10: 0.0\n",
      "All\n",
      "All 0: 0.0\n",
      "All 1: 0.0\n",
      "All 2: 0.0\n",
      "All 3: 0.0\n",
      "All 4: 0.0\n",
      "All 5: 0.0\n",
      "All 6: 0.0\n",
      "All 7: 0.0\n",
      "All 8: 0.0\n",
      "All 9: 0.0\n",
      "All 10: 0.0\n",
      "Disjunction\n",
      "Disjunction 0: 0.0\n",
      "Disjunction 1: 0.0\n",
      "Disjunction 2: 0.0\n",
      "Disjunction 3: 0.0\n",
      "Disjunction 4: 0.0\n",
      "Disjunction 5: 0.0\n",
      "Disjunction 6: 0.0\n",
      "Disjunction 7: 0.0\n",
      "Disjunction 8: 0.0\n",
      "Disjunction 9: 0.0\n",
      "Disjunction 10: 0.0\n",
      "NoDisjunction\n",
      "NoDisjunction 0: 0.0\n",
      "NoDisjunction 1: 0.0\n",
      "NoDisjunction 2: 0.0\n",
      "NoDisjunction 3: 0.0\n",
      "NoDisjunction 4: 0.0\n",
      "NoDisjunction 5: 0.0\n",
      "NoDisjunction 6: 0.0\n",
      "NoDisjunction 7: 0.0\n",
      "NoDisjunction 8: 0.0\n",
      "NoDisjunction 9: 0.0\n",
      "NoDisjunction 10: 0.0\n"
     ]
    }
   ],
   "execution_count": 58
  },
  {
   "metadata": {
    "ExecuteTime": {
     "end_time": "2025-07-30T14:56:07.002669Z",
     "start_time": "2025-07-30T14:56:07.000229Z"
    }
   },
   "cell_type": "code",
   "source": [
    "for gen, df in df_map.items():\n",
    "    print(f\"{gen}: {df.size}\")"
   ],
   "id": "6c043590a262730d",
   "outputs": [
    {
     "name": "stdout",
     "output_type": "stream",
     "text": [
      "None: 23256\n",
      "New: 21774\n",
      "Farkas: 23256\n",
      "All: 23256\n",
      "Disjunction: 23256\n",
      "NoDisjunction: 23256\n"
     ]
    }
   ],
   "execution_count": 59
  },
  {
   "cell_type": "code",
   "source": [
    "# it shouldn't be possible that dual bound > primal bound. this only happens when we use the saved primal bound, which was used to set the dual bound\n",
    "df_map[\"Farkas\"][masks[0]]"
   ],
   "metadata": {
    "collapsed": false,
    "ExecuteTime": {
     "end_time": "2025-07-30T14:56:10.956157Z",
     "start_time": "2025-07-30T14:56:10.951013Z"
    }
   },
   "id": "4103872f43233ad8",
   "outputs": [
    {
     "data": {
      "text/plain": [
       "Empty DataFrame\n",
       "Columns: [instanceIndex, seedIndex, vpcGenerator, terms, lpBound, disjunctiveDualBound, lpBoundPostVpc, rootDualBound, dualBound, primalBound, vpcGenerationTime, rootDualBoundTime, bestSolutionTime, terminationTime, nodes, iterations, maxTime, actualTerms, numCuts, cutLimit, mipSolver, providePrimalBound, infeasibleTerms, feasibleToInfeasibleTerms, infeasibleToFeasibleTerms, termRemainsFeasibleBasisInfeasible, cutsChangedCoefficients, feasibleTermsPrunedByBound, tighten_disjunction, tighten_matrix_perturbation, tighten_infeasible_to_feasible_term, tighten_feasible_to_infeasible_basis, instance, perturbation, degree, rows, cols, density]\n",
       "Index: []\n",
       "\n",
       "[0 rows x 38 columns]"
      ],
      "text/html": [
       "<div>\n",
       "<style scoped>\n",
       "    .dataframe tbody tr th:only-of-type {\n",
       "        vertical-align: middle;\n",
       "    }\n",
       "\n",
       "    .dataframe tbody tr th {\n",
       "        vertical-align: top;\n",
       "    }\n",
       "\n",
       "    .dataframe thead th {\n",
       "        text-align: right;\n",
       "    }\n",
       "</style>\n",
       "<table border=\"1\" class=\"dataframe\">\n",
       "  <thead>\n",
       "    <tr style=\"text-align: right;\">\n",
       "      <th></th>\n",
       "      <th>instanceIndex</th>\n",
       "      <th>seedIndex</th>\n",
       "      <th>vpcGenerator</th>\n",
       "      <th>terms</th>\n",
       "      <th>lpBound</th>\n",
       "      <th>disjunctiveDualBound</th>\n",
       "      <th>lpBoundPostVpc</th>\n",
       "      <th>rootDualBound</th>\n",
       "      <th>dualBound</th>\n",
       "      <th>primalBound</th>\n",
       "      <th>...</th>\n",
       "      <th>tighten_disjunction</th>\n",
       "      <th>tighten_matrix_perturbation</th>\n",
       "      <th>tighten_infeasible_to_feasible_term</th>\n",
       "      <th>tighten_feasible_to_infeasible_basis</th>\n",
       "      <th>instance</th>\n",
       "      <th>perturbation</th>\n",
       "      <th>degree</th>\n",
       "      <th>rows</th>\n",
       "      <th>cols</th>\n",
       "      <th>density</th>\n",
       "    </tr>\n",
       "  </thead>\n",
       "  <tbody>\n",
       "  </tbody>\n",
       "</table>\n",
       "<p>0 rows × 38 columns</p>\n",
       "</div>"
      ]
     },
     "execution_count": 60,
     "metadata": {},
     "output_type": "execute_result"
    }
   ],
   "execution_count": 60
  },
  {
   "cell_type": "code",
   "source": [
    "for gen in df_map:\n",
    "    mask = (-1e20 > df_map[gen][\"lpBound\"]) | \\\n",
    "        (df_map[gen][\"lpBound\"] - 1e-3 > df_map[gen][\"lpBoundPostVpc\"]) | \\\n",
    "        ((df_map[gen][\"lpBoundPostVpc\"] - 1e-3 > df_map[gen][\"disjunctiveDualBound\"]) & (gen != \"Farkas\")) | \\\n",
    "        (df_map[gen][\"rootDualBound\"] - 1e-3 > df_map[gen][\"dualBound\"]) | \\\n",
    "        ((df_map[gen][\"dualBound\"] - 1e-3 > df_map[gen][\"primalBound\"]) & (df_map[gen][\"dualBound\"] / df_map[gen][\"primalBound\"] > 1 + 1e-3)) | \\\n",
    "        (df_map[gen][\"primalBound\"] > 1e20) | \\\n",
    "        (0 > df_map[gen][\"vpcGenerationTime\"]) | \\\n",
    "        (df_map[gen][\"vpcGenerationTime\"] - 1e-3 > df_map[gen][\"rootDualBoundTime\"]) | \\\n",
    "        (df_map[gen][\"rootDualBoundTime\"] - 1e-3 > df_map[gen][\"terminationTime\"]) | \\\n",
    "        (df_map[gen][\"vpcGenerationTime\"] - 1e-3 > df_map[gen][\"bestSolutionTime\"]) | \\\n",
    "        (df_map[gen][\"bestSolutionTime\"] - 1e-3 > df_map[gen][\"terminationTime\"])\n",
    "    print(f\"{gen}: {mask.sum() / len(df_map[gen])}\")\n",
    "    df_map[gen] = df_map[gen][~mask]"
   ],
   "metadata": {
    "collapsed": false,
    "ExecuteTime": {
     "end_time": "2025-07-30T14:56:12.939368Z",
     "start_time": "2025-07-30T14:56:12.926699Z"
    }
   },
   "id": "a9109f5e39680bda",
   "outputs": [
    {
     "name": "stdout",
     "output_type": "stream",
     "text": [
      "None: 0.0\n",
      "New: 0.0\n",
      "Farkas: 0.0\n",
      "All: 0.0\n",
      "Disjunction: 0.0\n",
      "NoDisjunction: 0.0\n"
     ]
    }
   ],
   "execution_count": 61
  },
  {
   "cell_type": "code",
   "source": [
    "# merge the different data frames into one\n",
    "join_cols = [\"instance\", \"perturbation\", \"degree\", \"terms\", \"instanceIndex\", \"seedIndex\"]\n",
    "df = df_map[generators[0]].merge(df_map[generators[1]], on=join_cols, suffixes=(f\" {generators[0]}\", None))\n",
    "for g1, g2 in zip(generators[1:-1], generators[2:]):\n",
    "    df = df.merge(df_map[g2], on=join_cols, suffixes=(f\" {g1}\", None if g2 != generators[-1] else f\" {g2}\"))\n",
    "df.head()"
   ],
   "metadata": {
    "collapsed": false,
    "ExecuteTime": {
     "end_time": "2025-07-30T14:56:15.228976Z",
     "start_time": "2025-07-30T14:56:15.210687Z"
    }
   },
   "id": "66dfd7e3d44a3585",
   "outputs": [
    {
     "data": {
      "text/plain": [
       "   instanceIndex  seedIndex vpcGenerator None  terms  lpBound None  \\\n",
       "0              0          0              None     64     20.570922   \n",
       "1              1          0              None     64     20.714410   \n",
       "2             10          0              None     64     20.854768   \n",
       "3             11          0              None     64     20.570922   \n",
       "4             12          0              None     64     20.326438   \n",
       "\n",
       "   disjunctiveDualBound None  lpBoundPostVpc None  rootDualBound None  \\\n",
       "0                  20.570922            20.570922           26.469830   \n",
       "1                  20.714410            20.714410           25.749979   \n",
       "2                  20.854768            20.854768           25.749979   \n",
       "3                  20.570922            20.570922           26.469830   \n",
       "4                  20.326438            20.326438           26.469830   \n",
       "\n",
       "   dualBound None  primalBound None  ...  \\\n",
       "0            34.0              34.0  ...   \n",
       "1            34.0              34.0  ...   \n",
       "2            34.0              34.0  ...   \n",
       "3            34.0              34.0  ...   \n",
       "4            34.0              34.0  ...   \n",
       "\n",
       "   termRemainsFeasibleBasisInfeasible NoDisjunction  \\\n",
       "0                                                 0   \n",
       "1                                                18   \n",
       "2                                                12   \n",
       "3                                                 4   \n",
       "4                                                 4   \n",
       "\n",
       "   cutsChangedCoefficients NoDisjunction  \\\n",
       "0                                      0   \n",
       "1                                      0   \n",
       "2                                      0   \n",
       "3                                      0   \n",
       "4                                      0   \n",
       "\n",
       "   feasibleTermsPrunedByBound NoDisjunction  \\\n",
       "0                                         0   \n",
       "1                                         0   \n",
       "2                                         0   \n",
       "3                                         0   \n",
       "4                                         0   \n",
       "\n",
       "   tighten_disjunction NoDisjunction  \\\n",
       "0                                  0   \n",
       "1                                  0   \n",
       "2                                  0   \n",
       "3                                  0   \n",
       "4                                  0   \n",
       "\n",
       "   tighten_matrix_perturbation NoDisjunction  \\\n",
       "0                                          0   \n",
       "1                                          1   \n",
       "2                                          1   \n",
       "3                                          1   \n",
       "4                                          1   \n",
       "\n",
       "   tighten_infeasible_to_feasible_term NoDisjunction  \\\n",
       "0                                                  0   \n",
       "1                                                  1   \n",
       "2                                                  1   \n",
       "3                                                  1   \n",
       "4                                                  1   \n",
       "\n",
       "   tighten_feasible_to_infeasible_basis NoDisjunction  rows NoDisjunction  \\\n",
       "0                                                  0                   20   \n",
       "1                                                  1                   20   \n",
       "2                                                  1                   20   \n",
       "3                                                  1                   20   \n",
       "4                                                  1                   20   \n",
       "\n",
       "   cols NoDisjunction  density NoDisjunction  \n",
       "0                  27               0.885185  \n",
       "1                  27               0.885185  \n",
       "2                  27               0.885185  \n",
       "3                  27               0.885185  \n",
       "4                  27               0.885185  \n",
       "\n",
       "[5 rows x 198 columns]"
      ],
      "text/html": [
       "<div>\n",
       "<style scoped>\n",
       "    .dataframe tbody tr th:only-of-type {\n",
       "        vertical-align: middle;\n",
       "    }\n",
       "\n",
       "    .dataframe tbody tr th {\n",
       "        vertical-align: top;\n",
       "    }\n",
       "\n",
       "    .dataframe thead th {\n",
       "        text-align: right;\n",
       "    }\n",
       "</style>\n",
       "<table border=\"1\" class=\"dataframe\">\n",
       "  <thead>\n",
       "    <tr style=\"text-align: right;\">\n",
       "      <th></th>\n",
       "      <th>instanceIndex</th>\n",
       "      <th>seedIndex</th>\n",
       "      <th>vpcGenerator None</th>\n",
       "      <th>terms</th>\n",
       "      <th>lpBound None</th>\n",
       "      <th>disjunctiveDualBound None</th>\n",
       "      <th>lpBoundPostVpc None</th>\n",
       "      <th>rootDualBound None</th>\n",
       "      <th>dualBound None</th>\n",
       "      <th>primalBound None</th>\n",
       "      <th>...</th>\n",
       "      <th>termRemainsFeasibleBasisInfeasible NoDisjunction</th>\n",
       "      <th>cutsChangedCoefficients NoDisjunction</th>\n",
       "      <th>feasibleTermsPrunedByBound NoDisjunction</th>\n",
       "      <th>tighten_disjunction NoDisjunction</th>\n",
       "      <th>tighten_matrix_perturbation NoDisjunction</th>\n",
       "      <th>tighten_infeasible_to_feasible_term NoDisjunction</th>\n",
       "      <th>tighten_feasible_to_infeasible_basis NoDisjunction</th>\n",
       "      <th>rows NoDisjunction</th>\n",
       "      <th>cols NoDisjunction</th>\n",
       "      <th>density NoDisjunction</th>\n",
       "    </tr>\n",
       "  </thead>\n",
       "  <tbody>\n",
       "    <tr>\n",
       "      <th>0</th>\n",
       "      <td>0</td>\n",
       "      <td>0</td>\n",
       "      <td>None</td>\n",
       "      <td>64</td>\n",
       "      <td>20.570922</td>\n",
       "      <td>20.570922</td>\n",
       "      <td>20.570922</td>\n",
       "      <td>26.469830</td>\n",
       "      <td>34.0</td>\n",
       "      <td>34.0</td>\n",
       "      <td>...</td>\n",
       "      <td>0</td>\n",
       "      <td>0</td>\n",
       "      <td>0</td>\n",
       "      <td>0</td>\n",
       "      <td>0</td>\n",
       "      <td>0</td>\n",
       "      <td>0</td>\n",
       "      <td>20</td>\n",
       "      <td>27</td>\n",
       "      <td>0.885185</td>\n",
       "    </tr>\n",
       "    <tr>\n",
       "      <th>1</th>\n",
       "      <td>1</td>\n",
       "      <td>0</td>\n",
       "      <td>None</td>\n",
       "      <td>64</td>\n",
       "      <td>20.714410</td>\n",
       "      <td>20.714410</td>\n",
       "      <td>20.714410</td>\n",
       "      <td>25.749979</td>\n",
       "      <td>34.0</td>\n",
       "      <td>34.0</td>\n",
       "      <td>...</td>\n",
       "      <td>18</td>\n",
       "      <td>0</td>\n",
       "      <td>0</td>\n",
       "      <td>0</td>\n",
       "      <td>1</td>\n",
       "      <td>1</td>\n",
       "      <td>1</td>\n",
       "      <td>20</td>\n",
       "      <td>27</td>\n",
       "      <td>0.885185</td>\n",
       "    </tr>\n",
       "    <tr>\n",
       "      <th>2</th>\n",
       "      <td>10</td>\n",
       "      <td>0</td>\n",
       "      <td>None</td>\n",
       "      <td>64</td>\n",
       "      <td>20.854768</td>\n",
       "      <td>20.854768</td>\n",
       "      <td>20.854768</td>\n",
       "      <td>25.749979</td>\n",
       "      <td>34.0</td>\n",
       "      <td>34.0</td>\n",
       "      <td>...</td>\n",
       "      <td>12</td>\n",
       "      <td>0</td>\n",
       "      <td>0</td>\n",
       "      <td>0</td>\n",
       "      <td>1</td>\n",
       "      <td>1</td>\n",
       "      <td>1</td>\n",
       "      <td>20</td>\n",
       "      <td>27</td>\n",
       "      <td>0.885185</td>\n",
       "    </tr>\n",
       "    <tr>\n",
       "      <th>3</th>\n",
       "      <td>11</td>\n",
       "      <td>0</td>\n",
       "      <td>None</td>\n",
       "      <td>64</td>\n",
       "      <td>20.570922</td>\n",
       "      <td>20.570922</td>\n",
       "      <td>20.570922</td>\n",
       "      <td>26.469830</td>\n",
       "      <td>34.0</td>\n",
       "      <td>34.0</td>\n",
       "      <td>...</td>\n",
       "      <td>4</td>\n",
       "      <td>0</td>\n",
       "      <td>0</td>\n",
       "      <td>0</td>\n",
       "      <td>1</td>\n",
       "      <td>1</td>\n",
       "      <td>1</td>\n",
       "      <td>20</td>\n",
       "      <td>27</td>\n",
       "      <td>0.885185</td>\n",
       "    </tr>\n",
       "    <tr>\n",
       "      <th>4</th>\n",
       "      <td>12</td>\n",
       "      <td>0</td>\n",
       "      <td>None</td>\n",
       "      <td>64</td>\n",
       "      <td>20.326438</td>\n",
       "      <td>20.326438</td>\n",
       "      <td>20.326438</td>\n",
       "      <td>26.469830</td>\n",
       "      <td>34.0</td>\n",
       "      <td>34.0</td>\n",
       "      <td>...</td>\n",
       "      <td>4</td>\n",
       "      <td>0</td>\n",
       "      <td>0</td>\n",
       "      <td>0</td>\n",
       "      <td>1</td>\n",
       "      <td>1</td>\n",
       "      <td>1</td>\n",
       "      <td>20</td>\n",
       "      <td>27</td>\n",
       "      <td>0.885185</td>\n",
       "    </tr>\n",
       "  </tbody>\n",
       "</table>\n",
       "<p>5 rows × 198 columns</p>\n",
       "</div>"
      ]
     },
     "execution_count": 62,
     "metadata": {},
     "output_type": "execute_result"
    }
   ],
   "execution_count": 62
  },
  {
   "cell_type": "code",
   "source": [
    "# get proportion of tests run to completion\n",
    "len(generators) * len(df) / count_instances"
   ],
   "metadata": {
    "collapsed": false,
    "ExecuteTime": {
     "end_time": "2025-07-30T14:56:16.507485Z",
     "start_time": "2025-07-30T14:56:16.505574Z"
    }
   },
   "id": "3eb13128df183faf",
   "outputs": [
    {
     "data": {
      "text/plain": [
       "0.9362745098039216"
      ]
     },
     "execution_count": 63,
     "metadata": {},
     "output_type": "execute_result"
    }
   ],
   "execution_count": 63
  },
  {
   "metadata": {
    "ExecuteTime": {
     "end_time": "2025-07-30T14:56:38.022018Z",
     "start_time": "2025-07-30T14:56:38.004526Z"
    }
   },
   "cell_type": "code",
   "source": [
    "# assign nan's to experiments that didn't need to run - matrix support for RHS or any support for objective \n",
    "if filter_redundant:\n",
    "    target_cols = [c for c in df.columns if any(s in c for s in [\" NoDisjunction\", \" All\"])\n",
    "                   and any(metric in c for metric in [\"Bound\", \"Time\", \"nodes\", \"iterations\"])]\n",
    "    df.loc[df[\"perturbation\"] == \"objective\", target_cols] = np.nan"
   ],
   "id": "bc31a60fc5170f89",
   "outputs": [],
   "execution_count": 64
  },
  {
   "cell_type": "code",
   "source": [
    "def gap_closed(df, col):\n",
    "    gap = abs(df[col] - df[\"lpBound None\"]) / abs(df['primalBound None'] - df[\"lpBound None\"])\n",
    "    gap[(gap > 1) | (gap == np.nan)] = 1  # get corner cases\n",
    "    return gap\n",
    "\n",
    "# Function to map values based on a dictionary\n",
    "def check_same_solution(row):\n",
    "    # Create a tuple of the key based on the key_columns\n",
    "    return same_solution[row[\"perturbation\"], int(math.log2(row[\"degree\"])), f'{row[\"instance\"]}_{row[\"instanceIndex\"]}']"
   ],
   "metadata": {
    "collapsed": false,
    "ExecuteTime": {
     "end_time": "2025-07-30T14:56:39.244138Z",
     "start_time": "2025-07-30T14:56:39.242Z"
    }
   },
   "id": "184a7a72592a8126",
   "outputs": [],
   "execution_count": 65
  },
  {
   "cell_type": "code",
   "source": [
    "# find the optimality gap closed by each generator\n",
    "df[\"Disjunction (New)\"] = gap_closed(df, \"disjunctiveDualBound New\")\n",
    "df[\"Disjunction (Old)\"] = gap_closed(df, \"disjunctiveDualBound Farkas\")\n",
    "for g in generators:\n",
    "    if g != \"None\":\n",
    "        df[f\"VPCs ({g})\"] = gap_closed(df, f\"lpBoundPostVpc {g}\")        \n",
    "    df[f\"Root Cuts ({g})\"] = gap_closed(df, f\"rootDualBound {g}\")\n",
    "\n",
    "df[\"Root Optimality Gap Improvement\"] = df[\"Root Cuts (Farkas)\"] - df[\"Root Cuts (None)\"] \n",
    "# df = df.dropna()"
   ],
   "metadata": {
    "collapsed": false,
    "ExecuteTime": {
     "end_time": "2025-07-30T14:56:41.070458Z",
     "start_time": "2025-07-30T14:56:41.058698Z"
    }
   },
   "id": "2e64c92d6bbd14b9",
   "outputs": [],
   "execution_count": 66
  },
  {
   "cell_type": "code",
   "source": [
    "# find times without vpc generation\n",
    "df[\"terminationTimeSansVpc None\"] = df[\"terminationTime None\"]\n",
    "df[\"rootDualBoundTimeSansVpc None\"] = df[\"rootDualBoundTime None\"]\n",
    "for gen in generators:\n",
    "    if gen != \"None\":\n",
    "        df[f\"terminationTimeSansVpc {gen}\"] = df[f\"terminationTime {gen}\"] - df[f\"vpcGenerationTime {gen}\"]\n",
    "        df[f\"rootDualBoundTimeSansVpc {gen}\"] = df[f\"rootDualBoundTime {gen}\"] - df[f\"vpcGenerationTime {gen}\"]\n",
    "    df[f\"postRootTime {gen}\"] = df[f\"terminationTime {gen}\"] - df[f\"rootDualBoundTime {gen}\"]\n",
    "    if gen not in [\"None\", \"New\"]:\n",
    "        df[f\"terminationTimeImprovement {gen}\"] = (df[\"terminationTime None\"] - df[f\"terminationTime {gen}\"]) / df[\"terminationTime None\"]\n",
    "        df[f\"terminationTimeSansVpcImprovement {gen}\"] = (df[\"terminationTimeSansVpc None\"] - df[f\"terminationTimeSansVpc {gen}\"]) / df[\"terminationTimeSansVpc None\"]\n",
    "        df[f\"nodesImprovement {gen}\"] = (df[\"nodes None\"] - df[f\"nodes {gen}\"]) / df[\"nodes None\"] \n",
    "        df[f\"iterationsImprovement {gen}\"] = (df[\"iterations None\"] - df[f\"iterations {gen}\"]) / df[\"iterations None\"] \n",
    "        df[f\"terminationTimeRatio {gen}\"] = df[f\"terminationTime {gen}\"] / df[\"terminationTime None\"]\n",
    "        df[f\"terminationTimeSansVpcRatio {gen}\"] = df[f\"terminationTimeSansVpc {gen}\"] / df[\"terminationTimeSansVpc None\"]\n",
    "        df[f\"nodesRatio {gen}\"] = df[f\"nodes {gen}\"] / df[\"nodes None\"] \n",
    "        df[f\"iterationsRatio {gen}\"] = df[f\"iterations {gen}\"] / df[\"iterations None\"]\n",
    "        df[f\"nodesImproves {gen}\"] = df[\"nodes None\"] > df[f\"nodes {gen}\"]\n",
    "        df[f\"terminationTimeImproves {gen}\"] = df[\"terminationTime None\"] > df[f\"terminationTime {gen}\"]\n",
    "        df[f\"terminationTimeSansVpcImproves {gen}\"] = df[\"terminationTimeSansVpc None\"] > df[f\"terminationTimeSansVpc {gen}\"]\n",
    "        df[f\"iterationsImproves {gen}\"] = df[\"iterations None\"] > df[f\"iterations {gen}\"]\n",
    "        \n",
    "# df[f'{metric}Win{gen}'] = df[[f'{metric} {gen2}' for gen2 in compare_gens]].mean(axis=1) - 3 * df[[f'{metric} {gen2}' for gen2 in compare_gens]].std(axis=1) > df[f'{metric} {gen}']\n",
    "for metric in [\"nodes\", \"terminationTime\", \"terminationTimeSansVpc\", \"iterations\"]:\n",
    "    \n",
    "    # does the generator win against all others?\n",
    "    individuals = [\"None\"] + test_generators\n",
    "    for gen in individuals:\n",
    "        df[f'{metric}Win{gen}VsAll'] = pd.concat([\n",
    "            pd.Series(\n",
    "                np.where(\n",
    "                    df[f'{metric} {gen}'].isna(), False,\n",
    "                    np.where(\n",
    "                        df[f'{metric} {gen2}'].isna(), True,\n",
    "                        df[f'{metric} {gen2}'] * (1 - win_threshold) > df[f'{metric} {gen}']\n",
    "                    )\n",
    "                ),\n",
    "                index=df.index\n",
    "            )\n",
    "            for gen2 in generators if gen2 != gen\n",
    "        ], axis=1).all(axis=1)\n",
    "        \n",
    "    # does the disjunctive generator win against None?\n",
    "    for gen in disjunctive_generators: \n",
    "        df[f'{metric}Win{gen}'] = pd.Series(\n",
    "                np.where(\n",
    "                    df[f'{metric} {gen}'].isna(), False,\n",
    "                    df[f'{metric} None'] * (1 - win_threshold) > df[f'{metric} {gen}']\n",
    "                ), index=df.index\n",
    "            )\n",
    "\n",
    "    # does any disjunctive generator win against None?\n",
    "    df[f'{metric}WinAny'] = pd.concat([\n",
    "        pd.Series(\n",
    "            np.where(\n",
    "                df[f'{metric} {gen}'].isna(), False,\n",
    "                df[f'{metric} None'] * (1 - win_threshold) > df[f'{metric} {gen}']\n",
    "            ),\n",
    "            index=df.index\n",
    "        )\n",
    "        for gen in disjunctive_generators\n",
    "    ], axis=1).any(axis=1)\n",
    "    \n",
    "    # does any parametric generator win against None?\n",
    "    df[f'{metric}WinParametric'] = pd.concat([\n",
    "        pd.Series(\n",
    "            np.where(\n",
    "                df[f'{metric} {gen}'].isna(), False,\n",
    "                df[f'{metric} None'] * (1 - win_threshold) > df[f'{metric} {gen}']\n",
    "            ),\n",
    "            index=df.index\n",
    "        )\n",
    "        for gen in parametric_generators\n",
    "    ], axis=1).any(axis=1)\n",
    "    \n",
    "    # does any strengthened parametric generator win against None?\n",
    "    df[f'{metric}WinStrengthened'] = pd.concat([\n",
    "        df[f\"{metric}Win{gen}\"] for gen in test_generators\n",
    "        ], axis=1).any(axis=1)\n",
    "\n",
    "df[\"bracket\"] = [\"short\" if t <= short else \"medium\" if t <= medium else \"long\" for t in df[\"terminationTime None\"]]\n",
    "df[\"sameSolution\"] = df.apply(check_same_solution, axis=1)"
   ],
   "metadata": {
    "collapsed": false,
    "ExecuteTime": {
     "end_time": "2025-07-30T14:56:41.618683Z",
     "start_time": "2025-07-30T14:56:41.561406Z"
    }
   },
   "id": "b4ee3b9fd2d34abf",
   "outputs": [
    {
     "name": "stderr",
     "output_type": "stream",
     "text": [
      "/var/folders/pb/p1sshdnx5sv12zwsxff8nrg40000gn/T/ipykernel_2851/2909675915.py:12: PerformanceWarning: DataFrame is highly fragmented.  This is usually the result of calling `frame.insert` many times, which has poor performance.  Consider joining all columns at once using pd.concat(axis=1) instead. To get a de-fragmented frame, use `newframe = frame.copy()`\n",
      "  df[f\"nodesImprovement {gen}\"] = (df[\"nodes None\"] - df[f\"nodes {gen}\"]) / df[\"nodes None\"]\n",
      "/var/folders/pb/p1sshdnx5sv12zwsxff8nrg40000gn/T/ipykernel_2851/2909675915.py:13: PerformanceWarning: DataFrame is highly fragmented.  This is usually the result of calling `frame.insert` many times, which has poor performance.  Consider joining all columns at once using pd.concat(axis=1) instead. To get a de-fragmented frame, use `newframe = frame.copy()`\n",
      "  df[f\"iterationsImprovement {gen}\"] = (df[\"iterations None\"] - df[f\"iterations {gen}\"]) / df[\"iterations None\"]\n",
      "/var/folders/pb/p1sshdnx5sv12zwsxff8nrg40000gn/T/ipykernel_2851/2909675915.py:14: PerformanceWarning: DataFrame is highly fragmented.  This is usually the result of calling `frame.insert` many times, which has poor performance.  Consider joining all columns at once using pd.concat(axis=1) instead. To get a de-fragmented frame, use `newframe = frame.copy()`\n",
      "  df[f\"terminationTimeRatio {gen}\"] = df[f\"terminationTime {gen}\"] / df[\"terminationTime None\"]\n",
      "/var/folders/pb/p1sshdnx5sv12zwsxff8nrg40000gn/T/ipykernel_2851/2909675915.py:15: PerformanceWarning: DataFrame is highly fragmented.  This is usually the result of calling `frame.insert` many times, which has poor performance.  Consider joining all columns at once using pd.concat(axis=1) instead. To get a de-fragmented frame, use `newframe = frame.copy()`\n",
      "  df[f\"terminationTimeSansVpcRatio {gen}\"] = df[f\"terminationTimeSansVpc {gen}\"] / df[\"terminationTimeSansVpc None\"]\n",
      "/var/folders/pb/p1sshdnx5sv12zwsxff8nrg40000gn/T/ipykernel_2851/2909675915.py:16: PerformanceWarning: DataFrame is highly fragmented.  This is usually the result of calling `frame.insert` many times, which has poor performance.  Consider joining all columns at once using pd.concat(axis=1) instead. To get a de-fragmented frame, use `newframe = frame.copy()`\n",
      "  df[f\"nodesRatio {gen}\"] = df[f\"nodes {gen}\"] / df[\"nodes None\"]\n",
      "/var/folders/pb/p1sshdnx5sv12zwsxff8nrg40000gn/T/ipykernel_2851/2909675915.py:17: PerformanceWarning: DataFrame is highly fragmented.  This is usually the result of calling `frame.insert` many times, which has poor performance.  Consider joining all columns at once using pd.concat(axis=1) instead. To get a de-fragmented frame, use `newframe = frame.copy()`\n",
      "  df[f\"iterationsRatio {gen}\"] = df[f\"iterations {gen}\"] / df[\"iterations None\"]\n",
      "/var/folders/pb/p1sshdnx5sv12zwsxff8nrg40000gn/T/ipykernel_2851/2909675915.py:18: PerformanceWarning: DataFrame is highly fragmented.  This is usually the result of calling `frame.insert` many times, which has poor performance.  Consider joining all columns at once using pd.concat(axis=1) instead. To get a de-fragmented frame, use `newframe = frame.copy()`\n",
      "  df[f\"nodesImproves {gen}\"] = df[\"nodes None\"] > df[f\"nodes {gen}\"]\n",
      "/var/folders/pb/p1sshdnx5sv12zwsxff8nrg40000gn/T/ipykernel_2851/2909675915.py:19: PerformanceWarning: DataFrame is highly fragmented.  This is usually the result of calling `frame.insert` many times, which has poor performance.  Consider joining all columns at once using pd.concat(axis=1) instead. To get a de-fragmented frame, use `newframe = frame.copy()`\n",
      "  df[f\"terminationTimeImproves {gen}\"] = df[\"terminationTime None\"] > df[f\"terminationTime {gen}\"]\n",
      "/var/folders/pb/p1sshdnx5sv12zwsxff8nrg40000gn/T/ipykernel_2851/2909675915.py:20: PerformanceWarning: DataFrame is highly fragmented.  This is usually the result of calling `frame.insert` many times, which has poor performance.  Consider joining all columns at once using pd.concat(axis=1) instead. To get a de-fragmented frame, use `newframe = frame.copy()`\n",
      "  df[f\"terminationTimeSansVpcImproves {gen}\"] = df[\"terminationTimeSansVpc None\"] > df[f\"terminationTimeSansVpc {gen}\"]\n",
      "/var/folders/pb/p1sshdnx5sv12zwsxff8nrg40000gn/T/ipykernel_2851/2909675915.py:21: PerformanceWarning: DataFrame is highly fragmented.  This is usually the result of calling `frame.insert` many times, which has poor performance.  Consider joining all columns at once using pd.concat(axis=1) instead. To get a de-fragmented frame, use `newframe = frame.copy()`\n",
      "  df[f\"iterationsImproves {gen}\"] = df[\"iterations None\"] > df[f\"iterations {gen}\"]\n",
      "/var/folders/pb/p1sshdnx5sv12zwsxff8nrg40000gn/T/ipykernel_2851/2909675915.py:29: PerformanceWarning: DataFrame is highly fragmented.  This is usually the result of calling `frame.insert` many times, which has poor performance.  Consider joining all columns at once using pd.concat(axis=1) instead. To get a de-fragmented frame, use `newframe = frame.copy()`\n",
      "  df[f'{metric}Win{gen}VsAll'] = pd.concat([\n",
      "/var/folders/pb/p1sshdnx5sv12zwsxff8nrg40000gn/T/ipykernel_2851/2909675915.py:29: PerformanceWarning: DataFrame is highly fragmented.  This is usually the result of calling `frame.insert` many times, which has poor performance.  Consider joining all columns at once using pd.concat(axis=1) instead. To get a de-fragmented frame, use `newframe = frame.copy()`\n",
      "  df[f'{metric}Win{gen}VsAll'] = pd.concat([\n",
      "/var/folders/pb/p1sshdnx5sv12zwsxff8nrg40000gn/T/ipykernel_2851/2909675915.py:29: PerformanceWarning: DataFrame is highly fragmented.  This is usually the result of calling `frame.insert` many times, which has poor performance.  Consider joining all columns at once using pd.concat(axis=1) instead. To get a de-fragmented frame, use `newframe = frame.copy()`\n",
      "  df[f'{metric}Win{gen}VsAll'] = pd.concat([\n",
      "/var/folders/pb/p1sshdnx5sv12zwsxff8nrg40000gn/T/ipykernel_2851/2909675915.py:29: PerformanceWarning: DataFrame is highly fragmented.  This is usually the result of calling `frame.insert` many times, which has poor performance.  Consider joining all columns at once using pd.concat(axis=1) instead. To get a de-fragmented frame, use `newframe = frame.copy()`\n",
      "  df[f'{metric}Win{gen}VsAll'] = pd.concat([\n",
      "/var/folders/pb/p1sshdnx5sv12zwsxff8nrg40000gn/T/ipykernel_2851/2909675915.py:45: PerformanceWarning: DataFrame is highly fragmented.  This is usually the result of calling `frame.insert` many times, which has poor performance.  Consider joining all columns at once using pd.concat(axis=1) instead. To get a de-fragmented frame, use `newframe = frame.copy()`\n",
      "  df[f'{metric}Win{gen}'] = pd.Series(\n",
      "/var/folders/pb/p1sshdnx5sv12zwsxff8nrg40000gn/T/ipykernel_2851/2909675915.py:45: PerformanceWarning: DataFrame is highly fragmented.  This is usually the result of calling `frame.insert` many times, which has poor performance.  Consider joining all columns at once using pd.concat(axis=1) instead. To get a de-fragmented frame, use `newframe = frame.copy()`\n",
      "  df[f'{metric}Win{gen}'] = pd.Series(\n",
      "/var/folders/pb/p1sshdnx5sv12zwsxff8nrg40000gn/T/ipykernel_2851/2909675915.py:45: PerformanceWarning: DataFrame is highly fragmented.  This is usually the result of calling `frame.insert` many times, which has poor performance.  Consider joining all columns at once using pd.concat(axis=1) instead. To get a de-fragmented frame, use `newframe = frame.copy()`\n",
      "  df[f'{metric}Win{gen}'] = pd.Series(\n",
      "/var/folders/pb/p1sshdnx5sv12zwsxff8nrg40000gn/T/ipykernel_2851/2909675915.py:45: PerformanceWarning: DataFrame is highly fragmented.  This is usually the result of calling `frame.insert` many times, which has poor performance.  Consider joining all columns at once using pd.concat(axis=1) instead. To get a de-fragmented frame, use `newframe = frame.copy()`\n",
      "  df[f'{metric}Win{gen}'] = pd.Series(\n",
      "/var/folders/pb/p1sshdnx5sv12zwsxff8nrg40000gn/T/ipykernel_2851/2909675915.py:45: PerformanceWarning: DataFrame is highly fragmented.  This is usually the result of calling `frame.insert` many times, which has poor performance.  Consider joining all columns at once using pd.concat(axis=1) instead. To get a de-fragmented frame, use `newframe = frame.copy()`\n",
      "  df[f'{metric}Win{gen}'] = pd.Series(\n",
      "/var/folders/pb/p1sshdnx5sv12zwsxff8nrg40000gn/T/ipykernel_2851/2909675915.py:53: PerformanceWarning: DataFrame is highly fragmented.  This is usually the result of calling `frame.insert` many times, which has poor performance.  Consider joining all columns at once using pd.concat(axis=1) instead. To get a de-fragmented frame, use `newframe = frame.copy()`\n",
      "  df[f'{metric}WinAny'] = pd.concat([\n",
      "/var/folders/pb/p1sshdnx5sv12zwsxff8nrg40000gn/T/ipykernel_2851/2909675915.py:65: PerformanceWarning: DataFrame is highly fragmented.  This is usually the result of calling `frame.insert` many times, which has poor performance.  Consider joining all columns at once using pd.concat(axis=1) instead. To get a de-fragmented frame, use `newframe = frame.copy()`\n",
      "  df[f'{metric}WinParametric'] = pd.concat([\n",
      "/var/folders/pb/p1sshdnx5sv12zwsxff8nrg40000gn/T/ipykernel_2851/2909675915.py:77: PerformanceWarning: DataFrame is highly fragmented.  This is usually the result of calling `frame.insert` many times, which has poor performance.  Consider joining all columns at once using pd.concat(axis=1) instead. To get a de-fragmented frame, use `newframe = frame.copy()`\n",
      "  df[f'{metric}WinStrengthened'] = pd.concat([\n",
      "/var/folders/pb/p1sshdnx5sv12zwsxff8nrg40000gn/T/ipykernel_2851/2909675915.py:29: PerformanceWarning: DataFrame is highly fragmented.  This is usually the result of calling `frame.insert` many times, which has poor performance.  Consider joining all columns at once using pd.concat(axis=1) instead. To get a de-fragmented frame, use `newframe = frame.copy()`\n",
      "  df[f'{metric}Win{gen}VsAll'] = pd.concat([\n",
      "/var/folders/pb/p1sshdnx5sv12zwsxff8nrg40000gn/T/ipykernel_2851/2909675915.py:29: PerformanceWarning: DataFrame is highly fragmented.  This is usually the result of calling `frame.insert` many times, which has poor performance.  Consider joining all columns at once using pd.concat(axis=1) instead. To get a de-fragmented frame, use `newframe = frame.copy()`\n",
      "  df[f'{metric}Win{gen}VsAll'] = pd.concat([\n",
      "/var/folders/pb/p1sshdnx5sv12zwsxff8nrg40000gn/T/ipykernel_2851/2909675915.py:29: PerformanceWarning: DataFrame is highly fragmented.  This is usually the result of calling `frame.insert` many times, which has poor performance.  Consider joining all columns at once using pd.concat(axis=1) instead. To get a de-fragmented frame, use `newframe = frame.copy()`\n",
      "  df[f'{metric}Win{gen}VsAll'] = pd.concat([\n",
      "/var/folders/pb/p1sshdnx5sv12zwsxff8nrg40000gn/T/ipykernel_2851/2909675915.py:29: PerformanceWarning: DataFrame is highly fragmented.  This is usually the result of calling `frame.insert` many times, which has poor performance.  Consider joining all columns at once using pd.concat(axis=1) instead. To get a de-fragmented frame, use `newframe = frame.copy()`\n",
      "  df[f'{metric}Win{gen}VsAll'] = pd.concat([\n",
      "/var/folders/pb/p1sshdnx5sv12zwsxff8nrg40000gn/T/ipykernel_2851/2909675915.py:45: PerformanceWarning: DataFrame is highly fragmented.  This is usually the result of calling `frame.insert` many times, which has poor performance.  Consider joining all columns at once using pd.concat(axis=1) instead. To get a de-fragmented frame, use `newframe = frame.copy()`\n",
      "  df[f'{metric}Win{gen}'] = pd.Series(\n",
      "/var/folders/pb/p1sshdnx5sv12zwsxff8nrg40000gn/T/ipykernel_2851/2909675915.py:45: PerformanceWarning: DataFrame is highly fragmented.  This is usually the result of calling `frame.insert` many times, which has poor performance.  Consider joining all columns at once using pd.concat(axis=1) instead. To get a de-fragmented frame, use `newframe = frame.copy()`\n",
      "  df[f'{metric}Win{gen}'] = pd.Series(\n",
      "/var/folders/pb/p1sshdnx5sv12zwsxff8nrg40000gn/T/ipykernel_2851/2909675915.py:45: PerformanceWarning: DataFrame is highly fragmented.  This is usually the result of calling `frame.insert` many times, which has poor performance.  Consider joining all columns at once using pd.concat(axis=1) instead. To get a de-fragmented frame, use `newframe = frame.copy()`\n",
      "  df[f'{metric}Win{gen}'] = pd.Series(\n",
      "/var/folders/pb/p1sshdnx5sv12zwsxff8nrg40000gn/T/ipykernel_2851/2909675915.py:45: PerformanceWarning: DataFrame is highly fragmented.  This is usually the result of calling `frame.insert` many times, which has poor performance.  Consider joining all columns at once using pd.concat(axis=1) instead. To get a de-fragmented frame, use `newframe = frame.copy()`\n",
      "  df[f'{metric}Win{gen}'] = pd.Series(\n",
      "/var/folders/pb/p1sshdnx5sv12zwsxff8nrg40000gn/T/ipykernel_2851/2909675915.py:45: PerformanceWarning: DataFrame is highly fragmented.  This is usually the result of calling `frame.insert` many times, which has poor performance.  Consider joining all columns at once using pd.concat(axis=1) instead. To get a de-fragmented frame, use `newframe = frame.copy()`\n",
      "  df[f'{metric}Win{gen}'] = pd.Series(\n",
      "/var/folders/pb/p1sshdnx5sv12zwsxff8nrg40000gn/T/ipykernel_2851/2909675915.py:53: PerformanceWarning: DataFrame is highly fragmented.  This is usually the result of calling `frame.insert` many times, which has poor performance.  Consider joining all columns at once using pd.concat(axis=1) instead. To get a de-fragmented frame, use `newframe = frame.copy()`\n",
      "  df[f'{metric}WinAny'] = pd.concat([\n",
      "/var/folders/pb/p1sshdnx5sv12zwsxff8nrg40000gn/T/ipykernel_2851/2909675915.py:65: PerformanceWarning: DataFrame is highly fragmented.  This is usually the result of calling `frame.insert` many times, which has poor performance.  Consider joining all columns at once using pd.concat(axis=1) instead. To get a de-fragmented frame, use `newframe = frame.copy()`\n",
      "  df[f'{metric}WinParametric'] = pd.concat([\n",
      "/var/folders/pb/p1sshdnx5sv12zwsxff8nrg40000gn/T/ipykernel_2851/2909675915.py:77: PerformanceWarning: DataFrame is highly fragmented.  This is usually the result of calling `frame.insert` many times, which has poor performance.  Consider joining all columns at once using pd.concat(axis=1) instead. To get a de-fragmented frame, use `newframe = frame.copy()`\n",
      "  df[f'{metric}WinStrengthened'] = pd.concat([\n",
      "/var/folders/pb/p1sshdnx5sv12zwsxff8nrg40000gn/T/ipykernel_2851/2909675915.py:29: PerformanceWarning: DataFrame is highly fragmented.  This is usually the result of calling `frame.insert` many times, which has poor performance.  Consider joining all columns at once using pd.concat(axis=1) instead. To get a de-fragmented frame, use `newframe = frame.copy()`\n",
      "  df[f'{metric}Win{gen}VsAll'] = pd.concat([\n",
      "/var/folders/pb/p1sshdnx5sv12zwsxff8nrg40000gn/T/ipykernel_2851/2909675915.py:29: PerformanceWarning: DataFrame is highly fragmented.  This is usually the result of calling `frame.insert` many times, which has poor performance.  Consider joining all columns at once using pd.concat(axis=1) instead. To get a de-fragmented frame, use `newframe = frame.copy()`\n",
      "  df[f'{metric}Win{gen}VsAll'] = pd.concat([\n",
      "/var/folders/pb/p1sshdnx5sv12zwsxff8nrg40000gn/T/ipykernel_2851/2909675915.py:29: PerformanceWarning: DataFrame is highly fragmented.  This is usually the result of calling `frame.insert` many times, which has poor performance.  Consider joining all columns at once using pd.concat(axis=1) instead. To get a de-fragmented frame, use `newframe = frame.copy()`\n",
      "  df[f'{metric}Win{gen}VsAll'] = pd.concat([\n",
      "/var/folders/pb/p1sshdnx5sv12zwsxff8nrg40000gn/T/ipykernel_2851/2909675915.py:29: PerformanceWarning: DataFrame is highly fragmented.  This is usually the result of calling `frame.insert` many times, which has poor performance.  Consider joining all columns at once using pd.concat(axis=1) instead. To get a de-fragmented frame, use `newframe = frame.copy()`\n",
      "  df[f'{metric}Win{gen}VsAll'] = pd.concat([\n",
      "/var/folders/pb/p1sshdnx5sv12zwsxff8nrg40000gn/T/ipykernel_2851/2909675915.py:45: PerformanceWarning: DataFrame is highly fragmented.  This is usually the result of calling `frame.insert` many times, which has poor performance.  Consider joining all columns at once using pd.concat(axis=1) instead. To get a de-fragmented frame, use `newframe = frame.copy()`\n",
      "  df[f'{metric}Win{gen}'] = pd.Series(\n",
      "/var/folders/pb/p1sshdnx5sv12zwsxff8nrg40000gn/T/ipykernel_2851/2909675915.py:45: PerformanceWarning: DataFrame is highly fragmented.  This is usually the result of calling `frame.insert` many times, which has poor performance.  Consider joining all columns at once using pd.concat(axis=1) instead. To get a de-fragmented frame, use `newframe = frame.copy()`\n",
      "  df[f'{metric}Win{gen}'] = pd.Series(\n",
      "/var/folders/pb/p1sshdnx5sv12zwsxff8nrg40000gn/T/ipykernel_2851/2909675915.py:45: PerformanceWarning: DataFrame is highly fragmented.  This is usually the result of calling `frame.insert` many times, which has poor performance.  Consider joining all columns at once using pd.concat(axis=1) instead. To get a de-fragmented frame, use `newframe = frame.copy()`\n",
      "  df[f'{metric}Win{gen}'] = pd.Series(\n",
      "/var/folders/pb/p1sshdnx5sv12zwsxff8nrg40000gn/T/ipykernel_2851/2909675915.py:45: PerformanceWarning: DataFrame is highly fragmented.  This is usually the result of calling `frame.insert` many times, which has poor performance.  Consider joining all columns at once using pd.concat(axis=1) instead. To get a de-fragmented frame, use `newframe = frame.copy()`\n",
      "  df[f'{metric}Win{gen}'] = pd.Series(\n",
      "/var/folders/pb/p1sshdnx5sv12zwsxff8nrg40000gn/T/ipykernel_2851/2909675915.py:45: PerformanceWarning: DataFrame is highly fragmented.  This is usually the result of calling `frame.insert` many times, which has poor performance.  Consider joining all columns at once using pd.concat(axis=1) instead. To get a de-fragmented frame, use `newframe = frame.copy()`\n",
      "  df[f'{metric}Win{gen}'] = pd.Series(\n",
      "/var/folders/pb/p1sshdnx5sv12zwsxff8nrg40000gn/T/ipykernel_2851/2909675915.py:53: PerformanceWarning: DataFrame is highly fragmented.  This is usually the result of calling `frame.insert` many times, which has poor performance.  Consider joining all columns at once using pd.concat(axis=1) instead. To get a de-fragmented frame, use `newframe = frame.copy()`\n",
      "  df[f'{metric}WinAny'] = pd.concat([\n",
      "/var/folders/pb/p1sshdnx5sv12zwsxff8nrg40000gn/T/ipykernel_2851/2909675915.py:65: PerformanceWarning: DataFrame is highly fragmented.  This is usually the result of calling `frame.insert` many times, which has poor performance.  Consider joining all columns at once using pd.concat(axis=1) instead. To get a de-fragmented frame, use `newframe = frame.copy()`\n",
      "  df[f'{metric}WinParametric'] = pd.concat([\n",
      "/var/folders/pb/p1sshdnx5sv12zwsxff8nrg40000gn/T/ipykernel_2851/2909675915.py:77: PerformanceWarning: DataFrame is highly fragmented.  This is usually the result of calling `frame.insert` many times, which has poor performance.  Consider joining all columns at once using pd.concat(axis=1) instead. To get a de-fragmented frame, use `newframe = frame.copy()`\n",
      "  df[f'{metric}WinStrengthened'] = pd.concat([\n",
      "/var/folders/pb/p1sshdnx5sv12zwsxff8nrg40000gn/T/ipykernel_2851/2909675915.py:29: PerformanceWarning: DataFrame is highly fragmented.  This is usually the result of calling `frame.insert` many times, which has poor performance.  Consider joining all columns at once using pd.concat(axis=1) instead. To get a de-fragmented frame, use `newframe = frame.copy()`\n",
      "  df[f'{metric}Win{gen}VsAll'] = pd.concat([\n",
      "/var/folders/pb/p1sshdnx5sv12zwsxff8nrg40000gn/T/ipykernel_2851/2909675915.py:29: PerformanceWarning: DataFrame is highly fragmented.  This is usually the result of calling `frame.insert` many times, which has poor performance.  Consider joining all columns at once using pd.concat(axis=1) instead. To get a de-fragmented frame, use `newframe = frame.copy()`\n",
      "  df[f'{metric}Win{gen}VsAll'] = pd.concat([\n",
      "/var/folders/pb/p1sshdnx5sv12zwsxff8nrg40000gn/T/ipykernel_2851/2909675915.py:29: PerformanceWarning: DataFrame is highly fragmented.  This is usually the result of calling `frame.insert` many times, which has poor performance.  Consider joining all columns at once using pd.concat(axis=1) instead. To get a de-fragmented frame, use `newframe = frame.copy()`\n",
      "  df[f'{metric}Win{gen}VsAll'] = pd.concat([\n",
      "/var/folders/pb/p1sshdnx5sv12zwsxff8nrg40000gn/T/ipykernel_2851/2909675915.py:29: PerformanceWarning: DataFrame is highly fragmented.  This is usually the result of calling `frame.insert` many times, which has poor performance.  Consider joining all columns at once using pd.concat(axis=1) instead. To get a de-fragmented frame, use `newframe = frame.copy()`\n",
      "  df[f'{metric}Win{gen}VsAll'] = pd.concat([\n",
      "/var/folders/pb/p1sshdnx5sv12zwsxff8nrg40000gn/T/ipykernel_2851/2909675915.py:45: PerformanceWarning: DataFrame is highly fragmented.  This is usually the result of calling `frame.insert` many times, which has poor performance.  Consider joining all columns at once using pd.concat(axis=1) instead. To get a de-fragmented frame, use `newframe = frame.copy()`\n",
      "  df[f'{metric}Win{gen}'] = pd.Series(\n",
      "/var/folders/pb/p1sshdnx5sv12zwsxff8nrg40000gn/T/ipykernel_2851/2909675915.py:45: PerformanceWarning: DataFrame is highly fragmented.  This is usually the result of calling `frame.insert` many times, which has poor performance.  Consider joining all columns at once using pd.concat(axis=1) instead. To get a de-fragmented frame, use `newframe = frame.copy()`\n",
      "  df[f'{metric}Win{gen}'] = pd.Series(\n",
      "/var/folders/pb/p1sshdnx5sv12zwsxff8nrg40000gn/T/ipykernel_2851/2909675915.py:45: PerformanceWarning: DataFrame is highly fragmented.  This is usually the result of calling `frame.insert` many times, which has poor performance.  Consider joining all columns at once using pd.concat(axis=1) instead. To get a de-fragmented frame, use `newframe = frame.copy()`\n",
      "  df[f'{metric}Win{gen}'] = pd.Series(\n",
      "/var/folders/pb/p1sshdnx5sv12zwsxff8nrg40000gn/T/ipykernel_2851/2909675915.py:45: PerformanceWarning: DataFrame is highly fragmented.  This is usually the result of calling `frame.insert` many times, which has poor performance.  Consider joining all columns at once using pd.concat(axis=1) instead. To get a de-fragmented frame, use `newframe = frame.copy()`\n",
      "  df[f'{metric}Win{gen}'] = pd.Series(\n",
      "/var/folders/pb/p1sshdnx5sv12zwsxff8nrg40000gn/T/ipykernel_2851/2909675915.py:45: PerformanceWarning: DataFrame is highly fragmented.  This is usually the result of calling `frame.insert` many times, which has poor performance.  Consider joining all columns at once using pd.concat(axis=1) instead. To get a de-fragmented frame, use `newframe = frame.copy()`\n",
      "  df[f'{metric}Win{gen}'] = pd.Series(\n",
      "/var/folders/pb/p1sshdnx5sv12zwsxff8nrg40000gn/T/ipykernel_2851/2909675915.py:53: PerformanceWarning: DataFrame is highly fragmented.  This is usually the result of calling `frame.insert` many times, which has poor performance.  Consider joining all columns at once using pd.concat(axis=1) instead. To get a de-fragmented frame, use `newframe = frame.copy()`\n",
      "  df[f'{metric}WinAny'] = pd.concat([\n",
      "/var/folders/pb/p1sshdnx5sv12zwsxff8nrg40000gn/T/ipykernel_2851/2909675915.py:65: PerformanceWarning: DataFrame is highly fragmented.  This is usually the result of calling `frame.insert` many times, which has poor performance.  Consider joining all columns at once using pd.concat(axis=1) instead. To get a de-fragmented frame, use `newframe = frame.copy()`\n",
      "  df[f'{metric}WinParametric'] = pd.concat([\n",
      "/var/folders/pb/p1sshdnx5sv12zwsxff8nrg40000gn/T/ipykernel_2851/2909675915.py:77: PerformanceWarning: DataFrame is highly fragmented.  This is usually the result of calling `frame.insert` many times, which has poor performance.  Consider joining all columns at once using pd.concat(axis=1) instead. To get a de-fragmented frame, use `newframe = frame.copy()`\n",
      "  df[f'{metric}WinStrengthened'] = pd.concat([\n",
      "/var/folders/pb/p1sshdnx5sv12zwsxff8nrg40000gn/T/ipykernel_2851/2909675915.py:81: PerformanceWarning: DataFrame is highly fragmented.  This is usually the result of calling `frame.insert` many times, which has poor performance.  Consider joining all columns at once using pd.concat(axis=1) instead. To get a de-fragmented frame, use `newframe = frame.copy()`\n",
      "  df[\"bracket\"] = [\"short\" if t <= short else \"medium\" if t <= medium else \"long\" for t in df[\"terminationTime None\"]]\n",
      "/var/folders/pb/p1sshdnx5sv12zwsxff8nrg40000gn/T/ipykernel_2851/2909675915.py:82: PerformanceWarning: DataFrame is highly fragmented.  This is usually the result of calling `frame.insert` many times, which has poor performance.  Consider joining all columns at once using pd.concat(axis=1) instead. To get a de-fragmented frame, use `newframe = frame.copy()`\n",
      "  df[\"sameSolution\"] = df.apply(check_same_solution, axis=1)\n"
     ]
    }
   ],
   "execution_count": 67
  },
  {
   "cell_type": "code",
   "source": [
    "# get sensitivity stats as ratios\n",
    "for gen_name in generators:\n",
    "    if gen_name == \"None\":\n",
    "        continue\n",
    "    df[f\"infeasibleTermsRatio {gen_name}\"] = df[f\"infeasibleTerms {gen_name}\"] / df[f\"actualTerms {gen_name}\"]\n",
    "    df[f\"infeasibleToFeasibleTermsRatio {gen_name}\"] = df[f\"infeasibleToFeasibleTerms {gen_name}\"] / df[f\"actualTerms {gen_name}\"]\n",
    "    df[f\"zeroInfeasibleToFeasibleTerms {gen_name}\"] = df[f\"infeasibleToFeasibleTerms {gen_name}\"] == 0\n",
    "    df[f\"feasibleToInfeasibleTermsRatio {gen_name}\"] = df[f\"feasibleToInfeasibleTerms {gen_name}\"] / df[f\"actualTerms {gen_name}\"]"
   ],
   "metadata": {
    "collapsed": false,
    "ExecuteTime": {
     "end_time": "2025-07-30T14:56:44.001097Z",
     "start_time": "2025-07-30T14:56:43.994457Z"
    }
   },
   "id": "d7bf06fb128ade6",
   "outputs": [
    {
     "name": "stderr",
     "output_type": "stream",
     "text": [
      "/var/folders/pb/p1sshdnx5sv12zwsxff8nrg40000gn/T/ipykernel_2851/393337708.py:5: PerformanceWarning: DataFrame is highly fragmented.  This is usually the result of calling `frame.insert` many times, which has poor performance.  Consider joining all columns at once using pd.concat(axis=1) instead. To get a de-fragmented frame, use `newframe = frame.copy()`\n",
      "  df[f\"infeasibleTermsRatio {gen_name}\"] = df[f\"infeasibleTerms {gen_name}\"] / df[f\"actualTerms {gen_name}\"]\n",
      "/var/folders/pb/p1sshdnx5sv12zwsxff8nrg40000gn/T/ipykernel_2851/393337708.py:6: PerformanceWarning: DataFrame is highly fragmented.  This is usually the result of calling `frame.insert` many times, which has poor performance.  Consider joining all columns at once using pd.concat(axis=1) instead. To get a de-fragmented frame, use `newframe = frame.copy()`\n",
      "  df[f\"infeasibleToFeasibleTermsRatio {gen_name}\"] = df[f\"infeasibleToFeasibleTerms {gen_name}\"] / df[f\"actualTerms {gen_name}\"]\n",
      "/var/folders/pb/p1sshdnx5sv12zwsxff8nrg40000gn/T/ipykernel_2851/393337708.py:7: PerformanceWarning: DataFrame is highly fragmented.  This is usually the result of calling `frame.insert` many times, which has poor performance.  Consider joining all columns at once using pd.concat(axis=1) instead. To get a de-fragmented frame, use `newframe = frame.copy()`\n",
      "  df[f\"zeroInfeasibleToFeasibleTerms {gen_name}\"] = df[f\"infeasibleToFeasibleTerms {gen_name}\"] == 0\n",
      "/var/folders/pb/p1sshdnx5sv12zwsxff8nrg40000gn/T/ipykernel_2851/393337708.py:8: PerformanceWarning: DataFrame is highly fragmented.  This is usually the result of calling `frame.insert` many times, which has poor performance.  Consider joining all columns at once using pd.concat(axis=1) instead. To get a de-fragmented frame, use `newframe = frame.copy()`\n",
      "  df[f\"feasibleToInfeasibleTermsRatio {gen_name}\"] = df[f\"feasibleToInfeasibleTerms {gen_name}\"] / df[f\"actualTerms {gen_name}\"]\n",
      "/var/folders/pb/p1sshdnx5sv12zwsxff8nrg40000gn/T/ipykernel_2851/393337708.py:5: PerformanceWarning: DataFrame is highly fragmented.  This is usually the result of calling `frame.insert` many times, which has poor performance.  Consider joining all columns at once using pd.concat(axis=1) instead. To get a de-fragmented frame, use `newframe = frame.copy()`\n",
      "  df[f\"infeasibleTermsRatio {gen_name}\"] = df[f\"infeasibleTerms {gen_name}\"] / df[f\"actualTerms {gen_name}\"]\n",
      "/var/folders/pb/p1sshdnx5sv12zwsxff8nrg40000gn/T/ipykernel_2851/393337708.py:6: PerformanceWarning: DataFrame is highly fragmented.  This is usually the result of calling `frame.insert` many times, which has poor performance.  Consider joining all columns at once using pd.concat(axis=1) instead. To get a de-fragmented frame, use `newframe = frame.copy()`\n",
      "  df[f\"infeasibleToFeasibleTermsRatio {gen_name}\"] = df[f\"infeasibleToFeasibleTerms {gen_name}\"] / df[f\"actualTerms {gen_name}\"]\n",
      "/var/folders/pb/p1sshdnx5sv12zwsxff8nrg40000gn/T/ipykernel_2851/393337708.py:7: PerformanceWarning: DataFrame is highly fragmented.  This is usually the result of calling `frame.insert` many times, which has poor performance.  Consider joining all columns at once using pd.concat(axis=1) instead. To get a de-fragmented frame, use `newframe = frame.copy()`\n",
      "  df[f\"zeroInfeasibleToFeasibleTerms {gen_name}\"] = df[f\"infeasibleToFeasibleTerms {gen_name}\"] == 0\n",
      "/var/folders/pb/p1sshdnx5sv12zwsxff8nrg40000gn/T/ipykernel_2851/393337708.py:8: PerformanceWarning: DataFrame is highly fragmented.  This is usually the result of calling `frame.insert` many times, which has poor performance.  Consider joining all columns at once using pd.concat(axis=1) instead. To get a de-fragmented frame, use `newframe = frame.copy()`\n",
      "  df[f\"feasibleToInfeasibleTermsRatio {gen_name}\"] = df[f\"feasibleToInfeasibleTerms {gen_name}\"] / df[f\"actualTerms {gen_name}\"]\n",
      "/var/folders/pb/p1sshdnx5sv12zwsxff8nrg40000gn/T/ipykernel_2851/393337708.py:5: PerformanceWarning: DataFrame is highly fragmented.  This is usually the result of calling `frame.insert` many times, which has poor performance.  Consider joining all columns at once using pd.concat(axis=1) instead. To get a de-fragmented frame, use `newframe = frame.copy()`\n",
      "  df[f\"infeasibleTermsRatio {gen_name}\"] = df[f\"infeasibleTerms {gen_name}\"] / df[f\"actualTerms {gen_name}\"]\n",
      "/var/folders/pb/p1sshdnx5sv12zwsxff8nrg40000gn/T/ipykernel_2851/393337708.py:6: PerformanceWarning: DataFrame is highly fragmented.  This is usually the result of calling `frame.insert` many times, which has poor performance.  Consider joining all columns at once using pd.concat(axis=1) instead. To get a de-fragmented frame, use `newframe = frame.copy()`\n",
      "  df[f\"infeasibleToFeasibleTermsRatio {gen_name}\"] = df[f\"infeasibleToFeasibleTerms {gen_name}\"] / df[f\"actualTerms {gen_name}\"]\n",
      "/var/folders/pb/p1sshdnx5sv12zwsxff8nrg40000gn/T/ipykernel_2851/393337708.py:7: PerformanceWarning: DataFrame is highly fragmented.  This is usually the result of calling `frame.insert` many times, which has poor performance.  Consider joining all columns at once using pd.concat(axis=1) instead. To get a de-fragmented frame, use `newframe = frame.copy()`\n",
      "  df[f\"zeroInfeasibleToFeasibleTerms {gen_name}\"] = df[f\"infeasibleToFeasibleTerms {gen_name}\"] == 0\n",
      "/var/folders/pb/p1sshdnx5sv12zwsxff8nrg40000gn/T/ipykernel_2851/393337708.py:8: PerformanceWarning: DataFrame is highly fragmented.  This is usually the result of calling `frame.insert` many times, which has poor performance.  Consider joining all columns at once using pd.concat(axis=1) instead. To get a de-fragmented frame, use `newframe = frame.copy()`\n",
      "  df[f\"feasibleToInfeasibleTermsRatio {gen_name}\"] = df[f\"feasibleToInfeasibleTerms {gen_name}\"] / df[f\"actualTerms {gen_name}\"]\n",
      "/var/folders/pb/p1sshdnx5sv12zwsxff8nrg40000gn/T/ipykernel_2851/393337708.py:5: PerformanceWarning: DataFrame is highly fragmented.  This is usually the result of calling `frame.insert` many times, which has poor performance.  Consider joining all columns at once using pd.concat(axis=1) instead. To get a de-fragmented frame, use `newframe = frame.copy()`\n",
      "  df[f\"infeasibleTermsRatio {gen_name}\"] = df[f\"infeasibleTerms {gen_name}\"] / df[f\"actualTerms {gen_name}\"]\n",
      "/var/folders/pb/p1sshdnx5sv12zwsxff8nrg40000gn/T/ipykernel_2851/393337708.py:6: PerformanceWarning: DataFrame is highly fragmented.  This is usually the result of calling `frame.insert` many times, which has poor performance.  Consider joining all columns at once using pd.concat(axis=1) instead. To get a de-fragmented frame, use `newframe = frame.copy()`\n",
      "  df[f\"infeasibleToFeasibleTermsRatio {gen_name}\"] = df[f\"infeasibleToFeasibleTerms {gen_name}\"] / df[f\"actualTerms {gen_name}\"]\n",
      "/var/folders/pb/p1sshdnx5sv12zwsxff8nrg40000gn/T/ipykernel_2851/393337708.py:7: PerformanceWarning: DataFrame is highly fragmented.  This is usually the result of calling `frame.insert` many times, which has poor performance.  Consider joining all columns at once using pd.concat(axis=1) instead. To get a de-fragmented frame, use `newframe = frame.copy()`\n",
      "  df[f\"zeroInfeasibleToFeasibleTerms {gen_name}\"] = df[f\"infeasibleToFeasibleTerms {gen_name}\"] == 0\n",
      "/var/folders/pb/p1sshdnx5sv12zwsxff8nrg40000gn/T/ipykernel_2851/393337708.py:8: PerformanceWarning: DataFrame is highly fragmented.  This is usually the result of calling `frame.insert` many times, which has poor performance.  Consider joining all columns at once using pd.concat(axis=1) instead. To get a de-fragmented frame, use `newframe = frame.copy()`\n",
      "  df[f\"feasibleToInfeasibleTermsRatio {gen_name}\"] = df[f\"feasibleToInfeasibleTerms {gen_name}\"] / df[f\"actualTerms {gen_name}\"]\n",
      "/var/folders/pb/p1sshdnx5sv12zwsxff8nrg40000gn/T/ipykernel_2851/393337708.py:5: PerformanceWarning: DataFrame is highly fragmented.  This is usually the result of calling `frame.insert` many times, which has poor performance.  Consider joining all columns at once using pd.concat(axis=1) instead. To get a de-fragmented frame, use `newframe = frame.copy()`\n",
      "  df[f\"infeasibleTermsRatio {gen_name}\"] = df[f\"infeasibleTerms {gen_name}\"] / df[f\"actualTerms {gen_name}\"]\n",
      "/var/folders/pb/p1sshdnx5sv12zwsxff8nrg40000gn/T/ipykernel_2851/393337708.py:6: PerformanceWarning: DataFrame is highly fragmented.  This is usually the result of calling `frame.insert` many times, which has poor performance.  Consider joining all columns at once using pd.concat(axis=1) instead. To get a de-fragmented frame, use `newframe = frame.copy()`\n",
      "  df[f\"infeasibleToFeasibleTermsRatio {gen_name}\"] = df[f\"infeasibleToFeasibleTerms {gen_name}\"] / df[f\"actualTerms {gen_name}\"]\n",
      "/var/folders/pb/p1sshdnx5sv12zwsxff8nrg40000gn/T/ipykernel_2851/393337708.py:7: PerformanceWarning: DataFrame is highly fragmented.  This is usually the result of calling `frame.insert` many times, which has poor performance.  Consider joining all columns at once using pd.concat(axis=1) instead. To get a de-fragmented frame, use `newframe = frame.copy()`\n",
      "  df[f\"zeroInfeasibleToFeasibleTerms {gen_name}\"] = df[f\"infeasibleToFeasibleTerms {gen_name}\"] == 0\n",
      "/var/folders/pb/p1sshdnx5sv12zwsxff8nrg40000gn/T/ipykernel_2851/393337708.py:8: PerformanceWarning: DataFrame is highly fragmented.  This is usually the result of calling `frame.insert` many times, which has poor performance.  Consider joining all columns at once using pd.concat(axis=1) instead. To get a de-fragmented frame, use `newframe = frame.copy()`\n",
      "  df[f\"feasibleToInfeasibleTermsRatio {gen_name}\"] = df[f\"feasibleToInfeasibleTerms {gen_name}\"] / df[f\"actualTerms {gen_name}\"]\n"
     ]
    }
   ],
   "execution_count": 68
  },
  {
   "cell_type": "code",
   "source": [
    "def optimality_gap(df, generator=None):\n",
    "    if generator:\n",
    "        return abs(df[f\"primalBound {generator}\"] - df[f\"dualBound {generator}\"]) / \\\n",
    "            abs(df[f\"primalBound {generator}\"])\n",
    "    else:\n",
    "        return abs(df[f\"primalBound\"] - df[f\"dualBound\"]) / abs(df[f\"primalBound\"])"
   ],
   "metadata": {
    "collapsed": false,
    "ExecuteTime": {
     "end_time": "2025-07-30T14:56:48.187012Z",
     "start_time": "2025-07-30T14:56:48.183775Z"
    }
   },
   "id": "5e06417f22452766",
   "outputs": [],
   "execution_count": 69
  },
  {
   "cell_type": "code",
   "source": [
    "# aleks filters\n",
    "# df = df.loc[df[\"terms\"] == df[\"actualTerms Farkas\"]]\n",
    "# df = df.loc[df[\"zeroInfeasibleToFeasibleTerms Farkas\"]]"
   ],
   "metadata": {
    "collapsed": false,
    "ExecuteTime": {
     "end_time": "2025-07-30T14:56:53.144810Z",
     "start_time": "2025-07-30T14:56:53.142633Z"
    }
   },
   "id": "ec90a15cca2ab140",
   "outputs": [],
   "execution_count": 70
  },
  {
   "metadata": {
    "ExecuteTime": {
     "end_time": "2025-07-30T14:57:18.376017Z",
     "start_time": "2025-07-30T14:57:18.371820Z"
    }
   },
   "cell_type": "code",
   "source": [
    "# filter the test set to only where strengthening is possible\n",
    "if test_set != \"bm23\":\n",
    "    activation_metrics = [\"infeasibleToFeasibleTerms\", \"termRemainsFeasibleBasisInfeasible\", \"cutsChangedCoefficients\", \"feasibleTermsPrunedByBound\"]\n",
    "    for g in test_generators:\n",
    "        df[f\"active {g}\"] = pd.concat([df[f\"{m} {g}\"] > 0 for m in activation_metrics], axis=1).any(axis=1)\n",
    "    print(df.loc[df[[f\"active {g}\" for g in test_generators]].all(axis=1)].shape[0], df.shape[0])\n",
    "    df = df.loc[df[[f\"active {g}\" for g in test_generators]].all(axis=1)]"
   ],
   "id": "26dfb0253230652d",
   "outputs": [],
   "execution_count": 71
  },
  {
   "cell_type": "code",
   "source": [
    "# filter experiments where strengthening helps improve the root LP relaxation solution\n",
    "# initial parametric disjunctive cut generation happens for terms with bases both initially and previously feasible\n",
    "# for matrix perturbations, this can shift the direction of the cut relative to default parametric disjunctive cut generation\n",
    "# which creates the edge case that the cut (although supporting) may not strengthen the root node as much\n",
    "if test_set != \"bm23\":\n",
    "    for g in test_generators:\n",
    "        df[f\"bad ({g})\"] = df[f\"VPCs ({g})\"] < df[\"VPCs (Farkas)\"] - 1e-6\n",
    "    print(df.loc[df[[f\"bad ({g})\" for g in test_generators]].any(axis=1)].shape[0], df.shape[0])\n",
    "    df = df.loc[~df[[f\"bad ({g})\" for g in test_generators]].any(axis=1)]"
   ],
   "metadata": {
    "collapsed": false,
    "ExecuteTime": {
     "end_time": "2025-07-30T14:57:52.877369Z",
     "start_time": "2025-07-30T14:57:52.874960Z"
    }
   },
   "id": "55a07f7fdbf31995",
   "outputs": [],
   "execution_count": 72
  },
  {
   "metadata": {
    "ExecuteTime": {
     "end_time": "2025-07-30T14:59:02.647385Z",
     "start_time": "2025-07-30T14:59:02.615602Z"
    }
   },
   "cell_type": "code",
   "source": [
    "# set aside core columns and filter for all subsequent dataframes\n",
    "group_cols = [\"instance\", \"perturbation\", \"bracket\", \"degree\", \"terms\"]\n",
    "id_cols = [\"instanceIndex\"]\n",
    "\n",
    "# keep the instance, perturbation, instanceIndex triples that exist for all combinations of degree and terms\n",
    "# where VPC did not find the optimal solution\n",
    "full_df = df.loc[df[\"Disjunction (New)\"] < .9999]\n",
    "triples = (full_df.groupby(\n",
    "        [\"instance\", \"perturbation\", \"instanceIndex\"]\n",
    "    ).size().reset_index().rename(columns={0: \"count\"}))\n",
    "triples.head()"
   ],
   "id": "20e18b9d8d3b5b55",
   "outputs": [
    {
     "data": {
      "text/plain": [
       "  instance perturbation  instanceIndex  count\n",
       "0     bm23       matrix              0      4\n",
       "1     bm23       matrix              1      4\n",
       "2     bm23       matrix              2      4\n",
       "3     bm23       matrix              3      4\n",
       "4     bm23       matrix              4      4"
      ],
      "text/html": [
       "<div>\n",
       "<style scoped>\n",
       "    .dataframe tbody tr th:only-of-type {\n",
       "        vertical-align: middle;\n",
       "    }\n",
       "\n",
       "    .dataframe tbody tr th {\n",
       "        vertical-align: top;\n",
       "    }\n",
       "\n",
       "    .dataframe thead th {\n",
       "        text-align: right;\n",
       "    }\n",
       "</style>\n",
       "<table border=\"1\" class=\"dataframe\">\n",
       "  <thead>\n",
       "    <tr style=\"text-align: right;\">\n",
       "      <th></th>\n",
       "      <th>instance</th>\n",
       "      <th>perturbation</th>\n",
       "      <th>instanceIndex</th>\n",
       "      <th>count</th>\n",
       "    </tr>\n",
       "  </thead>\n",
       "  <tbody>\n",
       "    <tr>\n",
       "      <th>0</th>\n",
       "      <td>bm23</td>\n",
       "      <td>matrix</td>\n",
       "      <td>0</td>\n",
       "      <td>4</td>\n",
       "    </tr>\n",
       "    <tr>\n",
       "      <th>1</th>\n",
       "      <td>bm23</td>\n",
       "      <td>matrix</td>\n",
       "      <td>1</td>\n",
       "      <td>4</td>\n",
       "    </tr>\n",
       "    <tr>\n",
       "      <th>2</th>\n",
       "      <td>bm23</td>\n",
       "      <td>matrix</td>\n",
       "      <td>2</td>\n",
       "      <td>4</td>\n",
       "    </tr>\n",
       "    <tr>\n",
       "      <th>3</th>\n",
       "      <td>bm23</td>\n",
       "      <td>matrix</td>\n",
       "      <td>3</td>\n",
       "      <td>4</td>\n",
       "    </tr>\n",
       "    <tr>\n",
       "      <th>4</th>\n",
       "      <td>bm23</td>\n",
       "      <td>matrix</td>\n",
       "      <td>4</td>\n",
       "      <td>4</td>\n",
       "    </tr>\n",
       "  </tbody>\n",
       "</table>\n",
       "</div>"
      ]
     },
     "execution_count": 73,
     "metadata": {},
     "output_type": "execute_result"
    }
   ],
   "execution_count": 73
  },
  {
   "metadata": {
    "ExecuteTime": {
     "end_time": "2025-07-30T14:59:04.473614Z",
     "start_time": "2025-07-30T14:59:04.417972Z"
    }
   },
   "cell_type": "code",
   "source": [
    "# uncomment to filter for only the triples that exist for all combinations of degree and terms (and seed index)\n",
    "triples = triples[(triples[\"count\"] == len(degrees) * len(term_list) * len(seed_idxs))]\n",
    "full_df = full_df.merge(triples, on=[\"instance\", \"perturbation\", \"instanceIndex\"])\n",
    "full_df.to_csv(os.path.join(out_fldr, \"cleaned_combined_complete.csv\"), index=False, mode=\"w\")"
   ],
   "id": "fcff718d6277a172",
   "outputs": [],
   "execution_count": 74
  },
  {
   "cell_type": "markdown",
   "source": "## Check Root Node Stats",
   "metadata": {
    "collapsed": false
   },
   "id": "2f3bb4783d418904"
  },
  {
   "cell_type": "code",
   "source": [
    "def interleave(list_of_lists):\n",
    "    return [item for sublist in zip(*list_of_lists) for item in sublist]"
   ],
   "metadata": {
    "collapsed": false,
    "ExecuteTime": {
     "end_time": "2025-07-30T14:59:06.626119Z",
     "start_time": "2025-07-30T14:59:06.624568Z"
    }
   },
   "id": "dd68a9bcb789fb6e",
   "outputs": [],
   "execution_count": 75
  },
  {
   "cell_type": "code",
   "source": [
    "# additional filtering for dataframe on bounds\n",
    "fields = [\"Disjunction (New)\", \"Disjunction (Old)\"] + [f\"VPCs ({gen_name})\" for gen_name in generators if gen_name != \"None\"] + \\\n",
    "    interleave([[f\"Root Cuts ({gen_name})\", f\"terminationTime {gen_name}\", f\"nodes {gen_name}\",\n",
    "                 f\"iterations {gen_name}\", f\"terminationTimeSansVpc {gen_name}\", f\"vpcGenerationTime {gen_name}\", \n",
    "                 f\"rootDualBoundTime {gen_name}\"]\n",
    "                for gen_name in generators]) + \\\n",
    "    interleave([[f\"infeasibleTermsRatio {gen_name}\", f\"infeasibleToFeasibleTermsRatio {gen_name}\",\n",
    "                 f\"zeroInfeasibleToFeasibleTerms {gen_name}\", f\"feasibleToInfeasibleTermsRatio {gen_name}\"]\n",
    "                for gen_name in generators if gen_name != \"None\"])\n",
    "\n",
    "# now reduce bound_df to just the perturbed instances - make > -1 to include base instance\n",
    "bound_df = full_df.loc[full_df[\"instanceIndex\"] > 0, group_cols + id_cols + fields]  #  & (full_df[\"Disjunction (Old)\"] > .1)"
   ],
   "metadata": {
    "collapsed": false,
    "ExecuteTime": {
     "end_time": "2025-07-30T14:59:07.077045Z",
     "start_time": "2025-07-30T14:59:07.068522Z"
    }
   },
   "id": "1446af429a86e44f",
   "outputs": [],
   "execution_count": 76
  },
  {
   "cell_type": "code",
   "source": [
    "def geometric_mean(series, offset=1e-6):\n",
    "    adjusted_series = series + offset  # Add a small offset to avoid zeros\n",
    "    return np.exp(np.log(adjusted_series).mean())\n",
    "\n",
    "# paper currently uses mean, but we can switch to geometric mean if we want\n",
    "aggregations = {f: \"mean\" if not \"Time\" in f else geometric_mean for f in fields}  # geometric_mean if f not in [\"sameSolution\"] else \n",
    "aggregations[\"instance\"] = \"nunique\"\n",
    "aggregations[\"instanceIndex\"] = \"count\""
   ],
   "metadata": {
    "collapsed": false,
    "ExecuteTime": {
     "end_time": "2025-07-30T14:59:07.432807Z",
     "start_time": "2025-07-30T14:59:07.430481Z"
    }
   },
   "id": "2e2bbc44b009d720",
   "outputs": [],
   "execution_count": 77
  },
  {
   "cell_type": "code",
   "source": [
    "# now break it down by type of perturbation\n",
    "if test_set == \"bm23\":\n",
    "    bound_df = bound_df.groupby([\"degree\", \"terms\", \"perturbation\"]).head(20)\n",
    "out = bound_df.groupby([\"degree\", \"terms\", \"perturbation\"]).agg(aggregations).reset_index()\n",
    "out.to_csv(os.path.join(out_fldr, \"bound_table_by_perturbation.csv\"), index=False, mode=\"w\")\n",
    "out"
   ],
   "metadata": {
    "collapsed": false,
    "ExecuteTime": {
     "end_time": "2025-07-30T15:13:00.575119Z",
     "start_time": "2025-07-30T15:13:00.521862Z"
    }
   },
   "id": "7c7dd20910d976da",
   "outputs": [
    {
     "data": {
      "text/plain": [
       "    degree  terms perturbation  Disjunction (New)  Disjunction (Old)  \\\n",
       "0      0.5      4       matrix           0.147823           0.147823   \n",
       "1      0.5      4    objective           0.146335           0.146335   \n",
       "2      0.5      4          rhs           0.138503           0.146043   \n",
       "3      0.5     64       matrix           0.710003           0.713498   \n",
       "4      0.5     64    objective           0.688276           0.714750   \n",
       "5      0.5     64          rhs           0.690332           0.709261   \n",
       "6      2.0      4       matrix           0.133767           0.143342   \n",
       "7      2.0      4    objective           0.147857           0.147857   \n",
       "8      2.0      4          rhs           0.117726           0.132713   \n",
       "9      2.0     64       matrix           0.704433           0.713822   \n",
       "10     2.0     64    objective           0.669019           0.704055   \n",
       "11     2.0     64          rhs           0.694935           0.638209   \n",
       "\n",
       "    VPCs (New)  VPCs (Farkas)  VPCs (All)  VPCs (Disjunction)  \\\n",
       "0     0.147807       0.146154    0.146271            0.146154   \n",
       "1     0.146335       0.146335         NaN            0.146335   \n",
       "2     0.138503       0.142170    0.142170            0.142170   \n",
       "3     0.690472       0.664580    0.675520            0.670466   \n",
       "4     0.667362       0.693744         NaN            0.693744   \n",
       "5     0.669082       0.647696    0.681677            0.681534   \n",
       "6     0.132229       0.129038    0.129970            0.129038   \n",
       "7     0.147416       0.147604         NaN            0.147604   \n",
       "8     0.116123       0.121596    0.121596            0.121596   \n",
       "9     0.676781       0.281689    0.547867            0.431842   \n",
       "10    0.648157       0.676020         NaN            0.676020   \n",
       "11    0.668781       0.440260    0.603512            0.524459   \n",
       "\n",
       "    VPCs (NoDisjunction)  ...  zeroInfeasibleToFeasibleTerms All  \\\n",
       "0               0.146271  ...                               1.00   \n",
       "1                    NaN  ...                               1.00   \n",
       "2               0.142170  ...                               1.00   \n",
       "3               0.672260  ...                               1.00   \n",
       "4                    NaN  ...                               1.00   \n",
       "5               0.681677  ...                               1.00   \n",
       "6               0.129970  ...                               1.00   \n",
       "7                    NaN  ...                               1.00   \n",
       "8               0.121596  ...                               1.00   \n",
       "9               0.494189  ...                               0.95   \n",
       "10                   NaN  ...                               1.00   \n",
       "11              0.603512  ...                               0.95   \n",
       "\n",
       "    zeroInfeasibleToFeasibleTerms Disjunction  \\\n",
       "0                                        1.00   \n",
       "1                                        1.00   \n",
       "2                                        1.00   \n",
       "3                                        1.00   \n",
       "4                                        1.00   \n",
       "5                                        1.00   \n",
       "6                                        1.00   \n",
       "7                                        1.00   \n",
       "8                                        1.00   \n",
       "9                                        0.95   \n",
       "10                                       1.00   \n",
       "11                                       0.95   \n",
       "\n",
       "    zeroInfeasibleToFeasibleTerms NoDisjunction  \\\n",
       "0                                          1.00   \n",
       "1                                          1.00   \n",
       "2                                          1.00   \n",
       "3                                          1.00   \n",
       "4                                          1.00   \n",
       "5                                          0.95   \n",
       "6                                          1.00   \n",
       "7                                          1.00   \n",
       "8                                          1.00   \n",
       "9                                          0.65   \n",
       "10                                         1.00   \n",
       "11                                         0.75   \n",
       "\n",
       "    feasibleToInfeasibleTermsRatio New  feasibleToInfeasibleTermsRatio Farkas  \\\n",
       "0                                  0.0                               0.000000   \n",
       "1                                  0.0                               0.000000   \n",
       "2                                  0.0                               0.000000   \n",
       "3                                  0.0                               0.001563   \n",
       "4                                  0.0                               0.000000   \n",
       "5                                  0.0                               0.000781   \n",
       "6                                  0.0                               0.000000   \n",
       "7                                  0.0                               0.000000   \n",
       "8                                  0.0                               0.000000   \n",
       "9                                  0.0                               0.006250   \n",
       "10                                 0.0                               0.000000   \n",
       "11                                 0.0                               0.007812   \n",
       "\n",
       "    feasibleToInfeasibleTermsRatio All  \\\n",
       "0                             0.000000   \n",
       "1                             0.000000   \n",
       "2                             0.000000   \n",
       "3                             0.001563   \n",
       "4                             0.000000   \n",
       "5                             0.000781   \n",
       "6                             0.000000   \n",
       "7                             0.000000   \n",
       "8                             0.000000   \n",
       "9                             0.006250   \n",
       "10                            0.000000   \n",
       "11                            0.007812   \n",
       "\n",
       "    feasibleToInfeasibleTermsRatio Disjunction  \\\n",
       "0                                     0.000000   \n",
       "1                                     0.000000   \n",
       "2                                     0.000000   \n",
       "3                                     0.001563   \n",
       "4                                     0.000000   \n",
       "5                                     0.000781   \n",
       "6                                     0.000000   \n",
       "7                                     0.000000   \n",
       "8                                     0.000000   \n",
       "9                                     0.006250   \n",
       "10                                    0.000000   \n",
       "11                                    0.007812   \n",
       "\n",
       "    feasibleToInfeasibleTermsRatio NoDisjunction  instance  instanceIndex  \n",
       "0                                       0.000000         1             20  \n",
       "1                                       0.000000         1             20  \n",
       "2                                       0.000000         1             20  \n",
       "3                                       0.001563         1             20  \n",
       "4                                       0.000000         1             20  \n",
       "5                                       0.000781         1             20  \n",
       "6                                       0.000000         1             20  \n",
       "7                                       0.000000         1             20  \n",
       "8                                       0.000000         1             20  \n",
       "9                                       0.006250         1             20  \n",
       "10                                      0.000000         1             20  \n",
       "11                                      0.007812         1             20  \n",
       "\n",
       "[12 rows x 74 columns]"
      ],
      "text/html": [
       "<div>\n",
       "<style scoped>\n",
       "    .dataframe tbody tr th:only-of-type {\n",
       "        vertical-align: middle;\n",
       "    }\n",
       "\n",
       "    .dataframe tbody tr th {\n",
       "        vertical-align: top;\n",
       "    }\n",
       "\n",
       "    .dataframe thead th {\n",
       "        text-align: right;\n",
       "    }\n",
       "</style>\n",
       "<table border=\"1\" class=\"dataframe\">\n",
       "  <thead>\n",
       "    <tr style=\"text-align: right;\">\n",
       "      <th></th>\n",
       "      <th>degree</th>\n",
       "      <th>terms</th>\n",
       "      <th>perturbation</th>\n",
       "      <th>Disjunction (New)</th>\n",
       "      <th>Disjunction (Old)</th>\n",
       "      <th>VPCs (New)</th>\n",
       "      <th>VPCs (Farkas)</th>\n",
       "      <th>VPCs (All)</th>\n",
       "      <th>VPCs (Disjunction)</th>\n",
       "      <th>VPCs (NoDisjunction)</th>\n",
       "      <th>...</th>\n",
       "      <th>zeroInfeasibleToFeasibleTerms All</th>\n",
       "      <th>zeroInfeasibleToFeasibleTerms Disjunction</th>\n",
       "      <th>zeroInfeasibleToFeasibleTerms NoDisjunction</th>\n",
       "      <th>feasibleToInfeasibleTermsRatio New</th>\n",
       "      <th>feasibleToInfeasibleTermsRatio Farkas</th>\n",
       "      <th>feasibleToInfeasibleTermsRatio All</th>\n",
       "      <th>feasibleToInfeasibleTermsRatio Disjunction</th>\n",
       "      <th>feasibleToInfeasibleTermsRatio NoDisjunction</th>\n",
       "      <th>instance</th>\n",
       "      <th>instanceIndex</th>\n",
       "    </tr>\n",
       "  </thead>\n",
       "  <tbody>\n",
       "    <tr>\n",
       "      <th>0</th>\n",
       "      <td>0.5</td>\n",
       "      <td>4</td>\n",
       "      <td>matrix</td>\n",
       "      <td>0.147823</td>\n",
       "      <td>0.147823</td>\n",
       "      <td>0.147807</td>\n",
       "      <td>0.146154</td>\n",
       "      <td>0.146271</td>\n",
       "      <td>0.146154</td>\n",
       "      <td>0.146271</td>\n",
       "      <td>...</td>\n",
       "      <td>1.00</td>\n",
       "      <td>1.00</td>\n",
       "      <td>1.00</td>\n",
       "      <td>0.0</td>\n",
       "      <td>0.000000</td>\n",
       "      <td>0.000000</td>\n",
       "      <td>0.000000</td>\n",
       "      <td>0.000000</td>\n",
       "      <td>1</td>\n",
       "      <td>20</td>\n",
       "    </tr>\n",
       "    <tr>\n",
       "      <th>1</th>\n",
       "      <td>0.5</td>\n",
       "      <td>4</td>\n",
       "      <td>objective</td>\n",
       "      <td>0.146335</td>\n",
       "      <td>0.146335</td>\n",
       "      <td>0.146335</td>\n",
       "      <td>0.146335</td>\n",
       "      <td>NaN</td>\n",
       "      <td>0.146335</td>\n",
       "      <td>NaN</td>\n",
       "      <td>...</td>\n",
       "      <td>1.00</td>\n",
       "      <td>1.00</td>\n",
       "      <td>1.00</td>\n",
       "      <td>0.0</td>\n",
       "      <td>0.000000</td>\n",
       "      <td>0.000000</td>\n",
       "      <td>0.000000</td>\n",
       "      <td>0.000000</td>\n",
       "      <td>1</td>\n",
       "      <td>20</td>\n",
       "    </tr>\n",
       "    <tr>\n",
       "      <th>2</th>\n",
       "      <td>0.5</td>\n",
       "      <td>4</td>\n",
       "      <td>rhs</td>\n",
       "      <td>0.138503</td>\n",
       "      <td>0.146043</td>\n",
       "      <td>0.138503</td>\n",
       "      <td>0.142170</td>\n",
       "      <td>0.142170</td>\n",
       "      <td>0.142170</td>\n",
       "      <td>0.142170</td>\n",
       "      <td>...</td>\n",
       "      <td>1.00</td>\n",
       "      <td>1.00</td>\n",
       "      <td>1.00</td>\n",
       "      <td>0.0</td>\n",
       "      <td>0.000000</td>\n",
       "      <td>0.000000</td>\n",
       "      <td>0.000000</td>\n",
       "      <td>0.000000</td>\n",
       "      <td>1</td>\n",
       "      <td>20</td>\n",
       "    </tr>\n",
       "    <tr>\n",
       "      <th>3</th>\n",
       "      <td>0.5</td>\n",
       "      <td>64</td>\n",
       "      <td>matrix</td>\n",
       "      <td>0.710003</td>\n",
       "      <td>0.713498</td>\n",
       "      <td>0.690472</td>\n",
       "      <td>0.664580</td>\n",
       "      <td>0.675520</td>\n",
       "      <td>0.670466</td>\n",
       "      <td>0.672260</td>\n",
       "      <td>...</td>\n",
       "      <td>1.00</td>\n",
       "      <td>1.00</td>\n",
       "      <td>1.00</td>\n",
       "      <td>0.0</td>\n",
       "      <td>0.001563</td>\n",
       "      <td>0.001563</td>\n",
       "      <td>0.001563</td>\n",
       "      <td>0.001563</td>\n",
       "      <td>1</td>\n",
       "      <td>20</td>\n",
       "    </tr>\n",
       "    <tr>\n",
       "      <th>4</th>\n",
       "      <td>0.5</td>\n",
       "      <td>64</td>\n",
       "      <td>objective</td>\n",
       "      <td>0.688276</td>\n",
       "      <td>0.714750</td>\n",
       "      <td>0.667362</td>\n",
       "      <td>0.693744</td>\n",
       "      <td>NaN</td>\n",
       "      <td>0.693744</td>\n",
       "      <td>NaN</td>\n",
       "      <td>...</td>\n",
       "      <td>1.00</td>\n",
       "      <td>1.00</td>\n",
       "      <td>1.00</td>\n",
       "      <td>0.0</td>\n",
       "      <td>0.000000</td>\n",
       "      <td>0.000000</td>\n",
       "      <td>0.000000</td>\n",
       "      <td>0.000000</td>\n",
       "      <td>1</td>\n",
       "      <td>20</td>\n",
       "    </tr>\n",
       "    <tr>\n",
       "      <th>5</th>\n",
       "      <td>0.5</td>\n",
       "      <td>64</td>\n",
       "      <td>rhs</td>\n",
       "      <td>0.690332</td>\n",
       "      <td>0.709261</td>\n",
       "      <td>0.669082</td>\n",
       "      <td>0.647696</td>\n",
       "      <td>0.681677</td>\n",
       "      <td>0.681534</td>\n",
       "      <td>0.681677</td>\n",
       "      <td>...</td>\n",
       "      <td>1.00</td>\n",
       "      <td>1.00</td>\n",
       "      <td>0.95</td>\n",
       "      <td>0.0</td>\n",
       "      <td>0.000781</td>\n",
       "      <td>0.000781</td>\n",
       "      <td>0.000781</td>\n",
       "      <td>0.000781</td>\n",
       "      <td>1</td>\n",
       "      <td>20</td>\n",
       "    </tr>\n",
       "    <tr>\n",
       "      <th>6</th>\n",
       "      <td>2.0</td>\n",
       "      <td>4</td>\n",
       "      <td>matrix</td>\n",
       "      <td>0.133767</td>\n",
       "      <td>0.143342</td>\n",
       "      <td>0.132229</td>\n",
       "      <td>0.129038</td>\n",
       "      <td>0.129970</td>\n",
       "      <td>0.129038</td>\n",
       "      <td>0.129970</td>\n",
       "      <td>...</td>\n",
       "      <td>1.00</td>\n",
       "      <td>1.00</td>\n",
       "      <td>1.00</td>\n",
       "      <td>0.0</td>\n",
       "      <td>0.000000</td>\n",
       "      <td>0.000000</td>\n",
       "      <td>0.000000</td>\n",
       "      <td>0.000000</td>\n",
       "      <td>1</td>\n",
       "      <td>20</td>\n",
       "    </tr>\n",
       "    <tr>\n",
       "      <th>7</th>\n",
       "      <td>2.0</td>\n",
       "      <td>4</td>\n",
       "      <td>objective</td>\n",
       "      <td>0.147857</td>\n",
       "      <td>0.147857</td>\n",
       "      <td>0.147416</td>\n",
       "      <td>0.147604</td>\n",
       "      <td>NaN</td>\n",
       "      <td>0.147604</td>\n",
       "      <td>NaN</td>\n",
       "      <td>...</td>\n",
       "      <td>1.00</td>\n",
       "      <td>1.00</td>\n",
       "      <td>1.00</td>\n",
       "      <td>0.0</td>\n",
       "      <td>0.000000</td>\n",
       "      <td>0.000000</td>\n",
       "      <td>0.000000</td>\n",
       "      <td>0.000000</td>\n",
       "      <td>1</td>\n",
       "      <td>20</td>\n",
       "    </tr>\n",
       "    <tr>\n",
       "      <th>8</th>\n",
       "      <td>2.0</td>\n",
       "      <td>4</td>\n",
       "      <td>rhs</td>\n",
       "      <td>0.117726</td>\n",
       "      <td>0.132713</td>\n",
       "      <td>0.116123</td>\n",
       "      <td>0.121596</td>\n",
       "      <td>0.121596</td>\n",
       "      <td>0.121596</td>\n",
       "      <td>0.121596</td>\n",
       "      <td>...</td>\n",
       "      <td>1.00</td>\n",
       "      <td>1.00</td>\n",
       "      <td>1.00</td>\n",
       "      <td>0.0</td>\n",
       "      <td>0.000000</td>\n",
       "      <td>0.000000</td>\n",
       "      <td>0.000000</td>\n",
       "      <td>0.000000</td>\n",
       "      <td>1</td>\n",
       "      <td>20</td>\n",
       "    </tr>\n",
       "    <tr>\n",
       "      <th>9</th>\n",
       "      <td>2.0</td>\n",
       "      <td>64</td>\n",
       "      <td>matrix</td>\n",
       "      <td>0.704433</td>\n",
       "      <td>0.713822</td>\n",
       "      <td>0.676781</td>\n",
       "      <td>0.281689</td>\n",
       "      <td>0.547867</td>\n",
       "      <td>0.431842</td>\n",
       "      <td>0.494189</td>\n",
       "      <td>...</td>\n",
       "      <td>0.95</td>\n",
       "      <td>0.95</td>\n",
       "      <td>0.65</td>\n",
       "      <td>0.0</td>\n",
       "      <td>0.006250</td>\n",
       "      <td>0.006250</td>\n",
       "      <td>0.006250</td>\n",
       "      <td>0.006250</td>\n",
       "      <td>1</td>\n",
       "      <td>20</td>\n",
       "    </tr>\n",
       "    <tr>\n",
       "      <th>10</th>\n",
       "      <td>2.0</td>\n",
       "      <td>64</td>\n",
       "      <td>objective</td>\n",
       "      <td>0.669019</td>\n",
       "      <td>0.704055</td>\n",
       "      <td>0.648157</td>\n",
       "      <td>0.676020</td>\n",
       "      <td>NaN</td>\n",
       "      <td>0.676020</td>\n",
       "      <td>NaN</td>\n",
       "      <td>...</td>\n",
       "      <td>1.00</td>\n",
       "      <td>1.00</td>\n",
       "      <td>1.00</td>\n",
       "      <td>0.0</td>\n",
       "      <td>0.000000</td>\n",
       "      <td>0.000000</td>\n",
       "      <td>0.000000</td>\n",
       "      <td>0.000000</td>\n",
       "      <td>1</td>\n",
       "      <td>20</td>\n",
       "    </tr>\n",
       "    <tr>\n",
       "      <th>11</th>\n",
       "      <td>2.0</td>\n",
       "      <td>64</td>\n",
       "      <td>rhs</td>\n",
       "      <td>0.694935</td>\n",
       "      <td>0.638209</td>\n",
       "      <td>0.668781</td>\n",
       "      <td>0.440260</td>\n",
       "      <td>0.603512</td>\n",
       "      <td>0.524459</td>\n",
       "      <td>0.603512</td>\n",
       "      <td>...</td>\n",
       "      <td>0.95</td>\n",
       "      <td>0.95</td>\n",
       "      <td>0.75</td>\n",
       "      <td>0.0</td>\n",
       "      <td>0.007812</td>\n",
       "      <td>0.007812</td>\n",
       "      <td>0.007812</td>\n",
       "      <td>0.007812</td>\n",
       "      <td>1</td>\n",
       "      <td>20</td>\n",
       "    </tr>\n",
       "  </tbody>\n",
       "</table>\n",
       "<p>12 rows × 74 columns</p>\n",
       "</div>"
      ]
     },
     "execution_count": 85,
     "metadata": {},
     "output_type": "execute_result"
    }
   ],
   "execution_count": 85
  },
  {
   "metadata": {
    "ExecuteTime": {
     "end_time": "2025-07-30T15:13:12.897470Z",
     "start_time": "2025-07-30T15:13:12.891026Z"
    }
   },
   "cell_type": "code",
   "source": [
    "def make_pareto_frontier(bound_df, save_fig=True):\n",
    "    # Identify relevant fields\n",
    "    strength_fields = [f for f in fields if \"Root Cuts\" in f]\n",
    "    time_fields = [f for f in fields if \"vpcGenerationTime\" in f]\n",
    "\n",
    "    # Compute means\n",
    "    strength_df = bound_df[strength_fields].mean().reset_index()\n",
    "    strength_df.columns = [\"key\", \"value\"]\n",
    "    strength_df['category'] = strength_df['key'].str.extract(r'\\((.*?)\\)')\n",
    "\n",
    "    time_df = bound_df[time_fields].apply(geometric_mean).reset_index()\n",
    "    time_df.columns = [\"key\", \"value\"]\n",
    "    time_df['category'] = time_df['key'].str.extract(r'(None|Farkas|Old|New|All|NoDisjunction|Disjunction|Matrix|Term|Basis)')\n",
    "\n",
    "    # Merge on category\n",
    "    merged_df = pd.merge(strength_df, time_df, on='category', suffixes=('_strength', '_time'))\n",
    "    merged_df['category'] = merged_df['category'].replace(cat_map)\n",
    "\n",
    "    # Plotting\n",
    "    plt.figure(figsize=(6, 5))\n",
    "    categories = merged_df['category'].unique()\n",
    "    cmap = plt.get_cmap('tab10')\n",
    "\n",
    "    for i, category in enumerate(categories):\n",
    "        sub_df = merged_df[merged_df['category'] == category]\n",
    "        plt.scatter(\n",
    "            sub_df['value_time'],\n",
    "            sub_df['value_strength'],\n",
    "            label=category,\n",
    "            color=cmap(i % 10),\n",
    "            s=25\n",
    "        )\n",
    "\n",
    "    plt.ylabel(\"Average Root Nodes\\nOptimality Gap Closed\")\n",
    "    plt.gca().yaxis.set_major_formatter(PercentFormatter(1.0, 1))\n",
    "    plt.xlabel(\"Average Time (s) to Process VPCs\")\n",
    "    plt.title(\"Root Nodes Optimality Gap Closed vs. Processing Time\")\n",
    "    plt.grid(True)\n",
    "    plt.legend(title=\"Generator\", loc=\"best\", fontsize=12, title_fontsize=14)\n",
    "    plt.tight_layout()\n",
    "\n",
    "    if save_fig:\n",
    "        plt.savefig(os.path.join(out_fldr, \"strength_vs_time.png\"), dpi=1200)\n",
    "\n",
    "    print(merged_df.sort_values(\"value_strength\", ascending=True)[[\"key_strength\", \"value_strength\", \"value_time\"]])\n",
    "    plt.show()\n"
   ],
   "id": "c15cad1dd272cfcc",
   "outputs": [],
   "execution_count": 86
  },
  {
   "metadata": {
    "ExecuteTime": {
     "end_time": "2025-07-30T15:13:13.435761Z",
     "start_time": "2025-07-30T15:13:13.433757Z"
    }
   },
   "cell_type": "code",
   "source": [
    "# again nearly pareto optimal - time and strength both ordered in terms of doing more \"work\". Makes sense for matrix case compared to \n",
    "# make_pareto_frontier(bound_df)"
   ],
   "id": "19b3c8be836a183e",
   "outputs": [],
   "execution_count": 87
  },
  {
   "metadata": {},
   "cell_type": "markdown",
   "source": "## Root Stats",
   "id": "f873b674b124617b"
  },
  {
   "metadata": {
    "ExecuteTime": {
     "end_time": "2025-07-30T15:13:14.893220Z",
     "start_time": "2025-07-30T15:13:14.885555Z"
    }
   },
   "cell_type": "code",
   "source": [
    "# example table for VPC strength\n",
    "# it isn't surprising to see improvements in 4 terms even though they don't improve at the root node because these cuts can be focused deeper in the tree\n",
    "gens = [\"New\"] + test_generators + [\"Farkas\"]\n",
    "out[[\"degree\", \"terms\", \"perturbation\"] + [c for c in out.columns if \"Disjunction (\" in c] + [f\"VPCs ({gen})\" for gen in gens]].round(4)"
   ],
   "id": "c93c0124297cf8ad",
   "outputs": [
    {
     "data": {
      "text/plain": [
       "    degree  terms perturbation  Disjunction (New)  Disjunction (Old)  \\\n",
       "0      0.5      4       matrix             0.1478             0.1478   \n",
       "1      0.5      4    objective             0.1463             0.1463   \n",
       "2      0.5      4          rhs             0.1385             0.1460   \n",
       "3      0.5     64       matrix             0.7100             0.7135   \n",
       "4      0.5     64    objective             0.6883             0.7148   \n",
       "5      0.5     64          rhs             0.6903             0.7093   \n",
       "6      2.0      4       matrix             0.1338             0.1433   \n",
       "7      2.0      4    objective             0.1479             0.1479   \n",
       "8      2.0      4          rhs             0.1177             0.1327   \n",
       "9      2.0     64       matrix             0.7044             0.7138   \n",
       "10     2.0     64    objective             0.6690             0.7041   \n",
       "11     2.0     64          rhs             0.6949             0.6382   \n",
       "\n",
       "    VPCs (New)  VPCs (All)  VPCs (Disjunction)  VPCs (NoDisjunction)  \\\n",
       "0       0.1478      0.1463              0.1462                0.1463   \n",
       "1       0.1463         NaN              0.1463                   NaN   \n",
       "2       0.1385      0.1422              0.1422                0.1422   \n",
       "3       0.6905      0.6755              0.6705                0.6723   \n",
       "4       0.6674         NaN              0.6937                   NaN   \n",
       "5       0.6691      0.6817              0.6815                0.6817   \n",
       "6       0.1322      0.1300              0.1290                0.1300   \n",
       "7       0.1474         NaN              0.1476                   NaN   \n",
       "8       0.1161      0.1216              0.1216                0.1216   \n",
       "9       0.6768      0.5479              0.4318                0.4942   \n",
       "10      0.6482         NaN              0.6760                   NaN   \n",
       "11      0.6688      0.6035              0.5245                0.6035   \n",
       "\n",
       "    VPCs (Farkas)  \n",
       "0          0.1462  \n",
       "1          0.1463  \n",
       "2          0.1422  \n",
       "3          0.6646  \n",
       "4          0.6937  \n",
       "5          0.6477  \n",
       "6          0.1290  \n",
       "7          0.1476  \n",
       "8          0.1216  \n",
       "9          0.2817  \n",
       "10         0.6760  \n",
       "11         0.4403  "
      ],
      "text/html": [
       "<div>\n",
       "<style scoped>\n",
       "    .dataframe tbody tr th:only-of-type {\n",
       "        vertical-align: middle;\n",
       "    }\n",
       "\n",
       "    .dataframe tbody tr th {\n",
       "        vertical-align: top;\n",
       "    }\n",
       "\n",
       "    .dataframe thead th {\n",
       "        text-align: right;\n",
       "    }\n",
       "</style>\n",
       "<table border=\"1\" class=\"dataframe\">\n",
       "  <thead>\n",
       "    <tr style=\"text-align: right;\">\n",
       "      <th></th>\n",
       "      <th>degree</th>\n",
       "      <th>terms</th>\n",
       "      <th>perturbation</th>\n",
       "      <th>Disjunction (New)</th>\n",
       "      <th>Disjunction (Old)</th>\n",
       "      <th>VPCs (New)</th>\n",
       "      <th>VPCs (All)</th>\n",
       "      <th>VPCs (Disjunction)</th>\n",
       "      <th>VPCs (NoDisjunction)</th>\n",
       "      <th>VPCs (Farkas)</th>\n",
       "    </tr>\n",
       "  </thead>\n",
       "  <tbody>\n",
       "    <tr>\n",
       "      <th>0</th>\n",
       "      <td>0.5</td>\n",
       "      <td>4</td>\n",
       "      <td>matrix</td>\n",
       "      <td>0.1478</td>\n",
       "      <td>0.1478</td>\n",
       "      <td>0.1478</td>\n",
       "      <td>0.1463</td>\n",
       "      <td>0.1462</td>\n",
       "      <td>0.1463</td>\n",
       "      <td>0.1462</td>\n",
       "    </tr>\n",
       "    <tr>\n",
       "      <th>1</th>\n",
       "      <td>0.5</td>\n",
       "      <td>4</td>\n",
       "      <td>objective</td>\n",
       "      <td>0.1463</td>\n",
       "      <td>0.1463</td>\n",
       "      <td>0.1463</td>\n",
       "      <td>NaN</td>\n",
       "      <td>0.1463</td>\n",
       "      <td>NaN</td>\n",
       "      <td>0.1463</td>\n",
       "    </tr>\n",
       "    <tr>\n",
       "      <th>2</th>\n",
       "      <td>0.5</td>\n",
       "      <td>4</td>\n",
       "      <td>rhs</td>\n",
       "      <td>0.1385</td>\n",
       "      <td>0.1460</td>\n",
       "      <td>0.1385</td>\n",
       "      <td>0.1422</td>\n",
       "      <td>0.1422</td>\n",
       "      <td>0.1422</td>\n",
       "      <td>0.1422</td>\n",
       "    </tr>\n",
       "    <tr>\n",
       "      <th>3</th>\n",
       "      <td>0.5</td>\n",
       "      <td>64</td>\n",
       "      <td>matrix</td>\n",
       "      <td>0.7100</td>\n",
       "      <td>0.7135</td>\n",
       "      <td>0.6905</td>\n",
       "      <td>0.6755</td>\n",
       "      <td>0.6705</td>\n",
       "      <td>0.6723</td>\n",
       "      <td>0.6646</td>\n",
       "    </tr>\n",
       "    <tr>\n",
       "      <th>4</th>\n",
       "      <td>0.5</td>\n",
       "      <td>64</td>\n",
       "      <td>objective</td>\n",
       "      <td>0.6883</td>\n",
       "      <td>0.7148</td>\n",
       "      <td>0.6674</td>\n",
       "      <td>NaN</td>\n",
       "      <td>0.6937</td>\n",
       "      <td>NaN</td>\n",
       "      <td>0.6937</td>\n",
       "    </tr>\n",
       "    <tr>\n",
       "      <th>5</th>\n",
       "      <td>0.5</td>\n",
       "      <td>64</td>\n",
       "      <td>rhs</td>\n",
       "      <td>0.6903</td>\n",
       "      <td>0.7093</td>\n",
       "      <td>0.6691</td>\n",
       "      <td>0.6817</td>\n",
       "      <td>0.6815</td>\n",
       "      <td>0.6817</td>\n",
       "      <td>0.6477</td>\n",
       "    </tr>\n",
       "    <tr>\n",
       "      <th>6</th>\n",
       "      <td>2.0</td>\n",
       "      <td>4</td>\n",
       "      <td>matrix</td>\n",
       "      <td>0.1338</td>\n",
       "      <td>0.1433</td>\n",
       "      <td>0.1322</td>\n",
       "      <td>0.1300</td>\n",
       "      <td>0.1290</td>\n",
       "      <td>0.1300</td>\n",
       "      <td>0.1290</td>\n",
       "    </tr>\n",
       "    <tr>\n",
       "      <th>7</th>\n",
       "      <td>2.0</td>\n",
       "      <td>4</td>\n",
       "      <td>objective</td>\n",
       "      <td>0.1479</td>\n",
       "      <td>0.1479</td>\n",
       "      <td>0.1474</td>\n",
       "      <td>NaN</td>\n",
       "      <td>0.1476</td>\n",
       "      <td>NaN</td>\n",
       "      <td>0.1476</td>\n",
       "    </tr>\n",
       "    <tr>\n",
       "      <th>8</th>\n",
       "      <td>2.0</td>\n",
       "      <td>4</td>\n",
       "      <td>rhs</td>\n",
       "      <td>0.1177</td>\n",
       "      <td>0.1327</td>\n",
       "      <td>0.1161</td>\n",
       "      <td>0.1216</td>\n",
       "      <td>0.1216</td>\n",
       "      <td>0.1216</td>\n",
       "      <td>0.1216</td>\n",
       "    </tr>\n",
       "    <tr>\n",
       "      <th>9</th>\n",
       "      <td>2.0</td>\n",
       "      <td>64</td>\n",
       "      <td>matrix</td>\n",
       "      <td>0.7044</td>\n",
       "      <td>0.7138</td>\n",
       "      <td>0.6768</td>\n",
       "      <td>0.5479</td>\n",
       "      <td>0.4318</td>\n",
       "      <td>0.4942</td>\n",
       "      <td>0.2817</td>\n",
       "    </tr>\n",
       "    <tr>\n",
       "      <th>10</th>\n",
       "      <td>2.0</td>\n",
       "      <td>64</td>\n",
       "      <td>objective</td>\n",
       "      <td>0.6690</td>\n",
       "      <td>0.7041</td>\n",
       "      <td>0.6482</td>\n",
       "      <td>NaN</td>\n",
       "      <td>0.6760</td>\n",
       "      <td>NaN</td>\n",
       "      <td>0.6760</td>\n",
       "    </tr>\n",
       "    <tr>\n",
       "      <th>11</th>\n",
       "      <td>2.0</td>\n",
       "      <td>64</td>\n",
       "      <td>rhs</td>\n",
       "      <td>0.6949</td>\n",
       "      <td>0.6382</td>\n",
       "      <td>0.6688</td>\n",
       "      <td>0.6035</td>\n",
       "      <td>0.5245</td>\n",
       "      <td>0.6035</td>\n",
       "      <td>0.4403</td>\n",
       "    </tr>\n",
       "  </tbody>\n",
       "</table>\n",
       "</div>"
      ]
     },
     "execution_count": 88,
     "metadata": {},
     "output_type": "execute_result"
    }
   ],
   "execution_count": 88
  },
  {
   "metadata": {
    "ExecuteTime": {
     "end_time": "2025-07-30T15:13:15.327445Z",
     "start_time": "2025-07-30T15:13:15.317904Z"
    }
   },
   "cell_type": "code",
   "source": [
    "# example table for root cut strength\n",
    "gens = [\"New\"] + test_generators + [\"Farkas\", \"None\"]\n",
    "out[[\"degree\", \"terms\", \"perturbation\"] + [f\"Root Cuts ({gen})\" for gen in gens]].round(4)"
   ],
   "id": "5d46ad1fc331d43",
   "outputs": [
    {
     "data": {
      "text/plain": [
       "    degree  terms perturbation  Root Cuts (New)  Root Cuts (All)  \\\n",
       "0      0.5      4       matrix           0.4263           0.4035   \n",
       "1      0.5      4    objective           0.3918              NaN   \n",
       "2      0.5      4          rhs           0.4319           0.4187   \n",
       "3      0.5     64       matrix           0.7030           0.6932   \n",
       "4      0.5     64    objective           0.6840              NaN   \n",
       "5      0.5     64          rhs           0.6869           0.6941   \n",
       "6      2.0      4       matrix           0.3992           0.4075   \n",
       "7      2.0      4    objective           0.4016              NaN   \n",
       "8      2.0      4          rhs           0.4292           0.4249   \n",
       "9      2.0     64       matrix           0.6956           0.5996   \n",
       "10     2.0     64    objective           0.6709              NaN   \n",
       "11     2.0     64          rhs           0.6934           0.6227   \n",
       "\n",
       "    Root Cuts (Disjunction)  Root Cuts (NoDisjunction)  Root Cuts (Farkas)  \\\n",
       "0                    0.4045                     0.4062              0.4048   \n",
       "1                    0.4193                        NaN              0.4089   \n",
       "2                    0.4180                     0.4149              0.4200   \n",
       "3                    0.6901                     0.6906              0.6857   \n",
       "4                    0.7052                        NaN              0.7052   \n",
       "5                    0.6939                     0.6944              0.6808   \n",
       "6                    0.4091                     0.4010              0.4111   \n",
       "7                    0.3964                        NaN              0.3954   \n",
       "8                    0.4160                     0.4249              0.4160   \n",
       "9                    0.5273                     0.5642              0.4844   \n",
       "10                   0.6925                        NaN              0.6928   \n",
       "11                   0.5832                     0.6225              0.5653   \n",
       "\n",
       "    Root Cuts (None)  \n",
       "0             0.4216  \n",
       "1             0.3923  \n",
       "2             0.4387  \n",
       "3             0.4213  \n",
       "4             0.3938  \n",
       "5             0.4263  \n",
       "6             0.3871  \n",
       "7             0.4002  \n",
       "8             0.4116  \n",
       "9             0.3882  \n",
       "10            0.4001  \n",
       "11            0.4116  "
      ],
      "text/html": [
       "<div>\n",
       "<style scoped>\n",
       "    .dataframe tbody tr th:only-of-type {\n",
       "        vertical-align: middle;\n",
       "    }\n",
       "\n",
       "    .dataframe tbody tr th {\n",
       "        vertical-align: top;\n",
       "    }\n",
       "\n",
       "    .dataframe thead th {\n",
       "        text-align: right;\n",
       "    }\n",
       "</style>\n",
       "<table border=\"1\" class=\"dataframe\">\n",
       "  <thead>\n",
       "    <tr style=\"text-align: right;\">\n",
       "      <th></th>\n",
       "      <th>degree</th>\n",
       "      <th>terms</th>\n",
       "      <th>perturbation</th>\n",
       "      <th>Root Cuts (New)</th>\n",
       "      <th>Root Cuts (All)</th>\n",
       "      <th>Root Cuts (Disjunction)</th>\n",
       "      <th>Root Cuts (NoDisjunction)</th>\n",
       "      <th>Root Cuts (Farkas)</th>\n",
       "      <th>Root Cuts (None)</th>\n",
       "    </tr>\n",
       "  </thead>\n",
       "  <tbody>\n",
       "    <tr>\n",
       "      <th>0</th>\n",
       "      <td>0.5</td>\n",
       "      <td>4</td>\n",
       "      <td>matrix</td>\n",
       "      <td>0.4263</td>\n",
       "      <td>0.4035</td>\n",
       "      <td>0.4045</td>\n",
       "      <td>0.4062</td>\n",
       "      <td>0.4048</td>\n",
       "      <td>0.4216</td>\n",
       "    </tr>\n",
       "    <tr>\n",
       "      <th>1</th>\n",
       "      <td>0.5</td>\n",
       "      <td>4</td>\n",
       "      <td>objective</td>\n",
       "      <td>0.3918</td>\n",
       "      <td>NaN</td>\n",
       "      <td>0.4193</td>\n",
       "      <td>NaN</td>\n",
       "      <td>0.4089</td>\n",
       "      <td>0.3923</td>\n",
       "    </tr>\n",
       "    <tr>\n",
       "      <th>2</th>\n",
       "      <td>0.5</td>\n",
       "      <td>4</td>\n",
       "      <td>rhs</td>\n",
       "      <td>0.4319</td>\n",
       "      <td>0.4187</td>\n",
       "      <td>0.4180</td>\n",
       "      <td>0.4149</td>\n",
       "      <td>0.4200</td>\n",
       "      <td>0.4387</td>\n",
       "    </tr>\n",
       "    <tr>\n",
       "      <th>3</th>\n",
       "      <td>0.5</td>\n",
       "      <td>64</td>\n",
       "      <td>matrix</td>\n",
       "      <td>0.7030</td>\n",
       "      <td>0.6932</td>\n",
       "      <td>0.6901</td>\n",
       "      <td>0.6906</td>\n",
       "      <td>0.6857</td>\n",
       "      <td>0.4213</td>\n",
       "    </tr>\n",
       "    <tr>\n",
       "      <th>4</th>\n",
       "      <td>0.5</td>\n",
       "      <td>64</td>\n",
       "      <td>objective</td>\n",
       "      <td>0.6840</td>\n",
       "      <td>NaN</td>\n",
       "      <td>0.7052</td>\n",
       "      <td>NaN</td>\n",
       "      <td>0.7052</td>\n",
       "      <td>0.3938</td>\n",
       "    </tr>\n",
       "    <tr>\n",
       "      <th>5</th>\n",
       "      <td>0.5</td>\n",
       "      <td>64</td>\n",
       "      <td>rhs</td>\n",
       "      <td>0.6869</td>\n",
       "      <td>0.6941</td>\n",
       "      <td>0.6939</td>\n",
       "      <td>0.6944</td>\n",
       "      <td>0.6808</td>\n",
       "      <td>0.4263</td>\n",
       "    </tr>\n",
       "    <tr>\n",
       "      <th>6</th>\n",
       "      <td>2.0</td>\n",
       "      <td>4</td>\n",
       "      <td>matrix</td>\n",
       "      <td>0.3992</td>\n",
       "      <td>0.4075</td>\n",
       "      <td>0.4091</td>\n",
       "      <td>0.4010</td>\n",
       "      <td>0.4111</td>\n",
       "      <td>0.3871</td>\n",
       "    </tr>\n",
       "    <tr>\n",
       "      <th>7</th>\n",
       "      <td>2.0</td>\n",
       "      <td>4</td>\n",
       "      <td>objective</td>\n",
       "      <td>0.4016</td>\n",
       "      <td>NaN</td>\n",
       "      <td>0.3964</td>\n",
       "      <td>NaN</td>\n",
       "      <td>0.3954</td>\n",
       "      <td>0.4002</td>\n",
       "    </tr>\n",
       "    <tr>\n",
       "      <th>8</th>\n",
       "      <td>2.0</td>\n",
       "      <td>4</td>\n",
       "      <td>rhs</td>\n",
       "      <td>0.4292</td>\n",
       "      <td>0.4249</td>\n",
       "      <td>0.4160</td>\n",
       "      <td>0.4249</td>\n",
       "      <td>0.4160</td>\n",
       "      <td>0.4116</td>\n",
       "    </tr>\n",
       "    <tr>\n",
       "      <th>9</th>\n",
       "      <td>2.0</td>\n",
       "      <td>64</td>\n",
       "      <td>matrix</td>\n",
       "      <td>0.6956</td>\n",
       "      <td>0.5996</td>\n",
       "      <td>0.5273</td>\n",
       "      <td>0.5642</td>\n",
       "      <td>0.4844</td>\n",
       "      <td>0.3882</td>\n",
       "    </tr>\n",
       "    <tr>\n",
       "      <th>10</th>\n",
       "      <td>2.0</td>\n",
       "      <td>64</td>\n",
       "      <td>objective</td>\n",
       "      <td>0.6709</td>\n",
       "      <td>NaN</td>\n",
       "      <td>0.6925</td>\n",
       "      <td>NaN</td>\n",
       "      <td>0.6928</td>\n",
       "      <td>0.4001</td>\n",
       "    </tr>\n",
       "    <tr>\n",
       "      <th>11</th>\n",
       "      <td>2.0</td>\n",
       "      <td>64</td>\n",
       "      <td>rhs</td>\n",
       "      <td>0.6934</td>\n",
       "      <td>0.6227</td>\n",
       "      <td>0.5832</td>\n",
       "      <td>0.6225</td>\n",
       "      <td>0.5653</td>\n",
       "      <td>0.4116</td>\n",
       "    </tr>\n",
       "  </tbody>\n",
       "</table>\n",
       "</div>"
      ]
     },
     "execution_count": 89,
     "metadata": {},
     "output_type": "execute_result"
    }
   ],
   "execution_count": 89
  },
  {
   "metadata": {
    "ExecuteTime": {
     "end_time": "2025-07-30T15:13:15.813008Z",
     "start_time": "2025-07-30T15:13:15.806671Z"
    }
   },
   "cell_type": "code",
   "source": [
    "# example table for root cut generation time\n",
    "out[[\"degree\", \"terms\", \"perturbation\"] + [f\"rootDualBoundTime {gen}\" for gen in gens]].round(3)"
   ],
   "id": "b001c8164e6f51cc",
   "outputs": [
    {
     "data": {
      "text/plain": [
       "    degree  terms perturbation  rootDualBoundTime New  rootDualBoundTime All  \\\n",
       "0      0.5      4       matrix                  0.227                  0.122   \n",
       "1      0.5      4    objective                  0.200                    NaN   \n",
       "2      0.5      4          rhs                  0.213                  0.113   \n",
       "3      0.5     64       matrix                  1.629                  0.253   \n",
       "4      0.5     64    objective                  1.661                    NaN   \n",
       "5      0.5     64          rhs                  1.629                  0.187   \n",
       "6      2.0      4       matrix                  0.219                  0.145   \n",
       "7      2.0      4    objective                  0.209                    NaN   \n",
       "8      2.0      4          rhs                  0.227                  0.134   \n",
       "9      2.0     64       matrix                  1.702                  0.347   \n",
       "10     2.0     64    objective                  1.633                    NaN   \n",
       "11     2.0     64          rhs                  1.589                  0.251   \n",
       "\n",
       "    rootDualBoundTime Disjunction  rootDualBoundTime NoDisjunction  \\\n",
       "0                           0.112                            0.103   \n",
       "1                           0.112                              NaN   \n",
       "2                           0.120                            0.122   \n",
       "3                           0.176                            0.405   \n",
       "4                           0.174                              NaN   \n",
       "5                           0.172                            0.214   \n",
       "6                           0.125                            0.143   \n",
       "7                           0.120                              NaN   \n",
       "8                           0.119                            0.135   \n",
       "9                           0.202                            0.548   \n",
       "10                          0.176                              NaN   \n",
       "11                          0.195                            0.364   \n",
       "\n",
       "    rootDualBoundTime Farkas  rootDualBoundTime None  \n",
       "0                      0.113                   0.134  \n",
       "1                      0.122                   0.105  \n",
       "2                      0.124                   0.162  \n",
       "3                      0.176                   0.131  \n",
       "4                      0.173                   0.103  \n",
       "5                      0.174                   0.127  \n",
       "6                      0.126                   0.102  \n",
       "7                      0.119                   0.124  \n",
       "8                      0.118                   0.105  \n",
       "9                      0.214                   0.104  \n",
       "10                     0.176                   0.118  \n",
       "11                     0.198                   0.106  "
      ],
      "text/html": [
       "<div>\n",
       "<style scoped>\n",
       "    .dataframe tbody tr th:only-of-type {\n",
       "        vertical-align: middle;\n",
       "    }\n",
       "\n",
       "    .dataframe tbody tr th {\n",
       "        vertical-align: top;\n",
       "    }\n",
       "\n",
       "    .dataframe thead th {\n",
       "        text-align: right;\n",
       "    }\n",
       "</style>\n",
       "<table border=\"1\" class=\"dataframe\">\n",
       "  <thead>\n",
       "    <tr style=\"text-align: right;\">\n",
       "      <th></th>\n",
       "      <th>degree</th>\n",
       "      <th>terms</th>\n",
       "      <th>perturbation</th>\n",
       "      <th>rootDualBoundTime New</th>\n",
       "      <th>rootDualBoundTime All</th>\n",
       "      <th>rootDualBoundTime Disjunction</th>\n",
       "      <th>rootDualBoundTime NoDisjunction</th>\n",
       "      <th>rootDualBoundTime Farkas</th>\n",
       "      <th>rootDualBoundTime None</th>\n",
       "    </tr>\n",
       "  </thead>\n",
       "  <tbody>\n",
       "    <tr>\n",
       "      <th>0</th>\n",
       "      <td>0.5</td>\n",
       "      <td>4</td>\n",
       "      <td>matrix</td>\n",
       "      <td>0.227</td>\n",
       "      <td>0.122</td>\n",
       "      <td>0.112</td>\n",
       "      <td>0.103</td>\n",
       "      <td>0.113</td>\n",
       "      <td>0.134</td>\n",
       "    </tr>\n",
       "    <tr>\n",
       "      <th>1</th>\n",
       "      <td>0.5</td>\n",
       "      <td>4</td>\n",
       "      <td>objective</td>\n",
       "      <td>0.200</td>\n",
       "      <td>NaN</td>\n",
       "      <td>0.112</td>\n",
       "      <td>NaN</td>\n",
       "      <td>0.122</td>\n",
       "      <td>0.105</td>\n",
       "    </tr>\n",
       "    <tr>\n",
       "      <th>2</th>\n",
       "      <td>0.5</td>\n",
       "      <td>4</td>\n",
       "      <td>rhs</td>\n",
       "      <td>0.213</td>\n",
       "      <td>0.113</td>\n",
       "      <td>0.120</td>\n",
       "      <td>0.122</td>\n",
       "      <td>0.124</td>\n",
       "      <td>0.162</td>\n",
       "    </tr>\n",
       "    <tr>\n",
       "      <th>3</th>\n",
       "      <td>0.5</td>\n",
       "      <td>64</td>\n",
       "      <td>matrix</td>\n",
       "      <td>1.629</td>\n",
       "      <td>0.253</td>\n",
       "      <td>0.176</td>\n",
       "      <td>0.405</td>\n",
       "      <td>0.176</td>\n",
       "      <td>0.131</td>\n",
       "    </tr>\n",
       "    <tr>\n",
       "      <th>4</th>\n",
       "      <td>0.5</td>\n",
       "      <td>64</td>\n",
       "      <td>objective</td>\n",
       "      <td>1.661</td>\n",
       "      <td>NaN</td>\n",
       "      <td>0.174</td>\n",
       "      <td>NaN</td>\n",
       "      <td>0.173</td>\n",
       "      <td>0.103</td>\n",
       "    </tr>\n",
       "    <tr>\n",
       "      <th>5</th>\n",
       "      <td>0.5</td>\n",
       "      <td>64</td>\n",
       "      <td>rhs</td>\n",
       "      <td>1.629</td>\n",
       "      <td>0.187</td>\n",
       "      <td>0.172</td>\n",
       "      <td>0.214</td>\n",
       "      <td>0.174</td>\n",
       "      <td>0.127</td>\n",
       "    </tr>\n",
       "    <tr>\n",
       "      <th>6</th>\n",
       "      <td>2.0</td>\n",
       "      <td>4</td>\n",
       "      <td>matrix</td>\n",
       "      <td>0.219</td>\n",
       "      <td>0.145</td>\n",
       "      <td>0.125</td>\n",
       "      <td>0.143</td>\n",
       "      <td>0.126</td>\n",
       "      <td>0.102</td>\n",
       "    </tr>\n",
       "    <tr>\n",
       "      <th>7</th>\n",
       "      <td>2.0</td>\n",
       "      <td>4</td>\n",
       "      <td>objective</td>\n",
       "      <td>0.209</td>\n",
       "      <td>NaN</td>\n",
       "      <td>0.120</td>\n",
       "      <td>NaN</td>\n",
       "      <td>0.119</td>\n",
       "      <td>0.124</td>\n",
       "    </tr>\n",
       "    <tr>\n",
       "      <th>8</th>\n",
       "      <td>2.0</td>\n",
       "      <td>4</td>\n",
       "      <td>rhs</td>\n",
       "      <td>0.227</td>\n",
       "      <td>0.134</td>\n",
       "      <td>0.119</td>\n",
       "      <td>0.135</td>\n",
       "      <td>0.118</td>\n",
       "      <td>0.105</td>\n",
       "    </tr>\n",
       "    <tr>\n",
       "      <th>9</th>\n",
       "      <td>2.0</td>\n",
       "      <td>64</td>\n",
       "      <td>matrix</td>\n",
       "      <td>1.702</td>\n",
       "      <td>0.347</td>\n",
       "      <td>0.202</td>\n",
       "      <td>0.548</td>\n",
       "      <td>0.214</td>\n",
       "      <td>0.104</td>\n",
       "    </tr>\n",
       "    <tr>\n",
       "      <th>10</th>\n",
       "      <td>2.0</td>\n",
       "      <td>64</td>\n",
       "      <td>objective</td>\n",
       "      <td>1.633</td>\n",
       "      <td>NaN</td>\n",
       "      <td>0.176</td>\n",
       "      <td>NaN</td>\n",
       "      <td>0.176</td>\n",
       "      <td>0.118</td>\n",
       "    </tr>\n",
       "    <tr>\n",
       "      <th>11</th>\n",
       "      <td>2.0</td>\n",
       "      <td>64</td>\n",
       "      <td>rhs</td>\n",
       "      <td>1.589</td>\n",
       "      <td>0.251</td>\n",
       "      <td>0.195</td>\n",
       "      <td>0.364</td>\n",
       "      <td>0.198</td>\n",
       "      <td>0.106</td>\n",
       "    </tr>\n",
       "  </tbody>\n",
       "</table>\n",
       "</div>"
      ]
     },
     "execution_count": 90,
     "metadata": {},
     "output_type": "execute_result"
    }
   ],
   "execution_count": 90
  },
  {
   "metadata": {
    "ExecuteTime": {
     "end_time": "2025-07-23T14:05:31.460414Z",
     "start_time": "2025-07-23T14:05:31.452605Z"
    }
   },
   "cell_type": "code",
   "source": [
    "effect_df = full_df[full_df[\"instanceIndex\"] > 0]\n",
    "\n",
    "target_cols = [\"infeasibleToFeasibleTerms\", \"termRemainsFeasibleBasisInfeasible\", \"cutsChangedCoefficients\",\n",
    "               \"numCuts\", \"feasibleTermsPrunedByBound\"]\n",
    "end_cols = [\"infeasibleToFeasibleTerms\", \"termRemainsFeasibleBasisInfeasible\", \"cutsChangedCoefficientsRatio\", \"feasibleTermsPrunedByBound\"]\n",
    "\n",
    "gb = effect_df.groupby([\"perturbation\", \"degree\", \"terms\"]).agg(\n",
    "    {f\"{c} {gen}\": \"mean\" for gen in generators for c in target_cols if gen in [\"Disjunction\", \"NoDisjunction\", \"All\"]} | {\"instance\": \"nunique\", \"instanceIndex\": \"count\"}    \n",
    ")\n",
    "\n",
    "for gen in test_generators:\n",
    "    gb[f\"cutsChangedCoefficientsRatio {gen}\"] = gb[f\"cutsChangedCoefficients {gen}\"] / gb[f\"numCuts {gen}\"]\n",
    "    \n",
    "gb = gb[[f\"{c} {gen}\" for gen in generators for c in end_cols if gen in [\"Disjunction\", \"NoDisjunction\", \"All\"]] + [\"instance\", \"instanceIndex\"]]"
   ],
   "id": "22945c81a566c8d0",
   "outputs": [],
   "execution_count": 83
  },
  {
   "metadata": {
    "ExecuteTime": {
     "end_time": "2025-07-23T14:05:31.548312Z",
     "start_time": "2025-07-23T14:05:31.541094Z"
    }
   },
   "cell_type": "code",
   "source": [
    "# prune by bound higher for .5 degree makes sense given previous solutions more likely to be feasible\n",
    "gb.loc[[\"matrix\", \"rhs\"], [c for c in gb.columns if \" NoDisjunction\" in c or \"instance\" in c]].round(4)"
   ],
   "id": "4d7d6815b59c23f6",
   "outputs": [
    {
     "data": {
      "text/plain": [
       "                           infeasibleToFeasibleTerms NoDisjunction  \\\n",
       "perturbation degree terms                                            \n",
       "matrix       0.5    4                                       0.0000   \n",
       "                    64                                      1.1132   \n",
       "             2.0    4                                       0.0189   \n",
       "                    64                                      7.7075   \n",
       "rhs          0.5    4                                       0.0000   \n",
       "                    64                                      1.1224   \n",
       "             2.0    4                                       0.0000   \n",
       "                    64                                      2.1429   \n",
       "\n",
       "                           termRemainsFeasibleBasisInfeasible NoDisjunction  \\\n",
       "perturbation degree terms                                                     \n",
       "matrix       0.5    4                                                2.2736   \n",
       "                    64                                              20.8962   \n",
       "             2.0    4                                                2.9340   \n",
       "                    64                                              25.0094   \n",
       "rhs          0.5    4                                                3.6735   \n",
       "                    64                                              40.5714   \n",
       "             2.0    4                                                3.6735   \n",
       "                    64                                              36.9796   \n",
       "\n",
       "                           cutsChangedCoefficientsRatio NoDisjunction  \\\n",
       "perturbation degree terms                                               \n",
       "matrix       0.5    4                                          0.9271   \n",
       "                    64                                         0.9790   \n",
       "             2.0    4                                          0.9964   \n",
       "                    64                                         0.9995   \n",
       "rhs          0.5    4                                          0.0000   \n",
       "                    64                                         0.0000   \n",
       "             2.0    4                                          0.0000   \n",
       "                    64                                         0.0000   \n",
       "\n",
       "                           feasibleTermsPrunedByBound NoDisjunction  instance  \\\n",
       "perturbation degree terms                                                       \n",
       "matrix       0.5    4                                           0.0        45   \n",
       "                    64                                          0.0        45   \n",
       "             2.0    4                                           0.0        45   \n",
       "                    64                                          0.0        45   \n",
       "rhs          0.5    4                                           0.0        24   \n",
       "                    64                                          0.0        24   \n",
       "             2.0    4                                           0.0        24   \n",
       "                    64                                          0.0        24   \n",
       "\n",
       "                           instanceIndex  \n",
       "perturbation degree terms                 \n",
       "matrix       0.5    4                106  \n",
       "                    64               106  \n",
       "             2.0    4                106  \n",
       "                    64               106  \n",
       "rhs          0.5    4                 49  \n",
       "                    64                49  \n",
       "             2.0    4                 49  \n",
       "                    64                49  "
      ],
      "text/html": [
       "<div>\n",
       "<style scoped>\n",
       "    .dataframe tbody tr th:only-of-type {\n",
       "        vertical-align: middle;\n",
       "    }\n",
       "\n",
       "    .dataframe tbody tr th {\n",
       "        vertical-align: top;\n",
       "    }\n",
       "\n",
       "    .dataframe thead th {\n",
       "        text-align: right;\n",
       "    }\n",
       "</style>\n",
       "<table border=\"1\" class=\"dataframe\">\n",
       "  <thead>\n",
       "    <tr style=\"text-align: right;\">\n",
       "      <th></th>\n",
       "      <th></th>\n",
       "      <th></th>\n",
       "      <th>infeasibleToFeasibleTerms NoDisjunction</th>\n",
       "      <th>termRemainsFeasibleBasisInfeasible NoDisjunction</th>\n",
       "      <th>cutsChangedCoefficientsRatio NoDisjunction</th>\n",
       "      <th>feasibleTermsPrunedByBound NoDisjunction</th>\n",
       "      <th>instance</th>\n",
       "      <th>instanceIndex</th>\n",
       "    </tr>\n",
       "    <tr>\n",
       "      <th>perturbation</th>\n",
       "      <th>degree</th>\n",
       "      <th>terms</th>\n",
       "      <th></th>\n",
       "      <th></th>\n",
       "      <th></th>\n",
       "      <th></th>\n",
       "      <th></th>\n",
       "      <th></th>\n",
       "    </tr>\n",
       "  </thead>\n",
       "  <tbody>\n",
       "    <tr>\n",
       "      <th rowspan=\"4\" valign=\"top\">matrix</th>\n",
       "      <th rowspan=\"2\" valign=\"top\">0.5</th>\n",
       "      <th>4</th>\n",
       "      <td>0.0000</td>\n",
       "      <td>2.2736</td>\n",
       "      <td>0.9271</td>\n",
       "      <td>0.0</td>\n",
       "      <td>45</td>\n",
       "      <td>106</td>\n",
       "    </tr>\n",
       "    <tr>\n",
       "      <th>64</th>\n",
       "      <td>1.1132</td>\n",
       "      <td>20.8962</td>\n",
       "      <td>0.9790</td>\n",
       "      <td>0.0</td>\n",
       "      <td>45</td>\n",
       "      <td>106</td>\n",
       "    </tr>\n",
       "    <tr>\n",
       "      <th rowspan=\"2\" valign=\"top\">2.0</th>\n",
       "      <th>4</th>\n",
       "      <td>0.0189</td>\n",
       "      <td>2.9340</td>\n",
       "      <td>0.9964</td>\n",
       "      <td>0.0</td>\n",
       "      <td>45</td>\n",
       "      <td>106</td>\n",
       "    </tr>\n",
       "    <tr>\n",
       "      <th>64</th>\n",
       "      <td>7.7075</td>\n",
       "      <td>25.0094</td>\n",
       "      <td>0.9995</td>\n",
       "      <td>0.0</td>\n",
       "      <td>45</td>\n",
       "      <td>106</td>\n",
       "    </tr>\n",
       "    <tr>\n",
       "      <th rowspan=\"4\" valign=\"top\">rhs</th>\n",
       "      <th rowspan=\"2\" valign=\"top\">0.5</th>\n",
       "      <th>4</th>\n",
       "      <td>0.0000</td>\n",
       "      <td>3.6735</td>\n",
       "      <td>0.0000</td>\n",
       "      <td>0.0</td>\n",
       "      <td>24</td>\n",
       "      <td>49</td>\n",
       "    </tr>\n",
       "    <tr>\n",
       "      <th>64</th>\n",
       "      <td>1.1224</td>\n",
       "      <td>40.5714</td>\n",
       "      <td>0.0000</td>\n",
       "      <td>0.0</td>\n",
       "      <td>24</td>\n",
       "      <td>49</td>\n",
       "    </tr>\n",
       "    <tr>\n",
       "      <th rowspan=\"2\" valign=\"top\">2.0</th>\n",
       "      <th>4</th>\n",
       "      <td>0.0000</td>\n",
       "      <td>3.6735</td>\n",
       "      <td>0.0000</td>\n",
       "      <td>0.0</td>\n",
       "      <td>24</td>\n",
       "      <td>49</td>\n",
       "    </tr>\n",
       "    <tr>\n",
       "      <th>64</th>\n",
       "      <td>2.1429</td>\n",
       "      <td>36.9796</td>\n",
       "      <td>0.0000</td>\n",
       "      <td>0.0</td>\n",
       "      <td>24</td>\n",
       "      <td>49</td>\n",
       "    </tr>\n",
       "  </tbody>\n",
       "</table>\n",
       "</div>"
      ]
     },
     "execution_count": 84,
     "metadata": {},
     "output_type": "execute_result"
    }
   ],
   "execution_count": 84
  },
  {
   "metadata": {
    "ExecuteTime": {
     "end_time": "2025-07-23T14:05:31.664937Z",
     "start_time": "2025-07-23T14:05:31.663163Z"
    }
   },
   "cell_type": "code",
   "source": "# gb.loc[\"objective\", [c for c in gb.columns if \" Disjunction\" in c or \"instance\" in c]]",
   "id": "4e1d0c2e22271925",
   "outputs": [],
   "execution_count": 85
  },
  {
   "metadata": {
    "ExecuteTime": {
     "end_time": "2025-07-23T14:05:31.731228Z",
     "start_time": "2025-07-23T14:05:31.729690Z"
    }
   },
   "cell_type": "code",
   "source": "# gb.loc[\"rhs\", [c for c in gb.columns if \" NoDisjunction\" in c  or \"instance\" in c]].round(4)",
   "id": "9202bc3975b57010",
   "outputs": [],
   "execution_count": 86
  },
  {
   "cell_type": "markdown",
   "source": "## Check Termination Stats",
   "metadata": {
    "collapsed": false
   },
   "id": "33cb2bd47f9b2e99"
  },
  {
   "metadata": {
    "ExecuteTime": {
     "end_time": "2025-07-23T14:05:31.873515Z",
     "start_time": "2025-07-23T14:05:31.857906Z"
    }
   },
   "cell_type": "code",
   "source": [
    "# only check perturbed instances that solve to optimality and VPC didn't find optimal solution\n",
    "mask = (\n",
    "    (df[\"Disjunction (New)\"] < 0.9999) & (df[\"instanceIndex\"] > 0)\n",
    "    & np.logical_and.reduce([(optimality_gap(df, gen) <= 1e-4) | (pd.isnull(optimality_gap(df, gen))) for gen in generators])\n",
    "    & (df[\"terminationTime None\"] > min_termination_time) & (df[\"perturbation\"] != \"objective\")\n",
    ")\n",
    "# if remove_status_changes:\n",
    "#     mask = mask & (df[\"infeasibleToFeasibleTermsRatio Farkas\"] == 0) & (df[\"feasibleToInfeasibleTermsRatio Farkas\"] == 0)\n",
    "\n",
    "gap_df = df.loc[mask]\n",
    "\n",
    "# # reduce to only ones where all terms and degrees are present\n",
    "# triples = (gap_df.groupby(\n",
    "#         [\"instance\", \"perturbation\", \"instanceIndex\"]\n",
    "#     ).size().reset_index().rename(columns={0: \"count\"}))\n",
    "# triples = triples[triples[\"count\"] == len(degrees) * len(term_list) * len(seed_idxs)]\n",
    "# gap_df = gap_df.merge(triples, on=[\"instance\", \"perturbation\", \"instanceIndex\"])"
   ],
   "id": "2338c59b55c8a0ab",
   "outputs": [],
   "execution_count": 87
  },
  {
   "metadata": {
    "ExecuteTime": {
     "end_time": "2025-07-23T14:05:31.941737Z",
     "start_time": "2025-07-23T14:05:31.929497Z"
    }
   },
   "cell_type": "code",
   "source": [
    "def plot_distributions(histogram_df, feature, bins=100, xlim=(-2, 1), ylim=(0, 1), perturbation=None, exclude_perturbation=False, title_x=.525, relative=True):\n",
    "    \"\"\"\n",
    "    Generate a grid of cumulative distribution functions (CDFs) for a given feature,\n",
    "    one for each combination of terms and degrees.\n",
    "    \"\"\"\n",
    "\n",
    "    unique_degrees = histogram_df['degree'].sort_values(ascending=False).unique()\n",
    "    unique_terms = histogram_df['terms'].sort_values().unique()\n",
    "\n",
    "    fig, axes = plt.subplots(len(unique_degrees), len(unique_terms),\n",
    "                             figsize=(4 * len(unique_terms), 4 * len(unique_degrees)))\n",
    "    \n",
    "    compare_gens = [gen for gen in generators if gen != \"None\" and gen != \"New\"]\n",
    "\n",
    "    for i, degree in enumerate(unique_degrees):\n",
    "        for j, terms in enumerate(unique_terms):\n",
    "            ax = axes[i, j] if len(unique_degrees) > 1 and len(unique_terms) > 1 else axes[i] if len(unique_degrees) > 1 \\\n",
    "                else axes[j] if len(unique_terms) > 1 else axes\n",
    "\n",
    "            subset_df = histogram_df[(histogram_df['degree'] == degree) & (histogram_df['terms'] == terms)]\n",
    "\n",
    "            if perturbation is not None:\n",
    "                subset_df = subset_df[subset_df[\"perturbation\"] == perturbation] if not exclude_perturbation \\\n",
    "                    else subset_df[subset_df[\"perturbation\"] != perturbation]\n",
    "\n",
    "            # Compute relative improvements dynamically from generators\n",
    "            relative_improvements = {gen: subset_df[f\"{feature} {gen}\"] for gen in compare_gens} if not relative else \\\n",
    "                {gen: -(subset_df[f\"{feature} None\"] - subset_df[f\"{feature} {gen}\"]) / subset_df[f\"{feature} None\"] for gen in compare_gens}\n",
    "            \n",
    "            # filter out nan's and drop groups that are emptied - e.g. any supporting for objective perturbations or matrix supporting for rhs\n",
    "            relative_improvements = {gen: ri[ri.notna()] for gen, ri in relative_improvements.items() if ri.notna().sum() > 1}\n",
    "\n",
    "            x = np.linspace(xlim[0], xlim[1], bins)\n",
    "\n",
    "            # Compute CDFs\n",
    "            cdfs = {\n",
    "                gen: np.array([(ri <= val).sum() / len(ri) for val in x])\n",
    "                for gen, ri in relative_improvements.items()\n",
    "            }\n",
    "\n",
    "            # Plot each generator's CDF with distinct color\n",
    "            cmap = plt.get_cmap(\"tab10\")\n",
    "            for gen in cdfs:\n",
    "                ax.plot(x, cdfs[gen], label=cat_map.get(gen, gen), color=cmap(generators.index(gen)))\n",
    "\n",
    "            # Optionally fill region where first generator dominates all others\n",
    "            primary = \"Farkas\"\n",
    "            others = [g for g in cdfs if g != \"Farkas\"]\n",
    "            fill_region = [max(cdfs[gen][k] for gen in others) > cdfs[primary][k] for k in range(len(x))]\n",
    "            ax.fill_between(x, cdfs[primary], np.maximum.reduce([cdfs[gen] for gen in others]),\n",
    "                            where=fill_region,\n",
    "                            facecolor='yellow', alpha=0.7,\n",
    "                            label=f'Improvement over\\n{cat_map.get(primary, primary)}')\n",
    "\n",
    "            ax.set_xlim(xlim)\n",
    "            ax.set_ylim(ylim)\n",
    "            # if not relative:\n",
    "            #     # set x-axis to log scale if not relative\n",
    "            #     ax.set_xscale('log')\n",
    "            ax.set_title(f\"{degree} Degree{'s' if degree > 1 else ''}, {terms} Terms\")\n",
    "            if j == 0:\n",
    "                ax.set_ylabel(\"Probability\")\n",
    "            if i == len(unique_degrees) - 1:\n",
    "                ax.set_xlabel(\"Relative Change\" if relative else \"Solve Time (s)\")\n",
    "\n",
    "    # Shared legend\n",
    "    handles, labels = ax.get_legend_handles_labels()\n",
    "    fig.legend(handles, labels, loc='lower center', bbox_to_anchor=(title_x, -0.1), ncol=3)\n",
    "\n",
    "    fig.suptitle(f\"CDF of {'Relative Change in ' if relative else ''}Solve {label[feature]}\"\n",
    "                 f\"{' for ' + (perturbation.title() if perturbation != 'rhs' else perturbation.upper()) + ' Perturbations' if perturbation else ''}\", x=title_x)\n",
    "    plt.tight_layout()\n",
    "\n",
    "    plt.savefig(os.path.join(out_fldr, f\"cdf_{feature}{'_' + perturbation if perturbation else ''}{'_relative_improvements' if relative else ''}.png\"), dpi=1200, bbox_inches='tight')\n",
    "    plt.show()"
   ],
   "id": "f327e3a2378d2980",
   "outputs": [],
   "execution_count": 88
  },
  {
   "metadata": {
    "ExecuteTime": {
     "end_time": "2025-07-23T14:05:32.010686Z",
     "start_time": "2025-07-23T14:05:32.008535Z"
    }
   },
   "cell_type": "code",
   "source": [
    "# expect that fewer terms better given last paper shows generation time paramount\n",
    "# time outweighs strength, so although relatively more bound closed at 2 degrees, more terms need tightening, which is very noticeable for supporting methods \n",
    "# then makes sense that for few terms and degrees that supporting methods do better but more more terms and degrees prune is better since its quick\n",
    "# plot_distributions(gap_df, \"terminationTime\", xlim=(100, 3600), ylim=(.6, 1), bins=350, relative=False)\n",
    "# plot_distributions(gap_df, \"terminationTime\", xlim=(-1, 0), ylim=(0, .5), bins=1000, relative=True)"
   ],
   "id": "7173676b6d53256f",
   "outputs": [],
   "execution_count": 89
  },
  {
   "metadata": {
    "ExecuteTime": {
     "end_time": "2025-07-23T14:05:32.059387Z",
     "start_time": "2025-07-23T14:05:32.057141Z"
    }
   },
   "cell_type": "code",
   "source": [
    "# support methods outperform default parameterization more often for fewer terms than they do for more, which makes sense since generation time penalized less\n",
    "\n",
    "# plot_distributions(gap_df, \"terminationTime\", xlim=(100, 3600), ylim=(.6, 1), bins=350, relative=False, perturbation=\"matrix\")\n",
    "# plot_distributions(gap_df, \"terminationTime\", xlim=(-1, 0), ylim=(0, .5), bins=1000, relative=True, perturbation=\"matrix\")"
   ],
   "id": "64d0739a001249be",
   "outputs": [],
   "execution_count": 90
  },
  {
   "metadata": {
    "ExecuteTime": {
     "end_time": "2025-07-23T14:05:32.102744Z",
     "start_time": "2025-07-23T14:05:32.101432Z"
    }
   },
   "cell_type": "code",
   "source": [
    "# more terms -> more opportunity for incumbent to prune (thus more effective)\n",
    "# fewer degrees -> no relationship in table for frequency, but .5, 64 did have most opportunity, so it makes sense it sees most improvement \n",
    "# wouldn't expect such a separation since the methods are similarly fast and pruning only makes it stronger\n",
    "# plot_distributions(gap_df, \"terminationTime\", xlim=(100, 3600), ylim=(.6, 1), bins=350, relative=False, perturbation=\"objective\")\n",
    "# plot_distributions(gap_df, \"terminationTime\", xlim=(-1, 0), ylim=(0, .5), bins=1000, relative=True, perturbation=\"objective\")"
   ],
   "id": "1ac58b01ad60cfc6",
   "outputs": [],
   "execution_count": 91
  },
  {
   "metadata": {
    "ExecuteTime": {
     "end_time": "2025-07-23T14:05:32.149955Z",
     "start_time": "2025-07-23T14:05:32.147864Z"
    }
   },
   "cell_type": "code",
   "source": [
    "# not as surprising that we do better for more degrees given more opportunity for strengthening with support methods while root cut generation time does not vary much\n",
    "# makes sense then that support methods do better than pruning alone for more degrees\n",
    "# for fewer degrees, makes sense that pruning is better since we're still doing roughly the same work to generating supporting cuts as with more degrees but have less opportunity\n",
    "# would have expected prune and support to do better than support since its as strong but quicker\n",
    "# plot_distributions(gap_df, \"terminationTime\", xlim=(100, 3600), ylim=(.6, 1), bins=350, relative=False, perturbation=\"rhs\")\n",
    "# plot_distributions(gap_df, \"terminationTime\", xlim=(-1, 0), ylim=(0, .5), bins=1000, relative=True, perturbation=\"rhs\")"
   ],
   "id": "bbaafad6bf001222",
   "outputs": [],
   "execution_count": 92
  },
  {
   "metadata": {
    "ExecuteTime": {
     "end_time": "2025-07-23T14:05:32.194945Z",
     "start_time": "2025-07-23T14:05:32.192036Z"
    }
   },
   "cell_type": "code",
   "source": [
    "def rename_cols(cols, feature):\n",
    "    new_cols = []\n",
    "    for col in cols:\n",
    "        if f\"{feature}Win\" in col:\n",
    "            col = col.replace(f\"{feature}Win\", f\"{label[feature]} Win % \")\n",
    "        elif \"instanceIndex\" in col:\n",
    "            col = col.replace(\"instanceIndex\", \"Test Instances\")\n",
    "        elif \"instance\" in col:\n",
    "            col = col.replace(\"instance\", \"Base Instances\")\n",
    "        new_cols.append(col)\n",
    "    return new_cols"
   ],
   "id": "32dc8780b9e2113d",
   "outputs": [],
   "execution_count": 93
  },
  {
   "metadata": {
    "ExecuteTime": {
     "end_time": "2025-07-23T15:44:49.727972Z",
     "start_time": "2025-07-23T15:44:49.715229Z"
    }
   },
   "cell_type": "code",
   "source": [
    "def get_wins(feature, grouping):\n",
    "    \"\"\"\n",
    "    \n",
    "    :param feature: \"nodes\", \"terminationTime\", \"terminationTimeSansVpc\"\n",
    "    :param grouping: \"perturbation\", \"terms\", \"bracket\", \"degree\" \n",
    "    :return: \n",
    "    \"\"\"\n",
    "\n",
    "    # get the win percentages for each feature on average and broken down by grouping type\n",
    "    features = [feature]\n",
    "    keys = [] # removed perturbation since patterns did not exist - finding them means finding triples which just makes the test set too small\n",
    "    wins = {}\n",
    "    \n",
    "    for feature in features:\n",
    "        \n",
    "        # define aggregating operations\n",
    "        aggregations = {f\"{feature}Win{gen}\": \"mean\" for gen in [\"NoneVsAll\", \"NoDisjunctionVsAll\", \"New\"] + test_generators + [\"Farkas\", \"Parametric\", \"Any\"]}  # \"Strengthened\", \n",
    "        if feature == features[-1]:\n",
    "            aggregations = aggregations | {\"instance\": \"nunique\", \"instanceIndex\": \"count\"}\n",
    "        \n",
    "        # find the average wins for the feature grouped by degree and terms\n",
    "        feature_wins = gap_df[gap_df[\"perturbation\"] != \"bound\"].groupby(keys + [grouping]).agg(aggregations)\n",
    "        \n",
    "        # clean up formatting\n",
    "        feature_wins.columns = rename_cols(feature_wins.columns, feature)\n",
    "        win_cols = [c for c in feature_wins.columns if \"Win\" in c]\n",
    "        feature_wins[win_cols] = feature_wins[win_cols].applymap(lambda x: round(x * 100, 2))\n",
    "        instance_cols = [c for c in feature_wins.columns if \"instance\" in c]\n",
    "        feature_wins[instance_cols] = feature_wins[instance_cols].applymap(lambda x: int(x))\n",
    "        \n",
    "        # save the df\n",
    "        wins[feature] = feature_wins\n",
    "        \n",
    "    # bring them all together now\n",
    "    all_wins = pd.concat(wins.values(), axis=1).sort_values(keys + [grouping], ascending=[c != \"bracket\" for c in keys + [grouping]]).reset_index()\n",
    "    all_wins.to_csv(os.path.join(out_fldr, f\"branch_and_bound_wins_{feature}_{grouping}.csv\"), index=False, mode=\"w\")\n",
    "    all_wins\n",
    "    return all_wins"
   ],
   "id": "6d89e35900caab92",
   "outputs": [],
   "execution_count": 113
  },
  {
   "metadata": {
    "ExecuteTime": {
     "end_time": "2025-07-23T15:44:50.016289Z",
     "start_time": "2025-07-23T15:44:49.988001Z"
    }
   },
   "cell_type": "code",
   "source": [
    "# general trends\n",
    "# some form of disjunctive cuts leads to a significant improvement in nodes and time, which makes sense given the depth of the cuts\n",
    "# disjunctive methods are all somewhat orthogonal to each other - motivates figuring out when to use when\n",
    "# this includes strengthening\n",
    "# to get a decent sample size, the same instances aren't included in both subsets here, so that can also throw things off\n",
    "# todo it's fine that we don't see improvements in 4 terms at root. Disjunctive cuts are still known for their strength, which often comes down to their refining deeper in the tree (aleks) and we'll see benefit of them in later results\n",
    "\n",
    "\n",
    "# rhs had better root node strength than matrix on average for parametric disjunctive cuts -> it does better\n",
    "# in both nodes and time, farkas degrades more than strengthening does\n",
    "# strengthening reduces nodes compared to Farkas\n",
    "# would have expected more for matrix perturbations given more reparameterization, but prachi shows even if they are tighter that doesn't mean smaller trees\n",
    "get_wins(\"nodes\", \"perturbation\")"
   ],
   "id": "117f171d96062ce8",
   "outputs": [
    {
     "data": {
      "text/plain": [
       "  perturbation  Nodes Processed Win % NoneVsAll  \\\n",
       "0       matrix                            13.91   \n",
       "1          rhs                            13.20   \n",
       "\n",
       "   Nodes Processed Win % NoDisjunctionVsAll  Nodes Processed Win % New  \\\n",
       "0                                      15.0                      35.87   \n",
       "1                                      14.8                      34.00   \n",
       "\n",
       "   Nodes Processed Win % NoDisjunction  Nodes Processed Win % Farkas  \\\n",
       "0                                38.91                          36.3   \n",
       "1                                41.20                          38.0   \n",
       "\n",
       "   Nodes Processed Win % Parametric  Nodes Processed Win % Any  \\\n",
       "0                             52.39                       60.0   \n",
       "1                             53.60                       59.6   \n",
       "\n",
       "   Base Instances  Test Instances  \n",
       "0              89             460  \n",
       "1              59             250  "
      ],
      "text/html": [
       "<div>\n",
       "<style scoped>\n",
       "    .dataframe tbody tr th:only-of-type {\n",
       "        vertical-align: middle;\n",
       "    }\n",
       "\n",
       "    .dataframe tbody tr th {\n",
       "        vertical-align: top;\n",
       "    }\n",
       "\n",
       "    .dataframe thead th {\n",
       "        text-align: right;\n",
       "    }\n",
       "</style>\n",
       "<table border=\"1\" class=\"dataframe\">\n",
       "  <thead>\n",
       "    <tr style=\"text-align: right;\">\n",
       "      <th></th>\n",
       "      <th>perturbation</th>\n",
       "      <th>Nodes Processed Win % NoneVsAll</th>\n",
       "      <th>Nodes Processed Win % NoDisjunctionVsAll</th>\n",
       "      <th>Nodes Processed Win % New</th>\n",
       "      <th>Nodes Processed Win % NoDisjunction</th>\n",
       "      <th>Nodes Processed Win % Farkas</th>\n",
       "      <th>Nodes Processed Win % Parametric</th>\n",
       "      <th>Nodes Processed Win % Any</th>\n",
       "      <th>Base Instances</th>\n",
       "      <th>Test Instances</th>\n",
       "    </tr>\n",
       "  </thead>\n",
       "  <tbody>\n",
       "    <tr>\n",
       "      <th>0</th>\n",
       "      <td>matrix</td>\n",
       "      <td>13.91</td>\n",
       "      <td>15.0</td>\n",
       "      <td>35.87</td>\n",
       "      <td>38.91</td>\n",
       "      <td>36.3</td>\n",
       "      <td>52.39</td>\n",
       "      <td>60.0</td>\n",
       "      <td>89</td>\n",
       "      <td>460</td>\n",
       "    </tr>\n",
       "    <tr>\n",
       "      <th>1</th>\n",
       "      <td>rhs</td>\n",
       "      <td>13.20</td>\n",
       "      <td>14.8</td>\n",
       "      <td>34.00</td>\n",
       "      <td>41.20</td>\n",
       "      <td>38.0</td>\n",
       "      <td>53.60</td>\n",
       "      <td>59.6</td>\n",
       "      <td>59</td>\n",
       "      <td>250</td>\n",
       "    </tr>\n",
       "  </tbody>\n",
       "</table>\n",
       "</div>"
      ]
     },
     "execution_count": 114,
     "metadata": {},
     "output_type": "execute_result"
    }
   ],
   "execution_count": 114
  },
  {
   "metadata": {
    "ExecuteTime": {
     "end_time": "2025-07-23T15:44:50.351755Z",
     "start_time": "2025-07-23T15:44:50.339317Z"
    }
   },
   "cell_type": "code",
   "source": [
    "# in both nodes and time, farkas degrades more than strengthening does\n",
    "# ratio of strengthening wins to farkas wins increases for matrix but reduces for rhs regarding time -> follows aleks pattern that dense cuts slow down LP solves thus run time\n",
    "# higher valued new for nodes leads to lower valued new for time for same reason\n",
    "# ratio of parametric wins to any wins increases from nodes to time for same reason\n",
    "get_wins(\"terminationTime\", \"perturbation\")"
   ],
   "id": "c82e00d9b666bd9",
   "outputs": [
    {
     "data": {
      "text/plain": [
       "  perturbation  Time Win % NoneVsAll  Time Win % NoDisjunctionVsAll  \\\n",
       "0       matrix                 24.78                          22.39   \n",
       "1          rhs                 18.40                          18.40   \n",
       "\n",
       "   Time Win % New  Time Win % NoDisjunction  Time Win % Farkas  \\\n",
       "0           25.43                      40.0              36.52   \n",
       "1           30.00                      39.2              42.80   \n",
       "\n",
       "   Time Win % Parametric  Time Win % Any  Base Instances  Test Instances  \n",
       "0                  54.57           59.78              89             460  \n",
       "1                  56.00           61.60              59             250  "
      ],
      "text/html": [
       "<div>\n",
       "<style scoped>\n",
       "    .dataframe tbody tr th:only-of-type {\n",
       "        vertical-align: middle;\n",
       "    }\n",
       "\n",
       "    .dataframe tbody tr th {\n",
       "        vertical-align: top;\n",
       "    }\n",
       "\n",
       "    .dataframe thead th {\n",
       "        text-align: right;\n",
       "    }\n",
       "</style>\n",
       "<table border=\"1\" class=\"dataframe\">\n",
       "  <thead>\n",
       "    <tr style=\"text-align: right;\">\n",
       "      <th></th>\n",
       "      <th>perturbation</th>\n",
       "      <th>Time Win % NoneVsAll</th>\n",
       "      <th>Time Win % NoDisjunctionVsAll</th>\n",
       "      <th>Time Win % New</th>\n",
       "      <th>Time Win % NoDisjunction</th>\n",
       "      <th>Time Win % Farkas</th>\n",
       "      <th>Time Win % Parametric</th>\n",
       "      <th>Time Win % Any</th>\n",
       "      <th>Base Instances</th>\n",
       "      <th>Test Instances</th>\n",
       "    </tr>\n",
       "  </thead>\n",
       "  <tbody>\n",
       "    <tr>\n",
       "      <th>0</th>\n",
       "      <td>matrix</td>\n",
       "      <td>24.78</td>\n",
       "      <td>22.39</td>\n",
       "      <td>25.43</td>\n",
       "      <td>40.0</td>\n",
       "      <td>36.52</td>\n",
       "      <td>54.57</td>\n",
       "      <td>59.78</td>\n",
       "      <td>89</td>\n",
       "      <td>460</td>\n",
       "    </tr>\n",
       "    <tr>\n",
       "      <th>1</th>\n",
       "      <td>rhs</td>\n",
       "      <td>18.40</td>\n",
       "      <td>18.40</td>\n",
       "      <td>30.00</td>\n",
       "      <td>39.2</td>\n",
       "      <td>42.80</td>\n",
       "      <td>56.00</td>\n",
       "      <td>61.60</td>\n",
       "      <td>59</td>\n",
       "      <td>250</td>\n",
       "    </tr>\n",
       "  </tbody>\n",
       "</table>\n",
       "</div>"
      ]
     },
     "execution_count": 115,
     "metadata": {},
     "output_type": "execute_result"
    }
   ],
   "execution_count": 115
  },
  {
   "metadata": {
    "ExecuteTime": {
     "end_time": "2025-07-23T15:44:50.553004Z",
     "start_time": "2025-07-23T15:44:50.534701Z"
    }
   },
   "cell_type": "code",
   "source": [
    "# more degree, more impact strengthening has over farkas, this supporting parametric cuts improve relative to farkas\n",
    "# farkas loses more often for more degrees in line with previous paper\n",
    "# parameterization wins less often for more degrees (even if cuts tight, further from LP relaxation solution)\n",
    "# for same reason, using new becomes more advantageous for more degrees\n",
    "# would have expected supporting parametric cuts to degrade with more degrees, albeit less slowly than farkas, but it doesn't, which is reasonable here since the disjunctions for 2 degrees appear to be stronger than for .5\n",
    "get_wins(\"nodes\", \"degree\")"
   ],
   "id": "7e27a7d8276d4fc5",
   "outputs": [
    {
     "data": {
      "text/plain": [
       "   degree  Nodes Processed Win % NoneVsAll  \\\n",
       "0     0.5                            14.88   \n",
       "1     2.0                            12.00   \n",
       "\n",
       "   Nodes Processed Win % NoDisjunctionVsAll  Nodes Processed Win % New  \\\n",
       "0                                     13.41                       33.9   \n",
       "1                                     17.00                       37.0   \n",
       "\n",
       "   Nodes Processed Win % NoDisjunction  Nodes Processed Win % Farkas  \\\n",
       "0                                38.05                         38.54   \n",
       "1                                42.00                         34.67   \n",
       "\n",
       "   Nodes Processed Win % Parametric  Nodes Processed Win % Any  \\\n",
       "0                             53.17                      59.27   \n",
       "1                             52.33                      60.67   \n",
       "\n",
       "   Base Instances  Test Instances  \n",
       "0              77             410  \n",
       "1              64             300  "
      ],
      "text/html": [
       "<div>\n",
       "<style scoped>\n",
       "    .dataframe tbody tr th:only-of-type {\n",
       "        vertical-align: middle;\n",
       "    }\n",
       "\n",
       "    .dataframe tbody tr th {\n",
       "        vertical-align: top;\n",
       "    }\n",
       "\n",
       "    .dataframe thead th {\n",
       "        text-align: right;\n",
       "    }\n",
       "</style>\n",
       "<table border=\"1\" class=\"dataframe\">\n",
       "  <thead>\n",
       "    <tr style=\"text-align: right;\">\n",
       "      <th></th>\n",
       "      <th>degree</th>\n",
       "      <th>Nodes Processed Win % NoneVsAll</th>\n",
       "      <th>Nodes Processed Win % NoDisjunctionVsAll</th>\n",
       "      <th>Nodes Processed Win % New</th>\n",
       "      <th>Nodes Processed Win % NoDisjunction</th>\n",
       "      <th>Nodes Processed Win % Farkas</th>\n",
       "      <th>Nodes Processed Win % Parametric</th>\n",
       "      <th>Nodes Processed Win % Any</th>\n",
       "      <th>Base Instances</th>\n",
       "      <th>Test Instances</th>\n",
       "    </tr>\n",
       "  </thead>\n",
       "  <tbody>\n",
       "    <tr>\n",
       "      <th>0</th>\n",
       "      <td>0.5</td>\n",
       "      <td>14.88</td>\n",
       "      <td>13.41</td>\n",
       "      <td>33.9</td>\n",
       "      <td>38.05</td>\n",
       "      <td>38.54</td>\n",
       "      <td>53.17</td>\n",
       "      <td>59.27</td>\n",
       "      <td>77</td>\n",
       "      <td>410</td>\n",
       "    </tr>\n",
       "    <tr>\n",
       "      <th>1</th>\n",
       "      <td>2.0</td>\n",
       "      <td>12.00</td>\n",
       "      <td>17.00</td>\n",
       "      <td>37.0</td>\n",
       "      <td>42.00</td>\n",
       "      <td>34.67</td>\n",
       "      <td>52.33</td>\n",
       "      <td>60.67</td>\n",
       "      <td>64</td>\n",
       "      <td>300</td>\n",
       "    </tr>\n",
       "  </tbody>\n",
       "</table>\n",
       "</div>"
      ]
     },
     "execution_count": 116,
     "metadata": {},
     "output_type": "execute_result"
    }
   ],
   "execution_count": 116
  },
  {
   "metadata": {
    "ExecuteTime": {
     "end_time": "2025-07-23T15:44:50.818334Z",
     "start_time": "2025-07-23T15:44:50.808144Z"
    }
   },
   "cell_type": "code",
   "source": [
    "# we don't see a clear pattern here, but again that's not all that surprising given the unknown nature of when disjunctive cuts improve both nodes and run time (again citing aleks' paper)\n",
    "get_wins(\"terminationTime\", \"degree\")"
   ],
   "id": "33e1e7cc96b35883",
   "outputs": [
    {
     "data": {
      "text/plain": [
       "   degree  Time Win % NoneVsAll  Time Win % NoDisjunctionVsAll  \\\n",
       "0     0.5                 23.66                          20.73   \n",
       "1     2.0                 21.00                          21.33   \n",
       "\n",
       "   Time Win % New  Time Win % NoDisjunction  Time Win % Farkas  \\\n",
       "0           26.34                     40.24               37.8   \n",
       "1           28.00                     39.00               40.0   \n",
       "\n",
       "   Time Win % Parametric  Time Win % Any  Base Instances  Test Instances  \n",
       "0                  55.37           61.22              77             410  \n",
       "1                  54.67           59.33              64             300  "
      ],
      "text/html": [
       "<div>\n",
       "<style scoped>\n",
       "    .dataframe tbody tr th:only-of-type {\n",
       "        vertical-align: middle;\n",
       "    }\n",
       "\n",
       "    .dataframe tbody tr th {\n",
       "        vertical-align: top;\n",
       "    }\n",
       "\n",
       "    .dataframe thead th {\n",
       "        text-align: right;\n",
       "    }\n",
       "</style>\n",
       "<table border=\"1\" class=\"dataframe\">\n",
       "  <thead>\n",
       "    <tr style=\"text-align: right;\">\n",
       "      <th></th>\n",
       "      <th>degree</th>\n",
       "      <th>Time Win % NoneVsAll</th>\n",
       "      <th>Time Win % NoDisjunctionVsAll</th>\n",
       "      <th>Time Win % New</th>\n",
       "      <th>Time Win % NoDisjunction</th>\n",
       "      <th>Time Win % Farkas</th>\n",
       "      <th>Time Win % Parametric</th>\n",
       "      <th>Time Win % Any</th>\n",
       "      <th>Base Instances</th>\n",
       "      <th>Test Instances</th>\n",
       "    </tr>\n",
       "  </thead>\n",
       "  <tbody>\n",
       "    <tr>\n",
       "      <th>0</th>\n",
       "      <td>0.5</td>\n",
       "      <td>23.66</td>\n",
       "      <td>20.73</td>\n",
       "      <td>26.34</td>\n",
       "      <td>40.24</td>\n",
       "      <td>37.8</td>\n",
       "      <td>55.37</td>\n",
       "      <td>61.22</td>\n",
       "      <td>77</td>\n",
       "      <td>410</td>\n",
       "    </tr>\n",
       "    <tr>\n",
       "      <th>1</th>\n",
       "      <td>2.0</td>\n",
       "      <td>21.00</td>\n",
       "      <td>21.33</td>\n",
       "      <td>28.00</td>\n",
       "      <td>39.00</td>\n",
       "      <td>40.0</td>\n",
       "      <td>54.67</td>\n",
       "      <td>59.33</td>\n",
       "      <td>64</td>\n",
       "      <td>300</td>\n",
       "    </tr>\n",
       "  </tbody>\n",
       "</table>\n",
       "</div>"
      ]
     },
     "execution_count": 117,
     "metadata": {},
     "output_type": "execute_result"
    }
   ],
   "execution_count": 117
  },
  {
   "metadata": {
    "ExecuteTime": {
     "end_time": "2025-07-23T15:44:51.171349Z",
     "start_time": "2025-07-23T15:44:51.152809Z"
    }
   },
   "cell_type": "code",
   "source": [
    "# strengthening's advantage over default parameterization grows for more terms, expected since more opportunity to strengthen\n",
    "# would have expected more terms and stronger cuts to lead to fewer nodes, but again prachi's paper says otherwise\n",
    "get_wins(\"nodes\", \"terms\")"
   ],
   "id": "adb037e5d968212e",
   "outputs": [
    {
     "data": {
      "text/plain": [
       "   terms  Nodes Processed Win % NoneVsAll  \\\n",
       "0      4                            13.80   \n",
       "1     64                            13.47   \n",
       "\n",
       "   Nodes Processed Win % NoDisjunctionVsAll  Nodes Processed Win % New  \\\n",
       "0                                     15.01                      35.59   \n",
       "1                                     14.81                      34.68   \n",
       "\n",
       "   Nodes Processed Win % NoDisjunction  Nodes Processed Win % Farkas  \\\n",
       "0                                39.71                         37.77   \n",
       "1                                39.73                         35.69   \n",
       "\n",
       "   Nodes Processed Win % Parametric  Nodes Processed Win % Any  \\\n",
       "0                             53.75                      59.81   \n",
       "1                             51.52                      59.93   \n",
       "\n",
       "   Base Instances  Test Instances  \n",
       "0              96             413  \n",
       "1              70             297  "
      ],
      "text/html": [
       "<div>\n",
       "<style scoped>\n",
       "    .dataframe tbody tr th:only-of-type {\n",
       "        vertical-align: middle;\n",
       "    }\n",
       "\n",
       "    .dataframe tbody tr th {\n",
       "        vertical-align: top;\n",
       "    }\n",
       "\n",
       "    .dataframe thead th {\n",
       "        text-align: right;\n",
       "    }\n",
       "</style>\n",
       "<table border=\"1\" class=\"dataframe\">\n",
       "  <thead>\n",
       "    <tr style=\"text-align: right;\">\n",
       "      <th></th>\n",
       "      <th>terms</th>\n",
       "      <th>Nodes Processed Win % NoneVsAll</th>\n",
       "      <th>Nodes Processed Win % NoDisjunctionVsAll</th>\n",
       "      <th>Nodes Processed Win % New</th>\n",
       "      <th>Nodes Processed Win % NoDisjunction</th>\n",
       "      <th>Nodes Processed Win % Farkas</th>\n",
       "      <th>Nodes Processed Win % Parametric</th>\n",
       "      <th>Nodes Processed Win % Any</th>\n",
       "      <th>Base Instances</th>\n",
       "      <th>Test Instances</th>\n",
       "    </tr>\n",
       "  </thead>\n",
       "  <tbody>\n",
       "    <tr>\n",
       "      <th>0</th>\n",
       "      <td>4</td>\n",
       "      <td>13.80</td>\n",
       "      <td>15.01</td>\n",
       "      <td>35.59</td>\n",
       "      <td>39.71</td>\n",
       "      <td>37.77</td>\n",
       "      <td>53.75</td>\n",
       "      <td>59.81</td>\n",
       "      <td>96</td>\n",
       "      <td>413</td>\n",
       "    </tr>\n",
       "    <tr>\n",
       "      <th>1</th>\n",
       "      <td>64</td>\n",
       "      <td>13.47</td>\n",
       "      <td>14.81</td>\n",
       "      <td>34.68</td>\n",
       "      <td>39.73</td>\n",
       "      <td>35.69</td>\n",
       "      <td>51.52</td>\n",
       "      <td>59.93</td>\n",
       "      <td>70</td>\n",
       "      <td>297</td>\n",
       "    </tr>\n",
       "  </tbody>\n",
       "</table>\n",
       "</div>"
      ]
     },
     "execution_count": 118,
     "metadata": {},
     "output_type": "execute_result"
    }
   ],
   "execution_count": 118
  },
  {
   "metadata": {
    "ExecuteTime": {
     "end_time": "2025-07-23T15:44:51.528325Z",
     "start_time": "2025-07-23T15:44:51.515395Z"
    }
   },
   "cell_type": "code",
   "source": [
    "# disjunctive methods get less effective with more terms because cut generation time grows (last paper shows this hurts run time for parametric methods, aleks shows this for his own)\n",
    "# knowing this relationship, makes sense we see significant separation between new and parametric methods for run time\n",
    "# also makes sence farkas doesn't degrade as quickly and that default improves\n",
    "get_wins(\"terminationTime\", \"terms\")"
   ],
   "id": "543540db4dee7583",
   "outputs": [
    {
     "data": {
      "text/plain": [
       "   terms  Time Win % NoneVsAll  Time Win % NoDisjunctionVsAll  Time Win % New  \\\n",
       "0      4                 17.92                          22.76           29.78   \n",
       "1     64                 28.96                          18.52           23.23   \n",
       "\n",
       "   Time Win % NoDisjunction  Time Win % Farkas  Time Win % Parametric  \\\n",
       "0                     42.62              39.47                  58.35   \n",
       "1                     35.69              37.71                  50.51   \n",
       "\n",
       "   Time Win % Any  Base Instances  Test Instances  \n",
       "0           64.65              96             413  \n",
       "1           54.55              70             297  "
      ],
      "text/html": [
       "<div>\n",
       "<style scoped>\n",
       "    .dataframe tbody tr th:only-of-type {\n",
       "        vertical-align: middle;\n",
       "    }\n",
       "\n",
       "    .dataframe tbody tr th {\n",
       "        vertical-align: top;\n",
       "    }\n",
       "\n",
       "    .dataframe thead th {\n",
       "        text-align: right;\n",
       "    }\n",
       "</style>\n",
       "<table border=\"1\" class=\"dataframe\">\n",
       "  <thead>\n",
       "    <tr style=\"text-align: right;\">\n",
       "      <th></th>\n",
       "      <th>terms</th>\n",
       "      <th>Time Win % NoneVsAll</th>\n",
       "      <th>Time Win % NoDisjunctionVsAll</th>\n",
       "      <th>Time Win % New</th>\n",
       "      <th>Time Win % NoDisjunction</th>\n",
       "      <th>Time Win % Farkas</th>\n",
       "      <th>Time Win % Parametric</th>\n",
       "      <th>Time Win % Any</th>\n",
       "      <th>Base Instances</th>\n",
       "      <th>Test Instances</th>\n",
       "    </tr>\n",
       "  </thead>\n",
       "  <tbody>\n",
       "    <tr>\n",
       "      <th>0</th>\n",
       "      <td>4</td>\n",
       "      <td>17.92</td>\n",
       "      <td>22.76</td>\n",
       "      <td>29.78</td>\n",
       "      <td>42.62</td>\n",
       "      <td>39.47</td>\n",
       "      <td>58.35</td>\n",
       "      <td>64.65</td>\n",
       "      <td>96</td>\n",
       "      <td>413</td>\n",
       "    </tr>\n",
       "    <tr>\n",
       "      <th>1</th>\n",
       "      <td>64</td>\n",
       "      <td>28.96</td>\n",
       "      <td>18.52</td>\n",
       "      <td>23.23</td>\n",
       "      <td>35.69</td>\n",
       "      <td>37.71</td>\n",
       "      <td>50.51</td>\n",
       "      <td>54.55</td>\n",
       "      <td>70</td>\n",
       "      <td>297</td>\n",
       "    </tr>\n",
       "  </tbody>\n",
       "</table>\n",
       "</div>"
      ]
     },
     "execution_count": 119,
     "metadata": {},
     "output_type": "execute_result"
    }
   ],
   "execution_count": 119
  },
  {
   "metadata": {
    "ExecuteTime": {
     "end_time": "2025-07-23T15:44:52.276512Z",
     "start_time": "2025-07-23T15:44:52.260651Z"
    }
   },
   "cell_type": "code",
   "source": [
    "# longer runs are more advantageous for strengthening and new. those two make stronger cuts and so any subtree near the root that they prune has more impact the bigger the tree gets\n",
    "# strengthening reinforces the pattern of more run time, more impact disjunctive cuts have that aleks noticed for new\n",
    "# makes sense we see it for strengthen and new but not for farkas since the former support the disjunctive hull\n",
    "# and therefore are more likely for longer runs to prune more of the tree\n",
    "get_wins(\"nodes\", \"bracket\")"
   ],
   "id": "e3d15961064ead1d",
   "outputs": [
    {
     "data": {
      "text/plain": [
       "  bracket  Nodes Processed Win % NoneVsAll  \\\n",
       "0   short                            14.43   \n",
       "1  medium                            14.71   \n",
       "2    long                            10.20   \n",
       "\n",
       "   Nodes Processed Win % NoDisjunctionVsAll  Nodes Processed Win % New  \\\n",
       "0                                     15.12                      32.99   \n",
       "1                                     15.07                      35.66   \n",
       "2                                     14.29                      38.78   \n",
       "\n",
       "   Nodes Processed Win % NoDisjunction  Nodes Processed Win % Farkas  \\\n",
       "0                                38.83                         39.18   \n",
       "1                                39.34                         33.82   \n",
       "2                                42.18                         38.10   \n",
       "\n",
       "   Nodes Processed Win % Parametric  Nodes Processed Win % Any  \\\n",
       "0                             53.95                      60.14   \n",
       "1                             51.47                      59.56   \n",
       "2                             53.06                      59.86   \n",
       "\n",
       "   Base Instances  Test Instances  \n",
       "0              74             291  \n",
       "1              60             272  \n",
       "2              36             147  "
      ],
      "text/html": [
       "<div>\n",
       "<style scoped>\n",
       "    .dataframe tbody tr th:only-of-type {\n",
       "        vertical-align: middle;\n",
       "    }\n",
       "\n",
       "    .dataframe tbody tr th {\n",
       "        vertical-align: top;\n",
       "    }\n",
       "\n",
       "    .dataframe thead th {\n",
       "        text-align: right;\n",
       "    }\n",
       "</style>\n",
       "<table border=\"1\" class=\"dataframe\">\n",
       "  <thead>\n",
       "    <tr style=\"text-align: right;\">\n",
       "      <th></th>\n",
       "      <th>bracket</th>\n",
       "      <th>Nodes Processed Win % NoneVsAll</th>\n",
       "      <th>Nodes Processed Win % NoDisjunctionVsAll</th>\n",
       "      <th>Nodes Processed Win % New</th>\n",
       "      <th>Nodes Processed Win % NoDisjunction</th>\n",
       "      <th>Nodes Processed Win % Farkas</th>\n",
       "      <th>Nodes Processed Win % Parametric</th>\n",
       "      <th>Nodes Processed Win % Any</th>\n",
       "      <th>Base Instances</th>\n",
       "      <th>Test Instances</th>\n",
       "    </tr>\n",
       "  </thead>\n",
       "  <tbody>\n",
       "    <tr>\n",
       "      <th>0</th>\n",
       "      <td>short</td>\n",
       "      <td>14.43</td>\n",
       "      <td>15.12</td>\n",
       "      <td>32.99</td>\n",
       "      <td>38.83</td>\n",
       "      <td>39.18</td>\n",
       "      <td>53.95</td>\n",
       "      <td>60.14</td>\n",
       "      <td>74</td>\n",
       "      <td>291</td>\n",
       "    </tr>\n",
       "    <tr>\n",
       "      <th>1</th>\n",
       "      <td>medium</td>\n",
       "      <td>14.71</td>\n",
       "      <td>15.07</td>\n",
       "      <td>35.66</td>\n",
       "      <td>39.34</td>\n",
       "      <td>33.82</td>\n",
       "      <td>51.47</td>\n",
       "      <td>59.56</td>\n",
       "      <td>60</td>\n",
       "      <td>272</td>\n",
       "    </tr>\n",
       "    <tr>\n",
       "      <th>2</th>\n",
       "      <td>long</td>\n",
       "      <td>10.20</td>\n",
       "      <td>14.29</td>\n",
       "      <td>38.78</td>\n",
       "      <td>42.18</td>\n",
       "      <td>38.10</td>\n",
       "      <td>53.06</td>\n",
       "      <td>59.86</td>\n",
       "      <td>36</td>\n",
       "      <td>147</td>\n",
       "    </tr>\n",
       "  </tbody>\n",
       "</table>\n",
       "</div>"
      ]
     },
     "execution_count": 120,
     "metadata": {},
     "output_type": "execute_result"
    }
   ],
   "execution_count": 120
  },
  {
   "metadata": {
    "ExecuteTime": {
     "end_time": "2025-07-23T15:44:52.830357Z",
     "start_time": "2025-07-23T15:44:52.815167Z"
    }
   },
   "cell_type": "code",
   "source": [
    "# short runs follow expected behavior where run time wins are less likely than node wins because of cut density slowing down LP solves\n",
    "# what's interesting is that we have the opposite behavior for long runs, where somehow run time wins are more likely than node wins\n",
    "# possibilities could include that the strength of disjunctive hull supporting cuts allows for more cut generation to be skipped, or\n",
    "# the tree could be shallower, leading to better parallelization.\n",
    "get_wins(\"terminationTime\", \"bracket\")"
   ],
   "id": "dcfd11091e192cda",
   "outputs": [
    {
     "data": {
      "text/plain": [
       "  bracket  Time Win % NoneVsAll  Time Win % NoDisjunctionVsAll  \\\n",
       "0   short                 32.65                          20.27   \n",
       "1  medium                 17.65                          22.79   \n",
       "2    long                 11.56                          19.05   \n",
       "\n",
       "   Time Win % New  Time Win % NoDisjunction  Time Win % Farkas  \\\n",
       "0           14.09                     36.43              35.40   \n",
       "1           31.25                     39.34              41.18   \n",
       "2           44.90                     46.94              40.82   \n",
       "\n",
       "   Time Win % Parametric  Time Win % Any  Base Instances  Test Instances  \n",
       "0                  51.20           53.95              74             291  \n",
       "1                  56.99           63.60              60             272  \n",
       "2                  59.18           67.35              36             147  "
      ],
      "text/html": [
       "<div>\n",
       "<style scoped>\n",
       "    .dataframe tbody tr th:only-of-type {\n",
       "        vertical-align: middle;\n",
       "    }\n",
       "\n",
       "    .dataframe tbody tr th {\n",
       "        vertical-align: top;\n",
       "    }\n",
       "\n",
       "    .dataframe thead th {\n",
       "        text-align: right;\n",
       "    }\n",
       "</style>\n",
       "<table border=\"1\" class=\"dataframe\">\n",
       "  <thead>\n",
       "    <tr style=\"text-align: right;\">\n",
       "      <th></th>\n",
       "      <th>bracket</th>\n",
       "      <th>Time Win % NoneVsAll</th>\n",
       "      <th>Time Win % NoDisjunctionVsAll</th>\n",
       "      <th>Time Win % New</th>\n",
       "      <th>Time Win % NoDisjunction</th>\n",
       "      <th>Time Win % Farkas</th>\n",
       "      <th>Time Win % Parametric</th>\n",
       "      <th>Time Win % Any</th>\n",
       "      <th>Base Instances</th>\n",
       "      <th>Test Instances</th>\n",
       "    </tr>\n",
       "  </thead>\n",
       "  <tbody>\n",
       "    <tr>\n",
       "      <th>0</th>\n",
       "      <td>short</td>\n",
       "      <td>32.65</td>\n",
       "      <td>20.27</td>\n",
       "      <td>14.09</td>\n",
       "      <td>36.43</td>\n",
       "      <td>35.40</td>\n",
       "      <td>51.20</td>\n",
       "      <td>53.95</td>\n",
       "      <td>74</td>\n",
       "      <td>291</td>\n",
       "    </tr>\n",
       "    <tr>\n",
       "      <th>1</th>\n",
       "      <td>medium</td>\n",
       "      <td>17.65</td>\n",
       "      <td>22.79</td>\n",
       "      <td>31.25</td>\n",
       "      <td>39.34</td>\n",
       "      <td>41.18</td>\n",
       "      <td>56.99</td>\n",
       "      <td>63.60</td>\n",
       "      <td>60</td>\n",
       "      <td>272</td>\n",
       "    </tr>\n",
       "    <tr>\n",
       "      <th>2</th>\n",
       "      <td>long</td>\n",
       "      <td>11.56</td>\n",
       "      <td>19.05</td>\n",
       "      <td>44.90</td>\n",
       "      <td>46.94</td>\n",
       "      <td>40.82</td>\n",
       "      <td>59.18</td>\n",
       "      <td>67.35</td>\n",
       "      <td>36</td>\n",
       "      <td>147</td>\n",
       "    </tr>\n",
       "  </tbody>\n",
       "</table>\n",
       "</div>"
      ]
     },
     "execution_count": 121,
     "metadata": {},
     "output_type": "execute_result"
    }
   ],
   "execution_count": 121
  },
  {
   "metadata": {
    "collapsed": false,
    "ExecuteTime": {
     "end_time": "2025-07-23T14:05:34.134491Z",
     "start_time": "2025-07-23T14:05:34.126560Z"
    }
   },
   "cell_type": "code",
   "source": [
    "def aggregate_wins(gap_df, feature, grouping):\n",
    "\n",
    "    def custom_key(col):\n",
    "        # bump improvement columns second to win percentage columns\n",
    "        offset = int(\"Improvement %\" in col)\n",
    "        # check groupings\n",
    "        if 'matrix' in col or 'short' in col:\n",
    "            return (2 + offset, col)\n",
    "        elif 'objective' in col or 'medium' in col:\n",
    "            return (4 + offset, col)\n",
    "        elif 'rhs' in col or 'long' in col:\n",
    "            return (6 + offset, col)    \n",
    "        return (offset, col)\n",
    "    \n",
    "    # find the average wins for the feature grouped by degree, terms and grouping type\n",
    "    win_aggregations = {f\"{feature}Win{gen}\": \"mean\" for gen in generators + [\"Any\"]}\n",
    "    feature_wins = gap_df[gap_df[\"perturbation\"] != \"bound\"].groupby([\"degree\", \"terms\", grouping]).agg(win_aggregations).reset_index().pivot(\n",
    "        index=['degree', 'terms'], columns=grouping, values=[f\"{feature}Win{gen}\" for gen in generators + [\"Any\"]]\n",
    "    )\n",
    "    feature_wins.columns = rename_cols([' '.join(col).strip() for col in feature_wins.columns.values], feature)\n",
    "    feature_wins = feature_wins[sorted(feature_wins.columns, key=custom_key)]\n",
    "    feature_wins = feature_wins.applymap(lambda x: round(x * 100, 2))\n",
    "    \n",
    "    # get the counts for the feature grouped by degree, terms and grouping type\n",
    "    count_aggregations = {\"instance\": \"nunique\", \"instanceIndex\": \"count\"}\n",
    "    feature_counts = gap_df[gap_df[\"perturbation\"] != \"bound\"].groupby([\"degree\", \"terms\", grouping]).agg(count_aggregations).reset_index().pivot(\n",
    "        index=['degree', 'terms'], columns=grouping, values=[\"instance\", \"instanceIndex\"]\n",
    "    )\n",
    "    feature_counts.columns = rename_cols([' '.join(col).strip() for col in feature_counts.columns.values], feature)\n",
    "    feature_counts = feature_counts[sorted(feature_counts.columns, key=custom_key)]\n",
    "    feature_counts = feature_counts.applymap(lambda x: int(x))\n",
    "    \n",
    "    # save wins, base instance counts, and test instance counts to csv\n",
    "    feature_wins.reset_index().to_csv(os.path.join(out_fldr, f\"branch_and_bound_wins_{feature}_{grouping}.csv\"), index=False, mode=\"w\")\n",
    "    feature_counts.reset_index().to_csv(os.path.join(out_fldr, f\"branch_and_bound_counts_{grouping}.csv\"), index=False, mode=\"w\")\n",
    "    \n",
    "    return feature_wins, feature_counts"
   ],
   "id": "50df668528f43cd2",
   "outputs": [],
   "execution_count": 103
  },
  {
   "metadata": {
    "ExecuteTime": {
     "end_time": "2025-07-23T14:05:34.307446Z",
     "start_time": "2025-07-23T14:05:34.304975Z"
    }
   },
   "cell_type": "code",
   "source": [
    "# wins, counts = aggregate_wins(gap_df, \"terminationTime\", \"bracket\")\n",
    "# wins"
   ],
   "id": "500db0e4a422cfb",
   "outputs": [],
   "execution_count": 104
  },
  {
   "metadata": {
    "ExecuteTime": {
     "end_time": "2025-07-23T14:05:34.403910Z",
     "start_time": "2025-07-23T14:05:34.400940Z"
    }
   },
   "cell_type": "code",
   "source": [
    "# wins, counts = aggregate_wins(gap_df, \"terminationTime\", \"perturbation\")\n",
    "# wins"
   ],
   "id": "59d34ffc21d60edb",
   "outputs": [],
   "execution_count": 105
  },
  {
   "metadata": {},
   "cell_type": "markdown",
   "source": "## High Performing Run Time Subset",
   "id": "29d01325248f2acb"
  },
  {
   "metadata": {
    "ExecuteTime": {
     "end_time": "2025-07-23T14:05:34.521691Z",
     "start_time": "2025-07-23T14:05:34.515227Z"
    }
   },
   "cell_type": "code",
   "source": [
    "# additional filtering for dataframe on run time\n",
    "fields = [f\"terminationTime {gen}\" for gen in generators] + \\\n",
    "         [f\"terminationTimeImprovement {gen}\" for gen in generators if gen not in [\"None\", \"New\"]]\n",
    "\n",
    "# create time dataframe\n",
    "time_df = df.loc[mask, group_cols + id_cols + fields]"
   ],
   "id": "d8ffddad579b6222",
   "outputs": [],
   "execution_count": 106
  },
  {
   "metadata": {
    "ExecuteTime": {
     "end_time": "2025-07-23T14:05:34.748368Z",
     "start_time": "2025-07-23T14:05:34.587716Z"
    }
   },
   "cell_type": "code",
   "source": [
    "aggregations = {f\"Average Time {gen}\": (f\"terminationTime {gen}\", geometric_mean) for gen in generators} | \\\n",
    "    {f\"Average Improvement {gen}\": (f\"terminationTimeImprovement {gen}\", \"mean\") for gen in generators if gen not in [\"None\", \"New\"]} | \\\n",
    "    {\"count\": (\"terminationTimeImprovement Farkas\", \"size\")}\n",
    "\n",
    "tmp = time_df.groupby([\"instance\", \"perturbation\", \"degree\", \"terms\"]).agg(**aggregations).reset_index()\n",
    "tmp = tmp[(tmp[\"count\"] > 1)]\n",
    "tmp.to_csv(os.path.join(out_fldr, \"high_perform_all.csv\"), index=False, mode=\"w\")\n",
    "tmp.head()"
   ],
   "id": "5ca4f7bfe1b3ec1",
   "outputs": [
    {
     "data": {
      "text/plain": [
       "  instance perturbation  degree  terms  Average Time None  Average Time New  \\\n",
       "1   a1c1s1          rhs     0.5     64          65.925121        186.154677   \n",
       "4   a2c1s1       matrix     0.5      4        1525.196523       1311.996049   \n",
       "5   a2c1s1       matrix     0.5     64        1612.793921       1762.012670   \n",
       "6   a2c1s1          rhs     0.5      4          35.506289         43.720299   \n",
       "7   a2c1s1          rhs     0.5     64          28.447190         38.998171   \n",
       "\n",
       "   Average Time Farkas  Average Time NoDisjunction  \\\n",
       "1            44.346425                   82.921954   \n",
       "4          2987.881641                 1420.511332   \n",
       "5          1883.762620                 1995.933467   \n",
       "6            35.433677                   26.455276   \n",
       "7            26.594088                   24.438430   \n",
       "\n",
       "   Average Improvement Farkas  Average Improvement NoDisjunction  count  \n",
       "1                    0.268115                          -0.370371      2  \n",
       "4                   -0.969961                           0.067408      2  \n",
       "5                   -0.282755                          -0.381003      4  \n",
       "6                   -0.037295                           0.254900      2  \n",
       "7                    0.035426                           0.105769      4  "
      ],
      "text/html": [
       "<div>\n",
       "<style scoped>\n",
       "    .dataframe tbody tr th:only-of-type {\n",
       "        vertical-align: middle;\n",
       "    }\n",
       "\n",
       "    .dataframe tbody tr th {\n",
       "        vertical-align: top;\n",
       "    }\n",
       "\n",
       "    .dataframe thead th {\n",
       "        text-align: right;\n",
       "    }\n",
       "</style>\n",
       "<table border=\"1\" class=\"dataframe\">\n",
       "  <thead>\n",
       "    <tr style=\"text-align: right;\">\n",
       "      <th></th>\n",
       "      <th>instance</th>\n",
       "      <th>perturbation</th>\n",
       "      <th>degree</th>\n",
       "      <th>terms</th>\n",
       "      <th>Average Time None</th>\n",
       "      <th>Average Time New</th>\n",
       "      <th>Average Time Farkas</th>\n",
       "      <th>Average Time NoDisjunction</th>\n",
       "      <th>Average Improvement Farkas</th>\n",
       "      <th>Average Improvement NoDisjunction</th>\n",
       "      <th>count</th>\n",
       "    </tr>\n",
       "  </thead>\n",
       "  <tbody>\n",
       "    <tr>\n",
       "      <th>1</th>\n",
       "      <td>a1c1s1</td>\n",
       "      <td>rhs</td>\n",
       "      <td>0.5</td>\n",
       "      <td>64</td>\n",
       "      <td>65.925121</td>\n",
       "      <td>186.154677</td>\n",
       "      <td>44.346425</td>\n",
       "      <td>82.921954</td>\n",
       "      <td>0.268115</td>\n",
       "      <td>-0.370371</td>\n",
       "      <td>2</td>\n",
       "    </tr>\n",
       "    <tr>\n",
       "      <th>4</th>\n",
       "      <td>a2c1s1</td>\n",
       "      <td>matrix</td>\n",
       "      <td>0.5</td>\n",
       "      <td>4</td>\n",
       "      <td>1525.196523</td>\n",
       "      <td>1311.996049</td>\n",
       "      <td>2987.881641</td>\n",
       "      <td>1420.511332</td>\n",
       "      <td>-0.969961</td>\n",
       "      <td>0.067408</td>\n",
       "      <td>2</td>\n",
       "    </tr>\n",
       "    <tr>\n",
       "      <th>5</th>\n",
       "      <td>a2c1s1</td>\n",
       "      <td>matrix</td>\n",
       "      <td>0.5</td>\n",
       "      <td>64</td>\n",
       "      <td>1612.793921</td>\n",
       "      <td>1762.012670</td>\n",
       "      <td>1883.762620</td>\n",
       "      <td>1995.933467</td>\n",
       "      <td>-0.282755</td>\n",
       "      <td>-0.381003</td>\n",
       "      <td>4</td>\n",
       "    </tr>\n",
       "    <tr>\n",
       "      <th>6</th>\n",
       "      <td>a2c1s1</td>\n",
       "      <td>rhs</td>\n",
       "      <td>0.5</td>\n",
       "      <td>4</td>\n",
       "      <td>35.506289</td>\n",
       "      <td>43.720299</td>\n",
       "      <td>35.433677</td>\n",
       "      <td>26.455276</td>\n",
       "      <td>-0.037295</td>\n",
       "      <td>0.254900</td>\n",
       "      <td>2</td>\n",
       "    </tr>\n",
       "    <tr>\n",
       "      <th>7</th>\n",
       "      <td>a2c1s1</td>\n",
       "      <td>rhs</td>\n",
       "      <td>0.5</td>\n",
       "      <td>64</td>\n",
       "      <td>28.447190</td>\n",
       "      <td>38.998171</td>\n",
       "      <td>26.594088</td>\n",
       "      <td>24.438430</td>\n",
       "      <td>0.035426</td>\n",
       "      <td>0.105769</td>\n",
       "      <td>4</td>\n",
       "    </tr>\n",
       "  </tbody>\n",
       "</table>\n",
       "</div>"
      ]
     },
     "execution_count": 107,
     "metadata": {},
     "output_type": "execute_result"
    }
   ],
   "execution_count": 107
  },
  {
   "metadata": {
    "ExecuteTime": {
     "end_time": "2025-07-23T14:05:34.804718Z",
     "start_time": "2025-07-23T14:05:34.801477Z"
    }
   },
   "cell_type": "code",
   "source": [
    "def make_improvement_table(tmp, generator):\n",
    "    \n",
    "    # columns we always choose\n",
    "    key_cols = [\"degree\", \"terms\", \"perturbation\", \"instance\"]\n",
    "    time_cols = [f\"Average Time {g}\" for g in [\"None\", \"New\", \"Farkas\"]]\n",
    "    \n",
    "    # subset the ones we want\n",
    "    all_df = tmp[\n",
    "        key_cols + time_cols + [f\"Average Time {generator}\", f\"Average Improvement Farkas\", f\"Average Improvement {generator}\", \"count\"]\n",
    "    ].sort_values(f\"Average Improvement {generator}\", ascending=False)\n",
    "    all_df = all_df[\n",
    "        (all_df[f\"Average Improvement {generator}\"] > 0) & \n",
    "        (all_df[\"Average Time Farkas\"] > 1.2 * all_df[f\"Average Time {generator}\"]) & \n",
    "        (all_df[\"Average Time New\"] > 1.2 * all_df[f\"Average Time {generator}\"])\n",
    "    ]\n",
    "    best_df = all_df.loc[\n",
    "        all_df.groupby(['degree', 'terms', 'perturbation'])[f'Average Improvement {generator}'].idxmax()\n",
    "    ]  # .sort_values(f\"Average Improvement {generator}\", ascending=False).round(2)\n",
    "    \n",
    "    # save all the winners\n",
    "    all_df.to_csv(os.path.join(out_fldr, f\"high_perform_{generator.lower()}.csv\"), index=False, mode=\"w\")\n",
    "    \n",
    "    # return just the best\n",
    "    return all_df, best_df"
   ],
   "id": "78d80d6282fd774b",
   "outputs": [],
   "execution_count": 108
  },
  {
   "metadata": {
    "ExecuteTime": {
     "end_time": "2025-07-23T14:05:34.830002Z",
     "start_time": "2025-07-23T14:05:34.828261Z"
    }
   },
   "cell_type": "code",
   "source": [
    "# generator = \"Disjunction\"\n",
    "# all_df, best_df = make_improvement_table(tmp, generator)\n",
    "# best_df[[\"degree\", \"terms\", \"perturbation\", \"instance\", \"Average Time None\", \"Average Time New\", \"Average Time Farkas\", f\"Average Time {generator}\", \"count\"]].head(3)"
   ],
   "id": "a2658766a8658b41",
   "outputs": [],
   "execution_count": 109
  },
  {
   "metadata": {
    "ExecuteTime": {
     "end_time": "2025-07-23T14:05:34.862899Z",
     "start_time": "2025-07-23T14:05:34.855295Z"
    }
   },
   "cell_type": "code",
   "source": [
    "generator = \"NoDisjunction\"\n",
    "all_df, best_df = make_improvement_table(tmp, generator)\n",
    "best_df[[\"degree\", \"terms\", \"perturbation\", \"instance\", \"Average Time None\", \"Average Time New\", \"Average Time Farkas\", f\"Average Time {generator}\", \"count\"]]"
   ],
   "id": "1578befc3854fd49",
   "outputs": [
    {
     "data": {
      "text/plain": [
       "     degree  terms perturbation        instance  Average Time None  \\\n",
       "45      0.5      4       matrix         danoint        1481.411435   \n",
       "64      0.5      4          rhs       gen-ip002        1379.712370   \n",
       "107     0.5     64       matrix        k16x240b         314.771144   \n",
       "282     0.5     64          rhs         timtab1         243.951679   \n",
       "279     2.0      4       matrix         timtab1          56.181840   \n",
       "78      2.0      4          rhs       gen-ip036         295.698084   \n",
       "69      2.0     64       matrix       gen-ip021         384.302044   \n",
       "105     2.0     64          rhs  icir97_tension        1027.737175   \n",
       "\n",
       "     Average Time New  Average Time Farkas  Average Time NoDisjunction  count  \n",
       "45        1596.665227          1348.723483                  657.528542      3  \n",
       "64        1183.200028          1318.780735                  695.452522      2  \n",
       "107        243.415143           245.650637                  173.607462      3  \n",
       "282        251.254951           218.962811                  172.204685      4  \n",
       "279         55.777320            44.019632                   28.522040      2  \n",
       "78         250.504192           265.263592                  193.198810      4  \n",
       "69         439.966624           359.611187                  204.901125      4  \n",
       "105       1343.064551          1700.370790                  953.794123      3  "
      ],
      "text/html": [
       "<div>\n",
       "<style scoped>\n",
       "    .dataframe tbody tr th:only-of-type {\n",
       "        vertical-align: middle;\n",
       "    }\n",
       "\n",
       "    .dataframe tbody tr th {\n",
       "        vertical-align: top;\n",
       "    }\n",
       "\n",
       "    .dataframe thead th {\n",
       "        text-align: right;\n",
       "    }\n",
       "</style>\n",
       "<table border=\"1\" class=\"dataframe\">\n",
       "  <thead>\n",
       "    <tr style=\"text-align: right;\">\n",
       "      <th></th>\n",
       "      <th>degree</th>\n",
       "      <th>terms</th>\n",
       "      <th>perturbation</th>\n",
       "      <th>instance</th>\n",
       "      <th>Average Time None</th>\n",
       "      <th>Average Time New</th>\n",
       "      <th>Average Time Farkas</th>\n",
       "      <th>Average Time NoDisjunction</th>\n",
       "      <th>count</th>\n",
       "    </tr>\n",
       "  </thead>\n",
       "  <tbody>\n",
       "    <tr>\n",
       "      <th>45</th>\n",
       "      <td>0.5</td>\n",
       "      <td>4</td>\n",
       "      <td>matrix</td>\n",
       "      <td>danoint</td>\n",
       "      <td>1481.411435</td>\n",
       "      <td>1596.665227</td>\n",
       "      <td>1348.723483</td>\n",
       "      <td>657.528542</td>\n",
       "      <td>3</td>\n",
       "    </tr>\n",
       "    <tr>\n",
       "      <th>64</th>\n",
       "      <td>0.5</td>\n",
       "      <td>4</td>\n",
       "      <td>rhs</td>\n",
       "      <td>gen-ip002</td>\n",
       "      <td>1379.712370</td>\n",
       "      <td>1183.200028</td>\n",
       "      <td>1318.780735</td>\n",
       "      <td>695.452522</td>\n",
       "      <td>2</td>\n",
       "    </tr>\n",
       "    <tr>\n",
       "      <th>107</th>\n",
       "      <td>0.5</td>\n",
       "      <td>64</td>\n",
       "      <td>matrix</td>\n",
       "      <td>k16x240b</td>\n",
       "      <td>314.771144</td>\n",
       "      <td>243.415143</td>\n",
       "      <td>245.650637</td>\n",
       "      <td>173.607462</td>\n",
       "      <td>3</td>\n",
       "    </tr>\n",
       "    <tr>\n",
       "      <th>282</th>\n",
       "      <td>0.5</td>\n",
       "      <td>64</td>\n",
       "      <td>rhs</td>\n",
       "      <td>timtab1</td>\n",
       "      <td>243.951679</td>\n",
       "      <td>251.254951</td>\n",
       "      <td>218.962811</td>\n",
       "      <td>172.204685</td>\n",
       "      <td>4</td>\n",
       "    </tr>\n",
       "    <tr>\n",
       "      <th>279</th>\n",
       "      <td>2.0</td>\n",
       "      <td>4</td>\n",
       "      <td>matrix</td>\n",
       "      <td>timtab1</td>\n",
       "      <td>56.181840</td>\n",
       "      <td>55.777320</td>\n",
       "      <td>44.019632</td>\n",
       "      <td>28.522040</td>\n",
       "      <td>2</td>\n",
       "    </tr>\n",
       "    <tr>\n",
       "      <th>78</th>\n",
       "      <td>2.0</td>\n",
       "      <td>4</td>\n",
       "      <td>rhs</td>\n",
       "      <td>gen-ip036</td>\n",
       "      <td>295.698084</td>\n",
       "      <td>250.504192</td>\n",
       "      <td>265.263592</td>\n",
       "      <td>193.198810</td>\n",
       "      <td>4</td>\n",
       "    </tr>\n",
       "    <tr>\n",
       "      <th>69</th>\n",
       "      <td>2.0</td>\n",
       "      <td>64</td>\n",
       "      <td>matrix</td>\n",
       "      <td>gen-ip021</td>\n",
       "      <td>384.302044</td>\n",
       "      <td>439.966624</td>\n",
       "      <td>359.611187</td>\n",
       "      <td>204.901125</td>\n",
       "      <td>4</td>\n",
       "    </tr>\n",
       "    <tr>\n",
       "      <th>105</th>\n",
       "      <td>2.0</td>\n",
       "      <td>64</td>\n",
       "      <td>rhs</td>\n",
       "      <td>icir97_tension</td>\n",
       "      <td>1027.737175</td>\n",
       "      <td>1343.064551</td>\n",
       "      <td>1700.370790</td>\n",
       "      <td>953.794123</td>\n",
       "      <td>3</td>\n",
       "    </tr>\n",
       "  </tbody>\n",
       "</table>\n",
       "</div>"
      ]
     },
     "execution_count": 110,
     "metadata": {},
     "output_type": "execute_result"
    }
   ],
   "execution_count": 110
  },
  {
   "metadata": {
    "ExecuteTime": {
     "end_time": "2025-07-23T14:05:34.973971Z",
     "start_time": "2025-07-23T14:05:34.972606Z"
    }
   },
   "cell_type": "code",
   "source": [
    "# generator = \"All\"\n",
    "# all_df, best_df = make_improvement_table(tmp, generator)\n",
    "# best_df[[\"degree\", \"terms\", \"perturbation\", \"instance\", \"Average Time None\", \"Average Time New\", \"Average Time Farkas\", f\"Average Time {generator}\", \"count\"]].head(3)"
   ],
   "id": "d132e7cbf635d9a3",
   "outputs": [],
   "execution_count": 111
  },
  {
   "metadata": {},
   "cell_type": "code",
   "outputs": [],
   "execution_count": null,
   "source": "",
   "id": "c745ad71bf830ed9"
  }
 ],
 "metadata": {
  "kernelspec": {
   "display_name": "Python 3",
   "language": "python",
   "name": "python3"
  },
  "language_info": {
   "codemirror_mode": {
    "name": "ipython",
    "version": 2
   },
   "file_extension": ".py",
   "mimetype": "text/x-python",
   "name": "python",
   "nbconvert_exporter": "python",
   "pygments_lexer": "ipython2",
   "version": "2.7.6"
  }
 },
 "nbformat": 4,
 "nbformat_minor": 5
}
