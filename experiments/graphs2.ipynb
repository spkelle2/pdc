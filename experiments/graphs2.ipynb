{
 "cells": [
  {
   "cell_type": "code",
   "source": [
    "import gurobipy as gp\n",
    "import math\n",
    "from matplotlib import pyplot as plt\n",
    "from matplotlib.ticker import FuncFormatter, PercentFormatter\n",
    "import numpy as np\n",
    "import pandas as pd\n",
    "import re\n",
    "import os\n",
    "import shutil"
   ],
   "metadata": {
    "collapsed": false,
    "ExecuteTime": {
     "end_time": "2025-07-23T14:04:48.890459Z",
     "start_time": "2025-07-23T14:04:48.320536Z"
    }
   },
   "id": "1cc59124d1d40dc",
   "outputs": [],
   "execution_count": 1
  },
  {
   "metadata": {
    "ExecuteTime": {
     "end_time": "2025-07-23T14:04:48.910800Z",
     "start_time": "2025-07-23T14:04:48.909071Z"
    }
   },
   "cell_type": "code",
   "source": "# output generation for paper 2",
   "id": "c1e512b5bbea8333",
   "outputs": [],
   "execution_count": 2
  },
  {
   "cell_type": "code",
   "source": [
    "# get input paths\n",
    "test_set = \"miplib_2017_5000_paper2\"\n",
    "instance_fldr = os.path.join(\"instances\", test_set)\n",
    "test_set_fldr = os.path.join(\"test_sets\", test_set)\n",
    "results_fldr = os.path.join(\"results\", test_set)\n",
    "out_fldr = os.path.join(\"outputs\", test_set)\n",
    "\n",
    "# set filters\n",
    "seed_idxs = [0]  \n",
    "max_indices = 100\n",
    "degrees = [-1, 1]  # todo update this as needed\n",
    "term_list = [4, 64]\n",
    "filter_cbc = False\n",
    "max_base_std = 1e10\n",
    "min_termination_time = 10  # todo update this as needed - fitler wins on default runs that took at least 10 seconds\n",
    "short, medium, long = 60, 600, 3600\n",
    "remove_status_changes = False\n",
    "win_threshold = .2\n",
    "filter_redundant = True\n",
    "\n",
    "default_generators = [\"None\", \"New\", \"Farkas\"]\n",
    "# need to redownload the test results for the others\n",
    "test_generators = [\"NoDisjunction\"]  # \"All\", \"Disjunction\", \"NoDisjunction\" ,\"Matrix\", \"Term\", \"Basis\", \"NoMatrix\", \"NoTerm\", \"NoBasis\"]\n",
    "generators = default_generators + test_generators\n",
    "disjunctive_generators = [g for g in generators if g != \"None\"]\n",
    "parametric_generators = [g for g in generators if g not in [\"None\", \"New\"]]\n",
    "\n",
    "\n",
    "# set up some mappings\n",
    "cat_map_new_lines = {\n",
    "    \"None\": \"Default\",\n",
    "    \"Farkas\": \"Param Disj,\\nParam Cuts\",\n",
    "    \"Old\": \"Param Disj,\\nCalc Cuts\",\n",
    "    \"New\": \"Calc Disj,\\nCalc Cuts\",\n",
    "    \"All\": \"Prune and\\nSupport\",\n",
    "    \"Disjunction\": \"Prune\\nDisjunction\",\n",
    "    \"Matrix\": \"Support\\nMatrix\",\n",
    "    \"Term\": \"Support\\nTerm\",\n",
    "    \"Basis\": \"Support\\nBasis\",\n",
    "    \"NoDisjunction\": \"Support\"\n",
    "}\n",
    "cat_map = {\n",
    "    \"None\": \"Default\",\n",
    "    \"Farkas\": \"Param Disj, Param Cuts\",\n",
    "    \"Old\": \"Param Disj, Calc Cuts\",\n",
    "    \"New\": \"Calc Disj, Calc Cuts\",\n",
    "    \"All\": \"Prune and Support\",\n",
    "    \"Disjunction\": \"Prune Disjunction\",\n",
    "    \"Matrix\": \"Strengthen Matrix\",\n",
    "    \"Term\": \"Strengthen Term\",\n",
    "    \"Basis\": \"Strengthen Basis\",\n",
    "    \"NoDisjunction\": \"Support\"\n",
    "}\n",
    "perturbation_map = {\n",
    "    \"matrix\": \"Coefficient Matrix\",\n",
    "    \"rhs\": \"Right Hand Side\",\n",
    "    \"objective\": \"Objective\"\n",
    "}\n",
    "label = {\n",
    "    \"postRootTime\": \"Time after Processing Root nodes\",\n",
    "    \"rootDualBoundTimeSansVpc\": \"Root Processing Time (Minus VPC Generation)\",\n",
    "    \"terminationTimeSansVpc\": \"Time (Minus VPC Generation)\",\n",
    "    \"terminationTime\": \"Time\",\n",
    "    \"nodes\": \"Nodes Processed\",\n",
    "    \"iterations\": \"LP iterations\",\n",
    "}\n",
    "unit = {\n",
    "    \"postRootTime\": \"(seconds)\",\n",
    "    \"rootDualBoundTimeSansVpc\": \"(seconds)\",\n",
    "    \"terminationTimeSansVpc\": \"(seconds)\",\n",
    "    \"terminationTime\": \"(seconds)\",\n",
    "    \"nodes\": \"(1000 nodes)\",\n",
    "    \"iterations\": \"(1000 iterations)\",\n",
    "}\n",
    "limits = {\n",
    "    \"postRootTime\": 7200,\n",
    "    \"terminationTimeSansVpc\": 7200,\n",
    "    \"terminationTime\": 7200,\n",
    "    \"rootDualBoundTimeSansVpc\": 5,\n",
    "    \"nodes\": 10000,\n",
    "    \"iterations\": 37500\n",
    "}\n",
    "bracket_bounds = {\n",
    "    \"short\": (min_termination_time, short),\n",
    "    \"medium\": (short, medium),\n",
    "    \"long\": (medium, long)\n",
    "}\n",
    "param_map = {\n",
    "    \"degree\": \"Degree of Perturbation\",\n",
    "    \"terms\": \"Number of Disjunctive Terms\",\n",
    "}"
   ],
   "metadata": {
    "collapsed": false,
    "ExecuteTime": {
     "end_time": "2025-07-23T15:44:38.447489Z",
     "start_time": "2025-07-23T15:44:38.417804Z"
    }
   },
   "id": "7efbc88147f301fa",
   "outputs": [],
   "execution_count": 112
  },
  {
   "metadata": {
    "ExecuteTime": {
     "end_time": "2025-07-23T14:04:49.002851Z",
     "start_time": "2025-07-23T14:04:49.000673Z"
    }
   },
   "cell_type": "code",
   "source": [
    "# matplotlib settings\n",
    "plt.rc('text', usetex=True)  # use latex fonts\n",
    "plt.rcParams['font.size'] = 18\n",
    "plt.rcParams['figure.titlesize'] = 24\n",
    "plt.rcParams['axes.titlesize'] = 20\n",
    "plt.rcParams['axes.labelsize'] = 18\n",
    "plt.rcParams['xtick.labelsize'] = 16\n",
    "plt.rcParams['ytick.labelsize'] = 16\n",
    "plt.rcParams['legend.fontsize'] = 14"
   ],
   "id": "559c07334083a9c",
   "outputs": [],
   "execution_count": 4
  },
  {
   "cell_type": "markdown",
   "source": [
    "## Check run failures"
   ],
   "metadata": {
    "collapsed": false
   },
   "id": "309a347a4f60cab6"
  },
  {
   "cell_type": "code",
   "source": [
    "# check if each folder in test_set_fldr has a corresponding .mps file in instance_fldr\n",
    "# for instance in os.listdir(test_set_fldr):\n",
    "#     if not os.path.isdir(os.path.join(test_set_fldr, instance)):\n",
    "#         continue\n",
    "#     if not os.path.exists(os.path.join(instance_fldr, f\"{instance}.mps\")):\n",
    "#         # remove the folder if the instance is missing\n",
    "#         # shutil.rmtree(os.path.join(test_set_fldr, instance))\n",
    "#         print(f\"Removed {instance} from test set\")"
   ],
   "metadata": {
    "collapsed": false,
    "ExecuteTime": {
     "end_time": "2025-07-23T14:04:49.161569Z",
     "start_time": "2025-07-23T14:04:49.159704Z"
    }
   },
   "id": "81fbacab12d1c5f6",
   "outputs": [],
   "execution_count": 5
  },
  {
   "cell_type": "code",
   "source": [
    "# running list of strings contained by different error codes\n",
    "# last two are catchalls\n",
    "err = {\n",
    "    \"walltime\": [],\n",
    "    \"bad_alloc\": [],\n",
    "    \"out of memory\": [],\n",
    "    \"vmem\": [],\n",
    "    \"takeoffcuts\": [],\n",
    "    \"solver is dual infeasible\": [],\n",
    "    \"solver must be optimal\": [],\n",
    "    \"segmentation fault\": [],\n",
    "    \"no vpcs were made from a new disjunction\": [],\n",
    "    \"must have primalbound >= root lp objective\": [],\n",
    "    \"objective at parent nodes\": [],\n",
    "    \"failed to optimize mip\": [],\n",
    "    \"disjunction does not represent a full binary tree\": [],\n",
    "    \"solver not proven optimal for nodes\": [],\n",
    "    \"unable to open\": [],\n",
    "    \"license\": [],\n",
    "    \"dot product with obj differs from solver\": [],\n",
    "    \"gurobi: error during callback: addCut\": [],\n",
    "    \"cglvpc::setupconstraints: objective at disjunctive term\": [],\n",
    "    \"unable to read file\": [],\n",
    "    \"stats.id == stats_vec\": [],\n",
    "    \"size of our disjunction is not what we expected it to be\": [],\n",
    "    \"dimension must stay fixed\": [],\n",
    "    \"vpcgenerator must be\": [],\n",
    "    \"objective values must match\": [],\n",
    "    \"objective at disjunctive term\": [],\n",
    "}\n",
    "\n",
    "# read in cbc acceptable instances from cbc.txt\n",
    "with open(\"cbc.txt\", \"r\") as f:\n",
    "    cbc_instances = f.read().split(\"\\n\")\n",
    "\n",
    "# runs that errored out with new error code\n",
    "other = []\n",
    "\n",
    "# runs that had no errors\n",
    "empty = []\n",
    "\n",
    "# runs that only had warnings\n",
    "warn_strs = [\"warning\", \"prlp is primal infeasible\", \"farkas\", \"x:\", \"x[\", \"b:\",\n",
    "             \"b[\", \"v:\", \"v[\", \"cut:\", \"A_i . x\", \"dot product with obj differs from solver\"]\n",
    "warning = []\n",
    "\n",
    "# series that didn't run\n",
    "no_go = []\n",
    "\n",
    "# track sizes of instances\n",
    "rows, cols, density = {}, {}, {}\n",
    "\n",
    "# map the names\n",
    "names = {}\n",
    "\n",
    "# counts\n",
    "count_series = 0\n",
    "count_instances = 0\n",
    "number_instances = {}\n",
    "\n",
    "# iterate over all expected runs\n",
    "for instance in os.listdir(test_set_fldr):\n",
    "    if not os.path.isdir(os.path.join(test_set_fldr, instance)):\n",
    "        continue\n",
    "    # only look at cbc instances if we ran with cbc\n",
    "    if instance not in cbc_instances and \"gurobi\" not in test_set and filter_cbc:\n",
    "        continue\n",
    "        \n",
    "    # get the number of rows and columns in the instance\n",
    "    mdl = gp.read(os.path.join(instance_fldr, f\"{instance}.mps\"))\n",
    "    rows[instance] = mdl.NumConstrs\n",
    "    cols[instance] = mdl.NumVars\n",
    "    density[instance] = mdl.NumNZs / (mdl.NumConstrs * mdl.NumVars)\n",
    "        \n",
    "    for perturbation in os.listdir(os.path.join(test_set_fldr, instance)):\n",
    "        if not os.path.isdir(os.path.join(test_set_fldr, instance, perturbation)):\n",
    "            continue\n",
    "        # only look at perturbations that were run\n",
    "        p, d = perturbation.split(\"_\")\n",
    "        if int(d) not in degrees or p not in perturbation_map:\n",
    "            continue\n",
    "        for terms in term_list:\n",
    "            for generator in generators:\n",
    "                for seed_idx in seed_idxs:\n",
    "\n",
    "                    # set variables for this iterations\n",
    "                    count_series += 1\n",
    "                    stem = f\"{instance}_{perturbation}_{terms}_{generator}_{seed_idx}\"\n",
    "                    file_pth = os.path.join(results_fldr, f\"{stem}.err\")\n",
    "                    series_fldr = os.path.join(test_set_fldr, instance, perturbation)\n",
    "                    current_count = len([f for f in os.listdir(series_fldr) if f.endswith(\".mps\")])\n",
    "                    count_instances += current_count\n",
    "                    names[stem] = instance\n",
    "                    number_instances[stem] = {\n",
    "                        \"expected\": current_count,\n",
    "                        \"recorded\": 0,\n",
    "                        \"generator\": generator,\n",
    "                        \"error\": \"N/A\"\n",
    "                    }\n",
    "    \n",
    "                    # check if the series wasn't run\n",
    "                    if not os.path.exists(file_pth):\n",
    "                        number_instances[stem][\"error\"] = \"no go\"\n",
    "                        no_go.append(stem)\n",
    "                    \n",
    "                    # check if the series ran with no errors or warnings\n",
    "                    elif os.path.getsize(file_pth) == 0:\n",
    "                        number_instances[stem][\"error\"] = \"empty\"\n",
    "                        empty.append(stem)\n",
    "                    \n",
    "                    # track which error codes were thrown\n",
    "                    else:\n",
    "                        # read the file\n",
    "                        with open(file_pth, \"r\") as f:\n",
    "                            text = f.read().lower()\n",
    "                        \n",
    "                        # assign the error file to the appropriate list\n",
    "                        found_code = False\n",
    "                        for code in err:\n",
    "                            if code in text:\n",
    "                                if code == \"dot product with obj differs from solver\":\n",
    "                                    pattern = r\"obj viol from solver: (-?\\d+\\.\\d+)\\. calculated: (-?\\d+\\.\\d+)\"\n",
    "                                    s, c = re.findall(pattern, text)[-1]\n",
    "                                    # if we didn't terminate, this isn't an error, so keep going\n",
    "                                    if abs(float(s) - float(c)) < 1e-3:\n",
    "                                        continue\n",
    "                                err[code].append(stem)\n",
    "                                found_code = True\n",
    "                                number_instances[stem][\"error\"] = code\n",
    "                                break\n",
    "                        if not found_code:\n",
    "                            if all(not line or any(w in line for w in warn_strs) for line in text.splitlines()):\n",
    "                                warning.append(stem)\n",
    "                                number_instances[stem][\"error\"] = \"warning\"\n",
    "                            else:\n",
    "                                other.append(stem)\n",
    "                                number_instances[stem][\"error\"] = \"other\""
   ],
   "metadata": {
    "collapsed": false,
    "ExecuteTime": {
     "end_time": "2025-07-23T14:04:53.092863Z",
     "start_time": "2025-07-23T14:04:49.258821Z"
    }
   },
   "id": "bf0cf935eb4aad03",
   "outputs": [
    {
     "name": "stdout",
     "output_type": "stream",
     "text": [
      "Set parameter Username\n",
      "Academic license - for non-commercial use only - expires 2025-08-21\n",
      "Read MPS format model from file instances/miplib_2017_5000_paper2/bienst2.mps\n",
      "Reading time = 0.00 seconds\n",
      "bienst2: 576 rows, 505 columns, 2184 nonzeros\n",
      "Read MPS format model from file instances/miplib_2017_5000_paper2/set3-15.mps\n",
      "Reading time = 0.00 seconds\n",
      "set3-15: 3747 rows, 4019 columns, 13747 nonzeros\n",
      "Read MPS format model from file instances/miplib_2017_5000_paper2/f2gap801600.mps\n",
      "Reading time = 0.00 seconds\n",
      "f2gap801600: 80 rows, 1600 columns, 3200 nonzeros\n",
      "Read MPS format model from file instances/miplib_2017_5000_paper2/stein15inf.mps\n",
      "Reading time = 0.00 seconds\n",
      "stein15inf: 37 rows, 15 columns, 135 nonzeros\n",
      "Read MPS format model from file instances/miplib_2017_5000_paper2/neos-3610173-itata.mps\n",
      "Reading time = 0.00 seconds\n",
      "neos-3610173-itata: 747 rows, 844 columns, 2130 nonzeros\n",
      "Read MPS format model from file instances/miplib_2017_5000_paper2/10teams.mps\n",
      "Reading time = 0.00 seconds\n",
      "10TEAMS: 230 rows, 2025 columns, 12150 nonzeros\n",
      "Read MPS format model from file instances/miplib_2017_5000_paper2/gmu-35-40.mps\n",
      "Reading time = 0.00 seconds\n",
      "gmu-35-40: 424 rows, 1205 columns, 4843 nonzeros\n",
      "Read MPS format model from file instances/miplib_2017_5000_paper2/neos-3610051-istra.mps\n",
      "Reading time = 0.00 seconds\n",
      "neos-3610051-istra: 709 rows, 805 columns, 1999 nonzeros\n",
      "Read MPS format model from file instances/miplib_2017_5000_paper2/ci-s4.mps\n",
      "Reading time = 0.02 seconds\n",
      "ci-s4: 26159 rows, 745 columns, 129124 nonzeros\n",
      "Read MPS format model from file instances/miplib_2017_5000_paper2/neos-585192.mps\n",
      "Reading time = 0.01 seconds\n",
      "neos-585192: 2628 rows, 2597 columns, 72396 nonzeros\n",
      "Read MPS format model from file instances/miplib_2017_5000_paper2/neos-3046601-motu.mps\n",
      "Reading time = 0.00 seconds\n",
      "neos-3046601-motu: 563 rows, 308 columns, 1430 nonzeros\n",
      "Read MPS format model from file instances/miplib_2017_5000_paper2/neos-555343.mps\n",
      "Reading time = 0.00 seconds\n",
      "neos-555343: 3326 rows, 3815 columns, 16967 nonzeros\n",
      "Read MPS format model from file instances/miplib_2017_5000_paper2/nu25-pr12.mps\n",
      "Reading time = 0.00 seconds\n",
      "nu25-pr12: 2313 rows, 5868 columns, 17712 nonzeros\n",
      "Warning: more than one unconstrained row,\n",
      "         using the first one as the objective.\n",
      "Read MPS format model from file instances/miplib_2017_5000_paper2/lrn.mps\n",
      "Reading time = 0.01 seconds\n",
      "lrn_tl1: 8491 rows, 7253 columns, 46123 nonzeros\n",
      "Read MPS format model from file instances/miplib_2017_5000_paper2/pigeon-20.mps\n",
      "Reading time = 0.01 seconds\n",
      "pigeon-20: 3661 rows, 1580 columns, 33100 nonzeros\n",
      "Read MPS format model from file instances/miplib_2017_5000_paper2/neos-4954672-berkel.mps\n",
      "Reading time = 0.00 seconds\n",
      "neos-4954672-berkel: 1848 rows, 1533 columns, 8007 nonzeros\n",
      "Read MPS format model from file instances/miplib_2017_5000_paper2/bnatt500.mps\n",
      "Reading time = 0.01 seconds\n",
      "bnatt500: 7029 rows, 4500 columns, 27203 nonzeros\n",
      "Read MPS format model from file instances/miplib_2017_5000_paper2/neos-1171737.mps\n",
      "Reading time = 0.01 seconds\n",
      "neos-1171737: 4179 rows, 2340 columns, 58620 nonzeros\n",
      "Read MPS format model from file instances/miplib_2017_5000_paper2/neos-503737.mps\n",
      "Reading time = 0.00 seconds\n",
      "neos-503737: 500 rows, 2850 columns, 16850 nonzeros\n",
      "Read MPS format model from file instances/miplib_2017_5000_paper2/neos-574665.mps\n",
      "Reading time = 0.00 seconds\n",
      "neos-574665: 3790 rows, 740 columns, 16792 nonzeros\n",
      "Read MPS format model from file instances/miplib_2017_5000_paper2/stoch-vrpvrp-s5v2c8vrp-v2c8i.mps\n",
      "Reading time = 0.01 seconds\n",
      "stoch-vrpvrp-s5v2c8vrp-v2c8i: 3173 rows, 3116 columns, 10501 nonzeros\n",
      "Read MPS format model from file instances/miplib_2017_5000_paper2/pigeon-16.mps\n",
      "Reading time = 0.00 seconds\n",
      "pigeon-16: 2353 rows, 1072 columns, 21104 nonzeros\n",
      "Read MPS format model from file instances/miplib_2017_5000_paper2/csched007.mps\n",
      "Reading time = 0.00 seconds\n",
      "csched007: 351 rows, 1758 columns, 6379 nonzeros\n",
      "Read MPS format model from file instances/miplib_2017_5000_paper2/aflow40b.mps\n",
      "Reading time = 0.00 seconds\n",
      ": 1442 rows, 2728 columns, 6783 nonzeros\n",
      "Read MPS format model from file instances/miplib_2017_5000_paper2/graphdraw-domain.mps\n",
      "Reading time = 0.00 seconds\n",
      "graphdraw-domain: 865 rows, 254 columns, 2600 nonzeros\n",
      "Read MPS format model from file instances/miplib_2017_5000_paper2/f2gap401600.mps\n",
      "Reading time = 0.00 seconds\n",
      "f2gap401600: 40 rows, 1600 columns, 3200 nonzeros\n",
      "Read MPS format model from file instances/miplib_2017_5000_paper2/blend2.mps\n",
      "Reading time = 0.00 seconds\n",
      "blend2: 274 rows, 353 columns, 1409 nonzeros\n",
      "Read MPS format model from file instances/miplib_2017_5000_paper2/bg512142.mps\n",
      "Reading time = 0.00 seconds\n",
      "bg512142: 1307 rows, 792 columns, 3953 nonzeros\n",
      "Read MPS format model from file instances/miplib_2017_5000_paper2/markshare2.mps\n",
      "Reading time = 0.00 seconds\n",
      ": 7 rows, 74 columns, 434 nonzeros\n",
      "Read MPS format model from file instances/miplib_2017_5000_paper2/traininstance6.mps\n",
      "Reading time = 0.01 seconds\n",
      "traininstance6: 12309 rows, 10218 columns, 32785 nonzeros\n",
      "Read MPS format model from file instances/miplib_2017_5000_paper2/hgms-det.mps\n",
      "Reading time = 0.01 seconds\n",
      "hgms-det: 9752 rows, 1322 columns, 32367 nonzeros\n",
      "Read MPS format model from file instances/miplib_2017_5000_paper2/pigeon-10.mps\n",
      "Reading time = 0.00 seconds\n",
      "pigeon-10: 931 rows, 490 columns, 8150 nonzeros\n",
      "Read MPS format model from file instances/miplib_2017_5000_paper2/peg-solitaire-a3.mps\n",
      "Reading time = 0.01 seconds\n",
      "peg-solitaire-a3: 4587 rows, 4552 columns, 28387 nonzeros\n",
      "Read MPS format model from file instances/miplib_2017_5000_paper2/mcsched.mps\n",
      "Reading time = 0.00 seconds\n",
      "mcsched: 2107 rows, 1747 columns, 8088 nonzeros\n",
      "Read MPS format model from file instances/miplib_2017_5000_paper2/cvrpp-n16k8vrpi.mps\n",
      "Reading time = 0.01 seconds\n",
      "cvrpp-n16k8vrpi: 4971 rows, 4972 columns, 20694 nonzeros\n",
      "Read MPS format model from file instances/miplib_2017_5000_paper2/qnet1_o.mps\n",
      "Reading time = 0.00 seconds\n",
      "qnet1_o: 456 rows, 1541 columns, 4214 nonzeros\n",
      "Read MPS format model from file instances/miplib_2017_5000_paper2/csched008.mps\n",
      "Reading time = 0.00 seconds\n",
      "csched008: 351 rows, 1536 columns, 5687 nonzeros\n",
      "Read MPS format model from file instances/miplib_2017_5000_paper2/piperout-d27.mps\n",
      "Reading time = 0.05 seconds\n",
      "piperout-d27: 17470 rows, 13104 columns, 224457 nonzeros\n",
      "Read MPS format model from file instances/miplib_2017_5000_paper2/neos-3611447-jijia.mps\n",
      "Reading time = 0.00 seconds\n",
      "neos-3611447-jijia: 377 rows, 472 columns, 1145 nonzeros\n",
      "Read MPS format model from file instances/miplib_2017_5000_paper2/sp150x300d.mps\n",
      "Reading time = 0.00 seconds\n",
      "sp150x300d: 450 rows, 600 columns, 1200 nonzeros\n",
      "Read MPS format model from file instances/miplib_2017_5000_paper2/ran13x13.mps\n",
      "Reading time = 0.00 seconds\n",
      "ran13x13: 195 rows, 338 columns, 676 nonzeros\n",
      "Read MPS format model from file instances/miplib_2017_5000_paper2/piperout-d20.mps\n",
      "Reading time = 0.03 seconds\n",
      "piperout-d20: 15562 rows, 11961 columns, 190915 nonzeros\n",
      "Read MPS format model from file instances/miplib_2017_5000_paper2/mine-90-10.mps\n",
      "Reading time = 0.00 seconds\n",
      "mine-90-10: 6270 rows, 900 columns, 15407 nonzeros\n",
      "Read MPS format model from file instances/miplib_2017_5000_paper2/tanglegram6.mps\n",
      "Reading time = 0.01 seconds\n",
      "tanglegram6: 17712 rows, 9182 columns, 53136 nonzeros\n",
      "Read MPS format model from file instances/miplib_2017_5000_paper2/nexp-50-20-1-1.mps\n",
      "Reading time = 0.00 seconds\n",
      "nexp-50-20-1-1: 540 rows, 490 columns, 1225 nonzeros\n",
      "Read MPS format model from file instances/miplib_2017_5000_paper2/neos-3426085-ticino.mps\n",
      "Reading time = 0.00 seconds\n",
      "neos-3426085-ticino: 308 rows, 4688 columns, 9083 nonzeros\n",
      "Read MPS format model from file instances/miplib_2017_5000_paper2/neos-3118745-obra.mps\n",
      "Reading time = 0.00 seconds\n",
      "neos-3118745-obra: 144 rows, 1131 columns, 4521 nonzeros\n",
      "Read MPS format model from file instances/miplib_2017_5000_paper2/liu.mps\n",
      "Reading time = 0.00 seconds\n",
      "liu: 2178 rows, 1156 columns, 10626 nonzeros\n",
      "Read MPS format model from file instances/miplib_2017_5000_paper2/neos-1396125.mps\n",
      "Reading time = 0.00 seconds\n",
      "neos-1396125: 1494 rows, 1161 columns, 5511 nonzeros\n",
      "Read MPS format model from file instances/miplib_2017_5000_paper2/mas74.mps\n",
      "Reading time = 0.00 seconds\n",
      "mas74: 13 rows, 151 columns, 1706 nonzeros\n",
      "Read MPS format model from file instances/miplib_2017_5000_paper2/p2m2p1m1p0n100.mps\n",
      "Reading time = 0.00 seconds\n",
      "p2m2p1m1p0n100: 1 rows, 101 columns, 101 nonzeros\n",
      "Read MPS format model from file instances/miplib_2017_5000_paper2/cvs16r89-60.mps\n",
      "Reading time = 0.00 seconds\n",
      "cvs16r89-60: 3068 rows, 2384 columns, 8368 nonzeros\n",
      "Read MPS format model from file instances/miplib_2017_5000_paper2/nexp-150-20-1-5.mps\n",
      "Reading time = 0.00 seconds\n",
      "nexp-150-20-1-5: 4620 rows, 4470 columns, 11175 nonzeros\n",
      "Read MPS format model from file instances/miplib_2017_5000_paper2/qnet1.mps\n",
      "Reading time = 0.00 seconds\n",
      "qnet1: 503 rows, 1541 columns, 4622 nonzeros\n",
      "Read MPS format model from file instances/miplib_2017_5000_paper2/neos-3762025-ognon.mps\n",
      "Reading time = 0.01 seconds\n",
      "neos-3762025-ognon: 2784 rows, 4673 columns, 25384 nonzeros\n",
      "Read MPS format model from file instances/miplib_2017_5000_paper2/neos-2652786-brda.mps\n",
      "Reading time = 0.00 seconds\n",
      "neos-2652786-brda: 342 rows, 524 columns, 1690 nonzeros\n",
      "Read MPS format model from file instances/miplib_2017_5000_paper2/neos-3116779-oban.mps\n",
      "Reading time = 0.00 seconds\n",
      "neos-3116779-oban: 328 rows, 5141 columns, 20561 nonzeros\n",
      "Read MPS format model from file instances/miplib_2017_5000_paper2/a1c1s1.mps\n",
      "Reading time = 0.00 seconds\n",
      "a1c1s1: 3312 rows, 3648 columns, 10178 nonzeros\n",
      "Read MPS format model from file instances/miplib_2017_5000_paper2/neos-1582420.mps\n",
      "Reading time = 0.01 seconds\n",
      "file: 10180 rows, 10100 columns, 24814 nonzeros\n",
      "Read MPS format model from file instances/miplib_2017_5000_paper2/neos-1442119.mps\n",
      "Reading time = 0.00 seconds\n",
      "file: 1524 rows, 728 columns, 6692 nonzeros\n",
      "Read MPS format model from file instances/miplib_2017_5000_paper2/mtest4ma.mps\n",
      "Reading time = 0.00 seconds\n",
      "mtest4ma: 1174 rows, 1950 columns, 4875 nonzeros\n",
      "Read MPS format model from file instances/miplib_2017_5000_paper2/neos-2328163-agri.mps\n",
      "Reading time = 0.00 seconds\n",
      "neos-2328163-agri: 1963 rows, 2236 columns, 12740 nonzeros\n",
      "Read MPS format model from file instances/miplib_2017_5000_paper2/stein45inf.mps\n",
      "Reading time = 0.00 seconds\n",
      "stein45inf: 332 rows, 45 columns, 1079 nonzeros\n",
      "Read MPS format model from file instances/miplib_2017_5000_paper2/seymour1.mps\n",
      "Reading time = 0.01 seconds\n",
      "seymour1: 4944 rows, 1372 columns, 33549 nonzeros\n",
      "Read MPS format model from file instances/miplib_2017_5000_paper2/fhnw-binpack4-77.mps\n",
      "Reading time = 0.00 seconds\n",
      "fhnw-binpack4-77: 4922 rows, 3924 columns, 17726 nonzeros\n",
      "Read MPS format model from file instances/miplib_2017_5000_paper2/mod010.mps\n",
      "Reading time = 0.00 seconds\n",
      "mod010: 146 rows, 2655 columns, 11203 nonzeros\n",
      "Read MPS format model from file instances/miplib_2017_5000_paper2/fhnw-binpack4-48.mps\n",
      "Reading time = 0.01 seconds\n",
      "fhnw-binpack4-48: 4480 rows, 3710 columns, 17290 nonzeros\n",
      "Read MPS format model from file instances/miplib_2017_5000_paper2/ns1208400.mps\n",
      "Reading time = 0.01 seconds\n",
      "ns1208400: 4289 rows, 2883 columns, 81746 nonzeros\n",
      "Read MPS format model from file instances/miplib_2017_5000_paper2/neos-1112787.mps\n",
      "Reading time = 0.00 seconds\n",
      "neos-1112787: 1680 rows, 3280 columns, 6440 nonzeros\n",
      "Read MPS format model from file instances/miplib_2017_5000_paper2/f2gap40400.mps\n",
      "Reading time = 0.00 seconds\n",
      "f2gap40400: 40 rows, 400 columns, 800 nonzeros\n",
      "Read MPS format model from file instances/miplib_2017_5000_paper2/assign1-10-4.mps\n",
      "Reading time = 0.00 seconds\n",
      "assign1-10-4: 582 rows, 572 columns, 28280 nonzeros\n",
      "Read MPS format model from file instances/miplib_2017_5000_paper2/ic97_tension.mps\n",
      "Reading time = 0.00 seconds\n",
      "ic97_tension: 319 rows, 703 columns, 2070 nonzeros\n",
      "Read MPS format model from file instances/miplib_2017_5000_paper2/app2-2.mps\n",
      "Reading time = 0.00 seconds\n",
      "app2-2: 335 rows, 1226 columns, 3130 nonzeros\n",
      "Read MPS format model from file instances/miplib_2017_5000_paper2/mappingmesh3x3mpeg2i.mps\n",
      "Reading time = 0.01 seconds\n",
      "mappingmesh3x3mpeg2i: 10309 rows, 7097 columns, 26010 nonzeros\n",
      "Read MPS format model from file instances/miplib_2017_5000_paper2/neos-3381206-awhea.mps\n",
      "Reading time = 0.00 seconds\n",
      "neos-3381206-awhea: 479 rows, 2375 columns, 4275 nonzeros\n",
      "Read MPS format model from file instances/miplib_2017_5000_paper2/neos-691058.mps\n",
      "Reading time = 0.01 seconds\n",
      "neos-691058: 2667 rows, 3006 columns, 30837 nonzeros\n",
      "Read MPS format model from file instances/miplib_2017_5000_paper2/n2seq36f.mps\n",
      "Reading time = 0.01 seconds\n",
      "n2seq36f: 285 rows, 8100 columns, 60948 nonzeros\n",
      "Read MPS format model from file instances/miplib_2017_5000_paper2/supportcase35.mps\n",
      "Reading time = 0.01 seconds\n",
      "supportcase35: 6334 rows, 12941 columns, 29908 nonzeros\n",
      "Read MPS format model from file instances/miplib_2017_5000_paper2/bppc8-09.mps\n",
      "Reading time = 0.00 seconds\n",
      "bppc8-09: 67 rows, 431 columns, 9051 nonzeros\n",
      "Read MPS format model from file instances/miplib_2017_5000_paper2/h50x2450.mps\n",
      "Reading time = 0.01 seconds\n",
      "h50x2450: 2549 rows, 4900 columns, 12152 nonzeros\n",
      "Read MPS format model from file instances/miplib_2017_5000_paper2/cvs16r128-89.mps\n",
      "Reading time = 0.00 seconds\n",
      "cvs16r128-89: 4633 rows, 3472 columns, 12528 nonzeros\n",
      "Read MPS format model from file instances/miplib_2017_5000_paper2/rentacar.mps\n",
      "Reading time = 0.01 seconds\n",
      "RENTACAR: 6803 rows, 9559 columns, 41844 nonzeros\n",
      "Read MPS format model from file instances/miplib_2017_5000_paper2/neos-3421095-cinca.mps\n",
      "Reading time = 0.00 seconds\n",
      "neos-3421095-cinca: 1218 rows, 896 columns, 4350 nonzeros\n",
      "Read MPS format model from file instances/miplib_2017_5000_paper2/neos22.mps\n",
      "Reading time = 0.00 seconds\n",
      "neos22: 5208 rows, 3240 columns, 12312 nonzeros\n",
      "Read MPS format model from file instances/miplib_2017_5000_paper2/a2c1s1.mps\n",
      "Reading time = 0.00 seconds\n",
      "a2c1s1: 3312 rows, 3648 columns, 10178 nonzeros\n",
      "Read MPS format model from file instances/miplib_2017_5000_paper2/assign1-5-8.mps\n",
      "Reading time = 0.00 seconds\n",
      "assign1-5-8: 161 rows, 156 columns, 3720 nonzeros\n",
      "Read MPS format model from file instances/miplib_2017_5000_paper2/fastxgemm-n2r7s4t1.mps\n",
      "Reading time = 0.01 seconds\n",
      "fastxgemm-n2r7s4t1: 6972 rows, 904 columns, 22584 nonzeros\n",
      "Read MPS format model from file instances/miplib_2017_5000_paper2/f2gap201600.mps\n",
      "Reading time = 0.01 seconds\n",
      "f2gap201600: 20 rows, 1600 columns, 3200 nonzeros\n",
      "Read MPS format model from file instances/miplib_2017_5000_paper2/neos-3009394-lami.mps\n",
      "Reading time = 0.01 seconds\n",
      "neos-3009394-lami: 2028 rows, 2757 columns, 6760 nonzeros\n",
      "Read MPS format model from file instances/miplib_2017_5000_paper2/supportcase26.mps\n",
      "Reading time = 0.00 seconds\n",
      "supportcase26: 870 rows, 436 columns, 2492 nonzeros\n",
      "Read MPS format model from file instances/miplib_2017_5000_paper2/neos-3696678-lyvia.mps\n",
      "Reading time = 0.01 seconds\n",
      "neos-3696678-lyvia: 9004 rows, 7683 columns, 30452 nonzeros\n",
      "Read MPS format model from file instances/miplib_2017_5000_paper2/enlight8.mps\n",
      "Reading time = 0.00 seconds\n",
      "enlight8: 64 rows, 128 columns, 352 nonzeros\n",
      "Read MPS format model from file instances/miplib_2017_5000_paper2/gsvm2rl5.mps\n",
      "Reading time = 0.00 seconds\n",
      "gsvm2rl5: 300 rows, 401 columns, 10700 nonzeros\n",
      "Read MPS format model from file instances/miplib_2017_5000_paper2/neos-1425699.mps\n",
      "Reading time = 0.00 seconds\n",
      "file: 89 rows, 105 columns, 430 nonzeros\n",
      "Read MPS format model from file instances/miplib_2017_5000_paper2/cod105.mps\n",
      "Reading time = 0.01 seconds\n",
      "cod105: 1024 rows, 1024 columns, 57344 nonzeros\n",
      "Read MPS format model from file instances/miplib_2017_5000_paper2/irp.mps\n",
      "Reading time = 0.02 seconds\n",
      "jeff: 39 rows, 20315 columns, 98254 nonzeros\n",
      "Read MPS format model from file instances/miplib_2017_5000_paper2/neos-1601936.mps\n",
      "Reading time = 0.01 seconds\n",
      "neos-1601936: 3131 rows, 4446 columns, 72500 nonzeros\n",
      "Read MPS format model from file instances/miplib_2017_5000_paper2/supportcase27i.mps\n",
      "Reading time = 0.00 seconds\n",
      "supportcase27i: 2104 rows, 2281 columns, 5245 nonzeros\n",
      "Read MPS format model from file instances/miplib_2017_5000_paper2/neos-1445743.mps\n",
      "Reading time = 0.01 seconds\n",
      "file: 2148 rows, 20344 columns, 39685 nonzeros\n",
      "Read MPS format model from file instances/miplib_2017_5000_paper2/supportcase17.mps\n",
      "Reading time = 0.00 seconds\n",
      "supportcase17: 2108 rows, 1381 columns, 5253 nonzeros\n",
      "Read MPS format model from file instances/miplib_2017_5000_paper2/mik-250-20-75-1.mps\n",
      "Reading time = 0.00 seconds\n",
      "mik-250-20-75-1: 195 rows, 270 columns, 9270 nonzeros\n",
      "Read MPS format model from file instances/miplib_2017_5000_paper2/no-ip-64999.mps\n",
      "Reading time = 0.00 seconds\n",
      "no-ip-64999: 2547 rows, 2232 columns, 13590 nonzeros\n",
      "Read MPS format model from file instances/miplib_2017_5000_paper2/nag.mps\n",
      "Reading time = 0.01 seconds\n",
      "from_lp_file: 5840 rows, 2884 columns, 26499 nonzeros\n",
      "Read MPS format model from file instances/miplib_2017_5000_paper2/neos-5051588-culgoa.mps\n",
      "Reading time = 0.01 seconds\n",
      "neos-5051588-culgoa: 4144 rows, 3918 columns, 31728 nonzeros\n",
      "Read MPS format model from file instances/miplib_2017_5000_paper2/opt1217.mps\n",
      "Reading time = 0.00 seconds\n",
      "opt1217: 64 rows, 769 columns, 1542 nonzeros\n",
      "Read MPS format model from file instances/miplib_2017_5000_paper2/neos-1223462.mps\n",
      "Reading time = 0.01 seconds\n",
      "file: 5890 rows, 5530 columns, 47075 nonzeros\n",
      "Read MPS format model from file instances/miplib_2017_5000_paper2/r50x360.mps\n",
      "Reading time = 0.00 seconds\n",
      "r50x360: 410 rows, 720 columns, 1440 nonzeros\n",
      "Read MPS format model from file instances/miplib_2017_5000_paper2/breastcancer-regularized.mps\n",
      "Reading time = 0.00 seconds\n",
      "breastcancer-regularized: 723 rows, 715 columns, 8283 nonzeros\n",
      "Read MPS format model from file instances/miplib_2017_5000_paper2/neos-5045105-creuse.mps\n",
      "Reading time = 0.00 seconds\n",
      "neos-5045105-creuse: 252 rows, 3848 columns, 23108 nonzeros\n",
      "Read MPS format model from file instances/miplib_2017_5000_paper2/nu120-pr12.mps\n",
      "Reading time = 0.00 seconds\n",
      "nu120-pr12: 2313 rows, 5868 columns, 17712 nonzeros\n",
      "Read MPS format model from file instances/miplib_2017_5000_paper2/neos-1516309.mps\n",
      "Reading time = 0.01 seconds\n",
      "file: 489 rows, 4500 columns, 30400 nonzeros\n",
      "Read MPS format model from file instances/miplib_2017_5000_paper2/22433.mps\n",
      "Reading time = 0.00 seconds\n",
      "ALIGN: 198 rows, 429 columns, 3408 nonzeros\n",
      "Read MPS format model from file instances/miplib_2017_5000_paper2/neos-5192052-neckar.mps\n",
      "Reading time = 0.00 seconds\n",
      "neos-5192052-neckar: 57 rows, 180 columns, 545 nonzeros\n",
      "Read MPS format model from file instances/miplib_2017_5000_paper2/supportcase16.mps\n",
      "Reading time = 0.00 seconds\n",
      "supportcase16: 130 rows, 319 columns, 1076 nonzeros\n",
      "Read MPS format model from file instances/miplib_2017_5000_paper2/sorrell8.mps\n",
      "Reading time = 0.02 seconds\n",
      "sorrell8: 18944 rows, 2046 columns, 37888 nonzeros\n",
      "Read MPS format model from file instances/miplib_2017_5000_paper2/neos-555884.mps\n",
      "Reading time = 0.00 seconds\n",
      "neos-555884: 4331 rows, 3815 columns, 19067 nonzeros\n",
      "Read MPS format model from file instances/miplib_2017_5000_paper2/gen-ip054.mps\n",
      "Reading time = 0.00 seconds\n",
      "gen-ip054: 27 rows, 30 columns, 532 nonzeros\n",
      "Read MPS format model from file instances/miplib_2017_5000_paper2/timtab1.mps\n",
      "Reading time = 0.00 seconds\n",
      "timtab1: 171 rows, 397 columns, 829 nonzeros\n",
      "Read MPS format model from file instances/miplib_2017_5000_paper2/neos-3682128-sandon.mps\n",
      "Reading time = 0.01 seconds\n",
      "neos-3682128-sandon: 14920 rows, 7880 columns, 50438 nonzeros\n",
      "Read MPS format model from file instances/miplib_2017_5000_paper2/aligninq.mps\n",
      "Reading time = 0.00 seconds\n",
      "aligninq: 340 rows, 1831 columns, 15734 nonzeros\n",
      "Read MPS format model from file instances/miplib_2017_5000_paper2/supportcase20.mps\n",
      "Reading time = 0.01 seconds\n",
      "supportcase20: 903 rows, 903 columns, 46955 nonzeros\n",
      "Read MPS format model from file instances/miplib_2017_5000_paper2/neos-3734794-moppy.mps\n",
      "Reading time = 0.00 seconds\n",
      "neos-3734794-moppy: 4317 rows, 4418 columns, 24894 nonzeros\n",
      "Read MPS format model from file instances/miplib_2017_5000_paper2/neos-3665875-lesum.mps\n",
      "Reading time = 0.00 seconds\n",
      "neos-3665875-lesum: 3184 rows, 3128 columns, 10640 nonzeros\n",
      "Read MPS format model from file instances/miplib_2017_5000_paper2/gsvm2rl3.mps\n",
      "Reading time = 0.00 seconds\n",
      "gsvm2rl3: 180 rows, 241 columns, 4020 nonzeros\n",
      "Read MPS format model from file instances/miplib_2017_5000_paper2/neos-631517.mps\n",
      "Reading time = 0.00 seconds\n",
      "neos-631517: 351 rows, 1090 columns, 2743 nonzeros\n",
      "Read MPS format model from file instances/miplib_2017_5000_paper2/ej.mps\n",
      "Reading time = 0.00 seconds\n",
      "ej: 1 rows, 3 columns, 3 nonzeros\n",
      "Warning: more than one unconstrained row,\n",
      "         using the first one as the objective.\n",
      "Read MPS format model from file instances/miplib_2017_5000_paper2/dsbmip.mps\n",
      "Reading time = 0.00 seconds\n",
      "dsbmip: 1182 rows, 1937 columns, 7417 nonzeros\n",
      "Read MPS format model from file instances/miplib_2017_5000_paper2/gen-ip036.mps\n",
      "Reading time = 0.00 seconds\n",
      "gen-ip036: 46 rows, 29 columns, 1303 nonzeros\n",
      "Read MPS format model from file instances/miplib_2017_5000_paper2/misc05inf.mps\n",
      "Reading time = 0.00 seconds\n",
      "misc05inf: 301 rows, 136 columns, 2946 nonzeros\n",
      "Read MPS format model from file instances/miplib_2017_5000_paper2/nsrand-ipx.mps\n",
      "Reading time = 0.02 seconds\n",
      "nsrand-ipx: 735 rows, 6621 columns, 223261 nonzeros\n",
      "Read MPS format model from file instances/miplib_2017_5000_paper2/neos-3068746-nene.mps\n",
      "Reading time = 0.01 seconds\n",
      "neos-3068746-nene: 4664 rows, 4890 columns, 29515 nonzeros\n",
      "Read MPS format model from file instances/miplib_2017_5000_paper2/gr4x6.mps\n",
      "Reading time = 0.00 seconds\n",
      "gr4x6: 34 rows, 48 columns, 96 nonzeros\n",
      "Read MPS format model from file instances/miplib_2017_5000_paper2/shiftreg1-4.mps\n",
      "Reading time = 0.01 seconds\n",
      "shiftreg1-4: 8136 rows, 10008 columns, 29976 nonzeros\n",
      "Read MPS format model from file instances/miplib_2017_5000_paper2/markshare_5_0.mps\n",
      "Reading time = 0.00 seconds\n",
      "markshare_5_0: 5 rows, 45 columns, 203 nonzeros\n",
      "Read MPS format model from file instances/miplib_2017_5000_paper2/cvs16r106-72.mps\n",
      "Reading time = 0.00 seconds\n",
      "cvs16r106-72: 3608 rows, 2848 columns, 9888 nonzeros\n",
      "Read MPS format model from file instances/miplib_2017_5000_paper2/rout.mps\n",
      "Reading time = 0.00 seconds\n",
      "rout: 291 rows, 556 columns, 2431 nonzeros\n",
      "Read MPS format model from file instances/miplib_2017_5000_paper2/maxgasflow.mps\n",
      "Reading time = 0.01 seconds\n",
      "maxgasflow: 7160 rows, 7437 columns, 19717 nonzeros\n",
      "Read MPS format model from file instances/miplib_2017_5000_paper2/n7-3.mps\n",
      "Reading time = 0.00 seconds\n",
      "n7-3: 2336 rows, 5626 columns, 22156 nonzeros\n",
      "Read MPS format model from file instances/miplib_2017_5000_paper2/neos-3083819-nubu.mps\n",
      "Reading time = 0.01 seconds\n",
      "neos-3083819-nubu: 4725 rows, 8644 columns, 24048 nonzeros\n",
      "Read MPS format model from file instances/miplib_2017_5000_paper2/neos-3661949-lesse.mps\n",
      "Reading time = 0.00 seconds\n",
      "neos-3661949-lesse: 1140 rows, 4775 columns, 15180 nonzeros\n",
      "Read MPS format model from file instances/miplib_2017_5000_paper2/neos-3610040-iskar.mps\n",
      "Reading time = 0.00 seconds\n",
      "neos-3610040-iskar: 335 rows, 430 columns, 1023 nonzeros\n",
      "Read MPS format model from file instances/miplib_2017_5000_paper2/decomp1.mps\n",
      "Reading time = 0.01 seconds\n",
      "decomp1: 8357 rows, 10735 columns, 47889 nonzeros\n",
      "Read MPS format model from file instances/miplib_2017_5000_paper2/exp-1-500-5-5.mps\n",
      "Reading time = 0.00 seconds\n",
      "exp-1-500-5-5: 550 rows, 990 columns, 1980 nonzeros\n",
      "Read MPS format model from file instances/miplib_2017_5000_paper2/nsa.mps\n",
      "Reading time = 0.00 seconds\n",
      "nsa: 1297 rows, 388 columns, 4204 nonzeros\n",
      "Read MPS format model from file instances/miplib_2017_5000_paper2/gus-sch.mps\n",
      "Reading time = 0.01 seconds\n",
      "gus-sch: 5984 rows, 5485 columns, 33145 nonzeros\n",
      "Read MPS format model from file instances/miplib_2017_5000_paper2/milo-v12-6-r2-40-1.mps\n",
      "Reading time = 0.01 seconds\n",
      "milo-v12-6-r2-40-1: 5628 rows, 2688 columns, 14604 nonzeros\n",
      "Read MPS format model from file instances/miplib_2017_5000_paper2/set3-09.mps\n",
      "Reading time = 0.00 seconds\n",
      "set3-09: 3747 rows, 4019 columns, 13747 nonzeros\n",
      "Read MPS format model from file instances/miplib_2017_5000_paper2/neos-3024952-loue.mps\n",
      "Reading time = 0.01 seconds\n",
      "neos-3024952-loue: 3705 rows, 3255 columns, 17310 nonzeros\n",
      "Read MPS format model from file instances/miplib_2017_5000_paper2/ran14x18-disj-8.mps\n",
      "Reading time = 0.00 seconds\n",
      "ran14x18-disj-8: 447 rows, 504 columns, 10277 nonzeros\n",
      "Read MPS format model from file instances/miplib_2017_5000_paper2/lectsched-4-obj.mps\n",
      "Reading time = 0.01 seconds\n",
      "lectsched-4-obj: 14163 rows, 7901 columns, 82428 nonzeros\n",
      "Read MPS format model from file instances/miplib_2017_5000_paper2/misc04inf.mps\n",
      "Reading time = 0.00 seconds\n",
      "misc04inf: 1726 rows, 4897 columns, 17253 nonzeros\n",
      "Read MPS format model from file instances/miplib_2017_5000_paper2/prod2.mps\n",
      "Reading time = 0.00 seconds\n",
      "prod2: 211 rows, 301 columns, 10501 nonzeros\n",
      "Read MPS format model from file instances/miplib_2017_5000_paper2/lotsize.mps\n",
      "Reading time = 0.00 seconds\n",
      "lotsize: 1920 rows, 2985 columns, 6565 nonzeros\n",
      "Read MPS format model from file instances/miplib_2017_5000_paper2/nh97_potential.mps\n",
      "Reading time = 0.00 seconds\n",
      "nh97_potential: 1916 rows, 1180 columns, 5748 nonzeros\n",
      "Read MPS format model from file instances/miplib_2017_5000_paper2/neos4.mps\n",
      "Reading time = 0.02 seconds\n",
      "neos4: 38577 rows, 22884 columns, 99930 nonzeros\n",
      "Read MPS format model from file instances/miplib_2017_5000_paper2/mitre.mps\n",
      "Reading time = 0.01 seconds\n",
      "MITRE: 2054 rows, 10724 columns, 39704 nonzeros\n",
      "Read MPS format model from file instances/miplib_2017_5000_paper2/stein9inf.mps\n",
      "Reading time = 0.00 seconds\n",
      "stein9inf: 14 rows, 9 columns, 54 nonzeros\n",
      "Read MPS format model from file instances/miplib_2017_5000_paper2/ger50-17-ptp-pop-6t.mps\n",
      "Reading time = 0.00 seconds\n",
      "ger50-17-ptp-pop-6t: 545 rows, 4892 columns, 14285 nonzeros\n",
      "Read MPS format model from file instances/miplib_2017_5000_paper2/beavma.mps\n",
      "Reading time = 0.00 seconds\n",
      "beavma: 372 rows, 390 columns, 975 nonzeros\n",
      "Read MPS format model from file instances/miplib_2017_5000_paper2/nh97_tension.mps\n",
      "Reading time = 0.00 seconds\n",
      "nh97_tension: 737 rows, 1576 columns, 5264 nonzeros\n",
      "Read MPS format model from file instances/miplib_2017_5000_paper2/neos-4387871-tavua.mps\n",
      "Reading time = 0.00 seconds\n",
      "neos-4387871-tavua: 4554 rows, 4004 columns, 23496 nonzeros\n",
      "Read MPS format model from file instances/miplib_2017_5000_paper2/ns1830653.mps\n",
      "Reading time = 0.01 seconds\n",
      "ns1830653: 2932 rows, 1629 columns, 100933 nonzeros\n",
      "Read MPS format model from file instances/miplib_2017_5000_paper2/nexp-50-20-4-2.mps\n",
      "Reading time = 0.00 seconds\n",
      "nexp-50-20-4-2: 540 rows, 1225 columns, 2695 nonzeros\n",
      "Read MPS format model from file instances/miplib_2017_5000_paper2/neos-3660371-kurow.mps\n",
      "Reading time = 0.00 seconds\n",
      "neos-3660371-kurow: 4758 rows, 4722 columns, 12912 nonzeros\n",
      "Read MPS format model from file instances/miplib_2017_5000_paper2/neos-5140963-mincio.mps\n",
      "Reading time = 0.00 seconds\n",
      "neos-5140963-mincio: 184 rows, 196 columns, 834 nonzeros\n",
      "Read MPS format model from file instances/miplib_2017_5000_paper2/gen.mps\n",
      "Reading time = 0.00 seconds\n",
      "GEN: 780 rows, 870 columns, 2592 nonzeros\n",
      "Read MPS format model from file instances/miplib_2017_5000_paper2/probportfolio.mps\n",
      "Reading time = 0.00 seconds\n",
      "probportfolio: 302 rows, 320 columns, 6620 nonzeros\n",
      "Read MPS format model from file instances/miplib_2017_5000_paper2/neos5.mps\n",
      "Reading time = 0.00 seconds\n",
      "neos5: 63 rows, 63 columns, 2016 nonzeros\n",
      "Read MPS format model from file instances/miplib_2017_5000_paper2/dell.mps\n",
      "Reading time = 0.00 seconds\n",
      "dell: 500 rows, 626 columns, 4580 nonzeros\n",
      "Read MPS format model from file instances/miplib_2017_5000_paper2/cvs08r139-94.mps\n",
      "Reading time = 0.00 seconds\n",
      "cvs08r139-94: 2398 rows, 1864 columns, 6456 nonzeros\n",
      "Read MPS format model from file instances/miplib_2017_5000_paper2/neos-3083784-nive.mps\n",
      "Reading time = 0.00 seconds\n",
      "neos-3083784-nive: 2836 rows, 4779 columns, 12123 nonzeros\n",
      "Read MPS format model from file instances/miplib_2017_5000_paper2/sp98ir.mps\n",
      "Reading time = 0.01 seconds\n",
      "sp98ir: 1531 rows, 1680 columns, 71704 nonzeros\n",
      "Read MPS format model from file instances/miplib_2017_5000_paper2/mc11.mps\n",
      "Reading time = 0.00 seconds\n",
      "mc11: 1920 rows, 3040 columns, 6080 nonzeros\n",
      "Read MPS format model from file instances/miplib_2017_5000_paper2/neos2.mps\n",
      "Reading time = 0.00 seconds\n",
      "neos2: 1103 rows, 2101 columns, 7326 nonzeros\n",
      "Read MPS format model from file instances/miplib_2017_5000_paper2/neos-3627168-kasai.mps\n",
      "Reading time = 0.00 seconds\n",
      "neos-3627168-kasai: 1655 rows, 1462 columns, 5158 nonzeros\n",
      "Read MPS format model from file instances/miplib_2017_5000_paper2/icir97_tension.mps\n",
      "Reading time = 0.00 seconds\n",
      "icir97_tension: 1203 rows, 2494 columns, 22333 nonzeros\n",
      "Read MPS format model from file instances/miplib_2017_5000_paper2/app3.mps\n",
      "Reading time = 0.00 seconds\n",
      "app3: 766 rows, 3080 columns, 14707 nonzeros\n",
      "Read MPS format model from file instances/miplib_2017_5000_paper2/wachplan.mps\n",
      "Reading time = 0.01 seconds\n",
      "wachplan: 1553 rows, 3361 columns, 89361 nonzeros\n",
      "Read MPS format model from file instances/miplib_2017_5000_paper2/bppc6-06.mps\n",
      "Reading time = 0.02 seconds\n",
      "bppc6-06: 273 rows, 3922 columns, 181510 nonzeros\n",
      "Read MPS format model from file instances/miplib_2017_5000_paper2/neos-3530905-gaula.mps\n",
      "Reading time = 0.00 seconds\n",
      "neos-3530905-gaula: 200 rows, 2090 columns, 3990 nonzeros\n",
      "Read MPS format model from file instances/miplib_2017_5000_paper2/uct-subprob.mps\n",
      "Reading time = 0.00 seconds\n",
      "uct-subprob: 1973 rows, 2256 columns, 10147 nonzeros\n",
      "Read MPS format model from file instances/miplib_2017_5000_paper2/control20-5-10-5.mps\n",
      "Reading time = 0.00 seconds\n",
      "control20-5-10-5: 2430 rows, 1310 columns, 15510 nonzeros\n",
      "Read MPS format model from file instances/miplib_2017_5000_paper2/mkc.mps\n",
      "Reading time = 0.01 seconds\n",
      ": 3411 rows, 5325 columns, 17038 nonzeros\n",
      "Read MPS format model from file instances/miplib_2017_5000_paper2/icir97_potential.mps\n",
      "Reading time = 0.00 seconds\n",
      "icir97_potential: 3314 rows, 2112 columns, 9942 nonzeros\n",
      "Read MPS format model from file instances/miplib_2017_5000_paper2/chromaticindex32-8.mps\n",
      "Reading time = 0.00 seconds\n",
      "chromaticindex32-8: 2111 rows, 2304 columns, 8436 nonzeros\n",
      "Read MPS format model from file instances/miplib_2017_5000_paper2/neos-3216931-puriri.mps\n",
      "Reading time = 0.01 seconds\n",
      "neos-3216931-puriri: 5989 rows, 3555 columns, 91691 nonzeros\n",
      "Read MPS format model from file instances/miplib_2017_5000_paper2/neos-5075914-elvire.mps\n",
      "Reading time = 0.00 seconds\n",
      "neos-5075914-elvire: 3720 rows, 5003 columns, 11440 nonzeros\n",
      "Read MPS format model from file instances/miplib_2017_5000_paper2/neos-686190.mps\n",
      "Reading time = 0.00 seconds\n",
      "neos-686190: 3664 rows, 3660 columns, 18085 nonzeros\n",
      "Read MPS format model from file instances/miplib_2017_5000_paper2/pg.mps\n",
      "Reading time = 0.00 seconds\n",
      "pg: 125 rows, 2700 columns, 5200 nonzeros\n",
      "Read MPS format model from file instances/miplib_2017_5000_paper2/neos-595904.mps\n",
      "Reading time = 0.00 seconds\n",
      "neos-595904: 2452 rows, 4508 columns, 22364 nonzeros\n",
      "Warning: more than one unconstrained row,\n",
      "         using the first one as the objective.\n",
      "Read MPS format model from file instances/miplib_2017_5000_paper2/mad.mps\n",
      "Reading time = 0.00 seconds\n",
      "mad: 51 rows, 220 columns, 2808 nonzeros\n",
      "Read MPS format model from file instances/miplib_2017_5000_paper2/bienst1.mps\n",
      "Reading time = 0.00 seconds\n",
      "bienst1: 576 rows, 505 columns, 2184 nonzeros\n",
      "Read MPS format model from file instances/miplib_2017_5000_paper2/n13-3.mps\n",
      "Reading time = 0.00 seconds\n",
      "n13-3: 1723 rows, 3472 columns, 13516 nonzeros\n",
      "Read MPS format model from file instances/miplib_2017_5000_paper2/set3-16.mps\n",
      "Reading time = 0.00 seconds\n",
      "set3-16: 3747 rows, 4019 columns, 13747 nonzeros\n",
      "Read MPS format model from file instances/miplib_2017_5000_paper2/neos-2624317-amur.mps\n",
      "Reading time = 0.00 seconds\n",
      "neos-2624317-amur: 342 rows, 524 columns, 1690 nonzeros\n",
      "Read MPS format model from file instances/miplib_2017_5000_paper2/radiationm18-12-05.mps\n",
      "Reading time = 0.03 seconds\n",
      "radiationm18-12-05: 40935 rows, 40623 columns, 96149 nonzeros\n",
      "Read MPS format model from file instances/miplib_2017_5000_paper2/set3-20.mps\n",
      "Reading time = 0.00 seconds\n",
      "set3-20: 3747 rows, 4019 columns, 13747 nonzeros\n",
      "Read MPS format model from file instances/miplib_2017_5000_paper2/blp-ir98.mps\n",
      "Reading time = 0.02 seconds\n",
      "blp-ir98: 486 rows, 6097 columns, 79152 nonzeros\n",
      "Read MPS format model from file instances/miplib_2017_5000_paper2/fhnw-sq2.mps\n",
      "Reading time = 0.00 seconds\n",
      "fhnw-sq2: 91 rows, 650 columns, 1968 nonzeros\n",
      "Read MPS format model from file instances/miplib_2017_5000_paper2/neos-3214367-sovi.mps\n",
      "Reading time = 0.01 seconds\n",
      "neos-3214367-sovi: 7244 rows, 4318 columns, 93911 nonzeros\n",
      "Read MPS format model from file instances/miplib_2017_5000_paper2/neos-2656603-coxs.mps\n",
      "Reading time = 0.00 seconds\n",
      "neos-2656603-coxs: 342 rows, 524 columns, 1690 nonzeros\n",
      "Read MPS format model from file instances/miplib_2017_5000_paper2/pigeon-13.mps\n",
      "Reading time = 0.00 seconds\n",
      "pigeon-13: 1561 rows, 754 columns, 13871 nonzeros\n",
      "Read MPS format model from file instances/miplib_2017_5000_paper2/p0201.mps\n",
      "Reading time = 0.00 seconds\n",
      "P0201: 133 rows, 201 columns, 1923 nonzeros\n",
      "Read MPS format model from file instances/miplib_2017_5000_paper2/shipschedule3shipsi.mps\n",
      "Reading time = 0.01 seconds\n",
      "shipschedule3shipsi: 10431 rows, 7365 columns, 24497 nonzeros\n",
      "Read MPS format model from file instances/miplib_2017_5000_paper2/cap6000.mps\n",
      "Reading time = 0.01 seconds\n",
      ": 2176 rows, 6000 columns, 48243 nonzeros\n",
      "Read MPS format model from file instances/miplib_2017_5000_paper2/queens-30.mps\n",
      "Reading time = 0.01 seconds\n",
      "queens-30: 960 rows, 900 columns, 93440 nonzeros\n",
      "Read MPS format model from file instances/miplib_2017_5000_paper2/milo-v13-4-3d-3-0.mps\n",
      "Reading time = 0.00 seconds\n",
      "milo-v13-4-3d-3-0: 996 rows, 516 columns, 2456 nonzeros\n",
      "Read MPS format model from file instances/miplib_2017_5000_paper2/fhnw-sq3.mps\n",
      "Reading time = 0.00 seconds\n",
      "fhnw-sq3: 167 rows, 2450 columns, 7372 nonzeros\n",
      "Read MPS format model from file instances/miplib_2017_5000_paper2/piperout-03.mps\n",
      "Reading time = 0.01 seconds\n",
      "piperout-03: 12246 rows, 9526 columns, 39067 nonzeros\n",
      "Read MPS format model from file instances/miplib_2017_5000_paper2/neos-3611689-kaihu.mps\n",
      "Reading time = 0.00 seconds\n",
      "neos-3611689-kaihu: 323 rows, 421 columns, 1014 nonzeros\n",
      "Read MPS format model from file instances/miplib_2017_5000_paper2/neos-831188.mps\n",
      "Reading time = 0.00 seconds\n",
      "neos-831188: 2185 rows, 4612 columns, 11256 nonzeros\n",
      "Read MPS format model from file instances/miplib_2017_5000_paper2/neos-5182409-nasivi.mps\n",
      "Reading time = 0.00 seconds\n",
      "neos-5182409-nasivi: 580 rows, 2005 columns, 14884 nonzeros\n",
      "Read MPS format model from file instances/miplib_2017_5000_paper2/khb05250.mps\n",
      "Reading time = 0.00 seconds\n",
      "khb05250: 101 rows, 1350 columns, 2700 nonzeros\n",
      "Read MPS format model from file instances/miplib_2017_5000_paper2/ran12x21.mps\n",
      "Reading time = 0.00 seconds\n",
      "ran12x21: 285 rows, 504 columns, 1008 nonzeros\n",
      "Read MPS format model from file instances/miplib_2017_5000_paper2/neos-933562.mps\n",
      "Reading time = 0.00 seconds\n",
      "neos-933562: 3200 rows, 3032 columns, 28800 nonzeros\n",
      "Read MPS format model from file instances/miplib_2017_5000_paper2/pw-myciel4.mps\n",
      "Reading time = 0.01 seconds\n",
      "pw-myciel4: 8164 rows, 1059 columns, 17779 nonzeros\n",
      "Read MPS format model from file instances/miplib_2017_5000_paper2/markshare1.mps\n",
      "Reading time = 0.00 seconds\n",
      ": 6 rows, 62 columns, 312 nonzeros\n",
      "Read MPS format model from file instances/miplib_2017_5000_paper2/neos-1605061.mps\n",
      "Reading time = 0.01 seconds\n",
      "neos-1605061: 3474 rows, 4111 columns, 93483 nonzeros\n",
      "Read MPS format model from file instances/miplib_2017_5000_paper2/set3-10.mps\n",
      "Reading time = 0.00 seconds\n",
      "set3-10: 3747 rows, 4019 columns, 13747 nonzeros\n",
      "Read MPS format model from file instances/miplib_2017_5000_paper2/30n20b8.mps\n",
      "Reading time = 0.02 seconds\n",
      "30n20b8: 576 rows, 18380 columns, 109706 nonzeros\n",
      "Read MPS format model from file instances/miplib_2017_5000_paper2/traininstance2.mps\n",
      "Reading time = 0.01 seconds\n",
      "traininstance2: 15603 rows, 12890 columns, 41531 nonzeros\n",
      "Read MPS format model from file instances/miplib_2017_5000_paper2/control30-5-10-4.mps\n",
      "Reading time = 0.01 seconds\n",
      "control30-5-10-4: 3640 rows, 1960 columns, 23260 nonzeros\n",
      "Read MPS format model from file instances/miplib_2017_5000_paper2/neos-3211096-shag.mps\n",
      "Reading time = 0.01 seconds\n",
      "neos-3211096-shag: 10187 rows, 4379 columns, 31705 nonzeros\n",
      "Read MPS format model from file instances/miplib_2017_5000_paper2/neos-480878.mps\n",
      "Reading time = 0.01 seconds\n",
      "neos-480878: 1321 rows, 534 columns, 44370 nonzeros\n",
      "Read MPS format model from file instances/miplib_2017_5000_paper2/neos18.mps\n",
      "Reading time = 0.01 seconds\n",
      "NEOS18: 11402 rows, 3312 columns, 24614 nonzeros\n",
      "Read MPS format model from file instances/miplib_2017_5000_paper2/bppc8-02.mps\n",
      "Reading time = 0.00 seconds\n",
      "bppc8-02: 59 rows, 232 columns, 4387 nonzeros\n",
      "Read MPS format model from file instances/miplib_2017_5000_paper2/neos-1430701.mps\n",
      "Reading time = 0.00 seconds\n",
      "neos-1430701: 668 rows, 312 columns, 2868 nonzeros\n",
      "Read MPS format model from file instances/miplib_2017_5000_paper2/qap10.mps\n",
      "Reading time = 0.00 seconds\n",
      "qap10: 1820 rows, 4150 columns, 18200 nonzeros\n",
      "Read MPS format model from file instances/miplib_2017_5000_paper2/neos-1330346.mps\n",
      "Reading time = 0.00 seconds\n",
      "neos-1330346: 4248 rows, 2664 columns, 13032 nonzeros\n",
      "Read MPS format model from file instances/miplib_2017_5000_paper2/fillomino7x7-0i.mps\n",
      "Reading time = 0.01 seconds\n",
      "fillomino7x7-0i: 5286 rows, 6761 columns, 17540 nonzeros\n",
      "Read MPS format model from file instances/miplib_2017_5000_paper2/n6-3.mps\n",
      "Reading time = 0.01 seconds\n",
      "n6-3: 2760 rows, 7178 columns, 28268 nonzeros\n",
      "Read MPS format model from file instances/miplib_2017_5000_paper2/neos-1420790.mps\n",
      "Reading time = 0.00 seconds\n",
      "file: 2310 rows, 4926 columns, 12720 nonzeros\n",
      "Read MPS format model from file instances/miplib_2017_5000_paper2/eil33-2.mps\n",
      "Reading time = 0.01 seconds\n",
      "eil33-2: 32 rows, 4516 columns, 44243 nonzeros\n",
      "Read MPS format model from file instances/miplib_2017_5000_paper2/supportcase30.mps\n",
      "Reading time = 0.00 seconds\n",
      "supportcase30: 1028 rows, 1024 columns, 12288 nonzeros\n",
      "Read MPS format model from file instances/miplib_2017_5000_paper2/neos16.mps\n",
      "Reading time = 0.00 seconds\n",
      "neos16: 1018 rows, 377 columns, 2801 nonzeros\n",
      "Read MPS format model from file instances/miplib_2017_5000_paper2/markshare_4_0.mps\n",
      "Reading time = 0.00 seconds\n",
      "markshare_4_0: 4 rows, 34 columns, 123 nonzeros\n",
      "Read MPS format model from file instances/miplib_2017_5000_paper2/rlp1.mps\n",
      "Reading time = 0.00 seconds\n",
      "rlp1: 68 rows, 461 columns, 836 nonzeros\n",
      "Read MPS format model from file instances/miplib_2017_5000_paper2/neos-911970.mps\n",
      "Reading time = 0.00 seconds\n",
      "neos-911970: 107 rows, 888 columns, 3408 nonzeros\n",
      "Read MPS format model from file instances/miplib_2017_5000_paper2/bppc4-08.mps\n",
      "Reading time = 0.00 seconds\n",
      "bppc4-08: 111 rows, 1456 columns, 23964 nonzeros\n",
      "Read MPS format model from file instances/miplib_2017_5000_paper2/neos-1112782.mps\n",
      "Reading time = 0.00 seconds\n",
      "neos-1112782: 2115 rows, 4140 columns, 8145 nonzeros\n",
      "Read MPS format model from file instances/miplib_2017_5000_paper2/neos-555001.mps\n",
      "Reading time = 0.00 seconds\n",
      "neos-555001: 3474 rows, 3855 columns, 16649 nonzeros\n",
      "Read MPS format model from file instances/miplib_2017_5000_paper2/railway_8_1_0.mps\n",
      "Reading time = 0.00 seconds\n",
      "railway_8_1_0: 2527 rows, 1796 columns, 7098 nonzeros\n",
      "Read MPS format model from file instances/miplib_2017_5000_paper2/reblock115.mps\n",
      "Reading time = 0.01 seconds\n",
      "reblock115: 4735 rows, 1150 columns, 13724 nonzeros\n",
      "Read MPS format model from file instances/miplib_2017_5000_paper2/neos-4650160-yukon.mps\n",
      "Reading time = 0.00 seconds\n",
      "neos-4650160-yukon: 1969 rows, 1412 columns, 6416 nonzeros\n",
      "Read MPS format model from file instances/miplib_2017_5000_paper2/dcmulti.mps\n",
      "Reading time = 0.00 seconds\n",
      "dcmulti: 290 rows, 548 columns, 1315 nonzeros\n",
      "Read MPS format model from file instances/miplib_2017_5000_paper2/arki001.mps\n",
      "Reading time = 0.00 seconds\n",
      "arki001: 1048 rows, 1388 columns, 20439 nonzeros\n",
      "Read MPS format model from file instances/miplib_2017_5000_paper2/no-ip-65059.mps\n",
      "Reading time = 0.00 seconds\n",
      "no-ip-65059: 2547 rows, 2232 columns, 13590 nonzeros\n",
      "Read MPS format model from file instances/miplib_2017_5000_paper2/enlight_hard.mps\n",
      "Reading time = 0.00 seconds\n",
      "enlight_hard: 100 rows, 200 columns, 560 nonzeros\n",
      "Read MPS format model from file instances/miplib_2017_5000_paper2/seymour.mps\n",
      "Reading time = 0.00 seconds\n",
      "seymour: 4944 rows, 1372 columns, 33549 nonzeros\n",
      "Read MPS format model from file instances/miplib_2017_5000_paper2/gen-ip021.mps\n",
      "Reading time = 0.00 seconds\n",
      "gen-ip021: 28 rows, 35 columns, 945 nonzeros\n",
      "Read MPS format model from file instances/miplib_2017_5000_paper2/neos17.mps\n",
      "Reading time = 0.01 seconds\n",
      "neos17: 486 rows, 535 columns, 4931 nonzeros\n",
      "Read MPS format model from file instances/miplib_2017_5000_paper2/h80x6320.mps\n",
      "Reading time = 0.00 seconds\n",
      "h80x6320: 79 rows, 12640 columns, 6320 nonzeros\n",
      "Read MPS format model from file instances/miplib_2017_5000_paper2/neos-1445765.mps\n",
      "Reading time = 0.01 seconds\n",
      "file: 2147 rows, 20617 columns, 40230 nonzeros\n",
      "Read MPS format model from file instances/miplib_2017_5000_paper2/supportcase4.mps\n",
      "Reading time = 0.01 seconds\n",
      "supportcase4: 9492 rows, 3162 columns, 38036 nonzeros\n",
      "Read MPS format model from file instances/miplib_2017_5000_paper2/mas76.mps\n",
      "Reading time = 0.00 seconds\n",
      "mas76: 12 rows, 151 columns, 1640 nonzeros\n",
      "Read MPS format model from file instances/miplib_2017_5000_paper2/fhnw-binpack4-18.mps\n",
      "Reading time = 0.00 seconds\n",
      "fhnw-binpack4-18: 650 rows, 520 columns, 2392 nonzeros\n",
      "Read MPS format model from file instances/miplib_2017_5000_paper2/toll-like.mps\n",
      "Reading time = 0.00 seconds\n",
      "toll-like: 4408 rows, 2883 columns, 13224 nonzeros\n",
      "Read MPS format model from file instances/miplib_2017_5000_paper2/fiber.mps\n",
      "Reading time = 0.00 seconds\n",
      "fiber: 363 rows, 1298 columns, 2944 nonzeros\n",
      "Read MPS format model from file instances/miplib_2017_5000_paper2/neos-3048764-nadi.mps\n",
      "Reading time = 0.01 seconds\n",
      "neos-3048764-nadi: 3186 rows, 12360 columns, 21867 nonzeros\n",
      "Read MPS format model from file instances/miplib_2017_5000_paper2/ic97_potential.mps\n",
      "Reading time = 0.00 seconds\n",
      "ic97_potential: 1046 rows, 728 columns, 3138 nonzeros\n",
      "Read MPS format model from file instances/miplib_2017_5000_paper2/neos-1445532.mps\n",
      "Reading time = 0.01 seconds\n",
      "file: 1924 rows, 14406 columns, 27736 nonzeros\n",
      "Read MPS format model from file instances/miplib_2017_5000_paper2/neos-1445738.mps\n",
      "Reading time = 0.01 seconds\n",
      "file: 2145 rows, 20631 columns, 40256 nonzeros\n",
      "Read MPS format model from file instances/miplib_2017_5000_paper2/sct2.mps\n",
      "Reading time = 0.00 seconds\n",
      "sct2: 2151 rows, 5885 columns, 23643 nonzeros\n",
      "Read MPS format model from file instances/miplib_2017_5000_paper2/ramos3.mps\n",
      "Reading time = 0.01 seconds\n",
      "from_lp_file: 2187 rows, 2187 columns, 32805 nonzeros\n",
      "Read MPS format model from file instances/miplib_2017_5000_paper2/app2-1.mps\n",
      "Reading time = 0.00 seconds\n",
      "app2-1: 1038 rows, 3283 columns, 8652 nonzeros\n",
      "Read MPS format model from file instances/miplib_2017_5000_paper2/50v-10.mps\n",
      "Reading time = 0.00 seconds\n",
      "50v-10: 233 rows, 2013 columns, 2745 nonzeros\n",
      "Read MPS format model from file instances/miplib_2017_5000_paper2/neos-2626858-aoos.mps\n",
      "Reading time = 0.00 seconds\n",
      "neos-2626858-aoos: 342 rows, 524 columns, 1690 nonzeros\n",
      "Read MPS format model from file instances/miplib_2017_5000_paper2/ponderthis0517-inf.mps\n",
      "Reading time = 0.00 seconds\n",
      "ponderthis0517-inf: 78 rows, 975 columns, 2925 nonzeros\n",
      "Read MPS format model from file instances/miplib_2017_5000_paper2/roll3000.mps\n",
      "Reading time = 0.00 seconds\n",
      "roll3000: 2295 rows, 1166 columns, 29386 nonzeros\n",
      "Read MPS format model from file instances/miplib_2017_5000_paper2/g200x740.mps\n",
      "Reading time = 0.00 seconds\n",
      "g200x740: 940 rows, 1480 columns, 2960 nonzeros\n",
      "Read MPS format model from file instances/miplib_2017_5000_paper2/binkar10_1.mps\n",
      "Reading time = 0.00 seconds\n",
      "binkar10_1: 1026 rows, 2298 columns, 4496 nonzeros\n",
      "Read MPS format model from file instances/miplib_2017_5000_paper2/danoint.mps\n",
      "Reading time = 0.00 seconds\n",
      "danoint: 664 rows, 521 columns, 3232 nonzeros\n",
      "Read MPS format model from file instances/miplib_2017_5000_paper2/gen-ip016.mps\n",
      "Reading time = 0.00 seconds\n",
      "gen-ip016: 24 rows, 28 columns, 672 nonzeros\n",
      "Read MPS format model from file instances/miplib_2017_5000_paper2/cvrpsimple2i.mps\n",
      "Reading time = 0.00 seconds\n",
      "cvrpsimple2i: 1307 rows, 1308 columns, 4726 nonzeros\n",
      "Read MPS format model from file instances/miplib_2017_5000_paper2/neos-3373491-avoca.mps\n",
      "Reading time = 0.00 seconds\n",
      "neos-3373491-avoca: 1570 rows, 2368 columns, 9438 nonzeros\n",
      "Read MPS format model from file instances/miplib_2017_5000_paper2/mod008inf.mps\n",
      "Reading time = 0.00 seconds\n",
      "mod008inf: 7 rows, 319 columns, 1562 nonzeros\n",
      "Read MPS format model from file instances/miplib_2017_5000_paper2/tr12-30.mps\n",
      "Reading time = 0.00 seconds\n",
      "tr12-30: 750 rows, 1080 columns, 2508 nonzeros\n",
      "Read MPS format model from file instances/miplib_2017_5000_paper2/neos-3592146-hawea.mps\n",
      "Reading time = 0.00 seconds\n",
      "neos-3592146-hawea: 995 rows, 4870 columns, 13880 nonzeros\n",
      "Read MPS format model from file instances/miplib_2017_5000_paper2/milo-v13-4-3d-4-0.mps\n",
      "Reading time = 0.00 seconds\n",
      "milo-v13-4-3d-4-0: 1328 rows, 688 columns, 3292 nonzeros\n",
      "Read MPS format model from file instances/miplib_2017_5000_paper2/neos-3075395-nile.mps\n",
      "Reading time = 0.02 seconds\n",
      "neos-3075395-nile: 27756 rows, 26928 columns, 102672 nonzeros\n",
      "Read MPS format model from file instances/miplib_2017_5000_paper2/haprp.mps\n",
      "Reading time = 0.00 seconds\n",
      "haprp: 1048 rows, 1828 columns, 3628 nonzeros\n",
      "Read MPS format model from file instances/miplib_2017_5000_paper2/gen-ip002.mps\n",
      "Reading time = 0.00 seconds\n",
      "gen-ip002: 24 rows, 41 columns, 922 nonzeros\n",
      "Read MPS format model from file instances/miplib_2017_5000_paper2/supportcase25.mps\n",
      "Reading time = 0.01 seconds\n",
      "supportcase25: 6673 rows, 6769 columns, 22825 nonzeros\n",
      "Read MPS format model from file instances/miplib_2017_5000_paper2/mkc1.mps\n",
      "Reading time = 0.00 seconds\n",
      "mkc1: 3411 rows, 5325 columns, 17038 nonzeros\n",
      "Read MPS format model from file instances/miplib_2017_5000_paper2/neos-1599274.mps\n",
      "Reading time = 0.01 seconds\n",
      "neos-1599274: 1237 rows, 4500 columns, 46800 nonzeros\n",
      "Read MPS format model from file instances/miplib_2017_5000_paper2/neos-585467.mps\n",
      "Reading time = 0.01 seconds\n",
      "neos-585467: 2166 rows, 2116 columns, 50058 nonzeros\n",
      "Read MPS format model from file instances/miplib_2017_5000_paper2/acc-tight2.mps\n",
      "Reading time = 0.00 seconds\n",
      "acc-tight2: 2520 rows, 1620 columns, 15327 nonzeros\n",
      "Read MPS format model from file instances/miplib_2017_5000_paper2/neos-555424.mps\n",
      "Reading time = 0.00 seconds\n",
      "file: 2676 rows, 3815 columns, 15667 nonzeros\n",
      "Read MPS format model from file instances/miplib_2017_5000_paper2/acc-tight5.mps\n",
      "Reading time = 0.00 seconds\n",
      "acc-tight5: 3052 rows, 1339 columns, 16134 nonzeros\n",
      "Read MPS format model from file instances/miplib_2017_5000_paper2/d20200.mps\n",
      "Reading time = 0.02 seconds\n",
      "d20200.lp: 1502 rows, 4000 columns, 189389 nonzeros\n",
      "Read MPS format model from file instances/miplib_2017_5000_paper2/neos-3530903-gauja.mps\n",
      "Reading time = 0.00 seconds\n",
      "neos-3530903-gauja: 220 rows, 2310 columns, 4410 nonzeros\n",
      "Read MPS format model from file instances/miplib_2017_5000_paper2/neos-5261882-treska.mps\n",
      "Reading time = 0.00 seconds\n",
      "neos-5261882-treska: 2971 rows, 2900 columns, 19342 nonzeros\n",
      "Read MPS format model from file instances/miplib_2017_5000_paper2/gt2.mps\n",
      "Reading time = 0.00 seconds\n",
      "gt2: 29 rows, 188 columns, 376 nonzeros\n",
      "Read MPS format model from file instances/miplib_2017_5000_paper2/supportcase14.mps\n",
      "Reading time = 0.00 seconds\n",
      "supportcase14: 234 rows, 304 columns, 1129 nonzeros\n",
      "Read MPS format model from file instances/miplib_2017_5000_paper2/bnatt400.mps\n",
      "Reading time = 0.01 seconds\n",
      "bnatt400: 5614 rows, 3600 columns, 21698 nonzeros\n",
      "Read MPS format model from file instances/miplib_2017_5000_paper2/mik-250-20-75-2.mps\n",
      "Reading time = 0.00 seconds\n",
      "mik-250-20-75-2: 195 rows, 270 columns, 9270 nonzeros\n",
      "Read MPS format model from file instances/miplib_2017_5000_paper2/fhnw-binpack4-4.mps\n",
      "Reading time = 0.00 seconds\n",
      "fhnw-binpack4-4: 620 rows, 520 columns, 2332 nonzeros\n",
      "Read MPS format model from file instances/miplib_2017_5000_paper2/neos-5078479-escaut.mps\n",
      "Reading time = 0.00 seconds\n",
      "neos-5078479-escaut: 3442 rows, 3471 columns, 9062 nonzeros\n",
      "Read MPS format model from file instances/miplib_2017_5000_paper2/b2c1s1.mps\n",
      "Reading time = 0.00 seconds\n",
      "b2c1s1: 3904 rows, 3872 columns, 11408 nonzeros\n",
      "Read MPS format model from file instances/miplib_2017_5000_paper2/neos-3754480-nidda.mps\n",
      "Reading time = 0.00 seconds\n",
      "neos-3754480-nidda: 402 rows, 253 columns, 1488 nonzeros\n",
      "Read MPS format model from file instances/miplib_2017_5000_paper2/mik-250-20-75-5.mps\n",
      "Reading time = 0.00 seconds\n",
      "mik-250-20-75-5: 195 rows, 270 columns, 9270 nonzeros\n",
      "Read MPS format model from file instances/miplib_2017_5000_paper2/qiu.mps\n",
      "Reading time = 0.00 seconds\n",
      "qiu: 1192 rows, 840 columns, 3432 nonzeros\n",
      "Read MPS format model from file instances/miplib_2017_5000_paper2/aflow30a.mps\n",
      "Reading time = 0.00 seconds\n",
      ": 479 rows, 842 columns, 2091 nonzeros\n",
      "Read MPS format model from file instances/miplib_2017_5000_paper2/pg5_34.mps\n",
      "Reading time = 0.00 seconds\n",
      "pg5_34: 225 rows, 2600 columns, 7700 nonzeros\n",
      "Read MPS format model from file instances/miplib_2017_5000_paper2/noswot.mps\n",
      "Reading time = 0.00 seconds\n",
      "NOSWOT: 182 rows, 128 columns, 735 nonzeros\n",
      "Read MPS format model from file instances/miplib_2017_5000_paper2/graph20-20-1rand.mps\n",
      "Reading time = 0.01 seconds\n",
      "graph20-20-1rand: 5587 rows, 2183 columns, 19277 nonzeros\n",
      "Read MPS format model from file instances/miplib_2017_5000_paper2/control30-3-2-3.mps\n",
      "Reading time = 0.00 seconds\n",
      "control30-3-2-3: 512 rows, 332 columns, 1472 nonzeros\n",
      "Read MPS format model from file instances/miplib_2017_5000_paper2/p200x1188c.mps\n",
      "Reading time = 0.00 seconds\n",
      "p200x1188c: 1388 rows, 2376 columns, 4752 nonzeros\n",
      "Read MPS format model from file instances/miplib_2017_5000_paper2/ns2071214.mps\n",
      "Reading time = 0.01 seconds\n",
      "ns2071214: 6250 rows, 2720 columns, 21474 nonzeros\n",
      "Read MPS format model from file instances/miplib_2017_5000_paper2/xmas10.mps\n",
      "Reading time = 0.01 seconds\n",
      "xmas10: 9080 rows, 8100 columns, 43635 nonzeros\n",
      "Read MPS format model from file instances/miplib_2017_5000_paper2/fastxgemm-n2r6s0t2.mps\n",
      "Reading time = 0.01 seconds\n",
      "fastxgemm-n2r6s0t2: 5998 rows, 784 columns, 19376 nonzeros\n",
      "Read MPS format model from file instances/miplib_2017_5000_paper2/mik-250-20-75-4.mps\n",
      "Reading time = 0.00 seconds\n",
      "mik-250-20-75-4: 195 rows, 270 columns, 9270 nonzeros\n",
      "Read MPS format model from file instances/miplib_2017_5000_paper2/neos-850681.mps\n",
      "Reading time = 0.01 seconds\n",
      "neos-850681: 2067 rows, 2594 columns, 37113 nonzeros\n",
      "Read MPS format model from file instances/miplib_2017_5000_paper2/neos-4333596-skien.mps\n",
      "Reading time = 0.00 seconds\n",
      "neos-4333596-skien: 812 rows, 1005 columns, 5811 nonzeros\n",
      "Read MPS format model from file instances/miplib_2017_5000_paper2/gsvm2rl9.mps\n",
      "Reading time = 0.01 seconds\n",
      "gsvm2rl9: 600 rows, 801 columns, 41400 nonzeros\n",
      "Read MPS format model from file instances/miplib_2017_5000_paper2/pb-market-split8-70-4.mps\n",
      "Reading time = 0.00 seconds\n",
      "pb-market-split8-70-4: 17 rows, 71 columns, 1113 nonzeros\n",
      "Read MPS format model from file instances/miplib_2017_5000_paper2/mik-250-20-75-3.mps\n",
      "Reading time = 0.00 seconds\n",
      "mik-250-20-75-3: 195 rows, 270 columns, 9270 nonzeros\n",
      "Read MPS format model from file instances/miplib_2017_5000_paper2/23588.mps\n",
      "Reading time = 0.00 seconds\n",
      "23588: 137 rows, 368 columns, 3701 nonzeros\n",
      "Read MPS format model from file instances/miplib_2017_5000_paper2/acc-tight4.mps\n",
      "Reading time = 0.00 seconds\n",
      "acc-tight4: 3285 rows, 1620 columns, 17073 nonzeros\n",
      "Read MPS format model from file instances/miplib_2017_5000_paper2/b1c1s1.mps\n",
      "Reading time = 0.00 seconds\n",
      "b1c1s1: 3904 rows, 3872 columns, 11408 nonzeros\n",
      "Read MPS format model from file instances/miplib_2017_5000_paper2/b-ball.mps\n",
      "Reading time = 0.00 seconds\n",
      "b-ball: 30 rows, 100 columns, 209 nonzeros\n",
      "Read MPS format model from file instances/miplib_2017_5000_paper2/xmas10-2.mps\n",
      "Reading time = 0.01 seconds\n",
      "xmas10-2: 8184 rows, 8100 columns, 35561 nonzeros\n",
      "Read MPS format model from file instances/miplib_2017_5000_paper2/newdano.mps\n",
      "Reading time = 0.00 seconds\n",
      "newdano: 576 rows, 505 columns, 2184 nonzeros\n",
      "Read MPS format model from file instances/miplib_2017_5000_paper2/neos-4338804-snowy.mps\n",
      "Reading time = 0.00 seconds\n",
      "neos-4338804-snowy: 1701 rows, 1344 columns, 6342 nonzeros\n",
      "Read MPS format model from file instances/miplib_2017_5000_paper2/pk1.mps\n",
      "Reading time = 0.00 seconds\n",
      "PK1: 45 rows, 86 columns, 915 nonzeros\n",
      "Read MPS format model from file instances/miplib_2017_5000_paper2/prod1.mps\n",
      "Reading time = 0.00 seconds\n",
      "prod1: 208 rows, 250 columns, 5350 nonzeros\n",
      "Read MPS format model from file instances/miplib_2017_5000_paper2/dg012142.mps\n",
      "Reading time = 0.00 seconds\n",
      "dg012142: 6310 rows, 2080 columns, 14795 nonzeros\n",
      "Read MPS format model from file instances/miplib_2017_5000_paper2/neos-860300.mps\n",
      "Reading time = 0.04 seconds\n",
      "neos-860300: 850 rows, 1385 columns, 384329 nonzeros\n",
      "Read MPS format model from file instances/miplib_2017_5000_paper2/ns4-pr6.mps\n",
      "Reading time = 0.01 seconds\n",
      "ns4-pr6: 2639 rows, 6919 columns, 20868 nonzeros\n",
      "Read MPS format model from file instances/miplib_2017_5000_paper2/mc7.mps\n",
      "Reading time = 0.00 seconds\n",
      "mc7: 1920 rows, 3040 columns, 6080 nonzeros\n",
      "Read MPS format model from file instances/miplib_2017_5000_paper2/n5-3.mps\n",
      "Reading time = 0.00 seconds\n",
      "n5-3: 1062 rows, 2550 columns, 9900 nonzeros\n",
      "Read MPS format model from file instances/miplib_2017_5000_paper2/k16x240b.mps\n",
      "Reading time = 0.00 seconds\n",
      "k16x240b: 256 rows, 480 columns, 960 nonzeros\n",
      "Read MPS format model from file instances/miplib_2017_5000_paper2/berlin_5_8_0.mps\n",
      "Reading time = 0.00 seconds\n",
      "berlin_5_8_0: 1532 rows, 1083 columns, 4507 nonzeros\n",
      "Read MPS format model from file instances/miplib_2017_5000_paper2/umts.mps\n",
      "Reading time = 0.01 seconds\n",
      "umts: 4465 rows, 2947 columns, 23016 nonzeros\n",
      "Read MPS format model from file instances/miplib_2017_5000_paper2/cvs16r70-62.mps\n",
      "Reading time = 0.00 seconds\n",
      "cvs16r70-62: 3278 rows, 2112 columns, 8512 nonzeros\n",
      "Read MPS format model from file instances/miplib_2017_5000_paper2/gmu-35-50.mps\n",
      "Reading time = 0.00 seconds\n",
      "gmu-35-50: 435 rows, 1919 columns, 8643 nonzeros\n",
      "Read MPS format model from file instances/miplib_2017_5000_paper2/ger50-17-ptp-pop-3t.mps\n",
      "Reading time = 0.00 seconds\n",
      "ger50-17-ptp-pop-3t: 545 rows, 4892 columns, 14285 nonzeros\n",
      "Read MPS format model from file instances/miplib_2017_5000_paper2/neos-3072252-nete.mps\n",
      "Reading time = 0.00 seconds\n",
      "neos-3072252-nete: 432 rows, 576 columns, 1292 nonzeros\n",
      "Read MPS format model from file instances/miplib_2017_5000_paper2/bppc6-02.mps\n",
      "Reading time = 0.02 seconds\n",
      "bppc6-02: 309 rows, 4784 columns, 188143 nonzeros\n",
      "Read MPS format model from file instances/miplib_2017_5000_paper2/neos-807639.mps\n",
      "Reading time = 0.00 seconds\n",
      "neos-807639: 1541 rows, 1030 columns, 5520 nonzeros\n",
      "Read MPS format model from file instances/miplib_2017_5000_paper2/app1-1.mps\n",
      "Reading time = 0.00 seconds\n",
      "app1-1: 4926 rows, 2480 columns, 18275 nonzeros\n",
      "Read MPS format model from file instances/miplib_2017_5000_paper2/neos-4333464-siret.mps\n",
      "Reading time = 0.00 seconds\n",
      "neos-4333464-siret: 2880 rows, 2731 columns, 27710 nonzeros\n",
      "Read MPS format model from file instances/miplib_2017_5000_paper2/neos-4393408-tinui.mps\n",
      "Reading time = 0.01 seconds\n",
      "neos-4393408-tinui: 4554 rows, 4004 columns, 23496 nonzeros\n",
      "Read MPS format model from file instances/miplib_2017_5000_paper2/neos-2657525-crna.mps\n",
      "Reading time = 0.00 seconds\n",
      "neos-2657525-crna: 342 rows, 524 columns, 1690 nonzeros\n",
      "Read MPS format model from file instances/miplib_2017_5000_paper2/pigeon-08.mps\n",
      "Reading time = 0.00 seconds\n",
      "pigeon-08: 601 rows, 344 columns, 5176 nonzeros\n",
      "Read MPS format model from file instances/miplib_2017_5000_paper2/mc8.mps\n",
      "Reading time = 0.00 seconds\n",
      "mc8: 1920 rows, 3040 columns, 6080 nonzeros\n",
      "Read MPS format model from file instances/miplib_2017_5000_paper2/misc07.mps\n",
      "Reading time = 0.00 seconds\n",
      "misc07: 212 rows, 260 columns, 8619 nonzeros\n",
      "Read MPS format model from file instances/miplib_2017_5000_paper2/neos-3046615-murg.mps\n",
      "Reading time = 0.00 seconds\n",
      "neos-3046615-murg: 498 rows, 274 columns, 1266 nonzeros\n",
      "Read MPS format model from file instances/miplib_2017_5000_paper2/flugpl.mps\n",
      "Reading time = 0.00 seconds\n",
      "FLUGPL: 18 rows, 18 columns, 46 nonzeros\n",
      "Read MPS format model from file instances/miplib_2017_5000_paper2/glass4.mps\n",
      "Reading time = 0.00 seconds\n",
      "glass4: 396 rows, 322 columns, 1815 nonzeros\n",
      "Read MPS format model from file instances/miplib_2017_5000_paper2/neos859080.mps\n",
      "Reading time = 0.00 seconds\n",
      "neos859080: 164 rows, 160 columns, 1280 nonzeros\n",
      "Read MPS format model from file instances/miplib_2017_5000_paper2/csched010.mps\n",
      "Reading time = 0.00 seconds\n",
      "csched010: 351 rows, 1758 columns, 6376 nonzeros\n",
      "Read MPS format model from file instances/miplib_2017_5000_paper2/graphdraw-gemcutter.mps\n",
      "Reading time = 0.00 seconds\n",
      "graphdraw-gemcutter: 474 rows, 166 columns, 1420 nonzeros\n",
      "Read MPS format model from file instances/miplib_2017_5000_paper2/shipschedule6shipsmixi.mps\n",
      "Reading time = 0.02 seconds\n",
      "shipschedule6shipsmixi: 18307 rows, 14012 columns, 45937 nonzeros\n"
     ]
    }
   ],
   "execution_count": 6
  },
  {
   "cell_type": "code",
   "source": [
    "# check which series didn't run\n",
    "print(no_go)"
   ],
   "metadata": {
    "collapsed": false,
    "ExecuteTime": {
     "end_time": "2025-07-23T14:04:58.537503Z",
     "start_time": "2025-07-23T14:04:58.532392Z"
    }
   },
   "id": "e4302c5a43b44547",
   "outputs": [
    {
     "name": "stdout",
     "output_type": "stream",
     "text": [
      "[]\n"
     ]
    }
   ],
   "execution_count": 7
  },
  {
   "cell_type": "code",
   "source": [
    "# get the proportion of series that at least got started\n",
    "1 - (len(no_go) / count_series)"
   ],
   "metadata": {
    "collapsed": false,
    "ExecuteTime": {
     "end_time": "2025-07-23T14:04:58.715553Z",
     "start_time": "2025-07-23T14:04:58.712129Z"
    }
   },
   "id": "5c199c411fd4414c",
   "outputs": [
    {
     "data": {
      "text/plain": [
       "1.0"
      ]
     },
     "execution_count": 8,
     "metadata": {},
     "output_type": "execute_result"
    }
   ],
   "execution_count": 8
  },
  {
   "cell_type": "code",
   "source": [
    "# out of time - got hung up in code somewhere - ok\n",
    "print(err[\"walltime\"])\n",
    "len(err[\"walltime\"]) / count_series"
   ],
   "metadata": {
    "collapsed": false,
    "ExecuteTime": {
     "end_time": "2025-07-23T14:04:58.836421Z",
     "start_time": "2025-07-23T14:04:58.834202Z"
    }
   },
   "id": "2c0c8ca9c8f7caae",
   "outputs": [
    {
     "name": "stdout",
     "output_type": "stream",
     "text": [
      "['cod105_rhs_1_64_New_0', 'cod105_rhs_1_64_Farkas_0', 'cod105_rhs_1_64_NoDisjunction_0', 'cod105_objective_1_64_New_0', 'cod105_objective_1_64_Farkas_0', 'cod105_matrix_1_64_New_0', 'cod105_matrix_1_64_Farkas_0', 'cod105_objective_-1_64_New_0', 'neos-1605061_rhs_1_64_New_0']\n"
     ]
    },
    {
     "data": {
      "text/plain": [
       "0.0009648370497427101"
      ]
     },
     "execution_count": 9,
     "metadata": {},
     "output_type": "execute_result"
    }
   ],
   "execution_count": 9
  },
  {
   "cell_type": "code",
   "source": [
    "# out of memory - memory is maxed already - this is what it is\n",
    "# todo: figure out where we ran short on memory so we can explain why we dropped them\n",
    "print(err[\"bad_alloc\"] + err[\"out of memory\"] + err[\"vmem\"])\n",
    "len(err[\"bad_alloc\"] + err[\"out of memory\"] + err[\"vmem\"]) / count_series"
   ],
   "metadata": {
    "collapsed": false,
    "ExecuteTime": {
     "end_time": "2025-07-23T14:04:58.957541Z",
     "start_time": "2025-07-23T14:04:58.954447Z"
    }
   },
   "id": "799f9596fe1bb847",
   "outputs": [
    {
     "name": "stdout",
     "output_type": "stream",
     "text": [
      "['f2gap801600_objective_1_64_New_0', '10teams_objective_-1_64_New_0', 'piperout-d27_objective_1_64_New_0', 'piperout-d27_objective_1_64_Farkas_0', 'piperout-d27_objective_1_64_NoDisjunction_0', 'piperout-d27_objective_-1_64_New_0', 'piperout-d27_objective_-1_64_Farkas_0', 'piperout-d27_objective_-1_64_NoDisjunction_0', 'piperout-d20_objective_1_64_New_0', 'piperout-d20_objective_1_64_NoDisjunction_0', 'piperout-d20_objective_-1_64_New_0', 'piperout-d20_objective_-1_64_Farkas_0', 'nexp-150-20-1-5_matrix_1_64_NoDisjunction_0', 'nexp-150-20-1-5_rhs_-1_64_NoDisjunction_0', 'qnet1_matrix_1_64_New_0', 'neos-2328163-agri_objective_1_64_New_0', 'neos-2328163-agri_matrix_1_64_New_0', 'neos-2328163-agri_objective_-1_64_New_0', 'mod010_objective_1_64_New_0', 'mod010_objective_1_64_Farkas_0', 'mod010_matrix_1_64_New_0', 'mod010_matrix_-1_64_New_0', 'mod010_matrix_-1_64_NoDisjunction_0', 'mod010_objective_-1_64_New_0', 'mod010_objective_-1_64_Farkas_0', 'app2-2_objective_1_64_New_0', 'app2-2_objective_1_64_Farkas_0', 'app2-2_objective_1_64_NoDisjunction_0', 'app2-2_matrix_1_64_New_0', 'app2-2_matrix_1_64_Farkas_0', 'app2-2_matrix_1_64_NoDisjunction_0', 'app2-2_rhs_-1_64_New_0', 'app2-2_rhs_-1_64_Farkas_0', 'app2-2_rhs_-1_64_NoDisjunction_0', 'app2-2_matrix_-1_64_New_0', 'app2-2_matrix_-1_64_Farkas_0', 'app2-2_matrix_-1_64_NoDisjunction_0', 'app2-2_objective_-1_64_New_0', 'app2-2_objective_-1_64_Farkas_0', 'app2-2_objective_-1_64_NoDisjunction_0', 'n2seq36f_matrix_-1_64_Farkas_0', 'n2seq36f_objective_-1_64_New_0', 'n2seq36f_objective_-1_64_Farkas_0', 'h50x2450_matrix_1_4_New_0', 'h50x2450_matrix_1_64_New_0', 'h50x2450_matrix_-1_4_New_0', 'h50x2450_matrix_-1_64_New_0', 'a2c1s1_rhs_1_4_New_0', 'a2c1s1_rhs_1_64_New_0', 'irp_objective_1_64_New_0', 'irp_objective_1_64_Farkas_0', 'irp_objective_1_64_NoDisjunction_0', 'irp_matrix_1_4_New_0', 'irp_matrix_1_64_Farkas_0', 'irp_matrix_1_64_NoDisjunction_0', 'irp_matrix_-1_64_Farkas_0', 'irp_matrix_-1_64_NoDisjunction_0', 'irp_objective_-1_64_New_0', 'irp_objective_-1_64_Farkas_0', 'irp_objective_-1_64_NoDisjunction_0', 'supportcase27i_objective_1_64_New_0', 'supportcase27i_objective_-1_64_New_0', 'supportcase17_objective_1_64_New_0', 'supportcase17_objective_1_64_Farkas_0', 'supportcase17_objective_1_64_NoDisjunction_0', 'supportcase17_objective_-1_64_New_0', 'supportcase17_objective_-1_64_Farkas_0', 'supportcase17_objective_-1_64_NoDisjunction_0', 'neos-3610040-iskar_objective_1_64_New_0', 'decomp1_rhs_1_64_New_0', 'decomp1_matrix_1_64_New_0', 'decomp1_matrix_-1_64_New_0', 'decomp1_objective_-1_64_New_0', 'lectsched-4-obj_objective_1_64_New_0', 'lectsched-4-obj_rhs_-1_64_NoDisjunction_0', 'lectsched-4-obj_matrix_-1_64_New_0', 'lectsched-4-obj_objective_-1_64_New_0', 'nh97_potential_objective_1_64_New_0', 'ns1830653_rhs_1_64_New_0', 'ns1830653_objective_1_64_New_0', 'ns1830653_matrix_1_64_New_0', 'ns1830653_matrix_-1_64_New_0', 'ns1830653_objective_-1_64_New_0', 'cvs08r139-94_objective_1_64_NoDisjunction_0', 'neos2_objective_1_64_New_0', 'neos2_objective_1_64_Farkas_0', 'neos2_objective_1_64_NoDisjunction_0', 'neos2_matrix_-1_64_New_0', 'icir97_tension_matrix_-1_64_New_0', 'neos-686190_objective_1_64_New_0', 'neos-686190_objective_1_64_Farkas_0', 'neos-686190_objective_1_64_NoDisjunction_0', 'neos-686190_matrix_1_4_New_0', 'neos-686190_matrix_1_64_New_0', 'neos-686190_matrix_1_64_Farkas_0', 'neos-686190_matrix_1_64_NoDisjunction_0', 'neos-686190_rhs_-1_64_Farkas_0', 'neos-686190_rhs_-1_64_NoDisjunction_0', 'neos-686190_matrix_-1_4_New_0', 'neos-686190_matrix_-1_64_New_0', 'neos-686190_matrix_-1_64_Farkas_0', 'neos-686190_matrix_-1_64_NoDisjunction_0', 'neos-686190_objective_-1_64_New_0', 'neos-686190_objective_-1_64_Farkas_0', 'neos-686190_objective_-1_64_NoDisjunction_0', 'blp-ir98_objective_1_64_New_0', 'blp-ir98_matrix_-1_64_New_0', 'blp-ir98_matrix_-1_64_Farkas_0', 'blp-ir98_objective_-1_64_New_0', 'shipschedule3shipsi_objective_1_64_New_0', 'shipschedule3shipsi_objective_1_64_Farkas_0', 'shipschedule3shipsi_objective_1_64_NoDisjunction_0', 'shipschedule3shipsi_objective_-1_64_New_0', 'shipschedule3shipsi_objective_-1_64_Farkas_0', 'shipschedule3shipsi_objective_-1_64_NoDisjunction_0', 'cap6000_matrix_-1_4_New_0', 'cap6000_matrix_-1_64_New_0', 'piperout-03_objective_1_64_New_0', 'piperout-03_objective_1_64_Farkas_0', 'piperout-03_objective_1_64_NoDisjunction_0', 'piperout-03_objective_-1_64_New_0', 'piperout-03_objective_-1_64_Farkas_0', 'piperout-03_objective_-1_64_NoDisjunction_0', 'neos-480878_objective_1_64_New_0', 'neos-480878_objective_-1_64_New_0', 'neos18_rhs_1_64_New_0', 'neos18_objective_1_64_New_0', 'neos18_matrix_1_64_New_0', 'neos18_objective_-1_64_New_0', 'neos18_objective_-1_64_Farkas_0', 'reblock115_matrix_1_4_New_0', 'reblock115_matrix_-1_4_New_0', 'neos-4650160-yukon_objective_1_64_New_0', 'neos-4650160-yukon_objective_-1_64_New_0', 'toll-like_objective_-1_64_New_0', 'ic97_potential_objective_-1_64_New_0', 'neos-1445532_matrix_1_64_New_0', 'neos-1445532_objective_-1_64_New_0', 'roll3000_objective_1_64_New_0', 'roll3000_objective_-1_64_New_0', 'binkar10_1_matrix_1_64_New_0', 'binkar10_1_rhs_-1_64_New_0', 'binkar10_1_matrix_-1_64_New_0', 'binkar10_1_objective_-1_64_New_0', 'neos-3075395-nile_objective_-1_64_New_0', 'haprp_rhs_1_64_New_0', 'haprp_objective_1_64_New_0', 'haprp_rhs_-1_4_New_0', 'haprp_rhs_-1_64_New_0', 'haprp_objective_-1_64_New_0', 'supportcase25_objective_1_64_New_0', 'supportcase25_matrix_1_4_New_0', 'supportcase25_matrix_1_64_New_0', 'supportcase25_matrix_-1_64_New_0', 'supportcase25_matrix_-1_64_Farkas_0', 'supportcase25_objective_-1_64_New_0', 'supportcase25_objective_-1_64_Farkas_0', 'neos-1599274_rhs_1_64_New_0', 'neos-1599274_rhs_1_64_Farkas_0', 'neos-1599274_rhs_1_64_NoDisjunction_0', 'neos-1599274_objective_1_64_New_0', 'neos-1599274_objective_1_64_Farkas_0', 'neos-1599274_objective_1_64_NoDisjunction_0', 'neos-1599274_matrix_1_64_New_0', 'neos-1599274_matrix_1_64_Farkas_0', 'neos-1599274_matrix_1_64_NoDisjunction_0', 'neos-1599274_matrix_-1_64_New_0', 'neos-1599274_matrix_-1_64_Farkas_0', 'neos-1599274_matrix_-1_64_NoDisjunction_0', 'neos-1599274_objective_-1_64_New_0', 'neos-1599274_objective_-1_64_Farkas_0', 'neos-1599274_objective_-1_64_NoDisjunction_0', 'neos-585467_objective_1_64_New_0', 'neos-585467_objective_-1_64_New_0', 'bnatt400_objective_1_64_New_0', 'bnatt400_objective_1_64_NoDisjunction_0', 'bnatt400_objective_-1_64_New_0', 'bnatt400_objective_-1_64_Farkas_0', 'bnatt400_objective_-1_64_NoDisjunction_0', 'graph20-20-1rand_matrix_-1_64_NoDisjunction_0', 'p200x1188c_matrix_1_4_New_0', 'p200x1188c_matrix_1_64_New_0', 'neos-3072252-nete_objective_1_64_New_0', 'neos-4333464-siret_objective_1_64_New_0', 'neos-4333464-siret_matrix_1_64_New_0', 'neos-4333464-siret_matrix_1_64_Farkas_0', 'neos-4333464-siret_rhs_-1_4_New_0', 'neos-4333464-siret_matrix_-1_64_New_0', 'neos-4333464-siret_objective_-1_64_New_0', 'neos-4393408-tinui_rhs_1_4_New_0', 'neos-4393408-tinui_rhs_1_64_NoDisjunction_0', 'neos-4393408-tinui_objective_1_64_New_0', 'neos-4393408-tinui_matrix_1_64_New_0', 'neos-4393408-tinui_rhs_-1_64_New_0', 'neos-4393408-tinui_matrix_-1_64_New_0', 'neos-4393408-tinui_objective_-1_64_New_0', 'shipschedule6shipsmixi_objective_1_64_New_0', 'shipschedule6shipsmixi_objective_1_64_Farkas_0', 'shipschedule6shipsmixi_objective_1_64_NoDisjunction_0', 'shipschedule6shipsmixi_objective_-1_64_New_0', 'shipschedule6shipsmixi_objective_-1_64_Farkas_0', 'shipschedule6shipsmixi_objective_-1_64_NoDisjunction_0', 'neos-2328163-agri_matrix_-1_64_New_0', 'gen-ip054_rhs_1_64_None_0', 'gen-ip054_rhs_1_64_New_0', 'gen-ip054_rhs_1_64_Farkas_0', 'gen-ip054_rhs_1_64_NoDisjunction_0', 'gen-ip054_objective_1_64_New_0', 'gen-ip054_rhs_-1_4_None_0', 'gen-ip054_rhs_-1_4_New_0', 'gen-ip054_objective_-1_4_New_0', 'gsvm2rl3_matrix_-1_64_New_0', 'neos-4333464-siret_rhs_-1_64_New_0', '10teams_objective_1_64_New_0', '10teams_objective_1_64_Farkas_0', '10teams_objective_-1_64_Farkas_0', 'piperout-d20_objective_1_64_Farkas_0', 'piperout-d20_objective_-1_64_NoDisjunction_0', 'mas74_rhs_1_64_NoDisjunction_0', 'mas74_objective_1_64_NoDisjunction_0', 'mod010_matrix_1_64_Farkas_0', 'irp_matrix_1_64_New_0', 'irp_matrix_-1_64_New_0', 'sorrell8_objective_-1_64_New_0', 'gen-ip054_rhs_-1_4_Farkas_0', 'gen-ip054_rhs_-1_64_None_0', 'gen-ip054_rhs_-1_64_New_0', 'gen-ip054_objective_-1_4_None_0', 'gen-ip054_objective_-1_4_Farkas_0', 'gen-ip054_objective_-1_64_Farkas_0', 'gsvm2rl3_objective_1_64_New_0', 'prod2_objective_-1_64_New_0', 'ns1830653_objective_1_64_NoDisjunction_0', 'ns1830653_matrix_1_64_NoDisjunction_0', 'mad_objective_1_4_None_0', 'neos-4650160-yukon_objective_1_64_Farkas_0', 'supportcase25_matrix_-1_64_NoDisjunction_0', 'neos-4333464-siret_objective_1_64_NoDisjunction_0', 'neos-4333464-siret_matrix_-1_64_Farkas_0']\n"
     ]
    },
    {
     "data": {
      "text/plain": [
       "0.025621783876500857"
      ]
     },
     "execution_count": 10,
     "metadata": {},
     "output_type": "execute_result"
    }
   ],
   "execution_count": 10
  },
  {
   "cell_type": "code",
   "source": [
    "# rerun this if want to give more memory to some instances\n",
    "# bad_alloc_names = set(n.split(\"_\")[0] for n in err[\"bad_alloc\"])\n",
    "# mem = pd.read_csv(\"more_memory.csv\", index_col=0)\n",
    "# mem[\"reason\"] = \"hard solve\" \n",
    "# \n",
    "# for n in bad_alloc_names:\n",
    "#     if f\"{n}.mps\" not in mem.index:\n",
    "#         new_row = pd.DataFrame([{'file_name': f\"{n}.mps\", 'memory': 16.0, 'reason': 'big disjunction'}]).set_index('file_name')\n",
    "#         mem = pd.concat([mem, new_row])\n",
    "#     else:\n",
    "#         mem.loc[f'{n}.mps', 'memory'] = 16.0\n",
    "# \n",
    "# mem.to_csv(\"more_memory.csv\")"
   ],
   "metadata": {
    "collapsed": false,
    "ExecuteTime": {
     "end_time": "2025-07-23T14:04:59.062282Z",
     "start_time": "2025-07-23T14:04:59.060151Z"
    }
   },
   "id": "25b00b07fb8791bf",
   "outputs": [],
   "execution_count": 11
  },
  {
   "cell_type": "code",
   "source": [
    "# this is an issue with John's bookkeeping - not much we can do here\n",
    "print(err[\"takeoffcuts\"])\n",
    "len(err[\"takeoffcuts\"]) / count_series"
   ],
   "metadata": {
    "collapsed": false,
    "ExecuteTime": {
     "end_time": "2025-07-23T14:04:59.131722Z",
     "start_time": "2025-07-23T14:04:59.127996Z"
    }
   },
   "id": "121be7316b7ba6b2",
   "outputs": [
    {
     "name": "stdout",
     "output_type": "stream",
     "text": [
      "[]\n"
     ]
    },
    {
     "data": {
      "text/plain": [
       "0.0"
      ]
     },
     "execution_count": 12,
     "metadata": {},
     "output_type": "execute_result"
    }
   ],
   "execution_count": 12
  },
  {
   "cell_type": "code",
   "source": [
    "print(err[\"solver is dual infeasible\"])\n",
    "len(err[\"solver is dual infeasible\"]) / count_series"
   ],
   "metadata": {
    "collapsed": false,
    "ExecuteTime": {
     "end_time": "2025-07-23T14:04:59.250826Z",
     "start_time": "2025-07-23T14:04:59.248283Z"
    }
   },
   "id": "5c8956abcbdf8b6d",
   "outputs": [
    {
     "name": "stdout",
     "output_type": "stream",
     "text": [
      "[]\n"
     ]
    },
    {
     "data": {
      "text/plain": [
       "0.0"
      ]
     },
     "execution_count": 13,
     "metadata": {},
     "output_type": "execute_result"
    }
   ],
   "execution_count": 13
  },
  {
   "cell_type": "code",
   "source": [
    "# these are usually issues with CLP finding optimality - not much we can do here\n",
    "print(err[\"solver must be optimal\"])\n",
    "len(err[\"solver must be optimal\"]) / count_series"
   ],
   "metadata": {
    "collapsed": false,
    "ExecuteTime": {
     "end_time": "2025-07-23T14:04:59.393369Z",
     "start_time": "2025-07-23T14:04:59.391214Z"
    }
   },
   "id": "72de71ca5f9b047",
   "outputs": [
    {
     "name": "stdout",
     "output_type": "stream",
     "text": [
      "[]\n"
     ]
    },
    {
     "data": {
      "text/plain": [
       "0.0"
      ]
     },
     "execution_count": 14,
     "metadata": {},
     "output_type": "execute_result"
    }
   ],
   "execution_count": 14
  },
  {
   "cell_type": "code",
   "source": [
    "print(err[\"segmentation fault\"])\n",
    "len(err[\"segmentation fault\"]) / count_series"
   ],
   "metadata": {
    "collapsed": false,
    "ExecuteTime": {
     "end_time": "2025-07-23T14:04:59.504393Z",
     "start_time": "2025-07-23T14:04:59.502208Z"
    }
   },
   "id": "fef47bf6e8f3c2d7",
   "outputs": [
    {
     "name": "stdout",
     "output_type": "stream",
     "text": [
      "['neos-3665875-lesum_rhs_1_64_New_0']\n"
     ]
    },
    {
     "data": {
      "text/plain": [
       "0.0001072041166380789"
      ]
     },
     "execution_count": 15,
     "metadata": {},
     "output_type": "execute_result"
    }
   ],
   "execution_count": 15
  },
  {
   "cell_type": "code",
   "source": [
    "# seg_err = {\n",
    "#     \"Bad image at line\": [],\n",
    "# }\n",
    "# \n",
    "# seg_other = []\n",
    "# \n",
    "# for stem in err[\"segmentation fault\"]:\n",
    "#     file_pth = os.path.join(results_fldr, f\"{stem}.out\")\n",
    "# \n",
    "#     with open(file_pth, \"r\") as f:\n",
    "#         text = f.read()\n",
    "#     \n",
    "#     # assign the error file to the appropriate list\n",
    "#     found_code = False\n",
    "#     for code in seg_err:\n",
    "#         if code in text:\n",
    "#             seg_err[code].append(stem)\n",
    "#             found_code = True\n",
    "#             break\n",
    "#     if not found_code:\n",
    "#         seg_other.append(stem)"
   ],
   "metadata": {
    "collapsed": false,
    "ExecuteTime": {
     "end_time": "2025-07-23T14:04:59.646847Z",
     "start_time": "2025-07-23T14:04:59.644521Z"
    }
   },
   "id": "e9b3b21e95de2989",
   "outputs": [],
   "execution_count": 16
  },
  {
   "cell_type": "code",
   "source": [
    "# print(seg_err[\"Bad image at line\"])\n",
    "# len(seg_err[\"Bad image at line\"]) / len(err[\"segmentation fault\"]) if err[\"segmentation fault\"] else 0"
   ],
   "metadata": {
    "collapsed": false,
    "ExecuteTime": {
     "end_time": "2025-07-23T14:04:59.707612Z",
     "start_time": "2025-07-23T14:04:59.705652Z"
    }
   },
   "id": "cba75270a86cba0d",
   "outputs": [],
   "execution_count": 17
  },
  {
   "cell_type": "code",
   "source": [
    "# print(seg_other)\n",
    "# len(seg_other)/len(err[\"segmentation fault\"]) if err[\"segmentation fault\"] else 0"
   ],
   "metadata": {
    "collapsed": false,
    "ExecuteTime": {
     "end_time": "2025-07-23T14:04:59.726403Z",
     "start_time": "2025-07-23T14:04:59.724492Z"
    }
   },
   "id": "5aecf827954c44de",
   "outputs": [],
   "execution_count": 18
  },
  {
   "cell_type": "code",
   "source": [
    "# # get breakdown of why vpc generation failed - mostly from lack of provisioning\n",
    "# for code, exps in seg_err.items():\n",
    "#     print(f\"{code}: {len(exps) / len(err['segmentation fault']) if err['segmentation fault'] else 0}\")\n",
    "# \n",
    "# print(f\"other: {len(seg_other) / len(err['segmentation fault']) if err['segmentation fault'] else 0}\")"
   ],
   "metadata": {
    "collapsed": false,
    "ExecuteTime": {
     "end_time": "2025-07-23T14:04:59.739352Z",
     "start_time": "2025-07-23T14:04:59.737162Z"
    }
   },
   "id": "d4a3204609033812",
   "outputs": [],
   "execution_count": 19
  },
  {
   "cell_type": "code",
   "source": [
    "# todo: check aleks' removals and drop those below for similar reasons\n",
    "# todo: check size of disjunctions and decide what to do with those that are too big\n",
    "# these should all be from the problem being too big and hitting the time limit or integer solutions\n",
    "print(err[\"no vpcs were made from a new disjunction\"])\n",
    "missing_4_term = [n for n in err[\"no vpcs were made from a new disjunction\"] if \"_4_\" in n]\n",
    "missing_64_term = [n for n in err[\"no vpcs were made from a new disjunction\"] if \"_64_\" in n]\n",
    "print(f'4 term: {len(missing_4_term) / count_series}')\n",
    "print(f'64 term: {len(missing_64_term) / count_series}')"
   ],
   "metadata": {
    "collapsed": false,
    "ExecuteTime": {
     "end_time": "2025-07-23T14:04:59.767899Z",
     "start_time": "2025-07-23T14:04:59.760608Z"
    }
   },
   "id": "323bfdd3f23d8330",
   "outputs": [
    {
     "name": "stdout",
     "output_type": "stream",
     "text": [
      "['bienst2_rhs_1_64_New_0', 'bienst2_rhs_1_64_Farkas_0', 'bienst2_rhs_1_64_NoDisjunction_0', 'bienst2_objective_1_64_New_0', 'bienst2_objective_1_64_Farkas_0', 'bienst2_matrix_-1_64_New_0', 'bienst2_matrix_-1_64_Farkas_0', 'bienst2_matrix_-1_64_NoDisjunction_0', 'bienst2_objective_-1_64_New_0', 'bienst2_objective_-1_64_Farkas_0', 'bienst2_objective_-1_64_NoDisjunction_0', 'neos-555343_rhs_1_4_New_0', 'neos-555343_rhs_1_4_Farkas_0', 'neos-555343_rhs_1_4_NoDisjunction_0', 'neos-555343_rhs_1_64_New_0', 'neos-555343_rhs_1_64_Farkas_0', 'neos-555343_rhs_1_64_NoDisjunction_0', 'neos-555343_objective_1_4_New_0', 'neos-555343_objective_1_4_Farkas_0', 'neos-555343_objective_1_4_NoDisjunction_0', 'neos-555343_objective_1_64_New_0', 'neos-555343_objective_1_64_Farkas_0', 'neos-555343_objective_1_64_NoDisjunction_0', 'neos-555343_matrix_1_4_New_0', 'neos-555343_matrix_1_4_Farkas_0', 'neos-555343_matrix_1_4_NoDisjunction_0', 'neos-555343_matrix_1_64_New_0', 'neos-555343_matrix_1_64_Farkas_0', 'neos-555343_matrix_1_64_NoDisjunction_0', 'lrn_objective_1_4_New_0', 'lrn_objective_1_4_Farkas_0', 'lrn_objective_1_4_NoDisjunction_0', 'lrn_objective_1_64_New_0', 'lrn_objective_1_64_Farkas_0', 'lrn_objective_1_64_NoDisjunction_0', 'lrn_objective_-1_4_New_0', 'lrn_objective_-1_4_Farkas_0', 'lrn_objective_-1_4_NoDisjunction_0', 'lrn_objective_-1_64_New_0', 'lrn_objective_-1_64_Farkas_0', 'lrn_objective_-1_64_NoDisjunction_0', 'pigeon-20_rhs_1_4_New_0', 'pigeon-20_rhs_1_4_Farkas_0', 'pigeon-20_rhs_1_4_NoDisjunction_0', 'pigeon-20_rhs_1_64_New_0', 'pigeon-20_rhs_1_64_Farkas_0', 'pigeon-20_rhs_1_64_NoDisjunction_0', 'pigeon-20_objective_1_4_New_0', 'pigeon-20_objective_1_4_Farkas_0', 'pigeon-20_objective_1_4_NoDisjunction_0', 'pigeon-20_objective_1_64_New_0', 'pigeon-20_objective_1_64_Farkas_0', 'pigeon-20_objective_1_64_NoDisjunction_0', 'pigeon-20_matrix_1_4_New_0', 'pigeon-20_matrix_1_4_Farkas_0', 'pigeon-20_matrix_1_4_NoDisjunction_0', 'pigeon-20_matrix_1_64_New_0', 'pigeon-20_matrix_1_64_Farkas_0', 'pigeon-20_matrix_1_64_NoDisjunction_0', 'pigeon-20_rhs_-1_4_New_0', 'pigeon-20_rhs_-1_4_Farkas_0', 'pigeon-20_rhs_-1_4_NoDisjunction_0', 'pigeon-20_rhs_-1_64_New_0', 'pigeon-20_rhs_-1_64_Farkas_0', 'pigeon-20_rhs_-1_64_NoDisjunction_0', 'pigeon-20_matrix_-1_4_New_0', 'pigeon-20_matrix_-1_4_Farkas_0', 'pigeon-20_matrix_-1_4_NoDisjunction_0', 'pigeon-20_matrix_-1_64_New_0', 'pigeon-20_matrix_-1_64_Farkas_0', 'pigeon-20_matrix_-1_64_NoDisjunction_0', 'pigeon-20_objective_-1_4_New_0', 'pigeon-20_objective_-1_4_Farkas_0', 'pigeon-20_objective_-1_4_NoDisjunction_0', 'pigeon-20_objective_-1_64_New_0', 'pigeon-20_objective_-1_64_Farkas_0', 'pigeon-20_objective_-1_64_NoDisjunction_0', 'neos-1171737_objective_1_4_New_0', 'neos-1171737_objective_1_4_Farkas_0', 'neos-1171737_objective_1_4_NoDisjunction_0', 'neos-1171737_objective_1_64_New_0', 'neos-1171737_objective_1_64_Farkas_0', 'neos-1171737_objective_1_64_NoDisjunction_0', 'neos-1171737_matrix_1_4_New_0', 'neos-1171737_matrix_1_4_Farkas_0', 'neos-1171737_matrix_1_4_NoDisjunction_0', 'neos-1171737_matrix_1_64_New_0', 'neos-1171737_matrix_1_64_Farkas_0', 'neos-1171737_matrix_1_64_NoDisjunction_0', 'neos-1171737_rhs_-1_4_New_0', 'neos-1171737_rhs_-1_4_Farkas_0', 'neos-1171737_rhs_-1_4_NoDisjunction_0', 'neos-1171737_rhs_-1_64_New_0', 'neos-1171737_rhs_-1_64_Farkas_0', 'neos-1171737_rhs_-1_64_NoDisjunction_0', 'neos-1171737_matrix_-1_4_New_0', 'neos-1171737_matrix_-1_4_Farkas_0', 'neos-1171737_matrix_-1_4_NoDisjunction_0', 'neos-1171737_matrix_-1_64_New_0', 'neos-1171737_matrix_-1_64_Farkas_0', 'neos-1171737_matrix_-1_64_NoDisjunction_0', 'neos-1171737_objective_-1_4_New_0', 'neos-1171737_objective_-1_4_Farkas_0', 'neos-1171737_objective_-1_4_NoDisjunction_0', 'neos-1171737_objective_-1_64_New_0', 'neos-1171737_objective_-1_64_Farkas_0', 'neos-1171737_objective_-1_64_NoDisjunction_0', 'neos-503737_objective_1_4_New_0', 'neos-503737_objective_1_4_Farkas_0', 'neos-503737_objective_1_4_NoDisjunction_0', 'neos-503737_objective_1_64_New_0', 'neos-503737_objective_1_64_Farkas_0', 'neos-503737_objective_1_64_NoDisjunction_0', 'neos-503737_matrix_1_4_New_0', 'neos-503737_matrix_1_4_Farkas_0', 'neos-503737_matrix_1_4_NoDisjunction_0', 'neos-503737_matrix_1_64_New_0', 'neos-503737_matrix_1_64_Farkas_0', 'neos-503737_matrix_1_64_NoDisjunction_0', 'neos-503737_matrix_-1_4_New_0', 'neos-503737_matrix_-1_4_Farkas_0', 'neos-503737_matrix_-1_4_NoDisjunction_0', 'neos-503737_matrix_-1_64_New_0', 'neos-503737_matrix_-1_64_Farkas_0', 'neos-503737_matrix_-1_64_NoDisjunction_0', 'neos-503737_objective_-1_4_New_0', 'neos-503737_objective_-1_4_Farkas_0', 'neos-503737_objective_-1_4_NoDisjunction_0', 'neos-503737_objective_-1_64_New_0', 'neos-503737_objective_-1_64_Farkas_0', 'neos-503737_objective_-1_64_NoDisjunction_0', 'pigeon-16_rhs_1_4_New_0', 'pigeon-16_rhs_1_4_Farkas_0', 'pigeon-16_rhs_1_4_NoDisjunction_0', 'pigeon-16_rhs_1_64_New_0', 'pigeon-16_rhs_1_64_Farkas_0', 'pigeon-16_rhs_1_64_NoDisjunction_0', 'pigeon-16_objective_1_4_New_0', 'pigeon-16_objective_1_4_Farkas_0', 'pigeon-16_objective_1_4_NoDisjunction_0', 'pigeon-16_objective_1_64_New_0', 'pigeon-16_objective_1_64_Farkas_0', 'pigeon-16_objective_1_64_NoDisjunction_0', 'pigeon-16_matrix_1_4_New_0', 'pigeon-16_matrix_1_4_Farkas_0', 'pigeon-16_matrix_1_4_NoDisjunction_0', 'pigeon-16_matrix_1_64_New_0', 'pigeon-16_matrix_1_64_Farkas_0', 'pigeon-16_matrix_1_64_NoDisjunction_0', 'pigeon-16_rhs_-1_4_New_0', 'pigeon-16_rhs_-1_4_Farkas_0', 'pigeon-16_rhs_-1_4_NoDisjunction_0', 'pigeon-16_rhs_-1_64_New_0', 'pigeon-16_rhs_-1_64_Farkas_0', 'pigeon-16_rhs_-1_64_NoDisjunction_0', 'pigeon-16_matrix_-1_4_New_0', 'pigeon-16_matrix_-1_4_Farkas_0', 'pigeon-16_matrix_-1_4_NoDisjunction_0', 'pigeon-16_matrix_-1_64_New_0', 'pigeon-16_matrix_-1_64_Farkas_0', 'pigeon-16_matrix_-1_64_NoDisjunction_0', 'pigeon-16_objective_-1_4_New_0', 'pigeon-16_objective_-1_4_Farkas_0', 'pigeon-16_objective_-1_4_NoDisjunction_0', 'pigeon-16_objective_-1_64_New_0', 'pigeon-16_objective_-1_64_Farkas_0', 'pigeon-16_objective_-1_64_NoDisjunction_0', 'graphdraw-domain_rhs_1_4_New_0', 'graphdraw-domain_rhs_1_4_Farkas_0', 'graphdraw-domain_rhs_1_4_NoDisjunction_0', 'graphdraw-domain_rhs_1_64_New_0', 'graphdraw-domain_rhs_1_64_Farkas_0', 'graphdraw-domain_rhs_1_64_NoDisjunction_0', 'graphdraw-domain_objective_1_4_New_0', 'graphdraw-domain_objective_1_4_Farkas_0', 'graphdraw-domain_objective_1_4_NoDisjunction_0', 'graphdraw-domain_objective_1_64_New_0', 'graphdraw-domain_objective_1_64_Farkas_0', 'graphdraw-domain_objective_1_64_NoDisjunction_0', 'graphdraw-domain_matrix_1_4_New_0', 'graphdraw-domain_matrix_1_4_Farkas_0', 'graphdraw-domain_matrix_1_4_NoDisjunction_0', 'graphdraw-domain_matrix_1_64_New_0', 'graphdraw-domain_matrix_1_64_Farkas_0', 'graphdraw-domain_matrix_1_64_NoDisjunction_0', 'graphdraw-domain_rhs_-1_4_New_0', 'graphdraw-domain_rhs_-1_4_Farkas_0', 'graphdraw-domain_rhs_-1_4_NoDisjunction_0', 'graphdraw-domain_rhs_-1_64_New_0', 'graphdraw-domain_rhs_-1_64_Farkas_0', 'graphdraw-domain_rhs_-1_64_NoDisjunction_0', 'graphdraw-domain_matrix_-1_4_New_0', 'graphdraw-domain_matrix_-1_4_Farkas_0', 'graphdraw-domain_matrix_-1_4_NoDisjunction_0', 'graphdraw-domain_matrix_-1_64_New_0', 'graphdraw-domain_matrix_-1_64_Farkas_0', 'graphdraw-domain_matrix_-1_64_NoDisjunction_0', 'graphdraw-domain_objective_-1_4_New_0', 'graphdraw-domain_objective_-1_4_Farkas_0', 'graphdraw-domain_objective_-1_4_NoDisjunction_0', 'graphdraw-domain_objective_-1_64_New_0', 'graphdraw-domain_objective_-1_64_Farkas_0', 'graphdraw-domain_objective_-1_64_NoDisjunction_0', 'pigeon-10_objective_1_4_New_0', 'pigeon-10_objective_1_4_Farkas_0', 'pigeon-10_objective_1_4_NoDisjunction_0', 'pigeon-10_objective_1_64_New_0', 'pigeon-10_objective_1_64_Farkas_0', 'pigeon-10_objective_1_64_NoDisjunction_0', 'pigeon-10_matrix_1_4_New_0', 'pigeon-10_matrix_1_4_Farkas_0', 'pigeon-10_matrix_1_4_NoDisjunction_0', 'pigeon-10_matrix_1_64_New_0', 'pigeon-10_matrix_1_64_Farkas_0', 'pigeon-10_matrix_1_64_NoDisjunction_0', 'pigeon-10_matrix_-1_4_New_0', 'pigeon-10_matrix_-1_4_Farkas_0', 'pigeon-10_matrix_-1_4_NoDisjunction_0', 'pigeon-10_matrix_-1_64_New_0', 'pigeon-10_matrix_-1_64_Farkas_0', 'pigeon-10_matrix_-1_64_NoDisjunction_0', 'pigeon-10_objective_-1_4_New_0', 'pigeon-10_objective_-1_4_Farkas_0', 'pigeon-10_objective_-1_4_NoDisjunction_0', 'pigeon-10_objective_-1_64_New_0', 'pigeon-10_objective_-1_64_Farkas_0', 'pigeon-10_objective_-1_64_NoDisjunction_0', 'peg-solitaire-a3_rhs_1_4_New_0', 'peg-solitaire-a3_rhs_1_4_Farkas_0', 'peg-solitaire-a3_rhs_1_4_NoDisjunction_0', 'peg-solitaire-a3_rhs_1_64_New_0', 'peg-solitaire-a3_rhs_1_64_Farkas_0', 'peg-solitaire-a3_rhs_1_64_NoDisjunction_0', 'peg-solitaire-a3_objective_1_4_New_0', 'peg-solitaire-a3_objective_1_4_Farkas_0', 'peg-solitaire-a3_objective_1_4_NoDisjunction_0', 'peg-solitaire-a3_objective_1_64_New_0', 'peg-solitaire-a3_objective_1_64_Farkas_0', 'peg-solitaire-a3_objective_1_64_NoDisjunction_0', 'peg-solitaire-a3_matrix_1_4_New_0', 'peg-solitaire-a3_matrix_1_4_Farkas_0', 'peg-solitaire-a3_matrix_1_4_NoDisjunction_0', 'peg-solitaire-a3_matrix_1_64_New_0', 'peg-solitaire-a3_matrix_1_64_Farkas_0', 'peg-solitaire-a3_matrix_1_64_NoDisjunction_0', 'peg-solitaire-a3_matrix_-1_4_New_0', 'peg-solitaire-a3_matrix_-1_4_Farkas_0', 'peg-solitaire-a3_matrix_-1_4_NoDisjunction_0', 'peg-solitaire-a3_matrix_-1_64_New_0', 'peg-solitaire-a3_matrix_-1_64_Farkas_0', 'peg-solitaire-a3_matrix_-1_64_NoDisjunction_0', 'peg-solitaire-a3_objective_-1_4_New_0', 'peg-solitaire-a3_objective_-1_4_Farkas_0', 'peg-solitaire-a3_objective_-1_4_NoDisjunction_0', 'peg-solitaire-a3_objective_-1_64_New_0', 'peg-solitaire-a3_objective_-1_64_Farkas_0', 'peg-solitaire-a3_objective_-1_64_NoDisjunction_0', 'mcsched_objective_1_64_New_0', 'mcsched_objective_1_64_Farkas_0', 'mcsched_objective_1_64_NoDisjunction_0', 'mcsched_matrix_1_64_New_0', 'mcsched_matrix_1_64_Farkas_0', 'mcsched_matrix_1_64_NoDisjunction_0', 'mcsched_objective_-1_64_New_0', 'mcsched_objective_-1_64_Farkas_0', 'mcsched_objective_-1_64_NoDisjunction_0', 'csched008_objective_1_4_New_0', 'csched008_objective_1_4_Farkas_0', 'csched008_objective_1_4_NoDisjunction_0', 'csched008_objective_1_64_New_0', 'csched008_objective_1_64_Farkas_0', 'csched008_objective_1_64_NoDisjunction_0', 'csched008_matrix_1_4_New_0', 'csched008_matrix_1_4_Farkas_0', 'csched008_matrix_1_4_NoDisjunction_0', 'csched008_matrix_1_64_New_0', 'csched008_matrix_1_64_Farkas_0', 'csched008_matrix_1_64_NoDisjunction_0', 'csched008_rhs_-1_4_New_0', 'csched008_rhs_-1_4_Farkas_0', 'csched008_rhs_-1_4_NoDisjunction_0', 'csched008_rhs_-1_64_New_0', 'csched008_rhs_-1_64_Farkas_0', 'csched008_rhs_-1_64_NoDisjunction_0', 'csched008_matrix_-1_4_New_0', 'csched008_matrix_-1_4_Farkas_0', 'csched008_matrix_-1_4_NoDisjunction_0', 'csched008_matrix_-1_64_New_0', 'csched008_matrix_-1_64_Farkas_0', 'csched008_matrix_-1_64_NoDisjunction_0', 'csched008_objective_-1_4_New_0', 'csched008_objective_-1_4_Farkas_0', 'csched008_objective_-1_4_NoDisjunction_0', 'csched008_objective_-1_64_New_0', 'csched008_objective_-1_64_Farkas_0', 'csched008_objective_-1_64_NoDisjunction_0', 'sp150x300d_objective_1_4_New_0', 'sp150x300d_objective_1_4_Farkas_0', 'sp150x300d_objective_1_4_NoDisjunction_0', 'sp150x300d_objective_1_64_New_0', 'sp150x300d_objective_1_64_Farkas_0', 'sp150x300d_objective_1_64_NoDisjunction_0', 'sp150x300d_matrix_1_4_New_0', 'sp150x300d_matrix_1_4_Farkas_0', 'sp150x300d_matrix_1_4_NoDisjunction_0', 'sp150x300d_matrix_1_64_New_0', 'sp150x300d_matrix_1_64_Farkas_0', 'sp150x300d_matrix_1_64_NoDisjunction_0', 'sp150x300d_matrix_-1_4_New_0', 'sp150x300d_matrix_-1_4_Farkas_0', 'sp150x300d_matrix_-1_4_NoDisjunction_0', 'sp150x300d_matrix_-1_64_New_0', 'sp150x300d_matrix_-1_64_Farkas_0', 'sp150x300d_matrix_-1_64_NoDisjunction_0', 'sp150x300d_objective_-1_4_New_0', 'sp150x300d_objective_-1_4_Farkas_0', 'sp150x300d_objective_-1_4_NoDisjunction_0', 'sp150x300d_objective_-1_64_New_0', 'sp150x300d_objective_-1_64_Farkas_0', 'sp150x300d_objective_-1_64_NoDisjunction_0', 'mine-90-10_objective_1_4_New_0', 'mine-90-10_objective_1_4_Farkas_0', 'mine-90-10_objective_1_4_NoDisjunction_0', 'mine-90-10_objective_1_64_New_0', 'mine-90-10_objective_1_64_Farkas_0', 'mine-90-10_objective_1_64_NoDisjunction_0', 'mine-90-10_matrix_1_4_New_0', 'mine-90-10_matrix_1_4_Farkas_0', 'mine-90-10_matrix_1_4_NoDisjunction_0', 'mine-90-10_matrix_1_64_New_0', 'mine-90-10_matrix_1_64_Farkas_0', 'mine-90-10_matrix_1_64_NoDisjunction_0', 'mine-90-10_matrix_-1_4_New_0', 'mine-90-10_matrix_-1_4_Farkas_0', 'mine-90-10_matrix_-1_4_NoDisjunction_0', 'mine-90-10_matrix_-1_64_New_0', 'mine-90-10_matrix_-1_64_Farkas_0', 'mine-90-10_matrix_-1_64_NoDisjunction_0', 'mine-90-10_objective_-1_4_New_0', 'mine-90-10_objective_-1_4_Farkas_0', 'mine-90-10_objective_-1_4_NoDisjunction_0', 'mine-90-10_objective_-1_64_New_0', 'mine-90-10_objective_-1_64_Farkas_0', 'mine-90-10_objective_-1_64_NoDisjunction_0', 'tanglegram6_objective_1_64_New_0', 'tanglegram6_objective_1_64_Farkas_0', 'tanglegram6_objective_1_64_NoDisjunction_0', 'tanglegram6_matrix_1_64_New_0', 'tanglegram6_matrix_1_64_Farkas_0', 'tanglegram6_matrix_1_64_NoDisjunction_0', 'tanglegram6_objective_-1_64_New_0', 'tanglegram6_objective_-1_64_Farkas_0', 'tanglegram6_objective_-1_64_NoDisjunction_0', 'neos-1396125_rhs_1_64_New_0', 'neos-1396125_rhs_1_64_Farkas_0', 'neos-1396125_rhs_1_64_NoDisjunction_0', 'neos-1396125_objective_1_64_New_0', 'neos-1396125_objective_1_64_Farkas_0', 'neos-1396125_objective_1_64_NoDisjunction_0', 'neos-1396125_matrix_-1_64_New_0', 'neos-1396125_matrix_-1_64_Farkas_0', 'neos-1396125_matrix_-1_64_NoDisjunction_0', 'neos-1396125_objective_-1_64_New_0', 'neos-1396125_objective_-1_64_Farkas_0', 'neos-1396125_objective_-1_64_NoDisjunction_0', 'neos-3762025-ognon_rhs_1_4_New_0', 'neos-3762025-ognon_rhs_1_4_Farkas_0', 'neos-3762025-ognon_rhs_1_4_NoDisjunction_0', 'neos-3762025-ognon_rhs_1_64_New_0', 'neos-3762025-ognon_rhs_1_64_Farkas_0', 'neos-3762025-ognon_rhs_1_64_NoDisjunction_0', 'neos-3762025-ognon_objective_1_4_New_0', 'neos-3762025-ognon_objective_1_4_Farkas_0', 'neos-3762025-ognon_objective_1_4_NoDisjunction_0', 'neos-3762025-ognon_objective_1_64_New_0', 'neos-3762025-ognon_objective_1_64_Farkas_0', 'neos-3762025-ognon_objective_1_64_NoDisjunction_0', 'neos-3762025-ognon_matrix_1_4_New_0', 'neos-3762025-ognon_matrix_1_4_Farkas_0', 'neos-3762025-ognon_matrix_1_4_NoDisjunction_0', 'neos-3762025-ognon_matrix_1_64_New_0', 'neos-3762025-ognon_matrix_1_64_Farkas_0', 'neos-3762025-ognon_matrix_1_64_NoDisjunction_0', 'neos-3762025-ognon_rhs_-1_4_New_0', 'neos-3762025-ognon_rhs_-1_4_Farkas_0', 'neos-3762025-ognon_rhs_-1_4_NoDisjunction_0', 'neos-3762025-ognon_rhs_-1_64_New_0', 'neos-3762025-ognon_rhs_-1_64_Farkas_0', 'neos-3762025-ognon_rhs_-1_64_NoDisjunction_0', 'neos-3762025-ognon_matrix_-1_4_New_0', 'neos-3762025-ognon_matrix_-1_4_Farkas_0', 'neos-3762025-ognon_matrix_-1_4_NoDisjunction_0', 'neos-3762025-ognon_matrix_-1_64_New_0', 'neos-3762025-ognon_matrix_-1_64_Farkas_0', 'neos-3762025-ognon_matrix_-1_64_NoDisjunction_0', 'neos-3762025-ognon_objective_-1_4_New_0', 'neos-3762025-ognon_objective_-1_4_Farkas_0', 'neos-3762025-ognon_objective_-1_4_NoDisjunction_0', 'neos-3762025-ognon_objective_-1_64_New_0', 'neos-3762025-ognon_objective_-1_64_Farkas_0', 'neos-3762025-ognon_objective_-1_64_NoDisjunction_0', 'neos-2652786-brda_matrix_1_4_New_0', 'neos-2652786-brda_matrix_1_4_Farkas_0', 'neos-2652786-brda_matrix_1_4_NoDisjunction_0', 'neos-2652786-brda_matrix_1_64_New_0', 'neos-2652786-brda_matrix_1_64_Farkas_0', 'neos-2652786-brda_matrix_1_64_NoDisjunction_0', 'neos-2652786-brda_matrix_-1_4_New_0', 'neos-2652786-brda_matrix_-1_4_Farkas_0', 'neos-2652786-brda_matrix_-1_4_NoDisjunction_0', 'neos-2652786-brda_matrix_-1_64_New_0', 'neos-2652786-brda_matrix_-1_64_Farkas_0', 'neos-2652786-brda_matrix_-1_64_NoDisjunction_0', 'neos-1582420_objective_1_64_New_0', 'neos-1582420_objective_1_64_Farkas_0', 'neos-1582420_objective_1_64_NoDisjunction_0', 'neos-1582420_matrix_1_64_New_0', 'neos-1582420_matrix_1_64_Farkas_0', 'neos-1582420_matrix_1_64_NoDisjunction_0', 'neos-1582420_matrix_-1_64_New_0', 'neos-1582420_matrix_-1_64_Farkas_0', 'neos-1582420_matrix_-1_64_NoDisjunction_0', 'neos-1582420_objective_-1_64_New_0', 'neos-1582420_objective_-1_64_Farkas_0', 'neos-1582420_objective_-1_64_NoDisjunction_0', 'neos-1442119_rhs_1_4_New_0', 'neos-1442119_rhs_1_4_Farkas_0', 'neos-1442119_rhs_1_4_NoDisjunction_0', 'neos-1442119_rhs_1_64_New_0', 'neos-1442119_rhs_1_64_Farkas_0', 'neos-1442119_rhs_1_64_NoDisjunction_0', 'neos-1442119_objective_1_4_New_0', 'neos-1442119_objective_1_4_Farkas_0', 'neos-1442119_objective_1_4_NoDisjunction_0', 'neos-1442119_objective_1_64_New_0', 'neos-1442119_objective_1_64_Farkas_0', 'neos-1442119_objective_1_64_NoDisjunction_0', 'neos-1442119_rhs_-1_4_New_0', 'neos-1442119_rhs_-1_4_Farkas_0', 'neos-1442119_rhs_-1_4_NoDisjunction_0', 'neos-1442119_rhs_-1_64_New_0', 'neos-1442119_rhs_-1_64_Farkas_0', 'neos-1442119_rhs_-1_64_NoDisjunction_0', 'neos-1442119_matrix_-1_4_New_0', 'neos-1442119_matrix_-1_4_Farkas_0', 'neos-1442119_matrix_-1_4_NoDisjunction_0', 'neos-1442119_matrix_-1_64_New_0', 'neos-1442119_matrix_-1_64_Farkas_0', 'neos-1442119_matrix_-1_64_NoDisjunction_0', 'neos-1442119_objective_-1_4_New_0', 'neos-1442119_objective_-1_4_Farkas_0', 'neos-1442119_objective_-1_4_NoDisjunction_0', 'neos-1442119_objective_-1_64_New_0', 'neos-1442119_objective_-1_64_Farkas_0', 'neos-1442119_objective_-1_64_NoDisjunction_0', 'seymour1_rhs_1_64_New_0', 'seymour1_rhs_1_64_Farkas_0', 'seymour1_rhs_1_64_NoDisjunction_0', 'seymour1_objective_1_64_New_0', 'seymour1_objective_1_64_Farkas_0', 'seymour1_objective_1_64_NoDisjunction_0', 'seymour1_matrix_1_64_New_0', 'seymour1_matrix_1_64_Farkas_0', 'seymour1_matrix_1_64_NoDisjunction_0', 'seymour1_matrix_-1_64_New_0', 'seymour1_matrix_-1_64_Farkas_0', 'seymour1_matrix_-1_64_NoDisjunction_0', 'seymour1_objective_-1_64_New_0', 'seymour1_objective_-1_64_Farkas_0', 'seymour1_objective_-1_64_NoDisjunction_0', 'fhnw-binpack4-48_rhs_-1_4_New_0', 'fhnw-binpack4-48_rhs_-1_4_Farkas_0', 'fhnw-binpack4-48_rhs_-1_4_NoDisjunction_0', 'fhnw-binpack4-48_rhs_-1_64_New_0', 'fhnw-binpack4-48_rhs_-1_64_Farkas_0', 'fhnw-binpack4-48_rhs_-1_64_NoDisjunction_0', 'fhnw-binpack4-48_matrix_-1_4_New_0', 'fhnw-binpack4-48_matrix_-1_4_Farkas_0', 'fhnw-binpack4-48_matrix_-1_4_NoDisjunction_0', 'fhnw-binpack4-48_matrix_-1_64_New_0', 'fhnw-binpack4-48_matrix_-1_64_Farkas_0', 'fhnw-binpack4-48_matrix_-1_64_NoDisjunction_0', 'fhnw-binpack4-48_objective_-1_4_New_0', 'fhnw-binpack4-48_objective_-1_4_Farkas_0', 'fhnw-binpack4-48_objective_-1_4_NoDisjunction_0', 'fhnw-binpack4-48_objective_-1_64_New_0', 'fhnw-binpack4-48_objective_-1_64_Farkas_0', 'fhnw-binpack4-48_objective_-1_64_NoDisjunction_0', 'ns1208400_rhs_1_4_New_0', 'ns1208400_rhs_1_4_NoDisjunction_0', 'ns1208400_rhs_1_64_New_0', 'ns1208400_rhs_1_64_Farkas_0', 'ns1208400_rhs_1_64_NoDisjunction_0', 'ns1208400_objective_1_4_New_0', 'ns1208400_objective_1_4_NoDisjunction_0', 'ns1208400_objective_1_64_New_0', 'ns1208400_objective_1_64_Farkas_0', 'ns1208400_objective_1_64_NoDisjunction_0', 'ns1208400_matrix_1_4_Farkas_0', 'ns1208400_matrix_1_4_NoDisjunction_0', 'ns1208400_matrix_1_64_New_0', 'ns1208400_matrix_1_64_Farkas_0', 'ns1208400_matrix_1_64_NoDisjunction_0', 'ns1208400_matrix_-1_4_New_0', 'ns1208400_matrix_-1_4_Farkas_0', 'ns1208400_matrix_-1_4_NoDisjunction_0', 'ns1208400_matrix_-1_64_New_0', 'ns1208400_matrix_-1_64_Farkas_0', 'ns1208400_matrix_-1_64_NoDisjunction_0', 'ns1208400_objective_-1_4_NoDisjunction_0', 'ns1208400_objective_-1_64_New_0', 'ns1208400_objective_-1_64_Farkas_0', 'ns1208400_objective_-1_64_NoDisjunction_0', 'neos-1112787_rhs_1_4_New_0', 'neos-1112787_rhs_1_4_Farkas_0', 'neos-1112787_rhs_1_4_NoDisjunction_0', 'neos-1112787_rhs_1_64_New_0', 'neos-1112787_rhs_1_64_Farkas_0', 'neos-1112787_rhs_1_64_NoDisjunction_0', 'neos-1112787_objective_1_4_New_0', 'neos-1112787_objective_1_4_Farkas_0', 'neos-1112787_objective_1_4_NoDisjunction_0', 'neos-1112787_objective_1_64_New_0', 'neos-1112787_objective_1_64_Farkas_0', 'neos-1112787_objective_1_64_NoDisjunction_0', 'neos-1112787_matrix_1_4_New_0', 'neos-1112787_matrix_1_4_Farkas_0', 'neos-1112787_matrix_1_4_NoDisjunction_0', 'neos-1112787_matrix_1_64_New_0', 'neos-1112787_matrix_1_64_Farkas_0', 'neos-1112787_matrix_1_64_NoDisjunction_0', 'neos-1112787_rhs_-1_4_New_0', 'neos-1112787_rhs_-1_4_Farkas_0', 'neos-1112787_rhs_-1_4_NoDisjunction_0', 'neos-1112787_rhs_-1_64_New_0', 'neos-1112787_rhs_-1_64_Farkas_0', 'neos-1112787_rhs_-1_64_NoDisjunction_0', 'neos-1112787_matrix_-1_4_New_0', 'neos-1112787_matrix_-1_4_Farkas_0', 'neos-1112787_matrix_-1_4_NoDisjunction_0', 'neos-1112787_matrix_-1_64_New_0', 'neos-1112787_matrix_-1_64_Farkas_0', 'neos-1112787_matrix_-1_64_NoDisjunction_0', 'neos-1112787_objective_-1_4_New_0', 'neos-1112787_objective_-1_4_Farkas_0', 'neos-1112787_objective_-1_4_NoDisjunction_0', 'neos-1112787_objective_-1_64_New_0', 'neos-1112787_objective_-1_64_Farkas_0', 'neos-1112787_objective_-1_64_NoDisjunction_0', 'app2-2_objective_1_4_New_0', 'app2-2_objective_1_4_Farkas_0', 'app2-2_objective_1_4_NoDisjunction_0', 'app2-2_matrix_1_4_New_0', 'app2-2_matrix_1_4_Farkas_0', 'app2-2_matrix_1_4_NoDisjunction_0', 'app2-2_rhs_-1_4_New_0', 'app2-2_rhs_-1_4_Farkas_0', 'app2-2_rhs_-1_4_NoDisjunction_0', 'app2-2_matrix_-1_4_New_0', 'app2-2_matrix_-1_4_Farkas_0', 'app2-2_matrix_-1_4_NoDisjunction_0', 'app2-2_objective_-1_4_New_0', 'app2-2_objective_-1_4_Farkas_0', 'app2-2_objective_-1_4_NoDisjunction_0', 'mappingmesh3x3mpeg2i_objective_1_4_New_0', 'mappingmesh3x3mpeg2i_objective_1_4_Farkas_0', 'mappingmesh3x3mpeg2i_objective_1_4_NoDisjunction_0', 'mappingmesh3x3mpeg2i_objective_1_64_New_0', 'mappingmesh3x3mpeg2i_objective_1_64_Farkas_0', 'mappingmesh3x3mpeg2i_objective_1_64_NoDisjunction_0', 'mappingmesh3x3mpeg2i_objective_-1_4_New_0', 'mappingmesh3x3mpeg2i_objective_-1_4_Farkas_0', 'mappingmesh3x3mpeg2i_objective_-1_4_NoDisjunction_0', 'mappingmesh3x3mpeg2i_objective_-1_64_New_0', 'mappingmesh3x3mpeg2i_objective_-1_64_Farkas_0', 'mappingmesh3x3mpeg2i_objective_-1_64_NoDisjunction_0', 'neos-3381206-awhea_rhs_1_4_New_0', 'neos-3381206-awhea_rhs_1_4_Farkas_0', 'neos-3381206-awhea_rhs_1_4_NoDisjunction_0', 'neos-3381206-awhea_rhs_1_64_New_0', 'neos-3381206-awhea_rhs_1_64_Farkas_0', 'neos-3381206-awhea_rhs_1_64_NoDisjunction_0', 'neos-3381206-awhea_objective_1_4_New_0', 'neos-3381206-awhea_objective_1_4_Farkas_0', 'neos-3381206-awhea_objective_1_4_NoDisjunction_0', 'neos-3381206-awhea_objective_1_64_New_0', 'neos-3381206-awhea_objective_1_64_Farkas_0', 'neos-3381206-awhea_objective_1_64_NoDisjunction_0', 'neos-3381206-awhea_matrix_1_4_New_0', 'neos-3381206-awhea_matrix_1_4_Farkas_0', 'neos-3381206-awhea_matrix_1_4_NoDisjunction_0', 'neos-3381206-awhea_matrix_1_64_New_0', 'neos-3381206-awhea_matrix_1_64_Farkas_0', 'neos-3381206-awhea_matrix_1_64_NoDisjunction_0', 'neos-3381206-awhea_rhs_-1_4_New_0', 'neos-3381206-awhea_rhs_-1_4_Farkas_0', 'neos-3381206-awhea_rhs_-1_4_NoDisjunction_0', 'neos-3381206-awhea_rhs_-1_64_New_0', 'neos-3381206-awhea_rhs_-1_64_Farkas_0', 'neos-3381206-awhea_rhs_-1_64_NoDisjunction_0', 'neos-3381206-awhea_matrix_-1_4_New_0', 'neos-3381206-awhea_matrix_-1_4_Farkas_0', 'neos-3381206-awhea_matrix_-1_4_NoDisjunction_0', 'neos-3381206-awhea_matrix_-1_64_New_0', 'neos-3381206-awhea_matrix_-1_64_Farkas_0', 'neos-3381206-awhea_matrix_-1_64_NoDisjunction_0', 'neos-3381206-awhea_objective_-1_4_New_0', 'neos-3381206-awhea_objective_-1_4_Farkas_0', 'neos-3381206-awhea_objective_-1_4_NoDisjunction_0', 'neos-3381206-awhea_objective_-1_64_New_0', 'neos-3381206-awhea_objective_-1_64_Farkas_0', 'neos-3381206-awhea_objective_-1_64_NoDisjunction_0', 'neos-691058_rhs_1_4_New_0', 'neos-691058_rhs_1_4_Farkas_0', 'neos-691058_rhs_1_4_NoDisjunction_0', 'neos-691058_rhs_1_64_New_0', 'neos-691058_rhs_1_64_Farkas_0', 'neos-691058_rhs_1_64_NoDisjunction_0', 'neos-691058_objective_1_4_New_0', 'neos-691058_objective_1_4_Farkas_0', 'neos-691058_objective_1_4_NoDisjunction_0', 'neos-691058_objective_1_64_New_0', 'neos-691058_objective_1_64_Farkas_0', 'neos-691058_objective_1_64_NoDisjunction_0', 'neos-691058_matrix_1_4_New_0', 'neos-691058_matrix_1_4_Farkas_0', 'neos-691058_matrix_1_4_NoDisjunction_0', 'neos-691058_matrix_1_64_New_0', 'neos-691058_matrix_1_64_Farkas_0', 'neos-691058_matrix_1_64_NoDisjunction_0', 'neos-691058_matrix_-1_4_New_0', 'neos-691058_matrix_-1_4_Farkas_0', 'neos-691058_matrix_-1_4_NoDisjunction_0', 'neos-691058_matrix_-1_64_New_0', 'neos-691058_matrix_-1_64_Farkas_0', 'neos-691058_matrix_-1_64_NoDisjunction_0', 'neos-691058_objective_-1_4_New_0', 'neos-691058_objective_-1_4_Farkas_0', 'neos-691058_objective_-1_4_NoDisjunction_0', 'neos-691058_objective_-1_64_New_0', 'neos-691058_objective_-1_64_Farkas_0', 'neos-691058_objective_-1_64_NoDisjunction_0', 'rentacar_objective_1_64_New_0', 'rentacar_objective_1_64_Farkas_0', 'rentacar_objective_1_64_NoDisjunction_0', 'rentacar_matrix_-1_64_New_0', 'rentacar_matrix_-1_64_Farkas_0', 'rentacar_matrix_-1_64_NoDisjunction_0', 'rentacar_objective_-1_64_New_0', 'rentacar_objective_-1_64_Farkas_0', 'rentacar_objective_-1_64_NoDisjunction_0', 'neos22_objective_1_64_New_0', 'neos22_objective_1_64_Farkas_0', 'neos22_objective_1_64_NoDisjunction_0', 'neos22_rhs_-1_64_New_0', 'neos22_rhs_-1_64_Farkas_0', 'neos22_rhs_-1_64_NoDisjunction_0', 'neos22_objective_-1_64_New_0', 'neos22_objective_-1_64_Farkas_0', 'neos22_objective_-1_64_NoDisjunction_0', 'fastxgemm-n2r7s4t1_rhs_1_4_New_0', 'fastxgemm-n2r7s4t1_rhs_1_4_Farkas_0', 'fastxgemm-n2r7s4t1_rhs_1_4_NoDisjunction_0', 'fastxgemm-n2r7s4t1_rhs_1_64_New_0', 'fastxgemm-n2r7s4t1_rhs_1_64_Farkas_0', 'fastxgemm-n2r7s4t1_rhs_1_64_NoDisjunction_0', 'fastxgemm-n2r7s4t1_objective_1_4_New_0', 'fastxgemm-n2r7s4t1_objective_1_4_Farkas_0', 'fastxgemm-n2r7s4t1_objective_1_4_NoDisjunction_0', 'fastxgemm-n2r7s4t1_objective_1_64_New_0', 'fastxgemm-n2r7s4t1_objective_1_64_Farkas_0', 'fastxgemm-n2r7s4t1_objective_1_64_NoDisjunction_0', 'fastxgemm-n2r7s4t1_matrix_1_4_New_0', 'fastxgemm-n2r7s4t1_matrix_1_4_Farkas_0', 'fastxgemm-n2r7s4t1_matrix_1_4_NoDisjunction_0', 'fastxgemm-n2r7s4t1_matrix_1_64_New_0', 'fastxgemm-n2r7s4t1_matrix_1_64_Farkas_0', 'fastxgemm-n2r7s4t1_matrix_1_64_NoDisjunction_0', 'fastxgemm-n2r7s4t1_objective_-1_4_New_0', 'fastxgemm-n2r7s4t1_objective_-1_4_Farkas_0', 'fastxgemm-n2r7s4t1_objective_-1_4_NoDisjunction_0', 'fastxgemm-n2r7s4t1_objective_-1_64_New_0', 'fastxgemm-n2r7s4t1_objective_-1_64_Farkas_0', 'fastxgemm-n2r7s4t1_objective_-1_64_NoDisjunction_0', 'supportcase26_rhs_1_64_New_0', 'supportcase26_rhs_1_64_Farkas_0', 'supportcase26_rhs_1_64_NoDisjunction_0', 'supportcase26_objective_1_64_New_0', 'supportcase26_objective_1_64_Farkas_0', 'supportcase26_objective_1_64_NoDisjunction_0', 'supportcase26_rhs_-1_64_New_0', 'supportcase26_rhs_-1_64_Farkas_0', 'supportcase26_rhs_-1_64_NoDisjunction_0', 'supportcase26_matrix_-1_64_New_0', 'supportcase26_matrix_-1_64_Farkas_0', 'supportcase26_matrix_-1_64_NoDisjunction_0', 'supportcase26_objective_-1_64_New_0', 'supportcase26_objective_-1_64_Farkas_0', 'supportcase26_objective_-1_64_NoDisjunction_0', 'neos-3696678-lyvia_rhs_1_4_New_0', 'neos-3696678-lyvia_rhs_1_4_Farkas_0', 'neos-3696678-lyvia_rhs_1_4_NoDisjunction_0', 'neos-3696678-lyvia_rhs_1_64_New_0', 'neos-3696678-lyvia_rhs_1_64_Farkas_0', 'neos-3696678-lyvia_rhs_1_64_NoDisjunction_0', 'neos-3696678-lyvia_objective_1_4_New_0', 'neos-3696678-lyvia_objective_1_4_Farkas_0', 'neos-3696678-lyvia_objective_1_4_NoDisjunction_0', 'neos-3696678-lyvia_objective_1_64_New_0', 'neos-3696678-lyvia_objective_1_64_Farkas_0', 'neos-3696678-lyvia_objective_1_64_NoDisjunction_0', 'neos-3696678-lyvia_rhs_-1_4_New_0', 'neos-3696678-lyvia_rhs_-1_4_Farkas_0', 'neos-3696678-lyvia_rhs_-1_4_NoDisjunction_0', 'neos-3696678-lyvia_rhs_-1_64_New_0', 'neos-3696678-lyvia_rhs_-1_64_Farkas_0', 'neos-3696678-lyvia_rhs_-1_64_NoDisjunction_0', 'neos-3696678-lyvia_objective_-1_4_New_0', 'neos-3696678-lyvia_objective_-1_4_Farkas_0', 'neos-3696678-lyvia_objective_-1_4_NoDisjunction_0', 'neos-3696678-lyvia_objective_-1_64_New_0', 'neos-3696678-lyvia_objective_-1_64_Farkas_0', 'neos-3696678-lyvia_objective_-1_64_NoDisjunction_0', 'neos-1425699_rhs_1_4_New_0', 'neos-1425699_rhs_1_4_Farkas_0', 'neos-1425699_rhs_1_4_NoDisjunction_0', 'neos-1425699_rhs_1_64_New_0', 'neos-1425699_rhs_1_64_Farkas_0', 'neos-1425699_rhs_1_64_NoDisjunction_0', 'neos-1425699_objective_1_4_New_0', 'neos-1425699_objective_1_4_Farkas_0', 'neos-1425699_objective_1_4_NoDisjunction_0', 'neos-1425699_objective_1_64_New_0', 'neos-1425699_objective_1_64_Farkas_0', 'neos-1425699_objective_1_64_NoDisjunction_0', 'neos-1425699_matrix_1_4_New_0', 'neos-1425699_matrix_1_4_Farkas_0', 'neos-1425699_matrix_1_4_NoDisjunction_0', 'neos-1425699_matrix_1_64_New_0', 'neos-1425699_matrix_1_64_Farkas_0', 'neos-1425699_matrix_1_64_NoDisjunction_0', 'neos-1425699_rhs_-1_4_New_0', 'neos-1425699_rhs_-1_4_Farkas_0', 'neos-1425699_rhs_-1_4_NoDisjunction_0', 'neos-1425699_rhs_-1_64_New_0', 'neos-1425699_rhs_-1_64_Farkas_0', 'neos-1425699_rhs_-1_64_NoDisjunction_0', 'neos-1425699_matrix_-1_4_New_0', 'neos-1425699_matrix_-1_4_Farkas_0', 'neos-1425699_matrix_-1_4_NoDisjunction_0', 'neos-1425699_matrix_-1_64_New_0', 'neos-1425699_matrix_-1_64_Farkas_0', 'neos-1425699_matrix_-1_64_NoDisjunction_0', 'neos-1425699_objective_-1_4_New_0', 'neos-1425699_objective_-1_4_Farkas_0', 'neos-1425699_objective_-1_4_NoDisjunction_0', 'neos-1425699_objective_-1_64_New_0', 'neos-1425699_objective_-1_64_Farkas_0', 'neos-1425699_objective_-1_64_NoDisjunction_0', 'cod105_rhs_1_4_New_0', 'cod105_rhs_1_4_Farkas_0', 'cod105_rhs_1_4_NoDisjunction_0', 'cod105_objective_1_4_New_0', 'cod105_objective_1_4_Farkas_0', 'cod105_objective_1_4_NoDisjunction_0', 'cod105_objective_1_64_NoDisjunction_0', 'cod105_matrix_1_4_New_0', 'cod105_matrix_1_4_Farkas_0', 'cod105_matrix_1_4_NoDisjunction_0', 'cod105_matrix_1_64_NoDisjunction_0', 'cod105_matrix_-1_4_New_0', 'cod105_matrix_-1_4_Farkas_0', 'cod105_matrix_-1_4_NoDisjunction_0', 'cod105_matrix_-1_64_New_0', 'cod105_matrix_-1_64_Farkas_0', 'cod105_matrix_-1_64_NoDisjunction_0', 'cod105_objective_-1_4_New_0', 'cod105_objective_-1_4_Farkas_0', 'cod105_objective_-1_4_NoDisjunction_0', 'cod105_objective_-1_64_Farkas_0', 'cod105_objective_-1_64_NoDisjunction_0', 'neos-1601936_rhs_1_4_New_0', 'neos-1601936_rhs_1_4_Farkas_0', 'neos-1601936_rhs_1_4_NoDisjunction_0', 'neos-1601936_rhs_1_64_New_0', 'neos-1601936_rhs_1_64_Farkas_0', 'neos-1601936_rhs_1_64_NoDisjunction_0', 'neos-1601936_matrix_1_4_New_0', 'neos-1601936_matrix_1_4_Farkas_0', 'neos-1601936_matrix_1_4_NoDisjunction_0', 'neos-1601936_matrix_1_64_New_0', 'neos-1601936_matrix_1_64_Farkas_0', 'neos-1601936_matrix_1_64_NoDisjunction_0', 'neos-1601936_rhs_-1_4_New_0', 'neos-1601936_rhs_-1_4_Farkas_0', 'neos-1601936_rhs_-1_4_NoDisjunction_0', 'neos-1601936_rhs_-1_64_New_0', 'neos-1601936_rhs_-1_64_Farkas_0', 'neos-1601936_rhs_-1_64_NoDisjunction_0', 'neos-1601936_matrix_-1_4_New_0', 'neos-1601936_matrix_-1_4_Farkas_0', 'neos-1601936_matrix_-1_4_NoDisjunction_0', 'neos-1601936_matrix_-1_64_New_0', 'neos-1601936_matrix_-1_64_Farkas_0', 'neos-1601936_matrix_-1_64_NoDisjunction_0', 'neos-1601936_objective_-1_4_New_0', 'neos-1601936_objective_-1_4_Farkas_0', 'neos-1601936_objective_-1_4_NoDisjunction_0', 'neos-1601936_objective_-1_64_New_0', 'neos-1601936_objective_-1_64_Farkas_0', 'neos-1601936_objective_-1_64_NoDisjunction_0', 'neos-1445743_objective_1_64_New_0', 'neos-1445743_objective_1_64_Farkas_0', 'neos-1445743_objective_1_64_NoDisjunction_0', 'neos-1445743_matrix_1_64_New_0', 'neos-1445743_matrix_1_64_Farkas_0', 'neos-1445743_matrix_1_64_NoDisjunction_0', 'neos-1445743_matrix_-1_64_New_0', 'neos-1445743_matrix_-1_64_Farkas_0', 'neos-1445743_matrix_-1_64_NoDisjunction_0', 'neos-1445743_objective_-1_64_New_0', 'neos-1445743_objective_-1_64_Farkas_0', 'neos-1445743_objective_-1_64_NoDisjunction_0', 'opt1217_objective_1_4_New_0', 'opt1217_objective_1_4_Farkas_0', 'opt1217_objective_1_4_NoDisjunction_0', 'opt1217_objective_1_64_New_0', 'opt1217_objective_1_64_Farkas_0', 'opt1217_objective_1_64_NoDisjunction_0', 'opt1217_matrix_1_4_New_0', 'opt1217_matrix_1_4_Farkas_0', 'opt1217_matrix_1_4_NoDisjunction_0', 'opt1217_matrix_1_64_New_0', 'opt1217_matrix_1_64_Farkas_0', 'opt1217_matrix_1_64_NoDisjunction_0', 'opt1217_matrix_-1_4_New_0', 'opt1217_matrix_-1_4_Farkas_0', 'opt1217_matrix_-1_4_NoDisjunction_0', 'opt1217_matrix_-1_64_New_0', 'opt1217_matrix_-1_64_Farkas_0', 'opt1217_matrix_-1_64_NoDisjunction_0', 'opt1217_objective_-1_4_New_0', 'opt1217_objective_-1_4_Farkas_0', 'opt1217_objective_-1_4_NoDisjunction_0', 'opt1217_objective_-1_64_New_0', 'opt1217_objective_-1_64_Farkas_0', 'opt1217_objective_-1_64_NoDisjunction_0', 'neos-1223462_rhs_1_4_New_0', 'neos-1223462_rhs_1_4_Farkas_0', 'neos-1223462_rhs_1_4_NoDisjunction_0', 'neos-1223462_rhs_1_64_New_0', 'neos-1223462_rhs_1_64_Farkas_0', 'neos-1223462_rhs_1_64_NoDisjunction_0', 'neos-1223462_objective_1_4_New_0', 'neos-1223462_objective_1_4_Farkas_0', 'neos-1223462_objective_1_4_NoDisjunction_0', 'neos-1223462_objective_1_64_New_0', 'neos-1223462_objective_1_64_Farkas_0', 'neos-1223462_objective_1_64_NoDisjunction_0', 'neos-1223462_matrix_1_4_New_0', 'neos-1223462_matrix_1_4_Farkas_0', 'neos-1223462_matrix_1_4_NoDisjunction_0', 'neos-1223462_matrix_1_64_New_0', 'neos-1223462_matrix_1_64_Farkas_0', 'neos-1223462_matrix_1_64_NoDisjunction_0', 'neos-1223462_matrix_-1_4_New_0', 'neos-1223462_matrix_-1_4_Farkas_0', 'neos-1223462_matrix_-1_4_NoDisjunction_0', 'neos-1223462_matrix_-1_64_New_0', 'neos-1223462_matrix_-1_64_Farkas_0', 'neos-1223462_matrix_-1_64_NoDisjunction_0', 'neos-1223462_objective_-1_4_New_0', 'neos-1223462_objective_-1_4_Farkas_0', 'neos-1223462_objective_-1_4_NoDisjunction_0', 'neos-1223462_objective_-1_64_New_0', 'neos-1223462_objective_-1_64_Farkas_0', 'neos-1223462_objective_-1_64_NoDisjunction_0', 'neos-1516309_objective_1_4_New_0', 'neos-1516309_objective_1_4_Farkas_0', 'neos-1516309_objective_1_4_NoDisjunction_0', 'neos-1516309_objective_1_64_New_0', 'neos-1516309_objective_1_64_Farkas_0', 'neos-1516309_objective_1_64_NoDisjunction_0', 'neos-1516309_matrix_1_4_New_0', 'neos-1516309_matrix_1_4_Farkas_0', 'neos-1516309_matrix_1_4_NoDisjunction_0', 'neos-1516309_matrix_1_64_New_0', 'neos-1516309_matrix_1_64_Farkas_0', 'neos-1516309_matrix_1_64_NoDisjunction_0', 'neos-1516309_objective_-1_4_New_0', 'neos-1516309_objective_-1_4_Farkas_0', 'neos-1516309_objective_-1_4_NoDisjunction_0', 'neos-1516309_objective_-1_64_New_0', 'neos-1516309_objective_-1_64_Farkas_0', 'neos-1516309_objective_-1_64_NoDisjunction_0', '22433_objective_1_64_New_0', '22433_objective_1_64_Farkas_0', '22433_objective_1_64_NoDisjunction_0', '22433_matrix_1_64_New_0', '22433_matrix_1_64_Farkas_0', '22433_matrix_1_64_NoDisjunction_0', '22433_rhs_-1_64_New_0', '22433_rhs_-1_64_Farkas_0', '22433_rhs_-1_64_NoDisjunction_0', '22433_matrix_-1_64_New_0', '22433_matrix_-1_64_Farkas_0', '22433_matrix_-1_64_NoDisjunction_0', '22433_objective_-1_64_New_0', '22433_objective_-1_64_Farkas_0', '22433_objective_-1_64_NoDisjunction_0', 'neos-5192052-neckar_rhs_1_4_New_0', 'neos-5192052-neckar_rhs_1_4_Farkas_0', 'neos-5192052-neckar_rhs_1_4_NoDisjunction_0', 'neos-5192052-neckar_rhs_1_64_New_0', 'neos-5192052-neckar_rhs_1_64_Farkas_0', 'neos-5192052-neckar_rhs_1_64_NoDisjunction_0', 'neos-5192052-neckar_objective_1_4_New_0', 'neos-5192052-neckar_objective_1_4_Farkas_0', 'neos-5192052-neckar_objective_1_4_NoDisjunction_0', 'neos-5192052-neckar_objective_1_64_New_0', 'neos-5192052-neckar_objective_1_64_Farkas_0', 'neos-5192052-neckar_objective_1_64_NoDisjunction_0', 'neos-5192052-neckar_matrix_1_4_New_0', 'neos-5192052-neckar_matrix_1_4_Farkas_0', 'neos-5192052-neckar_matrix_1_4_NoDisjunction_0', 'neos-5192052-neckar_matrix_1_64_New_0', 'neos-5192052-neckar_matrix_1_64_Farkas_0', 'neos-5192052-neckar_matrix_1_64_NoDisjunction_0', 'neos-5192052-neckar_rhs_-1_4_New_0', 'neos-5192052-neckar_rhs_-1_4_Farkas_0', 'neos-5192052-neckar_rhs_-1_4_NoDisjunction_0', 'neos-5192052-neckar_rhs_-1_64_New_0', 'neos-5192052-neckar_rhs_-1_64_Farkas_0', 'neos-5192052-neckar_rhs_-1_64_NoDisjunction_0', 'neos-5192052-neckar_matrix_-1_4_New_0', 'neos-5192052-neckar_matrix_-1_4_Farkas_0', 'neos-5192052-neckar_matrix_-1_4_NoDisjunction_0', 'neos-5192052-neckar_matrix_-1_64_New_0', 'neos-5192052-neckar_matrix_-1_64_Farkas_0', 'neos-5192052-neckar_matrix_-1_64_NoDisjunction_0', 'neos-5192052-neckar_objective_-1_4_New_0', 'neos-5192052-neckar_objective_-1_4_Farkas_0', 'neos-5192052-neckar_objective_-1_4_NoDisjunction_0', 'neos-5192052-neckar_objective_-1_64_New_0', 'neos-5192052-neckar_objective_-1_64_Farkas_0', 'neos-5192052-neckar_objective_-1_64_NoDisjunction_0', 'supportcase16_objective_1_4_New_0', 'supportcase16_objective_1_4_Farkas_0', 'supportcase16_objective_1_4_NoDisjunction_0', 'supportcase16_objective_1_64_New_0', 'supportcase16_objective_1_64_Farkas_0', 'supportcase16_objective_1_64_NoDisjunction_0', 'supportcase16_objective_-1_4_New_0', 'supportcase16_objective_-1_4_Farkas_0', 'supportcase16_objective_-1_4_NoDisjunction_0', 'supportcase16_objective_-1_64_New_0', 'supportcase16_objective_-1_64_Farkas_0', 'supportcase16_objective_-1_64_NoDisjunction_0', 'aligninq_objective_1_64_New_0', 'aligninq_objective_1_64_Farkas_0', 'aligninq_objective_1_64_NoDisjunction_0', 'aligninq_matrix_1_64_New_0', 'aligninq_matrix_1_64_Farkas_0', 'aligninq_matrix_1_64_NoDisjunction_0', 'aligninq_rhs_-1_64_New_0', 'aligninq_rhs_-1_64_Farkas_0', 'aligninq_rhs_-1_64_NoDisjunction_0', 'aligninq_matrix_-1_64_New_0', 'aligninq_matrix_-1_64_Farkas_0', 'aligninq_matrix_-1_64_NoDisjunction_0', 'aligninq_objective_-1_64_New_0', 'aligninq_objective_-1_64_Farkas_0', 'aligninq_objective_-1_64_NoDisjunction_0', 'neos-3734794-moppy_objective_1_4_New_0', 'neos-3734794-moppy_objective_1_4_Farkas_0', 'neos-3734794-moppy_objective_1_4_NoDisjunction_0', 'neos-3734794-moppy_objective_1_64_New_0', 'neos-3734794-moppy_objective_1_64_Farkas_0', 'neos-3734794-moppy_objective_1_64_NoDisjunction_0', 'neos-3734794-moppy_matrix_1_4_New_0', 'neos-3734794-moppy_matrix_1_4_Farkas_0', 'neos-3734794-moppy_matrix_1_4_NoDisjunction_0', 'neos-3734794-moppy_matrix_1_64_New_0', 'neos-3734794-moppy_matrix_1_64_Farkas_0', 'neos-3734794-moppy_matrix_1_64_NoDisjunction_0', 'neos-3734794-moppy_matrix_-1_4_New_0', 'neos-3734794-moppy_matrix_-1_4_Farkas_0', 'neos-3734794-moppy_matrix_-1_4_NoDisjunction_0', 'neos-3734794-moppy_matrix_-1_64_New_0', 'neos-3734794-moppy_matrix_-1_64_Farkas_0', 'neos-3734794-moppy_matrix_-1_64_NoDisjunction_0', 'neos-3734794-moppy_objective_-1_4_New_0', 'neos-3734794-moppy_objective_-1_4_Farkas_0', 'neos-3734794-moppy_objective_-1_4_NoDisjunction_0', 'neos-3734794-moppy_objective_-1_64_New_0', 'neos-3734794-moppy_objective_-1_64_Farkas_0', 'neos-3734794-moppy_objective_-1_64_NoDisjunction_0', 'neos-3665875-lesum_rhs_1_64_Farkas_0', 'neos-3665875-lesum_rhs_1_64_NoDisjunction_0', 'neos-3665875-lesum_objective_1_64_New_0', 'neos-3665875-lesum_objective_1_64_Farkas_0', 'neos-3665875-lesum_objective_1_64_NoDisjunction_0', 'neos-3665875-lesum_matrix_1_64_New_0', 'neos-3665875-lesum_matrix_1_64_Farkas_0', 'neos-3665875-lesum_matrix_1_64_NoDisjunction_0', 'neos-3665875-lesum_objective_-1_64_New_0', 'neos-3665875-lesum_objective_-1_64_Farkas_0', 'neos-3665875-lesum_objective_-1_64_NoDisjunction_0', 'dsbmip_objective_1_4_New_0', 'dsbmip_objective_1_4_Farkas_0', 'dsbmip_objective_1_4_NoDisjunction_0', 'dsbmip_objective_1_64_New_0', 'dsbmip_objective_1_64_Farkas_0', 'dsbmip_objective_1_64_NoDisjunction_0', 'dsbmip_matrix_-1_4_New_0', 'dsbmip_matrix_-1_4_Farkas_0', 'dsbmip_matrix_-1_4_NoDisjunction_0', 'dsbmip_matrix_-1_64_New_0', 'dsbmip_matrix_-1_64_Farkas_0', 'dsbmip_matrix_-1_64_NoDisjunction_0', 'dsbmip_objective_-1_4_New_0', 'dsbmip_objective_-1_4_Farkas_0', 'dsbmip_objective_-1_4_NoDisjunction_0', 'dsbmip_objective_-1_64_New_0', 'dsbmip_objective_-1_64_Farkas_0', 'dsbmip_objective_-1_64_NoDisjunction_0', 'gr4x6_rhs_1_64_New_0', 'gr4x6_rhs_1_64_Farkas_0', 'gr4x6_rhs_1_64_NoDisjunction_0', 'gr4x6_objective_1_64_New_0', 'gr4x6_objective_1_64_Farkas_0', 'gr4x6_objective_1_64_NoDisjunction_0', 'gr4x6_matrix_1_64_New_0', 'gr4x6_matrix_1_64_Farkas_0', 'gr4x6_matrix_1_64_NoDisjunction_0', 'gr4x6_objective_-1_64_New_0', 'gr4x6_objective_-1_64_Farkas_0', 'gr4x6_objective_-1_64_NoDisjunction_0', 'shiftreg1-4_matrix_1_4_New_0', 'shiftreg1-4_matrix_1_4_Farkas_0', 'shiftreg1-4_matrix_1_4_NoDisjunction_0', 'shiftreg1-4_matrix_1_64_New_0', 'shiftreg1-4_matrix_1_64_Farkas_0', 'shiftreg1-4_matrix_1_64_NoDisjunction_0', 'shiftreg1-4_matrix_-1_4_New_0', 'shiftreg1-4_matrix_-1_4_Farkas_0', 'shiftreg1-4_matrix_-1_4_NoDisjunction_0', 'shiftreg1-4_matrix_-1_64_New_0', 'shiftreg1-4_matrix_-1_64_Farkas_0', 'shiftreg1-4_matrix_-1_64_NoDisjunction_0', 'shiftreg1-4_objective_-1_4_New_0', 'shiftreg1-4_objective_-1_4_Farkas_0', 'shiftreg1-4_objective_-1_4_NoDisjunction_0', 'shiftreg1-4_objective_-1_64_New_0', 'shiftreg1-4_objective_-1_64_Farkas_0', 'shiftreg1-4_objective_-1_64_NoDisjunction_0', 'markshare_5_0_rhs_1_4_New_0', 'markshare_5_0_rhs_1_4_Farkas_0', 'markshare_5_0_rhs_1_4_NoDisjunction_0', 'markshare_5_0_rhs_1_64_New_0', 'markshare_5_0_rhs_1_64_Farkas_0', 'markshare_5_0_rhs_1_64_NoDisjunction_0', 'markshare_5_0_objective_1_4_New_0', 'markshare_5_0_objective_1_4_Farkas_0', 'markshare_5_0_objective_1_4_NoDisjunction_0', 'markshare_5_0_objective_1_64_New_0', 'markshare_5_0_objective_1_64_Farkas_0', 'markshare_5_0_objective_1_64_NoDisjunction_0', 'markshare_5_0_matrix_1_4_New_0', 'markshare_5_0_matrix_1_4_Farkas_0', 'markshare_5_0_matrix_1_4_NoDisjunction_0', 'markshare_5_0_matrix_1_64_New_0', 'markshare_5_0_matrix_1_64_Farkas_0', 'markshare_5_0_matrix_1_64_NoDisjunction_0', 'markshare_5_0_rhs_-1_4_New_0', 'markshare_5_0_rhs_-1_4_Farkas_0', 'markshare_5_0_rhs_-1_4_NoDisjunction_0', 'markshare_5_0_rhs_-1_64_New_0', 'markshare_5_0_rhs_-1_64_Farkas_0', 'markshare_5_0_rhs_-1_64_NoDisjunction_0', 'markshare_5_0_matrix_-1_4_New_0', 'markshare_5_0_matrix_-1_4_Farkas_0', 'markshare_5_0_matrix_-1_4_NoDisjunction_0', 'markshare_5_0_matrix_-1_64_New_0', 'markshare_5_0_matrix_-1_64_Farkas_0', 'markshare_5_0_matrix_-1_64_NoDisjunction_0', 'markshare_5_0_objective_-1_4_New_0', 'markshare_5_0_objective_-1_4_Farkas_0', 'markshare_5_0_objective_-1_4_NoDisjunction_0', 'markshare_5_0_objective_-1_64_New_0', 'markshare_5_0_objective_-1_64_Farkas_0', 'markshare_5_0_objective_-1_64_NoDisjunction_0', 'cvs16r106-72_rhs_-1_4_New_0', 'cvs16r106-72_rhs_-1_4_Farkas_0', 'cvs16r106-72_rhs_-1_4_NoDisjunction_0', 'cvs16r106-72_rhs_-1_64_New_0', 'cvs16r106-72_rhs_-1_64_Farkas_0', 'cvs16r106-72_rhs_-1_64_NoDisjunction_0', 'cvs16r106-72_matrix_-1_4_New_0', 'cvs16r106-72_matrix_-1_4_Farkas_0', 'cvs16r106-72_matrix_-1_4_NoDisjunction_0', 'cvs16r106-72_matrix_-1_64_New_0', 'cvs16r106-72_matrix_-1_64_Farkas_0', 'cvs16r106-72_matrix_-1_64_NoDisjunction_0', 'cvs16r106-72_objective_-1_4_New_0', 'cvs16r106-72_objective_-1_4_Farkas_0', 'cvs16r106-72_objective_-1_4_NoDisjunction_0', 'cvs16r106-72_objective_-1_64_New_0', 'cvs16r106-72_objective_-1_64_Farkas_0', 'cvs16r106-72_objective_-1_64_NoDisjunction_0', 'maxgasflow_objective_1_4_New_0', 'maxgasflow_objective_1_4_Farkas_0', 'maxgasflow_objective_1_4_NoDisjunction_0', 'maxgasflow_objective_1_64_New_0', 'maxgasflow_objective_1_64_Farkas_0', 'maxgasflow_objective_1_64_NoDisjunction_0', 'maxgasflow_objective_-1_4_New_0', 'maxgasflow_objective_-1_4_Farkas_0', 'maxgasflow_objective_-1_4_NoDisjunction_0', 'maxgasflow_objective_-1_64_New_0', 'maxgasflow_objective_-1_64_Farkas_0', 'maxgasflow_objective_-1_64_NoDisjunction_0', 'n7-3_objective_1_64_New_0', 'n7-3_objective_1_64_Farkas_0', 'n7-3_objective_1_64_NoDisjunction_0', 'n7-3_matrix_1_64_New_0', 'n7-3_matrix_1_64_Farkas_0', 'n7-3_matrix_1_64_NoDisjunction_0', 'n7-3_matrix_-1_64_New_0', 'n7-3_matrix_-1_64_Farkas_0', 'n7-3_matrix_-1_64_NoDisjunction_0', 'n7-3_objective_-1_64_New_0', 'n7-3_objective_-1_64_Farkas_0', 'n7-3_objective_-1_64_NoDisjunction_0', 'neos-3661949-lesse_objective_1_4_New_0', 'neos-3661949-lesse_objective_1_4_Farkas_0', 'neos-3661949-lesse_objective_1_4_NoDisjunction_0', 'neos-3661949-lesse_objective_1_64_New_0', 'neos-3661949-lesse_objective_1_64_Farkas_0', 'neos-3661949-lesse_objective_1_64_NoDisjunction_0', 'neos-3661949-lesse_matrix_1_4_New_0', 'neos-3661949-lesse_matrix_1_4_Farkas_0', 'neos-3661949-lesse_matrix_1_4_NoDisjunction_0', 'neos-3661949-lesse_matrix_1_64_New_0', 'neos-3661949-lesse_matrix_1_64_Farkas_0', 'neos-3661949-lesse_matrix_1_64_NoDisjunction_0', 'neos-3661949-lesse_matrix_-1_4_New_0', 'neos-3661949-lesse_matrix_-1_4_Farkas_0', 'neos-3661949-lesse_matrix_-1_4_NoDisjunction_0', 'neos-3661949-lesse_matrix_-1_64_New_0', 'neos-3661949-lesse_matrix_-1_64_Farkas_0', 'neos-3661949-lesse_matrix_-1_64_NoDisjunction_0', 'neos-3661949-lesse_objective_-1_4_New_0', 'neos-3661949-lesse_objective_-1_4_Farkas_0', 'neos-3661949-lesse_objective_-1_4_NoDisjunction_0', 'neos-3661949-lesse_objective_-1_64_New_0', 'neos-3661949-lesse_objective_-1_64_Farkas_0', 'neos-3661949-lesse_objective_-1_64_NoDisjunction_0', 'decomp1_rhs_1_4_New_0', 'decomp1_rhs_1_4_Farkas_0', 'decomp1_rhs_1_4_NoDisjunction_0', 'decomp1_objective_1_4_New_0', 'decomp1_objective_1_4_Farkas_0', 'decomp1_objective_1_4_NoDisjunction_0', 'decomp1_matrix_1_4_New_0', 'decomp1_matrix_1_4_Farkas_0', 'decomp1_matrix_1_4_NoDisjunction_0', 'decomp1_matrix_-1_4_New_0', 'decomp1_matrix_-1_4_Farkas_0', 'decomp1_matrix_-1_4_NoDisjunction_0', 'decomp1_objective_-1_4_New_0', 'decomp1_objective_-1_4_Farkas_0', 'decomp1_objective_-1_4_NoDisjunction_0', 'milo-v12-6-r2-40-1_objective_1_4_New_0', 'milo-v12-6-r2-40-1_objective_1_4_Farkas_0', 'milo-v12-6-r2-40-1_objective_1_4_NoDisjunction_0', 'milo-v12-6-r2-40-1_objective_1_64_New_0', 'milo-v12-6-r2-40-1_objective_1_64_Farkas_0', 'milo-v12-6-r2-40-1_objective_1_64_NoDisjunction_0', 'milo-v12-6-r2-40-1_objective_-1_4_New_0', 'milo-v12-6-r2-40-1_objective_-1_4_Farkas_0', 'milo-v12-6-r2-40-1_objective_-1_4_NoDisjunction_0', 'milo-v12-6-r2-40-1_objective_-1_64_New_0', 'milo-v12-6-r2-40-1_objective_-1_64_Farkas_0', 'milo-v12-6-r2-40-1_objective_-1_64_NoDisjunction_0', 'ran14x18-disj-8_rhs_1_4_New_0', 'ran14x18-disj-8_rhs_1_4_Farkas_0', 'ran14x18-disj-8_rhs_1_4_NoDisjunction_0', 'ran14x18-disj-8_rhs_1_64_New_0', 'ran14x18-disj-8_rhs_1_64_Farkas_0', 'ran14x18-disj-8_rhs_1_64_NoDisjunction_0', 'ran14x18-disj-8_objective_1_4_New_0', 'ran14x18-disj-8_objective_1_4_Farkas_0', 'ran14x18-disj-8_objective_1_4_NoDisjunction_0', 'ran14x18-disj-8_objective_1_64_New_0', 'ran14x18-disj-8_objective_1_64_Farkas_0', 'ran14x18-disj-8_objective_1_64_NoDisjunction_0', 'ran14x18-disj-8_matrix_1_4_New_0', 'ran14x18-disj-8_matrix_1_4_Farkas_0', 'ran14x18-disj-8_matrix_1_4_NoDisjunction_0', 'ran14x18-disj-8_matrix_1_64_New_0', 'ran14x18-disj-8_matrix_1_64_Farkas_0', 'ran14x18-disj-8_matrix_1_64_NoDisjunction_0', 'ran14x18-disj-8_rhs_-1_4_New_0', 'ran14x18-disj-8_rhs_-1_4_Farkas_0', 'ran14x18-disj-8_rhs_-1_4_NoDisjunction_0', 'ran14x18-disj-8_rhs_-1_64_New_0', 'ran14x18-disj-8_rhs_-1_64_Farkas_0', 'ran14x18-disj-8_rhs_-1_64_NoDisjunction_0', 'ran14x18-disj-8_matrix_-1_4_New_0', 'ran14x18-disj-8_matrix_-1_4_Farkas_0', 'ran14x18-disj-8_matrix_-1_4_NoDisjunction_0', 'ran14x18-disj-8_matrix_-1_64_New_0', 'ran14x18-disj-8_matrix_-1_64_Farkas_0', 'ran14x18-disj-8_matrix_-1_64_NoDisjunction_0', 'ran14x18-disj-8_objective_-1_4_New_0', 'ran14x18-disj-8_objective_-1_4_Farkas_0', 'ran14x18-disj-8_objective_-1_4_NoDisjunction_0', 'ran14x18-disj-8_objective_-1_64_New_0', 'ran14x18-disj-8_objective_-1_64_Farkas_0', 'ran14x18-disj-8_objective_-1_64_NoDisjunction_0', 'nh97_potential_rhs_1_4_New_0', 'nh97_potential_rhs_1_4_Farkas_0', 'nh97_potential_rhs_1_4_NoDisjunction_0', 'nh97_potential_objective_1_4_New_0', 'nh97_potential_objective_1_4_Farkas_0', 'nh97_potential_objective_1_4_NoDisjunction_0', 'nh97_potential_rhs_-1_4_New_0', 'nh97_potential_rhs_-1_4_Farkas_0', 'nh97_potential_rhs_-1_4_NoDisjunction_0', 'nh97_potential_objective_-1_4_New_0', 'nh97_potential_objective_-1_4_Farkas_0', 'nh97_potential_objective_-1_4_NoDisjunction_0', 'neos4_objective_1_4_New_0', 'neos4_objective_1_4_Farkas_0', 'neos4_objective_1_4_NoDisjunction_0', 'neos4_objective_1_64_New_0', 'neos4_objective_1_64_Farkas_0', 'neos4_objective_1_64_NoDisjunction_0', 'neos4_matrix_-1_4_New_0', 'neos4_matrix_-1_4_Farkas_0', 'neos4_matrix_-1_4_NoDisjunction_0', 'neos4_matrix_-1_64_New_0', 'neos4_matrix_-1_64_Farkas_0', 'neos4_matrix_-1_64_NoDisjunction_0', 'neos4_objective_-1_4_New_0', 'neos4_objective_-1_4_Farkas_0', 'neos4_objective_-1_4_NoDisjunction_0', 'neos4_objective_-1_64_New_0', 'neos4_objective_-1_64_Farkas_0', 'neos4_objective_-1_64_NoDisjunction_0', 'mitre_rhs_1_4_New_0', 'mitre_rhs_1_4_Farkas_0', 'mitre_rhs_1_4_NoDisjunction_0', 'mitre_rhs_1_64_New_0', 'mitre_rhs_1_64_Farkas_0', 'mitre_rhs_1_64_NoDisjunction_0', 'mitre_objective_1_4_New_0', 'mitre_objective_1_4_Farkas_0', 'mitre_objective_1_4_NoDisjunction_0', 'mitre_objective_1_64_New_0', 'mitre_objective_1_64_Farkas_0', 'mitre_objective_1_64_NoDisjunction_0', 'mitre_matrix_1_4_New_0', 'mitre_matrix_1_4_Farkas_0', 'mitre_matrix_1_4_NoDisjunction_0', 'mitre_matrix_1_64_New_0', 'mitre_matrix_1_64_Farkas_0', 'mitre_matrix_1_64_NoDisjunction_0', 'mitre_matrix_-1_4_New_0', 'mitre_matrix_-1_4_Farkas_0', 'mitre_matrix_-1_4_NoDisjunction_0', 'mitre_matrix_-1_64_New_0', 'mitre_matrix_-1_64_Farkas_0', 'mitre_matrix_-1_64_NoDisjunction_0', 'mitre_objective_-1_4_New_0', 'mitre_objective_-1_4_Farkas_0', 'mitre_objective_-1_4_NoDisjunction_0', 'mitre_objective_-1_64_New_0', 'mitre_objective_-1_64_Farkas_0', 'mitre_objective_-1_64_NoDisjunction_0', 'nh97_tension_rhs_1_4_New_0', 'nh97_tension_rhs_1_4_Farkas_0', 'nh97_tension_rhs_1_4_NoDisjunction_0', 'nh97_tension_rhs_1_64_New_0', 'nh97_tension_rhs_1_64_Farkas_0', 'nh97_tension_rhs_1_64_NoDisjunction_0', 'nh97_tension_objective_1_4_New_0', 'nh97_tension_objective_1_4_Farkas_0', 'nh97_tension_objective_1_4_NoDisjunction_0', 'nh97_tension_objective_1_64_New_0', 'nh97_tension_objective_1_64_Farkas_0', 'nh97_tension_objective_1_64_NoDisjunction_0', 'nh97_tension_rhs_-1_4_New_0', 'nh97_tension_rhs_-1_4_Farkas_0', 'nh97_tension_rhs_-1_4_NoDisjunction_0', 'nh97_tension_rhs_-1_64_New_0', 'nh97_tension_rhs_-1_64_Farkas_0', 'nh97_tension_rhs_-1_64_NoDisjunction_0', 'nh97_tension_objective_-1_4_New_0', 'nh97_tension_objective_-1_4_Farkas_0', 'nh97_tension_objective_-1_4_NoDisjunction_0', 'nh97_tension_objective_-1_64_New_0', 'nh97_tension_objective_-1_64_Farkas_0', 'nh97_tension_objective_-1_64_NoDisjunction_0', 'neos-3660371-kurow_rhs_1_64_New_0', 'neos-3660371-kurow_rhs_1_64_Farkas_0', 'neos-3660371-kurow_rhs_1_64_NoDisjunction_0', 'neos-3660371-kurow_objective_1_64_New_0', 'neos-3660371-kurow_objective_1_64_Farkas_0', 'neos-3660371-kurow_objective_1_64_NoDisjunction_0', 'neos-3660371-kurow_matrix_1_64_New_0', 'neos-3660371-kurow_matrix_1_64_Farkas_0', 'neos-3660371-kurow_matrix_1_64_NoDisjunction_0', 'neos-3660371-kurow_objective_-1_64_New_0', 'neos-3660371-kurow_objective_-1_64_Farkas_0', 'neos-3660371-kurow_objective_-1_64_NoDisjunction_0', 'gen_objective_1_4_New_0', 'gen_objective_1_4_Farkas_0', 'gen_objective_1_4_NoDisjunction_0', 'gen_objective_1_64_New_0', 'gen_objective_1_64_Farkas_0', 'gen_objective_1_64_NoDisjunction_0', 'gen_matrix_1_4_New_0', 'gen_matrix_1_4_Farkas_0', 'gen_matrix_1_4_NoDisjunction_0', 'gen_matrix_1_64_New_0', 'gen_matrix_1_64_Farkas_0', 'gen_matrix_1_64_NoDisjunction_0', 'gen_matrix_-1_4_New_0', 'gen_matrix_-1_4_Farkas_0', 'gen_matrix_-1_4_NoDisjunction_0', 'gen_matrix_-1_64_New_0', 'gen_matrix_-1_64_Farkas_0', 'gen_matrix_-1_64_NoDisjunction_0', 'gen_objective_-1_4_New_0', 'gen_objective_-1_4_Farkas_0', 'gen_objective_-1_4_NoDisjunction_0', 'gen_objective_-1_64_New_0', 'gen_objective_-1_64_Farkas_0', 'gen_objective_-1_64_NoDisjunction_0', 'cvs08r139-94_rhs_1_4_New_0', 'cvs08r139-94_rhs_1_4_Farkas_0', 'cvs08r139-94_rhs_1_4_NoDisjunction_0', 'cvs08r139-94_rhs_1_64_New_0', 'cvs08r139-94_rhs_1_64_Farkas_0', 'cvs08r139-94_rhs_1_64_NoDisjunction_0', 'cvs08r139-94_objective_1_4_New_0', 'cvs08r139-94_objective_1_4_Farkas_0', 'cvs08r139-94_objective_1_4_NoDisjunction_0', 'cvs08r139-94_objective_1_64_New_0', 'cvs08r139-94_objective_1_64_Farkas_0', 'cvs08r139-94_matrix_1_4_New_0', 'cvs08r139-94_matrix_1_4_Farkas_0', 'cvs08r139-94_matrix_1_4_NoDisjunction_0', 'cvs08r139-94_matrix_1_64_New_0', 'cvs08r139-94_matrix_1_64_Farkas_0', 'cvs08r139-94_matrix_1_64_NoDisjunction_0', 'cvs08r139-94_objective_-1_4_New_0', 'cvs08r139-94_objective_-1_4_Farkas_0', 'cvs08r139-94_objective_-1_4_NoDisjunction_0', 'cvs08r139-94_objective_-1_64_New_0', 'cvs08r139-94_objective_-1_64_Farkas_0', 'cvs08r139-94_objective_-1_64_NoDisjunction_0', 'neos-3083784-nive_objective_1_4_New_0', 'neos-3083784-nive_objective_1_4_Farkas_0', 'neos-3083784-nive_objective_1_4_NoDisjunction_0', 'neos-3083784-nive_objective_1_64_New_0', 'neos-3083784-nive_objective_1_64_Farkas_0', 'neos-3083784-nive_objective_1_64_NoDisjunction_0', 'neos-3083784-nive_matrix_-1_4_New_0', 'neos-3083784-nive_matrix_-1_4_Farkas_0', 'neos-3083784-nive_matrix_-1_4_NoDisjunction_0', 'neos-3083784-nive_matrix_-1_64_New_0', 'neos-3083784-nive_matrix_-1_64_Farkas_0', 'neos-3083784-nive_matrix_-1_64_NoDisjunction_0', 'neos-3083784-nive_objective_-1_4_New_0', 'neos-3083784-nive_objective_-1_4_Farkas_0', 'neos-3083784-nive_objective_-1_4_NoDisjunction_0', 'neos-3083784-nive_objective_-1_64_New_0', 'neos-3083784-nive_objective_-1_64_Farkas_0', 'neos-3083784-nive_objective_-1_64_NoDisjunction_0', 'sp98ir_objective_1_4_New_0', 'sp98ir_objective_1_4_Farkas_0', 'sp98ir_objective_1_4_NoDisjunction_0', 'sp98ir_objective_1_64_New_0', 'sp98ir_objective_1_64_Farkas_0', 'sp98ir_objective_1_64_NoDisjunction_0', 'sp98ir_matrix_1_4_New_0', 'sp98ir_matrix_1_4_Farkas_0', 'sp98ir_matrix_1_4_NoDisjunction_0', 'sp98ir_matrix_1_64_New_0', 'sp98ir_matrix_1_64_Farkas_0', 'sp98ir_matrix_1_64_NoDisjunction_0', 'sp98ir_rhs_-1_4_New_0', 'sp98ir_rhs_-1_4_Farkas_0', 'sp98ir_rhs_-1_4_NoDisjunction_0', 'sp98ir_rhs_-1_64_New_0', 'sp98ir_rhs_-1_64_Farkas_0', 'sp98ir_rhs_-1_64_NoDisjunction_0', 'sp98ir_matrix_-1_4_New_0', 'sp98ir_matrix_-1_4_Farkas_0', 'sp98ir_matrix_-1_4_NoDisjunction_0', 'sp98ir_matrix_-1_64_New_0', 'sp98ir_matrix_-1_64_Farkas_0', 'sp98ir_matrix_-1_64_NoDisjunction_0', 'sp98ir_objective_-1_4_New_0', 'sp98ir_objective_-1_4_Farkas_0', 'sp98ir_objective_-1_4_NoDisjunction_0', 'sp98ir_objective_-1_64_New_0', 'sp98ir_objective_-1_64_Farkas_0', 'sp98ir_objective_-1_64_NoDisjunction_0', 'icir97_tension_rhs_1_4_New_0', 'icir97_tension_rhs_1_4_Farkas_0', 'icir97_tension_rhs_1_4_NoDisjunction_0', 'icir97_tension_objective_1_4_New_0', 'icir97_tension_objective_1_4_Farkas_0', 'icir97_tension_objective_1_4_NoDisjunction_0', 'icir97_tension_rhs_-1_4_New_0', 'icir97_tension_rhs_-1_4_Farkas_0', 'icir97_tension_rhs_-1_4_NoDisjunction_0', 'icir97_tension_matrix_-1_4_New_0', 'icir97_tension_matrix_-1_4_Farkas_0', 'icir97_tension_matrix_-1_4_NoDisjunction_0', 'icir97_tension_objective_-1_4_New_0', 'icir97_tension_objective_-1_4_Farkas_0', 'icir97_tension_objective_-1_4_NoDisjunction_0', 'app3_objective_1_4_New_0', 'app3_objective_1_4_Farkas_0', 'app3_objective_1_4_NoDisjunction_0', 'app3_objective_1_64_New_0', 'app3_objective_1_64_Farkas_0', 'app3_objective_1_64_NoDisjunction_0', 'app3_matrix_1_4_New_0', 'app3_matrix_1_4_Farkas_0', 'app3_matrix_1_4_NoDisjunction_0', 'app3_matrix_1_64_New_0', 'app3_matrix_1_64_Farkas_0', 'app3_matrix_1_64_NoDisjunction_0', 'app3_matrix_-1_4_New_0', 'app3_matrix_-1_4_Farkas_0', 'app3_matrix_-1_4_NoDisjunction_0', 'app3_matrix_-1_64_New_0', 'app3_matrix_-1_64_Farkas_0', 'app3_matrix_-1_64_NoDisjunction_0', 'app3_objective_-1_4_New_0', 'app3_objective_-1_4_Farkas_0', 'app3_objective_-1_4_NoDisjunction_0', 'app3_objective_-1_64_New_0', 'app3_objective_-1_64_Farkas_0', 'app3_objective_-1_64_NoDisjunction_0', 'wachplan_rhs_1_4_New_0', 'wachplan_rhs_1_4_Farkas_0', 'wachplan_rhs_1_4_NoDisjunction_0', 'wachplan_rhs_1_64_New_0', 'wachplan_rhs_1_64_Farkas_0', 'wachplan_rhs_1_64_NoDisjunction_0', 'wachplan_objective_1_4_New_0', 'wachplan_objective_1_4_Farkas_0', 'wachplan_objective_1_4_NoDisjunction_0', 'wachplan_objective_1_64_New_0', 'wachplan_objective_1_64_Farkas_0', 'wachplan_objective_1_64_NoDisjunction_0', 'wachplan_matrix_1_4_New_0', 'wachplan_matrix_1_4_Farkas_0', 'wachplan_matrix_1_4_NoDisjunction_0', 'wachplan_matrix_1_64_New_0', 'wachplan_matrix_1_64_Farkas_0', 'wachplan_matrix_1_64_NoDisjunction_0', 'wachplan_objective_-1_4_New_0', 'wachplan_objective_-1_4_Farkas_0', 'wachplan_objective_-1_4_NoDisjunction_0', 'wachplan_objective_-1_64_New_0', 'wachplan_objective_-1_64_Farkas_0', 'wachplan_objective_-1_64_NoDisjunction_0', 'chromaticindex32-8_objective_1_4_New_0', 'chromaticindex32-8_objective_1_4_Farkas_0', 'chromaticindex32-8_objective_1_4_NoDisjunction_0', 'chromaticindex32-8_objective_1_64_New_0', 'chromaticindex32-8_objective_1_64_Farkas_0', 'chromaticindex32-8_objective_1_64_NoDisjunction_0', 'chromaticindex32-8_matrix_1_4_New_0', 'chromaticindex32-8_matrix_1_4_Farkas_0', 'chromaticindex32-8_matrix_1_4_NoDisjunction_0', 'chromaticindex32-8_matrix_1_64_New_0', 'chromaticindex32-8_matrix_1_64_Farkas_0', 'chromaticindex32-8_matrix_1_64_NoDisjunction_0', 'chromaticindex32-8_objective_-1_4_New_0', 'chromaticindex32-8_objective_-1_4_Farkas_0', 'chromaticindex32-8_objective_-1_4_NoDisjunction_0', 'chromaticindex32-8_objective_-1_64_New_0', 'chromaticindex32-8_objective_-1_64_Farkas_0', 'chromaticindex32-8_objective_-1_64_NoDisjunction_0', 'neos-3216931-puriri_rhs_1_4_New_0', 'neos-3216931-puriri_rhs_1_4_Farkas_0', 'neos-3216931-puriri_rhs_1_4_NoDisjunction_0', 'neos-3216931-puriri_rhs_1_64_New_0', 'neos-3216931-puriri_rhs_1_64_Farkas_0', 'neos-3216931-puriri_rhs_1_64_NoDisjunction_0', 'neos-3216931-puriri_objective_1_4_New_0', 'neos-3216931-puriri_objective_1_4_Farkas_0', 'neos-3216931-puriri_objective_1_4_NoDisjunction_0', 'neos-3216931-puriri_objective_1_64_New_0', 'neos-3216931-puriri_objective_1_64_Farkas_0', 'neos-3216931-puriri_objective_1_64_NoDisjunction_0', 'neos-3216931-puriri_matrix_1_4_New_0', 'neos-3216931-puriri_matrix_1_4_Farkas_0', 'neos-3216931-puriri_matrix_1_4_NoDisjunction_0', 'neos-3216931-puriri_matrix_1_64_New_0', 'neos-3216931-puriri_matrix_1_64_Farkas_0', 'neos-3216931-puriri_matrix_1_64_NoDisjunction_0', 'neos-3216931-puriri_matrix_-1_4_New_0', 'neos-3216931-puriri_matrix_-1_4_Farkas_0', 'neos-3216931-puriri_matrix_-1_4_NoDisjunction_0', 'neos-3216931-puriri_matrix_-1_64_New_0', 'neos-3216931-puriri_matrix_-1_64_Farkas_0', 'neos-3216931-puriri_matrix_-1_64_NoDisjunction_0', 'neos-3216931-puriri_objective_-1_4_New_0', 'neos-3216931-puriri_objective_-1_4_Farkas_0', 'neos-3216931-puriri_objective_-1_4_NoDisjunction_0', 'neos-3216931-puriri_objective_-1_64_New_0', 'neos-3216931-puriri_objective_-1_64_Farkas_0', 'neos-3216931-puriri_objective_-1_64_NoDisjunction_0', 'neos-5075914-elvire_rhs_-1_4_NoDisjunction_0', 'neos-5075914-elvire_rhs_-1_64_New_0', 'neos-5075914-elvire_rhs_-1_64_Farkas_0', 'neos-5075914-elvire_rhs_-1_64_NoDisjunction_0', 'neos-5075914-elvire_matrix_-1_4_New_0', 'neos-5075914-elvire_matrix_-1_4_Farkas_0', 'neos-5075914-elvire_matrix_-1_64_New_0', 'neos-5075914-elvire_matrix_-1_64_Farkas_0', 'neos-5075914-elvire_matrix_-1_64_NoDisjunction_0', 'neos-5075914-elvire_objective_-1_4_New_0', 'neos-5075914-elvire_objective_-1_64_New_0', 'neos-5075914-elvire_objective_-1_64_Farkas_0', 'neos-5075914-elvire_objective_-1_64_NoDisjunction_0', 'mad_objective_1_4_New_0', 'mad_objective_1_4_Farkas_0', 'mad_objective_1_4_NoDisjunction_0', 'mad_objective_1_64_New_0', 'mad_objective_1_64_Farkas_0', 'mad_objective_1_64_NoDisjunction_0', 'mad_objective_-1_4_New_0', 'mad_objective_-1_4_Farkas_0', 'mad_objective_-1_4_NoDisjunction_0', 'mad_objective_-1_64_New_0', 'mad_objective_-1_64_Farkas_0', 'mad_objective_-1_64_NoDisjunction_0', 'neos-2624317-amur_matrix_1_4_New_0', 'neos-2624317-amur_matrix_1_4_Farkas_0', 'neos-2624317-amur_matrix_1_4_NoDisjunction_0', 'neos-2624317-amur_matrix_1_64_New_0', 'neos-2624317-amur_matrix_1_64_Farkas_0', 'neos-2624317-amur_matrix_1_64_NoDisjunction_0', 'neos-2624317-amur_rhs_-1_4_New_0', 'neos-2624317-amur_rhs_-1_4_Farkas_0', 'neos-2624317-amur_rhs_-1_4_NoDisjunction_0', 'neos-2624317-amur_rhs_-1_64_New_0', 'neos-2624317-amur_rhs_-1_64_Farkas_0', 'neos-2624317-amur_rhs_-1_64_NoDisjunction_0', 'neos-2624317-amur_matrix_-1_4_New_0', 'neos-2624317-amur_matrix_-1_4_Farkas_0', 'neos-2624317-amur_matrix_-1_4_NoDisjunction_0', 'neos-2624317-amur_matrix_-1_64_New_0', 'neos-2624317-amur_matrix_-1_64_Farkas_0', 'neos-2624317-amur_matrix_-1_64_NoDisjunction_0', 'pigeon-13_rhs_-1_4_New_0', 'pigeon-13_rhs_-1_4_Farkas_0', 'pigeon-13_rhs_-1_4_NoDisjunction_0', 'pigeon-13_rhs_-1_64_New_0', 'pigeon-13_rhs_-1_64_Farkas_0', 'pigeon-13_rhs_-1_64_NoDisjunction_0', 'pigeon-13_matrix_-1_4_New_0', 'pigeon-13_matrix_-1_4_Farkas_0', 'pigeon-13_matrix_-1_4_NoDisjunction_0', 'pigeon-13_matrix_-1_64_New_0', 'pigeon-13_matrix_-1_64_Farkas_0', 'pigeon-13_matrix_-1_64_NoDisjunction_0', 'pigeon-13_objective_-1_4_New_0', 'pigeon-13_objective_-1_4_Farkas_0', 'pigeon-13_objective_-1_4_NoDisjunction_0', 'pigeon-13_objective_-1_64_New_0', 'pigeon-13_objective_-1_64_Farkas_0', 'pigeon-13_objective_-1_64_NoDisjunction_0', 'neos-831188_objective_1_4_Farkas_0', 'neos-831188_objective_1_4_NoDisjunction_0', 'neos-831188_objective_1_64_New_0', 'neos-831188_objective_1_64_Farkas_0', 'neos-831188_objective_1_64_NoDisjunction_0', 'neos-831188_matrix_1_4_New_0', 'neos-831188_matrix_1_4_NoDisjunction_0', 'neos-831188_matrix_1_64_New_0', 'neos-831188_matrix_1_64_Farkas_0', 'neos-831188_matrix_1_64_NoDisjunction_0', 'neos-831188_objective_-1_64_New_0', 'neos-831188_objective_-1_64_Farkas_0', 'neos-831188_objective_-1_64_NoDisjunction_0', 'neos-5182409-nasivi_objective_1_64_NoDisjunction_0', 'neos-5182409-nasivi_objective_-1_64_NoDisjunction_0', 'neos-933562_rhs_1_4_New_0', 'neos-933562_rhs_1_4_Farkas_0', 'neos-933562_rhs_1_4_NoDisjunction_0', 'neos-933562_rhs_1_64_New_0', 'neos-933562_rhs_1_64_Farkas_0', 'neos-933562_rhs_1_64_NoDisjunction_0', 'neos-933562_objective_1_4_New_0', 'neos-933562_objective_1_4_Farkas_0', 'neos-933562_objective_1_4_NoDisjunction_0', 'neos-933562_objective_1_64_New_0', 'neos-933562_objective_1_64_Farkas_0', 'neos-933562_objective_1_64_NoDisjunction_0', 'neos-933562_matrix_1_4_New_0', 'neos-933562_matrix_1_4_Farkas_0', 'neos-933562_matrix_1_4_NoDisjunction_0', 'neos-933562_matrix_1_64_New_0', 'neos-933562_matrix_1_64_Farkas_0', 'neos-933562_matrix_1_64_NoDisjunction_0', 'neos-933562_rhs_-1_4_New_0', 'neos-933562_rhs_-1_4_Farkas_0', 'neos-933562_rhs_-1_4_NoDisjunction_0', 'neos-933562_rhs_-1_64_New_0', 'neos-933562_rhs_-1_64_Farkas_0', 'neos-933562_rhs_-1_64_NoDisjunction_0', 'neos-933562_matrix_-1_4_New_0', 'neos-933562_matrix_-1_4_Farkas_0', 'neos-933562_matrix_-1_4_NoDisjunction_0', 'neos-933562_matrix_-1_64_New_0', 'neos-933562_matrix_-1_64_Farkas_0', 'neos-933562_matrix_-1_64_NoDisjunction_0', 'neos-933562_objective_-1_4_New_0', 'neos-933562_objective_-1_4_Farkas_0', 'neos-933562_objective_-1_4_NoDisjunction_0', 'neos-933562_objective_-1_64_New_0', 'neos-933562_objective_-1_64_Farkas_0', 'neos-933562_objective_-1_64_NoDisjunction_0', 'pw-myciel4_rhs_1_4_New_0', 'pw-myciel4_rhs_1_4_Farkas_0', 'pw-myciel4_rhs_1_4_NoDisjunction_0', 'pw-myciel4_rhs_1_64_New_0', 'pw-myciel4_rhs_1_64_Farkas_0', 'pw-myciel4_rhs_1_64_NoDisjunction_0', 'pw-myciel4_objective_1_4_New_0', 'pw-myciel4_objective_1_4_Farkas_0', 'pw-myciel4_objective_1_4_NoDisjunction_0', 'pw-myciel4_objective_1_64_New_0', 'pw-myciel4_objective_1_64_Farkas_0', 'pw-myciel4_objective_1_64_NoDisjunction_0', 'pw-myciel4_matrix_1_4_New_0', 'pw-myciel4_matrix_1_4_Farkas_0', 'pw-myciel4_matrix_1_4_NoDisjunction_0', 'pw-myciel4_matrix_1_64_New_0', 'pw-myciel4_matrix_1_64_Farkas_0', 'pw-myciel4_matrix_1_64_NoDisjunction_0', 'pw-myciel4_objective_-1_4_New_0', 'pw-myciel4_objective_-1_4_Farkas_0', 'pw-myciel4_objective_-1_4_NoDisjunction_0', 'pw-myciel4_objective_-1_64_New_0', 'pw-myciel4_objective_-1_64_Farkas_0', 'pw-myciel4_objective_-1_64_NoDisjunction_0', 'markshare1_rhs_-1_4_New_0', 'markshare1_rhs_-1_4_Farkas_0', 'markshare1_rhs_-1_4_NoDisjunction_0', 'markshare1_rhs_-1_64_New_0', 'markshare1_rhs_-1_64_Farkas_0', 'markshare1_rhs_-1_64_NoDisjunction_0', 'markshare1_matrix_-1_4_New_0', 'markshare1_matrix_-1_4_Farkas_0', 'markshare1_matrix_-1_4_NoDisjunction_0', 'markshare1_matrix_-1_64_New_0', 'markshare1_matrix_-1_64_Farkas_0', 'markshare1_matrix_-1_64_NoDisjunction_0', 'markshare1_objective_-1_4_New_0', 'markshare1_objective_-1_4_Farkas_0', 'markshare1_objective_-1_4_NoDisjunction_0', 'markshare1_objective_-1_64_New_0', 'markshare1_objective_-1_64_Farkas_0', 'markshare1_objective_-1_64_NoDisjunction_0', 'neos-1605061_rhs_1_4_New_0', 'neos-1605061_rhs_1_4_Farkas_0', 'neos-1605061_rhs_1_4_NoDisjunction_0', 'neos-1605061_rhs_1_64_Farkas_0', 'neos-1605061_rhs_1_64_NoDisjunction_0', 'neos-1605061_objective_1_4_New_0', 'neos-1605061_objective_1_4_Farkas_0', 'neos-1605061_objective_1_4_NoDisjunction_0', 'neos-1605061_objective_1_64_New_0', 'neos-1605061_objective_1_64_Farkas_0', 'neos-1605061_objective_1_64_NoDisjunction_0', 'neos-1605061_objective_-1_4_New_0', 'neos-1605061_objective_-1_4_Farkas_0', 'neos-1605061_objective_-1_4_NoDisjunction_0', 'neos-1605061_objective_-1_64_New_0', 'neos-1605061_objective_-1_64_Farkas_0', 'neos-1605061_objective_-1_64_NoDisjunction_0', '30n20b8_objective_1_4_New_0', '30n20b8_objective_1_4_Farkas_0', '30n20b8_objective_1_4_NoDisjunction_0', '30n20b8_objective_1_64_New_0', '30n20b8_objective_1_64_Farkas_0', '30n20b8_objective_1_64_NoDisjunction_0', '30n20b8_rhs_-1_4_New_0', '30n20b8_rhs_-1_4_Farkas_0', '30n20b8_rhs_-1_4_NoDisjunction_0', '30n20b8_rhs_-1_64_New_0', '30n20b8_rhs_-1_64_Farkas_0', '30n20b8_rhs_-1_64_NoDisjunction_0', '30n20b8_matrix_-1_4_New_0', '30n20b8_matrix_-1_4_Farkas_0', '30n20b8_matrix_-1_4_NoDisjunction_0', '30n20b8_matrix_-1_64_New_0', '30n20b8_matrix_-1_64_Farkas_0', '30n20b8_matrix_-1_64_NoDisjunction_0', '30n20b8_objective_-1_4_New_0', '30n20b8_objective_-1_4_Farkas_0', '30n20b8_objective_-1_4_NoDisjunction_0', '30n20b8_objective_-1_64_New_0', '30n20b8_objective_-1_64_Farkas_0', '30n20b8_objective_-1_64_NoDisjunction_0', 'traininstance2_objective_1_4_New_0', 'traininstance2_objective_1_4_Farkas_0', 'traininstance2_objective_1_4_NoDisjunction_0', 'traininstance2_objective_1_64_New_0', 'traininstance2_objective_1_64_Farkas_0', 'traininstance2_objective_1_64_NoDisjunction_0', 'traininstance2_rhs_-1_4_New_0', 'traininstance2_rhs_-1_4_Farkas_0', 'traininstance2_rhs_-1_4_NoDisjunction_0', 'traininstance2_rhs_-1_64_New_0', 'traininstance2_rhs_-1_64_Farkas_0', 'traininstance2_rhs_-1_64_NoDisjunction_0', 'traininstance2_matrix_-1_4_New_0', 'traininstance2_matrix_-1_4_Farkas_0', 'traininstance2_matrix_-1_4_NoDisjunction_0', 'traininstance2_matrix_-1_64_New_0', 'traininstance2_matrix_-1_64_Farkas_0', 'traininstance2_matrix_-1_64_NoDisjunction_0', 'traininstance2_objective_-1_4_New_0', 'traininstance2_objective_-1_4_Farkas_0', 'traininstance2_objective_-1_4_NoDisjunction_0', 'traininstance2_objective_-1_64_New_0', 'traininstance2_objective_-1_64_Farkas_0', 'traininstance2_objective_-1_64_NoDisjunction_0', 'bppc8-02_rhs_1_4_New_0', 'bppc8-02_rhs_1_4_Farkas_0', 'bppc8-02_rhs_1_4_NoDisjunction_0', 'bppc8-02_rhs_1_64_New_0', 'bppc8-02_rhs_1_64_Farkas_0', 'bppc8-02_rhs_1_64_NoDisjunction_0', 'bppc8-02_objective_1_4_New_0', 'bppc8-02_objective_1_4_Farkas_0', 'bppc8-02_objective_1_4_NoDisjunction_0', 'bppc8-02_objective_1_64_New_0', 'bppc8-02_objective_1_64_Farkas_0', 'bppc8-02_objective_1_64_NoDisjunction_0', 'bppc8-02_rhs_-1_4_New_0', 'bppc8-02_rhs_-1_4_Farkas_0', 'bppc8-02_rhs_-1_4_NoDisjunction_0', 'bppc8-02_rhs_-1_64_New_0', 'bppc8-02_rhs_-1_64_Farkas_0', 'bppc8-02_rhs_-1_64_NoDisjunction_0', 'bppc8-02_matrix_-1_4_New_0', 'bppc8-02_matrix_-1_4_Farkas_0', 'bppc8-02_matrix_-1_4_NoDisjunction_0', 'bppc8-02_matrix_-1_64_New_0', 'bppc8-02_matrix_-1_64_Farkas_0', 'bppc8-02_matrix_-1_64_NoDisjunction_0', 'bppc8-02_objective_-1_4_New_0', 'bppc8-02_objective_-1_4_Farkas_0', 'bppc8-02_objective_-1_4_NoDisjunction_0', 'bppc8-02_objective_-1_64_New_0', 'bppc8-02_objective_-1_64_Farkas_0', 'bppc8-02_objective_-1_64_NoDisjunction_0', 'neos-1430701_rhs_1_4_New_0', 'neos-1430701_rhs_1_4_Farkas_0', 'neos-1430701_rhs_1_4_NoDisjunction_0', 'neos-1430701_rhs_1_64_New_0', 'neos-1430701_rhs_1_64_Farkas_0', 'neos-1430701_rhs_1_64_NoDisjunction_0', 'neos-1430701_objective_1_4_New_0', 'neos-1430701_objective_1_4_Farkas_0', 'neos-1430701_objective_1_4_NoDisjunction_0', 'neos-1430701_objective_1_64_New_0', 'neos-1430701_objective_1_64_Farkas_0', 'neos-1430701_objective_1_64_NoDisjunction_0', 'neos-1430701_matrix_1_4_New_0', 'neos-1430701_matrix_1_4_Farkas_0', 'neos-1430701_matrix_1_4_NoDisjunction_0', 'neos-1430701_matrix_1_64_New_0', 'neos-1430701_matrix_1_64_Farkas_0', 'neos-1430701_matrix_1_64_NoDisjunction_0', 'neos-1430701_rhs_-1_4_New_0', 'neos-1430701_rhs_-1_4_Farkas_0', 'neos-1430701_rhs_-1_4_NoDisjunction_0', 'neos-1430701_rhs_-1_64_New_0', 'neos-1430701_rhs_-1_64_Farkas_0', 'neos-1430701_rhs_-1_64_NoDisjunction_0', 'neos-1430701_matrix_-1_4_New_0', 'neos-1430701_matrix_-1_4_Farkas_0', 'neos-1430701_matrix_-1_4_NoDisjunction_0', 'neos-1430701_matrix_-1_64_New_0', 'neos-1430701_matrix_-1_64_Farkas_0', 'neos-1430701_matrix_-1_64_NoDisjunction_0', 'neos-1430701_objective_-1_4_New_0', 'neos-1430701_objective_-1_4_Farkas_0', 'neos-1430701_objective_-1_4_NoDisjunction_0', 'neos-1430701_objective_-1_64_New_0', 'neos-1430701_objective_-1_64_Farkas_0', 'neos-1430701_objective_-1_64_NoDisjunction_0', 'qap10_objective_1_4_New_0', 'qap10_objective_1_4_Farkas_0', 'qap10_objective_1_4_NoDisjunction_0', 'qap10_objective_1_64_New_0', 'qap10_objective_1_64_Farkas_0', 'qap10_objective_1_64_NoDisjunction_0', 'qap10_matrix_1_4_New_0', 'qap10_matrix_1_4_Farkas_0', 'qap10_matrix_1_4_NoDisjunction_0', 'qap10_matrix_1_64_New_0', 'qap10_matrix_1_64_Farkas_0', 'qap10_matrix_1_64_NoDisjunction_0', 'qap10_matrix_-1_4_New_0', 'qap10_matrix_-1_4_Farkas_0', 'qap10_matrix_-1_4_NoDisjunction_0', 'qap10_matrix_-1_64_New_0', 'qap10_matrix_-1_64_Farkas_0', 'qap10_matrix_-1_64_NoDisjunction_0', 'qap10_objective_-1_4_New_0', 'qap10_objective_-1_4_Farkas_0', 'qap10_objective_-1_4_NoDisjunction_0', 'qap10_objective_-1_64_New_0', 'qap10_objective_-1_64_Farkas_0', 'qap10_objective_-1_64_NoDisjunction_0', 'neos-1330346_objective_1_4_New_0', 'neos-1330346_objective_1_4_Farkas_0', 'neos-1330346_objective_1_4_NoDisjunction_0', 'neos-1330346_objective_1_64_New_0', 'neos-1330346_objective_1_64_Farkas_0', 'neos-1330346_objective_1_64_NoDisjunction_0', 'neos-1330346_matrix_1_4_New_0', 'neos-1330346_matrix_1_4_Farkas_0', 'neos-1330346_matrix_1_4_NoDisjunction_0', 'neos-1330346_matrix_1_64_New_0', 'neos-1330346_matrix_1_64_Farkas_0', 'neos-1330346_matrix_1_64_NoDisjunction_0', 'neos-1330346_objective_-1_4_New_0', 'neos-1330346_objective_-1_4_Farkas_0', 'neos-1330346_objective_-1_4_NoDisjunction_0', 'neos-1330346_objective_-1_64_New_0', 'neos-1330346_objective_-1_64_Farkas_0', 'neos-1330346_objective_-1_64_NoDisjunction_0', 'n6-3_rhs_1_64_New_0', 'n6-3_rhs_1_64_Farkas_0', 'n6-3_rhs_1_64_NoDisjunction_0', 'n6-3_objective_1_64_New_0', 'n6-3_objective_1_64_Farkas_0', 'n6-3_objective_1_64_NoDisjunction_0', 'n6-3_matrix_1_64_New_0', 'n6-3_matrix_1_64_Farkas_0', 'n6-3_matrix_1_64_NoDisjunction_0', 'n6-3_matrix_-1_64_New_0', 'n6-3_matrix_-1_64_Farkas_0', 'n6-3_matrix_-1_64_NoDisjunction_0', 'n6-3_objective_-1_64_New_0', 'n6-3_objective_-1_64_Farkas_0', 'n6-3_objective_-1_64_NoDisjunction_0', 'eil33-2_objective_1_64_New_0', 'eil33-2_objective_1_64_Farkas_0', 'eil33-2_objective_1_64_NoDisjunction_0', 'eil33-2_matrix_1_64_New_0', 'eil33-2_matrix_1_64_Farkas_0', 'eil33-2_matrix_1_64_NoDisjunction_0', 'eil33-2_matrix_-1_64_New_0', 'eil33-2_matrix_-1_64_Farkas_0', 'eil33-2_matrix_-1_64_NoDisjunction_0', 'eil33-2_objective_-1_64_New_0', 'eil33-2_objective_-1_64_Farkas_0', 'eil33-2_objective_-1_64_NoDisjunction_0', 'neos16_rhs_1_64_New_0', 'neos16_rhs_1_64_Farkas_0', 'neos16_rhs_1_64_NoDisjunction_0', 'neos16_objective_1_64_New_0', 'neos16_objective_1_64_Farkas_0', 'neos16_objective_1_64_NoDisjunction_0', 'neos16_matrix_1_64_New_0', 'neos16_matrix_1_64_Farkas_0', 'neos16_matrix_1_64_NoDisjunction_0', 'neos16_rhs_-1_64_New_0', 'neos16_rhs_-1_64_Farkas_0', 'neos16_rhs_-1_64_NoDisjunction_0', 'neos16_matrix_-1_64_New_0', 'neos16_matrix_-1_64_Farkas_0', 'neos16_matrix_-1_64_NoDisjunction_0', 'neos16_objective_-1_64_New_0', 'neos16_objective_-1_64_Farkas_0', 'neos16_objective_-1_64_NoDisjunction_0', 'markshare_4_0_rhs_1_4_New_0', 'markshare_4_0_rhs_1_4_Farkas_0', 'markshare_4_0_rhs_1_4_NoDisjunction_0', 'markshare_4_0_rhs_1_64_New_0', 'markshare_4_0_rhs_1_64_Farkas_0', 'markshare_4_0_rhs_1_64_NoDisjunction_0', 'markshare_4_0_objective_1_4_New_0', 'markshare_4_0_objective_1_4_Farkas_0', 'markshare_4_0_objective_1_4_NoDisjunction_0', 'markshare_4_0_objective_1_64_New_0', 'markshare_4_0_objective_1_64_Farkas_0', 'markshare_4_0_objective_1_64_NoDisjunction_0', 'markshare_4_0_matrix_1_4_New_0', 'markshare_4_0_matrix_1_4_Farkas_0', 'markshare_4_0_matrix_1_4_NoDisjunction_0', 'markshare_4_0_matrix_1_64_New_0', 'markshare_4_0_matrix_1_64_Farkas_0', 'markshare_4_0_matrix_1_64_NoDisjunction_0', 'markshare_4_0_rhs_-1_4_New_0', 'markshare_4_0_rhs_-1_4_Farkas_0', 'markshare_4_0_rhs_-1_4_NoDisjunction_0', 'markshare_4_0_rhs_-1_64_New_0', 'markshare_4_0_rhs_-1_64_Farkas_0', 'markshare_4_0_rhs_-1_64_NoDisjunction_0', 'markshare_4_0_matrix_-1_4_New_0', 'markshare_4_0_matrix_-1_4_Farkas_0', 'markshare_4_0_matrix_-1_4_NoDisjunction_0', 'markshare_4_0_matrix_-1_64_New_0', 'markshare_4_0_matrix_-1_64_Farkas_0', 'markshare_4_0_matrix_-1_64_NoDisjunction_0', 'markshare_4_0_objective_-1_4_New_0', 'markshare_4_0_objective_-1_4_Farkas_0', 'markshare_4_0_objective_-1_4_NoDisjunction_0', 'markshare_4_0_objective_-1_64_New_0', 'markshare_4_0_objective_-1_64_Farkas_0', 'markshare_4_0_objective_-1_64_NoDisjunction_0', 'rlp1_rhs_1_64_New_0', 'rlp1_rhs_1_64_Farkas_0', 'rlp1_rhs_1_64_NoDisjunction_0', 'rlp1_objective_1_64_New_0', 'rlp1_objective_1_64_Farkas_0', 'rlp1_objective_1_64_NoDisjunction_0', 'rlp1_matrix_1_64_New_0', 'rlp1_matrix_1_64_Farkas_0', 'rlp1_matrix_1_64_NoDisjunction_0', 'rlp1_matrix_-1_64_New_0', 'rlp1_matrix_-1_64_Farkas_0', 'rlp1_matrix_-1_64_NoDisjunction_0', 'rlp1_objective_-1_64_New_0', 'rlp1_objective_-1_64_Farkas_0', 'rlp1_objective_-1_64_NoDisjunction_0', 'bppc4-08_objective_1_4_New_0', 'bppc4-08_objective_1_4_Farkas_0', 'bppc4-08_objective_1_4_NoDisjunction_0', 'bppc4-08_objective_1_64_New_0', 'bppc4-08_objective_1_64_Farkas_0', 'bppc4-08_objective_1_64_NoDisjunction_0', 'bppc4-08_matrix_1_4_New_0', 'bppc4-08_matrix_1_4_Farkas_0', 'bppc4-08_matrix_1_4_NoDisjunction_0', 'bppc4-08_matrix_1_64_New_0', 'bppc4-08_matrix_1_64_Farkas_0', 'bppc4-08_matrix_1_64_NoDisjunction_0', 'bppc4-08_matrix_-1_4_New_0', 'bppc4-08_matrix_-1_4_Farkas_0', 'bppc4-08_matrix_-1_4_NoDisjunction_0', 'bppc4-08_matrix_-1_64_New_0', 'bppc4-08_matrix_-1_64_Farkas_0', 'bppc4-08_matrix_-1_64_NoDisjunction_0', 'bppc4-08_objective_-1_4_New_0', 'bppc4-08_objective_-1_4_Farkas_0', 'bppc4-08_objective_-1_4_NoDisjunction_0', 'bppc4-08_objective_-1_64_New_0', 'bppc4-08_objective_-1_64_Farkas_0', 'bppc4-08_objective_-1_64_NoDisjunction_0', 'neos-1112782_rhs_1_4_New_0', 'neos-1112782_rhs_1_4_Farkas_0', 'neos-1112782_rhs_1_4_NoDisjunction_0', 'neos-1112782_rhs_1_64_New_0', 'neos-1112782_rhs_1_64_Farkas_0', 'neos-1112782_rhs_1_64_NoDisjunction_0', 'neos-1112782_objective_1_4_New_0', 'neos-1112782_objective_1_4_Farkas_0', 'neos-1112782_objective_1_4_NoDisjunction_0', 'neos-1112782_objective_1_64_New_0', 'neos-1112782_objective_1_64_Farkas_0', 'neos-1112782_objective_1_64_NoDisjunction_0', 'neos-1112782_matrix_1_4_New_0', 'neos-1112782_matrix_1_4_Farkas_0', 'neos-1112782_matrix_1_4_NoDisjunction_0', 'neos-1112782_matrix_1_64_New_0', 'neos-1112782_matrix_1_64_Farkas_0', 'neos-1112782_matrix_1_64_NoDisjunction_0', 'neos-1112782_rhs_-1_4_New_0', 'neos-1112782_rhs_-1_4_Farkas_0', 'neos-1112782_rhs_-1_4_NoDisjunction_0', 'neos-1112782_rhs_-1_64_New_0', 'neos-1112782_rhs_-1_64_Farkas_0', 'neos-1112782_rhs_-1_64_NoDisjunction_0', 'neos-1112782_matrix_-1_4_New_0', 'neos-1112782_matrix_-1_4_Farkas_0', 'neos-1112782_matrix_-1_4_NoDisjunction_0', 'neos-1112782_matrix_-1_64_New_0', 'neos-1112782_matrix_-1_64_Farkas_0', 'neos-1112782_matrix_-1_64_NoDisjunction_0', 'neos-1112782_objective_-1_4_New_0', 'neos-1112782_objective_-1_4_Farkas_0', 'neos-1112782_objective_-1_4_NoDisjunction_0', 'neos-1112782_objective_-1_64_New_0', 'neos-1112782_objective_-1_64_Farkas_0', 'neos-1112782_objective_-1_64_NoDisjunction_0', 'neos-555001_rhs_1_4_New_0', 'neos-555001_rhs_1_4_Farkas_0', 'neos-555001_rhs_1_4_NoDisjunction_0', 'neos-555001_rhs_1_64_New_0', 'neos-555001_rhs_1_64_Farkas_0', 'neos-555001_rhs_1_64_NoDisjunction_0', 'neos-555001_objective_1_4_New_0', 'neos-555001_objective_1_4_Farkas_0', 'neos-555001_objective_1_4_NoDisjunction_0', 'neos-555001_objective_1_64_New_0', 'neos-555001_objective_1_64_Farkas_0', 'neos-555001_objective_1_64_NoDisjunction_0', 'neos-555001_matrix_1_4_New_0', 'neos-555001_matrix_1_4_Farkas_0', 'neos-555001_matrix_1_4_NoDisjunction_0', 'neos-555001_matrix_1_64_New_0', 'neos-555001_matrix_1_64_Farkas_0', 'neos-555001_matrix_1_64_NoDisjunction_0', 'neos-555001_rhs_-1_4_New_0', 'neos-555001_rhs_-1_4_Farkas_0', 'neos-555001_rhs_-1_4_NoDisjunction_0', 'neos-555001_rhs_-1_64_New_0', 'neos-555001_rhs_-1_64_Farkas_0', 'neos-555001_rhs_-1_64_NoDisjunction_0', 'neos-555001_objective_-1_4_New_0', 'neos-555001_objective_-1_4_Farkas_0', 'neos-555001_objective_-1_4_NoDisjunction_0', 'neos-555001_objective_-1_64_New_0', 'neos-555001_objective_-1_64_Farkas_0', 'neos-555001_objective_-1_64_NoDisjunction_0', 'railway_8_1_0_objective_1_4_New_0', 'railway_8_1_0_objective_1_4_Farkas_0', 'railway_8_1_0_objective_1_4_NoDisjunction_0', 'railway_8_1_0_rhs_-1_4_New_0', 'railway_8_1_0_rhs_-1_4_Farkas_0', 'railway_8_1_0_rhs_-1_4_NoDisjunction_0', 'railway_8_1_0_objective_-1_4_New_0', 'railway_8_1_0_objective_-1_4_Farkas_0', 'railway_8_1_0_objective_-1_4_NoDisjunction_0', 'reblock115_objective_1_64_New_0', 'reblock115_objective_1_64_Farkas_0', 'reblock115_objective_1_64_NoDisjunction_0', 'reblock115_matrix_1_64_New_0', 'reblock115_matrix_1_64_Farkas_0', 'reblock115_matrix_1_64_NoDisjunction_0', 'reblock115_matrix_-1_64_New_0', 'reblock115_matrix_-1_64_Farkas_0', 'reblock115_matrix_-1_64_NoDisjunction_0', 'reblock115_objective_-1_64_New_0', 'reblock115_objective_-1_64_Farkas_0', 'reblock115_objective_-1_64_NoDisjunction_0', 'arki001_objective_1_64_New_0', 'arki001_objective_1_64_Farkas_0', 'arki001_objective_1_64_NoDisjunction_0', 'arki001_matrix_-1_64_New_0', 'arki001_matrix_-1_64_Farkas_0', 'arki001_matrix_-1_64_NoDisjunction_0', 'arki001_objective_-1_64_New_0', 'arki001_objective_-1_64_Farkas_0', 'arki001_objective_-1_64_NoDisjunction_0', 'seymour_rhs_1_64_New_0', 'seymour_rhs_1_64_Farkas_0', 'seymour_rhs_1_64_NoDisjunction_0', 'seymour_objective_1_64_New_0', 'seymour_objective_1_64_Farkas_0', 'seymour_objective_1_64_NoDisjunction_0', 'seymour_matrix_1_64_New_0', 'seymour_matrix_1_64_Farkas_0', 'seymour_matrix_1_64_NoDisjunction_0', 'seymour_matrix_-1_64_New_0', 'seymour_matrix_-1_64_Farkas_0', 'seymour_matrix_-1_64_NoDisjunction_0', 'seymour_objective_-1_64_New_0', 'seymour_objective_-1_64_Farkas_0', 'seymour_objective_-1_64_NoDisjunction_0', 'neos-1445765_objective_1_64_New_0', 'neos-1445765_objective_1_64_Farkas_0', 'neos-1445765_objective_1_64_NoDisjunction_0', 'neos-1445765_matrix_1_64_New_0', 'neos-1445765_matrix_1_64_Farkas_0', 'neos-1445765_matrix_1_64_NoDisjunction_0', 'neos-1445765_matrix_-1_64_New_0', 'neos-1445765_matrix_-1_64_Farkas_0', 'neos-1445765_matrix_-1_64_NoDisjunction_0', 'neos-1445765_objective_-1_64_New_0', 'neos-1445765_objective_-1_64_Farkas_0', 'neos-1445765_objective_-1_64_NoDisjunction_0', 'supportcase4_rhs_-1_4_New_0', 'supportcase4_rhs_-1_4_Farkas_0', 'supportcase4_rhs_-1_4_NoDisjunction_0', 'supportcase4_rhs_-1_64_New_0', 'supportcase4_rhs_-1_64_Farkas_0', 'supportcase4_rhs_-1_64_NoDisjunction_0', 'supportcase4_matrix_-1_4_New_0', 'supportcase4_matrix_-1_4_Farkas_0', 'supportcase4_matrix_-1_4_NoDisjunction_0', 'supportcase4_matrix_-1_64_New_0', 'supportcase4_matrix_-1_64_Farkas_0', 'supportcase4_matrix_-1_64_NoDisjunction_0', 'supportcase4_objective_-1_4_New_0', 'supportcase4_objective_-1_4_Farkas_0', 'supportcase4_objective_-1_4_NoDisjunction_0', 'supportcase4_objective_-1_64_New_0', 'supportcase4_objective_-1_64_Farkas_0', 'supportcase4_objective_-1_64_NoDisjunction_0', 'neos-3048764-nadi_objective_1_4_New_0', 'neos-3048764-nadi_objective_1_4_Farkas_0', 'neos-3048764-nadi_objective_1_4_NoDisjunction_0', 'neos-3048764-nadi_objective_1_64_New_0', 'neos-3048764-nadi_objective_1_64_Farkas_0', 'neos-3048764-nadi_objective_1_64_NoDisjunction_0', 'neos-3048764-nadi_matrix_1_4_New_0', 'neos-3048764-nadi_matrix_1_4_Farkas_0', 'neos-3048764-nadi_matrix_1_4_NoDisjunction_0', 'neos-3048764-nadi_matrix_1_64_New_0', 'neos-3048764-nadi_matrix_1_64_Farkas_0', 'neos-3048764-nadi_matrix_1_64_NoDisjunction_0', 'neos-3048764-nadi_rhs_-1_4_New_0', 'neos-3048764-nadi_rhs_-1_4_Farkas_0', 'neos-3048764-nadi_rhs_-1_4_NoDisjunction_0', 'neos-3048764-nadi_rhs_-1_64_New_0', 'neos-3048764-nadi_rhs_-1_64_Farkas_0', 'neos-3048764-nadi_rhs_-1_64_NoDisjunction_0', 'neos-3048764-nadi_matrix_-1_4_New_0', 'neos-3048764-nadi_matrix_-1_4_Farkas_0', 'neos-3048764-nadi_matrix_-1_4_NoDisjunction_0', 'neos-3048764-nadi_matrix_-1_64_New_0', 'neos-3048764-nadi_matrix_-1_64_Farkas_0', 'neos-3048764-nadi_matrix_-1_64_NoDisjunction_0', 'neos-3048764-nadi_objective_-1_4_New_0', 'neos-3048764-nadi_objective_-1_4_Farkas_0', 'neos-3048764-nadi_objective_-1_4_NoDisjunction_0', 'neos-3048764-nadi_objective_-1_64_New_0', 'neos-3048764-nadi_objective_-1_64_Farkas_0', 'neos-3048764-nadi_objective_-1_64_NoDisjunction_0', 'ic97_potential_objective_1_4_New_0', 'ic97_potential_objective_1_4_Farkas_0', 'ic97_potential_objective_1_4_NoDisjunction_0', 'ic97_potential_rhs_-1_4_New_0', 'ic97_potential_rhs_-1_4_Farkas_0', 'ic97_potential_rhs_-1_4_NoDisjunction_0', 'ic97_potential_objective_-1_4_New_0', 'ic97_potential_objective_-1_4_Farkas_0', 'ic97_potential_objective_-1_4_NoDisjunction_0', 'neos-1445738_objective_1_64_NoDisjunction_0', 'neos-1445738_matrix_1_64_NoDisjunction_0', 'neos-1445738_objective_-1_64_Farkas_0', 'sct2_rhs_1_4_New_0', 'sct2_rhs_1_4_Farkas_0', 'sct2_rhs_1_4_NoDisjunction_0', 'sct2_rhs_1_64_New_0', 'sct2_rhs_1_64_Farkas_0', 'sct2_rhs_1_64_NoDisjunction_0', 'sct2_objective_1_4_New_0', 'sct2_objective_1_4_Farkas_0', 'sct2_objective_1_4_NoDisjunction_0', 'sct2_objective_1_64_New_0', 'sct2_objective_1_64_Farkas_0', 'sct2_objective_1_64_NoDisjunction_0', 'sct2_matrix_1_4_New_0', 'sct2_matrix_1_4_Farkas_0', 'sct2_matrix_1_4_NoDisjunction_0', 'sct2_matrix_1_64_New_0', 'sct2_matrix_1_64_Farkas_0', 'sct2_matrix_1_64_NoDisjunction_0', 'sct2_matrix_-1_4_New_0', 'sct2_matrix_-1_4_Farkas_0', 'sct2_matrix_-1_4_NoDisjunction_0', 'sct2_matrix_-1_64_New_0', 'sct2_matrix_-1_64_Farkas_0', 'sct2_matrix_-1_64_NoDisjunction_0', 'sct2_objective_-1_4_New_0', 'sct2_objective_-1_4_Farkas_0', 'sct2_objective_-1_4_NoDisjunction_0', 'sct2_objective_-1_64_New_0', 'sct2_objective_-1_64_Farkas_0', 'sct2_objective_-1_64_NoDisjunction_0', 'app2-1_objective_1_4_New_0', 'app2-1_objective_1_4_Farkas_0', 'app2-1_objective_1_4_NoDisjunction_0', 'app2-1_objective_1_64_New_0', 'app2-1_objective_1_64_Farkas_0', 'app2-1_objective_1_64_NoDisjunction_0', 'app2-1_matrix_1_4_New_0', 'app2-1_matrix_1_4_Farkas_0', 'app2-1_matrix_1_4_NoDisjunction_0', 'app2-1_matrix_1_64_New_0', 'app2-1_matrix_1_64_Farkas_0', 'app2-1_matrix_1_64_NoDisjunction_0', 'app2-1_matrix_-1_4_New_0', 'app2-1_matrix_-1_4_Farkas_0', 'app2-1_matrix_-1_4_NoDisjunction_0', 'app2-1_matrix_-1_64_New_0', 'app2-1_matrix_-1_64_Farkas_0', 'app2-1_matrix_-1_64_NoDisjunction_0', 'app2-1_objective_-1_4_New_0', 'app2-1_objective_-1_4_Farkas_0', 'app2-1_objective_-1_4_NoDisjunction_0', 'app2-1_objective_-1_64_New_0', 'app2-1_objective_-1_64_Farkas_0', 'app2-1_objective_-1_64_NoDisjunction_0', 'danoint_objective_1_64_New_0', 'danoint_objective_1_64_Farkas_0', 'danoint_objective_1_64_NoDisjunction_0', 'danoint_matrix_1_64_New_0', 'danoint_matrix_1_64_Farkas_0', 'danoint_matrix_1_64_NoDisjunction_0', 'danoint_matrix_-1_64_New_0', 'danoint_matrix_-1_64_Farkas_0', 'danoint_matrix_-1_64_NoDisjunction_0', 'danoint_objective_-1_64_New_0', 'danoint_objective_-1_64_Farkas_0', 'danoint_objective_-1_64_NoDisjunction_0', 'cvrpsimple2i_objective_1_4_New_0', 'cvrpsimple2i_objective_1_4_Farkas_0', 'cvrpsimple2i_objective_1_4_NoDisjunction_0', 'cvrpsimple2i_objective_1_64_New_0', 'cvrpsimple2i_objective_1_64_Farkas_0', 'cvrpsimple2i_objective_1_64_NoDisjunction_0', 'cvrpsimple2i_matrix_-1_4_New_0', 'cvrpsimple2i_matrix_-1_4_Farkas_0', 'cvrpsimple2i_matrix_-1_4_NoDisjunction_0', 'cvrpsimple2i_matrix_-1_64_New_0', 'cvrpsimple2i_matrix_-1_64_Farkas_0', 'cvrpsimple2i_matrix_-1_64_NoDisjunction_0', 'cvrpsimple2i_objective_-1_4_New_0', 'cvrpsimple2i_objective_-1_4_Farkas_0', 'cvrpsimple2i_objective_-1_4_NoDisjunction_0', 'cvrpsimple2i_objective_-1_64_New_0', 'cvrpsimple2i_objective_-1_64_Farkas_0', 'cvrpsimple2i_objective_-1_64_NoDisjunction_0', 'neos-3592146-hawea_rhs_1_64_New_0', 'neos-3592146-hawea_rhs_1_64_Farkas_0', 'neos-3592146-hawea_rhs_1_64_NoDisjunction_0', 'neos-3592146-hawea_objective_1_64_New_0', 'neos-3592146-hawea_objective_1_64_Farkas_0', 'neos-3592146-hawea_objective_1_64_NoDisjunction_0', 'neos-3592146-hawea_matrix_1_64_New_0', 'neos-3592146-hawea_matrix_1_64_Farkas_0', 'neos-3592146-hawea_matrix_1_64_NoDisjunction_0', 'neos-3592146-hawea_rhs_-1_64_New_0', 'neos-3592146-hawea_rhs_-1_64_Farkas_0', 'neos-3592146-hawea_rhs_-1_64_NoDisjunction_0', 'neos-3592146-hawea_matrix_-1_64_New_0', 'neos-3592146-hawea_matrix_-1_64_Farkas_0', 'neos-3592146-hawea_matrix_-1_64_NoDisjunction_0', 'neos-3592146-hawea_objective_-1_64_New_0', 'neos-3592146-hawea_objective_-1_64_Farkas_0', 'neos-3592146-hawea_objective_-1_64_NoDisjunction_0', 'mkc1_objective_1_64_New_0', 'mkc1_objective_1_64_Farkas_0', 'mkc1_objective_1_64_NoDisjunction_0', 'mkc1_matrix_1_64_New_0', 'mkc1_matrix_1_64_Farkas_0', 'mkc1_matrix_1_64_NoDisjunction_0', 'mkc1_matrix_-1_64_New_0', 'mkc1_matrix_-1_64_Farkas_0', 'mkc1_matrix_-1_64_NoDisjunction_0', 'mkc1_objective_-1_64_New_0', 'mkc1_objective_-1_64_Farkas_0', 'mkc1_objective_-1_64_NoDisjunction_0', 'acc-tight2_rhs_1_4_New_0', 'acc-tight2_rhs_1_4_Farkas_0', 'acc-tight2_rhs_1_4_NoDisjunction_0', 'acc-tight2_rhs_1_64_New_0', 'acc-tight2_rhs_1_64_Farkas_0', 'acc-tight2_rhs_1_64_NoDisjunction_0', 'acc-tight2_objective_1_4_New_0', 'acc-tight2_objective_1_4_Farkas_0', 'acc-tight2_objective_1_4_NoDisjunction_0', 'acc-tight2_objective_1_64_New_0', 'acc-tight2_objective_1_64_Farkas_0', 'acc-tight2_objective_1_64_NoDisjunction_0', 'acc-tight2_matrix_1_4_New_0', 'acc-tight2_matrix_1_4_Farkas_0', 'acc-tight2_matrix_1_4_NoDisjunction_0', 'acc-tight2_matrix_1_64_New_0', 'acc-tight2_matrix_1_64_Farkas_0', 'acc-tight2_matrix_1_64_NoDisjunction_0', 'acc-tight2_objective_-1_4_New_0', 'acc-tight2_objective_-1_4_Farkas_0', 'acc-tight2_objective_-1_4_NoDisjunction_0', 'acc-tight2_objective_-1_64_New_0', 'acc-tight2_objective_-1_64_Farkas_0', 'acc-tight2_objective_-1_64_NoDisjunction_0', 'neos-555424_rhs_1_4_New_0', 'neos-555424_rhs_1_4_Farkas_0', 'neos-555424_rhs_1_4_NoDisjunction_0', 'neos-555424_objective_1_4_New_0', 'neos-555424_objective_1_4_Farkas_0', 'neos-555424_objective_1_4_NoDisjunction_0', 'neos-555424_matrix_1_4_New_0', 'neos-555424_matrix_1_4_Farkas_0', 'neos-555424_matrix_1_4_NoDisjunction_0', 'neos-555424_matrix_-1_4_New_0', 'neos-555424_matrix_-1_4_Farkas_0', 'neos-555424_matrix_-1_4_NoDisjunction_0', 'neos-555424_objective_-1_4_New_0', 'neos-555424_objective_-1_4_Farkas_0', 'neos-555424_objective_-1_4_NoDisjunction_0', 'acc-tight5_rhs_1_4_New_0', 'acc-tight5_rhs_1_4_Farkas_0', 'acc-tight5_rhs_1_4_NoDisjunction_0', 'acc-tight5_rhs_1_64_New_0', 'acc-tight5_rhs_1_64_Farkas_0', 'acc-tight5_rhs_1_64_NoDisjunction_0', 'acc-tight5_objective_1_4_New_0', 'acc-tight5_objective_1_4_Farkas_0', 'acc-tight5_objective_1_4_NoDisjunction_0', 'acc-tight5_objective_1_64_New_0', 'acc-tight5_objective_1_64_Farkas_0', 'acc-tight5_objective_1_64_NoDisjunction_0', 'acc-tight5_matrix_1_4_New_0', 'acc-tight5_matrix_1_4_Farkas_0', 'acc-tight5_matrix_1_4_NoDisjunction_0', 'acc-tight5_matrix_1_64_New_0', 'acc-tight5_matrix_1_64_Farkas_0', 'acc-tight5_matrix_1_64_NoDisjunction_0', 'acc-tight5_objective_-1_4_New_0', 'acc-tight5_objective_-1_4_Farkas_0', 'acc-tight5_objective_-1_4_NoDisjunction_0', 'acc-tight5_objective_-1_64_New_0', 'acc-tight5_objective_-1_64_Farkas_0', 'acc-tight5_objective_-1_64_NoDisjunction_0', 'neos-3530903-gauja_rhs_1_4_New_0', 'neos-3530903-gauja_rhs_1_4_Farkas_0', 'neos-3530903-gauja_rhs_1_4_NoDisjunction_0', 'neos-3530903-gauja_rhs_1_64_New_0', 'neos-3530903-gauja_rhs_1_64_Farkas_0', 'neos-3530903-gauja_rhs_1_64_NoDisjunction_0', 'neos-3530903-gauja_objective_1_4_New_0', 'neos-3530903-gauja_objective_1_4_Farkas_0', 'neos-3530903-gauja_objective_1_4_NoDisjunction_0', 'neos-3530903-gauja_objective_1_64_New_0', 'neos-3530903-gauja_objective_1_64_Farkas_0', 'neos-3530903-gauja_objective_1_64_NoDisjunction_0', 'neos-3530903-gauja_matrix_1_4_New_0', 'neos-3530903-gauja_matrix_1_4_Farkas_0', 'neos-3530903-gauja_matrix_1_4_NoDisjunction_0', 'neos-3530903-gauja_matrix_1_64_New_0', 'neos-3530903-gauja_matrix_1_64_Farkas_0', 'neos-3530903-gauja_matrix_1_64_NoDisjunction_0', 'supportcase14_objective_1_4_New_0', 'supportcase14_objective_1_4_Farkas_0', 'supportcase14_objective_1_4_NoDisjunction_0', 'supportcase14_objective_1_64_New_0', 'supportcase14_objective_1_64_Farkas_0', 'supportcase14_objective_1_64_NoDisjunction_0', 'supportcase14_objective_-1_4_New_0', 'supportcase14_objective_-1_4_Farkas_0', 'supportcase14_objective_-1_4_NoDisjunction_0', 'supportcase14_objective_-1_64_New_0', 'supportcase14_objective_-1_64_Farkas_0', 'supportcase14_objective_-1_64_NoDisjunction_0', 'neos-5078479-escaut_rhs_-1_4_New_0', 'neos-5078479-escaut_rhs_-1_4_Farkas_0', 'neos-5078479-escaut_rhs_-1_4_NoDisjunction_0', 'neos-5078479-escaut_rhs_-1_64_New_0', 'neos-5078479-escaut_rhs_-1_64_Farkas_0', 'neos-5078479-escaut_rhs_-1_64_NoDisjunction_0', 'neos-5078479-escaut_matrix_-1_4_New_0', 'neos-5078479-escaut_matrix_-1_4_Farkas_0', 'neos-5078479-escaut_matrix_-1_4_NoDisjunction_0', 'neos-5078479-escaut_matrix_-1_64_New_0', 'neos-5078479-escaut_matrix_-1_64_Farkas_0', 'neos-5078479-escaut_matrix_-1_64_NoDisjunction_0', 'neos-5078479-escaut_objective_-1_4_New_0', 'neos-5078479-escaut_objective_-1_4_Farkas_0', 'neos-5078479-escaut_objective_-1_4_NoDisjunction_0', 'neos-5078479-escaut_objective_-1_64_New_0', 'neos-5078479-escaut_objective_-1_64_Farkas_0', 'neos-5078479-escaut_objective_-1_64_NoDisjunction_0', 'qiu_objective_1_4_New_0', 'qiu_objective_1_4_Farkas_0', 'qiu_objective_1_4_NoDisjunction_0', 'qiu_objective_1_64_New_0', 'qiu_objective_1_64_Farkas_0', 'qiu_objective_1_64_NoDisjunction_0', 'qiu_matrix_1_4_New_0', 'qiu_matrix_1_4_Farkas_0', 'qiu_matrix_1_4_NoDisjunction_0', 'qiu_matrix_1_64_New_0', 'qiu_matrix_1_64_Farkas_0', 'qiu_matrix_1_64_NoDisjunction_0', 'qiu_objective_-1_4_New_0', 'qiu_objective_-1_4_Farkas_0', 'qiu_objective_-1_4_NoDisjunction_0', 'qiu_objective_-1_64_New_0', 'qiu_objective_-1_64_Farkas_0', 'qiu_objective_-1_64_NoDisjunction_0', 'noswot_rhs_1_4_New_0', 'noswot_rhs_1_4_Farkas_0', 'noswot_rhs_1_4_NoDisjunction_0', 'noswot_rhs_1_64_New_0', 'noswot_rhs_1_64_Farkas_0', 'noswot_rhs_1_64_NoDisjunction_0', 'noswot_objective_1_4_New_0', 'noswot_objective_1_4_Farkas_0', 'noswot_objective_1_4_NoDisjunction_0', 'noswot_objective_1_64_New_0', 'noswot_objective_1_64_Farkas_0', 'noswot_objective_1_64_NoDisjunction_0', 'noswot_matrix_1_4_New_0', 'noswot_matrix_1_4_Farkas_0', 'noswot_matrix_1_4_NoDisjunction_0', 'noswot_matrix_1_64_New_0', 'noswot_matrix_1_64_Farkas_0', 'noswot_matrix_1_64_NoDisjunction_0', 'noswot_rhs_-1_4_New_0', 'noswot_rhs_-1_4_Farkas_0', 'noswot_rhs_-1_4_NoDisjunction_0', 'noswot_rhs_-1_64_New_0', 'noswot_rhs_-1_64_Farkas_0', 'noswot_rhs_-1_64_NoDisjunction_0', 'noswot_matrix_-1_4_New_0', 'noswot_matrix_-1_4_Farkas_0', 'noswot_matrix_-1_4_NoDisjunction_0', 'noswot_matrix_-1_64_New_0', 'noswot_matrix_-1_64_Farkas_0', 'noswot_matrix_-1_64_NoDisjunction_0', 'noswot_objective_-1_4_New_0', 'noswot_objective_-1_4_Farkas_0', 'noswot_objective_-1_4_NoDisjunction_0', 'noswot_objective_-1_64_New_0', 'noswot_objective_-1_64_Farkas_0', 'noswot_objective_-1_64_NoDisjunction_0', 'graph20-20-1rand_rhs_-1_64_New_0', 'graph20-20-1rand_rhs_-1_64_Farkas_0', 'graph20-20-1rand_rhs_-1_64_NoDisjunction_0', 'graph20-20-1rand_matrix_-1_64_New_0', 'graph20-20-1rand_matrix_-1_64_Farkas_0', 'graph20-20-1rand_objective_-1_64_New_0', 'graph20-20-1rand_objective_-1_64_Farkas_0', 'graph20-20-1rand_objective_-1_64_NoDisjunction_0', 'ns2071214_objective_1_4_New_0', 'ns2071214_objective_1_4_Farkas_0', 'ns2071214_objective_1_4_NoDisjunction_0', 'ns2071214_objective_1_64_New_0', 'ns2071214_objective_1_64_Farkas_0', 'ns2071214_objective_1_64_NoDisjunction_0', 'ns2071214_objective_-1_4_New_0', 'ns2071214_objective_-1_4_Farkas_0', 'ns2071214_objective_-1_4_NoDisjunction_0', 'ns2071214_objective_-1_64_New_0', 'ns2071214_objective_-1_64_Farkas_0', 'ns2071214_objective_-1_64_NoDisjunction_0', 'fastxgemm-n2r6s0t2_rhs_1_4_New_0', 'fastxgemm-n2r6s0t2_rhs_1_4_Farkas_0', 'fastxgemm-n2r6s0t2_rhs_1_4_NoDisjunction_0', 'fastxgemm-n2r6s0t2_rhs_1_64_New_0', 'fastxgemm-n2r6s0t2_rhs_1_64_Farkas_0', 'fastxgemm-n2r6s0t2_rhs_1_64_NoDisjunction_0', 'fastxgemm-n2r6s0t2_objective_1_4_New_0', 'fastxgemm-n2r6s0t2_objective_1_4_Farkas_0', 'fastxgemm-n2r6s0t2_objective_1_4_NoDisjunction_0', 'fastxgemm-n2r6s0t2_objective_1_64_New_0', 'fastxgemm-n2r6s0t2_objective_1_64_Farkas_0', 'fastxgemm-n2r6s0t2_objective_1_64_NoDisjunction_0', 'fastxgemm-n2r6s0t2_matrix_1_4_New_0', 'fastxgemm-n2r6s0t2_matrix_1_4_Farkas_0', 'fastxgemm-n2r6s0t2_matrix_1_4_NoDisjunction_0', 'fastxgemm-n2r6s0t2_matrix_1_64_New_0', 'fastxgemm-n2r6s0t2_matrix_1_64_Farkas_0', 'fastxgemm-n2r6s0t2_matrix_1_64_NoDisjunction_0', 'fastxgemm-n2r6s0t2_objective_-1_4_New_0', 'fastxgemm-n2r6s0t2_objective_-1_4_Farkas_0', 'fastxgemm-n2r6s0t2_objective_-1_4_NoDisjunction_0', 'fastxgemm-n2r6s0t2_objective_-1_64_New_0', 'fastxgemm-n2r6s0t2_objective_-1_64_Farkas_0', 'fastxgemm-n2r6s0t2_objective_-1_64_NoDisjunction_0', 'neos-850681_rhs_1_4_New_0', 'neos-850681_rhs_1_4_Farkas_0', 'neos-850681_rhs_1_4_NoDisjunction_0', 'neos-850681_rhs_1_64_New_0', 'neos-850681_rhs_1_64_Farkas_0', 'neos-850681_rhs_1_64_NoDisjunction_0', 'neos-850681_objective_1_4_New_0', 'neos-850681_objective_1_4_Farkas_0', 'neos-850681_objective_1_4_NoDisjunction_0', 'neos-850681_objective_1_64_New_0', 'neos-850681_objective_1_64_Farkas_0', 'neos-850681_objective_1_64_NoDisjunction_0', 'neos-850681_matrix_1_4_New_0', 'neos-850681_matrix_1_4_Farkas_0', 'neos-850681_matrix_1_4_NoDisjunction_0', 'neos-850681_matrix_1_64_New_0', 'neos-850681_matrix_1_64_Farkas_0', 'neos-850681_matrix_1_64_NoDisjunction_0', 'neos-850681_matrix_-1_4_New_0', 'neos-850681_matrix_-1_4_Farkas_0', 'neos-850681_matrix_-1_4_NoDisjunction_0', 'neos-850681_matrix_-1_64_New_0', 'neos-850681_matrix_-1_64_Farkas_0', 'neos-850681_matrix_-1_64_NoDisjunction_0', 'neos-850681_objective_-1_4_New_0', 'neos-850681_objective_-1_4_Farkas_0', 'neos-850681_objective_-1_4_NoDisjunction_0', 'neos-850681_objective_-1_64_New_0', 'neos-850681_objective_-1_64_Farkas_0', 'neos-850681_objective_-1_64_NoDisjunction_0', 'acc-tight4_objective_1_4_New_0', 'acc-tight4_objective_1_4_Farkas_0', 'acc-tight4_objective_1_4_NoDisjunction_0', 'acc-tight4_objective_1_64_New_0', 'acc-tight4_objective_1_64_Farkas_0', 'acc-tight4_objective_1_64_NoDisjunction_0', 'acc-tight4_matrix_1_4_New_0', 'acc-tight4_matrix_1_4_Farkas_0', 'acc-tight4_matrix_1_4_NoDisjunction_0', 'acc-tight4_matrix_1_64_New_0', 'acc-tight4_matrix_1_64_Farkas_0', 'acc-tight4_matrix_1_64_NoDisjunction_0', 'acc-tight4_matrix_-1_4_New_0', 'acc-tight4_matrix_-1_4_Farkas_0', 'acc-tight4_matrix_-1_4_NoDisjunction_0', 'acc-tight4_matrix_-1_64_New_0', 'acc-tight4_matrix_-1_64_Farkas_0', 'acc-tight4_matrix_-1_64_NoDisjunction_0', 'acc-tight4_objective_-1_4_New_0', 'acc-tight4_objective_-1_4_Farkas_0', 'acc-tight4_objective_-1_4_NoDisjunction_0', 'acc-tight4_objective_-1_64_New_0', 'acc-tight4_objective_-1_64_Farkas_0', 'acc-tight4_objective_-1_64_NoDisjunction_0', 'b-ball_objective_1_4_New_0', 'b-ball_objective_1_4_Farkas_0', 'b-ball_objective_1_4_NoDisjunction_0', 'b-ball_objective_1_64_New_0', 'b-ball_objective_1_64_Farkas_0', 'b-ball_objective_1_64_NoDisjunction_0', 'b-ball_objective_-1_4_New_0', 'b-ball_objective_-1_4_Farkas_0', 'b-ball_objective_-1_4_NoDisjunction_0', 'b-ball_objective_-1_64_New_0', 'b-ball_objective_-1_64_Farkas_0', 'b-ball_objective_-1_64_NoDisjunction_0', 'neos-4338804-snowy_rhs_1_4_New_0', 'neos-4338804-snowy_rhs_1_4_Farkas_0', 'neos-4338804-snowy_rhs_1_4_NoDisjunction_0', 'neos-4338804-snowy_rhs_1_64_New_0', 'neos-4338804-snowy_rhs_1_64_Farkas_0', 'neos-4338804-snowy_rhs_1_64_NoDisjunction_0', 'neos-4338804-snowy_objective_1_4_New_0', 'neos-4338804-snowy_objective_1_4_Farkas_0', 'neos-4338804-snowy_objective_1_4_NoDisjunction_0', 'neos-4338804-snowy_objective_1_64_New_0', 'neos-4338804-snowy_objective_1_64_Farkas_0', 'neos-4338804-snowy_objective_1_64_NoDisjunction_0', 'neos-4338804-snowy_matrix_1_4_New_0', 'neos-4338804-snowy_matrix_1_4_Farkas_0', 'neos-4338804-snowy_matrix_1_4_NoDisjunction_0', 'neos-4338804-snowy_matrix_1_64_New_0', 'neos-4338804-snowy_matrix_1_64_Farkas_0', 'neos-4338804-snowy_matrix_1_64_NoDisjunction_0', 'neos-4338804-snowy_rhs_-1_4_New_0', 'neos-4338804-snowy_rhs_-1_4_Farkas_0', 'neos-4338804-snowy_rhs_-1_4_NoDisjunction_0', 'neos-4338804-snowy_rhs_-1_64_New_0', 'neos-4338804-snowy_rhs_-1_64_Farkas_0', 'neos-4338804-snowy_rhs_-1_64_NoDisjunction_0', 'neos-4338804-snowy_matrix_-1_4_New_0', 'neos-4338804-snowy_matrix_-1_4_Farkas_0', 'neos-4338804-snowy_matrix_-1_4_NoDisjunction_0', 'neos-4338804-snowy_matrix_-1_64_New_0', 'neos-4338804-snowy_matrix_-1_64_Farkas_0', 'neos-4338804-snowy_matrix_-1_64_NoDisjunction_0', 'neos-4338804-snowy_objective_-1_4_New_0', 'neos-4338804-snowy_objective_-1_4_Farkas_0', 'neos-4338804-snowy_objective_-1_4_NoDisjunction_0', 'neos-4338804-snowy_objective_-1_64_New_0', 'neos-4338804-snowy_objective_-1_64_Farkas_0', 'neos-4338804-snowy_objective_-1_64_NoDisjunction_0', 'pk1_rhs_1_4_New_0', 'pk1_rhs_1_4_Farkas_0', 'pk1_rhs_1_4_NoDisjunction_0', 'pk1_rhs_1_64_New_0', 'pk1_rhs_1_64_Farkas_0', 'pk1_rhs_1_64_NoDisjunction_0', 'pk1_objective_1_4_New_0', 'pk1_objective_1_4_Farkas_0', 'pk1_objective_1_4_NoDisjunction_0', 'pk1_objective_1_64_New_0', 'pk1_objective_1_64_Farkas_0', 'pk1_objective_1_64_NoDisjunction_0', 'pk1_matrix_1_4_New_0', 'pk1_matrix_1_4_Farkas_0', 'pk1_matrix_1_4_NoDisjunction_0', 'pk1_matrix_1_64_New_0', 'pk1_matrix_1_64_Farkas_0', 'pk1_matrix_1_64_NoDisjunction_0', 'pk1_rhs_-1_4_New_0', 'pk1_rhs_-1_4_Farkas_0', 'pk1_rhs_-1_4_NoDisjunction_0', 'pk1_rhs_-1_64_New_0', 'pk1_rhs_-1_64_Farkas_0', 'pk1_rhs_-1_64_NoDisjunction_0', 'pk1_matrix_-1_4_New_0', 'pk1_matrix_-1_4_Farkas_0', 'pk1_matrix_-1_4_NoDisjunction_0', 'pk1_matrix_-1_64_New_0', 'pk1_matrix_-1_64_Farkas_0', 'pk1_matrix_-1_64_NoDisjunction_0', 'pk1_objective_-1_4_New_0', 'pk1_objective_-1_4_Farkas_0', 'pk1_objective_-1_4_NoDisjunction_0', 'pk1_objective_-1_64_New_0', 'pk1_objective_-1_64_Farkas_0', 'pk1_objective_-1_64_NoDisjunction_0', 'ns4-pr6_objective_1_64_New_0', 'ns4-pr6_objective_1_64_Farkas_0', 'ns4-pr6_objective_1_64_NoDisjunction_0', 'ns4-pr6_matrix_1_64_New_0', 'ns4-pr6_matrix_1_64_Farkas_0', 'ns4-pr6_matrix_1_64_NoDisjunction_0', 'ns4-pr6_rhs_-1_64_New_0', 'ns4-pr6_rhs_-1_64_Farkas_0', 'ns4-pr6_rhs_-1_64_NoDisjunction_0', 'ns4-pr6_matrix_-1_64_New_0', 'ns4-pr6_matrix_-1_64_Farkas_0', 'ns4-pr6_matrix_-1_64_NoDisjunction_0', 'ns4-pr6_objective_-1_64_New_0', 'ns4-pr6_objective_-1_64_Farkas_0', 'ns4-pr6_objective_-1_64_NoDisjunction_0', 'n5-3_rhs_1_64_Farkas_0', 'n5-3_objective_1_64_New_0', 'n5-3_objective_1_64_NoDisjunction_0', 'n5-3_matrix_1_64_NoDisjunction_0', 'berlin_5_8_0_rhs_1_4_New_0', 'berlin_5_8_0_rhs_1_4_Farkas_0', 'berlin_5_8_0_rhs_1_4_NoDisjunction_0', 'berlin_5_8_0_rhs_1_64_New_0', 'berlin_5_8_0_rhs_1_64_Farkas_0', 'berlin_5_8_0_rhs_1_64_NoDisjunction_0', 'berlin_5_8_0_objective_1_4_New_0', 'berlin_5_8_0_objective_1_4_Farkas_0', 'berlin_5_8_0_objective_1_4_NoDisjunction_0', 'berlin_5_8_0_objective_1_64_New_0', 'berlin_5_8_0_objective_1_64_Farkas_0', 'berlin_5_8_0_objective_1_64_NoDisjunction_0', 'berlin_5_8_0_matrix_1_4_New_0', 'berlin_5_8_0_matrix_1_4_Farkas_0', 'berlin_5_8_0_matrix_1_4_NoDisjunction_0', 'berlin_5_8_0_matrix_1_64_New_0', 'berlin_5_8_0_matrix_1_64_Farkas_0', 'berlin_5_8_0_matrix_1_64_NoDisjunction_0', 'berlin_5_8_0_rhs_-1_4_New_0', 'berlin_5_8_0_rhs_-1_4_Farkas_0', 'berlin_5_8_0_rhs_-1_4_NoDisjunction_0', 'berlin_5_8_0_rhs_-1_64_New_0', 'berlin_5_8_0_rhs_-1_64_Farkas_0', 'berlin_5_8_0_rhs_-1_64_NoDisjunction_0', 'berlin_5_8_0_objective_-1_4_New_0', 'berlin_5_8_0_objective_-1_4_Farkas_0', 'berlin_5_8_0_objective_-1_4_NoDisjunction_0', 'berlin_5_8_0_objective_-1_64_New_0', 'berlin_5_8_0_objective_-1_64_Farkas_0', 'berlin_5_8_0_objective_-1_64_NoDisjunction_0', 'umts_objective_1_64_New_0', 'umts_objective_1_64_Farkas_0', 'umts_objective_1_64_NoDisjunction_0', 'umts_rhs_-1_64_New_0', 'umts_rhs_-1_64_Farkas_0', 'umts_rhs_-1_64_NoDisjunction_0', 'umts_matrix_-1_64_New_0', 'umts_matrix_-1_64_Farkas_0', 'umts_matrix_-1_64_NoDisjunction_0', 'umts_objective_-1_64_New_0', 'umts_objective_-1_64_Farkas_0', 'umts_objective_-1_64_NoDisjunction_0', 'neos-2657525-crna_matrix_1_4_New_0', 'neos-2657525-crna_matrix_1_4_Farkas_0', 'neos-2657525-crna_matrix_1_4_NoDisjunction_0', 'neos-2657525-crna_matrix_1_64_New_0', 'neos-2657525-crna_matrix_1_64_Farkas_0', 'neos-2657525-crna_matrix_1_64_NoDisjunction_0', 'neos-2657525-crna_rhs_-1_4_New_0', 'neos-2657525-crna_rhs_-1_4_Farkas_0', 'neos-2657525-crna_rhs_-1_4_NoDisjunction_0', 'neos-2657525-crna_rhs_-1_64_New_0', 'neos-2657525-crna_rhs_-1_64_Farkas_0', 'neos-2657525-crna_rhs_-1_64_NoDisjunction_0', 'neos-2657525-crna_matrix_-1_4_New_0', 'neos-2657525-crna_matrix_-1_4_Farkas_0', 'neos-2657525-crna_matrix_-1_4_NoDisjunction_0', 'neos-2657525-crna_matrix_-1_64_New_0', 'neos-2657525-crna_matrix_-1_64_Farkas_0', 'neos-2657525-crna_matrix_-1_64_NoDisjunction_0', 'pigeon-08_objective_1_4_New_0', 'pigeon-08_objective_1_4_Farkas_0', 'pigeon-08_objective_1_4_NoDisjunction_0', 'pigeon-08_objective_1_64_New_0', 'pigeon-08_objective_1_64_Farkas_0', 'pigeon-08_objective_1_64_NoDisjunction_0', 'pigeon-08_matrix_1_4_New_0', 'pigeon-08_matrix_1_4_Farkas_0', 'pigeon-08_matrix_1_4_NoDisjunction_0', 'pigeon-08_matrix_1_64_New_0', 'pigeon-08_matrix_1_64_Farkas_0', 'pigeon-08_matrix_1_64_NoDisjunction_0', 'pigeon-08_matrix_-1_4_New_0', 'pigeon-08_matrix_-1_4_Farkas_0', 'pigeon-08_matrix_-1_4_NoDisjunction_0', 'pigeon-08_matrix_-1_64_New_0', 'pigeon-08_matrix_-1_64_Farkas_0', 'pigeon-08_matrix_-1_64_NoDisjunction_0', 'pigeon-08_objective_-1_4_New_0', 'pigeon-08_objective_-1_4_Farkas_0', 'pigeon-08_objective_-1_4_NoDisjunction_0', 'pigeon-08_objective_-1_64_New_0', 'pigeon-08_objective_-1_64_Farkas_0', 'pigeon-08_objective_-1_64_NoDisjunction_0', 'glass4_rhs_1_64_New_0', 'glass4_rhs_1_64_Farkas_0', 'glass4_rhs_1_64_NoDisjunction_0', 'glass4_objective_1_64_New_0', 'glass4_objective_1_64_Farkas_0', 'glass4_objective_1_64_NoDisjunction_0', 'glass4_rhs_-1_64_New_0', 'glass4_rhs_-1_64_Farkas_0', 'glass4_rhs_-1_64_NoDisjunction_0', 'glass4_matrix_-1_64_New_0', 'glass4_matrix_-1_64_Farkas_0', 'glass4_matrix_-1_64_NoDisjunction_0', 'glass4_objective_-1_64_New_0', 'glass4_objective_-1_64_Farkas_0', 'glass4_objective_-1_64_NoDisjunction_0']\n",
      "4 term: 0.13153945111492282\n",
      "64 term: 0.16327186963979418\n"
     ]
    }
   ],
   "execution_count": 20
  },
  {
   "cell_type": "code",
   "source": [
    "# vpc_err = {\n",
    "#     \"CglVPC: Finishing with exit reason: PRLP_TIME_LIMIT\": [],\n",
    "#     \"CglVPC: Finishing with exit reason: TIME_LIMIT\": [],\n",
    "#     \"CglVPC: Finishing with exit reason: NO_CUTS_LIKELY\": [],\n",
    "#     \"CglVPC: Finishing with exit reason: PRLP_INFEASIBLE\": [],\n",
    "#     \"CglVPC: Finishing with exit reason: SUCCESS\": [],\n",
    "#     \"CglVPC: Finishing with exit reason: OPTIMAL_SOLUTION_FOUND\": [],\n",
    "#     \"CglVPC: Finishing with exit reason: FAIL_LIMIT\": [],\n",
    "#     \"CglVPC: Finishing with exit reason: NO_DISJUNCTION\": [],\n",
    "# }\n",
    "# \n",
    "# vpc_other = []\n",
    "# \n",
    "# for stem in err[\"no vpcs were made from a new disjunction\"]:\n",
    "#     file_pth = os.path.join(results_fldr, f\"{stem}.out\")\n",
    "# \n",
    "#     with open(file_pth, \"r\") as f:\n",
    "#         text = f.read()\n",
    "#     \n",
    "#     # assign the error file to the appropriate list\n",
    "#     found_code = False\n",
    "#     for code in vpc_err:\n",
    "#         if code in text:\n",
    "#             vpc_err[code].append(stem)\n",
    "#             found_code = True\n",
    "#             break\n",
    "#     if not found_code:\n",
    "#         vpc_other.append(stem)"
   ],
   "metadata": {
    "collapsed": false,
    "ExecuteTime": {
     "end_time": "2025-07-23T14:04:59.845775Z",
     "start_time": "2025-07-23T14:04:59.843405Z"
    }
   },
   "id": "d10dcdb803b1faa3",
   "outputs": [],
   "execution_count": 21
  },
  {
   "cell_type": "code",
   "source": [
    "# print(vpc_err[\"CglVPC: Finishing with exit reason: PRLP_TIME_LIMIT\"])\n",
    "# if err[\"no vpcs were made from a new disjunction\"]:\n",
    "#     len(vpc_err[\"CglVPC: Finishing with exit reason: PRLP_TIME_LIMIT\"]) / len(err[\"no vpcs were made from a new disjunction\"])"
   ],
   "metadata": {
    "collapsed": false,
    "ExecuteTime": {
     "end_time": "2025-07-23T14:04:59.911328Z",
     "start_time": "2025-07-23T14:04:59.908297Z"
    }
   },
   "id": "158f7e03587ca952",
   "outputs": [],
   "execution_count": 22
  },
  {
   "cell_type": "code",
   "source": [
    "# print(vpc_err[\"CglVPC: Finishing with exit reason: TIME_LIMIT\"])\n",
    "# if err[\"no vpcs were made from a new disjunction\"]:\n",
    "#     len(vpc_err[\"CglVPC: Finishing with exit reason: TIME_LIMIT\"]) / len(err[\"no vpcs were made from a new disjunction\"])"
   ],
   "metadata": {
    "collapsed": false,
    "ExecuteTime": {
     "end_time": "2025-07-23T14:04:59.940125Z",
     "start_time": "2025-07-23T14:04:59.937684Z"
    }
   },
   "id": "dfb77c5bc34bbe22",
   "outputs": [],
   "execution_count": 23
  },
  {
   "cell_type": "code",
   "source": [
    "# print(vpc_err[\"CglVPC: Finishing with exit reason: NO_CUTS_LIKELY\"])\n",
    "# if err[\"no vpcs were made from a new disjunction\"]:\n",
    "#     len(vpc_err[\"CglVPC: Finishing with exit reason: NO_CUTS_LIKELY\"]) / len(err[\"no vpcs were made from a new disjunction\"])"
   ],
   "metadata": {
    "collapsed": false,
    "ExecuteTime": {
     "end_time": "2025-07-23T14:04:59.966614Z",
     "start_time": "2025-07-23T14:04:59.963383Z"
    }
   },
   "id": "eefe53ee89a87625",
   "outputs": [],
   "execution_count": 24
  },
  {
   "cell_type": "code",
   "source": [
    "# print(vpc_err[\"CglVPC: Finishing with exit reason: PRLP_INFEASIBLE\"])\n",
    "# if err[\"no vpcs were made from a new disjunction\"]:\n",
    "#     len(vpc_err[\"CglVPC: Finishing with exit reason: PRLP_INFEASIBLE\"]) / len(err[\"no vpcs were made from a new disjunction\"])"
   ],
   "metadata": {
    "collapsed": false,
    "ExecuteTime": {
     "end_time": "2025-07-23T14:05:00.016427Z",
     "start_time": "2025-07-23T14:04:59.994652Z"
    }
   },
   "id": "933d889bce35d1c6",
   "outputs": [],
   "execution_count": 25
  },
  {
   "cell_type": "code",
   "source": [
    "# print(vpc_err[\"CglVPC: Finishing with exit reason: SUCCESS\"])\n",
    "# if err[\"no vpcs were made from a new disjunction\"]:\n",
    "#     len(vpc_err[\"CglVPC: Finishing with exit reason: SUCCESS\"]) / len(err[\"no vpcs were made from a new disjunction\"])"
   ],
   "metadata": {
    "collapsed": false,
    "ExecuteTime": {
     "end_time": "2025-07-23T14:05:00.027316Z",
     "start_time": "2025-07-23T14:05:00.024967Z"
    }
   },
   "id": "ac8d0ff2a27ba558",
   "outputs": [],
   "execution_count": 26
  },
  {
   "cell_type": "code",
   "source": [
    "# print(vpc_err[\"CglVPC: Finishing with exit reason: OPTIMAL_SOLUTION_FOUND\"])\n",
    "# if err[\"no vpcs were made from a new disjunction\"]:\n",
    "#     len(vpc_err[\"CglVPC: Finishing with exit reason: OPTIMAL_SOLUTION_FOUND\"]) / len(err[\"no vpcs were made from a new disjunction\"])"
   ],
   "metadata": {
    "collapsed": false,
    "ExecuteTime": {
     "end_time": "2025-07-23T14:05:00.040982Z",
     "start_time": "2025-07-23T14:05:00.038718Z"
    }
   },
   "id": "4b63d3cd518e3107",
   "outputs": [],
   "execution_count": 27
  },
  {
   "cell_type": "code",
   "source": [
    "# print(vpc_err[\"CglVPC: Finishing with exit reason: FAIL_LIMIT\"])\n",
    "# if err[\"no vpcs were made from a new disjunction\"]:\n",
    "#     len(vpc_err[\"CglVPC: Finishing with exit reason: FAIL_LIMIT\"]) / len(err[\"no vpcs were made from a new disjunction\"])"
   ],
   "metadata": {
    "collapsed": false,
    "ExecuteTime": {
     "end_time": "2025-07-23T14:05:00.056489Z",
     "start_time": "2025-07-23T14:05:00.054353Z"
    }
   },
   "id": "f83387c79d2520a4",
   "outputs": [],
   "execution_count": 28
  },
  {
   "cell_type": "code",
   "source": [
    "# print(vpc_err[\"CglVPC: Finishing with exit reason: NO_DISJUNCTION\"])\n",
    "# if err[\"no vpcs were made from a new disjunction\"]:\n",
    "#     len(vpc_err[\"CglVPC: Finishing with exit reason: NO_DISJUNCTION\"]) / len(err[\"no vpcs were made from a new disjunction\"])"
   ],
   "metadata": {
    "collapsed": false,
    "ExecuteTime": {
     "end_time": "2025-07-23T14:05:00.070895Z",
     "start_time": "2025-07-23T14:05:00.068550Z"
    }
   },
   "id": "26779878562d1784",
   "outputs": [],
   "execution_count": 29
  },
  {
   "cell_type": "code",
   "source": "# vpc_other",
   "metadata": {
    "collapsed": false,
    "ExecuteTime": {
     "end_time": "2025-07-23T14:05:00.099087Z",
     "start_time": "2025-07-23T14:05:00.094794Z"
    }
   },
   "id": "68d93918615c4f37",
   "outputs": [],
   "execution_count": 30
  },
  {
   "cell_type": "code",
   "source": [
    "# # get breakdown of why vpc generation failed - mostly from lack of provisioning/problem being too large\n",
    "# if err[\"no vpcs were made from a new disjunction\"]:\n",
    "#     for code, exps in vpc_err.items():\n",
    "#         print(f\"{code}: {len(exps) / len(err['no vpcs were made from a new disjunction'])}\")\n",
    "#     \n",
    "#     print(f\"other: {len(vpc_other) / len(err['no vpcs were made from a new disjunction'])}\")"
   ],
   "metadata": {
    "collapsed": false,
    "ExecuteTime": {
     "end_time": "2025-07-23T14:05:00.111816Z",
     "start_time": "2025-07-23T14:05:00.109318Z"
    }
   },
   "id": "d2dfbc64d74a0662",
   "outputs": [],
   "execution_count": 31
  },
  {
   "cell_type": "code",
   "source": [
    "print(err[\"must have primalbound >= root lp objective\"])\n",
    "len(err[\"must have primalbound >= root lp objective\"]) / count_series"
   ],
   "metadata": {
    "collapsed": false,
    "ExecuteTime": {
     "end_time": "2025-07-23T14:05:00.135660Z",
     "start_time": "2025-07-23T14:05:00.132227Z"
    }
   },
   "id": "cbe5c977488d207f",
   "outputs": [
    {
     "name": "stdout",
     "output_type": "stream",
     "text": [
      "['neos4_objective_1_4_None_0', 'neos4_objective_1_64_None_0']\n"
     ]
    },
    {
     "data": {
      "text/plain": [
       "0.0002144082332761578"
      ]
     },
     "execution_count": 32,
     "metadata": {},
     "output_type": "execute_result"
    }
   ],
   "execution_count": 32
  },
  {
   "cell_type": "code",
   "source": [
    "# LP relaxation objective is not going to match root nodes objective when warm starting \n",
    "print(err[\"objective at parent nodes\"])\n",
    "len(err[\"objective at parent nodes\"]) / count_series"
   ],
   "metadata": {
    "collapsed": false,
    "ExecuteTime": {
     "end_time": "2025-07-23T14:05:00.257813Z",
     "start_time": "2025-07-23T14:05:00.255381Z"
    }
   },
   "id": "e48a519132565dc3",
   "outputs": [
    {
     "name": "stdout",
     "output_type": "stream",
     "text": [
      "[]\n"
     ]
    },
    {
     "data": {
      "text/plain": [
       "0.0"
      ]
     },
     "execution_count": 33,
     "metadata": {},
     "output_type": "execute_result"
    }
   ],
   "execution_count": 33
  },
  {
   "cell_type": "code",
   "source": [
    "# not enough tolerance added to bound (or we hit time limit) - element 2 from 5 and 4 from 4\n",
    "print(err[\"failed to optimize mip\"])\n",
    "len(err[\"failed to optimize mip\"]) / count_series"
   ],
   "metadata": {
    "collapsed": false,
    "ExecuteTime": {
     "end_time": "2025-07-23T14:05:00.364723Z",
     "start_time": "2025-07-23T14:05:00.362386Z"
    }
   },
   "id": "f0cec5808fee4f9f",
   "outputs": [
    {
     "name": "stdout",
     "output_type": "stream",
     "text": [
      "[]\n"
     ]
    },
    {
     "data": {
      "text/plain": [
       "0.0"
      ]
     },
     "execution_count": 34,
     "metadata": {},
     "output_type": "execute_result"
    }
   ],
   "execution_count": 34
  },
  {
   "cell_type": "code",
   "source": [
    "# todo: figure out why\n",
    "print(err[\"disjunction does not represent a full binary tree\"])\n",
    "len(err[\"disjunction does not represent a full binary tree\"]) / count_series"
   ],
   "metadata": {
    "collapsed": false,
    "ExecuteTime": {
     "end_time": "2025-07-23T14:05:00.622888Z",
     "start_time": "2025-07-23T14:05:00.620418Z"
    }
   },
   "id": "60ac343575ffea1b",
   "outputs": [
    {
     "name": "stdout",
     "output_type": "stream",
     "text": [
      "[]\n"
     ]
    },
    {
     "data": {
      "text/plain": [
       "0.0"
      ]
     },
     "execution_count": 35,
     "metadata": {},
     "output_type": "execute_result"
    }
   ],
   "execution_count": 35
  },
  {
   "cell_type": "code",
   "source": [
    "# again issue with not getting through vpc generation in time\n",
    "# todo: handle this gracefully\n",
    "print(err[\"solver not proven optimal for nodes\"])\n",
    "len(err[\"solver not proven optimal for nodes\"]) / count_series"
   ],
   "metadata": {
    "collapsed": false,
    "ExecuteTime": {
     "end_time": "2025-07-23T14:05:00.737604Z",
     "start_time": "2025-07-23T14:05:00.735231Z"
    }
   },
   "id": "9e8cf1d6b6dca990",
   "outputs": [
    {
     "name": "stdout",
     "output_type": "stream",
     "text": [
      "[]\n"
     ]
    },
    {
     "data": {
      "text/plain": [
       "0.0"
      ]
     },
     "execution_count": 36,
     "metadata": {},
     "output_type": "execute_result"
    }
   ],
   "execution_count": 36
  },
  {
   "cell_type": "code",
   "source": [
    "print(err[\"unable to open\"])\n",
    "len(err[\"unable to open\"]) / count_series"
   ],
   "metadata": {
    "collapsed": false,
    "ExecuteTime": {
     "end_time": "2025-07-23T14:05:00.944915Z",
     "start_time": "2025-07-23T14:05:00.942818Z"
    }
   },
   "id": "b6c518ef5d669738",
   "outputs": [
    {
     "name": "stdout",
     "output_type": "stream",
     "text": [
      "[]\n"
     ]
    },
    {
     "data": {
      "text/plain": [
       "0.0"
      ]
     },
     "execution_count": 37,
     "metadata": {},
     "output_type": "execute_result"
    }
   ],
   "execution_count": 37
  },
  {
   "cell_type": "code",
   "source": [
    "print(err[\"license\"])\n",
    "len(err[\"license\"]) / count_series"
   ],
   "metadata": {
    "collapsed": false,
    "ExecuteTime": {
     "end_time": "2025-07-23T14:05:01.112909Z",
     "start_time": "2025-07-23T14:05:01.110694Z"
    }
   },
   "id": "7046e5a3187d32a6",
   "outputs": [
    {
     "name": "stdout",
     "output_type": "stream",
     "text": [
      "[]\n"
     ]
    },
    {
     "data": {
      "text/plain": [
       "0.0"
      ]
     },
     "execution_count": 38,
     "metadata": {},
     "output_type": "execute_result"
    }
   ],
   "execution_count": 38
  },
  {
   "cell_type": "code",
   "source": [
    "print(warning)\n",
    "len(warning) / count_series"
   ],
   "metadata": {
    "collapsed": false,
    "ExecuteTime": {
     "end_time": "2025-07-23T14:05:01.235267Z",
     "start_time": "2025-07-23T14:05:01.232984Z"
    }
   },
   "id": "cbcf42c2debaed4d",
   "outputs": [
    {
     "name": "stdout",
     "output_type": "stream",
     "text": [
      "['bienst2_rhs_1_4_New_0', 'bienst2_rhs_1_4_Farkas_0', 'bienst2_objective_1_4_New_0', 'bienst2_objective_1_4_Farkas_0', 'bienst2_objective_1_4_NoDisjunction_0', 'bienst2_matrix_-1_4_New_0', 'bienst2_matrix_-1_4_NoDisjunction_0', 'bienst2_objective_-1_4_New_0', 'bienst2_objective_-1_4_Farkas_0', 'bienst2_objective_-1_4_NoDisjunction_0', '10teams_objective_1_4_New_0', '10teams_matrix_1_64_New_0', '10teams_matrix_1_64_Farkas_0', '10teams_objective_-1_4_New_0', 'gmu-35-40_objective_1_4_New_0', 'gmu-35-40_objective_1_4_Farkas_0', 'gmu-35-40_objective_1_4_NoDisjunction_0', 'gmu-35-40_objective_1_64_New_0', 'gmu-35-40_matrix_-1_4_New_0', 'gmu-35-40_matrix_-1_4_Farkas_0', 'gmu-35-40_matrix_-1_4_NoDisjunction_0', 'gmu-35-40_objective_-1_4_New_0', 'gmu-35-40_objective_-1_4_Farkas_0', 'gmu-35-40_objective_-1_4_NoDisjunction_0', 'gmu-35-40_objective_-1_64_New_0', 'neos-3610051-istra_rhs_-1_64_New_0', 'neos-3610051-istra_matrix_-1_4_New_0', 'neos-3610051-istra_objective_-1_64_New_0', 'ci-s4_objective_1_64_New_0', 'ci-s4_objective_-1_64_New_0', 'neos-585192_objective_1_4_New_0', 'neos-585192_objective_1_64_New_0', 'neos-585192_objective_-1_4_New_0', 'neos-585192_objective_-1_64_New_0', 'neos-3046601-motu_rhs_-1_64_New_0', 'nu25-pr12_matrix_1_64_NoDisjunction_0', 'nu25-pr12_objective_-1_64_New_0', 'neos-574665_objective_1_64_New_0', 'neos-574665_matrix_-1_64_New_0', 'csched007_objective_1_64_New_0', 'csched007_objective_1_64_Farkas_0', 'csched007_objective_1_64_NoDisjunction_0', 'csched007_rhs_-1_64_New_0', 'csched007_rhs_-1_64_Farkas_0', 'csched007_rhs_-1_64_NoDisjunction_0', 'csched007_matrix_-1_64_New_0', 'csched007_matrix_-1_64_Farkas_0', 'csched007_matrix_-1_64_NoDisjunction_0', 'csched007_objective_-1_64_New_0', 'csched007_objective_-1_64_Farkas_0', 'csched007_objective_-1_64_NoDisjunction_0', 'f2gap401600_objective_-1_64_New_0', 'traininstance6_objective_1_4_New_0', 'traininstance6_objective_1_4_Farkas_0', 'traininstance6_objective_1_4_NoDisjunction_0', 'traininstance6_objective_1_64_New_0', 'traininstance6_rhs_-1_4_New_0', 'traininstance6_rhs_-1_4_Farkas_0', 'traininstance6_rhs_-1_4_NoDisjunction_0', 'traininstance6_rhs_-1_64_New_0', 'traininstance6_matrix_-1_4_New_0', 'traininstance6_matrix_-1_4_Farkas_0', 'traininstance6_matrix_-1_4_NoDisjunction_0', 'traininstance6_objective_-1_4_Farkas_0', 'traininstance6_objective_-1_4_NoDisjunction_0', 'piperout-d27_objective_1_4_New_0', 'piperout-d27_objective_-1_4_New_0', 'piperout-d20_objective_1_4_New_0', 'piperout-d20_objective_-1_4_New_0', 'nexp-50-20-1-1_matrix_1_64_New_0', 'neos-1396125_rhs_1_4_New_0', 'neos-1396125_rhs_1_4_Farkas_0', 'neos-1396125_rhs_1_4_NoDisjunction_0', 'neos-1396125_objective_1_4_New_0', 'neos-1396125_objective_1_4_Farkas_0', 'neos-1396125_objective_1_4_NoDisjunction_0', 'neos-1396125_matrix_-1_4_New_0', 'neos-1396125_matrix_-1_4_Farkas_0', 'neos-1396125_matrix_-1_4_NoDisjunction_0', 'neos-1396125_objective_-1_4_New_0', 'neos-1396125_objective_-1_4_Farkas_0', 'neos-1396125_objective_-1_4_NoDisjunction_0', 'qnet1_objective_1_64_New_0', 'neos-1582420_objective_1_4_New_0', 'neos-1582420_objective_1_4_Farkas_0', 'neos-1582420_objective_1_4_NoDisjunction_0', 'neos-1582420_matrix_1_4_New_0', 'neos-1582420_matrix_1_4_Farkas_0', 'neos-1582420_matrix_1_4_NoDisjunction_0', 'neos-1582420_matrix_-1_4_New_0', 'neos-1582420_matrix_-1_4_Farkas_0', 'neos-1582420_matrix_-1_4_NoDisjunction_0', 'neos-1582420_objective_-1_4_New_0', 'neos-1582420_objective_-1_4_Farkas_0', 'neos-1582420_objective_-1_4_NoDisjunction_0', 'mtest4ma_matrix_1_4_New_0', 'mtest4ma_matrix_1_64_New_0', 'ns1208400_rhs_1_4_Farkas_0', 'ns1208400_objective_1_4_Farkas_0', 'ns1208400_matrix_1_4_New_0', 'ns1208400_objective_-1_4_New_0', 'f2gap40400_objective_1_4_New_0', 'f2gap40400_objective_1_4_Farkas_0', 'f2gap40400_objective_1_4_NoDisjunction_0', 'f2gap40400_objective_1_64_New_0', 'f2gap40400_objective_1_64_Farkas_0', 'f2gap40400_objective_1_64_NoDisjunction_0', 'f2gap40400_rhs_-1_4_New_0', 'f2gap40400_rhs_-1_4_Farkas_0', 'f2gap40400_rhs_-1_4_NoDisjunction_0', 'f2gap40400_rhs_-1_64_New_0', 'f2gap40400_rhs_-1_64_Farkas_0', 'f2gap40400_rhs_-1_64_NoDisjunction_0', 'f2gap40400_objective_-1_4_New_0', 'f2gap40400_objective_-1_4_Farkas_0', 'f2gap40400_objective_-1_4_NoDisjunction_0', 'f2gap40400_objective_-1_64_New_0', 'f2gap40400_objective_-1_64_Farkas_0', 'f2gap40400_objective_-1_64_NoDisjunction_0', 'bppc8-09_matrix_-1_64_New_0', 'bppc8-09_objective_-1_4_New_0', 'rentacar_objective_1_4_New_0', 'rentacar_objective_1_4_Farkas_0', 'rentacar_objective_1_4_NoDisjunction_0', 'rentacar_matrix_-1_4_New_0', 'rentacar_matrix_-1_4_Farkas_0', 'rentacar_matrix_-1_4_NoDisjunction_0', 'rentacar_objective_-1_4_Farkas_0', 'rentacar_objective_-1_4_NoDisjunction_0', 'neos-3421095-cinca_objective_1_4_New_0', 'neos-3421095-cinca_objective_1_4_Farkas_0', 'neos-3421095-cinca_objective_1_4_NoDisjunction_0', 'neos-3421095-cinca_objective_1_64_Farkas_0', 'neos-3421095-cinca_objective_1_64_NoDisjunction_0', 'neos-3421095-cinca_rhs_-1_4_New_0', 'neos-3421095-cinca_rhs_-1_4_Farkas_0', 'neos-3421095-cinca_rhs_-1_4_NoDisjunction_0', 'neos-3421095-cinca_rhs_-1_64_New_0', 'neos-3421095-cinca_rhs_-1_64_Farkas_0', 'neos-3421095-cinca_rhs_-1_64_NoDisjunction_0', 'neos-3421095-cinca_matrix_-1_4_New_0', 'neos-3421095-cinca_matrix_-1_4_Farkas_0', 'neos-3421095-cinca_matrix_-1_4_NoDisjunction_0', 'neos-3421095-cinca_matrix_-1_64_New_0', 'neos-3421095-cinca_matrix_-1_64_Farkas_0', 'neos-3421095-cinca_matrix_-1_64_NoDisjunction_0', 'neos-3421095-cinca_objective_-1_4_New_0', 'neos-3421095-cinca_objective_-1_4_Farkas_0', 'neos-3421095-cinca_objective_-1_4_NoDisjunction_0', 'neos-3421095-cinca_objective_-1_64_New_0', 'neos-3421095-cinca_objective_-1_64_Farkas_0', 'neos-3421095-cinca_objective_-1_64_NoDisjunction_0', 'a2c1s1_rhs_-1_64_New_0', 'assign1-5-8_rhs_1_4_New_0', 'assign1-5-8_rhs_1_4_NoDisjunction_0', 'assign1-5-8_objective_1_64_New_0', 'assign1-5-8_matrix_1_4_NoDisjunction_0', 'assign1-5-8_matrix_1_64_New_0', 'assign1-5-8_matrix_1_64_NoDisjunction_0', 'supportcase26_matrix_-1_4_New_0', 'irp_matrix_-1_4_New_0', 'supportcase27i_objective_1_64_Farkas_0', 'supportcase27i_objective_1_64_NoDisjunction_0', 'supportcase27i_objective_-1_4_New_0', 'supportcase27i_objective_-1_64_Farkas_0', 'supportcase27i_objective_-1_64_NoDisjunction_0', 'neos-5051588-culgoa_objective_1_64_New_0', 'neos-5051588-culgoa_rhs_-1_4_New_0', 'neos-5051588-culgoa_rhs_-1_64_New_0', 'neos-5051588-culgoa_matrix_-1_4_New_0', 'neos-5051588-culgoa_matrix_-1_64_New_0', 'breastcancer-regularized_rhs_1_64_New_0', 'breastcancer-regularized_rhs_1_64_Farkas_0', 'breastcancer-regularized_rhs_1_64_NoDisjunction_0', 'breastcancer-regularized_objective_1_64_New_0', 'breastcancer-regularized_objective_1_64_Farkas_0', 'breastcancer-regularized_objective_1_64_NoDisjunction_0', 'breastcancer-regularized_matrix_1_64_New_0', 'breastcancer-regularized_matrix_1_64_Farkas_0', 'breastcancer-regularized_matrix_1_64_NoDisjunction_0', 'breastcancer-regularized_rhs_-1_64_New_0', 'breastcancer-regularized_rhs_-1_64_Farkas_0', 'breastcancer-regularized_rhs_-1_64_NoDisjunction_0', 'breastcancer-regularized_matrix_-1_64_New_0', 'breastcancer-regularized_matrix_-1_64_Farkas_0', 'breastcancer-regularized_matrix_-1_64_NoDisjunction_0', 'breastcancer-regularized_objective_-1_64_New_0', 'breastcancer-regularized_objective_-1_64_Farkas_0', 'breastcancer-regularized_objective_-1_64_NoDisjunction_0', 'sorrell8_rhs_-1_64_NoDisjunction_0', 'sorrell8_matrix_-1_64_Farkas_0', 'sorrell8_objective_-1_64_NoDisjunction_0', 'neos-555884_matrix_1_64_New_0', 'timtab1_matrix_1_64_New_0', 'aligninq_objective_1_4_New_0', 'aligninq_objective_-1_4_New_0', 'gsvm2rl3_matrix_1_64_New_0', 'gsvm2rl3_objective_-1_64_New_0', 'neos-631517_matrix_-1_4_New_0', 'nsrand-ipx_rhs_1_64_Farkas_0', 'nsrand-ipx_objective_1_64_Farkas_0', 'nsrand-ipx_matrix_1_64_New_0', 'nsrand-ipx_rhs_-1_64_New_0', 'nsrand-ipx_matrix_-1_64_New_0', 'nsrand-ipx_objective_-1_64_New_0', 'nsrand-ipx_objective_-1_64_NoDisjunction_0', 'neos-3068746-nene_rhs_-1_64_New_0', 'neos-3068746-nene_rhs_-1_64_Farkas_0', 'neos-3068746-nene_rhs_-1_64_NoDisjunction_0', 'neos-3068746-nene_matrix_-1_4_New_0', 'neos-3068746-nene_matrix_-1_64_New_0', 'neos-3068746-nene_matrix_-1_64_Farkas_0', 'neos-3068746-nene_matrix_-1_64_NoDisjunction_0', 'neos-3068746-nene_objective_-1_64_New_0', 'neos-3068746-nene_objective_-1_64_Farkas_0', 'neos-3068746-nene_objective_-1_64_NoDisjunction_0', 'rout_objective_1_4_New_0', 'rout_objective_1_4_Farkas_0', 'rout_objective_1_4_NoDisjunction_0', 'rout_objective_1_64_New_0', 'rout_matrix_1_4_New_0', 'rout_matrix_1_4_Farkas_0', 'rout_matrix_1_4_NoDisjunction_0', 'rout_rhs_-1_4_New_0', 'rout_rhs_-1_4_Farkas_0', 'rout_rhs_-1_4_NoDisjunction_0', 'rout_matrix_-1_4_New_0', 'rout_matrix_-1_4_Farkas_0', 'rout_matrix_-1_4_NoDisjunction_0', 'rout_objective_-1_4_New_0', 'rout_objective_-1_4_Farkas_0', 'rout_objective_-1_4_NoDisjunction_0', 'rout_objective_-1_64_New_0', 'lectsched-4-obj_rhs_-1_64_New_0', 'prod2_rhs_1_64_New_0', 'prod2_rhs_1_64_NoDisjunction_0', 'prod2_objective_1_64_New_0', 'prod2_matrix_1_64_New_0', 'prod2_matrix_1_64_NoDisjunction_0', 'nh97_potential_rhs_-1_64_New_0', 'neos-3660371-kurow_rhs_1_4_New_0', 'neos-3660371-kurow_matrix_1_4_New_0', 'neos-3660371-kurow_objective_-1_4_New_0', 'neos-3627168-kasai_rhs_-1_64_New_0', 'neos-3627168-kasai_objective_-1_64_Farkas_0', 'uct-subprob_objective_-1_64_New_0', 'uct-subprob_objective_-1_64_Farkas_0', 'uct-subprob_objective_-1_64_NoDisjunction_0', 'neos-5075914-elvire_rhs_-1_4_New_0', 'neos-5075914-elvire_rhs_-1_4_Farkas_0', 'neos-5075914-elvire_matrix_-1_4_NoDisjunction_0', 'neos-5075914-elvire_objective_-1_4_Farkas_0', 'neos-5075914-elvire_objective_-1_4_NoDisjunction_0', 'neos-595904_matrix_-1_64_New_0', 'neos-595904_objective_-1_64_New_0', 'bienst1_rhs_1_64_New_0', 'bienst1_objective_1_4_New_0', 'bienst1_objective_1_64_New_0', 'bienst1_matrix_-1_64_New_0', 'bienst1_objective_-1_64_New_0', 'blp-ir98_rhs_1_64_New_0', 'blp-ir98_objective_1_64_Farkas_0', 'blp-ir98_matrix_1_64_Farkas_0', 'blp-ir98_matrix_-1_64_NoDisjunction_0', 'blp-ir98_objective_-1_64_NoDisjunction_0', 'p0201_matrix_1_64_New_0', 'piperout-03_objective_1_4_New_0', 'piperout-03_objective_-1_4_New_0', 'neos-3611689-kaihu_objective_1_64_New_0', 'neos-831188_objective_1_4_New_0', 'neos-831188_objective_-1_4_New_0', 'neos-831188_objective_-1_4_Farkas_0', 'neos-831188_objective_-1_4_NoDisjunction_0', 'neos-5182409-nasivi_objective_1_4_New_0', 'neos-5182409-nasivi_objective_1_4_Farkas_0', 'neos-5182409-nasivi_objective_1_4_NoDisjunction_0', 'neos-5182409-nasivi_objective_1_64_New_0', 'neos-5182409-nasivi_objective_1_64_Farkas_0', 'neos-5182409-nasivi_matrix_1_4_New_0', 'neos-5182409-nasivi_matrix_1_4_Farkas_0', 'neos-5182409-nasivi_matrix_1_4_NoDisjunction_0', 'neos-5182409-nasivi_matrix_1_64_Farkas_0', 'neos-5182409-nasivi_matrix_1_64_NoDisjunction_0', 'neos-5182409-nasivi_matrix_-1_4_Farkas_0', 'neos-5182409-nasivi_matrix_-1_4_NoDisjunction_0', 'neos-5182409-nasivi_matrix_-1_64_Farkas_0', 'neos-5182409-nasivi_objective_-1_4_New_0', 'neos-5182409-nasivi_objective_-1_4_Farkas_0', 'neos-5182409-nasivi_objective_-1_4_NoDisjunction_0', 'neos-5182409-nasivi_objective_-1_64_New_0', 'neos-5182409-nasivi_objective_-1_64_Farkas_0', 'khb05250_matrix_1_64_New_0', 'khb05250_rhs_-1_64_New_0', 'neos18_rhs_1_4_New_0', 'neos-911970_objective_-1_4_New_0', 'neos-911970_objective_-1_64_New_0', 'railway_8_1_0_rhs_-1_64_New_0', 'reblock115_objective_1_4_New_0', 'reblock115_matrix_-1_4_NoDisjunction_0', 'reblock115_objective_-1_4_New_0', 'dcmulti_matrix_1_4_New_0', 'dcmulti_matrix_1_64_New_0', 'arki001_objective_1_4_New_0', 'arki001_objective_1_4_Farkas_0', 'arki001_objective_1_4_NoDisjunction_0', 'arki001_matrix_-1_4_New_0', 'arki001_matrix_-1_4_Farkas_0', 'arki001_matrix_-1_4_NoDisjunction_0', 'arki001_objective_-1_4_New_0', 'arki001_objective_-1_4_Farkas_0', 'arki001_objective_-1_4_NoDisjunction_0', 'seymour_rhs_1_4_New_0', 'seymour_rhs_1_4_Farkas_0', 'seymour_objective_1_4_New_0', 'seymour_objective_-1_4_New_0', 'gen-ip021_objective_1_64_New_0', 'neos17_objective_-1_64_New_0', 'mas76_rhs_1_64_New_0', 'mas76_matrix_1_4_New_0', 'mas76_matrix_-1_4_New_0', 'toll-like_objective_1_4_New_0', 'toll-like_objective_1_64_New_0', 'ic97_potential_rhs_-1_64_New_0', 'neos-1445532_objective_1_64_New_0', 'neos-1445738_objective_1_64_New_0', 'neos-1445738_matrix_1_4_New_0', 'neos-1445738_matrix_1_64_New_0', 'neos-1445738_matrix_-1_4_New_0', 'neos-1445738_matrix_-1_64_New_0', 'neos-1445738_objective_-1_64_New_0', 'danoint_objective_1_4_New_0', 'danoint_objective_1_4_Farkas_0', 'danoint_objective_1_4_NoDisjunction_0', 'danoint_matrix_1_4_New_0', 'danoint_matrix_1_4_Farkas_0', 'danoint_matrix_1_4_NoDisjunction_0', 'danoint_matrix_-1_4_New_0', 'danoint_matrix_-1_4_Farkas_0', 'danoint_matrix_-1_4_NoDisjunction_0', 'danoint_objective_-1_4_New_0', 'danoint_objective_-1_4_Farkas_0', 'danoint_objective_-1_4_NoDisjunction_0', 'neos-3592146-hawea_rhs_1_4_New_0', 'neos-3592146-hawea_rhs_1_4_Farkas_0', 'neos-3592146-hawea_rhs_1_4_NoDisjunction_0', 'neos-3592146-hawea_objective_1_4_New_0', 'neos-3592146-hawea_objective_1_4_Farkas_0', 'neos-3592146-hawea_objective_1_4_NoDisjunction_0', 'neos-3592146-hawea_matrix_1_4_New_0', 'neos-3592146-hawea_matrix_1_4_Farkas_0', 'neos-3592146-hawea_matrix_1_4_NoDisjunction_0', 'neos-3592146-hawea_rhs_-1_4_New_0', 'neos-3592146-hawea_rhs_-1_4_Farkas_0', 'neos-3592146-hawea_rhs_-1_4_NoDisjunction_0', 'neos-3592146-hawea_matrix_-1_4_Farkas_0', 'neos-3592146-hawea_matrix_-1_4_NoDisjunction_0', 'neos-3592146-hawea_objective_-1_4_New_0', 'neos-3592146-hawea_objective_-1_4_Farkas_0', 'neos-3592146-hawea_objective_-1_4_NoDisjunction_0', 'neos-3075395-nile_objective_1_64_New_0', 'haprp_rhs_1_4_New_0', 'haprp_rhs_1_4_Farkas_0', 'haprp_rhs_1_4_NoDisjunction_0', 'haprp_rhs_1_64_Farkas_0', 'haprp_rhs_1_64_NoDisjunction_0', 'haprp_objective_1_4_New_0', 'haprp_objective_1_4_Farkas_0', 'haprp_objective_1_4_NoDisjunction_0', 'haprp_objective_1_64_Farkas_0', 'haprp_objective_1_64_NoDisjunction_0', 'haprp_matrix_1_4_New_0', 'haprp_matrix_1_4_Farkas_0', 'haprp_matrix_1_4_NoDisjunction_0', 'haprp_matrix_1_64_New_0', 'haprp_matrix_1_64_Farkas_0', 'haprp_matrix_1_64_NoDisjunction_0', 'haprp_rhs_-1_4_Farkas_0', 'haprp_rhs_-1_4_NoDisjunction_0', 'haprp_rhs_-1_64_Farkas_0', 'haprp_rhs_-1_64_NoDisjunction_0', 'haprp_matrix_-1_4_New_0', 'haprp_matrix_-1_4_Farkas_0', 'haprp_matrix_-1_4_NoDisjunction_0', 'haprp_matrix_-1_64_New_0', 'haprp_matrix_-1_64_Farkas_0', 'haprp_matrix_-1_64_NoDisjunction_0', 'haprp_objective_-1_4_New_0', 'haprp_objective_-1_4_Farkas_0', 'haprp_objective_-1_4_NoDisjunction_0', 'haprp_objective_-1_64_Farkas_0', 'haprp_objective_-1_64_NoDisjunction_0', 'supportcase25_objective_1_64_Farkas_0', 'supportcase25_objective_1_64_NoDisjunction_0', 'supportcase25_matrix_1_64_Farkas_0', 'supportcase25_matrix_1_64_NoDisjunction_0', 'supportcase25_matrix_-1_4_New_0', 'supportcase25_objective_-1_64_NoDisjunction_0', 'neos-555424_rhs_1_64_New_0', 'neos-555424_matrix_-1_64_New_0', 'mik-250-20-75-2_matrix_-1_64_NoDisjunction_0', 'b2c1s1_objective_1_4_New_0', 'b2c1s1_objective_1_64_New_0', 'b2c1s1_objective_-1_64_New_0', 'neos-3754480-nidda_matrix_1_64_New_0', 'neos-3754480-nidda_matrix_-1_64_New_0', 'mik-250-20-75-5_matrix_1_64_NoDisjunction_0', 'mik-250-20-75-5_matrix_-1_64_NoDisjunction_0', 'aflow30a_objective_1_4_New_0', 'control30-3-2-3_objective_1_4_New_0', 'control30-3-2-3_objective_1_64_New_0', 'mik-250-20-75-4_matrix_1_64_NoDisjunction_0', 'mik-250-20-75-4_matrix_-1_64_NoDisjunction_0', 'neos-4333596-skien_objective_1_4_New_0', 'neos-4333596-skien_objective_1_64_New_0', 'neos-4333596-skien_objective_1_64_Farkas_0', 'neos-4333596-skien_objective_1_64_NoDisjunction_0', 'neos-4333596-skien_rhs_-1_64_New_0', 'neos-4333596-skien_rhs_-1_64_Farkas_0', 'neos-4333596-skien_rhs_-1_64_NoDisjunction_0', 'neos-4333596-skien_matrix_-1_64_New_0', 'neos-4333596-skien_matrix_-1_64_Farkas_0', 'neos-4333596-skien_matrix_-1_64_NoDisjunction_0', 'neos-4333596-skien_objective_-1_4_New_0', 'neos-4333596-skien_objective_-1_64_Farkas_0', 'neos-4333596-skien_objective_-1_64_NoDisjunction_0', 'b1c1s1_objective_-1_64_New_0', 'newdano_rhs_1_4_New_0', 'newdano_rhs_1_4_Farkas_0', 'newdano_rhs_1_64_New_0', 'newdano_rhs_1_64_Farkas_0', 'newdano_rhs_1_64_NoDisjunction_0', 'newdano_objective_1_4_New_0', 'newdano_objective_1_4_NoDisjunction_0', 'newdano_objective_1_64_New_0', 'newdano_objective_1_64_Farkas_0', 'newdano_objective_1_64_NoDisjunction_0', 'newdano_matrix_-1_4_New_0', 'newdano_matrix_-1_4_NoDisjunction_0', 'newdano_matrix_-1_64_New_0', 'newdano_matrix_-1_64_Farkas_0', 'newdano_objective_-1_4_New_0', 'newdano_objective_-1_4_Farkas_0', 'newdano_objective_-1_64_New_0', 'newdano_objective_-1_64_Farkas_0', 'newdano_objective_-1_64_NoDisjunction_0', 'neos-860300_objective_1_64_New_0', 'neos-860300_objective_1_64_Farkas_0', 'neos-860300_objective_1_64_NoDisjunction_0', 'neos-860300_matrix_1_64_New_0', 'neos-860300_matrix_1_64_Farkas_0', 'neos-860300_matrix_1_64_NoDisjunction_0', 'neos-860300_rhs_-1_64_New_0', 'neos-860300_rhs_-1_64_NoDisjunction_0', 'neos-860300_matrix_-1_64_New_0', 'neos-860300_matrix_-1_64_Farkas_0', 'neos-860300_matrix_-1_64_NoDisjunction_0', 'neos-860300_objective_-1_64_New_0', 'neos-860300_objective_-1_64_Farkas_0', 'neos-860300_objective_-1_64_NoDisjunction_0', 'n5-3_matrix_1_64_New_0', 'umts_objective_1_4_New_0', 'umts_rhs_-1_4_New_0', 'umts_objective_-1_4_New_0', 'gmu-35-50_rhs_1_4_New_0', 'gmu-35-50_rhs_1_4_Farkas_0', 'gmu-35-50_rhs_1_4_NoDisjunction_0', 'gmu-35-50_rhs_1_64_New_0', 'gmu-35-50_rhs_1_64_Farkas_0', 'gmu-35-50_rhs_1_64_NoDisjunction_0', 'gmu-35-50_objective_1_4_New_0', 'gmu-35-50_objective_1_4_Farkas_0', 'gmu-35-50_objective_1_4_NoDisjunction_0', 'gmu-35-50_objective_1_64_New_0', 'gmu-35-50_objective_1_64_Farkas_0', 'gmu-35-50_objective_1_64_NoDisjunction_0', 'gmu-35-50_matrix_1_4_New_0', 'gmu-35-50_matrix_1_4_Farkas_0', 'gmu-35-50_matrix_1_4_NoDisjunction_0', 'gmu-35-50_matrix_1_64_New_0', 'gmu-35-50_matrix_1_64_Farkas_0', 'gmu-35-50_matrix_1_64_NoDisjunction_0', 'neos-807639_objective_1_4_New_0', 'neos-807639_objective_1_64_New_0', 'neos-807639_objective_1_64_Farkas_0', 'neos-807639_objective_1_64_NoDisjunction_0', 'neos-807639_matrix_1_4_New_0', 'neos-807639_matrix_1_64_New_0', 'neos-807639_matrix_1_64_Farkas_0', 'neos-807639_matrix_1_64_NoDisjunction_0', 'neos-807639_rhs_-1_64_New_0', 'neos-807639_rhs_-1_64_Farkas_0', 'neos-807639_rhs_-1_64_NoDisjunction_0', 'neos-807639_matrix_-1_64_New_0', 'neos-807639_matrix_-1_64_Farkas_0', 'neos-807639_matrix_-1_64_NoDisjunction_0', 'neos-807639_objective_-1_64_New_0', 'neos-807639_objective_-1_64_Farkas_0', 'neos-807639_objective_-1_64_NoDisjunction_0', 'app1-1_matrix_1_4_New_0', 'app1-1_matrix_1_64_New_0', 'misc07_matrix_1_64_New_0', 'glass4_rhs_1_4_Farkas_0', 'glass4_rhs_1_4_NoDisjunction_0', 'glass4_objective_1_4_Farkas_0', 'glass4_objective_1_4_NoDisjunction_0', 'glass4_rhs_-1_4_Farkas_0', 'glass4_rhs_-1_4_NoDisjunction_0', 'glass4_matrix_-1_4_Farkas_0', 'glass4_matrix_-1_4_NoDisjunction_0', 'glass4_objective_-1_4_Farkas_0', 'glass4_objective_-1_4_NoDisjunction_0', 'csched010_objective_1_64_New_0', 'csched010_objective_1_64_Farkas_0', 'csched010_objective_1_64_NoDisjunction_0', 'csched010_rhs_-1_64_New_0', 'csched010_rhs_-1_64_Farkas_0', 'csched010_rhs_-1_64_NoDisjunction_0', 'csched010_matrix_-1_64_New_0', 'csched010_matrix_-1_64_Farkas_0', 'csched010_matrix_-1_64_NoDisjunction_0', 'csched010_objective_-1_64_New_0', 'csched010_objective_-1_64_Farkas_0', 'csched010_objective_-1_64_NoDisjunction_0']\n"
     ]
    },
    {
     "data": {
      "text/plain": [
       "0.056067753001715265"
      ]
     },
     "execution_count": 39,
     "metadata": {},
     "output_type": "execute_result"
    }
   ],
   "execution_count": 39
  },
  {
   "cell_type": "code",
   "source": [
    "# errors unaccounted for\n",
    "print(other)\n",
    "len(other) / count_series"
   ],
   "metadata": {
    "collapsed": false,
    "ExecuteTime": {
     "end_time": "2025-07-23T14:05:01.396538Z",
     "start_time": "2025-07-23T14:05:01.393748Z"
    }
   },
   "id": "f2365025f4ca39d4",
   "outputs": [
    {
     "name": "stdout",
     "output_type": "stream",
     "text": [
      "['neos-3083819-nubu_matrix_-1_4_New_0', 'neos-3083819-nubu_matrix_-1_64_New_0', 'eil33-2_objective_1_4_New_0']\n"
     ]
    },
    {
     "data": {
      "text/plain": [
       "0.00032161234991423673"
      ]
     },
     "execution_count": 40,
     "metadata": {},
     "output_type": "execute_result"
    }
   ],
   "execution_count": 40
  },
  {
   "cell_type": "code",
   "source": [
    "# proportion of series that were improperly provisioned\n",
    "(len(err[\"bad_alloc\"] + err[\"out of memory\"] + err[\"walltime\"] + err[\"vmem\"])) / count_series"
   ],
   "metadata": {
    "collapsed": false,
    "ExecuteTime": {
     "end_time": "2025-07-23T14:05:01.528243Z",
     "start_time": "2025-07-23T14:05:01.525972Z"
    }
   },
   "id": "5cc2517a3d1c1f27",
   "outputs": [
    {
     "data": {
      "text/plain": [
       "0.026586620926243566"
      ]
     },
     "execution_count": 41,
     "metadata": {},
     "output_type": "execute_result"
    }
   ],
   "execution_count": 41
  },
  {
   "cell_type": "code",
   "source": [
    "# todo handle this\n",
    "print(err[\"dot product with obj differs from solver\"])\n",
    "len(err[\"dot product with obj differs from solver\"]) / count_series"
   ],
   "metadata": {
    "collapsed": false,
    "ExecuteTime": {
     "end_time": "2025-07-23T14:05:01.600252Z",
     "start_time": "2025-07-23T14:05:01.596280Z"
    }
   },
   "id": "e3032aff7dc0df69",
   "outputs": [
    {
     "name": "stdout",
     "output_type": "stream",
     "text": [
      "['neos-3592146-hawea_matrix_-1_4_New_0']\n"
     ]
    },
    {
     "data": {
      "text/plain": [
       "0.0001072041166380789"
      ]
     },
     "execution_count": 42,
     "metadata": {},
     "output_type": "execute_result"
    }
   ],
   "execution_count": 42
  },
  {
   "cell_type": "code",
   "source": [
    "# changed code to ignore this error\n",
    "print(err[\"gurobi: error during callback: addCut\"])\n",
    "len(err[\"gurobi: error during callback: addCut\"]) / count_series"
   ],
   "metadata": {
    "collapsed": false,
    "ExecuteTime": {
     "end_time": "2025-07-23T14:05:01.736896Z",
     "start_time": "2025-07-23T14:05:01.733415Z"
    }
   },
   "id": "46ead0b00886a34b",
   "outputs": [
    {
     "name": "stdout",
     "output_type": "stream",
     "text": [
      "[]\n"
     ]
    },
    {
     "data": {
      "text/plain": [
       "0.0"
      ]
     },
     "execution_count": 43,
     "metadata": {},
     "output_type": "execute_result"
    }
   ],
   "execution_count": 43
  },
  {
   "cell_type": "code",
   "source": [
    "# largely not replicating - only issue I could find was aleks missing updated objective from CLP when resolving to check this\n",
    "print(err[\"cglvpc::setupconstraints: objective at disjunctive term\"])\n",
    "len(err[\"cglvpc::setupconstraints: objective at disjunctive term\"]) / count_series"
   ],
   "metadata": {
    "collapsed": false,
    "ExecuteTime": {
     "end_time": "2025-07-23T14:05:01.878925Z",
     "start_time": "2025-07-23T14:05:01.874875Z"
    }
   },
   "id": "9656878fa4923ac3",
   "outputs": [
    {
     "name": "stdout",
     "output_type": "stream",
     "text": [
      "[]\n"
     ]
    },
    {
     "data": {
      "text/plain": [
       "0.0"
      ]
     },
     "execution_count": 44,
     "metadata": {},
     "output_type": "execute_result"
    }
   ],
   "execution_count": 44
  },
  {
   "cell_type": "code",
   "source": [
    "# not replicating - rerun\n",
    "print(err[\"unable to read file\"])\n",
    "len(err[\"unable to read file\"]) / count_series"
   ],
   "metadata": {
    "collapsed": false,
    "ExecuteTime": {
     "end_time": "2025-07-23T14:05:01.971637Z",
     "start_time": "2025-07-23T14:05:01.969469Z"
    }
   },
   "id": "846d115fdb5ceb92",
   "outputs": [
    {
     "name": "stdout",
     "output_type": "stream",
     "text": [
      "[]\n"
     ]
    },
    {
     "data": {
      "text/plain": [
       "0.0"
      ]
     },
     "execution_count": 45,
     "metadata": {},
     "output_type": "execute_result"
    }
   ],
   "execution_count": 45
  },
  {
   "cell_type": "code",
   "source": [
    "# not replicating - rerun\n",
    "print(err[\"stats.id == stats_vec\"])\n",
    "len(err[\"stats.id == stats_vec\"]) / count_series"
   ],
   "metadata": {
    "collapsed": false,
    "ExecuteTime": {
     "end_time": "2025-07-23T14:05:02.076318Z",
     "start_time": "2025-07-23T14:05:02.074064Z"
    }
   },
   "id": "577cacfb7625a3fb",
   "outputs": [
    {
     "name": "stdout",
     "output_type": "stream",
     "text": [
      "[]\n"
     ]
    },
    {
     "data": {
      "text/plain": [
       "0.0"
      ]
     },
     "execution_count": 46,
     "metadata": {},
     "output_type": "execute_result"
    }
   ],
   "execution_count": 46
  },
  {
   "cell_type": "code",
   "source": [
    "print(err[\"size of our disjunction is not what we expected it to be\"])\n",
    "len(err[\"size of our disjunction is not what we expected it to be\"]) / count_series"
   ],
   "metadata": {
    "collapsed": false,
    "ExecuteTime": {
     "end_time": "2025-07-23T14:05:02.284359Z",
     "start_time": "2025-07-23T14:05:02.281384Z"
    }
   },
   "id": "9dbd086695fd1686",
   "outputs": [
    {
     "name": "stdout",
     "output_type": "stream",
     "text": [
      "[]\n"
     ]
    },
    {
     "data": {
      "text/plain": [
       "0.0"
      ]
     },
     "execution_count": 47,
     "metadata": {},
     "output_type": "execute_result"
    }
   ],
   "execution_count": 47
  },
  {
   "metadata": {
    "ExecuteTime": {
     "end_time": "2025-07-23T14:05:02.433121Z",
     "start_time": "2025-07-23T14:05:02.429839Z"
    }
   },
   "cell_type": "code",
   "source": [
    "print(err[\"vpcgenerator must be\"])\n",
    "len(err[\"vpcgenerator must be\"]) / count_series"
   ],
   "id": "9fee6bee7c0294d6",
   "outputs": [
    {
     "name": "stdout",
     "output_type": "stream",
     "text": [
      "[]\n"
     ]
    },
    {
     "data": {
      "text/plain": [
       "0.0"
      ]
     },
     "execution_count": 48,
     "metadata": {},
     "output_type": "execute_result"
    }
   ],
   "execution_count": 48
  },
  {
   "metadata": {
    "ExecuteTime": {
     "end_time": "2025-07-23T14:05:02.545019Z",
     "start_time": "2025-07-23T14:05:02.542884Z"
    }
   },
   "cell_type": "code",
   "source": [
    "print(err[\"dimension must stay fixed\"])\n",
    "len(err[\"dimension must stay fixed\"]) / count_series"
   ],
   "id": "f1cac35742f4bf41",
   "outputs": [
    {
     "name": "stdout",
     "output_type": "stream",
     "text": [
      "[]\n"
     ]
    },
    {
     "data": {
      "text/plain": [
       "0.0"
      ]
     },
     "execution_count": 49,
     "metadata": {},
     "output_type": "execute_result"
    }
   ],
   "execution_count": 49
  },
  {
   "metadata": {
    "ExecuteTime": {
     "end_time": "2025-07-23T14:05:02.679066Z",
     "start_time": "2025-07-23T14:05:02.676843Z"
    }
   },
   "cell_type": "code",
   "source": [
    "print(err[\"objective values must match\"])\n",
    "len(err[\"objective values must match\"]) / count_series"
   ],
   "id": "113250662f6b2ae6",
   "outputs": [
    {
     "name": "stdout",
     "output_type": "stream",
     "text": [
      "['f2gap801600_objective_-1_64_New_0', 'neos-3610173-itata_matrix_-1_4_New_0', 'neos-3610051-istra_matrix_-1_64_New_0', 'f2gap401600_objective_1_64_New_0', 'traininstance6_objective_-1_4_New_0', 'traininstance6_objective_-1_64_New_0', 'mas74_matrix_1_4_New_0', 'mas74_matrix_1_64_New_0', 'mas74_matrix_-1_64_New_0', 'rentacar_objective_-1_4_New_0', 'neos-3421095-cinca_objective_1_64_New_0', 'irp_objective_-1_4_New_0', 'aligninq_matrix_1_4_New_0', 'neos-631517_matrix_-1_64_New_0', 'neos-3610040-iskar_matrix_-1_64_New_0', 'neos-3627168-kasai_matrix_-1_64_New_0', 'pg_rhs_1_64_New_0', 'neos-3611689-kaihu_matrix_-1_64_New_0', 'neos-3611689-kaihu_objective_-1_64_New_0', 'mas76_matrix_1_64_New_0', 'mas76_matrix_-1_64_New_0', 'neos-3754480-nidda_objective_1_4_New_0', 'neos-3754480-nidda_objective_1_64_New_0', 'neos-3754480-nidda_rhs_-1_4_New_0', 'neos-3754480-nidda_rhs_-1_64_New_0', 'neos-3754480-nidda_objective_-1_64_New_0', 'control30-3-2-3_matrix_-1_64_New_0', 'control30-3-2-3_objective_-1_64_New_0', 'neos-4333596-skien_objective_-1_64_New_0', '23588_matrix_1_64_New_0', 'glass4_rhs_1_4_New_0', 'glass4_objective_1_4_New_0', 'glass4_rhs_-1_4_New_0', 'glass4_matrix_-1_4_New_0', 'glass4_objective_-1_4_New_0']\n"
     ]
    },
    {
     "data": {
      "text/plain": [
       "0.0037521440823327615"
      ]
     },
     "execution_count": 50,
     "metadata": {},
     "output_type": "execute_result"
    }
   ],
   "execution_count": 50
  },
  {
   "metadata": {
    "ExecuteTime": {
     "end_time": "2025-07-23T14:05:02.816912Z",
     "start_time": "2025-07-23T14:05:02.813316Z"
    }
   },
   "cell_type": "code",
   "source": [
    "print(err[\"objective at disjunctive term\"])\n",
    "len(err[\"objective at disjunctive term\"]) / count_series"
   ],
   "id": "fea6ea8755c72dd9",
   "outputs": [
    {
     "name": "stdout",
     "output_type": "stream",
     "text": [
      "['neos-631517_matrix_1_4_New_0', 'neos-631517_matrix_1_64_New_0', 'gus-sch_matrix_1_4_New_0', 'gus-sch_matrix_1_64_New_0', 'neos-5182409-nasivi_matrix_-1_4_New_0', 'neos-5182409-nasivi_matrix_-1_64_New_0', 'roll3000_matrix_-1_4_New_0', 'roll3000_matrix_-1_64_New_0', 'control30-3-2-3_matrix_-1_4_New_0']\n"
     ]
    },
    {
     "data": {
      "text/plain": [
       "0.0009648370497427101"
      ]
     },
     "execution_count": 51,
     "metadata": {},
     "output_type": "execute_result"
    }
   ],
   "execution_count": 51
  },
  {
   "cell_type": "code",
   "source": [
    "# get breakdown of errors\n",
    "for code, exps in err.items():\n",
    "    print(f\"{code}: {len(exps) / count_series}\")\n",
    "\n",
    "print(f\"other: {len(other) / count_series}\")\n",
    "\n",
    "print(f\"warning: {len(warning) / count_series}\")\n",
    "\n",
    "print(f\"no errors/warnings: {len(empty) / count_series}\")\n",
    "\n",
    "print(f\"no go: {len(no_go) / count_series}\")"
   ],
   "metadata": {
    "collapsed": false,
    "ExecuteTime": {
     "end_time": "2025-07-23T14:05:02.916802Z",
     "start_time": "2025-07-23T14:05:02.914737Z"
    }
   },
   "id": "b10b8b1c2fe3ea2c",
   "outputs": [
    {
     "name": "stdout",
     "output_type": "stream",
     "text": [
      "walltime: 0.0009648370497427101\n",
      "bad_alloc: 0.021655231560891938\n",
      "out of memory: 0.0011792452830188679\n",
      "vmem: 0.0027873070325900515\n",
      "takeoffcuts: 0.0\n",
      "solver is dual infeasible: 0.0\n",
      "solver must be optimal: 0.0\n",
      "segmentation fault: 0.0001072041166380789\n",
      "no vpcs were made from a new disjunction: 0.2928816466552316\n",
      "must have primalbound >= root lp objective: 0.0002144082332761578\n",
      "objective at parent nodes: 0.0\n",
      "failed to optimize mip: 0.0\n",
      "disjunction does not represent a full binary tree: 0.0\n",
      "solver not proven optimal for nodes: 0.0\n",
      "unable to open: 0.0\n",
      "license: 0.0\n",
      "dot product with obj differs from solver: 0.0001072041166380789\n",
      "gurobi: error during callback: addCut: 0.0\n",
      "cglvpc::setupconstraints: objective at disjunctive term: 0.0\n",
      "unable to read file: 0.0\n",
      "stats.id == stats_vec: 0.0\n",
      "size of our disjunction is not what we expected it to be: 0.0\n",
      "dimension must stay fixed: 0.0\n",
      "vpcgenerator must be: 0.0\n",
      "objective values must match: 0.0037521440823327615\n",
      "objective at disjunctive term: 0.0009648370497427101\n",
      "other: 0.00032161234991423673\n",
      "warning: 0.056067753001715265\n",
      "no errors/warnings: 0.6189965694682675\n",
      "no go: 0.0\n"
     ]
    }
   ],
   "execution_count": 52
  },
  {
   "cell_type": "markdown",
   "source": [
    "## Read in data"
   ],
   "metadata": {
    "collapsed": false,
    "ExecuteTime": {
     "end_time": "2024-04-02T21:45:22.220691Z",
     "start_time": "2024-04-02T21:45:22.181888Z"
    }
   },
   "id": "1b96d76b8971a661"
  },
  {
   "cell_type": "code",
   "source": [
    "# map generator names to the corresponding data frames\n",
    "df_map = {g: pd.DataFrame() for g in generators} \n",
    "gap_map = {g: pd.DataFrame() for g in generators}\n",
    "regex = re.compile(r'([a-zA-Z0-9-]+(?:_o)?)_([a-z]+)_([0-9-]+)_([0-9]+)_([a-zA-Z ]+)')\n",
    "solution_pattern = r\"_(\\d+)\\.pb\"\n",
    "\n",
    "# declaring types as needed\n",
    "column_types = {\n",
    "    \"lpBound\": float,\n",
    "    \"lpBoundPostVpc\": float,\n",
    "    \"disjunctiveDualBound\": float,\n",
    "    \"primalBound\": float,\n",
    "    \"rootDualBound\": float,\n",
    "    \"dualBound\": float\n",
    "}\n",
    "\n",
    "skipped_instances = set()\n",
    "primal_bounds = {}\n",
    "same_solution = {}\n",
    "\n",
    "# iterate over all files in the folder\n",
    "for file_name in os.listdir(results_fldr):\n",
    "    \n",
    "    file_pth = os.path.join(results_fldr, file_name)\n",
    "    \n",
    "    # if the file is not a nonempty csv, skip it\n",
    "    if not file_name.endswith(\".csv\") or os.path.getsize(file_pth) == 0:\n",
    "        continue\n",
    "    \n",
    "    # get the experimental set up\n",
    "    match = regex.search(file_name)\n",
    "    instance_name = names.get(file_name[:-4])\n",
    "    if not instance_name:\n",
    "        skipped_instances.add(file_name[:-4].split(\"_\")[0])\n",
    "        os.remove(file_pth)\n",
    "        continue\n",
    "    # instance_name = match.group(1)\n",
    "    perturbation = match.group(2)\n",
    "    assert perturbation in [\"matrix\", \"rhs\", \"bound\", \"objective\"], f\"Unknown perturbation: {perturbation}\"\n",
    "    expo = int(match.group(3))\n",
    "    assert expo in degrees, f\"Unknown degree: {expo}\"\n",
    "    degree = 2**int(expo)\n",
    "    terms = int(match.group(4))\n",
    "    assert terms in term_list, f\"Unknown number of terms: {terms}\"\n",
    "    generator = match.group(5)\n",
    "    assert generator in generators, f\"Unknown generator: {generator}\"\n",
    "    base_name = f\"{instance_name}_0\"\n",
    "    \n",
    "    # get the primal bounds for this experiment\n",
    "    cur_instance_test_set_fldr = os.path.join(test_set_fldr, instance_name, f\"{perturbation}_{expo}\")\n",
    "    for test_set_file in os.listdir(cur_instance_test_set_fldr):\n",
    "        if test_set_file.endswith(\".pb\"):\n",
    "            with open(os.path.join(cur_instance_test_set_fldr, test_set_file), \"r\") as f:\n",
    "                primal_bounds[perturbation, expo, \".\".join(test_set_file.split(\".\")[:-1])] = float(f.read())\n",
    "                \n",
    "    # see if solution changed\n",
    "    for test_set_file in os.listdir(cur_instance_test_set_fldr):\n",
    "        if test_set_file.endswith(\".pb\"):\n",
    "            perturbation_name = \".\".join(test_set_file.split(\".\")[:-1])\n",
    "            same_solution[perturbation, expo, perturbation_name] = \\\n",
    "                primal_bounds[perturbation, expo, base_name] == primal_bounds[perturbation, expo, perturbation_name]\n",
    "            \n",
    "    # read the file\n",
    "    df = pd.read_csv(file_pth, keep_default_na=False, dtype=column_types, index_col=0)\n",
    "    \n",
    "    for instance_idx in df.index:\n",
    "        \n",
    "        # fill in primal bounds if missing\n",
    "        # df.loc[instance_idx, \"primalBound\"] = min(primal_bounds.get(stem_map.get(instance_idx), 1e100), df.loc[instance_idx, \"primalBound\"])\n",
    "        df.loc[instance_idx, \"primalBound\"] = min(\n",
    "            primal_bounds[perturbation, expo, f\"{instance_name}_{instance_idx}\"], df.loc[instance_idx, \"primalBound\"]\n",
    "        )\n",
    "        \n",
    "        # same with root dual bound\n",
    "        df.loc[instance_idx, \"rootDualBound\"] = df.loc[instance_idx, \"rootDualBound\"] if df.loc[instance_idx, \"rootDualBound\"] < 1e100 else df.loc[instance_idx, \"lpBoundPostVpc\"] \n",
    "    \n",
    "    # get rid of the index so the rest of the notebook works\n",
    "    df.reset_index(inplace=True)\n",
    "    \n",
    "    # add some identifying columns\n",
    "    df[\"instance\"] = instance_name\n",
    "    df[\"perturbation\"] = perturbation\n",
    "    df[\"degree\"] = degree\n",
    "    df[\"terms\"] = terms\n",
    "    df[\"rows\"] = rows[instance_name]\n",
    "    df[\"cols\"] = cols[instance_name]\n",
    "    df[\"density\"] = density[instance_name]\n",
    "    \n",
    "    # append to the appropriate data frame\n",
    "    df_map[generator] = pd.concat([df_map[generator], df])\n",
    "    \n",
    "    # track recorded vs expected experiments\n",
    "    number_instances[file_name[:-4]][\"recorded\"] = len(df)"
   ],
   "metadata": {
    "collapsed": false,
    "ExecuteTime": {
     "end_time": "2025-07-23T14:05:21.224010Z",
     "start_time": "2025-07-23T14:05:02.972425Z"
    }
   },
   "id": "cd620191b5a5849a",
   "outputs": [],
   "execution_count": 53
  },
  {
   "cell_type": "code",
   "source": [
    "# convert number_instances to dataframe\n",
    "frame = pd.DataFrame(number_instances).T\n",
    "frame.head()"
   ],
   "metadata": {
    "collapsed": false,
    "ExecuteTime": {
     "end_time": "2025-07-23T14:05:21.344265Z",
     "start_time": "2025-07-23T14:05:21.265059Z"
    }
   },
   "id": "e87e9581360c0bd9",
   "outputs": [
    {
     "data": {
      "text/plain": [
       "                                expected recorded      generator    error\n",
       "bienst2_rhs_1_4_None_0                 6        6           None    empty\n",
       "bienst2_rhs_1_4_New_0                  6        6            New  warning\n",
       "bienst2_rhs_1_4_Farkas_0               6        6         Farkas  warning\n",
       "bienst2_rhs_1_4_NoDisjunction_0        6        6  NoDisjunction    empty\n",
       "bienst2_rhs_1_64_None_0                6        6           None    empty"
      ],
      "text/html": [
       "<div>\n",
       "<style scoped>\n",
       "    .dataframe tbody tr th:only-of-type {\n",
       "        vertical-align: middle;\n",
       "    }\n",
       "\n",
       "    .dataframe tbody tr th {\n",
       "        vertical-align: top;\n",
       "    }\n",
       "\n",
       "    .dataframe thead th {\n",
       "        text-align: right;\n",
       "    }\n",
       "</style>\n",
       "<table border=\"1\" class=\"dataframe\">\n",
       "  <thead>\n",
       "    <tr style=\"text-align: right;\">\n",
       "      <th></th>\n",
       "      <th>expected</th>\n",
       "      <th>recorded</th>\n",
       "      <th>generator</th>\n",
       "      <th>error</th>\n",
       "    </tr>\n",
       "  </thead>\n",
       "  <tbody>\n",
       "    <tr>\n",
       "      <th>bienst2_rhs_1_4_None_0</th>\n",
       "      <td>6</td>\n",
       "      <td>6</td>\n",
       "      <td>None</td>\n",
       "      <td>empty</td>\n",
       "    </tr>\n",
       "    <tr>\n",
       "      <th>bienst2_rhs_1_4_New_0</th>\n",
       "      <td>6</td>\n",
       "      <td>6</td>\n",
       "      <td>New</td>\n",
       "      <td>warning</td>\n",
       "    </tr>\n",
       "    <tr>\n",
       "      <th>bienst2_rhs_1_4_Farkas_0</th>\n",
       "      <td>6</td>\n",
       "      <td>6</td>\n",
       "      <td>Farkas</td>\n",
       "      <td>warning</td>\n",
       "    </tr>\n",
       "    <tr>\n",
       "      <th>bienst2_rhs_1_4_NoDisjunction_0</th>\n",
       "      <td>6</td>\n",
       "      <td>6</td>\n",
       "      <td>NoDisjunction</td>\n",
       "      <td>empty</td>\n",
       "    </tr>\n",
       "    <tr>\n",
       "      <th>bienst2_rhs_1_64_None_0</th>\n",
       "      <td>6</td>\n",
       "      <td>6</td>\n",
       "      <td>None</td>\n",
       "      <td>empty</td>\n",
       "    </tr>\n",
       "  </tbody>\n",
       "</table>\n",
       "</div>"
      ]
     },
     "execution_count": 54,
     "metadata": {},
     "output_type": "execute_result"
    }
   ],
   "execution_count": 54
  },
  {
   "cell_type": "code",
   "source": [
    "# redo the runs that have incomplete data that we're not sure should be that way\n",
    "redos = frame.loc[(frame[\"expected\"] > frame[\"recorded\"]) & (frame[\"error\"] != \"no vpcs were made from a new disjunction\")].index.tolist()\n",
    "redos = pd.DataFrame({\"experiment\": redos})\n",
    "redos.to_csv(\"redos.csv\", index=False)"
   ],
   "metadata": {
    "collapsed": false,
    "ExecuteTime": {
     "end_time": "2025-07-23T14:05:21.417521Z",
     "start_time": "2025-07-23T14:05:21.411327Z"
    }
   },
   "id": "98cfdc27dd6a1772",
   "outputs": [],
   "execution_count": 55
  },
  {
   "cell_type": "code",
   "source": [
    "if \"miplib\" in test_set or \"quick\" in test_set:\n",
    "    # group frame by generator and sum remaining columns\n",
    "    gb = frame.groupby([\"generator\", \"error\"]).sum().reset_index()\n",
    "    gb[\"missing\"] = gb[\"expected\"] - gb[\"recorded\"]\n",
    "    total = gb.groupby(\"generator\")[[\"expected\", \"missing\"]].sum().reset_index()\n",
    "    gb = pd.merge(gb, total, on=\"generator\", suffixes=(\"\", \" total\"))\n",
    "    gb[\"ratio missing (by generator)\"] = gb[\"missing\"] / gb[\"missing total\"]\n",
    "    gb[\"ratio missing (by generator)\"] = gb[\"ratio missing (by generator)\"].apply(lambda x: round(x, 4))\n",
    "    gb = gb.loc[:, ~gb.columns.str.contains(\"total\")]  # get rid of the total columns\n",
    "    gb.set_index([\"generator\", \"error\"], inplace=True)\n",
    "    gb.to_csv(os.path.join(out_fldr, \"missing_table.csv\"), index=False, mode=\"w\")\n",
    "else:\n",
    "    gb = None\n",
    "gb"
   ],
   "metadata": {
    "collapsed": false,
    "ExecuteTime": {
     "end_time": "2025-07-23T14:05:21.495441Z",
     "start_time": "2025-07-23T14:05:21.476938Z"
    }
   },
   "id": "3abe705ab17fdd17",
   "outputs": [
    {
     "data": {
      "text/plain": [
       "                                                         expected recorded  \\\n",
       "generator     error                                                          \n",
       "Farkas        bad_alloc                                       284       95   \n",
       "              empty                                          6419     6419   \n",
       "              no vpcs were made from a new disjunction       4597        0   \n",
       "              out of memory                                     5        4   \n",
       "              vmem                                             63       21   \n",
       "              walltime                                         10        0   \n",
       "              warning                                         720      720   \n",
       "New           bad_alloc                                       788      335   \n",
       "              dot product with obj differs from solver          4        2   \n",
       "              empty                                          4978     4870   \n",
       "              no vpcs were made from a new disjunction       4586        0   \n",
       "              objective at disjunctive term                    41       19   \n",
       "              objective values must match                     203      133   \n",
       "              other                                            18       14   \n",
       "              out of memory                                    39       22   \n",
       "              segmentation fault                                5        0   \n",
       "              vmem                                             46       11   \n",
       "              walltime                                         19        0   \n",
       "              warning                                        1371     1199   \n",
       "NoDisjunction bad_alloc                                       258       75   \n",
       "              empty                                          6397     6397   \n",
       "              no vpcs were made from a new disjunction       4638        0   \n",
       "              out of memory                                     5        4   \n",
       "              vmem                                             44       10   \n",
       "              walltime                                          4        0   \n",
       "              warning                                         752      752   \n",
       "None          empty                                         12053    12038   \n",
       "              must have primalbound >= root lp objective       12        8   \n",
       "              out of memory                                    10        4   \n",
       "              vmem                                             23        8   \n",
       "\n",
       "                                                         missing  \\\n",
       "generator     error                                                \n",
       "Farkas        bad_alloc                                      189   \n",
       "              empty                                            0   \n",
       "              no vpcs were made from a new disjunction      4597   \n",
       "              out of memory                                    1   \n",
       "              vmem                                            42   \n",
       "              walltime                                        10   \n",
       "              warning                                          0   \n",
       "New           bad_alloc                                      453   \n",
       "              dot product with obj differs from solver         2   \n",
       "              empty                                          108   \n",
       "              no vpcs were made from a new disjunction      4586   \n",
       "              objective at disjunctive term                   22   \n",
       "              objective values must match                     70   \n",
       "              other                                            4   \n",
       "              out of memory                                   17   \n",
       "              segmentation fault                               5   \n",
       "              vmem                                            35   \n",
       "              walltime                                        19   \n",
       "              warning                                        172   \n",
       "NoDisjunction bad_alloc                                      183   \n",
       "              empty                                            0   \n",
       "              no vpcs were made from a new disjunction      4638   \n",
       "              out of memory                                    1   \n",
       "              vmem                                            34   \n",
       "              walltime                                         4   \n",
       "              warning                                          0   \n",
       "None          empty                                           15   \n",
       "              must have primalbound >= root lp objective       4   \n",
       "              out of memory                                    6   \n",
       "              vmem                                            15   \n",
       "\n",
       "                                                          ratio missing (by generator)  \n",
       "generator     error                                                                     \n",
       "Farkas        bad_alloc                                                         0.0391  \n",
       "              empty                                                             0.0000  \n",
       "              no vpcs were made from a new disjunction                          0.9500  \n",
       "              out of memory                                                     0.0002  \n",
       "              vmem                                                              0.0087  \n",
       "              walltime                                                          0.0021  \n",
       "              warning                                                           0.0000  \n",
       "New           bad_alloc                                                         0.0825  \n",
       "              dot product with obj differs from solver                          0.0004  \n",
       "              empty                                                             0.0197  \n",
       "              no vpcs were made from a new disjunction                          0.8349  \n",
       "              objective at disjunctive term                                     0.0040  \n",
       "              objective values must match                                       0.0127  \n",
       "              other                                                             0.0007  \n",
       "              out of memory                                                     0.0031  \n",
       "              segmentation fault                                                0.0009  \n",
       "              vmem                                                              0.0064  \n",
       "              walltime                                                          0.0035  \n",
       "              warning                                                           0.0313  \n",
       "NoDisjunction bad_alloc                                                         0.0377  \n",
       "              empty                                                             0.0000  \n",
       "              no vpcs were made from a new disjunction                          0.9543  \n",
       "              out of memory                                                     0.0002  \n",
       "              vmem                                                              0.0070  \n",
       "              walltime                                                          0.0008  \n",
       "              warning                                                           0.0000  \n",
       "None          empty                                                             0.3750  \n",
       "              must have primalbound >= root lp objective                        0.1000  \n",
       "              out of memory                                                     0.1500  \n",
       "              vmem                                                              0.3750  "
      ],
      "text/html": [
       "<div>\n",
       "<style scoped>\n",
       "    .dataframe tbody tr th:only-of-type {\n",
       "        vertical-align: middle;\n",
       "    }\n",
       "\n",
       "    .dataframe tbody tr th {\n",
       "        vertical-align: top;\n",
       "    }\n",
       "\n",
       "    .dataframe thead th {\n",
       "        text-align: right;\n",
       "    }\n",
       "</style>\n",
       "<table border=\"1\" class=\"dataframe\">\n",
       "  <thead>\n",
       "    <tr style=\"text-align: right;\">\n",
       "      <th></th>\n",
       "      <th></th>\n",
       "      <th>expected</th>\n",
       "      <th>recorded</th>\n",
       "      <th>missing</th>\n",
       "      <th>ratio missing (by generator)</th>\n",
       "    </tr>\n",
       "    <tr>\n",
       "      <th>generator</th>\n",
       "      <th>error</th>\n",
       "      <th></th>\n",
       "      <th></th>\n",
       "      <th></th>\n",
       "      <th></th>\n",
       "    </tr>\n",
       "  </thead>\n",
       "  <tbody>\n",
       "    <tr>\n",
       "      <th rowspan=\"7\" valign=\"top\">Farkas</th>\n",
       "      <th>bad_alloc</th>\n",
       "      <td>284</td>\n",
       "      <td>95</td>\n",
       "      <td>189</td>\n",
       "      <td>0.0391</td>\n",
       "    </tr>\n",
       "    <tr>\n",
       "      <th>empty</th>\n",
       "      <td>6419</td>\n",
       "      <td>6419</td>\n",
       "      <td>0</td>\n",
       "      <td>0.0000</td>\n",
       "    </tr>\n",
       "    <tr>\n",
       "      <th>no vpcs were made from a new disjunction</th>\n",
       "      <td>4597</td>\n",
       "      <td>0</td>\n",
       "      <td>4597</td>\n",
       "      <td>0.9500</td>\n",
       "    </tr>\n",
       "    <tr>\n",
       "      <th>out of memory</th>\n",
       "      <td>5</td>\n",
       "      <td>4</td>\n",
       "      <td>1</td>\n",
       "      <td>0.0002</td>\n",
       "    </tr>\n",
       "    <tr>\n",
       "      <th>vmem</th>\n",
       "      <td>63</td>\n",
       "      <td>21</td>\n",
       "      <td>42</td>\n",
       "      <td>0.0087</td>\n",
       "    </tr>\n",
       "    <tr>\n",
       "      <th>walltime</th>\n",
       "      <td>10</td>\n",
       "      <td>0</td>\n",
       "      <td>10</td>\n",
       "      <td>0.0021</td>\n",
       "    </tr>\n",
       "    <tr>\n",
       "      <th>warning</th>\n",
       "      <td>720</td>\n",
       "      <td>720</td>\n",
       "      <td>0</td>\n",
       "      <td>0.0000</td>\n",
       "    </tr>\n",
       "    <tr>\n",
       "      <th rowspan=\"12\" valign=\"top\">New</th>\n",
       "      <th>bad_alloc</th>\n",
       "      <td>788</td>\n",
       "      <td>335</td>\n",
       "      <td>453</td>\n",
       "      <td>0.0825</td>\n",
       "    </tr>\n",
       "    <tr>\n",
       "      <th>dot product with obj differs from solver</th>\n",
       "      <td>4</td>\n",
       "      <td>2</td>\n",
       "      <td>2</td>\n",
       "      <td>0.0004</td>\n",
       "    </tr>\n",
       "    <tr>\n",
       "      <th>empty</th>\n",
       "      <td>4978</td>\n",
       "      <td>4870</td>\n",
       "      <td>108</td>\n",
       "      <td>0.0197</td>\n",
       "    </tr>\n",
       "    <tr>\n",
       "      <th>no vpcs were made from a new disjunction</th>\n",
       "      <td>4586</td>\n",
       "      <td>0</td>\n",
       "      <td>4586</td>\n",
       "      <td>0.8349</td>\n",
       "    </tr>\n",
       "    <tr>\n",
       "      <th>objective at disjunctive term</th>\n",
       "      <td>41</td>\n",
       "      <td>19</td>\n",
       "      <td>22</td>\n",
       "      <td>0.0040</td>\n",
       "    </tr>\n",
       "    <tr>\n",
       "      <th>objective values must match</th>\n",
       "      <td>203</td>\n",
       "      <td>133</td>\n",
       "      <td>70</td>\n",
       "      <td>0.0127</td>\n",
       "    </tr>\n",
       "    <tr>\n",
       "      <th>other</th>\n",
       "      <td>18</td>\n",
       "      <td>14</td>\n",
       "      <td>4</td>\n",
       "      <td>0.0007</td>\n",
       "    </tr>\n",
       "    <tr>\n",
       "      <th>out of memory</th>\n",
       "      <td>39</td>\n",
       "      <td>22</td>\n",
       "      <td>17</td>\n",
       "      <td>0.0031</td>\n",
       "    </tr>\n",
       "    <tr>\n",
       "      <th>segmentation fault</th>\n",
       "      <td>5</td>\n",
       "      <td>0</td>\n",
       "      <td>5</td>\n",
       "      <td>0.0009</td>\n",
       "    </tr>\n",
       "    <tr>\n",
       "      <th>vmem</th>\n",
       "      <td>46</td>\n",
       "      <td>11</td>\n",
       "      <td>35</td>\n",
       "      <td>0.0064</td>\n",
       "    </tr>\n",
       "    <tr>\n",
       "      <th>walltime</th>\n",
       "      <td>19</td>\n",
       "      <td>0</td>\n",
       "      <td>19</td>\n",
       "      <td>0.0035</td>\n",
       "    </tr>\n",
       "    <tr>\n",
       "      <th>warning</th>\n",
       "      <td>1371</td>\n",
       "      <td>1199</td>\n",
       "      <td>172</td>\n",
       "      <td>0.0313</td>\n",
       "    </tr>\n",
       "    <tr>\n",
       "      <th rowspan=\"7\" valign=\"top\">NoDisjunction</th>\n",
       "      <th>bad_alloc</th>\n",
       "      <td>258</td>\n",
       "      <td>75</td>\n",
       "      <td>183</td>\n",
       "      <td>0.0377</td>\n",
       "    </tr>\n",
       "    <tr>\n",
       "      <th>empty</th>\n",
       "      <td>6397</td>\n",
       "      <td>6397</td>\n",
       "      <td>0</td>\n",
       "      <td>0.0000</td>\n",
       "    </tr>\n",
       "    <tr>\n",
       "      <th>no vpcs were made from a new disjunction</th>\n",
       "      <td>4638</td>\n",
       "      <td>0</td>\n",
       "      <td>4638</td>\n",
       "      <td>0.9543</td>\n",
       "    </tr>\n",
       "    <tr>\n",
       "      <th>out of memory</th>\n",
       "      <td>5</td>\n",
       "      <td>4</td>\n",
       "      <td>1</td>\n",
       "      <td>0.0002</td>\n",
       "    </tr>\n",
       "    <tr>\n",
       "      <th>vmem</th>\n",
       "      <td>44</td>\n",
       "      <td>10</td>\n",
       "      <td>34</td>\n",
       "      <td>0.0070</td>\n",
       "    </tr>\n",
       "    <tr>\n",
       "      <th>walltime</th>\n",
       "      <td>4</td>\n",
       "      <td>0</td>\n",
       "      <td>4</td>\n",
       "      <td>0.0008</td>\n",
       "    </tr>\n",
       "    <tr>\n",
       "      <th>warning</th>\n",
       "      <td>752</td>\n",
       "      <td>752</td>\n",
       "      <td>0</td>\n",
       "      <td>0.0000</td>\n",
       "    </tr>\n",
       "    <tr>\n",
       "      <th rowspan=\"4\" valign=\"top\">None</th>\n",
       "      <th>empty</th>\n",
       "      <td>12053</td>\n",
       "      <td>12038</td>\n",
       "      <td>15</td>\n",
       "      <td>0.3750</td>\n",
       "    </tr>\n",
       "    <tr>\n",
       "      <th>must have primalbound &gt;= root lp objective</th>\n",
       "      <td>12</td>\n",
       "      <td>8</td>\n",
       "      <td>4</td>\n",
       "      <td>0.1000</td>\n",
       "    </tr>\n",
       "    <tr>\n",
       "      <th>out of memory</th>\n",
       "      <td>10</td>\n",
       "      <td>4</td>\n",
       "      <td>6</td>\n",
       "      <td>0.1500</td>\n",
       "    </tr>\n",
       "    <tr>\n",
       "      <th>vmem</th>\n",
       "      <td>23</td>\n",
       "      <td>8</td>\n",
       "      <td>15</td>\n",
       "      <td>0.3750</td>\n",
       "    </tr>\n",
       "  </tbody>\n",
       "</table>\n",
       "</div>"
      ]
     },
     "execution_count": 56,
     "metadata": {},
     "output_type": "execute_result"
    }
   ],
   "execution_count": 56
  },
  {
   "cell_type": "code",
   "source": [
    "for gen in generators:\n",
    "    print(gen)\n",
    "    masks = {\n",
    "        0: -1e20 > df_map[gen][\"lpBound\"],\n",
    "        1: df_map[gen][\"lpBound\"] - 1e-3 > df_map[gen][\"lpBoundPostVpc\"],\n",
    "        2: (df_map[gen][\"lpBoundPostVpc\"] - 1e-3 > df_map[gen][\"disjunctiveDualBound\"]) & ((gen == \"None\") | (gen == \"New\")),\n",
    "        3: df_map[gen][\"rootDualBound\"] - 1e-3 > df_map[gen][\"dualBound\"],\n",
    "        4: (df_map[gen][\"dualBound\"] - 1e-3 > df_map[gen][\"primalBound\"]) & (df_map[gen][\"dualBound\"] / df_map[gen][\"primalBound\"] > 1 + 1e-3),\n",
    "        5: df_map[gen][\"primalBound\"] > 1e20,\n",
    "        6: 0 > df_map[gen][\"vpcGenerationTime\"],\n",
    "        7: df_map[gen][\"vpcGenerationTime\"] - 1e-3 > df_map[gen][\"rootDualBoundTime\"],\n",
    "        8: df_map[gen][\"rootDualBoundTime\"] - 1e-3 > df_map[gen][\"terminationTime\"],\n",
    "        9: df_map[gen][\"vpcGenerationTime\"] - 1e-3 > df_map[gen][\"bestSolutionTime\"],\n",
    "        10: df_map[gen][\"bestSolutionTime\"] - 1e-3 > df_map[gen][\"terminationTime\"]\n",
    "    }\n",
    "    for i, mask in masks.items():\n",
    "        print(f\"{gen} {i}: {mask.sum() / len(df_map[gen])}\")"
   ],
   "metadata": {
    "collapsed": false,
    "ExecuteTime": {
     "end_time": "2025-07-23T14:05:21.642636Z",
     "start_time": "2025-07-23T14:05:21.633392Z"
    }
   },
   "id": "1707d3125161409b",
   "outputs": [
    {
     "name": "stdout",
     "output_type": "stream",
     "text": [
      "None\n",
      "None 0: 0.0\n",
      "None 1: 0.0\n",
      "None 2: 0.0\n",
      "None 3: 0.0\n",
      "None 4: 0.0006634599436059048\n",
      "None 5: 0.0\n",
      "None 6: 0.0\n",
      "None 7: 0.0\n",
      "None 8: 0.0\n",
      "None 9: 0.0\n",
      "None 10: 0.0\n",
      "New\n",
      "New 0: 0.0\n",
      "New 1: 0.0\n",
      "New 2: 0.0\n",
      "New 3: 0.0\n",
      "New 4: 0.0009084027252081756\n",
      "New 5: 0.0\n",
      "New 6: 0.0\n",
      "New 7: 0.0\n",
      "New 8: 0.0\n",
      "New 9: 0.0\n",
      "New 10: 0.0\n",
      "Farkas\n",
      "Farkas 0: 0.0\n",
      "Farkas 1: 0.0\n",
      "Farkas 2: 0.0\n",
      "Farkas 3: 0.0\n",
      "Farkas 4: 0.0008265601322496211\n",
      "Farkas 5: 0.0\n",
      "Farkas 6: 0.0\n",
      "Farkas 7: 0.0\n",
      "Farkas 8: 0.0\n",
      "Farkas 9: 0.0\n",
      "Farkas 10: 0.0\n",
      "NoDisjunction\n",
      "NoDisjunction 0: 0.0\n",
      "NoDisjunction 1: 0.0\n",
      "NoDisjunction 2: 0.0\n",
      "NoDisjunction 3: 0.0\n",
      "NoDisjunction 4: 0.0009671179883945841\n",
      "NoDisjunction 5: 0.0\n",
      "NoDisjunction 6: 0.0\n",
      "NoDisjunction 7: 0.0\n",
      "NoDisjunction 8: 0.0\n",
      "NoDisjunction 9: 0.0\n",
      "NoDisjunction 10: 0.0\n"
     ]
    }
   ],
   "execution_count": 57
  },
  {
   "metadata": {
    "ExecuteTime": {
     "end_time": "2025-07-23T14:05:21.804070Z",
     "start_time": "2025-07-23T14:05:21.801967Z"
    }
   },
   "cell_type": "code",
   "source": [
    "for gen, df in df_map.items():\n",
    "    print(f\"{gen}: {df.size}\")"
   ],
   "id": "6c043590a262730d",
   "outputs": [
    {
     "name": "stdout",
     "output_type": "stream",
     "text": [
      "None: 458204\n",
      "New: 250990\n",
      "Farkas: 275842\n",
      "NoDisjunction: 275044\n"
     ]
    }
   ],
   "execution_count": 58
  },
  {
   "cell_type": "code",
   "source": [
    "# it shouldn't be possible that dual bound > primal bound. this only happens when we use the saved primal bound, which was used to set the dual bound\n",
    "df_map[\"Farkas\"][masks[0]]"
   ],
   "metadata": {
    "collapsed": false,
    "ExecuteTime": {
     "end_time": "2025-07-23T14:05:29.180403Z",
     "start_time": "2025-07-23T14:05:22.015890Z"
    }
   },
   "id": "4103872f43233ad8",
   "outputs": [
    {
     "name": "stderr",
     "output_type": "stream",
     "text": [
      "/var/folders/pb/p1sshdnx5sv12zwsxff8nrg40000gn/T/ipykernel_46591/3095696856.py:2: UserWarning: Boolean Series key will be reindexed to match DataFrame index.\n",
      "  df_map[\"Farkas\"][masks[0]]\n"
     ]
    },
    {
     "data": {
      "text/plain": [
       "Empty DataFrame\n",
       "Columns: [instanceIndex, seedIndex, vpcGenerator, terms, lpBound, disjunctiveDualBound, lpBoundPostVpc, rootDualBound, dualBound, primalBound, vpcGenerationTime, rootDualBoundTime, bestSolutionTime, terminationTime, nodes, iterations, maxTime, actualTerms, numCuts, cutLimit, mipSolver, providePrimalBound, infeasibleTerms, feasibleToInfeasibleTerms, infeasibleToFeasibleTerms, termRemainsFeasibleBasisInfeasible, cutsChangedCoefficients, feasibleTermsPrunedByBound, tighten_disjunction, tighten_matrix_perturbation, tighten_infeasible_to_feasible_term, tighten_feasible_to_infeasible_basis, instance, perturbation, degree, rows, cols, density]\n",
       "Index: []\n",
       "\n",
       "[0 rows x 38 columns]"
      ],
      "text/html": [
       "<div>\n",
       "<style scoped>\n",
       "    .dataframe tbody tr th:only-of-type {\n",
       "        vertical-align: middle;\n",
       "    }\n",
       "\n",
       "    .dataframe tbody tr th {\n",
       "        vertical-align: top;\n",
       "    }\n",
       "\n",
       "    .dataframe thead th {\n",
       "        text-align: right;\n",
       "    }\n",
       "</style>\n",
       "<table border=\"1\" class=\"dataframe\">\n",
       "  <thead>\n",
       "    <tr style=\"text-align: right;\">\n",
       "      <th></th>\n",
       "      <th>instanceIndex</th>\n",
       "      <th>seedIndex</th>\n",
       "      <th>vpcGenerator</th>\n",
       "      <th>terms</th>\n",
       "      <th>lpBound</th>\n",
       "      <th>disjunctiveDualBound</th>\n",
       "      <th>lpBoundPostVpc</th>\n",
       "      <th>rootDualBound</th>\n",
       "      <th>dualBound</th>\n",
       "      <th>primalBound</th>\n",
       "      <th>...</th>\n",
       "      <th>tighten_disjunction</th>\n",
       "      <th>tighten_matrix_perturbation</th>\n",
       "      <th>tighten_infeasible_to_feasible_term</th>\n",
       "      <th>tighten_feasible_to_infeasible_basis</th>\n",
       "      <th>instance</th>\n",
       "      <th>perturbation</th>\n",
       "      <th>degree</th>\n",
       "      <th>rows</th>\n",
       "      <th>cols</th>\n",
       "      <th>density</th>\n",
       "    </tr>\n",
       "  </thead>\n",
       "  <tbody>\n",
       "  </tbody>\n",
       "</table>\n",
       "<p>0 rows × 38 columns</p>\n",
       "</div>"
      ]
     },
     "execution_count": 59,
     "metadata": {},
     "output_type": "execute_result"
    }
   ],
   "execution_count": 59
  },
  {
   "cell_type": "code",
   "source": [
    "for gen in df_map:\n",
    "    mask = (-1e20 > df_map[gen][\"lpBound\"]) | \\\n",
    "        (df_map[gen][\"lpBound\"] - 1e-3 > df_map[gen][\"lpBoundPostVpc\"]) | \\\n",
    "        ((df_map[gen][\"lpBoundPostVpc\"] - 1e-3 > df_map[gen][\"disjunctiveDualBound\"]) & (gen != \"Farkas\")) | \\\n",
    "        (df_map[gen][\"rootDualBound\"] - 1e-3 > df_map[gen][\"dualBound\"]) | \\\n",
    "        ((df_map[gen][\"dualBound\"] - 1e-3 > df_map[gen][\"primalBound\"]) & (df_map[gen][\"dualBound\"] / df_map[gen][\"primalBound\"] > 1 + 1e-3)) | \\\n",
    "        (df_map[gen][\"primalBound\"] > 1e20) | \\\n",
    "        (0 > df_map[gen][\"vpcGenerationTime\"]) | \\\n",
    "        (df_map[gen][\"vpcGenerationTime\"] - 1e-3 > df_map[gen][\"rootDualBoundTime\"]) | \\\n",
    "        (df_map[gen][\"rootDualBoundTime\"] - 1e-3 > df_map[gen][\"terminationTime\"]) | \\\n",
    "        (df_map[gen][\"vpcGenerationTime\"] - 1e-3 > df_map[gen][\"bestSolutionTime\"]) | \\\n",
    "        (df_map[gen][\"bestSolutionTime\"] - 1e-3 > df_map[gen][\"terminationTime\"])\n",
    "    print(f\"{gen}: {mask.sum() / len(df_map[gen])}\")\n",
    "    df_map[gen] = df_map[gen][~mask]"
   ],
   "metadata": {
    "collapsed": false,
    "ExecuteTime": {
     "end_time": "2025-07-23T14:05:29.234919Z",
     "start_time": "2025-07-23T14:05:29.217333Z"
    }
   },
   "id": "a9109f5e39680bda",
   "outputs": [
    {
     "name": "stdout",
     "output_type": "stream",
     "text": [
      "None: 0.0006634599436059048\n",
      "New: 0.0009084027252081756\n",
      "Farkas: 0.0008265601322496211\n",
      "NoDisjunction: 0.0011052777010223818\n"
     ]
    }
   ],
   "execution_count": 60
  },
  {
   "cell_type": "code",
   "source": [
    "# merge the different data frames into one\n",
    "join_cols = [\"instance\", \"perturbation\", \"degree\", \"terms\", \"instanceIndex\", \"seedIndex\"]\n",
    "df = df_map[generators[0]].merge(df_map[generators[1]], on=join_cols, suffixes=(f\" {generators[0]}\", None))\n",
    "for g1, g2 in zip(generators[1:-1], generators[2:]):\n",
    "    df = df.merge(df_map[g2], on=join_cols, suffixes=(f\" {g1}\", None if g2 != generators[-1] else f\" {g2}\"))\n",
    "df.head()"
   ],
   "metadata": {
    "collapsed": false,
    "ExecuteTime": {
     "end_time": "2025-07-23T14:05:29.361406Z",
     "start_time": "2025-07-23T14:05:29.330769Z"
    }
   },
   "id": "66dfd7e3d44a3585",
   "outputs": [
    {
     "data": {
      "text/plain": [
       "   instanceIndex  seedIndex vpcGenerator None  terms  lpBound None  \\\n",
       "0              0          0              None     64   -120.000000   \n",
       "1              1          0              None     64   -120.000000   \n",
       "2              2          0              None     64   -120.500000   \n",
       "3              0          0              None     64  -4632.298153   \n",
       "4              1          0              None     64  -4628.667162   \n",
       "\n",
       "   disjunctiveDualBound None  lpBoundPostVpc None  rootDualBound None  \\\n",
       "0                -120.000000          -120.000000         -120.000000   \n",
       "1                -120.000000          -120.000000         -120.000000   \n",
       "2                -120.500000          -120.500000         -120.500000   \n",
       "3               -4632.298153         -4632.298153        -4631.571278   \n",
       "4               -4628.667162         -4628.667162        -4627.808946   \n",
       "\n",
       "   dualBound None  primalBound None  ...  \\\n",
       "0     -120.000000       -120.000000  ...   \n",
       "1     -120.000000       -120.000000  ...   \n",
       "2     -120.500000       -120.500000  ...   \n",
       "3    -4607.140232      -4606.679610  ...   \n",
       "4    -4604.833773      -4604.373375  ...   \n",
       "\n",
       "   termRemainsFeasibleBasisInfeasible NoDisjunction  \\\n",
       "0                                                 0   \n",
       "1                                                 0   \n",
       "2                                                 0   \n",
       "3                                                 0   \n",
       "4                                                 0   \n",
       "\n",
       "   cutsChangedCoefficients NoDisjunction  \\\n",
       "0                                      0   \n",
       "1                                      0   \n",
       "2                                      0   \n",
       "3                                      0   \n",
       "4                                      0   \n",
       "\n",
       "   feasibleTermsPrunedByBound NoDisjunction  \\\n",
       "0                                         0   \n",
       "1                                         0   \n",
       "2                                         0   \n",
       "3                                         0   \n",
       "4                                         0   \n",
       "\n",
       "   tighten_disjunction NoDisjunction  \\\n",
       "0                                  0   \n",
       "1                                  0   \n",
       "2                                  0   \n",
       "3                                  0   \n",
       "4                                  0   \n",
       "\n",
       "   tighten_matrix_perturbation NoDisjunction  \\\n",
       "0                                          0   \n",
       "1                                          1   \n",
       "2                                          1   \n",
       "3                                          0   \n",
       "4                                          1   \n",
       "\n",
       "   tighten_infeasible_to_feasible_term NoDisjunction  \\\n",
       "0                                                  0   \n",
       "1                                                  1   \n",
       "2                                                  1   \n",
       "3                                                  0   \n",
       "4                                                  1   \n",
       "\n",
       "   tighten_feasible_to_infeasible_basis NoDisjunction  rows NoDisjunction  \\\n",
       "0                                                  0                 8357   \n",
       "1                                                  1                 8357   \n",
       "2                                                  1                 8357   \n",
       "3                                                  0                   46   \n",
       "4                                                  1                   46   \n",
       "\n",
       "   cols NoDisjunction  density NoDisjunction  \n",
       "0               10735               0.000534  \n",
       "1               10735               0.000534  \n",
       "2               10735               0.000534  \n",
       "3                  29               0.976762  \n",
       "4                  29               0.976762  \n",
       "\n",
       "[5 rows x 134 columns]"
      ],
      "text/html": [
       "<div>\n",
       "<style scoped>\n",
       "    .dataframe tbody tr th:only-of-type {\n",
       "        vertical-align: middle;\n",
       "    }\n",
       "\n",
       "    .dataframe tbody tr th {\n",
       "        vertical-align: top;\n",
       "    }\n",
       "\n",
       "    .dataframe thead th {\n",
       "        text-align: right;\n",
       "    }\n",
       "</style>\n",
       "<table border=\"1\" class=\"dataframe\">\n",
       "  <thead>\n",
       "    <tr style=\"text-align: right;\">\n",
       "      <th></th>\n",
       "      <th>instanceIndex</th>\n",
       "      <th>seedIndex</th>\n",
       "      <th>vpcGenerator None</th>\n",
       "      <th>terms</th>\n",
       "      <th>lpBound None</th>\n",
       "      <th>disjunctiveDualBound None</th>\n",
       "      <th>lpBoundPostVpc None</th>\n",
       "      <th>rootDualBound None</th>\n",
       "      <th>dualBound None</th>\n",
       "      <th>primalBound None</th>\n",
       "      <th>...</th>\n",
       "      <th>termRemainsFeasibleBasisInfeasible NoDisjunction</th>\n",
       "      <th>cutsChangedCoefficients NoDisjunction</th>\n",
       "      <th>feasibleTermsPrunedByBound NoDisjunction</th>\n",
       "      <th>tighten_disjunction NoDisjunction</th>\n",
       "      <th>tighten_matrix_perturbation NoDisjunction</th>\n",
       "      <th>tighten_infeasible_to_feasible_term NoDisjunction</th>\n",
       "      <th>tighten_feasible_to_infeasible_basis NoDisjunction</th>\n",
       "      <th>rows NoDisjunction</th>\n",
       "      <th>cols NoDisjunction</th>\n",
       "      <th>density NoDisjunction</th>\n",
       "    </tr>\n",
       "  </thead>\n",
       "  <tbody>\n",
       "    <tr>\n",
       "      <th>0</th>\n",
       "      <td>0</td>\n",
       "      <td>0</td>\n",
       "      <td>None</td>\n",
       "      <td>64</td>\n",
       "      <td>-120.000000</td>\n",
       "      <td>-120.000000</td>\n",
       "      <td>-120.000000</td>\n",
       "      <td>-120.000000</td>\n",
       "      <td>-120.000000</td>\n",
       "      <td>-120.000000</td>\n",
       "      <td>...</td>\n",
       "      <td>0</td>\n",
       "      <td>0</td>\n",
       "      <td>0</td>\n",
       "      <td>0</td>\n",
       "      <td>0</td>\n",
       "      <td>0</td>\n",
       "      <td>0</td>\n",
       "      <td>8357</td>\n",
       "      <td>10735</td>\n",
       "      <td>0.000534</td>\n",
       "    </tr>\n",
       "    <tr>\n",
       "      <th>1</th>\n",
       "      <td>1</td>\n",
       "      <td>0</td>\n",
       "      <td>None</td>\n",
       "      <td>64</td>\n",
       "      <td>-120.000000</td>\n",
       "      <td>-120.000000</td>\n",
       "      <td>-120.000000</td>\n",
       "      <td>-120.000000</td>\n",
       "      <td>-120.000000</td>\n",
       "      <td>-120.000000</td>\n",
       "      <td>...</td>\n",
       "      <td>0</td>\n",
       "      <td>0</td>\n",
       "      <td>0</td>\n",
       "      <td>0</td>\n",
       "      <td>1</td>\n",
       "      <td>1</td>\n",
       "      <td>1</td>\n",
       "      <td>8357</td>\n",
       "      <td>10735</td>\n",
       "      <td>0.000534</td>\n",
       "    </tr>\n",
       "    <tr>\n",
       "      <th>2</th>\n",
       "      <td>2</td>\n",
       "      <td>0</td>\n",
       "      <td>None</td>\n",
       "      <td>64</td>\n",
       "      <td>-120.500000</td>\n",
       "      <td>-120.500000</td>\n",
       "      <td>-120.500000</td>\n",
       "      <td>-120.500000</td>\n",
       "      <td>-120.500000</td>\n",
       "      <td>-120.500000</td>\n",
       "      <td>...</td>\n",
       "      <td>0</td>\n",
       "      <td>0</td>\n",
       "      <td>0</td>\n",
       "      <td>0</td>\n",
       "      <td>1</td>\n",
       "      <td>1</td>\n",
       "      <td>1</td>\n",
       "      <td>8357</td>\n",
       "      <td>10735</td>\n",
       "      <td>0.000534</td>\n",
       "    </tr>\n",
       "    <tr>\n",
       "      <th>3</th>\n",
       "      <td>0</td>\n",
       "      <td>0</td>\n",
       "      <td>None</td>\n",
       "      <td>64</td>\n",
       "      <td>-4632.298153</td>\n",
       "      <td>-4632.298153</td>\n",
       "      <td>-4632.298153</td>\n",
       "      <td>-4631.571278</td>\n",
       "      <td>-4607.140232</td>\n",
       "      <td>-4606.679610</td>\n",
       "      <td>...</td>\n",
       "      <td>0</td>\n",
       "      <td>0</td>\n",
       "      <td>0</td>\n",
       "      <td>0</td>\n",
       "      <td>0</td>\n",
       "      <td>0</td>\n",
       "      <td>0</td>\n",
       "      <td>46</td>\n",
       "      <td>29</td>\n",
       "      <td>0.976762</td>\n",
       "    </tr>\n",
       "    <tr>\n",
       "      <th>4</th>\n",
       "      <td>1</td>\n",
       "      <td>0</td>\n",
       "      <td>None</td>\n",
       "      <td>64</td>\n",
       "      <td>-4628.667162</td>\n",
       "      <td>-4628.667162</td>\n",
       "      <td>-4628.667162</td>\n",
       "      <td>-4627.808946</td>\n",
       "      <td>-4604.833773</td>\n",
       "      <td>-4604.373375</td>\n",
       "      <td>...</td>\n",
       "      <td>0</td>\n",
       "      <td>0</td>\n",
       "      <td>0</td>\n",
       "      <td>0</td>\n",
       "      <td>1</td>\n",
       "      <td>1</td>\n",
       "      <td>1</td>\n",
       "      <td>46</td>\n",
       "      <td>29</td>\n",
       "      <td>0.976762</td>\n",
       "    </tr>\n",
       "  </tbody>\n",
       "</table>\n",
       "<p>5 rows × 134 columns</p>\n",
       "</div>"
      ]
     },
     "execution_count": 61,
     "metadata": {},
     "output_type": "execute_result"
    }
   ],
   "execution_count": 61
  },
  {
   "cell_type": "code",
   "source": [
    "# get proportion of tests run to completion\n",
    "len(generators) * len(df) / count_instances"
   ],
   "metadata": {
    "collapsed": false,
    "ExecuteTime": {
     "end_time": "2025-07-23T14:05:29.484450Z",
     "start_time": "2025-07-23T14:05:29.481885Z"
    }
   },
   "id": "3eb13128df183faf",
   "outputs": [
    {
     "data": {
      "text/plain": [
       "0.5380228136882129"
      ]
     },
     "execution_count": 62,
     "metadata": {},
     "output_type": "execute_result"
    }
   ],
   "execution_count": 62
  },
  {
   "metadata": {
    "ExecuteTime": {
     "end_time": "2025-07-23T14:05:29.606232Z",
     "start_time": "2025-07-23T14:05:29.601384Z"
    }
   },
   "cell_type": "code",
   "source": [
    "# assign nan's to experiments that didn't need to run - matrix support for RHS or any support for objective \n",
    "if filter_redundant:\n",
    "    target_cols = [c for c in df.columns if any(s in c for s in [\" NoDisjunction\", \" All\"])\n",
    "                   and any(metric in c for metric in [\"Bound\", \"Time\", \"nodes\", \"iterations\"])]\n",
    "    df.loc[df[\"perturbation\"] == \"objective\", target_cols] = np.nan"
   ],
   "id": "bc31a60fc5170f89",
   "outputs": [],
   "execution_count": 63
  },
  {
   "cell_type": "code",
   "source": [
    "def gap_closed(df, col):\n",
    "    gap = abs(df[col] - df[\"lpBound None\"]) / abs(df['primalBound None'] - df[\"lpBound None\"])\n",
    "    gap[(gap > 1) | (gap == np.nan)] = 1  # get corner cases\n",
    "    return gap\n",
    "\n",
    "# Function to map values based on a dictionary\n",
    "def check_same_solution(row):\n",
    "    # Create a tuple of the key based on the key_columns\n",
    "    return same_solution[row[\"perturbation\"], int(math.log2(row[\"degree\"])), f'{row[\"instance\"]}_{row[\"instanceIndex\"]}']"
   ],
   "metadata": {
    "collapsed": false,
    "ExecuteTime": {
     "end_time": "2025-07-23T14:05:29.783517Z",
     "start_time": "2025-07-23T14:05:29.780443Z"
    }
   },
   "id": "184a7a72592a8126",
   "outputs": [],
   "execution_count": 64
  },
  {
   "cell_type": "code",
   "source": [
    "# find the optimality gap closed by each generator\n",
    "df[\"Disjunction (New)\"] = gap_closed(df, \"disjunctiveDualBound New\")\n",
    "df[\"Disjunction (Old)\"] = gap_closed(df, \"disjunctiveDualBound Farkas\")\n",
    "for g in generators:\n",
    "    if g != \"None\":\n",
    "        df[f\"VPCs ({g})\"] = gap_closed(df, f\"lpBoundPostVpc {g}\")        \n",
    "    df[f\"Root Cuts ({g})\"] = gap_closed(df, f\"rootDualBound {g}\")\n",
    "\n",
    "df[\"Root Optimality Gap Improvement\"] = df[\"Root Cuts (Farkas)\"] - df[\"Root Cuts (None)\"] \n",
    "# df = df.dropna()"
   ],
   "metadata": {
    "collapsed": false,
    "ExecuteTime": {
     "end_time": "2025-07-23T14:05:29.928086Z",
     "start_time": "2025-07-23T14:05:29.920395Z"
    }
   },
   "id": "2e64c92d6bbd14b9",
   "outputs": [],
   "execution_count": 65
  },
  {
   "cell_type": "code",
   "source": [
    "# find times without vpc generation\n",
    "df[\"terminationTimeSansVpc None\"] = df[\"terminationTime None\"]\n",
    "df[\"rootDualBoundTimeSansVpc None\"] = df[\"rootDualBoundTime None\"]\n",
    "for gen in generators:\n",
    "    if gen != \"None\":\n",
    "        df[f\"terminationTimeSansVpc {gen}\"] = df[f\"terminationTime {gen}\"] - df[f\"vpcGenerationTime {gen}\"]\n",
    "        df[f\"rootDualBoundTimeSansVpc {gen}\"] = df[f\"rootDualBoundTime {gen}\"] - df[f\"vpcGenerationTime {gen}\"]\n",
    "    df[f\"postRootTime {gen}\"] = df[f\"terminationTime {gen}\"] - df[f\"rootDualBoundTime {gen}\"]\n",
    "    if gen not in [\"None\", \"New\"]:\n",
    "        df[f\"terminationTimeImprovement {gen}\"] = (df[\"terminationTime None\"] - df[f\"terminationTime {gen}\"]) / df[\"terminationTime None\"]\n",
    "        df[f\"terminationTimeSansVpcImprovement {gen}\"] = (df[\"terminationTimeSansVpc None\"] - df[f\"terminationTimeSansVpc {gen}\"]) / df[\"terminationTimeSansVpc None\"]\n",
    "        df[f\"nodesImprovement {gen}\"] = (df[\"nodes None\"] - df[f\"nodes {gen}\"]) / df[\"nodes None\"] \n",
    "        df[f\"iterationsImprovement {gen}\"] = (df[\"iterations None\"] - df[f\"iterations {gen}\"]) / df[\"iterations None\"] \n",
    "        df[f\"terminationTimeRatio {gen}\"] = df[f\"terminationTime {gen}\"] / df[\"terminationTime None\"]\n",
    "        df[f\"terminationTimeSansVpcRatio {gen}\"] = df[f\"terminationTimeSansVpc {gen}\"] / df[\"terminationTimeSansVpc None\"]\n",
    "        df[f\"nodesRatio {gen}\"] = df[f\"nodes {gen}\"] / df[\"nodes None\"] \n",
    "        df[f\"iterationsRatio {gen}\"] = df[f\"iterations {gen}\"] / df[\"iterations None\"]\n",
    "        df[f\"nodesImproves {gen}\"] = df[\"nodes None\"] > df[f\"nodes {gen}\"]\n",
    "        df[f\"terminationTimeImproves {gen}\"] = df[\"terminationTime None\"] > df[f\"terminationTime {gen}\"]\n",
    "        df[f\"terminationTimeSansVpcImproves {gen}\"] = df[\"terminationTimeSansVpc None\"] > df[f\"terminationTimeSansVpc {gen}\"]\n",
    "        df[f\"iterationsImproves {gen}\"] = df[\"iterations None\"] > df[f\"iterations {gen}\"]\n",
    "        \n",
    "# df[f'{metric}Win{gen}'] = df[[f'{metric} {gen2}' for gen2 in compare_gens]].mean(axis=1) - 3 * df[[f'{metric} {gen2}' for gen2 in compare_gens]].std(axis=1) > df[f'{metric} {gen}']\n",
    "for metric in [\"nodes\", \"terminationTime\", \"terminationTimeSansVpc\", \"iterations\"]:\n",
    "    \n",
    "    # does the generator win against all others?\n",
    "    individuals = [\"None\"] + test_generators\n",
    "    for gen in individuals:\n",
    "        df[f'{metric}Win{gen}VsAll'] = pd.concat([\n",
    "            pd.Series(\n",
    "                np.where(\n",
    "                    df[f'{metric} {gen}'].isna(), False,\n",
    "                    np.where(\n",
    "                        df[f'{metric} {gen2}'].isna(), True,\n",
    "                        df[f'{metric} {gen2}'] * (1 - win_threshold) > df[f'{metric} {gen}']\n",
    "                    )\n",
    "                ),\n",
    "                index=df.index\n",
    "            )\n",
    "            for gen2 in generators if gen2 != gen\n",
    "        ], axis=1).all(axis=1)\n",
    "        \n",
    "    # does the disjunctive generator win against None?\n",
    "    for gen in disjunctive_generators: \n",
    "        df[f'{metric}Win{gen}'] = pd.Series(\n",
    "                np.where(\n",
    "                    df[f'{metric} {gen}'].isna(), False,\n",
    "                    df[f'{metric} None'] * (1 - win_threshold) > df[f'{metric} {gen}']\n",
    "                ), index=df.index\n",
    "            )\n",
    "\n",
    "    # does any disjunctive generator win against None?\n",
    "    df[f'{metric}WinAny'] = pd.concat([\n",
    "        pd.Series(\n",
    "            np.where(\n",
    "                df[f'{metric} {gen}'].isna(), False,\n",
    "                df[f'{metric} None'] * (1 - win_threshold) > df[f'{metric} {gen}']\n",
    "            ),\n",
    "            index=df.index\n",
    "        )\n",
    "        for gen in disjunctive_generators\n",
    "    ], axis=1).any(axis=1)\n",
    "    \n",
    "    # does any parametric generator win against None?\n",
    "    df[f'{metric}WinParametric'] = pd.concat([\n",
    "        pd.Series(\n",
    "            np.where(\n",
    "                df[f'{metric} {gen}'].isna(), False,\n",
    "                df[f'{metric} None'] * (1 - win_threshold) > df[f'{metric} {gen}']\n",
    "            ),\n",
    "            index=df.index\n",
    "        )\n",
    "        for gen in parametric_generators\n",
    "    ], axis=1).any(axis=1)\n",
    "    \n",
    "    # does any strengthened parametric generator win against None?\n",
    "    df[f'{metric}WinStrengthened'] = pd.concat([\n",
    "        df[f\"{metric}Win{gen}\"] for gen in test_generators\n",
    "        ], axis=1).any(axis=1)\n",
    "\n",
    "df[\"bracket\"] = [\"short\" if t <= short else \"medium\" if t <= medium else \"long\" for t in df[\"terminationTime None\"]]\n",
    "df[\"sameSolution\"] = df.apply(check_same_solution, axis=1)"
   ],
   "metadata": {
    "collapsed": false,
    "ExecuteTime": {
     "end_time": "2025-07-23T14:05:30.049523Z",
     "start_time": "2025-07-23T14:05:29.959422Z"
    }
   },
   "id": "b4ee3b9fd2d34abf",
   "outputs": [
    {
     "name": "stderr",
     "output_type": "stream",
     "text": [
      "/var/folders/pb/p1sshdnx5sv12zwsxff8nrg40000gn/T/ipykernel_46591/2909675915.py:45: PerformanceWarning: DataFrame is highly fragmented.  This is usually the result of calling `frame.insert` many times, which has poor performance.  Consider joining all columns at once using pd.concat(axis=1) instead. To get a de-fragmented frame, use `newframe = frame.copy()`\n",
      "  df[f'{metric}Win{gen}'] = pd.Series(\n",
      "/var/folders/pb/p1sshdnx5sv12zwsxff8nrg40000gn/T/ipykernel_46591/2909675915.py:53: PerformanceWarning: DataFrame is highly fragmented.  This is usually the result of calling `frame.insert` many times, which has poor performance.  Consider joining all columns at once using pd.concat(axis=1) instead. To get a de-fragmented frame, use `newframe = frame.copy()`\n",
      "  df[f'{metric}WinAny'] = pd.concat([\n",
      "/var/folders/pb/p1sshdnx5sv12zwsxff8nrg40000gn/T/ipykernel_46591/2909675915.py:65: PerformanceWarning: DataFrame is highly fragmented.  This is usually the result of calling `frame.insert` many times, which has poor performance.  Consider joining all columns at once using pd.concat(axis=1) instead. To get a de-fragmented frame, use `newframe = frame.copy()`\n",
      "  df[f'{metric}WinParametric'] = pd.concat([\n",
      "/var/folders/pb/p1sshdnx5sv12zwsxff8nrg40000gn/T/ipykernel_46591/2909675915.py:77: PerformanceWarning: DataFrame is highly fragmented.  This is usually the result of calling `frame.insert` many times, which has poor performance.  Consider joining all columns at once using pd.concat(axis=1) instead. To get a de-fragmented frame, use `newframe = frame.copy()`\n",
      "  df[f'{metric}WinStrengthened'] = pd.concat([\n",
      "/var/folders/pb/p1sshdnx5sv12zwsxff8nrg40000gn/T/ipykernel_46591/2909675915.py:29: PerformanceWarning: DataFrame is highly fragmented.  This is usually the result of calling `frame.insert` many times, which has poor performance.  Consider joining all columns at once using pd.concat(axis=1) instead. To get a de-fragmented frame, use `newframe = frame.copy()`\n",
      "  df[f'{metric}Win{gen}VsAll'] = pd.concat([\n",
      "/var/folders/pb/p1sshdnx5sv12zwsxff8nrg40000gn/T/ipykernel_46591/2909675915.py:29: PerformanceWarning: DataFrame is highly fragmented.  This is usually the result of calling `frame.insert` many times, which has poor performance.  Consider joining all columns at once using pd.concat(axis=1) instead. To get a de-fragmented frame, use `newframe = frame.copy()`\n",
      "  df[f'{metric}Win{gen}VsAll'] = pd.concat([\n",
      "/var/folders/pb/p1sshdnx5sv12zwsxff8nrg40000gn/T/ipykernel_46591/2909675915.py:45: PerformanceWarning: DataFrame is highly fragmented.  This is usually the result of calling `frame.insert` many times, which has poor performance.  Consider joining all columns at once using pd.concat(axis=1) instead. To get a de-fragmented frame, use `newframe = frame.copy()`\n",
      "  df[f'{metric}Win{gen}'] = pd.Series(\n",
      "/var/folders/pb/p1sshdnx5sv12zwsxff8nrg40000gn/T/ipykernel_46591/2909675915.py:45: PerformanceWarning: DataFrame is highly fragmented.  This is usually the result of calling `frame.insert` many times, which has poor performance.  Consider joining all columns at once using pd.concat(axis=1) instead. To get a de-fragmented frame, use `newframe = frame.copy()`\n",
      "  df[f'{metric}Win{gen}'] = pd.Series(\n",
      "/var/folders/pb/p1sshdnx5sv12zwsxff8nrg40000gn/T/ipykernel_46591/2909675915.py:45: PerformanceWarning: DataFrame is highly fragmented.  This is usually the result of calling `frame.insert` many times, which has poor performance.  Consider joining all columns at once using pd.concat(axis=1) instead. To get a de-fragmented frame, use `newframe = frame.copy()`\n",
      "  df[f'{metric}Win{gen}'] = pd.Series(\n",
      "/var/folders/pb/p1sshdnx5sv12zwsxff8nrg40000gn/T/ipykernel_46591/2909675915.py:53: PerformanceWarning: DataFrame is highly fragmented.  This is usually the result of calling `frame.insert` many times, which has poor performance.  Consider joining all columns at once using pd.concat(axis=1) instead. To get a de-fragmented frame, use `newframe = frame.copy()`\n",
      "  df[f'{metric}WinAny'] = pd.concat([\n",
      "/var/folders/pb/p1sshdnx5sv12zwsxff8nrg40000gn/T/ipykernel_46591/2909675915.py:65: PerformanceWarning: DataFrame is highly fragmented.  This is usually the result of calling `frame.insert` many times, which has poor performance.  Consider joining all columns at once using pd.concat(axis=1) instead. To get a de-fragmented frame, use `newframe = frame.copy()`\n",
      "  df[f'{metric}WinParametric'] = pd.concat([\n",
      "/var/folders/pb/p1sshdnx5sv12zwsxff8nrg40000gn/T/ipykernel_46591/2909675915.py:77: PerformanceWarning: DataFrame is highly fragmented.  This is usually the result of calling `frame.insert` many times, which has poor performance.  Consider joining all columns at once using pd.concat(axis=1) instead. To get a de-fragmented frame, use `newframe = frame.copy()`\n",
      "  df[f'{metric}WinStrengthened'] = pd.concat([\n",
      "/var/folders/pb/p1sshdnx5sv12zwsxff8nrg40000gn/T/ipykernel_46591/2909675915.py:29: PerformanceWarning: DataFrame is highly fragmented.  This is usually the result of calling `frame.insert` many times, which has poor performance.  Consider joining all columns at once using pd.concat(axis=1) instead. To get a de-fragmented frame, use `newframe = frame.copy()`\n",
      "  df[f'{metric}Win{gen}VsAll'] = pd.concat([\n",
      "/var/folders/pb/p1sshdnx5sv12zwsxff8nrg40000gn/T/ipykernel_46591/2909675915.py:29: PerformanceWarning: DataFrame is highly fragmented.  This is usually the result of calling `frame.insert` many times, which has poor performance.  Consider joining all columns at once using pd.concat(axis=1) instead. To get a de-fragmented frame, use `newframe = frame.copy()`\n",
      "  df[f'{metric}Win{gen}VsAll'] = pd.concat([\n",
      "/var/folders/pb/p1sshdnx5sv12zwsxff8nrg40000gn/T/ipykernel_46591/2909675915.py:45: PerformanceWarning: DataFrame is highly fragmented.  This is usually the result of calling `frame.insert` many times, which has poor performance.  Consider joining all columns at once using pd.concat(axis=1) instead. To get a de-fragmented frame, use `newframe = frame.copy()`\n",
      "  df[f'{metric}Win{gen}'] = pd.Series(\n",
      "/var/folders/pb/p1sshdnx5sv12zwsxff8nrg40000gn/T/ipykernel_46591/2909675915.py:45: PerformanceWarning: DataFrame is highly fragmented.  This is usually the result of calling `frame.insert` many times, which has poor performance.  Consider joining all columns at once using pd.concat(axis=1) instead. To get a de-fragmented frame, use `newframe = frame.copy()`\n",
      "  df[f'{metric}Win{gen}'] = pd.Series(\n",
      "/var/folders/pb/p1sshdnx5sv12zwsxff8nrg40000gn/T/ipykernel_46591/2909675915.py:45: PerformanceWarning: DataFrame is highly fragmented.  This is usually the result of calling `frame.insert` many times, which has poor performance.  Consider joining all columns at once using pd.concat(axis=1) instead. To get a de-fragmented frame, use `newframe = frame.copy()`\n",
      "  df[f'{metric}Win{gen}'] = pd.Series(\n",
      "/var/folders/pb/p1sshdnx5sv12zwsxff8nrg40000gn/T/ipykernel_46591/2909675915.py:53: PerformanceWarning: DataFrame is highly fragmented.  This is usually the result of calling `frame.insert` many times, which has poor performance.  Consider joining all columns at once using pd.concat(axis=1) instead. To get a de-fragmented frame, use `newframe = frame.copy()`\n",
      "  df[f'{metric}WinAny'] = pd.concat([\n",
      "/var/folders/pb/p1sshdnx5sv12zwsxff8nrg40000gn/T/ipykernel_46591/2909675915.py:65: PerformanceWarning: DataFrame is highly fragmented.  This is usually the result of calling `frame.insert` many times, which has poor performance.  Consider joining all columns at once using pd.concat(axis=1) instead. To get a de-fragmented frame, use `newframe = frame.copy()`\n",
      "  df[f'{metric}WinParametric'] = pd.concat([\n",
      "/var/folders/pb/p1sshdnx5sv12zwsxff8nrg40000gn/T/ipykernel_46591/2909675915.py:77: PerformanceWarning: DataFrame is highly fragmented.  This is usually the result of calling `frame.insert` many times, which has poor performance.  Consider joining all columns at once using pd.concat(axis=1) instead. To get a de-fragmented frame, use `newframe = frame.copy()`\n",
      "  df[f'{metric}WinStrengthened'] = pd.concat([\n",
      "/var/folders/pb/p1sshdnx5sv12zwsxff8nrg40000gn/T/ipykernel_46591/2909675915.py:29: PerformanceWarning: DataFrame is highly fragmented.  This is usually the result of calling `frame.insert` many times, which has poor performance.  Consider joining all columns at once using pd.concat(axis=1) instead. To get a de-fragmented frame, use `newframe = frame.copy()`\n",
      "  df[f'{metric}Win{gen}VsAll'] = pd.concat([\n",
      "/var/folders/pb/p1sshdnx5sv12zwsxff8nrg40000gn/T/ipykernel_46591/2909675915.py:29: PerformanceWarning: DataFrame is highly fragmented.  This is usually the result of calling `frame.insert` many times, which has poor performance.  Consider joining all columns at once using pd.concat(axis=1) instead. To get a de-fragmented frame, use `newframe = frame.copy()`\n",
      "  df[f'{metric}Win{gen}VsAll'] = pd.concat([\n",
      "/var/folders/pb/p1sshdnx5sv12zwsxff8nrg40000gn/T/ipykernel_46591/2909675915.py:45: PerformanceWarning: DataFrame is highly fragmented.  This is usually the result of calling `frame.insert` many times, which has poor performance.  Consider joining all columns at once using pd.concat(axis=1) instead. To get a de-fragmented frame, use `newframe = frame.copy()`\n",
      "  df[f'{metric}Win{gen}'] = pd.Series(\n",
      "/var/folders/pb/p1sshdnx5sv12zwsxff8nrg40000gn/T/ipykernel_46591/2909675915.py:45: PerformanceWarning: DataFrame is highly fragmented.  This is usually the result of calling `frame.insert` many times, which has poor performance.  Consider joining all columns at once using pd.concat(axis=1) instead. To get a de-fragmented frame, use `newframe = frame.copy()`\n",
      "  df[f'{metric}Win{gen}'] = pd.Series(\n",
      "/var/folders/pb/p1sshdnx5sv12zwsxff8nrg40000gn/T/ipykernel_46591/2909675915.py:45: PerformanceWarning: DataFrame is highly fragmented.  This is usually the result of calling `frame.insert` many times, which has poor performance.  Consider joining all columns at once using pd.concat(axis=1) instead. To get a de-fragmented frame, use `newframe = frame.copy()`\n",
      "  df[f'{metric}Win{gen}'] = pd.Series(\n",
      "/var/folders/pb/p1sshdnx5sv12zwsxff8nrg40000gn/T/ipykernel_46591/2909675915.py:53: PerformanceWarning: DataFrame is highly fragmented.  This is usually the result of calling `frame.insert` many times, which has poor performance.  Consider joining all columns at once using pd.concat(axis=1) instead. To get a de-fragmented frame, use `newframe = frame.copy()`\n",
      "  df[f'{metric}WinAny'] = pd.concat([\n",
      "/var/folders/pb/p1sshdnx5sv12zwsxff8nrg40000gn/T/ipykernel_46591/2909675915.py:65: PerformanceWarning: DataFrame is highly fragmented.  This is usually the result of calling `frame.insert` many times, which has poor performance.  Consider joining all columns at once using pd.concat(axis=1) instead. To get a de-fragmented frame, use `newframe = frame.copy()`\n",
      "  df[f'{metric}WinParametric'] = pd.concat([\n",
      "/var/folders/pb/p1sshdnx5sv12zwsxff8nrg40000gn/T/ipykernel_46591/2909675915.py:77: PerformanceWarning: DataFrame is highly fragmented.  This is usually the result of calling `frame.insert` many times, which has poor performance.  Consider joining all columns at once using pd.concat(axis=1) instead. To get a de-fragmented frame, use `newframe = frame.copy()`\n",
      "  df[f'{metric}WinStrengthened'] = pd.concat([\n",
      "/var/folders/pb/p1sshdnx5sv12zwsxff8nrg40000gn/T/ipykernel_46591/2909675915.py:81: PerformanceWarning: DataFrame is highly fragmented.  This is usually the result of calling `frame.insert` many times, which has poor performance.  Consider joining all columns at once using pd.concat(axis=1) instead. To get a de-fragmented frame, use `newframe = frame.copy()`\n",
      "  df[\"bracket\"] = [\"short\" if t <= short else \"medium\" if t <= medium else \"long\" for t in df[\"terminationTime None\"]]\n",
      "/var/folders/pb/p1sshdnx5sv12zwsxff8nrg40000gn/T/ipykernel_46591/2909675915.py:82: PerformanceWarning: DataFrame is highly fragmented.  This is usually the result of calling `frame.insert` many times, which has poor performance.  Consider joining all columns at once using pd.concat(axis=1) instead. To get a de-fragmented frame, use `newframe = frame.copy()`\n",
      "  df[\"sameSolution\"] = df.apply(check_same_solution, axis=1)\n"
     ]
    }
   ],
   "execution_count": 66
  },
  {
   "cell_type": "code",
   "source": [
    "# get sensitivity stats as ratios\n",
    "for gen_name in generators:\n",
    "    if gen_name == \"None\":\n",
    "        continue\n",
    "    df[f\"infeasibleTermsRatio {gen_name}\"] = df[f\"infeasibleTerms {gen_name}\"] / df[f\"actualTerms {gen_name}\"]\n",
    "    df[f\"infeasibleToFeasibleTermsRatio {gen_name}\"] = df[f\"infeasibleToFeasibleTerms {gen_name}\"] / df[f\"actualTerms {gen_name}\"]\n",
    "    df[f\"zeroInfeasibleToFeasibleTerms {gen_name}\"] = df[f\"infeasibleToFeasibleTerms {gen_name}\"] == 0\n",
    "    df[f\"feasibleToInfeasibleTermsRatio {gen_name}\"] = df[f\"feasibleToInfeasibleTerms {gen_name}\"] / df[f\"actualTerms {gen_name}\"]"
   ],
   "metadata": {
    "collapsed": false,
    "ExecuteTime": {
     "end_time": "2025-07-23T14:05:30.102292Z",
     "start_time": "2025-07-23T14:05:30.098127Z"
    }
   },
   "id": "d7bf06fb128ade6",
   "outputs": [
    {
     "name": "stderr",
     "output_type": "stream",
     "text": [
      "/var/folders/pb/p1sshdnx5sv12zwsxff8nrg40000gn/T/ipykernel_46591/393337708.py:5: PerformanceWarning: DataFrame is highly fragmented.  This is usually the result of calling `frame.insert` many times, which has poor performance.  Consider joining all columns at once using pd.concat(axis=1) instead. To get a de-fragmented frame, use `newframe = frame.copy()`\n",
      "  df[f\"infeasibleTermsRatio {gen_name}\"] = df[f\"infeasibleTerms {gen_name}\"] / df[f\"actualTerms {gen_name}\"]\n",
      "/var/folders/pb/p1sshdnx5sv12zwsxff8nrg40000gn/T/ipykernel_46591/393337708.py:6: PerformanceWarning: DataFrame is highly fragmented.  This is usually the result of calling `frame.insert` many times, which has poor performance.  Consider joining all columns at once using pd.concat(axis=1) instead. To get a de-fragmented frame, use `newframe = frame.copy()`\n",
      "  df[f\"infeasibleToFeasibleTermsRatio {gen_name}\"] = df[f\"infeasibleToFeasibleTerms {gen_name}\"] / df[f\"actualTerms {gen_name}\"]\n",
      "/var/folders/pb/p1sshdnx5sv12zwsxff8nrg40000gn/T/ipykernel_46591/393337708.py:7: PerformanceWarning: DataFrame is highly fragmented.  This is usually the result of calling `frame.insert` many times, which has poor performance.  Consider joining all columns at once using pd.concat(axis=1) instead. To get a de-fragmented frame, use `newframe = frame.copy()`\n",
      "  df[f\"zeroInfeasibleToFeasibleTerms {gen_name}\"] = df[f\"infeasibleToFeasibleTerms {gen_name}\"] == 0\n",
      "/var/folders/pb/p1sshdnx5sv12zwsxff8nrg40000gn/T/ipykernel_46591/393337708.py:8: PerformanceWarning: DataFrame is highly fragmented.  This is usually the result of calling `frame.insert` many times, which has poor performance.  Consider joining all columns at once using pd.concat(axis=1) instead. To get a de-fragmented frame, use `newframe = frame.copy()`\n",
      "  df[f\"feasibleToInfeasibleTermsRatio {gen_name}\"] = df[f\"feasibleToInfeasibleTerms {gen_name}\"] / df[f\"actualTerms {gen_name}\"]\n",
      "/var/folders/pb/p1sshdnx5sv12zwsxff8nrg40000gn/T/ipykernel_46591/393337708.py:5: PerformanceWarning: DataFrame is highly fragmented.  This is usually the result of calling `frame.insert` many times, which has poor performance.  Consider joining all columns at once using pd.concat(axis=1) instead. To get a de-fragmented frame, use `newframe = frame.copy()`\n",
      "  df[f\"infeasibleTermsRatio {gen_name}\"] = df[f\"infeasibleTerms {gen_name}\"] / df[f\"actualTerms {gen_name}\"]\n",
      "/var/folders/pb/p1sshdnx5sv12zwsxff8nrg40000gn/T/ipykernel_46591/393337708.py:6: PerformanceWarning: DataFrame is highly fragmented.  This is usually the result of calling `frame.insert` many times, which has poor performance.  Consider joining all columns at once using pd.concat(axis=1) instead. To get a de-fragmented frame, use `newframe = frame.copy()`\n",
      "  df[f\"infeasibleToFeasibleTermsRatio {gen_name}\"] = df[f\"infeasibleToFeasibleTerms {gen_name}\"] / df[f\"actualTerms {gen_name}\"]\n",
      "/var/folders/pb/p1sshdnx5sv12zwsxff8nrg40000gn/T/ipykernel_46591/393337708.py:7: PerformanceWarning: DataFrame is highly fragmented.  This is usually the result of calling `frame.insert` many times, which has poor performance.  Consider joining all columns at once using pd.concat(axis=1) instead. To get a de-fragmented frame, use `newframe = frame.copy()`\n",
      "  df[f\"zeroInfeasibleToFeasibleTerms {gen_name}\"] = df[f\"infeasibleToFeasibleTerms {gen_name}\"] == 0\n",
      "/var/folders/pb/p1sshdnx5sv12zwsxff8nrg40000gn/T/ipykernel_46591/393337708.py:8: PerformanceWarning: DataFrame is highly fragmented.  This is usually the result of calling `frame.insert` many times, which has poor performance.  Consider joining all columns at once using pd.concat(axis=1) instead. To get a de-fragmented frame, use `newframe = frame.copy()`\n",
      "  df[f\"feasibleToInfeasibleTermsRatio {gen_name}\"] = df[f\"feasibleToInfeasibleTerms {gen_name}\"] / df[f\"actualTerms {gen_name}\"]\n",
      "/var/folders/pb/p1sshdnx5sv12zwsxff8nrg40000gn/T/ipykernel_46591/393337708.py:5: PerformanceWarning: DataFrame is highly fragmented.  This is usually the result of calling `frame.insert` many times, which has poor performance.  Consider joining all columns at once using pd.concat(axis=1) instead. To get a de-fragmented frame, use `newframe = frame.copy()`\n",
      "  df[f\"infeasibleTermsRatio {gen_name}\"] = df[f\"infeasibleTerms {gen_name}\"] / df[f\"actualTerms {gen_name}\"]\n",
      "/var/folders/pb/p1sshdnx5sv12zwsxff8nrg40000gn/T/ipykernel_46591/393337708.py:6: PerformanceWarning: DataFrame is highly fragmented.  This is usually the result of calling `frame.insert` many times, which has poor performance.  Consider joining all columns at once using pd.concat(axis=1) instead. To get a de-fragmented frame, use `newframe = frame.copy()`\n",
      "  df[f\"infeasibleToFeasibleTermsRatio {gen_name}\"] = df[f\"infeasibleToFeasibleTerms {gen_name}\"] / df[f\"actualTerms {gen_name}\"]\n",
      "/var/folders/pb/p1sshdnx5sv12zwsxff8nrg40000gn/T/ipykernel_46591/393337708.py:7: PerformanceWarning: DataFrame is highly fragmented.  This is usually the result of calling `frame.insert` many times, which has poor performance.  Consider joining all columns at once using pd.concat(axis=1) instead. To get a de-fragmented frame, use `newframe = frame.copy()`\n",
      "  df[f\"zeroInfeasibleToFeasibleTerms {gen_name}\"] = df[f\"infeasibleToFeasibleTerms {gen_name}\"] == 0\n",
      "/var/folders/pb/p1sshdnx5sv12zwsxff8nrg40000gn/T/ipykernel_46591/393337708.py:8: PerformanceWarning: DataFrame is highly fragmented.  This is usually the result of calling `frame.insert` many times, which has poor performance.  Consider joining all columns at once using pd.concat(axis=1) instead. To get a de-fragmented frame, use `newframe = frame.copy()`\n",
      "  df[f\"feasibleToInfeasibleTermsRatio {gen_name}\"] = df[f\"feasibleToInfeasibleTerms {gen_name}\"] / df[f\"actualTerms {gen_name}\"]\n"
     ]
    }
   ],
   "execution_count": 67
  },
  {
   "cell_type": "code",
   "source": [
    "def optimality_gap(df, generator=None):\n",
    "    if generator:\n",
    "        return abs(df[f\"primalBound {generator}\"] - df[f\"dualBound {generator}\"]) / \\\n",
    "            abs(df[f\"primalBound {generator}\"])\n",
    "    else:\n",
    "        return abs(df[f\"primalBound\"] - df[f\"dualBound\"]) / abs(df[f\"primalBound\"])"
   ],
   "metadata": {
    "collapsed": false,
    "ExecuteTime": {
     "end_time": "2025-07-23T14:05:30.165055Z",
     "start_time": "2025-07-23T14:05:30.162680Z"
    }
   },
   "id": "5e06417f22452766",
   "outputs": [],
   "execution_count": 68
  },
  {
   "cell_type": "code",
   "source": [
    "# aleks filters\n",
    "# df = df.loc[df[\"terms\"] == df[\"actualTerms Farkas\"]]\n",
    "# df = df.loc[df[\"zeroInfeasibleToFeasibleTerms Farkas\"]]"
   ],
   "metadata": {
    "collapsed": false,
    "ExecuteTime": {
     "end_time": "2025-07-23T14:05:30.241440Z",
     "start_time": "2025-07-23T14:05:30.239018Z"
    }
   },
   "id": "ec90a15cca2ab140",
   "outputs": [],
   "execution_count": 69
  },
  {
   "metadata": {
    "ExecuteTime": {
     "end_time": "2025-07-23T14:05:30.285685Z",
     "start_time": "2025-07-23T14:05:30.274872Z"
    }
   },
   "cell_type": "code",
   "source": [
    "activation_metrics = [\"infeasibleToFeasibleTerms\", \"termRemainsFeasibleBasisInfeasible\", \"cutsChangedCoefficients\", \"feasibleTermsPrunedByBound\"]\n",
    "for g in test_generators:\n",
    "    df[f\"active {g}\"] = pd.concat([df[f\"{m} {g}\"] > 0 for m in activation_metrics], axis=1).any(axis=1)\n",
    "print(df.loc[df[[f\"active {g}\" for g in test_generators]].all(axis=1)].shape[0], df.shape[0])\n",
    "df = df.loc[df[[f\"active {g}\" for g in test_generators]].all(axis=1)]"
   ],
   "id": "26dfb0253230652d",
   "outputs": [
    {
     "name": "stdout",
     "output_type": "stream",
     "text": [
      "1825 6509\n"
     ]
    },
    {
     "name": "stderr",
     "output_type": "stream",
     "text": [
      "/var/folders/pb/p1sshdnx5sv12zwsxff8nrg40000gn/T/ipykernel_46591/406862815.py:3: PerformanceWarning: DataFrame is highly fragmented.  This is usually the result of calling `frame.insert` many times, which has poor performance.  Consider joining all columns at once using pd.concat(axis=1) instead. To get a de-fragmented frame, use `newframe = frame.copy()`\n",
      "  df[f\"active {g}\"] = pd.concat([df[f\"{m} {g}\"] > 0 for m in activation_metrics], axis=1).any(axis=1)\n"
     ]
    }
   ],
   "execution_count": 70
  },
  {
   "cell_type": "code",
   "source": [
    "# filter experiments where strengthening helps\n",
    "# initial parametric disjunctive cut generation happens for terms with bases both initially and previously feasible\n",
    "# for matrix perturbations, this can shift the direction of the cut relative to default parametric disjunctive cut generation\n",
    "# which creates the edge case that the cut (although supporting) may not strengthen the root node as much\n",
    "for g in test_generators:\n",
    "    df[f\"bad ({g})\"] = df[f\"VPCs ({g})\"] < df[\"VPCs (Farkas)\"] - 1e-6\n",
    "print(df.loc[df[[f\"bad ({g})\" for g in test_generators]].any(axis=1)].shape[0], df.shape[0])\n",
    "df = df.loc[~df[[f\"bad ({g})\" for g in test_generators]].any(axis=1)]"
   ],
   "metadata": {
    "collapsed": false,
    "ExecuteTime": {
     "end_time": "2025-07-23T14:05:30.357885Z",
     "start_time": "2025-07-23T14:05:30.349671Z"
    }
   },
   "id": "55a07f7fdbf31995",
   "outputs": [
    {
     "name": "stdout",
     "output_type": "stream",
     "text": [
      "94 1825\n"
     ]
    },
    {
     "name": "stderr",
     "output_type": "stream",
     "text": [
      "/var/folders/pb/p1sshdnx5sv12zwsxff8nrg40000gn/T/ipykernel_46591/1536581963.py:6: PerformanceWarning: DataFrame is highly fragmented.  This is usually the result of calling `frame.insert` many times, which has poor performance.  Consider joining all columns at once using pd.concat(axis=1) instead. To get a de-fragmented frame, use `newframe = frame.copy()`\n",
      "  df[f\"bad ({g})\"] = df[f\"VPCs ({g})\"] < df[\"VPCs (Farkas)\"] - 1e-6\n"
     ]
    }
   ],
   "execution_count": 71
  },
  {
   "metadata": {
    "ExecuteTime": {
     "end_time": "2025-07-23T14:05:30.450403Z",
     "start_time": "2025-07-23T14:05:30.442061Z"
    }
   },
   "cell_type": "code",
   "source": [
    "# set aside core columns and filter for all subsequent dataframes\n",
    "group_cols = [\"instance\", \"perturbation\", \"bracket\", \"degree\", \"terms\"]\n",
    "id_cols = [\"instanceIndex\"]\n",
    "\n",
    "# keep the instance, perturbation, instanceIndex triples that exist for all combinations of degree and terms\n",
    "# where VPC did not find the optimal solution\n",
    "full_df = df.loc[df[\"Disjunction (New)\"] < .9999]\n",
    "triples = (full_df.groupby(\n",
    "        [\"instance\", \"perturbation\", \"instanceIndex\"]\n",
    "    ).size().reset_index().rename(columns={0: \"count\"}))\n",
    "triples.head()"
   ],
   "id": "20e18b9d8d3b5b55",
   "outputs": [
    {
     "data": {
      "text/plain": [
       "  instance perturbation  instanceIndex  count\n",
       "0  10teams       matrix              1      2\n",
       "1  10teams       matrix              2      2\n",
       "2  10teams       matrix              3      1\n",
       "3  10teams       matrix              4      2\n",
       "4    22433       matrix              1      1"
      ],
      "text/html": [
       "<div>\n",
       "<style scoped>\n",
       "    .dataframe tbody tr th:only-of-type {\n",
       "        vertical-align: middle;\n",
       "    }\n",
       "\n",
       "    .dataframe tbody tr th {\n",
       "        vertical-align: top;\n",
       "    }\n",
       "\n",
       "    .dataframe thead th {\n",
       "        text-align: right;\n",
       "    }\n",
       "</style>\n",
       "<table border=\"1\" class=\"dataframe\">\n",
       "  <thead>\n",
       "    <tr style=\"text-align: right;\">\n",
       "      <th></th>\n",
       "      <th>instance</th>\n",
       "      <th>perturbation</th>\n",
       "      <th>instanceIndex</th>\n",
       "      <th>count</th>\n",
       "    </tr>\n",
       "  </thead>\n",
       "  <tbody>\n",
       "    <tr>\n",
       "      <th>0</th>\n",
       "      <td>10teams</td>\n",
       "      <td>matrix</td>\n",
       "      <td>1</td>\n",
       "      <td>2</td>\n",
       "    </tr>\n",
       "    <tr>\n",
       "      <th>1</th>\n",
       "      <td>10teams</td>\n",
       "      <td>matrix</td>\n",
       "      <td>2</td>\n",
       "      <td>2</td>\n",
       "    </tr>\n",
       "    <tr>\n",
       "      <th>2</th>\n",
       "      <td>10teams</td>\n",
       "      <td>matrix</td>\n",
       "      <td>3</td>\n",
       "      <td>1</td>\n",
       "    </tr>\n",
       "    <tr>\n",
       "      <th>3</th>\n",
       "      <td>10teams</td>\n",
       "      <td>matrix</td>\n",
       "      <td>4</td>\n",
       "      <td>2</td>\n",
       "    </tr>\n",
       "    <tr>\n",
       "      <th>4</th>\n",
       "      <td>22433</td>\n",
       "      <td>matrix</td>\n",
       "      <td>1</td>\n",
       "      <td>1</td>\n",
       "    </tr>\n",
       "  </tbody>\n",
       "</table>\n",
       "</div>"
      ]
     },
     "execution_count": 72,
     "metadata": {},
     "output_type": "execute_result"
    }
   ],
   "execution_count": 72
  },
  {
   "metadata": {
    "ExecuteTime": {
     "end_time": "2025-07-23T14:05:30.570454Z",
     "start_time": "2025-07-23T14:05:30.512379Z"
    }
   },
   "cell_type": "code",
   "source": [
    "# uncomment to filter for only the triples that exist for all combinations of degree and terms (and seed index)\n",
    "triples = triples[(triples[\"count\"] == len(degrees) * len(term_list) * len(seed_idxs))]\n",
    "full_df = full_df.merge(triples, on=[\"instance\", \"perturbation\", \"instanceIndex\"])\n",
    "full_df.to_csv(os.path.join(out_fldr, \"cleaned_combined_complete.csv\"), index=False, mode=\"w\")"
   ],
   "id": "fcff718d6277a172",
   "outputs": [],
   "execution_count": 73
  },
  {
   "cell_type": "markdown",
   "source": "## Check Root Node Stats",
   "metadata": {
    "collapsed": false
   },
   "id": "2f3bb4783d418904"
  },
  {
   "cell_type": "code",
   "source": [
    "def interleave(list_of_lists):\n",
    "    return [item for sublist in zip(*list_of_lists) for item in sublist]"
   ],
   "metadata": {
    "collapsed": false,
    "ExecuteTime": {
     "end_time": "2025-07-23T14:05:30.628128Z",
     "start_time": "2025-07-23T14:05:30.626037Z"
    }
   },
   "id": "dd68a9bcb789fb6e",
   "outputs": [],
   "execution_count": 74
  },
  {
   "cell_type": "code",
   "source": [
    "# additional filtering for dataframe on bounds\n",
    "fields = [\"Disjunction (New)\", \"Disjunction (Old)\"] + [f\"VPCs ({gen_name})\" for gen_name in generators if gen_name != \"None\"] + \\\n",
    "    interleave([[f\"Root Cuts ({gen_name})\", f\"terminationTime {gen_name}\", f\"nodes {gen_name}\",\n",
    "                 f\"iterations {gen_name}\", f\"terminationTimeSansVpc {gen_name}\", f\"vpcGenerationTime {gen_name}\", \n",
    "                 f\"rootDualBoundTime {gen_name}\"]\n",
    "                for gen_name in generators]) + \\\n",
    "    interleave([[f\"infeasibleTermsRatio {gen_name}\", f\"infeasibleToFeasibleTermsRatio {gen_name}\",\n",
    "                 f\"zeroInfeasibleToFeasibleTerms {gen_name}\", f\"feasibleToInfeasibleTermsRatio {gen_name}\"]\n",
    "                for gen_name in generators if gen_name != \"None\"])\n",
    "\n",
    "# now reduce bound_df to just the perturbed instances - make > -1 to include base instance\n",
    "bound_df = full_df.loc[full_df[\"instanceIndex\"] > 0, group_cols + id_cols + fields]  #  & (full_df[\"Disjunction (Old)\"] > .1)"
   ],
   "metadata": {
    "collapsed": false,
    "ExecuteTime": {
     "end_time": "2025-07-23T14:05:30.668956Z",
     "start_time": "2025-07-23T14:05:30.662894Z"
    }
   },
   "id": "1446af429a86e44f",
   "outputs": [],
   "execution_count": 75
  },
  {
   "cell_type": "code",
   "source": [
    "def geometric_mean(series, offset=1e-6):\n",
    "    adjusted_series = series + offset  # Add a small offset to avoid zeros\n",
    "    return np.exp(np.log(adjusted_series).mean())\n",
    "\n",
    "# paper currently uses mean, but we can switch to geometric mean if we want\n",
    "aggregations = {f: \"mean\" if not \"Time\" in f else geometric_mean for f in fields}  # geometric_mean if f not in [\"sameSolution\"] else \n",
    "aggregations[\"instance\"] = \"nunique\"\n",
    "aggregations[\"instanceIndex\"] = \"count\""
   ],
   "metadata": {
    "collapsed": false,
    "ExecuteTime": {
     "end_time": "2025-07-23T14:05:30.706248Z",
     "start_time": "2025-07-23T14:05:30.703988Z"
    }
   },
   "id": "2e2bbc44b009d720",
   "outputs": [],
   "execution_count": 76
  },
  {
   "cell_type": "code",
   "source": [
    "# now break it down by type of perturbation\n",
    "out = bound_df.groupby([\"degree\", \"terms\", \"perturbation\"]).agg(aggregations).reset_index()\n",
    "out.to_csv(os.path.join(out_fldr, \"bound_table_by_perturbation.csv\"), index=False, mode=\"w\")\n",
    "out"
   ],
   "metadata": {
    "collapsed": false,
    "ExecuteTime": {
     "end_time": "2025-07-23T14:05:30.805377Z",
     "start_time": "2025-07-23T14:05:30.780161Z"
    }
   },
   "id": "7c7dd20910d976da",
   "outputs": [
    {
     "data": {
      "text/plain": [
       "   degree  terms perturbation  Disjunction (New)  Disjunction (Old)  \\\n",
       "0     0.5      4       matrix           0.059627           0.026738   \n",
       "1     0.5      4          rhs           0.085832           0.036917   \n",
       "2     0.5     64       matrix           0.126071           0.078844   \n",
       "3     0.5     64          rhs           0.176573           0.099886   \n",
       "4     2.0      4       matrix           0.083318           0.025299   \n",
       "5     2.0      4          rhs           0.186308           0.030026   \n",
       "6     2.0     64       matrix           0.162636           0.057531   \n",
       "7     2.0     64          rhs           0.273820           0.073100   \n",
       "\n",
       "   VPCs (New)  VPCs (Farkas)  VPCs (NoDisjunction)  Root Cuts (None)  \\\n",
       "0    0.033847       0.018968              0.018971          0.733448   \n",
       "1    0.033215       0.022349              0.022350          0.502030   \n",
       "2    0.059426       0.033124              0.035107          0.734192   \n",
       "3    0.111565       0.052122              0.064699          0.497214   \n",
       "4    0.043049       0.010985              0.010998          0.803965   \n",
       "5    0.031413       0.004750              0.004750          0.537698   \n",
       "6    0.074326       0.004402              0.011787          0.801236   \n",
       "7    0.091325       0.010757              0.011576          0.539096   \n",
       "\n",
       "   Root Cuts (New)  ...  infeasibleToFeasibleTermsRatio Farkas  \\\n",
       "0         0.732555  ...                               0.000000   \n",
       "1         0.517601  ...                               0.000000   \n",
       "2         0.735780  ...                               0.015051   \n",
       "3         0.534731  ...                               0.016331   \n",
       "4         0.802421  ...                               0.004717   \n",
       "5         0.528024  ...                               0.000000   \n",
       "6         0.806068  ...                               0.074696   \n",
       "7         0.563493  ...                               0.028996   \n",
       "\n",
       "   infeasibleToFeasibleTermsRatio NoDisjunction  \\\n",
       "0                                      0.000000   \n",
       "1                                      0.000000   \n",
       "2                                      0.015051   \n",
       "3                                      0.016331   \n",
       "4                                      0.004717   \n",
       "5                                      0.000000   \n",
       "6                                      0.074696   \n",
       "7                                      0.028996   \n",
       "\n",
       "   zeroInfeasibleToFeasibleTerms New  zeroInfeasibleToFeasibleTerms Farkas  \\\n",
       "0                                1.0                              1.000000   \n",
       "1                                1.0                              1.000000   \n",
       "2                                1.0                              0.877358   \n",
       "3                                1.0                              0.816327   \n",
       "4                                1.0                              0.990566   \n",
       "5                                1.0                              1.000000   \n",
       "6                                1.0                              0.547170   \n",
       "7                                1.0                              0.734694   \n",
       "\n",
       "   zeroInfeasibleToFeasibleTerms NoDisjunction  \\\n",
       "0                                     1.000000   \n",
       "1                                     1.000000   \n",
       "2                                     0.877358   \n",
       "3                                     0.816327   \n",
       "4                                     0.990566   \n",
       "5                                     1.000000   \n",
       "6                                     0.547170   \n",
       "7                                     0.734694   \n",
       "\n",
       "   feasibleToInfeasibleTermsRatio New  feasibleToInfeasibleTermsRatio Farkas  \\\n",
       "0                                 0.0                               0.033019   \n",
       "1                                 0.0                               0.010204   \n",
       "2                                 0.0                               0.020522   \n",
       "3                                 0.0                               0.059135   \n",
       "4                                 0.0                               0.084906   \n",
       "5                                 0.0                               0.076531   \n",
       "6                                 0.0                               0.080980   \n",
       "7                                 0.0                               0.196095   \n",
       "\n",
       "   feasibleToInfeasibleTermsRatio NoDisjunction  instance  instanceIndex  \n",
       "0                                      0.033019        45            106  \n",
       "1                                      0.010204        24             49  \n",
       "2                                      0.020522        45            106  \n",
       "3                                      0.059135        24             49  \n",
       "4                                      0.084906        45            106  \n",
       "5                                      0.076531        24             49  \n",
       "6                                      0.080980        45            106  \n",
       "7                                      0.196095        24             49  \n",
       "\n",
       "[8 rows x 50 columns]"
      ],
      "text/html": [
       "<div>\n",
       "<style scoped>\n",
       "    .dataframe tbody tr th:only-of-type {\n",
       "        vertical-align: middle;\n",
       "    }\n",
       "\n",
       "    .dataframe tbody tr th {\n",
       "        vertical-align: top;\n",
       "    }\n",
       "\n",
       "    .dataframe thead th {\n",
       "        text-align: right;\n",
       "    }\n",
       "</style>\n",
       "<table border=\"1\" class=\"dataframe\">\n",
       "  <thead>\n",
       "    <tr style=\"text-align: right;\">\n",
       "      <th></th>\n",
       "      <th>degree</th>\n",
       "      <th>terms</th>\n",
       "      <th>perturbation</th>\n",
       "      <th>Disjunction (New)</th>\n",
       "      <th>Disjunction (Old)</th>\n",
       "      <th>VPCs (New)</th>\n",
       "      <th>VPCs (Farkas)</th>\n",
       "      <th>VPCs (NoDisjunction)</th>\n",
       "      <th>Root Cuts (None)</th>\n",
       "      <th>Root Cuts (New)</th>\n",
       "      <th>...</th>\n",
       "      <th>infeasibleToFeasibleTermsRatio Farkas</th>\n",
       "      <th>infeasibleToFeasibleTermsRatio NoDisjunction</th>\n",
       "      <th>zeroInfeasibleToFeasibleTerms New</th>\n",
       "      <th>zeroInfeasibleToFeasibleTerms Farkas</th>\n",
       "      <th>zeroInfeasibleToFeasibleTerms NoDisjunction</th>\n",
       "      <th>feasibleToInfeasibleTermsRatio New</th>\n",
       "      <th>feasibleToInfeasibleTermsRatio Farkas</th>\n",
       "      <th>feasibleToInfeasibleTermsRatio NoDisjunction</th>\n",
       "      <th>instance</th>\n",
       "      <th>instanceIndex</th>\n",
       "    </tr>\n",
       "  </thead>\n",
       "  <tbody>\n",
       "    <tr>\n",
       "      <th>0</th>\n",
       "      <td>0.5</td>\n",
       "      <td>4</td>\n",
       "      <td>matrix</td>\n",
       "      <td>0.059627</td>\n",
       "      <td>0.026738</td>\n",
       "      <td>0.033847</td>\n",
       "      <td>0.018968</td>\n",
       "      <td>0.018971</td>\n",
       "      <td>0.733448</td>\n",
       "      <td>0.732555</td>\n",
       "      <td>...</td>\n",
       "      <td>0.000000</td>\n",
       "      <td>0.000000</td>\n",
       "      <td>1.0</td>\n",
       "      <td>1.000000</td>\n",
       "      <td>1.000000</td>\n",
       "      <td>0.0</td>\n",
       "      <td>0.033019</td>\n",
       "      <td>0.033019</td>\n",
       "      <td>45</td>\n",
       "      <td>106</td>\n",
       "    </tr>\n",
       "    <tr>\n",
       "      <th>1</th>\n",
       "      <td>0.5</td>\n",
       "      <td>4</td>\n",
       "      <td>rhs</td>\n",
       "      <td>0.085832</td>\n",
       "      <td>0.036917</td>\n",
       "      <td>0.033215</td>\n",
       "      <td>0.022349</td>\n",
       "      <td>0.022350</td>\n",
       "      <td>0.502030</td>\n",
       "      <td>0.517601</td>\n",
       "      <td>...</td>\n",
       "      <td>0.000000</td>\n",
       "      <td>0.000000</td>\n",
       "      <td>1.0</td>\n",
       "      <td>1.000000</td>\n",
       "      <td>1.000000</td>\n",
       "      <td>0.0</td>\n",
       "      <td>0.010204</td>\n",
       "      <td>0.010204</td>\n",
       "      <td>24</td>\n",
       "      <td>49</td>\n",
       "    </tr>\n",
       "    <tr>\n",
       "      <th>2</th>\n",
       "      <td>0.5</td>\n",
       "      <td>64</td>\n",
       "      <td>matrix</td>\n",
       "      <td>0.126071</td>\n",
       "      <td>0.078844</td>\n",
       "      <td>0.059426</td>\n",
       "      <td>0.033124</td>\n",
       "      <td>0.035107</td>\n",
       "      <td>0.734192</td>\n",
       "      <td>0.735780</td>\n",
       "      <td>...</td>\n",
       "      <td>0.015051</td>\n",
       "      <td>0.015051</td>\n",
       "      <td>1.0</td>\n",
       "      <td>0.877358</td>\n",
       "      <td>0.877358</td>\n",
       "      <td>0.0</td>\n",
       "      <td>0.020522</td>\n",
       "      <td>0.020522</td>\n",
       "      <td>45</td>\n",
       "      <td>106</td>\n",
       "    </tr>\n",
       "    <tr>\n",
       "      <th>3</th>\n",
       "      <td>0.5</td>\n",
       "      <td>64</td>\n",
       "      <td>rhs</td>\n",
       "      <td>0.176573</td>\n",
       "      <td>0.099886</td>\n",
       "      <td>0.111565</td>\n",
       "      <td>0.052122</td>\n",
       "      <td>0.064699</td>\n",
       "      <td>0.497214</td>\n",
       "      <td>0.534731</td>\n",
       "      <td>...</td>\n",
       "      <td>0.016331</td>\n",
       "      <td>0.016331</td>\n",
       "      <td>1.0</td>\n",
       "      <td>0.816327</td>\n",
       "      <td>0.816327</td>\n",
       "      <td>0.0</td>\n",
       "      <td>0.059135</td>\n",
       "      <td>0.059135</td>\n",
       "      <td>24</td>\n",
       "      <td>49</td>\n",
       "    </tr>\n",
       "    <tr>\n",
       "      <th>4</th>\n",
       "      <td>2.0</td>\n",
       "      <td>4</td>\n",
       "      <td>matrix</td>\n",
       "      <td>0.083318</td>\n",
       "      <td>0.025299</td>\n",
       "      <td>0.043049</td>\n",
       "      <td>0.010985</td>\n",
       "      <td>0.010998</td>\n",
       "      <td>0.803965</td>\n",
       "      <td>0.802421</td>\n",
       "      <td>...</td>\n",
       "      <td>0.004717</td>\n",
       "      <td>0.004717</td>\n",
       "      <td>1.0</td>\n",
       "      <td>0.990566</td>\n",
       "      <td>0.990566</td>\n",
       "      <td>0.0</td>\n",
       "      <td>0.084906</td>\n",
       "      <td>0.084906</td>\n",
       "      <td>45</td>\n",
       "      <td>106</td>\n",
       "    </tr>\n",
       "    <tr>\n",
       "      <th>5</th>\n",
       "      <td>2.0</td>\n",
       "      <td>4</td>\n",
       "      <td>rhs</td>\n",
       "      <td>0.186308</td>\n",
       "      <td>0.030026</td>\n",
       "      <td>0.031413</td>\n",
       "      <td>0.004750</td>\n",
       "      <td>0.004750</td>\n",
       "      <td>0.537698</td>\n",
       "      <td>0.528024</td>\n",
       "      <td>...</td>\n",
       "      <td>0.000000</td>\n",
       "      <td>0.000000</td>\n",
       "      <td>1.0</td>\n",
       "      <td>1.000000</td>\n",
       "      <td>1.000000</td>\n",
       "      <td>0.0</td>\n",
       "      <td>0.076531</td>\n",
       "      <td>0.076531</td>\n",
       "      <td>24</td>\n",
       "      <td>49</td>\n",
       "    </tr>\n",
       "    <tr>\n",
       "      <th>6</th>\n",
       "      <td>2.0</td>\n",
       "      <td>64</td>\n",
       "      <td>matrix</td>\n",
       "      <td>0.162636</td>\n",
       "      <td>0.057531</td>\n",
       "      <td>0.074326</td>\n",
       "      <td>0.004402</td>\n",
       "      <td>0.011787</td>\n",
       "      <td>0.801236</td>\n",
       "      <td>0.806068</td>\n",
       "      <td>...</td>\n",
       "      <td>0.074696</td>\n",
       "      <td>0.074696</td>\n",
       "      <td>1.0</td>\n",
       "      <td>0.547170</td>\n",
       "      <td>0.547170</td>\n",
       "      <td>0.0</td>\n",
       "      <td>0.080980</td>\n",
       "      <td>0.080980</td>\n",
       "      <td>45</td>\n",
       "      <td>106</td>\n",
       "    </tr>\n",
       "    <tr>\n",
       "      <th>7</th>\n",
       "      <td>2.0</td>\n",
       "      <td>64</td>\n",
       "      <td>rhs</td>\n",
       "      <td>0.273820</td>\n",
       "      <td>0.073100</td>\n",
       "      <td>0.091325</td>\n",
       "      <td>0.010757</td>\n",
       "      <td>0.011576</td>\n",
       "      <td>0.539096</td>\n",
       "      <td>0.563493</td>\n",
       "      <td>...</td>\n",
       "      <td>0.028996</td>\n",
       "      <td>0.028996</td>\n",
       "      <td>1.0</td>\n",
       "      <td>0.734694</td>\n",
       "      <td>0.734694</td>\n",
       "      <td>0.0</td>\n",
       "      <td>0.196095</td>\n",
       "      <td>0.196095</td>\n",
       "      <td>24</td>\n",
       "      <td>49</td>\n",
       "    </tr>\n",
       "  </tbody>\n",
       "</table>\n",
       "<p>8 rows × 50 columns</p>\n",
       "</div>"
      ]
     },
     "execution_count": 77,
     "metadata": {},
     "output_type": "execute_result"
    }
   ],
   "execution_count": 77
  },
  {
   "metadata": {
    "ExecuteTime": {
     "end_time": "2025-07-23T14:05:30.866240Z",
     "start_time": "2025-07-23T14:05:30.860259Z"
    }
   },
   "cell_type": "code",
   "source": [
    "def make_pareto_frontier(bound_df, save_fig=True):\n",
    "    # Identify relevant fields\n",
    "    strength_fields = [f for f in fields if \"Root Cuts\" in f]\n",
    "    time_fields = [f for f in fields if \"vpcGenerationTime\" in f]\n",
    "\n",
    "    # Compute means\n",
    "    strength_df = bound_df[strength_fields].mean().reset_index()\n",
    "    strength_df.columns = [\"key\", \"value\"]\n",
    "    strength_df['category'] = strength_df['key'].str.extract(r'\\((.*?)\\)')\n",
    "\n",
    "    time_df = bound_df[time_fields].apply(geometric_mean).reset_index()\n",
    "    time_df.columns = [\"key\", \"value\"]\n",
    "    time_df['category'] = time_df['key'].str.extract(r'(None|Farkas|Old|New|All|NoDisjunction|Disjunction|Matrix|Term|Basis)')\n",
    "\n",
    "    # Merge on category\n",
    "    merged_df = pd.merge(strength_df, time_df, on='category', suffixes=('_strength', '_time'))\n",
    "    merged_df['category'] = merged_df['category'].replace(cat_map)\n",
    "\n",
    "    # Plotting\n",
    "    plt.figure(figsize=(6, 5))\n",
    "    categories = merged_df['category'].unique()\n",
    "    cmap = plt.get_cmap('tab10')\n",
    "\n",
    "    for i, category in enumerate(categories):\n",
    "        sub_df = merged_df[merged_df['category'] == category]\n",
    "        plt.scatter(\n",
    "            sub_df['value_time'],\n",
    "            sub_df['value_strength'],\n",
    "            label=category,\n",
    "            color=cmap(i % 10),\n",
    "            s=25\n",
    "        )\n",
    "\n",
    "    plt.ylabel(\"Average Root Nodes\\nOptimality Gap Closed\")\n",
    "    plt.gca().yaxis.set_major_formatter(PercentFormatter(1.0, 1))\n",
    "    plt.xlabel(\"Average Time (s) to Process VPCs\")\n",
    "    plt.title(\"Root Nodes Optimality Gap Closed vs. Processing Time\")\n",
    "    plt.grid(True)\n",
    "    plt.legend(title=\"Generator\", loc=\"best\", fontsize=12, title_fontsize=14)\n",
    "    plt.tight_layout()\n",
    "\n",
    "    if save_fig:\n",
    "        plt.savefig(os.path.join(out_fldr, \"strength_vs_time.png\"), dpi=1200)\n",
    "\n",
    "    print(merged_df.sort_values(\"value_strength\", ascending=True)[[\"key_strength\", \"value_strength\", \"value_time\"]])\n",
    "    plt.show()\n"
   ],
   "id": "c15cad1dd272cfcc",
   "outputs": [],
   "execution_count": 78
  },
  {
   "metadata": {
    "ExecuteTime": {
     "end_time": "2025-07-23T14:05:30.951547Z",
     "start_time": "2025-07-23T14:05:30.947666Z"
    }
   },
   "cell_type": "code",
   "source": [
    "# again nearly pareto optimal - time and strength both ordered in terms of doing more \"work\". Makes sense for matrix case compared to \n",
    "# make_pareto_frontier(bound_df)"
   ],
   "id": "19b3c8be836a183e",
   "outputs": [],
   "execution_count": 79
  },
  {
   "metadata": {},
   "cell_type": "markdown",
   "source": "## Root Stats",
   "id": "f873b674b124617b"
  },
  {
   "metadata": {
    "ExecuteTime": {
     "end_time": "2025-07-23T14:05:31.011333Z",
     "start_time": "2025-07-23T14:05:31.005651Z"
    }
   },
   "cell_type": "code",
   "source": [
    "# example table for VPC strength\n",
    "# it isn't surprising to see improvements in 4 terms even though they don't improve at the root node because these cuts can be focused deeper in the tree\n",
    "gens = [\"New\"] + test_generators + [\"Farkas\"]\n",
    "out[[\"degree\", \"terms\", \"perturbation\"] + [c for c in out.columns if \"Disjunction (\" in c] + [f\"VPCs ({gen})\" for gen in gens]].round(4)"
   ],
   "id": "c93c0124297cf8ad",
   "outputs": [
    {
     "data": {
      "text/plain": [
       "   degree  terms perturbation  Disjunction (New)  Disjunction (Old)  \\\n",
       "0     0.5      4       matrix             0.0596             0.0267   \n",
       "1     0.5      4          rhs             0.0858             0.0369   \n",
       "2     0.5     64       matrix             0.1261             0.0788   \n",
       "3     0.5     64          rhs             0.1766             0.0999   \n",
       "4     2.0      4       matrix             0.0833             0.0253   \n",
       "5     2.0      4          rhs             0.1863             0.0300   \n",
       "6     2.0     64       matrix             0.1626             0.0575   \n",
       "7     2.0     64          rhs             0.2738             0.0731   \n",
       "\n",
       "   VPCs (New)  VPCs (NoDisjunction)  VPCs (Farkas)  \n",
       "0      0.0338                0.0190         0.0190  \n",
       "1      0.0332                0.0223         0.0223  \n",
       "2      0.0594                0.0351         0.0331  \n",
       "3      0.1116                0.0647         0.0521  \n",
       "4      0.0430                0.0110         0.0110  \n",
       "5      0.0314                0.0048         0.0048  \n",
       "6      0.0743                0.0118         0.0044  \n",
       "7      0.0913                0.0116         0.0108  "
      ],
      "text/html": [
       "<div>\n",
       "<style scoped>\n",
       "    .dataframe tbody tr th:only-of-type {\n",
       "        vertical-align: middle;\n",
       "    }\n",
       "\n",
       "    .dataframe tbody tr th {\n",
       "        vertical-align: top;\n",
       "    }\n",
       "\n",
       "    .dataframe thead th {\n",
       "        text-align: right;\n",
       "    }\n",
       "</style>\n",
       "<table border=\"1\" class=\"dataframe\">\n",
       "  <thead>\n",
       "    <tr style=\"text-align: right;\">\n",
       "      <th></th>\n",
       "      <th>degree</th>\n",
       "      <th>terms</th>\n",
       "      <th>perturbation</th>\n",
       "      <th>Disjunction (New)</th>\n",
       "      <th>Disjunction (Old)</th>\n",
       "      <th>VPCs (New)</th>\n",
       "      <th>VPCs (NoDisjunction)</th>\n",
       "      <th>VPCs (Farkas)</th>\n",
       "    </tr>\n",
       "  </thead>\n",
       "  <tbody>\n",
       "    <tr>\n",
       "      <th>0</th>\n",
       "      <td>0.5</td>\n",
       "      <td>4</td>\n",
       "      <td>matrix</td>\n",
       "      <td>0.0596</td>\n",
       "      <td>0.0267</td>\n",
       "      <td>0.0338</td>\n",
       "      <td>0.0190</td>\n",
       "      <td>0.0190</td>\n",
       "    </tr>\n",
       "    <tr>\n",
       "      <th>1</th>\n",
       "      <td>0.5</td>\n",
       "      <td>4</td>\n",
       "      <td>rhs</td>\n",
       "      <td>0.0858</td>\n",
       "      <td>0.0369</td>\n",
       "      <td>0.0332</td>\n",
       "      <td>0.0223</td>\n",
       "      <td>0.0223</td>\n",
       "    </tr>\n",
       "    <tr>\n",
       "      <th>2</th>\n",
       "      <td>0.5</td>\n",
       "      <td>64</td>\n",
       "      <td>matrix</td>\n",
       "      <td>0.1261</td>\n",
       "      <td>0.0788</td>\n",
       "      <td>0.0594</td>\n",
       "      <td>0.0351</td>\n",
       "      <td>0.0331</td>\n",
       "    </tr>\n",
       "    <tr>\n",
       "      <th>3</th>\n",
       "      <td>0.5</td>\n",
       "      <td>64</td>\n",
       "      <td>rhs</td>\n",
       "      <td>0.1766</td>\n",
       "      <td>0.0999</td>\n",
       "      <td>0.1116</td>\n",
       "      <td>0.0647</td>\n",
       "      <td>0.0521</td>\n",
       "    </tr>\n",
       "    <tr>\n",
       "      <th>4</th>\n",
       "      <td>2.0</td>\n",
       "      <td>4</td>\n",
       "      <td>matrix</td>\n",
       "      <td>0.0833</td>\n",
       "      <td>0.0253</td>\n",
       "      <td>0.0430</td>\n",
       "      <td>0.0110</td>\n",
       "      <td>0.0110</td>\n",
       "    </tr>\n",
       "    <tr>\n",
       "      <th>5</th>\n",
       "      <td>2.0</td>\n",
       "      <td>4</td>\n",
       "      <td>rhs</td>\n",
       "      <td>0.1863</td>\n",
       "      <td>0.0300</td>\n",
       "      <td>0.0314</td>\n",
       "      <td>0.0048</td>\n",
       "      <td>0.0048</td>\n",
       "    </tr>\n",
       "    <tr>\n",
       "      <th>6</th>\n",
       "      <td>2.0</td>\n",
       "      <td>64</td>\n",
       "      <td>matrix</td>\n",
       "      <td>0.1626</td>\n",
       "      <td>0.0575</td>\n",
       "      <td>0.0743</td>\n",
       "      <td>0.0118</td>\n",
       "      <td>0.0044</td>\n",
       "    </tr>\n",
       "    <tr>\n",
       "      <th>7</th>\n",
       "      <td>2.0</td>\n",
       "      <td>64</td>\n",
       "      <td>rhs</td>\n",
       "      <td>0.2738</td>\n",
       "      <td>0.0731</td>\n",
       "      <td>0.0913</td>\n",
       "      <td>0.0116</td>\n",
       "      <td>0.0108</td>\n",
       "    </tr>\n",
       "  </tbody>\n",
       "</table>\n",
       "</div>"
      ]
     },
     "execution_count": 80,
     "metadata": {},
     "output_type": "execute_result"
    }
   ],
   "execution_count": 80
  },
  {
   "metadata": {
    "ExecuteTime": {
     "end_time": "2025-07-23T14:05:31.115760Z",
     "start_time": "2025-07-23T14:05:31.110874Z"
    }
   },
   "cell_type": "code",
   "source": [
    "# example table for root cut strength\n",
    "gens = [\"New\"] + test_generators + [\"Farkas\", \"None\"]\n",
    "out[[\"degree\", \"terms\", \"perturbation\"] + [f\"Root Cuts ({gen})\" for gen in gens]].round(4)"
   ],
   "id": "5d46ad1fc331d43",
   "outputs": [
    {
     "data": {
      "text/plain": [
       "   degree  terms perturbation  Root Cuts (New)  Root Cuts (NoDisjunction)  \\\n",
       "0     0.5      4       matrix           0.7326                     0.7325   \n",
       "1     0.5      4          rhs           0.5176                     0.4847   \n",
       "2     0.5     64       matrix           0.7358                     0.7359   \n",
       "3     0.5     64          rhs           0.5347                     0.5302   \n",
       "4     2.0      4       matrix           0.8024                     0.8039   \n",
       "5     2.0      4          rhs           0.5280                     0.5245   \n",
       "6     2.0     64       matrix           0.8061                     0.8024   \n",
       "7     2.0     64          rhs           0.5635                     0.5347   \n",
       "\n",
       "   Root Cuts (Farkas)  Root Cuts (None)  \n",
       "0              0.7362            0.7334  \n",
       "1              0.4965            0.5020  \n",
       "2              0.7340            0.7342  \n",
       "3              0.5269            0.4972  \n",
       "4              0.8041            0.8040  \n",
       "5              0.5289            0.5377  \n",
       "6              0.7939            0.8012  \n",
       "7              0.5317            0.5391  "
      ],
      "text/html": [
       "<div>\n",
       "<style scoped>\n",
       "    .dataframe tbody tr th:only-of-type {\n",
       "        vertical-align: middle;\n",
       "    }\n",
       "\n",
       "    .dataframe tbody tr th {\n",
       "        vertical-align: top;\n",
       "    }\n",
       "\n",
       "    .dataframe thead th {\n",
       "        text-align: right;\n",
       "    }\n",
       "</style>\n",
       "<table border=\"1\" class=\"dataframe\">\n",
       "  <thead>\n",
       "    <tr style=\"text-align: right;\">\n",
       "      <th></th>\n",
       "      <th>degree</th>\n",
       "      <th>terms</th>\n",
       "      <th>perturbation</th>\n",
       "      <th>Root Cuts (New)</th>\n",
       "      <th>Root Cuts (NoDisjunction)</th>\n",
       "      <th>Root Cuts (Farkas)</th>\n",
       "      <th>Root Cuts (None)</th>\n",
       "    </tr>\n",
       "  </thead>\n",
       "  <tbody>\n",
       "    <tr>\n",
       "      <th>0</th>\n",
       "      <td>0.5</td>\n",
       "      <td>4</td>\n",
       "      <td>matrix</td>\n",
       "      <td>0.7326</td>\n",
       "      <td>0.7325</td>\n",
       "      <td>0.7362</td>\n",
       "      <td>0.7334</td>\n",
       "    </tr>\n",
       "    <tr>\n",
       "      <th>1</th>\n",
       "      <td>0.5</td>\n",
       "      <td>4</td>\n",
       "      <td>rhs</td>\n",
       "      <td>0.5176</td>\n",
       "      <td>0.4847</td>\n",
       "      <td>0.4965</td>\n",
       "      <td>0.5020</td>\n",
       "    </tr>\n",
       "    <tr>\n",
       "      <th>2</th>\n",
       "      <td>0.5</td>\n",
       "      <td>64</td>\n",
       "      <td>matrix</td>\n",
       "      <td>0.7358</td>\n",
       "      <td>0.7359</td>\n",
       "      <td>0.7340</td>\n",
       "      <td>0.7342</td>\n",
       "    </tr>\n",
       "    <tr>\n",
       "      <th>3</th>\n",
       "      <td>0.5</td>\n",
       "      <td>64</td>\n",
       "      <td>rhs</td>\n",
       "      <td>0.5347</td>\n",
       "      <td>0.5302</td>\n",
       "      <td>0.5269</td>\n",
       "      <td>0.4972</td>\n",
       "    </tr>\n",
       "    <tr>\n",
       "      <th>4</th>\n",
       "      <td>2.0</td>\n",
       "      <td>4</td>\n",
       "      <td>matrix</td>\n",
       "      <td>0.8024</td>\n",
       "      <td>0.8039</td>\n",
       "      <td>0.8041</td>\n",
       "      <td>0.8040</td>\n",
       "    </tr>\n",
       "    <tr>\n",
       "      <th>5</th>\n",
       "      <td>2.0</td>\n",
       "      <td>4</td>\n",
       "      <td>rhs</td>\n",
       "      <td>0.5280</td>\n",
       "      <td>0.5245</td>\n",
       "      <td>0.5289</td>\n",
       "      <td>0.5377</td>\n",
       "    </tr>\n",
       "    <tr>\n",
       "      <th>6</th>\n",
       "      <td>2.0</td>\n",
       "      <td>64</td>\n",
       "      <td>matrix</td>\n",
       "      <td>0.8061</td>\n",
       "      <td>0.8024</td>\n",
       "      <td>0.7939</td>\n",
       "      <td>0.8012</td>\n",
       "    </tr>\n",
       "    <tr>\n",
       "      <th>7</th>\n",
       "      <td>2.0</td>\n",
       "      <td>64</td>\n",
       "      <td>rhs</td>\n",
       "      <td>0.5635</td>\n",
       "      <td>0.5347</td>\n",
       "      <td>0.5317</td>\n",
       "      <td>0.5391</td>\n",
       "    </tr>\n",
       "  </tbody>\n",
       "</table>\n",
       "</div>"
      ]
     },
     "execution_count": 81,
     "metadata": {},
     "output_type": "execute_result"
    }
   ],
   "execution_count": 81
  },
  {
   "metadata": {
    "ExecuteTime": {
     "end_time": "2025-07-23T14:05:31.255020Z",
     "start_time": "2025-07-23T14:05:31.250013Z"
    }
   },
   "cell_type": "code",
   "source": [
    "# example table for root cut generation time\n",
    "out[[\"degree\", \"terms\", \"perturbation\"] + [f\"rootDualBoundTime {gen}\" for gen in gens]].round(3)"
   ],
   "id": "b001c8164e6f51cc",
   "outputs": [
    {
     "data": {
      "text/plain": [
       "   degree  terms perturbation  rootDualBoundTime New  \\\n",
       "0     0.5      4       matrix                  1.394   \n",
       "1     0.5      4          rhs                  0.690   \n",
       "2     0.5     64       matrix                 11.878   \n",
       "3     0.5     64          rhs                  6.428   \n",
       "4     2.0      4       matrix                  2.450   \n",
       "5     2.0      4          rhs                  0.794   \n",
       "6     2.0     64       matrix                  9.564   \n",
       "7     2.0     64          rhs                  4.358   \n",
       "\n",
       "   rootDualBoundTime NoDisjunction  rootDualBoundTime Farkas  \\\n",
       "0                            0.480                     0.435   \n",
       "1                            0.297                     0.300   \n",
       "2                            2.135                     1.061   \n",
       "3                            0.744                     0.549   \n",
       "4                            0.377                     0.373   \n",
       "5                            0.248                     0.234   \n",
       "6                            1.704                     1.211   \n",
       "7                            0.546                     0.515   \n",
       "\n",
       "   rootDualBoundTime None  \n",
       "0                   0.314  \n",
       "1                   0.275  \n",
       "2                   0.336  \n",
       "3                   0.313  \n",
       "4                   0.296  \n",
       "5                   0.239  \n",
       "6                   0.288  \n",
       "7                   0.234  "
      ],
      "text/html": [
       "<div>\n",
       "<style scoped>\n",
       "    .dataframe tbody tr th:only-of-type {\n",
       "        vertical-align: middle;\n",
       "    }\n",
       "\n",
       "    .dataframe tbody tr th {\n",
       "        vertical-align: top;\n",
       "    }\n",
       "\n",
       "    .dataframe thead th {\n",
       "        text-align: right;\n",
       "    }\n",
       "</style>\n",
       "<table border=\"1\" class=\"dataframe\">\n",
       "  <thead>\n",
       "    <tr style=\"text-align: right;\">\n",
       "      <th></th>\n",
       "      <th>degree</th>\n",
       "      <th>terms</th>\n",
       "      <th>perturbation</th>\n",
       "      <th>rootDualBoundTime New</th>\n",
       "      <th>rootDualBoundTime NoDisjunction</th>\n",
       "      <th>rootDualBoundTime Farkas</th>\n",
       "      <th>rootDualBoundTime None</th>\n",
       "    </tr>\n",
       "  </thead>\n",
       "  <tbody>\n",
       "    <tr>\n",
       "      <th>0</th>\n",
       "      <td>0.5</td>\n",
       "      <td>4</td>\n",
       "      <td>matrix</td>\n",
       "      <td>1.394</td>\n",
       "      <td>0.480</td>\n",
       "      <td>0.435</td>\n",
       "      <td>0.314</td>\n",
       "    </tr>\n",
       "    <tr>\n",
       "      <th>1</th>\n",
       "      <td>0.5</td>\n",
       "      <td>4</td>\n",
       "      <td>rhs</td>\n",
       "      <td>0.690</td>\n",
       "      <td>0.297</td>\n",
       "      <td>0.300</td>\n",
       "      <td>0.275</td>\n",
       "    </tr>\n",
       "    <tr>\n",
       "      <th>2</th>\n",
       "      <td>0.5</td>\n",
       "      <td>64</td>\n",
       "      <td>matrix</td>\n",
       "      <td>11.878</td>\n",
       "      <td>2.135</td>\n",
       "      <td>1.061</td>\n",
       "      <td>0.336</td>\n",
       "    </tr>\n",
       "    <tr>\n",
       "      <th>3</th>\n",
       "      <td>0.5</td>\n",
       "      <td>64</td>\n",
       "      <td>rhs</td>\n",
       "      <td>6.428</td>\n",
       "      <td>0.744</td>\n",
       "      <td>0.549</td>\n",
       "      <td>0.313</td>\n",
       "    </tr>\n",
       "    <tr>\n",
       "      <th>4</th>\n",
       "      <td>2.0</td>\n",
       "      <td>4</td>\n",
       "      <td>matrix</td>\n",
       "      <td>2.450</td>\n",
       "      <td>0.377</td>\n",
       "      <td>0.373</td>\n",
       "      <td>0.296</td>\n",
       "    </tr>\n",
       "    <tr>\n",
       "      <th>5</th>\n",
       "      <td>2.0</td>\n",
       "      <td>4</td>\n",
       "      <td>rhs</td>\n",
       "      <td>0.794</td>\n",
       "      <td>0.248</td>\n",
       "      <td>0.234</td>\n",
       "      <td>0.239</td>\n",
       "    </tr>\n",
       "    <tr>\n",
       "      <th>6</th>\n",
       "      <td>2.0</td>\n",
       "      <td>64</td>\n",
       "      <td>matrix</td>\n",
       "      <td>9.564</td>\n",
       "      <td>1.704</td>\n",
       "      <td>1.211</td>\n",
       "      <td>0.288</td>\n",
       "    </tr>\n",
       "    <tr>\n",
       "      <th>7</th>\n",
       "      <td>2.0</td>\n",
       "      <td>64</td>\n",
       "      <td>rhs</td>\n",
       "      <td>4.358</td>\n",
       "      <td>0.546</td>\n",
       "      <td>0.515</td>\n",
       "      <td>0.234</td>\n",
       "    </tr>\n",
       "  </tbody>\n",
       "</table>\n",
       "</div>"
      ]
     },
     "execution_count": 82,
     "metadata": {},
     "output_type": "execute_result"
    }
   ],
   "execution_count": 82
  },
  {
   "metadata": {
    "ExecuteTime": {
     "end_time": "2025-07-23T14:05:31.460414Z",
     "start_time": "2025-07-23T14:05:31.452605Z"
    }
   },
   "cell_type": "code",
   "source": [
    "effect_df = full_df[full_df[\"instanceIndex\"] > 0]\n",
    "\n",
    "target_cols = [\"infeasibleToFeasibleTerms\", \"termRemainsFeasibleBasisInfeasible\", \"cutsChangedCoefficients\",\n",
    "               \"numCuts\", \"feasibleTermsPrunedByBound\"]\n",
    "end_cols = [\"infeasibleToFeasibleTerms\", \"termRemainsFeasibleBasisInfeasible\", \"cutsChangedCoefficientsRatio\", \"feasibleTermsPrunedByBound\"]\n",
    "\n",
    "gb = effect_df.groupby([\"perturbation\", \"degree\", \"terms\"]).agg(\n",
    "    {f\"{c} {gen}\": \"mean\" for gen in generators for c in target_cols if gen in [\"Disjunction\", \"NoDisjunction\", \"All\"]} | {\"instance\": \"nunique\", \"instanceIndex\": \"count\"}    \n",
    ")\n",
    "\n",
    "for gen in test_generators:\n",
    "    gb[f\"cutsChangedCoefficientsRatio {gen}\"] = gb[f\"cutsChangedCoefficients {gen}\"] / gb[f\"numCuts {gen}\"]\n",
    "    \n",
    "gb = gb[[f\"{c} {gen}\" for gen in generators for c in end_cols if gen in [\"Disjunction\", \"NoDisjunction\", \"All\"]] + [\"instance\", \"instanceIndex\"]]"
   ],
   "id": "22945c81a566c8d0",
   "outputs": [],
   "execution_count": 83
  },
  {
   "metadata": {
    "ExecuteTime": {
     "end_time": "2025-07-23T14:05:31.548312Z",
     "start_time": "2025-07-23T14:05:31.541094Z"
    }
   },
   "cell_type": "code",
   "source": [
    "# prune by bound higher for .5 degree makes sense given previous solutions more likely to be feasible\n",
    "gb.loc[[\"matrix\", \"rhs\"], [c for c in gb.columns if \" NoDisjunction\" in c or \"instance\" in c]].round(4)"
   ],
   "id": "4d7d6815b59c23f6",
   "outputs": [
    {
     "data": {
      "text/plain": [
       "                           infeasibleToFeasibleTerms NoDisjunction  \\\n",
       "perturbation degree terms                                            \n",
       "matrix       0.5    4                                       0.0000   \n",
       "                    64                                      1.1132   \n",
       "             2.0    4                                       0.0189   \n",
       "                    64                                      7.7075   \n",
       "rhs          0.5    4                                       0.0000   \n",
       "                    64                                      1.1224   \n",
       "             2.0    4                                       0.0000   \n",
       "                    64                                      2.1429   \n",
       "\n",
       "                           termRemainsFeasibleBasisInfeasible NoDisjunction  \\\n",
       "perturbation degree terms                                                     \n",
       "matrix       0.5    4                                                2.2736   \n",
       "                    64                                              20.8962   \n",
       "             2.0    4                                                2.9340   \n",
       "                    64                                              25.0094   \n",
       "rhs          0.5    4                                                3.6735   \n",
       "                    64                                              40.5714   \n",
       "             2.0    4                                                3.6735   \n",
       "                    64                                              36.9796   \n",
       "\n",
       "                           cutsChangedCoefficientsRatio NoDisjunction  \\\n",
       "perturbation degree terms                                               \n",
       "matrix       0.5    4                                          0.9271   \n",
       "                    64                                         0.9790   \n",
       "             2.0    4                                          0.9964   \n",
       "                    64                                         0.9995   \n",
       "rhs          0.5    4                                          0.0000   \n",
       "                    64                                         0.0000   \n",
       "             2.0    4                                          0.0000   \n",
       "                    64                                         0.0000   \n",
       "\n",
       "                           feasibleTermsPrunedByBound NoDisjunction  instance  \\\n",
       "perturbation degree terms                                                       \n",
       "matrix       0.5    4                                           0.0        45   \n",
       "                    64                                          0.0        45   \n",
       "             2.0    4                                           0.0        45   \n",
       "                    64                                          0.0        45   \n",
       "rhs          0.5    4                                           0.0        24   \n",
       "                    64                                          0.0        24   \n",
       "             2.0    4                                           0.0        24   \n",
       "                    64                                          0.0        24   \n",
       "\n",
       "                           instanceIndex  \n",
       "perturbation degree terms                 \n",
       "matrix       0.5    4                106  \n",
       "                    64               106  \n",
       "             2.0    4                106  \n",
       "                    64               106  \n",
       "rhs          0.5    4                 49  \n",
       "                    64                49  \n",
       "             2.0    4                 49  \n",
       "                    64                49  "
      ],
      "text/html": [
       "<div>\n",
       "<style scoped>\n",
       "    .dataframe tbody tr th:only-of-type {\n",
       "        vertical-align: middle;\n",
       "    }\n",
       "\n",
       "    .dataframe tbody tr th {\n",
       "        vertical-align: top;\n",
       "    }\n",
       "\n",
       "    .dataframe thead th {\n",
       "        text-align: right;\n",
       "    }\n",
       "</style>\n",
       "<table border=\"1\" class=\"dataframe\">\n",
       "  <thead>\n",
       "    <tr style=\"text-align: right;\">\n",
       "      <th></th>\n",
       "      <th></th>\n",
       "      <th></th>\n",
       "      <th>infeasibleToFeasibleTerms NoDisjunction</th>\n",
       "      <th>termRemainsFeasibleBasisInfeasible NoDisjunction</th>\n",
       "      <th>cutsChangedCoefficientsRatio NoDisjunction</th>\n",
       "      <th>feasibleTermsPrunedByBound NoDisjunction</th>\n",
       "      <th>instance</th>\n",
       "      <th>instanceIndex</th>\n",
       "    </tr>\n",
       "    <tr>\n",
       "      <th>perturbation</th>\n",
       "      <th>degree</th>\n",
       "      <th>terms</th>\n",
       "      <th></th>\n",
       "      <th></th>\n",
       "      <th></th>\n",
       "      <th></th>\n",
       "      <th></th>\n",
       "      <th></th>\n",
       "    </tr>\n",
       "  </thead>\n",
       "  <tbody>\n",
       "    <tr>\n",
       "      <th rowspan=\"4\" valign=\"top\">matrix</th>\n",
       "      <th rowspan=\"2\" valign=\"top\">0.5</th>\n",
       "      <th>4</th>\n",
       "      <td>0.0000</td>\n",
       "      <td>2.2736</td>\n",
       "      <td>0.9271</td>\n",
       "      <td>0.0</td>\n",
       "      <td>45</td>\n",
       "      <td>106</td>\n",
       "    </tr>\n",
       "    <tr>\n",
       "      <th>64</th>\n",
       "      <td>1.1132</td>\n",
       "      <td>20.8962</td>\n",
       "      <td>0.9790</td>\n",
       "      <td>0.0</td>\n",
       "      <td>45</td>\n",
       "      <td>106</td>\n",
       "    </tr>\n",
       "    <tr>\n",
       "      <th rowspan=\"2\" valign=\"top\">2.0</th>\n",
       "      <th>4</th>\n",
       "      <td>0.0189</td>\n",
       "      <td>2.9340</td>\n",
       "      <td>0.9964</td>\n",
       "      <td>0.0</td>\n",
       "      <td>45</td>\n",
       "      <td>106</td>\n",
       "    </tr>\n",
       "    <tr>\n",
       "      <th>64</th>\n",
       "      <td>7.7075</td>\n",
       "      <td>25.0094</td>\n",
       "      <td>0.9995</td>\n",
       "      <td>0.0</td>\n",
       "      <td>45</td>\n",
       "      <td>106</td>\n",
       "    </tr>\n",
       "    <tr>\n",
       "      <th rowspan=\"4\" valign=\"top\">rhs</th>\n",
       "      <th rowspan=\"2\" valign=\"top\">0.5</th>\n",
       "      <th>4</th>\n",
       "      <td>0.0000</td>\n",
       "      <td>3.6735</td>\n",
       "      <td>0.0000</td>\n",
       "      <td>0.0</td>\n",
       "      <td>24</td>\n",
       "      <td>49</td>\n",
       "    </tr>\n",
       "    <tr>\n",
       "      <th>64</th>\n",
       "      <td>1.1224</td>\n",
       "      <td>40.5714</td>\n",
       "      <td>0.0000</td>\n",
       "      <td>0.0</td>\n",
       "      <td>24</td>\n",
       "      <td>49</td>\n",
       "    </tr>\n",
       "    <tr>\n",
       "      <th rowspan=\"2\" valign=\"top\">2.0</th>\n",
       "      <th>4</th>\n",
       "      <td>0.0000</td>\n",
       "      <td>3.6735</td>\n",
       "      <td>0.0000</td>\n",
       "      <td>0.0</td>\n",
       "      <td>24</td>\n",
       "      <td>49</td>\n",
       "    </tr>\n",
       "    <tr>\n",
       "      <th>64</th>\n",
       "      <td>2.1429</td>\n",
       "      <td>36.9796</td>\n",
       "      <td>0.0000</td>\n",
       "      <td>0.0</td>\n",
       "      <td>24</td>\n",
       "      <td>49</td>\n",
       "    </tr>\n",
       "  </tbody>\n",
       "</table>\n",
       "</div>"
      ]
     },
     "execution_count": 84,
     "metadata": {},
     "output_type": "execute_result"
    }
   ],
   "execution_count": 84
  },
  {
   "metadata": {
    "ExecuteTime": {
     "end_time": "2025-07-23T14:05:31.664937Z",
     "start_time": "2025-07-23T14:05:31.663163Z"
    }
   },
   "cell_type": "code",
   "source": "# gb.loc[\"objective\", [c for c in gb.columns if \" Disjunction\" in c or \"instance\" in c]]",
   "id": "4e1d0c2e22271925",
   "outputs": [],
   "execution_count": 85
  },
  {
   "metadata": {
    "ExecuteTime": {
     "end_time": "2025-07-23T14:05:31.731228Z",
     "start_time": "2025-07-23T14:05:31.729690Z"
    }
   },
   "cell_type": "code",
   "source": "# gb.loc[\"rhs\", [c for c in gb.columns if \" NoDisjunction\" in c  or \"instance\" in c]].round(4)",
   "id": "9202bc3975b57010",
   "outputs": [],
   "execution_count": 86
  },
  {
   "cell_type": "markdown",
   "source": "## Check Termination Stats",
   "metadata": {
    "collapsed": false
   },
   "id": "33cb2bd47f9b2e99"
  },
  {
   "metadata": {
    "ExecuteTime": {
     "end_time": "2025-07-23T14:05:31.873515Z",
     "start_time": "2025-07-23T14:05:31.857906Z"
    }
   },
   "cell_type": "code",
   "source": [
    "# only check perturbed instances that solve to optimality and VPC didn't find optimal solution\n",
    "mask = (\n",
    "    (df[\"Disjunction (New)\"] < 0.9999) & (df[\"instanceIndex\"] > 0)\n",
    "    & np.logical_and.reduce([(optimality_gap(df, gen) <= 1e-4) | (pd.isnull(optimality_gap(df, gen))) for gen in generators])\n",
    "    & (df[\"terminationTime None\"] > min_termination_time) & (df[\"perturbation\"] != \"objective\")\n",
    ")\n",
    "# if remove_status_changes:\n",
    "#     mask = mask & (df[\"infeasibleToFeasibleTermsRatio Farkas\"] == 0) & (df[\"feasibleToInfeasibleTermsRatio Farkas\"] == 0)\n",
    "\n",
    "gap_df = df.loc[mask]\n",
    "\n",
    "# # reduce to only ones where all terms and degrees are present\n",
    "# triples = (gap_df.groupby(\n",
    "#         [\"instance\", \"perturbation\", \"instanceIndex\"]\n",
    "#     ).size().reset_index().rename(columns={0: \"count\"}))\n",
    "# triples = triples[triples[\"count\"] == len(degrees) * len(term_list) * len(seed_idxs)]\n",
    "# gap_df = gap_df.merge(triples, on=[\"instance\", \"perturbation\", \"instanceIndex\"])"
   ],
   "id": "2338c59b55c8a0ab",
   "outputs": [],
   "execution_count": 87
  },
  {
   "metadata": {
    "ExecuteTime": {
     "end_time": "2025-07-23T14:05:31.941737Z",
     "start_time": "2025-07-23T14:05:31.929497Z"
    }
   },
   "cell_type": "code",
   "source": [
    "def plot_distributions(histogram_df, feature, bins=100, xlim=(-2, 1), ylim=(0, 1), perturbation=None, exclude_perturbation=False, title_x=.525, relative=True):\n",
    "    \"\"\"\n",
    "    Generate a grid of cumulative distribution functions (CDFs) for a given feature,\n",
    "    one for each combination of terms and degrees.\n",
    "    \"\"\"\n",
    "\n",
    "    unique_degrees = histogram_df['degree'].sort_values(ascending=False).unique()\n",
    "    unique_terms = histogram_df['terms'].sort_values().unique()\n",
    "\n",
    "    fig, axes = plt.subplots(len(unique_degrees), len(unique_terms),\n",
    "                             figsize=(4 * len(unique_terms), 4 * len(unique_degrees)))\n",
    "    \n",
    "    compare_gens = [gen for gen in generators if gen != \"None\" and gen != \"New\"]\n",
    "\n",
    "    for i, degree in enumerate(unique_degrees):\n",
    "        for j, terms in enumerate(unique_terms):\n",
    "            ax = axes[i, j] if len(unique_degrees) > 1 and len(unique_terms) > 1 else axes[i] if len(unique_degrees) > 1 \\\n",
    "                else axes[j] if len(unique_terms) > 1 else axes\n",
    "\n",
    "            subset_df = histogram_df[(histogram_df['degree'] == degree) & (histogram_df['terms'] == terms)]\n",
    "\n",
    "            if perturbation is not None:\n",
    "                subset_df = subset_df[subset_df[\"perturbation\"] == perturbation] if not exclude_perturbation \\\n",
    "                    else subset_df[subset_df[\"perturbation\"] != perturbation]\n",
    "\n",
    "            # Compute relative improvements dynamically from generators\n",
    "            relative_improvements = {gen: subset_df[f\"{feature} {gen}\"] for gen in compare_gens} if not relative else \\\n",
    "                {gen: -(subset_df[f\"{feature} None\"] - subset_df[f\"{feature} {gen}\"]) / subset_df[f\"{feature} None\"] for gen in compare_gens}\n",
    "            \n",
    "            # filter out nan's and drop groups that are emptied - e.g. any supporting for objective perturbations or matrix supporting for rhs\n",
    "            relative_improvements = {gen: ri[ri.notna()] for gen, ri in relative_improvements.items() if ri.notna().sum() > 1}\n",
    "\n",
    "            x = np.linspace(xlim[0], xlim[1], bins)\n",
    "\n",
    "            # Compute CDFs\n",
    "            cdfs = {\n",
    "                gen: np.array([(ri <= val).sum() / len(ri) for val in x])\n",
    "                for gen, ri in relative_improvements.items()\n",
    "            }\n",
    "\n",
    "            # Plot each generator's CDF with distinct color\n",
    "            cmap = plt.get_cmap(\"tab10\")\n",
    "            for gen in cdfs:\n",
    "                ax.plot(x, cdfs[gen], label=cat_map.get(gen, gen), color=cmap(generators.index(gen)))\n",
    "\n",
    "            # Optionally fill region where first generator dominates all others\n",
    "            primary = \"Farkas\"\n",
    "            others = [g for g in cdfs if g != \"Farkas\"]\n",
    "            fill_region = [max(cdfs[gen][k] for gen in others) > cdfs[primary][k] for k in range(len(x))]\n",
    "            ax.fill_between(x, cdfs[primary], np.maximum.reduce([cdfs[gen] for gen in others]),\n",
    "                            where=fill_region,\n",
    "                            facecolor='yellow', alpha=0.7,\n",
    "                            label=f'Improvement over\\n{cat_map.get(primary, primary)}')\n",
    "\n",
    "            ax.set_xlim(xlim)\n",
    "            ax.set_ylim(ylim)\n",
    "            # if not relative:\n",
    "            #     # set x-axis to log scale if not relative\n",
    "            #     ax.set_xscale('log')\n",
    "            ax.set_title(f\"{degree} Degree{'s' if degree > 1 else ''}, {terms} Terms\")\n",
    "            if j == 0:\n",
    "                ax.set_ylabel(\"Probability\")\n",
    "            if i == len(unique_degrees) - 1:\n",
    "                ax.set_xlabel(\"Relative Change\" if relative else \"Solve Time (s)\")\n",
    "\n",
    "    # Shared legend\n",
    "    handles, labels = ax.get_legend_handles_labels()\n",
    "    fig.legend(handles, labels, loc='lower center', bbox_to_anchor=(title_x, -0.1), ncol=3)\n",
    "\n",
    "    fig.suptitle(f\"CDF of {'Relative Change in ' if relative else ''}Solve {label[feature]}\"\n",
    "                 f\"{' for ' + (perturbation.title() if perturbation != 'rhs' else perturbation.upper()) + ' Perturbations' if perturbation else ''}\", x=title_x)\n",
    "    plt.tight_layout()\n",
    "\n",
    "    plt.savefig(os.path.join(out_fldr, f\"cdf_{feature}{'_' + perturbation if perturbation else ''}{'_relative_improvements' if relative else ''}.png\"), dpi=1200, bbox_inches='tight')\n",
    "    plt.show()"
   ],
   "id": "f327e3a2378d2980",
   "outputs": [],
   "execution_count": 88
  },
  {
   "metadata": {
    "ExecuteTime": {
     "end_time": "2025-07-23T14:05:32.010686Z",
     "start_time": "2025-07-23T14:05:32.008535Z"
    }
   },
   "cell_type": "code",
   "source": [
    "# expect that fewer terms better given last paper shows generation time paramount\n",
    "# time outweighs strength, so although relatively more bound closed at 2 degrees, more terms need tightening, which is very noticeable for supporting methods \n",
    "# then makes sense that for few terms and degrees that supporting methods do better but more more terms and degrees prune is better since its quick\n",
    "# plot_distributions(gap_df, \"terminationTime\", xlim=(100, 3600), ylim=(.6, 1), bins=350, relative=False)\n",
    "# plot_distributions(gap_df, \"terminationTime\", xlim=(-1, 0), ylim=(0, .5), bins=1000, relative=True)"
   ],
   "id": "7173676b6d53256f",
   "outputs": [],
   "execution_count": 89
  },
  {
   "metadata": {
    "ExecuteTime": {
     "end_time": "2025-07-23T14:05:32.059387Z",
     "start_time": "2025-07-23T14:05:32.057141Z"
    }
   },
   "cell_type": "code",
   "source": [
    "# support methods outperform default parameterization more often for fewer terms than they do for more, which makes sense since generation time penalized less\n",
    "\n",
    "# plot_distributions(gap_df, \"terminationTime\", xlim=(100, 3600), ylim=(.6, 1), bins=350, relative=False, perturbation=\"matrix\")\n",
    "# plot_distributions(gap_df, \"terminationTime\", xlim=(-1, 0), ylim=(0, .5), bins=1000, relative=True, perturbation=\"matrix\")"
   ],
   "id": "64d0739a001249be",
   "outputs": [],
   "execution_count": 90
  },
  {
   "metadata": {
    "ExecuteTime": {
     "end_time": "2025-07-23T14:05:32.102744Z",
     "start_time": "2025-07-23T14:05:32.101432Z"
    }
   },
   "cell_type": "code",
   "source": [
    "# more terms -> more opportunity for incumbent to prune (thus more effective)\n",
    "# fewer degrees -> no relationship in table for frequency, but .5, 64 did have most opportunity, so it makes sense it sees most improvement \n",
    "# wouldn't expect such a separation since the methods are similarly fast and pruning only makes it stronger\n",
    "# plot_distributions(gap_df, \"terminationTime\", xlim=(100, 3600), ylim=(.6, 1), bins=350, relative=False, perturbation=\"objective\")\n",
    "# plot_distributions(gap_df, \"terminationTime\", xlim=(-1, 0), ylim=(0, .5), bins=1000, relative=True, perturbation=\"objective\")"
   ],
   "id": "1ac58b01ad60cfc6",
   "outputs": [],
   "execution_count": 91
  },
  {
   "metadata": {
    "ExecuteTime": {
     "end_time": "2025-07-23T14:05:32.149955Z",
     "start_time": "2025-07-23T14:05:32.147864Z"
    }
   },
   "cell_type": "code",
   "source": [
    "# not as surprising that we do better for more degrees given more opportunity for strengthening with support methods while root cut generation time does not vary much\n",
    "# makes sense then that support methods do better than pruning alone for more degrees\n",
    "# for fewer degrees, makes sense that pruning is better since we're still doing roughly the same work to generating supporting cuts as with more degrees but have less opportunity\n",
    "# would have expected prune and support to do better than support since its as strong but quicker\n",
    "# plot_distributions(gap_df, \"terminationTime\", xlim=(100, 3600), ylim=(.6, 1), bins=350, relative=False, perturbation=\"rhs\")\n",
    "# plot_distributions(gap_df, \"terminationTime\", xlim=(-1, 0), ylim=(0, .5), bins=1000, relative=True, perturbation=\"rhs\")"
   ],
   "id": "bbaafad6bf001222",
   "outputs": [],
   "execution_count": 92
  },
  {
   "metadata": {
    "ExecuteTime": {
     "end_time": "2025-07-23T14:05:32.194945Z",
     "start_time": "2025-07-23T14:05:32.192036Z"
    }
   },
   "cell_type": "code",
   "source": [
    "def rename_cols(cols, feature):\n",
    "    new_cols = []\n",
    "    for col in cols:\n",
    "        if f\"{feature}Win\" in col:\n",
    "            col = col.replace(f\"{feature}Win\", f\"{label[feature]} Win % \")\n",
    "        elif \"instanceIndex\" in col:\n",
    "            col = col.replace(\"instanceIndex\", \"Test Instances\")\n",
    "        elif \"instance\" in col:\n",
    "            col = col.replace(\"instance\", \"Base Instances\")\n",
    "        new_cols.append(col)\n",
    "    return new_cols"
   ],
   "id": "32dc8780b9e2113d",
   "outputs": [],
   "execution_count": 93
  },
  {
   "metadata": {
    "ExecuteTime": {
     "end_time": "2025-07-23T15:44:49.727972Z",
     "start_time": "2025-07-23T15:44:49.715229Z"
    }
   },
   "cell_type": "code",
   "source": [
    "def get_wins(feature, grouping):\n",
    "    \"\"\"\n",
    "    \n",
    "    :param feature: \"nodes\", \"terminationTime\", \"terminationTimeSansVpc\"\n",
    "    :param grouping: \"perturbation\", \"terms\", \"bracket\", \"degree\" \n",
    "    :return: \n",
    "    \"\"\"\n",
    "\n",
    "    # get the win percentages for each feature on average and broken down by grouping type\n",
    "    features = [feature]\n",
    "    keys = [] # removed perturbation since patterns did not exist - finding them means finding triples which just makes the test set too small\n",
    "    wins = {}\n",
    "    \n",
    "    for feature in features:\n",
    "        \n",
    "        # define aggregating operations\n",
    "        aggregations = {f\"{feature}Win{gen}\": \"mean\" for gen in [\"NoneVsAll\", \"NoDisjunctionVsAll\", \"New\"] + test_generators + [\"Farkas\", \"Parametric\", \"Any\"]}  # \"Strengthened\", \n",
    "        if feature == features[-1]:\n",
    "            aggregations = aggregations | {\"instance\": \"nunique\", \"instanceIndex\": \"count\"}\n",
    "        \n",
    "        # find the average wins for the feature grouped by degree and terms\n",
    "        feature_wins = gap_df[gap_df[\"perturbation\"] != \"bound\"].groupby(keys + [grouping]).agg(aggregations)\n",
    "        \n",
    "        # clean up formatting\n",
    "        feature_wins.columns = rename_cols(feature_wins.columns, feature)\n",
    "        win_cols = [c for c in feature_wins.columns if \"Win\" in c]\n",
    "        feature_wins[win_cols] = feature_wins[win_cols].applymap(lambda x: round(x * 100, 2))\n",
    "        instance_cols = [c for c in feature_wins.columns if \"instance\" in c]\n",
    "        feature_wins[instance_cols] = feature_wins[instance_cols].applymap(lambda x: int(x))\n",
    "        \n",
    "        # save the df\n",
    "        wins[feature] = feature_wins\n",
    "        \n",
    "    # bring them all together now\n",
    "    all_wins = pd.concat(wins.values(), axis=1).sort_values(keys + [grouping], ascending=[c != \"bracket\" for c in keys + [grouping]]).reset_index()\n",
    "    all_wins.to_csv(os.path.join(out_fldr, f\"branch_and_bound_wins_{feature}_{grouping}.csv\"), index=False, mode=\"w\")\n",
    "    all_wins\n",
    "    return all_wins"
   ],
   "id": "6d89e35900caab92",
   "outputs": [],
   "execution_count": 113
  },
  {
   "metadata": {
    "ExecuteTime": {
     "end_time": "2025-07-23T15:44:50.016289Z",
     "start_time": "2025-07-23T15:44:49.988001Z"
    }
   },
   "cell_type": "code",
   "source": [
    "# general trends\n",
    "# some form of disjunctive cuts leads to a significant improvement in nodes and time, which makes sense given the depth of the cuts\n",
    "# disjunctive methods are all somewhat orthogonal to each other - motivates figuring out when to use when\n",
    "# this includes strengthening\n",
    "# to get a decent sample size, the same instances aren't included in both subsets here, so that can also throw things off\n",
    "# todo it's fine that we don't see improvements in 4 terms at root. Disjunctive cuts are still known for their strength, which often comes down to their refining deeper in the tree (aleks) and we'll see benefit of them in later results\n",
    "\n",
    "\n",
    "# rhs had better root node strength than matrix on average for parametric disjunctive cuts -> it does better\n",
    "# in both nodes and time, farkas degrades more than strengthening does\n",
    "# strengthening reduces nodes compared to Farkas\n",
    "# would have expected more for matrix perturbations given more reparameterization, but prachi shows even if they are tighter that doesn't mean smaller trees\n",
    "get_wins(\"nodes\", \"perturbation\")"
   ],
   "id": "117f171d96062ce8",
   "outputs": [
    {
     "data": {
      "text/plain": [
       "  perturbation  Nodes Processed Win % NoneVsAll  \\\n",
       "0       matrix                            13.91   \n",
       "1          rhs                            13.20   \n",
       "\n",
       "   Nodes Processed Win % NoDisjunctionVsAll  Nodes Processed Win % New  \\\n",
       "0                                      15.0                      35.87   \n",
       "1                                      14.8                      34.00   \n",
       "\n",
       "   Nodes Processed Win % NoDisjunction  Nodes Processed Win % Farkas  \\\n",
       "0                                38.91                          36.3   \n",
       "1                                41.20                          38.0   \n",
       "\n",
       "   Nodes Processed Win % Parametric  Nodes Processed Win % Any  \\\n",
       "0                             52.39                       60.0   \n",
       "1                             53.60                       59.6   \n",
       "\n",
       "   Base Instances  Test Instances  \n",
       "0              89             460  \n",
       "1              59             250  "
      ],
      "text/html": [
       "<div>\n",
       "<style scoped>\n",
       "    .dataframe tbody tr th:only-of-type {\n",
       "        vertical-align: middle;\n",
       "    }\n",
       "\n",
       "    .dataframe tbody tr th {\n",
       "        vertical-align: top;\n",
       "    }\n",
       "\n",
       "    .dataframe thead th {\n",
       "        text-align: right;\n",
       "    }\n",
       "</style>\n",
       "<table border=\"1\" class=\"dataframe\">\n",
       "  <thead>\n",
       "    <tr style=\"text-align: right;\">\n",
       "      <th></th>\n",
       "      <th>perturbation</th>\n",
       "      <th>Nodes Processed Win % NoneVsAll</th>\n",
       "      <th>Nodes Processed Win % NoDisjunctionVsAll</th>\n",
       "      <th>Nodes Processed Win % New</th>\n",
       "      <th>Nodes Processed Win % NoDisjunction</th>\n",
       "      <th>Nodes Processed Win % Farkas</th>\n",
       "      <th>Nodes Processed Win % Parametric</th>\n",
       "      <th>Nodes Processed Win % Any</th>\n",
       "      <th>Base Instances</th>\n",
       "      <th>Test Instances</th>\n",
       "    </tr>\n",
       "  </thead>\n",
       "  <tbody>\n",
       "    <tr>\n",
       "      <th>0</th>\n",
       "      <td>matrix</td>\n",
       "      <td>13.91</td>\n",
       "      <td>15.0</td>\n",
       "      <td>35.87</td>\n",
       "      <td>38.91</td>\n",
       "      <td>36.3</td>\n",
       "      <td>52.39</td>\n",
       "      <td>60.0</td>\n",
       "      <td>89</td>\n",
       "      <td>460</td>\n",
       "    </tr>\n",
       "    <tr>\n",
       "      <th>1</th>\n",
       "      <td>rhs</td>\n",
       "      <td>13.20</td>\n",
       "      <td>14.8</td>\n",
       "      <td>34.00</td>\n",
       "      <td>41.20</td>\n",
       "      <td>38.0</td>\n",
       "      <td>53.60</td>\n",
       "      <td>59.6</td>\n",
       "      <td>59</td>\n",
       "      <td>250</td>\n",
       "    </tr>\n",
       "  </tbody>\n",
       "</table>\n",
       "</div>"
      ]
     },
     "execution_count": 114,
     "metadata": {},
     "output_type": "execute_result"
    }
   ],
   "execution_count": 114
  },
  {
   "metadata": {
    "ExecuteTime": {
     "end_time": "2025-07-23T15:44:50.351755Z",
     "start_time": "2025-07-23T15:44:50.339317Z"
    }
   },
   "cell_type": "code",
   "source": [
    "# in both nodes and time, farkas degrades more than strengthening does\n",
    "# ratio of strengthening wins to farkas wins increases for matrix but reduces for rhs regarding time -> follows aleks pattern that dense cuts slow down LP solves thus run time\n",
    "# higher valued new for nodes leads to lower valued new for time for same reason\n",
    "# ratio of parametric wins to any wins increases from nodes to time for same reason\n",
    "get_wins(\"terminationTime\", \"perturbation\")"
   ],
   "id": "c82e00d9b666bd9",
   "outputs": [
    {
     "data": {
      "text/plain": [
       "  perturbation  Time Win % NoneVsAll  Time Win % NoDisjunctionVsAll  \\\n",
       "0       matrix                 24.78                          22.39   \n",
       "1          rhs                 18.40                          18.40   \n",
       "\n",
       "   Time Win % New  Time Win % NoDisjunction  Time Win % Farkas  \\\n",
       "0           25.43                      40.0              36.52   \n",
       "1           30.00                      39.2              42.80   \n",
       "\n",
       "   Time Win % Parametric  Time Win % Any  Base Instances  Test Instances  \n",
       "0                  54.57           59.78              89             460  \n",
       "1                  56.00           61.60              59             250  "
      ],
      "text/html": [
       "<div>\n",
       "<style scoped>\n",
       "    .dataframe tbody tr th:only-of-type {\n",
       "        vertical-align: middle;\n",
       "    }\n",
       "\n",
       "    .dataframe tbody tr th {\n",
       "        vertical-align: top;\n",
       "    }\n",
       "\n",
       "    .dataframe thead th {\n",
       "        text-align: right;\n",
       "    }\n",
       "</style>\n",
       "<table border=\"1\" class=\"dataframe\">\n",
       "  <thead>\n",
       "    <tr style=\"text-align: right;\">\n",
       "      <th></th>\n",
       "      <th>perturbation</th>\n",
       "      <th>Time Win % NoneVsAll</th>\n",
       "      <th>Time Win % NoDisjunctionVsAll</th>\n",
       "      <th>Time Win % New</th>\n",
       "      <th>Time Win % NoDisjunction</th>\n",
       "      <th>Time Win % Farkas</th>\n",
       "      <th>Time Win % Parametric</th>\n",
       "      <th>Time Win % Any</th>\n",
       "      <th>Base Instances</th>\n",
       "      <th>Test Instances</th>\n",
       "    </tr>\n",
       "  </thead>\n",
       "  <tbody>\n",
       "    <tr>\n",
       "      <th>0</th>\n",
       "      <td>matrix</td>\n",
       "      <td>24.78</td>\n",
       "      <td>22.39</td>\n",
       "      <td>25.43</td>\n",
       "      <td>40.0</td>\n",
       "      <td>36.52</td>\n",
       "      <td>54.57</td>\n",
       "      <td>59.78</td>\n",
       "      <td>89</td>\n",
       "      <td>460</td>\n",
       "    </tr>\n",
       "    <tr>\n",
       "      <th>1</th>\n",
       "      <td>rhs</td>\n",
       "      <td>18.40</td>\n",
       "      <td>18.40</td>\n",
       "      <td>30.00</td>\n",
       "      <td>39.2</td>\n",
       "      <td>42.80</td>\n",
       "      <td>56.00</td>\n",
       "      <td>61.60</td>\n",
       "      <td>59</td>\n",
       "      <td>250</td>\n",
       "    </tr>\n",
       "  </tbody>\n",
       "</table>\n",
       "</div>"
      ]
     },
     "execution_count": 115,
     "metadata": {},
     "output_type": "execute_result"
    }
   ],
   "execution_count": 115
  },
  {
   "metadata": {
    "ExecuteTime": {
     "end_time": "2025-07-23T15:44:50.553004Z",
     "start_time": "2025-07-23T15:44:50.534701Z"
    }
   },
   "cell_type": "code",
   "source": [
    "# more degree, more impact strengthening has over farkas, this supporting parametric cuts improve relative to farkas\n",
    "# farkas loses more often for more degrees in line with previous paper\n",
    "# parameterization wins less often for more degrees (even if cuts tight, further from LP relaxation solution)\n",
    "# for same reason, using new becomes more advantageous for more degrees\n",
    "# would have expected supporting parametric cuts to degrade with more degrees, albeit less slowly than farkas, but it doesn't, which is reasonable here since the disjunctions for 2 degrees appear to be stronger than for .5\n",
    "get_wins(\"nodes\", \"degree\")"
   ],
   "id": "7e27a7d8276d4fc5",
   "outputs": [
    {
     "data": {
      "text/plain": [
       "   degree  Nodes Processed Win % NoneVsAll  \\\n",
       "0     0.5                            14.88   \n",
       "1     2.0                            12.00   \n",
       "\n",
       "   Nodes Processed Win % NoDisjunctionVsAll  Nodes Processed Win % New  \\\n",
       "0                                     13.41                       33.9   \n",
       "1                                     17.00                       37.0   \n",
       "\n",
       "   Nodes Processed Win % NoDisjunction  Nodes Processed Win % Farkas  \\\n",
       "0                                38.05                         38.54   \n",
       "1                                42.00                         34.67   \n",
       "\n",
       "   Nodes Processed Win % Parametric  Nodes Processed Win % Any  \\\n",
       "0                             53.17                      59.27   \n",
       "1                             52.33                      60.67   \n",
       "\n",
       "   Base Instances  Test Instances  \n",
       "0              77             410  \n",
       "1              64             300  "
      ],
      "text/html": [
       "<div>\n",
       "<style scoped>\n",
       "    .dataframe tbody tr th:only-of-type {\n",
       "        vertical-align: middle;\n",
       "    }\n",
       "\n",
       "    .dataframe tbody tr th {\n",
       "        vertical-align: top;\n",
       "    }\n",
       "\n",
       "    .dataframe thead th {\n",
       "        text-align: right;\n",
       "    }\n",
       "</style>\n",
       "<table border=\"1\" class=\"dataframe\">\n",
       "  <thead>\n",
       "    <tr style=\"text-align: right;\">\n",
       "      <th></th>\n",
       "      <th>degree</th>\n",
       "      <th>Nodes Processed Win % NoneVsAll</th>\n",
       "      <th>Nodes Processed Win % NoDisjunctionVsAll</th>\n",
       "      <th>Nodes Processed Win % New</th>\n",
       "      <th>Nodes Processed Win % NoDisjunction</th>\n",
       "      <th>Nodes Processed Win % Farkas</th>\n",
       "      <th>Nodes Processed Win % Parametric</th>\n",
       "      <th>Nodes Processed Win % Any</th>\n",
       "      <th>Base Instances</th>\n",
       "      <th>Test Instances</th>\n",
       "    </tr>\n",
       "  </thead>\n",
       "  <tbody>\n",
       "    <tr>\n",
       "      <th>0</th>\n",
       "      <td>0.5</td>\n",
       "      <td>14.88</td>\n",
       "      <td>13.41</td>\n",
       "      <td>33.9</td>\n",
       "      <td>38.05</td>\n",
       "      <td>38.54</td>\n",
       "      <td>53.17</td>\n",
       "      <td>59.27</td>\n",
       "      <td>77</td>\n",
       "      <td>410</td>\n",
       "    </tr>\n",
       "    <tr>\n",
       "      <th>1</th>\n",
       "      <td>2.0</td>\n",
       "      <td>12.00</td>\n",
       "      <td>17.00</td>\n",
       "      <td>37.0</td>\n",
       "      <td>42.00</td>\n",
       "      <td>34.67</td>\n",
       "      <td>52.33</td>\n",
       "      <td>60.67</td>\n",
       "      <td>64</td>\n",
       "      <td>300</td>\n",
       "    </tr>\n",
       "  </tbody>\n",
       "</table>\n",
       "</div>"
      ]
     },
     "execution_count": 116,
     "metadata": {},
     "output_type": "execute_result"
    }
   ],
   "execution_count": 116
  },
  {
   "metadata": {
    "ExecuteTime": {
     "end_time": "2025-07-23T15:44:50.818334Z",
     "start_time": "2025-07-23T15:44:50.808144Z"
    }
   },
   "cell_type": "code",
   "source": [
    "# we don't see a clear pattern here, but again that's not all that surprising given the unknown nature of when disjunctive cuts improve both nodes and run time (again citing aleks' paper)\n",
    "get_wins(\"terminationTime\", \"degree\")"
   ],
   "id": "33e1e7cc96b35883",
   "outputs": [
    {
     "data": {
      "text/plain": [
       "   degree  Time Win % NoneVsAll  Time Win % NoDisjunctionVsAll  \\\n",
       "0     0.5                 23.66                          20.73   \n",
       "1     2.0                 21.00                          21.33   \n",
       "\n",
       "   Time Win % New  Time Win % NoDisjunction  Time Win % Farkas  \\\n",
       "0           26.34                     40.24               37.8   \n",
       "1           28.00                     39.00               40.0   \n",
       "\n",
       "   Time Win % Parametric  Time Win % Any  Base Instances  Test Instances  \n",
       "0                  55.37           61.22              77             410  \n",
       "1                  54.67           59.33              64             300  "
      ],
      "text/html": [
       "<div>\n",
       "<style scoped>\n",
       "    .dataframe tbody tr th:only-of-type {\n",
       "        vertical-align: middle;\n",
       "    }\n",
       "\n",
       "    .dataframe tbody tr th {\n",
       "        vertical-align: top;\n",
       "    }\n",
       "\n",
       "    .dataframe thead th {\n",
       "        text-align: right;\n",
       "    }\n",
       "</style>\n",
       "<table border=\"1\" class=\"dataframe\">\n",
       "  <thead>\n",
       "    <tr style=\"text-align: right;\">\n",
       "      <th></th>\n",
       "      <th>degree</th>\n",
       "      <th>Time Win % NoneVsAll</th>\n",
       "      <th>Time Win % NoDisjunctionVsAll</th>\n",
       "      <th>Time Win % New</th>\n",
       "      <th>Time Win % NoDisjunction</th>\n",
       "      <th>Time Win % Farkas</th>\n",
       "      <th>Time Win % Parametric</th>\n",
       "      <th>Time Win % Any</th>\n",
       "      <th>Base Instances</th>\n",
       "      <th>Test Instances</th>\n",
       "    </tr>\n",
       "  </thead>\n",
       "  <tbody>\n",
       "    <tr>\n",
       "      <th>0</th>\n",
       "      <td>0.5</td>\n",
       "      <td>23.66</td>\n",
       "      <td>20.73</td>\n",
       "      <td>26.34</td>\n",
       "      <td>40.24</td>\n",
       "      <td>37.8</td>\n",
       "      <td>55.37</td>\n",
       "      <td>61.22</td>\n",
       "      <td>77</td>\n",
       "      <td>410</td>\n",
       "    </tr>\n",
       "    <tr>\n",
       "      <th>1</th>\n",
       "      <td>2.0</td>\n",
       "      <td>21.00</td>\n",
       "      <td>21.33</td>\n",
       "      <td>28.00</td>\n",
       "      <td>39.00</td>\n",
       "      <td>40.0</td>\n",
       "      <td>54.67</td>\n",
       "      <td>59.33</td>\n",
       "      <td>64</td>\n",
       "      <td>300</td>\n",
       "    </tr>\n",
       "  </tbody>\n",
       "</table>\n",
       "</div>"
      ]
     },
     "execution_count": 117,
     "metadata": {},
     "output_type": "execute_result"
    }
   ],
   "execution_count": 117
  },
  {
   "metadata": {
    "ExecuteTime": {
     "end_time": "2025-07-23T15:44:51.171349Z",
     "start_time": "2025-07-23T15:44:51.152809Z"
    }
   },
   "cell_type": "code",
   "source": [
    "# strengthening's advantage over default parameterization grows for more terms, expected since more opportunity to strengthen\n",
    "# would have expected more terms and stronger cuts to lead to fewer nodes, but again prachi's paper says otherwise\n",
    "get_wins(\"nodes\", \"terms\")"
   ],
   "id": "adb037e5d968212e",
   "outputs": [
    {
     "data": {
      "text/plain": [
       "   terms  Nodes Processed Win % NoneVsAll  \\\n",
       "0      4                            13.80   \n",
       "1     64                            13.47   \n",
       "\n",
       "   Nodes Processed Win % NoDisjunctionVsAll  Nodes Processed Win % New  \\\n",
       "0                                     15.01                      35.59   \n",
       "1                                     14.81                      34.68   \n",
       "\n",
       "   Nodes Processed Win % NoDisjunction  Nodes Processed Win % Farkas  \\\n",
       "0                                39.71                         37.77   \n",
       "1                                39.73                         35.69   \n",
       "\n",
       "   Nodes Processed Win % Parametric  Nodes Processed Win % Any  \\\n",
       "0                             53.75                      59.81   \n",
       "1                             51.52                      59.93   \n",
       "\n",
       "   Base Instances  Test Instances  \n",
       "0              96             413  \n",
       "1              70             297  "
      ],
      "text/html": [
       "<div>\n",
       "<style scoped>\n",
       "    .dataframe tbody tr th:only-of-type {\n",
       "        vertical-align: middle;\n",
       "    }\n",
       "\n",
       "    .dataframe tbody tr th {\n",
       "        vertical-align: top;\n",
       "    }\n",
       "\n",
       "    .dataframe thead th {\n",
       "        text-align: right;\n",
       "    }\n",
       "</style>\n",
       "<table border=\"1\" class=\"dataframe\">\n",
       "  <thead>\n",
       "    <tr style=\"text-align: right;\">\n",
       "      <th></th>\n",
       "      <th>terms</th>\n",
       "      <th>Nodes Processed Win % NoneVsAll</th>\n",
       "      <th>Nodes Processed Win % NoDisjunctionVsAll</th>\n",
       "      <th>Nodes Processed Win % New</th>\n",
       "      <th>Nodes Processed Win % NoDisjunction</th>\n",
       "      <th>Nodes Processed Win % Farkas</th>\n",
       "      <th>Nodes Processed Win % Parametric</th>\n",
       "      <th>Nodes Processed Win % Any</th>\n",
       "      <th>Base Instances</th>\n",
       "      <th>Test Instances</th>\n",
       "    </tr>\n",
       "  </thead>\n",
       "  <tbody>\n",
       "    <tr>\n",
       "      <th>0</th>\n",
       "      <td>4</td>\n",
       "      <td>13.80</td>\n",
       "      <td>15.01</td>\n",
       "      <td>35.59</td>\n",
       "      <td>39.71</td>\n",
       "      <td>37.77</td>\n",
       "      <td>53.75</td>\n",
       "      <td>59.81</td>\n",
       "      <td>96</td>\n",
       "      <td>413</td>\n",
       "    </tr>\n",
       "    <tr>\n",
       "      <th>1</th>\n",
       "      <td>64</td>\n",
       "      <td>13.47</td>\n",
       "      <td>14.81</td>\n",
       "      <td>34.68</td>\n",
       "      <td>39.73</td>\n",
       "      <td>35.69</td>\n",
       "      <td>51.52</td>\n",
       "      <td>59.93</td>\n",
       "      <td>70</td>\n",
       "      <td>297</td>\n",
       "    </tr>\n",
       "  </tbody>\n",
       "</table>\n",
       "</div>"
      ]
     },
     "execution_count": 118,
     "metadata": {},
     "output_type": "execute_result"
    }
   ],
   "execution_count": 118
  },
  {
   "metadata": {
    "ExecuteTime": {
     "end_time": "2025-07-23T15:44:51.528325Z",
     "start_time": "2025-07-23T15:44:51.515395Z"
    }
   },
   "cell_type": "code",
   "source": [
    "# disjunctive methods get less effective with more terms because cut generation time grows (last paper shows this hurts run time for parametric methods, aleks shows this for his own)\n",
    "# knowing this relationship, makes sense we see significant separation between new and parametric methods for run time\n",
    "# also makes sence farkas doesn't degrade as quickly and that default improves\n",
    "get_wins(\"terminationTime\", \"terms\")"
   ],
   "id": "543540db4dee7583",
   "outputs": [
    {
     "data": {
      "text/plain": [
       "   terms  Time Win % NoneVsAll  Time Win % NoDisjunctionVsAll  Time Win % New  \\\n",
       "0      4                 17.92                          22.76           29.78   \n",
       "1     64                 28.96                          18.52           23.23   \n",
       "\n",
       "   Time Win % NoDisjunction  Time Win % Farkas  Time Win % Parametric  \\\n",
       "0                     42.62              39.47                  58.35   \n",
       "1                     35.69              37.71                  50.51   \n",
       "\n",
       "   Time Win % Any  Base Instances  Test Instances  \n",
       "0           64.65              96             413  \n",
       "1           54.55              70             297  "
      ],
      "text/html": [
       "<div>\n",
       "<style scoped>\n",
       "    .dataframe tbody tr th:only-of-type {\n",
       "        vertical-align: middle;\n",
       "    }\n",
       "\n",
       "    .dataframe tbody tr th {\n",
       "        vertical-align: top;\n",
       "    }\n",
       "\n",
       "    .dataframe thead th {\n",
       "        text-align: right;\n",
       "    }\n",
       "</style>\n",
       "<table border=\"1\" class=\"dataframe\">\n",
       "  <thead>\n",
       "    <tr style=\"text-align: right;\">\n",
       "      <th></th>\n",
       "      <th>terms</th>\n",
       "      <th>Time Win % NoneVsAll</th>\n",
       "      <th>Time Win % NoDisjunctionVsAll</th>\n",
       "      <th>Time Win % New</th>\n",
       "      <th>Time Win % NoDisjunction</th>\n",
       "      <th>Time Win % Farkas</th>\n",
       "      <th>Time Win % Parametric</th>\n",
       "      <th>Time Win % Any</th>\n",
       "      <th>Base Instances</th>\n",
       "      <th>Test Instances</th>\n",
       "    </tr>\n",
       "  </thead>\n",
       "  <tbody>\n",
       "    <tr>\n",
       "      <th>0</th>\n",
       "      <td>4</td>\n",
       "      <td>17.92</td>\n",
       "      <td>22.76</td>\n",
       "      <td>29.78</td>\n",
       "      <td>42.62</td>\n",
       "      <td>39.47</td>\n",
       "      <td>58.35</td>\n",
       "      <td>64.65</td>\n",
       "      <td>96</td>\n",
       "      <td>413</td>\n",
       "    </tr>\n",
       "    <tr>\n",
       "      <th>1</th>\n",
       "      <td>64</td>\n",
       "      <td>28.96</td>\n",
       "      <td>18.52</td>\n",
       "      <td>23.23</td>\n",
       "      <td>35.69</td>\n",
       "      <td>37.71</td>\n",
       "      <td>50.51</td>\n",
       "      <td>54.55</td>\n",
       "      <td>70</td>\n",
       "      <td>297</td>\n",
       "    </tr>\n",
       "  </tbody>\n",
       "</table>\n",
       "</div>"
      ]
     },
     "execution_count": 119,
     "metadata": {},
     "output_type": "execute_result"
    }
   ],
   "execution_count": 119
  },
  {
   "metadata": {
    "ExecuteTime": {
     "end_time": "2025-07-23T15:44:52.276512Z",
     "start_time": "2025-07-23T15:44:52.260651Z"
    }
   },
   "cell_type": "code",
   "source": [
    "# longer runs are more advantageous for strengthening and new. those two make stronger cuts and so any subtree near the root that they prune has more impact the bigger the tree gets\n",
    "# strengthening reinforces the pattern of more run time, more impact disjunctive cuts have that aleks noticed for new\n",
    "# makes sense we see it for strengthen and new but not for farkas since the former support the disjunctive hull\n",
    "# and therefore are more likely for longer runs to prune more of the tree\n",
    "get_wins(\"nodes\", \"bracket\")"
   ],
   "id": "e3d15961064ead1d",
   "outputs": [
    {
     "data": {
      "text/plain": [
       "  bracket  Nodes Processed Win % NoneVsAll  \\\n",
       "0   short                            14.43   \n",
       "1  medium                            14.71   \n",
       "2    long                            10.20   \n",
       "\n",
       "   Nodes Processed Win % NoDisjunctionVsAll  Nodes Processed Win % New  \\\n",
       "0                                     15.12                      32.99   \n",
       "1                                     15.07                      35.66   \n",
       "2                                     14.29                      38.78   \n",
       "\n",
       "   Nodes Processed Win % NoDisjunction  Nodes Processed Win % Farkas  \\\n",
       "0                                38.83                         39.18   \n",
       "1                                39.34                         33.82   \n",
       "2                                42.18                         38.10   \n",
       "\n",
       "   Nodes Processed Win % Parametric  Nodes Processed Win % Any  \\\n",
       "0                             53.95                      60.14   \n",
       "1                             51.47                      59.56   \n",
       "2                             53.06                      59.86   \n",
       "\n",
       "   Base Instances  Test Instances  \n",
       "0              74             291  \n",
       "1              60             272  \n",
       "2              36             147  "
      ],
      "text/html": [
       "<div>\n",
       "<style scoped>\n",
       "    .dataframe tbody tr th:only-of-type {\n",
       "        vertical-align: middle;\n",
       "    }\n",
       "\n",
       "    .dataframe tbody tr th {\n",
       "        vertical-align: top;\n",
       "    }\n",
       "\n",
       "    .dataframe thead th {\n",
       "        text-align: right;\n",
       "    }\n",
       "</style>\n",
       "<table border=\"1\" class=\"dataframe\">\n",
       "  <thead>\n",
       "    <tr style=\"text-align: right;\">\n",
       "      <th></th>\n",
       "      <th>bracket</th>\n",
       "      <th>Nodes Processed Win % NoneVsAll</th>\n",
       "      <th>Nodes Processed Win % NoDisjunctionVsAll</th>\n",
       "      <th>Nodes Processed Win % New</th>\n",
       "      <th>Nodes Processed Win % NoDisjunction</th>\n",
       "      <th>Nodes Processed Win % Farkas</th>\n",
       "      <th>Nodes Processed Win % Parametric</th>\n",
       "      <th>Nodes Processed Win % Any</th>\n",
       "      <th>Base Instances</th>\n",
       "      <th>Test Instances</th>\n",
       "    </tr>\n",
       "  </thead>\n",
       "  <tbody>\n",
       "    <tr>\n",
       "      <th>0</th>\n",
       "      <td>short</td>\n",
       "      <td>14.43</td>\n",
       "      <td>15.12</td>\n",
       "      <td>32.99</td>\n",
       "      <td>38.83</td>\n",
       "      <td>39.18</td>\n",
       "      <td>53.95</td>\n",
       "      <td>60.14</td>\n",
       "      <td>74</td>\n",
       "      <td>291</td>\n",
       "    </tr>\n",
       "    <tr>\n",
       "      <th>1</th>\n",
       "      <td>medium</td>\n",
       "      <td>14.71</td>\n",
       "      <td>15.07</td>\n",
       "      <td>35.66</td>\n",
       "      <td>39.34</td>\n",
       "      <td>33.82</td>\n",
       "      <td>51.47</td>\n",
       "      <td>59.56</td>\n",
       "      <td>60</td>\n",
       "      <td>272</td>\n",
       "    </tr>\n",
       "    <tr>\n",
       "      <th>2</th>\n",
       "      <td>long</td>\n",
       "      <td>10.20</td>\n",
       "      <td>14.29</td>\n",
       "      <td>38.78</td>\n",
       "      <td>42.18</td>\n",
       "      <td>38.10</td>\n",
       "      <td>53.06</td>\n",
       "      <td>59.86</td>\n",
       "      <td>36</td>\n",
       "      <td>147</td>\n",
       "    </tr>\n",
       "  </tbody>\n",
       "</table>\n",
       "</div>"
      ]
     },
     "execution_count": 120,
     "metadata": {},
     "output_type": "execute_result"
    }
   ],
   "execution_count": 120
  },
  {
   "metadata": {
    "ExecuteTime": {
     "end_time": "2025-07-23T15:44:52.830357Z",
     "start_time": "2025-07-23T15:44:52.815167Z"
    }
   },
   "cell_type": "code",
   "source": [
    "# short runs follow expected behavior where run time wins are less likely than node wins because of cut density slowing down LP solves\n",
    "# what's interesting is that we have the opposite behavior for long runs, where somehow run time wins are more likely than node wins\n",
    "# possibilities could include that the strength of disjunctive hull supporting cuts allows for more cut generation to be skipped, or\n",
    "# the tree could be shallower, leading to better parallelization.\n",
    "get_wins(\"terminationTime\", \"bracket\")"
   ],
   "id": "dcfd11091e192cda",
   "outputs": [
    {
     "data": {
      "text/plain": [
       "  bracket  Time Win % NoneVsAll  Time Win % NoDisjunctionVsAll  \\\n",
       "0   short                 32.65                          20.27   \n",
       "1  medium                 17.65                          22.79   \n",
       "2    long                 11.56                          19.05   \n",
       "\n",
       "   Time Win % New  Time Win % NoDisjunction  Time Win % Farkas  \\\n",
       "0           14.09                     36.43              35.40   \n",
       "1           31.25                     39.34              41.18   \n",
       "2           44.90                     46.94              40.82   \n",
       "\n",
       "   Time Win % Parametric  Time Win % Any  Base Instances  Test Instances  \n",
       "0                  51.20           53.95              74             291  \n",
       "1                  56.99           63.60              60             272  \n",
       "2                  59.18           67.35              36             147  "
      ],
      "text/html": [
       "<div>\n",
       "<style scoped>\n",
       "    .dataframe tbody tr th:only-of-type {\n",
       "        vertical-align: middle;\n",
       "    }\n",
       "\n",
       "    .dataframe tbody tr th {\n",
       "        vertical-align: top;\n",
       "    }\n",
       "\n",
       "    .dataframe thead th {\n",
       "        text-align: right;\n",
       "    }\n",
       "</style>\n",
       "<table border=\"1\" class=\"dataframe\">\n",
       "  <thead>\n",
       "    <tr style=\"text-align: right;\">\n",
       "      <th></th>\n",
       "      <th>bracket</th>\n",
       "      <th>Time Win % NoneVsAll</th>\n",
       "      <th>Time Win % NoDisjunctionVsAll</th>\n",
       "      <th>Time Win % New</th>\n",
       "      <th>Time Win % NoDisjunction</th>\n",
       "      <th>Time Win % Farkas</th>\n",
       "      <th>Time Win % Parametric</th>\n",
       "      <th>Time Win % Any</th>\n",
       "      <th>Base Instances</th>\n",
       "      <th>Test Instances</th>\n",
       "    </tr>\n",
       "  </thead>\n",
       "  <tbody>\n",
       "    <tr>\n",
       "      <th>0</th>\n",
       "      <td>short</td>\n",
       "      <td>32.65</td>\n",
       "      <td>20.27</td>\n",
       "      <td>14.09</td>\n",
       "      <td>36.43</td>\n",
       "      <td>35.40</td>\n",
       "      <td>51.20</td>\n",
       "      <td>53.95</td>\n",
       "      <td>74</td>\n",
       "      <td>291</td>\n",
       "    </tr>\n",
       "    <tr>\n",
       "      <th>1</th>\n",
       "      <td>medium</td>\n",
       "      <td>17.65</td>\n",
       "      <td>22.79</td>\n",
       "      <td>31.25</td>\n",
       "      <td>39.34</td>\n",
       "      <td>41.18</td>\n",
       "      <td>56.99</td>\n",
       "      <td>63.60</td>\n",
       "      <td>60</td>\n",
       "      <td>272</td>\n",
       "    </tr>\n",
       "    <tr>\n",
       "      <th>2</th>\n",
       "      <td>long</td>\n",
       "      <td>11.56</td>\n",
       "      <td>19.05</td>\n",
       "      <td>44.90</td>\n",
       "      <td>46.94</td>\n",
       "      <td>40.82</td>\n",
       "      <td>59.18</td>\n",
       "      <td>67.35</td>\n",
       "      <td>36</td>\n",
       "      <td>147</td>\n",
       "    </tr>\n",
       "  </tbody>\n",
       "</table>\n",
       "</div>"
      ]
     },
     "execution_count": 121,
     "metadata": {},
     "output_type": "execute_result"
    }
   ],
   "execution_count": 121
  },
  {
   "metadata": {
    "collapsed": false,
    "ExecuteTime": {
     "end_time": "2025-07-23T14:05:34.134491Z",
     "start_time": "2025-07-23T14:05:34.126560Z"
    }
   },
   "cell_type": "code",
   "source": [
    "def aggregate_wins(gap_df, feature, grouping):\n",
    "\n",
    "    def custom_key(col):\n",
    "        # bump improvement columns second to win percentage columns\n",
    "        offset = int(\"Improvement %\" in col)\n",
    "        # check groupings\n",
    "        if 'matrix' in col or 'short' in col:\n",
    "            return (2 + offset, col)\n",
    "        elif 'objective' in col or 'medium' in col:\n",
    "            return (4 + offset, col)\n",
    "        elif 'rhs' in col or 'long' in col:\n",
    "            return (6 + offset, col)    \n",
    "        return (offset, col)\n",
    "    \n",
    "    # find the average wins for the feature grouped by degree, terms and grouping type\n",
    "    win_aggregations = {f\"{feature}Win{gen}\": \"mean\" for gen in generators + [\"Any\"]}\n",
    "    feature_wins = gap_df[gap_df[\"perturbation\"] != \"bound\"].groupby([\"degree\", \"terms\", grouping]).agg(win_aggregations).reset_index().pivot(\n",
    "        index=['degree', 'terms'], columns=grouping, values=[f\"{feature}Win{gen}\" for gen in generators + [\"Any\"]]\n",
    "    )\n",
    "    feature_wins.columns = rename_cols([' '.join(col).strip() for col in feature_wins.columns.values], feature)\n",
    "    feature_wins = feature_wins[sorted(feature_wins.columns, key=custom_key)]\n",
    "    feature_wins = feature_wins.applymap(lambda x: round(x * 100, 2))\n",
    "    \n",
    "    # get the counts for the feature grouped by degree, terms and grouping type\n",
    "    count_aggregations = {\"instance\": \"nunique\", \"instanceIndex\": \"count\"}\n",
    "    feature_counts = gap_df[gap_df[\"perturbation\"] != \"bound\"].groupby([\"degree\", \"terms\", grouping]).agg(count_aggregations).reset_index().pivot(\n",
    "        index=['degree', 'terms'], columns=grouping, values=[\"instance\", \"instanceIndex\"]\n",
    "    )\n",
    "    feature_counts.columns = rename_cols([' '.join(col).strip() for col in feature_counts.columns.values], feature)\n",
    "    feature_counts = feature_counts[sorted(feature_counts.columns, key=custom_key)]\n",
    "    feature_counts = feature_counts.applymap(lambda x: int(x))\n",
    "    \n",
    "    # save wins, base instance counts, and test instance counts to csv\n",
    "    feature_wins.reset_index().to_csv(os.path.join(out_fldr, f\"branch_and_bound_wins_{feature}_{grouping}.csv\"), index=False, mode=\"w\")\n",
    "    feature_counts.reset_index().to_csv(os.path.join(out_fldr, f\"branch_and_bound_counts_{grouping}.csv\"), index=False, mode=\"w\")\n",
    "    \n",
    "    return feature_wins, feature_counts"
   ],
   "id": "50df668528f43cd2",
   "outputs": [],
   "execution_count": 103
  },
  {
   "metadata": {
    "ExecuteTime": {
     "end_time": "2025-07-23T14:05:34.307446Z",
     "start_time": "2025-07-23T14:05:34.304975Z"
    }
   },
   "cell_type": "code",
   "source": [
    "# wins, counts = aggregate_wins(gap_df, \"terminationTime\", \"bracket\")\n",
    "# wins"
   ],
   "id": "500db0e4a422cfb",
   "outputs": [],
   "execution_count": 104
  },
  {
   "metadata": {
    "ExecuteTime": {
     "end_time": "2025-07-23T14:05:34.403910Z",
     "start_time": "2025-07-23T14:05:34.400940Z"
    }
   },
   "cell_type": "code",
   "source": [
    "# wins, counts = aggregate_wins(gap_df, \"terminationTime\", \"perturbation\")\n",
    "# wins"
   ],
   "id": "59d34ffc21d60edb",
   "outputs": [],
   "execution_count": 105
  },
  {
   "metadata": {},
   "cell_type": "markdown",
   "source": "## High Performing Run Time Subset",
   "id": "29d01325248f2acb"
  },
  {
   "metadata": {
    "ExecuteTime": {
     "end_time": "2025-07-23T14:05:34.521691Z",
     "start_time": "2025-07-23T14:05:34.515227Z"
    }
   },
   "cell_type": "code",
   "source": [
    "# additional filtering for dataframe on run time\n",
    "fields = [f\"terminationTime {gen}\" for gen in generators] + \\\n",
    "         [f\"terminationTimeImprovement {gen}\" for gen in generators if gen not in [\"None\", \"New\"]]\n",
    "\n",
    "# create time dataframe\n",
    "time_df = df.loc[mask, group_cols + id_cols + fields]"
   ],
   "id": "d8ffddad579b6222",
   "outputs": [],
   "execution_count": 106
  },
  {
   "metadata": {
    "ExecuteTime": {
     "end_time": "2025-07-23T14:05:34.748368Z",
     "start_time": "2025-07-23T14:05:34.587716Z"
    }
   },
   "cell_type": "code",
   "source": [
    "aggregations = {f\"Average Time {gen}\": (f\"terminationTime {gen}\", geometric_mean) for gen in generators} | \\\n",
    "    {f\"Average Improvement {gen}\": (f\"terminationTimeImprovement {gen}\", \"mean\") for gen in generators if gen not in [\"None\", \"New\"]} | \\\n",
    "    {\"count\": (\"terminationTimeImprovement Farkas\", \"size\")}\n",
    "\n",
    "tmp = time_df.groupby([\"instance\", \"perturbation\", \"degree\", \"terms\"]).agg(**aggregations).reset_index()\n",
    "tmp = tmp[(tmp[\"count\"] > 1)]\n",
    "tmp.to_csv(os.path.join(out_fldr, \"high_perform_all.csv\"), index=False, mode=\"w\")\n",
    "tmp.head()"
   ],
   "id": "5ca4f7bfe1b3ec1",
   "outputs": [
    {
     "data": {
      "text/plain": [
       "  instance perturbation  degree  terms  Average Time None  Average Time New  \\\n",
       "1   a1c1s1          rhs     0.5     64          65.925121        186.154677   \n",
       "4   a2c1s1       matrix     0.5      4        1525.196523       1311.996049   \n",
       "5   a2c1s1       matrix     0.5     64        1612.793921       1762.012670   \n",
       "6   a2c1s1          rhs     0.5      4          35.506289         43.720299   \n",
       "7   a2c1s1          rhs     0.5     64          28.447190         38.998171   \n",
       "\n",
       "   Average Time Farkas  Average Time NoDisjunction  \\\n",
       "1            44.346425                   82.921954   \n",
       "4          2987.881641                 1420.511332   \n",
       "5          1883.762620                 1995.933467   \n",
       "6            35.433677                   26.455276   \n",
       "7            26.594088                   24.438430   \n",
       "\n",
       "   Average Improvement Farkas  Average Improvement NoDisjunction  count  \n",
       "1                    0.268115                          -0.370371      2  \n",
       "4                   -0.969961                           0.067408      2  \n",
       "5                   -0.282755                          -0.381003      4  \n",
       "6                   -0.037295                           0.254900      2  \n",
       "7                    0.035426                           0.105769      4  "
      ],
      "text/html": [
       "<div>\n",
       "<style scoped>\n",
       "    .dataframe tbody tr th:only-of-type {\n",
       "        vertical-align: middle;\n",
       "    }\n",
       "\n",
       "    .dataframe tbody tr th {\n",
       "        vertical-align: top;\n",
       "    }\n",
       "\n",
       "    .dataframe thead th {\n",
       "        text-align: right;\n",
       "    }\n",
       "</style>\n",
       "<table border=\"1\" class=\"dataframe\">\n",
       "  <thead>\n",
       "    <tr style=\"text-align: right;\">\n",
       "      <th></th>\n",
       "      <th>instance</th>\n",
       "      <th>perturbation</th>\n",
       "      <th>degree</th>\n",
       "      <th>terms</th>\n",
       "      <th>Average Time None</th>\n",
       "      <th>Average Time New</th>\n",
       "      <th>Average Time Farkas</th>\n",
       "      <th>Average Time NoDisjunction</th>\n",
       "      <th>Average Improvement Farkas</th>\n",
       "      <th>Average Improvement NoDisjunction</th>\n",
       "      <th>count</th>\n",
       "    </tr>\n",
       "  </thead>\n",
       "  <tbody>\n",
       "    <tr>\n",
       "      <th>1</th>\n",
       "      <td>a1c1s1</td>\n",
       "      <td>rhs</td>\n",
       "      <td>0.5</td>\n",
       "      <td>64</td>\n",
       "      <td>65.925121</td>\n",
       "      <td>186.154677</td>\n",
       "      <td>44.346425</td>\n",
       "      <td>82.921954</td>\n",
       "      <td>0.268115</td>\n",
       "      <td>-0.370371</td>\n",
       "      <td>2</td>\n",
       "    </tr>\n",
       "    <tr>\n",
       "      <th>4</th>\n",
       "      <td>a2c1s1</td>\n",
       "      <td>matrix</td>\n",
       "      <td>0.5</td>\n",
       "      <td>4</td>\n",
       "      <td>1525.196523</td>\n",
       "      <td>1311.996049</td>\n",
       "      <td>2987.881641</td>\n",
       "      <td>1420.511332</td>\n",
       "      <td>-0.969961</td>\n",
       "      <td>0.067408</td>\n",
       "      <td>2</td>\n",
       "    </tr>\n",
       "    <tr>\n",
       "      <th>5</th>\n",
       "      <td>a2c1s1</td>\n",
       "      <td>matrix</td>\n",
       "      <td>0.5</td>\n",
       "      <td>64</td>\n",
       "      <td>1612.793921</td>\n",
       "      <td>1762.012670</td>\n",
       "      <td>1883.762620</td>\n",
       "      <td>1995.933467</td>\n",
       "      <td>-0.282755</td>\n",
       "      <td>-0.381003</td>\n",
       "      <td>4</td>\n",
       "    </tr>\n",
       "    <tr>\n",
       "      <th>6</th>\n",
       "      <td>a2c1s1</td>\n",
       "      <td>rhs</td>\n",
       "      <td>0.5</td>\n",
       "      <td>4</td>\n",
       "      <td>35.506289</td>\n",
       "      <td>43.720299</td>\n",
       "      <td>35.433677</td>\n",
       "      <td>26.455276</td>\n",
       "      <td>-0.037295</td>\n",
       "      <td>0.254900</td>\n",
       "      <td>2</td>\n",
       "    </tr>\n",
       "    <tr>\n",
       "      <th>7</th>\n",
       "      <td>a2c1s1</td>\n",
       "      <td>rhs</td>\n",
       "      <td>0.5</td>\n",
       "      <td>64</td>\n",
       "      <td>28.447190</td>\n",
       "      <td>38.998171</td>\n",
       "      <td>26.594088</td>\n",
       "      <td>24.438430</td>\n",
       "      <td>0.035426</td>\n",
       "      <td>0.105769</td>\n",
       "      <td>4</td>\n",
       "    </tr>\n",
       "  </tbody>\n",
       "</table>\n",
       "</div>"
      ]
     },
     "execution_count": 107,
     "metadata": {},
     "output_type": "execute_result"
    }
   ],
   "execution_count": 107
  },
  {
   "metadata": {
    "ExecuteTime": {
     "end_time": "2025-07-23T14:05:34.804718Z",
     "start_time": "2025-07-23T14:05:34.801477Z"
    }
   },
   "cell_type": "code",
   "source": [
    "def make_improvement_table(tmp, generator):\n",
    "    \n",
    "    # columns we always choose\n",
    "    key_cols = [\"degree\", \"terms\", \"perturbation\", \"instance\"]\n",
    "    time_cols = [f\"Average Time {g}\" for g in [\"None\", \"New\", \"Farkas\"]]\n",
    "    \n",
    "    # subset the ones we want\n",
    "    all_df = tmp[\n",
    "        key_cols + time_cols + [f\"Average Time {generator}\", f\"Average Improvement Farkas\", f\"Average Improvement {generator}\", \"count\"]\n",
    "    ].sort_values(f\"Average Improvement {generator}\", ascending=False)\n",
    "    all_df = all_df[\n",
    "        (all_df[f\"Average Improvement {generator}\"] > 0) & \n",
    "        (all_df[\"Average Time Farkas\"] > 1.2 * all_df[f\"Average Time {generator}\"]) & \n",
    "        (all_df[\"Average Time New\"] > 1.2 * all_df[f\"Average Time {generator}\"])\n",
    "    ]\n",
    "    best_df = all_df.loc[\n",
    "        all_df.groupby(['degree', 'terms', 'perturbation'])[f'Average Improvement {generator}'].idxmax()\n",
    "    ]  # .sort_values(f\"Average Improvement {generator}\", ascending=False).round(2)\n",
    "    \n",
    "    # save all the winners\n",
    "    all_df.to_csv(os.path.join(out_fldr, f\"high_perform_{generator.lower()}.csv\"), index=False, mode=\"w\")\n",
    "    \n",
    "    # return just the best\n",
    "    return all_df, best_df"
   ],
   "id": "78d80d6282fd774b",
   "outputs": [],
   "execution_count": 108
  },
  {
   "metadata": {
    "ExecuteTime": {
     "end_time": "2025-07-23T14:05:34.830002Z",
     "start_time": "2025-07-23T14:05:34.828261Z"
    }
   },
   "cell_type": "code",
   "source": [
    "# generator = \"Disjunction\"\n",
    "# all_df, best_df = make_improvement_table(tmp, generator)\n",
    "# best_df[[\"degree\", \"terms\", \"perturbation\", \"instance\", \"Average Time None\", \"Average Time New\", \"Average Time Farkas\", f\"Average Time {generator}\", \"count\"]].head(3)"
   ],
   "id": "a2658766a8658b41",
   "outputs": [],
   "execution_count": 109
  },
  {
   "metadata": {
    "ExecuteTime": {
     "end_time": "2025-07-23T14:05:34.862899Z",
     "start_time": "2025-07-23T14:05:34.855295Z"
    }
   },
   "cell_type": "code",
   "source": [
    "generator = \"NoDisjunction\"\n",
    "all_df, best_df = make_improvement_table(tmp, generator)\n",
    "best_df[[\"degree\", \"terms\", \"perturbation\", \"instance\", \"Average Time None\", \"Average Time New\", \"Average Time Farkas\", f\"Average Time {generator}\", \"count\"]]"
   ],
   "id": "1578befc3854fd49",
   "outputs": [
    {
     "data": {
      "text/plain": [
       "     degree  terms perturbation        instance  Average Time None  \\\n",
       "45      0.5      4       matrix         danoint        1481.411435   \n",
       "64      0.5      4          rhs       gen-ip002        1379.712370   \n",
       "107     0.5     64       matrix        k16x240b         314.771144   \n",
       "282     0.5     64          rhs         timtab1         243.951679   \n",
       "279     2.0      4       matrix         timtab1          56.181840   \n",
       "78      2.0      4          rhs       gen-ip036         295.698084   \n",
       "69      2.0     64       matrix       gen-ip021         384.302044   \n",
       "105     2.0     64          rhs  icir97_tension        1027.737175   \n",
       "\n",
       "     Average Time New  Average Time Farkas  Average Time NoDisjunction  count  \n",
       "45        1596.665227          1348.723483                  657.528542      3  \n",
       "64        1183.200028          1318.780735                  695.452522      2  \n",
       "107        243.415143           245.650637                  173.607462      3  \n",
       "282        251.254951           218.962811                  172.204685      4  \n",
       "279         55.777320            44.019632                   28.522040      2  \n",
       "78         250.504192           265.263592                  193.198810      4  \n",
       "69         439.966624           359.611187                  204.901125      4  \n",
       "105       1343.064551          1700.370790                  953.794123      3  "
      ],
      "text/html": [
       "<div>\n",
       "<style scoped>\n",
       "    .dataframe tbody tr th:only-of-type {\n",
       "        vertical-align: middle;\n",
       "    }\n",
       "\n",
       "    .dataframe tbody tr th {\n",
       "        vertical-align: top;\n",
       "    }\n",
       "\n",
       "    .dataframe thead th {\n",
       "        text-align: right;\n",
       "    }\n",
       "</style>\n",
       "<table border=\"1\" class=\"dataframe\">\n",
       "  <thead>\n",
       "    <tr style=\"text-align: right;\">\n",
       "      <th></th>\n",
       "      <th>degree</th>\n",
       "      <th>terms</th>\n",
       "      <th>perturbation</th>\n",
       "      <th>instance</th>\n",
       "      <th>Average Time None</th>\n",
       "      <th>Average Time New</th>\n",
       "      <th>Average Time Farkas</th>\n",
       "      <th>Average Time NoDisjunction</th>\n",
       "      <th>count</th>\n",
       "    </tr>\n",
       "  </thead>\n",
       "  <tbody>\n",
       "    <tr>\n",
       "      <th>45</th>\n",
       "      <td>0.5</td>\n",
       "      <td>4</td>\n",
       "      <td>matrix</td>\n",
       "      <td>danoint</td>\n",
       "      <td>1481.411435</td>\n",
       "      <td>1596.665227</td>\n",
       "      <td>1348.723483</td>\n",
       "      <td>657.528542</td>\n",
       "      <td>3</td>\n",
       "    </tr>\n",
       "    <tr>\n",
       "      <th>64</th>\n",
       "      <td>0.5</td>\n",
       "      <td>4</td>\n",
       "      <td>rhs</td>\n",
       "      <td>gen-ip002</td>\n",
       "      <td>1379.712370</td>\n",
       "      <td>1183.200028</td>\n",
       "      <td>1318.780735</td>\n",
       "      <td>695.452522</td>\n",
       "      <td>2</td>\n",
       "    </tr>\n",
       "    <tr>\n",
       "      <th>107</th>\n",
       "      <td>0.5</td>\n",
       "      <td>64</td>\n",
       "      <td>matrix</td>\n",
       "      <td>k16x240b</td>\n",
       "      <td>314.771144</td>\n",
       "      <td>243.415143</td>\n",
       "      <td>245.650637</td>\n",
       "      <td>173.607462</td>\n",
       "      <td>3</td>\n",
       "    </tr>\n",
       "    <tr>\n",
       "      <th>282</th>\n",
       "      <td>0.5</td>\n",
       "      <td>64</td>\n",
       "      <td>rhs</td>\n",
       "      <td>timtab1</td>\n",
       "      <td>243.951679</td>\n",
       "      <td>251.254951</td>\n",
       "      <td>218.962811</td>\n",
       "      <td>172.204685</td>\n",
       "      <td>4</td>\n",
       "    </tr>\n",
       "    <tr>\n",
       "      <th>279</th>\n",
       "      <td>2.0</td>\n",
       "      <td>4</td>\n",
       "      <td>matrix</td>\n",
       "      <td>timtab1</td>\n",
       "      <td>56.181840</td>\n",
       "      <td>55.777320</td>\n",
       "      <td>44.019632</td>\n",
       "      <td>28.522040</td>\n",
       "      <td>2</td>\n",
       "    </tr>\n",
       "    <tr>\n",
       "      <th>78</th>\n",
       "      <td>2.0</td>\n",
       "      <td>4</td>\n",
       "      <td>rhs</td>\n",
       "      <td>gen-ip036</td>\n",
       "      <td>295.698084</td>\n",
       "      <td>250.504192</td>\n",
       "      <td>265.263592</td>\n",
       "      <td>193.198810</td>\n",
       "      <td>4</td>\n",
       "    </tr>\n",
       "    <tr>\n",
       "      <th>69</th>\n",
       "      <td>2.0</td>\n",
       "      <td>64</td>\n",
       "      <td>matrix</td>\n",
       "      <td>gen-ip021</td>\n",
       "      <td>384.302044</td>\n",
       "      <td>439.966624</td>\n",
       "      <td>359.611187</td>\n",
       "      <td>204.901125</td>\n",
       "      <td>4</td>\n",
       "    </tr>\n",
       "    <tr>\n",
       "      <th>105</th>\n",
       "      <td>2.0</td>\n",
       "      <td>64</td>\n",
       "      <td>rhs</td>\n",
       "      <td>icir97_tension</td>\n",
       "      <td>1027.737175</td>\n",
       "      <td>1343.064551</td>\n",
       "      <td>1700.370790</td>\n",
       "      <td>953.794123</td>\n",
       "      <td>3</td>\n",
       "    </tr>\n",
       "  </tbody>\n",
       "</table>\n",
       "</div>"
      ]
     },
     "execution_count": 110,
     "metadata": {},
     "output_type": "execute_result"
    }
   ],
   "execution_count": 110
  },
  {
   "metadata": {
    "ExecuteTime": {
     "end_time": "2025-07-23T14:05:34.973971Z",
     "start_time": "2025-07-23T14:05:34.972606Z"
    }
   },
   "cell_type": "code",
   "source": [
    "# generator = \"All\"\n",
    "# all_df, best_df = make_improvement_table(tmp, generator)\n",
    "# best_df[[\"degree\", \"terms\", \"perturbation\", \"instance\", \"Average Time None\", \"Average Time New\", \"Average Time Farkas\", f\"Average Time {generator}\", \"count\"]].head(3)"
   ],
   "id": "d132e7cbf635d9a3",
   "outputs": [],
   "execution_count": 111
  },
  {
   "metadata": {},
   "cell_type": "code",
   "outputs": [],
   "execution_count": null,
   "source": "",
   "id": "c745ad71bf830ed9"
  }
 ],
 "metadata": {
  "kernelspec": {
   "display_name": "Python 3",
   "language": "python",
   "name": "python3"
  },
  "language_info": {
   "codemirror_mode": {
    "name": "ipython",
    "version": 2
   },
   "file_extension": ".py",
   "mimetype": "text/x-python",
   "name": "python",
   "nbconvert_exporter": "python",
   "pygments_lexer": "ipython2",
   "version": "2.7.6"
  }
 },
 "nbformat": 4,
 "nbformat_minor": 5
}
