{
 "cells": [
  {
   "cell_type": "code",
   "source": [
    "from coinor.grumpy.polyhedron2D import Polyhedron2D, Figure\n",
    "import gurobipy as gu\n",
    "import numpy as np"
   ],
   "metadata": {
    "collapsed": false,
    "ExecuteTime": {
     "end_time": "2024-11-19T01:01:36.217468Z",
     "start_time": "2024-11-19T01:01:36.205841Z"
    }
   },
   "id": "initial_id",
   "outputs": [],
   "execution_count": 58
  },
  {
   "cell_type": "code",
   "source": [
    "# utility function to get the model as np arrays\n",
    "def get_model_arrays(mdl):\n",
    "    \n",
    "    # we assume that the model is Ax >= b\n",
    "    for c in mdl.getConstrs():\n",
    "        if c.sense == gu.GRB.LESS_EQUAL:\n",
    "            c.setAttr(gu.GRB.Attr.Sense, gu.GRB.GREATER_EQUAL)\n",
    "            c.setAttr(gu.GRB.Attr.RHS, -c.rhs)\n",
    "    \n",
    "    # get the constraints\n",
    "    A = mdl.getA().toarray()\n",
    "    b = np.array([c.rhs for c in mdl.getConstrs()])\n",
    "    \n",
    "    # get the finite lower bounds on variables\n",
    "    Dlb, Dlb_0 = np.eye(mdl.numVars), np.array([v.lb for v in mdl.getVars()])\n",
    "    Dlb, Dlb_0 = Dlb[Dlb_0 > -np.inf], Dlb_0[Dlb_0 > -np.inf]\n",
    "    \n",
    "    # get the finite upper bounds on variables\n",
    "    Dub, Dub_0 = -np.eye(mdl.numVars), -np.array([v.ub for v in mdl.getVars()])\n",
    "    Dub, Dub_0 = Dub[Dub_0 > -np.inf], Dub_0[Dub_0 > -np.inf]\n",
    "    \n",
    "    # merge the variable bounds into a single matrix with the constraints\n",
    "    A = np.vstack([A, Dlb, Dub])\n",
    "    b = np.hstack([b, Dlb_0, Dub_0])\n",
    "    \n",
    "    # get the objective function\n",
    "    c = np.array([v.obj for v in mdl.getVars()])\n",
    "    \n",
    "    return A, b, c\n",
    "\n",
    "\n",
    "# utility function to get the disjunctive constraints as np arrays\n",
    "def get_disjunctive_constraint_arrays(mdl):\n",
    "    \n",
    "    # we assume that the model is Ax >= b\n",
    "    for c in mdl.getConstrs():\n",
    "        if c.sense == gu.GRB.LESS_EQUAL:\n",
    "            c.setAttr(gu.GRB.Attr.Sense, gu.GRB.GREATER_EQUAL)\n",
    "            c.setAttr(gu.GRB.Attr.RHS, -c.rhs)\n",
    "    \n",
    "    # get the disjunctive constraints from branching up\n",
    "    Dlb, Dlb_0 = np.eye(mdl.numVars), np.array([v.lb for v in mdl.getVars()])\n",
    "    Dlb, Dlb_0 = Dlb[Dlb_0 > 0], Dlb_0[Dlb_0 > 0]\n",
    "    \n",
    "    # get the disjunctive constraints from branching down\n",
    "    Dub, Dub_0 = -np.eye(mdl.numVars), -np.array([v.ub for v in mdl.getVars()])\n",
    "    Dub, Dub_0 = Dub[Dub_0 > -np.inf], Dub_0[Dub_0 > -np.inf]\n",
    "    \n",
    "    # merge the variable bounds into a single matrix with the constraints\n",
    "    D = np.vstack([Dlb, Dub])\n",
    "    D_0 = np.hstack([Dlb_0, Dub_0])\n",
    "    \n",
    "    return D, D_0\n",
    "\n",
    "def get_tableau_primitives(mdl, original_objective=None):\n",
    "    \n",
    "    if original_objective is not None:\n",
    "        assert len(original_objective) == mdl.numVars, \\\n",
    "            \"original objective must be the same length as the number of variables\"\n",
    "    \n",
    "    # create empty containers to hold basis and nonbasis information\n",
    "    # basis is always m x m since matrix is always m x (n + m)\n",
    "    A_b = np.zeros((mdl.numConstrs, mdl.numConstrs))\n",
    "    A_n = np.zeros((mdl.numConstrs, mdl.numVars))\n",
    "    c_b = np.zeros(mdl.numConstrs)  # always m\n",
    "    c_n = np.zeros(mdl.numVars)  # always n since we have n + m variables and m are basic\n",
    "    k_b, k_n = 0, 0  # counter for the number of basic and nonbasic variables\n",
    "    \n",
    "    # get the necessary model pieces as arrays\n",
    "    A = mdl.getA().toarray()\n",
    "    c = original_objective if original_objective is not None \\\n",
    "        else np.array([v.obj for v in mdl.getVars()])\n",
    "    \n",
    "    # populate it with columns from basic decision variables\n",
    "    for i, v in enumerate(mdl.getVars()):\n",
    "        if v.vBasis == 0:\n",
    "            A_b[:, k_b] = A[:, i]\n",
    "            c_b[k_b] = c[i]\n",
    "            k_b += 1\n",
    "        else:\n",
    "            A_n[:, k_n] = A[:, i]\n",
    "            c_n[k_n] = c[i]\n",
    "            k_n += 1\n",
    "            \n",
    "    # populate it with columns from basic slack variables\n",
    "    for i, c in enumerate(mdl.getConstrs()):\n",
    "        if c.cBasis == 0:\n",
    "            A_b[i, k_b] = -1\n",
    "            c_b[k_b] = 0\n",
    "            k_b += 1\n",
    "        else:\n",
    "            A_n[i, k_n] = -1\n",
    "            c_n[k_n] = 0\n",
    "            k_n += 1\n",
    "    \n",
    "    return A_b, c_b, A_n, c_n"
   ],
   "metadata": {
    "collapsed": false,
    "ExecuteTime": {
     "end_time": "2024-11-19T01:01:36.327237Z",
     "start_time": "2024-11-19T01:01:36.320423Z"
    }
   },
   "id": "f18299c5522e153",
   "outputs": [],
   "execution_count": 59
  },
  {
   "cell_type": "markdown",
   "source": [
    "# Define and Solve a Feasible Parent Node's LP"
   ],
   "metadata": {
    "collapsed": false
   },
   "id": "53ef8a9a4a5daf0b"
  },
  {
   "cell_type": "code",
   "source": [
    "mdl = gu.Model(\"lp_minimize\")\n",
    "\n",
    "# Create variables\n",
    "x = mdl.addVar(name=\"x\")\n",
    "y = mdl.addVar(name=\"y\")\n",
    "\n",
    "# Set objective function: maximize x + y + 10z\n",
    "mdl.setObjective(-x - 2*y, gu.GRB.MINIMIZE)\n",
    "\n",
    "# Add constraints\n",
    "constr_0 = mdl.addConstr(x - y >= 0, \"constr_0\")\n",
    "constr_1 = mdl.addConstr(-x - y >= -3, \"constr_1\")\n",
    "constr_2 = mdl.addConstr(x >= 0, \"constr_2\")\n",
    "constr_3 = mdl.addConstr(y >= 0, \"constr_2\")\n",
    "\n",
    "mdl.update()\n",
    "\n",
    "# get the model as np arrays\n",
    "A0 = mdl.getA().toarray()\n",
    "b0 = np.array([c.rhs for c in mdl.getConstrs()])\n",
    "c0 = np.array([v.obj for v in mdl.getVars()])\n",
    "\n",
    "# make sure this works\n",
    "mdl.optimize()\n",
    "x.x, y.x"
   ],
   "metadata": {
    "collapsed": false,
    "ExecuteTime": {
     "end_time": "2024-11-19T01:01:36.629680Z",
     "start_time": "2024-11-19T01:01:36.605688Z"
    }
   },
   "id": "d5d414efc7c6b457",
   "outputs": [
    {
     "name": "stdout",
     "output_type": "stream",
     "text": [
      "Gurobi Optimizer version 10.0.3 build v10.0.3rc0 (mac64[arm])\n",
      "\n",
      "CPU model: Apple M1\n",
      "Thread count: 8 physical cores, 8 logical processors, using up to 8 threads\n",
      "\n",
      "Optimize a model with 4 rows, 2 columns and 6 nonzeros\n",
      "Model fingerprint: 0x66f85cf1\n",
      "Coefficient statistics:\n",
      "  Matrix range     [1e+00, 1e+00]\n",
      "  Objective range  [1e+00, 2e+00]\n",
      "  Bounds range     [0e+00, 0e+00]\n",
      "  RHS range        [3e+00, 3e+00]\n",
      "Presolve removed 4 rows and 2 columns\n",
      "Presolve time: 0.00s\n",
      "Presolve: All rows and columns removed\n",
      "Iteration    Objective       Primal Inf.    Dual Inf.      Time\n",
      "       0   -4.5000000e+00   0.000000e+00   0.000000e+00      0s\n",
      "\n",
      "Solved in 0 iterations and 0.01 seconds (0.00 work units)\n",
      "Optimal objective -4.500000000e+00\n"
     ]
    },
    {
     "data": {
      "text/plain": [
       "(1.5, 1.5)"
      ]
     },
     "execution_count": 60,
     "metadata": {},
     "output_type": "execute_result"
    }
   ],
   "execution_count": 60
  },
  {
   "cell_type": "markdown",
   "source": [
    "# Find the Parent Optimal Basis Cone"
   ],
   "metadata": {
    "collapsed": false
   },
   "id": "a7a757132a911706"
  },
  {
   "cell_type": "code",
   "source": [
    "# get the tableau primitives for the root optimal basis\n",
    "A_b, c_b, A_n, c_n = get_tableau_primitives(mdl)"
   ],
   "metadata": {
    "collapsed": false,
    "ExecuteTime": {
     "end_time": "2024-11-19T01:01:36.947382Z",
     "start_time": "2024-11-19T01:01:36.945383Z"
    }
   },
   "id": "166ce5a156b9b0fe",
   "outputs": [],
   "execution_count": 61
  },
  {
   "cell_type": "code",
   "source": [
    "# see which decision and slack variables are in the basis (i.e. are not at their bounds - marked by 0 value)\n",
    "mdl.vBasis, mdl.cBasis"
   ],
   "metadata": {
    "collapsed": false,
    "ExecuteTime": {
     "end_time": "2024-11-19T01:01:37.077157Z",
     "start_time": "2024-11-19T01:01:37.074630Z"
    }
   },
   "id": "31ce7c10a73a9c1e",
   "outputs": [
    {
     "data": {
      "text/plain": [
       "([0, 0], [-1, -1, 0, 0])"
      ]
     },
     "execution_count": 62,
     "metadata": {},
     "output_type": "execute_result"
    }
   ],
   "execution_count": 62
  },
  {
   "cell_type": "code",
   "source": [
    "# original basis cone\n",
    "cone_0 = -(np.linalg.inv(A_b) @ A_n)\n",
    "cone_0"
   ],
   "metadata": {
    "collapsed": false,
    "ExecuteTime": {
     "end_time": "2024-11-19T01:01:37.238170Z",
     "start_time": "2024-11-19T01:01:37.228131Z"
    }
   },
   "id": "2905fc6e14fe897a",
   "outputs": [
    {
     "data": {
      "text/plain": [
       "array([[ 0.5, -0.5],\n",
       "       [-0.5, -0.5],\n",
       "       [ 0.5, -0.5],\n",
       "       [-0.5, -0.5]])"
      ]
     },
     "execution_count": 63,
     "metadata": {},
     "output_type": "execute_result"
    }
   ],
   "execution_count": 63
  },
  {
   "metadata": {
    "ExecuteTime": {
     "end_time": "2024-11-19T01:01:37.406300Z",
     "start_time": "2024-11-19T01:01:37.400839Z"
    }
   },
   "cell_type": "code",
   "source": "c_b @ (np.linalg.inv(A_b) @ A_n) - c_n",
   "id": "ad9725045c71180b",
   "outputs": [
    {
     "data": {
      "text/plain": [
       "array([-0.5, -1.5])"
      ]
     },
     "execution_count": 64,
     "metadata": {},
     "output_type": "execute_result"
    }
   ],
   "execution_count": 64
  },
  {
   "metadata": {
    "ExecuteTime": {
     "end_time": "2024-11-19T01:01:37.766597Z",
     "start_time": "2024-11-19T01:01:37.751422Z"
    }
   },
   "cell_type": "code",
   "source": "A0",
   "id": "52e2af8310cf1549",
   "outputs": [
    {
     "data": {
      "text/plain": [
       "array([[ 1., -1.],\n",
       "       [-1., -1.],\n",
       "       [ 1.,  0.],\n",
       "       [ 0.,  1.]])"
      ]
     },
     "execution_count": 65,
     "metadata": {},
     "output_type": "execute_result"
    }
   ],
   "execution_count": 65
  },
  {
   "cell_type": "markdown",
   "source": "# Repeat for Left Child",
   "metadata": {
    "collapsed": false
   },
   "id": "77fba33c7e25ff15"
  },
  {
   "cell_type": "code",
   "source": [
    "# Set branching down constraint X <= 1\n",
    "mdl_1 = mdl.copy()\n",
    "x, y = mdl_1.getVarByName('x'), mdl_1.getVarByName('y')\n",
    "constr_1_3 = mdl_1.addConstr(-x >= -1, \"constr_1_3\")\n",
    "\n",
    "# find the new solution\n",
    "mdl_1.optimize()\n",
    "\n",
    "# get the model as np arrays\n",
    "A1 = mdl_1.getA().toarray()\n",
    "b1 = np.array([c.rhs for c in mdl_1.getConstrs()])\n",
    "c1 = np.array([v.obj for v in mdl_1.getVars()])\n",
    "\n",
    "x.x, y.x"
   ],
   "metadata": {
    "collapsed": false,
    "ExecuteTime": {
     "end_time": "2024-11-19T01:01:40.123549Z",
     "start_time": "2024-11-19T01:01:40.106409Z"
    }
   },
   "id": "cb27f1ecf7fae334",
   "outputs": [
    {
     "name": "stdout",
     "output_type": "stream",
     "text": [
      "Gurobi Optimizer version 10.0.3 build v10.0.3rc0 (mac64[arm])\n",
      "\n",
      "CPU model: Apple M1\n",
      "Thread count: 8 physical cores, 8 logical processors, using up to 8 threads\n",
      "\n",
      "Optimize a model with 5 rows, 2 columns and 7 nonzeros\n",
      "Model fingerprint: 0x5325852e\n",
      "Coefficient statistics:\n",
      "  Matrix range     [1e+00, 1e+00]\n",
      "  Objective range  [1e+00, 2e+00]\n",
      "  Bounds range     [0e+00, 0e+00]\n",
      "  RHS range        [1e+00, 3e+00]\n",
      "Presolve removed 5 rows and 2 columns\n",
      "Presolve time: 0.00s\n",
      "Presolve: All rows and columns removed\n",
      "Iteration    Objective       Primal Inf.    Dual Inf.      Time\n",
      "       0   -3.0000000e+00   0.000000e+00   0.000000e+00      0s\n",
      "\n",
      "Solved in 0 iterations and 0.01 seconds (0.00 work units)\n",
      "Optimal objective -3.000000000e+00\n"
     ]
    },
    {
     "data": {
      "text/plain": [
       "(1.0, 1.0)"
      ]
     },
     "execution_count": 66,
     "metadata": {},
     "output_type": "execute_result"
    }
   ],
   "execution_count": 66
  },
  {
   "metadata": {},
   "cell_type": "markdown",
   "source": "# Find the Left Child Optimal Basis Cone",
   "id": "126a5a821d59d992"
  },
  {
   "metadata": {
    "collapsed": false,
    "ExecuteTime": {
     "end_time": "2024-11-19T01:01:41.171189Z",
     "start_time": "2024-11-19T01:01:41.169438Z"
    }
   },
   "cell_type": "code",
   "source": [
    "# get the tableau primitives for the root optimal basis\n",
    "A_b, c_b, A_n, c_n = get_tableau_primitives(mdl_1)"
   ],
   "id": "871946f30625a9b8",
   "outputs": [],
   "execution_count": 67
  },
  {
   "metadata": {
    "collapsed": false,
    "ExecuteTime": {
     "end_time": "2024-11-19T01:01:41.532332Z",
     "start_time": "2024-11-19T01:01:41.529251Z"
    }
   },
   "cell_type": "code",
   "source": [
    "# see which decision and slack variables are in the basis (i.e. are not at their bounds - marked by 0 value)\n",
    "mdl_1.vBasis, mdl_1.cBasis"
   ],
   "id": "f92427373ab9ebab",
   "outputs": [
    {
     "data": {
      "text/plain": [
       "([0, 0], [-1, 0, 0, 0, -1])"
      ]
     },
     "execution_count": 68,
     "metadata": {},
     "output_type": "execute_result"
    }
   ],
   "execution_count": 68
  },
  {
   "metadata": {
    "collapsed": false,
    "ExecuteTime": {
     "end_time": "2024-11-19T01:01:42.066908Z",
     "start_time": "2024-11-19T01:01:42.062301Z"
    }
   },
   "cell_type": "code",
   "source": [
    "# original basis cone\n",
    "cone_1 = -(np.linalg.inv(A_b) @ A_n)\n",
    "cone_1"
   ],
   "id": "8b557634f71e5425",
   "outputs": [
    {
     "data": {
      "text/plain": [
       "array([[-0., -1.],\n",
       "       [-1., -1.],\n",
       "       [ 1.,  2.],\n",
       "       [-0., -1.],\n",
       "       [-1., -1.]])"
      ]
     },
     "execution_count": 69,
     "metadata": {},
     "output_type": "execute_result"
    }
   ],
   "execution_count": 69
  },
  {
   "metadata": {
    "ExecuteTime": {
     "end_time": "2024-11-19T01:01:42.598409Z",
     "start_time": "2024-11-19T01:01:42.594933Z"
    }
   },
   "cell_type": "code",
   "source": "c_b @ (np.linalg.inv(A_b) @ A_n) - c_n",
   "id": "98e26c4b3382425e",
   "outputs": [
    {
     "data": {
      "text/plain": [
       "array([-2., -3.])"
      ]
     },
     "execution_count": 70,
     "metadata": {},
     "output_type": "execute_result"
    }
   ],
   "execution_count": 70
  },
  {
   "metadata": {
    "ExecuteTime": {
     "end_time": "2024-11-19T01:03:32.278214Z",
     "start_time": "2024-11-19T01:03:32.273558Z"
    }
   },
   "cell_type": "code",
   "source": "np.linalg.inv(A_b) @ b1",
   "id": "b80da74d54171326",
   "outputs": [
    {
     "data": {
      "text/plain": [
       "array([1., 1., 1., 1., 1.])"
      ]
     },
     "execution_count": 75,
     "metadata": {},
     "output_type": "execute_result"
    }
   ],
   "execution_count": 75
  },
  {
   "metadata": {
    "ExecuteTime": {
     "end_time": "2024-11-19T01:01:43.993482Z",
     "start_time": "2024-11-19T01:01:43.988313Z"
    }
   },
   "cell_type": "code",
   "source": "np.linalg.inv(A_b)",
   "id": "caf4af8b6f1eda38",
   "outputs": [
    {
     "data": {
      "text/plain": [
       "array([[ 0.,  0.,  0.,  0., -1.],\n",
       "       [-1., -0., -0., -0., -1.],\n",
       "       [ 1., -1., -0., -0.,  2.],\n",
       "       [ 0.,  0., -1.,  0., -1.],\n",
       "       [-1., -0., -0., -1., -1.]])"
      ]
     },
     "execution_count": 72,
     "metadata": {},
     "output_type": "execute_result"
    }
   ],
   "execution_count": 72
  },
  {
   "metadata": {
    "ExecuteTime": {
     "end_time": "2024-11-19T01:10:52.144244Z",
     "start_time": "2024-11-19T01:10:52.137417Z"
    }
   },
   "cell_type": "code",
   "source": "A_n",
   "id": "6b6c0a4aab4a4e4d",
   "outputs": [
    {
     "data": {
      "text/plain": [
       "array([[-1.,  0.],\n",
       "       [ 0.,  0.],\n",
       "       [ 0.,  0.],\n",
       "       [ 0.,  0.],\n",
       "       [ 0., -1.]])"
      ]
     },
     "execution_count": 76,
     "metadata": {},
     "output_type": "execute_result"
    }
   ],
   "execution_count": 76
  },
  {
   "metadata": {},
   "cell_type": "markdown",
   "source": "# Repeat for Right Child",
   "id": "71e85a20f31d5ee3"
  },
  {
   "metadata": {
    "collapsed": false,
    "ExecuteTime": {
     "end_time": "2024-11-19T01:18:41.585654Z",
     "start_time": "2024-11-19T01:18:41.559113Z"
    }
   },
   "cell_type": "code",
   "source": [
    "# Set branching down constraint x >= 2\n",
    "mdl_2 = mdl.copy()\n",
    "x, y = mdl_2.getVarByName('x'), mdl_2.getVarByName('y')\n",
    "constr_2_3 = mdl_2.addConstr(x >= 2, \"constr_2_3\")\n",
    "\n",
    "# find the new solution\n",
    "mdl_2.optimize()\n",
    "\n",
    "# get the model as np arrays\n",
    "A2 = mdl_2.getA().toarray()\n",
    "b2 = np.array([c.rhs for c in mdl_2.getConstrs()])\n",
    "c2 = np.array([v.obj for v in mdl_2.getVars()])\n",
    "\n",
    "x.x, y.x"
   ],
   "id": "2e6796d8c947b055",
   "outputs": [
    {
     "name": "stdout",
     "output_type": "stream",
     "text": [
      "Gurobi Optimizer version 10.0.3 build v10.0.3rc0 (mac64[arm])\n",
      "\n",
      "CPU model: Apple M1\n",
      "Thread count: 8 physical cores, 8 logical processors, using up to 8 threads\n",
      "\n",
      "Optimize a model with 5 rows, 2 columns and 7 nonzeros\n",
      "Model fingerprint: 0x33b6857a\n",
      "Coefficient statistics:\n",
      "  Matrix range     [1e+00, 1e+00]\n",
      "  Objective range  [1e+00, 2e+00]\n",
      "  Bounds range     [0e+00, 0e+00]\n",
      "  RHS range        [2e+00, 3e+00]\n",
      "Presolve removed 5 rows and 2 columns\n",
      "Presolve time: 0.01s\n",
      "Presolve: All rows and columns removed\n",
      "Iteration    Objective       Primal Inf.    Dual Inf.      Time\n",
      "       0   -4.0000000e+00   0.000000e+00   0.000000e+00      0s\n",
      "\n",
      "Solved in 0 iterations and 0.01 seconds (0.00 work units)\n",
      "Optimal objective -4.000000000e+00\n"
     ]
    },
    {
     "data": {
      "text/plain": [
       "(2.0, 1.0)"
      ]
     },
     "execution_count": 77,
     "metadata": {},
     "output_type": "execute_result"
    }
   ],
   "execution_count": 77
  },
  {
   "metadata": {},
   "cell_type": "markdown",
   "source": "# Find the Right Child Optimal Basis Cone",
   "id": "9021aabdd976217"
  },
  {
   "metadata": {
    "collapsed": false,
    "ExecuteTime": {
     "end_time": "2024-11-19T01:18:42.522772Z",
     "start_time": "2024-11-19T01:18:42.521083Z"
    }
   },
   "cell_type": "code",
   "source": [
    "# get the tableau primitives for the root optimal basis\n",
    "A_b, c_b, A_n, c_n = get_tableau_primitives(mdl_2)"
   ],
   "id": "78889279db8e7841",
   "outputs": [],
   "execution_count": 78
  },
  {
   "metadata": {
    "collapsed": false,
    "ExecuteTime": {
     "end_time": "2024-11-19T01:18:43.545349Z",
     "start_time": "2024-11-19T01:18:43.541358Z"
    }
   },
   "cell_type": "code",
   "source": [
    "# see which decision and slack variables are in the basis (i.e. are not at their bounds - marked by 0 value)\n",
    "mdl_2.vBasis, mdl_2.cBasis"
   ],
   "id": "6c00e235b76dab6b",
   "outputs": [
    {
     "data": {
      "text/plain": [
       "([0, 0], [0, -1, 0, 0, -1])"
      ]
     },
     "execution_count": 79,
     "metadata": {},
     "output_type": "execute_result"
    }
   ],
   "execution_count": 79
  },
  {
   "metadata": {
    "collapsed": false,
    "ExecuteTime": {
     "end_time": "2024-11-19T01:18:43.920025Z",
     "start_time": "2024-11-19T01:18:43.914880Z"
    }
   },
   "cell_type": "code",
   "source": [
    "# original basis cone\n",
    "cone_2 = -(np.linalg.inv(A_b) @ A_n)\n",
    "cone_2"
   ],
   "id": "d09c03eea94984ae",
   "outputs": [
    {
     "data": {
      "text/plain": [
       "array([[-0.,  1.],\n",
       "       [-1., -1.],\n",
       "       [ 1.,  2.],\n",
       "       [-0.,  1.],\n",
       "       [-1., -1.]])"
      ]
     },
     "execution_count": 80,
     "metadata": {},
     "output_type": "execute_result"
    }
   ],
   "execution_count": 80
  },
  {
   "metadata": {
    "ExecuteTime": {
     "end_time": "2024-11-19T01:18:44.367757Z",
     "start_time": "2024-11-19T01:18:44.365593Z"
    }
   },
   "cell_type": "code",
   "source": "A_n",
   "id": "61a1e98c794f7119",
   "outputs": [
    {
     "data": {
      "text/plain": [
       "array([[ 0.,  0.],\n",
       "       [-1.,  0.],\n",
       "       [ 0.,  0.],\n",
       "       [ 0.,  0.],\n",
       "       [ 0., -1.]])"
      ]
     },
     "execution_count": 81,
     "metadata": {},
     "output_type": "execute_result"
    }
   ],
   "execution_count": 81
  },
  {
   "metadata": {
    "ExecuteTime": {
     "end_time": "2024-11-19T01:18:46.824049Z",
     "start_time": "2024-11-19T01:18:46.815895Z"
    }
   },
   "cell_type": "code",
   "source": "c_b @ (np.linalg.inv(A_b) @ A_n) - c_n",
   "id": "adf800c50e0d6f75",
   "outputs": [
    {
     "data": {
      "text/plain": [
       "array([-2., -1.])"
      ]
     },
     "execution_count": 82,
     "metadata": {},
     "output_type": "execute_result"
    }
   ],
   "execution_count": 82
  },
  {
   "metadata": {
    "ExecuteTime": {
     "end_time": "2024-11-19T01:18:48.644920Z",
     "start_time": "2024-11-19T01:18:48.639129Z"
    }
   },
   "cell_type": "code",
   "source": "np.linalg.inv(A_b) @ b2",
   "id": "4010c825b87c5ed9",
   "outputs": [
    {
     "data": {
      "text/plain": [
       "array([2., 1., 1., 2., 1.])"
      ]
     },
     "execution_count": 83,
     "metadata": {},
     "output_type": "execute_result"
    }
   ],
   "execution_count": 83
  },
  {
   "metadata": {
    "ExecuteTime": {
     "end_time": "2024-11-19T01:18:49.360895Z",
     "start_time": "2024-11-19T01:18:49.356974Z"
    }
   },
   "cell_type": "code",
   "source": "np.linalg.inv(A_b)",
   "id": "ff8c94d19d9c2611",
   "outputs": [
    {
     "data": {
      "text/plain": [
       "array([[ 0.,  0.,  0.,  0.,  1.],\n",
       "       [-0., -1., -0., -0., -1.],\n",
       "       [-1.,  1.,  0.,  0.,  2.],\n",
       "       [-0., -0., -1., -0.,  1.],\n",
       "       [-0., -1., -0., -1., -1.]])"
      ]
     },
     "execution_count": 84,
     "metadata": {},
     "output_type": "execute_result"
    }
   ],
   "execution_count": 84
  },
  {
   "metadata": {
    "ExecuteTime": {
     "end_time": "2024-11-19T01:18:49.981918Z",
     "start_time": "2024-11-19T01:18:49.979672Z"
    }
   },
   "cell_type": "code",
   "source": "b2",
   "id": "c198a21c26aebc9c",
   "outputs": [
    {
     "data": {
      "text/plain": [
       "array([ 0., -3.,  0.,  0.,  2.])"
      ]
     },
     "execution_count": 85,
     "metadata": {},
     "output_type": "execute_result"
    }
   ],
   "execution_count": 85
  },
  {
   "metadata": {},
   "cell_type": "code",
   "outputs": [],
   "execution_count": null,
   "source": "",
   "id": "1f7f45a0182a5c12"
  }
 ],
 "metadata": {
  "kernelspec": {
   "display_name": "Python 3",
   "language": "python",
   "name": "python3"
  },
  "language_info": {
   "codemirror_mode": {
    "name": "ipython",
    "version": 2
   },
   "file_extension": ".py",
   "mimetype": "text/x-python",
   "name": "python",
   "nbconvert_exporter": "python",
   "pygments_lexer": "ipython2",
   "version": "2.7.6"
  }
 },
 "nbformat": 4,
 "nbformat_minor": 5
}
