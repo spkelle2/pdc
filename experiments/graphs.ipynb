{
 "cells": [
  {
   "cell_type": "raw",
   "source": [],
   "metadata": {
    "collapsed": false
   },
   "id": "e7e73609072665d4"
  },
  {
   "cell_type": "code",
   "execution_count": 1,
   "outputs": [],
   "source": [
    "import os\n",
    "import pandas as pd\n",
    "import re\n",
    "from scipy.stats.mstats import gmean"
   ],
   "metadata": {
    "collapsed": false,
    "ExecuteTime": {
     "end_time": "2023-10-27T18:55:18.863972Z",
     "start_time": "2023-10-27T18:55:16.693551Z"
    }
   },
   "id": "1cc59124d1d40dc"
  },
  {
   "cell_type": "markdown",
   "source": [
    "## Read in data"
   ],
   "metadata": {
    "collapsed": false
   },
   "id": "1b96d76b8971a661"
  },
  {
   "cell_type": "code",
   "execution_count": 2,
   "outputs": [],
   "source": [
    "# get the path to the folder with the results\n",
    "instance_fldr = os.path.join(\"results/bm23\")\n",
    "\n",
    "# map generator names to the corresponding data frames\n",
    "df_map = {\n",
    "    \"None\": pd.DataFrame(),\n",
    "    \"Farkas\": pd.DataFrame(),\n",
    "    \"New\": pd.DataFrame(),\n",
    "    \"Old\": pd.DataFrame()\n",
    "}"
   ],
   "metadata": {
    "collapsed": false,
    "ExecuteTime": {
     "end_time": "2023-10-27T18:55:21.586285Z",
     "start_time": "2023-10-27T18:55:21.581986Z"
    }
   },
   "id": "917ce4e46fb9cc3d"
  },
  {
   "cell_type": "code",
   "execution_count": 3,
   "outputs": [],
   "source": [
    "regex = re.compile(r'([a-zA-Z0-9-]+)_([a-z]+)_([0-9-]+)_([0-9]+)_([a-zA-Z ]+)')\n",
    "\n",
    "# iterate over all files in the folder\n",
    "for file_name in os.listdir(instance_fldr):\n",
    "    \n",
    "    # get the experimental set up\n",
    "    match = regex.search(file_name)\n",
    "    instance_name = match.group(1)\n",
    "    perturbation = match.group(2)\n",
    "    degree = 2**int(match.group(3))\n",
    "    terms = int(match.group(4))\n",
    "    generator = match.group(5)\n",
    "    \n",
    "    # read the file\n",
    "    file_pth = os.path.join(instance_fldr, file_name)\n",
    "    df = pd.read_csv(file_pth, keep_default_na=False)\n",
    "    \n",
    "    # add some identifying columns\n",
    "    df[\"problem number\"] = df.index\n",
    "    df[\"instance\"] = instance_name\n",
    "    df[\"perturbation\"] = perturbation\n",
    "    df[\"degree\"] = degree\n",
    "    df[\"terms\"] = terms\n",
    "    \n",
    "    # append to the appropriate data frame\n",
    "    df_map[generator] = pd.concat([df_map[generator], df])"
   ],
   "metadata": {
    "collapsed": false,
    "ExecuteTime": {
     "end_time": "2023-10-27T18:55:24.879132Z",
     "start_time": "2023-10-27T18:55:24.595733Z"
    }
   },
   "id": "cd620191b5a5849a"
  },
  {
   "cell_type": "code",
   "execution_count": 4,
   "outputs": [
    {
     "ename": "KeyError",
     "evalue": "'instance'",
     "output_type": "error",
     "traceback": [
      "\u001B[0;31m---------------------------------------------------------------------------\u001B[0m",
      "\u001B[0;31mKeyError\u001B[0m                                  Traceback (most recent call last)",
      "\u001B[0;32m/var/folders/pb/p1sshdnx5sv12zwsxff8nrg40000gn/T/ipykernel_41000/167003338.py\u001B[0m in \u001B[0;36m?\u001B[0;34m()\u001B[0m\n\u001B[1;32m      1\u001B[0m \u001B[0;31m# merge the 4 different data frames into one\u001B[0m\u001B[0;34m\u001B[0m\u001B[0;34m\u001B[0m\u001B[0m\n\u001B[1;32m      2\u001B[0m \u001B[0mjoin_cols\u001B[0m \u001B[0;34m=\u001B[0m \u001B[0;34m[\u001B[0m\u001B[0;34m\"instance\"\u001B[0m\u001B[0;34m,\u001B[0m \u001B[0;34m\"perturbation\"\u001B[0m\u001B[0;34m,\u001B[0m \u001B[0;34m\"degree\"\u001B[0m\u001B[0;34m,\u001B[0m \u001B[0;34m\"terms\"\u001B[0m\u001B[0;34m,\u001B[0m \u001B[0;34m\"problem number\"\u001B[0m\u001B[0;34m]\u001B[0m\u001B[0;34m\u001B[0m\u001B[0;34m\u001B[0m\u001B[0m\n\u001B[0;32m----> 3\u001B[0;31m df = df_map[\"None\"].merge(df_map[\"New\"], on=join_cols,\n\u001B[0m\u001B[1;32m      4\u001B[0m                                 suffixes=(\" None\", None))\n\u001B[1;32m      5\u001B[0m df = df.merge(df_map[\"Old\"], on=join_cols,\n\u001B[1;32m      6\u001B[0m                           suffixes=(\" New\", None))\n",
      "\u001B[0;32m~/miniconda3/lib/python3.11/site-packages/pandas/core/frame.py\u001B[0m in \u001B[0;36m?\u001B[0;34m(self, right, how, on, left_on, right_on, left_index, right_index, sort, suffixes, copy, indicator, validate)\u001B[0m\n\u001B[1;32m   9839\u001B[0m         \u001B[0mvalidate\u001B[0m\u001B[0;34m:\u001B[0m \u001B[0mstr\u001B[0m \u001B[0;34m|\u001B[0m \u001B[0;32mNone\u001B[0m \u001B[0;34m=\u001B[0m \u001B[0;32mNone\u001B[0m\u001B[0;34m,\u001B[0m\u001B[0;34m\u001B[0m\u001B[0;34m\u001B[0m\u001B[0m\n\u001B[1;32m   9840\u001B[0m     ) -> DataFrame:\n\u001B[1;32m   9841\u001B[0m         \u001B[0;32mfrom\u001B[0m \u001B[0mpandas\u001B[0m\u001B[0;34m.\u001B[0m\u001B[0mcore\u001B[0m\u001B[0;34m.\u001B[0m\u001B[0mreshape\u001B[0m\u001B[0;34m.\u001B[0m\u001B[0mmerge\u001B[0m \u001B[0;32mimport\u001B[0m \u001B[0mmerge\u001B[0m\u001B[0;34m\u001B[0m\u001B[0;34m\u001B[0m\u001B[0m\n\u001B[1;32m   9842\u001B[0m \u001B[0;34m\u001B[0m\u001B[0m\n\u001B[0;32m-> 9843\u001B[0;31m         return merge(\n\u001B[0m\u001B[1;32m   9844\u001B[0m             \u001B[0mself\u001B[0m\u001B[0;34m,\u001B[0m\u001B[0;34m\u001B[0m\u001B[0;34m\u001B[0m\u001B[0m\n\u001B[1;32m   9845\u001B[0m             \u001B[0mright\u001B[0m\u001B[0;34m,\u001B[0m\u001B[0;34m\u001B[0m\u001B[0;34m\u001B[0m\u001B[0m\n\u001B[1;32m   9846\u001B[0m             \u001B[0mhow\u001B[0m\u001B[0;34m=\u001B[0m\u001B[0mhow\u001B[0m\u001B[0;34m,\u001B[0m\u001B[0;34m\u001B[0m\u001B[0;34m\u001B[0m\u001B[0m\n",
      "\u001B[0;32m~/miniconda3/lib/python3.11/site-packages/pandas/core/reshape/merge.py\u001B[0m in \u001B[0;36m?\u001B[0;34m(left, right, how, on, left_on, right_on, left_index, right_index, sort, suffixes, copy, indicator, validate)\u001B[0m\n\u001B[1;32m    144\u001B[0m     \u001B[0mcopy\u001B[0m\u001B[0;34m:\u001B[0m \u001B[0mbool\u001B[0m \u001B[0;34m|\u001B[0m \u001B[0;32mNone\u001B[0m \u001B[0;34m=\u001B[0m \u001B[0;32mNone\u001B[0m\u001B[0;34m,\u001B[0m\u001B[0;34m\u001B[0m\u001B[0;34m\u001B[0m\u001B[0m\n\u001B[1;32m    145\u001B[0m     \u001B[0mindicator\u001B[0m\u001B[0;34m:\u001B[0m \u001B[0mstr\u001B[0m \u001B[0;34m|\u001B[0m \u001B[0mbool\u001B[0m \u001B[0;34m=\u001B[0m \u001B[0;32mFalse\u001B[0m\u001B[0;34m,\u001B[0m\u001B[0;34m\u001B[0m\u001B[0;34m\u001B[0m\u001B[0m\n\u001B[1;32m    146\u001B[0m     \u001B[0mvalidate\u001B[0m\u001B[0;34m:\u001B[0m \u001B[0mstr\u001B[0m \u001B[0;34m|\u001B[0m \u001B[0;32mNone\u001B[0m \u001B[0;34m=\u001B[0m \u001B[0;32mNone\u001B[0m\u001B[0;34m,\u001B[0m\u001B[0;34m\u001B[0m\u001B[0;34m\u001B[0m\u001B[0m\n\u001B[1;32m    147\u001B[0m ) -> DataFrame:\n\u001B[0;32m--> 148\u001B[0;31m     op = _MergeOperation(\n\u001B[0m\u001B[1;32m    149\u001B[0m         \u001B[0mleft\u001B[0m\u001B[0;34m,\u001B[0m\u001B[0;34m\u001B[0m\u001B[0;34m\u001B[0m\u001B[0m\n\u001B[1;32m    150\u001B[0m         \u001B[0mright\u001B[0m\u001B[0;34m,\u001B[0m\u001B[0;34m\u001B[0m\u001B[0;34m\u001B[0m\u001B[0m\n\u001B[1;32m    151\u001B[0m         \u001B[0mhow\u001B[0m\u001B[0;34m=\u001B[0m\u001B[0mhow\u001B[0m\u001B[0;34m,\u001B[0m\u001B[0;34m\u001B[0m\u001B[0;34m\u001B[0m\u001B[0m\n",
      "\u001B[0;32m~/miniconda3/lib/python3.11/site-packages/pandas/core/reshape/merge.py\u001B[0m in \u001B[0;36m?\u001B[0;34m(self, left, right, how, on, left_on, right_on, axis, left_index, right_index, sort, suffixes, indicator, validate)\u001B[0m\n\u001B[1;32m    733\u001B[0m         (\n\u001B[1;32m    734\u001B[0m             \u001B[0mself\u001B[0m\u001B[0;34m.\u001B[0m\u001B[0mleft_join_keys\u001B[0m\u001B[0;34m,\u001B[0m\u001B[0;34m\u001B[0m\u001B[0;34m\u001B[0m\u001B[0m\n\u001B[1;32m    735\u001B[0m             \u001B[0mself\u001B[0m\u001B[0;34m.\u001B[0m\u001B[0mright_join_keys\u001B[0m\u001B[0;34m,\u001B[0m\u001B[0;34m\u001B[0m\u001B[0;34m\u001B[0m\u001B[0m\n\u001B[1;32m    736\u001B[0m             \u001B[0mself\u001B[0m\u001B[0;34m.\u001B[0m\u001B[0mjoin_names\u001B[0m\u001B[0;34m,\u001B[0m\u001B[0;34m\u001B[0m\u001B[0;34m\u001B[0m\u001B[0m\n\u001B[0;32m--> 737\u001B[0;31m         ) = self._get_merge_keys()\n\u001B[0m\u001B[1;32m    738\u001B[0m \u001B[0;34m\u001B[0m\u001B[0m\n\u001B[1;32m    739\u001B[0m         \u001B[0;31m# validate the merge keys dtypes. We may need to coerce\u001B[0m\u001B[0;34m\u001B[0m\u001B[0;34m\u001B[0m\u001B[0m\n\u001B[1;32m    740\u001B[0m         \u001B[0;31m# to avoid incompatible dtypes\u001B[0m\u001B[0;34m\u001B[0m\u001B[0;34m\u001B[0m\u001B[0m\n",
      "\u001B[0;32m~/miniconda3/lib/python3.11/site-packages/pandas/core/reshape/merge.py\u001B[0m in \u001B[0;36m?\u001B[0;34m(self)\u001B[0m\n\u001B[1;32m   1199\u001B[0m                         \u001B[0;31m# Then we're either Hashable or a wrong-length arraylike,\u001B[0m\u001B[0;34m\u001B[0m\u001B[0;34m\u001B[0m\u001B[0m\n\u001B[1;32m   1200\u001B[0m                         \u001B[0;31m#  the latter of which will raise\u001B[0m\u001B[0;34m\u001B[0m\u001B[0;34m\u001B[0m\u001B[0m\n\u001B[1;32m   1201\u001B[0m                         \u001B[0mrk\u001B[0m \u001B[0;34m=\u001B[0m \u001B[0mcast\u001B[0m\u001B[0;34m(\u001B[0m\u001B[0mHashable\u001B[0m\u001B[0;34m,\u001B[0m \u001B[0mrk\u001B[0m\u001B[0;34m)\u001B[0m\u001B[0;34m\u001B[0m\u001B[0;34m\u001B[0m\u001B[0m\n\u001B[1;32m   1202\u001B[0m                         \u001B[0;32mif\u001B[0m \u001B[0mrk\u001B[0m \u001B[0;32mis\u001B[0m \u001B[0;32mnot\u001B[0m \u001B[0;32mNone\u001B[0m\u001B[0;34m:\u001B[0m\u001B[0;34m\u001B[0m\u001B[0;34m\u001B[0m\u001B[0m\n\u001B[0;32m-> 1203\u001B[0;31m                             \u001B[0mright_keys\u001B[0m\u001B[0;34m.\u001B[0m\u001B[0mappend\u001B[0m\u001B[0;34m(\u001B[0m\u001B[0mright\u001B[0m\u001B[0;34m.\u001B[0m\u001B[0m_get_label_or_level_values\u001B[0m\u001B[0;34m(\u001B[0m\u001B[0mrk\u001B[0m\u001B[0;34m)\u001B[0m\u001B[0;34m)\u001B[0m\u001B[0;34m\u001B[0m\u001B[0;34m\u001B[0m\u001B[0m\n\u001B[0m\u001B[1;32m   1204\u001B[0m                         \u001B[0;32melse\u001B[0m\u001B[0;34m:\u001B[0m\u001B[0;34m\u001B[0m\u001B[0;34m\u001B[0m\u001B[0m\n\u001B[1;32m   1205\u001B[0m                             \u001B[0;31m# work-around for merge_asof(right_index=True)\u001B[0m\u001B[0;34m\u001B[0m\u001B[0;34m\u001B[0m\u001B[0m\n\u001B[1;32m   1206\u001B[0m                             \u001B[0mright_keys\u001B[0m\u001B[0;34m.\u001B[0m\u001B[0mappend\u001B[0m\u001B[0;34m(\u001B[0m\u001B[0mright\u001B[0m\u001B[0;34m.\u001B[0m\u001B[0mindex\u001B[0m\u001B[0;34m)\u001B[0m\u001B[0;34m\u001B[0m\u001B[0;34m\u001B[0m\u001B[0m\n",
      "\u001B[0;32m~/miniconda3/lib/python3.11/site-packages/pandas/core/generic.py\u001B[0m in \u001B[0;36m?\u001B[0;34m(self, key, axis)\u001B[0m\n\u001B[1;32m   1774\u001B[0m             \u001B[0mvalues\u001B[0m \u001B[0;34m=\u001B[0m \u001B[0mself\u001B[0m\u001B[0;34m.\u001B[0m\u001B[0mxs\u001B[0m\u001B[0;34m(\u001B[0m\u001B[0mkey\u001B[0m\u001B[0;34m,\u001B[0m \u001B[0maxis\u001B[0m\u001B[0;34m=\u001B[0m\u001B[0mother_axes\u001B[0m\u001B[0;34m[\u001B[0m\u001B[0;36m0\u001B[0m\u001B[0;34m]\u001B[0m\u001B[0;34m)\u001B[0m\u001B[0;34m.\u001B[0m\u001B[0m_values\u001B[0m\u001B[0;34m\u001B[0m\u001B[0;34m\u001B[0m\u001B[0m\n\u001B[1;32m   1775\u001B[0m         \u001B[0;32melif\u001B[0m \u001B[0mself\u001B[0m\u001B[0;34m.\u001B[0m\u001B[0m_is_level_reference\u001B[0m\u001B[0;34m(\u001B[0m\u001B[0mkey\u001B[0m\u001B[0;34m,\u001B[0m \u001B[0maxis\u001B[0m\u001B[0;34m=\u001B[0m\u001B[0maxis\u001B[0m\u001B[0;34m)\u001B[0m\u001B[0;34m:\u001B[0m\u001B[0;34m\u001B[0m\u001B[0;34m\u001B[0m\u001B[0m\n\u001B[1;32m   1776\u001B[0m             \u001B[0mvalues\u001B[0m \u001B[0;34m=\u001B[0m \u001B[0mself\u001B[0m\u001B[0;34m.\u001B[0m\u001B[0maxes\u001B[0m\u001B[0;34m[\u001B[0m\u001B[0maxis\u001B[0m\u001B[0;34m]\u001B[0m\u001B[0;34m.\u001B[0m\u001B[0mget_level_values\u001B[0m\u001B[0;34m(\u001B[0m\u001B[0mkey\u001B[0m\u001B[0;34m)\u001B[0m\u001B[0;34m.\u001B[0m\u001B[0m_values\u001B[0m\u001B[0;34m\u001B[0m\u001B[0;34m\u001B[0m\u001B[0m\n\u001B[1;32m   1777\u001B[0m         \u001B[0;32melse\u001B[0m\u001B[0;34m:\u001B[0m\u001B[0;34m\u001B[0m\u001B[0;34m\u001B[0m\u001B[0m\n\u001B[0;32m-> 1778\u001B[0;31m             \u001B[0;32mraise\u001B[0m \u001B[0mKeyError\u001B[0m\u001B[0;34m(\u001B[0m\u001B[0mkey\u001B[0m\u001B[0;34m)\u001B[0m\u001B[0;34m\u001B[0m\u001B[0;34m\u001B[0m\u001B[0m\n\u001B[0m\u001B[1;32m   1779\u001B[0m \u001B[0;34m\u001B[0m\u001B[0m\n\u001B[1;32m   1780\u001B[0m         \u001B[0;31m# Check for duplicates\u001B[0m\u001B[0;34m\u001B[0m\u001B[0;34m\u001B[0m\u001B[0m\n\u001B[1;32m   1781\u001B[0m         \u001B[0;32mif\u001B[0m \u001B[0mvalues\u001B[0m\u001B[0;34m.\u001B[0m\u001B[0mndim\u001B[0m \u001B[0;34m>\u001B[0m \u001B[0;36m1\u001B[0m\u001B[0;34m:\u001B[0m\u001B[0;34m\u001B[0m\u001B[0;34m\u001B[0m\u001B[0m\n",
      "\u001B[0;31mKeyError\u001B[0m: 'instance'"
     ]
    }
   ],
   "source": [
    "# merge the 4 different data frames into one\n",
    "join_cols = [\"instance\", \"perturbation\", \"degree\", \"terms\", \"problem number\"]\n",
    "df = df_map[\"None\"].merge(df_map[\"New\"], on=join_cols,\n",
    "                                suffixes=(\" None\", None))\n",
    "df = df.merge(df_map[\"Old\"], on=join_cols,\n",
    "                          suffixes=(\" New\", None))\n",
    "df = df.merge(df_map[\"Farkas\"], on=join_cols,\n",
    "                          suffixes=(\" Old\", \" Farkas\"))\n",
    "df"
   ],
   "metadata": {
    "collapsed": false,
    "ExecuteTime": {
     "end_time": "2023-10-27T18:55:27.429685Z",
     "start_time": "2023-10-27T18:55:27.292333Z"
    }
   },
   "id": "66dfd7e3d44a3585"
  },
  {
   "cell_type": "code",
   "execution_count": 21,
   "outputs": [],
   "source": [
    "def gap_closed(df, col):\n",
    "    return (df[col] - df[\"lpBound None\"]) / \\\n",
    "        (df['primalBound None'] - df[\"lpBound None\"]) "
   ],
   "metadata": {
    "collapsed": false,
    "ExecuteTime": {
     "end_time": "2023-10-25T20:39:08.322304Z",
     "start_time": "2023-10-25T20:39:08.317218Z"
    }
   },
   "id": "184a7a72592a8126"
  },
  {
   "cell_type": "code",
   "execution_count": 22,
   "outputs": [],
   "source": [
    "# find the optimality gap closed by each generator\n",
    "df[\"Disjunction (New)\"] = gap_closed(df, \"disjunctiveDualBound New\")\n",
    "df[\"Disjunction (Old)\"] = gap_closed(df, \"disjunctiveDualBound Old\")\n",
    "df[\"VPCs (New)\"] = gap_closed(df, \"lpBoundPostVpc New\")\n",
    "df[\"VPCs (Old)\"] = gap_closed(df, \"lpBoundPostVpc Old\")\n",
    "df[\"VPCs (Farkas)\"] = gap_closed(df, \"lpBoundPostVpc Farkas\")\n",
    "df[\"Root Cuts (None)\"] = gap_closed(df, \"rootDualBound None\")\n",
    "df[\"Root Cuts (New)\"] = gap_closed(df, \"rootDualBound New\")\n",
    "df[\"Root Cuts (Old)\"] = gap_closed(df, \"rootDualBound Old\")\n",
    "df[\"Root Cuts (Farkas)\"] = gap_closed(df, \"rootDualBound Farkas\")"
   ],
   "metadata": {
    "collapsed": false,
    "ExecuteTime": {
     "end_time": "2023-10-25T20:39:08.657459Z",
     "start_time": "2023-10-25T20:39:08.654932Z"
    }
   },
   "id": "2e64c92d6bbd14b9"
  },
  {
   "cell_type": "code",
   "execution_count": 23,
   "outputs": [],
   "source": [
    "# set aside core columns and filter for all subsequent dataframes\n",
    "group_cols = [\"instance\", \"perturbation\", \"degree\", \"terms\"]\n",
    "id_cols = [\"problem number\"]\n",
    "mask = (df[\"problem number\"] > 0) & (df[\"Disjunction (New)\"] < .9999)"
   ],
   "metadata": {
    "collapsed": false,
    "ExecuteTime": {
     "end_time": "2023-10-25T20:39:08.973363Z",
     "start_time": "2023-10-25T20:39:08.966385Z"
    }
   },
   "id": "aaf188cb8e62b573"
  },
  {
   "cell_type": "markdown",
   "source": [
    "## Make bound table"
   ],
   "metadata": {
    "collapsed": false
   },
   "id": "2f3bb4783d418904"
  },
  {
   "cell_type": "code",
   "execution_count": 24,
   "outputs": [
    {
     "data": {
      "text/plain": "    instance perturbation  degree  terms  problem number  Disjunction (New)  \\\n5       bm23          rhs       2     64               5           0.784825   \n12      bm23          rhs       2      8               1           0.136666   \n13      bm23          rhs       2      8               2           0.233139   \n14      bm23          rhs       2      8               3           0.163926   \n15      bm23          rhs       2      8               4           0.283649   \n..       ...          ...     ...    ...             ...                ...   \n377     bm23    objective       4     16               6           0.437880   \n378     bm23    objective       4     16               7           0.395430   \n379     bm23    objective       4     16               8           0.395430   \n380     bm23    objective       4     16               9           0.476621   \n381     bm23    objective       4     16              10           0.499094   \n\n     Disjunction (Old)  VPCs (New)  VPCs (Old)  VPCs (Farkas)  \\\n5             0.732415    0.757973    0.726031       0.000000   \n12            0.076904    0.130857    0.076904       0.076904   \n13            0.233139    0.231129    0.230013       0.182538   \n14            0.163926    0.163926    0.163926       0.163926   \n15            0.283649    0.282967    0.283649       0.192381   \n..                 ...         ...         ...            ...   \n377           0.354568    0.374561    0.299250       0.342344   \n378           0.395430    0.372075    0.380370       0.382570   \n379           0.395430    0.380581    0.395430       0.384407   \n380           0.420377    0.462353    0.417436       0.397631   \n381           0.411626    0.443662    0.411626       0.380722   \n\n     Root Cuts (None)  Root Cuts (New)  Root Cuts (Old)  Root Cuts (Farkas)  \n5            0.413128         0.758680         0.728494            0.413128  \n12           0.364447         0.364447         0.364447            0.364447  \n13           0.451858         0.451858         0.451858            0.451858  \n14           0.376273         0.376273         0.376273            0.376273  \n15           0.436065         0.436082         0.436078            0.436073  \n..                ...              ...              ...                 ...  \n377          0.312068         0.379756         0.313838            0.369199  \n378          0.348786         0.390846         0.396553            0.389163  \n379          0.356923         0.400758         0.405044            0.401618  \n380          0.379600         0.465689         0.439910            0.409087  \n381          0.321229         0.444401         0.416090            0.393979  \n\n[301 rows x 14 columns]",
      "text/html": "<div>\n<style scoped>\n    .dataframe tbody tr th:only-of-type {\n        vertical-align: middle;\n    }\n\n    .dataframe tbody tr th {\n        vertical-align: top;\n    }\n\n    .dataframe thead th {\n        text-align: right;\n    }\n</style>\n<table border=\"1\" class=\"dataframe\">\n  <thead>\n    <tr style=\"text-align: right;\">\n      <th></th>\n      <th>instance</th>\n      <th>perturbation</th>\n      <th>degree</th>\n      <th>terms</th>\n      <th>problem number</th>\n      <th>Disjunction (New)</th>\n      <th>Disjunction (Old)</th>\n      <th>VPCs (New)</th>\n      <th>VPCs (Old)</th>\n      <th>VPCs (Farkas)</th>\n      <th>Root Cuts (None)</th>\n      <th>Root Cuts (New)</th>\n      <th>Root Cuts (Old)</th>\n      <th>Root Cuts (Farkas)</th>\n    </tr>\n  </thead>\n  <tbody>\n    <tr>\n      <th>5</th>\n      <td>bm23</td>\n      <td>rhs</td>\n      <td>2</td>\n      <td>64</td>\n      <td>5</td>\n      <td>0.784825</td>\n      <td>0.732415</td>\n      <td>0.757973</td>\n      <td>0.726031</td>\n      <td>0.000000</td>\n      <td>0.413128</td>\n      <td>0.758680</td>\n      <td>0.728494</td>\n      <td>0.413128</td>\n    </tr>\n    <tr>\n      <th>12</th>\n      <td>bm23</td>\n      <td>rhs</td>\n      <td>2</td>\n      <td>8</td>\n      <td>1</td>\n      <td>0.136666</td>\n      <td>0.076904</td>\n      <td>0.130857</td>\n      <td>0.076904</td>\n      <td>0.076904</td>\n      <td>0.364447</td>\n      <td>0.364447</td>\n      <td>0.364447</td>\n      <td>0.364447</td>\n    </tr>\n    <tr>\n      <th>13</th>\n      <td>bm23</td>\n      <td>rhs</td>\n      <td>2</td>\n      <td>8</td>\n      <td>2</td>\n      <td>0.233139</td>\n      <td>0.233139</td>\n      <td>0.231129</td>\n      <td>0.230013</td>\n      <td>0.182538</td>\n      <td>0.451858</td>\n      <td>0.451858</td>\n      <td>0.451858</td>\n      <td>0.451858</td>\n    </tr>\n    <tr>\n      <th>14</th>\n      <td>bm23</td>\n      <td>rhs</td>\n      <td>2</td>\n      <td>8</td>\n      <td>3</td>\n      <td>0.163926</td>\n      <td>0.163926</td>\n      <td>0.163926</td>\n      <td>0.163926</td>\n      <td>0.163926</td>\n      <td>0.376273</td>\n      <td>0.376273</td>\n      <td>0.376273</td>\n      <td>0.376273</td>\n    </tr>\n    <tr>\n      <th>15</th>\n      <td>bm23</td>\n      <td>rhs</td>\n      <td>2</td>\n      <td>8</td>\n      <td>4</td>\n      <td>0.283649</td>\n      <td>0.283649</td>\n      <td>0.282967</td>\n      <td>0.283649</td>\n      <td>0.192381</td>\n      <td>0.436065</td>\n      <td>0.436082</td>\n      <td>0.436078</td>\n      <td>0.436073</td>\n    </tr>\n    <tr>\n      <th>...</th>\n      <td>...</td>\n      <td>...</td>\n      <td>...</td>\n      <td>...</td>\n      <td>...</td>\n      <td>...</td>\n      <td>...</td>\n      <td>...</td>\n      <td>...</td>\n      <td>...</td>\n      <td>...</td>\n      <td>...</td>\n      <td>...</td>\n      <td>...</td>\n    </tr>\n    <tr>\n      <th>377</th>\n      <td>bm23</td>\n      <td>objective</td>\n      <td>4</td>\n      <td>16</td>\n      <td>6</td>\n      <td>0.437880</td>\n      <td>0.354568</td>\n      <td>0.374561</td>\n      <td>0.299250</td>\n      <td>0.342344</td>\n      <td>0.312068</td>\n      <td>0.379756</td>\n      <td>0.313838</td>\n      <td>0.369199</td>\n    </tr>\n    <tr>\n      <th>378</th>\n      <td>bm23</td>\n      <td>objective</td>\n      <td>4</td>\n      <td>16</td>\n      <td>7</td>\n      <td>0.395430</td>\n      <td>0.395430</td>\n      <td>0.372075</td>\n      <td>0.380370</td>\n      <td>0.382570</td>\n      <td>0.348786</td>\n      <td>0.390846</td>\n      <td>0.396553</td>\n      <td>0.389163</td>\n    </tr>\n    <tr>\n      <th>379</th>\n      <td>bm23</td>\n      <td>objective</td>\n      <td>4</td>\n      <td>16</td>\n      <td>8</td>\n      <td>0.395430</td>\n      <td>0.395430</td>\n      <td>0.380581</td>\n      <td>0.395430</td>\n      <td>0.384407</td>\n      <td>0.356923</td>\n      <td>0.400758</td>\n      <td>0.405044</td>\n      <td>0.401618</td>\n    </tr>\n    <tr>\n      <th>380</th>\n      <td>bm23</td>\n      <td>objective</td>\n      <td>4</td>\n      <td>16</td>\n      <td>9</td>\n      <td>0.476621</td>\n      <td>0.420377</td>\n      <td>0.462353</td>\n      <td>0.417436</td>\n      <td>0.397631</td>\n      <td>0.379600</td>\n      <td>0.465689</td>\n      <td>0.439910</td>\n      <td>0.409087</td>\n    </tr>\n    <tr>\n      <th>381</th>\n      <td>bm23</td>\n      <td>objective</td>\n      <td>4</td>\n      <td>16</td>\n      <td>10</td>\n      <td>0.499094</td>\n      <td>0.411626</td>\n      <td>0.443662</td>\n      <td>0.411626</td>\n      <td>0.380722</td>\n      <td>0.321229</td>\n      <td>0.444401</td>\n      <td>0.416090</td>\n      <td>0.393979</td>\n    </tr>\n  </tbody>\n</table>\n<p>301 rows × 14 columns</p>\n</div>"
     },
     "execution_count": 24,
     "metadata": {},
     "output_type": "execute_result"
    }
   ],
   "source": [
    "# additional filtering for dataframe on bounds\n",
    "fields = [\"Disjunction (New)\", \"Disjunction (Old)\", \"VPCs (New)\", \"VPCs (Old)\",\n",
    "          \"VPCs (Farkas)\", \"Root Cuts (None)\", \"Root Cuts (New)\", \"Root Cuts (Old)\",\n",
    "          \"Root Cuts (Farkas)\"]\n",
    "bound_df = df.loc[mask, group_cols + id_cols + fields]\n",
    "bound_df"
   ],
   "metadata": {
    "collapsed": false,
    "ExecuteTime": {
     "end_time": "2023-10-25T20:39:09.596669Z",
     "start_time": "2023-10-25T20:39:09.583478Z"
    }
   },
   "id": "1446af429a86e44f"
  },
  {
   "cell_type": "code",
   "execution_count": 25,
   "outputs": [],
   "source": [
    "aggregations = {f: \"mean\" for f in fields}\n",
    "aggregations[\"instance\"] = \"nunique\"\n",
    "aggregations[\"problem number\"] = \"count\""
   ],
   "metadata": {
    "collapsed": false,
    "ExecuteTime": {
     "end_time": "2023-10-25T20:39:09.906611Z",
     "start_time": "2023-10-25T20:39:09.900856Z"
    }
   },
   "id": "2e2bbc44b009d720"
  },
  {
   "cell_type": "code",
   "execution_count": 26,
   "outputs": [
    {
     "data": {
      "text/plain": "              Disjunction (New)  Disjunction (Old)  VPCs (New)  VPCs (Old)  \\\ndegree terms                                                                 \n1      4               0.147852           0.156649    0.147852    0.156649   \n       8               0.194161           0.190213    0.193023    0.189511   \n       16              0.412469           0.418550    0.395202    0.396094   \n       32              0.593807           0.601539    0.581627    0.595258   \n       64              0.705942           0.716947    0.676154    0.699999   \n2      4               0.132532           0.148142    0.132532    0.148142   \n       8               0.189254           0.184161    0.187232    0.183085   \n       16              0.425689           0.405262    0.399896    0.389040   \n       32              0.576933           0.585052    0.563378    0.566762   \n       64              0.702768           0.717181    0.679852    0.701330   \n4      4               0.128295           0.140088    0.121995    0.135465   \n       8               0.201413           0.183462    0.191205    0.178176   \n       16              0.410834           0.417641    0.387653    0.399347   \n       32              0.587756           0.574388    0.569461    0.557336   \n       64              0.697144           0.645337    0.673576    0.631637   \n\n              VPCs (Farkas)  Root Cuts (None)  Root Cuts (New)  \\\ndegree terms                                                     \n1      4           0.146750          0.375367         0.375368   \n       8           0.172525          0.375367         0.375368   \n       16          0.371150          0.375367         0.419870   \n       32          0.520394          0.375367         0.583886   \n       64          0.625882          0.350652         0.678752   \n2      4           0.132386          0.393164         0.393166   \n       8           0.154641          0.393164         0.393169   \n       16          0.321545          0.393164         0.440117   \n       32          0.145424          0.377018         0.569217   \n       64          0.248074          0.377061         0.683401   \n4      4           0.107172          0.379682         0.379682   \n       8           0.125617          0.379682         0.379692   \n       16          0.260801          0.379682         0.425656   \n       32          0.327513          0.368366         0.572924   \n       64          0.324421          0.347143         0.675350   \n\n              Root Cuts (Old)  Root Cuts (Farkas)  instance  problem number  \ndegree terms                                                                 \n1      4             0.375368            0.375641         1              20  \n       8             0.375368            0.375641         1              20  \n       16            0.418322            0.401795         1              20  \n       32            0.600594            0.549012         1              20  \n       64            0.701570            0.630080         1              15  \n2      4             0.393165            0.392988         1              20  \n       8             0.393169            0.392987         1              20  \n       16            0.430298            0.400688         1              20  \n       32            0.579137            0.398811         1              11  \n       64            0.701854            0.416500         1               5  \n4      4             0.379683            0.379669         1              30  \n       8             0.379683            0.379669         1              30  \n       16            0.430429            0.395827         1              30  \n       32            0.563483            0.466667         1              24  \n       64            0.634034            0.494900         1              16  ",
      "text/html": "<div>\n<style scoped>\n    .dataframe tbody tr th:only-of-type {\n        vertical-align: middle;\n    }\n\n    .dataframe tbody tr th {\n        vertical-align: top;\n    }\n\n    .dataframe thead th {\n        text-align: right;\n    }\n</style>\n<table border=\"1\" class=\"dataframe\">\n  <thead>\n    <tr style=\"text-align: right;\">\n      <th></th>\n      <th></th>\n      <th>Disjunction (New)</th>\n      <th>Disjunction (Old)</th>\n      <th>VPCs (New)</th>\n      <th>VPCs (Old)</th>\n      <th>VPCs (Farkas)</th>\n      <th>Root Cuts (None)</th>\n      <th>Root Cuts (New)</th>\n      <th>Root Cuts (Old)</th>\n      <th>Root Cuts (Farkas)</th>\n      <th>instance</th>\n      <th>problem number</th>\n    </tr>\n    <tr>\n      <th>degree</th>\n      <th>terms</th>\n      <th></th>\n      <th></th>\n      <th></th>\n      <th></th>\n      <th></th>\n      <th></th>\n      <th></th>\n      <th></th>\n      <th></th>\n      <th></th>\n      <th></th>\n    </tr>\n  </thead>\n  <tbody>\n    <tr>\n      <th rowspan=\"5\" valign=\"top\">1</th>\n      <th>4</th>\n      <td>0.147852</td>\n      <td>0.156649</td>\n      <td>0.147852</td>\n      <td>0.156649</td>\n      <td>0.146750</td>\n      <td>0.375367</td>\n      <td>0.375368</td>\n      <td>0.375368</td>\n      <td>0.375641</td>\n      <td>1</td>\n      <td>20</td>\n    </tr>\n    <tr>\n      <th>8</th>\n      <td>0.194161</td>\n      <td>0.190213</td>\n      <td>0.193023</td>\n      <td>0.189511</td>\n      <td>0.172525</td>\n      <td>0.375367</td>\n      <td>0.375368</td>\n      <td>0.375368</td>\n      <td>0.375641</td>\n      <td>1</td>\n      <td>20</td>\n    </tr>\n    <tr>\n      <th>16</th>\n      <td>0.412469</td>\n      <td>0.418550</td>\n      <td>0.395202</td>\n      <td>0.396094</td>\n      <td>0.371150</td>\n      <td>0.375367</td>\n      <td>0.419870</td>\n      <td>0.418322</td>\n      <td>0.401795</td>\n      <td>1</td>\n      <td>20</td>\n    </tr>\n    <tr>\n      <th>32</th>\n      <td>0.593807</td>\n      <td>0.601539</td>\n      <td>0.581627</td>\n      <td>0.595258</td>\n      <td>0.520394</td>\n      <td>0.375367</td>\n      <td>0.583886</td>\n      <td>0.600594</td>\n      <td>0.549012</td>\n      <td>1</td>\n      <td>20</td>\n    </tr>\n    <tr>\n      <th>64</th>\n      <td>0.705942</td>\n      <td>0.716947</td>\n      <td>0.676154</td>\n      <td>0.699999</td>\n      <td>0.625882</td>\n      <td>0.350652</td>\n      <td>0.678752</td>\n      <td>0.701570</td>\n      <td>0.630080</td>\n      <td>1</td>\n      <td>15</td>\n    </tr>\n    <tr>\n      <th rowspan=\"5\" valign=\"top\">2</th>\n      <th>4</th>\n      <td>0.132532</td>\n      <td>0.148142</td>\n      <td>0.132532</td>\n      <td>0.148142</td>\n      <td>0.132386</td>\n      <td>0.393164</td>\n      <td>0.393166</td>\n      <td>0.393165</td>\n      <td>0.392988</td>\n      <td>1</td>\n      <td>20</td>\n    </tr>\n    <tr>\n      <th>8</th>\n      <td>0.189254</td>\n      <td>0.184161</td>\n      <td>0.187232</td>\n      <td>0.183085</td>\n      <td>0.154641</td>\n      <td>0.393164</td>\n      <td>0.393169</td>\n      <td>0.393169</td>\n      <td>0.392987</td>\n      <td>1</td>\n      <td>20</td>\n    </tr>\n    <tr>\n      <th>16</th>\n      <td>0.425689</td>\n      <td>0.405262</td>\n      <td>0.399896</td>\n      <td>0.389040</td>\n      <td>0.321545</td>\n      <td>0.393164</td>\n      <td>0.440117</td>\n      <td>0.430298</td>\n      <td>0.400688</td>\n      <td>1</td>\n      <td>20</td>\n    </tr>\n    <tr>\n      <th>32</th>\n      <td>0.576933</td>\n      <td>0.585052</td>\n      <td>0.563378</td>\n      <td>0.566762</td>\n      <td>0.145424</td>\n      <td>0.377018</td>\n      <td>0.569217</td>\n      <td>0.579137</td>\n      <td>0.398811</td>\n      <td>1</td>\n      <td>11</td>\n    </tr>\n    <tr>\n      <th>64</th>\n      <td>0.702768</td>\n      <td>0.717181</td>\n      <td>0.679852</td>\n      <td>0.701330</td>\n      <td>0.248074</td>\n      <td>0.377061</td>\n      <td>0.683401</td>\n      <td>0.701854</td>\n      <td>0.416500</td>\n      <td>1</td>\n      <td>5</td>\n    </tr>\n    <tr>\n      <th rowspan=\"5\" valign=\"top\">4</th>\n      <th>4</th>\n      <td>0.128295</td>\n      <td>0.140088</td>\n      <td>0.121995</td>\n      <td>0.135465</td>\n      <td>0.107172</td>\n      <td>0.379682</td>\n      <td>0.379682</td>\n      <td>0.379683</td>\n      <td>0.379669</td>\n      <td>1</td>\n      <td>30</td>\n    </tr>\n    <tr>\n      <th>8</th>\n      <td>0.201413</td>\n      <td>0.183462</td>\n      <td>0.191205</td>\n      <td>0.178176</td>\n      <td>0.125617</td>\n      <td>0.379682</td>\n      <td>0.379692</td>\n      <td>0.379683</td>\n      <td>0.379669</td>\n      <td>1</td>\n      <td>30</td>\n    </tr>\n    <tr>\n      <th>16</th>\n      <td>0.410834</td>\n      <td>0.417641</td>\n      <td>0.387653</td>\n      <td>0.399347</td>\n      <td>0.260801</td>\n      <td>0.379682</td>\n      <td>0.425656</td>\n      <td>0.430429</td>\n      <td>0.395827</td>\n      <td>1</td>\n      <td>30</td>\n    </tr>\n    <tr>\n      <th>32</th>\n      <td>0.587756</td>\n      <td>0.574388</td>\n      <td>0.569461</td>\n      <td>0.557336</td>\n      <td>0.327513</td>\n      <td>0.368366</td>\n      <td>0.572924</td>\n      <td>0.563483</td>\n      <td>0.466667</td>\n      <td>1</td>\n      <td>24</td>\n    </tr>\n    <tr>\n      <th>64</th>\n      <td>0.697144</td>\n      <td>0.645337</td>\n      <td>0.673576</td>\n      <td>0.631637</td>\n      <td>0.324421</td>\n      <td>0.347143</td>\n      <td>0.675350</td>\n      <td>0.634034</td>\n      <td>0.494900</td>\n      <td>1</td>\n      <td>16</td>\n    </tr>\n  </tbody>\n</table>\n</div>"
     },
     "execution_count": 26,
     "metadata": {},
     "output_type": "execute_result"
    }
   ],
   "source": [
    "# get gap closed by degree and term\n",
    "bound_df.groupby([\"degree\", \"terms\"]).agg(aggregations)"
   ],
   "metadata": {
    "collapsed": false,
    "ExecuteTime": {
     "end_time": "2023-10-25T20:39:10.361524Z",
     "start_time": "2023-10-25T20:39:10.348116Z"
    }
   },
   "id": "588a0ef9d23dad30"
  },
  {
   "cell_type": "code",
   "execution_count": 27,
   "outputs": [
    {
     "data": {
      "text/plain": "                           Disjunction (New)  Disjunction (Old)  VPCs (New)  \\\ndegree terms perturbation                                                     \n1      4     matrix                 0.142168           0.150770    0.142168   \n             rhs                    0.153537           0.162528    0.153537   \n       8     matrix                 0.185304           0.181475    0.184879   \n             rhs                    0.203018           0.198952    0.201168   \n       16    matrix                 0.419783           0.406027    0.400019   \n             rhs                    0.405154           0.431074    0.390385   \n       32    matrix                 0.584615           0.581523    0.575790   \n             rhs                    0.602998           0.621555    0.587463   \n       64    matrix                 0.700192           0.714200    0.669112   \n             rhs                    0.714568           0.721066    0.686717   \n2      4     matrix                 0.134363           0.145849    0.134363   \n             rhs                    0.130701           0.150435    0.130701   \n       8     matrix                 0.182964           0.180907    0.182562   \n             rhs                    0.195544           0.187415    0.191902   \n       16    matrix                 0.444094           0.401658    0.411937   \n             rhs                    0.407285           0.408866    0.387856   \n       32    matrix                 0.592707           0.594560    0.579099   \n             rhs                    0.419190           0.489968    0.406164   \n       64    matrix                 0.682254           0.713373    0.660322   \n             rhs                    0.784825           0.732415    0.757973   \n4      4     matrix                 0.139393           0.151215    0.137208   \n             objective              0.124318           0.135267    0.123691   \n             rhs                    0.121174           0.133781    0.105085   \n       8     matrix                 0.208014           0.183451    0.202791   \n             objective              0.179792           0.169721    0.177967   \n             rhs                    0.216435           0.197213    0.192858   \n       16    matrix                 0.450489           0.474095    0.420520   \n             objective              0.406395           0.392411    0.384628   \n             rhs                    0.375617           0.386419    0.357811   \n       32    matrix                 0.600723           0.582691    0.573395   \n             objective              0.567896           0.572783    0.550843   \n             rhs                    0.603565           0.565994    0.595247   \n       64    matrix                 0.706210           0.615028    0.673700   \n             objective              0.702128           0.707687    0.681692   \n             rhs                    0.667382           0.560470    0.654393   \n\n                           VPCs (Old)  VPCs (Farkas)  Root Cuts (None)  \\\ndegree terms perturbation                                                \n1      4     matrix          0.150770       0.143268          0.357151   \n             rhs             0.162528       0.150232          0.393583   \n       8     matrix          0.180492       0.172660          0.357151   \n             rhs             0.198529       0.172390          0.393583   \n       16    matrix          0.383112       0.357702          0.357151   \n             rhs             0.409077       0.384599          0.393583   \n       32    matrix          0.577796       0.520822          0.357151   \n             rhs             0.612720       0.519965          0.393583   \n       64    matrix          0.698008       0.585405          0.344333   \n             rhs             0.702986       0.686597          0.360131   \n2      4     matrix          0.145849       0.130199          0.378275   \n             rhs             0.150435       0.134573          0.408053   \n       8     matrix          0.180362       0.151138          0.378275   \n             rhs             0.185807       0.158145          0.408053   \n       16    matrix          0.387943       0.285531          0.378275   \n             rhs             0.390138       0.357559          0.408053   \n       32    matrix          0.576461       0.159966          0.378275   \n             rhs             0.469768       0.000000          0.364447   \n       64    matrix          0.695155       0.310092          0.368045   \n             rhs             0.726031       0.000000          0.413128   \n4      4     matrix          0.144150       0.094400          0.408709   \n             objective       0.135267       0.134896          0.340242   \n             rhs             0.126980       0.092220          0.390097   \n       8     matrix          0.182233       0.104732          0.408709   \n             objective       0.168588       0.168277          0.340242   \n             rhs             0.183707       0.103842          0.390097   \n       16    matrix          0.456077       0.146778          0.408709   \n             objective       0.378805       0.370379          0.340242   \n             rhs             0.363158       0.265248          0.390097   \n       32    matrix          0.560235       0.159445          0.391448   \n             objective       0.566532       0.564905          0.340242   \n             rhs             0.538143       0.155950          0.384463   \n       64    matrix          0.601353       0.052640          0.373876   \n             objective       0.693882       0.665857          0.329478   \n             rhs             0.546969       0.071301          0.334896   \n\n                           Root Cuts (New)  Root Cuts (Old)  \\\ndegree terms perturbation                                     \n1      4     matrix               0.357153         0.357153   \n             rhs                  0.393584         0.393584   \n       8     matrix               0.357153         0.357153   \n             rhs                  0.393583         0.393583   \n       16    matrix               0.409638         0.401570   \n             rhs                  0.430102         0.435074   \n       32    matrix               0.576506         0.580279   \n             rhs                  0.591266         0.620908   \n       64    matrix               0.672114         0.700506   \n             rhs                  0.688709         0.703167   \n2      4     matrix               0.378278         0.378278   \n             rhs                  0.408053         0.408053   \n       8     matrix               0.378283         0.378283   \n             rhs                  0.408055         0.408055   \n       16    matrix               0.435817         0.411853   \n             rhs                  0.444416         0.448744   \n       32    matrix               0.585258         0.589933   \n             rhs                  0.408811         0.471174   \n       64    matrix               0.664581         0.695194   \n             rhs                  0.758680         0.728494   \n4      4     matrix               0.408709         0.408709   \n             objective            0.340242         0.340242   \n             rhs                  0.390097         0.390097   \n       8     matrix               0.408709         0.408709   \n             objective            0.340242         0.340242   \n             rhs                  0.390126         0.390097   \n       16    matrix               0.453842         0.474164   \n             objective            0.401705         0.391843   \n             rhs                  0.421422         0.425279   \n       32    matrix               0.581270         0.568797   \n             objective            0.551421         0.567477   \n             rhs                  0.597635         0.549739   \n       64    matrix               0.677438         0.605588   \n             objective            0.682068         0.694575   \n             rhs                  0.655497         0.549664   \n\n                           Root Cuts (Farkas)  instance  problem number  \ndegree terms perturbation                                                \n1      4     matrix                  0.357153         1              10  \n             rhs                     0.394129         1              10  \n       8     matrix                  0.357152         1              10  \n             rhs                     0.394129         1              10  \n       16    matrix                  0.383255         1              10  \n             rhs                     0.420335         1              10  \n       32    matrix                  0.525001         1              10  \n             rhs                     0.573023         1              10  \n       64    matrix                  0.589819         1               9  \n             rhs                     0.690472         1               6  \n2      4     matrix                  0.378258         1              10  \n             rhs                     0.407719         1              10  \n       8     matrix                  0.378255         1              10  \n             rhs                     0.407720         1              10  \n       16    matrix                  0.380882         1              10  \n             rhs                     0.420494         1              10  \n       32    matrix                  0.402247         1              10  \n             rhs                     0.364447         1               1  \n       64    matrix                  0.417343         1               4  \n             rhs                     0.413128         1               1  \n4      4     matrix                  0.408693         1              10  \n             objective               0.340242         1              10  \n             rhs                     0.390072         1              10  \n       8     matrix                  0.408693         1              10  \n             objective               0.340242         1              10  \n             rhs                     0.390072         1              10  \n       16    matrix                  0.408694         1              10  \n             objective               0.384695         1              10  \n             rhs                     0.394091         1              10  \n       32    matrix                  0.391464         1               8  \n             objective               0.567032         1              10  \n             rhs                     0.399663         1               6  \n       64    matrix                  0.373850         1               6  \n             objective               0.667230         1               7  \n             rhs                     0.334896         1               3  ",
      "text/html": "<div>\n<style scoped>\n    .dataframe tbody tr th:only-of-type {\n        vertical-align: middle;\n    }\n\n    .dataframe tbody tr th {\n        vertical-align: top;\n    }\n\n    .dataframe thead th {\n        text-align: right;\n    }\n</style>\n<table border=\"1\" class=\"dataframe\">\n  <thead>\n    <tr style=\"text-align: right;\">\n      <th></th>\n      <th></th>\n      <th></th>\n      <th>Disjunction (New)</th>\n      <th>Disjunction (Old)</th>\n      <th>VPCs (New)</th>\n      <th>VPCs (Old)</th>\n      <th>VPCs (Farkas)</th>\n      <th>Root Cuts (None)</th>\n      <th>Root Cuts (New)</th>\n      <th>Root Cuts (Old)</th>\n      <th>Root Cuts (Farkas)</th>\n      <th>instance</th>\n      <th>problem number</th>\n    </tr>\n    <tr>\n      <th>degree</th>\n      <th>terms</th>\n      <th>perturbation</th>\n      <th></th>\n      <th></th>\n      <th></th>\n      <th></th>\n      <th></th>\n      <th></th>\n      <th></th>\n      <th></th>\n      <th></th>\n      <th></th>\n      <th></th>\n    </tr>\n  </thead>\n  <tbody>\n    <tr>\n      <th rowspan=\"10\" valign=\"top\">1</th>\n      <th rowspan=\"2\" valign=\"top\">4</th>\n      <th>matrix</th>\n      <td>0.142168</td>\n      <td>0.150770</td>\n      <td>0.142168</td>\n      <td>0.150770</td>\n      <td>0.143268</td>\n      <td>0.357151</td>\n      <td>0.357153</td>\n      <td>0.357153</td>\n      <td>0.357153</td>\n      <td>1</td>\n      <td>10</td>\n    </tr>\n    <tr>\n      <th>rhs</th>\n      <td>0.153537</td>\n      <td>0.162528</td>\n      <td>0.153537</td>\n      <td>0.162528</td>\n      <td>0.150232</td>\n      <td>0.393583</td>\n      <td>0.393584</td>\n      <td>0.393584</td>\n      <td>0.394129</td>\n      <td>1</td>\n      <td>10</td>\n    </tr>\n    <tr>\n      <th rowspan=\"2\" valign=\"top\">8</th>\n      <th>matrix</th>\n      <td>0.185304</td>\n      <td>0.181475</td>\n      <td>0.184879</td>\n      <td>0.180492</td>\n      <td>0.172660</td>\n      <td>0.357151</td>\n      <td>0.357153</td>\n      <td>0.357153</td>\n      <td>0.357152</td>\n      <td>1</td>\n      <td>10</td>\n    </tr>\n    <tr>\n      <th>rhs</th>\n      <td>0.203018</td>\n      <td>0.198952</td>\n      <td>0.201168</td>\n      <td>0.198529</td>\n      <td>0.172390</td>\n      <td>0.393583</td>\n      <td>0.393583</td>\n      <td>0.393583</td>\n      <td>0.394129</td>\n      <td>1</td>\n      <td>10</td>\n    </tr>\n    <tr>\n      <th rowspan=\"2\" valign=\"top\">16</th>\n      <th>matrix</th>\n      <td>0.419783</td>\n      <td>0.406027</td>\n      <td>0.400019</td>\n      <td>0.383112</td>\n      <td>0.357702</td>\n      <td>0.357151</td>\n      <td>0.409638</td>\n      <td>0.401570</td>\n      <td>0.383255</td>\n      <td>1</td>\n      <td>10</td>\n    </tr>\n    <tr>\n      <th>rhs</th>\n      <td>0.405154</td>\n      <td>0.431074</td>\n      <td>0.390385</td>\n      <td>0.409077</td>\n      <td>0.384599</td>\n      <td>0.393583</td>\n      <td>0.430102</td>\n      <td>0.435074</td>\n      <td>0.420335</td>\n      <td>1</td>\n      <td>10</td>\n    </tr>\n    <tr>\n      <th rowspan=\"2\" valign=\"top\">32</th>\n      <th>matrix</th>\n      <td>0.584615</td>\n      <td>0.581523</td>\n      <td>0.575790</td>\n      <td>0.577796</td>\n      <td>0.520822</td>\n      <td>0.357151</td>\n      <td>0.576506</td>\n      <td>0.580279</td>\n      <td>0.525001</td>\n      <td>1</td>\n      <td>10</td>\n    </tr>\n    <tr>\n      <th>rhs</th>\n      <td>0.602998</td>\n      <td>0.621555</td>\n      <td>0.587463</td>\n      <td>0.612720</td>\n      <td>0.519965</td>\n      <td>0.393583</td>\n      <td>0.591266</td>\n      <td>0.620908</td>\n      <td>0.573023</td>\n      <td>1</td>\n      <td>10</td>\n    </tr>\n    <tr>\n      <th rowspan=\"2\" valign=\"top\">64</th>\n      <th>matrix</th>\n      <td>0.700192</td>\n      <td>0.714200</td>\n      <td>0.669112</td>\n      <td>0.698008</td>\n      <td>0.585405</td>\n      <td>0.344333</td>\n      <td>0.672114</td>\n      <td>0.700506</td>\n      <td>0.589819</td>\n      <td>1</td>\n      <td>9</td>\n    </tr>\n    <tr>\n      <th>rhs</th>\n      <td>0.714568</td>\n      <td>0.721066</td>\n      <td>0.686717</td>\n      <td>0.702986</td>\n      <td>0.686597</td>\n      <td>0.360131</td>\n      <td>0.688709</td>\n      <td>0.703167</td>\n      <td>0.690472</td>\n      <td>1</td>\n      <td>6</td>\n    </tr>\n    <tr>\n      <th rowspan=\"10\" valign=\"top\">2</th>\n      <th rowspan=\"2\" valign=\"top\">4</th>\n      <th>matrix</th>\n      <td>0.134363</td>\n      <td>0.145849</td>\n      <td>0.134363</td>\n      <td>0.145849</td>\n      <td>0.130199</td>\n      <td>0.378275</td>\n      <td>0.378278</td>\n      <td>0.378278</td>\n      <td>0.378258</td>\n      <td>1</td>\n      <td>10</td>\n    </tr>\n    <tr>\n      <th>rhs</th>\n      <td>0.130701</td>\n      <td>0.150435</td>\n      <td>0.130701</td>\n      <td>0.150435</td>\n      <td>0.134573</td>\n      <td>0.408053</td>\n      <td>0.408053</td>\n      <td>0.408053</td>\n      <td>0.407719</td>\n      <td>1</td>\n      <td>10</td>\n    </tr>\n    <tr>\n      <th rowspan=\"2\" valign=\"top\">8</th>\n      <th>matrix</th>\n      <td>0.182964</td>\n      <td>0.180907</td>\n      <td>0.182562</td>\n      <td>0.180362</td>\n      <td>0.151138</td>\n      <td>0.378275</td>\n      <td>0.378283</td>\n      <td>0.378283</td>\n      <td>0.378255</td>\n      <td>1</td>\n      <td>10</td>\n    </tr>\n    <tr>\n      <th>rhs</th>\n      <td>0.195544</td>\n      <td>0.187415</td>\n      <td>0.191902</td>\n      <td>0.185807</td>\n      <td>0.158145</td>\n      <td>0.408053</td>\n      <td>0.408055</td>\n      <td>0.408055</td>\n      <td>0.407720</td>\n      <td>1</td>\n      <td>10</td>\n    </tr>\n    <tr>\n      <th rowspan=\"2\" valign=\"top\">16</th>\n      <th>matrix</th>\n      <td>0.444094</td>\n      <td>0.401658</td>\n      <td>0.411937</td>\n      <td>0.387943</td>\n      <td>0.285531</td>\n      <td>0.378275</td>\n      <td>0.435817</td>\n      <td>0.411853</td>\n      <td>0.380882</td>\n      <td>1</td>\n      <td>10</td>\n    </tr>\n    <tr>\n      <th>rhs</th>\n      <td>0.407285</td>\n      <td>0.408866</td>\n      <td>0.387856</td>\n      <td>0.390138</td>\n      <td>0.357559</td>\n      <td>0.408053</td>\n      <td>0.444416</td>\n      <td>0.448744</td>\n      <td>0.420494</td>\n      <td>1</td>\n      <td>10</td>\n    </tr>\n    <tr>\n      <th rowspan=\"2\" valign=\"top\">32</th>\n      <th>matrix</th>\n      <td>0.592707</td>\n      <td>0.594560</td>\n      <td>0.579099</td>\n      <td>0.576461</td>\n      <td>0.159966</td>\n      <td>0.378275</td>\n      <td>0.585258</td>\n      <td>0.589933</td>\n      <td>0.402247</td>\n      <td>1</td>\n      <td>10</td>\n    </tr>\n    <tr>\n      <th>rhs</th>\n      <td>0.419190</td>\n      <td>0.489968</td>\n      <td>0.406164</td>\n      <td>0.469768</td>\n      <td>0.000000</td>\n      <td>0.364447</td>\n      <td>0.408811</td>\n      <td>0.471174</td>\n      <td>0.364447</td>\n      <td>1</td>\n      <td>1</td>\n    </tr>\n    <tr>\n      <th rowspan=\"2\" valign=\"top\">64</th>\n      <th>matrix</th>\n      <td>0.682254</td>\n      <td>0.713373</td>\n      <td>0.660322</td>\n      <td>0.695155</td>\n      <td>0.310092</td>\n      <td>0.368045</td>\n      <td>0.664581</td>\n      <td>0.695194</td>\n      <td>0.417343</td>\n      <td>1</td>\n      <td>4</td>\n    </tr>\n    <tr>\n      <th>rhs</th>\n      <td>0.784825</td>\n      <td>0.732415</td>\n      <td>0.757973</td>\n      <td>0.726031</td>\n      <td>0.000000</td>\n      <td>0.413128</td>\n      <td>0.758680</td>\n      <td>0.728494</td>\n      <td>0.413128</td>\n      <td>1</td>\n      <td>1</td>\n    </tr>\n    <tr>\n      <th rowspan=\"15\" valign=\"top\">4</th>\n      <th rowspan=\"3\" valign=\"top\">4</th>\n      <th>matrix</th>\n      <td>0.139393</td>\n      <td>0.151215</td>\n      <td>0.137208</td>\n      <td>0.144150</td>\n      <td>0.094400</td>\n      <td>0.408709</td>\n      <td>0.408709</td>\n      <td>0.408709</td>\n      <td>0.408693</td>\n      <td>1</td>\n      <td>10</td>\n    </tr>\n    <tr>\n      <th>objective</th>\n      <td>0.124318</td>\n      <td>0.135267</td>\n      <td>0.123691</td>\n      <td>0.135267</td>\n      <td>0.134896</td>\n      <td>0.340242</td>\n      <td>0.340242</td>\n      <td>0.340242</td>\n      <td>0.340242</td>\n      <td>1</td>\n      <td>10</td>\n    </tr>\n    <tr>\n      <th>rhs</th>\n      <td>0.121174</td>\n      <td>0.133781</td>\n      <td>0.105085</td>\n      <td>0.126980</td>\n      <td>0.092220</td>\n      <td>0.390097</td>\n      <td>0.390097</td>\n      <td>0.390097</td>\n      <td>0.390072</td>\n      <td>1</td>\n      <td>10</td>\n    </tr>\n    <tr>\n      <th rowspan=\"3\" valign=\"top\">8</th>\n      <th>matrix</th>\n      <td>0.208014</td>\n      <td>0.183451</td>\n      <td>0.202791</td>\n      <td>0.182233</td>\n      <td>0.104732</td>\n      <td>0.408709</td>\n      <td>0.408709</td>\n      <td>0.408709</td>\n      <td>0.408693</td>\n      <td>1</td>\n      <td>10</td>\n    </tr>\n    <tr>\n      <th>objective</th>\n      <td>0.179792</td>\n      <td>0.169721</td>\n      <td>0.177967</td>\n      <td>0.168588</td>\n      <td>0.168277</td>\n      <td>0.340242</td>\n      <td>0.340242</td>\n      <td>0.340242</td>\n      <td>0.340242</td>\n      <td>1</td>\n      <td>10</td>\n    </tr>\n    <tr>\n      <th>rhs</th>\n      <td>0.216435</td>\n      <td>0.197213</td>\n      <td>0.192858</td>\n      <td>0.183707</td>\n      <td>0.103842</td>\n      <td>0.390097</td>\n      <td>0.390126</td>\n      <td>0.390097</td>\n      <td>0.390072</td>\n      <td>1</td>\n      <td>10</td>\n    </tr>\n    <tr>\n      <th rowspan=\"3\" valign=\"top\">16</th>\n      <th>matrix</th>\n      <td>0.450489</td>\n      <td>0.474095</td>\n      <td>0.420520</td>\n      <td>0.456077</td>\n      <td>0.146778</td>\n      <td>0.408709</td>\n      <td>0.453842</td>\n      <td>0.474164</td>\n      <td>0.408694</td>\n      <td>1</td>\n      <td>10</td>\n    </tr>\n    <tr>\n      <th>objective</th>\n      <td>0.406395</td>\n      <td>0.392411</td>\n      <td>0.384628</td>\n      <td>0.378805</td>\n      <td>0.370379</td>\n      <td>0.340242</td>\n      <td>0.401705</td>\n      <td>0.391843</td>\n      <td>0.384695</td>\n      <td>1</td>\n      <td>10</td>\n    </tr>\n    <tr>\n      <th>rhs</th>\n      <td>0.375617</td>\n      <td>0.386419</td>\n      <td>0.357811</td>\n      <td>0.363158</td>\n      <td>0.265248</td>\n      <td>0.390097</td>\n      <td>0.421422</td>\n      <td>0.425279</td>\n      <td>0.394091</td>\n      <td>1</td>\n      <td>10</td>\n    </tr>\n    <tr>\n      <th rowspan=\"3\" valign=\"top\">32</th>\n      <th>matrix</th>\n      <td>0.600723</td>\n      <td>0.582691</td>\n      <td>0.573395</td>\n      <td>0.560235</td>\n      <td>0.159445</td>\n      <td>0.391448</td>\n      <td>0.581270</td>\n      <td>0.568797</td>\n      <td>0.391464</td>\n      <td>1</td>\n      <td>8</td>\n    </tr>\n    <tr>\n      <th>objective</th>\n      <td>0.567896</td>\n      <td>0.572783</td>\n      <td>0.550843</td>\n      <td>0.566532</td>\n      <td>0.564905</td>\n      <td>0.340242</td>\n      <td>0.551421</td>\n      <td>0.567477</td>\n      <td>0.567032</td>\n      <td>1</td>\n      <td>10</td>\n    </tr>\n    <tr>\n      <th>rhs</th>\n      <td>0.603565</td>\n      <td>0.565994</td>\n      <td>0.595247</td>\n      <td>0.538143</td>\n      <td>0.155950</td>\n      <td>0.384463</td>\n      <td>0.597635</td>\n      <td>0.549739</td>\n      <td>0.399663</td>\n      <td>1</td>\n      <td>6</td>\n    </tr>\n    <tr>\n      <th rowspan=\"3\" valign=\"top\">64</th>\n      <th>matrix</th>\n      <td>0.706210</td>\n      <td>0.615028</td>\n      <td>0.673700</td>\n      <td>0.601353</td>\n      <td>0.052640</td>\n      <td>0.373876</td>\n      <td>0.677438</td>\n      <td>0.605588</td>\n      <td>0.373850</td>\n      <td>1</td>\n      <td>6</td>\n    </tr>\n    <tr>\n      <th>objective</th>\n      <td>0.702128</td>\n      <td>0.707687</td>\n      <td>0.681692</td>\n      <td>0.693882</td>\n      <td>0.665857</td>\n      <td>0.329478</td>\n      <td>0.682068</td>\n      <td>0.694575</td>\n      <td>0.667230</td>\n      <td>1</td>\n      <td>7</td>\n    </tr>\n    <tr>\n      <th>rhs</th>\n      <td>0.667382</td>\n      <td>0.560470</td>\n      <td>0.654393</td>\n      <td>0.546969</td>\n      <td>0.071301</td>\n      <td>0.334896</td>\n      <td>0.655497</td>\n      <td>0.549664</td>\n      <td>0.334896</td>\n      <td>1</td>\n      <td>3</td>\n    </tr>\n  </tbody>\n</table>\n</div>"
     },
     "execution_count": 27,
     "metadata": {},
     "output_type": "execute_result"
    }
   ],
   "source": [
    "# now break it down by type of perturbation\n",
    "bound_df.groupby([\"degree\", \"terms\", \"perturbation\"]).agg(aggregations)"
   ],
   "metadata": {
    "collapsed": false,
    "ExecuteTime": {
     "end_time": "2023-10-25T20:39:11.602021Z",
     "start_time": "2023-10-25T20:39:11.579562Z"
    }
   },
   "id": "7c7dd20910d976da"
  },
  {
   "cell_type": "markdown",
   "source": [
    "## Make time table"
   ],
   "metadata": {
    "collapsed": false
   },
   "id": "e6c4f54822872bf8"
  },
  {
   "cell_type": "code",
   "execution_count": 28,
   "outputs": [],
   "source": [
    "def optimality_gap(df, generator):\n",
    "    return abs(df[f\"primalBound {generator}\"] - df[f\"dualBound {generator}\"]) / \\\n",
    "        (df[f\"primalBound {generator}\"])"
   ],
   "metadata": {
    "collapsed": false,
    "ExecuteTime": {
     "end_time": "2023-10-25T20:39:14.200098Z",
     "start_time": "2023-10-25T20:39:14.190470Z"
    }
   },
   "id": "d9ba97a511b83fa7"
  },
  {
   "cell_type": "code",
   "execution_count": 30,
   "outputs": [
    {
     "data": {
      "text/plain": "              terminationTime New  \\\ndegree terms                                    \n1      4                             0.082149   \n       8                             0.088896   \n       16                            0.118614   \n       32                            0.142742   \n       64                            0.236724   \n2      4                             0.081829   \n       8                             0.090376   \n       16                            0.109113   \n       32                            0.152466   \n       64                            0.245091   \n4      4                             0.077295   \n       8                             0.085147   \n       16                            0.107091   \n       32                            0.143661   \n       64                            0.228488   \n\n              terminationTime Old  terminationTime Farkas  \\\ndegree terms                                                            \n1      4                             0.075293                0.074579   \n       8                             0.082664                0.075433   \n       16                            0.090929                0.081727   \n       32                            0.099873                0.084515   \n       64                            0.145734                0.105850   \n2      4                             0.074570                0.074114   \n       8                             0.083643                0.077157   \n       16                            0.090833                0.081053   \n       32                            0.106473                0.086641   \n       64                            0.153824                0.101180   \n4      4                             0.070546                0.069129   \n       8                             0.076562                0.072576   \n       16                            0.082199                0.074600   \n       32                            0.101781                0.080990   \n       64                            0.131550                0.094016   \n\n              terminationTime None  vpcGenerationTime New  \\\ndegree terms                                                            \n1      4                  0.072781                           0.007855   \n       8                  0.073828                           0.014594   \n       16                 0.073419                           0.031845   \n       32                 0.072333                           0.060969   \n       64                 0.080187                           0.135473   \n2      4                  0.072896                           0.007992   \n       8                  0.072472                           0.015194   \n       16                 0.072974                           0.030087   \n       32                 0.076568                           0.063180   \n       64                 0.084765                           0.141347   \n4      4                  0.068587                           0.008114   \n       8                  0.068313                           0.014615   \n       16                 0.068519                           0.031693   \n       32                 0.074481                           0.062364   \n       64                 0.075102                           0.134850   \n\n              vpcGenerationTime Old  vpcGenerationTime Farkas  \\\ndegree terms                                                                \n1      4                               0.003499                  0.000955   \n       8                               0.005905                  0.001737   \n       16                              0.011508                  0.003682   \n       32                              0.024939                  0.008320   \n       64                              0.052731                  0.017102   \n2      4                               0.003496                  0.000953   \n       8                               0.005927                  0.001714   \n       16                              0.011257                  0.003692   \n       32                              0.025493                  0.008343   \n       64                              0.054275                  0.016822   \n4      4                               0.003495                  0.000927   \n       8                               0.005692                  0.001722   \n       16                              0.010859                  0.003656   \n       32                              0.025446                  0.008329   \n       64                              0.052256                  0.017240   \n\n              instance  problem number  \ndegree terms                            \n1      4             1              20  \n       8             1              20  \n       16            1              20  \n       32            1              20  \n       64            1              15  \n2      4             1              20  \n       8             1              20  \n       16            1              20  \n       32            1              11  \n       64            1               5  \n4      4             1              30  \n       8             1              30  \n       16            1              30  \n       32            1              24  \n       64            1              16  ",
      "text/html": "<div>\n<style scoped>\n    .dataframe tbody tr th:only-of-type {\n        vertical-align: middle;\n    }\n\n    .dataframe tbody tr th {\n        vertical-align: top;\n    }\n\n    .dataframe thead th {\n        text-align: right;\n    }\n</style>\n<table border=\"1\" class=\"dataframe\">\n  <thead>\n    <tr style=\"text-align: right;\">\n      <th></th>\n      <th></th>\n      <th>terminationTime New</th>\n      <th>terminationTime Old</th>\n      <th>terminationTime Farkas</th>\n      <th>terminationTime None</th>\n      <th>vpcGenerationTime New</th>\n      <th>vpcGenerationTime Old</th>\n      <th>vpcGenerationTime Farkas</th>\n      <th>instance</th>\n      <th>problem number</th>\n    </tr>\n    <tr>\n      <th>degree</th>\n      <th>terms</th>\n      <th></th>\n      <th></th>\n      <th></th>\n      <th></th>\n      <th></th>\n      <th></th>\n      <th></th>\n      <th></th>\n      <th></th>\n    </tr>\n  </thead>\n  <tbody>\n    <tr>\n      <th rowspan=\"5\" valign=\"top\">1</th>\n      <th>4</th>\n      <td>0.082149</td>\n      <td>0.075293</td>\n      <td>0.074579</td>\n      <td>0.072781</td>\n      <td>0.007855</td>\n      <td>0.003499</td>\n      <td>0.000955</td>\n      <td>1</td>\n      <td>20</td>\n    </tr>\n    <tr>\n      <th>8</th>\n      <td>0.088896</td>\n      <td>0.082664</td>\n      <td>0.075433</td>\n      <td>0.073828</td>\n      <td>0.014594</td>\n      <td>0.005905</td>\n      <td>0.001737</td>\n      <td>1</td>\n      <td>20</td>\n    </tr>\n    <tr>\n      <th>16</th>\n      <td>0.118614</td>\n      <td>0.090929</td>\n      <td>0.081727</td>\n      <td>0.073419</td>\n      <td>0.031845</td>\n      <td>0.011508</td>\n      <td>0.003682</td>\n      <td>1</td>\n      <td>20</td>\n    </tr>\n    <tr>\n      <th>32</th>\n      <td>0.142742</td>\n      <td>0.099873</td>\n      <td>0.084515</td>\n      <td>0.072333</td>\n      <td>0.060969</td>\n      <td>0.024939</td>\n      <td>0.008320</td>\n      <td>1</td>\n      <td>20</td>\n    </tr>\n    <tr>\n      <th>64</th>\n      <td>0.236724</td>\n      <td>0.145734</td>\n      <td>0.105850</td>\n      <td>0.080187</td>\n      <td>0.135473</td>\n      <td>0.052731</td>\n      <td>0.017102</td>\n      <td>1</td>\n      <td>15</td>\n    </tr>\n    <tr>\n      <th rowspan=\"5\" valign=\"top\">2</th>\n      <th>4</th>\n      <td>0.081829</td>\n      <td>0.074570</td>\n      <td>0.074114</td>\n      <td>0.072896</td>\n      <td>0.007992</td>\n      <td>0.003496</td>\n      <td>0.000953</td>\n      <td>1</td>\n      <td>20</td>\n    </tr>\n    <tr>\n      <th>8</th>\n      <td>0.090376</td>\n      <td>0.083643</td>\n      <td>0.077157</td>\n      <td>0.072472</td>\n      <td>0.015194</td>\n      <td>0.005927</td>\n      <td>0.001714</td>\n      <td>1</td>\n      <td>20</td>\n    </tr>\n    <tr>\n      <th>16</th>\n      <td>0.109113</td>\n      <td>0.090833</td>\n      <td>0.081053</td>\n      <td>0.072974</td>\n      <td>0.030087</td>\n      <td>0.011257</td>\n      <td>0.003692</td>\n      <td>1</td>\n      <td>20</td>\n    </tr>\n    <tr>\n      <th>32</th>\n      <td>0.152466</td>\n      <td>0.106473</td>\n      <td>0.086641</td>\n      <td>0.076568</td>\n      <td>0.063180</td>\n      <td>0.025493</td>\n      <td>0.008343</td>\n      <td>1</td>\n      <td>11</td>\n    </tr>\n    <tr>\n      <th>64</th>\n      <td>0.245091</td>\n      <td>0.153824</td>\n      <td>0.101180</td>\n      <td>0.084765</td>\n      <td>0.141347</td>\n      <td>0.054275</td>\n      <td>0.016822</td>\n      <td>1</td>\n      <td>5</td>\n    </tr>\n    <tr>\n      <th rowspan=\"5\" valign=\"top\">4</th>\n      <th>4</th>\n      <td>0.077295</td>\n      <td>0.070546</td>\n      <td>0.069129</td>\n      <td>0.068587</td>\n      <td>0.008114</td>\n      <td>0.003495</td>\n      <td>0.000927</td>\n      <td>1</td>\n      <td>30</td>\n    </tr>\n    <tr>\n      <th>8</th>\n      <td>0.085147</td>\n      <td>0.076562</td>\n      <td>0.072576</td>\n      <td>0.068313</td>\n      <td>0.014615</td>\n      <td>0.005692</td>\n      <td>0.001722</td>\n      <td>1</td>\n      <td>30</td>\n    </tr>\n    <tr>\n      <th>16</th>\n      <td>0.107091</td>\n      <td>0.082199</td>\n      <td>0.074600</td>\n      <td>0.068519</td>\n      <td>0.031693</td>\n      <td>0.010859</td>\n      <td>0.003656</td>\n      <td>1</td>\n      <td>30</td>\n    </tr>\n    <tr>\n      <th>32</th>\n      <td>0.143661</td>\n      <td>0.101781</td>\n      <td>0.080990</td>\n      <td>0.074481</td>\n      <td>0.062364</td>\n      <td>0.025446</td>\n      <td>0.008329</td>\n      <td>1</td>\n      <td>24</td>\n    </tr>\n    <tr>\n      <th>64</th>\n      <td>0.228488</td>\n      <td>0.131550</td>\n      <td>0.094016</td>\n      <td>0.075102</td>\n      <td>0.134850</td>\n      <td>0.052256</td>\n      <td>0.017240</td>\n      <td>1</td>\n      <td>16</td>\n    </tr>\n  </tbody>\n</table>\n</div>"
     },
     "execution_count": 30,
     "metadata": {},
     "output_type": "execute_result"
    }
   ],
   "source": [
    "# additional filtering for dataframe on run time\n",
    "fields = [\"terminationTime New\", \"terminationTime Old\",\n",
    "          \"terminationTime Farkas\", \"terminationTime None\",\n",
    "          \"vpcGenerationTime New\", \"vpcGenerationTime Old\",\n",
    "          \"vpcGenerationTime Farkas\"]\n",
    "mask = mask & (optimality_gap(df, \"New\") < .001)\n",
    "time_df = df.loc[mask, group_cols + id_cols + fields]\n",
    "\n",
    "# define aggregating operations\n",
    "aggregations = {f: gmean for f in fields}\n",
    "aggregations[\"instance\"] = \"nunique\"\n",
    "aggregations[\"problem number\"] = \"count\"\n",
    "\n",
    "# get gap closed by degree and term\n",
    "time_df.groupby([\"degree\", \"terms\"]).agg(aggregations)"
   ],
   "metadata": {
    "collapsed": false,
    "ExecuteTime": {
     "end_time": "2023-10-25T20:39:35.891466Z",
     "start_time": "2023-10-25T20:39:35.888943Z"
    }
   },
   "id": "e31a4356a9030c02"
  },
  {
   "cell_type": "markdown",
   "source": [
    "# Make node table"
   ],
   "metadata": {
    "collapsed": false
   },
   "id": "ca4066696328ab17"
  },
  {
   "cell_type": "code",
   "execution_count": 31,
   "outputs": [
    {
     "data": {
      "text/plain": "              nodes New  nodes Old  nodes Farkas  \\\ndegree terms                                                               \n1      4                 123.943943             127.547147    126.784684   \n       8                 120.894207             128.003228    126.533493   \n       16                142.357123             139.870809    131.859392   \n       32                131.999898             129.274357    138.860756   \n       64                210.442692             224.446113    210.802292   \n2      4                 101.316528             100.035059    104.184061   \n       8                 102.845944             110.419438    104.892571   \n       16                103.248648             109.520236    111.334298   \n       32                152.399810             137.872512    141.574821   \n       64                188.089675             192.589719    144.362707   \n4      4                  98.318233              95.654156    105.645518   \n       8                 102.205233              99.923366    103.413042   \n       16                108.027910             104.414188    100.016728   \n       32                121.547950             126.924927    117.847462   \n       64                188.418781             166.935290    157.179545   \n\n              nodes None  instance  problem number  \ndegree terms                                        \n1      4      125.868236         1              20  \n       8      125.868236         1              20  \n       16     125.868236         1              20  \n       32     125.868236         1              20  \n       64     160.981302         1              15  \n2      4      100.094918         1              20  \n       8      100.094918         1              20  \n       16     100.094918         1              20  \n       32     127.852047         1              11  \n       64     141.919384         1               5  \n4      4      105.918433         1              30  \n       8      105.918433         1              30  \n       16     105.918433         1              30  \n       32     110.455700         1              24  \n       64     137.678718         1              16  ",
      "text/html": "<div>\n<style scoped>\n    .dataframe tbody tr th:only-of-type {\n        vertical-align: middle;\n    }\n\n    .dataframe tbody tr th {\n        vertical-align: top;\n    }\n\n    .dataframe thead th {\n        text-align: right;\n    }\n</style>\n<table border=\"1\" class=\"dataframe\">\n  <thead>\n    <tr style=\"text-align: right;\">\n      <th></th>\n      <th></th>\n      <th>nodes New</th>\n      <th>nodes Old</th>\n      <th>nodes Farkas</th>\n      <th>nodes None</th>\n      <th>instance</th>\n      <th>problem number</th>\n    </tr>\n    <tr>\n      <th>degree</th>\n      <th>terms</th>\n      <th></th>\n      <th></th>\n      <th></th>\n      <th></th>\n      <th></th>\n      <th></th>\n    </tr>\n  </thead>\n  <tbody>\n    <tr>\n      <th rowspan=\"5\" valign=\"top\">1</th>\n      <th>4</th>\n      <td>123.943943</td>\n      <td>127.547147</td>\n      <td>126.784684</td>\n      <td>125.868236</td>\n      <td>1</td>\n      <td>20</td>\n    </tr>\n    <tr>\n      <th>8</th>\n      <td>120.894207</td>\n      <td>128.003228</td>\n      <td>126.533493</td>\n      <td>125.868236</td>\n      <td>1</td>\n      <td>20</td>\n    </tr>\n    <tr>\n      <th>16</th>\n      <td>142.357123</td>\n      <td>139.870809</td>\n      <td>131.859392</td>\n      <td>125.868236</td>\n      <td>1</td>\n      <td>20</td>\n    </tr>\n    <tr>\n      <th>32</th>\n      <td>131.999898</td>\n      <td>129.274357</td>\n      <td>138.860756</td>\n      <td>125.868236</td>\n      <td>1</td>\n      <td>20</td>\n    </tr>\n    <tr>\n      <th>64</th>\n      <td>210.442692</td>\n      <td>224.446113</td>\n      <td>210.802292</td>\n      <td>160.981302</td>\n      <td>1</td>\n      <td>15</td>\n    </tr>\n    <tr>\n      <th rowspan=\"5\" valign=\"top\">2</th>\n      <th>4</th>\n      <td>101.316528</td>\n      <td>100.035059</td>\n      <td>104.184061</td>\n      <td>100.094918</td>\n      <td>1</td>\n      <td>20</td>\n    </tr>\n    <tr>\n      <th>8</th>\n      <td>102.845944</td>\n      <td>110.419438</td>\n      <td>104.892571</td>\n      <td>100.094918</td>\n      <td>1</td>\n      <td>20</td>\n    </tr>\n    <tr>\n      <th>16</th>\n      <td>103.248648</td>\n      <td>109.520236</td>\n      <td>111.334298</td>\n      <td>100.094918</td>\n      <td>1</td>\n      <td>20</td>\n    </tr>\n    <tr>\n      <th>32</th>\n      <td>152.399810</td>\n      <td>137.872512</td>\n      <td>141.574821</td>\n      <td>127.852047</td>\n      <td>1</td>\n      <td>11</td>\n    </tr>\n    <tr>\n      <th>64</th>\n      <td>188.089675</td>\n      <td>192.589719</td>\n      <td>144.362707</td>\n      <td>141.919384</td>\n      <td>1</td>\n      <td>5</td>\n    </tr>\n    <tr>\n      <th rowspan=\"5\" valign=\"top\">4</th>\n      <th>4</th>\n      <td>98.318233</td>\n      <td>95.654156</td>\n      <td>105.645518</td>\n      <td>105.918433</td>\n      <td>1</td>\n      <td>30</td>\n    </tr>\n    <tr>\n      <th>8</th>\n      <td>102.205233</td>\n      <td>99.923366</td>\n      <td>103.413042</td>\n      <td>105.918433</td>\n      <td>1</td>\n      <td>30</td>\n    </tr>\n    <tr>\n      <th>16</th>\n      <td>108.027910</td>\n      <td>104.414188</td>\n      <td>100.016728</td>\n      <td>105.918433</td>\n      <td>1</td>\n      <td>30</td>\n    </tr>\n    <tr>\n      <th>32</th>\n      <td>121.547950</td>\n      <td>126.924927</td>\n      <td>117.847462</td>\n      <td>110.455700</td>\n      <td>1</td>\n      <td>24</td>\n    </tr>\n    <tr>\n      <th>64</th>\n      <td>188.418781</td>\n      <td>166.935290</td>\n      <td>157.179545</td>\n      <td>137.678718</td>\n      <td>1</td>\n      <td>16</td>\n    </tr>\n  </tbody>\n</table>\n</div>"
     },
     "execution_count": 31,
     "metadata": {},
     "output_type": "execute_result"
    }
   ],
   "source": [
    "# additional filtering for dataframe on nodes processed\n",
    "fields = [\"nodes New\", \"nodes Old\", \"nodes Farkas\",\n",
    "          \"nodes None\"]\n",
    "node_df = df.loc[mask, group_cols + id_cols + fields]\n",
    "\n",
    "# define aggregating operations\n",
    "aggregations = {f: gmean for f in fields}\n",
    "aggregations[\"instance\"] = \"nunique\"\n",
    "aggregations[\"problem number\"] = \"count\"\n",
    "\n",
    "# get gap closed by degree and term\n",
    "node_df.groupby([\"degree\", \"terms\"]).agg(aggregations)"
   ],
   "metadata": {
    "collapsed": false,
    "ExecuteTime": {
     "end_time": "2023-10-25T20:39:45.161234Z",
     "start_time": "2023-10-25T20:39:45.139823Z"
    }
   },
   "id": "ffea8b089e3f3841"
  },
  {
   "cell_type": "markdown",
   "source": [
    "# Make iteration table"
   ],
   "metadata": {
    "collapsed": false
   },
   "id": "2765b909ec431cfa"
  },
  {
   "cell_type": "code",
   "execution_count": 32,
   "outputs": [
    {
     "data": {
      "text/plain": "              iterations New  iterations Old  \\\ndegree terms                                                           \n1      4                     1798.188090                 1814.059314   \n       8                     1783.224731                 1850.475198   \n       16                    1979.231271                 1978.413887   \n       32                    2021.916829                 1996.589398   \n       64                    2633.624864                 2694.937924   \n2      4                     1662.525326                 1655.002251   \n       8                     1689.313196                 1742.663946   \n       16                    1787.585002                 1815.426753   \n       32                    2130.767721                 2114.773958   \n       64                    2402.793442                 2530.688121   \n4      4                     1614.753744                 1610.867764   \n       8                     1642.588197                 1632.075113   \n       16                    1742.200952                 1722.992129   \n       32                    1835.878601                 1898.956858   \n       64                    2404.923798                 2249.397305   \n\n              iterations Farkas  iterations None  instance  problem number  \ndegree terms                                                                \n1      4            1781.239575      1780.572140         1              20  \n       8            1814.508533      1780.572140         1              20  \n       16           1893.659317      1780.572140         1              20  \n       32           2092.171422      1780.572140         1              20  \n       64           2611.891972      1998.332159         1              15  \n2      4            1678.598486      1645.028391         1              20  \n       8            1688.397645      1645.028391         1              20  \n       16           1786.328898      1645.028391         1              20  \n       32           1944.333956      1842.540009         1              11  \n       64           1979.392333      1903.189518         1               5  \n4      4            1651.110426      1625.089754         1              30  \n       8            1633.815546      1625.089754         1              30  \n       16           1648.201424      1625.089754         1              30  \n       32           1817.146783      1632.957580         1              24  \n       64           2078.586444      1817.052427         1              16  ",
      "text/html": "<div>\n<style scoped>\n    .dataframe tbody tr th:only-of-type {\n        vertical-align: middle;\n    }\n\n    .dataframe tbody tr th {\n        vertical-align: top;\n    }\n\n    .dataframe thead th {\n        text-align: right;\n    }\n</style>\n<table border=\"1\" class=\"dataframe\">\n  <thead>\n    <tr style=\"text-align: right;\">\n      <th></th>\n      <th></th>\n      <th>iterations New</th>\n      <th>iterations Old</th>\n      <th>iterations Farkas</th>\n      <th>iterations None</th>\n      <th>instance</th>\n      <th>problem number</th>\n    </tr>\n    <tr>\n      <th>degree</th>\n      <th>terms</th>\n      <th></th>\n      <th></th>\n      <th></th>\n      <th></th>\n      <th></th>\n      <th></th>\n    </tr>\n  </thead>\n  <tbody>\n    <tr>\n      <th rowspan=\"5\" valign=\"top\">1</th>\n      <th>4</th>\n      <td>1798.188090</td>\n      <td>1814.059314</td>\n      <td>1781.239575</td>\n      <td>1780.572140</td>\n      <td>1</td>\n      <td>20</td>\n    </tr>\n    <tr>\n      <th>8</th>\n      <td>1783.224731</td>\n      <td>1850.475198</td>\n      <td>1814.508533</td>\n      <td>1780.572140</td>\n      <td>1</td>\n      <td>20</td>\n    </tr>\n    <tr>\n      <th>16</th>\n      <td>1979.231271</td>\n      <td>1978.413887</td>\n      <td>1893.659317</td>\n      <td>1780.572140</td>\n      <td>1</td>\n      <td>20</td>\n    </tr>\n    <tr>\n      <th>32</th>\n      <td>2021.916829</td>\n      <td>1996.589398</td>\n      <td>2092.171422</td>\n      <td>1780.572140</td>\n      <td>1</td>\n      <td>20</td>\n    </tr>\n    <tr>\n      <th>64</th>\n      <td>2633.624864</td>\n      <td>2694.937924</td>\n      <td>2611.891972</td>\n      <td>1998.332159</td>\n      <td>1</td>\n      <td>15</td>\n    </tr>\n    <tr>\n      <th rowspan=\"5\" valign=\"top\">2</th>\n      <th>4</th>\n      <td>1662.525326</td>\n      <td>1655.002251</td>\n      <td>1678.598486</td>\n      <td>1645.028391</td>\n      <td>1</td>\n      <td>20</td>\n    </tr>\n    <tr>\n      <th>8</th>\n      <td>1689.313196</td>\n      <td>1742.663946</td>\n      <td>1688.397645</td>\n      <td>1645.028391</td>\n      <td>1</td>\n      <td>20</td>\n    </tr>\n    <tr>\n      <th>16</th>\n      <td>1787.585002</td>\n      <td>1815.426753</td>\n      <td>1786.328898</td>\n      <td>1645.028391</td>\n      <td>1</td>\n      <td>20</td>\n    </tr>\n    <tr>\n      <th>32</th>\n      <td>2130.767721</td>\n      <td>2114.773958</td>\n      <td>1944.333956</td>\n      <td>1842.540009</td>\n      <td>1</td>\n      <td>11</td>\n    </tr>\n    <tr>\n      <th>64</th>\n      <td>2402.793442</td>\n      <td>2530.688121</td>\n      <td>1979.392333</td>\n      <td>1903.189518</td>\n      <td>1</td>\n      <td>5</td>\n    </tr>\n    <tr>\n      <th rowspan=\"5\" valign=\"top\">4</th>\n      <th>4</th>\n      <td>1614.753744</td>\n      <td>1610.867764</td>\n      <td>1651.110426</td>\n      <td>1625.089754</td>\n      <td>1</td>\n      <td>30</td>\n    </tr>\n    <tr>\n      <th>8</th>\n      <td>1642.588197</td>\n      <td>1632.075113</td>\n      <td>1633.815546</td>\n      <td>1625.089754</td>\n      <td>1</td>\n      <td>30</td>\n    </tr>\n    <tr>\n      <th>16</th>\n      <td>1742.200952</td>\n      <td>1722.992129</td>\n      <td>1648.201424</td>\n      <td>1625.089754</td>\n      <td>1</td>\n      <td>30</td>\n    </tr>\n    <tr>\n      <th>32</th>\n      <td>1835.878601</td>\n      <td>1898.956858</td>\n      <td>1817.146783</td>\n      <td>1632.957580</td>\n      <td>1</td>\n      <td>24</td>\n    </tr>\n    <tr>\n      <th>64</th>\n      <td>2404.923798</td>\n      <td>2249.397305</td>\n      <td>2078.586444</td>\n      <td>1817.052427</td>\n      <td>1</td>\n      <td>16</td>\n    </tr>\n  </tbody>\n</table>\n</div>"
     },
     "execution_count": 32,
     "metadata": {},
     "output_type": "execute_result"
    }
   ],
   "source": [
    "# additional filtering for dataframe on nodes processed\n",
    "fields = [\"iterations New\", \"iterations Old\",\n",
    "          \"iterations Farkas\", \"iterations None\"]\n",
    "node_df = df.loc[mask, group_cols + id_cols + fields]\n",
    "\n",
    "# define aggregating operations\n",
    "aggregations = {f: gmean for f in fields}\n",
    "aggregations[\"instance\"] = \"nunique\"\n",
    "aggregations[\"problem number\"] = \"count\"\n",
    "\n",
    "# get gap closed by degree and term\n",
    "node_df.groupby([\"degree\", \"terms\"]).agg(aggregations)"
   ],
   "metadata": {
    "collapsed": false,
    "ExecuteTime": {
     "end_time": "2023-10-25T20:39:48.354845Z",
     "start_time": "2023-10-25T20:39:48.335922Z"
    }
   },
   "id": "6f4bbb68703367ae"
  },
  {
   "cell_type": "code",
   "execution_count": null,
   "outputs": [],
   "source": [],
   "metadata": {
    "collapsed": false
   },
   "id": "d6f0efb6c67553c7"
  }
 ],
 "metadata": {
  "kernelspec": {
   "display_name": "Python 3",
   "language": "python",
   "name": "python3"
  },
  "language_info": {
   "codemirror_mode": {
    "name": "ipython",
    "version": 2
   },
   "file_extension": ".py",
   "mimetype": "text/x-python",
   "name": "python",
   "nbconvert_exporter": "python",
   "pygments_lexer": "ipython2",
   "version": "2.7.6"
  }
 },
 "nbformat": 4,
 "nbformat_minor": 5
}
