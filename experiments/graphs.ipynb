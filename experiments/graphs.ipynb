{
 "cells": [
  {
   "cell_type": "raw",
   "source": [],
   "metadata": {
    "collapsed": false
   },
   "id": "e7e73609072665d4"
  },
  {
   "cell_type": "code",
   "execution_count": 1,
   "outputs": [],
   "source": [
    "import os\n",
    "import pandas as pd\n",
    "import re\n",
    "from scipy.stats.mstats import gmean"
   ],
   "metadata": {
    "collapsed": false,
    "ExecuteTime": {
     "end_time": "2023-11-03T18:44:39.679283Z",
     "start_time": "2023-11-03T18:44:38.947019Z"
    }
   },
   "id": "1cc59124d1d40dc"
  },
  {
   "cell_type": "code",
   "execution_count": 2,
   "outputs": [],
   "source": [
    "# get input paths\n",
    "test_set = \"miplib_smaller_easy_binary\"\n",
    "instance_fldr = os.path.join(\"test_sets\", test_set)\n",
    "results_fldr = os.path.join(\"results\", test_set)\n",
    "out_fldr = os.path.join(\"outputs\", test_set)"
   ],
   "metadata": {
    "collapsed": false,
    "ExecuteTime": {
     "end_time": "2023-11-03T18:44:40.360813Z",
     "start_time": "2023-11-03T18:44:40.345535Z"
    }
   },
   "id": "7efbc88147f301fa"
  },
  {
   "cell_type": "markdown",
   "source": [
    "## Check run failures"
   ],
   "metadata": {
    "collapsed": false
   },
   "id": "309a347a4f60cab6"
  },
  {
   "cell_type": "code",
   "execution_count": 3,
   "outputs": [],
   "source": [
    "# running list of strings contained by different error codes\n",
    "# last two are catchalls\n",
    "err = {\n",
    "    \"walltime\": [],\n",
    "    \"bad_alloc\": [],\n",
    "    \"takeoffcuts\": [],\n",
    "    \"solver is dual infeasible\": [],\n",
    "    \"solver must be optimal\": [],\n",
    "    \"segmentation fault\": [],\n",
    "    \"no vpcs were made from a new disjunction\": [],\n",
    "    \"farkas\": [],\n",
    "    \"prlp is primal infeasible\": [],\n",
    "    \"branch variables must be integer\": [],\n",
    "    \"warning\": []\n",
    "}\n",
    "\n",
    "# runs that errored out with new error code\n",
    "other = []\n",
    "\n",
    "# runs that had no errors\n",
    "empty = []\n",
    "\n",
    "# series that didn't run\n",
    "no_go = []\n",
    "\n",
    "# counts\n",
    "count_series = 0\n",
    "count_instances = 0\n",
    "\n",
    "# iterate over all expected runs\n",
    "for instance in os.listdir(instance_fldr):\n",
    "    if not os.path.isdir(os.path.join(instance_fldr, instance)):\n",
    "        continue\n",
    "    for perturbation in os.listdir(os.path.join(instance_fldr, instance)):\n",
    "        if not os.path.isdir(os.path.join(instance_fldr, instance, perturbation)):\n",
    "            continue\n",
    "        for terms in [4, 16, 64]:\n",
    "            for generator in [\"None\", \"New\", \"Old\", \"Farkas\"]:\n",
    "\n",
    "                # set variables for this iteration\n",
    "                count_series += 1\n",
    "                stem = f\"{instance}_{perturbation}_{terms}_{generator}\"\n",
    "                file_pth = os.path.join(results_fldr, f\"{stem}.err\")\n",
    "                series_fldr = os.path.join(instance_fldr, instance, perturbation)\n",
    "                count_instances += len([f for f in os.listdir(series_fldr) if\n",
    "                                        f.endswith(\".mps\")])\n",
    "\n",
    "                # check if the series wasn't run\n",
    "                if not os.path.exists(file_pth):\n",
    "                    no_go.append(stem)\n",
    "                \n",
    "                # check if the series ran with no errors or warnings\n",
    "                elif os.path.getsize(file_pth) == 0:\n",
    "                    empty.append(stem)\n",
    "                \n",
    "                # track which error codes were thrown\n",
    "                else:\n",
    "                    # read the file\n",
    "                    with open(file_pth, \"r\") as f:\n",
    "                        text = f.read().lower()\n",
    "                    \n",
    "                    # assign the error file to the appropriate list\n",
    "                    for code in err:\n",
    "                        if code in text:\n",
    "                            err[code].append(stem)\n",
    "                            break\n",
    "                    else:\n",
    "                        other.append(stem)"
   ],
   "metadata": {
    "collapsed": false,
    "ExecuteTime": {
     "end_time": "2023-11-03T18:44:42.482413Z",
     "start_time": "2023-11-03T18:44:42.392353Z"
    }
   },
   "id": "bf0cf935eb4aad03"
  },
  {
   "cell_type": "code",
   "execution_count": 4,
   "outputs": [
    {
     "name": "stdout",
     "output_type": "stream",
     "text": [
      "[]\n"
     ]
    }
   ],
   "source": [
    "# check which series didn't run\n",
    "print(no_go)"
   ],
   "metadata": {
    "collapsed": false,
    "ExecuteTime": {
     "end_time": "2023-11-03T18:44:43.141096Z",
     "start_time": "2023-11-03T18:44:43.124199Z"
    }
   },
   "id": "e4302c5a43b44547"
  },
  {
   "cell_type": "code",
   "execution_count": 5,
   "outputs": [
    {
     "data": {
      "text/plain": "1.0"
     },
     "execution_count": 5,
     "metadata": {},
     "output_type": "execute_result"
    }
   ],
   "source": [
    "# get the proportion of series that at least got started\n",
    "1 - (len(no_go) / count_series)"
   ],
   "metadata": {
    "collapsed": false,
    "ExecuteTime": {
     "end_time": "2023-11-03T18:44:43.745928Z",
     "start_time": "2023-11-03T18:44:43.742675Z"
    }
   },
   "id": "5c199c411fd4414c"
  },
  {
   "cell_type": "code",
   "execution_count": 6,
   "outputs": [
    {
     "data": {
      "text/plain": "['neos-3610173-itata_matrix_1_64_New', 'neos-3610173-itata_matrix_0_64_New']"
     },
     "execution_count": 6,
     "metadata": {},
     "output_type": "execute_result"
    }
   ],
   "source": [
    "err[\"walltime\"]"
   ],
   "metadata": {
    "collapsed": false,
    "ExecuteTime": {
     "end_time": "2023-11-03T18:44:44.459023Z",
     "start_time": "2023-11-03T18:44:44.452738Z"
    }
   },
   "id": "2c0c8ca9c8f7caae"
  },
  {
   "cell_type": "code",
   "execution_count": 7,
   "outputs": [
    {
     "data": {
      "text/plain": "['neos-3610173-itata_rhs_0_64_Old',\n 'neos-3610173-itata_rhs_0_64_Farkas',\n 'neos-3610173-itata_rhs_1_64_Old',\n 'neos-3610173-itata_rhs_1_64_Farkas',\n 'neos-3610173-itata_matrix_1_64_Old',\n 'neos-3610173-itata_matrix_1_64_Farkas',\n 'neos-3610173-itata_matrix_0_64_Old',\n 'neos-3610173-itata_matrix_0_64_Farkas',\n 'neos-3610051-istra_rhs_0_64_Old',\n 'neos-3610051-istra_rhs_0_64_Farkas',\n 'neos-3610051-istra_rhs_1_64_Old',\n 'neos-3610051-istra_rhs_1_64_Farkas',\n 'neos-3610051-istra_matrix_1_64_Old',\n 'neos-3610051-istra_matrix_1_64_Farkas',\n 'neos-3610051-istra_matrix_0_64_Old',\n 'neos-3610051-istra_matrix_0_64_Farkas',\n 'neos-3611447-jijia_rhs_0_64_Old',\n 'neos-3611447-jijia_rhs_0_64_Farkas',\n 'neos-3611447-jijia_rhs_1_64_Old',\n 'neos-3611447-jijia_rhs_1_64_Farkas',\n 'neos-3611447-jijia_matrix_1_64_Old',\n 'neos-3611447-jijia_matrix_1_64_Farkas',\n 'neos-3611447-jijia_matrix_0_64_Old',\n 'neos-3611447-jijia_matrix_0_64_Farkas',\n 'neos-3610040-iskar_rhs_1_64_Old',\n 'neos-3610040-iskar_rhs_1_64_Farkas',\n 'neos-3610040-iskar_matrix_1_64_Old',\n 'neos-3610040-iskar_matrix_1_64_Farkas',\n 'neos-3610040-iskar_matrix_0_64_Old',\n 'neos-3610040-iskar_matrix_0_64_Farkas',\n 'neos-5140963-mincio_rhs_0_64_Old',\n 'neos-5140963-mincio_rhs_0_64_Farkas',\n 'neos-5140963-mincio_rhs_1_64_Old',\n 'neos-5140963-mincio_rhs_1_64_Farkas',\n 'neos-5140963-mincio_objective_1_64_Old',\n 'neos-5140963-mincio_objective_1_64_Farkas',\n 'neos-5140963-mincio_matrix_1_16_Old',\n 'neos-5140963-mincio_matrix_1_16_Farkas',\n 'neos-5140963-mincio_matrix_1_64_Old',\n 'neos-5140963-mincio_matrix_1_64_Farkas',\n 'neos-5140963-mincio_matrix_0_16_Old',\n 'neos-5140963-mincio_matrix_0_16_Farkas',\n 'neos-5140963-mincio_rhs_-1_16_Old',\n 'neos-5140963-mincio_rhs_-1_16_Farkas',\n 'neos-5140963-mincio_rhs_-1_64_Old',\n 'neos-5140963-mincio_rhs_-1_64_Farkas',\n 'neos-5140963-mincio_matrix_-1_64_Old',\n 'neos-5140963-mincio_matrix_-1_64_Farkas',\n 'neos-5140963-mincio_objective_-1_64_Old',\n 'neos-5140963-mincio_objective_-1_64_Farkas',\n 'neos-3611689-kaihu_rhs_1_64_Old',\n 'neos-3611689-kaihu_rhs_1_64_Farkas',\n 'neos-3611689-kaihu_matrix_1_64_Old',\n 'neos-3611689-kaihu_matrix_1_64_Farkas',\n 'neos-3611689-kaihu_matrix_0_64_Old',\n 'neos-3611689-kaihu_matrix_0_64_Farkas',\n 'dcmulti_objective_1_64_Old',\n 'dcmulti_objective_1_64_Farkas',\n 'dcmulti_matrix_1_64_Old',\n 'dcmulti_matrix_1_64_Farkas',\n 'dcmulti_matrix_0_64_Old',\n 'dcmulti_matrix_0_64_Farkas',\n 'dcmulti_objective_0_64_Old',\n 'dcmulti_objective_0_64_Farkas',\n 'dcmulti_matrix_-1_64_Farkas',\n 'dcmulti_objective_-1_64_Old',\n 'dcmulti_objective_-1_64_Farkas',\n 'prod1_rhs_0_16_Old',\n 'prod1_rhs_0_16_Farkas',\n 'prod1_matrix_1_16_Old',\n 'prod1_matrix_1_16_Farkas',\n 'prod1_matrix_0_16_Old',\n 'prod1_matrix_0_16_Farkas']"
     },
     "execution_count": 7,
     "metadata": {},
     "output_type": "execute_result"
    }
   ],
   "source": [
    "err[\"bad_alloc\"]"
   ],
   "metadata": {
    "collapsed": false,
    "ExecuteTime": {
     "end_time": "2023-11-03T18:44:49.507629Z",
     "start_time": "2023-11-03T18:44:49.494800Z"
    }
   },
   "id": "799f9596fe1bb847"
  },
  {
   "cell_type": "code",
   "execution_count": 8,
   "outputs": [
    {
     "data": {
      "text/plain": "['dcmulti_rhs_-1_4_Old',\n 'dcmulti_rhs_-1_4_Farkas',\n 'dcmulti_rhs_-1_16_Farkas',\n 'dcmulti_rhs_-1_64_Farkas',\n 'dcmulti_matrix_-1_4_Old',\n 'dcmulti_matrix_-1_16_Old',\n 'dcmulti_matrix_-1_64_Old']"
     },
     "execution_count": 8,
     "metadata": {},
     "output_type": "execute_result"
    }
   ],
   "source": [
    "err[\"takeoffcuts\"]"
   ],
   "metadata": {
    "collapsed": false,
    "ExecuteTime": {
     "end_time": "2023-11-03T18:44:51.438180Z",
     "start_time": "2023-11-03T18:44:51.425951Z"
    }
   },
   "id": "121be7316b7ba6b2"
  },
  {
   "cell_type": "code",
   "execution_count": 9,
   "outputs": [
    {
     "data": {
      "text/plain": "[]"
     },
     "execution_count": 9,
     "metadata": {},
     "output_type": "execute_result"
    }
   ],
   "source": [
    "err[\"solver is dual infeasible\"]"
   ],
   "metadata": {
    "collapsed": false,
    "ExecuteTime": {
     "end_time": "2023-11-03T18:44:52.415013Z",
     "start_time": "2023-11-03T18:44:52.403096Z"
    }
   },
   "id": "5c8956abcbdf8b6d"
  },
  {
   "cell_type": "code",
   "execution_count": 10,
   "outputs": [
    {
     "data": {
      "text/plain": "['neos-5140963-mincio_objective_1_4_New',\n 'neos-5140963-mincio_objective_1_4_Old',\n 'neos-5140963-mincio_objective_1_4_Farkas',\n 'neos-5140963-mincio_objective_1_16_New',\n 'neos-5140963-mincio_objective_1_16_Old',\n 'neos-5140963-mincio_objective_1_16_Farkas',\n 'neos-5140963-mincio_objective_1_64_New',\n 'neos-5140963-mincio_objective_0_4_New',\n 'neos-5140963-mincio_objective_0_4_Old',\n 'neos-5140963-mincio_objective_0_4_Farkas',\n 'neos-5140963-mincio_objective_0_16_New',\n 'neos-5140963-mincio_objective_0_16_Old',\n 'neos-5140963-mincio_objective_0_16_Farkas',\n 'neos-5140963-mincio_objective_0_64_New',\n 'neos-5140963-mincio_objective_0_64_Old',\n 'neos-5140963-mincio_objective_0_64_Farkas',\n 'neos-5140963-mincio_objective_-1_4_New',\n 'neos-5140963-mincio_objective_-1_4_Old',\n 'neos-5140963-mincio_objective_-1_4_Farkas',\n 'neos-5140963-mincio_objective_-1_16_New',\n 'neos-5140963-mincio_objective_-1_16_Old',\n 'neos-5140963-mincio_objective_-1_16_Farkas',\n 'neos-5140963-mincio_objective_-1_64_New']"
     },
     "execution_count": 10,
     "metadata": {},
     "output_type": "execute_result"
    }
   ],
   "source": [
    "err[\"solver must be optimal\"]"
   ],
   "metadata": {
    "collapsed": false,
    "ExecuteTime": {
     "end_time": "2023-11-03T18:44:53.295087Z",
     "start_time": "2023-11-03T18:44:53.282039Z"
    }
   },
   "id": "72de71ca5f9b047"
  },
  {
   "cell_type": "code",
   "execution_count": 11,
   "outputs": [
    {
     "data": {
      "text/plain": "[]"
     },
     "execution_count": 11,
     "metadata": {},
     "output_type": "execute_result"
    }
   ],
   "source": [
    "err[\"segmentation fault\"]"
   ],
   "metadata": {
    "collapsed": false,
    "ExecuteTime": {
     "end_time": "2023-11-03T18:44:54.324269Z",
     "start_time": "2023-11-03T18:44:54.311590Z"
    }
   },
   "id": "fef47bf6e8f3c2d7"
  },
  {
   "cell_type": "code",
   "execution_count": 12,
   "outputs": [
    {
     "data": {
      "text/plain": "['neos-3610173-itata_rhs_0_64_New',\n 'neos-3610051-istra_rhs_1_64_New',\n 'mas74_rhs_1_4_New',\n 'mas74_rhs_1_16_New',\n 'mas74_rhs_1_64_New',\n 'mas74_matrix_1_4_New',\n 'mas74_matrix_1_16_New',\n 'mas74_matrix_1_64_New',\n 'mas74_matrix_0_4_New',\n 'mas74_matrix_0_16_New',\n 'mas74_matrix_0_64_New',\n 'mas74_matrix_-1_4_New',\n 'mas74_matrix_-1_16_New',\n 'mas74_matrix_-1_64_New',\n 'neos-5140963-mincio_rhs_0_64_New',\n 'bm23_rhs_0_64_New',\n 'bm23_rhs_1_64_New',\n 'bm23_matrix_1_64_New',\n 'bm23_matrix_0_64_New',\n 'bm23_matrix_-1_64_New',\n 'dcmulti_matrix_1_4_New',\n 'dcmulti_matrix_1_16_New',\n 'dcmulti_matrix_1_64_New',\n 'dcmulti_matrix_0_4_New',\n 'dcmulti_matrix_0_16_New',\n 'dcmulti_matrix_0_64_New',\n 'dcmulti_matrix_-1_64_New',\n 'mas76_matrix_1_4_New',\n 'mas76_matrix_1_16_New',\n 'mas76_matrix_1_64_New',\n 'mas76_matrix_0_4_New',\n 'mas76_matrix_0_16_New',\n 'mas76_matrix_0_64_New',\n 'mas76_matrix_-1_64_New',\n 'prod1_rhs_0_4_New',\n 'prod1_rhs_1_4_New']"
     },
     "execution_count": 12,
     "metadata": {},
     "output_type": "execute_result"
    }
   ],
   "source": [
    "err[\"no vpcs were made from a new disjunction\"]"
   ],
   "metadata": {
    "collapsed": false,
    "ExecuteTime": {
     "end_time": "2023-11-03T18:44:56.650584Z",
     "start_time": "2023-11-03T18:44:56.637751Z"
    }
   },
   "id": "323bfdd3f23d8330"
  },
  {
   "cell_type": "code",
   "execution_count": 14,
   "outputs": [
    {
     "data": {
      "text/plain": "['neos-3610173-itata_rhs_0_16_New',\n 'neos-3610173-itata_rhs_1_64_New',\n 'neos-3610051-istra_rhs_1_16_New',\n 'neos-3610051-istra_matrix_1_16_New',\n 'dcmulti_objective_1_64_New']"
     },
     "execution_count": 14,
     "metadata": {},
     "output_type": "execute_result"
    }
   ],
   "source": [
    "err[\"farkas\"]"
   ],
   "metadata": {
    "collapsed": false,
    "ExecuteTime": {
     "end_time": "2023-11-03T18:45:13.304627Z",
     "start_time": "2023-11-03T18:45:13.291256Z"
    }
   },
   "id": "2eb370fdb19b4220"
  },
  {
   "cell_type": "code",
   "execution_count": 15,
   "outputs": [
    {
     "data": {
      "text/plain": "['mas74_matrix_1_4_Old',\n 'mas74_matrix_1_16_Old',\n 'mas74_matrix_1_64_Old',\n 'neos-5140963-mincio_matrix_1_4_Old',\n 'dcmulti_matrix_1_4_Old',\n 'dcmulti_matrix_1_16_Old',\n 'dcmulti_matrix_0_4_Old',\n 'dcmulti_matrix_0_16_Old',\n 'mas76_rhs_0_4_Old',\n 'mas76_rhs_1_4_Old',\n 'mas76_matrix_1_4_Old',\n 'mas76_matrix_1_16_Old',\n 'mas76_matrix_1_64_Old',\n 'mas76_matrix_0_4_Old',\n 'mas76_matrix_0_16_Old',\n 'mas76_matrix_0_64_Old',\n 'mas76_matrix_-1_4_Old',\n 'mas76_matrix_-1_64_Old']"
     },
     "execution_count": 15,
     "metadata": {},
     "output_type": "execute_result"
    }
   ],
   "source": [
    "err[\"prlp is primal infeasible\"]"
   ],
   "metadata": {
    "collapsed": false,
    "ExecuteTime": {
     "end_time": "2023-11-03T18:45:14.017709Z",
     "start_time": "2023-11-03T18:45:14.011773Z"
    }
   },
   "id": "728863caf232ccb4"
  },
  {
   "cell_type": "code",
   "execution_count": 16,
   "outputs": [
    {
     "data": {
      "text/plain": "['neos-3610173-itata_rhs_1_4_New',\n 'neos-3610173-itata_rhs_1_16_New',\n 'neos-5140963-mincio_matrix_1_4_New',\n 'neos-5140963-mincio_matrix_1_16_New',\n 'neos-5140963-mincio_matrix_1_64_New',\n 'neos-5140963-mincio_matrix_0_4_New',\n 'neos-5140963-mincio_matrix_0_16_New',\n 'neos-5140963-mincio_matrix_0_64_New',\n 'neos-3611689-kaihu_matrix_1_4_New',\n 'neos-3611689-kaihu_matrix_1_16_New',\n 'neos-3611689-kaihu_matrix_1_64_New',\n 'dcmulti_objective_1_4_New',\n 'dcmulti_objective_1_16_New',\n 'dcmulti_objective_0_4_New',\n 'dcmulti_objective_0_16_New',\n 'dcmulti_objective_0_64_New',\n 'dcmulti_rhs_-1_4_New',\n 'dcmulti_rhs_-1_16_New',\n 'dcmulti_rhs_-1_64_New',\n 'dcmulti_matrix_-1_4_New',\n 'dcmulti_matrix_-1_16_New',\n 'mas76_matrix_-1_16_Old',\n 'prod1_rhs_0_4_Old',\n 'prod1_rhs_0_4_Farkas',\n 'prod1_rhs_1_4_Old',\n 'prod1_rhs_1_4_Farkas',\n 'prod1_rhs_1_16_New',\n 'prod1_rhs_1_16_Old',\n 'prod1_rhs_1_16_Farkas',\n 'prod1_matrix_1_4_New',\n 'prod1_matrix_1_4_Old',\n 'prod1_matrix_1_4_Farkas',\n 'prod1_matrix_1_16_New',\n 'prod1_matrix_0_4_New',\n 'prod1_matrix_0_4_Old',\n 'prod1_matrix_0_4_Farkas',\n 'prod1_matrix_0_16_New']"
     },
     "execution_count": 16,
     "metadata": {},
     "output_type": "execute_result"
    }
   ],
   "source": [
    "err[\"warning\"]"
   ],
   "metadata": {
    "collapsed": false,
    "ExecuteTime": {
     "end_time": "2023-11-03T18:45:14.873586Z",
     "start_time": "2023-11-03T18:45:14.860225Z"
    }
   },
   "id": "6c142a21e974f0b9"
  },
  {
   "cell_type": "code",
   "execution_count": 17,
   "outputs": [
    {
     "data": {
      "text/plain": "['prod1_rhs_0_16_New',\n 'prod1_rhs_0_64_New',\n 'prod1_rhs_0_64_Old',\n 'prod1_rhs_0_64_Farkas',\n 'prod1_rhs_1_64_New',\n 'prod1_rhs_1_64_Old',\n 'prod1_rhs_1_64_Farkas',\n 'prod1_matrix_1_64_New',\n 'prod1_matrix_1_64_Old',\n 'prod1_matrix_1_64_Farkas',\n 'prod1_matrix_0_64_New',\n 'prod1_matrix_0_64_Old',\n 'prod1_matrix_0_64_Farkas']"
     },
     "execution_count": 17,
     "metadata": {},
     "output_type": "execute_result"
    }
   ],
   "source": [
    "err[\"branch variables must be integer\"]"
   ],
   "metadata": {
    "collapsed": false,
    "ExecuteTime": {
     "end_time": "2023-11-03T18:45:15.597699Z",
     "start_time": "2023-11-03T18:45:15.593383Z"
    }
   },
   "id": "cbe5c977488d207f"
  },
  {
   "cell_type": "code",
   "execution_count": 18,
   "outputs": [
    {
     "data": {
      "text/plain": "[]"
     },
     "execution_count": 18,
     "metadata": {},
     "output_type": "execute_result"
    }
   ],
   "source": [
    "# errors unaccounted for\n",
    "other"
   ],
   "metadata": {
    "collapsed": false,
    "ExecuteTime": {
     "end_time": "2023-11-03T18:45:17.872983Z",
     "start_time": "2023-11-03T18:45:17.858326Z"
    }
   },
   "id": "f2365025f4ca39d4"
  },
  {
   "cell_type": "code",
   "execution_count": 19,
   "outputs": [
    {
     "data": {
      "text/plain": "0.6863636363636364"
     },
     "execution_count": 19,
     "metadata": {},
     "output_type": "execute_result"
    }
   ],
   "source": [
    "# proportion of series that had no issues\n",
    "len(empty + err[\"warning\"]) / count_series"
   ],
   "metadata": {
    "collapsed": false,
    "ExecuteTime": {
     "end_time": "2023-11-03T18:45:19.000717Z",
     "start_time": "2023-11-03T18:45:18.987136Z"
    }
   },
   "id": "52404dea8ae4eb16"
  },
  {
   "cell_type": "code",
   "execution_count": 20,
   "outputs": [
    {
     "name": "stdout",
     "output_type": "stream",
     "text": [
      "None: 1.0\n",
      "New: 0.6545454545454545\n",
      "Old: 0.48484848484848486\n",
      "Farkas: 0.6060606060606061\n"
     ]
    }
   ],
   "source": [
    "# proportion of series that had no issues broken down by generator\n",
    "for generator in [\"None\", \"New\", \"Old\", \"Farkas\"]:\n",
    "    g = [s for s in empty if s.endswith(generator)] + \\\n",
    "        [s for s in err[\"warning\"] if s.endswith(generator)]\n",
    "    print(f\"{generator}: {4 * len(g) / count_series}\")"
   ],
   "metadata": {
    "collapsed": false,
    "ExecuteTime": {
     "end_time": "2023-11-03T18:45:19.837155Z",
     "start_time": "2023-11-03T18:45:19.821984Z"
    }
   },
   "id": "b7f77dc163123551"
  },
  {
   "cell_type": "code",
   "execution_count": 21,
   "outputs": [
    {
     "data": {
      "text/plain": "0.11363636363636363"
     },
     "execution_count": 21,
     "metadata": {},
     "output_type": "execute_result"
    }
   ],
   "source": [
    "# proportion of series that were improperly provisioned\n",
    "(len(err[\"bad_alloc\"] + err[\"walltime\"])) / count_series"
   ],
   "metadata": {
    "collapsed": false,
    "ExecuteTime": {
     "end_time": "2023-11-03T18:45:22.744906Z",
     "start_time": "2023-11-03T18:45:22.728951Z"
    }
   },
   "id": "5cc2517a3d1c1f27"
  },
  {
   "cell_type": "code",
   "execution_count": 22,
   "outputs": [
    {
     "data": {
      "text/plain": "0.08181818181818182"
     },
     "execution_count": 22,
     "metadata": {},
     "output_type": "execute_result"
    }
   ],
   "source": [
    "(len(err[\"no vpcs were made from a new disjunction\"] +\n",
    "     err[\"prlp is primal infeasible\"])) / count_series"
   ],
   "metadata": {
    "collapsed": false,
    "ExecuteTime": {
     "end_time": "2023-11-03T18:45:23.456006Z",
     "start_time": "2023-11-03T18:45:23.450465Z"
    }
   },
   "id": "a68e05b0af9cd9c8"
  },
  {
   "cell_type": "code",
   "execution_count": 23,
   "outputs": [
    {
     "data": {
      "text/plain": "0.8818181818181818"
     },
     "execution_count": 23,
     "metadata": {},
     "output_type": "execute_result"
    }
   ],
   "source": [
    "# proportion of series that had didn't actually error\n",
    "(len(empty + err[\"bad_alloc\"] + err[\"walltime\"] + err[\"warning\"] +\n",
    "     err[\"no vpcs were made from a new disjunction\"] +\n",
    "     err[\"prlp is primal infeasible\"])) / count_series"
   ],
   "metadata": {
    "collapsed": false,
    "ExecuteTime": {
     "end_time": "2023-11-03T18:45:24.060789Z",
     "start_time": "2023-11-03T18:45:24.052749Z"
    }
   },
   "id": "be115d35253a35f4"
  },
  {
   "cell_type": "markdown",
   "source": [
    "## Read in data"
   ],
   "metadata": {
    "collapsed": false
   },
   "id": "1b96d76b8971a661"
  },
  {
   "cell_type": "code",
   "execution_count": 24,
   "outputs": [],
   "source": [
    "# map generator names to the corresponding data frames\n",
    "df_map = {\n",
    "    \"None\": pd.DataFrame(),\n",
    "    \"Farkas\": pd.DataFrame(),\n",
    "    \"New\": pd.DataFrame(),\n",
    "    \"Old\": pd.DataFrame()\n",
    "}\n",
    "regex = re.compile(r'([a-zA-Z0-9-]+)_([a-z]+)_([0-9-]+)_([0-9]+)_([a-zA-Z ]+)')\n",
    "\n",
    "# iterate over all files in the folder\n",
    "for file_name in os.listdir(results_fldr):\n",
    "    \n",
    "    file_pth = os.path.join(results_fldr, file_name)\n",
    "    \n",
    "    # if the file is not a nonempty csv, skip it\n",
    "    if not file_name.endswith(\".csv\") or os.path.getsize(file_pth) == 0:\n",
    "        continue\n",
    "    \n",
    "    # get the experimental set up\n",
    "    match = regex.search(file_name)\n",
    "    instance_name = match.group(1)\n",
    "    perturbation = match.group(2)\n",
    "    degree = 2**int(match.group(3))\n",
    "    terms = int(match.group(4))\n",
    "    generator = match.group(5)\n",
    "    \n",
    "    # read the file\n",
    "    df = pd.read_csv(file_pth, keep_default_na=False)\n",
    "    \n",
    "    # add some identifying columns\n",
    "    df[\"problem number\"] = df.index\n",
    "    df[\"instance\"] = instance_name\n",
    "    df[\"perturbation\"] = perturbation\n",
    "    df[\"degree\"] = degree\n",
    "    df[\"terms\"] = terms\n",
    "    \n",
    "    # append to the appropriate data frame\n",
    "    df_map[generator] = pd.concat([df_map[generator], df])"
   ],
   "metadata": {
    "collapsed": false,
    "ExecuteTime": {
     "end_time": "2023-11-03T18:45:26.151912Z",
     "start_time": "2023-11-03T18:45:25.495219Z"
    }
   },
   "id": "cd620191b5a5849a"
  },
  {
   "cell_type": "code",
   "execution_count": 25,
   "outputs": [
    {
     "name": "stdout",
     "output_type": "stream",
     "text": [
      "None: 1.0\n",
      "Farkas: 0.8173356602675974\n",
      "New: 0.7201861547411286\n",
      "Old: 0.8155904595695171\n"
     ]
    }
   ],
   "source": [
    "# get proportion of instances run\n",
    "for generator, df in df_map.items():\n",
    "    print(f\"{generator}: {4 * len(df) / count_instances}\")"
   ],
   "metadata": {
    "collapsed": false,
    "ExecuteTime": {
     "end_time": "2023-11-03T18:45:26.215885Z",
     "start_time": "2023-11-03T18:45:26.211802Z"
    }
   },
   "id": "dc808ad6e70ccb1d"
  },
  {
   "cell_type": "code",
   "execution_count": 46,
   "outputs": [
    {
     "data": {
      "text/plain": "Empty DataFrame\nColumns: [lpBound, disjunctiveDualBound, lpBoundPostVpc, rootDualBound, dualBound, heuristicPrimalBound, primalBound, vpcGenerationTime, heuristicTime, rootDualBoundTime, firstSolutionTime, bestSolutionTime, terminationTime, maxTime, vpcGenerator, terms, iterations, nodes, actualTerms, problem number, instance, perturbation, degree]\nIndex: []\n\n[0 rows x 23 columns]",
      "text/html": "<div>\n<style scoped>\n    .dataframe tbody tr th:only-of-type {\n        vertical-align: middle;\n    }\n\n    .dataframe tbody tr th {\n        vertical-align: top;\n    }\n\n    .dataframe thead th {\n        text-align: right;\n    }\n</style>\n<table border=\"1\" class=\"dataframe\">\n  <thead>\n    <tr style=\"text-align: right;\">\n      <th></th>\n      <th>lpBound</th>\n      <th>disjunctiveDualBound</th>\n      <th>lpBoundPostVpc</th>\n      <th>rootDualBound</th>\n      <th>dualBound</th>\n      <th>heuristicPrimalBound</th>\n      <th>primalBound</th>\n      <th>vpcGenerationTime</th>\n      <th>heuristicTime</th>\n      <th>rootDualBoundTime</th>\n      <th>...</th>\n      <th>maxTime</th>\n      <th>vpcGenerator</th>\n      <th>terms</th>\n      <th>iterations</th>\n      <th>nodes</th>\n      <th>actualTerms</th>\n      <th>problem number</th>\n      <th>instance</th>\n      <th>perturbation</th>\n      <th>degree</th>\n    </tr>\n  </thead>\n  <tbody>\n  </tbody>\n</table>\n<p>0 rows × 23 columns</p>\n</div>"
     },
     "execution_count": 46,
     "metadata": {},
     "output_type": "execute_result"
    }
   ],
   "source": [
    "gen = \"Farkas\" # make sure masks 3 and 9 are fixed rest should be fine\n",
    "masks = {\n",
    "        0: -1e20 > df_map[gen][\"lpBound\"],\n",
    "        1: df_map[gen][\"lpBound\"] - 1e-4 > df_map[gen][\"lpBoundPostVpc\"],\n",
    "        2: df_map[gen][\"lpBoundPostVpc\"] - 1e-4 > df_map[gen][\"disjunctiveDualBound\"],\n",
    "        3: df_map[gen][\"lpBoundPostVpc\"] - 1e-4 > df_map[gen][\"rootDualBound\"],\n",
    "        4: df_map[gen][\"rootDualBound\"] - 1e-4 > df_map[gen][\"dualBound\"],\n",
    "        5: df_map[gen][\"dualBound\"] - 1e-4 > df_map[gen][\"primalBound\"],\n",
    "        6: df_map[gen][\"primalBound\"] > 1e20,\n",
    "        7: 0 > df_map[gen][\"vpcGenerationTime\"],\n",
    "        8: df_map[gen][\"vpcGenerationTime\"] - 1e-4 > df_map[gen][\"heuristicTime\"],\n",
    "        9: df_map[gen][\"heuristicTime\"] - 1e-4 > df_map[gen][\"rootDualBoundTime\"],\n",
    "        10: df_map[gen][\"rootDualBoundTime\"] - 1e-4 > df_map[gen][\"terminationTime\"],\n",
    "        11: 0 > df_map[gen][\"firstSolutionTime\"],\n",
    "        12: df_map[gen][\"firstSolutionTime\"] - 1e-4 > df_map[gen][\"bestSolutionTime\"],\n",
    "        13: df_map[gen][\"bestSolutionTime\"] - 1e-4 > df_map[gen][\"terminationTime\"],\n",
    "        14: df_map[gen][\"terminationTime\"] > df_map[gen][\"maxTime\"] + 10,\n",
    "        15: df_map[gen][\"vpcGenerationTime\"] > df_map[gen][\"maxTime\"]\n",
    "    }\n",
    "\n",
    "df_map[gen][masks[9]]"
   ],
   "metadata": {
    "collapsed": false,
    "ExecuteTime": {
     "end_time": "2023-11-03T21:52:18.274938Z",
     "start_time": "2023-11-03T21:52:18.264541Z"
    }
   },
   "id": "1707d3125161409b"
  },
  {
   "cell_type": "code",
   "execution_count": 27,
   "outputs": [],
   "source": [
    "for gen in df_map:\n",
    "    mask = (-1e20 > df_map[gen][\"lpBound\"]) | \\\n",
    "        (df_map[gen][\"lpBound\"] - 1e-4 > df_map[gen][\"lpBoundPostVpc\"]) | \\\n",
    "        (df_map[gen][\"lpBoundPostVpc\"] - 1e-4 > df_map[gen][\"disjunctiveDualBound\"]) | \\\n",
    "        (df_map[gen][\"lpBoundPostVpc\"] - 1e-4 > df_map[gen][\"rootDualBound\"]) | \\\n",
    "        (df_map[gen][\"rootDualBound\"] - 1e-4 > df_map[gen][\"dualBound\"]) | \\\n",
    "        (df_map[gen][\"dualBound\"] - 1e-4 > df_map[gen][\"primalBound\"]) | \\\n",
    "        (df_map[gen][\"primalBound\"] > 1e20) | \\\n",
    "        (0 > df_map[gen][\"vpcGenerationTime\"]) | \\\n",
    "        (df_map[gen][\"vpcGenerationTime\"] - 1e-4 > df_map[gen][\"heuristicTime\"]) | \\\n",
    "        (df_map[gen][\"heuristicTime\"] - 1e-4 > df_map[gen][\"rootDualBoundTime\"]) | \\\n",
    "        (df_map[gen][\"rootDualBoundTime\"] - 1e-4 > df_map[gen][\"terminationTime\"]) | \\\n",
    "        (0 > df_map[gen][\"firstSolutionTime\"]) | \\\n",
    "        (df_map[gen][\"firstSolutionTime\"] - 1e-4 > df_map[gen][\"bestSolutionTime\"]) | \\\n",
    "        (df_map[gen][\"bestSolutionTime\"] - 1e-4 > df_map[gen][\"terminationTime\"]) | \\\n",
    "        (df_map[gen][\"terminationTime\"] > df_map[gen][\"maxTime\"] + 10) | \\\n",
    "        (df_map[gen][\"vpcGenerationTime\"] > df_map[gen][\"maxTime\"])\n",
    "    df_map[gen] = df_map[gen][~mask]"
   ],
   "metadata": {
    "collapsed": false,
    "ExecuteTime": {
     "end_time": "2023-11-03T18:45:29.220778Z",
     "start_time": "2023-11-03T18:45:29.208604Z"
    }
   },
   "id": "a9109f5e39680bda"
  },
  {
   "cell_type": "code",
   "execution_count": 41,
   "outputs": [
    {
     "data": {
      "text/plain": "      lpBound None  disjunctiveDualBound None  lpBoundPostVpc None  \\\n0       134.915590                 134.915590           134.915590   \n1       135.862243                 135.862243           135.862243   \n2       135.354844                 135.354844           135.354844   \n3       135.311224                 135.311224           135.311224   \n4       134.405958                 134.405958           134.405958   \n...            ...                        ...                  ...   \n996   38893.442891               38893.442891         38893.442891   \n997   26511.178608               26511.178608         26511.178608   \n998   51687.033613               51687.033613         51687.033613   \n999   38893.310241               38893.310241         38893.310241   \n1000    134.915590                 134.915590           134.915590   \n\n      rootDualBound None  dualBound None  heuristicPrimalBound None  \\\n0             143.653501      145.015871                 154.000000   \n1             144.515640      144.515640                 153.000000   \n2             143.841106      145.807495                 152.000000   \n3             142.730884      143.890196                 151.000000   \n4             141.990942      143.758420                 153.000000   \n...                  ...             ...                        ...   \n996         38893.442891    39378.409831               40560.054142   \n997         26511.178608    27104.457594               28593.617817   \n998         51687.033613    52023.712306               54752.387825   \n999         38893.310241    39377.750503               40559.141700   \n1000          143.653501      144.999032                 154.000000   \n\n      primalBound None  vpcGenerationTime None  heuristicTime None  \\\n0           151.000000                0.096006            1.206488   \n1           149.000000                0.094931            1.026769   \n2           150.000000                0.091691            1.041764   \n3           149.000000                0.091364            1.693356   \n4           148.000000                0.089762            1.678831   \n...                ...                     ...                 ...   \n996       40005.054142                0.009592            0.430366   \n997       27638.141720                0.016177            1.124101   \n998       52771.123829                0.013327            0.691344   \n999       40004.141700                0.009793            0.435453   \n1000        151.000000                0.104801            1.218764   \n\n      rootDualBoundTime None  ...  heuristicTime Farkas  \\\n0                   3.890045  ...              4.556782   \n1                   4.449761  ...              1.190663   \n2                   4.332778  ...              1.237440   \n3                   5.167685  ...              1.897233   \n4                   4.389748  ...              1.879234   \n...                      ...  ...                   ...   \n996                 0.443382  ...              0.967708   \n997                 1.139054  ...              1.723236   \n998                 0.704919  ...              1.322108   \n999                 0.448441  ...              0.981189   \n1000                3.912728  ...            170.985160   \n\n      rootDualBoundTime Farkas  firstSolutionTime Farkas  \\\n0                     7.583520                  4.556799   \n1                     4.470498                  1.190665   \n2                     4.343022                  1.237443   \n3                     5.480878                  1.897237   \n4                     4.473597                  1.879235   \n...                        ...                       ...   \n996                   1.009255                  0.967719   \n997                   1.738186                  1.723240   \n998                   1.335609                  1.322114   \n999                   1.022604                  0.981194   \n1000                174.283089                170.985174   \n\n      bestSolutionTime Farkas terminationTime Farkas  maxTime Farkas  \\\n0                   12.220595             300.515738           300.0   \n1                    4.573789             301.040320           300.0   \n2                    4.480485             301.141948           300.0   \n3                   15.567069             301.455145           300.0   \n4                    5.083431             300.528704           300.0   \n...                       ...                    ...             ...   \n996                  1.019741             300.632495           300.0   \n997                106.677015             300.846082           300.0   \n998                205.004800             301.060260           300.0   \n999                  7.611164             300.663957           300.0   \n1000               174.438699             300.098783           300.0   \n\n      vpcGenerator Farkas  iterations Farkas  nodes Farkas  actualTerms Farkas  \n0                     New             190757          7909                   4  \n1                  Farkas             182442          9874                   4  \n2                  Farkas             137678         11000                   4  \n3                  Farkas             171474         11332                   4  \n4                  Farkas             178901          8271                   4  \n...                   ...                ...           ...                 ...  \n996                Farkas             315206         50927                  65  \n997                Farkas             515262         86552                  65  \n998                Farkas             579314         97852                  65  \n999                Farkas             326375         52953                  65  \n1000                  New              64259          5001                  78  \n\n[1001 rows x 77 columns]",
      "text/html": "<div>\n<style scoped>\n    .dataframe tbody tr th:only-of-type {\n        vertical-align: middle;\n    }\n\n    .dataframe tbody tr th {\n        vertical-align: top;\n    }\n\n    .dataframe thead th {\n        text-align: right;\n    }\n</style>\n<table border=\"1\" class=\"dataframe\">\n  <thead>\n    <tr style=\"text-align: right;\">\n      <th></th>\n      <th>lpBound None</th>\n      <th>disjunctiveDualBound None</th>\n      <th>lpBoundPostVpc None</th>\n      <th>rootDualBound None</th>\n      <th>dualBound None</th>\n      <th>heuristicPrimalBound None</th>\n      <th>primalBound None</th>\n      <th>vpcGenerationTime None</th>\n      <th>heuristicTime None</th>\n      <th>rootDualBoundTime None</th>\n      <th>...</th>\n      <th>heuristicTime Farkas</th>\n      <th>rootDualBoundTime Farkas</th>\n      <th>firstSolutionTime Farkas</th>\n      <th>bestSolutionTime Farkas</th>\n      <th>terminationTime Farkas</th>\n      <th>maxTime Farkas</th>\n      <th>vpcGenerator Farkas</th>\n      <th>iterations Farkas</th>\n      <th>nodes Farkas</th>\n      <th>actualTerms Farkas</th>\n    </tr>\n  </thead>\n  <tbody>\n    <tr>\n      <th>0</th>\n      <td>134.915590</td>\n      <td>134.915590</td>\n      <td>134.915590</td>\n      <td>143.653501</td>\n      <td>145.015871</td>\n      <td>154.000000</td>\n      <td>151.000000</td>\n      <td>0.096006</td>\n      <td>1.206488</td>\n      <td>3.890045</td>\n      <td>...</td>\n      <td>4.556782</td>\n      <td>7.583520</td>\n      <td>4.556799</td>\n      <td>12.220595</td>\n      <td>300.515738</td>\n      <td>300.0</td>\n      <td>New</td>\n      <td>190757</td>\n      <td>7909</td>\n      <td>4</td>\n    </tr>\n    <tr>\n      <th>1</th>\n      <td>135.862243</td>\n      <td>135.862243</td>\n      <td>135.862243</td>\n      <td>144.515640</td>\n      <td>144.515640</td>\n      <td>153.000000</td>\n      <td>149.000000</td>\n      <td>0.094931</td>\n      <td>1.026769</td>\n      <td>4.449761</td>\n      <td>...</td>\n      <td>1.190663</td>\n      <td>4.470498</td>\n      <td>1.190665</td>\n      <td>4.573789</td>\n      <td>301.040320</td>\n      <td>300.0</td>\n      <td>Farkas</td>\n      <td>182442</td>\n      <td>9874</td>\n      <td>4</td>\n    </tr>\n    <tr>\n      <th>2</th>\n      <td>135.354844</td>\n      <td>135.354844</td>\n      <td>135.354844</td>\n      <td>143.841106</td>\n      <td>145.807495</td>\n      <td>152.000000</td>\n      <td>150.000000</td>\n      <td>0.091691</td>\n      <td>1.041764</td>\n      <td>4.332778</td>\n      <td>...</td>\n      <td>1.237440</td>\n      <td>4.343022</td>\n      <td>1.237443</td>\n      <td>4.480485</td>\n      <td>301.141948</td>\n      <td>300.0</td>\n      <td>Farkas</td>\n      <td>137678</td>\n      <td>11000</td>\n      <td>4</td>\n    </tr>\n    <tr>\n      <th>3</th>\n      <td>135.311224</td>\n      <td>135.311224</td>\n      <td>135.311224</td>\n      <td>142.730884</td>\n      <td>143.890196</td>\n      <td>151.000000</td>\n      <td>149.000000</td>\n      <td>0.091364</td>\n      <td>1.693356</td>\n      <td>5.167685</td>\n      <td>...</td>\n      <td>1.897233</td>\n      <td>5.480878</td>\n      <td>1.897237</td>\n      <td>15.567069</td>\n      <td>301.455145</td>\n      <td>300.0</td>\n      <td>Farkas</td>\n      <td>171474</td>\n      <td>11332</td>\n      <td>4</td>\n    </tr>\n    <tr>\n      <th>4</th>\n      <td>134.405958</td>\n      <td>134.405958</td>\n      <td>134.405958</td>\n      <td>141.990942</td>\n      <td>143.758420</td>\n      <td>153.000000</td>\n      <td>148.000000</td>\n      <td>0.089762</td>\n      <td>1.678831</td>\n      <td>4.389748</td>\n      <td>...</td>\n      <td>1.879234</td>\n      <td>4.473597</td>\n      <td>1.879235</td>\n      <td>5.083431</td>\n      <td>300.528704</td>\n      <td>300.0</td>\n      <td>Farkas</td>\n      <td>178901</td>\n      <td>8271</td>\n      <td>4</td>\n    </tr>\n    <tr>\n      <th>...</th>\n      <td>...</td>\n      <td>...</td>\n      <td>...</td>\n      <td>...</td>\n      <td>...</td>\n      <td>...</td>\n      <td>...</td>\n      <td>...</td>\n      <td>...</td>\n      <td>...</td>\n      <td>...</td>\n      <td>...</td>\n      <td>...</td>\n      <td>...</td>\n      <td>...</td>\n      <td>...</td>\n      <td>...</td>\n      <td>...</td>\n      <td>...</td>\n      <td>...</td>\n      <td>...</td>\n    </tr>\n    <tr>\n      <th>996</th>\n      <td>38893.442891</td>\n      <td>38893.442891</td>\n      <td>38893.442891</td>\n      <td>38893.442891</td>\n      <td>39378.409831</td>\n      <td>40560.054142</td>\n      <td>40005.054142</td>\n      <td>0.009592</td>\n      <td>0.430366</td>\n      <td>0.443382</td>\n      <td>...</td>\n      <td>0.967708</td>\n      <td>1.009255</td>\n      <td>0.967719</td>\n      <td>1.019741</td>\n      <td>300.632495</td>\n      <td>300.0</td>\n      <td>Farkas</td>\n      <td>315206</td>\n      <td>50927</td>\n      <td>65</td>\n    </tr>\n    <tr>\n      <th>997</th>\n      <td>26511.178608</td>\n      <td>26511.178608</td>\n      <td>26511.178608</td>\n      <td>26511.178608</td>\n      <td>27104.457594</td>\n      <td>28593.617817</td>\n      <td>27638.141720</td>\n      <td>0.016177</td>\n      <td>1.124101</td>\n      <td>1.139054</td>\n      <td>...</td>\n      <td>1.723236</td>\n      <td>1.738186</td>\n      <td>1.723240</td>\n      <td>106.677015</td>\n      <td>300.846082</td>\n      <td>300.0</td>\n      <td>Farkas</td>\n      <td>515262</td>\n      <td>86552</td>\n      <td>65</td>\n    </tr>\n    <tr>\n      <th>998</th>\n      <td>51687.033613</td>\n      <td>51687.033613</td>\n      <td>51687.033613</td>\n      <td>51687.033613</td>\n      <td>52023.712306</td>\n      <td>54752.387825</td>\n      <td>52771.123829</td>\n      <td>0.013327</td>\n      <td>0.691344</td>\n      <td>0.704919</td>\n      <td>...</td>\n      <td>1.322108</td>\n      <td>1.335609</td>\n      <td>1.322114</td>\n      <td>205.004800</td>\n      <td>301.060260</td>\n      <td>300.0</td>\n      <td>Farkas</td>\n      <td>579314</td>\n      <td>97852</td>\n      <td>65</td>\n    </tr>\n    <tr>\n      <th>999</th>\n      <td>38893.310241</td>\n      <td>38893.310241</td>\n      <td>38893.310241</td>\n      <td>38893.310241</td>\n      <td>39377.750503</td>\n      <td>40559.141700</td>\n      <td>40004.141700</td>\n      <td>0.009793</td>\n      <td>0.435453</td>\n      <td>0.448441</td>\n      <td>...</td>\n      <td>0.981189</td>\n      <td>1.022604</td>\n      <td>0.981194</td>\n      <td>7.611164</td>\n      <td>300.663957</td>\n      <td>300.0</td>\n      <td>Farkas</td>\n      <td>326375</td>\n      <td>52953</td>\n      <td>65</td>\n    </tr>\n    <tr>\n      <th>1000</th>\n      <td>134.915590</td>\n      <td>134.915590</td>\n      <td>134.915590</td>\n      <td>143.653501</td>\n      <td>144.999032</td>\n      <td>154.000000</td>\n      <td>151.000000</td>\n      <td>0.104801</td>\n      <td>1.218764</td>\n      <td>3.912728</td>\n      <td>...</td>\n      <td>170.985160</td>\n      <td>174.283089</td>\n      <td>170.985174</td>\n      <td>174.438699</td>\n      <td>300.098783</td>\n      <td>300.0</td>\n      <td>New</td>\n      <td>64259</td>\n      <td>5001</td>\n      <td>78</td>\n    </tr>\n  </tbody>\n</table>\n<p>1001 rows × 77 columns</p>\n</div>"
     },
     "execution_count": 41,
     "metadata": {},
     "output_type": "execute_result"
    }
   ],
   "source": [
    "# merge the 4 different data frames into one\n",
    "join_cols = [\"instance\", \"perturbation\", \"degree\", \"terms\", \"problem number\"]\n",
    "df = df_map[\"None\"].merge(df_map[\"New\"], on=join_cols,\n",
    "                                suffixes=(\" None\", None))\n",
    "df = df.merge(df_map[\"Old\"], on=join_cols,\n",
    "                          suffixes=(\" New\", None))\n",
    "df = df.merge(df_map[\"Farkas\"], on=join_cols,\n",
    "                          suffixes=(\" Old\", \" Farkas\"))\n",
    "df"
   ],
   "metadata": {
    "collapsed": false,
    "ExecuteTime": {
     "end_time": "2023-11-03T21:31:23.124038Z",
     "start_time": "2023-11-03T21:31:23.086031Z"
    }
   },
   "id": "66dfd7e3d44a3585"
  },
  {
   "cell_type": "code",
   "execution_count": 42,
   "outputs": [
    {
     "data": {
      "text/plain": "0.5823152995927865"
     },
     "execution_count": 42,
     "metadata": {},
     "output_type": "execute_result"
    }
   ],
   "source": [
    "# get proportion of tests run\n",
    "4 * len(df) / count_instances"
   ],
   "metadata": {
    "collapsed": false,
    "ExecuteTime": {
     "end_time": "2023-11-03T21:31:24.481257Z",
     "start_time": "2023-11-03T21:31:24.464090Z"
    }
   },
   "id": "3eb13128df183faf"
  },
  {
   "cell_type": "code",
   "execution_count": 43,
   "outputs": [],
   "source": [
    "def gap_closed(df, col):\n",
    "    return (df[col] - df[\"lpBound None\"]) / \\\n",
    "        (df['primalBound None'] - df[\"lpBound None\"]) "
   ],
   "metadata": {
    "collapsed": false,
    "ExecuteTime": {
     "end_time": "2023-11-03T21:31:30.705465Z",
     "start_time": "2023-11-03T21:31:30.694791Z"
    }
   },
   "id": "184a7a72592a8126"
  },
  {
   "cell_type": "code",
   "execution_count": 44,
   "outputs": [],
   "source": [
    "# find the optimality gap closed by each generator\n",
    "df[\"Disjunction (New)\"] = gap_closed(df, \"disjunctiveDualBound New\")\n",
    "df[\"Disjunction (Old)\"] = gap_closed(df, \"disjunctiveDualBound Old\")\n",
    "df[\"VPCs (New)\"] = gap_closed(df, \"lpBoundPostVpc New\")\n",
    "df[\"VPCs (Old)\"] = gap_closed(df, \"lpBoundPostVpc Old\")\n",
    "df[\"VPCs (Farkas)\"] = gap_closed(df, \"lpBoundPostVpc Farkas\")\n",
    "df[\"Root Cuts (None)\"] = gap_closed(df, \"rootDualBound None\")\n",
    "df[\"Root Cuts (New)\"] = gap_closed(df, \"rootDualBound New\")\n",
    "df[\"Root Cuts (Old)\"] = gap_closed(df, \"rootDualBound Old\")\n",
    "df[\"Root Cuts (Farkas)\"] = gap_closed(df, \"rootDualBound Farkas\")"
   ],
   "metadata": {
    "collapsed": false,
    "ExecuteTime": {
     "end_time": "2023-11-03T21:31:32.388871Z",
     "start_time": "2023-11-03T21:31:32.376642Z"
    }
   },
   "id": "2e64c92d6bbd14b9"
  },
  {
   "cell_type": "code",
   "execution_count": 32,
   "outputs": [],
   "source": [
    "# set aside core columns and filter for all subsequent dataframes\n",
    "group_cols = [\"instance\", \"perturbation\", \"degree\", \"terms\"]\n",
    "id_cols = [\"problem number\"]\n",
    "mask = (df[\"problem number\"] > 0) & (df[\"Disjunction (New)\"] < .9999)"
   ],
   "metadata": {
    "collapsed": false,
    "ExecuteTime": {
     "end_time": "2023-11-03T18:45:35.876080Z",
     "start_time": "2023-11-03T18:45:35.847736Z"
    }
   },
   "id": "aaf188cb8e62b573"
  },
  {
   "cell_type": "markdown",
   "source": [
    "## Make bound table"
   ],
   "metadata": {
    "collapsed": false
   },
   "id": "2f3bb4783d418904"
  },
  {
   "cell_type": "code",
   "execution_count": 33,
   "outputs": [
    {
     "data": {
      "text/plain": "               instance perturbation  degree  terms  problem number  \\\n1    neos-3610173-itata          rhs     2.0      4               1   \n2    neos-3610173-itata          rhs     2.0      4               2   \n3    neos-3610173-itata          rhs     2.0      4               3   \n4    neos-3610173-itata          rhs     2.0      4               4   \n5    neos-3610173-itata          rhs     2.0      4               5   \n..                  ...          ...     ...    ...             ...   \n995               mas76          rhs     1.0     64               6   \n996               mas76          rhs     1.0     64               7   \n997               mas76          rhs     1.0     64               8   \n998               mas76          rhs     1.0     64               9   \n999               mas76          rhs     1.0     64              10   \n\n     Disjunction (New)  Disjunction (Old)  VPCs (New)  VPCs (Old)  \\\n1             0.095260           0.067357    0.000000    0.024850   \n2             0.169384           0.062536    0.000000    0.008756   \n3             0.067271           0.080286    0.000000    0.025113   \n4             0.065977           0.065020    0.003172    0.017348   \n5             0.114146           0.081629    0.013967    0.026777   \n..                 ...                ...         ...         ...   \n995           0.133031           0.133031    0.119257    0.119169   \n996           0.133013           0.133013    0.131128    0.131133   \n997           0.133671           0.021046    0.130681    0.020953   \n998           0.077459           0.000742    0.071608    0.000593   \n999           0.133014           0.133014    0.119187    0.119187   \n\n     VPCs (Farkas)  Root Cuts (None)  Root Cuts (New)  Root Cuts (Old)  \\\n1         0.024850          0.658666         0.645240         0.675501   \n2         0.023759          0.579459         0.591980         0.577645   \n3         0.025113          0.542025         0.622162         0.548271   \n4         0.017348          0.557964         0.570849         0.577828   \n5         0.026777          0.677859         0.689113         0.628409   \n..             ...               ...              ...              ...   \n995       0.131210          0.000000         0.119257         0.119169   \n996       0.131165          0.000000         0.131128         0.131133   \n997       0.000000          0.000000         0.130681         0.020953   \n998       0.000000          0.000000         0.071608         0.000593   \n999       0.131193          0.000000         0.119187         0.119187   \n\n     Root Cuts (Farkas)  \n1              0.669352  \n2              0.700866  \n3              0.569447  \n4              0.575895  \n5              0.629432  \n..                  ...  \n995            0.131210  \n996            0.131165  \n997            0.000000  \n998            0.000000  \n999            0.131193  \n\n[840 rows x 14 columns]",
      "text/html": "<div>\n<style scoped>\n    .dataframe tbody tr th:only-of-type {\n        vertical-align: middle;\n    }\n\n    .dataframe tbody tr th {\n        vertical-align: top;\n    }\n\n    .dataframe thead th {\n        text-align: right;\n    }\n</style>\n<table border=\"1\" class=\"dataframe\">\n  <thead>\n    <tr style=\"text-align: right;\">\n      <th></th>\n      <th>instance</th>\n      <th>perturbation</th>\n      <th>degree</th>\n      <th>terms</th>\n      <th>problem number</th>\n      <th>Disjunction (New)</th>\n      <th>Disjunction (Old)</th>\n      <th>VPCs (New)</th>\n      <th>VPCs (Old)</th>\n      <th>VPCs (Farkas)</th>\n      <th>Root Cuts (None)</th>\n      <th>Root Cuts (New)</th>\n      <th>Root Cuts (Old)</th>\n      <th>Root Cuts (Farkas)</th>\n    </tr>\n  </thead>\n  <tbody>\n    <tr>\n      <th>1</th>\n      <td>neos-3610173-itata</td>\n      <td>rhs</td>\n      <td>2.0</td>\n      <td>4</td>\n      <td>1</td>\n      <td>0.095260</td>\n      <td>0.067357</td>\n      <td>0.000000</td>\n      <td>0.024850</td>\n      <td>0.024850</td>\n      <td>0.658666</td>\n      <td>0.645240</td>\n      <td>0.675501</td>\n      <td>0.669352</td>\n    </tr>\n    <tr>\n      <th>2</th>\n      <td>neos-3610173-itata</td>\n      <td>rhs</td>\n      <td>2.0</td>\n      <td>4</td>\n      <td>2</td>\n      <td>0.169384</td>\n      <td>0.062536</td>\n      <td>0.000000</td>\n      <td>0.008756</td>\n      <td>0.023759</td>\n      <td>0.579459</td>\n      <td>0.591980</td>\n      <td>0.577645</td>\n      <td>0.700866</td>\n    </tr>\n    <tr>\n      <th>3</th>\n      <td>neos-3610173-itata</td>\n      <td>rhs</td>\n      <td>2.0</td>\n      <td>4</td>\n      <td>3</td>\n      <td>0.067271</td>\n      <td>0.080286</td>\n      <td>0.000000</td>\n      <td>0.025113</td>\n      <td>0.025113</td>\n      <td>0.542025</td>\n      <td>0.622162</td>\n      <td>0.548271</td>\n      <td>0.569447</td>\n    </tr>\n    <tr>\n      <th>4</th>\n      <td>neos-3610173-itata</td>\n      <td>rhs</td>\n      <td>2.0</td>\n      <td>4</td>\n      <td>4</td>\n      <td>0.065977</td>\n      <td>0.065020</td>\n      <td>0.003172</td>\n      <td>0.017348</td>\n      <td>0.017348</td>\n      <td>0.557964</td>\n      <td>0.570849</td>\n      <td>0.577828</td>\n      <td>0.575895</td>\n    </tr>\n    <tr>\n      <th>5</th>\n      <td>neos-3610173-itata</td>\n      <td>rhs</td>\n      <td>2.0</td>\n      <td>4</td>\n      <td>5</td>\n      <td>0.114146</td>\n      <td>0.081629</td>\n      <td>0.013967</td>\n      <td>0.026777</td>\n      <td>0.026777</td>\n      <td>0.677859</td>\n      <td>0.689113</td>\n      <td>0.628409</td>\n      <td>0.629432</td>\n    </tr>\n    <tr>\n      <th>...</th>\n      <td>...</td>\n      <td>...</td>\n      <td>...</td>\n      <td>...</td>\n      <td>...</td>\n      <td>...</td>\n      <td>...</td>\n      <td>...</td>\n      <td>...</td>\n      <td>...</td>\n      <td>...</td>\n      <td>...</td>\n      <td>...</td>\n      <td>...</td>\n    </tr>\n    <tr>\n      <th>995</th>\n      <td>mas76</td>\n      <td>rhs</td>\n      <td>1.0</td>\n      <td>64</td>\n      <td>6</td>\n      <td>0.133031</td>\n      <td>0.133031</td>\n      <td>0.119257</td>\n      <td>0.119169</td>\n      <td>0.131210</td>\n      <td>0.000000</td>\n      <td>0.119257</td>\n      <td>0.119169</td>\n      <td>0.131210</td>\n    </tr>\n    <tr>\n      <th>996</th>\n      <td>mas76</td>\n      <td>rhs</td>\n      <td>1.0</td>\n      <td>64</td>\n      <td>7</td>\n      <td>0.133013</td>\n      <td>0.133013</td>\n      <td>0.131128</td>\n      <td>0.131133</td>\n      <td>0.131165</td>\n      <td>0.000000</td>\n      <td>0.131128</td>\n      <td>0.131133</td>\n      <td>0.131165</td>\n    </tr>\n    <tr>\n      <th>997</th>\n      <td>mas76</td>\n      <td>rhs</td>\n      <td>1.0</td>\n      <td>64</td>\n      <td>8</td>\n      <td>0.133671</td>\n      <td>0.021046</td>\n      <td>0.130681</td>\n      <td>0.020953</td>\n      <td>0.000000</td>\n      <td>0.000000</td>\n      <td>0.130681</td>\n      <td>0.020953</td>\n      <td>0.000000</td>\n    </tr>\n    <tr>\n      <th>998</th>\n      <td>mas76</td>\n      <td>rhs</td>\n      <td>1.0</td>\n      <td>64</td>\n      <td>9</td>\n      <td>0.077459</td>\n      <td>0.000742</td>\n      <td>0.071608</td>\n      <td>0.000593</td>\n      <td>0.000000</td>\n      <td>0.000000</td>\n      <td>0.071608</td>\n      <td>0.000593</td>\n      <td>0.000000</td>\n    </tr>\n    <tr>\n      <th>999</th>\n      <td>mas76</td>\n      <td>rhs</td>\n      <td>1.0</td>\n      <td>64</td>\n      <td>10</td>\n      <td>0.133014</td>\n      <td>0.133014</td>\n      <td>0.119187</td>\n      <td>0.119187</td>\n      <td>0.131193</td>\n      <td>0.000000</td>\n      <td>0.119187</td>\n      <td>0.119187</td>\n      <td>0.131193</td>\n    </tr>\n  </tbody>\n</table>\n<p>840 rows × 14 columns</p>\n</div>"
     },
     "execution_count": 33,
     "metadata": {},
     "output_type": "execute_result"
    }
   ],
   "source": [
    "# additional filtering for dataframe on bounds\n",
    "fields = [\"Disjunction (New)\", \"Disjunction (Old)\", \"VPCs (New)\", \"VPCs (Old)\",\n",
    "          \"VPCs (Farkas)\", \"Root Cuts (None)\", \"Root Cuts (New)\", \"Root Cuts (Old)\",\n",
    "          \"Root Cuts (Farkas)\"]\n",
    "bound_df = df.loc[mask, group_cols + id_cols + fields]\n",
    "bound_df"
   ],
   "metadata": {
    "collapsed": false,
    "ExecuteTime": {
     "end_time": "2023-11-03T18:45:38.502128Z",
     "start_time": "2023-11-03T18:45:38.446140Z"
    }
   },
   "id": "1446af429a86e44f"
  },
  {
   "cell_type": "code",
   "execution_count": 34,
   "outputs": [],
   "source": [
    "aggregations = {f: \"mean\" for f in fields}\n",
    "aggregations[\"instance\"] = \"nunique\"\n",
    "aggregations[\"problem number\"] = \"count\""
   ],
   "metadata": {
    "collapsed": false,
    "ExecuteTime": {
     "end_time": "2023-11-03T18:45:52.572149Z",
     "start_time": "2023-11-03T18:45:52.551171Z"
    }
   },
   "id": "2e2bbc44b009d720"
  },
  {
   "cell_type": "code",
   "execution_count": 35,
   "outputs": [
    {
     "data": {
      "text/plain": "   degree  terms  Disjunction (New)  Disjunction (Old)  VPCs (New)  \\\n0     0.5      4           0.073791           0.060983    0.062780   \n1     0.5     16           0.205294           0.154929    0.177432   \n2     0.5     64           0.297801           0.161775    0.215310   \n3     1.0      4           0.097033           0.078607    0.041203   \n4     1.0     16           0.223158           0.165781    0.110703   \n5     1.0     64           0.295585           0.202876    0.148824   \n6     2.0      4           0.098286           0.080080    0.040835   \n7     2.0     16           0.229777           0.170339    0.101361   \n8     2.0     64           0.253268           0.152833    0.113004   \n\n   VPCs (Old)  VPCs (Farkas)  Root Cuts (None)  Root Cuts (New)  \\\n0    0.051739       0.040636          0.209070         0.215763   \n1    0.134458       0.142134          0.148350         0.222567   \n2    0.128260       0.129062          0.156051         0.274371   \n3    0.041055       0.036043          0.406271         0.419587   \n4    0.102995       0.094399          0.396335         0.431415   \n5    0.123580       0.106709          0.351800         0.424974   \n6    0.038570       0.030918          0.423796         0.430226   \n7    0.096245       0.082861          0.437452         0.463841   \n8    0.073353       0.037973          0.348343         0.386804   \n\n   Root Cuts (Old)  Root Cuts (Farkas)  instance  problem number  \n0         0.218170            0.214809         5              75  \n1         0.203945            0.198334         4              46  \n2         0.243686            0.240480         4              32  \n3         0.415470            0.409310        11             158  \n4         0.427759            0.423479         9             115  \n5         0.418049            0.412570         8              65  \n6         0.437096            0.426722        11             163  \n7         0.452121            0.447142         9             126  \n8         0.377266            0.367054         9              60  ",
      "text/html": "<div>\n<style scoped>\n    .dataframe tbody tr th:only-of-type {\n        vertical-align: middle;\n    }\n\n    .dataframe tbody tr th {\n        vertical-align: top;\n    }\n\n    .dataframe thead th {\n        text-align: right;\n    }\n</style>\n<table border=\"1\" class=\"dataframe\">\n  <thead>\n    <tr style=\"text-align: right;\">\n      <th></th>\n      <th>degree</th>\n      <th>terms</th>\n      <th>Disjunction (New)</th>\n      <th>Disjunction (Old)</th>\n      <th>VPCs (New)</th>\n      <th>VPCs (Old)</th>\n      <th>VPCs (Farkas)</th>\n      <th>Root Cuts (None)</th>\n      <th>Root Cuts (New)</th>\n      <th>Root Cuts (Old)</th>\n      <th>Root Cuts (Farkas)</th>\n      <th>instance</th>\n      <th>problem number</th>\n    </tr>\n  </thead>\n  <tbody>\n    <tr>\n      <th>0</th>\n      <td>0.5</td>\n      <td>4</td>\n      <td>0.073791</td>\n      <td>0.060983</td>\n      <td>0.062780</td>\n      <td>0.051739</td>\n      <td>0.040636</td>\n      <td>0.209070</td>\n      <td>0.215763</td>\n      <td>0.218170</td>\n      <td>0.214809</td>\n      <td>5</td>\n      <td>75</td>\n    </tr>\n    <tr>\n      <th>1</th>\n      <td>0.5</td>\n      <td>16</td>\n      <td>0.205294</td>\n      <td>0.154929</td>\n      <td>0.177432</td>\n      <td>0.134458</td>\n      <td>0.142134</td>\n      <td>0.148350</td>\n      <td>0.222567</td>\n      <td>0.203945</td>\n      <td>0.198334</td>\n      <td>4</td>\n      <td>46</td>\n    </tr>\n    <tr>\n      <th>2</th>\n      <td>0.5</td>\n      <td>64</td>\n      <td>0.297801</td>\n      <td>0.161775</td>\n      <td>0.215310</td>\n      <td>0.128260</td>\n      <td>0.129062</td>\n      <td>0.156051</td>\n      <td>0.274371</td>\n      <td>0.243686</td>\n      <td>0.240480</td>\n      <td>4</td>\n      <td>32</td>\n    </tr>\n    <tr>\n      <th>3</th>\n      <td>1.0</td>\n      <td>4</td>\n      <td>0.097033</td>\n      <td>0.078607</td>\n      <td>0.041203</td>\n      <td>0.041055</td>\n      <td>0.036043</td>\n      <td>0.406271</td>\n      <td>0.419587</td>\n      <td>0.415470</td>\n      <td>0.409310</td>\n      <td>11</td>\n      <td>158</td>\n    </tr>\n    <tr>\n      <th>4</th>\n      <td>1.0</td>\n      <td>16</td>\n      <td>0.223158</td>\n      <td>0.165781</td>\n      <td>0.110703</td>\n      <td>0.102995</td>\n      <td>0.094399</td>\n      <td>0.396335</td>\n      <td>0.431415</td>\n      <td>0.427759</td>\n      <td>0.423479</td>\n      <td>9</td>\n      <td>115</td>\n    </tr>\n    <tr>\n      <th>5</th>\n      <td>1.0</td>\n      <td>64</td>\n      <td>0.295585</td>\n      <td>0.202876</td>\n      <td>0.148824</td>\n      <td>0.123580</td>\n      <td>0.106709</td>\n      <td>0.351800</td>\n      <td>0.424974</td>\n      <td>0.418049</td>\n      <td>0.412570</td>\n      <td>8</td>\n      <td>65</td>\n    </tr>\n    <tr>\n      <th>6</th>\n      <td>2.0</td>\n      <td>4</td>\n      <td>0.098286</td>\n      <td>0.080080</td>\n      <td>0.040835</td>\n      <td>0.038570</td>\n      <td>0.030918</td>\n      <td>0.423796</td>\n      <td>0.430226</td>\n      <td>0.437096</td>\n      <td>0.426722</td>\n      <td>11</td>\n      <td>163</td>\n    </tr>\n    <tr>\n      <th>7</th>\n      <td>2.0</td>\n      <td>16</td>\n      <td>0.229777</td>\n      <td>0.170339</td>\n      <td>0.101361</td>\n      <td>0.096245</td>\n      <td>0.082861</td>\n      <td>0.437452</td>\n      <td>0.463841</td>\n      <td>0.452121</td>\n      <td>0.447142</td>\n      <td>9</td>\n      <td>126</td>\n    </tr>\n    <tr>\n      <th>8</th>\n      <td>2.0</td>\n      <td>64</td>\n      <td>0.253268</td>\n      <td>0.152833</td>\n      <td>0.113004</td>\n      <td>0.073353</td>\n      <td>0.037973</td>\n      <td>0.348343</td>\n      <td>0.386804</td>\n      <td>0.377266</td>\n      <td>0.367054</td>\n      <td>9</td>\n      <td>60</td>\n    </tr>\n  </tbody>\n</table>\n</div>"
     },
     "execution_count": 35,
     "metadata": {},
     "output_type": "execute_result"
    }
   ],
   "source": [
    "# get gap closed by degree and term\n",
    "out = bound_df.groupby([\"degree\", \"terms\"]).agg(aggregations).reset_index()\n",
    "out.to_csv(os.path.join(out_fldr, \"bound_table.csv\"), index=False, mode=\"w\")\n",
    "out"
   ],
   "metadata": {
    "collapsed": false,
    "ExecuteTime": {
     "end_time": "2023-11-03T18:45:54.867280Z",
     "start_time": "2023-11-03T18:45:54.825020Z"
    }
   },
   "id": "588a0ef9d23dad30"
  },
  {
   "cell_type": "code",
   "execution_count": 36,
   "outputs": [
    {
     "data": {
      "text/plain": "                           Disjunction (New)  Disjunction (Old)  VPCs (New)  \\\ndegree terms perturbation                                                     \n0.5    4     matrix                 0.064312           0.054201    0.065451   \n             objective              0.161299           0.142478    0.125629   \n             rhs                    0.047538           0.033804    0.031286   \n       16    matrix                 0.235694           0.200318    0.227046   \n             objective              0.620113           0.328254    0.424711   \n             rhs                    0.069669           0.063939    0.063517   \n       64    matrix                 0.267250           0.168922    0.258480   \n             objective              0.829368           0.332815    0.535242   \n             rhs                    0.153198           0.111205    0.113622   \n1.0    4     matrix                 0.090236           0.071212    0.033752   \n             objective              0.190737           0.151047    0.121156   \n             rhs                    0.091251           0.076654    0.038211   \n       16    matrix                 0.229707           0.160063    0.100550   \n             objective              0.526151           0.292795    0.233213   \n             rhs                    0.177331           0.155035    0.104975   \n       64    matrix                 0.377084           0.283599    0.208499   \n             objective              0.726392           0.302266    0.338158   \n             rhs                    0.180181           0.127079    0.079159   \n2.0    4     matrix                 0.103629           0.075371    0.035310   \n             objective              0.145718           0.107432    0.078389   \n             rhs                    0.084909           0.079457    0.039123   \n       16    matrix                 0.220584           0.164146    0.081330   \n             objective              0.529136           0.296017    0.231798   \n             rhs                    0.189994           0.155601    0.097508   \n       64    matrix                 0.314079           0.208064    0.115065   \n             objective              0.813897           0.367941    0.569640   \n             rhs                    0.192065           0.105895    0.098058   \n\n                           VPCs (Old)  VPCs (Farkas)  Root Cuts (None)  \\\ndegree terms perturbation                                                \n0.5    4     matrix          0.053346       0.044396          0.179617   \n             objective       0.104270       0.070231          0.611309   \n             rhs             0.026249       0.022469          0.069568   \n       16    matrix          0.193769       0.185949          0.163773   \n             objective       0.190914       0.302751          0.674395   \n             rhs             0.058067       0.055975          0.000644   \n       64    matrix          0.164792       0.152089          0.069757   \n             objective       0.178440       0.184694          0.652244   \n             rhs             0.105224       0.107685          0.034828   \n1.0    4     matrix          0.030098       0.028487          0.438365   \n             objective       0.136100       0.073348          0.649405   \n             rhs             0.039968       0.039446          0.332759   \n       16    matrix          0.085210       0.073182          0.454020   \n             objective       0.184843       0.245726          0.633455   \n             rhs             0.110169       0.095998          0.307912   \n       64    matrix          0.193535       0.159515          0.439279   \n             objective       0.166668       0.166668          0.699582   \n             rhs             0.062958       0.057721          0.241415   \n2.0    4     matrix          0.030151       0.028779          0.433201   \n             objective       0.086473       0.049383          0.546915   \n             rhs             0.037635       0.029552          0.393136   \n       16    matrix          0.083087       0.067854          0.489238   \n             objective       0.168542       0.221314          0.646722   \n             rhs             0.095838       0.073510          0.360669   \n       64    matrix          0.107544       0.035566          0.464182   \n             objective       0.097308       0.180578          0.752869   \n             rhs             0.047507       0.035548          0.251269   \n\n                           Root Cuts (New)  Root Cuts (Old)  \\\ndegree terms perturbation                                     \n0.5    4     matrix               0.183975         0.185115   \n             objective            0.588399         0.607440   \n             rhs                  0.092530         0.089235   \n       16    matrix               0.256411         0.226665   \n             objective            0.716434         0.691712   \n             rhs                  0.063563         0.058147   \n       64    matrix               0.261593         0.167739   \n             objective            0.745223         0.689180   \n             rhs                  0.142884         0.134485   \n1.0    4     matrix               0.438947         0.449980   \n             objective            0.694720         0.650938   \n             rhs                  0.356349         0.340243   \n       16    matrix               0.485337         0.479844   \n             objective            0.685219         0.688043   \n             rhs                  0.344591         0.341933   \n       64    matrix               0.534061         0.542493   \n             objective            0.738714         0.689576   \n             rhs                  0.301434         0.287281   \n2.0    4     matrix               0.428706         0.441808   \n             objective            0.586256         0.585952   \n             rhs                  0.403605         0.406088   \n       16    matrix               0.503033         0.483363   \n             objective            0.730803         0.701177   \n             rhs                  0.388496         0.386305   \n       64    matrix               0.499599         0.501795   \n             objective            0.865833         0.757860   \n             rhs                  0.289778         0.274507   \n\n                           Root Cuts (Farkas)  instance  problem number  \ndegree terms perturbation                                                \n0.5    4     matrix                  0.178709         5              36  \n             objective               0.609254         2              12  \n             rhs                     0.087633         4              27  \n       16    matrix                  0.220466         3              21  \n             objective               0.673905         1               5  \n             rhs                     0.056203         2              20  \n       64    matrix                  0.156166         3               5  \n             objective               0.678265         1               6  \n             rhs                     0.135473         3              21  \n1.0    4     matrix                  0.440602        10              80  \n             objective               0.631043         1              10  \n             rhs                     0.339889         8              68  \n       16    matrix                  0.473364         7              54  \n             objective               0.643917         1               7  \n             rhs                     0.345018         6              54  \n       64    matrix                  0.527996         5              27  \n             objective               0.705261         1               4  \n             rhs                     0.286474         5              34  \n2.0    4     matrix                  0.431090        10              71  \n             objective               0.586282         2              14  \n             rhs                     0.394107        10              78  \n       16    matrix                  0.487964         6              53  \n             objective               0.693244         1              10  \n             rhs                     0.373736         7              63  \n       64    matrix                  0.470374         6              25  \n             objective               0.743261         1               1  \n             rhs                     0.280019         5              34  ",
      "text/html": "<div>\n<style scoped>\n    .dataframe tbody tr th:only-of-type {\n        vertical-align: middle;\n    }\n\n    .dataframe tbody tr th {\n        vertical-align: top;\n    }\n\n    .dataframe thead th {\n        text-align: right;\n    }\n</style>\n<table border=\"1\" class=\"dataframe\">\n  <thead>\n    <tr style=\"text-align: right;\">\n      <th></th>\n      <th></th>\n      <th></th>\n      <th>Disjunction (New)</th>\n      <th>Disjunction (Old)</th>\n      <th>VPCs (New)</th>\n      <th>VPCs (Old)</th>\n      <th>VPCs (Farkas)</th>\n      <th>Root Cuts (None)</th>\n      <th>Root Cuts (New)</th>\n      <th>Root Cuts (Old)</th>\n      <th>Root Cuts (Farkas)</th>\n      <th>instance</th>\n      <th>problem number</th>\n    </tr>\n    <tr>\n      <th>degree</th>\n      <th>terms</th>\n      <th>perturbation</th>\n      <th></th>\n      <th></th>\n      <th></th>\n      <th></th>\n      <th></th>\n      <th></th>\n      <th></th>\n      <th></th>\n      <th></th>\n      <th></th>\n      <th></th>\n    </tr>\n  </thead>\n  <tbody>\n    <tr>\n      <th rowspan=\"9\" valign=\"top\">0.5</th>\n      <th rowspan=\"3\" valign=\"top\">4</th>\n      <th>matrix</th>\n      <td>0.064312</td>\n      <td>0.054201</td>\n      <td>0.065451</td>\n      <td>0.053346</td>\n      <td>0.044396</td>\n      <td>0.179617</td>\n      <td>0.183975</td>\n      <td>0.185115</td>\n      <td>0.178709</td>\n      <td>5</td>\n      <td>36</td>\n    </tr>\n    <tr>\n      <th>objective</th>\n      <td>0.161299</td>\n      <td>0.142478</td>\n      <td>0.125629</td>\n      <td>0.104270</td>\n      <td>0.070231</td>\n      <td>0.611309</td>\n      <td>0.588399</td>\n      <td>0.607440</td>\n      <td>0.609254</td>\n      <td>2</td>\n      <td>12</td>\n    </tr>\n    <tr>\n      <th>rhs</th>\n      <td>0.047538</td>\n      <td>0.033804</td>\n      <td>0.031286</td>\n      <td>0.026249</td>\n      <td>0.022469</td>\n      <td>0.069568</td>\n      <td>0.092530</td>\n      <td>0.089235</td>\n      <td>0.087633</td>\n      <td>4</td>\n      <td>27</td>\n    </tr>\n    <tr>\n      <th rowspan=\"3\" valign=\"top\">16</th>\n      <th>matrix</th>\n      <td>0.235694</td>\n      <td>0.200318</td>\n      <td>0.227046</td>\n      <td>0.193769</td>\n      <td>0.185949</td>\n      <td>0.163773</td>\n      <td>0.256411</td>\n      <td>0.226665</td>\n      <td>0.220466</td>\n      <td>3</td>\n      <td>21</td>\n    </tr>\n    <tr>\n      <th>objective</th>\n      <td>0.620113</td>\n      <td>0.328254</td>\n      <td>0.424711</td>\n      <td>0.190914</td>\n      <td>0.302751</td>\n      <td>0.674395</td>\n      <td>0.716434</td>\n      <td>0.691712</td>\n      <td>0.673905</td>\n      <td>1</td>\n      <td>5</td>\n    </tr>\n    <tr>\n      <th>rhs</th>\n      <td>0.069669</td>\n      <td>0.063939</td>\n      <td>0.063517</td>\n      <td>0.058067</td>\n      <td>0.055975</td>\n      <td>0.000644</td>\n      <td>0.063563</td>\n      <td>0.058147</td>\n      <td>0.056203</td>\n      <td>2</td>\n      <td>20</td>\n    </tr>\n    <tr>\n      <th rowspan=\"3\" valign=\"top\">64</th>\n      <th>matrix</th>\n      <td>0.267250</td>\n      <td>0.168922</td>\n      <td>0.258480</td>\n      <td>0.164792</td>\n      <td>0.152089</td>\n      <td>0.069757</td>\n      <td>0.261593</td>\n      <td>0.167739</td>\n      <td>0.156166</td>\n      <td>3</td>\n      <td>5</td>\n    </tr>\n    <tr>\n      <th>objective</th>\n      <td>0.829368</td>\n      <td>0.332815</td>\n      <td>0.535242</td>\n      <td>0.178440</td>\n      <td>0.184694</td>\n      <td>0.652244</td>\n      <td>0.745223</td>\n      <td>0.689180</td>\n      <td>0.678265</td>\n      <td>1</td>\n      <td>6</td>\n    </tr>\n    <tr>\n      <th>rhs</th>\n      <td>0.153198</td>\n      <td>0.111205</td>\n      <td>0.113622</td>\n      <td>0.105224</td>\n      <td>0.107685</td>\n      <td>0.034828</td>\n      <td>0.142884</td>\n      <td>0.134485</td>\n      <td>0.135473</td>\n      <td>3</td>\n      <td>21</td>\n    </tr>\n    <tr>\n      <th rowspan=\"9\" valign=\"top\">1.0</th>\n      <th rowspan=\"3\" valign=\"top\">4</th>\n      <th>matrix</th>\n      <td>0.090236</td>\n      <td>0.071212</td>\n      <td>0.033752</td>\n      <td>0.030098</td>\n      <td>0.028487</td>\n      <td>0.438365</td>\n      <td>0.438947</td>\n      <td>0.449980</td>\n      <td>0.440602</td>\n      <td>10</td>\n      <td>80</td>\n    </tr>\n    <tr>\n      <th>objective</th>\n      <td>0.190737</td>\n      <td>0.151047</td>\n      <td>0.121156</td>\n      <td>0.136100</td>\n      <td>0.073348</td>\n      <td>0.649405</td>\n      <td>0.694720</td>\n      <td>0.650938</td>\n      <td>0.631043</td>\n      <td>1</td>\n      <td>10</td>\n    </tr>\n    <tr>\n      <th>rhs</th>\n      <td>0.091251</td>\n      <td>0.076654</td>\n      <td>0.038211</td>\n      <td>0.039968</td>\n      <td>0.039446</td>\n      <td>0.332759</td>\n      <td>0.356349</td>\n      <td>0.340243</td>\n      <td>0.339889</td>\n      <td>8</td>\n      <td>68</td>\n    </tr>\n    <tr>\n      <th rowspan=\"3\" valign=\"top\">16</th>\n      <th>matrix</th>\n      <td>0.229707</td>\n      <td>0.160063</td>\n      <td>0.100550</td>\n      <td>0.085210</td>\n      <td>0.073182</td>\n      <td>0.454020</td>\n      <td>0.485337</td>\n      <td>0.479844</td>\n      <td>0.473364</td>\n      <td>7</td>\n      <td>54</td>\n    </tr>\n    <tr>\n      <th>objective</th>\n      <td>0.526151</td>\n      <td>0.292795</td>\n      <td>0.233213</td>\n      <td>0.184843</td>\n      <td>0.245726</td>\n      <td>0.633455</td>\n      <td>0.685219</td>\n      <td>0.688043</td>\n      <td>0.643917</td>\n      <td>1</td>\n      <td>7</td>\n    </tr>\n    <tr>\n      <th>rhs</th>\n      <td>0.177331</td>\n      <td>0.155035</td>\n      <td>0.104975</td>\n      <td>0.110169</td>\n      <td>0.095998</td>\n      <td>0.307912</td>\n      <td>0.344591</td>\n      <td>0.341933</td>\n      <td>0.345018</td>\n      <td>6</td>\n      <td>54</td>\n    </tr>\n    <tr>\n      <th rowspan=\"3\" valign=\"top\">64</th>\n      <th>matrix</th>\n      <td>0.377084</td>\n      <td>0.283599</td>\n      <td>0.208499</td>\n      <td>0.193535</td>\n      <td>0.159515</td>\n      <td>0.439279</td>\n      <td>0.534061</td>\n      <td>0.542493</td>\n      <td>0.527996</td>\n      <td>5</td>\n      <td>27</td>\n    </tr>\n    <tr>\n      <th>objective</th>\n      <td>0.726392</td>\n      <td>0.302266</td>\n      <td>0.338158</td>\n      <td>0.166668</td>\n      <td>0.166668</td>\n      <td>0.699582</td>\n      <td>0.738714</td>\n      <td>0.689576</td>\n      <td>0.705261</td>\n      <td>1</td>\n      <td>4</td>\n    </tr>\n    <tr>\n      <th>rhs</th>\n      <td>0.180181</td>\n      <td>0.127079</td>\n      <td>0.079159</td>\n      <td>0.062958</td>\n      <td>0.057721</td>\n      <td>0.241415</td>\n      <td>0.301434</td>\n      <td>0.287281</td>\n      <td>0.286474</td>\n      <td>5</td>\n      <td>34</td>\n    </tr>\n    <tr>\n      <th rowspan=\"9\" valign=\"top\">2.0</th>\n      <th rowspan=\"3\" valign=\"top\">4</th>\n      <th>matrix</th>\n      <td>0.103629</td>\n      <td>0.075371</td>\n      <td>0.035310</td>\n      <td>0.030151</td>\n      <td>0.028779</td>\n      <td>0.433201</td>\n      <td>0.428706</td>\n      <td>0.441808</td>\n      <td>0.431090</td>\n      <td>10</td>\n      <td>71</td>\n    </tr>\n    <tr>\n      <th>objective</th>\n      <td>0.145718</td>\n      <td>0.107432</td>\n      <td>0.078389</td>\n      <td>0.086473</td>\n      <td>0.049383</td>\n      <td>0.546915</td>\n      <td>0.586256</td>\n      <td>0.585952</td>\n      <td>0.586282</td>\n      <td>2</td>\n      <td>14</td>\n    </tr>\n    <tr>\n      <th>rhs</th>\n      <td>0.084909</td>\n      <td>0.079457</td>\n      <td>0.039123</td>\n      <td>0.037635</td>\n      <td>0.029552</td>\n      <td>0.393136</td>\n      <td>0.403605</td>\n      <td>0.406088</td>\n      <td>0.394107</td>\n      <td>10</td>\n      <td>78</td>\n    </tr>\n    <tr>\n      <th rowspan=\"3\" valign=\"top\">16</th>\n      <th>matrix</th>\n      <td>0.220584</td>\n      <td>0.164146</td>\n      <td>0.081330</td>\n      <td>0.083087</td>\n      <td>0.067854</td>\n      <td>0.489238</td>\n      <td>0.503033</td>\n      <td>0.483363</td>\n      <td>0.487964</td>\n      <td>6</td>\n      <td>53</td>\n    </tr>\n    <tr>\n      <th>objective</th>\n      <td>0.529136</td>\n      <td>0.296017</td>\n      <td>0.231798</td>\n      <td>0.168542</td>\n      <td>0.221314</td>\n      <td>0.646722</td>\n      <td>0.730803</td>\n      <td>0.701177</td>\n      <td>0.693244</td>\n      <td>1</td>\n      <td>10</td>\n    </tr>\n    <tr>\n      <th>rhs</th>\n      <td>0.189994</td>\n      <td>0.155601</td>\n      <td>0.097508</td>\n      <td>0.095838</td>\n      <td>0.073510</td>\n      <td>0.360669</td>\n      <td>0.388496</td>\n      <td>0.386305</td>\n      <td>0.373736</td>\n      <td>7</td>\n      <td>63</td>\n    </tr>\n    <tr>\n      <th rowspan=\"3\" valign=\"top\">64</th>\n      <th>matrix</th>\n      <td>0.314079</td>\n      <td>0.208064</td>\n      <td>0.115065</td>\n      <td>0.107544</td>\n      <td>0.035566</td>\n      <td>0.464182</td>\n      <td>0.499599</td>\n      <td>0.501795</td>\n      <td>0.470374</td>\n      <td>6</td>\n      <td>25</td>\n    </tr>\n    <tr>\n      <th>objective</th>\n      <td>0.813897</td>\n      <td>0.367941</td>\n      <td>0.569640</td>\n      <td>0.097308</td>\n      <td>0.180578</td>\n      <td>0.752869</td>\n      <td>0.865833</td>\n      <td>0.757860</td>\n      <td>0.743261</td>\n      <td>1</td>\n      <td>1</td>\n    </tr>\n    <tr>\n      <th>rhs</th>\n      <td>0.192065</td>\n      <td>0.105895</td>\n      <td>0.098058</td>\n      <td>0.047507</td>\n      <td>0.035548</td>\n      <td>0.251269</td>\n      <td>0.289778</td>\n      <td>0.274507</td>\n      <td>0.280019</td>\n      <td>5</td>\n      <td>34</td>\n    </tr>\n  </tbody>\n</table>\n</div>"
     },
     "execution_count": 36,
     "metadata": {},
     "output_type": "execute_result"
    }
   ],
   "source": [
    "# now break it down by type of perturbation\n",
    "bound_df.groupby([\"degree\", \"terms\", \"perturbation\"]).agg(aggregations)"
   ],
   "metadata": {
    "collapsed": false,
    "ExecuteTime": {
     "end_time": "2023-11-03T18:47:13.321107Z",
     "start_time": "2023-11-03T18:47:13.279291Z"
    }
   },
   "id": "7c7dd20910d976da"
  },
  {
   "cell_type": "markdown",
   "source": [
    "## Make time table"
   ],
   "metadata": {
    "collapsed": false
   },
   "id": "e6c4f54822872bf8"
  },
  {
   "cell_type": "code",
   "execution_count": 37,
   "outputs": [],
   "source": [
    "def optimality_gap(df, generator):\n",
    "    return abs(df[f\"primalBound {generator}\"] - df[f\"dualBound {generator}\"]) / \\\n",
    "        (df[f\"primalBound {generator}\"])"
   ],
   "metadata": {
    "collapsed": false,
    "ExecuteTime": {
     "end_time": "2023-11-03T18:47:18.901013Z",
     "start_time": "2023-11-03T18:47:18.882328Z"
    }
   },
   "id": "d9ba97a511b83fa7"
  },
  {
   "cell_type": "code",
   "execution_count": 38,
   "outputs": [
    {
     "data": {
      "text/plain": "   degree  terms  terminationTime New  terminationTime Old  \\\n0     0.5      4            16.355662            12.822757   \n1     0.5     16            22.791149             7.971118   \n2     0.5     64           118.495040            73.594722   \n3     1.0      4            91.669882            89.162975   \n4     1.0     16            60.049696            47.124476   \n5     1.0     64            31.664069            14.954202   \n6     2.0      4            59.051592            60.142018   \n7     2.0     16            26.833795            10.408978   \n8     2.0     64            21.109950             9.055443   \n\n   terminationTime Farkas  terminationTime None  vpcGenerationTime New  \\\n0               11.038034             13.778225               2.760208   \n1                4.462865              4.576061              17.250001   \n2               52.840414             50.518878              82.424231   \n3               86.463025             82.904498               4.618980   \n4               43.035859             42.464663              19.521022   \n5               10.414000              5.775945              25.818715   \n6               64.818682             59.409460               3.634760   \n7                6.743516              6.089188              17.027402   \n8                3.471070              2.859631              18.662018   \n\n   vpcGenerationTime Old  vpcGenerationTime Farkas  instance  problem number  \n0               0.687757                  0.192316         5              25  \n1               3.645910                  0.614967         3              16  \n2              27.025128                  3.577249         2               7  \n3               0.644236                  0.258162         6              51  \n4               3.709673                  1.365795         4              32  \n5               9.426301                  1.523261         2              10  \n6               0.603724                  0.229709         7              48  \n7               2.894695                  0.664367         2              30  \n8               6.749112                  1.342633         2               4  ",
      "text/html": "<div>\n<style scoped>\n    .dataframe tbody tr th:only-of-type {\n        vertical-align: middle;\n    }\n\n    .dataframe tbody tr th {\n        vertical-align: top;\n    }\n\n    .dataframe thead th {\n        text-align: right;\n    }\n</style>\n<table border=\"1\" class=\"dataframe\">\n  <thead>\n    <tr style=\"text-align: right;\">\n      <th></th>\n      <th>degree</th>\n      <th>terms</th>\n      <th>terminationTime New</th>\n      <th>terminationTime Old</th>\n      <th>terminationTime Farkas</th>\n      <th>terminationTime None</th>\n      <th>vpcGenerationTime New</th>\n      <th>vpcGenerationTime Old</th>\n      <th>vpcGenerationTime Farkas</th>\n      <th>instance</th>\n      <th>problem number</th>\n    </tr>\n  </thead>\n  <tbody>\n    <tr>\n      <th>0</th>\n      <td>0.5</td>\n      <td>4</td>\n      <td>16.355662</td>\n      <td>12.822757</td>\n      <td>11.038034</td>\n      <td>13.778225</td>\n      <td>2.760208</td>\n      <td>0.687757</td>\n      <td>0.192316</td>\n      <td>5</td>\n      <td>25</td>\n    </tr>\n    <tr>\n      <th>1</th>\n      <td>0.5</td>\n      <td>16</td>\n      <td>22.791149</td>\n      <td>7.971118</td>\n      <td>4.462865</td>\n      <td>4.576061</td>\n      <td>17.250001</td>\n      <td>3.645910</td>\n      <td>0.614967</td>\n      <td>3</td>\n      <td>16</td>\n    </tr>\n    <tr>\n      <th>2</th>\n      <td>0.5</td>\n      <td>64</td>\n      <td>118.495040</td>\n      <td>73.594722</td>\n      <td>52.840414</td>\n      <td>50.518878</td>\n      <td>82.424231</td>\n      <td>27.025128</td>\n      <td>3.577249</td>\n      <td>2</td>\n      <td>7</td>\n    </tr>\n    <tr>\n      <th>3</th>\n      <td>1.0</td>\n      <td>4</td>\n      <td>91.669882</td>\n      <td>89.162975</td>\n      <td>86.463025</td>\n      <td>82.904498</td>\n      <td>4.618980</td>\n      <td>0.644236</td>\n      <td>0.258162</td>\n      <td>6</td>\n      <td>51</td>\n    </tr>\n    <tr>\n      <th>4</th>\n      <td>1.0</td>\n      <td>16</td>\n      <td>60.049696</td>\n      <td>47.124476</td>\n      <td>43.035859</td>\n      <td>42.464663</td>\n      <td>19.521022</td>\n      <td>3.709673</td>\n      <td>1.365795</td>\n      <td>4</td>\n      <td>32</td>\n    </tr>\n    <tr>\n      <th>5</th>\n      <td>1.0</td>\n      <td>64</td>\n      <td>31.664069</td>\n      <td>14.954202</td>\n      <td>10.414000</td>\n      <td>5.775945</td>\n      <td>25.818715</td>\n      <td>9.426301</td>\n      <td>1.523261</td>\n      <td>2</td>\n      <td>10</td>\n    </tr>\n    <tr>\n      <th>6</th>\n      <td>2.0</td>\n      <td>4</td>\n      <td>59.051592</td>\n      <td>60.142018</td>\n      <td>64.818682</td>\n      <td>59.409460</td>\n      <td>3.634760</td>\n      <td>0.603724</td>\n      <td>0.229709</td>\n      <td>7</td>\n      <td>48</td>\n    </tr>\n    <tr>\n      <th>7</th>\n      <td>2.0</td>\n      <td>16</td>\n      <td>26.833795</td>\n      <td>10.408978</td>\n      <td>6.743516</td>\n      <td>6.089188</td>\n      <td>17.027402</td>\n      <td>2.894695</td>\n      <td>0.664367</td>\n      <td>2</td>\n      <td>30</td>\n    </tr>\n    <tr>\n      <th>8</th>\n      <td>2.0</td>\n      <td>64</td>\n      <td>21.109950</td>\n      <td>9.055443</td>\n      <td>3.471070</td>\n      <td>2.859631</td>\n      <td>18.662018</td>\n      <td>6.749112</td>\n      <td>1.342633</td>\n      <td>2</td>\n      <td>4</td>\n    </tr>\n  </tbody>\n</table>\n</div>"
     },
     "execution_count": 38,
     "metadata": {},
     "output_type": "execute_result"
    }
   ],
   "source": [
    "# additional filtering for dataframe on run time\n",
    "fields = [\"terminationTime New\", \"terminationTime Old\",\n",
    "          \"terminationTime Farkas\", \"terminationTime None\",\n",
    "          \"vpcGenerationTime New\", \"vpcGenerationTime Old\",\n",
    "          \"vpcGenerationTime Farkas\"]\n",
    "mask = mask & (optimality_gap(df, \"New\") < .02)  # only check the ones that solve to optimality\n",
    "time_df = df.loc[mask, group_cols + id_cols + fields]\n",
    "\n",
    "# define aggregating operations\n",
    "aggregations = {f: \"mean\" for f in fields}\n",
    "aggregations[\"instance\"] = \"nunique\"\n",
    "aggregations[\"problem number\"] = \"count\"\n",
    "\n",
    "# get gap closed by degree and term\n",
    "out = time_df.groupby([\"degree\", \"terms\"]).agg(aggregations).reset_index()\n",
    "out.to_csv(os.path.join(out_fldr, \"time.csv\"), index=False, mode=\"w\")\n",
    "out"
   ],
   "metadata": {
    "collapsed": false,
    "ExecuteTime": {
     "end_time": "2023-11-03T18:47:23.364622Z",
     "start_time": "2023-11-03T18:47:23.305626Z"
    }
   },
   "id": "e31a4356a9030c02"
  },
  {
   "cell_type": "markdown",
   "source": [
    "# Make node table"
   ],
   "metadata": {
    "collapsed": false
   },
   "id": "ca4066696328ab17"
  },
  {
   "cell_type": "code",
   "execution_count": 39,
   "outputs": [
    {
     "data": {
      "text/plain": "   degree  terms    nodes New    nodes Old  nodes Farkas   nodes None  \\\n0     0.5      4   775.480000   621.600000    495.360000  1131.640000   \n1     0.5     16   176.625000   155.625000    167.250000   178.375000   \n2     0.5     64  1665.428571  2177.142857   2145.857143  1830.000000   \n3     1.0      4  3989.254902  3940.745098   3659.784314  3843.137255   \n4     1.0     16  1317.750000  1565.718750   1566.906250  1535.468750   \n5     1.0     64   271.200000   287.900000    434.600000   244.800000   \n6     2.0      4  2143.541667  2338.750000   2621.708333  2573.312500   \n7     2.0     16   251.100000   307.333333    238.733333   248.733333   \n8     2.0     64   205.750000   178.500000    146.000000   170.500000   \n\n   instance  problem number  \n0         5              25  \n1         3              16  \n2         2               7  \n3         6              51  \n4         4              32  \n5         2              10  \n6         7              48  \n7         2              30  \n8         2               4  ",
      "text/html": "<div>\n<style scoped>\n    .dataframe tbody tr th:only-of-type {\n        vertical-align: middle;\n    }\n\n    .dataframe tbody tr th {\n        vertical-align: top;\n    }\n\n    .dataframe thead th {\n        text-align: right;\n    }\n</style>\n<table border=\"1\" class=\"dataframe\">\n  <thead>\n    <tr style=\"text-align: right;\">\n      <th></th>\n      <th>degree</th>\n      <th>terms</th>\n      <th>nodes New</th>\n      <th>nodes Old</th>\n      <th>nodes Farkas</th>\n      <th>nodes None</th>\n      <th>instance</th>\n      <th>problem number</th>\n    </tr>\n  </thead>\n  <tbody>\n    <tr>\n      <th>0</th>\n      <td>0.5</td>\n      <td>4</td>\n      <td>775.480000</td>\n      <td>621.600000</td>\n      <td>495.360000</td>\n      <td>1131.640000</td>\n      <td>5</td>\n      <td>25</td>\n    </tr>\n    <tr>\n      <th>1</th>\n      <td>0.5</td>\n      <td>16</td>\n      <td>176.625000</td>\n      <td>155.625000</td>\n      <td>167.250000</td>\n      <td>178.375000</td>\n      <td>3</td>\n      <td>16</td>\n    </tr>\n    <tr>\n      <th>2</th>\n      <td>0.5</td>\n      <td>64</td>\n      <td>1665.428571</td>\n      <td>2177.142857</td>\n      <td>2145.857143</td>\n      <td>1830.000000</td>\n      <td>2</td>\n      <td>7</td>\n    </tr>\n    <tr>\n      <th>3</th>\n      <td>1.0</td>\n      <td>4</td>\n      <td>3989.254902</td>\n      <td>3940.745098</td>\n      <td>3659.784314</td>\n      <td>3843.137255</td>\n      <td>6</td>\n      <td>51</td>\n    </tr>\n    <tr>\n      <th>4</th>\n      <td>1.0</td>\n      <td>16</td>\n      <td>1317.750000</td>\n      <td>1565.718750</td>\n      <td>1566.906250</td>\n      <td>1535.468750</td>\n      <td>4</td>\n      <td>32</td>\n    </tr>\n    <tr>\n      <th>5</th>\n      <td>1.0</td>\n      <td>64</td>\n      <td>271.200000</td>\n      <td>287.900000</td>\n      <td>434.600000</td>\n      <td>244.800000</td>\n      <td>2</td>\n      <td>10</td>\n    </tr>\n    <tr>\n      <th>6</th>\n      <td>2.0</td>\n      <td>4</td>\n      <td>2143.541667</td>\n      <td>2338.750000</td>\n      <td>2621.708333</td>\n      <td>2573.312500</td>\n      <td>7</td>\n      <td>48</td>\n    </tr>\n    <tr>\n      <th>7</th>\n      <td>2.0</td>\n      <td>16</td>\n      <td>251.100000</td>\n      <td>307.333333</td>\n      <td>238.733333</td>\n      <td>248.733333</td>\n      <td>2</td>\n      <td>30</td>\n    </tr>\n    <tr>\n      <th>8</th>\n      <td>2.0</td>\n      <td>64</td>\n      <td>205.750000</td>\n      <td>178.500000</td>\n      <td>146.000000</td>\n      <td>170.500000</td>\n      <td>2</td>\n      <td>4</td>\n    </tr>\n  </tbody>\n</table>\n</div>"
     },
     "execution_count": 39,
     "metadata": {},
     "output_type": "execute_result"
    }
   ],
   "source": [
    "# additional filtering for dataframe on nodes processed\n",
    "fields = [\"nodes New\", \"nodes Old\", \"nodes Farkas\",\n",
    "          \"nodes None\"]\n",
    "node_df = df.loc[mask, group_cols + id_cols + fields]\n",
    "\n",
    "# define aggregating operations\n",
    "aggregations = {f: \"mean\" for f in fields}\n",
    "aggregations[\"instance\"] = \"nunique\"\n",
    "aggregations[\"problem number\"] = \"count\"\n",
    "\n",
    "# get gap closed by degree and term\n",
    "out = node_df.groupby([\"degree\", \"terms\"]).agg(aggregations).reset_index()\n",
    "out.to_csv(os.path.join(out_fldr, \"node.csv\"), index=False, mode=\"w\")\n",
    "out"
   ],
   "metadata": {
    "collapsed": false,
    "ExecuteTime": {
     "end_time": "2023-11-03T18:48:17.402838Z",
     "start_time": "2023-11-03T18:48:17.331775Z"
    }
   },
   "id": "ffea8b089e3f3841"
  },
  {
   "cell_type": "markdown",
   "source": [
    "# Make iteration table"
   ],
   "metadata": {
    "collapsed": false
   },
   "id": "2765b909ec431cfa"
  },
  {
   "cell_type": "code",
   "execution_count": 40,
   "outputs": [
    {
     "data": {
      "text/plain": "   degree  terms  iterations New  iterations Old  iterations Farkas  \\\n0     0.5      4    10795.840000     9656.160000        8158.680000   \n1     0.5     16     3284.937500     3115.625000        2957.812500   \n2     0.5     64    22263.285714    27118.571429       34794.571429   \n3     1.0      4    46896.745098    46816.333333       45516.784314   \n4     1.0     16    17698.250000    21021.500000       18389.875000   \n5     1.0     64     4438.900000     4906.500000        7611.800000   \n6     2.0      4    26166.312500    27887.979167       31883.625000   \n7     2.0     16     5669.166667     6484.066667        4889.333333   \n8     2.0     64     2452.750000     2301.250000        2189.750000   \n\n   iterations None  instance  problem number  \n0     11932.640000         5              25  \n1      3321.812500         3              16  \n2     36691.714286         2               7  \n3     44171.470588         6              51  \n4     18939.093750         4              32  \n5      4616.700000         2              10  \n6     30375.229167         7              48  \n7      5219.433333         2              30  \n8      2535.000000         2               4  ",
      "text/html": "<div>\n<style scoped>\n    .dataframe tbody tr th:only-of-type {\n        vertical-align: middle;\n    }\n\n    .dataframe tbody tr th {\n        vertical-align: top;\n    }\n\n    .dataframe thead th {\n        text-align: right;\n    }\n</style>\n<table border=\"1\" class=\"dataframe\">\n  <thead>\n    <tr style=\"text-align: right;\">\n      <th></th>\n      <th>degree</th>\n      <th>terms</th>\n      <th>iterations New</th>\n      <th>iterations Old</th>\n      <th>iterations Farkas</th>\n      <th>iterations None</th>\n      <th>instance</th>\n      <th>problem number</th>\n    </tr>\n  </thead>\n  <tbody>\n    <tr>\n      <th>0</th>\n      <td>0.5</td>\n      <td>4</td>\n      <td>10795.840000</td>\n      <td>9656.160000</td>\n      <td>8158.680000</td>\n      <td>11932.640000</td>\n      <td>5</td>\n      <td>25</td>\n    </tr>\n    <tr>\n      <th>1</th>\n      <td>0.5</td>\n      <td>16</td>\n      <td>3284.937500</td>\n      <td>3115.625000</td>\n      <td>2957.812500</td>\n      <td>3321.812500</td>\n      <td>3</td>\n      <td>16</td>\n    </tr>\n    <tr>\n      <th>2</th>\n      <td>0.5</td>\n      <td>64</td>\n      <td>22263.285714</td>\n      <td>27118.571429</td>\n      <td>34794.571429</td>\n      <td>36691.714286</td>\n      <td>2</td>\n      <td>7</td>\n    </tr>\n    <tr>\n      <th>3</th>\n      <td>1.0</td>\n      <td>4</td>\n      <td>46896.745098</td>\n      <td>46816.333333</td>\n      <td>45516.784314</td>\n      <td>44171.470588</td>\n      <td>6</td>\n      <td>51</td>\n    </tr>\n    <tr>\n      <th>4</th>\n      <td>1.0</td>\n      <td>16</td>\n      <td>17698.250000</td>\n      <td>21021.500000</td>\n      <td>18389.875000</td>\n      <td>18939.093750</td>\n      <td>4</td>\n      <td>32</td>\n    </tr>\n    <tr>\n      <th>5</th>\n      <td>1.0</td>\n      <td>64</td>\n      <td>4438.900000</td>\n      <td>4906.500000</td>\n      <td>7611.800000</td>\n      <td>4616.700000</td>\n      <td>2</td>\n      <td>10</td>\n    </tr>\n    <tr>\n      <th>6</th>\n      <td>2.0</td>\n      <td>4</td>\n      <td>26166.312500</td>\n      <td>27887.979167</td>\n      <td>31883.625000</td>\n      <td>30375.229167</td>\n      <td>7</td>\n      <td>48</td>\n    </tr>\n    <tr>\n      <th>7</th>\n      <td>2.0</td>\n      <td>16</td>\n      <td>5669.166667</td>\n      <td>6484.066667</td>\n      <td>4889.333333</td>\n      <td>5219.433333</td>\n      <td>2</td>\n      <td>30</td>\n    </tr>\n    <tr>\n      <th>8</th>\n      <td>2.0</td>\n      <td>64</td>\n      <td>2452.750000</td>\n      <td>2301.250000</td>\n      <td>2189.750000</td>\n      <td>2535.000000</td>\n      <td>2</td>\n      <td>4</td>\n    </tr>\n  </tbody>\n</table>\n</div>"
     },
     "execution_count": 40,
     "metadata": {},
     "output_type": "execute_result"
    }
   ],
   "source": [
    "# additional filtering for dataframe on nodes processed\n",
    "fields = [\"iterations New\", \"iterations Old\",\n",
    "          \"iterations Farkas\", \"iterations None\"]\n",
    "node_df = df.loc[mask, group_cols + id_cols + fields]\n",
    "\n",
    "# define aggregating operations\n",
    "aggregations = {f: \"mean\" for f in fields}\n",
    "aggregations[\"instance\"] = \"nunique\"\n",
    "aggregations[\"problem number\"] = \"count\"\n",
    "\n",
    "# get gap closed by degree and term\n",
    "out = node_df.groupby([\"degree\", \"terms\"]).agg(aggregations).reset_index()\n",
    "out.to_csv(os.path.join(out_fldr, \"iteration.csv\"), index=False, mode=\"w\")\n",
    "out"
   ],
   "metadata": {
    "collapsed": false,
    "ExecuteTime": {
     "end_time": "2023-11-03T18:50:01.584093Z",
     "start_time": "2023-11-03T18:50:01.552207Z"
    }
   },
   "id": "6f4bbb68703367ae"
  },
  {
   "cell_type": "code",
   "execution_count": null,
   "outputs": [],
   "source": [],
   "metadata": {
    "collapsed": false
   },
   "id": "d6f0efb6c67553c7"
  }
 ],
 "metadata": {
  "kernelspec": {
   "display_name": "Python 3",
   "language": "python",
   "name": "python3"
  },
  "language_info": {
   "codemirror_mode": {
    "name": "ipython",
    "version": 2
   },
   "file_extension": ".py",
   "mimetype": "text/x-python",
   "name": "python",
   "nbconvert_exporter": "python",
   "pygments_lexer": "ipython2",
   "version": "2.7.6"
  }
 },
 "nbformat": 4,
 "nbformat_minor": 5
}
