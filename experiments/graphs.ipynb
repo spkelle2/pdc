{
 "cells": [
  {
   "cell_type": "raw",
   "source": [],
   "metadata": {
    "collapsed": false
   },
   "id": "e7e73609072665d4"
  },
  {
   "cell_type": "code",
   "execution_count": 1,
   "outputs": [],
   "source": [
    "import os\n",
    "import pandas as pd\n",
    "import re\n",
    "from scipy.stats.mstats import gmean"
   ],
   "metadata": {
    "collapsed": false,
    "ExecuteTime": {
     "end_time": "2023-11-02T01:51:45.266785Z",
     "start_time": "2023-11-02T01:51:42.672649Z"
    }
   },
   "id": "1cc59124d1d40dc"
  },
  {
   "cell_type": "code",
   "execution_count": 148,
   "outputs": [],
   "source": [
    "# get input paths\n",
    "test_set = \"miplib_smaller_easy_binary\"\n",
    "instance_fldr = os.path.join(\"test_sets\", test_set)\n",
    "results_fldr = os.path.join(\"results\", test_set)"
   ],
   "metadata": {
    "collapsed": false,
    "ExecuteTime": {
     "end_time": "2023-11-02T03:58:00.263092Z",
     "start_time": "2023-11-02T03:58:00.250433Z"
    }
   },
   "id": "7efbc88147f301fa"
  },
  {
   "cell_type": "markdown",
   "source": [
    "## Check run failures"
   ],
   "metadata": {
    "collapsed": false
   },
   "id": "309a347a4f60cab6"
  },
  {
   "cell_type": "code",
   "execution_count": 149,
   "outputs": [],
   "source": [
    "# running list of strings contained by different error codes\n",
    "# last two are catchalls\n",
    "err = {\n",
    "    \"walltime\": [],\n",
    "    \"bad_alloc\": [],\n",
    "    \"takeoffcuts\": [],\n",
    "    \"solver is dual infeasible\": [],\n",
    "    \"solver must be optimal\": [],\n",
    "    \"segmentation fault\": [],\n",
    "    \"no vpcs were made from a new disjunction\": [],\n",
    "    \"disjunctive dual bound\": [],\n",
    "    \"farkas\": [],\n",
    "    \"prlp is primal infeasible\": [],\n",
    "    \"branch variables must be integer\": [],\n",
    "    \"warning\": []\n",
    "}\n",
    "\n",
    "# runs that errored out with new error code\n",
    "other = []\n",
    "\n",
    "# runs that had no errors\n",
    "empty = []\n",
    "\n",
    "# series that didn't run\n",
    "no_go = []\n",
    "\n",
    "# counts\n",
    "count_series = 0\n",
    "count_instances = 0\n",
    "\n",
    "# iterate over all expected runs\n",
    "for instance in os.listdir(instance_fldr):\n",
    "    if not os.path.isdir(os.path.join(instance_fldr, instance)):\n",
    "        continue\n",
    "    for perturbation in os.listdir(os.path.join(instance_fldr, instance)):\n",
    "        if not os.path.isdir(os.path.join(instance_fldr, instance, perturbation)):\n",
    "            continue\n",
    "        for terms in [4, 16, 64]:\n",
    "            for generator in [\"None\", \"New\", \"Old\", \"Farkas\"]:\n",
    "\n",
    "                # set variables for this iteration\n",
    "                count_series += 1\n",
    "                stem = f\"{instance}_{perturbation}_{terms}_{generator}\"\n",
    "                file_pth = os.path.join(results_fldr, f\"{stem}.err\")\n",
    "                series_fldr = os.path.join(instance_fldr, instance, perturbation)\n",
    "                count_instances += len([f for f in os.listdir(series_fldr) if\n",
    "                                        f.endswith(\".mps\")])\n",
    "\n",
    "                # check if the series wasn't run\n",
    "                if not os.path.exists(file_pth):\n",
    "                    no_go.append(stem)\n",
    "                \n",
    "                # check if the series ran with no errors or warnings\n",
    "                elif os.path.getsize(file_pth) == 0:\n",
    "                    empty.append(stem)\n",
    "                \n",
    "                # track which error codes were thrown\n",
    "                else:\n",
    "                    # read the file\n",
    "                    with open(file_pth, \"r\") as f:\n",
    "                        text = f.read().lower()\n",
    "                    \n",
    "                    # assign the error file to the appropriate list\n",
    "                    for code in err:\n",
    "                        if code in text:\n",
    "                            err[code].append(stem)\n",
    "                            break\n",
    "                    else:\n",
    "                        other.append(stem)"
   ],
   "metadata": {
    "collapsed": false,
    "ExecuteTime": {
     "end_time": "2023-11-02T03:58:01.508262Z",
     "start_time": "2023-11-02T03:58:01.430014Z"
    }
   },
   "id": "bf0cf935eb4aad03"
  },
  {
   "cell_type": "code",
   "execution_count": 150,
   "outputs": [
    {
     "name": "stdout",
     "output_type": "stream",
     "text": [
      "['neos-3611689-kaihu_rhs_1_16_None', 'neos-3611689-kaihu_rhs_1_16_New', 'neos-3611689-kaihu_rhs_1_16_Old', 'neos-3611689-kaihu_rhs_1_64_None', 'neos-3611689-kaihu_rhs_1_64_New']\n"
     ]
    }
   ],
   "source": [
    "# check which series didn't run\n",
    "print(no_go)"
   ],
   "metadata": {
    "collapsed": false,
    "ExecuteTime": {
     "end_time": "2023-11-02T03:58:01.991278Z",
     "start_time": "2023-11-02T03:58:01.974853Z"
    }
   },
   "id": "e4302c5a43b44547"
  },
  {
   "cell_type": "code",
   "execution_count": 151,
   "outputs": [
    {
     "data": {
      "text/plain": "0.9924242424242424"
     },
     "execution_count": 151,
     "metadata": {},
     "output_type": "execute_result"
    }
   ],
   "source": [
    "# get the proportion of series that at least got started\n",
    "1 - (len(no_go) / count_series)"
   ],
   "metadata": {
    "collapsed": false,
    "ExecuteTime": {
     "end_time": "2023-11-02T03:58:02.491149Z",
     "start_time": "2023-11-02T03:58:02.487840Z"
    }
   },
   "id": "5c199c411fd4414c"
  },
  {
   "cell_type": "code",
   "execution_count": 152,
   "outputs": [
    {
     "data": {
      "text/plain": "['neos-3610173-itata_matrix_0_64_New',\n 'neos-5140963-mincio_objective_1_4_Old',\n 'neos-5140963-mincio_objective_1_16_None',\n 'neos-5140963-mincio_objective_1_16_New',\n 'neos-5140963-mincio_objective_1_16_Old',\n 'neos-5140963-mincio_objective_1_64_None',\n 'neos-5140963-mincio_matrix_-1_4_None',\n 'neos-5140963-mincio_matrix_-1_4_New',\n 'neos-5140963-mincio_matrix_-1_4_Old',\n 'neos-5140963-mincio_matrix_-1_16_None',\n 'neos-5140963-mincio_matrix_-1_64_None',\n 'neos-5140963-mincio_matrix_-1_64_New',\n 'neos-5140963-mincio_objective_-1_16_None',\n 'neos-3611689-kaihu_matrix_1_4_Farkas',\n 'neos-3611689-kaihu_matrix_1_16_None',\n 'neos-3611689-kaihu_matrix_1_16_Old',\n 'neos-3611689-kaihu_matrix_1_16_Farkas',\n 'neos-3611689-kaihu_matrix_1_64_None',\n 'neos-3611689-kaihu_matrix_0_4_None',\n 'neos-3611689-kaihu_matrix_0_4_New',\n 'neos-3611689-kaihu_matrix_0_4_Old',\n 'neos-3611689-kaihu_matrix_0_4_Farkas',\n 'neos-3611689-kaihu_matrix_0_16_None',\n 'neos-3611689-kaihu_matrix_0_16_New',\n 'neos-3611689-kaihu_matrix_0_16_Old',\n 'dcmulti_objective_0_64_New',\n 'prod1_rhs_0_16_None',\n 'prod1_rhs_0_64_None',\n 'prod1_matrix_0_4_Old',\n 'prod1_matrix_0_4_Farkas',\n 'prod1_matrix_0_16_None',\n 'prod1_matrix_0_16_New',\n 'prod1_matrix_0_16_Old',\n 'prod1_matrix_0_64_None']"
     },
     "execution_count": 152,
     "metadata": {},
     "output_type": "execute_result"
    }
   ],
   "source": [
    "err[\"walltime\"]"
   ],
   "metadata": {
    "collapsed": false,
    "ExecuteTime": {
     "end_time": "2023-11-02T03:58:03.030760Z",
     "start_time": "2023-11-02T03:58:03.024171Z"
    }
   },
   "id": "2c0c8ca9c8f7caae"
  },
  {
   "cell_type": "code",
   "execution_count": 153,
   "outputs": [
    {
     "data": {
      "text/plain": "['neos-3610173-itata_rhs_0_64_Old',\n 'neos-3610173-itata_rhs_0_64_Farkas',\n 'neos-3610173-itata_rhs_1_64_Old',\n 'neos-3610173-itata_rhs_1_64_Farkas',\n 'neos-3610173-itata_matrix_1_64_Old',\n 'neos-3610173-itata_matrix_1_64_Farkas',\n 'neos-3610173-itata_matrix_0_64_Old',\n 'neos-3610173-itata_matrix_0_64_Farkas',\n 'neos-3610051-istra_rhs_0_64_Old',\n 'neos-3610051-istra_rhs_0_64_Farkas',\n 'neos-3610051-istra_rhs_1_64_Old',\n 'neos-3610051-istra_rhs_1_64_Farkas',\n 'neos-3610051-istra_matrix_1_64_Old',\n 'neos-3610051-istra_matrix_1_64_Farkas',\n 'neos-3610051-istra_matrix_0_64_Old',\n 'neos-3610051-istra_matrix_0_64_Farkas',\n 'neos-3611447-jijia_rhs_0_64_Old',\n 'neos-3611447-jijia_rhs_0_64_Farkas',\n 'neos-3611447-jijia_rhs_1_64_Old',\n 'neos-3611447-jijia_rhs_1_64_Farkas',\n 'neos-3611447-jijia_matrix_1_64_Old',\n 'neos-3611447-jijia_matrix_1_64_Farkas',\n 'neos-3611447-jijia_matrix_0_64_Old',\n 'neos-3611447-jijia_matrix_0_64_Farkas',\n 'neos-3610040-iskar_rhs_1_64_Old',\n 'neos-3610040-iskar_rhs_1_64_Farkas',\n 'neos-3610040-iskar_matrix_1_64_Old',\n 'neos-3610040-iskar_matrix_1_64_Farkas',\n 'neos-3610040-iskar_matrix_0_64_Old',\n 'neos-3610040-iskar_matrix_0_64_Farkas',\n 'neos-5140963-mincio_rhs_0_64_Old',\n 'neos-5140963-mincio_rhs_0_64_Farkas',\n 'neos-5140963-mincio_rhs_1_64_Old',\n 'neos-5140963-mincio_rhs_1_64_Farkas',\n 'neos-5140963-mincio_objective_1_64_Old',\n 'neos-5140963-mincio_objective_1_64_Farkas',\n 'neos-5140963-mincio_matrix_1_16_Old',\n 'neos-5140963-mincio_matrix_1_16_Farkas',\n 'neos-5140963-mincio_matrix_1_64_Old',\n 'neos-5140963-mincio_matrix_1_64_Farkas',\n 'neos-5140963-mincio_matrix_0_16_Old',\n 'neos-5140963-mincio_matrix_0_16_Farkas',\n 'neos-5140963-mincio_rhs_-1_16_Old',\n 'neos-5140963-mincio_rhs_-1_16_Farkas',\n 'neos-5140963-mincio_rhs_-1_64_Old',\n 'neos-5140963-mincio_rhs_-1_64_Farkas',\n 'neos-5140963-mincio_matrix_-1_16_Farkas',\n 'neos-5140963-mincio_matrix_-1_64_Old',\n 'neos-5140963-mincio_matrix_-1_64_Farkas',\n 'neos-5140963-mincio_objective_-1_64_Old',\n 'neos-5140963-mincio_objective_-1_64_Farkas',\n 'neos-3611689-kaihu_rhs_1_64_Old',\n 'neos-3611689-kaihu_rhs_1_64_Farkas',\n 'neos-3611689-kaihu_matrix_1_64_Old',\n 'neos-3611689-kaihu_matrix_1_64_Farkas',\n 'neos-3611689-kaihu_matrix_0_64_Old',\n 'neos-3611689-kaihu_matrix_0_64_Farkas',\n 'dcmulti_objective_1_64_Old',\n 'dcmulti_objective_1_64_Farkas',\n 'dcmulti_matrix_1_64_Old',\n 'dcmulti_matrix_1_64_Farkas',\n 'dcmulti_matrix_0_64_Old',\n 'dcmulti_matrix_0_64_Farkas',\n 'dcmulti_objective_0_64_Old',\n 'dcmulti_objective_0_64_Farkas',\n 'dcmulti_matrix_-1_64_Farkas',\n 'dcmulti_objective_-1_64_Old',\n 'dcmulti_objective_-1_64_Farkas',\n 'prod1_rhs_0_16_Old',\n 'prod1_rhs_0_16_Farkas',\n 'prod1_matrix_1_16_Old',\n 'prod1_matrix_1_16_Farkas',\n 'prod1_matrix_0_16_Farkas']"
     },
     "execution_count": 153,
     "metadata": {},
     "output_type": "execute_result"
    }
   ],
   "source": [
    "err[\"bad_alloc\"]"
   ],
   "metadata": {
    "collapsed": false,
    "ExecuteTime": {
     "end_time": "2023-11-02T03:58:03.415606Z",
     "start_time": "2023-11-02T03:58:03.412086Z"
    }
   },
   "id": "799f9596fe1bb847"
  },
  {
   "cell_type": "code",
   "execution_count": 154,
   "outputs": [
    {
     "data": {
      "text/plain": "['dcmulti_rhs_-1_4_Old',\n 'dcmulti_rhs_-1_16_Farkas',\n 'dcmulti_matrix_-1_4_Old',\n 'dcmulti_matrix_-1_16_Old',\n 'dcmulti_matrix_-1_64_Old']"
     },
     "execution_count": 154,
     "metadata": {},
     "output_type": "execute_result"
    }
   ],
   "source": [
    "err[\"takeoffcuts\"]"
   ],
   "metadata": {
    "collapsed": false,
    "ExecuteTime": {
     "end_time": "2023-11-02T03:58:03.758183Z",
     "start_time": "2023-11-02T03:58:03.744668Z"
    }
   },
   "id": "121be7316b7ba6b2"
  },
  {
   "cell_type": "code",
   "execution_count": 155,
   "outputs": [
    {
     "data": {
      "text/plain": "['neos-5140963-mincio_objective_1_4_Farkas',\n 'neos-5140963-mincio_objective_1_16_Farkas',\n 'neos-5140963-mincio_objective_0_4_Farkas',\n 'neos-5140963-mincio_objective_0_16_Farkas',\n 'neos-5140963-mincio_objective_0_64_Farkas',\n 'neos-5140963-mincio_objective_-1_4_Farkas',\n 'neos-5140963-mincio_objective_-1_16_Farkas']"
     },
     "execution_count": 155,
     "metadata": {},
     "output_type": "execute_result"
    }
   ],
   "source": [
    "err[\"solver is dual infeasible\"]"
   ],
   "metadata": {
    "collapsed": false,
    "ExecuteTime": {
     "end_time": "2023-11-02T03:58:04.132371Z",
     "start_time": "2023-11-02T03:58:04.128007Z"
    }
   },
   "id": "5c8956abcbdf8b6d"
  },
  {
   "cell_type": "code",
   "execution_count": 156,
   "outputs": [
    {
     "data": {
      "text/plain": "['neos-5140963-mincio_objective_1_4_New',\n 'neos-5140963-mincio_objective_1_64_New',\n 'neos-5140963-mincio_objective_0_4_New',\n 'neos-5140963-mincio_objective_0_4_Old',\n 'neos-5140963-mincio_objective_0_16_New',\n 'neos-5140963-mincio_objective_0_16_Old',\n 'neos-5140963-mincio_objective_0_64_New',\n 'neos-5140963-mincio_objective_0_64_Old',\n 'neos-5140963-mincio_objective_-1_4_New',\n 'neos-5140963-mincio_objective_-1_4_Old',\n 'neos-5140963-mincio_objective_-1_16_New',\n 'neos-5140963-mincio_objective_-1_16_Old',\n 'neos-5140963-mincio_objective_-1_64_New']"
     },
     "execution_count": 156,
     "metadata": {},
     "output_type": "execute_result"
    }
   ],
   "source": [
    "err[\"solver must be optimal\"]"
   ],
   "metadata": {
    "collapsed": false,
    "ExecuteTime": {
     "end_time": "2023-11-02T03:58:04.553948Z",
     "start_time": "2023-11-02T03:58:04.550851Z"
    }
   },
   "id": "72de71ca5f9b047"
  },
  {
   "cell_type": "code",
   "execution_count": 157,
   "outputs": [
    {
     "data": {
      "text/plain": "[]"
     },
     "execution_count": 157,
     "metadata": {},
     "output_type": "execute_result"
    }
   ],
   "source": [
    "err[\"segmentation fault\"]"
   ],
   "metadata": {
    "collapsed": false,
    "ExecuteTime": {
     "end_time": "2023-11-02T03:58:04.886225Z",
     "start_time": "2023-11-02T03:58:04.882164Z"
    }
   },
   "id": "fef47bf6e8f3c2d7"
  },
  {
   "cell_type": "code",
   "execution_count": 158,
   "outputs": [
    {
     "data": {
      "text/plain": "['neos-3610173-itata_rhs_0_64_New',\n 'neos-3610051-istra_rhs_1_64_New',\n 'mas74_rhs_1_4_New',\n 'mas74_rhs_1_16_New',\n 'mas74_rhs_1_64_New',\n 'mas74_matrix_1_4_New',\n 'mas74_matrix_1_16_New',\n 'mas74_matrix_1_64_New',\n 'mas74_matrix_0_4_New',\n 'mas74_matrix_0_16_New',\n 'mas74_matrix_0_64_New',\n 'mas74_matrix_-1_4_New',\n 'mas74_matrix_-1_16_New',\n 'mas74_matrix_-1_64_New',\n 'neos-5140963-mincio_rhs_0_64_New',\n 'bm23_rhs_0_64_New',\n 'bm23_rhs_1_64_New',\n 'bm23_matrix_1_64_New',\n 'bm23_matrix_0_64_New',\n 'bm23_matrix_-1_64_New',\n 'dcmulti_matrix_1_4_New',\n 'dcmulti_matrix_1_16_New',\n 'dcmulti_matrix_1_64_New',\n 'dcmulti_matrix_0_4_New',\n 'dcmulti_matrix_0_16_New',\n 'dcmulti_matrix_0_64_New',\n 'dcmulti_matrix_-1_64_New',\n 'dcmulti_objective_-1_64_New',\n 'mas76_matrix_1_4_New',\n 'mas76_matrix_1_16_New',\n 'mas76_matrix_1_64_New',\n 'mas76_matrix_0_4_New',\n 'mas76_matrix_0_16_New',\n 'mas76_matrix_0_64_New',\n 'mas76_matrix_-1_64_New',\n 'prod1_rhs_0_4_New',\n 'prod1_rhs_1_4_New']"
     },
     "execution_count": 158,
     "metadata": {},
     "output_type": "execute_result"
    }
   ],
   "source": [
    "err[\"no vpcs were made from a new disjunction\"]"
   ],
   "metadata": {
    "collapsed": false,
    "ExecuteTime": {
     "end_time": "2023-11-02T03:58:05.374356Z",
     "start_time": "2023-11-02T03:58:05.370226Z"
    }
   },
   "id": "323bfdd3f23d8330"
  },
  {
   "cell_type": "code",
   "execution_count": 159,
   "outputs": [
    {
     "data": {
      "text/plain": "['mas74_rhs_1_4_Old',\n 'mas74_rhs_1_4_Farkas',\n 'mas74_rhs_1_16_Old',\n 'mas74_rhs_1_16_Farkas',\n 'mas74_rhs_1_64_Old',\n 'mas74_rhs_1_64_Farkas',\n 'mas74_matrix_0_4_Old',\n 'mas74_matrix_0_4_Farkas',\n 'mas74_matrix_0_16_Old',\n 'mas74_matrix_0_16_Farkas',\n 'mas74_matrix_0_64_Old',\n 'mas74_matrix_0_64_Farkas',\n 'mas74_matrix_-1_4_Old',\n 'mas74_matrix_-1_4_Farkas',\n 'mas74_matrix_-1_16_Old',\n 'mas74_matrix_-1_16_Farkas',\n 'mas74_matrix_-1_64_Old',\n 'mas74_matrix_-1_64_Farkas',\n 'neos-5140963-mincio_rhs_0_16_Old',\n 'neos-5140963-mincio_rhs_0_16_Farkas',\n 'neos-5140963-mincio_rhs_1_4_Old',\n 'neos-5140963-mincio_rhs_1_4_Farkas',\n 'neos-5140963-mincio_rhs_1_16_Old',\n 'neos-5140963-mincio_rhs_1_16_Farkas',\n 'neos-5140963-mincio_matrix_0_64_Old',\n 'neos-5140963-mincio_matrix_0_64_Farkas',\n 'neos-5140963-mincio_matrix_-1_16_Old',\n 'dcmulti_rhs_-1_16_Old',\n 'dcmulti_rhs_-1_64_Old',\n 'dcmulti_rhs_-1_64_Farkas']"
     },
     "execution_count": 159,
     "metadata": {},
     "output_type": "execute_result"
    }
   ],
   "source": [
    "err[\"disjunctive dual bound\"]"
   ],
   "metadata": {
    "collapsed": false,
    "ExecuteTime": {
     "end_time": "2023-11-02T03:58:05.844171Z",
     "start_time": "2023-11-02T03:58:05.840330Z"
    }
   },
   "id": "a75c52096090c64c"
  },
  {
   "cell_type": "code",
   "execution_count": 160,
   "outputs": [
    {
     "data": {
      "text/plain": "['neos-3610173-itata_rhs_0_16_New',\n 'neos-3610173-itata_rhs_1_64_New',\n 'neos-3610051-istra_rhs_1_16_New',\n 'neos-3610051-istra_matrix_1_16_New',\n 'dcmulti_objective_1_64_New']"
     },
     "execution_count": 160,
     "metadata": {},
     "output_type": "execute_result"
    }
   ],
   "source": [
    "err[\"farkas\"]"
   ],
   "metadata": {
    "collapsed": false,
    "ExecuteTime": {
     "end_time": "2023-11-02T03:58:06.245224Z",
     "start_time": "2023-11-02T03:58:06.241056Z"
    }
   },
   "id": "2eb370fdb19b4220"
  },
  {
   "cell_type": "code",
   "execution_count": 161,
   "outputs": [
    {
     "data": {
      "text/plain": "['mas74_matrix_1_4_Old',\n 'mas74_matrix_1_16_Old',\n 'mas74_matrix_1_64_Old',\n 'neos-5140963-mincio_matrix_1_4_Old',\n 'dcmulti_matrix_1_4_Old',\n 'dcmulti_matrix_1_16_Old',\n 'dcmulti_matrix_0_4_Old',\n 'dcmulti_matrix_0_16_Old',\n 'mas76_rhs_0_4_Old',\n 'mas76_rhs_1_4_Old',\n 'mas76_matrix_1_4_Old',\n 'mas76_matrix_1_16_Old',\n 'mas76_matrix_1_64_Old',\n 'mas76_matrix_0_4_Old',\n 'mas76_matrix_0_16_Old',\n 'mas76_matrix_0_64_Old',\n 'mas76_matrix_-1_4_Old',\n 'mas76_matrix_-1_64_Old']"
     },
     "execution_count": 161,
     "metadata": {},
     "output_type": "execute_result"
    }
   ],
   "source": [
    "err[\"prlp is primal infeasible\"]"
   ],
   "metadata": {
    "collapsed": false,
    "ExecuteTime": {
     "end_time": "2023-11-02T03:58:06.725449Z",
     "start_time": "2023-11-02T03:58:06.721800Z"
    }
   },
   "id": "728863caf232ccb4"
  },
  {
   "cell_type": "code",
   "execution_count": 162,
   "outputs": [
    {
     "data": {
      "text/plain": "['neos-3610173-itata_rhs_1_4_New',\n 'neos-3610173-itata_rhs_1_16_New',\n 'neos-5140963-mincio_matrix_1_4_New',\n 'neos-5140963-mincio_matrix_1_16_New',\n 'neos-5140963-mincio_matrix_1_64_New',\n 'neos-5140963-mincio_matrix_0_4_New',\n 'neos-5140963-mincio_matrix_0_16_New',\n 'neos-5140963-mincio_matrix_0_64_New',\n 'neos-3611689-kaihu_matrix_1_4_New',\n 'neos-3611689-kaihu_matrix_1_16_New',\n 'neos-3611689-kaihu_matrix_1_64_New',\n 'dcmulti_objective_1_4_New',\n 'dcmulti_objective_1_16_New',\n 'dcmulti_objective_0_4_New',\n 'dcmulti_objective_0_16_New',\n 'dcmulti_rhs_-1_4_New',\n 'dcmulti_rhs_-1_16_New',\n 'dcmulti_rhs_-1_64_New',\n 'dcmulti_matrix_-1_4_New',\n 'dcmulti_matrix_-1_16_New',\n 'mas76_matrix_-1_16_Old',\n 'prod1_rhs_0_4_Old',\n 'prod1_rhs_0_4_Farkas',\n 'prod1_rhs_1_4_Old',\n 'prod1_rhs_1_4_Farkas',\n 'prod1_rhs_1_16_New',\n 'prod1_rhs_1_16_Old',\n 'prod1_rhs_1_16_Farkas',\n 'prod1_matrix_1_4_New',\n 'prod1_matrix_1_4_Old',\n 'prod1_matrix_1_4_Farkas',\n 'prod1_matrix_1_16_New',\n 'prod1_matrix_0_4_New']"
     },
     "execution_count": 162,
     "metadata": {},
     "output_type": "execute_result"
    }
   ],
   "source": [
    "err[\"warning\"]"
   ],
   "metadata": {
    "collapsed": false,
    "ExecuteTime": {
     "end_time": "2023-11-02T03:58:07.170360Z",
     "start_time": "2023-11-02T03:58:07.165546Z"
    }
   },
   "id": "6c142a21e974f0b9"
  },
  {
   "cell_type": "code",
   "execution_count": 163,
   "outputs": [
    {
     "data": {
      "text/plain": "['prod1_rhs_0_16_New',\n 'prod1_rhs_0_64_New',\n 'prod1_rhs_0_64_Old',\n 'prod1_rhs_0_64_Farkas',\n 'prod1_rhs_1_64_New',\n 'prod1_rhs_1_64_Old',\n 'prod1_rhs_1_64_Farkas',\n 'prod1_matrix_1_64_New',\n 'prod1_matrix_1_64_Old',\n 'prod1_matrix_1_64_Farkas',\n 'prod1_matrix_0_64_New',\n 'prod1_matrix_0_64_Old',\n 'prod1_matrix_0_64_Farkas']"
     },
     "execution_count": 163,
     "metadata": {},
     "output_type": "execute_result"
    }
   ],
   "source": [
    "err[\"branch variables must be integer\"]"
   ],
   "metadata": {
    "collapsed": false,
    "ExecuteTime": {
     "end_time": "2023-11-02T03:58:07.529703Z",
     "start_time": "2023-11-02T03:58:07.523427Z"
    }
   },
   "id": "cbe5c977488d207f"
  },
  {
   "cell_type": "code",
   "execution_count": 164,
   "outputs": [
    {
     "data": {
      "text/plain": "[]"
     },
     "execution_count": 164,
     "metadata": {},
     "output_type": "execute_result"
    }
   ],
   "source": [
    "# errors unaccounted for\n",
    "other"
   ],
   "metadata": {
    "collapsed": false,
    "ExecuteTime": {
     "end_time": "2023-11-02T03:58:07.956495Z",
     "start_time": "2023-11-02T03:58:07.952538Z"
    }
   },
   "id": "f2365025f4ca39d4"
  },
  {
   "cell_type": "code",
   "execution_count": 165,
   "outputs": [
    {
     "data": {
      "text/plain": "0.6363636363636364"
     },
     "execution_count": 165,
     "metadata": {},
     "output_type": "execute_result"
    }
   ],
   "source": [
    "# proportion of series that had no issues\n",
    "len(empty + err[\"warning\"]) / count_series"
   ],
   "metadata": {
    "collapsed": false,
    "ExecuteTime": {
     "end_time": "2023-11-02T03:58:10.356346Z",
     "start_time": "2023-11-02T03:58:10.339946Z"
    }
   },
   "id": "52404dea8ae4eb16"
  },
  {
   "cell_type": "code",
   "execution_count": 166,
   "outputs": [
    {
     "name": "stdout",
     "output_type": "stream",
     "text": [
      "None: 0.9030303030303031\n",
      "New: 0.6060606060606061\n",
      "Old: 0.4484848484848485\n",
      "Farkas: 0.5878787878787879\n"
     ]
    }
   ],
   "source": [
    "# proportion of series that had no issues broken down by generator\n",
    "for generator in [\"None\", \"New\", \"Old\", \"Farkas\"]:\n",
    "    g = [s for s in empty if s.endswith(generator)] + \\\n",
    "        [s for s in err[\"warning\"] if s.endswith(generator)]\n",
    "    print(f\"{generator}: {4 * len(g) / count_series}\")"
   ],
   "metadata": {
    "collapsed": false,
    "ExecuteTime": {
     "end_time": "2023-11-02T03:58:12.163359Z",
     "start_time": "2023-11-02T03:58:12.147572Z"
    }
   },
   "id": "b7f77dc163123551"
  },
  {
   "cell_type": "code",
   "execution_count": 167,
   "outputs": [
    {
     "data": {
      "text/plain": "0.1621212121212121"
     },
     "execution_count": 167,
     "metadata": {},
     "output_type": "execute_result"
    }
   ],
   "source": [
    "# proportion of series that were improperly provisioned\n",
    "(len(err[\"bad_alloc\"] + err[\"walltime\"])) / count_series"
   ],
   "metadata": {
    "collapsed": false,
    "ExecuteTime": {
     "end_time": "2023-11-02T03:58:20.382334Z",
     "start_time": "2023-11-02T03:58:20.366519Z"
    }
   },
   "id": "5cc2517a3d1c1f27"
  },
  {
   "cell_type": "code",
   "execution_count": 169,
   "outputs": [
    {
     "data": {
      "text/plain": "0.08333333333333333"
     },
     "execution_count": 169,
     "metadata": {},
     "output_type": "execute_result"
    }
   ],
   "source": [
    "(len(err[\"no vpcs were made from a new disjunction\"] +\n",
    "     err[\"prlp is primal infeasible\"])) / count_series"
   ],
   "metadata": {
    "collapsed": false,
    "ExecuteTime": {
     "end_time": "2023-11-02T03:58:41.686861Z",
     "start_time": "2023-11-02T03:58:41.664987Z"
    }
   },
   "id": "a68e05b0af9cd9c8"
  },
  {
   "cell_type": "code",
   "execution_count": 170,
   "outputs": [
    {
     "data": {
      "text/plain": "0.8818181818181818"
     },
     "execution_count": 170,
     "metadata": {},
     "output_type": "execute_result"
    }
   ],
   "source": [
    "# proportion of series that had didn't actually error\n",
    "(len(empty + err[\"bad_alloc\"] + err[\"walltime\"] + err[\"warning\"] +\n",
    "     err[\"no vpcs were made from a new disjunction\"] +\n",
    "     err[\"prlp is primal infeasible\"])) / count_series"
   ],
   "metadata": {
    "collapsed": false,
    "ExecuteTime": {
     "end_time": "2023-11-02T03:58:44.379153Z",
     "start_time": "2023-11-02T03:58:44.355723Z"
    }
   },
   "id": "be115d35253a35f4"
  },
  {
   "cell_type": "markdown",
   "source": [
    "## Read in data"
   ],
   "metadata": {
    "collapsed": false
   },
   "id": "1b96d76b8971a661"
  },
  {
   "cell_type": "code",
   "execution_count": 171,
   "outputs": [],
   "source": [
    "# map generator names to the corresponding data frames\n",
    "df_map = {\n",
    "    \"None\": pd.DataFrame(),\n",
    "    \"Farkas\": pd.DataFrame(),\n",
    "    \"New\": pd.DataFrame(),\n",
    "    \"Old\": pd.DataFrame()\n",
    "}\n",
    "regex = re.compile(r'([a-zA-Z0-9-]+)_([a-z]+)_([0-9-]+)_([0-9]+)_([a-zA-Z ]+)')\n",
    "\n",
    "# iterate over all files in the folder\n",
    "for file_name in os.listdir(results_fldr):\n",
    "    \n",
    "    file_pth = os.path.join(results_fldr, file_name)\n",
    "    \n",
    "    # if the file is not a nonempty csv, skip it\n",
    "    if not file_name.endswith(\".csv\") or os.path.getsize(file_pth) == 0:\n",
    "        continue\n",
    "    \n",
    "    # get the experimental set up\n",
    "    match = regex.search(file_name)\n",
    "    instance_name = match.group(1)\n",
    "    perturbation = match.group(2)\n",
    "    degree = 2**int(match.group(3))\n",
    "    terms = int(match.group(4))\n",
    "    generator = match.group(5)\n",
    "    \n",
    "    # read the file\n",
    "    df = pd.read_csv(file_pth, keep_default_na=False)\n",
    "    \n",
    "    # add some identifying columns\n",
    "    df[\"problem number\"] = df.index\n",
    "    df[\"instance\"] = instance_name\n",
    "    df[\"perturbation\"] = perturbation\n",
    "    df[\"degree\"] = degree\n",
    "    df[\"terms\"] = terms\n",
    "    \n",
    "    # append to the appropriate data frame\n",
    "    df_map[generator] = pd.concat([df_map[generator], df])"
   ],
   "metadata": {
    "collapsed": false,
    "ExecuteTime": {
     "end_time": "2023-11-02T03:58:50.183238Z",
     "start_time": "2023-11-02T03:58:49.535483Z"
    }
   },
   "id": "cd620191b5a5849a"
  },
  {
   "cell_type": "code",
   "execution_count": 172,
   "outputs": [
    {
     "name": "stdout",
     "output_type": "stream",
     "text": [
      "None: 0.9680046538685282\n",
      "Farkas: 0.8179173938336242\n",
      "New: 0.6969168121000582\n",
      "Old: 0.8022105875509017\n"
     ]
    }
   ],
   "source": [
    "# get proportion of instances run\n",
    "for generator, df in df_map.items():\n",
    "    print(f\"{generator}: {4 * len(df) / count_instances}\")"
   ],
   "metadata": {
    "collapsed": false,
    "ExecuteTime": {
     "end_time": "2023-11-02T03:58:51.361521Z",
     "start_time": "2023-11-02T03:58:51.344749Z"
    }
   },
   "id": "dc808ad6e70ccb1d"
  },
  {
   "cell_type": "code",
   "execution_count": 249,
   "outputs": [
    {
     "data": {
      "text/plain": "Empty DataFrame\nColumns: [lpBound, disjunctiveDualBound, lpBoundPostVpc, rootDualBound, dualBound, heuristicPrimalBound, primalBound, vpcGenerationTime, heuristicTime, rootDualBoundTime, firstSolutionTime, bestSolutionTime, terminationTime, maxTime, vpcGenerator, terms, iterations, nodes, problem number, instance, perturbation, degree]\nIndex: []\n\n[0 rows x 22 columns]",
      "text/html": "<div>\n<style scoped>\n    .dataframe tbody tr th:only-of-type {\n        vertical-align: middle;\n    }\n\n    .dataframe tbody tr th {\n        vertical-align: top;\n    }\n\n    .dataframe thead th {\n        text-align: right;\n    }\n</style>\n<table border=\"1\" class=\"dataframe\">\n  <thead>\n    <tr style=\"text-align: right;\">\n      <th></th>\n      <th>lpBound</th>\n      <th>disjunctiveDualBound</th>\n      <th>lpBoundPostVpc</th>\n      <th>rootDualBound</th>\n      <th>dualBound</th>\n      <th>heuristicPrimalBound</th>\n      <th>primalBound</th>\n      <th>vpcGenerationTime</th>\n      <th>heuristicTime</th>\n      <th>rootDualBoundTime</th>\n      <th>...</th>\n      <th>terminationTime</th>\n      <th>maxTime</th>\n      <th>vpcGenerator</th>\n      <th>terms</th>\n      <th>iterations</th>\n      <th>nodes</th>\n      <th>problem number</th>\n      <th>instance</th>\n      <th>perturbation</th>\n      <th>degree</th>\n    </tr>\n  </thead>\n  <tbody>\n  </tbody>\n</table>\n<p>0 rows × 22 columns</p>\n</div>"
     },
     "execution_count": 249,
     "metadata": {},
     "output_type": "execute_result"
    }
   ],
   "source": [
    "gen = \"Farkas\" # make sure masks 6 and 9 are fixed rest should be fine\n",
    "masks = [\n",
    "    -1e20 > df_map[gen][\"lpBound\"],\n",
    "    df_map[gen][\"lpBound\"] - 1e-4 > df_map[gen][\"lpBoundPostVpc\"],\n",
    "    df_map[gen][\"lpBoundPostVpc\"] - 1e-4 > df_map[gen][\"disjunctiveDualBound\"],\n",
    "    df_map[gen][\"lpBoundPostVpc\"] - 1e-4 > df_map[gen][\"rootDualBound\"],\n",
    "    df_map[gen][\"rootDualBound\"] - 1e-4 > df_map[gen][\"dualBound\"],\n",
    "    df_map[gen][\"dualBound\"] - 1e-4 > df_map[gen][\"primalBound\"],\n",
    "    df_map[gen][\"primalBound\"] > 1e20,\n",
    "    0 > df_map[gen][\"vpcGenerationTime\"],\n",
    "    df_map[gen][\"vpcGenerationTime\"] - 1e-4 > df_map[gen][\"heuristicTime\"],\n",
    "    df_map[gen][\"heuristicTime\"] - 1e-4 > df_map[gen][\"rootDualBoundTime\"],\n",
    "    df_map[gen][\"rootDualBoundTime\"] - 1e-4 > df_map[gen][\"terminationTime\"],\n",
    "    0 > df_map[gen][\"firstSolutionTime\"],\n",
    "    df_map[gen][\"firstSolutionTime\"] - 1e-4 > df_map[gen][\"bestSolutionTime\"],\n",
    "    df_map[gen][\"bestSolutionTime\"] - 1e-4 > df_map[gen][\"terminationTime\"],\n",
    "    df_map[gen][\"terminationTime\"] > df_map[gen][\"maxTime\"] + 10,\n",
    "    df_map[gen][\"vpcGenerationTime\"] > df_map[gen][\"maxTime\"]\n",
    "]\n",
    "\n",
    "# todo: apply masks to data before merging\n",
    "df_map[gen][masks[15]]"
   ],
   "metadata": {
    "collapsed": false,
    "ExecuteTime": {
     "end_time": "2023-11-03T02:27:28.137605Z",
     "start_time": "2023-11-03T02:27:28.120822Z"
    }
   },
   "id": "1707d3125161409b"
  },
  {
   "cell_type": "code",
   "execution_count": 173,
   "outputs": [
    {
     "data": {
      "text/plain": "      lpBound None  disjunctiveDualBound None  lpBoundPostVpc None  \\\n0       134.915590                 134.915590           134.915590   \n1       135.862243                 135.862243           135.862243   \n2       135.354844                 135.354844           135.354844   \n3       135.311224                 135.311224           135.311224   \n4       134.405958                 134.405958           134.405958   \n...            ...                        ...                  ...   \n1095  26511.178608               26511.178608         26511.178608   \n1096  51687.033613               51687.033613         51687.033613   \n1097  38893.310241               38893.310241         38893.310241   \n1098    134.915590                 134.915590           134.915590   \n1099    135.862243                 135.862243           135.862243   \n\n      rootDualBound None  dualBound None  heuristicPrimalBound None  \\\n0             143.653501      145.021191                 154.000000   \n1             144.515640      144.515640                 153.000000   \n2             143.841106      145.807495                 152.000000   \n3             142.730884      143.993407                 151.000000   \n4             141.990942      143.767762                 153.000000   \n...                  ...             ...                        ...   \n1095        26511.178608    27104.513468               28593.617817   \n1096        51687.033613    52023.712306               54752.387825   \n1097        38893.310241    39377.750503               40559.141700   \n1098          143.653501      145.010299                 154.000000   \n1099          144.515640      144.515640                 153.000000   \n\n      primalBound None  vpcGenerationTime None  heuristicTime None  \\\n0           151.000000                0.095983            1.208081   \n1           149.000000                0.095126            1.013818   \n2           150.000000                0.089995            1.040532   \n3           149.000000                0.101890            1.706507   \n4           148.000000                0.090656            1.675309   \n...                ...                     ...                 ...   \n1095      27638.141720                0.013274            1.126742   \n1096      52771.123829                0.018482            0.717831   \n1097      40004.141700                0.015197            0.438991   \n1098        151.000000                0.095875            1.208013   \n1099        149.000000                0.093159            1.012965   \n\n      rootDualBoundTime None  ...  vpcGenerationTime Farkas  \\\n0                   3.891387  ...                  3.476639   \n1                   4.427356  ...                  0.251976   \n2                   4.326211  ...                  0.305814   \n3                   5.194389  ...                  0.277963   \n4                   4.404977  ...                  0.279692   \n...                      ...  ...                       ...   \n1095                1.141693  ...                  0.590635   \n1096                0.731364  ...                  0.634321   \n1097                0.451909  ...                  0.536479   \n1098                3.893459  ...                170.289848   \n1099                4.430560  ...                  4.223229   \n\n      heuristicTime Farkas  rootDualBoundTime Farkas  \\\n0                 4.570034                  7.553878   \n1                 1.133731                  4.612541   \n2                 1.209513                  4.354240   \n3                 1.982146                  5.314432   \n4                 1.942763                  5.289901   \n...                    ...                       ...   \n1095              1.706052                  1.721004   \n1096              1.322656                  1.336182   \n1097              0.969845                  1.011032   \n1098            171.386113                174.660553   \n1099              5.104137                  8.462984   \n\n      firstSolutionTime Farkas bestSolutionTime Farkas  \\\n0                     4.570041                7.642616   \n1                     1.133737               30.107969   \n2                     1.209516                4.504873   \n3                     1.982152                5.442039   \n4                     1.942769                5.872898   \n...                        ...                     ...   \n1095                  1.706055              106.701702   \n1096                  1.322663                3.518376   \n1097                  0.969850                1.021516   \n1098                171.386127              174.815976   \n1099                  5.104142               21.647005   \n\n      terminationTime Farkas  maxTime Farkas  vpcGenerator Farkas  \\\n0                 300.663091           300.0                  New   \n1                 300.892184           300.0               Farkas   \n2                 301.653855           300.0               Farkas   \n3                 301.015084           300.0               Farkas   \n4                 301.209363           300.0               Farkas   \n...                      ...             ...                  ...   \n1095              301.003922           300.0               Farkas   \n1096              301.067902           300.0               Farkas   \n1097              300.692388           300.0               Farkas   \n1098              300.073081           300.0                  New   \n1099              300.154451           300.0               Farkas   \n\n      iterations Farkas nodes Farkas  \n0                191981         7958  \n1                176676        11114  \n2                148783        11024  \n3                178714         9936  \n4                168946         8526  \n...                 ...          ...  \n1095             514640        86442  \n1096             576089        97299  \n1097             326935        53049  \n1098              64671         5040  \n1099             168160        11088  \n\n[1100 rows x 73 columns]",
      "text/html": "<div>\n<style scoped>\n    .dataframe tbody tr th:only-of-type {\n        vertical-align: middle;\n    }\n\n    .dataframe tbody tr th {\n        vertical-align: top;\n    }\n\n    .dataframe thead th {\n        text-align: right;\n    }\n</style>\n<table border=\"1\" class=\"dataframe\">\n  <thead>\n    <tr style=\"text-align: right;\">\n      <th></th>\n      <th>lpBound None</th>\n      <th>disjunctiveDualBound None</th>\n      <th>lpBoundPostVpc None</th>\n      <th>rootDualBound None</th>\n      <th>dualBound None</th>\n      <th>heuristicPrimalBound None</th>\n      <th>primalBound None</th>\n      <th>vpcGenerationTime None</th>\n      <th>heuristicTime None</th>\n      <th>rootDualBoundTime None</th>\n      <th>...</th>\n      <th>vpcGenerationTime Farkas</th>\n      <th>heuristicTime Farkas</th>\n      <th>rootDualBoundTime Farkas</th>\n      <th>firstSolutionTime Farkas</th>\n      <th>bestSolutionTime Farkas</th>\n      <th>terminationTime Farkas</th>\n      <th>maxTime Farkas</th>\n      <th>vpcGenerator Farkas</th>\n      <th>iterations Farkas</th>\n      <th>nodes Farkas</th>\n    </tr>\n  </thead>\n  <tbody>\n    <tr>\n      <th>0</th>\n      <td>134.915590</td>\n      <td>134.915590</td>\n      <td>134.915590</td>\n      <td>143.653501</td>\n      <td>145.021191</td>\n      <td>154.000000</td>\n      <td>151.000000</td>\n      <td>0.095983</td>\n      <td>1.208081</td>\n      <td>3.891387</td>\n      <td>...</td>\n      <td>3.476639</td>\n      <td>4.570034</td>\n      <td>7.553878</td>\n      <td>4.570041</td>\n      <td>7.642616</td>\n      <td>300.663091</td>\n      <td>300.0</td>\n      <td>New</td>\n      <td>191981</td>\n      <td>7958</td>\n    </tr>\n    <tr>\n      <th>1</th>\n      <td>135.862243</td>\n      <td>135.862243</td>\n      <td>135.862243</td>\n      <td>144.515640</td>\n      <td>144.515640</td>\n      <td>153.000000</td>\n      <td>149.000000</td>\n      <td>0.095126</td>\n      <td>1.013818</td>\n      <td>4.427356</td>\n      <td>...</td>\n      <td>0.251976</td>\n      <td>1.133731</td>\n      <td>4.612541</td>\n      <td>1.133737</td>\n      <td>30.107969</td>\n      <td>300.892184</td>\n      <td>300.0</td>\n      <td>Farkas</td>\n      <td>176676</td>\n      <td>11114</td>\n    </tr>\n    <tr>\n      <th>2</th>\n      <td>135.354844</td>\n      <td>135.354844</td>\n      <td>135.354844</td>\n      <td>143.841106</td>\n      <td>145.807495</td>\n      <td>152.000000</td>\n      <td>150.000000</td>\n      <td>0.089995</td>\n      <td>1.040532</td>\n      <td>4.326211</td>\n      <td>...</td>\n      <td>0.305814</td>\n      <td>1.209513</td>\n      <td>4.354240</td>\n      <td>1.209516</td>\n      <td>4.504873</td>\n      <td>301.653855</td>\n      <td>300.0</td>\n      <td>Farkas</td>\n      <td>148783</td>\n      <td>11024</td>\n    </tr>\n    <tr>\n      <th>3</th>\n      <td>135.311224</td>\n      <td>135.311224</td>\n      <td>135.311224</td>\n      <td>142.730884</td>\n      <td>143.993407</td>\n      <td>151.000000</td>\n      <td>149.000000</td>\n      <td>0.101890</td>\n      <td>1.706507</td>\n      <td>5.194389</td>\n      <td>...</td>\n      <td>0.277963</td>\n      <td>1.982146</td>\n      <td>5.314432</td>\n      <td>1.982152</td>\n      <td>5.442039</td>\n      <td>301.015084</td>\n      <td>300.0</td>\n      <td>Farkas</td>\n      <td>178714</td>\n      <td>9936</td>\n    </tr>\n    <tr>\n      <th>4</th>\n      <td>134.405958</td>\n      <td>134.405958</td>\n      <td>134.405958</td>\n      <td>141.990942</td>\n      <td>143.767762</td>\n      <td>153.000000</td>\n      <td>148.000000</td>\n      <td>0.090656</td>\n      <td>1.675309</td>\n      <td>4.404977</td>\n      <td>...</td>\n      <td>0.279692</td>\n      <td>1.942763</td>\n      <td>5.289901</td>\n      <td>1.942769</td>\n      <td>5.872898</td>\n      <td>301.209363</td>\n      <td>300.0</td>\n      <td>Farkas</td>\n      <td>168946</td>\n      <td>8526</td>\n    </tr>\n    <tr>\n      <th>...</th>\n      <td>...</td>\n      <td>...</td>\n      <td>...</td>\n      <td>...</td>\n      <td>...</td>\n      <td>...</td>\n      <td>...</td>\n      <td>...</td>\n      <td>...</td>\n      <td>...</td>\n      <td>...</td>\n      <td>...</td>\n      <td>...</td>\n      <td>...</td>\n      <td>...</td>\n      <td>...</td>\n      <td>...</td>\n      <td>...</td>\n      <td>...</td>\n      <td>...</td>\n      <td>...</td>\n    </tr>\n    <tr>\n      <th>1095</th>\n      <td>26511.178608</td>\n      <td>26511.178608</td>\n      <td>26511.178608</td>\n      <td>26511.178608</td>\n      <td>27104.513468</td>\n      <td>28593.617817</td>\n      <td>27638.141720</td>\n      <td>0.013274</td>\n      <td>1.126742</td>\n      <td>1.141693</td>\n      <td>...</td>\n      <td>0.590635</td>\n      <td>1.706052</td>\n      <td>1.721004</td>\n      <td>1.706055</td>\n      <td>106.701702</td>\n      <td>301.003922</td>\n      <td>300.0</td>\n      <td>Farkas</td>\n      <td>514640</td>\n      <td>86442</td>\n    </tr>\n    <tr>\n      <th>1096</th>\n      <td>51687.033613</td>\n      <td>51687.033613</td>\n      <td>51687.033613</td>\n      <td>51687.033613</td>\n      <td>52023.712306</td>\n      <td>54752.387825</td>\n      <td>52771.123829</td>\n      <td>0.018482</td>\n      <td>0.717831</td>\n      <td>0.731364</td>\n      <td>...</td>\n      <td>0.634321</td>\n      <td>1.322656</td>\n      <td>1.336182</td>\n      <td>1.322663</td>\n      <td>3.518376</td>\n      <td>301.067902</td>\n      <td>300.0</td>\n      <td>Farkas</td>\n      <td>576089</td>\n      <td>97299</td>\n    </tr>\n    <tr>\n      <th>1097</th>\n      <td>38893.310241</td>\n      <td>38893.310241</td>\n      <td>38893.310241</td>\n      <td>38893.310241</td>\n      <td>39377.750503</td>\n      <td>40559.141700</td>\n      <td>40004.141700</td>\n      <td>0.015197</td>\n      <td>0.438991</td>\n      <td>0.451909</td>\n      <td>...</td>\n      <td>0.536479</td>\n      <td>0.969845</td>\n      <td>1.011032</td>\n      <td>0.969850</td>\n      <td>1.021516</td>\n      <td>300.692388</td>\n      <td>300.0</td>\n      <td>Farkas</td>\n      <td>326935</td>\n      <td>53049</td>\n    </tr>\n    <tr>\n      <th>1098</th>\n      <td>134.915590</td>\n      <td>134.915590</td>\n      <td>134.915590</td>\n      <td>143.653501</td>\n      <td>145.010299</td>\n      <td>154.000000</td>\n      <td>151.000000</td>\n      <td>0.095875</td>\n      <td>1.208013</td>\n      <td>3.893459</td>\n      <td>...</td>\n      <td>170.289848</td>\n      <td>171.386113</td>\n      <td>174.660553</td>\n      <td>171.386127</td>\n      <td>174.815976</td>\n      <td>300.073081</td>\n      <td>300.0</td>\n      <td>New</td>\n      <td>64671</td>\n      <td>5040</td>\n    </tr>\n    <tr>\n      <th>1099</th>\n      <td>135.862243</td>\n      <td>135.862243</td>\n      <td>135.862243</td>\n      <td>144.515640</td>\n      <td>144.515640</td>\n      <td>153.000000</td>\n      <td>149.000000</td>\n      <td>0.093159</td>\n      <td>1.012965</td>\n      <td>4.430560</td>\n      <td>...</td>\n      <td>4.223229</td>\n      <td>5.104137</td>\n      <td>8.462984</td>\n      <td>5.104142</td>\n      <td>21.647005</td>\n      <td>300.154451</td>\n      <td>300.0</td>\n      <td>Farkas</td>\n      <td>168160</td>\n      <td>11088</td>\n    </tr>\n  </tbody>\n</table>\n<p>1100 rows × 73 columns</p>\n</div>"
     },
     "execution_count": 173,
     "metadata": {},
     "output_type": "execute_result"
    }
   ],
   "source": [
    "# merge the 4 different data frames into one\n",
    "join_cols = [\"instance\", \"perturbation\", \"degree\", \"terms\", \"problem number\"]\n",
    "df = df_map[\"None\"].merge(df_map[\"New\"], on=join_cols,\n",
    "                                suffixes=(\" None\", None))\n",
    "df = df.merge(df_map[\"Old\"], on=join_cols,\n",
    "                          suffixes=(\" New\", None))\n",
    "df = df.merge(df_map[\"Farkas\"], on=join_cols,\n",
    "                          suffixes=(\" Old\", \" Farkas\"))\n",
    "df"
   ],
   "metadata": {
    "collapsed": false,
    "ExecuteTime": {
     "end_time": "2023-11-02T03:58:52.368366Z",
     "start_time": "2023-11-02T03:58:52.338962Z"
    }
   },
   "id": "66dfd7e3d44a3585"
  },
  {
   "cell_type": "code",
   "execution_count": 174,
   "outputs": [
    {
     "data": {
      "text/plain": "0.6399069226294357"
     },
     "execution_count": 174,
     "metadata": {},
     "output_type": "execute_result"
    }
   ],
   "source": [
    "# get proportion of tests run\n",
    "4 * len(df) / count_instances"
   ],
   "metadata": {
    "collapsed": false,
    "ExecuteTime": {
     "end_time": "2023-11-02T03:58:53.482716Z",
     "start_time": "2023-11-02T03:58:53.464769Z"
    }
   },
   "id": "3eb13128df183faf"
  },
  {
   "cell_type": "code",
   "execution_count": 21,
   "outputs": [],
   "source": [
    "def gap_closed(df, col):\n",
    "    return (df[col] - df[\"lpBound None\"]) / \\\n",
    "        (df['primalBound None'] - df[\"lpBound None\"]) "
   ],
   "metadata": {
    "collapsed": false,
    "ExecuteTime": {
     "end_time": "2023-10-25T20:39:08.322304Z",
     "start_time": "2023-10-25T20:39:08.317218Z"
    }
   },
   "id": "184a7a72592a8126"
  },
  {
   "cell_type": "code",
   "execution_count": 22,
   "outputs": [],
   "source": [
    "# find the optimality gap closed by each generator\n",
    "df[\"Disjunction (New)\"] = gap_closed(df, \"disjunctiveDualBound New\")\n",
    "df[\"Disjunction (Old)\"] = gap_closed(df, \"disjunctiveDualBound Old\")\n",
    "df[\"VPCs (New)\"] = gap_closed(df, \"lpBoundPostVpc New\")\n",
    "df[\"VPCs (Old)\"] = gap_closed(df, \"lpBoundPostVpc Old\")\n",
    "df[\"VPCs (Farkas)\"] = gap_closed(df, \"lpBoundPostVpc Farkas\")\n",
    "df[\"Root Cuts (None)\"] = gap_closed(df, \"rootDualBound None\")\n",
    "df[\"Root Cuts (New)\"] = gap_closed(df, \"rootDualBound New\")\n",
    "df[\"Root Cuts (Old)\"] = gap_closed(df, \"rootDualBound Old\")\n",
    "df[\"Root Cuts (Farkas)\"] = gap_closed(df, \"rootDualBound Farkas\")"
   ],
   "metadata": {
    "collapsed": false,
    "ExecuteTime": {
     "end_time": "2023-10-25T20:39:08.657459Z",
     "start_time": "2023-10-25T20:39:08.654932Z"
    }
   },
   "id": "2e64c92d6bbd14b9"
  },
  {
   "cell_type": "code",
   "execution_count": 23,
   "outputs": [],
   "source": [
    "# set aside core columns and filter for all subsequent dataframes\n",
    "group_cols = [\"instance\", \"perturbation\", \"degree\", \"terms\"]\n",
    "id_cols = [\"problem number\"]\n",
    "mask = (df[\"problem number\"] > 0) & (df[\"Disjunction (New)\"] < .9999)"
   ],
   "metadata": {
    "collapsed": false,
    "ExecuteTime": {
     "end_time": "2023-10-25T20:39:08.973363Z",
     "start_time": "2023-10-25T20:39:08.966385Z"
    }
   },
   "id": "aaf188cb8e62b573"
  },
  {
   "cell_type": "markdown",
   "source": [
    "## Make bound table"
   ],
   "metadata": {
    "collapsed": false
   },
   "id": "2f3bb4783d418904"
  },
  {
   "cell_type": "code",
   "execution_count": 24,
   "outputs": [
    {
     "data": {
      "text/plain": "    instance perturbation  degree  terms  problem number  Disjunction (New)  \\\n5       bm23          rhs       2     64               5           0.784825   \n12      bm23          rhs       2      8               1           0.136666   \n13      bm23          rhs       2      8               2           0.233139   \n14      bm23          rhs       2      8               3           0.163926   \n15      bm23          rhs       2      8               4           0.283649   \n..       ...          ...     ...    ...             ...                ...   \n377     bm23    objective       4     16               6           0.437880   \n378     bm23    objective       4     16               7           0.395430   \n379     bm23    objective       4     16               8           0.395430   \n380     bm23    objective       4     16               9           0.476621   \n381     bm23    objective       4     16              10           0.499094   \n\n     Disjunction (Old)  VPCs (New)  VPCs (Old)  VPCs (Farkas)  \\\n5             0.732415    0.757973    0.726031       0.000000   \n12            0.076904    0.130857    0.076904       0.076904   \n13            0.233139    0.231129    0.230013       0.182538   \n14            0.163926    0.163926    0.163926       0.163926   \n15            0.283649    0.282967    0.283649       0.192381   \n..                 ...         ...         ...            ...   \n377           0.354568    0.374561    0.299250       0.342344   \n378           0.395430    0.372075    0.380370       0.382570   \n379           0.395430    0.380581    0.395430       0.384407   \n380           0.420377    0.462353    0.417436       0.397631   \n381           0.411626    0.443662    0.411626       0.380722   \n\n     Root Cuts (None)  Root Cuts (New)  Root Cuts (Old)  Root Cuts (Farkas)  \n5            0.413128         0.758680         0.728494            0.413128  \n12           0.364447         0.364447         0.364447            0.364447  \n13           0.451858         0.451858         0.451858            0.451858  \n14           0.376273         0.376273         0.376273            0.376273  \n15           0.436065         0.436082         0.436078            0.436073  \n..                ...              ...              ...                 ...  \n377          0.312068         0.379756         0.313838            0.369199  \n378          0.348786         0.390846         0.396553            0.389163  \n379          0.356923         0.400758         0.405044            0.401618  \n380          0.379600         0.465689         0.439910            0.409087  \n381          0.321229         0.444401         0.416090            0.393979  \n\n[301 rows x 14 columns]",
      "text/html": "<div>\n<style scoped>\n    .dataframe tbody tr th:only-of-type {\n        vertical-align: middle;\n    }\n\n    .dataframe tbody tr th {\n        vertical-align: top;\n    }\n\n    .dataframe thead th {\n        text-align: right;\n    }\n</style>\n<table border=\"1\" class=\"dataframe\">\n  <thead>\n    <tr style=\"text-align: right;\">\n      <th></th>\n      <th>instance</th>\n      <th>perturbation</th>\n      <th>degree</th>\n      <th>terms</th>\n      <th>problem number</th>\n      <th>Disjunction (New)</th>\n      <th>Disjunction (Old)</th>\n      <th>VPCs (New)</th>\n      <th>VPCs (Old)</th>\n      <th>VPCs (Farkas)</th>\n      <th>Root Cuts (None)</th>\n      <th>Root Cuts (New)</th>\n      <th>Root Cuts (Old)</th>\n      <th>Root Cuts (Farkas)</th>\n    </tr>\n  </thead>\n  <tbody>\n    <tr>\n      <th>5</th>\n      <td>bm23</td>\n      <td>rhs</td>\n      <td>2</td>\n      <td>64</td>\n      <td>5</td>\n      <td>0.784825</td>\n      <td>0.732415</td>\n      <td>0.757973</td>\n      <td>0.726031</td>\n      <td>0.000000</td>\n      <td>0.413128</td>\n      <td>0.758680</td>\n      <td>0.728494</td>\n      <td>0.413128</td>\n    </tr>\n    <tr>\n      <th>12</th>\n      <td>bm23</td>\n      <td>rhs</td>\n      <td>2</td>\n      <td>8</td>\n      <td>1</td>\n      <td>0.136666</td>\n      <td>0.076904</td>\n      <td>0.130857</td>\n      <td>0.076904</td>\n      <td>0.076904</td>\n      <td>0.364447</td>\n      <td>0.364447</td>\n      <td>0.364447</td>\n      <td>0.364447</td>\n    </tr>\n    <tr>\n      <th>13</th>\n      <td>bm23</td>\n      <td>rhs</td>\n      <td>2</td>\n      <td>8</td>\n      <td>2</td>\n      <td>0.233139</td>\n      <td>0.233139</td>\n      <td>0.231129</td>\n      <td>0.230013</td>\n      <td>0.182538</td>\n      <td>0.451858</td>\n      <td>0.451858</td>\n      <td>0.451858</td>\n      <td>0.451858</td>\n    </tr>\n    <tr>\n      <th>14</th>\n      <td>bm23</td>\n      <td>rhs</td>\n      <td>2</td>\n      <td>8</td>\n      <td>3</td>\n      <td>0.163926</td>\n      <td>0.163926</td>\n      <td>0.163926</td>\n      <td>0.163926</td>\n      <td>0.163926</td>\n      <td>0.376273</td>\n      <td>0.376273</td>\n      <td>0.376273</td>\n      <td>0.376273</td>\n    </tr>\n    <tr>\n      <th>15</th>\n      <td>bm23</td>\n      <td>rhs</td>\n      <td>2</td>\n      <td>8</td>\n      <td>4</td>\n      <td>0.283649</td>\n      <td>0.283649</td>\n      <td>0.282967</td>\n      <td>0.283649</td>\n      <td>0.192381</td>\n      <td>0.436065</td>\n      <td>0.436082</td>\n      <td>0.436078</td>\n      <td>0.436073</td>\n    </tr>\n    <tr>\n      <th>...</th>\n      <td>...</td>\n      <td>...</td>\n      <td>...</td>\n      <td>...</td>\n      <td>...</td>\n      <td>...</td>\n      <td>...</td>\n      <td>...</td>\n      <td>...</td>\n      <td>...</td>\n      <td>...</td>\n      <td>...</td>\n      <td>...</td>\n      <td>...</td>\n    </tr>\n    <tr>\n      <th>377</th>\n      <td>bm23</td>\n      <td>objective</td>\n      <td>4</td>\n      <td>16</td>\n      <td>6</td>\n      <td>0.437880</td>\n      <td>0.354568</td>\n      <td>0.374561</td>\n      <td>0.299250</td>\n      <td>0.342344</td>\n      <td>0.312068</td>\n      <td>0.379756</td>\n      <td>0.313838</td>\n      <td>0.369199</td>\n    </tr>\n    <tr>\n      <th>378</th>\n      <td>bm23</td>\n      <td>objective</td>\n      <td>4</td>\n      <td>16</td>\n      <td>7</td>\n      <td>0.395430</td>\n      <td>0.395430</td>\n      <td>0.372075</td>\n      <td>0.380370</td>\n      <td>0.382570</td>\n      <td>0.348786</td>\n      <td>0.390846</td>\n      <td>0.396553</td>\n      <td>0.389163</td>\n    </tr>\n    <tr>\n      <th>379</th>\n      <td>bm23</td>\n      <td>objective</td>\n      <td>4</td>\n      <td>16</td>\n      <td>8</td>\n      <td>0.395430</td>\n      <td>0.395430</td>\n      <td>0.380581</td>\n      <td>0.395430</td>\n      <td>0.384407</td>\n      <td>0.356923</td>\n      <td>0.400758</td>\n      <td>0.405044</td>\n      <td>0.401618</td>\n    </tr>\n    <tr>\n      <th>380</th>\n      <td>bm23</td>\n      <td>objective</td>\n      <td>4</td>\n      <td>16</td>\n      <td>9</td>\n      <td>0.476621</td>\n      <td>0.420377</td>\n      <td>0.462353</td>\n      <td>0.417436</td>\n      <td>0.397631</td>\n      <td>0.379600</td>\n      <td>0.465689</td>\n      <td>0.439910</td>\n      <td>0.409087</td>\n    </tr>\n    <tr>\n      <th>381</th>\n      <td>bm23</td>\n      <td>objective</td>\n      <td>4</td>\n      <td>16</td>\n      <td>10</td>\n      <td>0.499094</td>\n      <td>0.411626</td>\n      <td>0.443662</td>\n      <td>0.411626</td>\n      <td>0.380722</td>\n      <td>0.321229</td>\n      <td>0.444401</td>\n      <td>0.416090</td>\n      <td>0.393979</td>\n    </tr>\n  </tbody>\n</table>\n<p>301 rows × 14 columns</p>\n</div>"
     },
     "execution_count": 24,
     "metadata": {},
     "output_type": "execute_result"
    }
   ],
   "source": [
    "# additional filtering for dataframe on bounds\n",
    "fields = [\"Disjunction (New)\", \"Disjunction (Old)\", \"VPCs (New)\", \"VPCs (Old)\",\n",
    "          \"VPCs (Farkas)\", \"Root Cuts (None)\", \"Root Cuts (New)\", \"Root Cuts (Old)\",\n",
    "          \"Root Cuts (Farkas)\"]\n",
    "bound_df = df.loc[mask, group_cols + id_cols + fields]\n",
    "bound_df"
   ],
   "metadata": {
    "collapsed": false,
    "ExecuteTime": {
     "end_time": "2023-10-25T20:39:09.596669Z",
     "start_time": "2023-10-25T20:39:09.583478Z"
    }
   },
   "id": "1446af429a86e44f"
  },
  {
   "cell_type": "code",
   "execution_count": 25,
   "outputs": [],
   "source": [
    "aggregations = {f: \"mean\" for f in fields}\n",
    "aggregations[\"instance\"] = \"nunique\"\n",
    "aggregations[\"problem number\"] = \"count\""
   ],
   "metadata": {
    "collapsed": false,
    "ExecuteTime": {
     "end_time": "2023-10-25T20:39:09.906611Z",
     "start_time": "2023-10-25T20:39:09.900856Z"
    }
   },
   "id": "2e2bbc44b009d720"
  },
  {
   "cell_type": "code",
   "execution_count": 26,
   "outputs": [
    {
     "data": {
      "text/plain": "              Disjunction (New)  Disjunction (Old)  VPCs (New)  VPCs (Old)  \\\ndegree terms                                                                 \n1      4               0.147852           0.156649    0.147852    0.156649   \n       8               0.194161           0.190213    0.193023    0.189511   \n       16              0.412469           0.418550    0.395202    0.396094   \n       32              0.593807           0.601539    0.581627    0.595258   \n       64              0.705942           0.716947    0.676154    0.699999   \n2      4               0.132532           0.148142    0.132532    0.148142   \n       8               0.189254           0.184161    0.187232    0.183085   \n       16              0.425689           0.405262    0.399896    0.389040   \n       32              0.576933           0.585052    0.563378    0.566762   \n       64              0.702768           0.717181    0.679852    0.701330   \n4      4               0.128295           0.140088    0.121995    0.135465   \n       8               0.201413           0.183462    0.191205    0.178176   \n       16              0.410834           0.417641    0.387653    0.399347   \n       32              0.587756           0.574388    0.569461    0.557336   \n       64              0.697144           0.645337    0.673576    0.631637   \n\n              VPCs (Farkas)  Root Cuts (None)  Root Cuts (New)  \\\ndegree terms                                                     \n1      4           0.146750          0.375367         0.375368   \n       8           0.172525          0.375367         0.375368   \n       16          0.371150          0.375367         0.419870   \n       32          0.520394          0.375367         0.583886   \n       64          0.625882          0.350652         0.678752   \n2      4           0.132386          0.393164         0.393166   \n       8           0.154641          0.393164         0.393169   \n       16          0.321545          0.393164         0.440117   \n       32          0.145424          0.377018         0.569217   \n       64          0.248074          0.377061         0.683401   \n4      4           0.107172          0.379682         0.379682   \n       8           0.125617          0.379682         0.379692   \n       16          0.260801          0.379682         0.425656   \n       32          0.327513          0.368366         0.572924   \n       64          0.324421          0.347143         0.675350   \n\n              Root Cuts (Old)  Root Cuts (Farkas)  instance  problem number  \ndegree terms                                                                 \n1      4             0.375368            0.375641         1              20  \n       8             0.375368            0.375641         1              20  \n       16            0.418322            0.401795         1              20  \n       32            0.600594            0.549012         1              20  \n       64            0.701570            0.630080         1              15  \n2      4             0.393165            0.392988         1              20  \n       8             0.393169            0.392987         1              20  \n       16            0.430298            0.400688         1              20  \n       32            0.579137            0.398811         1              11  \n       64            0.701854            0.416500         1               5  \n4      4             0.379683            0.379669         1              30  \n       8             0.379683            0.379669         1              30  \n       16            0.430429            0.395827         1              30  \n       32            0.563483            0.466667         1              24  \n       64            0.634034            0.494900         1              16  ",
      "text/html": "<div>\n<style scoped>\n    .dataframe tbody tr th:only-of-type {\n        vertical-align: middle;\n    }\n\n    .dataframe tbody tr th {\n        vertical-align: top;\n    }\n\n    .dataframe thead th {\n        text-align: right;\n    }\n</style>\n<table border=\"1\" class=\"dataframe\">\n  <thead>\n    <tr style=\"text-align: right;\">\n      <th></th>\n      <th></th>\n      <th>Disjunction (New)</th>\n      <th>Disjunction (Old)</th>\n      <th>VPCs (New)</th>\n      <th>VPCs (Old)</th>\n      <th>VPCs (Farkas)</th>\n      <th>Root Cuts (None)</th>\n      <th>Root Cuts (New)</th>\n      <th>Root Cuts (Old)</th>\n      <th>Root Cuts (Farkas)</th>\n      <th>instance</th>\n      <th>problem number</th>\n    </tr>\n    <tr>\n      <th>degree</th>\n      <th>terms</th>\n      <th></th>\n      <th></th>\n      <th></th>\n      <th></th>\n      <th></th>\n      <th></th>\n      <th></th>\n      <th></th>\n      <th></th>\n      <th></th>\n      <th></th>\n    </tr>\n  </thead>\n  <tbody>\n    <tr>\n      <th rowspan=\"5\" valign=\"top\">1</th>\n      <th>4</th>\n      <td>0.147852</td>\n      <td>0.156649</td>\n      <td>0.147852</td>\n      <td>0.156649</td>\n      <td>0.146750</td>\n      <td>0.375367</td>\n      <td>0.375368</td>\n      <td>0.375368</td>\n      <td>0.375641</td>\n      <td>1</td>\n      <td>20</td>\n    </tr>\n    <tr>\n      <th>8</th>\n      <td>0.194161</td>\n      <td>0.190213</td>\n      <td>0.193023</td>\n      <td>0.189511</td>\n      <td>0.172525</td>\n      <td>0.375367</td>\n      <td>0.375368</td>\n      <td>0.375368</td>\n      <td>0.375641</td>\n      <td>1</td>\n      <td>20</td>\n    </tr>\n    <tr>\n      <th>16</th>\n      <td>0.412469</td>\n      <td>0.418550</td>\n      <td>0.395202</td>\n      <td>0.396094</td>\n      <td>0.371150</td>\n      <td>0.375367</td>\n      <td>0.419870</td>\n      <td>0.418322</td>\n      <td>0.401795</td>\n      <td>1</td>\n      <td>20</td>\n    </tr>\n    <tr>\n      <th>32</th>\n      <td>0.593807</td>\n      <td>0.601539</td>\n      <td>0.581627</td>\n      <td>0.595258</td>\n      <td>0.520394</td>\n      <td>0.375367</td>\n      <td>0.583886</td>\n      <td>0.600594</td>\n      <td>0.549012</td>\n      <td>1</td>\n      <td>20</td>\n    </tr>\n    <tr>\n      <th>64</th>\n      <td>0.705942</td>\n      <td>0.716947</td>\n      <td>0.676154</td>\n      <td>0.699999</td>\n      <td>0.625882</td>\n      <td>0.350652</td>\n      <td>0.678752</td>\n      <td>0.701570</td>\n      <td>0.630080</td>\n      <td>1</td>\n      <td>15</td>\n    </tr>\n    <tr>\n      <th rowspan=\"5\" valign=\"top\">2</th>\n      <th>4</th>\n      <td>0.132532</td>\n      <td>0.148142</td>\n      <td>0.132532</td>\n      <td>0.148142</td>\n      <td>0.132386</td>\n      <td>0.393164</td>\n      <td>0.393166</td>\n      <td>0.393165</td>\n      <td>0.392988</td>\n      <td>1</td>\n      <td>20</td>\n    </tr>\n    <tr>\n      <th>8</th>\n      <td>0.189254</td>\n      <td>0.184161</td>\n      <td>0.187232</td>\n      <td>0.183085</td>\n      <td>0.154641</td>\n      <td>0.393164</td>\n      <td>0.393169</td>\n      <td>0.393169</td>\n      <td>0.392987</td>\n      <td>1</td>\n      <td>20</td>\n    </tr>\n    <tr>\n      <th>16</th>\n      <td>0.425689</td>\n      <td>0.405262</td>\n      <td>0.399896</td>\n      <td>0.389040</td>\n      <td>0.321545</td>\n      <td>0.393164</td>\n      <td>0.440117</td>\n      <td>0.430298</td>\n      <td>0.400688</td>\n      <td>1</td>\n      <td>20</td>\n    </tr>\n    <tr>\n      <th>32</th>\n      <td>0.576933</td>\n      <td>0.585052</td>\n      <td>0.563378</td>\n      <td>0.566762</td>\n      <td>0.145424</td>\n      <td>0.377018</td>\n      <td>0.569217</td>\n      <td>0.579137</td>\n      <td>0.398811</td>\n      <td>1</td>\n      <td>11</td>\n    </tr>\n    <tr>\n      <th>64</th>\n      <td>0.702768</td>\n      <td>0.717181</td>\n      <td>0.679852</td>\n      <td>0.701330</td>\n      <td>0.248074</td>\n      <td>0.377061</td>\n      <td>0.683401</td>\n      <td>0.701854</td>\n      <td>0.416500</td>\n      <td>1</td>\n      <td>5</td>\n    </tr>\n    <tr>\n      <th rowspan=\"5\" valign=\"top\">4</th>\n      <th>4</th>\n      <td>0.128295</td>\n      <td>0.140088</td>\n      <td>0.121995</td>\n      <td>0.135465</td>\n      <td>0.107172</td>\n      <td>0.379682</td>\n      <td>0.379682</td>\n      <td>0.379683</td>\n      <td>0.379669</td>\n      <td>1</td>\n      <td>30</td>\n    </tr>\n    <tr>\n      <th>8</th>\n      <td>0.201413</td>\n      <td>0.183462</td>\n      <td>0.191205</td>\n      <td>0.178176</td>\n      <td>0.125617</td>\n      <td>0.379682</td>\n      <td>0.379692</td>\n      <td>0.379683</td>\n      <td>0.379669</td>\n      <td>1</td>\n      <td>30</td>\n    </tr>\n    <tr>\n      <th>16</th>\n      <td>0.410834</td>\n      <td>0.417641</td>\n      <td>0.387653</td>\n      <td>0.399347</td>\n      <td>0.260801</td>\n      <td>0.379682</td>\n      <td>0.425656</td>\n      <td>0.430429</td>\n      <td>0.395827</td>\n      <td>1</td>\n      <td>30</td>\n    </tr>\n    <tr>\n      <th>32</th>\n      <td>0.587756</td>\n      <td>0.574388</td>\n      <td>0.569461</td>\n      <td>0.557336</td>\n      <td>0.327513</td>\n      <td>0.368366</td>\n      <td>0.572924</td>\n      <td>0.563483</td>\n      <td>0.466667</td>\n      <td>1</td>\n      <td>24</td>\n    </tr>\n    <tr>\n      <th>64</th>\n      <td>0.697144</td>\n      <td>0.645337</td>\n      <td>0.673576</td>\n      <td>0.631637</td>\n      <td>0.324421</td>\n      <td>0.347143</td>\n      <td>0.675350</td>\n      <td>0.634034</td>\n      <td>0.494900</td>\n      <td>1</td>\n      <td>16</td>\n    </tr>\n  </tbody>\n</table>\n</div>"
     },
     "execution_count": 26,
     "metadata": {},
     "output_type": "execute_result"
    }
   ],
   "source": [
    "# get gap closed by degree and term\n",
    "bound_df.groupby([\"degree\", \"terms\"]).agg(aggregations)"
   ],
   "metadata": {
    "collapsed": false,
    "ExecuteTime": {
     "end_time": "2023-10-25T20:39:10.361524Z",
     "start_time": "2023-10-25T20:39:10.348116Z"
    }
   },
   "id": "588a0ef9d23dad30"
  },
  {
   "cell_type": "code",
   "execution_count": 27,
   "outputs": [
    {
     "data": {
      "text/plain": "                           Disjunction (New)  Disjunction (Old)  VPCs (New)  \\\ndegree terms perturbation                                                     \n1      4     matrix                 0.142168           0.150770    0.142168   \n             rhs                    0.153537           0.162528    0.153537   \n       8     matrix                 0.185304           0.181475    0.184879   \n             rhs                    0.203018           0.198952    0.201168   \n       16    matrix                 0.419783           0.406027    0.400019   \n             rhs                    0.405154           0.431074    0.390385   \n       32    matrix                 0.584615           0.581523    0.575790   \n             rhs                    0.602998           0.621555    0.587463   \n       64    matrix                 0.700192           0.714200    0.669112   \n             rhs                    0.714568           0.721066    0.686717   \n2      4     matrix                 0.134363           0.145849    0.134363   \n             rhs                    0.130701           0.150435    0.130701   \n       8     matrix                 0.182964           0.180907    0.182562   \n             rhs                    0.195544           0.187415    0.191902   \n       16    matrix                 0.444094           0.401658    0.411937   \n             rhs                    0.407285           0.408866    0.387856   \n       32    matrix                 0.592707           0.594560    0.579099   \n             rhs                    0.419190           0.489968    0.406164   \n       64    matrix                 0.682254           0.713373    0.660322   \n             rhs                    0.784825           0.732415    0.757973   \n4      4     matrix                 0.139393           0.151215    0.137208   \n             objective              0.124318           0.135267    0.123691   \n             rhs                    0.121174           0.133781    0.105085   \n       8     matrix                 0.208014           0.183451    0.202791   \n             objective              0.179792           0.169721    0.177967   \n             rhs                    0.216435           0.197213    0.192858   \n       16    matrix                 0.450489           0.474095    0.420520   \n             objective              0.406395           0.392411    0.384628   \n             rhs                    0.375617           0.386419    0.357811   \n       32    matrix                 0.600723           0.582691    0.573395   \n             objective              0.567896           0.572783    0.550843   \n             rhs                    0.603565           0.565994    0.595247   \n       64    matrix                 0.706210           0.615028    0.673700   \n             objective              0.702128           0.707687    0.681692   \n             rhs                    0.667382           0.560470    0.654393   \n\n                           VPCs (Old)  VPCs (Farkas)  Root Cuts (None)  \\\ndegree terms perturbation                                                \n1      4     matrix          0.150770       0.143268          0.357151   \n             rhs             0.162528       0.150232          0.393583   \n       8     matrix          0.180492       0.172660          0.357151   \n             rhs             0.198529       0.172390          0.393583   \n       16    matrix          0.383112       0.357702          0.357151   \n             rhs             0.409077       0.384599          0.393583   \n       32    matrix          0.577796       0.520822          0.357151   \n             rhs             0.612720       0.519965          0.393583   \n       64    matrix          0.698008       0.585405          0.344333   \n             rhs             0.702986       0.686597          0.360131   \n2      4     matrix          0.145849       0.130199          0.378275   \n             rhs             0.150435       0.134573          0.408053   \n       8     matrix          0.180362       0.151138          0.378275   \n             rhs             0.185807       0.158145          0.408053   \n       16    matrix          0.387943       0.285531          0.378275   \n             rhs             0.390138       0.357559          0.408053   \n       32    matrix          0.576461       0.159966          0.378275   \n             rhs             0.469768       0.000000          0.364447   \n       64    matrix          0.695155       0.310092          0.368045   \n             rhs             0.726031       0.000000          0.413128   \n4      4     matrix          0.144150       0.094400          0.408709   \n             objective       0.135267       0.134896          0.340242   \n             rhs             0.126980       0.092220          0.390097   \n       8     matrix          0.182233       0.104732          0.408709   \n             objective       0.168588       0.168277          0.340242   \n             rhs             0.183707       0.103842          0.390097   \n       16    matrix          0.456077       0.146778          0.408709   \n             objective       0.378805       0.370379          0.340242   \n             rhs             0.363158       0.265248          0.390097   \n       32    matrix          0.560235       0.159445          0.391448   \n             objective       0.566532       0.564905          0.340242   \n             rhs             0.538143       0.155950          0.384463   \n       64    matrix          0.601353       0.052640          0.373876   \n             objective       0.693882       0.665857          0.329478   \n             rhs             0.546969       0.071301          0.334896   \n\n                           Root Cuts (New)  Root Cuts (Old)  \\\ndegree terms perturbation                                     \n1      4     matrix               0.357153         0.357153   \n             rhs                  0.393584         0.393584   \n       8     matrix               0.357153         0.357153   \n             rhs                  0.393583         0.393583   \n       16    matrix               0.409638         0.401570   \n             rhs                  0.430102         0.435074   \n       32    matrix               0.576506         0.580279   \n             rhs                  0.591266         0.620908   \n       64    matrix               0.672114         0.700506   \n             rhs                  0.688709         0.703167   \n2      4     matrix               0.378278         0.378278   \n             rhs                  0.408053         0.408053   \n       8     matrix               0.378283         0.378283   \n             rhs                  0.408055         0.408055   \n       16    matrix               0.435817         0.411853   \n             rhs                  0.444416         0.448744   \n       32    matrix               0.585258         0.589933   \n             rhs                  0.408811         0.471174   \n       64    matrix               0.664581         0.695194   \n             rhs                  0.758680         0.728494   \n4      4     matrix               0.408709         0.408709   \n             objective            0.340242         0.340242   \n             rhs                  0.390097         0.390097   \n       8     matrix               0.408709         0.408709   \n             objective            0.340242         0.340242   \n             rhs                  0.390126         0.390097   \n       16    matrix               0.453842         0.474164   \n             objective            0.401705         0.391843   \n             rhs                  0.421422         0.425279   \n       32    matrix               0.581270         0.568797   \n             objective            0.551421         0.567477   \n             rhs                  0.597635         0.549739   \n       64    matrix               0.677438         0.605588   \n             objective            0.682068         0.694575   \n             rhs                  0.655497         0.549664   \n\n                           Root Cuts (Farkas)  instance  problem number  \ndegree terms perturbation                                                \n1      4     matrix                  0.357153         1              10  \n             rhs                     0.394129         1              10  \n       8     matrix                  0.357152         1              10  \n             rhs                     0.394129         1              10  \n       16    matrix                  0.383255         1              10  \n             rhs                     0.420335         1              10  \n       32    matrix                  0.525001         1              10  \n             rhs                     0.573023         1              10  \n       64    matrix                  0.589819         1               9  \n             rhs                     0.690472         1               6  \n2      4     matrix                  0.378258         1              10  \n             rhs                     0.407719         1              10  \n       8     matrix                  0.378255         1              10  \n             rhs                     0.407720         1              10  \n       16    matrix                  0.380882         1              10  \n             rhs                     0.420494         1              10  \n       32    matrix                  0.402247         1              10  \n             rhs                     0.364447         1               1  \n       64    matrix                  0.417343         1               4  \n             rhs                     0.413128         1               1  \n4      4     matrix                  0.408693         1              10  \n             objective               0.340242         1              10  \n             rhs                     0.390072         1              10  \n       8     matrix                  0.408693         1              10  \n             objective               0.340242         1              10  \n             rhs                     0.390072         1              10  \n       16    matrix                  0.408694         1              10  \n             objective               0.384695         1              10  \n             rhs                     0.394091         1              10  \n       32    matrix                  0.391464         1               8  \n             objective               0.567032         1              10  \n             rhs                     0.399663         1               6  \n       64    matrix                  0.373850         1               6  \n             objective               0.667230         1               7  \n             rhs                     0.334896         1               3  ",
      "text/html": "<div>\n<style scoped>\n    .dataframe tbody tr th:only-of-type {\n        vertical-align: middle;\n    }\n\n    .dataframe tbody tr th {\n        vertical-align: top;\n    }\n\n    .dataframe thead th {\n        text-align: right;\n    }\n</style>\n<table border=\"1\" class=\"dataframe\">\n  <thead>\n    <tr style=\"text-align: right;\">\n      <th></th>\n      <th></th>\n      <th></th>\n      <th>Disjunction (New)</th>\n      <th>Disjunction (Old)</th>\n      <th>VPCs (New)</th>\n      <th>VPCs (Old)</th>\n      <th>VPCs (Farkas)</th>\n      <th>Root Cuts (None)</th>\n      <th>Root Cuts (New)</th>\n      <th>Root Cuts (Old)</th>\n      <th>Root Cuts (Farkas)</th>\n      <th>instance</th>\n      <th>problem number</th>\n    </tr>\n    <tr>\n      <th>degree</th>\n      <th>terms</th>\n      <th>perturbation</th>\n      <th></th>\n      <th></th>\n      <th></th>\n      <th></th>\n      <th></th>\n      <th></th>\n      <th></th>\n      <th></th>\n      <th></th>\n      <th></th>\n      <th></th>\n    </tr>\n  </thead>\n  <tbody>\n    <tr>\n      <th rowspan=\"10\" valign=\"top\">1</th>\n      <th rowspan=\"2\" valign=\"top\">4</th>\n      <th>matrix</th>\n      <td>0.142168</td>\n      <td>0.150770</td>\n      <td>0.142168</td>\n      <td>0.150770</td>\n      <td>0.143268</td>\n      <td>0.357151</td>\n      <td>0.357153</td>\n      <td>0.357153</td>\n      <td>0.357153</td>\n      <td>1</td>\n      <td>10</td>\n    </tr>\n    <tr>\n      <th>rhs</th>\n      <td>0.153537</td>\n      <td>0.162528</td>\n      <td>0.153537</td>\n      <td>0.162528</td>\n      <td>0.150232</td>\n      <td>0.393583</td>\n      <td>0.393584</td>\n      <td>0.393584</td>\n      <td>0.394129</td>\n      <td>1</td>\n      <td>10</td>\n    </tr>\n    <tr>\n      <th rowspan=\"2\" valign=\"top\">8</th>\n      <th>matrix</th>\n      <td>0.185304</td>\n      <td>0.181475</td>\n      <td>0.184879</td>\n      <td>0.180492</td>\n      <td>0.172660</td>\n      <td>0.357151</td>\n      <td>0.357153</td>\n      <td>0.357153</td>\n      <td>0.357152</td>\n      <td>1</td>\n      <td>10</td>\n    </tr>\n    <tr>\n      <th>rhs</th>\n      <td>0.203018</td>\n      <td>0.198952</td>\n      <td>0.201168</td>\n      <td>0.198529</td>\n      <td>0.172390</td>\n      <td>0.393583</td>\n      <td>0.393583</td>\n      <td>0.393583</td>\n      <td>0.394129</td>\n      <td>1</td>\n      <td>10</td>\n    </tr>\n    <tr>\n      <th rowspan=\"2\" valign=\"top\">16</th>\n      <th>matrix</th>\n      <td>0.419783</td>\n      <td>0.406027</td>\n      <td>0.400019</td>\n      <td>0.383112</td>\n      <td>0.357702</td>\n      <td>0.357151</td>\n      <td>0.409638</td>\n      <td>0.401570</td>\n      <td>0.383255</td>\n      <td>1</td>\n      <td>10</td>\n    </tr>\n    <tr>\n      <th>rhs</th>\n      <td>0.405154</td>\n      <td>0.431074</td>\n      <td>0.390385</td>\n      <td>0.409077</td>\n      <td>0.384599</td>\n      <td>0.393583</td>\n      <td>0.430102</td>\n      <td>0.435074</td>\n      <td>0.420335</td>\n      <td>1</td>\n      <td>10</td>\n    </tr>\n    <tr>\n      <th rowspan=\"2\" valign=\"top\">32</th>\n      <th>matrix</th>\n      <td>0.584615</td>\n      <td>0.581523</td>\n      <td>0.575790</td>\n      <td>0.577796</td>\n      <td>0.520822</td>\n      <td>0.357151</td>\n      <td>0.576506</td>\n      <td>0.580279</td>\n      <td>0.525001</td>\n      <td>1</td>\n      <td>10</td>\n    </tr>\n    <tr>\n      <th>rhs</th>\n      <td>0.602998</td>\n      <td>0.621555</td>\n      <td>0.587463</td>\n      <td>0.612720</td>\n      <td>0.519965</td>\n      <td>0.393583</td>\n      <td>0.591266</td>\n      <td>0.620908</td>\n      <td>0.573023</td>\n      <td>1</td>\n      <td>10</td>\n    </tr>\n    <tr>\n      <th rowspan=\"2\" valign=\"top\">64</th>\n      <th>matrix</th>\n      <td>0.700192</td>\n      <td>0.714200</td>\n      <td>0.669112</td>\n      <td>0.698008</td>\n      <td>0.585405</td>\n      <td>0.344333</td>\n      <td>0.672114</td>\n      <td>0.700506</td>\n      <td>0.589819</td>\n      <td>1</td>\n      <td>9</td>\n    </tr>\n    <tr>\n      <th>rhs</th>\n      <td>0.714568</td>\n      <td>0.721066</td>\n      <td>0.686717</td>\n      <td>0.702986</td>\n      <td>0.686597</td>\n      <td>0.360131</td>\n      <td>0.688709</td>\n      <td>0.703167</td>\n      <td>0.690472</td>\n      <td>1</td>\n      <td>6</td>\n    </tr>\n    <tr>\n      <th rowspan=\"10\" valign=\"top\">2</th>\n      <th rowspan=\"2\" valign=\"top\">4</th>\n      <th>matrix</th>\n      <td>0.134363</td>\n      <td>0.145849</td>\n      <td>0.134363</td>\n      <td>0.145849</td>\n      <td>0.130199</td>\n      <td>0.378275</td>\n      <td>0.378278</td>\n      <td>0.378278</td>\n      <td>0.378258</td>\n      <td>1</td>\n      <td>10</td>\n    </tr>\n    <tr>\n      <th>rhs</th>\n      <td>0.130701</td>\n      <td>0.150435</td>\n      <td>0.130701</td>\n      <td>0.150435</td>\n      <td>0.134573</td>\n      <td>0.408053</td>\n      <td>0.408053</td>\n      <td>0.408053</td>\n      <td>0.407719</td>\n      <td>1</td>\n      <td>10</td>\n    </tr>\n    <tr>\n      <th rowspan=\"2\" valign=\"top\">8</th>\n      <th>matrix</th>\n      <td>0.182964</td>\n      <td>0.180907</td>\n      <td>0.182562</td>\n      <td>0.180362</td>\n      <td>0.151138</td>\n      <td>0.378275</td>\n      <td>0.378283</td>\n      <td>0.378283</td>\n      <td>0.378255</td>\n      <td>1</td>\n      <td>10</td>\n    </tr>\n    <tr>\n      <th>rhs</th>\n      <td>0.195544</td>\n      <td>0.187415</td>\n      <td>0.191902</td>\n      <td>0.185807</td>\n      <td>0.158145</td>\n      <td>0.408053</td>\n      <td>0.408055</td>\n      <td>0.408055</td>\n      <td>0.407720</td>\n      <td>1</td>\n      <td>10</td>\n    </tr>\n    <tr>\n      <th rowspan=\"2\" valign=\"top\">16</th>\n      <th>matrix</th>\n      <td>0.444094</td>\n      <td>0.401658</td>\n      <td>0.411937</td>\n      <td>0.387943</td>\n      <td>0.285531</td>\n      <td>0.378275</td>\n      <td>0.435817</td>\n      <td>0.411853</td>\n      <td>0.380882</td>\n      <td>1</td>\n      <td>10</td>\n    </tr>\n    <tr>\n      <th>rhs</th>\n      <td>0.407285</td>\n      <td>0.408866</td>\n      <td>0.387856</td>\n      <td>0.390138</td>\n      <td>0.357559</td>\n      <td>0.408053</td>\n      <td>0.444416</td>\n      <td>0.448744</td>\n      <td>0.420494</td>\n      <td>1</td>\n      <td>10</td>\n    </tr>\n    <tr>\n      <th rowspan=\"2\" valign=\"top\">32</th>\n      <th>matrix</th>\n      <td>0.592707</td>\n      <td>0.594560</td>\n      <td>0.579099</td>\n      <td>0.576461</td>\n      <td>0.159966</td>\n      <td>0.378275</td>\n      <td>0.585258</td>\n      <td>0.589933</td>\n      <td>0.402247</td>\n      <td>1</td>\n      <td>10</td>\n    </tr>\n    <tr>\n      <th>rhs</th>\n      <td>0.419190</td>\n      <td>0.489968</td>\n      <td>0.406164</td>\n      <td>0.469768</td>\n      <td>0.000000</td>\n      <td>0.364447</td>\n      <td>0.408811</td>\n      <td>0.471174</td>\n      <td>0.364447</td>\n      <td>1</td>\n      <td>1</td>\n    </tr>\n    <tr>\n      <th rowspan=\"2\" valign=\"top\">64</th>\n      <th>matrix</th>\n      <td>0.682254</td>\n      <td>0.713373</td>\n      <td>0.660322</td>\n      <td>0.695155</td>\n      <td>0.310092</td>\n      <td>0.368045</td>\n      <td>0.664581</td>\n      <td>0.695194</td>\n      <td>0.417343</td>\n      <td>1</td>\n      <td>4</td>\n    </tr>\n    <tr>\n      <th>rhs</th>\n      <td>0.784825</td>\n      <td>0.732415</td>\n      <td>0.757973</td>\n      <td>0.726031</td>\n      <td>0.000000</td>\n      <td>0.413128</td>\n      <td>0.758680</td>\n      <td>0.728494</td>\n      <td>0.413128</td>\n      <td>1</td>\n      <td>1</td>\n    </tr>\n    <tr>\n      <th rowspan=\"15\" valign=\"top\">4</th>\n      <th rowspan=\"3\" valign=\"top\">4</th>\n      <th>matrix</th>\n      <td>0.139393</td>\n      <td>0.151215</td>\n      <td>0.137208</td>\n      <td>0.144150</td>\n      <td>0.094400</td>\n      <td>0.408709</td>\n      <td>0.408709</td>\n      <td>0.408709</td>\n      <td>0.408693</td>\n      <td>1</td>\n      <td>10</td>\n    </tr>\n    <tr>\n      <th>objective</th>\n      <td>0.124318</td>\n      <td>0.135267</td>\n      <td>0.123691</td>\n      <td>0.135267</td>\n      <td>0.134896</td>\n      <td>0.340242</td>\n      <td>0.340242</td>\n      <td>0.340242</td>\n      <td>0.340242</td>\n      <td>1</td>\n      <td>10</td>\n    </tr>\n    <tr>\n      <th>rhs</th>\n      <td>0.121174</td>\n      <td>0.133781</td>\n      <td>0.105085</td>\n      <td>0.126980</td>\n      <td>0.092220</td>\n      <td>0.390097</td>\n      <td>0.390097</td>\n      <td>0.390097</td>\n      <td>0.390072</td>\n      <td>1</td>\n      <td>10</td>\n    </tr>\n    <tr>\n      <th rowspan=\"3\" valign=\"top\">8</th>\n      <th>matrix</th>\n      <td>0.208014</td>\n      <td>0.183451</td>\n      <td>0.202791</td>\n      <td>0.182233</td>\n      <td>0.104732</td>\n      <td>0.408709</td>\n      <td>0.408709</td>\n      <td>0.408709</td>\n      <td>0.408693</td>\n      <td>1</td>\n      <td>10</td>\n    </tr>\n    <tr>\n      <th>objective</th>\n      <td>0.179792</td>\n      <td>0.169721</td>\n      <td>0.177967</td>\n      <td>0.168588</td>\n      <td>0.168277</td>\n      <td>0.340242</td>\n      <td>0.340242</td>\n      <td>0.340242</td>\n      <td>0.340242</td>\n      <td>1</td>\n      <td>10</td>\n    </tr>\n    <tr>\n      <th>rhs</th>\n      <td>0.216435</td>\n      <td>0.197213</td>\n      <td>0.192858</td>\n      <td>0.183707</td>\n      <td>0.103842</td>\n      <td>0.390097</td>\n      <td>0.390126</td>\n      <td>0.390097</td>\n      <td>0.390072</td>\n      <td>1</td>\n      <td>10</td>\n    </tr>\n    <tr>\n      <th rowspan=\"3\" valign=\"top\">16</th>\n      <th>matrix</th>\n      <td>0.450489</td>\n      <td>0.474095</td>\n      <td>0.420520</td>\n      <td>0.456077</td>\n      <td>0.146778</td>\n      <td>0.408709</td>\n      <td>0.453842</td>\n      <td>0.474164</td>\n      <td>0.408694</td>\n      <td>1</td>\n      <td>10</td>\n    </tr>\n    <tr>\n      <th>objective</th>\n      <td>0.406395</td>\n      <td>0.392411</td>\n      <td>0.384628</td>\n      <td>0.378805</td>\n      <td>0.370379</td>\n      <td>0.340242</td>\n      <td>0.401705</td>\n      <td>0.391843</td>\n      <td>0.384695</td>\n      <td>1</td>\n      <td>10</td>\n    </tr>\n    <tr>\n      <th>rhs</th>\n      <td>0.375617</td>\n      <td>0.386419</td>\n      <td>0.357811</td>\n      <td>0.363158</td>\n      <td>0.265248</td>\n      <td>0.390097</td>\n      <td>0.421422</td>\n      <td>0.425279</td>\n      <td>0.394091</td>\n      <td>1</td>\n      <td>10</td>\n    </tr>\n    <tr>\n      <th rowspan=\"3\" valign=\"top\">32</th>\n      <th>matrix</th>\n      <td>0.600723</td>\n      <td>0.582691</td>\n      <td>0.573395</td>\n      <td>0.560235</td>\n      <td>0.159445</td>\n      <td>0.391448</td>\n      <td>0.581270</td>\n      <td>0.568797</td>\n      <td>0.391464</td>\n      <td>1</td>\n      <td>8</td>\n    </tr>\n    <tr>\n      <th>objective</th>\n      <td>0.567896</td>\n      <td>0.572783</td>\n      <td>0.550843</td>\n      <td>0.566532</td>\n      <td>0.564905</td>\n      <td>0.340242</td>\n      <td>0.551421</td>\n      <td>0.567477</td>\n      <td>0.567032</td>\n      <td>1</td>\n      <td>10</td>\n    </tr>\n    <tr>\n      <th>rhs</th>\n      <td>0.603565</td>\n      <td>0.565994</td>\n      <td>0.595247</td>\n      <td>0.538143</td>\n      <td>0.155950</td>\n      <td>0.384463</td>\n      <td>0.597635</td>\n      <td>0.549739</td>\n      <td>0.399663</td>\n      <td>1</td>\n      <td>6</td>\n    </tr>\n    <tr>\n      <th rowspan=\"3\" valign=\"top\">64</th>\n      <th>matrix</th>\n      <td>0.706210</td>\n      <td>0.615028</td>\n      <td>0.673700</td>\n      <td>0.601353</td>\n      <td>0.052640</td>\n      <td>0.373876</td>\n      <td>0.677438</td>\n      <td>0.605588</td>\n      <td>0.373850</td>\n      <td>1</td>\n      <td>6</td>\n    </tr>\n    <tr>\n      <th>objective</th>\n      <td>0.702128</td>\n      <td>0.707687</td>\n      <td>0.681692</td>\n      <td>0.693882</td>\n      <td>0.665857</td>\n      <td>0.329478</td>\n      <td>0.682068</td>\n      <td>0.694575</td>\n      <td>0.667230</td>\n      <td>1</td>\n      <td>7</td>\n    </tr>\n    <tr>\n      <th>rhs</th>\n      <td>0.667382</td>\n      <td>0.560470</td>\n      <td>0.654393</td>\n      <td>0.546969</td>\n      <td>0.071301</td>\n      <td>0.334896</td>\n      <td>0.655497</td>\n      <td>0.549664</td>\n      <td>0.334896</td>\n      <td>1</td>\n      <td>3</td>\n    </tr>\n  </tbody>\n</table>\n</div>"
     },
     "execution_count": 27,
     "metadata": {},
     "output_type": "execute_result"
    }
   ],
   "source": [
    "# now break it down by type of perturbation\n",
    "bound_df.groupby([\"degree\", \"terms\", \"perturbation\"]).agg(aggregations)"
   ],
   "metadata": {
    "collapsed": false,
    "ExecuteTime": {
     "end_time": "2023-10-25T20:39:11.602021Z",
     "start_time": "2023-10-25T20:39:11.579562Z"
    }
   },
   "id": "7c7dd20910d976da"
  },
  {
   "cell_type": "markdown",
   "source": [
    "## Make time table"
   ],
   "metadata": {
    "collapsed": false
   },
   "id": "e6c4f54822872bf8"
  },
  {
   "cell_type": "code",
   "execution_count": 28,
   "outputs": [],
   "source": [
    "def optimality_gap(df, generator):\n",
    "    return abs(df[f\"primalBound {generator}\"] - df[f\"dualBound {generator}\"]) / \\\n",
    "        (df[f\"primalBound {generator}\"])"
   ],
   "metadata": {
    "collapsed": false,
    "ExecuteTime": {
     "end_time": "2023-10-25T20:39:14.200098Z",
     "start_time": "2023-10-25T20:39:14.190470Z"
    }
   },
   "id": "d9ba97a511b83fa7"
  },
  {
   "cell_type": "code",
   "execution_count": 30,
   "outputs": [
    {
     "data": {
      "text/plain": "              terminationTime New Disjunction  \\\ndegree terms                                    \n1      4                             0.082149   \n       8                             0.088896   \n       16                            0.118614   \n       32                            0.142742   \n       64                            0.236724   \n2      4                             0.081829   \n       8                             0.090376   \n       16                            0.109113   \n       32                            0.152466   \n       64                            0.245091   \n4      4                             0.077295   \n       8                             0.085147   \n       16                            0.107091   \n       32                            0.143661   \n       64                            0.228488   \n\n              terminationTime Old Disjunction  terminationTime Farkas  \\\ndegree terms                                                            \n1      4                             0.075293                0.074579   \n       8                             0.082664                0.075433   \n       16                            0.090929                0.081727   \n       32                            0.099873                0.084515   \n       64                            0.145734                0.105850   \n2      4                             0.074570                0.074114   \n       8                             0.083643                0.077157   \n       16                            0.090833                0.081053   \n       32                            0.106473                0.086641   \n       64                            0.153824                0.101180   \n4      4                             0.070546                0.069129   \n       8                             0.076562                0.072576   \n       16                            0.082199                0.074600   \n       32                            0.101781                0.080990   \n       64                            0.131550                0.094016   \n\n              terminationTime None  vpcGenerationTime New Disjunction  \\\ndegree terms                                                            \n1      4                  0.072781                           0.007855   \n       8                  0.073828                           0.014594   \n       16                 0.073419                           0.031845   \n       32                 0.072333                           0.060969   \n       64                 0.080187                           0.135473   \n2      4                  0.072896                           0.007992   \n       8                  0.072472                           0.015194   \n       16                 0.072974                           0.030087   \n       32                 0.076568                           0.063180   \n       64                 0.084765                           0.141347   \n4      4                  0.068587                           0.008114   \n       8                  0.068313                           0.014615   \n       16                 0.068519                           0.031693   \n       32                 0.074481                           0.062364   \n       64                 0.075102                           0.134850   \n\n              vpcGenerationTime Old Disjunction  vpcGenerationTime Farkas  \\\ndegree terms                                                                \n1      4                               0.003499                  0.000955   \n       8                               0.005905                  0.001737   \n       16                              0.011508                  0.003682   \n       32                              0.024939                  0.008320   \n       64                              0.052731                  0.017102   \n2      4                               0.003496                  0.000953   \n       8                               0.005927                  0.001714   \n       16                              0.011257                  0.003692   \n       32                              0.025493                  0.008343   \n       64                              0.054275                  0.016822   \n4      4                               0.003495                  0.000927   \n       8                               0.005692                  0.001722   \n       16                              0.010859                  0.003656   \n       32                              0.025446                  0.008329   \n       64                              0.052256                  0.017240   \n\n              instance  problem number  \ndegree terms                            \n1      4             1              20  \n       8             1              20  \n       16            1              20  \n       32            1              20  \n       64            1              15  \n2      4             1              20  \n       8             1              20  \n       16            1              20  \n       32            1              11  \n       64            1               5  \n4      4             1              30  \n       8             1              30  \n       16            1              30  \n       32            1              24  \n       64            1              16  ",
      "text/html": "<div>\n<style scoped>\n    .dataframe tbody tr th:only-of-type {\n        vertical-align: middle;\n    }\n\n    .dataframe tbody tr th {\n        vertical-align: top;\n    }\n\n    .dataframe thead th {\n        text-align: right;\n    }\n</style>\n<table border=\"1\" class=\"dataframe\">\n  <thead>\n    <tr style=\"text-align: right;\">\n      <th></th>\n      <th></th>\n      <th>terminationTime New Disjunction</th>\n      <th>terminationTime Old Disjunction</th>\n      <th>terminationTime Farkas</th>\n      <th>terminationTime None</th>\n      <th>vpcGenerationTime New Disjunction</th>\n      <th>vpcGenerationTime Old Disjunction</th>\n      <th>vpcGenerationTime Farkas</th>\n      <th>instance</th>\n      <th>problem number</th>\n    </tr>\n    <tr>\n      <th>degree</th>\n      <th>terms</th>\n      <th></th>\n      <th></th>\n      <th></th>\n      <th></th>\n      <th></th>\n      <th></th>\n      <th></th>\n      <th></th>\n      <th></th>\n    </tr>\n  </thead>\n  <tbody>\n    <tr>\n      <th rowspan=\"5\" valign=\"top\">1</th>\n      <th>4</th>\n      <td>0.082149</td>\n      <td>0.075293</td>\n      <td>0.074579</td>\n      <td>0.072781</td>\n      <td>0.007855</td>\n      <td>0.003499</td>\n      <td>0.000955</td>\n      <td>1</td>\n      <td>20</td>\n    </tr>\n    <tr>\n      <th>8</th>\n      <td>0.088896</td>\n      <td>0.082664</td>\n      <td>0.075433</td>\n      <td>0.073828</td>\n      <td>0.014594</td>\n      <td>0.005905</td>\n      <td>0.001737</td>\n      <td>1</td>\n      <td>20</td>\n    </tr>\n    <tr>\n      <th>16</th>\n      <td>0.118614</td>\n      <td>0.090929</td>\n      <td>0.081727</td>\n      <td>0.073419</td>\n      <td>0.031845</td>\n      <td>0.011508</td>\n      <td>0.003682</td>\n      <td>1</td>\n      <td>20</td>\n    </tr>\n    <tr>\n      <th>32</th>\n      <td>0.142742</td>\n      <td>0.099873</td>\n      <td>0.084515</td>\n      <td>0.072333</td>\n      <td>0.060969</td>\n      <td>0.024939</td>\n      <td>0.008320</td>\n      <td>1</td>\n      <td>20</td>\n    </tr>\n    <tr>\n      <th>64</th>\n      <td>0.236724</td>\n      <td>0.145734</td>\n      <td>0.105850</td>\n      <td>0.080187</td>\n      <td>0.135473</td>\n      <td>0.052731</td>\n      <td>0.017102</td>\n      <td>1</td>\n      <td>15</td>\n    </tr>\n    <tr>\n      <th rowspan=\"5\" valign=\"top\">2</th>\n      <th>4</th>\n      <td>0.081829</td>\n      <td>0.074570</td>\n      <td>0.074114</td>\n      <td>0.072896</td>\n      <td>0.007992</td>\n      <td>0.003496</td>\n      <td>0.000953</td>\n      <td>1</td>\n      <td>20</td>\n    </tr>\n    <tr>\n      <th>8</th>\n      <td>0.090376</td>\n      <td>0.083643</td>\n      <td>0.077157</td>\n      <td>0.072472</td>\n      <td>0.015194</td>\n      <td>0.005927</td>\n      <td>0.001714</td>\n      <td>1</td>\n      <td>20</td>\n    </tr>\n    <tr>\n      <th>16</th>\n      <td>0.109113</td>\n      <td>0.090833</td>\n      <td>0.081053</td>\n      <td>0.072974</td>\n      <td>0.030087</td>\n      <td>0.011257</td>\n      <td>0.003692</td>\n      <td>1</td>\n      <td>20</td>\n    </tr>\n    <tr>\n      <th>32</th>\n      <td>0.152466</td>\n      <td>0.106473</td>\n      <td>0.086641</td>\n      <td>0.076568</td>\n      <td>0.063180</td>\n      <td>0.025493</td>\n      <td>0.008343</td>\n      <td>1</td>\n      <td>11</td>\n    </tr>\n    <tr>\n      <th>64</th>\n      <td>0.245091</td>\n      <td>0.153824</td>\n      <td>0.101180</td>\n      <td>0.084765</td>\n      <td>0.141347</td>\n      <td>0.054275</td>\n      <td>0.016822</td>\n      <td>1</td>\n      <td>5</td>\n    </tr>\n    <tr>\n      <th rowspan=\"5\" valign=\"top\">4</th>\n      <th>4</th>\n      <td>0.077295</td>\n      <td>0.070546</td>\n      <td>0.069129</td>\n      <td>0.068587</td>\n      <td>0.008114</td>\n      <td>0.003495</td>\n      <td>0.000927</td>\n      <td>1</td>\n      <td>30</td>\n    </tr>\n    <tr>\n      <th>8</th>\n      <td>0.085147</td>\n      <td>0.076562</td>\n      <td>0.072576</td>\n      <td>0.068313</td>\n      <td>0.014615</td>\n      <td>0.005692</td>\n      <td>0.001722</td>\n      <td>1</td>\n      <td>30</td>\n    </tr>\n    <tr>\n      <th>16</th>\n      <td>0.107091</td>\n      <td>0.082199</td>\n      <td>0.074600</td>\n      <td>0.068519</td>\n      <td>0.031693</td>\n      <td>0.010859</td>\n      <td>0.003656</td>\n      <td>1</td>\n      <td>30</td>\n    </tr>\n    <tr>\n      <th>32</th>\n      <td>0.143661</td>\n      <td>0.101781</td>\n      <td>0.080990</td>\n      <td>0.074481</td>\n      <td>0.062364</td>\n      <td>0.025446</td>\n      <td>0.008329</td>\n      <td>1</td>\n      <td>24</td>\n    </tr>\n    <tr>\n      <th>64</th>\n      <td>0.228488</td>\n      <td>0.131550</td>\n      <td>0.094016</td>\n      <td>0.075102</td>\n      <td>0.134850</td>\n      <td>0.052256</td>\n      <td>0.017240</td>\n      <td>1</td>\n      <td>16</td>\n    </tr>\n  </tbody>\n</table>\n</div>"
     },
     "execution_count": 30,
     "metadata": {},
     "output_type": "execute_result"
    }
   ],
   "source": [
    "# additional filtering for dataframe on run time\n",
    "fields = [\"terminationTime New\", \"terminationTime Old\",\n",
    "          \"terminationTime Farkas\", \"terminationTime None\",\n",
    "          \"vpcGenerationTime New\", \"vpcGenerationTime Old\",\n",
    "          \"vpcGenerationTime Farkas\"]\n",
    "mask = mask & (optimality_gap(df, \"New\") < .001)\n",
    "time_df = df.loc[mask, group_cols + id_cols + fields]\n",
    "\n",
    "# define aggregating operations\n",
    "aggregations = {f: gmean for f in fields}\n",
    "aggregations[\"instance\"] = \"nunique\"\n",
    "aggregations[\"problem number\"] = \"count\"\n",
    "\n",
    "# get gap closed by degree and term\n",
    "time_df.groupby([\"degree\", \"terms\"]).agg(aggregations)"
   ],
   "metadata": {
    "collapsed": false,
    "ExecuteTime": {
     "end_time": "2023-10-25T20:39:35.891466Z",
     "start_time": "2023-10-25T20:39:35.888943Z"
    }
   },
   "id": "e31a4356a9030c02"
  },
  {
   "cell_type": "markdown",
   "source": [
    "# Make node table"
   ],
   "metadata": {
    "collapsed": false
   },
   "id": "ca4066696328ab17"
  },
  {
   "cell_type": "code",
   "execution_count": 31,
   "outputs": [
    {
     "data": {
      "text/plain": "              nodes New Disjunction  nodes Old Disjunction  nodes Farkas  \\\ndegree terms                                                               \n1      4                 123.943943             127.547147    126.784684   \n       8                 120.894207             128.003228    126.533493   \n       16                142.357123             139.870809    131.859392   \n       32                131.999898             129.274357    138.860756   \n       64                210.442692             224.446113    210.802292   \n2      4                 101.316528             100.035059    104.184061   \n       8                 102.845944             110.419438    104.892571   \n       16                103.248648             109.520236    111.334298   \n       32                152.399810             137.872512    141.574821   \n       64                188.089675             192.589719    144.362707   \n4      4                  98.318233              95.654156    105.645518   \n       8                 102.205233              99.923366    103.413042   \n       16                108.027910             104.414188    100.016728   \n       32                121.547950             126.924927    117.847462   \n       64                188.418781             166.935290    157.179545   \n\n              nodes None  instance  problem number  \ndegree terms                                        \n1      4      125.868236         1              20  \n       8      125.868236         1              20  \n       16     125.868236         1              20  \n       32     125.868236         1              20  \n       64     160.981302         1              15  \n2      4      100.094918         1              20  \n       8      100.094918         1              20  \n       16     100.094918         1              20  \n       32     127.852047         1              11  \n       64     141.919384         1               5  \n4      4      105.918433         1              30  \n       8      105.918433         1              30  \n       16     105.918433         1              30  \n       32     110.455700         1              24  \n       64     137.678718         1              16  ",
      "text/html": "<div>\n<style scoped>\n    .dataframe tbody tr th:only-of-type {\n        vertical-align: middle;\n    }\n\n    .dataframe tbody tr th {\n        vertical-align: top;\n    }\n\n    .dataframe thead th {\n        text-align: right;\n    }\n</style>\n<table border=\"1\" class=\"dataframe\">\n  <thead>\n    <tr style=\"text-align: right;\">\n      <th></th>\n      <th></th>\n      <th>nodes New Disjunction</th>\n      <th>nodes Old Disjunction</th>\n      <th>nodes Farkas</th>\n      <th>nodes None</th>\n      <th>instance</th>\n      <th>problem number</th>\n    </tr>\n    <tr>\n      <th>degree</th>\n      <th>terms</th>\n      <th></th>\n      <th></th>\n      <th></th>\n      <th></th>\n      <th></th>\n      <th></th>\n    </tr>\n  </thead>\n  <tbody>\n    <tr>\n      <th rowspan=\"5\" valign=\"top\">1</th>\n      <th>4</th>\n      <td>123.943943</td>\n      <td>127.547147</td>\n      <td>126.784684</td>\n      <td>125.868236</td>\n      <td>1</td>\n      <td>20</td>\n    </tr>\n    <tr>\n      <th>8</th>\n      <td>120.894207</td>\n      <td>128.003228</td>\n      <td>126.533493</td>\n      <td>125.868236</td>\n      <td>1</td>\n      <td>20</td>\n    </tr>\n    <tr>\n      <th>16</th>\n      <td>142.357123</td>\n      <td>139.870809</td>\n      <td>131.859392</td>\n      <td>125.868236</td>\n      <td>1</td>\n      <td>20</td>\n    </tr>\n    <tr>\n      <th>32</th>\n      <td>131.999898</td>\n      <td>129.274357</td>\n      <td>138.860756</td>\n      <td>125.868236</td>\n      <td>1</td>\n      <td>20</td>\n    </tr>\n    <tr>\n      <th>64</th>\n      <td>210.442692</td>\n      <td>224.446113</td>\n      <td>210.802292</td>\n      <td>160.981302</td>\n      <td>1</td>\n      <td>15</td>\n    </tr>\n    <tr>\n      <th rowspan=\"5\" valign=\"top\">2</th>\n      <th>4</th>\n      <td>101.316528</td>\n      <td>100.035059</td>\n      <td>104.184061</td>\n      <td>100.094918</td>\n      <td>1</td>\n      <td>20</td>\n    </tr>\n    <tr>\n      <th>8</th>\n      <td>102.845944</td>\n      <td>110.419438</td>\n      <td>104.892571</td>\n      <td>100.094918</td>\n      <td>1</td>\n      <td>20</td>\n    </tr>\n    <tr>\n      <th>16</th>\n      <td>103.248648</td>\n      <td>109.520236</td>\n      <td>111.334298</td>\n      <td>100.094918</td>\n      <td>1</td>\n      <td>20</td>\n    </tr>\n    <tr>\n      <th>32</th>\n      <td>152.399810</td>\n      <td>137.872512</td>\n      <td>141.574821</td>\n      <td>127.852047</td>\n      <td>1</td>\n      <td>11</td>\n    </tr>\n    <tr>\n      <th>64</th>\n      <td>188.089675</td>\n      <td>192.589719</td>\n      <td>144.362707</td>\n      <td>141.919384</td>\n      <td>1</td>\n      <td>5</td>\n    </tr>\n    <tr>\n      <th rowspan=\"5\" valign=\"top\">4</th>\n      <th>4</th>\n      <td>98.318233</td>\n      <td>95.654156</td>\n      <td>105.645518</td>\n      <td>105.918433</td>\n      <td>1</td>\n      <td>30</td>\n    </tr>\n    <tr>\n      <th>8</th>\n      <td>102.205233</td>\n      <td>99.923366</td>\n      <td>103.413042</td>\n      <td>105.918433</td>\n      <td>1</td>\n      <td>30</td>\n    </tr>\n    <tr>\n      <th>16</th>\n      <td>108.027910</td>\n      <td>104.414188</td>\n      <td>100.016728</td>\n      <td>105.918433</td>\n      <td>1</td>\n      <td>30</td>\n    </tr>\n    <tr>\n      <th>32</th>\n      <td>121.547950</td>\n      <td>126.924927</td>\n      <td>117.847462</td>\n      <td>110.455700</td>\n      <td>1</td>\n      <td>24</td>\n    </tr>\n    <tr>\n      <th>64</th>\n      <td>188.418781</td>\n      <td>166.935290</td>\n      <td>157.179545</td>\n      <td>137.678718</td>\n      <td>1</td>\n      <td>16</td>\n    </tr>\n  </tbody>\n</table>\n</div>"
     },
     "execution_count": 31,
     "metadata": {},
     "output_type": "execute_result"
    }
   ],
   "source": [
    "# additional filtering for dataframe on nodes processed\n",
    "fields = [\"nodes New\", \"nodes Old\", \"nodes Farkas\",\n",
    "          \"nodes None\"]\n",
    "node_df = df.loc[mask, group_cols + id_cols + fields]\n",
    "\n",
    "# define aggregating operations\n",
    "aggregations = {f: gmean for f in fields}\n",
    "aggregations[\"instance\"] = \"nunique\"\n",
    "aggregations[\"problem number\"] = \"count\"\n",
    "\n",
    "# get gap closed by degree and term\n",
    "node_df.groupby([\"degree\", \"terms\"]).agg(aggregations)"
   ],
   "metadata": {
    "collapsed": false,
    "ExecuteTime": {
     "end_time": "2023-10-25T20:39:45.161234Z",
     "start_time": "2023-10-25T20:39:45.139823Z"
    }
   },
   "id": "ffea8b089e3f3841"
  },
  {
   "cell_type": "markdown",
   "source": [
    "# Make iteration table"
   ],
   "metadata": {
    "collapsed": false
   },
   "id": "2765b909ec431cfa"
  },
  {
   "cell_type": "code",
   "execution_count": 32,
   "outputs": [
    {
     "data": {
      "text/plain": "              iterations New Disjunction  iterations Old Disjunction  \\\ndegree terms                                                           \n1      4                     1798.188090                 1814.059314   \n       8                     1783.224731                 1850.475198   \n       16                    1979.231271                 1978.413887   \n       32                    2021.916829                 1996.589398   \n       64                    2633.624864                 2694.937924   \n2      4                     1662.525326                 1655.002251   \n       8                     1689.313196                 1742.663946   \n       16                    1787.585002                 1815.426753   \n       32                    2130.767721                 2114.773958   \n       64                    2402.793442                 2530.688121   \n4      4                     1614.753744                 1610.867764   \n       8                     1642.588197                 1632.075113   \n       16                    1742.200952                 1722.992129   \n       32                    1835.878601                 1898.956858   \n       64                    2404.923798                 2249.397305   \n\n              iterations Farkas  iterations None  instance  problem number  \ndegree terms                                                                \n1      4            1781.239575      1780.572140         1              20  \n       8            1814.508533      1780.572140         1              20  \n       16           1893.659317      1780.572140         1              20  \n       32           2092.171422      1780.572140         1              20  \n       64           2611.891972      1998.332159         1              15  \n2      4            1678.598486      1645.028391         1              20  \n       8            1688.397645      1645.028391         1              20  \n       16           1786.328898      1645.028391         1              20  \n       32           1944.333956      1842.540009         1              11  \n       64           1979.392333      1903.189518         1               5  \n4      4            1651.110426      1625.089754         1              30  \n       8            1633.815546      1625.089754         1              30  \n       16           1648.201424      1625.089754         1              30  \n       32           1817.146783      1632.957580         1              24  \n       64           2078.586444      1817.052427         1              16  ",
      "text/html": "<div>\n<style scoped>\n    .dataframe tbody tr th:only-of-type {\n        vertical-align: middle;\n    }\n\n    .dataframe tbody tr th {\n        vertical-align: top;\n    }\n\n    .dataframe thead th {\n        text-align: right;\n    }\n</style>\n<table border=\"1\" class=\"dataframe\">\n  <thead>\n    <tr style=\"text-align: right;\">\n      <th></th>\n      <th></th>\n      <th>iterations New Disjunction</th>\n      <th>iterations Old Disjunction</th>\n      <th>iterations Farkas</th>\n      <th>iterations None</th>\n      <th>instance</th>\n      <th>problem number</th>\n    </tr>\n    <tr>\n      <th>degree</th>\n      <th>terms</th>\n      <th></th>\n      <th></th>\n      <th></th>\n      <th></th>\n      <th></th>\n      <th></th>\n    </tr>\n  </thead>\n  <tbody>\n    <tr>\n      <th rowspan=\"5\" valign=\"top\">1</th>\n      <th>4</th>\n      <td>1798.188090</td>\n      <td>1814.059314</td>\n      <td>1781.239575</td>\n      <td>1780.572140</td>\n      <td>1</td>\n      <td>20</td>\n    </tr>\n    <tr>\n      <th>8</th>\n      <td>1783.224731</td>\n      <td>1850.475198</td>\n      <td>1814.508533</td>\n      <td>1780.572140</td>\n      <td>1</td>\n      <td>20</td>\n    </tr>\n    <tr>\n      <th>16</th>\n      <td>1979.231271</td>\n      <td>1978.413887</td>\n      <td>1893.659317</td>\n      <td>1780.572140</td>\n      <td>1</td>\n      <td>20</td>\n    </tr>\n    <tr>\n      <th>32</th>\n      <td>2021.916829</td>\n      <td>1996.589398</td>\n      <td>2092.171422</td>\n      <td>1780.572140</td>\n      <td>1</td>\n      <td>20</td>\n    </tr>\n    <tr>\n      <th>64</th>\n      <td>2633.624864</td>\n      <td>2694.937924</td>\n      <td>2611.891972</td>\n      <td>1998.332159</td>\n      <td>1</td>\n      <td>15</td>\n    </tr>\n    <tr>\n      <th rowspan=\"5\" valign=\"top\">2</th>\n      <th>4</th>\n      <td>1662.525326</td>\n      <td>1655.002251</td>\n      <td>1678.598486</td>\n      <td>1645.028391</td>\n      <td>1</td>\n      <td>20</td>\n    </tr>\n    <tr>\n      <th>8</th>\n      <td>1689.313196</td>\n      <td>1742.663946</td>\n      <td>1688.397645</td>\n      <td>1645.028391</td>\n      <td>1</td>\n      <td>20</td>\n    </tr>\n    <tr>\n      <th>16</th>\n      <td>1787.585002</td>\n      <td>1815.426753</td>\n      <td>1786.328898</td>\n      <td>1645.028391</td>\n      <td>1</td>\n      <td>20</td>\n    </tr>\n    <tr>\n      <th>32</th>\n      <td>2130.767721</td>\n      <td>2114.773958</td>\n      <td>1944.333956</td>\n      <td>1842.540009</td>\n      <td>1</td>\n      <td>11</td>\n    </tr>\n    <tr>\n      <th>64</th>\n      <td>2402.793442</td>\n      <td>2530.688121</td>\n      <td>1979.392333</td>\n      <td>1903.189518</td>\n      <td>1</td>\n      <td>5</td>\n    </tr>\n    <tr>\n      <th rowspan=\"5\" valign=\"top\">4</th>\n      <th>4</th>\n      <td>1614.753744</td>\n      <td>1610.867764</td>\n      <td>1651.110426</td>\n      <td>1625.089754</td>\n      <td>1</td>\n      <td>30</td>\n    </tr>\n    <tr>\n      <th>8</th>\n      <td>1642.588197</td>\n      <td>1632.075113</td>\n      <td>1633.815546</td>\n      <td>1625.089754</td>\n      <td>1</td>\n      <td>30</td>\n    </tr>\n    <tr>\n      <th>16</th>\n      <td>1742.200952</td>\n      <td>1722.992129</td>\n      <td>1648.201424</td>\n      <td>1625.089754</td>\n      <td>1</td>\n      <td>30</td>\n    </tr>\n    <tr>\n      <th>32</th>\n      <td>1835.878601</td>\n      <td>1898.956858</td>\n      <td>1817.146783</td>\n      <td>1632.957580</td>\n      <td>1</td>\n      <td>24</td>\n    </tr>\n    <tr>\n      <th>64</th>\n      <td>2404.923798</td>\n      <td>2249.397305</td>\n      <td>2078.586444</td>\n      <td>1817.052427</td>\n      <td>1</td>\n      <td>16</td>\n    </tr>\n  </tbody>\n</table>\n</div>"
     },
     "execution_count": 32,
     "metadata": {},
     "output_type": "execute_result"
    }
   ],
   "source": [
    "# additional filtering for dataframe on nodes processed\n",
    "fields = [\"iterations New\", \"iterations Old\",\n",
    "          \"iterations Farkas\", \"iterations None\"]\n",
    "node_df = df.loc[mask, group_cols + id_cols + fields]\n",
    "\n",
    "# define aggregating operations\n",
    "aggregations = {f: gmean for f in fields}\n",
    "aggregations[\"instance\"] = \"nunique\"\n",
    "aggregations[\"problem number\"] = \"count\"\n",
    "\n",
    "# get gap closed by degree and term\n",
    "node_df.groupby([\"degree\", \"terms\"]).agg(aggregations)"
   ],
   "metadata": {
    "collapsed": false,
    "ExecuteTime": {
     "end_time": "2023-10-25T20:39:48.354845Z",
     "start_time": "2023-10-25T20:39:48.335922Z"
    }
   },
   "id": "6f4bbb68703367ae"
  },
  {
   "cell_type": "code",
   "execution_count": null,
   "outputs": [],
   "source": [],
   "metadata": {
    "collapsed": false
   },
   "id": "d6f0efb6c67553c7"
  }
 ],
 "metadata": {
  "kernelspec": {
   "display_name": "Python 3",
   "language": "python",
   "name": "python3"
  },
  "language_info": {
   "codemirror_mode": {
    "name": "ipython",
    "version": 2
   },
   "file_extension": ".py",
   "mimetype": "text/x-python",
   "name": "python",
   "nbconvert_exporter": "python",
   "pygments_lexer": "ipython2",
   "version": "2.7.6"
  }
 },
 "nbformat": 4,
 "nbformat_minor": 5
}
